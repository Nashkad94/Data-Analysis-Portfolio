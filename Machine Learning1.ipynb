{
 "cells": [
  {
   "cell_type": "markdown",
   "metadata": {},
   "source": [
    "As an analyst for Model Fitness this is a step towards developing a customer interaction survey. The goal is to identify what type of customers are more prone to churning. The data provided contains churn data for the current and preceding month as well as a customer's account information. Through machine learning we will be able to identify the type of customers that stay and those who are more likely to churn."
   ]
  },
  {
   "cell_type": "code",
   "execution_count": 1,
   "metadata": {},
   "outputs": [],
   "source": [
    "#importing libraries\n",
    "import pandas as pd\n",
    "import numpy as np\n",
    "from sklearn.preprocessing import StandardScaler\n",
    "from sklearn.model_selection import train_test_split\n",
    "from sklearn.cluster import KMeans\n",
    "from sklearn.ensemble import RandomForestClassifier\n",
    "from sklearn.linear_model import LogisticRegression\n",
    "from sklearn.metrics import accuracy_score, precision_score, recall_score\n",
    "from scipy.cluster.hierarchy import dendrogram, linkage\n",
    "import matplotlib.pyplot as plt\n",
    "import seaborn as sns\n"
   ]
  },
  {
   "cell_type": "markdown",
   "metadata": {},
   "source": [
    "# Data Preprocessing"
   ]
  },
  {
   "cell_type": "markdown",
   "metadata": {},
   "source": [
    "The first step is to check the quality of the data to verify if it has any missing values or categorical values. Investing the mean values as well will allow me to understand the data better and make some initial insights. \n"
   ]
  },
  {
   "cell_type": "code",
   "execution_count": 2,
   "metadata": {},
   "outputs": [],
   "source": [
    "gym_df= pd.read_csv('gym_churn_us.csv')"
   ]
  },
  {
   "cell_type": "code",
   "execution_count": 3,
   "metadata": {},
   "outputs": [
    {
     "name": "stdout",
     "output_type": "stream",
     "text": [
      "<class 'pandas.core.frame.DataFrame'>\n",
      "RangeIndex: 4000 entries, 0 to 3999\n",
      "Data columns (total 14 columns):\n",
      " #   Column                             Non-Null Count  Dtype  \n",
      "---  ------                             --------------  -----  \n",
      " 0   gender                             4000 non-null   int64  \n",
      " 1   Near_Location                      4000 non-null   int64  \n",
      " 2   Partner                            4000 non-null   int64  \n",
      " 3   Promo_friends                      4000 non-null   int64  \n",
      " 4   Phone                              4000 non-null   int64  \n",
      " 5   Contract_period                    4000 non-null   int64  \n",
      " 6   Group_visits                       4000 non-null   int64  \n",
      " 7   Age                                4000 non-null   int64  \n",
      " 8   Avg_additional_charges_total       4000 non-null   float64\n",
      " 9   Month_to_end_contract              4000 non-null   float64\n",
      " 10  Lifetime                           4000 non-null   int64  \n",
      " 11  Avg_class_frequency_total          4000 non-null   float64\n",
      " 12  Avg_class_frequency_current_month  4000 non-null   float64\n",
      " 13  Churn                              4000 non-null   int64  \n",
      "dtypes: float64(4), int64(10)\n",
      "memory usage: 437.6 KB\n"
     ]
    }
   ],
   "source": [
    "gym_df.info()"
   ]
  },
  {
   "cell_type": "code",
   "execution_count": 4,
   "metadata": {},
   "outputs": [
    {
     "data": {
      "text/html": [
       "<div>\n",
       "<style scoped>\n",
       "    .dataframe tbody tr th:only-of-type {\n",
       "        vertical-align: middle;\n",
       "    }\n",
       "\n",
       "    .dataframe tbody tr th {\n",
       "        vertical-align: top;\n",
       "    }\n",
       "\n",
       "    .dataframe thead th {\n",
       "        text-align: right;\n",
       "    }\n",
       "</style>\n",
       "<table border=\"1\" class=\"dataframe\">\n",
       "  <thead>\n",
       "    <tr style=\"text-align: right;\">\n",
       "      <th></th>\n",
       "      <th>gender</th>\n",
       "      <th>Near_Location</th>\n",
       "      <th>Partner</th>\n",
       "      <th>Promo_friends</th>\n",
       "      <th>Phone</th>\n",
       "      <th>Contract_period</th>\n",
       "      <th>Group_visits</th>\n",
       "      <th>Age</th>\n",
       "      <th>Avg_additional_charges_total</th>\n",
       "      <th>Month_to_end_contract</th>\n",
       "      <th>Lifetime</th>\n",
       "      <th>Avg_class_frequency_total</th>\n",
       "      <th>Avg_class_frequency_current_month</th>\n",
       "      <th>Churn</th>\n",
       "    </tr>\n",
       "  </thead>\n",
       "  <tbody>\n",
       "    <tr>\n",
       "      <th>count</th>\n",
       "      <td>4000.000000</td>\n",
       "      <td>4000.000000</td>\n",
       "      <td>4000.000000</td>\n",
       "      <td>4000.000000</td>\n",
       "      <td>4000.000000</td>\n",
       "      <td>4000.000000</td>\n",
       "      <td>4000.000000</td>\n",
       "      <td>4000.000000</td>\n",
       "      <td>4000.000000</td>\n",
       "      <td>4000.000000</td>\n",
       "      <td>4000.000000</td>\n",
       "      <td>4000.000000</td>\n",
       "      <td>4000.000000</td>\n",
       "      <td>4000.000000</td>\n",
       "    </tr>\n",
       "    <tr>\n",
       "      <th>mean</th>\n",
       "      <td>0.510250</td>\n",
       "      <td>0.845250</td>\n",
       "      <td>0.486750</td>\n",
       "      <td>0.308500</td>\n",
       "      <td>0.903500</td>\n",
       "      <td>4.681250</td>\n",
       "      <td>0.412250</td>\n",
       "      <td>29.184250</td>\n",
       "      <td>146.943728</td>\n",
       "      <td>4.322750</td>\n",
       "      <td>3.724750</td>\n",
       "      <td>1.879020</td>\n",
       "      <td>1.767052</td>\n",
       "      <td>0.265250</td>\n",
       "    </tr>\n",
       "    <tr>\n",
       "      <th>std</th>\n",
       "      <td>0.499957</td>\n",
       "      <td>0.361711</td>\n",
       "      <td>0.499887</td>\n",
       "      <td>0.461932</td>\n",
       "      <td>0.295313</td>\n",
       "      <td>4.549706</td>\n",
       "      <td>0.492301</td>\n",
       "      <td>3.258367</td>\n",
       "      <td>96.355602</td>\n",
       "      <td>4.191297</td>\n",
       "      <td>3.749267</td>\n",
       "      <td>0.972245</td>\n",
       "      <td>1.052906</td>\n",
       "      <td>0.441521</td>\n",
       "    </tr>\n",
       "    <tr>\n",
       "      <th>min</th>\n",
       "      <td>0.000000</td>\n",
       "      <td>0.000000</td>\n",
       "      <td>0.000000</td>\n",
       "      <td>0.000000</td>\n",
       "      <td>0.000000</td>\n",
       "      <td>1.000000</td>\n",
       "      <td>0.000000</td>\n",
       "      <td>18.000000</td>\n",
       "      <td>0.148205</td>\n",
       "      <td>1.000000</td>\n",
       "      <td>0.000000</td>\n",
       "      <td>0.000000</td>\n",
       "      <td>0.000000</td>\n",
       "      <td>0.000000</td>\n",
       "    </tr>\n",
       "    <tr>\n",
       "      <th>25%</th>\n",
       "      <td>0.000000</td>\n",
       "      <td>1.000000</td>\n",
       "      <td>0.000000</td>\n",
       "      <td>0.000000</td>\n",
       "      <td>1.000000</td>\n",
       "      <td>1.000000</td>\n",
       "      <td>0.000000</td>\n",
       "      <td>27.000000</td>\n",
       "      <td>68.868830</td>\n",
       "      <td>1.000000</td>\n",
       "      <td>1.000000</td>\n",
       "      <td>1.180875</td>\n",
       "      <td>0.963003</td>\n",
       "      <td>0.000000</td>\n",
       "    </tr>\n",
       "    <tr>\n",
       "      <th>50%</th>\n",
       "      <td>1.000000</td>\n",
       "      <td>1.000000</td>\n",
       "      <td>0.000000</td>\n",
       "      <td>0.000000</td>\n",
       "      <td>1.000000</td>\n",
       "      <td>1.000000</td>\n",
       "      <td>0.000000</td>\n",
       "      <td>29.000000</td>\n",
       "      <td>136.220159</td>\n",
       "      <td>1.000000</td>\n",
       "      <td>3.000000</td>\n",
       "      <td>1.832768</td>\n",
       "      <td>1.719574</td>\n",
       "      <td>0.000000</td>\n",
       "    </tr>\n",
       "    <tr>\n",
       "      <th>75%</th>\n",
       "      <td>1.000000</td>\n",
       "      <td>1.000000</td>\n",
       "      <td>1.000000</td>\n",
       "      <td>1.000000</td>\n",
       "      <td>1.000000</td>\n",
       "      <td>6.000000</td>\n",
       "      <td>1.000000</td>\n",
       "      <td>31.000000</td>\n",
       "      <td>210.949625</td>\n",
       "      <td>6.000000</td>\n",
       "      <td>5.000000</td>\n",
       "      <td>2.536078</td>\n",
       "      <td>2.510336</td>\n",
       "      <td>1.000000</td>\n",
       "    </tr>\n",
       "    <tr>\n",
       "      <th>max</th>\n",
       "      <td>1.000000</td>\n",
       "      <td>1.000000</td>\n",
       "      <td>1.000000</td>\n",
       "      <td>1.000000</td>\n",
       "      <td>1.000000</td>\n",
       "      <td>12.000000</td>\n",
       "      <td>1.000000</td>\n",
       "      <td>41.000000</td>\n",
       "      <td>552.590740</td>\n",
       "      <td>12.000000</td>\n",
       "      <td>31.000000</td>\n",
       "      <td>6.023668</td>\n",
       "      <td>6.146783</td>\n",
       "      <td>1.000000</td>\n",
       "    </tr>\n",
       "  </tbody>\n",
       "</table>\n",
       "</div>"
      ],
      "text/plain": [
       "            gender  Near_Location      Partner  Promo_friends        Phone  \\\n",
       "count  4000.000000    4000.000000  4000.000000    4000.000000  4000.000000   \n",
       "mean      0.510250       0.845250     0.486750       0.308500     0.903500   \n",
       "std       0.499957       0.361711     0.499887       0.461932     0.295313   \n",
       "min       0.000000       0.000000     0.000000       0.000000     0.000000   \n",
       "25%       0.000000       1.000000     0.000000       0.000000     1.000000   \n",
       "50%       1.000000       1.000000     0.000000       0.000000     1.000000   \n",
       "75%       1.000000       1.000000     1.000000       1.000000     1.000000   \n",
       "max       1.000000       1.000000     1.000000       1.000000     1.000000   \n",
       "\n",
       "       Contract_period  Group_visits          Age  \\\n",
       "count      4000.000000   4000.000000  4000.000000   \n",
       "mean          4.681250      0.412250    29.184250   \n",
       "std           4.549706      0.492301     3.258367   \n",
       "min           1.000000      0.000000    18.000000   \n",
       "25%           1.000000      0.000000    27.000000   \n",
       "50%           1.000000      0.000000    29.000000   \n",
       "75%           6.000000      1.000000    31.000000   \n",
       "max          12.000000      1.000000    41.000000   \n",
       "\n",
       "       Avg_additional_charges_total  Month_to_end_contract     Lifetime  \\\n",
       "count                   4000.000000            4000.000000  4000.000000   \n",
       "mean                     146.943728               4.322750     3.724750   \n",
       "std                       96.355602               4.191297     3.749267   \n",
       "min                        0.148205               1.000000     0.000000   \n",
       "25%                       68.868830               1.000000     1.000000   \n",
       "50%                      136.220159               1.000000     3.000000   \n",
       "75%                      210.949625               6.000000     5.000000   \n",
       "max                      552.590740              12.000000    31.000000   \n",
       "\n",
       "       Avg_class_frequency_total  Avg_class_frequency_current_month  \\\n",
       "count                4000.000000                        4000.000000   \n",
       "mean                    1.879020                           1.767052   \n",
       "std                     0.972245                           1.052906   \n",
       "min                     0.000000                           0.000000   \n",
       "25%                     1.180875                           0.963003   \n",
       "50%                     1.832768                           1.719574   \n",
       "75%                     2.536078                           2.510336   \n",
       "max                     6.023668                           6.146783   \n",
       "\n",
       "             Churn  \n",
       "count  4000.000000  \n",
       "mean      0.265250  \n",
       "std       0.441521  \n",
       "min       0.000000  \n",
       "25%       0.000000  \n",
       "50%       0.000000  \n",
       "75%       1.000000  \n",
       "max       1.000000  "
      ]
     },
     "execution_count": 4,
     "metadata": {},
     "output_type": "execute_result"
    }
   ],
   "source": [
    "gym_df.describe()"
   ]
  },
  {
   "cell_type": "code",
   "execution_count": 5,
   "metadata": {},
   "outputs": [
    {
     "data": {
      "text/html": [
       "<div>\n",
       "<style scoped>\n",
       "    .dataframe tbody tr th:only-of-type {\n",
       "        vertical-align: middle;\n",
       "    }\n",
       "\n",
       "    .dataframe tbody tr th {\n",
       "        vertical-align: top;\n",
       "    }\n",
       "\n",
       "    .dataframe thead th {\n",
       "        text-align: right;\n",
       "    }\n",
       "</style>\n",
       "<table border=\"1\" class=\"dataframe\">\n",
       "  <thead>\n",
       "    <tr style=\"text-align: right;\">\n",
       "      <th></th>\n",
       "      <th>gender</th>\n",
       "      <th>Near_Location</th>\n",
       "      <th>Partner</th>\n",
       "      <th>Promo_friends</th>\n",
       "      <th>Phone</th>\n",
       "      <th>Contract_period</th>\n",
       "      <th>Group_visits</th>\n",
       "      <th>Age</th>\n",
       "      <th>Avg_additional_charges_total</th>\n",
       "      <th>Month_to_end_contract</th>\n",
       "      <th>Lifetime</th>\n",
       "      <th>Avg_class_frequency_total</th>\n",
       "      <th>Avg_class_frequency_current_month</th>\n",
       "      <th>Churn</th>\n",
       "    </tr>\n",
       "  </thead>\n",
       "  <tbody>\n",
       "    <tr>\n",
       "      <th>0</th>\n",
       "      <td>1</td>\n",
       "      <td>1</td>\n",
       "      <td>1</td>\n",
       "      <td>1</td>\n",
       "      <td>0</td>\n",
       "      <td>6</td>\n",
       "      <td>1</td>\n",
       "      <td>29</td>\n",
       "      <td>14.227470</td>\n",
       "      <td>5.0</td>\n",
       "      <td>3</td>\n",
       "      <td>0.020398</td>\n",
       "      <td>0.000000</td>\n",
       "      <td>0</td>\n",
       "    </tr>\n",
       "    <tr>\n",
       "      <th>1</th>\n",
       "      <td>0</td>\n",
       "      <td>1</td>\n",
       "      <td>0</td>\n",
       "      <td>0</td>\n",
       "      <td>1</td>\n",
       "      <td>12</td>\n",
       "      <td>1</td>\n",
       "      <td>31</td>\n",
       "      <td>113.202938</td>\n",
       "      <td>12.0</td>\n",
       "      <td>7</td>\n",
       "      <td>1.922936</td>\n",
       "      <td>1.910244</td>\n",
       "      <td>0</td>\n",
       "    </tr>\n",
       "    <tr>\n",
       "      <th>2</th>\n",
       "      <td>0</td>\n",
       "      <td>1</td>\n",
       "      <td>1</td>\n",
       "      <td>0</td>\n",
       "      <td>1</td>\n",
       "      <td>1</td>\n",
       "      <td>0</td>\n",
       "      <td>28</td>\n",
       "      <td>129.448479</td>\n",
       "      <td>1.0</td>\n",
       "      <td>2</td>\n",
       "      <td>1.859098</td>\n",
       "      <td>1.736502</td>\n",
       "      <td>0</td>\n",
       "    </tr>\n",
       "    <tr>\n",
       "      <th>3</th>\n",
       "      <td>0</td>\n",
       "      <td>1</td>\n",
       "      <td>1</td>\n",
       "      <td>1</td>\n",
       "      <td>1</td>\n",
       "      <td>12</td>\n",
       "      <td>1</td>\n",
       "      <td>33</td>\n",
       "      <td>62.669863</td>\n",
       "      <td>12.0</td>\n",
       "      <td>2</td>\n",
       "      <td>3.205633</td>\n",
       "      <td>3.357215</td>\n",
       "      <td>0</td>\n",
       "    </tr>\n",
       "    <tr>\n",
       "      <th>4</th>\n",
       "      <td>1</td>\n",
       "      <td>1</td>\n",
       "      <td>1</td>\n",
       "      <td>1</td>\n",
       "      <td>1</td>\n",
       "      <td>1</td>\n",
       "      <td>0</td>\n",
       "      <td>26</td>\n",
       "      <td>198.362265</td>\n",
       "      <td>1.0</td>\n",
       "      <td>3</td>\n",
       "      <td>1.113884</td>\n",
       "      <td>1.120078</td>\n",
       "      <td>0</td>\n",
       "    </tr>\n",
       "  </tbody>\n",
       "</table>\n",
       "</div>"
      ],
      "text/plain": [
       "   gender  Near_Location  Partner  Promo_friends  Phone  Contract_period  \\\n",
       "0       1              1        1              1      0                6   \n",
       "1       0              1        0              0      1               12   \n",
       "2       0              1        1              0      1                1   \n",
       "3       0              1        1              1      1               12   \n",
       "4       1              1        1              1      1                1   \n",
       "\n",
       "   Group_visits  Age  Avg_additional_charges_total  Month_to_end_contract  \\\n",
       "0             1   29                     14.227470                    5.0   \n",
       "1             1   31                    113.202938                   12.0   \n",
       "2             0   28                    129.448479                    1.0   \n",
       "3             1   33                     62.669863                   12.0   \n",
       "4             0   26                    198.362265                    1.0   \n",
       "\n",
       "   Lifetime  Avg_class_frequency_total  Avg_class_frequency_current_month  \\\n",
       "0         3                   0.020398                           0.000000   \n",
       "1         7                   1.922936                           1.910244   \n",
       "2         2                   1.859098                           1.736502   \n",
       "3         2                   3.205633                           3.357215   \n",
       "4         3                   1.113884                           1.120078   \n",
       "\n",
       "   Churn  \n",
       "0      0  \n",
       "1      0  \n",
       "2      0  \n",
       "3      0  \n",
       "4      0  "
      ]
     },
     "execution_count": 5,
     "metadata": {},
     "output_type": "execute_result"
    }
   ],
   "source": [
    "gym_df.head()"
   ]
  },
  {
   "cell_type": "markdown",
   "metadata": {},
   "source": [
    "I have there are no missing values and  no categorical data types. The mean values suggest that there is an even split between men and women. With a mean value of 0.84 and a standard deviation of .36 it also seems that most of the customers live near the gym's location. A small mean value of 0.31 suggests that most of the clients did not start their membership as part of the 'Bring a friend' promotion. The average customer age is 29 and has 4 months left on their contract. \n"
   ]
  },
  {
   "cell_type": "markdown",
   "metadata": {},
   "source": [
    "# Initial Data Analysis"
   ]
  },
  {
   "cell_type": "markdown",
   "metadata": {},
   "source": [
    "My next step is to split the data into two groups, those who churned and those who did not and study the mean values for each group.\n"
   ]
  },
  {
   "cell_type": "code",
   "execution_count": 6,
   "metadata": {},
   "outputs": [
    {
     "data": {
      "text/html": [
       "<div>\n",
       "<style scoped>\n",
       "    .dataframe tbody tr th:only-of-type {\n",
       "        vertical-align: middle;\n",
       "    }\n",
       "\n",
       "    .dataframe tbody tr th {\n",
       "        vertical-align: top;\n",
       "    }\n",
       "\n",
       "    .dataframe thead th {\n",
       "        text-align: right;\n",
       "    }\n",
       "</style>\n",
       "<table border=\"1\" class=\"dataframe\">\n",
       "  <thead>\n",
       "    <tr style=\"text-align: right;\">\n",
       "      <th></th>\n",
       "      <th>gender</th>\n",
       "      <th>Near_Location</th>\n",
       "      <th>Partner</th>\n",
       "      <th>Promo_friends</th>\n",
       "      <th>Phone</th>\n",
       "      <th>Contract_period</th>\n",
       "      <th>Group_visits</th>\n",
       "      <th>Age</th>\n",
       "      <th>Avg_additional_charges_total</th>\n",
       "      <th>Month_to_end_contract</th>\n",
       "      <th>Lifetime</th>\n",
       "      <th>Avg_class_frequency_total</th>\n",
       "      <th>Avg_class_frequency_current_month</th>\n",
       "      <th>Churn</th>\n",
       "    </tr>\n",
       "  </thead>\n",
       "  <tbody>\n",
       "    <tr>\n",
       "      <th>0</th>\n",
       "      <td>1</td>\n",
       "      <td>1</td>\n",
       "      <td>1</td>\n",
       "      <td>1</td>\n",
       "      <td>0</td>\n",
       "      <td>6</td>\n",
       "      <td>1</td>\n",
       "      <td>29</td>\n",
       "      <td>14.227470</td>\n",
       "      <td>5.0</td>\n",
       "      <td>3</td>\n",
       "      <td>0.020398</td>\n",
       "      <td>0.000000</td>\n",
       "      <td>0</td>\n",
       "    </tr>\n",
       "    <tr>\n",
       "      <th>1</th>\n",
       "      <td>0</td>\n",
       "      <td>1</td>\n",
       "      <td>0</td>\n",
       "      <td>0</td>\n",
       "      <td>1</td>\n",
       "      <td>12</td>\n",
       "      <td>1</td>\n",
       "      <td>31</td>\n",
       "      <td>113.202938</td>\n",
       "      <td>12.0</td>\n",
       "      <td>7</td>\n",
       "      <td>1.922936</td>\n",
       "      <td>1.910244</td>\n",
       "      <td>0</td>\n",
       "    </tr>\n",
       "    <tr>\n",
       "      <th>2</th>\n",
       "      <td>0</td>\n",
       "      <td>1</td>\n",
       "      <td>1</td>\n",
       "      <td>0</td>\n",
       "      <td>1</td>\n",
       "      <td>1</td>\n",
       "      <td>0</td>\n",
       "      <td>28</td>\n",
       "      <td>129.448479</td>\n",
       "      <td>1.0</td>\n",
       "      <td>2</td>\n",
       "      <td>1.859098</td>\n",
       "      <td>1.736502</td>\n",
       "      <td>0</td>\n",
       "    </tr>\n",
       "    <tr>\n",
       "      <th>3</th>\n",
       "      <td>0</td>\n",
       "      <td>1</td>\n",
       "      <td>1</td>\n",
       "      <td>1</td>\n",
       "      <td>1</td>\n",
       "      <td>12</td>\n",
       "      <td>1</td>\n",
       "      <td>33</td>\n",
       "      <td>62.669863</td>\n",
       "      <td>12.0</td>\n",
       "      <td>2</td>\n",
       "      <td>3.205633</td>\n",
       "      <td>3.357215</td>\n",
       "      <td>0</td>\n",
       "    </tr>\n",
       "    <tr>\n",
       "      <th>4</th>\n",
       "      <td>1</td>\n",
       "      <td>1</td>\n",
       "      <td>1</td>\n",
       "      <td>1</td>\n",
       "      <td>1</td>\n",
       "      <td>1</td>\n",
       "      <td>0</td>\n",
       "      <td>26</td>\n",
       "      <td>198.362265</td>\n",
       "      <td>1.0</td>\n",
       "      <td>3</td>\n",
       "      <td>1.113884</td>\n",
       "      <td>1.120078</td>\n",
       "      <td>0</td>\n",
       "    </tr>\n",
       "    <tr>\n",
       "      <th>7</th>\n",
       "      <td>0</td>\n",
       "      <td>1</td>\n",
       "      <td>0</td>\n",
       "      <td>0</td>\n",
       "      <td>1</td>\n",
       "      <td>1</td>\n",
       "      <td>0</td>\n",
       "      <td>30</td>\n",
       "      <td>217.786641</td>\n",
       "      <td>1.0</td>\n",
       "      <td>0</td>\n",
       "      <td>1.213502</td>\n",
       "      <td>1.049387</td>\n",
       "      <td>1</td>\n",
       "    </tr>\n",
       "    <tr>\n",
       "      <th>11</th>\n",
       "      <td>1</td>\n",
       "      <td>1</td>\n",
       "      <td>1</td>\n",
       "      <td>0</td>\n",
       "      <td>1</td>\n",
       "      <td>1</td>\n",
       "      <td>0</td>\n",
       "      <td>27</td>\n",
       "      <td>266.783824</td>\n",
       "      <td>1.0</td>\n",
       "      <td>2</td>\n",
       "      <td>2.348535</td>\n",
       "      <td>1.584316</td>\n",
       "      <td>1</td>\n",
       "    </tr>\n",
       "    <tr>\n",
       "      <th>13</th>\n",
       "      <td>1</td>\n",
       "      <td>1</td>\n",
       "      <td>0</td>\n",
       "      <td>0</td>\n",
       "      <td>1</td>\n",
       "      <td>1</td>\n",
       "      <td>1</td>\n",
       "      <td>27</td>\n",
       "      <td>152.748668</td>\n",
       "      <td>1.0</td>\n",
       "      <td>1</td>\n",
       "      <td>0.000000</td>\n",
       "      <td>0.000000</td>\n",
       "      <td>1</td>\n",
       "    </tr>\n",
       "    <tr>\n",
       "      <th>21</th>\n",
       "      <td>0</td>\n",
       "      <td>0</td>\n",
       "      <td>0</td>\n",
       "      <td>0</td>\n",
       "      <td>1</td>\n",
       "      <td>1</td>\n",
       "      <td>0</td>\n",
       "      <td>30</td>\n",
       "      <td>153.198594</td>\n",
       "      <td>1.0</td>\n",
       "      <td>3</td>\n",
       "      <td>0.636382</td>\n",
       "      <td>0.000000</td>\n",
       "      <td>1</td>\n",
       "    </tr>\n",
       "    <tr>\n",
       "      <th>23</th>\n",
       "      <td>1</td>\n",
       "      <td>1</td>\n",
       "      <td>0</td>\n",
       "      <td>0</td>\n",
       "      <td>1</td>\n",
       "      <td>1</td>\n",
       "      <td>1</td>\n",
       "      <td>32</td>\n",
       "      <td>276.079882</td>\n",
       "      <td>1.0</td>\n",
       "      <td>1</td>\n",
       "      <td>1.420637</td>\n",
       "      <td>1.043101</td>\n",
       "      <td>1</td>\n",
       "    </tr>\n",
       "  </tbody>\n",
       "</table>\n",
       "</div>"
      ],
      "text/plain": [
       "    gender  Near_Location  Partner  Promo_friends  Phone  Contract_period  \\\n",
       "0        1              1        1              1      0                6   \n",
       "1        0              1        0              0      1               12   \n",
       "2        0              1        1              0      1                1   \n",
       "3        0              1        1              1      1               12   \n",
       "4        1              1        1              1      1                1   \n",
       "7        0              1        0              0      1                1   \n",
       "11       1              1        1              0      1                1   \n",
       "13       1              1        0              0      1                1   \n",
       "21       0              0        0              0      1                1   \n",
       "23       1              1        0              0      1                1   \n",
       "\n",
       "    Group_visits  Age  Avg_additional_charges_total  Month_to_end_contract  \\\n",
       "0              1   29                     14.227470                    5.0   \n",
       "1              1   31                    113.202938                   12.0   \n",
       "2              0   28                    129.448479                    1.0   \n",
       "3              1   33                     62.669863                   12.0   \n",
       "4              0   26                    198.362265                    1.0   \n",
       "7              0   30                    217.786641                    1.0   \n",
       "11             0   27                    266.783824                    1.0   \n",
       "13             1   27                    152.748668                    1.0   \n",
       "21             0   30                    153.198594                    1.0   \n",
       "23             1   32                    276.079882                    1.0   \n",
       "\n",
       "    Lifetime  Avg_class_frequency_total  Avg_class_frequency_current_month  \\\n",
       "0          3                   0.020398                           0.000000   \n",
       "1          7                   1.922936                           1.910244   \n",
       "2          2                   1.859098                           1.736502   \n",
       "3          2                   3.205633                           3.357215   \n",
       "4          3                   1.113884                           1.120078   \n",
       "7          0                   1.213502                           1.049387   \n",
       "11         2                   2.348535                           1.584316   \n",
       "13         1                   0.000000                           0.000000   \n",
       "21         3                   0.636382                           0.000000   \n",
       "23         1                   1.420637                           1.043101   \n",
       "\n",
       "    Churn  \n",
       "0       0  \n",
       "1       0  \n",
       "2       0  \n",
       "3       0  \n",
       "4       0  \n",
       "7       1  \n",
       "11      1  \n",
       "13      1  \n",
       "21      1  \n",
       "23      1  "
      ]
     },
     "execution_count": 6,
     "metadata": {},
     "output_type": "execute_result"
    }
   ],
   "source": [
    "churn_df=gym_df.groupby('Churn')\n",
    "churn_df.head()"
   ]
  },
  {
   "cell_type": "code",
   "execution_count": 7,
   "metadata": {},
   "outputs": [
    {
     "data": {
      "text/html": [
       "<div>\n",
       "<style scoped>\n",
       "    .dataframe tbody tr th:only-of-type {\n",
       "        vertical-align: middle;\n",
       "    }\n",
       "\n",
       "    .dataframe tbody tr th {\n",
       "        vertical-align: top;\n",
       "    }\n",
       "\n",
       "    .dataframe thead th {\n",
       "        text-align: right;\n",
       "    }\n",
       "</style>\n",
       "<table border=\"1\" class=\"dataframe\">\n",
       "  <thead>\n",
       "    <tr style=\"text-align: right;\">\n",
       "      <th></th>\n",
       "      <th>Churn</th>\n",
       "      <th>0</th>\n",
       "      <th>1</th>\n",
       "    </tr>\n",
       "  </thead>\n",
       "  <tbody>\n",
       "    <tr>\n",
       "      <th rowspan=\"8\" valign=\"top\">gender</th>\n",
       "      <th>count</th>\n",
       "      <td>2939.000000</td>\n",
       "      <td>1061.000000</td>\n",
       "    </tr>\n",
       "    <tr>\n",
       "      <th>mean</th>\n",
       "      <td>0.510037</td>\n",
       "      <td>0.510839</td>\n",
       "    </tr>\n",
       "    <tr>\n",
       "      <th>std</th>\n",
       "      <td>0.499984</td>\n",
       "      <td>0.500118</td>\n",
       "    </tr>\n",
       "    <tr>\n",
       "      <th>min</th>\n",
       "      <td>0.000000</td>\n",
       "      <td>0.000000</td>\n",
       "    </tr>\n",
       "    <tr>\n",
       "      <th>25%</th>\n",
       "      <td>0.000000</td>\n",
       "      <td>0.000000</td>\n",
       "    </tr>\n",
       "    <tr>\n",
       "      <th>50%</th>\n",
       "      <td>1.000000</td>\n",
       "      <td>1.000000</td>\n",
       "    </tr>\n",
       "    <tr>\n",
       "      <th>75%</th>\n",
       "      <td>1.000000</td>\n",
       "      <td>1.000000</td>\n",
       "    </tr>\n",
       "    <tr>\n",
       "      <th>max</th>\n",
       "      <td>1.000000</td>\n",
       "      <td>1.000000</td>\n",
       "    </tr>\n",
       "    <tr>\n",
       "      <th rowspan=\"8\" valign=\"top\">Near_Location</th>\n",
       "      <th>count</th>\n",
       "      <td>2939.000000</td>\n",
       "      <td>1061.000000</td>\n",
       "    </tr>\n",
       "    <tr>\n",
       "      <th>mean</th>\n",
       "      <td>0.873086</td>\n",
       "      <td>0.768143</td>\n",
       "    </tr>\n",
       "    <tr>\n",
       "      <th>std</th>\n",
       "      <td>0.332933</td>\n",
       "      <td>0.422217</td>\n",
       "    </tr>\n",
       "    <tr>\n",
       "      <th>min</th>\n",
       "      <td>0.000000</td>\n",
       "      <td>0.000000</td>\n",
       "    </tr>\n",
       "    <tr>\n",
       "      <th>25%</th>\n",
       "      <td>1.000000</td>\n",
       "      <td>1.000000</td>\n",
       "    </tr>\n",
       "    <tr>\n",
       "      <th>50%</th>\n",
       "      <td>1.000000</td>\n",
       "      <td>1.000000</td>\n",
       "    </tr>\n",
       "    <tr>\n",
       "      <th>75%</th>\n",
       "      <td>1.000000</td>\n",
       "      <td>1.000000</td>\n",
       "    </tr>\n",
       "    <tr>\n",
       "      <th>max</th>\n",
       "      <td>1.000000</td>\n",
       "      <td>1.000000</td>\n",
       "    </tr>\n",
       "    <tr>\n",
       "      <th rowspan=\"8\" valign=\"top\">Partner</th>\n",
       "      <th>count</th>\n",
       "      <td>2939.000000</td>\n",
       "      <td>1061.000000</td>\n",
       "    </tr>\n",
       "    <tr>\n",
       "      <th>mean</th>\n",
       "      <td>0.534195</td>\n",
       "      <td>0.355325</td>\n",
       "    </tr>\n",
       "    <tr>\n",
       "      <th>std</th>\n",
       "      <td>0.498914</td>\n",
       "      <td>0.478837</td>\n",
       "    </tr>\n",
       "    <tr>\n",
       "      <th>min</th>\n",
       "      <td>0.000000</td>\n",
       "      <td>0.000000</td>\n",
       "    </tr>\n",
       "    <tr>\n",
       "      <th>25%</th>\n",
       "      <td>0.000000</td>\n",
       "      <td>0.000000</td>\n",
       "    </tr>\n",
       "    <tr>\n",
       "      <th>50%</th>\n",
       "      <td>1.000000</td>\n",
       "      <td>0.000000</td>\n",
       "    </tr>\n",
       "    <tr>\n",
       "      <th>75%</th>\n",
       "      <td>1.000000</td>\n",
       "      <td>1.000000</td>\n",
       "    </tr>\n",
       "    <tr>\n",
       "      <th>max</th>\n",
       "      <td>1.000000</td>\n",
       "      <td>1.000000</td>\n",
       "    </tr>\n",
       "    <tr>\n",
       "      <th rowspan=\"8\" valign=\"top\">Promo_friends</th>\n",
       "      <th>count</th>\n",
       "      <td>2939.000000</td>\n",
       "      <td>1061.000000</td>\n",
       "    </tr>\n",
       "    <tr>\n",
       "      <th>mean</th>\n",
       "      <td>0.353522</td>\n",
       "      <td>0.183789</td>\n",
       "    </tr>\n",
       "    <tr>\n",
       "      <th>std</th>\n",
       "      <td>0.478144</td>\n",
       "      <td>0.387495</td>\n",
       "    </tr>\n",
       "    <tr>\n",
       "      <th>min</th>\n",
       "      <td>0.000000</td>\n",
       "      <td>0.000000</td>\n",
       "    </tr>\n",
       "    <tr>\n",
       "      <th>25%</th>\n",
       "      <td>0.000000</td>\n",
       "      <td>0.000000</td>\n",
       "    </tr>\n",
       "    <tr>\n",
       "      <th>50%</th>\n",
       "      <td>0.000000</td>\n",
       "      <td>0.000000</td>\n",
       "    </tr>\n",
       "    <tr>\n",
       "      <th>75%</th>\n",
       "      <td>1.000000</td>\n",
       "      <td>0.000000</td>\n",
       "    </tr>\n",
       "    <tr>\n",
       "      <th>max</th>\n",
       "      <td>1.000000</td>\n",
       "      <td>1.000000</td>\n",
       "    </tr>\n",
       "    <tr>\n",
       "      <th rowspan=\"8\" valign=\"top\">Phone</th>\n",
       "      <th>count</th>\n",
       "      <td>2939.000000</td>\n",
       "      <td>1061.000000</td>\n",
       "    </tr>\n",
       "    <tr>\n",
       "      <th>mean</th>\n",
       "      <td>0.903709</td>\n",
       "      <td>0.902922</td>\n",
       "    </tr>\n",
       "    <tr>\n",
       "      <th>std</th>\n",
       "      <td>0.295040</td>\n",
       "      <td>0.296204</td>\n",
       "    </tr>\n",
       "    <tr>\n",
       "      <th>min</th>\n",
       "      <td>0.000000</td>\n",
       "      <td>0.000000</td>\n",
       "    </tr>\n",
       "    <tr>\n",
       "      <th>25%</th>\n",
       "      <td>1.000000</td>\n",
       "      <td>1.000000</td>\n",
       "    </tr>\n",
       "    <tr>\n",
       "      <th>50%</th>\n",
       "      <td>1.000000</td>\n",
       "      <td>1.000000</td>\n",
       "    </tr>\n",
       "    <tr>\n",
       "      <th>75%</th>\n",
       "      <td>1.000000</td>\n",
       "      <td>1.000000</td>\n",
       "    </tr>\n",
       "    <tr>\n",
       "      <th>max</th>\n",
       "      <td>1.000000</td>\n",
       "      <td>1.000000</td>\n",
       "    </tr>\n",
       "    <tr>\n",
       "      <th rowspan=\"8\" valign=\"top\">Contract_period</th>\n",
       "      <th>count</th>\n",
       "      <td>2939.000000</td>\n",
       "      <td>1061.000000</td>\n",
       "    </tr>\n",
       "    <tr>\n",
       "      <th>mean</th>\n",
       "      <td>5.747193</td>\n",
       "      <td>1.728558</td>\n",
       "    </tr>\n",
       "    <tr>\n",
       "      <th>std</th>\n",
       "      <td>4.716942</td>\n",
       "      <td>2.132371</td>\n",
       "    </tr>\n",
       "    <tr>\n",
       "      <th>min</th>\n",
       "      <td>1.000000</td>\n",
       "      <td>1.000000</td>\n",
       "    </tr>\n",
       "    <tr>\n",
       "      <th>25%</th>\n",
       "      <td>1.000000</td>\n",
       "      <td>1.000000</td>\n",
       "    </tr>\n",
       "    <tr>\n",
       "      <th>50%</th>\n",
       "      <td>6.000000</td>\n",
       "      <td>1.000000</td>\n",
       "    </tr>\n",
       "    <tr>\n",
       "      <th>75%</th>\n",
       "      <td>12.000000</td>\n",
       "      <td>1.000000</td>\n",
       "    </tr>\n",
       "    <tr>\n",
       "      <th>max</th>\n",
       "      <td>12.000000</td>\n",
       "      <td>12.000000</td>\n",
       "    </tr>\n",
       "    <tr>\n",
       "      <th rowspan=\"8\" valign=\"top\">Group_visits</th>\n",
       "      <th>count</th>\n",
       "      <td>2939.000000</td>\n",
       "      <td>1061.000000</td>\n",
       "    </tr>\n",
       "    <tr>\n",
       "      <th>mean</th>\n",
       "      <td>0.464103</td>\n",
       "      <td>0.268615</td>\n",
       "    </tr>\n",
       "    <tr>\n",
       "      <th>std</th>\n",
       "      <td>0.498795</td>\n",
       "      <td>0.443448</td>\n",
       "    </tr>\n",
       "    <tr>\n",
       "      <th>min</th>\n",
       "      <td>0.000000</td>\n",
       "      <td>0.000000</td>\n",
       "    </tr>\n",
       "    <tr>\n",
       "      <th>25%</th>\n",
       "      <td>0.000000</td>\n",
       "      <td>0.000000</td>\n",
       "    </tr>\n",
       "    <tr>\n",
       "      <th>50%</th>\n",
       "      <td>0.000000</td>\n",
       "      <td>0.000000</td>\n",
       "    </tr>\n",
       "    <tr>\n",
       "      <th>75%</th>\n",
       "      <td>1.000000</td>\n",
       "      <td>1.000000</td>\n",
       "    </tr>\n",
       "    <tr>\n",
       "      <th>max</th>\n",
       "      <td>1.000000</td>\n",
       "      <td>1.000000</td>\n",
       "    </tr>\n",
       "    <tr>\n",
       "      <th rowspan=\"8\" valign=\"top\">Age</th>\n",
       "      <th>count</th>\n",
       "      <td>2939.000000</td>\n",
       "      <td>1061.000000</td>\n",
       "    </tr>\n",
       "    <tr>\n",
       "      <th>mean</th>\n",
       "      <td>29.976523</td>\n",
       "      <td>26.989632</td>\n",
       "    </tr>\n",
       "    <tr>\n",
       "      <th>std</th>\n",
       "      <td>3.009933</td>\n",
       "      <td>2.895163</td>\n",
       "    </tr>\n",
       "    <tr>\n",
       "      <th>min</th>\n",
       "      <td>19.000000</td>\n",
       "      <td>18.000000</td>\n",
       "    </tr>\n",
       "    <tr>\n",
       "      <th>25%</th>\n",
       "      <td>28.000000</td>\n",
       "      <td>25.000000</td>\n",
       "    </tr>\n",
       "    <tr>\n",
       "      <th>50%</th>\n",
       "      <td>30.000000</td>\n",
       "      <td>27.000000</td>\n",
       "    </tr>\n",
       "    <tr>\n",
       "      <th>75%</th>\n",
       "      <td>32.000000</td>\n",
       "      <td>29.000000</td>\n",
       "    </tr>\n",
       "    <tr>\n",
       "      <th>max</th>\n",
       "      <td>41.000000</td>\n",
       "      <td>38.000000</td>\n",
       "    </tr>\n",
       "    <tr>\n",
       "      <th rowspan=\"8\" valign=\"top\">Avg_additional_charges_total</th>\n",
       "      <th>count</th>\n",
       "      <td>2939.000000</td>\n",
       "      <td>1061.000000</td>\n",
       "    </tr>\n",
       "    <tr>\n",
       "      <th>mean</th>\n",
       "      <td>158.445715</td>\n",
       "      <td>115.082899</td>\n",
       "    </tr>\n",
       "    <tr>\n",
       "      <th>std</th>\n",
       "      <td>99.801599</td>\n",
       "      <td>77.696419</td>\n",
       "    </tr>\n",
       "    <tr>\n",
       "      <th>min</th>\n",
       "      <td>0.171862</td>\n",
       "      <td>0.148205</td>\n",
       "    </tr>\n",
       "    <tr>\n",
       "      <th>25%</th>\n",
       "      <td>76.920993</td>\n",
       "      <td>50.629127</td>\n",
       "    </tr>\n",
       "    <tr>\n",
       "      <th>50%</th>\n",
       "      <td>149.881171</td>\n",
       "      <td>103.814686</td>\n",
       "    </tr>\n",
       "    <tr>\n",
       "      <th>75%</th>\n",
       "      <td>224.448274</td>\n",
       "      <td>165.616858</td>\n",
       "    </tr>\n",
       "    <tr>\n",
       "      <th>max</th>\n",
       "      <td>552.590740</td>\n",
       "      <td>425.535220</td>\n",
       "    </tr>\n",
       "    <tr>\n",
       "      <th rowspan=\"8\" valign=\"top\">Month_to_end_contract</th>\n",
       "      <th>count</th>\n",
       "      <td>2939.000000</td>\n",
       "      <td>1061.000000</td>\n",
       "    </tr>\n",
       "    <tr>\n",
       "      <th>mean</th>\n",
       "      <td>5.283089</td>\n",
       "      <td>1.662582</td>\n",
       "    </tr>\n",
       "    <tr>\n",
       "      <th>std</th>\n",
       "      <td>4.363522</td>\n",
       "      <td>1.964593</td>\n",
       "    </tr>\n",
       "    <tr>\n",
       "      <th>min</th>\n",
       "      <td>1.000000</td>\n",
       "      <td>1.000000</td>\n",
       "    </tr>\n",
       "    <tr>\n",
       "      <th>25%</th>\n",
       "      <td>1.000000</td>\n",
       "      <td>1.000000</td>\n",
       "    </tr>\n",
       "    <tr>\n",
       "      <th>50%</th>\n",
       "      <td>6.000000</td>\n",
       "      <td>1.000000</td>\n",
       "    </tr>\n",
       "    <tr>\n",
       "      <th>75%</th>\n",
       "      <td>10.000000</td>\n",
       "      <td>1.000000</td>\n",
       "    </tr>\n",
       "    <tr>\n",
       "      <th>max</th>\n",
       "      <td>12.000000</td>\n",
       "      <td>12.000000</td>\n",
       "    </tr>\n",
       "    <tr>\n",
       "      <th rowspan=\"8\" valign=\"top\">Lifetime</th>\n",
       "      <th>count</th>\n",
       "      <td>2939.000000</td>\n",
       "      <td>1061.000000</td>\n",
       "    </tr>\n",
       "    <tr>\n",
       "      <th>mean</th>\n",
       "      <td>4.711807</td>\n",
       "      <td>0.990575</td>\n",
       "    </tr>\n",
       "    <tr>\n",
       "      <th>std</th>\n",
       "      <td>3.874780</td>\n",
       "      <td>1.110799</td>\n",
       "    </tr>\n",
       "    <tr>\n",
       "      <th>min</th>\n",
       "      <td>0.000000</td>\n",
       "      <td>0.000000</td>\n",
       "    </tr>\n",
       "    <tr>\n",
       "      <th>25%</th>\n",
       "      <td>2.000000</td>\n",
       "      <td>0.000000</td>\n",
       "    </tr>\n",
       "    <tr>\n",
       "      <th>50%</th>\n",
       "      <td>4.000000</td>\n",
       "      <td>1.000000</td>\n",
       "    </tr>\n",
       "    <tr>\n",
       "      <th>75%</th>\n",
       "      <td>6.000000</td>\n",
       "      <td>1.000000</td>\n",
       "    </tr>\n",
       "    <tr>\n",
       "      <th>max</th>\n",
       "      <td>31.000000</td>\n",
       "      <td>9.000000</td>\n",
       "    </tr>\n",
       "    <tr>\n",
       "      <th rowspan=\"8\" valign=\"top\">Avg_class_frequency_total</th>\n",
       "      <th>count</th>\n",
       "      <td>2939.000000</td>\n",
       "      <td>1061.000000</td>\n",
       "    </tr>\n",
       "    <tr>\n",
       "      <th>mean</th>\n",
       "      <td>2.024876</td>\n",
       "      <td>1.474995</td>\n",
       "    </tr>\n",
       "    <tr>\n",
       "      <th>std</th>\n",
       "      <td>1.016006</td>\n",
       "      <td>0.694705</td>\n",
       "    </tr>\n",
       "    <tr>\n",
       "      <th>min</th>\n",
       "      <td>0.000000</td>\n",
       "      <td>0.000000</td>\n",
       "    </tr>\n",
       "    <tr>\n",
       "      <th>25%</th>\n",
       "      <td>1.283137</td>\n",
       "      <td>1.010771</td>\n",
       "    </tr>\n",
       "    <tr>\n",
       "      <th>50%</th>\n",
       "      <td>2.043252</td>\n",
       "      <td>1.491187</td>\n",
       "    </tr>\n",
       "    <tr>\n",
       "      <th>75%</th>\n",
       "      <td>2.732944</td>\n",
       "      <td>1.956438</td>\n",
       "    </tr>\n",
       "    <tr>\n",
       "      <th>max</th>\n",
       "      <td>6.023668</td>\n",
       "      <td>3.478646</td>\n",
       "    </tr>\n",
       "    <tr>\n",
       "      <th rowspan=\"8\" valign=\"top\">Avg_class_frequency_current_month</th>\n",
       "      <th>count</th>\n",
       "      <td>2939.000000</td>\n",
       "      <td>1061.000000</td>\n",
       "    </tr>\n",
       "    <tr>\n",
       "      <th>mean</th>\n",
       "      <td>2.027882</td>\n",
       "      <td>1.044546</td>\n",
       "    </tr>\n",
       "    <tr>\n",
       "      <th>std</th>\n",
       "      <td>1.018994</td>\n",
       "      <td>0.770237</td>\n",
       "    </tr>\n",
       "    <tr>\n",
       "      <th>min</th>\n",
       "      <td>0.000000</td>\n",
       "      <td>0.000000</td>\n",
       "    </tr>\n",
       "    <tr>\n",
       "      <th>25%</th>\n",
       "      <td>1.297021</td>\n",
       "      <td>0.421337</td>\n",
       "    </tr>\n",
       "    <tr>\n",
       "      <th>50%</th>\n",
       "      <td>2.046697</td>\n",
       "      <td>0.979445</td>\n",
       "    </tr>\n",
       "    <tr>\n",
       "      <th>75%</th>\n",
       "      <td>2.740648</td>\n",
       "      <td>1.588576</td>\n",
       "    </tr>\n",
       "    <tr>\n",
       "      <th>max</th>\n",
       "      <td>6.146783</td>\n",
       "      <td>3.540271</td>\n",
       "    </tr>\n",
       "  </tbody>\n",
       "</table>\n",
       "</div>"
      ],
      "text/plain": [
       "Churn                                              0            1\n",
       "gender                            count  2939.000000  1061.000000\n",
       "                                  mean      0.510037     0.510839\n",
       "                                  std       0.499984     0.500118\n",
       "                                  min       0.000000     0.000000\n",
       "                                  25%       0.000000     0.000000\n",
       "                                  50%       1.000000     1.000000\n",
       "                                  75%       1.000000     1.000000\n",
       "                                  max       1.000000     1.000000\n",
       "Near_Location                     count  2939.000000  1061.000000\n",
       "                                  mean      0.873086     0.768143\n",
       "                                  std       0.332933     0.422217\n",
       "                                  min       0.000000     0.000000\n",
       "                                  25%       1.000000     1.000000\n",
       "                                  50%       1.000000     1.000000\n",
       "                                  75%       1.000000     1.000000\n",
       "                                  max       1.000000     1.000000\n",
       "Partner                           count  2939.000000  1061.000000\n",
       "                                  mean      0.534195     0.355325\n",
       "                                  std       0.498914     0.478837\n",
       "                                  min       0.000000     0.000000\n",
       "                                  25%       0.000000     0.000000\n",
       "                                  50%       1.000000     0.000000\n",
       "                                  75%       1.000000     1.000000\n",
       "                                  max       1.000000     1.000000\n",
       "Promo_friends                     count  2939.000000  1061.000000\n",
       "                                  mean      0.353522     0.183789\n",
       "                                  std       0.478144     0.387495\n",
       "                                  min       0.000000     0.000000\n",
       "                                  25%       0.000000     0.000000\n",
       "                                  50%       0.000000     0.000000\n",
       "                                  75%       1.000000     0.000000\n",
       "                                  max       1.000000     1.000000\n",
       "Phone                             count  2939.000000  1061.000000\n",
       "                                  mean      0.903709     0.902922\n",
       "                                  std       0.295040     0.296204\n",
       "                                  min       0.000000     0.000000\n",
       "                                  25%       1.000000     1.000000\n",
       "                                  50%       1.000000     1.000000\n",
       "                                  75%       1.000000     1.000000\n",
       "                                  max       1.000000     1.000000\n",
       "Contract_period                   count  2939.000000  1061.000000\n",
       "                                  mean      5.747193     1.728558\n",
       "                                  std       4.716942     2.132371\n",
       "                                  min       1.000000     1.000000\n",
       "                                  25%       1.000000     1.000000\n",
       "                                  50%       6.000000     1.000000\n",
       "                                  75%      12.000000     1.000000\n",
       "                                  max      12.000000    12.000000\n",
       "Group_visits                      count  2939.000000  1061.000000\n",
       "                                  mean      0.464103     0.268615\n",
       "                                  std       0.498795     0.443448\n",
       "                                  min       0.000000     0.000000\n",
       "                                  25%       0.000000     0.000000\n",
       "                                  50%       0.000000     0.000000\n",
       "                                  75%       1.000000     1.000000\n",
       "                                  max       1.000000     1.000000\n",
       "Age                               count  2939.000000  1061.000000\n",
       "                                  mean     29.976523    26.989632\n",
       "                                  std       3.009933     2.895163\n",
       "                                  min      19.000000    18.000000\n",
       "                                  25%      28.000000    25.000000\n",
       "                                  50%      30.000000    27.000000\n",
       "                                  75%      32.000000    29.000000\n",
       "                                  max      41.000000    38.000000\n",
       "Avg_additional_charges_total      count  2939.000000  1061.000000\n",
       "                                  mean    158.445715   115.082899\n",
       "                                  std      99.801599    77.696419\n",
       "                                  min       0.171862     0.148205\n",
       "                                  25%      76.920993    50.629127\n",
       "                                  50%     149.881171   103.814686\n",
       "                                  75%     224.448274   165.616858\n",
       "                                  max     552.590740   425.535220\n",
       "Month_to_end_contract             count  2939.000000  1061.000000\n",
       "                                  mean      5.283089     1.662582\n",
       "                                  std       4.363522     1.964593\n",
       "                                  min       1.000000     1.000000\n",
       "                                  25%       1.000000     1.000000\n",
       "                                  50%       6.000000     1.000000\n",
       "                                  75%      10.000000     1.000000\n",
       "                                  max      12.000000    12.000000\n",
       "Lifetime                          count  2939.000000  1061.000000\n",
       "                                  mean      4.711807     0.990575\n",
       "                                  std       3.874780     1.110799\n",
       "                                  min       0.000000     0.000000\n",
       "                                  25%       2.000000     0.000000\n",
       "                                  50%       4.000000     1.000000\n",
       "                                  75%       6.000000     1.000000\n",
       "                                  max      31.000000     9.000000\n",
       "Avg_class_frequency_total         count  2939.000000  1061.000000\n",
       "                                  mean      2.024876     1.474995\n",
       "                                  std       1.016006     0.694705\n",
       "                                  min       0.000000     0.000000\n",
       "                                  25%       1.283137     1.010771\n",
       "                                  50%       2.043252     1.491187\n",
       "                                  75%       2.732944     1.956438\n",
       "                                  max       6.023668     3.478646\n",
       "Avg_class_frequency_current_month count  2939.000000  1061.000000\n",
       "                                  mean      2.027882     1.044546\n",
       "                                  std       1.018994     0.770237\n",
       "                                  min       0.000000     0.000000\n",
       "                                  25%       1.297021     0.421337\n",
       "                                  50%       2.046697     0.979445\n",
       "                                  75%       2.740648     1.588576\n",
       "                                  max       6.146783     3.540271"
      ]
     },
     "execution_count": 7,
     "metadata": {},
     "output_type": "execute_result"
    }
   ],
   "source": [
    "pd.options.display.max_rows = 104\n",
    "churn_df.describe().T\n"
   ]
  },
  {
   "cell_type": "markdown",
   "metadata": {},
   "source": [
    "The mean values for customers who did NOT churn:\n",
    "\n",
    "There is still an even split of gender (0.51), more live closer to the gym with a mean value 0.87 with sd of 0.33. Those who did not churn have a higher mean value of belonging to partner companies (0.534) and not many came from promo friends but higher than the churn group at 0.35. This group also has a longer contract period, avg of 5.75, higher group visits at 0.46, and accrued more additional chrges at 158. This group also went to more classes with a mean value of 2.02.\n",
    "\n",
    "The mean values for customers who DID churn:\n",
    "\n",
    "There is an even split of gender between the genders (0.51) and most live near the location(.77). There is a mean value of 0.355 for being part of a partner company whih suuggests that most are not. This group has a lower mean value for their contract period at 1.72 with a standard deviation of 2.13. The mean value of group visits is also lower at 0.27. The mean value for this group's additional charge is 115 with a standard deviation of 77.7. "
   ]
  },
  {
   "cell_type": "markdown",
   "metadata": {},
   "source": [
    "Let's plot histograms that will display the feature distribution for the group of cients that did not churn."
   ]
  },
  {
   "cell_type": "code",
   "execution_count": 8,
   "metadata": {},
   "outputs": [
    {
     "data": {
      "image/png": "[encoded data removed]",
      "text/plain": [
       "<Figure size 432x288 with 1 Axes>"
      ]
     },
     "metadata": {
      "needs_background": "light"
     },
     "output_type": "display_data"
    },
    {
     "data": {
      "image/png": "[encoded data removed]",
      "text/plain": [
       "<Figure size 432x288 with 1 Axes>"
      ]
     },
     "metadata": {
      "needs_background": "light"
     },
     "output_type": "display_data"
    },
    {
     "data": {
      "image/png": "[encoded data removed]",
      "text/plain": [
       "<Figure size 432x288 with 1 Axes>"
      ]
     },
     "metadata": {
      "needs_background": "light"
     },
     "output_type": "display_data"
    },
    {
     "data": {
      "image/png": "[encoded data removed]",
      "text/plain": [
       "<Figure size 432x288 with 1 Axes>"
      ]
     },
     "metadata": {
      "needs_background": "light"
     },
     "output_type": "display_data"
    },
    {
     "data": {
      "image/png": "[encoded data removed]",
      "text/plain": [
       "<Figure size 432x288 with 1 Axes>"
      ]
     },
     "metadata": {
      "needs_background": "light"
     },
     "output_type": "display_data"
    },
    {
     "data": {
      "image/png": "[encoded data removed]",
      "text/plain": [
       "<Figure size 432x288 with 1 Axes>"
      ]
     },
     "metadata": {
      "needs_background": "light"
     },
     "output_type": "display_data"
    },
    {
     "data": {
      "image/png": "[encoded data removed]",
      "text/plain": [
       "<Figure size 432x288 with 1 Axes>"
      ]
     },
     "metadata": {
      "needs_background": "light"
     },
     "output_type": "display_data"
    },
    {
     "data": {
      "image/png": "[encoded data removed]",
      "text/plain": [
       "<Figure size 432x288 with 1 Axes>"
      ]
     },
     "metadata": {
      "needs_background": "light"
     },
     "output_type": "display_data"
    },
    {
     "data": {
      "image/png": "[encoded data removed]",
      "text/plain": [
       "<Figure size 432x288 with 1 Axes>"
      ]
     },
     "metadata": {
      "needs_background": "light"
     },
     "output_type": "display_data"
    },
    {
     "data": {
      "image/png": "[encoded data removed]",
      "text/plain": [
       "<Figure size 432x288 with 1 Axes>"
      ]
     },
     "metadata": {
      "needs_background": "light"
     },
     "output_type": "display_data"
    },
    {
     "data": {
      "image/png": "[encoded data removed]",
      "text/plain": [
       "<Figure size 432x288 with 1 Axes>"
      ]
     },
     "metadata": {
      "needs_background": "light"
     },
     "output_type": "display_data"
    },
    {
     "data": {
      "image/png": "[encoded data removed]",
      "text/plain": [
       "<Figure size 432x288 with 1 Axes>"
      ]
     },
     "metadata": {
      "needs_background": "light"
     },
     "output_type": "display_data"
    },
    {
     "data": {
      "image/png": "[encoded data removed]",
      "text/plain": [
       "<Figure size 432x288 with 1 Axes>"
      ]
     },
     "metadata": {
      "needs_background": "light"
     },
     "output_type": "display_data"
    },
    {
     "data": {
      "image/png": "[encoded data removed]",
      "text/plain": [
       "<Figure size 432x288 with 1 Axes>"
      ]
     },
     "metadata": {
      "needs_background": "light"
     },
     "output_type": "display_data"
    }
   ],
   "source": [
    "for column in gym_df.columns:\n",
    "    sns.histplot(gym_df, x=column, bins=10, hue='Churn')\n",
    "    plt.title(column)\n",
    "    plt.show()"
   ]
  },
  {
   "cell_type": "markdown",
   "metadata": {},
   "source": [
    "The values for the average additional charge total is skewed to the right, as well is the lifetime feature. Average class frequency is a little skewed and there don't seem to be any major outliers."
   ]
  },
  {
   "cell_type": "markdown",
   "metadata": {},
   "source": [
    "Now I would like to check if there is any correlation between the features and the target (churn) or between the features themselves."
   ]
  },
  {
   "cell_type": "code",
   "execution_count": 9,
   "metadata": {},
   "outputs": [
    {
     "data": {
      "image/png": "[encoded data removed]",
      "text/plain": [
       "<Figure size 1080x1080 with 2 Axes>"
      ]
     },
     "metadata": {
      "needs_background": "light"
     },
     "output_type": "display_data"
    }
   ],
   "source": [
    "gym_corr=gym_df.corr()\n",
    "plt.figure(figsize=(15,15))\n",
    "sns.heatmap(gym_corr,annot=True,square=True)\n",
    "plt.show()"
   ]
  },
  {
   "cell_type": "markdown",
   "metadata": {},
   "source": [
    "There is a strong correlation between contract period and month to end of contract and another strong correlation between avg_ class frequency and avg class frequency current month. This makes sense as both features are measuring the same thing. In an attempt to optimize the model, I will drop month to end and avg classs frequency. "
   ]
  },
  {
   "cell_type": "code",
   "execution_count": 10,
   "metadata": {},
   "outputs": [],
   "source": [
    "gym_df=gym_df.drop(['Month_to_end_contract','Avg_class_frequency_current_month'],axis=1)"
   ]
  },
  {
   "cell_type": "markdown",
   "metadata": {},
   "source": [
    "# Model Building"
   ]
  },
  {
   "cell_type": "markdown",
   "metadata": {},
   "source": [
    "Now that I am done pre-processing and the data and checking the distributions, I will build a binary classification model for customers where the target feature is the user's leaving next month"
   ]
  },
  {
   "cell_type": "markdown",
   "metadata": {},
   "source": [
    "First step is to divide the data into train and validation sets using the train_test_split() "
   ]
  },
  {
   "cell_type": "code",
   "execution_count": 11,
   "metadata": {},
   "outputs": [],
   "source": [
    "#creating the feature matrix and the target variable\n",
    "X = gym_df.drop(['Churn'], axis=1)\n",
    "y= gym_df['Churn']"
   ]
  },
  {
   "cell_type": "code",
   "execution_count": 12,
   "metadata": {},
   "outputs": [],
   "source": [
    "#splitting the data\n",
    "X_train,X_test,y_train,y_test= train_test_split(X,y, test_size=0.2, random_state=0, stratify=y)"
   ]
  },
  {
   "cell_type": "markdown",
   "metadata": {},
   "source": [
    "I will be working with and comparing two models: Logistic Regression and Random Forest. I will train the models, have them calculate predictions and then compare their metrics."
   ]
  },
  {
   "cell_type": "code",
   "execution_count": 13,
   "metadata": {},
   "outputs": [
    {
     "data": {
      "text/html": [
       "<div>\n",
       "<style scoped>\n",
       "    .dataframe tbody tr th:only-of-type {\n",
       "        vertical-align: middle;\n",
       "    }\n",
       "\n",
       "    .dataframe tbody tr th {\n",
       "        vertical-align: top;\n",
       "    }\n",
       "\n",
       "    .dataframe thead th {\n",
       "        text-align: right;\n",
       "    }\n",
       "</style>\n",
       "<table border=\"1\" class=\"dataframe\">\n",
       "  <thead>\n",
       "    <tr style=\"text-align: right;\">\n",
       "      <th></th>\n",
       "      <th>gender</th>\n",
       "      <th>Near_Location</th>\n",
       "      <th>Partner</th>\n",
       "      <th>Promo_friends</th>\n",
       "      <th>Phone</th>\n",
       "      <th>Contract_period</th>\n",
       "      <th>Group_visits</th>\n",
       "      <th>Age</th>\n",
       "      <th>Avg_additional_charges_total</th>\n",
       "      <th>Lifetime</th>\n",
       "      <th>Avg_class_frequency_total</th>\n",
       "    </tr>\n",
       "  </thead>\n",
       "  <tbody>\n",
       "    <tr>\n",
       "      <th>2702</th>\n",
       "      <td>1</td>\n",
       "      <td>1</td>\n",
       "      <td>1</td>\n",
       "      <td>0</td>\n",
       "      <td>1</td>\n",
       "      <td>6</td>\n",
       "      <td>1</td>\n",
       "      <td>31</td>\n",
       "      <td>56.345649</td>\n",
       "      <td>3</td>\n",
       "      <td>0.000000</td>\n",
       "    </tr>\n",
       "    <tr>\n",
       "      <th>1709</th>\n",
       "      <td>1</td>\n",
       "      <td>1</td>\n",
       "      <td>0</td>\n",
       "      <td>0</td>\n",
       "      <td>1</td>\n",
       "      <td>12</td>\n",
       "      <td>1</td>\n",
       "      <td>25</td>\n",
       "      <td>161.385863</td>\n",
       "      <td>2</td>\n",
       "      <td>3.179597</td>\n",
       "    </tr>\n",
       "    <tr>\n",
       "      <th>907</th>\n",
       "      <td>0</td>\n",
       "      <td>1</td>\n",
       "      <td>0</td>\n",
       "      <td>1</td>\n",
       "      <td>1</td>\n",
       "      <td>6</td>\n",
       "      <td>1</td>\n",
       "      <td>30</td>\n",
       "      <td>175.561159</td>\n",
       "      <td>2</td>\n",
       "      <td>1.134427</td>\n",
       "    </tr>\n",
       "    <tr>\n",
       "      <th>1991</th>\n",
       "      <td>0</td>\n",
       "      <td>1</td>\n",
       "      <td>1</td>\n",
       "      <td>1</td>\n",
       "      <td>1</td>\n",
       "      <td>6</td>\n",
       "      <td>1</td>\n",
       "      <td>25</td>\n",
       "      <td>49.844578</td>\n",
       "      <td>0</td>\n",
       "      <td>2.386860</td>\n",
       "    </tr>\n",
       "    <tr>\n",
       "      <th>3680</th>\n",
       "      <td>0</td>\n",
       "      <td>1</td>\n",
       "      <td>0</td>\n",
       "      <td>1</td>\n",
       "      <td>0</td>\n",
       "      <td>12</td>\n",
       "      <td>1</td>\n",
       "      <td>29</td>\n",
       "      <td>148.153962</td>\n",
       "      <td>2</td>\n",
       "      <td>1.593649</td>\n",
       "    </tr>\n",
       "    <tr>\n",
       "      <th>...</th>\n",
       "      <td>...</td>\n",
       "      <td>...</td>\n",
       "      <td>...</td>\n",
       "      <td>...</td>\n",
       "      <td>...</td>\n",
       "      <td>...</td>\n",
       "      <td>...</td>\n",
       "      <td>...</td>\n",
       "      <td>...</td>\n",
       "      <td>...</td>\n",
       "      <td>...</td>\n",
       "    </tr>\n",
       "    <tr>\n",
       "      <th>1109</th>\n",
       "      <td>0</td>\n",
       "      <td>1</td>\n",
       "      <td>0</td>\n",
       "      <td>0</td>\n",
       "      <td>1</td>\n",
       "      <td>12</td>\n",
       "      <td>0</td>\n",
       "      <td>29</td>\n",
       "      <td>231.748240</td>\n",
       "      <td>1</td>\n",
       "      <td>3.132211</td>\n",
       "    </tr>\n",
       "    <tr>\n",
       "      <th>2313</th>\n",
       "      <td>0</td>\n",
       "      <td>1</td>\n",
       "      <td>0</td>\n",
       "      <td>0</td>\n",
       "      <td>1</td>\n",
       "      <td>12</td>\n",
       "      <td>1</td>\n",
       "      <td>30</td>\n",
       "      <td>466.027640</td>\n",
       "      <td>1</td>\n",
       "      <td>3.519716</td>\n",
       "    </tr>\n",
       "    <tr>\n",
       "      <th>3630</th>\n",
       "      <td>1</td>\n",
       "      <td>1</td>\n",
       "      <td>0</td>\n",
       "      <td>0</td>\n",
       "      <td>1</td>\n",
       "      <td>1</td>\n",
       "      <td>1</td>\n",
       "      <td>32</td>\n",
       "      <td>184.779344</td>\n",
       "      <td>2</td>\n",
       "      <td>2.541021</td>\n",
       "    </tr>\n",
       "    <tr>\n",
       "      <th>1836</th>\n",
       "      <td>0</td>\n",
       "      <td>1</td>\n",
       "      <td>0</td>\n",
       "      <td>0</td>\n",
       "      <td>1</td>\n",
       "      <td>6</td>\n",
       "      <td>0</td>\n",
       "      <td>32</td>\n",
       "      <td>101.209266</td>\n",
       "      <td>16</td>\n",
       "      <td>3.001786</td>\n",
       "    </tr>\n",
       "    <tr>\n",
       "      <th>2684</th>\n",
       "      <td>0</td>\n",
       "      <td>0</td>\n",
       "      <td>0</td>\n",
       "      <td>0</td>\n",
       "      <td>1</td>\n",
       "      <td>1</td>\n",
       "      <td>1</td>\n",
       "      <td>32</td>\n",
       "      <td>8.116399</td>\n",
       "      <td>1</td>\n",
       "      <td>1.196674</td>\n",
       "    </tr>\n",
       "  </tbody>\n",
       "</table>\n",
       "<p>3200 rows × 11 columns</p>\n",
       "</div>"
      ],
      "text/plain": [
       "      gender  Near_Location  Partner  Promo_friends  Phone  Contract_period  \\\n",
       "2702       1              1        1              0      1                6   \n",
       "1709       1              1        0              0      1               12   \n",
       "907        0              1        0              1      1                6   \n",
       "1991       0              1        1              1      1                6   \n",
       "3680       0              1        0              1      0               12   \n",
       "...      ...            ...      ...            ...    ...              ...   \n",
       "1109       0              1        0              0      1               12   \n",
       "2313       0              1        0              0      1               12   \n",
       "3630       1              1        0              0      1                1   \n",
       "1836       0              1        0              0      1                6   \n",
       "2684       0              0        0              0      1                1   \n",
       "\n",
       "      Group_visits  Age  Avg_additional_charges_total  Lifetime  \\\n",
       "2702             1   31                     56.345649         3   \n",
       "1709             1   25                    161.385863         2   \n",
       "907              1   30                    175.561159         2   \n",
       "1991             1   25                     49.844578         0   \n",
       "3680             1   29                    148.153962         2   \n",
       "...            ...  ...                           ...       ...   \n",
       "1109             0   29                    231.748240         1   \n",
       "2313             1   30                    466.027640         1   \n",
       "3630             1   32                    184.779344         2   \n",
       "1836             0   32                    101.209266        16   \n",
       "2684             1   32                      8.116399         1   \n",
       "\n",
       "      Avg_class_frequency_total  \n",
       "2702                   0.000000  \n",
       "1709                   3.179597  \n",
       "907                    1.134427  \n",
       "1991                   2.386860  \n",
       "3680                   1.593649  \n",
       "...                         ...  \n",
       "1109                   3.132211  \n",
       "2313                   3.519716  \n",
       "3630                   2.541021  \n",
       "1836                   3.001786  \n",
       "2684                   1.196674  \n",
       "\n",
       "[3200 rows x 11 columns]"
      ]
     },
     "execution_count": 13,
     "metadata": {},
     "output_type": "execute_result"
    }
   ],
   "source": [
    "X_train"
   ]
  },
  {
   "cell_type": "code",
   "execution_count": 14,
   "metadata": {},
   "outputs": [],
   "source": [
    "#logistic regression\n",
    "lo_model= LogisticRegression(random_state=0, max_iter=1000)\n",
    "lo_model.fit(X_train,y_train)\n",
    "lo_pred= lo_model.predict(X_test)\n",
    "lo_prob= lo_model.predict_proba(X_test)[:,1]"
   ]
  },
  {
   "cell_type": "code",
   "execution_count": 15,
   "metadata": {},
   "outputs": [
    {
     "name": "stdout",
     "output_type": "stream",
     "text": [
      "Accuracy: 0.90625\n",
      "Precision: 0.82\n",
      "Recall: 0.83\n"
     ]
    }
   ],
   "source": [
    "#metrics for logistic regression\n",
    "print(f'Accuracy: {accuracy_score(y_test,lo_pred)}')\n",
    "print(f'Precision: {precision_score(y_test,lo_pred):.2f}')\n",
    "print(f'Recall: {recall_score(y_test,lo_pred):.2f}')\n",
    "\n"
   ]
  },
  {
   "cell_type": "code",
   "execution_count": 16,
   "metadata": {},
   "outputs": [],
   "source": [
    "#random forest\n",
    "rf_model= RandomForestClassifier(random_state=0)\n",
    "rf_model.fit(X_train,y_train)\n",
    "rf_pred=rf_model.predict(X_test)\n",
    "rf_prob= rf_model.predict_proba(X_test)[:,1]"
   ]
  },
  {
   "cell_type": "code",
   "execution_count": 17,
   "metadata": {},
   "outputs": [
    {
     "name": "stdout",
     "output_type": "stream",
     "text": [
      "Accuracy: 0.89\n",
      "Precision: 0.81\n",
      "Recall: 0.79\n"
     ]
    }
   ],
   "source": [
    "#metrics for random forest\n",
    "print('Accuracy: {:.2f}'.format(accuracy_score(y_test,rf_pred)))\n",
    "print('Precision: {:.2f}'.format(precision_score(y_test,rf_pred)))\n",
    "print('Recall: {:.2f}'.format(recall_score(y_test,rf_pred)))"
   ]
  },
  {
   "cell_type": "markdown",
   "metadata": {},
   "source": [
    "Though the models are very close in similarity, Random Forst performs a bit better as evidenced by having higher metrics of Accuracy, Precision, and Recall. "
   ]
  },
  {
   "cell_type": "markdown",
   "metadata": {},
   "source": [
    "# User Clusters"
   ]
  },
  {
   "cell_type": "markdown",
   "metadata": {},
   "source": [
    "Now I will split the data into clusters to ascertain which type of customer is more likely to churn. The first step to this is to standardize the data."
   ]
  },
  {
   "cell_type": "code",
   "execution_count": 18,
   "metadata": {
    "scrolled": true
   },
   "outputs": [],
   "source": [
    "#Standardize the data using StandardScaler()\n",
    "sc = StandardScaler()\n",
    "X_sc=sc.fit_transform(X)\n"
   ]
  },
  {
   "cell_type": "markdown",
   "metadata": {},
   "source": [
    "I will also be using the linkage() function to build a matrix of distances based on the standardized feature matrix (X_sc) and then I will visualize this using a dendogram which I will analyze to determine how many clusters I want. "
   ]
  },
  {
   "cell_type": "code",
   "execution_count": 19,
   "metadata": {},
   "outputs": [],
   "source": [
    "link=linkage(X_sc, method='ward')\n"
   ]
  },
  {
   "cell_type": "code",
   "execution_count": 20,
   "metadata": {},
   "outputs": [
    {
     "data": {
      "image/png": "[encoded data removed]",
      "text/plain": [
       "<Figure size 720x720 with 1 Axes>"
      ]
     },
     "metadata": {
      "needs_background": "light"
     },
     "output_type": "display_data"
    }
   ],
   "source": [
    "plt.figure(figsize=(10, 10))  \n",
    "dendrogram(link, orientation='top')\n",
    "plt.title('Clustering for Gym Churn')\n",
    "plt.show()"
   ]
  },
  {
   "cell_type": "markdown",
   "metadata": {},
   "source": [
    "Based on the dendogram I will be using 5 clusters in my KMeans model. \n"
   ]
  },
  {
   "cell_type": "code",
   "execution_count": 21,
   "metadata": {},
   "outputs": [],
   "source": [
    "km=KMeans(n_clusters=5, random_state=0)\n",
    "labels=km.fit_predict(X_sc)"
   ]
  },
  {
   "cell_type": "markdown",
   "metadata": {},
   "source": [
    "Now that we have our cluster, I will be looking at the mean feature values for each."
   ]
  },
  {
   "cell_type": "code",
   "execution_count": 22,
   "metadata": {},
   "outputs": [],
   "source": [
    "gym_df['cluster']=labels"
   ]
  },
  {
   "cell_type": "code",
   "execution_count": 23,
   "metadata": {},
   "outputs": [
    {
     "data": {
      "text/html": [
       "<div>\n",
       "<style scoped>\n",
       "    .dataframe tbody tr th:only-of-type {\n",
       "        vertical-align: middle;\n",
       "    }\n",
       "\n",
       "    .dataframe tbody tr th {\n",
       "        vertical-align: top;\n",
       "    }\n",
       "\n",
       "    .dataframe thead th {\n",
       "        text-align: right;\n",
       "    }\n",
       "</style>\n",
       "<table border=\"1\" class=\"dataframe\">\n",
       "  <thead>\n",
       "    <tr style=\"text-align: right;\">\n",
       "      <th></th>\n",
       "      <th>cluster</th>\n",
       "      <th>0</th>\n",
       "      <th>1</th>\n",
       "      <th>2</th>\n",
       "      <th>3</th>\n",
       "      <th>4</th>\n",
       "    </tr>\n",
       "  </thead>\n",
       "  <tbody>\n",
       "    <tr>\n",
       "      <th rowspan=\"8\" valign=\"top\">gender</th>\n",
       "      <th>count</th>\n",
       "      <td>561.000000</td>\n",
       "      <td>1050.000000</td>\n",
       "      <td>1132.000000</td>\n",
       "      <td>871.000000</td>\n",
       "      <td>386.000000</td>\n",
       "    </tr>\n",
       "    <tr>\n",
       "      <th>mean</th>\n",
       "      <td>0.499109</td>\n",
       "      <td>0.488571</td>\n",
       "      <td>0.505300</td>\n",
       "      <td>0.544202</td>\n",
       "      <td>0.523316</td>\n",
       "    </tr>\n",
       "    <tr>\n",
       "      <th>std</th>\n",
       "      <td>0.500445</td>\n",
       "      <td>0.500108</td>\n",
       "      <td>0.500193</td>\n",
       "      <td>0.498328</td>\n",
       "      <td>0.500104</td>\n",
       "    </tr>\n",
       "    <tr>\n",
       "      <th>min</th>\n",
       "      <td>0.000000</td>\n",
       "      <td>0.000000</td>\n",
       "      <td>0.000000</td>\n",
       "      <td>0.000000</td>\n",
       "      <td>0.000000</td>\n",
       "    </tr>\n",
       "    <tr>\n",
       "      <th>25%</th>\n",
       "      <td>0.000000</td>\n",
       "      <td>0.000000</td>\n",
       "      <td>0.000000</td>\n",
       "      <td>0.000000</td>\n",
       "      <td>0.000000</td>\n",
       "    </tr>\n",
       "    <tr>\n",
       "      <th>50%</th>\n",
       "      <td>0.000000</td>\n",
       "      <td>0.000000</td>\n",
       "      <td>1.000000</td>\n",
       "      <td>1.000000</td>\n",
       "      <td>1.000000</td>\n",
       "    </tr>\n",
       "    <tr>\n",
       "      <th>75%</th>\n",
       "      <td>1.000000</td>\n",
       "      <td>1.000000</td>\n",
       "      <td>1.000000</td>\n",
       "      <td>1.000000</td>\n",
       "      <td>1.000000</td>\n",
       "    </tr>\n",
       "    <tr>\n",
       "      <th>max</th>\n",
       "      <td>1.000000</td>\n",
       "      <td>1.000000</td>\n",
       "      <td>1.000000</td>\n",
       "      <td>1.000000</td>\n",
       "      <td>1.000000</td>\n",
       "    </tr>\n",
       "    <tr>\n",
       "      <th rowspan=\"8\" valign=\"top\">Near_Location</th>\n",
       "      <th>count</th>\n",
       "      <td>561.000000</td>\n",
       "      <td>1050.000000</td>\n",
       "      <td>1132.000000</td>\n",
       "      <td>871.000000</td>\n",
       "      <td>386.000000</td>\n",
       "    </tr>\n",
       "    <tr>\n",
       "      <th>mean</th>\n",
       "      <td>0.000000</td>\n",
       "      <td>0.995238</td>\n",
       "      <td>1.000000</td>\n",
       "      <td>1.000000</td>\n",
       "      <td>0.862694</td>\n",
       "    </tr>\n",
       "    <tr>\n",
       "      <th>std</th>\n",
       "      <td>0.000000</td>\n",
       "      <td>0.068875</td>\n",
       "      <td>0.000000</td>\n",
       "      <td>0.000000</td>\n",
       "      <td>0.344616</td>\n",
       "    </tr>\n",
       "    <tr>\n",
       "      <th>min</th>\n",
       "      <td>0.000000</td>\n",
       "      <td>0.000000</td>\n",
       "      <td>1.000000</td>\n",
       "      <td>1.000000</td>\n",
       "      <td>0.000000</td>\n",
       "    </tr>\n",
       "    <tr>\n",
       "      <th>25%</th>\n",
       "      <td>0.000000</td>\n",
       "      <td>1.000000</td>\n",
       "      <td>1.000000</td>\n",
       "      <td>1.000000</td>\n",
       "      <td>1.000000</td>\n",
       "    </tr>\n",
       "    <tr>\n",
       "      <th>50%</th>\n",
       "      <td>0.000000</td>\n",
       "      <td>1.000000</td>\n",
       "      <td>1.000000</td>\n",
       "      <td>1.000000</td>\n",
       "      <td>1.000000</td>\n",
       "    </tr>\n",
       "    <tr>\n",
       "      <th>75%</th>\n",
       "      <td>0.000000</td>\n",
       "      <td>1.000000</td>\n",
       "      <td>1.000000</td>\n",
       "      <td>1.000000</td>\n",
       "      <td>1.000000</td>\n",
       "    </tr>\n",
       "    <tr>\n",
       "      <th>max</th>\n",
       "      <td>0.000000</td>\n",
       "      <td>1.000000</td>\n",
       "      <td>1.000000</td>\n",
       "      <td>1.000000</td>\n",
       "      <td>1.000000</td>\n",
       "    </tr>\n",
       "    <tr>\n",
       "      <th rowspan=\"8\" valign=\"top\">Partner</th>\n",
       "      <th>count</th>\n",
       "      <td>561.000000</td>\n",
       "      <td>1050.000000</td>\n",
       "      <td>1132.000000</td>\n",
       "      <td>871.000000</td>\n",
       "      <td>386.000000</td>\n",
       "    </tr>\n",
       "    <tr>\n",
       "      <th>mean</th>\n",
       "      <td>0.488414</td>\n",
       "      <td>0.955238</td>\n",
       "      <td>0.238516</td>\n",
       "      <td>0.250287</td>\n",
       "      <td>0.471503</td>\n",
       "    </tr>\n",
       "    <tr>\n",
       "      <th>std</th>\n",
       "      <td>0.500312</td>\n",
       "      <td>0.206879</td>\n",
       "      <td>0.426364</td>\n",
       "      <td>0.433427</td>\n",
       "      <td>0.499835</td>\n",
       "    </tr>\n",
       "    <tr>\n",
       "      <th>min</th>\n",
       "      <td>0.000000</td>\n",
       "      <td>0.000000</td>\n",
       "      <td>0.000000</td>\n",
       "      <td>0.000000</td>\n",
       "      <td>0.000000</td>\n",
       "    </tr>\n",
       "    <tr>\n",
       "      <th>25%</th>\n",
       "      <td>0.000000</td>\n",
       "      <td>1.000000</td>\n",
       "      <td>0.000000</td>\n",
       "      <td>0.000000</td>\n",
       "      <td>0.000000</td>\n",
       "    </tr>\n",
       "    <tr>\n",
       "      <th>50%</th>\n",
       "      <td>0.000000</td>\n",
       "      <td>1.000000</td>\n",
       "      <td>0.000000</td>\n",
       "      <td>0.000000</td>\n",
       "      <td>0.000000</td>\n",
       "    </tr>\n",
       "    <tr>\n",
       "      <th>75%</th>\n",
       "      <td>1.000000</td>\n",
       "      <td>1.000000</td>\n",
       "      <td>0.000000</td>\n",
       "      <td>0.500000</td>\n",
       "      <td>1.000000</td>\n",
       "    </tr>\n",
       "    <tr>\n",
       "      <th>max</th>\n",
       "      <td>1.000000</td>\n",
       "      <td>1.000000</td>\n",
       "      <td>1.000000</td>\n",
       "      <td>1.000000</td>\n",
       "      <td>1.000000</td>\n",
       "    </tr>\n",
       "    <tr>\n",
       "      <th rowspan=\"8\" valign=\"top\">Promo_friends</th>\n",
       "      <th>count</th>\n",
       "      <td>561.000000</td>\n",
       "      <td>1050.000000</td>\n",
       "      <td>1132.000000</td>\n",
       "      <td>871.000000</td>\n",
       "      <td>386.000000</td>\n",
       "    </tr>\n",
       "    <tr>\n",
       "      <th>mean</th>\n",
       "      <td>0.076649</td>\n",
       "      <td>0.892381</td>\n",
       "      <td>0.059187</td>\n",
       "      <td>0.079219</td>\n",
       "      <td>0.305699</td>\n",
       "    </tr>\n",
       "    <tr>\n",
       "      <th>std</th>\n",
       "      <td>0.266271</td>\n",
       "      <td>0.310046</td>\n",
       "      <td>0.236079</td>\n",
       "      <td>0.270236</td>\n",
       "      <td>0.461301</td>\n",
       "    </tr>\n",
       "    <tr>\n",
       "      <th>min</th>\n",
       "      <td>0.000000</td>\n",
       "      <td>0.000000</td>\n",
       "      <td>0.000000</td>\n",
       "      <td>0.000000</td>\n",
       "      <td>0.000000</td>\n",
       "    </tr>\n",
       "    <tr>\n",
       "      <th>25%</th>\n",
       "      <td>0.000000</td>\n",
       "      <td>1.000000</td>\n",
       "      <td>0.000000</td>\n",
       "      <td>0.000000</td>\n",
       "      <td>0.000000</td>\n",
       "    </tr>\n",
       "    <tr>\n",
       "      <th>50%</th>\n",
       "      <td>0.000000</td>\n",
       "      <td>1.000000</td>\n",
       "      <td>0.000000</td>\n",
       "      <td>0.000000</td>\n",
       "      <td>0.000000</td>\n",
       "    </tr>\n",
       "    <tr>\n",
       "      <th>75%</th>\n",
       "      <td>0.000000</td>\n",
       "      <td>1.000000</td>\n",
       "      <td>0.000000</td>\n",
       "      <td>0.000000</td>\n",
       "      <td>1.000000</td>\n",
       "    </tr>\n",
       "    <tr>\n",
       "      <th>max</th>\n",
       "      <td>1.000000</td>\n",
       "      <td>1.000000</td>\n",
       "      <td>1.000000</td>\n",
       "      <td>1.000000</td>\n",
       "      <td>1.000000</td>\n",
       "    </tr>\n",
       "    <tr>\n",
       "      <th rowspan=\"8\" valign=\"top\">Phone</th>\n",
       "      <th>count</th>\n",
       "      <td>561.000000</td>\n",
       "      <td>1050.000000</td>\n",
       "      <td>1132.000000</td>\n",
       "      <td>871.000000</td>\n",
       "      <td>386.000000</td>\n",
       "    </tr>\n",
       "    <tr>\n",
       "      <th>mean</th>\n",
       "      <td>1.000000</td>\n",
       "      <td>1.000000</td>\n",
       "      <td>1.000000</td>\n",
       "      <td>1.000000</td>\n",
       "      <td>0.000000</td>\n",
       "    </tr>\n",
       "    <tr>\n",
       "      <th>std</th>\n",
       "      <td>0.000000</td>\n",
       "      <td>0.000000</td>\n",
       "      <td>0.000000</td>\n",
       "      <td>0.000000</td>\n",
       "      <td>0.000000</td>\n",
       "    </tr>\n",
       "    <tr>\n",
       "      <th>min</th>\n",
       "      <td>1.000000</td>\n",
       "      <td>1.000000</td>\n",
       "      <td>1.000000</td>\n",
       "      <td>1.000000</td>\n",
       "      <td>0.000000</td>\n",
       "    </tr>\n",
       "    <tr>\n",
       "      <th>25%</th>\n",
       "      <td>1.000000</td>\n",
       "      <td>1.000000</td>\n",
       "      <td>1.000000</td>\n",
       "      <td>1.000000</td>\n",
       "      <td>0.000000</td>\n",
       "    </tr>\n",
       "    <tr>\n",
       "      <th>50%</th>\n",
       "      <td>1.000000</td>\n",
       "      <td>1.000000</td>\n",
       "      <td>1.000000</td>\n",
       "      <td>1.000000</td>\n",
       "      <td>0.000000</td>\n",
       "    </tr>\n",
       "    <tr>\n",
       "      <th>75%</th>\n",
       "      <td>1.000000</td>\n",
       "      <td>1.000000</td>\n",
       "      <td>1.000000</td>\n",
       "      <td>1.000000</td>\n",
       "      <td>0.000000</td>\n",
       "    </tr>\n",
       "    <tr>\n",
       "      <th>max</th>\n",
       "      <td>1.000000</td>\n",
       "      <td>1.000000</td>\n",
       "      <td>1.000000</td>\n",
       "      <td>1.000000</td>\n",
       "      <td>0.000000</td>\n",
       "    </tr>\n",
       "    <tr>\n",
       "      <th rowspan=\"8\" valign=\"top\">Contract_period</th>\n",
       "      <th>count</th>\n",
       "      <td>561.000000</td>\n",
       "      <td>1050.000000</td>\n",
       "      <td>1132.000000</td>\n",
       "      <td>871.000000</td>\n",
       "      <td>386.000000</td>\n",
       "    </tr>\n",
       "    <tr>\n",
       "      <th>mean</th>\n",
       "      <td>3.032086</td>\n",
       "      <td>7.660952</td>\n",
       "      <td>2.819788</td>\n",
       "      <td>4.528129</td>\n",
       "      <td>4.777202</td>\n",
       "    </tr>\n",
       "    <tr>\n",
       "      <th>std</th>\n",
       "      <td>3.538922</td>\n",
       "      <td>4.679153</td>\n",
       "      <td>3.323314</td>\n",
       "      <td>4.496622</td>\n",
       "      <td>4.535814</td>\n",
       "    </tr>\n",
       "    <tr>\n",
       "      <th>min</th>\n",
       "      <td>1.000000</td>\n",
       "      <td>1.000000</td>\n",
       "      <td>1.000000</td>\n",
       "      <td>1.000000</td>\n",
       "      <td>1.000000</td>\n",
       "    </tr>\n",
       "    <tr>\n",
       "      <th>25%</th>\n",
       "      <td>1.000000</td>\n",
       "      <td>1.000000</td>\n",
       "      <td>1.000000</td>\n",
       "      <td>1.000000</td>\n",
       "      <td>1.000000</td>\n",
       "    </tr>\n",
       "    <tr>\n",
       "      <th>50%</th>\n",
       "      <td>1.000000</td>\n",
       "      <td>6.000000</td>\n",
       "      <td>1.000000</td>\n",
       "      <td>1.000000</td>\n",
       "      <td>1.000000</td>\n",
       "    </tr>\n",
       "    <tr>\n",
       "      <th>75%</th>\n",
       "      <td>6.000000</td>\n",
       "      <td>12.000000</td>\n",
       "      <td>6.000000</td>\n",
       "      <td>6.000000</td>\n",
       "      <td>6.000000</td>\n",
       "    </tr>\n",
       "    <tr>\n",
       "      <th>max</th>\n",
       "      <td>12.000000</td>\n",
       "      <td>12.000000</td>\n",
       "      <td>12.000000</td>\n",
       "      <td>12.000000</td>\n",
       "      <td>12.000000</td>\n",
       "    </tr>\n",
       "    <tr>\n",
       "      <th rowspan=\"8\" valign=\"top\">Group_visits</th>\n",
       "      <th>count</th>\n",
       "      <td>561.000000</td>\n",
       "      <td>1050.000000</td>\n",
       "      <td>1132.000000</td>\n",
       "      <td>871.000000</td>\n",
       "      <td>386.000000</td>\n",
       "    </tr>\n",
       "    <tr>\n",
       "      <th>mean</th>\n",
       "      <td>0.235294</td>\n",
       "      <td>0.458095</td>\n",
       "      <td>0.000000</td>\n",
       "      <td>1.000000</td>\n",
       "      <td>0.427461</td>\n",
       "    </tr>\n",
       "    <tr>\n",
       "      <th>std</th>\n",
       "      <td>0.424561</td>\n",
       "      <td>0.498478</td>\n",
       "      <td>0.000000</td>\n",
       "      <td>0.000000</td>\n",
       "      <td>0.495352</td>\n",
       "    </tr>\n",
       "    <tr>\n",
       "      <th>min</th>\n",
       "      <td>0.000000</td>\n",
       "      <td>0.000000</td>\n",
       "      <td>0.000000</td>\n",
       "      <td>1.000000</td>\n",
       "      <td>0.000000</td>\n",
       "    </tr>\n",
       "    <tr>\n",
       "      <th>25%</th>\n",
       "      <td>0.000000</td>\n",
       "      <td>0.000000</td>\n",
       "      <td>0.000000</td>\n",
       "      <td>1.000000</td>\n",
       "      <td>0.000000</td>\n",
       "    </tr>\n",
       "    <tr>\n",
       "      <th>50%</th>\n",
       "      <td>0.000000</td>\n",
       "      <td>0.000000</td>\n",
       "      <td>0.000000</td>\n",
       "      <td>1.000000</td>\n",
       "      <td>0.000000</td>\n",
       "    </tr>\n",
       "    <tr>\n",
       "      <th>75%</th>\n",
       "      <td>0.000000</td>\n",
       "      <td>1.000000</td>\n",
       "      <td>0.000000</td>\n",
       "      <td>1.000000</td>\n",
       "      <td>1.000000</td>\n",
       "    </tr>\n",
       "    <tr>\n",
       "      <th>max</th>\n",
       "      <td>1.000000</td>\n",
       "      <td>1.000000</td>\n",
       "      <td>0.000000</td>\n",
       "      <td>1.000000</td>\n",
       "      <td>1.000000</td>\n",
       "    </tr>\n",
       "    <tr>\n",
       "      <th rowspan=\"8\" valign=\"top\">Age</th>\n",
       "      <th>count</th>\n",
       "      <td>561.000000</td>\n",
       "      <td>1050.000000</td>\n",
       "      <td>1132.000000</td>\n",
       "      <td>871.000000</td>\n",
       "      <td>386.000000</td>\n",
       "    </tr>\n",
       "    <tr>\n",
       "      <th>mean</th>\n",
       "      <td>28.721925</td>\n",
       "      <td>29.543810</td>\n",
       "      <td>28.770318</td>\n",
       "      <td>29.536165</td>\n",
       "      <td>29.297927</td>\n",
       "    </tr>\n",
       "    <tr>\n",
       "      <th>std</th>\n",
       "      <td>3.231160</td>\n",
       "      <td>3.154805</td>\n",
       "      <td>3.218850</td>\n",
       "      <td>3.397533</td>\n",
       "      <td>3.160938</td>\n",
       "    </tr>\n",
       "    <tr>\n",
       "      <th>min</th>\n",
       "      <td>18.000000</td>\n",
       "      <td>20.000000</td>\n",
       "      <td>18.000000</td>\n",
       "      <td>19.000000</td>\n",
       "      <td>20.000000</td>\n",
       "    </tr>\n",
       "    <tr>\n",
       "      <th>25%</th>\n",
       "      <td>27.000000</td>\n",
       "      <td>27.000000</td>\n",
       "      <td>27.000000</td>\n",
       "      <td>27.000000</td>\n",
       "      <td>27.000000</td>\n",
       "    </tr>\n",
       "    <tr>\n",
       "      <th>50%</th>\n",
       "      <td>29.000000</td>\n",
       "      <td>30.000000</td>\n",
       "      <td>29.000000</td>\n",
       "      <td>30.000000</td>\n",
       "      <td>29.000000</td>\n",
       "    </tr>\n",
       "    <tr>\n",
       "      <th>75%</th>\n",
       "      <td>31.000000</td>\n",
       "      <td>32.000000</td>\n",
       "      <td>31.000000</td>\n",
       "      <td>32.000000</td>\n",
       "      <td>31.000000</td>\n",
       "    </tr>\n",
       "    <tr>\n",
       "      <th>max</th>\n",
       "      <td>39.000000</td>\n",
       "      <td>39.000000</td>\n",
       "      <td>38.000000</td>\n",
       "      <td>41.000000</td>\n",
       "      <td>38.000000</td>\n",
       "    </tr>\n",
       "    <tr>\n",
       "      <th rowspan=\"8\" valign=\"top\">Avg_additional_charges_total</th>\n",
       "      <th>count</th>\n",
       "      <td>561.000000</td>\n",
       "      <td>1050.000000</td>\n",
       "      <td>1132.000000</td>\n",
       "      <td>871.000000</td>\n",
       "      <td>386.000000</td>\n",
       "    </tr>\n",
       "    <tr>\n",
       "      <th>mean</th>\n",
       "      <td>137.540009</td>\n",
       "      <td>155.861428</td>\n",
       "      <td>143.383993</td>\n",
       "      <td>148.088897</td>\n",
       "      <td>144.208179</td>\n",
       "    </tr>\n",
       "    <tr>\n",
       "      <th>std</th>\n",
       "      <td>96.791242</td>\n",
       "      <td>99.675646</td>\n",
       "      <td>93.246871</td>\n",
       "      <td>96.272341</td>\n",
       "      <td>94.124743</td>\n",
       "    </tr>\n",
       "    <tr>\n",
       "      <th>min</th>\n",
       "      <td>0.972250</td>\n",
       "      <td>0.148205</td>\n",
       "      <td>0.334824</td>\n",
       "      <td>0.171862</td>\n",
       "      <td>1.767654</td>\n",
       "    </tr>\n",
       "    <tr>\n",
       "      <th>25%</th>\n",
       "      <td>59.202259</td>\n",
       "      <td>73.647707</td>\n",
       "      <td>66.024545</td>\n",
       "      <td>71.226644</td>\n",
       "      <td>71.090935</td>\n",
       "    </tr>\n",
       "    <tr>\n",
       "      <th>50%</th>\n",
       "      <td>124.323490</td>\n",
       "      <td>149.350291</td>\n",
       "      <td>130.568393</td>\n",
       "      <td>139.825895</td>\n",
       "      <td>137.016545</td>\n",
       "    </tr>\n",
       "    <tr>\n",
       "      <th>75%</th>\n",
       "      <td>196.660938</td>\n",
       "      <td>225.327790</td>\n",
       "      <td>207.864023</td>\n",
       "      <td>208.751363</td>\n",
       "      <td>204.014435</td>\n",
       "    </tr>\n",
       "    <tr>\n",
       "      <th>max</th>\n",
       "      <td>552.590740</td>\n",
       "      <td>488.708175</td>\n",
       "      <td>476.432655</td>\n",
       "      <td>472.318897</td>\n",
       "      <td>496.172222</td>\n",
       "    </tr>\n",
       "    <tr>\n",
       "      <th rowspan=\"8\" valign=\"top\">Lifetime</th>\n",
       "      <th>count</th>\n",
       "      <td>561.000000</td>\n",
       "      <td>1050.000000</td>\n",
       "      <td>1132.000000</td>\n",
       "      <td>871.000000</td>\n",
       "      <td>386.000000</td>\n",
       "    </tr>\n",
       "    <tr>\n",
       "      <th>mean</th>\n",
       "      <td>3.060606</td>\n",
       "      <td>4.380952</td>\n",
       "      <td>3.343640</td>\n",
       "      <td>3.761194</td>\n",
       "      <td>3.940415</td>\n",
       "    </tr>\n",
       "    <tr>\n",
       "      <th>std</th>\n",
       "      <td>3.332722</td>\n",
       "      <td>3.830740</td>\n",
       "      <td>3.676258</td>\n",
       "      <td>3.730632</td>\n",
       "      <td>4.052778</td>\n",
       "    </tr>\n",
       "    <tr>\n",
       "      <th>min</th>\n",
       "      <td>0.000000</td>\n",
       "      <td>0.000000</td>\n",
       "      <td>0.000000</td>\n",
       "      <td>0.000000</td>\n",
       "      <td>0.000000</td>\n",
       "    </tr>\n",
       "    <tr>\n",
       "      <th>25%</th>\n",
       "      <td>1.000000</td>\n",
       "      <td>1.000000</td>\n",
       "      <td>1.000000</td>\n",
       "      <td>1.000000</td>\n",
       "      <td>1.000000</td>\n",
       "    </tr>\n",
       "    <tr>\n",
       "      <th>50%</th>\n",
       "      <td>2.000000</td>\n",
       "      <td>3.000000</td>\n",
       "      <td>2.000000</td>\n",
       "      <td>3.000000</td>\n",
       "      <td>3.000000</td>\n",
       "    </tr>\n",
       "    <tr>\n",
       "      <th>75%</th>\n",
       "      <td>4.000000</td>\n",
       "      <td>6.000000</td>\n",
       "      <td>5.000000</td>\n",
       "      <td>5.000000</td>\n",
       "      <td>5.000000</td>\n",
       "    </tr>\n",
       "    <tr>\n",
       "      <th>max</th>\n",
       "      <td>24.000000</td>\n",
       "      <td>27.000000</td>\n",
       "      <td>31.000000</td>\n",
       "      <td>24.000000</td>\n",
       "      <td>26.000000</td>\n",
       "    </tr>\n",
       "    <tr>\n",
       "      <th rowspan=\"8\" valign=\"top\">Avg_class_frequency_total</th>\n",
       "      <th>count</th>\n",
       "      <td>561.000000</td>\n",
       "      <td>1050.000000</td>\n",
       "      <td>1132.000000</td>\n",
       "      <td>871.000000</td>\n",
       "      <td>386.000000</td>\n",
       "    </tr>\n",
       "    <tr>\n",
       "      <th>mean</th>\n",
       "      <td>1.770413</td>\n",
       "      <td>1.978963</td>\n",
       "      <td>1.800647</td>\n",
       "      <td>1.941342</td>\n",
       "      <td>1.854211</td>\n",
       "    </tr>\n",
       "    <tr>\n",
       "      <th>std</th>\n",
       "      <td>0.934093</td>\n",
       "      <td>1.024104</td>\n",
       "      <td>0.932946</td>\n",
       "      <td>0.983473</td>\n",
       "      <td>0.936601</td>\n",
       "    </tr>\n",
       "    <tr>\n",
       "      <th>min</th>\n",
       "      <td>0.000000</td>\n",
       "      <td>0.000000</td>\n",
       "      <td>0.000000</td>\n",
       "      <td>0.000000</td>\n",
       "      <td>0.000000</td>\n",
       "    </tr>\n",
       "    <tr>\n",
       "      <th>25%</th>\n",
       "      <td>1.110288</td>\n",
       "      <td>1.206714</td>\n",
       "      <td>1.144093</td>\n",
       "      <td>1.215521</td>\n",
       "      <td>1.210427</td>\n",
       "    </tr>\n",
       "    <tr>\n",
       "      <th>50%</th>\n",
       "      <td>1.671651</td>\n",
       "      <td>1.945310</td>\n",
       "      <td>1.769141</td>\n",
       "      <td>1.922936</td>\n",
       "      <td>1.824012</td>\n",
       "    </tr>\n",
       "    <tr>\n",
       "      <th>75%</th>\n",
       "      <td>2.365245</td>\n",
       "      <td>2.677483</td>\n",
       "      <td>2.427429</td>\n",
       "      <td>2.604474</td>\n",
       "      <td>2.414739</td>\n",
       "    </tr>\n",
       "    <tr>\n",
       "      <th>max</th>\n",
       "      <td>4.698029</td>\n",
       "      <td>6.023668</td>\n",
       "      <td>5.421898</td>\n",
       "      <td>5.410054</td>\n",
       "      <td>4.793780</td>\n",
       "    </tr>\n",
       "    <tr>\n",
       "      <th rowspan=\"8\" valign=\"top\">Churn</th>\n",
       "      <th>count</th>\n",
       "      <td>561.000000</td>\n",
       "      <td>1050.000000</td>\n",
       "      <td>1132.000000</td>\n",
       "      <td>871.000000</td>\n",
       "      <td>386.000000</td>\n",
       "    </tr>\n",
       "    <tr>\n",
       "      <th>mean</th>\n",
       "      <td>0.399287</td>\n",
       "      <td>0.120952</td>\n",
       "      <td>0.381625</td>\n",
       "      <td>0.200918</td>\n",
       "      <td>0.266839</td>\n",
       "    </tr>\n",
       "    <tr>\n",
       "      <th>std</th>\n",
       "      <td>0.490189</td>\n",
       "      <td>0.326227</td>\n",
       "      <td>0.486000</td>\n",
       "      <td>0.400917</td>\n",
       "      <td>0.442882</td>\n",
       "    </tr>\n",
       "    <tr>\n",
       "      <th>min</th>\n",
       "      <td>0.000000</td>\n",
       "      <td>0.000000</td>\n",
       "      <td>0.000000</td>\n",
       "      <td>0.000000</td>\n",
       "      <td>0.000000</td>\n",
       "    </tr>\n",
       "    <tr>\n",
       "      <th>25%</th>\n",
       "      <td>0.000000</td>\n",
       "      <td>0.000000</td>\n",
       "      <td>0.000000</td>\n",
       "      <td>0.000000</td>\n",
       "      <td>0.000000</td>\n",
       "    </tr>\n",
       "    <tr>\n",
       "      <th>50%</th>\n",
       "      <td>0.000000</td>\n",
       "      <td>0.000000</td>\n",
       "      <td>0.000000</td>\n",
       "      <td>0.000000</td>\n",
       "      <td>0.000000</td>\n",
       "    </tr>\n",
       "    <tr>\n",
       "      <th>75%</th>\n",
       "      <td>1.000000</td>\n",
       "      <td>0.000000</td>\n",
       "      <td>1.000000</td>\n",
       "      <td>0.000000</td>\n",
       "      <td>1.000000</td>\n",
       "    </tr>\n",
       "    <tr>\n",
       "      <th>max</th>\n",
       "      <td>1.000000</td>\n",
       "      <td>1.000000</td>\n",
       "      <td>1.000000</td>\n",
       "      <td>1.000000</td>\n",
       "      <td>1.000000</td>\n",
       "    </tr>\n",
       "  </tbody>\n",
       "</table>\n",
       "</div>"
      ],
      "text/plain": [
       "cluster                                      0            1            2  \\\n",
       "gender                       count  561.000000  1050.000000  1132.000000   \n",
       "                             mean     0.499109     0.488571     0.505300   \n",
       "                             std      0.500445     0.500108     0.500193   \n",
       "                             min      0.000000     0.000000     0.000000   \n",
       "                             25%      0.000000     0.000000     0.000000   \n",
       "                             50%      0.000000     0.000000     1.000000   \n",
       "                             75%      1.000000     1.000000     1.000000   \n",
       "                             max      1.000000     1.000000     1.000000   \n",
       "Near_Location                count  561.000000  1050.000000  1132.000000   \n",
       "                             mean     0.000000     0.995238     1.000000   \n",
       "                             std      0.000000     0.068875     0.000000   \n",
       "                             min      0.000000     0.000000     1.000000   \n",
       "                             25%      0.000000     1.000000     1.000000   \n",
       "                             50%      0.000000     1.000000     1.000000   \n",
       "                             75%      0.000000     1.000000     1.000000   \n",
       "                             max      0.000000     1.000000     1.000000   \n",
       "Partner                      count  561.000000  1050.000000  1132.000000   \n",
       "                             mean     0.488414     0.955238     0.238516   \n",
       "                             std      0.500312     0.206879     0.426364   \n",
       "                             min      0.000000     0.000000     0.000000   \n",
       "                             25%      0.000000     1.000000     0.000000   \n",
       "                             50%      0.000000     1.000000     0.000000   \n",
       "                             75%      1.000000     1.000000     0.000000   \n",
       "                             max      1.000000     1.000000     1.000000   \n",
       "Promo_friends                count  561.000000  1050.000000  1132.000000   \n",
       "                             mean     0.076649     0.892381     0.059187   \n",
       "                             std      0.266271     0.310046     0.236079   \n",
       "                             min      0.000000     0.000000     0.000000   \n",
       "                             25%      0.000000     1.000000     0.000000   \n",
       "                             50%      0.000000     1.000000     0.000000   \n",
       "                             75%      0.000000     1.000000     0.000000   \n",
       "                             max      1.000000     1.000000     1.000000   \n",
       "Phone                        count  561.000000  1050.000000  1132.000000   \n",
       "                             mean     1.000000     1.000000     1.000000   \n",
       "                             std      0.000000     0.000000     0.000000   \n",
       "                             min      1.000000     1.000000     1.000000   \n",
       "                             25%      1.000000     1.000000     1.000000   \n",
       "                             50%      1.000000     1.000000     1.000000   \n",
       "                             75%      1.000000     1.000000     1.000000   \n",
       "                             max      1.000000     1.000000     1.000000   \n",
       "Contract_period              count  561.000000  1050.000000  1132.000000   \n",
       "                             mean     3.032086     7.660952     2.819788   \n",
       "                             std      3.538922     4.679153     3.323314   \n",
       "                             min      1.000000     1.000000     1.000000   \n",
       "                             25%      1.000000     1.000000     1.000000   \n",
       "                             50%      1.000000     6.000000     1.000000   \n",
       "                             75%      6.000000    12.000000     6.000000   \n",
       "                             max     12.000000    12.000000    12.000000   \n",
       "Group_visits                 count  561.000000  1050.000000  1132.000000   \n",
       "                             mean     0.235294     0.458095     0.000000   \n",
       "                             std      0.424561     0.498478     0.000000   \n",
       "                             min      0.000000     0.000000     0.000000   \n",
       "                             25%      0.000000     0.000000     0.000000   \n",
       "                             50%      0.000000     0.000000     0.000000   \n",
       "                             75%      0.000000     1.000000     0.000000   \n",
       "                             max      1.000000     1.000000     0.000000   \n",
       "Age                          count  561.000000  1050.000000  1132.000000   \n",
       "                             mean    28.721925    29.543810    28.770318   \n",
       "                             std      3.231160     3.154805     3.218850   \n",
       "                             min     18.000000    20.000000    18.000000   \n",
       "                             25%     27.000000    27.000000    27.000000   \n",
       "                             50%     29.000000    30.000000    29.000000   \n",
       "                             75%     31.000000    32.000000    31.000000   \n",
       "                             max     39.000000    39.000000    38.000000   \n",
       "Avg_additional_charges_total count  561.000000  1050.000000  1132.000000   \n",
       "                             mean   137.540009   155.861428   143.383993   \n",
       "                             std     96.791242    99.675646    93.246871   \n",
       "                             min      0.972250     0.148205     0.334824   \n",
       "                             25%     59.202259    73.647707    66.024545   \n",
       "                             50%    124.323490   149.350291   130.568393   \n",
       "                             75%    196.660938   225.327790   207.864023   \n",
       "                             max    552.590740   488.708175   476.432655   \n",
       "Lifetime                     count  561.000000  1050.000000  1132.000000   \n",
       "                             mean     3.060606     4.380952     3.343640   \n",
       "                             std      3.332722     3.830740     3.676258   \n",
       "                             min      0.000000     0.000000     0.000000   \n",
       "                             25%      1.000000     1.000000     1.000000   \n",
       "                             50%      2.000000     3.000000     2.000000   \n",
       "                             75%      4.000000     6.000000     5.000000   \n",
       "                             max     24.000000    27.000000    31.000000   \n",
       "Avg_class_frequency_total    count  561.000000  1050.000000  1132.000000   \n",
       "                             mean     1.770413     1.978963     1.800647   \n",
       "                             std      0.934093     1.024104     0.932946   \n",
       "                             min      0.000000     0.000000     0.000000   \n",
       "                             25%      1.110288     1.206714     1.144093   \n",
       "                             50%      1.671651     1.945310     1.769141   \n",
       "                             75%      2.365245     2.677483     2.427429   \n",
       "                             max      4.698029     6.023668     5.421898   \n",
       "Churn                        count  561.000000  1050.000000  1132.000000   \n",
       "                             mean     0.399287     0.120952     0.381625   \n",
       "                             std      0.490189     0.326227     0.486000   \n",
       "                             min      0.000000     0.000000     0.000000   \n",
       "                             25%      0.000000     0.000000     0.000000   \n",
       "                             50%      0.000000     0.000000     0.000000   \n",
       "                             75%      1.000000     0.000000     1.000000   \n",
       "                             max      1.000000     1.000000     1.000000   \n",
       "\n",
       "cluster                                      3           4  \n",
       "gender                       count  871.000000  386.000000  \n",
       "                             mean     0.544202    0.523316  \n",
       "                             std      0.498328    0.500104  \n",
       "                             min      0.000000    0.000000  \n",
       "                             25%      0.000000    0.000000  \n",
       "                             50%      1.000000    1.000000  \n",
       "                             75%      1.000000    1.000000  \n",
       "                             max      1.000000    1.000000  \n",
       "Near_Location                count  871.000000  386.000000  \n",
       "                             mean     1.000000    0.862694  \n",
       "                             std      0.000000    0.344616  \n",
       "                             min      1.000000    0.000000  \n",
       "                             25%      1.000000    1.000000  \n",
       "                             50%      1.000000    1.000000  \n",
       "                             75%      1.000000    1.000000  \n",
       "                             max      1.000000    1.000000  \n",
       "Partner                      count  871.000000  386.000000  \n",
       "                             mean     0.250287    0.471503  \n",
       "                             std      0.433427    0.499835  \n",
       "                             min      0.000000    0.000000  \n",
       "                             25%      0.000000    0.000000  \n",
       "                             50%      0.000000    0.000000  \n",
       "                             75%      0.500000    1.000000  \n",
       "                             max      1.000000    1.000000  \n",
       "Promo_friends                count  871.000000  386.000000  \n",
       "                             mean     0.079219    0.305699  \n",
       "                             std      0.270236    0.461301  \n",
       "                             min      0.000000    0.000000  \n",
       "                             25%      0.000000    0.000000  \n",
       "                             50%      0.000000    0.000000  \n",
       "                             75%      0.000000    1.000000  \n",
       "                             max      1.000000    1.000000  \n",
       "Phone                        count  871.000000  386.000000  \n",
       "                             mean     1.000000    0.000000  \n",
       "                             std      0.000000    0.000000  \n",
       "                             min      1.000000    0.000000  \n",
       "                             25%      1.000000    0.000000  \n",
       "                             50%      1.000000    0.000000  \n",
       "                             75%      1.000000    0.000000  \n",
       "                             max      1.000000    0.000000  \n",
       "Contract_period              count  871.000000  386.000000  \n",
       "                             mean     4.528129    4.777202  \n",
       "                             std      4.496622    4.535814  \n",
       "                             min      1.000000    1.000000  \n",
       "                             25%      1.000000    1.000000  \n",
       "                             50%      1.000000    1.000000  \n",
       "                             75%      6.000000    6.000000  \n",
       "                             max     12.000000   12.000000  \n",
       "Group_visits                 count  871.000000  386.000000  \n",
       "                             mean     1.000000    0.427461  \n",
       "                             std      0.000000    0.495352  \n",
       "                             min      1.000000    0.000000  \n",
       "                             25%      1.000000    0.000000  \n",
       "                             50%      1.000000    0.000000  \n",
       "                             75%      1.000000    1.000000  \n",
       "                             max      1.000000    1.000000  \n",
       "Age                          count  871.000000  386.000000  \n",
       "                             mean    29.536165   29.297927  \n",
       "                             std      3.397533    3.160938  \n",
       "                             min     19.000000   20.000000  \n",
       "                             25%     27.000000   27.000000  \n",
       "                             50%     30.000000   29.000000  \n",
       "                             75%     32.000000   31.000000  \n",
       "                             max     41.000000   38.000000  \n",
       "Avg_additional_charges_total count  871.000000  386.000000  \n",
       "                             mean   148.088897  144.208179  \n",
       "                             std     96.272341   94.124743  \n",
       "                             min      0.171862    1.767654  \n",
       "                             25%     71.226644   71.090935  \n",
       "                             50%    139.825895  137.016545  \n",
       "                             75%    208.751363  204.014435  \n",
       "                             max    472.318897  496.172222  \n",
       "Lifetime                     count  871.000000  386.000000  \n",
       "                             mean     3.761194    3.940415  \n",
       "                             std      3.730632    4.052778  \n",
       "                             min      0.000000    0.000000  \n",
       "                             25%      1.000000    1.000000  \n",
       "                             50%      3.000000    3.000000  \n",
       "                             75%      5.000000    5.000000  \n",
       "                             max     24.000000   26.000000  \n",
       "Avg_class_frequency_total    count  871.000000  386.000000  \n",
       "                             mean     1.941342    1.854211  \n",
       "                             std      0.983473    0.936601  \n",
       "                             min      0.000000    0.000000  \n",
       "                             25%      1.215521    1.210427  \n",
       "                             50%      1.922936    1.824012  \n",
       "                             75%      2.604474    2.414739  \n",
       "                             max      5.410054    4.793780  \n",
       "Churn                        count  871.000000  386.000000  \n",
       "                             mean     0.200918    0.266839  \n",
       "                             std      0.400917    0.442882  \n",
       "                             min      0.000000    0.000000  \n",
       "                             25%      0.000000    0.000000  \n",
       "                             50%      0.000000    0.000000  \n",
       "                             75%      0.000000    1.000000  \n",
       "                             max      1.000000    1.000000  "
      ]
     },
     "execution_count": 23,
     "metadata": {},
     "output_type": "execute_result"
    }
   ],
   "source": [
    "pd.options.display.max_rows = 104\n",
    "gym_df.groupby('cluster').describe().T"
   ]
  },
  {
   "cell_type": "markdown",
   "metadata": {},
   "source": [
    "There is a big difference in mean values for the 'partner' parameter, with those in cluster 2 and 3 having a low value of .24 and .25 and those in cluster 1 having a much higher value at .95(meaning most of them were affiliated with partner companies).\n",
    "\n",
    "Cluster 1 has the highest mean value for lifetime membership at 4.4 with clsuter 0 having the lowest at 3.06.\n",
    "\n",
    "When it comes to average additional charges, cluster 1 has the highest mean value at 155 with cluster 0 having the lowest at 137.5.\n",
    "\n",
    "Those in cluster 1 have a much higher contract period at a mean value of 7.67 while the other clusters have mean values that range from 2 to 4 which also lends to a higher mean value for month to end of contract. Cluster 3 had the highest mean value for group visits and cluster 2 had the lowest."
   ]
  },
  {
   "cell_type": "markdown",
   "metadata": {},
   "source": [
    "Now I am going to plot the distribution of the numerical features of each cluster."
   ]
  },
  {
   "cell_type": "code",
   "execution_count": 24,
   "metadata": {
    "scrolled": true
   },
   "outputs": [
    {
     "data": {
      "image/png": "[encoded data removed]",
      "text/plain": [
       "<Figure size 432x288 with 1 Axes>"
      ]
     },
     "metadata": {
      "needs_background": "light"
     },
     "output_type": "display_data"
    }
   ],
   "source": [
    "#Contract period\n",
    "sns.boxplot(data=gym_df, x='cluster', y='Contract_period')\n",
    "plt.title('Contract Period')\n",
    "plt.show()"
   ]
  },
  {
   "cell_type": "code",
   "execution_count": 25,
   "metadata": {
    "scrolled": true
   },
   "outputs": [
    {
     "data": {
      "image/png": "[encoded data removed]",
      "text/plain": [
       "<Figure size 432x288 with 1 Axes>"
      ]
     },
     "metadata": {
      "needs_background": "light"
     },
     "output_type": "display_data"
    }
   ],
   "source": [
    "#Group visits\n",
    "sns.boxplot(data=gym_df, x='cluster', y='Group_visits')\n",
    "plt.title('Group Visits')\n",
    "plt.show()"
   ]
  },
  {
   "cell_type": "code",
   "execution_count": 26,
   "metadata": {
    "scrolled": false
   },
   "outputs": [
    {
     "data": {
      "image/png": "[encoded data removed]",
      "text/plain": [
       "<Figure size 432x288 with 1 Axes>"
      ]
     },
     "metadata": {
      "needs_background": "light"
     },
     "output_type": "display_data"
    }
   ],
   "source": [
    "#Average Additional Charges Total\n",
    "sns.boxplot(data=gym_df, x='cluster', y='Avg_additional_charges_total')\n",
    "plt.title('Average Additional Charges Total')\n",
    "plt.show()"
   ]
  },
  {
   "cell_type": "code",
   "execution_count": 27,
   "metadata": {
    "scrolled": true
   },
   "outputs": [
    {
     "data": {
      "image/png": "[encoded data removed]",
      "text/plain": [
       "<Figure size 432x288 with 1 Axes>"
      ]
     },
     "metadata": {
      "needs_background": "light"
     },
     "output_type": "display_data"
    }
   ],
   "source": [
    "#Lifetime\n",
    "sns.boxplot(data=gym_df, x='cluster', y='Lifetime')\n",
    "plt.title('Lifetime')\n",
    "plt.show()"
   ]
  },
  {
   "cell_type": "code",
   "execution_count": 28,
   "metadata": {
    "scrolled": true
   },
   "outputs": [
    {
     "data": {
      "image/png": "[encoded data removed]",
      "text/plain": [
       "<Figure size 432x288 with 1 Axes>"
      ]
     },
     "metadata": {
      "needs_background": "light"
     },
     "output_type": "display_data"
    }
   ],
   "source": [
    "#Average Class Frequency Total\n",
    "sns.boxplot(data=gym_df, x='cluster', y='Avg_class_frequency_total')\n",
    "plt.title('Average Class Frequency Total')\n",
    "plt.show()"
   ]
  },
  {
   "cell_type": "code",
   "execution_count": 29,
   "metadata": {},
   "outputs": [
    {
     "data": {
      "image/png": "[encoded data removed]",
      "text/plain": [
       "<Figure size 432x288 with 1 Axes>"
      ]
     },
     "metadata": {
      "needs_background": "light"
     },
     "output_type": "display_data"
    }
   ],
   "source": [
    "#Age\n",
    "sns.boxplot(data=gym_df, x='cluster', y='Age')\n",
    "plt.title('Age')\n",
    "plt.show()"
   ]
  },
  {
   "cell_type": "markdown",
   "metadata": {},
   "source": [
    "For the most part these distributions are similar to the ones above where the Lifetime and average additional charges are skewed to the right. The age features tends to be normally distributed for all clusters.\n",
    "For average additional charges total cluster 0 has the most variance. Cluster 1 has the highest observation for average class frequency."
   ]
  },
  {
   "cell_type": "markdown",
   "metadata": {},
   "source": [
    "My final step will be calculating the churn rate for each cluster to see if they differ. This will also shend light on which clusters are prone to leaving.\n",
    "I will be calculating the churn rate within the individual clusters and also from the dataframe as a whole."
   ]
  },
  {
   "cell_type": "code",
   "execution_count": 36,
   "metadata": {},
   "outputs": [
    {
     "data": {
      "text/plain": [
       "cluster\n",
       "0    0.399287\n",
       "1    0.120952\n",
       "2    0.381625\n",
       "3    0.200918\n",
       "4    0.266839\n",
       "Name: Churn, dtype: float64"
      ]
     },
     "execution_count": 36,
     "metadata": {},
     "output_type": "execute_result"
    }
   ],
   "source": [
    "gym_df.groupby('cluster')['Churn'].mean()"
   ]
  },
  {
   "cell_type": "markdown",
   "metadata": {},
   "source": [
    "Churn rate for clusters:\n",
    "\n",
    "0- 40%\n",
    "\n",
    "1- 12%\n",
    "\n",
    "2- 38%\n",
    "\n",
    "3- 20%\n",
    "\n",
    "4- 27%\n",
    "\n",
    "There's a great difference between clusters with those 40% of clients in cluster 0 churning versus only 12% in cluster 1. Those prone to leaving belong in clusters 0 and 2, with those that are more likely to be loyal belonging to cluster 1 and 3. "
   ]
  },
  {
   "cell_type": "markdown",
   "metadata": {},
   "source": [
    "# Conclusions and Recommendations"
   ]
  },
  {
   "cell_type": "code",
   "execution_count": 35,
   "metadata": {},
   "outputs": [
    {
     "data": {
      "text/html": [
       "<div>\n",
       "<style scoped>\n",
       "    .dataframe tbody tr th:only-of-type {\n",
       "        vertical-align: middle;\n",
       "    }\n",
       "\n",
       "    .dataframe tbody tr th {\n",
       "        vertical-align: top;\n",
       "    }\n",
       "\n",
       "    .dataframe thead th {\n",
       "        text-align: right;\n",
       "    }\n",
       "</style>\n",
       "<table border=\"1\" class=\"dataframe\">\n",
       "  <thead>\n",
       "    <tr style=\"text-align: right;\">\n",
       "      <th></th>\n",
       "      <th>cluster</th>\n",
       "      <th>0</th>\n",
       "      <th>1</th>\n",
       "      <th>2</th>\n",
       "      <th>3</th>\n",
       "      <th>4</th>\n",
       "    </tr>\n",
       "  </thead>\n",
       "  <tbody>\n",
       "    <tr>\n",
       "      <th rowspan=\"8\" valign=\"top\">gender</th>\n",
       "      <th>count</th>\n",
       "      <td>561.000000</td>\n",
       "      <td>1050.000000</td>\n",
       "      <td>1132.000000</td>\n",
       "      <td>871.000000</td>\n",
       "      <td>386.000000</td>\n",
       "    </tr>\n",
       "    <tr>\n",
       "      <th>mean</th>\n",
       "      <td>0.499109</td>\n",
       "      <td>0.488571</td>\n",
       "      <td>0.505300</td>\n",
       "      <td>0.544202</td>\n",
       "      <td>0.523316</td>\n",
       "    </tr>\n",
       "    <tr>\n",
       "      <th>std</th>\n",
       "      <td>0.500445</td>\n",
       "      <td>0.500108</td>\n",
       "      <td>0.500193</td>\n",
       "      <td>0.498328</td>\n",
       "      <td>0.500104</td>\n",
       "    </tr>\n",
       "    <tr>\n",
       "      <th>min</th>\n",
       "      <td>0.000000</td>\n",
       "      <td>0.000000</td>\n",
       "      <td>0.000000</td>\n",
       "      <td>0.000000</td>\n",
       "      <td>0.000000</td>\n",
       "    </tr>\n",
       "    <tr>\n",
       "      <th>25%</th>\n",
       "      <td>0.000000</td>\n",
       "      <td>0.000000</td>\n",
       "      <td>0.000000</td>\n",
       "      <td>0.000000</td>\n",
       "      <td>0.000000</td>\n",
       "    </tr>\n",
       "    <tr>\n",
       "      <th>50%</th>\n",
       "      <td>0.000000</td>\n",
       "      <td>0.000000</td>\n",
       "      <td>1.000000</td>\n",
       "      <td>1.000000</td>\n",
       "      <td>1.000000</td>\n",
       "    </tr>\n",
       "    <tr>\n",
       "      <th>75%</th>\n",
       "      <td>1.000000</td>\n",
       "      <td>1.000000</td>\n",
       "      <td>1.000000</td>\n",
       "      <td>1.000000</td>\n",
       "      <td>1.000000</td>\n",
       "    </tr>\n",
       "    <tr>\n",
       "      <th>max</th>\n",
       "      <td>1.000000</td>\n",
       "      <td>1.000000</td>\n",
       "      <td>1.000000</td>\n",
       "      <td>1.000000</td>\n",
       "      <td>1.000000</td>\n",
       "    </tr>\n",
       "    <tr>\n",
       "      <th rowspan=\"8\" valign=\"top\">Near_Location</th>\n",
       "      <th>count</th>\n",
       "      <td>561.000000</td>\n",
       "      <td>1050.000000</td>\n",
       "      <td>1132.000000</td>\n",
       "      <td>871.000000</td>\n",
       "      <td>386.000000</td>\n",
       "    </tr>\n",
       "    <tr>\n",
       "      <th>mean</th>\n",
       "      <td>0.000000</td>\n",
       "      <td>0.995238</td>\n",
       "      <td>1.000000</td>\n",
       "      <td>1.000000</td>\n",
       "      <td>0.862694</td>\n",
       "    </tr>\n",
       "    <tr>\n",
       "      <th>std</th>\n",
       "      <td>0.000000</td>\n",
       "      <td>0.068875</td>\n",
       "      <td>0.000000</td>\n",
       "      <td>0.000000</td>\n",
       "      <td>0.344616</td>\n",
       "    </tr>\n",
       "    <tr>\n",
       "      <th>min</th>\n",
       "      <td>0.000000</td>\n",
       "      <td>0.000000</td>\n",
       "      <td>1.000000</td>\n",
       "      <td>1.000000</td>\n",
       "      <td>0.000000</td>\n",
       "    </tr>\n",
       "    <tr>\n",
       "      <th>25%</th>\n",
       "      <td>0.000000</td>\n",
       "      <td>1.000000</td>\n",
       "      <td>1.000000</td>\n",
       "      <td>1.000000</td>\n",
       "      <td>1.000000</td>\n",
       "    </tr>\n",
       "    <tr>\n",
       "      <th>50%</th>\n",
       "      <td>0.000000</td>\n",
       "      <td>1.000000</td>\n",
       "      <td>1.000000</td>\n",
       "      <td>1.000000</td>\n",
       "      <td>1.000000</td>\n",
       "    </tr>\n",
       "    <tr>\n",
       "      <th>75%</th>\n",
       "      <td>0.000000</td>\n",
       "      <td>1.000000</td>\n",
       "      <td>1.000000</td>\n",
       "      <td>1.000000</td>\n",
       "      <td>1.000000</td>\n",
       "    </tr>\n",
       "    <tr>\n",
       "      <th>max</th>\n",
       "      <td>0.000000</td>\n",
       "      <td>1.000000</td>\n",
       "      <td>1.000000</td>\n",
       "      <td>1.000000</td>\n",
       "      <td>1.000000</td>\n",
       "    </tr>\n",
       "    <tr>\n",
       "      <th rowspan=\"8\" valign=\"top\">Partner</th>\n",
       "      <th>count</th>\n",
       "      <td>561.000000</td>\n",
       "      <td>1050.000000</td>\n",
       "      <td>1132.000000</td>\n",
       "      <td>871.000000</td>\n",
       "      <td>386.000000</td>\n",
       "    </tr>\n",
       "    <tr>\n",
       "      <th>mean</th>\n",
       "      <td>0.488414</td>\n",
       "      <td>0.955238</td>\n",
       "      <td>0.238516</td>\n",
       "      <td>0.250287</td>\n",
       "      <td>0.471503</td>\n",
       "    </tr>\n",
       "    <tr>\n",
       "      <th>std</th>\n",
       "      <td>0.500312</td>\n",
       "      <td>0.206879</td>\n",
       "      <td>0.426364</td>\n",
       "      <td>0.433427</td>\n",
       "      <td>0.499835</td>\n",
       "    </tr>\n",
       "    <tr>\n",
       "      <th>min</th>\n",
       "      <td>0.000000</td>\n",
       "      <td>0.000000</td>\n",
       "      <td>0.000000</td>\n",
       "      <td>0.000000</td>\n",
       "      <td>0.000000</td>\n",
       "    </tr>\n",
       "    <tr>\n",
       "      <th>25%</th>\n",
       "      <td>0.000000</td>\n",
       "      <td>1.000000</td>\n",
       "      <td>0.000000</td>\n",
       "      <td>0.000000</td>\n",
       "      <td>0.000000</td>\n",
       "    </tr>\n",
       "    <tr>\n",
       "      <th>50%</th>\n",
       "      <td>0.000000</td>\n",
       "      <td>1.000000</td>\n",
       "      <td>0.000000</td>\n",
       "      <td>0.000000</td>\n",
       "      <td>0.000000</td>\n",
       "    </tr>\n",
       "    <tr>\n",
       "      <th>75%</th>\n",
       "      <td>1.000000</td>\n",
       "      <td>1.000000</td>\n",
       "      <td>0.000000</td>\n",
       "      <td>0.500000</td>\n",
       "      <td>1.000000</td>\n",
       "    </tr>\n",
       "    <tr>\n",
       "      <th>max</th>\n",
       "      <td>1.000000</td>\n",
       "      <td>1.000000</td>\n",
       "      <td>1.000000</td>\n",
       "      <td>1.000000</td>\n",
       "      <td>1.000000</td>\n",
       "    </tr>\n",
       "    <tr>\n",
       "      <th rowspan=\"8\" valign=\"top\">Promo_friends</th>\n",
       "      <th>count</th>\n",
       "      <td>561.000000</td>\n",
       "      <td>1050.000000</td>\n",
       "      <td>1132.000000</td>\n",
       "      <td>871.000000</td>\n",
       "      <td>386.000000</td>\n",
       "    </tr>\n",
       "    <tr>\n",
       "      <th>mean</th>\n",
       "      <td>0.076649</td>\n",
       "      <td>0.892381</td>\n",
       "      <td>0.059187</td>\n",
       "      <td>0.079219</td>\n",
       "      <td>0.305699</td>\n",
       "    </tr>\n",
       "    <tr>\n",
       "      <th>std</th>\n",
       "      <td>0.266271</td>\n",
       "      <td>0.310046</td>\n",
       "      <td>0.236079</td>\n",
       "      <td>0.270236</td>\n",
       "      <td>0.461301</td>\n",
       "    </tr>\n",
       "    <tr>\n",
       "      <th>min</th>\n",
       "      <td>0.000000</td>\n",
       "      <td>0.000000</td>\n",
       "      <td>0.000000</td>\n",
       "      <td>0.000000</td>\n",
       "      <td>0.000000</td>\n",
       "    </tr>\n",
       "    <tr>\n",
       "      <th>25%</th>\n",
       "      <td>0.000000</td>\n",
       "      <td>1.000000</td>\n",
       "      <td>0.000000</td>\n",
       "      <td>0.000000</td>\n",
       "      <td>0.000000</td>\n",
       "    </tr>\n",
       "    <tr>\n",
       "      <th>50%</th>\n",
       "      <td>0.000000</td>\n",
       "      <td>1.000000</td>\n",
       "      <td>0.000000</td>\n",
       "      <td>0.000000</td>\n",
       "      <td>0.000000</td>\n",
       "    </tr>\n",
       "    <tr>\n",
       "      <th>75%</th>\n",
       "      <td>0.000000</td>\n",
       "      <td>1.000000</td>\n",
       "      <td>0.000000</td>\n",
       "      <td>0.000000</td>\n",
       "      <td>1.000000</td>\n",
       "    </tr>\n",
       "    <tr>\n",
       "      <th>max</th>\n",
       "      <td>1.000000</td>\n",
       "      <td>1.000000</td>\n",
       "      <td>1.000000</td>\n",
       "      <td>1.000000</td>\n",
       "      <td>1.000000</td>\n",
       "    </tr>\n",
       "    <tr>\n",
       "      <th rowspan=\"8\" valign=\"top\">Phone</th>\n",
       "      <th>count</th>\n",
       "      <td>561.000000</td>\n",
       "      <td>1050.000000</td>\n",
       "      <td>1132.000000</td>\n",
       "      <td>871.000000</td>\n",
       "      <td>386.000000</td>\n",
       "    </tr>\n",
       "    <tr>\n",
       "      <th>mean</th>\n",
       "      <td>1.000000</td>\n",
       "      <td>1.000000</td>\n",
       "      <td>1.000000</td>\n",
       "      <td>1.000000</td>\n",
       "      <td>0.000000</td>\n",
       "    </tr>\n",
       "    <tr>\n",
       "      <th>std</th>\n",
       "      <td>0.000000</td>\n",
       "      <td>0.000000</td>\n",
       "      <td>0.000000</td>\n",
       "      <td>0.000000</td>\n",
       "      <td>0.000000</td>\n",
       "    </tr>\n",
       "    <tr>\n",
       "      <th>min</th>\n",
       "      <td>1.000000</td>\n",
       "      <td>1.000000</td>\n",
       "      <td>1.000000</td>\n",
       "      <td>1.000000</td>\n",
       "      <td>0.000000</td>\n",
       "    </tr>\n",
       "    <tr>\n",
       "      <th>25%</th>\n",
       "      <td>1.000000</td>\n",
       "      <td>1.000000</td>\n",
       "      <td>1.000000</td>\n",
       "      <td>1.000000</td>\n",
       "      <td>0.000000</td>\n",
       "    </tr>\n",
       "    <tr>\n",
       "      <th>50%</th>\n",
       "      <td>1.000000</td>\n",
       "      <td>1.000000</td>\n",
       "      <td>1.000000</td>\n",
       "      <td>1.000000</td>\n",
       "      <td>0.000000</td>\n",
       "    </tr>\n",
       "    <tr>\n",
       "      <th>75%</th>\n",
       "      <td>1.000000</td>\n",
       "      <td>1.000000</td>\n",
       "      <td>1.000000</td>\n",
       "      <td>1.000000</td>\n",
       "      <td>0.000000</td>\n",
       "    </tr>\n",
       "    <tr>\n",
       "      <th>max</th>\n",
       "      <td>1.000000</td>\n",
       "      <td>1.000000</td>\n",
       "      <td>1.000000</td>\n",
       "      <td>1.000000</td>\n",
       "      <td>0.000000</td>\n",
       "    </tr>\n",
       "    <tr>\n",
       "      <th rowspan=\"8\" valign=\"top\">Contract_period</th>\n",
       "      <th>count</th>\n",
       "      <td>561.000000</td>\n",
       "      <td>1050.000000</td>\n",
       "      <td>1132.000000</td>\n",
       "      <td>871.000000</td>\n",
       "      <td>386.000000</td>\n",
       "    </tr>\n",
       "    <tr>\n",
       "      <th>mean</th>\n",
       "      <td>3.032086</td>\n",
       "      <td>7.660952</td>\n",
       "      <td>2.819788</td>\n",
       "      <td>4.528129</td>\n",
       "      <td>4.777202</td>\n",
       "    </tr>\n",
       "    <tr>\n",
       "      <th>std</th>\n",
       "      <td>3.538922</td>\n",
       "      <td>4.679153</td>\n",
       "      <td>3.323314</td>\n",
       "      <td>4.496622</td>\n",
       "      <td>4.535814</td>\n",
       "    </tr>\n",
       "    <tr>\n",
       "      <th>min</th>\n",
       "      <td>1.000000</td>\n",
       "      <td>1.000000</td>\n",
       "      <td>1.000000</td>\n",
       "      <td>1.000000</td>\n",
       "      <td>1.000000</td>\n",
       "    </tr>\n",
       "    <tr>\n",
       "      <th>25%</th>\n",
       "      <td>1.000000</td>\n",
       "      <td>1.000000</td>\n",
       "      <td>1.000000</td>\n",
       "      <td>1.000000</td>\n",
       "      <td>1.000000</td>\n",
       "    </tr>\n",
       "    <tr>\n",
       "      <th>50%</th>\n",
       "      <td>1.000000</td>\n",
       "      <td>6.000000</td>\n",
       "      <td>1.000000</td>\n",
       "      <td>1.000000</td>\n",
       "      <td>1.000000</td>\n",
       "    </tr>\n",
       "    <tr>\n",
       "      <th>75%</th>\n",
       "      <td>6.000000</td>\n",
       "      <td>12.000000</td>\n",
       "      <td>6.000000</td>\n",
       "      <td>6.000000</td>\n",
       "      <td>6.000000</td>\n",
       "    </tr>\n",
       "    <tr>\n",
       "      <th>max</th>\n",
       "      <td>12.000000</td>\n",
       "      <td>12.000000</td>\n",
       "      <td>12.000000</td>\n",
       "      <td>12.000000</td>\n",
       "      <td>12.000000</td>\n",
       "    </tr>\n",
       "    <tr>\n",
       "      <th rowspan=\"8\" valign=\"top\">Group_visits</th>\n",
       "      <th>count</th>\n",
       "      <td>561.000000</td>\n",
       "      <td>1050.000000</td>\n",
       "      <td>1132.000000</td>\n",
       "      <td>871.000000</td>\n",
       "      <td>386.000000</td>\n",
       "    </tr>\n",
       "    <tr>\n",
       "      <th>mean</th>\n",
       "      <td>0.235294</td>\n",
       "      <td>0.458095</td>\n",
       "      <td>0.000000</td>\n",
       "      <td>1.000000</td>\n",
       "      <td>0.427461</td>\n",
       "    </tr>\n",
       "    <tr>\n",
       "      <th>std</th>\n",
       "      <td>0.424561</td>\n",
       "      <td>0.498478</td>\n",
       "      <td>0.000000</td>\n",
       "      <td>0.000000</td>\n",
       "      <td>0.495352</td>\n",
       "    </tr>\n",
       "    <tr>\n",
       "      <th>min</th>\n",
       "      <td>0.000000</td>\n",
       "      <td>0.000000</td>\n",
       "      <td>0.000000</td>\n",
       "      <td>1.000000</td>\n",
       "      <td>0.000000</td>\n",
       "    </tr>\n",
       "    <tr>\n",
       "      <th>25%</th>\n",
       "      <td>0.000000</td>\n",
       "      <td>0.000000</td>\n",
       "      <td>0.000000</td>\n",
       "      <td>1.000000</td>\n",
       "      <td>0.000000</td>\n",
       "    </tr>\n",
       "    <tr>\n",
       "      <th>50%</th>\n",
       "      <td>0.000000</td>\n",
       "      <td>0.000000</td>\n",
       "      <td>0.000000</td>\n",
       "      <td>1.000000</td>\n",
       "      <td>0.000000</td>\n",
       "    </tr>\n",
       "    <tr>\n",
       "      <th>75%</th>\n",
       "      <td>0.000000</td>\n",
       "      <td>1.000000</td>\n",
       "      <td>0.000000</td>\n",
       "      <td>1.000000</td>\n",
       "      <td>1.000000</td>\n",
       "    </tr>\n",
       "    <tr>\n",
       "      <th>max</th>\n",
       "      <td>1.000000</td>\n",
       "      <td>1.000000</td>\n",
       "      <td>0.000000</td>\n",
       "      <td>1.000000</td>\n",
       "      <td>1.000000</td>\n",
       "    </tr>\n",
       "    <tr>\n",
       "      <th rowspan=\"8\" valign=\"top\">Age</th>\n",
       "      <th>count</th>\n",
       "      <td>561.000000</td>\n",
       "      <td>1050.000000</td>\n",
       "      <td>1132.000000</td>\n",
       "      <td>871.000000</td>\n",
       "      <td>386.000000</td>\n",
       "    </tr>\n",
       "    <tr>\n",
       "      <th>mean</th>\n",
       "      <td>28.721925</td>\n",
       "      <td>29.543810</td>\n",
       "      <td>28.770318</td>\n",
       "      <td>29.536165</td>\n",
       "      <td>29.297927</td>\n",
       "    </tr>\n",
       "    <tr>\n",
       "      <th>std</th>\n",
       "      <td>3.231160</td>\n",
       "      <td>3.154805</td>\n",
       "      <td>3.218850</td>\n",
       "      <td>3.397533</td>\n",
       "      <td>3.160938</td>\n",
       "    </tr>\n",
       "    <tr>\n",
       "      <th>min</th>\n",
       "      <td>18.000000</td>\n",
       "      <td>20.000000</td>\n",
       "      <td>18.000000</td>\n",
       "      <td>19.000000</td>\n",
       "      <td>20.000000</td>\n",
       "    </tr>\n",
       "    <tr>\n",
       "      <th>25%</th>\n",
       "      <td>27.000000</td>\n",
       "      <td>27.000000</td>\n",
       "      <td>27.000000</td>\n",
       "      <td>27.000000</td>\n",
       "      <td>27.000000</td>\n",
       "    </tr>\n",
       "    <tr>\n",
       "      <th>50%</th>\n",
       "      <td>29.000000</td>\n",
       "      <td>30.000000</td>\n",
       "      <td>29.000000</td>\n",
       "      <td>30.000000</td>\n",
       "      <td>29.000000</td>\n",
       "    </tr>\n",
       "    <tr>\n",
       "      <th>75%</th>\n",
       "      <td>31.000000</td>\n",
       "      <td>32.000000</td>\n",
       "      <td>31.000000</td>\n",
       "      <td>32.000000</td>\n",
       "      <td>31.000000</td>\n",
       "    </tr>\n",
       "    <tr>\n",
       "      <th>max</th>\n",
       "      <td>39.000000</td>\n",
       "      <td>39.000000</td>\n",
       "      <td>38.000000</td>\n",
       "      <td>41.000000</td>\n",
       "      <td>38.000000</td>\n",
       "    </tr>\n",
       "    <tr>\n",
       "      <th rowspan=\"8\" valign=\"top\">Avg_additional_charges_total</th>\n",
       "      <th>count</th>\n",
       "      <td>561.000000</td>\n",
       "      <td>1050.000000</td>\n",
       "      <td>1132.000000</td>\n",
       "      <td>871.000000</td>\n",
       "      <td>386.000000</td>\n",
       "    </tr>\n",
       "    <tr>\n",
       "      <th>mean</th>\n",
       "      <td>137.540009</td>\n",
       "      <td>155.861428</td>\n",
       "      <td>143.383993</td>\n",
       "      <td>148.088897</td>\n",
       "      <td>144.208179</td>\n",
       "    </tr>\n",
       "    <tr>\n",
       "      <th>std</th>\n",
       "      <td>96.791242</td>\n",
       "      <td>99.675646</td>\n",
       "      <td>93.246871</td>\n",
       "      <td>96.272341</td>\n",
       "      <td>94.124743</td>\n",
       "    </tr>\n",
       "    <tr>\n",
       "      <th>min</th>\n",
       "      <td>0.972250</td>\n",
       "      <td>0.148205</td>\n",
       "      <td>0.334824</td>\n",
       "      <td>0.171862</td>\n",
       "      <td>1.767654</td>\n",
       "    </tr>\n",
       "    <tr>\n",
       "      <th>25%</th>\n",
       "      <td>59.202259</td>\n",
       "      <td>73.647707</td>\n",
       "      <td>66.024545</td>\n",
       "      <td>71.226644</td>\n",
       "      <td>71.090935</td>\n",
       "    </tr>\n",
       "    <tr>\n",
       "      <th>50%</th>\n",
       "      <td>124.323490</td>\n",
       "      <td>149.350291</td>\n",
       "      <td>130.568393</td>\n",
       "      <td>139.825895</td>\n",
       "      <td>137.016545</td>\n",
       "    </tr>\n",
       "    <tr>\n",
       "      <th>75%</th>\n",
       "      <td>196.660938</td>\n",
       "      <td>225.327790</td>\n",
       "      <td>207.864023</td>\n",
       "      <td>208.751363</td>\n",
       "      <td>204.014435</td>\n",
       "    </tr>\n",
       "    <tr>\n",
       "      <th>max</th>\n",
       "      <td>552.590740</td>\n",
       "      <td>488.708175</td>\n",
       "      <td>476.432655</td>\n",
       "      <td>472.318897</td>\n",
       "      <td>496.172222</td>\n",
       "    </tr>\n",
       "    <tr>\n",
       "      <th rowspan=\"8\" valign=\"top\">Lifetime</th>\n",
       "      <th>count</th>\n",
       "      <td>561.000000</td>\n",
       "      <td>1050.000000</td>\n",
       "      <td>1132.000000</td>\n",
       "      <td>871.000000</td>\n",
       "      <td>386.000000</td>\n",
       "    </tr>\n",
       "    <tr>\n",
       "      <th>mean</th>\n",
       "      <td>3.060606</td>\n",
       "      <td>4.380952</td>\n",
       "      <td>3.343640</td>\n",
       "      <td>3.761194</td>\n",
       "      <td>3.940415</td>\n",
       "    </tr>\n",
       "    <tr>\n",
       "      <th>std</th>\n",
       "      <td>3.332722</td>\n",
       "      <td>3.830740</td>\n",
       "      <td>3.676258</td>\n",
       "      <td>3.730632</td>\n",
       "      <td>4.052778</td>\n",
       "    </tr>\n",
       "    <tr>\n",
       "      <th>min</th>\n",
       "      <td>0.000000</td>\n",
       "      <td>0.000000</td>\n",
       "      <td>0.000000</td>\n",
       "      <td>0.000000</td>\n",
       "      <td>0.000000</td>\n",
       "    </tr>\n",
       "    <tr>\n",
       "      <th>25%</th>\n",
       "      <td>1.000000</td>\n",
       "      <td>1.000000</td>\n",
       "      <td>1.000000</td>\n",
       "      <td>1.000000</td>\n",
       "      <td>1.000000</td>\n",
       "    </tr>\n",
       "    <tr>\n",
       "      <th>50%</th>\n",
       "      <td>2.000000</td>\n",
       "      <td>3.000000</td>\n",
       "      <td>2.000000</td>\n",
       "      <td>3.000000</td>\n",
       "      <td>3.000000</td>\n",
       "    </tr>\n",
       "    <tr>\n",
       "      <th>75%</th>\n",
       "      <td>4.000000</td>\n",
       "      <td>6.000000</td>\n",
       "      <td>5.000000</td>\n",
       "      <td>5.000000</td>\n",
       "      <td>5.000000</td>\n",
       "    </tr>\n",
       "    <tr>\n",
       "      <th>max</th>\n",
       "      <td>24.000000</td>\n",
       "      <td>27.000000</td>\n",
       "      <td>31.000000</td>\n",
       "      <td>24.000000</td>\n",
       "      <td>26.000000</td>\n",
       "    </tr>\n",
       "    <tr>\n",
       "      <th rowspan=\"8\" valign=\"top\">Avg_class_frequency_total</th>\n",
       "      <th>count</th>\n",
       "      <td>561.000000</td>\n",
       "      <td>1050.000000</td>\n",
       "      <td>1132.000000</td>\n",
       "      <td>871.000000</td>\n",
       "      <td>386.000000</td>\n",
       "    </tr>\n",
       "    <tr>\n",
       "      <th>mean</th>\n",
       "      <td>1.770413</td>\n",
       "      <td>1.978963</td>\n",
       "      <td>1.800647</td>\n",
       "      <td>1.941342</td>\n",
       "      <td>1.854211</td>\n",
       "    </tr>\n",
       "    <tr>\n",
       "      <th>std</th>\n",
       "      <td>0.934093</td>\n",
       "      <td>1.024104</td>\n",
       "      <td>0.932946</td>\n",
       "      <td>0.983473</td>\n",
       "      <td>0.936601</td>\n",
       "    </tr>\n",
       "    <tr>\n",
       "      <th>min</th>\n",
       "      <td>0.000000</td>\n",
       "      <td>0.000000</td>\n",
       "      <td>0.000000</td>\n",
       "      <td>0.000000</td>\n",
       "      <td>0.000000</td>\n",
       "    </tr>\n",
       "    <tr>\n",
       "      <th>25%</th>\n",
       "      <td>1.110288</td>\n",
       "      <td>1.206714</td>\n",
       "      <td>1.144093</td>\n",
       "      <td>1.215521</td>\n",
       "      <td>1.210427</td>\n",
       "    </tr>\n",
       "    <tr>\n",
       "      <th>50%</th>\n",
       "      <td>1.671651</td>\n",
       "      <td>1.945310</td>\n",
       "      <td>1.769141</td>\n",
       "      <td>1.922936</td>\n",
       "      <td>1.824012</td>\n",
       "    </tr>\n",
       "    <tr>\n",
       "      <th>75%</th>\n",
       "      <td>2.365245</td>\n",
       "      <td>2.677483</td>\n",
       "      <td>2.427429</td>\n",
       "      <td>2.604474</td>\n",
       "      <td>2.414739</td>\n",
       "    </tr>\n",
       "    <tr>\n",
       "      <th>max</th>\n",
       "      <td>4.698029</td>\n",
       "      <td>6.023668</td>\n",
       "      <td>5.421898</td>\n",
       "      <td>5.410054</td>\n",
       "      <td>4.793780</td>\n",
       "    </tr>\n",
       "    <tr>\n",
       "      <th rowspan=\"8\" valign=\"top\">Churn</th>\n",
       "      <th>count</th>\n",
       "      <td>561.000000</td>\n",
       "      <td>1050.000000</td>\n",
       "      <td>1132.000000</td>\n",
       "      <td>871.000000</td>\n",
       "      <td>386.000000</td>\n",
       "    </tr>\n",
       "    <tr>\n",
       "      <th>mean</th>\n",
       "      <td>0.399287</td>\n",
       "      <td>0.120952</td>\n",
       "      <td>0.381625</td>\n",
       "      <td>0.200918</td>\n",
       "      <td>0.266839</td>\n",
       "    </tr>\n",
       "    <tr>\n",
       "      <th>std</th>\n",
       "      <td>0.490189</td>\n",
       "      <td>0.326227</td>\n",
       "      <td>0.486000</td>\n",
       "      <td>0.400917</td>\n",
       "      <td>0.442882</td>\n",
       "    </tr>\n",
       "    <tr>\n",
       "      <th>min</th>\n",
       "      <td>0.000000</td>\n",
       "      <td>0.000000</td>\n",
       "      <td>0.000000</td>\n",
       "      <td>0.000000</td>\n",
       "      <td>0.000000</td>\n",
       "    </tr>\n",
       "    <tr>\n",
       "      <th>25%</th>\n",
       "      <td>0.000000</td>\n",
       "      <td>0.000000</td>\n",
       "      <td>0.000000</td>\n",
       "      <td>0.000000</td>\n",
       "      <td>0.000000</td>\n",
       "    </tr>\n",
       "    <tr>\n",
       "      <th>50%</th>\n",
       "      <td>0.000000</td>\n",
       "      <td>0.000000</td>\n",
       "      <td>0.000000</td>\n",
       "      <td>0.000000</td>\n",
       "      <td>0.000000</td>\n",
       "    </tr>\n",
       "    <tr>\n",
       "      <th>75%</th>\n",
       "      <td>1.000000</td>\n",
       "      <td>0.000000</td>\n",
       "      <td>1.000000</td>\n",
       "      <td>0.000000</td>\n",
       "      <td>1.000000</td>\n",
       "    </tr>\n",
       "    <tr>\n",
       "      <th>max</th>\n",
       "      <td>1.000000</td>\n",
       "      <td>1.000000</td>\n",
       "      <td>1.000000</td>\n",
       "      <td>1.000000</td>\n",
       "      <td>1.000000</td>\n",
       "    </tr>\n",
       "  </tbody>\n",
       "</table>\n",
       "</div>"
      ],
      "text/plain": [
       "cluster                                      0            1            2  \\\n",
       "gender                       count  561.000000  1050.000000  1132.000000   \n",
       "                             mean     0.499109     0.488571     0.505300   \n",
       "                             std      0.500445     0.500108     0.500193   \n",
       "                             min      0.000000     0.000000     0.000000   \n",
       "                             25%      0.000000     0.000000     0.000000   \n",
       "                             50%      0.000000     0.000000     1.000000   \n",
       "                             75%      1.000000     1.000000     1.000000   \n",
       "                             max      1.000000     1.000000     1.000000   \n",
       "Near_Location                count  561.000000  1050.000000  1132.000000   \n",
       "                             mean     0.000000     0.995238     1.000000   \n",
       "                             std      0.000000     0.068875     0.000000   \n",
       "                             min      0.000000     0.000000     1.000000   \n",
       "                             25%      0.000000     1.000000     1.000000   \n",
       "                             50%      0.000000     1.000000     1.000000   \n",
       "                             75%      0.000000     1.000000     1.000000   \n",
       "                             max      0.000000     1.000000     1.000000   \n",
       "Partner                      count  561.000000  1050.000000  1132.000000   \n",
       "                             mean     0.488414     0.955238     0.238516   \n",
       "                             std      0.500312     0.206879     0.426364   \n",
       "                             min      0.000000     0.000000     0.000000   \n",
       "                             25%      0.000000     1.000000     0.000000   \n",
       "                             50%      0.000000     1.000000     0.000000   \n",
       "                             75%      1.000000     1.000000     0.000000   \n",
       "                             max      1.000000     1.000000     1.000000   \n",
       "Promo_friends                count  561.000000  1050.000000  1132.000000   \n",
       "                             mean     0.076649     0.892381     0.059187   \n",
       "                             std      0.266271     0.310046     0.236079   \n",
       "                             min      0.000000     0.000000     0.000000   \n",
       "                             25%      0.000000     1.000000     0.000000   \n",
       "                             50%      0.000000     1.000000     0.000000   \n",
       "                             75%      0.000000     1.000000     0.000000   \n",
       "                             max      1.000000     1.000000     1.000000   \n",
       "Phone                        count  561.000000  1050.000000  1132.000000   \n",
       "                             mean     1.000000     1.000000     1.000000   \n",
       "                             std      0.000000     0.000000     0.000000   \n",
       "                             min      1.000000     1.000000     1.000000   \n",
       "                             25%      1.000000     1.000000     1.000000   \n",
       "                             50%      1.000000     1.000000     1.000000   \n",
       "                             75%      1.000000     1.000000     1.000000   \n",
       "                             max      1.000000     1.000000     1.000000   \n",
       "Contract_period              count  561.000000  1050.000000  1132.000000   \n",
       "                             mean     3.032086     7.660952     2.819788   \n",
       "                             std      3.538922     4.679153     3.323314   \n",
       "                             min      1.000000     1.000000     1.000000   \n",
       "                             25%      1.000000     1.000000     1.000000   \n",
       "                             50%      1.000000     6.000000     1.000000   \n",
       "                             75%      6.000000    12.000000     6.000000   \n",
       "                             max     12.000000    12.000000    12.000000   \n",
       "Group_visits                 count  561.000000  1050.000000  1132.000000   \n",
       "                             mean     0.235294     0.458095     0.000000   \n",
       "                             std      0.424561     0.498478     0.000000   \n",
       "                             min      0.000000     0.000000     0.000000   \n",
       "                             25%      0.000000     0.000000     0.000000   \n",
       "                             50%      0.000000     0.000000     0.000000   \n",
       "                             75%      0.000000     1.000000     0.000000   \n",
       "                             max      1.000000     1.000000     0.000000   \n",
       "Age                          count  561.000000  1050.000000  1132.000000   \n",
       "                             mean    28.721925    29.543810    28.770318   \n",
       "                             std      3.231160     3.154805     3.218850   \n",
       "                             min     18.000000    20.000000    18.000000   \n",
       "                             25%     27.000000    27.000000    27.000000   \n",
       "                             50%     29.000000    30.000000    29.000000   \n",
       "                             75%     31.000000    32.000000    31.000000   \n",
       "                             max     39.000000    39.000000    38.000000   \n",
       "Avg_additional_charges_total count  561.000000  1050.000000  1132.000000   \n",
       "                             mean   137.540009   155.861428   143.383993   \n",
       "                             std     96.791242    99.675646    93.246871   \n",
       "                             min      0.972250     0.148205     0.334824   \n",
       "                             25%     59.202259    73.647707    66.024545   \n",
       "                             50%    124.323490   149.350291   130.568393   \n",
       "                             75%    196.660938   225.327790   207.864023   \n",
       "                             max    552.590740   488.708175   476.432655   \n",
       "Lifetime                     count  561.000000  1050.000000  1132.000000   \n",
       "                             mean     3.060606     4.380952     3.343640   \n",
       "                             std      3.332722     3.830740     3.676258   \n",
       "                             min      0.000000     0.000000     0.000000   \n",
       "                             25%      1.000000     1.000000     1.000000   \n",
       "                             50%      2.000000     3.000000     2.000000   \n",
       "                             75%      4.000000     6.000000     5.000000   \n",
       "                             max     24.000000    27.000000    31.000000   \n",
       "Avg_class_frequency_total    count  561.000000  1050.000000  1132.000000   \n",
       "                             mean     1.770413     1.978963     1.800647   \n",
       "                             std      0.934093     1.024104     0.932946   \n",
       "                             min      0.000000     0.000000     0.000000   \n",
       "                             25%      1.110288     1.206714     1.144093   \n",
       "                             50%      1.671651     1.945310     1.769141   \n",
       "                             75%      2.365245     2.677483     2.427429   \n",
       "                             max      4.698029     6.023668     5.421898   \n",
       "Churn                        count  561.000000  1050.000000  1132.000000   \n",
       "                             mean     0.399287     0.120952     0.381625   \n",
       "                             std      0.490189     0.326227     0.486000   \n",
       "                             min      0.000000     0.000000     0.000000   \n",
       "                             25%      0.000000     0.000000     0.000000   \n",
       "                             50%      0.000000     0.000000     0.000000   \n",
       "                             75%      1.000000     0.000000     1.000000   \n",
       "                             max      1.000000     1.000000     1.000000   \n",
       "\n",
       "cluster                                      3           4  \n",
       "gender                       count  871.000000  386.000000  \n",
       "                             mean     0.544202    0.523316  \n",
       "                             std      0.498328    0.500104  \n",
       "                             min      0.000000    0.000000  \n",
       "                             25%      0.000000    0.000000  \n",
       "                             50%      1.000000    1.000000  \n",
       "                             75%      1.000000    1.000000  \n",
       "                             max      1.000000    1.000000  \n",
       "Near_Location                count  871.000000  386.000000  \n",
       "                             mean     1.000000    0.862694  \n",
       "                             std      0.000000    0.344616  \n",
       "                             min      1.000000    0.000000  \n",
       "                             25%      1.000000    1.000000  \n",
       "                             50%      1.000000    1.000000  \n",
       "                             75%      1.000000    1.000000  \n",
       "                             max      1.000000    1.000000  \n",
       "Partner                      count  871.000000  386.000000  \n",
       "                             mean     0.250287    0.471503  \n",
       "                             std      0.433427    0.499835  \n",
       "                             min      0.000000    0.000000  \n",
       "                             25%      0.000000    0.000000  \n",
       "                             50%      0.000000    0.000000  \n",
       "                             75%      0.500000    1.000000  \n",
       "                             max      1.000000    1.000000  \n",
       "Promo_friends                count  871.000000  386.000000  \n",
       "                             mean     0.079219    0.305699  \n",
       "                             std      0.270236    0.461301  \n",
       "                             min      0.000000    0.000000  \n",
       "                             25%      0.000000    0.000000  \n",
       "                             50%      0.000000    0.000000  \n",
       "                             75%      0.000000    1.000000  \n",
       "                             max      1.000000    1.000000  \n",
       "Phone                        count  871.000000  386.000000  \n",
       "                             mean     1.000000    0.000000  \n",
       "                             std      0.000000    0.000000  \n",
       "                             min      1.000000    0.000000  \n",
       "                             25%      1.000000    0.000000  \n",
       "                             50%      1.000000    0.000000  \n",
       "                             75%      1.000000    0.000000  \n",
       "                             max      1.000000    0.000000  \n",
       "Contract_period              count  871.000000  386.000000  \n",
       "                             mean     4.528129    4.777202  \n",
       "                             std      4.496622    4.535814  \n",
       "                             min      1.000000    1.000000  \n",
       "                             25%      1.000000    1.000000  \n",
       "                             50%      1.000000    1.000000  \n",
       "                             75%      6.000000    6.000000  \n",
       "                             max     12.000000   12.000000  \n",
       "Group_visits                 count  871.000000  386.000000  \n",
       "                             mean     1.000000    0.427461  \n",
       "                             std      0.000000    0.495352  \n",
       "                             min      1.000000    0.000000  \n",
       "                             25%      1.000000    0.000000  \n",
       "                             50%      1.000000    0.000000  \n",
       "                             75%      1.000000    1.000000  \n",
       "                             max      1.000000    1.000000  \n",
       "Age                          count  871.000000  386.000000  \n",
       "                             mean    29.536165   29.297927  \n",
       "                             std      3.397533    3.160938  \n",
       "                             min     19.000000   20.000000  \n",
       "                             25%     27.000000   27.000000  \n",
       "                             50%     30.000000   29.000000  \n",
       "                             75%     32.000000   31.000000  \n",
       "                             max     41.000000   38.000000  \n",
       "Avg_additional_charges_total count  871.000000  386.000000  \n",
       "                             mean   148.088897  144.208179  \n",
       "                             std     96.272341   94.124743  \n",
       "                             min      0.171862    1.767654  \n",
       "                             25%     71.226644   71.090935  \n",
       "                             50%    139.825895  137.016545  \n",
       "                             75%    208.751363  204.014435  \n",
       "                             max    472.318897  496.172222  \n",
       "Lifetime                     count  871.000000  386.000000  \n",
       "                             mean     3.761194    3.940415  \n",
       "                             std      3.730632    4.052778  \n",
       "                             min      0.000000    0.000000  \n",
       "                             25%      1.000000    1.000000  \n",
       "                             50%      3.000000    3.000000  \n",
       "                             75%      5.000000    5.000000  \n",
       "                             max     24.000000   26.000000  \n",
       "Avg_class_frequency_total    count  871.000000  386.000000  \n",
       "                             mean     1.941342    1.854211  \n",
       "                             std      0.983473    0.936601  \n",
       "                             min      0.000000    0.000000  \n",
       "                             25%      1.215521    1.210427  \n",
       "                             50%      1.922936    1.824012  \n",
       "                             75%      2.604474    2.414739  \n",
       "                             max      5.410054    4.793780  \n",
       "Churn                        count  871.000000  386.000000  \n",
       "                             mean     0.200918    0.266839  \n",
       "                             std      0.400917    0.442882  \n",
       "                             min      0.000000    0.000000  \n",
       "                             25%      0.000000    0.000000  \n",
       "                             50%      0.000000    0.000000  \n",
       "                             75%      0.000000    1.000000  \n",
       "                             max      1.000000    1.000000  "
      ]
     },
     "execution_count": 35,
     "metadata": {},
     "output_type": "execute_result"
    }
   ],
   "source": [
    "gym_df.groupby('cluster').describe().T"
   ]
  },
  {
   "cell_type": "markdown",
   "metadata": {},
   "source": [
    "The goal of this report was to identify the type of customer that is more likely to churn and the type of customer that tends to stay loyal to Model Fitness. To do this first I had to pre-proess the data to determine if there were any missing values or categorical data types that would need to be converted. After this I analyzed the mean values of all the features of the dataframe as a whole and then split into two groups (does who churned and does who did not). There were differences in the mean values of these groups with loyal customers taking classes more frequently and spending more money on additional charges. The mean values also showed that the loyal customers had longer membership plans. \n",
    "\n",
    "My next step was then training two models (Logistic Regression and Random Forest) and then comparing their metrics (Precision, Accuracy, and Recall) to see which model was better at predicting whether or not a customer would churn. Though the metrics were close, Random Forest Classifier performed better.\n",
    "\n",
    "The next goal was to form clusters with the clients to be able to pinpoint the commonalities between customers and to find the tpye of the customer that is more likely to churn. In plotting a dendogram and using KMeans I was left with 5 different clusters that had unique mean values across the features. \n",
    "\n",
    "My conclusion from my analyses is that customers who belong in cluster 0 or 2 are more likely to churn while those in cluster 1 and 4 are more prone to staying loyal.\n",
    "\n",
    "My recommendation would be to focus on the following principles--\n",
    "\n",
    "Additional charges: Gear more marketing resources towards promoting and advertising the secondary services the gym provides such as the cafe, athletic goods and massages. I would also suggest perhaps making a sale with the massage services such as get 1 massage and get the next one at a discounted rate. The data shows that those who spent more money additional charges were less likely to churn.\n",
    "\n",
    "Group visits: As customers with higher group visits are more likely to remain loyal, I would offer promotions that are geared towards groups. Perhaps also throwing in a discounted or free service such as merchandise to clients who come in with groups of 3 or more. \n",
    "\n",
    "Class attendance: In order to boost class attendance I would recommend emailing out a survey to the customer base to get their thoughts on what kind of classes they would like to see offered. Getting new classes in that cater to the interest of the clients may encourage them to attend more classes. Customers with high class attendance are not as likely to churn.\n",
    "\n",
    "For example: Sugggestions in action for cluster 0--\n",
    "\n",
    "\n",
    "For clients in cluster 0 I would suggest offering them a discount: a buy one get one at 50% discount rate for massages and also give them a punch card for the cafe. Once they make their 10th purchase, they can get a free beverage. I would also send out surveys to those in cluster 0 asking them to fill in what kind of classes they would like to see offered. Once they complete that survey, they will be rewarded with a one-time free pass for a class.\n"
   ]
  }
 ],
 "metadata": {
  "ExecuteTimeLog": [
   {
    "duration": 1592,
    "start_time": "2022-08-25T16:36:20.763Z"
   },
   {
    "duration": 73,
    "start_time": "2022-08-25T16:37:17.807Z"
   },
   {
    "duration": 32,
    "start_time": "2022-08-25T16:37:28.219Z"
   },
   {
    "duration": 18,
    "start_time": "2022-08-25T16:37:34.750Z"
   },
   {
    "duration": 61,
    "start_time": "2022-08-25T16:37:41.656Z"
   },
   {
    "duration": 122,
    "start_time": "2022-08-25T16:37:49.026Z"
   },
   {
    "duration": 12,
    "start_time": "2022-08-25T16:37:51.926Z"
   },
   {
    "duration": 23,
    "start_time": "2022-08-25T16:47:17.595Z"
   },
   {
    "duration": 96,
    "start_time": "2022-08-25T16:52:35.753Z"
   },
   {
    "duration": 27,
    "start_time": "2022-08-25T16:53:17.587Z"
   },
   {
    "duration": 79,
    "start_time": "2022-08-25T16:53:24.934Z"
   },
   {
    "duration": 55,
    "start_time": "2022-08-25T16:53:55.705Z"
   },
   {
    "duration": 89,
    "start_time": "2022-08-25T16:53:59.971Z"
   },
   {
    "duration": 67,
    "start_time": "2022-08-25T16:57:26.554Z"
   },
   {
    "duration": 79,
    "start_time": "2022-08-25T16:57:37.157Z"
   },
   {
    "duration": 60,
    "start_time": "2022-08-25T16:57:54.526Z"
   },
   {
    "duration": 132,
    "start_time": "2022-08-25T16:58:04.871Z"
   },
   {
    "duration": 18,
    "start_time": "2022-08-25T17:11:27.944Z"
   },
   {
    "duration": 16,
    "start_time": "2022-08-25T17:12:14.061Z"
   },
   {
    "duration": 26,
    "start_time": "2022-08-25T17:12:27.423Z"
   },
   {
    "duration": 17,
    "start_time": "2022-08-25T17:13:23.997Z"
   },
   {
    "duration": 6,
    "start_time": "2022-08-25T17:13:34.660Z"
   },
   {
    "duration": 20,
    "start_time": "2022-08-25T17:14:08.735Z"
   },
   {
    "duration": 17,
    "start_time": "2022-08-25T17:14:16.873Z"
   },
   {
    "duration": 20,
    "start_time": "2022-08-25T17:14:27.130Z"
   },
   {
    "duration": 7,
    "start_time": "2022-08-25T17:14:53.346Z"
   },
   {
    "duration": 9,
    "start_time": "2022-08-25T17:15:16.626Z"
   },
   {
    "duration": 2318,
    "start_time": "2022-08-25T17:15:30.853Z"
   },
   {
    "duration": 1979,
    "start_time": "2022-08-25T17:15:41.406Z"
   },
   {
    "duration": 1496,
    "start_time": "2022-08-25T17:17:02.278Z"
   },
   {
    "duration": 8,
    "start_time": "2022-08-25T17:17:29.940Z"
   },
   {
    "duration": 1935,
    "start_time": "2022-08-25T17:17:42.726Z"
   },
   {
    "duration": 23,
    "start_time": "2022-08-25T17:19:10.217Z"
   },
   {
    "duration": 13,
    "start_time": "2022-08-25T17:20:02.956Z"
   },
   {
    "duration": 1589,
    "start_time": "2022-08-25T17:20:07.409Z"
   },
   {
    "duration": 1472,
    "start_time": "2022-08-25T17:23:26.900Z"
   },
   {
    "duration": 1514,
    "start_time": "2022-08-25T17:23:38.709Z"
   },
   {
    "duration": 1433,
    "start_time": "2022-08-25T17:23:49.257Z"
   },
   {
    "duration": 1553,
    "start_time": "2022-08-25T17:23:55.998Z"
   },
   {
    "duration": 4,
    "start_time": "2022-08-25T17:28:59.001Z"
   },
   {
    "duration": 16,
    "start_time": "2022-08-25T17:29:05.548Z"
   },
   {
    "duration": 5,
    "start_time": "2022-08-25T17:29:12.823Z"
   },
   {
    "duration": 6,
    "start_time": "2022-08-25T17:29:24.742Z"
   },
   {
    "duration": 5,
    "start_time": "2022-08-25T17:30:48.365Z"
   },
   {
    "duration": 4,
    "start_time": "2022-08-25T17:31:41.721Z"
   },
   {
    "duration": 3,
    "start_time": "2022-08-25T17:31:49.548Z"
   },
   {
    "duration": 11,
    "start_time": "2022-08-25T17:34:15.810Z"
   },
   {
    "duration": 1166,
    "start_time": "2022-08-25T17:34:25.045Z"
   },
   {
    "duration": 809,
    "start_time": "2022-08-25T17:34:47.812Z"
   },
   {
    "duration": 1467,
    "start_time": "2022-08-25T17:35:09.129Z"
   },
   {
    "duration": 33,
    "start_time": "2022-08-25T17:35:10.598Z"
   },
   {
    "duration": 13,
    "start_time": "2022-08-25T17:35:10.632Z"
   },
   {
    "duration": 51,
    "start_time": "2022-08-25T17:35:10.647Z"
   },
   {
    "duration": 12,
    "start_time": "2022-08-25T17:35:10.700Z"
   },
   {
    "duration": 17,
    "start_time": "2022-08-25T17:35:10.714Z"
   },
   {
    "duration": 159,
    "start_time": "2022-08-25T17:35:10.732Z"
   },
   {
    "duration": 16,
    "start_time": "2022-08-25T17:35:10.893Z"
   },
   {
    "duration": 2084,
    "start_time": "2022-08-25T17:35:10.911Z"
   },
   {
    "duration": 2082,
    "start_time": "2022-08-25T17:35:12.998Z"
   },
   {
    "duration": 1661,
    "start_time": "2022-08-25T17:35:15.081Z"
   },
   {
    "duration": 4,
    "start_time": "2022-08-25T17:35:16.744Z"
   },
   {
    "duration": 13,
    "start_time": "2022-08-25T17:35:16.750Z"
   },
   {
    "duration": 953,
    "start_time": "2022-08-25T17:35:16.765Z"
   },
   {
    "duration": 373,
    "start_time": "2022-08-25T17:44:04.937Z"
   },
   {
    "duration": 165,
    "start_time": "2022-08-25T17:48:37.037Z"
   },
   {
    "duration": 44,
    "start_time": "2022-08-25T17:49:02.375Z"
   },
   {
    "duration": 4,
    "start_time": "2022-08-25T17:49:04.838Z"
   },
   {
    "duration": 12,
    "start_time": "2022-08-25T17:49:08.519Z"
   },
   {
    "duration": 13,
    "start_time": "2022-08-25T17:56:26.272Z"
   },
   {
    "duration": 10,
    "start_time": "2022-08-25T17:59:00.742Z"
   },
   {
    "duration": 4,
    "start_time": "2022-08-25T17:59:26.642Z"
   },
   {
    "duration": 613,
    "start_time": "2022-08-25T18:06:01.166Z"
   },
   {
    "duration": 124048,
    "start_time": "2022-08-25T18:06:09.288Z"
   },
   {
    "duration": 253,
    "start_time": "2022-08-25T18:08:59.201Z"
   },
   {
    "duration": 118029,
    "start_time": "2022-08-25T18:09:07.229Z"
   },
   {
    "duration": 1298,
    "start_time": "2022-08-25T18:16:51.427Z"
   },
   {
    "duration": 4,
    "start_time": "2022-08-25T18:17:18.335Z"
   },
   {
    "duration": 259,
    "start_time": "2022-08-25T18:18:35.277Z"
   },
   {
    "duration": 12,
    "start_time": "2022-08-25T18:22:19.565Z"
   },
   {
    "duration": 8,
    "start_time": "2022-08-25T18:23:54.647Z"
   },
   {
    "duration": 2503,
    "start_time": "2022-08-25T18:24:18.263Z"
   },
   {
    "duration": 2317,
    "start_time": "2022-08-25T18:24:21.328Z"
   },
   {
    "duration": 2242,
    "start_time": "2022-08-25T18:24:23.647Z"
   },
   {
    "duration": 2393,
    "start_time": "2022-08-25T18:24:27.389Z"
   },
   {
    "duration": 2364,
    "start_time": "2022-08-25T18:24:30.025Z"
   },
   {
    "duration": 52,
    "start_time": "2022-08-25T20:26:10.082Z"
   },
   {
    "duration": 1624,
    "start_time": "2022-08-25T20:26:19.543Z"
   },
   {
    "duration": 126,
    "start_time": "2022-08-25T20:26:21.170Z"
   },
   {
    "duration": 14,
    "start_time": "2022-08-25T20:26:21.298Z"
   },
   {
    "duration": 53,
    "start_time": "2022-08-25T20:26:21.314Z"
   },
   {
    "duration": 23,
    "start_time": "2022-08-25T20:26:21.369Z"
   },
   {
    "duration": 18,
    "start_time": "2022-08-25T20:26:21.394Z"
   },
   {
    "duration": 179,
    "start_time": "2022-08-25T20:26:21.415Z"
   },
   {
    "duration": 8,
    "start_time": "2022-08-25T20:26:21.596Z"
   },
   {
    "duration": 2241,
    "start_time": "2022-08-25T20:26:21.606Z"
   },
   {
    "duration": 2268,
    "start_time": "2022-08-25T20:26:23.850Z"
   },
   {
    "duration": 1720,
    "start_time": "2022-08-25T20:26:26.119Z"
   },
   {
    "duration": 5,
    "start_time": "2022-08-25T20:26:27.842Z"
   },
   {
    "duration": 14,
    "start_time": "2022-08-25T20:26:27.849Z"
   },
   {
    "duration": 1033,
    "start_time": "2022-08-25T20:26:27.865Z"
   },
   {
    "duration": 96,
    "start_time": "2022-08-25T20:26:28.903Z"
   },
   {
    "duration": 507,
    "start_time": "2022-08-25T20:26:29.001Z"
   },
   {
    "duration": 7,
    "start_time": "2022-08-25T20:26:29.510Z"
   },
   {
    "duration": 129,
    "start_time": "2022-08-25T20:26:29.518Z"
   },
   {
    "duration": 0,
    "start_time": "2022-08-25T20:26:29.649Z"
   },
   {
    "duration": 0,
    "start_time": "2022-08-25T20:26:29.650Z"
   },
   {
    "duration": 0,
    "start_time": "2022-08-25T20:26:29.652Z"
   },
   {
    "duration": 0,
    "start_time": "2022-08-25T20:26:29.652Z"
   },
   {
    "duration": 0,
    "start_time": "2022-08-25T20:26:29.654Z"
   },
   {
    "duration": 0,
    "start_time": "2022-08-25T20:26:29.655Z"
   },
   {
    "duration": 0,
    "start_time": "2022-08-25T20:26:29.656Z"
   },
   {
    "duration": 0,
    "start_time": "2022-08-25T20:26:29.657Z"
   },
   {
    "duration": 0,
    "start_time": "2022-08-25T20:26:29.658Z"
   },
   {
    "duration": 0,
    "start_time": "2022-08-25T20:26:29.659Z"
   },
   {
    "duration": 0,
    "start_time": "2022-08-25T20:26:29.660Z"
   },
   {
    "duration": 0,
    "start_time": "2022-08-25T20:26:29.662Z"
   },
   {
    "duration": 0,
    "start_time": "2022-08-25T20:26:29.663Z"
   },
   {
    "duration": 8,
    "start_time": "2022-08-25T20:28:23.820Z"
   },
   {
    "duration": 8,
    "start_time": "2022-08-25T20:28:26.635Z"
   },
   {
    "duration": 591,
    "start_time": "2022-08-25T20:28:26.645Z"
   },
   {
    "duration": 8059,
    "start_time": "2022-08-25T20:28:27.237Z"
   },
   {
    "duration": 0,
    "start_time": "2022-08-25T20:28:35.298Z"
   },
   {
    "duration": 1,
    "start_time": "2022-08-25T20:28:35.299Z"
   },
   {
    "duration": 0,
    "start_time": "2022-08-25T20:28:35.301Z"
   },
   {
    "duration": 0,
    "start_time": "2022-08-25T20:28:35.302Z"
   },
   {
    "duration": 0,
    "start_time": "2022-08-25T20:28:35.303Z"
   },
   {
    "duration": 0,
    "start_time": "2022-08-25T20:28:35.304Z"
   },
   {
    "duration": 0,
    "start_time": "2022-08-25T20:28:35.305Z"
   },
   {
    "duration": 0,
    "start_time": "2022-08-25T20:28:35.305Z"
   },
   {
    "duration": 0,
    "start_time": "2022-08-25T20:28:35.306Z"
   },
   {
    "duration": 0,
    "start_time": "2022-08-25T20:28:35.308Z"
   },
   {
    "duration": 0,
    "start_time": "2022-08-25T20:28:35.309Z"
   },
   {
    "duration": 1552,
    "start_time": "2022-08-25T20:28:57.143Z"
   },
   {
    "duration": 36,
    "start_time": "2022-08-25T20:28:58.697Z"
   },
   {
    "duration": 14,
    "start_time": "2022-08-25T20:28:58.735Z"
   },
   {
    "duration": 63,
    "start_time": "2022-08-25T20:28:58.751Z"
   },
   {
    "duration": 13,
    "start_time": "2022-08-25T20:28:58.817Z"
   },
   {
    "duration": 65,
    "start_time": "2022-08-25T20:28:58.833Z"
   },
   {
    "duration": 156,
    "start_time": "2022-08-25T20:28:58.899Z"
   },
   {
    "duration": 9,
    "start_time": "2022-08-25T20:28:59.057Z"
   },
   {
    "duration": 2405,
    "start_time": "2022-08-25T20:28:59.068Z"
   },
   {
    "duration": 2358,
    "start_time": "2022-08-25T20:29:01.475Z"
   },
   {
    "duration": 1709,
    "start_time": "2022-08-25T20:29:03.834Z"
   },
   {
    "duration": 5,
    "start_time": "2022-08-25T20:29:05.546Z"
   },
   {
    "duration": 16,
    "start_time": "2022-08-25T20:29:05.553Z"
   },
   {
    "duration": 1829,
    "start_time": "2022-08-25T20:29:05.572Z"
   },
   {
    "duration": 10,
    "start_time": "2022-08-25T20:29:07.493Z"
   },
   {
    "duration": 469,
    "start_time": "2022-08-25T20:29:07.505Z"
   },
   {
    "duration": 23,
    "start_time": "2022-08-25T20:29:07.976Z"
   },
   {
    "duration": 9,
    "start_time": "2022-08-25T20:29:08.002Z"
   },
   {
    "duration": 658,
    "start_time": "2022-08-25T20:29:08.013Z"
   },
   {
    "duration": 124439,
    "start_time": "2022-08-25T20:29:08.674Z"
   },
   {
    "duration": 1583,
    "start_time": "2022-08-25T20:31:13.115Z"
   },
   {
    "duration": 5,
    "start_time": "2022-08-25T20:31:14.700Z"
   },
   {
    "duration": 269,
    "start_time": "2022-08-25T20:31:14.707Z"
   },
   {
    "duration": 22,
    "start_time": "2022-08-25T20:31:14.977Z"
   },
   {
    "duration": 2567,
    "start_time": "2022-08-25T20:31:15.001Z"
   },
   {
    "duration": 2573,
    "start_time": "2022-08-25T20:31:17.570Z"
   },
   {
    "duration": 2607,
    "start_time": "2022-08-25T20:31:20.146Z"
   },
   {
    "duration": 2501,
    "start_time": "2022-08-25T20:31:22.755Z"
   },
   {
    "duration": 2424,
    "start_time": "2022-08-25T20:31:25.258Z"
   },
   {
    "duration": 9,
    "start_time": "2022-08-25T20:31:27.683Z"
   },
   {
    "duration": 19,
    "start_time": "2022-08-25T20:33:58.336Z"
   },
   {
    "duration": 118,
    "start_time": "2022-08-25T21:08:27.446Z"
   },
   {
    "duration": 5,
    "start_time": "2022-08-25T21:08:49.774Z"
   },
   {
    "duration": 10,
    "start_time": "2022-08-25T21:08:58.758Z"
   },
   {
    "duration": 15,
    "start_time": "2022-08-25T21:09:21.919Z"
   },
   {
    "duration": 25,
    "start_time": "2022-08-25T21:11:02.967Z"
   },
   {
    "duration": 7,
    "start_time": "2022-08-25T21:11:20.680Z"
   },
   {
    "duration": 7,
    "start_time": "2022-08-25T21:12:58.371Z"
   },
   {
    "duration": 7,
    "start_time": "2022-08-25T21:14:16.091Z"
   },
   {
    "duration": 7,
    "start_time": "2022-08-25T21:14:19.241Z"
   },
   {
    "duration": 7,
    "start_time": "2022-08-25T21:14:21.108Z"
   },
   {
    "duration": 8,
    "start_time": "2022-08-25T21:14:23.131Z"
   },
   {
    "duration": 7,
    "start_time": "2022-08-25T21:34:54.316Z"
   },
   {
    "duration": 7,
    "start_time": "2022-08-25T21:35:13.240Z"
   },
   {
    "duration": 6,
    "start_time": "2022-08-25T21:35:26.198Z"
   },
   {
    "duration": 7,
    "start_time": "2022-08-25T21:35:33.478Z"
   },
   {
    "duration": 7,
    "start_time": "2022-08-25T21:48:42.096Z"
   },
   {
    "duration": 45,
    "start_time": "2022-08-26T02:15:23.831Z"
   },
   {
    "duration": 6,
    "start_time": "2022-08-26T02:15:28.460Z"
   },
   {
    "duration": 1851,
    "start_time": "2022-08-26T02:15:35.364Z"
   },
   {
    "duration": 68,
    "start_time": "2022-08-26T02:15:37.217Z"
   },
   {
    "duration": 11,
    "start_time": "2022-08-26T02:15:37.286Z"
   },
   {
    "duration": 45,
    "start_time": "2022-08-26T02:15:37.299Z"
   },
   {
    "duration": 10,
    "start_time": "2022-08-26T02:15:37.346Z"
   },
   {
    "duration": 34,
    "start_time": "2022-08-26T02:15:37.358Z"
   },
   {
    "duration": 139,
    "start_time": "2022-08-26T02:15:37.394Z"
   },
   {
    "duration": 9,
    "start_time": "2022-08-26T02:15:37.535Z"
   },
   {
    "duration": 2052,
    "start_time": "2022-08-26T02:15:37.546Z"
   },
   {
    "duration": 2160,
    "start_time": "2022-08-26T02:15:39.600Z"
   },
   {
    "duration": 1517,
    "start_time": "2022-08-26T02:15:41.762Z"
   },
   {
    "duration": 111,
    "start_time": "2022-08-26T02:15:43.281Z"
   },
   {
    "duration": 0,
    "start_time": "2022-08-26T02:15:43.394Z"
   },
   {
    "duration": 0,
    "start_time": "2022-08-26T02:15:43.396Z"
   },
   {
    "duration": 0,
    "start_time": "2022-08-26T02:15:43.397Z"
   },
   {
    "duration": 0,
    "start_time": "2022-08-26T02:15:43.398Z"
   },
   {
    "duration": 0,
    "start_time": "2022-08-26T02:15:43.399Z"
   },
   {
    "duration": 0,
    "start_time": "2022-08-26T02:15:43.400Z"
   },
   {
    "duration": 0,
    "start_time": "2022-08-26T02:15:43.402Z"
   },
   {
    "duration": 0,
    "start_time": "2022-08-26T02:15:43.403Z"
   },
   {
    "duration": 0,
    "start_time": "2022-08-26T02:15:43.403Z"
   },
   {
    "duration": 0,
    "start_time": "2022-08-26T02:15:43.404Z"
   },
   {
    "duration": 0,
    "start_time": "2022-08-26T02:15:43.405Z"
   },
   {
    "duration": 0,
    "start_time": "2022-08-26T02:15:43.406Z"
   },
   {
    "duration": 0,
    "start_time": "2022-08-26T02:15:43.407Z"
   },
   {
    "duration": 0,
    "start_time": "2022-08-26T02:15:43.408Z"
   },
   {
    "duration": 0,
    "start_time": "2022-08-26T02:15:43.409Z"
   },
   {
    "duration": 0,
    "start_time": "2022-08-26T02:15:43.410Z"
   },
   {
    "duration": 0,
    "start_time": "2022-08-26T02:15:43.411Z"
   },
   {
    "duration": 0,
    "start_time": "2022-08-26T02:15:43.412Z"
   },
   {
    "duration": 0,
    "start_time": "2022-08-26T02:15:43.413Z"
   },
   {
    "duration": 0,
    "start_time": "2022-08-26T02:15:43.414Z"
   },
   {
    "duration": 0,
    "start_time": "2022-08-26T02:15:43.415Z"
   },
   {
    "duration": 0,
    "start_time": "2022-08-26T02:15:43.416Z"
   },
   {
    "duration": 0,
    "start_time": "2022-08-26T02:15:43.417Z"
   },
   {
    "duration": 0,
    "start_time": "2022-08-26T02:15:43.418Z"
   },
   {
    "duration": 0,
    "start_time": "2022-08-26T02:15:43.418Z"
   },
   {
    "duration": 0,
    "start_time": "2022-08-26T02:15:43.419Z"
   },
   {
    "duration": 0,
    "start_time": "2022-08-26T02:15:43.420Z"
   },
   {
    "duration": 0,
    "start_time": "2022-08-26T02:15:43.421Z"
   },
   {
    "duration": 0,
    "start_time": "2022-08-26T02:15:43.422Z"
   },
   {
    "duration": 9,
    "start_time": "2022-08-26T02:16:41.958Z"
   },
   {
    "duration": 4,
    "start_time": "2022-08-26T02:16:49.685Z"
   },
   {
    "duration": 1349,
    "start_time": "2022-08-26T02:16:56.104Z"
   },
   {
    "duration": 33,
    "start_time": "2022-08-26T02:16:57.455Z"
   },
   {
    "duration": 11,
    "start_time": "2022-08-26T02:16:57.489Z"
   },
   {
    "duration": 49,
    "start_time": "2022-08-26T02:16:57.503Z"
   },
   {
    "duration": 13,
    "start_time": "2022-08-26T02:16:57.554Z"
   },
   {
    "duration": 16,
    "start_time": "2022-08-26T02:16:57.586Z"
   },
   {
    "duration": 155,
    "start_time": "2022-08-26T02:16:57.604Z"
   },
   {
    "duration": 24,
    "start_time": "2022-08-26T02:16:57.761Z"
   },
   {
    "duration": 2010,
    "start_time": "2022-08-26T02:16:57.786Z"
   },
   {
    "duration": 1952,
    "start_time": "2022-08-26T02:16:59.799Z"
   },
   {
    "duration": 1622,
    "start_time": "2022-08-26T02:17:01.752Z"
   },
   {
    "duration": 4,
    "start_time": "2022-08-26T02:17:03.376Z"
   },
   {
    "duration": 10,
    "start_time": "2022-08-26T02:17:03.382Z"
   },
   {
    "duration": 10,
    "start_time": "2022-08-26T02:17:03.393Z"
   },
   {
    "duration": 685,
    "start_time": "2022-08-26T02:17:03.405Z"
   },
   {
    "duration": 94,
    "start_time": "2022-08-26T02:17:04.092Z"
   },
   {
    "duration": 398,
    "start_time": "2022-08-26T02:17:04.188Z"
   },
   {
    "duration": 8,
    "start_time": "2022-08-26T02:17:04.588Z"
   },
   {
    "duration": 8,
    "start_time": "2022-08-26T02:17:04.597Z"
   },
   {
    "duration": 561,
    "start_time": "2022-08-26T02:17:04.606Z"
   },
   {
    "duration": 105454,
    "start_time": "2022-08-26T02:17:05.168Z"
   },
   {
    "duration": 1266,
    "start_time": "2022-08-26T02:18:50.624Z"
   },
   {
    "duration": 91,
    "start_time": "2022-08-26T02:18:51.895Z"
   },
   {
    "duration": 211,
    "start_time": "2022-08-26T02:18:51.987Z"
   },
   {
    "duration": 12,
    "start_time": "2022-08-26T02:18:52.199Z"
   },
   {
    "duration": 2003,
    "start_time": "2022-08-26T02:18:52.212Z"
   },
   {
    "duration": 1832,
    "start_time": "2022-08-26T02:18:54.216Z"
   },
   {
    "duration": 1739,
    "start_time": "2022-08-26T02:18:56.052Z"
   },
   {
    "duration": 1846,
    "start_time": "2022-08-26T02:18:57.792Z"
   },
   {
    "duration": 1801,
    "start_time": "2022-08-26T02:18:59.640Z"
   },
   {
    "duration": 10,
    "start_time": "2022-08-26T02:19:01.443Z"
   },
   {
    "duration": 15,
    "start_time": "2022-08-26T02:19:01.455Z"
   },
   {
    "duration": 13,
    "start_time": "2022-08-26T02:19:01.472Z"
   },
   {
    "duration": 9,
    "start_time": "2022-08-26T02:19:01.487Z"
   },
   {
    "duration": 15,
    "start_time": "2022-08-26T02:19:01.498Z"
   },
   {
    "duration": 11,
    "start_time": "2022-08-26T02:19:01.515Z"
   },
   {
    "duration": 8,
    "start_time": "2022-08-26T02:19:01.528Z"
   },
   {
    "duration": 9,
    "start_time": "2022-08-26T02:19:01.538Z"
   },
   {
    "duration": 10,
    "start_time": "2022-08-26T02:19:01.549Z"
   },
   {
    "duration": 10,
    "start_time": "2022-08-26T02:19:01.560Z"
   },
   {
    "duration": 17,
    "start_time": "2022-08-26T02:19:01.572Z"
   },
   {
    "duration": 10,
    "start_time": "2022-08-26T03:01:35.565Z"
   },
   {
    "duration": 1355,
    "start_time": "2022-08-26T03:50:07.831Z"
   },
   {
    "duration": 32,
    "start_time": "2022-08-26T03:50:09.188Z"
   },
   {
    "duration": 11,
    "start_time": "2022-08-26T03:50:09.222Z"
   },
   {
    "duration": 44,
    "start_time": "2022-08-26T03:50:09.235Z"
   },
   {
    "duration": 11,
    "start_time": "2022-08-26T03:50:09.280Z"
   },
   {
    "duration": 15,
    "start_time": "2022-08-26T03:50:09.292Z"
   },
   {
    "duration": 151,
    "start_time": "2022-08-26T03:50:09.308Z"
   },
   {
    "duration": 8,
    "start_time": "2022-08-26T03:50:09.461Z"
   },
   {
    "duration": 1871,
    "start_time": "2022-08-26T03:50:09.471Z"
   },
   {
    "duration": 1935,
    "start_time": "2022-08-26T03:50:11.345Z"
   },
   {
    "duration": 1518,
    "start_time": "2022-08-26T03:50:13.281Z"
   },
   {
    "duration": 3,
    "start_time": "2022-08-26T03:50:14.801Z"
   },
   {
    "duration": 6,
    "start_time": "2022-08-26T03:50:14.806Z"
   },
   {
    "duration": 5,
    "start_time": "2022-08-26T03:50:14.814Z"
   },
   {
    "duration": 664,
    "start_time": "2022-08-26T03:50:14.821Z"
   },
   {
    "duration": 99,
    "start_time": "2022-08-26T03:50:15.487Z"
   },
   {
    "duration": 353,
    "start_time": "2022-08-26T03:50:15.587Z"
   },
   {
    "duration": 7,
    "start_time": "2022-08-26T03:50:15.942Z"
   },
   {
    "duration": 7,
    "start_time": "2022-08-26T03:50:15.950Z"
   },
   {
    "duration": 561,
    "start_time": "2022-08-26T03:50:15.959Z"
   },
   {
    "duration": 103464,
    "start_time": "2022-08-26T03:50:16.522Z"
   },
   {
    "duration": 1203,
    "start_time": "2022-08-26T03:51:59.988Z"
   },
   {
    "duration": 92,
    "start_time": "2022-08-26T03:52:01.193Z"
   },
   {
    "duration": 216,
    "start_time": "2022-08-26T03:52:01.287Z"
   },
   {
    "duration": 11,
    "start_time": "2022-08-26T03:52:01.505Z"
   },
   {
    "duration": 1935,
    "start_time": "2022-08-26T03:52:01.518Z"
   },
   {
    "duration": 1843,
    "start_time": "2022-08-26T03:52:03.454Z"
   },
   {
    "duration": 1860,
    "start_time": "2022-08-26T03:52:05.302Z"
   },
   {
    "duration": 1823,
    "start_time": "2022-08-26T03:52:07.163Z"
   },
   {
    "duration": 1857,
    "start_time": "2022-08-26T03:52:08.988Z"
   },
   {
    "duration": 6,
    "start_time": "2022-08-26T03:52:10.847Z"
   },
   {
    "duration": 7,
    "start_time": "2022-08-26T03:52:10.854Z"
   },
   {
    "duration": 6,
    "start_time": "2022-08-26T03:52:10.863Z"
   },
   {
    "duration": 11,
    "start_time": "2022-08-26T03:52:10.885Z"
   },
   {
    "duration": 9,
    "start_time": "2022-08-26T03:52:10.897Z"
   },
   {
    "duration": 7,
    "start_time": "2022-08-26T03:52:10.908Z"
   },
   {
    "duration": 7,
    "start_time": "2022-08-26T03:52:10.917Z"
   },
   {
    "duration": 11,
    "start_time": "2022-08-26T03:52:10.926Z"
   },
   {
    "duration": 7,
    "start_time": "2022-08-26T03:52:10.939Z"
   },
   {
    "duration": 11,
    "start_time": "2022-08-26T03:52:10.947Z"
   },
   {
    "duration": 1125,
    "start_time": "2022-08-26T03:54:37.668Z"
   },
   {
    "duration": 1348,
    "start_time": "2022-08-26T03:54:43.952Z"
   },
   {
    "duration": 34,
    "start_time": "2022-08-26T03:54:45.301Z"
   },
   {
    "duration": 11,
    "start_time": "2022-08-26T03:54:45.336Z"
   },
   {
    "duration": 50,
    "start_time": "2022-08-26T03:54:45.350Z"
   },
   {
    "duration": 11,
    "start_time": "2022-08-26T03:54:45.402Z"
   },
   {
    "duration": 16,
    "start_time": "2022-08-26T03:54:45.415Z"
   },
   {
    "duration": 156,
    "start_time": "2022-08-26T03:54:45.432Z"
   },
   {
    "duration": 7,
    "start_time": "2022-08-26T03:54:45.590Z"
   },
   {
    "duration": 1914,
    "start_time": "2022-08-26T03:54:45.598Z"
   },
   {
    "duration": 1909,
    "start_time": "2022-08-26T03:54:47.514Z"
   },
   {
    "duration": 1442,
    "start_time": "2022-08-26T03:54:49.425Z"
   },
   {
    "duration": 5,
    "start_time": "2022-08-26T03:54:50.869Z"
   },
   {
    "duration": 12,
    "start_time": "2022-08-26T03:54:50.876Z"
   },
   {
    "duration": 7,
    "start_time": "2022-08-26T03:54:50.890Z"
   },
   {
    "duration": 694,
    "start_time": "2022-08-26T03:54:50.898Z"
   },
   {
    "duration": 9,
    "start_time": "2022-08-26T03:54:51.684Z"
   },
   {
    "duration": 431,
    "start_time": "2022-08-26T03:54:51.695Z"
   },
   {
    "duration": 8,
    "start_time": "2022-08-26T03:54:52.128Z"
   },
   {
    "duration": 17,
    "start_time": "2022-08-26T03:54:52.137Z"
   },
   {
    "duration": 549,
    "start_time": "2022-08-26T03:54:52.156Z"
   },
   {
    "duration": 104447,
    "start_time": "2022-08-26T03:54:52.706Z"
   },
   {
    "duration": 1333,
    "start_time": "2022-08-26T03:56:37.155Z"
   },
   {
    "duration": 3,
    "start_time": "2022-08-26T03:56:38.490Z"
   },
   {
    "duration": 207,
    "start_time": "2022-08-26T03:56:38.494Z"
   },
   {
    "duration": 12,
    "start_time": "2022-08-26T03:56:38.703Z"
   },
   {
    "duration": 1964,
    "start_time": "2022-08-26T03:56:38.716Z"
   },
   {
    "duration": 1781,
    "start_time": "2022-08-26T03:56:40.681Z"
   },
   {
    "duration": 1879,
    "start_time": "2022-08-26T03:56:42.465Z"
   },
   {
    "duration": 1910,
    "start_time": "2022-08-26T03:56:44.345Z"
   },
   {
    "duration": 1772,
    "start_time": "2022-08-26T03:56:46.257Z"
   },
   {
    "duration": 5,
    "start_time": "2022-08-26T03:56:48.031Z"
   },
   {
    "duration": 7,
    "start_time": "2022-08-26T03:56:48.038Z"
   },
   {
    "duration": 11,
    "start_time": "2022-08-26T03:56:48.046Z"
   },
   {
    "duration": 7,
    "start_time": "2022-08-26T03:56:48.058Z"
   },
   {
    "duration": 22,
    "start_time": "2022-08-26T03:56:48.066Z"
   },
   {
    "duration": 8,
    "start_time": "2022-08-26T03:56:48.090Z"
   },
   {
    "duration": 6,
    "start_time": "2022-08-26T03:56:48.100Z"
   },
   {
    "duration": 10,
    "start_time": "2022-08-26T03:56:48.107Z"
   },
   {
    "duration": 9,
    "start_time": "2022-08-26T03:56:48.118Z"
   },
   {
    "duration": 8,
    "start_time": "2022-08-26T03:56:48.129Z"
   },
   {
    "duration": 1358,
    "start_time": "2022-08-26T04:05:29.308Z"
   },
   {
    "duration": 38,
    "start_time": "2022-08-26T04:05:30.668Z"
   },
   {
    "duration": 12,
    "start_time": "2022-08-26T04:05:30.707Z"
   },
   {
    "duration": 72,
    "start_time": "2022-08-26T04:05:30.721Z"
   },
   {
    "duration": 13,
    "start_time": "2022-08-26T04:05:30.795Z"
   },
   {
    "duration": 29,
    "start_time": "2022-08-26T04:05:30.809Z"
   },
   {
    "duration": 156,
    "start_time": "2022-08-26T04:05:30.839Z"
   },
   {
    "duration": 9,
    "start_time": "2022-08-26T04:05:31.000Z"
   },
   {
    "duration": 2017,
    "start_time": "2022-08-26T04:05:31.011Z"
   },
   {
    "duration": 2213,
    "start_time": "2022-08-26T04:05:33.031Z"
   },
   {
    "duration": 1577,
    "start_time": "2022-08-26T04:05:35.246Z"
   },
   {
    "duration": 4,
    "start_time": "2022-08-26T04:05:36.824Z"
   },
   {
    "duration": 5,
    "start_time": "2022-08-26T04:05:36.830Z"
   },
   {
    "duration": 6,
    "start_time": "2022-08-26T04:05:36.836Z"
   },
   {
    "duration": 1044,
    "start_time": "2022-08-26T04:05:36.843Z"
   },
   {
    "duration": 14,
    "start_time": "2022-08-26T04:05:37.890Z"
   },
   {
    "duration": 443,
    "start_time": "2022-08-26T04:05:37.907Z"
   },
   {
    "duration": 7,
    "start_time": "2022-08-26T04:05:38.352Z"
   },
   {
    "duration": 9,
    "start_time": "2022-08-26T04:05:38.360Z"
   },
   {
    "duration": 563,
    "start_time": "2022-08-26T04:05:38.370Z"
   },
   {
    "duration": 109212,
    "start_time": "2022-08-26T04:05:38.934Z"
   },
   {
    "duration": 848,
    "start_time": "2022-08-26T04:07:28.147Z"
   },
   {
    "duration": 5,
    "start_time": "2022-08-26T04:07:28.999Z"
   },
   {
    "duration": 304,
    "start_time": "2022-08-26T04:07:29.006Z"
   },
   {
    "duration": 12,
    "start_time": "2022-08-26T04:07:29.311Z"
   },
   {
    "duration": 2084,
    "start_time": "2022-08-26T04:07:29.324Z"
   },
   {
    "duration": 1891,
    "start_time": "2022-08-26T04:07:31.410Z"
   },
   {
    "duration": 2044,
    "start_time": "2022-08-26T04:07:33.305Z"
   },
   {
    "duration": 1906,
    "start_time": "2022-08-26T04:07:35.351Z"
   },
   {
    "duration": 1888,
    "start_time": "2022-08-26T04:07:37.258Z"
   },
   {
    "duration": 6,
    "start_time": "2022-08-26T04:07:39.147Z"
   },
   {
    "duration": 9,
    "start_time": "2022-08-26T04:07:39.155Z"
   },
   {
    "duration": 24,
    "start_time": "2022-08-26T04:07:39.166Z"
   },
   {
    "duration": 16,
    "start_time": "2022-08-26T04:07:39.193Z"
   },
   {
    "duration": 7,
    "start_time": "2022-08-26T04:07:39.211Z"
   },
   {
    "duration": 9,
    "start_time": "2022-08-26T04:07:39.219Z"
   },
   {
    "duration": 8,
    "start_time": "2022-08-26T04:07:39.229Z"
   },
   {
    "duration": 6,
    "start_time": "2022-08-26T04:07:39.239Z"
   },
   {
    "duration": 15,
    "start_time": "2022-08-26T04:07:39.246Z"
   },
   {
    "duration": 7,
    "start_time": "2022-08-26T04:07:39.262Z"
   },
   {
    "duration": 1724,
    "start_time": "2022-08-27T14:39:54.775Z"
   },
   {
    "duration": 72,
    "start_time": "2022-08-27T14:39:56.501Z"
   },
   {
    "duration": 14,
    "start_time": "2022-08-27T14:39:56.575Z"
   },
   {
    "duration": 67,
    "start_time": "2022-08-27T14:39:56.592Z"
   },
   {
    "duration": 12,
    "start_time": "2022-08-27T14:39:56.660Z"
   },
   {
    "duration": 24,
    "start_time": "2022-08-27T14:39:56.674Z"
   },
   {
    "duration": 151,
    "start_time": "2022-08-27T14:39:56.700Z"
   },
   {
    "duration": 98,
    "start_time": "2022-08-27T14:40:10.283Z"
   },
   {
    "duration": 118,
    "start_time": "2022-08-27T14:43:29.015Z"
   },
   {
    "duration": 9,
    "start_time": "2022-08-27T14:43:34.664Z"
   },
   {
    "duration": 20,
    "start_time": "2022-08-27T14:43:37.534Z"
   },
   {
    "duration": 10,
    "start_time": "2022-08-27T14:43:54.791Z"
   },
   {
    "duration": 162,
    "start_time": "2022-08-27T14:44:00.455Z"
   },
   {
    "duration": 15,
    "start_time": "2022-08-27T14:44:07.864Z"
   },
   {
    "duration": 16,
    "start_time": "2022-08-27T14:44:12.257Z"
   },
   {
    "duration": 14,
    "start_time": "2022-08-27T14:44:17.017Z"
   },
   {
    "duration": 186,
    "start_time": "2022-08-27T14:44:30.646Z"
   },
   {
    "duration": 1490,
    "start_time": "2022-08-27T14:47:37.352Z"
   },
   {
    "duration": 37,
    "start_time": "2022-08-27T14:47:38.845Z"
   },
   {
    "duration": 15,
    "start_time": "2022-08-27T14:47:38.884Z"
   },
   {
    "duration": 60,
    "start_time": "2022-08-27T14:47:38.900Z"
   },
   {
    "duration": 30,
    "start_time": "2022-08-27T14:47:38.962Z"
   },
   {
    "duration": 16,
    "start_time": "2022-08-27T14:47:38.994Z"
   },
   {
    "duration": 163,
    "start_time": "2022-08-27T14:47:39.012Z"
   },
   {
    "duration": 18,
    "start_time": "2022-08-27T14:47:39.177Z"
   },
   {
    "duration": 2157,
    "start_time": "2022-08-27T14:47:39.198Z"
   },
   {
    "duration": 2116,
    "start_time": "2022-08-27T14:47:41.356Z"
   },
   {
    "duration": 304,
    "start_time": "2022-08-27T14:47:43.475Z"
   },
   {
    "duration": 1549,
    "start_time": "2022-08-27T14:47:43.781Z"
   },
   {
    "duration": 5,
    "start_time": "2022-08-27T14:47:45.332Z"
   },
   {
    "duration": 11,
    "start_time": "2022-08-27T14:47:45.340Z"
   },
   {
    "duration": 12,
    "start_time": "2022-08-27T14:47:45.352Z"
   },
   {
    "duration": 14224,
    "start_time": "2022-08-27T14:47:45.367Z"
   },
   {
    "duration": 9,
    "start_time": "2022-08-27T14:47:59.594Z"
   },
   {
    "duration": 366,
    "start_time": "2022-08-27T14:47:59.604Z"
   },
   {
    "duration": 15,
    "start_time": "2022-08-27T14:47:59.972Z"
   },
   {
    "duration": 42,
    "start_time": "2022-08-27T14:47:59.988Z"
   },
   {
    "duration": 591,
    "start_time": "2022-08-27T14:48:00.032Z"
   },
   {
    "duration": 109931,
    "start_time": "2022-08-27T14:48:00.624Z"
   },
   {
    "duration": 1432,
    "start_time": "2022-08-27T14:49:50.556Z"
   },
   {
    "duration": 4,
    "start_time": "2022-08-27T14:49:51.989Z"
   },
   {
    "duration": 266,
    "start_time": "2022-08-27T14:49:51.995Z"
   },
   {
    "duration": 15,
    "start_time": "2022-08-27T14:49:52.263Z"
   },
   {
    "duration": 1982,
    "start_time": "2022-08-27T14:49:52.287Z"
   },
   {
    "duration": 1818,
    "start_time": "2022-08-27T14:49:54.270Z"
   },
   {
    "duration": 1922,
    "start_time": "2022-08-27T14:49:56.090Z"
   },
   {
    "duration": 1805,
    "start_time": "2022-08-27T14:49:58.014Z"
   },
   {
    "duration": 1926,
    "start_time": "2022-08-27T14:49:59.820Z"
   },
   {
    "duration": 7,
    "start_time": "2022-08-27T14:50:01.748Z"
   },
   {
    "duration": 26,
    "start_time": "2022-08-27T14:50:01.756Z"
   },
   {
    "duration": 20,
    "start_time": "2022-08-27T14:50:01.783Z"
   },
   {
    "duration": 21,
    "start_time": "2022-08-27T14:50:01.805Z"
   },
   {
    "duration": 25,
    "start_time": "2022-08-27T14:50:01.828Z"
   },
   {
    "duration": 36,
    "start_time": "2022-08-27T14:50:01.855Z"
   },
   {
    "duration": 31,
    "start_time": "2022-08-27T14:50:01.893Z"
   },
   {
    "duration": 31,
    "start_time": "2022-08-27T14:50:01.926Z"
   },
   {
    "duration": 31,
    "start_time": "2022-08-27T14:50:01.958Z"
   },
   {
    "duration": 50,
    "start_time": "2022-08-27T14:50:01.993Z"
   },
   {
    "duration": 785,
    "start_time": "2022-08-27T14:50:02.101Z"
   },
   {
    "duration": 105,
    "start_time": "2022-08-27T14:50:02.889Z"
   },
   {
    "duration": 10368,
    "start_time": "2022-08-27T14:50:49.025Z"
   },
   {
    "duration": 3053,
    "start_time": "2022-08-27T14:51:50.934Z"
   },
   {
    "duration": 992,
    "start_time": "2022-08-27T14:51:57.298Z"
   },
   {
    "duration": 52,
    "start_time": "2022-08-27T22:49:02.377Z"
   },
   {
    "duration": 1665,
    "start_time": "2022-08-27T22:49:08.655Z"
   },
   {
    "duration": 74,
    "start_time": "2022-08-27T22:49:10.323Z"
   },
   {
    "duration": 14,
    "start_time": "2022-08-27T22:49:10.400Z"
   },
   {
    "duration": 49,
    "start_time": "2022-08-27T22:49:10.416Z"
   },
   {
    "duration": 13,
    "start_time": "2022-08-27T22:49:10.467Z"
   },
   {
    "duration": 22,
    "start_time": "2022-08-27T22:49:10.486Z"
   },
   {
    "duration": 93,
    "start_time": "2022-08-27T22:49:10.510Z"
   },
   {
    "duration": 9,
    "start_time": "2022-08-27T22:49:10.605Z"
   },
   {
    "duration": 2138,
    "start_time": "2022-08-27T22:49:10.615Z"
   },
   {
    "duration": 2226,
    "start_time": "2022-08-27T22:49:12.755Z"
   },
   {
    "duration": 224,
    "start_time": "2022-08-27T22:49:14.987Z"
   },
   {
    "duration": 1614,
    "start_time": "2022-08-27T22:49:15.212Z"
   },
   {
    "duration": 4,
    "start_time": "2022-08-27T22:49:16.828Z"
   },
   {
    "duration": 6,
    "start_time": "2022-08-27T22:49:16.835Z"
   },
   {
    "duration": 8,
    "start_time": "2022-08-27T22:49:16.842Z"
   },
   {
    "duration": 15,
    "start_time": "2022-08-27T22:49:16.851Z"
   },
   {
    "duration": 1320,
    "start_time": "2022-08-27T22:49:16.868Z"
   },
   {
    "duration": 96,
    "start_time": "2022-08-27T22:49:18.190Z"
   },
   {
    "duration": 366,
    "start_time": "2022-08-27T22:49:18.294Z"
   },
   {
    "duration": 6,
    "start_time": "2022-08-27T22:49:18.662Z"
   },
   {
    "duration": 8,
    "start_time": "2022-08-27T22:49:18.670Z"
   },
   {
    "duration": 622,
    "start_time": "2022-08-27T22:49:18.679Z"
   },
   {
    "duration": 117032,
    "start_time": "2022-08-27T22:49:19.302Z"
   },
   {
    "duration": 1051,
    "start_time": "2022-08-27T22:51:16.336Z"
   },
   {
    "duration": 5,
    "start_time": "2022-08-27T22:51:17.395Z"
   },
   {
    "duration": 249,
    "start_time": "2022-08-27T22:51:17.402Z"
   },
   {
    "duration": 12,
    "start_time": "2022-08-27T22:51:17.652Z"
   },
   {
    "duration": 2082,
    "start_time": "2022-08-27T22:51:17.666Z"
   },
   {
    "duration": 1884,
    "start_time": "2022-08-27T22:51:19.749Z"
   },
   {
    "duration": 1905,
    "start_time": "2022-08-27T22:51:21.634Z"
   },
   {
    "duration": 1927,
    "start_time": "2022-08-27T22:51:23.541Z"
   },
   {
    "duration": 2025,
    "start_time": "2022-08-27T22:51:25.470Z"
   },
   {
    "duration": 8,
    "start_time": "2022-08-27T22:51:27.497Z"
   },
   {
    "duration": 11,
    "start_time": "2022-08-27T22:51:27.506Z"
   },
   {
    "duration": 7,
    "start_time": "2022-08-27T22:51:27.519Z"
   },
   {
    "duration": 7,
    "start_time": "2022-08-27T22:51:27.527Z"
   },
   {
    "duration": 19,
    "start_time": "2022-08-27T22:51:27.536Z"
   },
   {
    "duration": 15,
    "start_time": "2022-08-27T22:51:27.557Z"
   },
   {
    "duration": 16,
    "start_time": "2022-08-27T22:51:27.573Z"
   },
   {
    "duration": 19,
    "start_time": "2022-08-27T22:51:27.591Z"
   },
   {
    "duration": 9,
    "start_time": "2022-08-27T22:51:27.615Z"
   },
   {
    "duration": 13,
    "start_time": "2022-08-27T22:51:27.625Z"
   },
   {
    "duration": 183,
    "start_time": "2022-08-27T22:59:49.727Z"
   },
   {
    "duration": 127,
    "start_time": "2022-08-27T23:15:42.068Z"
   },
   {
    "duration": 10,
    "start_time": "2022-08-27T23:15:54.352Z"
   },
   {
    "duration": 10,
    "start_time": "2022-08-27T23:15:54.442Z"
   },
   {
    "duration": 10,
    "start_time": "2022-08-27T23:15:56.314Z"
   },
   {
    "duration": 2622,
    "start_time": "2022-08-27T23:15:58.265Z"
   },
   {
    "duration": 2688,
    "start_time": "2022-08-27T23:16:27.303Z"
   },
   {
    "duration": 9,
    "start_time": "2022-08-27T23:40:59.785Z"
   },
   {
    "duration": 62,
    "start_time": "2022-08-27T23:42:47.904Z"
   },
   {
    "duration": 7,
    "start_time": "2022-08-27T23:42:52.856Z"
   },
   {
    "duration": 8,
    "start_time": "2022-08-27T23:44:11.383Z"
   },
   {
    "duration": 6,
    "start_time": "2022-08-27T23:44:19.472Z"
   },
   {
    "duration": 108,
    "start_time": "2022-08-27T23:50:37.903Z"
   },
   {
    "duration": 10,
    "start_time": "2022-08-27T23:50:57.204Z"
   },
   {
    "duration": 197,
    "start_time": "2022-08-27T23:53:33.383Z"
   },
   {
    "duration": 194,
    "start_time": "2022-08-27T23:54:41.705Z"
   },
   {
    "duration": 104,
    "start_time": "2022-08-28T00:01:10.111Z"
   },
   {
    "duration": 85,
    "start_time": "2022-08-28T00:01:15.084Z"
   },
   {
    "duration": 106,
    "start_time": "2022-08-28T00:01:20.321Z"
   },
   {
    "duration": 199,
    "start_time": "2022-08-28T00:01:23.590Z"
   },
   {
    "duration": 5,
    "start_time": "2022-08-28T00:01:58.770Z"
   },
   {
    "duration": 16,
    "start_time": "2022-08-28T00:02:35.857Z"
   },
   {
    "duration": 15,
    "start_time": "2022-08-28T00:03:01.299Z"
   },
   {
    "duration": 10,
    "start_time": "2022-08-28T00:03:05.640Z"
   },
   {
    "duration": 10,
    "start_time": "2022-08-28T00:03:16.770Z"
   },
   {
    "duration": 50,
    "start_time": "2022-08-28T00:03:21.313Z"
   },
   {
    "duration": 13,
    "start_time": "2022-08-28T00:03:23.749Z"
   },
   {
    "duration": 10,
    "start_time": "2022-08-28T00:03:30.443Z"
   },
   {
    "duration": 11,
    "start_time": "2022-08-28T00:03:41.900Z"
   },
   {
    "duration": 10,
    "start_time": "2022-08-28T00:04:27.074Z"
   },
   {
    "duration": 9,
    "start_time": "2022-08-28T00:04:29.212Z"
   },
   {
    "duration": 10,
    "start_time": "2022-08-28T00:04:34.227Z"
   },
   {
    "duration": 430,
    "start_time": "2022-08-28T00:05:07.441Z"
   },
   {
    "duration": 18,
    "start_time": "2022-08-28T00:05:12.495Z"
   },
   {
    "duration": 17,
    "start_time": "2022-08-28T00:05:41.451Z"
   },
   {
    "duration": 9,
    "start_time": "2022-08-28T00:05:48.939Z"
   },
   {
    "duration": 85,
    "start_time": "2022-08-28T00:05:53.916Z"
   },
   {
    "duration": 128,
    "start_time": "2022-08-28T00:06:07.449Z"
   },
   {
    "duration": 127,
    "start_time": "2022-08-28T00:06:36.630Z"
   },
   {
    "duration": 93,
    "start_time": "2022-08-28T00:07:49.041Z"
   },
   {
    "duration": 122,
    "start_time": "2022-08-28T00:07:52.225Z"
   },
   {
    "duration": 11,
    "start_time": "2022-08-28T00:09:01.559Z"
   },
   {
    "duration": 10,
    "start_time": "2022-08-28T00:09:07.021Z"
   },
   {
    "duration": 14,
    "start_time": "2022-08-28T00:09:12.371Z"
   },
   {
    "duration": 18,
    "start_time": "2022-08-28T00:09:22.519Z"
   },
   {
    "duration": 16,
    "start_time": "2022-08-28T00:09:56.995Z"
   },
   {
    "duration": 17,
    "start_time": "2022-08-28T00:10:09.486Z"
   },
   {
    "duration": 14,
    "start_time": "2022-08-28T00:10:35.718Z"
   },
   {
    "duration": 18,
    "start_time": "2022-08-28T00:10:38.907Z"
   },
   {
    "duration": 14,
    "start_time": "2022-08-28T00:10:48.364Z"
   },
   {
    "duration": 18,
    "start_time": "2022-08-28T00:11:20.793Z"
   },
   {
    "duration": 18,
    "start_time": "2022-08-28T00:11:32.194Z"
   },
   {
    "duration": 110,
    "start_time": "2022-08-28T00:12:42.352Z"
   },
   {
    "duration": 17,
    "start_time": "2022-08-28T00:12:57.321Z"
   },
   {
    "duration": 20,
    "start_time": "2022-08-28T00:13:07.584Z"
   },
   {
    "duration": 228,
    "start_time": "2022-08-28T00:13:24.020Z"
   },
   {
    "duration": 145,
    "start_time": "2022-08-28T00:13:41.760Z"
   },
   {
    "duration": 10,
    "start_time": "2022-08-28T00:13:52.321Z"
   },
   {
    "duration": 135,
    "start_time": "2022-08-28T00:13:55.701Z"
   },
   {
    "duration": 10,
    "start_time": "2022-08-28T00:40:17.414Z"
   },
   {
    "duration": 83,
    "start_time": "2022-08-28T00:44:24.747Z"
   },
   {
    "duration": 344,
    "start_time": "2022-08-28T00:44:46.512Z"
   },
   {
    "duration": 237,
    "start_time": "2022-08-28T00:44:51.744Z"
   },
   {
    "duration": 711,
    "start_time": "2022-08-28T00:45:40.213Z"
   },
   {
    "duration": 3,
    "start_time": "2022-08-28T00:48:54.714Z"
   },
   {
    "duration": 874,
    "start_time": "2022-08-28T00:49:01.037Z"
   },
   {
    "duration": 5,
    "start_time": "2022-08-28T00:49:21.031Z"
   },
   {
    "duration": 201,
    "start_time": "2022-08-28T00:50:16.260Z"
   },
   {
    "duration": 15,
    "start_time": "2022-08-28T00:50:31.739Z"
   },
   {
    "duration": 155,
    "start_time": "2022-08-28T00:50:35.125Z"
   },
   {
    "duration": 147,
    "start_time": "2022-08-28T00:51:04.588Z"
   },
   {
    "duration": 146,
    "start_time": "2022-08-28T00:51:29.435Z"
   },
   {
    "duration": 147,
    "start_time": "2022-08-28T00:51:46.478Z"
   },
   {
    "duration": 141,
    "start_time": "2022-08-28T00:51:51.142Z"
   },
   {
    "duration": 111,
    "start_time": "2022-08-28T00:52:02.770Z"
   },
   {
    "duration": 110,
    "start_time": "2022-08-28T00:52:09.609Z"
   },
   {
    "duration": 153,
    "start_time": "2022-08-28T00:52:27.450Z"
   },
   {
    "duration": 158,
    "start_time": "2022-08-28T00:52:32.290Z"
   },
   {
    "duration": 290,
    "start_time": "2022-08-28T00:52:37.344Z"
   },
   {
    "duration": 46,
    "start_time": "2022-08-28T00:52:54.252Z"
   },
   {
    "duration": 148,
    "start_time": "2022-08-28T00:52:58.139Z"
   },
   {
    "duration": 153,
    "start_time": "2022-08-28T00:53:32.278Z"
   },
   {
    "duration": 144,
    "start_time": "2022-08-28T00:54:30.454Z"
   },
   {
    "duration": 150,
    "start_time": "2022-08-28T00:55:04.056Z"
   },
   {
    "duration": 156,
    "start_time": "2022-08-28T00:55:17.941Z"
   },
   {
    "duration": 143,
    "start_time": "2022-08-28T00:55:43.921Z"
   },
   {
    "duration": 813,
    "start_time": "2022-08-28T00:57:54.566Z"
   },
   {
    "duration": 7,
    "start_time": "2022-08-28T01:06:59.094Z"
   },
   {
    "duration": 4,
    "start_time": "2022-08-28T01:09:01.933Z"
   },
   {
    "duration": 4,
    "start_time": "2022-08-28T01:09:06.927Z"
   },
   {
    "duration": 9,
    "start_time": "2022-08-28T01:09:28.079Z"
   },
   {
    "duration": 103,
    "start_time": "2022-08-28T01:10:25.116Z"
   },
   {
    "duration": 60,
    "start_time": "2022-08-28T01:10:29.019Z"
   },
   {
    "duration": 29,
    "start_time": "2022-08-28T01:11:48.217Z"
   },
   {
    "duration": 28,
    "start_time": "2022-08-28T01:12:00.198Z"
   },
   {
    "duration": 18,
    "start_time": "2022-08-28T01:12:32.542Z"
   },
   {
    "duration": 36,
    "start_time": "2022-08-28T01:12:45.803Z"
   },
   {
    "duration": 17,
    "start_time": "2022-08-28T01:12:50.783Z"
   },
   {
    "duration": 7,
    "start_time": "2022-08-28T01:13:14.098Z"
   },
   {
    "duration": 8,
    "start_time": "2022-08-28T01:13:23.286Z"
   },
   {
    "duration": 7,
    "start_time": "2022-08-28T01:13:32.333Z"
   },
   {
    "duration": 7,
    "start_time": "2022-08-28T01:13:39.078Z"
   },
   {
    "duration": 1388,
    "start_time": "2022-08-28T01:15:47.822Z"
   },
   {
    "duration": 35,
    "start_time": "2022-08-28T01:15:49.211Z"
   },
   {
    "duration": 11,
    "start_time": "2022-08-28T01:15:49.248Z"
   },
   {
    "duration": 46,
    "start_time": "2022-08-28T01:15:49.261Z"
   },
   {
    "duration": 12,
    "start_time": "2022-08-28T01:15:49.308Z"
   },
   {
    "duration": 17,
    "start_time": "2022-08-28T01:15:49.321Z"
   },
   {
    "duration": 85,
    "start_time": "2022-08-28T01:15:49.339Z"
   },
   {
    "duration": 8,
    "start_time": "2022-08-28T01:15:49.425Z"
   },
   {
    "duration": 1985,
    "start_time": "2022-08-28T01:15:49.435Z"
   },
   {
    "duration": 1958,
    "start_time": "2022-08-28T01:15:51.423Z"
   },
   {
    "duration": 2738,
    "start_time": "2022-08-28T01:15:53.383Z"
   },
   {
    "duration": 2,
    "start_time": "2022-08-28T01:15:56.123Z"
   },
   {
    "duration": 1488,
    "start_time": "2022-08-28T01:15:56.126Z"
   },
   {
    "duration": 4,
    "start_time": "2022-08-28T01:15:57.616Z"
   },
   {
    "duration": 13,
    "start_time": "2022-08-28T01:15:57.622Z"
   },
   {
    "duration": 9,
    "start_time": "2022-08-28T01:15:57.636Z"
   },
   {
    "duration": 454,
    "start_time": "2022-08-28T01:15:57.646Z"
   },
   {
    "duration": 2290,
    "start_time": "2022-08-28T01:15:58.103Z"
   },
   {
    "duration": 96,
    "start_time": "2022-08-28T01:16:00.396Z"
   },
   {
    "duration": 396,
    "start_time": "2022-08-28T01:16:00.494Z"
   },
   {
    "duration": 7,
    "start_time": "2022-08-28T01:16:00.892Z"
   },
   {
    "duration": 24,
    "start_time": "2022-08-28T01:16:00.901Z"
   },
   {
    "duration": 609,
    "start_time": "2022-08-28T01:16:00.926Z"
   },
   {
    "duration": 107421,
    "start_time": "2022-08-28T01:16:01.537Z"
   },
   {
    "duration": 1527,
    "start_time": "2022-08-28T01:17:48.960Z"
   },
   {
    "duration": 3,
    "start_time": "2022-08-28T01:17:50.489Z"
   },
   {
    "duration": 150,
    "start_time": "2022-08-28T01:17:50.494Z"
   },
   {
    "duration": 4,
    "start_time": "2022-08-28T01:17:50.647Z"
   },
   {
    "duration": 918,
    "start_time": "2022-08-28T01:17:50.653Z"
   },
   {
    "duration": 701,
    "start_time": "2022-08-28T01:17:51.573Z"
   },
   {
    "duration": 271,
    "start_time": "2022-08-28T01:17:52.276Z"
   },
   {
    "duration": 149,
    "start_time": "2022-08-28T01:17:52.549Z"
   },
   {
    "duration": 162,
    "start_time": "2022-08-28T01:17:52.700Z"
   },
   {
    "duration": 154,
    "start_time": "2022-08-28T01:17:52.864Z"
   },
   {
    "duration": 161,
    "start_time": "2022-08-28T01:17:53.020Z"
   },
   {
    "duration": 6,
    "start_time": "2022-08-28T01:17:53.187Z"
   },
   {
    "duration": 8,
    "start_time": "2022-08-28T01:17:53.195Z"
   },
   {
    "duration": 7,
    "start_time": "2022-08-28T01:17:53.205Z"
   },
   {
    "duration": 8,
    "start_time": "2022-08-28T01:17:53.214Z"
   },
   {
    "duration": 8,
    "start_time": "2022-08-28T01:17:53.224Z"
   },
   {
    "duration": 135,
    "start_time": "2022-08-28T01:36:32.145Z"
   },
   {
    "duration": 1328,
    "start_time": "2022-08-28T01:57:39.656Z"
   },
   {
    "duration": 34,
    "start_time": "2022-08-28T01:57:40.986Z"
   },
   {
    "duration": 11,
    "start_time": "2022-08-28T01:57:41.021Z"
   },
   {
    "duration": 42,
    "start_time": "2022-08-28T01:57:41.034Z"
   },
   {
    "duration": 10,
    "start_time": "2022-08-28T01:57:41.077Z"
   },
   {
    "duration": 14,
    "start_time": "2022-08-28T01:57:41.089Z"
   },
   {
    "duration": 65,
    "start_time": "2022-08-28T01:57:41.104Z"
   },
   {
    "duration": 2552,
    "start_time": "2022-08-28T01:57:41.171Z"
   },
   {
    "duration": 2,
    "start_time": "2022-08-28T01:57:43.725Z"
   },
   {
    "duration": 1497,
    "start_time": "2022-08-28T01:57:43.729Z"
   },
   {
    "duration": 4,
    "start_time": "2022-08-28T01:57:45.227Z"
   },
   {
    "duration": 8,
    "start_time": "2022-08-28T01:57:45.233Z"
   },
   {
    "duration": 14,
    "start_time": "2022-08-28T01:57:45.243Z"
   },
   {
    "duration": 447,
    "start_time": "2022-08-28T01:57:45.258Z"
   },
   {
    "duration": 2384,
    "start_time": "2022-08-28T01:57:45.707Z"
   },
   {
    "duration": 94,
    "start_time": "2022-08-28T01:57:48.094Z"
   },
   {
    "duration": 354,
    "start_time": "2022-08-28T01:57:48.189Z"
   },
   {
    "duration": 8,
    "start_time": "2022-08-28T01:57:48.544Z"
   },
   {
    "duration": 8,
    "start_time": "2022-08-28T01:57:48.554Z"
   },
   {
    "duration": 576,
    "start_time": "2022-08-28T01:57:48.564Z"
   },
   {
    "duration": 106306,
    "start_time": "2022-08-28T01:57:49.142Z"
   },
   {
    "duration": 1439,
    "start_time": "2022-08-28T01:59:35.450Z"
   },
   {
    "duration": 4,
    "start_time": "2022-08-28T01:59:36.890Z"
   },
   {
    "duration": 146,
    "start_time": "2022-08-28T01:59:36.896Z"
   },
   {
    "duration": 146,
    "start_time": "2022-08-28T01:59:37.043Z"
   },
   {
    "duration": 141,
    "start_time": "2022-08-28T01:59:37.191Z"
   },
   {
    "duration": 152,
    "start_time": "2022-08-28T01:59:37.334Z"
   },
   {
    "duration": 166,
    "start_time": "2022-08-28T01:59:37.490Z"
   },
   {
    "duration": 151,
    "start_time": "2022-08-28T01:59:37.657Z"
   },
   {
    "duration": 8,
    "start_time": "2022-08-28T01:59:37.810Z"
   },
   {
    "duration": 12,
    "start_time": "2022-08-28T01:59:37.819Z"
   },
   {
    "duration": 7,
    "start_time": "2022-08-28T01:59:37.832Z"
   },
   {
    "duration": 8,
    "start_time": "2022-08-28T01:59:37.840Z"
   },
   {
    "duration": 7,
    "start_time": "2022-08-28T01:59:37.850Z"
   },
   {
    "duration": 158,
    "start_time": "2022-08-28T01:59:37.859Z"
   },
   {
    "duration": 130,
    "start_time": "2022-08-28T02:02:20.827Z"
   },
   {
    "duration": 1369,
    "start_time": "2022-08-28T02:02:41.621Z"
   },
   {
    "duration": 33,
    "start_time": "2022-08-28T02:02:42.992Z"
   },
   {
    "duration": 11,
    "start_time": "2022-08-28T02:02:43.027Z"
   },
   {
    "duration": 43,
    "start_time": "2022-08-28T02:02:43.040Z"
   },
   {
    "duration": 10,
    "start_time": "2022-08-28T02:02:43.085Z"
   },
   {
    "duration": 16,
    "start_time": "2022-08-28T02:02:43.096Z"
   },
   {
    "duration": 74,
    "start_time": "2022-08-28T02:02:43.114Z"
   },
   {
    "duration": 2503,
    "start_time": "2022-08-28T02:02:43.189Z"
   },
   {
    "duration": 3,
    "start_time": "2022-08-28T02:02:45.693Z"
   },
   {
    "duration": 1564,
    "start_time": "2022-08-28T02:02:45.698Z"
   },
   {
    "duration": 4,
    "start_time": "2022-08-28T02:02:47.264Z"
   },
   {
    "duration": 8,
    "start_time": "2022-08-28T02:02:47.269Z"
   },
   {
    "duration": 16,
    "start_time": "2022-08-28T02:02:47.278Z"
   },
   {
    "duration": 448,
    "start_time": "2022-08-28T02:02:47.296Z"
   },
   {
    "duration": 2445,
    "start_time": "2022-08-28T02:02:47.746Z"
   },
   {
    "duration": 95,
    "start_time": "2022-08-28T02:02:50.194Z"
   },
   {
    "duration": 347,
    "start_time": "2022-08-28T02:02:50.291Z"
   },
   {
    "duration": 7,
    "start_time": "2022-08-28T02:02:50.639Z"
   },
   {
    "duration": 9,
    "start_time": "2022-08-28T02:02:50.647Z"
   },
   {
    "duration": 556,
    "start_time": "2022-08-28T02:02:50.658Z"
   },
   {
    "duration": 105244,
    "start_time": "2022-08-28T02:02:51.216Z"
   },
   {
    "duration": 1526,
    "start_time": "2022-08-28T02:04:36.461Z"
   },
   {
    "duration": 3,
    "start_time": "2022-08-28T02:04:37.989Z"
   },
   {
    "duration": 145,
    "start_time": "2022-08-28T02:04:37.994Z"
   },
   {
    "duration": 146,
    "start_time": "2022-08-28T02:04:38.141Z"
   },
   {
    "duration": 139,
    "start_time": "2022-08-28T02:04:38.289Z"
   },
   {
    "duration": 147,
    "start_time": "2022-08-28T02:04:38.430Z"
   },
   {
    "duration": 150,
    "start_time": "2022-08-28T02:04:38.586Z"
   },
   {
    "duration": 150,
    "start_time": "2022-08-28T02:04:38.739Z"
   },
   {
    "duration": 137,
    "start_time": "2022-08-28T02:04:38.890Z"
   },
   {
    "duration": 7,
    "start_time": "2022-08-28T02:04:39.029Z"
   },
   {
    "duration": 10,
    "start_time": "2022-08-28T02:04:39.038Z"
   },
   {
    "duration": 6,
    "start_time": "2022-08-28T02:04:39.050Z"
   },
   {
    "duration": 31,
    "start_time": "2022-08-28T02:04:39.058Z"
   },
   {
    "duration": 6,
    "start_time": "2022-08-28T02:04:39.091Z"
   },
   {
    "duration": 141,
    "start_time": "2022-08-28T02:04:39.099Z"
   },
   {
    "duration": 1600,
    "start_time": "2022-08-29T00:32:26.461Z"
   },
   {
    "duration": 69,
    "start_time": "2022-08-29T00:32:28.063Z"
   },
   {
    "duration": 17,
    "start_time": "2022-08-29T00:32:28.134Z"
   },
   {
    "duration": 47,
    "start_time": "2022-08-29T00:32:28.153Z"
   },
   {
    "duration": 10,
    "start_time": "2022-08-29T00:32:28.202Z"
   },
   {
    "duration": 17,
    "start_time": "2022-08-29T00:32:28.213Z"
   },
   {
    "duration": 90,
    "start_time": "2022-08-29T00:32:28.231Z"
   },
   {
    "duration": 2627,
    "start_time": "2022-08-29T00:32:28.323Z"
   },
   {
    "duration": 2,
    "start_time": "2022-08-29T00:32:30.952Z"
   },
   {
    "duration": 1613,
    "start_time": "2022-08-29T00:32:30.958Z"
   },
   {
    "duration": 4,
    "start_time": "2022-08-29T00:32:32.573Z"
   },
   {
    "duration": 27,
    "start_time": "2022-08-29T00:32:32.578Z"
   },
   {
    "duration": 14,
    "start_time": "2022-08-29T00:32:32.606Z"
   },
   {
    "duration": 502,
    "start_time": "2022-08-29T00:32:32.622Z"
   },
   {
    "duration": 1960,
    "start_time": "2022-08-29T00:32:33.126Z"
   },
   {
    "duration": 8,
    "start_time": "2022-08-29T00:32:35.087Z"
   },
   {
    "duration": 361,
    "start_time": "2022-08-29T00:32:35.185Z"
   },
   {
    "duration": 7,
    "start_time": "2022-08-29T00:32:35.547Z"
   },
   {
    "duration": 12,
    "start_time": "2022-08-29T00:32:35.556Z"
   },
   {
    "duration": 561,
    "start_time": "2022-08-29T00:32:35.570Z"
   },
   {
    "duration": 102693,
    "start_time": "2022-08-29T00:32:36.133Z"
   },
   {
    "duration": 1262,
    "start_time": "2022-08-29T00:34:18.828Z"
   },
   {
    "duration": 93,
    "start_time": "2022-08-29T00:34:20.092Z"
   },
   {
    "duration": 139,
    "start_time": "2022-08-29T00:34:20.187Z"
   },
   {
    "duration": 139,
    "start_time": "2022-08-29T00:34:20.327Z"
   },
   {
    "duration": 156,
    "start_time": "2022-08-29T00:34:20.468Z"
   },
   {
    "duration": 146,
    "start_time": "2022-08-29T00:34:20.626Z"
   },
   {
    "duration": 142,
    "start_time": "2022-08-29T00:34:20.775Z"
   },
   {
    "duration": 145,
    "start_time": "2022-08-29T00:34:20.918Z"
   },
   {
    "duration": 139,
    "start_time": "2022-08-29T00:34:21.065Z"
   },
   {
    "duration": 7,
    "start_time": "2022-08-29T00:34:21.206Z"
   },
   {
    "duration": 7,
    "start_time": "2022-08-29T00:34:21.214Z"
   },
   {
    "duration": 6,
    "start_time": "2022-08-29T00:34:21.222Z"
   },
   {
    "duration": 7,
    "start_time": "2022-08-29T00:34:21.229Z"
   },
   {
    "duration": 7,
    "start_time": "2022-08-29T00:34:21.237Z"
   },
   {
    "duration": 337,
    "start_time": "2022-08-29T00:34:21.245Z"
   }
  ],
  "kernelspec": {
   "display_name": "Python 3 (ipykernel)",
   "language": "python",
   "name": "python3"
  },
  "language_info": {
   "codemirror_mode": {
    "name": "ipython",
    "version": 3
   },
   "file_extension": ".py",
   "mimetype": "text/x-python",
   "name": "python",
   "nbconvert_exporter": "python",
   "pygments_lexer": "ipython3",
   "version": "3.9.12"
  },
  "toc": {
   "base_numbering": 1,
   "nav_menu": {},
   "number_sections": true,
   "sideBar": true,
   "skip_h1_title": true,
   "title_cell": "Table of Contents",
   "title_sidebar": "Contents",
   "toc_cell": false,
   "toc_position": {},
   "toc_section_display": true,
   "toc_window_display": false
  }
 },
 "nbformat": 4,
 "nbformat_minor": 2
}
