{
 "cells": [
  {
   "cell_type": "markdown",
   "metadata": {},
   "source": [
    "#  Introduction #\n",
    "\n",
    "Today I will be analyzing a datset containing various video games. The goal:\n",
    "- Determine if there are patterns that determine if a game is successful or not\n",
    "\n",
    "If I am able to detect such patterns, this is will aid in predicting successful games for upcoming new seasons and thus strategically plan advertisting campaigns around them."
   ]
  },
  {
   "cell_type": "markdown",
   "metadata": {},
   "source": [
    "### Precursory Data Analysis and Cleaning ##\n",
    "\n",
    "First I will load the necessary libraries and take my first look into the dataset.\n"
   ]
  },
  {
   "cell_type": "code",
   "execution_count": 1,
   "metadata": {},
   "outputs": [],
   "source": [
    "#importing libraries\n",
    "import pandas as pd\n",
    "import numpy as np\n",
    "from scipy import stats as st\n",
    "import math as math\n",
    "from matplotlib import pyplot as plt\n",
    "\n"
   ]
  },
  {
   "cell_type": "code",
   "execution_count": 2,
   "metadata": {},
   "outputs": [],
   "source": [
    "#preliminary look into the data\n",
    "games = pd.read_csv('/datasets/games.csv')"
   ]
  },
  {
   "cell_type": "code",
   "execution_count": 3,
   "metadata": {},
   "outputs": [
    {
     "name": "stdout",
     "output_type": "stream",
     "text": [
      "<class 'pandas.core.frame.DataFrame'>\n",
      "RangeIndex: 16715 entries, 0 to 16714\n",
      "Data columns (total 11 columns):\n",
      " #   Column           Non-Null Count  Dtype  \n",
      "---  ------           --------------  -----  \n",
      " 0   Name             16713 non-null  object \n",
      " 1   Platform         16715 non-null  object \n",
      " 2   Year_of_Release  16446 non-null  float64\n",
      " 3   Genre            16713 non-null  object \n",
      " 4   NA_sales         16715 non-null  float64\n",
      " 5   EU_sales         16715 non-null  float64\n",
      " 6   JP_sales         16715 non-null  float64\n",
      " 7   Other_sales      16715 non-null  float64\n",
      " 8   Critic_Score     8137 non-null   float64\n",
      " 9   User_Score       10014 non-null  object \n",
      " 10  Rating           9949 non-null   object \n",
      "dtypes: float64(6), object(5)\n",
      "memory usage: 1.4+ MB\n"
     ]
    }
   ],
   "source": [
    "games.info()"
   ]
  },
  {
   "cell_type": "code",
   "execution_count": 4,
   "metadata": {
    "scrolled": true
   },
   "outputs": [
    {
     "data": {
      "text/html": [
       "<div>\n",
       "<style scoped>\n",
       "    .dataframe tbody tr th:only-of-type {\n",
       "        vertical-align: middle;\n",
       "    }\n",
       "\n",
       "    .dataframe tbody tr th {\n",
       "        vertical-align: top;\n",
       "    }\n",
       "\n",
       "    .dataframe thead th {\n",
       "        text-align: right;\n",
       "    }\n",
       "</style>\n",
       "<table border=\"1\" class=\"dataframe\">\n",
       "  <thead>\n",
       "    <tr style=\"text-align: right;\">\n",
       "      <th></th>\n",
       "      <th>Name</th>\n",
       "      <th>Platform</th>\n",
       "      <th>Year_of_Release</th>\n",
       "      <th>Genre</th>\n",
       "      <th>NA_sales</th>\n",
       "      <th>EU_sales</th>\n",
       "      <th>JP_sales</th>\n",
       "      <th>Other_sales</th>\n",
       "      <th>Critic_Score</th>\n",
       "      <th>User_Score</th>\n",
       "      <th>Rating</th>\n",
       "    </tr>\n",
       "  </thead>\n",
       "  <tbody>\n",
       "    <tr>\n",
       "      <th>0</th>\n",
       "      <td>Wii Sports</td>\n",
       "      <td>Wii</td>\n",
       "      <td>2006.0</td>\n",
       "      <td>Sports</td>\n",
       "      <td>41.36</td>\n",
       "      <td>28.96</td>\n",
       "      <td>3.77</td>\n",
       "      <td>8.45</td>\n",
       "      <td>76.0</td>\n",
       "      <td>8</td>\n",
       "      <td>E</td>\n",
       "    </tr>\n",
       "    <tr>\n",
       "      <th>1</th>\n",
       "      <td>Super Mario Bros.</td>\n",
       "      <td>NES</td>\n",
       "      <td>1985.0</td>\n",
       "      <td>Platform</td>\n",
       "      <td>29.08</td>\n",
       "      <td>3.58</td>\n",
       "      <td>6.81</td>\n",
       "      <td>0.77</td>\n",
       "      <td>NaN</td>\n",
       "      <td>NaN</td>\n",
       "      <td>NaN</td>\n",
       "    </tr>\n",
       "    <tr>\n",
       "      <th>2</th>\n",
       "      <td>Mario Kart Wii</td>\n",
       "      <td>Wii</td>\n",
       "      <td>2008.0</td>\n",
       "      <td>Racing</td>\n",
       "      <td>15.68</td>\n",
       "      <td>12.76</td>\n",
       "      <td>3.79</td>\n",
       "      <td>3.29</td>\n",
       "      <td>82.0</td>\n",
       "      <td>8.3</td>\n",
       "      <td>E</td>\n",
       "    </tr>\n",
       "    <tr>\n",
       "      <th>3</th>\n",
       "      <td>Wii Sports Resort</td>\n",
       "      <td>Wii</td>\n",
       "      <td>2009.0</td>\n",
       "      <td>Sports</td>\n",
       "      <td>15.61</td>\n",
       "      <td>10.93</td>\n",
       "      <td>3.28</td>\n",
       "      <td>2.95</td>\n",
       "      <td>80.0</td>\n",
       "      <td>8</td>\n",
       "      <td>E</td>\n",
       "    </tr>\n",
       "    <tr>\n",
       "      <th>4</th>\n",
       "      <td>Pokemon Red/Pokemon Blue</td>\n",
       "      <td>GB</td>\n",
       "      <td>1996.0</td>\n",
       "      <td>Role-Playing</td>\n",
       "      <td>11.27</td>\n",
       "      <td>8.89</td>\n",
       "      <td>10.22</td>\n",
       "      <td>1.00</td>\n",
       "      <td>NaN</td>\n",
       "      <td>NaN</td>\n",
       "      <td>NaN</td>\n",
       "    </tr>\n",
       "  </tbody>\n",
       "</table>\n",
       "</div>"
      ],
      "text/plain": [
       "                       Name Platform  Year_of_Release         Genre  NA_sales  \\\n",
       "0                Wii Sports      Wii           2006.0        Sports     41.36   \n",
       "1         Super Mario Bros.      NES           1985.0      Platform     29.08   \n",
       "2            Mario Kart Wii      Wii           2008.0        Racing     15.68   \n",
       "3         Wii Sports Resort      Wii           2009.0        Sports     15.61   \n",
       "4  Pokemon Red/Pokemon Blue       GB           1996.0  Role-Playing     11.27   \n",
       "\n",
       "   EU_sales  JP_sales  Other_sales  Critic_Score User_Score Rating  \n",
       "0     28.96      3.77         8.45          76.0          8      E  \n",
       "1      3.58      6.81         0.77           NaN        NaN    NaN  \n",
       "2     12.76      3.79         3.29          82.0        8.3      E  \n",
       "3     10.93      3.28         2.95          80.0          8      E  \n",
       "4      8.89     10.22         1.00           NaN        NaN    NaN  "
      ]
     },
     "execution_count": 4,
     "metadata": {},
     "output_type": "execute_result"
    }
   ],
   "source": [
    "games.head()"
   ]
  },
  {
   "cell_type": "code",
   "execution_count": 5,
   "metadata": {},
   "outputs": [
    {
     "data": {
      "text/plain": [
       "0"
      ]
     },
     "execution_count": 5,
     "metadata": {},
     "output_type": "execute_result"
    }
   ],
   "source": [
    "#checking for duplicates\n",
    "games.duplicated().sum()"
   ]
  },
  {
   "cell_type": "markdown",
   "metadata": {},
   "source": [
    "From a quick glance I can see that I'm missing values in the Name, Year of Release, Genre, Critic Score, User Score, and Ratings Column. There are no  100% duplicated rows. I will start by making all the columns lowercase and converting columns to the correct data type.\n",
    "Upon further investigation I see that the User Score column is classified as a object due to over 2000 rows having 'tbd' as the input value."
   ]
  },
  {
   "cell_type": "code",
   "execution_count": 6,
   "metadata": {},
   "outputs": [],
   "source": [
    "games.columns= games.columns.str.lower()"
   ]
  },
  {
   "cell_type": "markdown",
   "metadata": {},
   "source": [
    "## Missing Values  and Data Type Conversion ###"
   ]
  },
  {
   "cell_type": "markdown",
   "metadata": {},
   "source": [
    "### User Score ###"
   ]
  },
  {
   "cell_type": "code",
   "execution_count": 7,
   "metadata": {
    "scrolled": true
   },
   "outputs": [
    {
     "data": {
      "text/plain": [
       "2424"
      ]
     },
     "execution_count": 7,
     "metadata": {},
     "output_type": "execute_result"
    }
   ],
   "source": [
    "len(games.query('user_score.str.contains(\"tbd\")==1'))"
   ]
  },
  {
   "cell_type": "markdown",
   "metadata": {},
   "source": [
    "As mentioned above there are 'tbd' values for over 2000 of the rows. I will change the tbd values to NaN to then change the column to a float type."
   ]
  },
  {
   "cell_type": "code",
   "execution_count": 8,
   "metadata": {},
   "outputs": [],
   "source": [
    "games['user_score']=games['user_score'].replace('tbd','NaN').astype('float')"
   ]
  },
  {
   "cell_type": "code",
   "execution_count": 9,
   "metadata": {},
   "outputs": [
    {
     "data": {
      "text/plain": [
       "9125"
      ]
     },
     "execution_count": 9,
     "metadata": {},
     "output_type": "execute_result"
    }
   ],
   "source": [
    "len(games.query('user_score.isna() == True'))"
   ]
  },
  {
   "cell_type": "code",
   "execution_count": 10,
   "metadata": {},
   "outputs": [
    {
     "name": "stdout",
     "output_type": "stream",
     "text": [
      "<class 'pandas.core.frame.DataFrame'>\n",
      "RangeIndex: 16715 entries, 0 to 16714\n",
      "Data columns (total 11 columns):\n",
      " #   Column           Non-Null Count  Dtype  \n",
      "---  ------           --------------  -----  \n",
      " 0   name             16713 non-null  object \n",
      " 1   platform         16715 non-null  object \n",
      " 2   year_of_release  16446 non-null  float64\n",
      " 3   genre            16713 non-null  object \n",
      " 4   na_sales         16715 non-null  float64\n",
      " 5   eu_sales         16715 non-null  float64\n",
      " 6   jp_sales         16715 non-null  float64\n",
      " 7   other_sales      16715 non-null  float64\n",
      " 8   critic_score     8137 non-null   float64\n",
      " 9   user_score       7590 non-null   float64\n",
      " 10  rating           9949 non-null   object \n",
      "dtypes: float64(7), object(4)\n",
      "memory usage: 1.4+ MB\n"
     ]
    }
   ],
   "source": [
    "games.info()"
   ]
  },
  {
   "cell_type": "markdown",
   "metadata": {},
   "source": [
    "### Name ###"
   ]
  },
  {
   "cell_type": "code",
   "execution_count": 11,
   "metadata": {
    "scrolled": true
   },
   "outputs": [
    {
     "data": {
      "text/html": [
       "<div>\n",
       "<style scoped>\n",
       "    .dataframe tbody tr th:only-of-type {\n",
       "        vertical-align: middle;\n",
       "    }\n",
       "\n",
       "    .dataframe tbody tr th {\n",
       "        vertical-align: top;\n",
       "    }\n",
       "\n",
       "    .dataframe thead th {\n",
       "        text-align: right;\n",
       "    }\n",
       "</style>\n",
       "<table border=\"1\" class=\"dataframe\">\n",
       "  <thead>\n",
       "    <tr style=\"text-align: right;\">\n",
       "      <th></th>\n",
       "      <th>name</th>\n",
       "      <th>platform</th>\n",
       "      <th>year_of_release</th>\n",
       "      <th>genre</th>\n",
       "      <th>na_sales</th>\n",
       "      <th>eu_sales</th>\n",
       "      <th>jp_sales</th>\n",
       "      <th>other_sales</th>\n",
       "      <th>critic_score</th>\n",
       "      <th>user_score</th>\n",
       "      <th>rating</th>\n",
       "    </tr>\n",
       "  </thead>\n",
       "  <tbody>\n",
       "    <tr>\n",
       "      <th>659</th>\n",
       "      <td>NaN</td>\n",
       "      <td>GEN</td>\n",
       "      <td>1993.0</td>\n",
       "      <td>NaN</td>\n",
       "      <td>1.78</td>\n",
       "      <td>0.53</td>\n",
       "      <td>0.00</td>\n",
       "      <td>0.08</td>\n",
       "      <td>NaN</td>\n",
       "      <td>NaN</td>\n",
       "      <td>NaN</td>\n",
       "    </tr>\n",
       "    <tr>\n",
       "      <th>14244</th>\n",
       "      <td>NaN</td>\n",
       "      <td>GEN</td>\n",
       "      <td>1993.0</td>\n",
       "      <td>NaN</td>\n",
       "      <td>0.00</td>\n",
       "      <td>0.00</td>\n",
       "      <td>0.03</td>\n",
       "      <td>0.00</td>\n",
       "      <td>NaN</td>\n",
       "      <td>NaN</td>\n",
       "      <td>NaN</td>\n",
       "    </tr>\n",
       "  </tbody>\n",
       "</table>\n",
       "</div>"
      ],
      "text/plain": [
       "      name platform  year_of_release genre  na_sales  eu_sales  jp_sales  \\\n",
       "659    NaN      GEN           1993.0   NaN      1.78      0.53      0.00   \n",
       "14244  NaN      GEN           1993.0   NaN      0.00      0.00      0.03   \n",
       "\n",
       "       other_sales  critic_score  user_score rating  \n",
       "659           0.08           NaN         NaN    NaN  \n",
       "14244         0.00           NaN         NaN    NaN  "
      ]
     },
     "execution_count": 11,
     "metadata": {},
     "output_type": "execute_result"
    }
   ],
   "source": [
    "games.query('name.isna() == True')"
   ]
  },
  {
   "cell_type": "code",
   "execution_count": 12,
   "metadata": {},
   "outputs": [
    {
     "data": {
      "text/plain": [
       "0.00011965300628178283"
      ]
     },
     "execution_count": 12,
     "metadata": {},
     "output_type": "execute_result"
    }
   ],
   "source": [
    "len(games.query('name.isna() == True'))/games.shape[0]"
   ]
  },
  {
   "cell_type": "markdown",
   "metadata": {},
   "source": [
    "Looking at the above there would be no way in filling in the missing Name values with what little information we have. And because these two rows make up such a small portion of the dataframe, I will drop them. "
   ]
  },
  {
   "cell_type": "code",
   "execution_count": 13,
   "metadata": {},
   "outputs": [],
   "source": [
    "games = games.drop([659,14244])"
   ]
  },
  {
   "cell_type": "code",
   "execution_count": 14,
   "metadata": {
    "scrolled": true
   },
   "outputs": [
    {
     "name": "stdout",
     "output_type": "stream",
     "text": [
      "<class 'pandas.core.frame.DataFrame'>\n",
      "Int64Index: 16713 entries, 0 to 16714\n",
      "Data columns (total 11 columns):\n",
      " #   Column           Non-Null Count  Dtype  \n",
      "---  ------           --------------  -----  \n",
      " 0   name             16713 non-null  object \n",
      " 1   platform         16713 non-null  object \n",
      " 2   year_of_release  16444 non-null  float64\n",
      " 3   genre            16713 non-null  object \n",
      " 4   na_sales         16713 non-null  float64\n",
      " 5   eu_sales         16713 non-null  float64\n",
      " 6   jp_sales         16713 non-null  float64\n",
      " 7   other_sales      16713 non-null  float64\n",
      " 8   critic_score     8137 non-null   float64\n",
      " 9   user_score       7590 non-null   float64\n",
      " 10  rating           9949 non-null   object \n",
      "dtypes: float64(7), object(4)\n",
      "memory usage: 1.5+ MB\n"
     ]
    }
   ],
   "source": [
    "games.info()"
   ]
  },
  {
   "cell_type": "markdown",
   "metadata": {},
   "source": [
    "### Year of Release ###"
   ]
  },
  {
   "cell_type": "markdown",
   "metadata": {},
   "source": [
    "The dataset includes the platform these games were released on. As time goes on, fewer and fewer games get released on older gaming consoles, in favor of new ones. With that in mind, I will group the missing values by gaming consoles and then determine if I want to use the median or the mean to input as their Year of Release. "
   ]
  },
  {
   "cell_type": "code",
   "execution_count": 15,
   "metadata": {
    "scrolled": true
   },
   "outputs": [
    {
     "data": {
      "text/plain": [
       "Wii     34\n",
       "PS2     34\n",
       "X360    30\n",
       "DS      30\n",
       "PS3     25\n",
       "XB      21\n",
       "PC      17\n",
       "2600    17\n",
       "PSP     16\n",
       "GC      14\n",
       "GBA     11\n",
       "3DS      8\n",
       "PS       7\n",
       "N64      3\n",
       "GB       1\n",
       "PSV      1\n",
       "Name: platform, dtype: int64"
      ]
     },
     "execution_count": 15,
     "metadata": {},
     "output_type": "execute_result"
    }
   ],
   "source": [
    "games.query('year_of_release.isna() == True')['platform'].value_counts()"
   ]
  },
  {
   "cell_type": "markdown",
   "metadata": {},
   "source": [
    "I've chosen to go with the median to fill in the missing values as it would give me a number without decimals."
   ]
  },
  {
   "cell_type": "code",
   "execution_count": 16,
   "metadata": {},
   "outputs": [],
   "source": [
    "fill_med_year= games.groupby('platform')['year_of_release'].median()"
   ]
  },
  {
   "cell_type": "code",
   "execution_count": 17,
   "metadata": {},
   "outputs": [],
   "source": [
    "def getstats(row):\n",
    "    if np.isnan(row['year_of_release']):\n",
    "        return fill_med_year.get(row['platform'])\n",
    "    else:\n",
    "        return row['year_of_release']\n",
    "    "
   ]
  },
  {
   "cell_type": "code",
   "execution_count": 18,
   "metadata": {},
   "outputs": [],
   "source": [
    "games['year_of_release']=games.apply(getstats, axis=1)"
   ]
  },
  {
   "cell_type": "code",
   "execution_count": 19,
   "metadata": {},
   "outputs": [
    {
     "name": "stdout",
     "output_type": "stream",
     "text": [
      "<class 'pandas.core.frame.DataFrame'>\n",
      "Int64Index: 16713 entries, 0 to 16714\n",
      "Data columns (total 11 columns):\n",
      " #   Column           Non-Null Count  Dtype  \n",
      "---  ------           --------------  -----  \n",
      " 0   name             16713 non-null  object \n",
      " 1   platform         16713 non-null  object \n",
      " 2   year_of_release  16713 non-null  float64\n",
      " 3   genre            16713 non-null  object \n",
      " 4   na_sales         16713 non-null  float64\n",
      " 5   eu_sales         16713 non-null  float64\n",
      " 6   jp_sales         16713 non-null  float64\n",
      " 7   other_sales      16713 non-null  float64\n",
      " 8   critic_score     8137 non-null   float64\n",
      " 9   user_score       7590 non-null   float64\n",
      " 10  rating           9949 non-null   object \n",
      "dtypes: float64(7), object(4)\n",
      "memory usage: 1.5+ MB\n"
     ]
    }
   ],
   "source": [
    "games.info()"
   ]
  },
  {
   "cell_type": "markdown",
   "metadata": {},
   "source": [
    "### Genre ###\n",
    "\n",
    "It does not look as if the genre column is missing any values and the data type is correct, so no changes will be made here."
   ]
  },
  {
   "cell_type": "markdown",
   "metadata": {},
   "source": [
    "### The Sales Columns ###\n",
    "\n",
    "It looks as if all the sales columns are not missing any values and they have the correct data type so no changes will be done to those columns. I will later on add a total sales columns calculating the sum of each row taking into account all of its' region sales."
   ]
  },
  {
   "cell_type": "markdown",
   "metadata": {},
   "source": [
    "### Critic Score ###"
   ]
  },
  {
   "cell_type": "code",
   "execution_count": 20,
   "metadata": {},
   "outputs": [
    {
     "data": {
      "text/plain": [
       "0.5131334889008556"
      ]
     },
     "execution_count": 20,
     "metadata": {},
     "output_type": "execute_result"
    }
   ],
   "source": [
    "len(games.query('critic_score.isna() == True'))/games.shape[0]"
   ]
  },
  {
   "cell_type": "markdown",
   "metadata": {},
   "source": [
    "The missing critic score rows take up over 50% of the corresponding dataset. "
   ]
  },
  {
   "cell_type": "code",
   "execution_count": 21,
   "metadata": {
    "scrolled": true
   },
   "outputs": [
    {
     "data": {
      "text/plain": [
       "2009.0    802\n",
       "2010.0    764\n",
       "2008.0    733\n",
       "2011.0    645\n",
       "2007.0    505\n",
       "2006.0    386\n",
       "2015.0    381\n",
       "1998.0    354\n",
       "2012.0    332\n",
       "2014.0    320\n",
       "1999.0    302\n",
       "2005.0    295\n",
       "2013.0    277\n",
       "1997.0    273\n",
       "2016.0    270\n",
       "1996.0    255\n",
       "1995.0    219\n",
       "2000.0    207\n",
       "2004.0    203\n",
       "2002.0    202\n",
       "2003.0    196\n",
       "2001.0    156\n",
       "1994.0    120\n",
       "1993.0     60\n",
       "1982.0     53\n",
       "1981.0     46\n",
       "1992.0     42\n",
       "1991.0     41\n",
       "1986.0     21\n",
       "1983.0     17\n",
       "1989.0     17\n",
       "1990.0     16\n",
       "1987.0     16\n",
       "1988.0     14\n",
       "1984.0     14\n",
       "1985.0     13\n",
       "1980.0      9\n",
       "Name: year_of_release, dtype: int64"
      ]
     },
     "execution_count": 21,
     "metadata": {},
     "output_type": "execute_result"
    }
   ],
   "source": [
    "games.query('critic_score.isna() == True')['year_of_release'].sort_values().value_counts()"
   ]
  },
  {
   "cell_type": "markdown",
   "metadata": {},
   "source": [
    "I orignally believed that perhaps the older consoles did not have critic scores available to them because they were older, but looking at the above it seems like even newer games (like those released in 2015 or 2016) having missing values for critic scores. It is also possible that certain games didn't catch on in popularity enough to warrant a critic's review or some games weren't very popular in certain countries.\n",
    "\n",
    "As mentioned above, the missing values make up over 50% of the dataset. This is too large a portion to try to replace accurately so I will leave them as is."
   ]
  },
  {
   "cell_type": "markdown",
   "metadata": {},
   "source": [
    "### Users Revisited ###"
   ]
  },
  {
   "cell_type": "code",
   "execution_count": 22,
   "metadata": {},
   "outputs": [
    {
     "data": {
      "text/plain": [
       "0.5458625022437623"
      ]
     },
     "execution_count": 22,
     "metadata": {},
     "output_type": "execute_result"
    }
   ],
   "source": [
    "games['user_score'].isna().sum()/games.shape[0]"
   ]
  },
  {
   "cell_type": "markdown",
   "metadata": {},
   "source": [
    "Similarly with the critics score, the user scores make up almost 55% of the dataset. This is a very large portion and I would not be able to fill in the all of the missing values without potentially affecting the accuracy of the dataset."
   ]
  },
  {
   "cell_type": "markdown",
   "metadata": {},
   "source": [
    "### Adding a Total Sales Column ###"
   ]
  },
  {
   "cell_type": "code",
   "execution_count": 23,
   "metadata": {},
   "outputs": [],
   "source": [
    "def total_sales(row):\n",
    "    sales = 0\n",
    "    sales += (row['na_sales'] + row['eu_sales']+ row['jp_sales']+row['other_sales'])\n",
    "    return sales"
   ]
  },
  {
   "cell_type": "code",
   "execution_count": 24,
   "metadata": {},
   "outputs": [],
   "source": [
    "games['total_sales']=games.apply(total_sales,axis=1)"
   ]
  },
  {
   "cell_type": "code",
   "execution_count": 25,
   "metadata": {},
   "outputs": [
    {
     "data": {
      "text/html": [
       "<div>\n",
       "<style scoped>\n",
       "    .dataframe tbody tr th:only-of-type {\n",
       "        vertical-align: middle;\n",
       "    }\n",
       "\n",
       "    .dataframe tbody tr th {\n",
       "        vertical-align: top;\n",
       "    }\n",
       "\n",
       "    .dataframe thead th {\n",
       "        text-align: right;\n",
       "    }\n",
       "</style>\n",
       "<table border=\"1\" class=\"dataframe\">\n",
       "  <thead>\n",
       "    <tr style=\"text-align: right;\">\n",
       "      <th></th>\n",
       "      <th>name</th>\n",
       "      <th>platform</th>\n",
       "      <th>year_of_release</th>\n",
       "      <th>genre</th>\n",
       "      <th>na_sales</th>\n",
       "      <th>eu_sales</th>\n",
       "      <th>jp_sales</th>\n",
       "      <th>other_sales</th>\n",
       "      <th>critic_score</th>\n",
       "      <th>user_score</th>\n",
       "      <th>rating</th>\n",
       "      <th>total_sales</th>\n",
       "    </tr>\n",
       "  </thead>\n",
       "  <tbody>\n",
       "    <tr>\n",
       "      <th>0</th>\n",
       "      <td>Wii Sports</td>\n",
       "      <td>Wii</td>\n",
       "      <td>2006.0</td>\n",
       "      <td>Sports</td>\n",
       "      <td>41.36</td>\n",
       "      <td>28.96</td>\n",
       "      <td>3.77</td>\n",
       "      <td>8.45</td>\n",
       "      <td>76.0</td>\n",
       "      <td>8.0</td>\n",
       "      <td>E</td>\n",
       "      <td>82.54</td>\n",
       "    </tr>\n",
       "    <tr>\n",
       "      <th>1</th>\n",
       "      <td>Super Mario Bros.</td>\n",
       "      <td>NES</td>\n",
       "      <td>1985.0</td>\n",
       "      <td>Platform</td>\n",
       "      <td>29.08</td>\n",
       "      <td>3.58</td>\n",
       "      <td>6.81</td>\n",
       "      <td>0.77</td>\n",
       "      <td>NaN</td>\n",
       "      <td>NaN</td>\n",
       "      <td>NaN</td>\n",
       "      <td>40.24</td>\n",
       "    </tr>\n",
       "    <tr>\n",
       "      <th>2</th>\n",
       "      <td>Mario Kart Wii</td>\n",
       "      <td>Wii</td>\n",
       "      <td>2008.0</td>\n",
       "      <td>Racing</td>\n",
       "      <td>15.68</td>\n",
       "      <td>12.76</td>\n",
       "      <td>3.79</td>\n",
       "      <td>3.29</td>\n",
       "      <td>82.0</td>\n",
       "      <td>8.3</td>\n",
       "      <td>E</td>\n",
       "      <td>35.52</td>\n",
       "    </tr>\n",
       "    <tr>\n",
       "      <th>3</th>\n",
       "      <td>Wii Sports Resort</td>\n",
       "      <td>Wii</td>\n",
       "      <td>2009.0</td>\n",
       "      <td>Sports</td>\n",
       "      <td>15.61</td>\n",
       "      <td>10.93</td>\n",
       "      <td>3.28</td>\n",
       "      <td>2.95</td>\n",
       "      <td>80.0</td>\n",
       "      <td>8.0</td>\n",
       "      <td>E</td>\n",
       "      <td>32.77</td>\n",
       "    </tr>\n",
       "    <tr>\n",
       "      <th>4</th>\n",
       "      <td>Pokemon Red/Pokemon Blue</td>\n",
       "      <td>GB</td>\n",
       "      <td>1996.0</td>\n",
       "      <td>Role-Playing</td>\n",
       "      <td>11.27</td>\n",
       "      <td>8.89</td>\n",
       "      <td>10.22</td>\n",
       "      <td>1.00</td>\n",
       "      <td>NaN</td>\n",
       "      <td>NaN</td>\n",
       "      <td>NaN</td>\n",
       "      <td>31.38</td>\n",
       "    </tr>\n",
       "  </tbody>\n",
       "</table>\n",
       "</div>"
      ],
      "text/plain": [
       "                       name platform  year_of_release         genre  na_sales  \\\n",
       "0                Wii Sports      Wii           2006.0        Sports     41.36   \n",
       "1         Super Mario Bros.      NES           1985.0      Platform     29.08   \n",
       "2            Mario Kart Wii      Wii           2008.0        Racing     15.68   \n",
       "3         Wii Sports Resort      Wii           2009.0        Sports     15.61   \n",
       "4  Pokemon Red/Pokemon Blue       GB           1996.0  Role-Playing     11.27   \n",
       "\n",
       "   eu_sales  jp_sales  other_sales  critic_score  user_score rating  \\\n",
       "0     28.96      3.77         8.45          76.0         8.0      E   \n",
       "1      3.58      6.81         0.77           NaN         NaN    NaN   \n",
       "2     12.76      3.79         3.29          82.0         8.3      E   \n",
       "3     10.93      3.28         2.95          80.0         8.0      E   \n",
       "4      8.89     10.22         1.00           NaN         NaN    NaN   \n",
       "\n",
       "   total_sales  \n",
       "0        82.54  \n",
       "1        40.24  \n",
       "2        35.52  \n",
       "3        32.77  \n",
       "4        31.38  "
      ]
     },
     "execution_count": 25,
     "metadata": {},
     "output_type": "execute_result"
    }
   ],
   "source": [
    "games.head()"
   ]
  },
  {
   "cell_type": "markdown",
   "metadata": {},
   "source": [
    "### Ratings ###\n",
    "To attempt to fill in the missing ratings I will change the current rating system into numbers to make it easier to work with:\n",
    "- E: 8\n",
    "- M: 7\n",
    "- T: 6\n",
    "- E10+: 5\n",
    "- K-A: 4\n",
    "- AO: 3 \n",
    "- EC: 2\n",
    "- RP: 1\n",
    "\n",
    "There are a few instances where a game has been released on several platforms but is missing a rating for one of them (i.e. Ratatouille), as ratings do not change depending on the platform, I will use those values to fill in the missing ones. "
   ]
  },
  {
   "cell_type": "code",
   "execution_count": 26,
   "metadata": {},
   "outputs": [
    {
     "data": {
      "text/html": [
       "<div>\n",
       "<style scoped>\n",
       "    .dataframe tbody tr th:only-of-type {\n",
       "        vertical-align: middle;\n",
       "    }\n",
       "\n",
       "    .dataframe tbody tr th {\n",
       "        vertical-align: top;\n",
       "    }\n",
       "\n",
       "    .dataframe thead th {\n",
       "        text-align: right;\n",
       "    }\n",
       "</style>\n",
       "<table border=\"1\" class=\"dataframe\">\n",
       "  <thead>\n",
       "    <tr style=\"text-align: right;\">\n",
       "      <th></th>\n",
       "      <th>name</th>\n",
       "      <th>platform</th>\n",
       "      <th>year_of_release</th>\n",
       "      <th>genre</th>\n",
       "      <th>na_sales</th>\n",
       "      <th>eu_sales</th>\n",
       "      <th>jp_sales</th>\n",
       "      <th>other_sales</th>\n",
       "      <th>critic_score</th>\n",
       "      <th>user_score</th>\n",
       "      <th>rating</th>\n",
       "      <th>total_sales</th>\n",
       "    </tr>\n",
       "  </thead>\n",
       "  <tbody>\n",
       "    <tr>\n",
       "      <th>1598</th>\n",
       "      <td>Ratatouille</td>\n",
       "      <td>DS</td>\n",
       "      <td>2007.0</td>\n",
       "      <td>Action</td>\n",
       "      <td>0.49</td>\n",
       "      <td>0.62</td>\n",
       "      <td>0.0</td>\n",
       "      <td>0.14</td>\n",
       "      <td>NaN</td>\n",
       "      <td>NaN</td>\n",
       "      <td>NaN</td>\n",
       "      <td>1.25</td>\n",
       "    </tr>\n",
       "    <tr>\n",
       "      <th>2442</th>\n",
       "      <td>Ratatouille</td>\n",
       "      <td>PS2</td>\n",
       "      <td>2007.0</td>\n",
       "      <td>Action</td>\n",
       "      <td>0.31</td>\n",
       "      <td>0.00</td>\n",
       "      <td>0.0</td>\n",
       "      <td>0.53</td>\n",
       "      <td>65.0</td>\n",
       "      <td>8.0</td>\n",
       "      <td>E</td>\n",
       "      <td>0.84</td>\n",
       "    </tr>\n",
       "    <tr>\n",
       "      <th>3069</th>\n",
       "      <td>Ratatouille</td>\n",
       "      <td>PSP</td>\n",
       "      <td>2007.0</td>\n",
       "      <td>Action</td>\n",
       "      <td>0.22</td>\n",
       "      <td>0.27</td>\n",
       "      <td>0.0</td>\n",
       "      <td>0.16</td>\n",
       "      <td>64.0</td>\n",
       "      <td>7.1</td>\n",
       "      <td>E</td>\n",
       "      <td>0.65</td>\n",
       "    </tr>\n",
       "    <tr>\n",
       "      <th>3902</th>\n",
       "      <td>Ratatouille</td>\n",
       "      <td>PS3</td>\n",
       "      <td>2007.0</td>\n",
       "      <td>Action</td>\n",
       "      <td>0.09</td>\n",
       "      <td>0.32</td>\n",
       "      <td>0.0</td>\n",
       "      <td>0.10</td>\n",
       "      <td>55.0</td>\n",
       "      <td>4.8</td>\n",
       "      <td>E</td>\n",
       "      <td>0.51</td>\n",
       "    </tr>\n",
       "    <tr>\n",
       "      <th>3948</th>\n",
       "      <td>Ratatouille</td>\n",
       "      <td>Wii</td>\n",
       "      <td>2007.0</td>\n",
       "      <td>Action</td>\n",
       "      <td>0.43</td>\n",
       "      <td>0.03</td>\n",
       "      <td>0.0</td>\n",
       "      <td>0.04</td>\n",
       "      <td>62.0</td>\n",
       "      <td>6.7</td>\n",
       "      <td>E</td>\n",
       "      <td>0.50</td>\n",
       "    </tr>\n",
       "    <tr>\n",
       "      <th>6398</th>\n",
       "      <td>Ratatouille</td>\n",
       "      <td>X360</td>\n",
       "      <td>2007.0</td>\n",
       "      <td>Action</td>\n",
       "      <td>0.23</td>\n",
       "      <td>0.02</td>\n",
       "      <td>0.0</td>\n",
       "      <td>0.02</td>\n",
       "      <td>56.0</td>\n",
       "      <td>NaN</td>\n",
       "      <td>E</td>\n",
       "      <td>0.27</td>\n",
       "    </tr>\n",
       "    <tr>\n",
       "      <th>7681</th>\n",
       "      <td>Ratatouille</td>\n",
       "      <td>GBA</td>\n",
       "      <td>2007.0</td>\n",
       "      <td>Action</td>\n",
       "      <td>0.14</td>\n",
       "      <td>0.05</td>\n",
       "      <td>0.0</td>\n",
       "      <td>0.00</td>\n",
       "      <td>65.0</td>\n",
       "      <td>NaN</td>\n",
       "      <td>E</td>\n",
       "      <td>0.19</td>\n",
       "    </tr>\n",
       "    <tr>\n",
       "      <th>9015</th>\n",
       "      <td>Ratatouille</td>\n",
       "      <td>GC</td>\n",
       "      <td>2007.0</td>\n",
       "      <td>Action</td>\n",
       "      <td>0.11</td>\n",
       "      <td>0.03</td>\n",
       "      <td>0.0</td>\n",
       "      <td>0.00</td>\n",
       "      <td>60.0</td>\n",
       "      <td>5.6</td>\n",
       "      <td>E</td>\n",
       "      <td>0.14</td>\n",
       "    </tr>\n",
       "    <tr>\n",
       "      <th>14514</th>\n",
       "      <td>Ratatouille</td>\n",
       "      <td>PC</td>\n",
       "      <td>2007.0</td>\n",
       "      <td>Action</td>\n",
       "      <td>0.01</td>\n",
       "      <td>0.01</td>\n",
       "      <td>0.0</td>\n",
       "      <td>0.00</td>\n",
       "      <td>NaN</td>\n",
       "      <td>7.9</td>\n",
       "      <td>E</td>\n",
       "      <td>0.02</td>\n",
       "    </tr>\n",
       "  </tbody>\n",
       "</table>\n",
       "</div>"
      ],
      "text/plain": [
       "              name platform  year_of_release   genre  na_sales  eu_sales  \\\n",
       "1598   Ratatouille       DS           2007.0  Action      0.49      0.62   \n",
       "2442   Ratatouille      PS2           2007.0  Action      0.31      0.00   \n",
       "3069   Ratatouille      PSP           2007.0  Action      0.22      0.27   \n",
       "3902   Ratatouille      PS3           2007.0  Action      0.09      0.32   \n",
       "3948   Ratatouille      Wii           2007.0  Action      0.43      0.03   \n",
       "6398   Ratatouille     X360           2007.0  Action      0.23      0.02   \n",
       "7681   Ratatouille      GBA           2007.0  Action      0.14      0.05   \n",
       "9015   Ratatouille       GC           2007.0  Action      0.11      0.03   \n",
       "14514  Ratatouille       PC           2007.0  Action      0.01      0.01   \n",
       "\n",
       "       jp_sales  other_sales  critic_score  user_score rating  total_sales  \n",
       "1598        0.0         0.14           NaN         NaN    NaN         1.25  \n",
       "2442        0.0         0.53          65.0         8.0      E         0.84  \n",
       "3069        0.0         0.16          64.0         7.1      E         0.65  \n",
       "3902        0.0         0.10          55.0         4.8      E         0.51  \n",
       "3948        0.0         0.04          62.0         6.7      E         0.50  \n",
       "6398        0.0         0.02          56.0         NaN      E         0.27  \n",
       "7681        0.0         0.00          65.0         NaN      E         0.19  \n",
       "9015        0.0         0.00          60.0         5.6      E         0.14  \n",
       "14514       0.0         0.00           NaN         7.9      E         0.02  "
      ]
     },
     "execution_count": 26,
     "metadata": {},
     "output_type": "execute_result"
    }
   ],
   "source": [
    "games.query('name == \"Ratatouille\"')"
   ]
  },
  {
   "cell_type": "code",
   "execution_count": 27,
   "metadata": {
    "scrolled": true
   },
   "outputs": [
    {
     "data": {
      "text/plain": [
       "0.40471489259857596"
      ]
     },
     "execution_count": 27,
     "metadata": {},
     "output_type": "execute_result"
    }
   ],
   "source": [
    "games['rating'].isna().sum()/games.shape[0]"
   ]
  },
  {
   "cell_type": "code",
   "execution_count": 28,
   "metadata": {},
   "outputs": [
    {
     "data": {
      "text/html": [
       "<div>\n",
       "<style scoped>\n",
       "    .dataframe tbody tr th:only-of-type {\n",
       "        vertical-align: middle;\n",
       "    }\n",
       "\n",
       "    .dataframe tbody tr th {\n",
       "        vertical-align: top;\n",
       "    }\n",
       "\n",
       "    .dataframe thead th {\n",
       "        text-align: right;\n",
       "    }\n",
       "</style>\n",
       "<table border=\"1\" class=\"dataframe\">\n",
       "  <thead>\n",
       "    <tr style=\"text-align: right;\">\n",
       "      <th></th>\n",
       "      <th>name</th>\n",
       "      <th>platform</th>\n",
       "      <th>year_of_release</th>\n",
       "      <th>genre</th>\n",
       "      <th>na_sales</th>\n",
       "      <th>eu_sales</th>\n",
       "      <th>jp_sales</th>\n",
       "      <th>other_sales</th>\n",
       "      <th>critic_score</th>\n",
       "      <th>user_score</th>\n",
       "      <th>rating</th>\n",
       "      <th>total_sales</th>\n",
       "    </tr>\n",
       "  </thead>\n",
       "  <tbody>\n",
       "    <tr>\n",
       "      <th>1</th>\n",
       "      <td>Super Mario Bros.</td>\n",
       "      <td>NES</td>\n",
       "      <td>1985.0</td>\n",
       "      <td>Platform</td>\n",
       "      <td>29.08</td>\n",
       "      <td>3.58</td>\n",
       "      <td>6.81</td>\n",
       "      <td>0.77</td>\n",
       "      <td>NaN</td>\n",
       "      <td>NaN</td>\n",
       "      <td>NaN</td>\n",
       "      <td>40.24</td>\n",
       "    </tr>\n",
       "    <tr>\n",
       "      <th>4</th>\n",
       "      <td>Pokemon Red/Pokemon Blue</td>\n",
       "      <td>GB</td>\n",
       "      <td>1996.0</td>\n",
       "      <td>Role-Playing</td>\n",
       "      <td>11.27</td>\n",
       "      <td>8.89</td>\n",
       "      <td>10.22</td>\n",
       "      <td>1.00</td>\n",
       "      <td>NaN</td>\n",
       "      <td>NaN</td>\n",
       "      <td>NaN</td>\n",
       "      <td>31.38</td>\n",
       "    </tr>\n",
       "    <tr>\n",
       "      <th>5</th>\n",
       "      <td>Tetris</td>\n",
       "      <td>GB</td>\n",
       "      <td>1989.0</td>\n",
       "      <td>Puzzle</td>\n",
       "      <td>23.20</td>\n",
       "      <td>2.26</td>\n",
       "      <td>4.22</td>\n",
       "      <td>0.58</td>\n",
       "      <td>NaN</td>\n",
       "      <td>NaN</td>\n",
       "      <td>NaN</td>\n",
       "      <td>30.26</td>\n",
       "    </tr>\n",
       "    <tr>\n",
       "      <th>9</th>\n",
       "      <td>Duck Hunt</td>\n",
       "      <td>NES</td>\n",
       "      <td>1984.0</td>\n",
       "      <td>Shooter</td>\n",
       "      <td>26.93</td>\n",
       "      <td>0.63</td>\n",
       "      <td>0.28</td>\n",
       "      <td>0.47</td>\n",
       "      <td>NaN</td>\n",
       "      <td>NaN</td>\n",
       "      <td>NaN</td>\n",
       "      <td>28.31</td>\n",
       "    </tr>\n",
       "    <tr>\n",
       "      <th>10</th>\n",
       "      <td>Nintendogs</td>\n",
       "      <td>DS</td>\n",
       "      <td>2005.0</td>\n",
       "      <td>Simulation</td>\n",
       "      <td>9.05</td>\n",
       "      <td>10.95</td>\n",
       "      <td>1.93</td>\n",
       "      <td>2.74</td>\n",
       "      <td>NaN</td>\n",
       "      <td>NaN</td>\n",
       "      <td>NaN</td>\n",
       "      <td>24.67</td>\n",
       "    </tr>\n",
       "  </tbody>\n",
       "</table>\n",
       "</div>"
      ],
      "text/plain": [
       "                        name platform  year_of_release         genre  \\\n",
       "1          Super Mario Bros.      NES           1985.0      Platform   \n",
       "4   Pokemon Red/Pokemon Blue       GB           1996.0  Role-Playing   \n",
       "5                     Tetris       GB           1989.0        Puzzle   \n",
       "9                  Duck Hunt      NES           1984.0       Shooter   \n",
       "10                Nintendogs       DS           2005.0    Simulation   \n",
       "\n",
       "    na_sales  eu_sales  jp_sales  other_sales  critic_score  user_score  \\\n",
       "1      29.08      3.58      6.81         0.77           NaN         NaN   \n",
       "4      11.27      8.89     10.22         1.00           NaN         NaN   \n",
       "5      23.20      2.26      4.22         0.58           NaN         NaN   \n",
       "9      26.93      0.63      0.28         0.47           NaN         NaN   \n",
       "10      9.05     10.95      1.93         2.74           NaN         NaN   \n",
       "\n",
       "   rating  total_sales  \n",
       "1     NaN        40.24  \n",
       "4     NaN        31.38  \n",
       "5     NaN        30.26  \n",
       "9     NaN        28.31  \n",
       "10    NaN        24.67  "
      ]
     },
     "execution_count": 28,
     "metadata": {},
     "output_type": "execute_result"
    }
   ],
   "source": [
    "games.query('rating.isna()==True').head()"
   ]
  },
  {
   "cell_type": "code",
   "execution_count": 29,
   "metadata": {},
   "outputs": [
    {
     "data": {
      "text/plain": [
       "array(['E', nan, 'M', 'T', 'E10+', 'K-A', 'AO', 'EC', 'RP'], dtype=object)"
      ]
     },
     "execution_count": 29,
     "metadata": {},
     "output_type": "execute_result"
    }
   ],
   "source": [
    "games['rating'].unique()"
   ]
  },
  {
   "cell_type": "code",
   "execution_count": 30,
   "metadata": {},
   "outputs": [],
   "source": [
    "rate_mode=games.groupby('name')['rating']"
   ]
  },
  {
   "cell_type": "code",
   "execution_count": 31,
   "metadata": {},
   "outputs": [],
   "source": [
    "def replace_rating(value):\n",
    "    if value == 'E':\n",
    "        return 8\n",
    "    if value == 'M':\n",
    "        return 7\n",
    "    if value == 'T':\n",
    "        return 6\n",
    "    if value == 'E10+':\n",
    "        return 5\n",
    "    if value == 'K-A':\n",
    "        return 4\n",
    "    if value == 'AO':\n",
    "        return 3\n",
    "    if value =='EC':\n",
    "        return 2\n",
    "    if value =='RP':\n",
    "        return 1"
   ]
  },
  {
   "cell_type": "code",
   "execution_count": 32,
   "metadata": {},
   "outputs": [],
   "source": [
    "games['rating']=games['rating'].apply(replace_rating)"
   ]
  },
  {
   "cell_type": "code",
   "execution_count": 33,
   "metadata": {},
   "outputs": [
    {
     "data": {
      "text/plain": [
       "0        8.0\n",
       "1        NaN\n",
       "2        8.0\n",
       "3        8.0\n",
       "4        NaN\n",
       "        ... \n",
       "16710    NaN\n",
       "16711    NaN\n",
       "16712    NaN\n",
       "16713    NaN\n",
       "16714    NaN\n",
       "Name: rating, Length: 16713, dtype: float64"
      ]
     },
     "execution_count": 33,
     "metadata": {},
     "output_type": "execute_result"
    }
   ],
   "source": [
    "games['rating'].astype('float')"
   ]
  },
  {
   "cell_type": "code",
   "execution_count": 34,
   "metadata": {},
   "outputs": [],
   "source": [
    "fill_rating= games.groupby('name')['rating'].median()"
   ]
  },
  {
   "cell_type": "code",
   "execution_count": 35,
   "metadata": {},
   "outputs": [],
   "source": [
    "def getrat(row):\n",
    "    if np.isnan(row['rating']):\n",
    "        return fill_rating.get(row['name'])\n",
    "    else:\n",
    "        return row['rating']"
   ]
  },
  {
   "cell_type": "code",
   "execution_count": 36,
   "metadata": {},
   "outputs": [],
   "source": [
    "games['rating']=games.apply(getrat, axis=1)"
   ]
  },
  {
   "cell_type": "code",
   "execution_count": 37,
   "metadata": {
    "scrolled": true
   },
   "outputs": [
    {
     "data": {
      "text/plain": [
       "0.37856758212170166"
      ]
     },
     "execution_count": 37,
     "metadata": {},
     "output_type": "execute_result"
    }
   ],
   "source": [
    "games['rating'].isna().sum()/games.shape[0]"
   ]
  },
  {
   "cell_type": "markdown",
   "metadata": {},
   "source": [
    "With the function I was able to decrease the missing values of the ratings column from about 40% to 38%."
   ]
  },
  {
   "cell_type": "markdown",
   "metadata": {},
   "source": [
    "### Conclusion ###\n",
    "\n",
    "Above I filled a portion of the missing values found in the Score, Year of Release, and Ratings columns. \n",
    "I changed the score column to a float type to make it easier to work with and after changing the tbd's found in the user score to NaN, I changed that column as well to a float type.\n",
    "I also created a column to tally up the total sales for a row.\n",
    "I believe the missing values can stem from possibly a game being older and thus critic/user scores weren't collected or maintained through the years. Another possible reason is that the dataset is simply incomplete, in that case I would ask the one's that provided me with the dataset is there is a more complete/up-to-date version."
   ]
  },
  {
   "cell_type": "markdown",
   "metadata": {},
   "source": [
    "## Analysis #"
   ]
  },
  {
   "cell_type": "markdown",
   "metadata": {},
   "source": [
    "To move forward with our analysis, I will have to determine what period of the dataset I will be working with in order to build a prognosis for 2017. First I will investigate the number of games released each year to see if there is significant data for every period. I will make sure to only count unique entries for games. Even if a game is released on multiple platforms, at the end of the day, the company still essentially released 1 game. "
   ]
  },
  {
   "cell_type": "code",
   "execution_count": 38,
   "metadata": {
    "scrolled": true
   },
   "outputs": [
    {
     "data": {
      "image/png": "[encoded data removed]",
      "text/plain": [
       "<Figure size 576x576 with 1 Axes>"
      ]
     },
     "metadata": {
      "needs_background": "light"
     },
     "output_type": "display_data"
    }
   ],
   "source": [
    "games_count= games.pivot_table(index='year_of_release', values='name', aggfunc=pd.Series.nunique).plot(kind='bar',figsize=(8,8))\n",
    "plt.title('Number of Games Released by Year')\n",
    "plt.show()"
   ]
  },
  {
   "cell_type": "markdown",
   "metadata": {},
   "source": [
    "The first time over 500 games were released was in 2002, with a peak of 1067 games released in 2008. Afterwards though the amount of games released declines over the years. "
   ]
  },
  {
   "cell_type": "markdown",
   "metadata": {},
   "source": [
    "#### Platform Sales ####"
   ]
  },
  {
   "cell_type": "markdown",
   "metadata": {},
   "source": [
    "Next I will investigate platform sales, starting with determining how sales have varied from platform to platform."
   ]
  },
  {
   "cell_type": "code",
   "execution_count": 39,
   "metadata": {},
   "outputs": [
    {
     "data": {
      "text/html": [
       "<div>\n",
       "<style scoped>\n",
       "    .dataframe tbody tr th:only-of-type {\n",
       "        vertical-align: middle;\n",
       "    }\n",
       "\n",
       "    .dataframe tbody tr th {\n",
       "        vertical-align: top;\n",
       "    }\n",
       "\n",
       "    .dataframe thead th {\n",
       "        text-align: right;\n",
       "    }\n",
       "</style>\n",
       "<table border=\"1\" class=\"dataframe\">\n",
       "  <thead>\n",
       "    <tr style=\"text-align: right;\">\n",
       "      <th></th>\n",
       "      <th>total_sales</th>\n",
       "    </tr>\n",
       "    <tr>\n",
       "      <th>platform</th>\n",
       "      <th></th>\n",
       "    </tr>\n",
       "  </thead>\n",
       "  <tbody>\n",
       "    <tr>\n",
       "      <th>PS2</th>\n",
       "      <td>1255.77</td>\n",
       "    </tr>\n",
       "    <tr>\n",
       "      <th>X360</th>\n",
       "      <td>971.42</td>\n",
       "    </tr>\n",
       "    <tr>\n",
       "      <th>PS3</th>\n",
       "      <td>939.65</td>\n",
       "    </tr>\n",
       "    <tr>\n",
       "      <th>Wii</th>\n",
       "      <td>907.51</td>\n",
       "    </tr>\n",
       "    <tr>\n",
       "      <th>DS</th>\n",
       "      <td>806.12</td>\n",
       "    </tr>\n",
       "    <tr>\n",
       "      <th>PS</th>\n",
       "      <td>730.86</td>\n",
       "    </tr>\n",
       "    <tr>\n",
       "      <th>GBA</th>\n",
       "      <td>317.85</td>\n",
       "    </tr>\n",
       "    <tr>\n",
       "      <th>PS4</th>\n",
       "      <td>314.14</td>\n",
       "    </tr>\n",
       "    <tr>\n",
       "      <th>PSP</th>\n",
       "      <td>294.05</td>\n",
       "    </tr>\n",
       "    <tr>\n",
       "      <th>PC</th>\n",
       "      <td>259.52</td>\n",
       "    </tr>\n",
       "    <tr>\n",
       "      <th>3DS</th>\n",
       "      <td>259.00</td>\n",
       "    </tr>\n",
       "    <tr>\n",
       "      <th>XB</th>\n",
       "      <td>257.74</td>\n",
       "    </tr>\n",
       "    <tr>\n",
       "      <th>GB</th>\n",
       "      <td>255.46</td>\n",
       "    </tr>\n",
       "    <tr>\n",
       "      <th>NES</th>\n",
       "      <td>251.05</td>\n",
       "    </tr>\n",
       "    <tr>\n",
       "      <th>N64</th>\n",
       "      <td>218.68</td>\n",
       "    </tr>\n",
       "    <tr>\n",
       "      <th>SNES</th>\n",
       "      <td>200.04</td>\n",
       "    </tr>\n",
       "    <tr>\n",
       "      <th>GC</th>\n",
       "      <td>198.93</td>\n",
       "    </tr>\n",
       "    <tr>\n",
       "      <th>XOne</th>\n",
       "      <td>159.32</td>\n",
       "    </tr>\n",
       "    <tr>\n",
       "      <th>2600</th>\n",
       "      <td>96.98</td>\n",
       "    </tr>\n",
       "    <tr>\n",
       "      <th>WiiU</th>\n",
       "      <td>82.19</td>\n",
       "    </tr>\n",
       "    <tr>\n",
       "      <th>PSV</th>\n",
       "      <td>54.07</td>\n",
       "    </tr>\n",
       "    <tr>\n",
       "      <th>SAT</th>\n",
       "      <td>33.59</td>\n",
       "    </tr>\n",
       "    <tr>\n",
       "      <th>GEN</th>\n",
       "      <td>28.35</td>\n",
       "    </tr>\n",
       "    <tr>\n",
       "      <th>DC</th>\n",
       "      <td>15.95</td>\n",
       "    </tr>\n",
       "    <tr>\n",
       "      <th>SCD</th>\n",
       "      <td>1.86</td>\n",
       "    </tr>\n",
       "    <tr>\n",
       "      <th>NG</th>\n",
       "      <td>1.44</td>\n",
       "    </tr>\n",
       "    <tr>\n",
       "      <th>WS</th>\n",
       "      <td>1.42</td>\n",
       "    </tr>\n",
       "    <tr>\n",
       "      <th>TG16</th>\n",
       "      <td>0.16</td>\n",
       "    </tr>\n",
       "    <tr>\n",
       "      <th>3DO</th>\n",
       "      <td>0.10</td>\n",
       "    </tr>\n",
       "    <tr>\n",
       "      <th>GG</th>\n",
       "      <td>0.04</td>\n",
       "    </tr>\n",
       "    <tr>\n",
       "      <th>PCFX</th>\n",
       "      <td>0.03</td>\n",
       "    </tr>\n",
       "  </tbody>\n",
       "</table>\n",
       "</div>"
      ],
      "text/plain": [
       "          total_sales\n",
       "platform             \n",
       "PS2           1255.77\n",
       "X360           971.42\n",
       "PS3            939.65\n",
       "Wii            907.51\n",
       "DS             806.12\n",
       "PS             730.86\n",
       "GBA            317.85\n",
       "PS4            314.14\n",
       "PSP            294.05\n",
       "PC             259.52\n",
       "3DS            259.00\n",
       "XB             257.74\n",
       "GB             255.46\n",
       "NES            251.05\n",
       "N64            218.68\n",
       "SNES           200.04\n",
       "GC             198.93\n",
       "XOne           159.32\n",
       "2600            96.98\n",
       "WiiU            82.19\n",
       "PSV             54.07\n",
       "SAT             33.59\n",
       "GEN             28.35\n",
       "DC              15.95\n",
       "SCD              1.86\n",
       "NG               1.44\n",
       "WS               1.42\n",
       "TG16             0.16\n",
       "3DO              0.10\n",
       "GG               0.04\n",
       "PCFX             0.03"
      ]
     },
     "execution_count": 39,
     "metadata": {},
     "output_type": "execute_result"
    }
   ],
   "source": [
    "total_plat_sales = games.pivot_table(index='platform', values='total_sales',aggfunc='sum')\n",
    "total_plat_sales.sort_values(by='total_sales', ascending=False)"
   ]
  },
  {
   "cell_type": "markdown",
   "metadata": {},
   "source": [
    "I will take the top 5 platforms (PS2, X360, PS3, Wii, and DS) and find the distribution over the years for sales. "
   ]
  },
  {
   "cell_type": "code",
   "execution_count": 40,
   "metadata": {},
   "outputs": [
    {
     "data": {
      "image/png": "[encoded data removed]",
      "text/plain": [
       "<Figure size 432x288 with 1 Axes>"
      ]
     },
     "metadata": {
      "needs_background": "light"
     },
     "output_type": "display_data"
    }
   ],
   "source": [
    "#PS2 Distribution\n",
    "\n",
    "ps2_sales= games.query('platform == \"PS2\"').pivot_table(index='year_of_release', values='total_sales', aggfunc='sum').plot(kind='bar')\n",
    "plt.show()"
   ]
  },
  {
   "cell_type": "code",
   "execution_count": 41,
   "metadata": {
    "scrolled": true
   },
   "outputs": [
    {
     "data": {
      "image/png": "[encoded data removed]",
      "text/plain": [
       "<Figure size 432x288 with 1 Axes>"
      ]
     },
     "metadata": {
      "needs_background": "light"
     },
     "output_type": "display_data"
    }
   ],
   "source": [
    "#PS3 Distribution\n",
    "ps3_sales= games.query('platform == \"PS3\"').pivot_table(index='year_of_release', values='total_sales', aggfunc='sum').plot(kind='bar')\n",
    "plt.show()"
   ]
  },
  {
   "cell_type": "code",
   "execution_count": 42,
   "metadata": {},
   "outputs": [
    {
     "data": {
      "image/png": "[encoded data removed]",
      "text/plain": [
       "<Figure size 432x288 with 1 Axes>"
      ]
     },
     "metadata": {
      "needs_background": "light"
     },
     "output_type": "display_data"
    }
   ],
   "source": [
    "#X360 Distribution\n",
    "x360_sales= games.query('platform == \"X360\"').pivot_table(index='year_of_release', values='total_sales', aggfunc='sum').plot(kind='bar')\n",
    "plt.show()"
   ]
  },
  {
   "cell_type": "code",
   "execution_count": 43,
   "metadata": {},
   "outputs": [
    {
     "data": {
      "image/png": "[encoded data removed]",
      "text/plain": [
       "<Figure size 432x288 with 1 Axes>"
      ]
     },
     "metadata": {
      "needs_background": "light"
     },
     "output_type": "display_data"
    }
   ],
   "source": [
    "#Wii Distribution\n",
    "wii_sales= games.query('platform == \"Wii\"').pivot_table(index='year_of_release', values='total_sales', aggfunc='sum').plot(kind='bar')\n",
    "plt.show()"
   ]
  },
  {
   "cell_type": "code",
   "execution_count": 44,
   "metadata": {},
   "outputs": [
    {
     "data": {
      "image/png": "[encoded data removed]",
      "text/plain": [
       "<Figure size 432x288 with 1 Axes>"
      ]
     },
     "metadata": {
      "needs_background": "light"
     },
     "output_type": "display_data"
    }
   ],
   "source": [
    "#DS distribution\n",
    "ds_sales= games.query('platform == \"DS\"').pivot_table(index='year_of_release', values='total_sales', aggfunc='sum').plot(kind='bar')\n",
    "plt.show()"
   ]
  },
  {
   "cell_type": "markdown",
   "metadata": {},
   "source": [
    "I will compare the above platforms with a few of the lower performing platforms (DC, N64, XOne)."
   ]
  },
  {
   "cell_type": "code",
   "execution_count": 45,
   "metadata": {
    "scrolled": false
   },
   "outputs": [
    {
     "data": {
      "image/png": "[encoded data removed]",
      "text/plain": [
       "<Figure size 432x288 with 1 Axes>"
      ]
     },
     "metadata": {
      "needs_background": "light"
     },
     "output_type": "display_data"
    }
   ],
   "source": [
    "#DC Distribution\n",
    "dc_sales= games.query('platform == \"DC\"').pivot_table(index='year_of_release', values='total_sales', aggfunc='sum').plot(kind='bar')\n",
    "plt.show()"
   ]
  },
  {
   "cell_type": "code",
   "execution_count": 46,
   "metadata": {},
   "outputs": [
    {
     "data": {
      "image/png": "[encoded data removed]",
      "text/plain": [
       "<Figure size 432x288 with 1 Axes>"
      ]
     },
     "metadata": {
      "needs_background": "light"
     },
     "output_type": "display_data"
    }
   ],
   "source": [
    "#N64 Distribution\n",
    "n64_sales= games.query('platform == \"N64\"').pivot_table(index='year_of_release', values='total_sales', aggfunc='sum').plot(kind='bar')\n",
    "plt.show()"
   ]
  },
  {
   "cell_type": "code",
   "execution_count": 47,
   "metadata": {
    "scrolled": true
   },
   "outputs": [
    {
     "data": {
      "image/png": "[encoded data removed]",
      "text/plain": [
       "<Figure size 432x288 with 1 Axes>"
      ]
     },
     "metadata": {
      "needs_background": "light"
     },
     "output_type": "display_data"
    }
   ],
   "source": [
    "#XOne distribution\n",
    "xone_sales= games.query('platform == \"XOne\"').pivot_table(index='year_of_release', values='total_sales', aggfunc='sum').plot(kind='bar')\n",
    "plt.show()"
   ]
  },
  {
   "cell_type": "markdown",
   "metadata": {},
   "source": [
    "In these lower performing platforms we can see that they had a few years of sales before fizzling out and having 0 sales. \n",
    "Even the popular consoles show a simialr pattern of great sales in the early years of their cycle before losing popularity and having sales drop to almost 0. It seems like the newer game consoles have a life span of about 10 years, during the latter portion of that period, a newer version of the console is introduced and sales drop for the older console (i.e. Ps2 vs Ps3). \n",
    "\n",
    "With that being said, as my goal is to have a prognosis for 2017, I will be looking at data starting from the year 2011."
   ]
  },
  {
   "cell_type": "code",
   "execution_count": 48,
   "metadata": {},
   "outputs": [],
   "source": [
    "filtered_games= games.query('year_of_release > 2010')"
   ]
  },
  {
   "cell_type": "code",
   "execution_count": 49,
   "metadata": {
    "scrolled": true
   },
   "outputs": [
    {
     "name": "stdout",
     "output_type": "stream",
     "text": [
      "<class 'pandas.core.frame.DataFrame'>\n",
      "Int64Index: 4056 entries, 16 to 16714\n",
      "Data columns (total 12 columns):\n",
      " #   Column           Non-Null Count  Dtype  \n",
      "---  ------           --------------  -----  \n",
      " 0   name             4056 non-null   object \n",
      " 1   platform         4056 non-null   object \n",
      " 2   year_of_release  4056 non-null   float64\n",
      " 3   genre            4056 non-null   object \n",
      " 4   na_sales         4056 non-null   float64\n",
      " 5   eu_sales         4056 non-null   float64\n",
      " 6   jp_sales         4056 non-null   float64\n",
      " 7   other_sales      4056 non-null   float64\n",
      " 8   critic_score     1831 non-null   float64\n",
      " 9   user_score       2052 non-null   float64\n",
      " 10  rating           2519 non-null   float64\n",
      " 11  total_sales      4056 non-null   float64\n",
      "dtypes: float64(9), object(3)\n",
      "memory usage: 411.9+ KB\n"
     ]
    }
   ],
   "source": [
    "filtered_games.info()"
   ]
  },
  {
   "cell_type": "code",
   "execution_count": 50,
   "metadata": {
    "scrolled": true
   },
   "outputs": [
    {
     "data": {
      "text/html": [
       "<div>\n",
       "<style scoped>\n",
       "    .dataframe tbody tr th:only-of-type {\n",
       "        vertical-align: middle;\n",
       "    }\n",
       "\n",
       "    .dataframe tbody tr th {\n",
       "        vertical-align: top;\n",
       "    }\n",
       "\n",
       "    .dataframe thead th {\n",
       "        text-align: right;\n",
       "    }\n",
       "</style>\n",
       "<table border=\"1\" class=\"dataframe\">\n",
       "  <thead>\n",
       "    <tr style=\"text-align: right;\">\n",
       "      <th></th>\n",
       "      <th>name</th>\n",
       "      <th>platform</th>\n",
       "      <th>year_of_release</th>\n",
       "      <th>genre</th>\n",
       "      <th>na_sales</th>\n",
       "      <th>eu_sales</th>\n",
       "      <th>jp_sales</th>\n",
       "      <th>other_sales</th>\n",
       "      <th>critic_score</th>\n",
       "      <th>user_score</th>\n",
       "      <th>rating</th>\n",
       "      <th>total_sales</th>\n",
       "    </tr>\n",
       "  </thead>\n",
       "  <tbody>\n",
       "    <tr>\n",
       "      <th>16</th>\n",
       "      <td>Grand Theft Auto V</td>\n",
       "      <td>PS3</td>\n",
       "      <td>2013.0</td>\n",
       "      <td>Action</td>\n",
       "      <td>7.02</td>\n",
       "      <td>9.09</td>\n",
       "      <td>0.98</td>\n",
       "      <td>3.96</td>\n",
       "      <td>97.0</td>\n",
       "      <td>8.2</td>\n",
       "      <td>7.0</td>\n",
       "      <td>21.05</td>\n",
       "    </tr>\n",
       "    <tr>\n",
       "      <th>23</th>\n",
       "      <td>Grand Theft Auto V</td>\n",
       "      <td>X360</td>\n",
       "      <td>2013.0</td>\n",
       "      <td>Action</td>\n",
       "      <td>9.66</td>\n",
       "      <td>5.14</td>\n",
       "      <td>0.06</td>\n",
       "      <td>1.41</td>\n",
       "      <td>97.0</td>\n",
       "      <td>8.1</td>\n",
       "      <td>7.0</td>\n",
       "      <td>16.27</td>\n",
       "    </tr>\n",
       "    <tr>\n",
       "      <th>29</th>\n",
       "      <td>Call of Duty: Modern Warfare 3</td>\n",
       "      <td>X360</td>\n",
       "      <td>2011.0</td>\n",
       "      <td>Shooter</td>\n",
       "      <td>9.04</td>\n",
       "      <td>4.24</td>\n",
       "      <td>0.13</td>\n",
       "      <td>1.32</td>\n",
       "      <td>88.0</td>\n",
       "      <td>3.4</td>\n",
       "      <td>7.0</td>\n",
       "      <td>14.73</td>\n",
       "    </tr>\n",
       "    <tr>\n",
       "      <th>31</th>\n",
       "      <td>Call of Duty: Black Ops 3</td>\n",
       "      <td>PS4</td>\n",
       "      <td>2015.0</td>\n",
       "      <td>Shooter</td>\n",
       "      <td>6.03</td>\n",
       "      <td>5.86</td>\n",
       "      <td>0.36</td>\n",
       "      <td>2.38</td>\n",
       "      <td>NaN</td>\n",
       "      <td>NaN</td>\n",
       "      <td>NaN</td>\n",
       "      <td>14.63</td>\n",
       "    </tr>\n",
       "    <tr>\n",
       "      <th>33</th>\n",
       "      <td>Pokemon X/Pokemon Y</td>\n",
       "      <td>3DS</td>\n",
       "      <td>2013.0</td>\n",
       "      <td>Role-Playing</td>\n",
       "      <td>5.28</td>\n",
       "      <td>4.19</td>\n",
       "      <td>4.35</td>\n",
       "      <td>0.78</td>\n",
       "      <td>NaN</td>\n",
       "      <td>NaN</td>\n",
       "      <td>NaN</td>\n",
       "      <td>14.60</td>\n",
       "    </tr>\n",
       "  </tbody>\n",
       "</table>\n",
       "</div>"
      ],
      "text/plain": [
       "                              name platform  year_of_release         genre  \\\n",
       "16              Grand Theft Auto V      PS3           2013.0        Action   \n",
       "23              Grand Theft Auto V     X360           2013.0        Action   \n",
       "29  Call of Duty: Modern Warfare 3     X360           2011.0       Shooter   \n",
       "31       Call of Duty: Black Ops 3      PS4           2015.0       Shooter   \n",
       "33             Pokemon X/Pokemon Y      3DS           2013.0  Role-Playing   \n",
       "\n",
       "    na_sales  eu_sales  jp_sales  other_sales  critic_score  user_score  \\\n",
       "16      7.02      9.09      0.98         3.96          97.0         8.2   \n",
       "23      9.66      5.14      0.06         1.41          97.0         8.1   \n",
       "29      9.04      4.24      0.13         1.32          88.0         3.4   \n",
       "31      6.03      5.86      0.36         2.38           NaN         NaN   \n",
       "33      5.28      4.19      4.35         0.78           NaN         NaN   \n",
       "\n",
       "    rating  total_sales  \n",
       "16     7.0        21.05  \n",
       "23     7.0        16.27  \n",
       "29     7.0        14.73  \n",
       "31     NaN        14.63  \n",
       "33     NaN        14.60  "
      ]
     },
     "execution_count": 50,
     "metadata": {},
     "output_type": "execute_result"
    }
   ],
   "source": [
    "filtered_games.head()"
   ]
  },
  {
   "cell_type": "markdown",
   "metadata": {},
   "source": [
    "I will now investigate sale trends for my new filtered dataset"
   ]
  },
  {
   "cell_type": "code",
   "execution_count": 51,
   "metadata": {},
   "outputs": [
    {
     "data": {
      "text/html": [
       "<div>\n",
       "<style scoped>\n",
       "    .dataframe tbody tr th:only-of-type {\n",
       "        vertical-align: middle;\n",
       "    }\n",
       "\n",
       "    .dataframe tbody tr th {\n",
       "        vertical-align: top;\n",
       "    }\n",
       "\n",
       "    .dataframe thead th {\n",
       "        text-align: right;\n",
       "    }\n",
       "</style>\n",
       "<table border=\"1\" class=\"dataframe\">\n",
       "  <thead>\n",
       "    <tr style=\"text-align: right;\">\n",
       "      <th></th>\n",
       "      <th>total_sales</th>\n",
       "    </tr>\n",
       "    <tr>\n",
       "      <th>platform</th>\n",
       "      <th></th>\n",
       "    </tr>\n",
       "  </thead>\n",
       "  <tbody>\n",
       "    <tr>\n",
       "      <th>PS3</th>\n",
       "      <td>453.88</td>\n",
       "    </tr>\n",
       "    <tr>\n",
       "      <th>X360</th>\n",
       "      <td>380.38</td>\n",
       "    </tr>\n",
       "    <tr>\n",
       "      <th>PS4</th>\n",
       "      <td>314.14</td>\n",
       "    </tr>\n",
       "    <tr>\n",
       "      <th>3DS</th>\n",
       "      <td>259.00</td>\n",
       "    </tr>\n",
       "    <tr>\n",
       "      <th>XOne</th>\n",
       "      <td>159.32</td>\n",
       "    </tr>\n",
       "    <tr>\n",
       "      <th>PC</th>\n",
       "      <td>97.68</td>\n",
       "    </tr>\n",
       "    <tr>\n",
       "      <th>Wii</th>\n",
       "      <td>95.02</td>\n",
       "    </tr>\n",
       "    <tr>\n",
       "      <th>WiiU</th>\n",
       "      <td>82.19</td>\n",
       "    </tr>\n",
       "    <tr>\n",
       "      <th>PSV</th>\n",
       "      <td>54.07</td>\n",
       "    </tr>\n",
       "    <tr>\n",
       "      <th>DS</th>\n",
       "      <td>38.73</td>\n",
       "    </tr>\n",
       "    <tr>\n",
       "      <th>PSP</th>\n",
       "      <td>29.01</td>\n",
       "    </tr>\n",
       "    <tr>\n",
       "      <th>PS2</th>\n",
       "      <td>0.45</td>\n",
       "    </tr>\n",
       "  </tbody>\n",
       "</table>\n",
       "</div>"
      ],
      "text/plain": [
       "          total_sales\n",
       "platform             \n",
       "PS3            453.88\n",
       "X360           380.38\n",
       "PS4            314.14\n",
       "3DS            259.00\n",
       "XOne           159.32\n",
       "PC              97.68\n",
       "Wii             95.02\n",
       "WiiU            82.19\n",
       "PSV             54.07\n",
       "DS              38.73\n",
       "PSP             29.01\n",
       "PS2              0.45"
      ]
     },
     "execution_count": 51,
     "metadata": {},
     "output_type": "execute_result"
    }
   ],
   "source": [
    "filt_total_sales = filtered_games.pivot_table(index='platform',values='total_sales',aggfunc='sum')\n",
    "filt_total_sales.sort_values(by='total_sales', ascending=False)"
   ]
  },
  {
   "cell_type": "code",
   "execution_count": 52,
   "metadata": {
    "scrolled": true
   },
   "outputs": [
    {
     "data": {
      "text/html": [
       "<div>\n",
       "<style scoped>\n",
       "    .dataframe tbody tr th:only-of-type {\n",
       "        vertical-align: middle;\n",
       "    }\n",
       "\n",
       "    .dataframe tbody tr th {\n",
       "        vertical-align: top;\n",
       "    }\n",
       "\n",
       "    .dataframe thead th {\n",
       "        text-align: right;\n",
       "    }\n",
       "</style>\n",
       "<table border=\"1\" class=\"dataframe\">\n",
       "  <thead>\n",
       "    <tr style=\"text-align: right;\">\n",
       "      <th>platform</th>\n",
       "      <th>3DS</th>\n",
       "      <th>DS</th>\n",
       "      <th>PC</th>\n",
       "      <th>PS2</th>\n",
       "      <th>PS3</th>\n",
       "      <th>PS4</th>\n",
       "      <th>PSP</th>\n",
       "      <th>PSV</th>\n",
       "      <th>Wii</th>\n",
       "      <th>WiiU</th>\n",
       "      <th>X360</th>\n",
       "      <th>XOne</th>\n",
       "    </tr>\n",
       "    <tr>\n",
       "      <th>year_of_release</th>\n",
       "      <th></th>\n",
       "      <th></th>\n",
       "      <th></th>\n",
       "      <th></th>\n",
       "      <th></th>\n",
       "      <th></th>\n",
       "      <th></th>\n",
       "      <th></th>\n",
       "      <th></th>\n",
       "      <th></th>\n",
       "      <th></th>\n",
       "      <th></th>\n",
       "    </tr>\n",
       "  </thead>\n",
       "  <tbody>\n",
       "    <tr>\n",
       "      <th>2011.0</th>\n",
       "      <td>63.20</td>\n",
       "      <td>26.18</td>\n",
       "      <td>35.03</td>\n",
       "      <td>0.45</td>\n",
       "      <td>165.09</td>\n",
       "      <td>NaN</td>\n",
       "      <td>17.82</td>\n",
       "      <td>4.63</td>\n",
       "      <td>59.65</td>\n",
       "      <td>NaN</td>\n",
       "      <td>143.84</td>\n",
       "      <td>NaN</td>\n",
       "    </tr>\n",
       "    <tr>\n",
       "      <th>2012.0</th>\n",
       "      <td>51.36</td>\n",
       "      <td>11.01</td>\n",
       "      <td>23.22</td>\n",
       "      <td>NaN</td>\n",
       "      <td>107.36</td>\n",
       "      <td>NaN</td>\n",
       "      <td>7.69</td>\n",
       "      <td>16.19</td>\n",
       "      <td>21.71</td>\n",
       "      <td>17.56</td>\n",
       "      <td>99.74</td>\n",
       "      <td>NaN</td>\n",
       "    </tr>\n",
       "    <tr>\n",
       "      <th>2013.0</th>\n",
       "      <td>57.76</td>\n",
       "      <td>1.54</td>\n",
       "      <td>12.38</td>\n",
       "      <td>NaN</td>\n",
       "      <td>113.25</td>\n",
       "      <td>25.99</td>\n",
       "      <td>3.14</td>\n",
       "      <td>10.59</td>\n",
       "      <td>8.59</td>\n",
       "      <td>21.65</td>\n",
       "      <td>88.58</td>\n",
       "      <td>18.96</td>\n",
       "    </tr>\n",
       "    <tr>\n",
       "      <th>2014.0</th>\n",
       "      <td>43.76</td>\n",
       "      <td>NaN</td>\n",
       "      <td>13.28</td>\n",
       "      <td>NaN</td>\n",
       "      <td>47.76</td>\n",
       "      <td>100.00</td>\n",
       "      <td>0.24</td>\n",
       "      <td>12.16</td>\n",
       "      <td>3.75</td>\n",
       "      <td>22.03</td>\n",
       "      <td>34.74</td>\n",
       "      <td>54.07</td>\n",
       "    </tr>\n",
       "    <tr>\n",
       "      <th>2015.0</th>\n",
       "      <td>27.78</td>\n",
       "      <td>NaN</td>\n",
       "      <td>8.52</td>\n",
       "      <td>NaN</td>\n",
       "      <td>16.82</td>\n",
       "      <td>118.90</td>\n",
       "      <td>0.12</td>\n",
       "      <td>6.25</td>\n",
       "      <td>1.14</td>\n",
       "      <td>16.35</td>\n",
       "      <td>11.96</td>\n",
       "      <td>60.14</td>\n",
       "    </tr>\n",
       "    <tr>\n",
       "      <th>2016.0</th>\n",
       "      <td>15.14</td>\n",
       "      <td>NaN</td>\n",
       "      <td>5.25</td>\n",
       "      <td>NaN</td>\n",
       "      <td>3.60</td>\n",
       "      <td>69.25</td>\n",
       "      <td>NaN</td>\n",
       "      <td>4.25</td>\n",
       "      <td>0.18</td>\n",
       "      <td>4.60</td>\n",
       "      <td>1.52</td>\n",
       "      <td>26.15</td>\n",
       "    </tr>\n",
       "  </tbody>\n",
       "</table>\n",
       "</div>"
      ],
      "text/plain": [
       "platform           3DS     DS     PC   PS2     PS3     PS4    PSP    PSV  \\\n",
       "year_of_release                                                            \n",
       "2011.0           63.20  26.18  35.03  0.45  165.09     NaN  17.82   4.63   \n",
       "2012.0           51.36  11.01  23.22   NaN  107.36     NaN   7.69  16.19   \n",
       "2013.0           57.76   1.54  12.38   NaN  113.25   25.99   3.14  10.59   \n",
       "2014.0           43.76    NaN  13.28   NaN   47.76  100.00   0.24  12.16   \n",
       "2015.0           27.78    NaN   8.52   NaN   16.82  118.90   0.12   6.25   \n",
       "2016.0           15.14    NaN   5.25   NaN    3.60   69.25    NaN   4.25   \n",
       "\n",
       "platform           Wii   WiiU    X360   XOne  \n",
       "year_of_release                               \n",
       "2011.0           59.65    NaN  143.84    NaN  \n",
       "2012.0           21.71  17.56   99.74    NaN  \n",
       "2013.0            8.59  21.65   88.58  18.96  \n",
       "2014.0            3.75  22.03   34.74  54.07  \n",
       "2015.0            1.14  16.35   11.96  60.14  \n",
       "2016.0            0.18   4.60    1.52  26.15  "
      ]
     },
     "execution_count": 52,
     "metadata": {},
     "output_type": "execute_result"
    }
   ],
   "source": [
    "filt_total_sales2 = filtered_games.pivot_table(index='year_of_release',columns='platform',values='total_sales',aggfunc='sum')\n",
    "filt_total_sales2"
   ]
  },
  {
   "cell_type": "code",
   "execution_count": 53,
   "metadata": {
    "scrolled": true
   },
   "outputs": [
    {
     "data": {
      "image/png": "[encoded data removed]",
      "text/plain": [
       "<Figure size 576x576 with 1 Axes>"
      ]
     },
     "metadata": {
      "needs_background": "light"
     },
     "output_type": "display_data"
    }
   ],
   "source": [
    "filt_total_sales2.plot(figsize=(8,8))\n",
    "plt.ylabel('Total Sales')\n",
    "\n",
    "plt.show()"
   ]
  },
  {
   "cell_type": "markdown",
   "metadata": {},
   "source": [
    "Based on the above graph I can see that consoles such as Wii, 3DS, PS3, and X360 are shrinking, while PS4 and XOne are growing. This points to the PS4 and XOne being potentially profitable platforms."
   ]
  },
  {
   "cell_type": "code",
   "execution_count": 54,
   "metadata": {
    "scrolled": true
   },
   "outputs": [
    {
     "data": {
      "image/png": "[encoded data removed]",
      "text/plain": [
       "<Figure size 576x576 with 1 Axes>"
      ]
     },
     "metadata": {
      "needs_background": "light"
     },
     "output_type": "display_data"
    }
   ],
   "source": [
    "filt_total_sales2.boxplot(figsize=(8,8))\n",
    "plt.title('Total Sales by Platform')\n",
    "plt.show()"
   ]
  },
  {
   "cell_type": "markdown",
   "metadata": {},
   "source": [
    "There is quite a difference between the platforms in terms of global sales. The PS4 has the highest average of global sales with the PS3 coming in second. PS2 and PSP have the lowest average global sales."
   ]
  },
  {
   "cell_type": "markdown",
   "metadata": {},
   "source": [
    "#### Reviews and Sales ####"
   ]
  },
  {
   "cell_type": "markdown",
   "metadata": {},
   "source": [
    "Next I will investigate whether and how user and critic scores affect sales. For this portion of the analysis I will be focusing solely on PS3 sales."
   ]
  },
  {
   "cell_type": "code",
   "execution_count": 55,
   "metadata": {
    "scrolled": true
   },
   "outputs": [
    {
     "data": {
      "text/html": [
       "<div>\n",
       "<style scoped>\n",
       "    .dataframe tbody tr th:only-of-type {\n",
       "        vertical-align: middle;\n",
       "    }\n",
       "\n",
       "    .dataframe tbody tr th {\n",
       "        vertical-align: top;\n",
       "    }\n",
       "\n",
       "    .dataframe thead th {\n",
       "        text-align: right;\n",
       "    }\n",
       "</style>\n",
       "<table border=\"1\" class=\"dataframe\">\n",
       "  <thead>\n",
       "    <tr style=\"text-align: right;\">\n",
       "      <th></th>\n",
       "      <th>name</th>\n",
       "      <th>platform</th>\n",
       "      <th>year_of_release</th>\n",
       "      <th>genre</th>\n",
       "      <th>na_sales</th>\n",
       "      <th>eu_sales</th>\n",
       "      <th>jp_sales</th>\n",
       "      <th>other_sales</th>\n",
       "      <th>critic_score</th>\n",
       "      <th>user_score</th>\n",
       "      <th>rating</th>\n",
       "      <th>total_sales</th>\n",
       "    </tr>\n",
       "  </thead>\n",
       "  <tbody>\n",
       "    <tr>\n",
       "      <th>16</th>\n",
       "      <td>Grand Theft Auto V</td>\n",
       "      <td>PS3</td>\n",
       "      <td>2013.0</td>\n",
       "      <td>Action</td>\n",
       "      <td>7.02</td>\n",
       "      <td>9.09</td>\n",
       "      <td>0.98</td>\n",
       "      <td>3.96</td>\n",
       "      <td>97.0</td>\n",
       "      <td>8.2</td>\n",
       "      <td>7.0</td>\n",
       "      <td>21.05</td>\n",
       "    </tr>\n",
       "    <tr>\n",
       "      <th>34</th>\n",
       "      <td>Call of Duty: Black Ops II</td>\n",
       "      <td>PS3</td>\n",
       "      <td>2012.0</td>\n",
       "      <td>Shooter</td>\n",
       "      <td>4.99</td>\n",
       "      <td>5.73</td>\n",
       "      <td>0.65</td>\n",
       "      <td>2.42</td>\n",
       "      <td>83.0</td>\n",
       "      <td>5.3</td>\n",
       "      <td>7.0</td>\n",
       "      <td>13.79</td>\n",
       "    </tr>\n",
       "    <tr>\n",
       "      <th>37</th>\n",
       "      <td>Call of Duty: Modern Warfare 3</td>\n",
       "      <td>PS3</td>\n",
       "      <td>2011.0</td>\n",
       "      <td>Shooter</td>\n",
       "      <td>5.54</td>\n",
       "      <td>5.73</td>\n",
       "      <td>0.49</td>\n",
       "      <td>1.57</td>\n",
       "      <td>88.0</td>\n",
       "      <td>3.2</td>\n",
       "      <td>7.0</td>\n",
       "      <td>13.33</td>\n",
       "    </tr>\n",
       "    <tr>\n",
       "      <th>69</th>\n",
       "      <td>Call of Duty: Ghosts</td>\n",
       "      <td>PS3</td>\n",
       "      <td>2013.0</td>\n",
       "      <td>Shooter</td>\n",
       "      <td>4.10</td>\n",
       "      <td>3.63</td>\n",
       "      <td>0.38</td>\n",
       "      <td>1.25</td>\n",
       "      <td>71.0</td>\n",
       "      <td>2.6</td>\n",
       "      <td>7.0</td>\n",
       "      <td>9.36</td>\n",
       "    </tr>\n",
       "    <tr>\n",
       "      <th>81</th>\n",
       "      <td>FIFA Soccer 13</td>\n",
       "      <td>PS3</td>\n",
       "      <td>2012.0</td>\n",
       "      <td>Action</td>\n",
       "      <td>1.06</td>\n",
       "      <td>5.01</td>\n",
       "      <td>0.13</td>\n",
       "      <td>1.97</td>\n",
       "      <td>88.0</td>\n",
       "      <td>6.6</td>\n",
       "      <td>8.0</td>\n",
       "      <td>8.17</td>\n",
       "    </tr>\n",
       "    <tr>\n",
       "      <th>...</th>\n",
       "      <td>...</td>\n",
       "      <td>...</td>\n",
       "      <td>...</td>\n",
       "      <td>...</td>\n",
       "      <td>...</td>\n",
       "      <td>...</td>\n",
       "      <td>...</td>\n",
       "      <td>...</td>\n",
       "      <td>...</td>\n",
       "      <td>...</td>\n",
       "      <td>...</td>\n",
       "      <td>...</td>\n",
       "    </tr>\n",
       "    <tr>\n",
       "      <th>16628</th>\n",
       "      <td>Akatsuki no Goei Trinity</td>\n",
       "      <td>PS3</td>\n",
       "      <td>2012.0</td>\n",
       "      <td>Adventure</td>\n",
       "      <td>0.00</td>\n",
       "      <td>0.00</td>\n",
       "      <td>0.01</td>\n",
       "      <td>0.00</td>\n",
       "      <td>NaN</td>\n",
       "      <td>NaN</td>\n",
       "      <td>NaN</td>\n",
       "      <td>0.01</td>\n",
       "    </tr>\n",
       "    <tr>\n",
       "      <th>16638</th>\n",
       "      <td>Tour de France 2014</td>\n",
       "      <td>PS3</td>\n",
       "      <td>2014.0</td>\n",
       "      <td>Sports</td>\n",
       "      <td>0.00</td>\n",
       "      <td>0.01</td>\n",
       "      <td>0.00</td>\n",
       "      <td>0.00</td>\n",
       "      <td>NaN</td>\n",
       "      <td>NaN</td>\n",
       "      <td>8.0</td>\n",
       "      <td>0.01</td>\n",
       "    </tr>\n",
       "    <tr>\n",
       "      <th>16674</th>\n",
       "      <td>Tsukigime Ranko's Longest Day</td>\n",
       "      <td>PS3</td>\n",
       "      <td>2014.0</td>\n",
       "      <td>Action</td>\n",
       "      <td>0.00</td>\n",
       "      <td>0.01</td>\n",
       "      <td>0.00</td>\n",
       "      <td>0.00</td>\n",
       "      <td>NaN</td>\n",
       "      <td>NaN</td>\n",
       "      <td>NaN</td>\n",
       "      <td>0.01</td>\n",
       "    </tr>\n",
       "    <tr>\n",
       "      <th>16691</th>\n",
       "      <td>Dynasty Warriors: Eiketsuden</td>\n",
       "      <td>PS3</td>\n",
       "      <td>2016.0</td>\n",
       "      <td>Action</td>\n",
       "      <td>0.00</td>\n",
       "      <td>0.00</td>\n",
       "      <td>0.01</td>\n",
       "      <td>0.00</td>\n",
       "      <td>NaN</td>\n",
       "      <td>NaN</td>\n",
       "      <td>NaN</td>\n",
       "      <td>0.01</td>\n",
       "    </tr>\n",
       "    <tr>\n",
       "      <th>16710</th>\n",
       "      <td>Samurai Warriors: Sanada Maru</td>\n",
       "      <td>PS3</td>\n",
       "      <td>2016.0</td>\n",
       "      <td>Action</td>\n",
       "      <td>0.00</td>\n",
       "      <td>0.00</td>\n",
       "      <td>0.01</td>\n",
       "      <td>0.00</td>\n",
       "      <td>NaN</td>\n",
       "      <td>NaN</td>\n",
       "      <td>NaN</td>\n",
       "      <td>0.01</td>\n",
       "    </tr>\n",
       "  </tbody>\n",
       "</table>\n",
       "<p>733 rows × 12 columns</p>\n",
       "</div>"
      ],
      "text/plain": [
       "                                 name platform  year_of_release      genre  \\\n",
       "16                 Grand Theft Auto V      PS3           2013.0     Action   \n",
       "34         Call of Duty: Black Ops II      PS3           2012.0    Shooter   \n",
       "37     Call of Duty: Modern Warfare 3      PS3           2011.0    Shooter   \n",
       "69               Call of Duty: Ghosts      PS3           2013.0    Shooter   \n",
       "81                     FIFA Soccer 13      PS3           2012.0     Action   \n",
       "...                               ...      ...              ...        ...   \n",
       "16628        Akatsuki no Goei Trinity      PS3           2012.0  Adventure   \n",
       "16638             Tour de France 2014      PS3           2014.0     Sports   \n",
       "16674   Tsukigime Ranko's Longest Day      PS3           2014.0     Action   \n",
       "16691    Dynasty Warriors: Eiketsuden      PS3           2016.0     Action   \n",
       "16710   Samurai Warriors: Sanada Maru      PS3           2016.0     Action   \n",
       "\n",
       "       na_sales  eu_sales  jp_sales  other_sales  critic_score  user_score  \\\n",
       "16         7.02      9.09      0.98         3.96          97.0         8.2   \n",
       "34         4.99      5.73      0.65         2.42          83.0         5.3   \n",
       "37         5.54      5.73      0.49         1.57          88.0         3.2   \n",
       "69         4.10      3.63      0.38         1.25          71.0         2.6   \n",
       "81         1.06      5.01      0.13         1.97          88.0         6.6   \n",
       "...         ...       ...       ...          ...           ...         ...   \n",
       "16628      0.00      0.00      0.01         0.00           NaN         NaN   \n",
       "16638      0.00      0.01      0.00         0.00           NaN         NaN   \n",
       "16674      0.00      0.01      0.00         0.00           NaN         NaN   \n",
       "16691      0.00      0.00      0.01         0.00           NaN         NaN   \n",
       "16710      0.00      0.00      0.01         0.00           NaN         NaN   \n",
       "\n",
       "       rating  total_sales  \n",
       "16        7.0        21.05  \n",
       "34        7.0        13.79  \n",
       "37        7.0        13.33  \n",
       "69        7.0         9.36  \n",
       "81        8.0         8.17  \n",
       "...       ...          ...  \n",
       "16628     NaN         0.01  \n",
       "16638     8.0         0.01  \n",
       "16674     NaN         0.01  \n",
       "16691     NaN         0.01  \n",
       "16710     NaN         0.01  \n",
       "\n",
       "[733 rows x 12 columns]"
      ]
     },
     "execution_count": 55,
     "metadata": {},
     "output_type": "execute_result"
    }
   ],
   "source": [
    "ps3_filter = filtered_games.query('platform == \"PS3\"')\n",
    "ps3_filter"
   ]
  },
  {
   "cell_type": "code",
   "execution_count": 56,
   "metadata": {
    "scrolled": false
   },
   "outputs": [
    {
     "data": {
      "image/png": "[encoded data removed]",
      "text/plain": [
       "<Figure size 432x288 with 1 Axes>"
      ]
     },
     "metadata": {
      "needs_background": "light"
     },
     "output_type": "display_data"
    }
   ],
   "source": [
    "ps3_filter.plot(x='critic_score',y='total_sales', kind='scatter')\n",
    "plt.show()"
   ]
  },
  {
   "cell_type": "code",
   "execution_count": 57,
   "metadata": {
    "scrolled": true
   },
   "outputs": [
    {
     "data": {
      "text/plain": [
       "0.3797253577883183"
      ]
     },
     "execution_count": 57,
     "metadata": {},
     "output_type": "execute_result"
    }
   ],
   "source": [
    "ps3_filter['critic_score'].corr(ps3_filter['total_sales'])"
   ]
  },
  {
   "cell_type": "code",
   "execution_count": 58,
   "metadata": {
    "scrolled": false
   },
   "outputs": [
    {
     "data": {
      "image/png": "[encoded data removed]",
      "text/plain": [
       "<Figure size 432x288 with 1 Axes>"
      ]
     },
     "metadata": {
      "needs_background": "light"
     },
     "output_type": "display_data"
    }
   ],
   "source": [
    "ps3_filter.plot(x='user_score',y='total_sales', kind='scatter')\n",
    "plt.show()"
   ]
  },
  {
   "cell_type": "code",
   "execution_count": 59,
   "metadata": {
    "scrolled": true
   },
   "outputs": [
    {
     "data": {
      "text/plain": [
       "0.01252143035253283"
      ]
     },
     "execution_count": 59,
     "metadata": {},
     "output_type": "execute_result"
    }
   ],
   "source": [
    "ps3_filter['user_score'].corr(ps3_filter['total_sales'])"
   ]
  },
  {
   "cell_type": "markdown",
   "metadata": {},
   "source": [
    "The linear correlation between critic scores and sales is weak and the same can be said for user scores and sales. "
   ]
  },
  {
   "cell_type": "markdown",
   "metadata": {},
   "source": [
    "#### Comparing Game Sales on Different Platforms ####"
   ]
  },
  {
   "cell_type": "markdown",
   "metadata": {},
   "source": [
    "I will take the top 5 grossing games and compare the sales of those games on different platforms. I will exlude games that are solely available on the Wii as my aim is to investigate different platforms and I've already determined that Wii sales are shrinking."
   ]
  },
  {
   "cell_type": "code",
   "execution_count": 60,
   "metadata": {
    "scrolled": true
   },
   "outputs": [
    {
     "data": {
      "text/html": [
       "<div>\n",
       "<style scoped>\n",
       "    .dataframe tbody tr th:only-of-type {\n",
       "        vertical-align: middle;\n",
       "    }\n",
       "\n",
       "    .dataframe tbody tr th {\n",
       "        vertical-align: top;\n",
       "    }\n",
       "\n",
       "    .dataframe thead th {\n",
       "        text-align: right;\n",
       "    }\n",
       "</style>\n",
       "<table border=\"1\" class=\"dataframe\">\n",
       "  <thead>\n",
       "    <tr style=\"text-align: right;\">\n",
       "      <th></th>\n",
       "      <th>total_sales</th>\n",
       "    </tr>\n",
       "    <tr>\n",
       "      <th>name</th>\n",
       "      <th></th>\n",
       "    </tr>\n",
       "  </thead>\n",
       "  <tbody>\n",
       "    <tr>\n",
       "      <th>Grand Theft Auto V</th>\n",
       "      <td>56.58</td>\n",
       "    </tr>\n",
       "    <tr>\n",
       "      <th>Call of Duty: Modern Warfare 3</th>\n",
       "      <td>30.60</td>\n",
       "    </tr>\n",
       "    <tr>\n",
       "      <th>Call of Duty: Black Ops II</th>\n",
       "      <td>29.40</td>\n",
       "    </tr>\n",
       "    <tr>\n",
       "      <th>Call of Duty: Ghosts</th>\n",
       "      <td>27.39</td>\n",
       "    </tr>\n",
       "    <tr>\n",
       "      <th>Call of Duty: Black Ops 3</th>\n",
       "      <td>25.67</td>\n",
       "    </tr>\n",
       "    <tr>\n",
       "      <th>Minecraft</th>\n",
       "      <td>24.16</td>\n",
       "    </tr>\n",
       "    <tr>\n",
       "      <th>Call of Duty: Advanced Warfare</th>\n",
       "      <td>21.97</td>\n",
       "    </tr>\n",
       "    <tr>\n",
       "      <th>The Elder Scrolls V: Skyrim</th>\n",
       "      <td>21.14</td>\n",
       "    </tr>\n",
       "    <tr>\n",
       "      <th>FIFA 15</th>\n",
       "      <td>17.37</td>\n",
       "    </tr>\n",
       "    <tr>\n",
       "      <th>Battlefield 3</th>\n",
       "      <td>17.27</td>\n",
       "    </tr>\n",
       "  </tbody>\n",
       "</table>\n",
       "</div>"
      ],
      "text/plain": [
       "                                total_sales\n",
       "name                                       \n",
       "Grand Theft Auto V                    56.58\n",
       "Call of Duty: Modern Warfare 3        30.60\n",
       "Call of Duty: Black Ops II            29.40\n",
       "Call of Duty: Ghosts                  27.39\n",
       "Call of Duty: Black Ops 3             25.67\n",
       "Minecraft                             24.16\n",
       "Call of Duty: Advanced Warfare        21.97\n",
       "The Elder Scrolls V: Skyrim           21.14\n",
       "FIFA 15                               17.37\n",
       "Battlefield 3                         17.27"
      ]
     },
     "execution_count": 60,
     "metadata": {},
     "output_type": "execute_result"
    }
   ],
   "source": [
    "top_games=filtered_games.pivot_table(index='name',values='total_sales',aggfunc='sum')\n",
    "top_games.sort_values(by='total_sales', ascending=False).head(10)"
   ]
  },
  {
   "cell_type": "code",
   "execution_count": 61,
   "metadata": {},
   "outputs": [
    {
     "data": {
      "image/png": "[encoded data removed]",
      "text/plain": [
       "<Figure size 432x288 with 1 Axes>"
      ]
     },
     "metadata": {
      "needs_background": "light"
     },
     "output_type": "display_data"
    }
   ],
   "source": [
    "#GTA\n",
    "gta_plot = filtered_games.query('name==\"Grand Theft Auto V\"').pivot_table(index='platform',values='total_sales', aggfunc='sum').plot(kind='bar')\n",
    "plt.title('GTA Sales Grouped by Platform')\n",
    "plt.show()"
   ]
  },
  {
   "cell_type": "code",
   "execution_count": 62,
   "metadata": {},
   "outputs": [
    {
     "data": {
      "image/png": "[encoded data removed]",
      "text/plain": [
       "<Figure size 432x288 with 1 Axes>"
      ]
     },
     "metadata": {
      "needs_background": "light"
     },
     "output_type": "display_data"
    }
   ],
   "source": [
    "#Call of Duty: Modern Warfare 3\n",
    "codmw3_plot = filtered_games.query('name==\"Call of Duty: Modern Warfare 3\"').pivot_table(index='platform',values='total_sales', aggfunc='sum').plot(kind='bar')\n",
    "plt.title('Call of Duty: Modern Warfare 3 Sales Grouped by Platform')\n",
    "plt.show()"
   ]
  },
  {
   "cell_type": "code",
   "execution_count": 63,
   "metadata": {},
   "outputs": [
    {
     "data": {
      "image/png": "[encoded data removed]",
      "text/plain": [
       "<Figure size 432x288 with 1 Axes>"
      ]
     },
     "metadata": {
      "needs_background": "light"
     },
     "output_type": "display_data"
    }
   ],
   "source": [
    "#Call of Duty: Black Ops II\n",
    "codbo_plot = filtered_games.query('name==\"Call of Duty: Black Ops II\"').pivot_table(index='platform',values='total_sales', aggfunc='sum').plot(kind='bar')\n",
    "plt.title('Call of Duty: Black Ops II Sales Grouped by Platform')\n",
    "plt.show()"
   ]
  },
  {
   "cell_type": "code",
   "execution_count": 64,
   "metadata": {
    "scrolled": true
   },
   "outputs": [
    {
     "data": {
      "image/png": "[encoded data removed]",
      "text/plain": [
       "<Figure size 432x288 with 1 Axes>"
      ]
     },
     "metadata": {
      "needs_background": "light"
     },
     "output_type": "display_data"
    }
   ],
   "source": [
    "#Call of Duty: Ghosts\n",
    "codg_plot = filtered_games.query('name==\"Call of Duty: Ghosts\"').pivot_table(index='platform',values='total_sales', aggfunc='sum').plot(kind='bar')\n",
    "plt.title('Call of Duty: Ghosts Sales Grouped by Platform')\n",
    "plt.show()"
   ]
  },
  {
   "cell_type": "code",
   "execution_count": 65,
   "metadata": {
    "scrolled": true
   },
   "outputs": [
    {
     "data": {
      "image/png": "[encoded data removed]",
      "text/plain": [
       "<Figure size 432x288 with 1 Axes>"
      ]
     },
     "metadata": {
      "needs_background": "light"
     },
     "output_type": "display_data"
    }
   ],
   "source": [
    "#Call of Duty: Black Ops 3\n",
    "codbo2_plot = filtered_games.query('name==\"Call of Duty: Black Ops 3\"').pivot_table(index='platform',values='total_sales', aggfunc='sum').plot(kind='bar')\n",
    "plt.title('Call of Duty: Black Ops 3 Sales Grouped by Platform')\n",
    "plt.show()"
   ]
  },
  {
   "cell_type": "markdown",
   "metadata": {},
   "source": [
    "For the top grossing games (that are not available exclusively on the Wii), it seems like the most profit can be seen when the games are on PS3 and X360. Note: This could also be related to the year of the release for these top grossing games as seen by Black Ops 3 being more profitable on the PS4 and XboxOne."
   ]
  },
  {
   "cell_type": "markdown",
   "metadata": {},
   "source": [
    "#### Sales and Genre ####"
   ]
  },
  {
   "cell_type": "code",
   "execution_count": 66,
   "metadata": {
    "scrolled": true
   },
   "outputs": [
    {
     "data": {
      "text/plain": [
       "12"
      ]
     },
     "execution_count": 66,
     "metadata": {},
     "output_type": "execute_result"
    }
   ],
   "source": [
    "filtered_games['genre'].nunique()"
   ]
  },
  {
   "cell_type": "code",
   "execution_count": 67,
   "metadata": {
    "scrolled": true
   },
   "outputs": [
    {
     "data": {
      "image/png": "[encoded data removed]",
      "text/plain": [
       "<Figure size 432x288 with 1 Axes>"
      ]
     },
     "metadata": {
      "needs_background": "light"
     },
     "output_type": "display_data"
    }
   ],
   "source": [
    "genre_plot=filtered_games.pivot_table(index='genre',values='total_sales',aggfunc='sum').sort_values(by='total_sales',ascending=False).plot(kind='bar')\n",
    "plt.show()"
   ]
  },
  {
   "cell_type": "markdown",
   "metadata": {},
   "source": [
    "It seems that the most profitable genre is Action, followed by Shooter. The least profitable genre seems to be puzzle. I would hesitate to generalize about top grossing and least grossing genres beyond this dataset as there's always the possibility of a game from one of the other categories being a surprise best seller. Also as these are total sales, it may hide any discrepancies when the data is broken up by region."
   ]
  },
  {
   "cell_type": "markdown",
   "metadata": {},
   "source": [
    "## Creating Profiles ##"
   ]
  },
  {
   "cell_type": "markdown",
   "metadata": {},
   "source": [
    "As the dataset includes sales for North America, Europe, and Japan, I will analyze these regions individually to find the top platforms, genres, and to determine if ESRB ratings affect sales. "
   ]
  },
  {
   "cell_type": "markdown",
   "metadata": {},
   "source": [
    "### North America ###"
   ]
  },
  {
   "cell_type": "code",
   "execution_count": 68,
   "metadata": {
    "scrolled": true
   },
   "outputs": [
    {
     "data": {
      "image/png": "[encoded data removed]",
      "text/plain": [
       "<Figure size 432x288 with 1 Axes>"
      ]
     },
     "metadata": {
      "needs_background": "light"
     },
     "output_type": "display_data"
    }
   ],
   "source": [
    "top_genre_na=filtered_games.pivot_table(index='genre',values='na_sales',aggfunc='sum').sort_values(by='na_sales',ascending=False).head().plot(kind='bar')\n",
    "top_genre_na\n",
    "plt.title('North American Sales by Genre')\n",
    "plt.show()"
   ]
  },
  {
   "cell_type": "code",
   "execution_count": 69,
   "metadata": {
    "scrolled": true
   },
   "outputs": [
    {
     "data": {
      "image/png": "[encoded data removed]",
      "text/plain": [
       "<Figure size 432x288 with 1 Axes>"
      ]
     },
     "metadata": {
      "needs_background": "light"
     },
     "output_type": "display_data"
    }
   ],
   "source": [
    "top_plat_na=filtered_games.pivot_table(index='platform',values='na_sales',aggfunc='sum').sort_values(by='na_sales',ascending=False).head().plot(kind='bar')\n",
    "top_plat_na\n",
    "plt.title('North American Sales by Platform')\n",
    "plt.show()"
   ]
  },
  {
   "cell_type": "code",
   "execution_count": 70,
   "metadata": {
    "scrolled": true
   },
   "outputs": [
    {
     "name": "stdout",
     "output_type": "stream",
     "text": [
      "0.2719196230532209 0.20576210629803254 0.1303727504885681 0.11164530554989388 0.10009951203136427\n"
     ]
    }
   ],
   "source": [
    "print(\n",
    "filtered_games.query('platform ==\"X360\"')['na_sales'].sum()/filtered_games['na_sales'].sum(),\n",
    "filtered_games.query('platform ==\"PS3\"')['na_sales'].sum()/filtered_games['na_sales'].sum(),\n",
    "filtered_games.query('platform ==\"PS4\"')['na_sales'].sum()/filtered_games['na_sales'].sum(),\n",
    "filtered_games.query('platform ==\"XOne\"')['na_sales'].sum()/filtered_games['na_sales'].sum(),\n",
    "filtered_games.query('platform ==\"3DS\"')['na_sales'].sum()/filtered_games['na_sales'].sum()\n",
    ")"
   ]
  },
  {
   "cell_type": "code",
   "execution_count": 71,
   "metadata": {
    "scrolled": false
   },
   "outputs": [
    {
     "data": {
      "image/png": "[encoded data removed]",
      "text/plain": [
       "<Figure size 432x288 with 1 Axes>"
      ]
     },
     "metadata": {
      "needs_background": "light"
     },
     "output_type": "display_data"
    }
   ],
   "source": [
    "filtered_games.plot(x='rating',y='na_sales', kind='scatter')\n",
    "plt.title('Correlation between ESRB Ratings and Sales')\n",
    "plt.show()"
   ]
  },
  {
   "cell_type": "code",
   "execution_count": 72,
   "metadata": {
    "scrolled": false
   },
   "outputs": [
    {
     "data": {
      "text/plain": [
       "0.06119614438605666"
      ]
     },
     "execution_count": 72,
     "metadata": {},
     "output_type": "execute_result"
    }
   ],
   "source": [
    "filtered_games['rating'].corr(filtered_games['na_sales'])"
   ]
  },
  {
   "cell_type": "markdown",
   "metadata": {},
   "source": [
    "### Europe ###"
   ]
  },
  {
   "cell_type": "code",
   "execution_count": 73,
   "metadata": {
    "scrolled": true
   },
   "outputs": [
    {
     "data": {
      "image/png": "[encoded data removed]",
      "text/plain": [
       "<Figure size 432x288 with 1 Axes>"
      ]
     },
     "metadata": {
      "needs_background": "light"
     },
     "output_type": "display_data"
    }
   ],
   "source": [
    "top_genre_eu=filtered_games.pivot_table(index='genre',values='eu_sales',aggfunc='sum').sort_values(by='eu_sales',ascending=False).head().plot(kind='bar')\n",
    "top_genre_eu\n",
    "plt.title('European Sales by Genre')\n",
    "plt.show()"
   ]
  },
  {
   "cell_type": "code",
   "execution_count": 74,
   "metadata": {
    "scrolled": false
   },
   "outputs": [
    {
     "data": {
      "image/png": "[encoded data removed]",
      "text/plain": [
       "<Figure size 432x288 with 1 Axes>"
      ]
     },
     "metadata": {
      "needs_background": "light"
     },
     "output_type": "display_data"
    }
   ],
   "source": [
    "top_plat_eu=filtered_games.pivot_table(index='platform',values='eu_sales',aggfunc='sum').sort_values(by='eu_sales',ascending=False).head().plot(kind='bar')\n",
    "top_plat_eu\n",
    "plt.title('European Sales by Platform')\n",
    "plt.show()"
   ]
  },
  {
   "cell_type": "code",
   "execution_count": 75,
   "metadata": {},
   "outputs": [
    {
     "name": "stdout",
     "output_type": "stream",
     "text": [
      "0.24687653202204626 0.20960289988560904 0.17396342459851738 0.09133451190706104 0.08423335759808656\n"
     ]
    }
   ],
   "source": [
    "print(\n",
    "filtered_games.query('platform ==\"PS3\"')['eu_sales'].sum()/filtered_games['eu_sales'].sum(),\n",
    "filtered_games.query('platform ==\"PS4\"')['eu_sales'].sum()/filtered_games['eu_sales'].sum(),\n",
    "filtered_games.query('platform ==\"X360\"')['eu_sales'].sum()/filtered_games['eu_sales'].sum(),\n",
    "filtered_games.query('platform ==\"3DS\"')['eu_sales'].sum()/filtered_games['eu_sales'].sum(),\n",
    "filtered_games.query('platform ==\"PC\"')['eu_sales'].sum()/filtered_games['eu_sales'].sum()\n",
    ")"
   ]
  },
  {
   "cell_type": "code",
   "execution_count": 76,
   "metadata": {
    "scrolled": true
   },
   "outputs": [
    {
     "data": {
      "image/png": "[encoded data removed]",
      "text/plain": [
       "<Figure size 432x288 with 1 Axes>"
      ]
     },
     "metadata": {
      "needs_background": "light"
     },
     "output_type": "display_data"
    }
   ],
   "source": [
    "filtered_games.plot(x='rating',y='eu_sales', kind='scatter')\n",
    "plt.title('Correlation between ESRB Ratings and Sales')\n",
    "plt.show()\n"
   ]
  },
  {
   "cell_type": "code",
   "execution_count": 77,
   "metadata": {},
   "outputs": [
    {
     "data": {
      "text/plain": [
       "0.08290196698826131"
      ]
     },
     "execution_count": 77,
     "metadata": {},
     "output_type": "execute_result"
    }
   ],
   "source": [
    "filtered_games['rating'].corr(filtered_games['eu_sales'])"
   ]
  },
  {
   "cell_type": "markdown",
   "metadata": {},
   "source": [
    "### Japan ###"
   ]
  },
  {
   "cell_type": "code",
   "execution_count": 78,
   "metadata": {
    "scrolled": true
   },
   "outputs": [
    {
     "data": {
      "image/png": "[encoded data removed]",
      "text/plain": [
       "<Figure size 432x288 with 1 Axes>"
      ]
     },
     "metadata": {
      "needs_background": "light"
     },
     "output_type": "display_data"
    }
   ],
   "source": [
    "top_genre_jp=filtered_games.pivot_table(index='genre',values='jp_sales',aggfunc='sum').sort_values(by='jp_sales',ascending=False).head().plot(kind='bar')\n",
    "top_genre_jp\n",
    "plt.title('Japan Sales by Genre')\n",
    "plt.show()"
   ]
  },
  {
   "cell_type": "code",
   "execution_count": 79,
   "metadata": {
    "scrolled": false
   },
   "outputs": [
    {
     "data": {
      "image/png": "[encoded data removed]",
      "text/plain": [
       "<Figure size 432x288 with 1 Axes>"
      ]
     },
     "metadata": {
      "needs_background": "light"
     },
     "output_type": "display_data"
    }
   ],
   "source": [
    "top_plat_jp=filtered_games.pivot_table(index='platform',values='jp_sales',aggfunc='sum').sort_values(by='jp_sales',ascending=False).head().plot(kind='bar')\n",
    "top_plat_jp\n",
    "plt.title('Japan Sales by Platform')\n",
    "plt.show()"
   ]
  },
  {
   "cell_type": "code",
   "execution_count": 80,
   "metadata": {},
   "outputs": [
    {
     "name": "stdout",
     "output_type": "stream",
     "text": [
      "0.4083147434597444 0.20348813628067328 0.09750557696207665 0.08886635570878118 0.06473331981342527\n"
     ]
    }
   ],
   "source": [
    "print(\n",
    "filtered_games.query('platform ==\"3DS\"')['jp_sales'].sum()/filtered_games['jp_sales'].sum(),\n",
    "filtered_games.query('platform ==\"PS3\"')['jp_sales'].sum()/filtered_games['jp_sales'].sum(),\n",
    "filtered_games.query('platform ==\"PSP\"')['jp_sales'].sum()/filtered_games['jp_sales'].sum(),\n",
    "filtered_games.query('platform ==\"PSV\"')['jp_sales'].sum()/filtered_games['jp_sales'].sum(),\n",
    "filtered_games.query('platform ==\"PS4\"')['jp_sales'].sum()/filtered_games['jp_sales'].sum(),\n",
    "\n",
    ")"
   ]
  },
  {
   "cell_type": "code",
   "execution_count": 81,
   "metadata": {
    "scrolled": true
   },
   "outputs": [
    {
     "data": {
      "image/png": "[encoded data removed]",
      "text/plain": [
       "<Figure size 432x288 with 1 Axes>"
      ]
     },
     "metadata": {
      "needs_background": "light"
     },
     "output_type": "display_data"
    }
   ],
   "source": [
    "filtered_games.plot(x='rating',y='jp_sales', kind='scatter')\n",
    "plt.title('Correlation between ESRB Ratings and Sales')\n",
    "plt.show()"
   ]
  },
  {
   "cell_type": "code",
   "execution_count": 82,
   "metadata": {
    "scrolled": true
   },
   "outputs": [
    {
     "data": {
      "text/plain": [
       "0.045534256600295316"
      ]
     },
     "execution_count": 82,
     "metadata": {},
     "output_type": "execute_result"
    }
   ],
   "source": [
    "filtered_games['rating'].corr(filtered_games['jp_sales'])"
   ]
  },
  {
   "cell_type": "markdown",
   "metadata": {},
   "source": [
    "### Conclusions ###"
   ]
  },
  {
   "cell_type": "markdown",
   "metadata": {},
   "source": [
    "The top 5 Genres for the regions are as followed:\n",
    "\n",
    "\n",
    "NA : Action, Shooter, Sports, Role Playing, and Misc.\n",
    "\n",
    "\n",
    "Europe: Action, Shooter, Sports, Role Playing, and Racing\n",
    "\n",
    "\n",
    "Japan: Role Playing, Action, Misc, Fighting, and Platform\n",
    "\n",
    "The top 5 Platforms for the regions are as followed:\n",
    "NA: X630, PS3, PS4, XONE, 3DS\n",
    "Europe: PS3, PS4, X360, 3DS, PC\n",
    "Japan: 3DS, PS3, PSP, PSV, PS4\n",
    "\n",
    "North America's top platform, X360 holds 27% of the market, Europe's top platform, PS3 holds 24%, and Japan's top, 3DS holds 40% of the market. \n",
    "\n",
    "North America and Europe both have the same top genre of Action but for Japan the top genre is Role Playing. \n",
    "\n",
    "There does not seem to be a linear correlation between ESRB ratings and sales in any of the regions."
   ]
  },
  {
   "cell_type": "markdown",
   "metadata": {},
   "source": [
    "## Hypothesis Testing ##"
   ]
  },
  {
   "cell_type": "markdown",
   "metadata": {},
   "source": [
    "I will test 2 hypotheses:\n",
    "\n",
    "- Average user ratings of the Xbox One and PC platforms are the same.\n",
    "- Average user ratings for the Action and Sports genres are different.\n",
    "\n",
    "The null hypothesis is always formulated as the mean of x = the mean of y and the alternative hypothesis in this case will be that it is not equal. As I'm not interested in knowing if it may be larger or smaller, a two tailed hypothesis test will do.\n",
    "I will choose 0.05 as the alpha level as that is conventional."
   ]
  },
  {
   "cell_type": "code",
   "execution_count": 83,
   "metadata": {},
   "outputs": [
    {
     "name": "stdout",
     "output_type": "stream",
     "text": [
      "LeveneResult(statistic=5.516327585628806, pvalue=0.019238606822499546)\n",
      "6.521428571428572\n",
      "6.451791530944625\n",
      "p-value:  0.6267602271422398\n",
      "We can't reject the null hypothesis\n"
     ]
    }
   ],
   "source": [
    "# Test the hypotheses\n",
    "\"\"\"H0: The average user ratings of the Xbox One platform is equal to the average user ratings of \n",
    "the PC platform.\n",
    "Ha: The average user ratings of the Xbox One platform is not equal to the average user ratings of \n",
    "the PC platform.\n",
    "\n",
    "\"\"\"\n",
    "\n",
    "xone_score=filtered_games.query('platform ==\"XOne\"')['user_score']\n",
    "pc_score= filtered_games.query('platform ==\"PC\"')['user_score']\n",
    "\n",
    "p_value_levene = st.levene(xone_score.dropna(), pc_score.dropna())\n",
    "print(p_value_levene)\n",
    "print(xone_score.mean())\n",
    "print(pc_score.mean())\n",
    "alpha = 0.05\n",
    "\n",
    "results = st.ttest_ind(xone_score, pc_score,equal_var=True,nan_policy='omit')\n",
    "print('p-value: ', results.pvalue)\n",
    "\n",
    "if results.pvalue < alpha:\n",
    "    print(\"We reject the null hypothesis\")\n",
    "else:\n",
    "    print(\"We can't reject the null hypothesis\")"
   ]
  },
  {
   "cell_type": "markdown",
   "metadata": {},
   "source": [
    "In the above t-test I used equal_var = True as I couldn't reject the null hypothesis of the Levene test. \n",
    "The t-test returned a p-value that tells us there is a 22% chance of randomly getting a difference of user score means as extreme or larger than what we have. This is too high of a probability to state that there is a statistical difference between Xbox One User scores and PC user scores. "
   ]
  },
  {
   "cell_type": "code",
   "execution_count": 84,
   "metadata": {},
   "outputs": [
    {
     "name": "stdout",
     "output_type": "stream",
     "text": [
      "LeveneResult(statistic=19.00725647931513, pvalue=1.4497763498209219e-05)\n",
      "6.782712369597615\n",
      "5.656275303643724\n",
      "p-value:  5.774852186972399e-19\n",
      "We reject the null hypothesis\n"
     ]
    }
   ],
   "source": [
    "# Test the hypotheses\n",
    "\"\"\"H0: The average user ratings for the Action genre is equal to the average user ratings of \n",
    "the Sports genre.\n",
    "Ha: The average user ratings for the Action genre is not equal to the average user ratings of \n",
    "the Sports genre.\n",
    "\n",
    "\"\"\"\n",
    "\n",
    "action_score=filtered_games.query('genre ==\"Action\"')['user_score']\n",
    "sports_score= filtered_games.query('genre ==\"Sports\"')['user_score']\n",
    "\n",
    "p_value_levene = st.levene(action_score.dropna(), sports_score.dropna())\n",
    "print(p_value_levene)\n",
    "print(action_score.mean())\n",
    "print(sports_score.mean())\n",
    "alpha = 0.05\n",
    "\n",
    "results = st.ttest_ind(action_score, sports_score,equal_var=False,nan_policy='omit')\n",
    "print('p-value: ', results.pvalue)\n",
    "\n",
    "if results.pvalue < alpha:\n",
    "    print(\"We reject the null hypothesis\")\n",
    "else:\n",
    "    print(\"We can't reject the null hypothesis\")"
   ]
  },
  {
   "cell_type": "markdown",
   "metadata": {},
   "source": [
    "In the above t-test the Levene test resulted in a very small p-value so I set the equal_var to False. The resulting t-test returned a p-value that is less than my chosen alpha level. Though the means looks almost the same, there is very little chance of getting a difference that extreme or larger. This means there is a statistical difference between the mean user score of the Action genre and the Sport genre. I will reject the null hypotheis."
   ]
  },
  {
   "cell_type": "markdown",
   "metadata": {},
   "source": [
    "# Conclusion #"
   ]
  },
  {
   "cell_type": "markdown",
   "metadata": {},
   "source": [
    "I set out to determine if there is a pattern that can point to whether or not a game will be commercially successful. \n",
    "In my intial data cleaning, I added a column for total sales, filled in missing critic and user scores where possible and filled in missing release year dates. I changed the data type of the rating column and changed the individual ratings to numbers to aid in analysis and in filling in missing values. I also changed all the column names to lowercase.\n",
    "\n",
    "From there I sought to find which data period was best suited to come up with a prognosis for 2017. To do so I look at sales across platforms and how many games were released each year. I found that the lifespan of a game console tended to be about 10 years, with a newer version being released in the latter portion of those years. I then chose to move forward with data that was from 2007 or later. \n",
    "\n",
    "Using this filtered data I analyzed which platforms were shrinking. I also found which were growing (PS4 and Xbox One). Despite this it seems that PS3 and Xbox360 had the highest average total sales of the filtered data set. \n",
    "There was a medium positive linear correlation between critic scores and total sales sales. \n",
    "\n",
    "Whether there is a pattern to whether a game is successful will depend on the region, as each region has different top platforms and genres. Japan's top is the DS and roleplaying, Europe's is the PS3 and action, and North America's is the Xbox360 and action. Prior to creating an advertisting campaign I would keep those regional differences in mind. "
   ]
  },
  {
   "cell_type": "code",
   "execution_count": null,
   "metadata": {},
   "outputs": [],
   "source": []
  }
 ],
 "metadata": {
  "ExecuteTimeLog": [
   {
    "duration": 1125,
    "start_time": "2022-05-08T03:09:47.065Z"
   },
   {
    "duration": 97,
    "start_time": "2022-05-08T03:10:15.750Z"
   },
   {
    "duration": 16,
    "start_time": "2022-05-08T03:10:22.237Z"
   },
   {
    "duration": 14,
    "start_time": "2022-05-08T03:10:33.141Z"
   },
   {
    "duration": 14,
    "start_time": "2022-05-08T03:10:42.276Z"
   },
   {
    "duration": 14,
    "start_time": "2022-05-08T03:11:16.646Z"
   },
   {
    "duration": 15,
    "start_time": "2022-05-08T03:14:53.578Z"
   },
   {
    "duration": 12,
    "start_time": "2022-05-08T03:17:07.363Z"
   },
   {
    "duration": 91,
    "start_time": "2022-05-08T03:17:40.238Z"
   },
   {
    "duration": 15,
    "start_time": "2022-05-08T03:17:47.045Z"
   },
   {
    "duration": 5,
    "start_time": "2022-05-08T03:17:59.104Z"
   },
   {
    "duration": 9,
    "start_time": "2022-05-08T03:18:15.295Z"
   },
   {
    "duration": 12,
    "start_time": "2022-05-08T03:18:32.979Z"
   },
   {
    "duration": 11,
    "start_time": "2022-05-08T03:19:07.175Z"
   },
   {
    "duration": 8,
    "start_time": "2022-05-08T03:19:29.448Z"
   },
   {
    "duration": 14,
    "start_time": "2022-05-08T03:19:51.758Z"
   },
   {
    "duration": 15,
    "start_time": "2022-05-08T03:20:01.395Z"
   },
   {
    "duration": 25,
    "start_time": "2022-05-08T03:20:05.050Z"
   },
   {
    "duration": 16,
    "start_time": "2022-05-08T03:20:08.355Z"
   },
   {
    "duration": 24,
    "start_time": "2022-05-08T03:23:35.943Z"
   },
   {
    "duration": 14,
    "start_time": "2022-05-08T03:24:00.087Z"
   },
   {
    "duration": 8,
    "start_time": "2022-05-08T03:24:53.039Z"
   },
   {
    "duration": 15,
    "start_time": "2022-05-08T03:26:33.065Z"
   },
   {
    "duration": 6,
    "start_time": "2022-05-08T03:26:44.250Z"
   },
   {
    "duration": 15,
    "start_time": "2022-05-08T03:26:52.283Z"
   },
   {
    "duration": 12,
    "start_time": "2022-05-08T03:33:47.963Z"
   },
   {
    "duration": 13,
    "start_time": "2022-05-08T03:34:11.818Z"
   },
   {
    "duration": 4,
    "start_time": "2022-05-08T03:35:59.887Z"
   },
   {
    "duration": 20,
    "start_time": "2022-05-08T03:36:08.683Z"
   },
   {
    "duration": 1068,
    "start_time": "2022-05-08T03:36:56.801Z"
   },
   {
    "duration": 91,
    "start_time": "2022-05-08T03:36:57.872Z"
   },
   {
    "duration": 17,
    "start_time": "2022-05-08T03:36:57.964Z"
   },
   {
    "duration": 18,
    "start_time": "2022-05-08T03:36:57.983Z"
   },
   {
    "duration": 33,
    "start_time": "2022-05-08T03:36:58.003Z"
   },
   {
    "duration": 3,
    "start_time": "2022-05-08T03:36:58.037Z"
   },
   {
    "duration": 111,
    "start_time": "2022-05-08T03:36:58.042Z"
   },
   {
    "duration": 0,
    "start_time": "2022-05-08T03:36:58.154Z"
   },
   {
    "duration": 0,
    "start_time": "2022-05-08T03:36:58.156Z"
   },
   {
    "duration": 1,
    "start_time": "2022-05-08T03:36:58.156Z"
   },
   {
    "duration": 0,
    "start_time": "2022-05-08T03:36:58.158Z"
   },
   {
    "duration": 84,
    "start_time": "2022-05-08T03:37:28.711Z"
   },
   {
    "duration": 448,
    "start_time": "2022-05-08T03:37:39.499Z"
   },
   {
    "duration": 572,
    "start_time": "2022-05-08T03:37:45.683Z"
   },
   {
    "duration": 12,
    "start_time": "2022-05-08T03:38:15.237Z"
   },
   {
    "duration": 12,
    "start_time": "2022-05-08T03:38:18.548Z"
   },
   {
    "duration": 36,
    "start_time": "2022-05-08T03:43:44.307Z"
   },
   {
    "duration": 20,
    "start_time": "2022-05-08T03:44:10.651Z"
   },
   {
    "duration": 28,
    "start_time": "2022-05-08T03:44:17.586Z"
   },
   {
    "duration": 14,
    "start_time": "2022-05-08T03:44:40.800Z"
   },
   {
    "duration": 22,
    "start_time": "2022-05-08T03:45:15.156Z"
   },
   {
    "duration": 16,
    "start_time": "2022-05-08T03:45:32.996Z"
   },
   {
    "duration": 22,
    "start_time": "2022-05-08T03:47:30.424Z"
   },
   {
    "duration": 9,
    "start_time": "2022-05-08T03:47:57.886Z"
   },
   {
    "duration": 9,
    "start_time": "2022-05-08T03:50:58.881Z"
   },
   {
    "duration": 7,
    "start_time": "2022-05-08T03:51:04.431Z"
   },
   {
    "duration": 4,
    "start_time": "2022-05-08T03:51:28.906Z"
   },
   {
    "duration": 3,
    "start_time": "2022-05-08T03:56:15.515Z"
   },
   {
    "duration": 44,
    "start_time": "2022-05-08T03:56:15.520Z"
   },
   {
    "duration": 12,
    "start_time": "2022-05-08T03:56:15.566Z"
   },
   {
    "duration": 16,
    "start_time": "2022-05-08T03:56:15.579Z"
   },
   {
    "duration": 17,
    "start_time": "2022-05-08T03:56:15.597Z"
   },
   {
    "duration": 7,
    "start_time": "2022-05-08T03:56:15.616Z"
   },
   {
    "duration": 17,
    "start_time": "2022-05-08T03:56:15.625Z"
   },
   {
    "duration": 5,
    "start_time": "2022-05-08T03:56:15.643Z"
   },
   {
    "duration": 14,
    "start_time": "2022-05-08T03:56:15.649Z"
   },
   {
    "duration": 11,
    "start_time": "2022-05-08T03:56:15.664Z"
   },
   {
    "duration": 2,
    "start_time": "2022-05-08T03:56:56.793Z"
   },
   {
    "duration": 41,
    "start_time": "2022-05-08T03:56:56.797Z"
   },
   {
    "duration": 12,
    "start_time": "2022-05-08T03:56:56.840Z"
   },
   {
    "duration": 14,
    "start_time": "2022-05-08T03:56:56.853Z"
   },
   {
    "duration": 18,
    "start_time": "2022-05-08T03:56:56.869Z"
   },
   {
    "duration": 3,
    "start_time": "2022-05-08T03:56:56.888Z"
   },
   {
    "duration": 35,
    "start_time": "2022-05-08T03:56:56.893Z"
   },
   {
    "duration": 6,
    "start_time": "2022-05-08T03:56:56.930Z"
   },
   {
    "duration": 13,
    "start_time": "2022-05-08T03:56:56.937Z"
   },
   {
    "duration": 984,
    "start_time": "2022-05-08T03:57:13.874Z"
   },
   {
    "duration": 92,
    "start_time": "2022-05-08T03:57:14.860Z"
   },
   {
    "duration": 16,
    "start_time": "2022-05-08T03:57:14.953Z"
   },
   {
    "duration": 20,
    "start_time": "2022-05-08T03:57:14.972Z"
   },
   {
    "duration": 38,
    "start_time": "2022-05-08T03:57:14.994Z"
   },
   {
    "duration": 4,
    "start_time": "2022-05-08T03:57:15.034Z"
   },
   {
    "duration": 21,
    "start_time": "2022-05-08T03:57:15.040Z"
   },
   {
    "duration": 7,
    "start_time": "2022-05-08T03:57:15.063Z"
   },
   {
    "duration": 11,
    "start_time": "2022-05-08T03:57:15.072Z"
   },
   {
    "duration": 38,
    "start_time": "2022-05-08T03:57:15.086Z"
   },
   {
    "duration": 11,
    "start_time": "2022-05-08T03:57:15.126Z"
   },
   {
    "duration": 6,
    "start_time": "2022-05-08T03:57:15.139Z"
   },
   {
    "duration": 14,
    "start_time": "2022-05-08T03:57:15.147Z"
   },
   {
    "duration": 13,
    "start_time": "2022-05-08T03:58:04.850Z"
   },
   {
    "duration": 1067,
    "start_time": "2022-05-08T03:59:24.084Z"
   },
   {
    "duration": 90,
    "start_time": "2022-05-08T03:59:25.154Z"
   },
   {
    "duration": 14,
    "start_time": "2022-05-08T03:59:25.246Z"
   },
   {
    "duration": 21,
    "start_time": "2022-05-08T03:59:25.262Z"
   },
   {
    "duration": 15,
    "start_time": "2022-05-08T03:59:25.284Z"
   },
   {
    "duration": 3,
    "start_time": "2022-05-08T03:59:25.301Z"
   },
   {
    "duration": 17,
    "start_time": "2022-05-08T03:59:25.323Z"
   },
   {
    "duration": 6,
    "start_time": "2022-05-08T03:59:25.341Z"
   },
   {
    "duration": 13,
    "start_time": "2022-05-08T03:59:25.349Z"
   },
   {
    "duration": 12,
    "start_time": "2022-05-08T03:59:25.364Z"
   },
   {
    "duration": 14,
    "start_time": "2022-05-08T03:59:25.378Z"
   },
   {
    "duration": 32,
    "start_time": "2022-05-08T03:59:25.394Z"
   },
   {
    "duration": 5,
    "start_time": "2022-05-08T03:59:25.428Z"
   },
   {
    "duration": 14,
    "start_time": "2022-05-08T03:59:25.434Z"
   },
   {
    "duration": 1027,
    "start_time": "2022-05-08T04:00:32.543Z"
   },
   {
    "duration": 90,
    "start_time": "2022-05-08T04:00:33.572Z"
   },
   {
    "duration": 15,
    "start_time": "2022-05-08T04:00:33.664Z"
   },
   {
    "duration": 19,
    "start_time": "2022-05-08T04:00:33.681Z"
   },
   {
    "duration": 31,
    "start_time": "2022-05-08T04:00:33.702Z"
   },
   {
    "duration": 3,
    "start_time": "2022-05-08T04:00:33.735Z"
   },
   {
    "duration": 18,
    "start_time": "2022-05-08T04:00:33.739Z"
   },
   {
    "duration": 6,
    "start_time": "2022-05-08T04:00:33.759Z"
   },
   {
    "duration": 20,
    "start_time": "2022-05-08T04:00:33.766Z"
   },
   {
    "duration": 18,
    "start_time": "2022-05-08T04:00:33.789Z"
   },
   {
    "duration": 29,
    "start_time": "2022-05-08T04:00:33.808Z"
   },
   {
    "duration": 12,
    "start_time": "2022-05-08T04:00:33.839Z"
   },
   {
    "duration": 7,
    "start_time": "2022-05-08T04:00:33.853Z"
   },
   {
    "duration": 14,
    "start_time": "2022-05-08T04:00:33.862Z"
   },
   {
    "duration": 98,
    "start_time": "2022-05-08T04:04:06.136Z"
   },
   {
    "duration": 6,
    "start_time": "2022-05-08T04:04:21.473Z"
   },
   {
    "duration": 13,
    "start_time": "2022-05-08T04:04:29.598Z"
   },
   {
    "duration": 21,
    "start_time": "2022-05-08T04:04:34.984Z"
   },
   {
    "duration": 23,
    "start_time": "2022-05-08T04:04:56.861Z"
   },
   {
    "duration": 20,
    "start_time": "2022-05-08T04:05:48.050Z"
   },
   {
    "duration": 45,
    "start_time": "2022-05-08T04:05:50.969Z"
   },
   {
    "duration": 18,
    "start_time": "2022-05-08T04:06:04.675Z"
   },
   {
    "duration": 7,
    "start_time": "2022-05-08T04:06:09.866Z"
   },
   {
    "duration": 21,
    "start_time": "2022-05-08T04:06:11.766Z"
   },
   {
    "duration": 1059,
    "start_time": "2022-05-08T04:06:28.795Z"
   },
   {
    "duration": 90,
    "start_time": "2022-05-08T04:06:29.856Z"
   },
   {
    "duration": 14,
    "start_time": "2022-05-08T04:06:29.948Z"
   },
   {
    "duration": 19,
    "start_time": "2022-05-08T04:06:29.964Z"
   },
   {
    "duration": 16,
    "start_time": "2022-05-08T04:06:29.984Z"
   },
   {
    "duration": 4,
    "start_time": "2022-05-08T04:06:30.024Z"
   },
   {
    "duration": 20,
    "start_time": "2022-05-08T04:06:30.029Z"
   },
   {
    "duration": 5,
    "start_time": "2022-05-08T04:06:30.051Z"
   },
   {
    "duration": 17,
    "start_time": "2022-05-08T04:06:30.058Z"
   },
   {
    "duration": 12,
    "start_time": "2022-05-08T04:06:30.077Z"
   },
   {
    "duration": 36,
    "start_time": "2022-05-08T04:06:30.091Z"
   },
   {
    "duration": 19,
    "start_time": "2022-05-08T04:06:30.128Z"
   },
   {
    "duration": 26,
    "start_time": "2022-05-08T04:06:30.149Z"
   },
   {
    "duration": 22,
    "start_time": "2022-05-08T04:06:30.176Z"
   },
   {
    "duration": 11,
    "start_time": "2022-05-08T04:06:30.200Z"
   },
   {
    "duration": 16,
    "start_time": "2022-05-08T04:06:30.213Z"
   },
   {
    "duration": 20,
    "start_time": "2022-05-08T04:06:43.650Z"
   },
   {
    "duration": 1095,
    "start_time": "2022-05-08T04:08:12.062Z"
   },
   {
    "duration": 90,
    "start_time": "2022-05-08T04:08:13.159Z"
   },
   {
    "duration": 15,
    "start_time": "2022-05-08T04:08:13.250Z"
   },
   {
    "duration": 20,
    "start_time": "2022-05-08T04:08:13.266Z"
   },
   {
    "duration": 15,
    "start_time": "2022-05-08T04:08:13.287Z"
   },
   {
    "duration": 4,
    "start_time": "2022-05-08T04:08:13.324Z"
   },
   {
    "duration": 20,
    "start_time": "2022-05-08T04:08:13.329Z"
   },
   {
    "duration": 7,
    "start_time": "2022-05-08T04:08:13.351Z"
   },
   {
    "duration": 11,
    "start_time": "2022-05-08T04:08:13.359Z"
   },
   {
    "duration": 12,
    "start_time": "2022-05-08T04:08:13.373Z"
   },
   {
    "duration": 46,
    "start_time": "2022-05-08T04:08:13.387Z"
   },
   {
    "duration": 9,
    "start_time": "2022-05-08T04:08:13.435Z"
   },
   {
    "duration": 7,
    "start_time": "2022-05-08T04:08:13.445Z"
   },
   {
    "duration": 21,
    "start_time": "2022-05-08T04:08:13.453Z"
   },
   {
    "duration": 6,
    "start_time": "2022-05-08T04:08:13.475Z"
   },
   {
    "duration": 14,
    "start_time": "2022-05-08T04:08:13.482Z"
   },
   {
    "duration": 40,
    "start_time": "2022-05-08T04:08:13.497Z"
   },
   {
    "duration": 7,
    "start_time": "2022-05-08T05:06:21.364Z"
   },
   {
    "duration": 11,
    "start_time": "2022-05-08T05:08:43.371Z"
   },
   {
    "duration": 12,
    "start_time": "2022-05-08T05:09:03.142Z"
   },
   {
    "duration": 5,
    "start_time": "2022-05-08T05:17:54.598Z"
   },
   {
    "duration": 132,
    "start_time": "2022-05-08T05:19:02.584Z"
   },
   {
    "duration": 12,
    "start_time": "2022-05-08T05:22:33.757Z"
   },
   {
    "duration": 3,
    "start_time": "2022-05-08T05:22:48.088Z"
   },
   {
    "duration": 36,
    "start_time": "2022-05-08T05:22:48.093Z"
   },
   {
    "duration": 14,
    "start_time": "2022-05-08T05:22:48.131Z"
   },
   {
    "duration": 14,
    "start_time": "2022-05-08T05:22:48.146Z"
   },
   {
    "duration": 16,
    "start_time": "2022-05-08T05:22:48.163Z"
   },
   {
    "duration": 4,
    "start_time": "2022-05-08T05:22:48.180Z"
   },
   {
    "duration": 41,
    "start_time": "2022-05-08T05:22:48.185Z"
   },
   {
    "duration": 6,
    "start_time": "2022-05-08T05:22:48.228Z"
   },
   {
    "duration": 12,
    "start_time": "2022-05-08T05:22:48.235Z"
   },
   {
    "duration": 12,
    "start_time": "2022-05-08T05:22:48.249Z"
   },
   {
    "duration": 17,
    "start_time": "2022-05-08T05:22:48.263Z"
   },
   {
    "duration": 42,
    "start_time": "2022-05-08T05:22:48.283Z"
   },
   {
    "duration": 5,
    "start_time": "2022-05-08T05:22:48.327Z"
   },
   {
    "duration": 13,
    "start_time": "2022-05-08T05:22:48.334Z"
   },
   {
    "duration": 4,
    "start_time": "2022-05-08T05:22:48.349Z"
   },
   {
    "duration": 9,
    "start_time": "2022-05-08T05:22:48.355Z"
   },
   {
    "duration": 6,
    "start_time": "2022-05-08T05:22:48.366Z"
   },
   {
    "duration": 1048,
    "start_time": "2022-05-08T05:23:02.031Z"
   },
   {
    "duration": 89,
    "start_time": "2022-05-08T05:23:03.081Z"
   },
   {
    "duration": 14,
    "start_time": "2022-05-08T05:23:03.172Z"
   },
   {
    "duration": 20,
    "start_time": "2022-05-08T05:23:03.188Z"
   },
   {
    "duration": 23,
    "start_time": "2022-05-08T05:23:03.210Z"
   },
   {
    "duration": 3,
    "start_time": "2022-05-08T05:23:03.235Z"
   },
   {
    "duration": 18,
    "start_time": "2022-05-08T05:23:03.239Z"
   },
   {
    "duration": 6,
    "start_time": "2022-05-08T05:23:03.259Z"
   },
   {
    "duration": 10,
    "start_time": "2022-05-08T05:23:03.267Z"
   },
   {
    "duration": 44,
    "start_time": "2022-05-08T05:23:03.280Z"
   },
   {
    "duration": 15,
    "start_time": "2022-05-08T05:23:03.326Z"
   },
   {
    "duration": 10,
    "start_time": "2022-05-08T05:23:03.342Z"
   },
   {
    "duration": 6,
    "start_time": "2022-05-08T05:23:03.353Z"
   },
   {
    "duration": 19,
    "start_time": "2022-05-08T05:23:03.361Z"
   },
   {
    "duration": 6,
    "start_time": "2022-05-08T05:23:03.382Z"
   },
   {
    "duration": 41,
    "start_time": "2022-05-08T05:23:03.389Z"
   },
   {
    "duration": 9,
    "start_time": "2022-05-08T05:23:03.432Z"
   },
   {
    "duration": 3,
    "start_time": "2022-05-08T05:23:03.443Z"
   },
   {
    "duration": 183,
    "start_time": "2022-05-08T05:23:03.447Z"
   },
   {
    "duration": 9,
    "start_time": "2022-05-08T05:23:39.445Z"
   },
   {
    "duration": 1409,
    "start_time": "2022-05-08T05:24:48.788Z"
   },
   {
    "duration": 97,
    "start_time": "2022-05-08T05:24:50.200Z"
   },
   {
    "duration": 15,
    "start_time": "2022-05-08T05:24:50.298Z"
   },
   {
    "duration": 24,
    "start_time": "2022-05-08T05:24:50.315Z"
   },
   {
    "duration": 15,
    "start_time": "2022-05-08T05:24:50.341Z"
   },
   {
    "duration": 3,
    "start_time": "2022-05-08T05:24:50.358Z"
   },
   {
    "duration": 19,
    "start_time": "2022-05-08T05:24:50.363Z"
   },
   {
    "duration": 7,
    "start_time": "2022-05-08T05:24:50.384Z"
   },
   {
    "duration": 38,
    "start_time": "2022-05-08T05:24:50.392Z"
   },
   {
    "duration": 14,
    "start_time": "2022-05-08T05:24:50.433Z"
   },
   {
    "duration": 17,
    "start_time": "2022-05-08T05:24:50.449Z"
   },
   {
    "duration": 9,
    "start_time": "2022-05-08T05:24:50.468Z"
   },
   {
    "duration": 5,
    "start_time": "2022-05-08T05:24:50.478Z"
   },
   {
    "duration": 48,
    "start_time": "2022-05-08T05:24:50.484Z"
   },
   {
    "duration": 6,
    "start_time": "2022-05-08T05:24:50.534Z"
   },
   {
    "duration": 12,
    "start_time": "2022-05-08T05:24:50.541Z"
   },
   {
    "duration": 9,
    "start_time": "2022-05-08T05:24:50.555Z"
   },
   {
    "duration": 3,
    "start_time": "2022-05-08T05:24:50.566Z"
   },
   {
    "duration": 235,
    "start_time": "2022-05-08T05:24:50.571Z"
   },
   {
    "duration": 15,
    "start_time": "2022-05-08T05:24:50.809Z"
   },
   {
    "duration": 1086,
    "start_time": "2022-05-08T05:25:46.486Z"
   },
   {
    "duration": 90,
    "start_time": "2022-05-08T05:25:47.574Z"
   },
   {
    "duration": 16,
    "start_time": "2022-05-08T05:25:47.666Z"
   },
   {
    "duration": 39,
    "start_time": "2022-05-08T05:25:47.685Z"
   },
   {
    "duration": 16,
    "start_time": "2022-05-08T05:25:47.725Z"
   },
   {
    "duration": 4,
    "start_time": "2022-05-08T05:25:47.742Z"
   },
   {
    "duration": 26,
    "start_time": "2022-05-08T05:25:47.748Z"
   },
   {
    "duration": 8,
    "start_time": "2022-05-08T05:25:47.776Z"
   },
   {
    "duration": 37,
    "start_time": "2022-05-08T05:25:47.786Z"
   },
   {
    "duration": 14,
    "start_time": "2022-05-08T05:25:47.826Z"
   },
   {
    "duration": 17,
    "start_time": "2022-05-08T05:25:47.841Z"
   },
   {
    "duration": 9,
    "start_time": "2022-05-08T05:25:47.859Z"
   },
   {
    "duration": 5,
    "start_time": "2022-05-08T05:25:47.870Z"
   },
   {
    "duration": 12,
    "start_time": "2022-05-08T05:25:47.876Z"
   },
   {
    "duration": 5,
    "start_time": "2022-05-08T05:25:47.924Z"
   },
   {
    "duration": 10,
    "start_time": "2022-05-08T05:25:47.931Z"
   },
   {
    "duration": 5,
    "start_time": "2022-05-08T05:25:47.943Z"
   },
   {
    "duration": 15,
    "start_time": "2022-05-08T05:25:47.949Z"
   },
   {
    "duration": 183,
    "start_time": "2022-05-08T05:25:47.966Z"
   },
   {
    "duration": 6,
    "start_time": "2022-05-08T05:25:48.151Z"
   },
   {
    "duration": 13,
    "start_time": "2022-05-08T05:26:03.231Z"
   },
   {
    "duration": 23,
    "start_time": "2022-05-08T05:28:50.830Z"
   },
   {
    "duration": 21,
    "start_time": "2022-05-08T05:30:01.614Z"
   },
   {
    "duration": 12,
    "start_time": "2022-05-08T05:30:15.485Z"
   },
   {
    "duration": 168,
    "start_time": "2022-05-08T05:30:26.495Z"
   },
   {
    "duration": 126,
    "start_time": "2022-05-08T05:31:00.228Z"
   },
   {
    "duration": 11,
    "start_time": "2022-05-08T05:31:04.806Z"
   },
   {
    "duration": 11,
    "start_time": "2022-05-08T05:31:09.634Z"
   },
   {
    "duration": 23,
    "start_time": "2022-05-08T05:31:26.094Z"
   },
   {
    "duration": 13,
    "start_time": "2022-05-08T05:31:31.258Z"
   },
   {
    "duration": 13,
    "start_time": "2022-05-08T05:31:56.216Z"
   },
   {
    "duration": 22,
    "start_time": "2022-05-08T05:31:59.633Z"
   },
   {
    "duration": 25,
    "start_time": "2022-05-08T05:32:25.397Z"
   },
   {
    "duration": 14,
    "start_time": "2022-05-08T05:32:32.098Z"
   },
   {
    "duration": 9,
    "start_time": "2022-05-08T05:35:58.127Z"
   },
   {
    "duration": 119,
    "start_time": "2022-05-08T05:36:54.757Z"
   },
   {
    "duration": 22,
    "start_time": "2022-05-08T05:36:57.581Z"
   },
   {
    "duration": 1780,
    "start_time": "2022-05-08T05:37:24.625Z"
   },
   {
    "duration": 12,
    "start_time": "2022-05-08T05:37:31.827Z"
   },
   {
    "duration": 19,
    "start_time": "2022-05-08T05:38:02.501Z"
   },
   {
    "duration": 14,
    "start_time": "2022-05-08T05:38:14.227Z"
   },
   {
    "duration": 14,
    "start_time": "2022-05-08T05:38:33.796Z"
   },
   {
    "duration": 15,
    "start_time": "2022-05-08T05:38:47.099Z"
   },
   {
    "duration": 14,
    "start_time": "2022-05-08T05:39:29.819Z"
   },
   {
    "duration": 12,
    "start_time": "2022-05-08T05:40:05.857Z"
   },
   {
    "duration": 14,
    "start_time": "2022-05-08T05:40:43.308Z"
   },
   {
    "duration": 15,
    "start_time": "2022-05-08T05:40:51.099Z"
   },
   {
    "duration": 11,
    "start_time": "2022-05-08T05:40:59.233Z"
   },
   {
    "duration": 11,
    "start_time": "2022-05-08T05:41:56.062Z"
   },
   {
    "duration": 12,
    "start_time": "2022-05-08T05:42:09.642Z"
   },
   {
    "duration": 11,
    "start_time": "2022-05-08T05:49:09.366Z"
   },
   {
    "duration": 19,
    "start_time": "2022-05-08T05:49:57.796Z"
   },
   {
    "duration": 7,
    "start_time": "2022-05-08T05:50:58.339Z"
   },
   {
    "duration": 17,
    "start_time": "2022-05-08T05:51:42.760Z"
   },
   {
    "duration": 25,
    "start_time": "2022-05-08T05:57:13.101Z"
   },
   {
    "duration": 4,
    "start_time": "2022-05-08T05:57:14.899Z"
   },
   {
    "duration": 257,
    "start_time": "2022-05-08T05:57:40.966Z"
   },
   {
    "duration": 20,
    "start_time": "2022-05-08T05:57:50.078Z"
   },
   {
    "duration": 3,
    "start_time": "2022-05-08T05:58:29.527Z"
   },
   {
    "duration": 1114,
    "start_time": "2022-05-08T05:58:35.649Z"
   },
   {
    "duration": 89,
    "start_time": "2022-05-08T05:58:36.765Z"
   },
   {
    "duration": 15,
    "start_time": "2022-05-08T05:58:36.856Z"
   },
   {
    "duration": 29,
    "start_time": "2022-05-08T05:58:36.875Z"
   },
   {
    "duration": 22,
    "start_time": "2022-05-08T05:58:36.906Z"
   },
   {
    "duration": 5,
    "start_time": "2022-05-08T05:58:36.929Z"
   },
   {
    "duration": 32,
    "start_time": "2022-05-08T05:58:36.935Z"
   },
   {
    "duration": 12,
    "start_time": "2022-05-08T05:58:36.969Z"
   },
   {
    "duration": 26,
    "start_time": "2022-05-08T05:58:36.983Z"
   },
   {
    "duration": 17,
    "start_time": "2022-05-08T05:58:37.012Z"
   },
   {
    "duration": 23,
    "start_time": "2022-05-08T05:58:37.031Z"
   },
   {
    "duration": 30,
    "start_time": "2022-05-08T05:58:37.056Z"
   },
   {
    "duration": 18,
    "start_time": "2022-05-08T05:58:37.088Z"
   },
   {
    "duration": 25,
    "start_time": "2022-05-08T05:58:37.107Z"
   },
   {
    "duration": 22,
    "start_time": "2022-05-08T05:58:37.133Z"
   },
   {
    "duration": 29,
    "start_time": "2022-05-08T05:58:37.157Z"
   },
   {
    "duration": 19,
    "start_time": "2022-05-08T05:58:37.188Z"
   },
   {
    "duration": 13,
    "start_time": "2022-05-08T05:58:37.209Z"
   },
   {
    "duration": 237,
    "start_time": "2022-05-08T05:58:37.224Z"
   },
   {
    "duration": 14,
    "start_time": "2022-05-08T05:58:37.463Z"
   },
   {
    "duration": 41,
    "start_time": "2022-05-08T05:58:37.478Z"
   },
   {
    "duration": 33,
    "start_time": "2022-05-08T05:58:37.521Z"
   },
   {
    "duration": 19,
    "start_time": "2022-05-08T05:58:37.556Z"
   },
   {
    "duration": 31,
    "start_time": "2022-05-08T05:58:37.577Z"
   },
   {
    "duration": 3,
    "start_time": "2022-05-08T05:58:37.610Z"
   },
   {
    "duration": 223,
    "start_time": "2022-05-08T05:58:37.614Z"
   },
   {
    "duration": 18,
    "start_time": "2022-05-08T05:58:37.838Z"
   },
   {
    "duration": 5,
    "start_time": "2022-05-08T05:59:25.824Z"
   },
   {
    "duration": 21,
    "start_time": "2022-05-08T06:00:05.876Z"
   },
   {
    "duration": 15,
    "start_time": "2022-05-08T06:00:28.277Z"
   },
   {
    "duration": 23,
    "start_time": "2022-05-08T06:00:42.203Z"
   },
   {
    "duration": 12,
    "start_time": "2022-05-08T06:01:08.526Z"
   },
   {
    "duration": 14,
    "start_time": "2022-05-08T06:01:14.358Z"
   },
   {
    "duration": 24,
    "start_time": "2022-05-08T06:01:57.998Z"
   },
   {
    "duration": 21,
    "start_time": "2022-05-08T06:02:31.465Z"
   },
   {
    "duration": 6,
    "start_time": "2022-05-08T06:03:08.061Z"
   },
   {
    "duration": 14,
    "start_time": "2022-05-08T06:07:10.512Z"
   },
   {
    "duration": 6,
    "start_time": "2022-05-08T06:07:49.979Z"
   },
   {
    "duration": 3,
    "start_time": "2022-05-08T06:08:01.346Z"
   },
   {
    "duration": 215,
    "start_time": "2022-05-08T06:09:00.332Z"
   },
   {
    "duration": 5,
    "start_time": "2022-05-08T06:09:08.381Z"
   },
   {
    "duration": 4,
    "start_time": "2022-05-08T06:09:47.084Z"
   },
   {
    "duration": 1058,
    "start_time": "2022-05-08T06:10:02.337Z"
   },
   {
    "duration": 91,
    "start_time": "2022-05-08T06:10:03.398Z"
   },
   {
    "duration": 15,
    "start_time": "2022-05-08T06:10:03.491Z"
   },
   {
    "duration": 33,
    "start_time": "2022-05-08T06:10:03.509Z"
   },
   {
    "duration": 16,
    "start_time": "2022-05-08T06:10:03.544Z"
   },
   {
    "duration": 3,
    "start_time": "2022-05-08T06:10:03.561Z"
   },
   {
    "duration": 16,
    "start_time": "2022-05-08T06:10:03.566Z"
   },
   {
    "duration": 6,
    "start_time": "2022-05-08T06:10:03.584Z"
   },
   {
    "duration": 36,
    "start_time": "2022-05-08T06:10:03.592Z"
   },
   {
    "duration": 13,
    "start_time": "2022-05-08T06:10:03.632Z"
   },
   {
    "duration": 15,
    "start_time": "2022-05-08T06:10:03.646Z"
   },
   {
    "duration": 10,
    "start_time": "2022-05-08T06:10:03.663Z"
   },
   {
    "duration": 6,
    "start_time": "2022-05-08T06:10:03.674Z"
   },
   {
    "duration": 50,
    "start_time": "2022-05-08T06:10:03.681Z"
   },
   {
    "duration": 5,
    "start_time": "2022-05-08T06:10:03.733Z"
   },
   {
    "duration": 14,
    "start_time": "2022-05-08T06:10:03.740Z"
   },
   {
    "duration": 5,
    "start_time": "2022-05-08T06:10:03.756Z"
   },
   {
    "duration": 3,
    "start_time": "2022-05-08T06:10:03.763Z"
   },
   {
    "duration": 203,
    "start_time": "2022-05-08T06:10:03.767Z"
   },
   {
    "duration": 13,
    "start_time": "2022-05-08T06:10:03.971Z"
   },
   {
    "duration": 17,
    "start_time": "2022-05-08T06:10:03.986Z"
   },
   {
    "duration": 27,
    "start_time": "2022-05-08T06:10:04.005Z"
   },
   {
    "duration": 18,
    "start_time": "2022-05-08T06:10:04.033Z"
   },
   {
    "duration": 29,
    "start_time": "2022-05-08T06:10:04.053Z"
   },
   {
    "duration": 3,
    "start_time": "2022-05-08T06:10:04.083Z"
   },
   {
    "duration": 239,
    "start_time": "2022-05-08T06:10:04.088Z"
   },
   {
    "duration": 19,
    "start_time": "2022-05-08T06:10:04.329Z"
   },
   {
    "duration": 5,
    "start_time": "2022-05-08T06:10:04.352Z"
   },
   {
    "duration": 6,
    "start_time": "2022-05-08T06:10:04.359Z"
   },
   {
    "duration": 16,
    "start_time": "2022-05-08T06:10:04.367Z"
   },
   {
    "duration": 4,
    "start_time": "2022-05-08T06:10:04.385Z"
   },
   {
    "duration": 257,
    "start_time": "2022-05-08T06:10:04.390Z"
   },
   {
    "duration": 6,
    "start_time": "2022-05-08T06:10:04.649Z"
   },
   {
    "duration": 18,
    "start_time": "2022-05-08T06:12:45.561Z"
   },
   {
    "duration": 22,
    "start_time": "2022-05-08T06:15:10.891Z"
   },
   {
    "duration": 15,
    "start_time": "2022-05-08T06:16:11.380Z"
   },
   {
    "duration": 14,
    "start_time": "2022-05-08T06:16:24.608Z"
   },
   {
    "duration": 14,
    "start_time": "2022-05-08T06:16:33.699Z"
   },
   {
    "duration": 16,
    "start_time": "2022-05-08T06:16:42.527Z"
   },
   {
    "duration": 15,
    "start_time": "2022-05-08T06:17:39.693Z"
   },
   {
    "duration": 23,
    "start_time": "2022-05-08T06:17:50.111Z"
   },
   {
    "duration": 16,
    "start_time": "2022-05-08T06:18:12.327Z"
   },
   {
    "duration": 46,
    "start_time": "2022-05-08T06:18:39.093Z"
   },
   {
    "duration": 6,
    "start_time": "2022-05-08T06:19:56.865Z"
   },
   {
    "duration": 103,
    "start_time": "2022-05-08T06:20:02.457Z"
   },
   {
    "duration": 16,
    "start_time": "2022-05-08T06:20:08.594Z"
   },
   {
    "duration": 6,
    "start_time": "2022-05-08T06:20:12.505Z"
   },
   {
    "duration": 5,
    "start_time": "2022-05-08T06:21:52.278Z"
   },
   {
    "duration": 10,
    "start_time": "2022-05-08T06:22:01.752Z"
   },
   {
    "duration": 9,
    "start_time": "2022-05-08T06:23:45.879Z"
   },
   {
    "duration": 10,
    "start_time": "2022-05-08T06:23:58.299Z"
   },
   {
    "duration": 3,
    "start_time": "2022-05-08T06:24:31.045Z"
   },
   {
    "duration": 3,
    "start_time": "2022-05-08T06:24:57.511Z"
   },
   {
    "duration": 24,
    "start_time": "2022-05-08T06:25:10.102Z"
   },
   {
    "duration": 5,
    "start_time": "2022-05-08T06:25:59.111Z"
   },
   {
    "duration": 14,
    "start_time": "2022-05-08T06:26:38.366Z"
   },
   {
    "duration": 7,
    "start_time": "2022-05-08T06:39:19.081Z"
   },
   {
    "duration": 1904,
    "start_time": "2022-05-08T06:47:15.847Z"
   },
   {
    "duration": 3,
    "start_time": "2022-05-08T06:50:22.709Z"
   },
   {
    "duration": 3,
    "start_time": "2022-05-08T06:50:28.812Z"
   },
   {
    "duration": 227,
    "start_time": "2022-05-08T06:50:43.486Z"
   },
   {
    "duration": 25,
    "start_time": "2022-05-08T06:50:51.489Z"
   },
   {
    "duration": 14,
    "start_time": "2022-05-08T06:53:42.934Z"
   },
   {
    "duration": 41,
    "start_time": "2022-05-08T07:01:44.093Z"
   },
   {
    "duration": 32,
    "start_time": "2022-05-08T07:01:48.666Z"
   },
   {
    "duration": 8,
    "start_time": "2022-05-08T07:02:10.806Z"
   },
   {
    "duration": 16,
    "start_time": "2022-05-08T07:02:15.958Z"
   },
   {
    "duration": 48,
    "start_time": "2022-05-08T17:51:09.157Z"
   },
   {
    "duration": 1369,
    "start_time": "2022-05-08T17:51:14.968Z"
   },
   {
    "duration": 109,
    "start_time": "2022-05-08T17:51:16.340Z"
   },
   {
    "duration": 18,
    "start_time": "2022-05-08T17:51:16.451Z"
   },
   {
    "duration": 21,
    "start_time": "2022-05-08T17:51:16.471Z"
   },
   {
    "duration": 38,
    "start_time": "2022-05-08T17:51:16.494Z"
   },
   {
    "duration": 3,
    "start_time": "2022-05-08T17:51:16.534Z"
   },
   {
    "duration": 18,
    "start_time": "2022-05-08T17:51:16.539Z"
   },
   {
    "duration": 6,
    "start_time": "2022-05-08T17:51:16.559Z"
   },
   {
    "duration": 15,
    "start_time": "2022-05-08T17:51:16.567Z"
   },
   {
    "duration": 43,
    "start_time": "2022-05-08T17:51:16.584Z"
   },
   {
    "duration": 16,
    "start_time": "2022-05-08T17:51:16.628Z"
   },
   {
    "duration": 10,
    "start_time": "2022-05-08T17:51:16.646Z"
   },
   {
    "duration": 7,
    "start_time": "2022-05-08T17:51:16.658Z"
   },
   {
    "duration": 15,
    "start_time": "2022-05-08T17:51:16.666Z"
   },
   {
    "duration": 40,
    "start_time": "2022-05-08T17:51:16.683Z"
   },
   {
    "duration": 11,
    "start_time": "2022-05-08T17:51:16.726Z"
   },
   {
    "duration": 7,
    "start_time": "2022-05-08T17:51:16.739Z"
   },
   {
    "duration": 8,
    "start_time": "2022-05-08T17:51:16.748Z"
   },
   {
    "duration": 215,
    "start_time": "2022-05-08T17:51:16.758Z"
   },
   {
    "duration": 14,
    "start_time": "2022-05-08T17:51:16.975Z"
   },
   {
    "duration": 9,
    "start_time": "2022-05-08T17:51:16.992Z"
   },
   {
    "duration": 32,
    "start_time": "2022-05-08T17:51:17.002Z"
   },
   {
    "duration": 19,
    "start_time": "2022-05-08T17:51:17.036Z"
   },
   {
    "duration": 53,
    "start_time": "2022-05-08T17:51:17.057Z"
   },
   {
    "duration": 11,
    "start_time": "2022-05-08T17:51:17.112Z"
   },
   {
    "duration": 221,
    "start_time": "2022-05-08T17:51:17.125Z"
   },
   {
    "duration": 19,
    "start_time": "2022-05-08T17:51:17.347Z"
   },
   {
    "duration": 21,
    "start_time": "2022-05-08T17:51:17.369Z"
   },
   {
    "duration": 5,
    "start_time": "2022-05-08T17:51:17.392Z"
   },
   {
    "duration": 24,
    "start_time": "2022-05-08T17:51:17.399Z"
   },
   {
    "duration": 4,
    "start_time": "2022-05-08T17:51:17.425Z"
   },
   {
    "duration": 231,
    "start_time": "2022-05-08T17:51:17.430Z"
   },
   {
    "duration": 5,
    "start_time": "2022-05-08T17:51:17.663Z"
   },
   {
    "duration": 23,
    "start_time": "2022-05-08T17:51:17.670Z"
   },
   {
    "duration": 4,
    "start_time": "2022-05-08T17:51:17.695Z"
   },
   {
    "duration": 262,
    "start_time": "2022-05-08T17:51:17.700Z"
   },
   {
    "duration": 15,
    "start_time": "2022-05-08T17:51:17.963Z"
   },
   {
    "duration": 6,
    "start_time": "2022-05-08T17:51:17.980Z"
   },
   {
    "duration": 44,
    "start_time": "2022-05-08T17:51:17.988Z"
   },
   {
    "duration": 16,
    "start_time": "2022-05-08T17:51:18.035Z"
   },
   {
    "duration": 6,
    "start_time": "2022-05-08T17:51:18.053Z"
   },
   {
    "duration": 11,
    "start_time": "2022-05-08T17:51:18.061Z"
   },
   {
    "duration": 5,
    "start_time": "2022-05-08T17:51:18.074Z"
   },
   {
    "duration": 127,
    "start_time": "2022-05-08T17:51:18.081Z"
   },
   {
    "duration": 1143,
    "start_time": "2022-05-08T17:58:07.087Z"
   },
   {
    "duration": 98,
    "start_time": "2022-05-08T17:58:08.232Z"
   },
   {
    "duration": 16,
    "start_time": "2022-05-08T17:58:08.332Z"
   },
   {
    "duration": 33,
    "start_time": "2022-05-08T17:58:08.350Z"
   },
   {
    "duration": 30,
    "start_time": "2022-05-08T17:58:08.385Z"
   },
   {
    "duration": 11,
    "start_time": "2022-05-08T17:58:08.416Z"
   },
   {
    "duration": 33,
    "start_time": "2022-05-08T17:58:08.429Z"
   },
   {
    "duration": 6,
    "start_time": "2022-05-08T17:58:08.464Z"
   },
   {
    "duration": 24,
    "start_time": "2022-05-08T17:58:08.472Z"
   },
   {
    "duration": 20,
    "start_time": "2022-05-08T17:58:08.499Z"
   },
   {
    "duration": 20,
    "start_time": "2022-05-08T17:58:08.521Z"
   },
   {
    "duration": 14,
    "start_time": "2022-05-08T17:58:08.542Z"
   },
   {
    "duration": 22,
    "start_time": "2022-05-08T17:58:08.557Z"
   },
   {
    "duration": 31,
    "start_time": "2022-05-08T17:58:08.581Z"
   },
   {
    "duration": 18,
    "start_time": "2022-05-08T17:58:08.614Z"
   },
   {
    "duration": 17,
    "start_time": "2022-05-08T17:58:08.634Z"
   },
   {
    "duration": 8,
    "start_time": "2022-05-08T17:58:08.653Z"
   },
   {
    "duration": 14,
    "start_time": "2022-05-08T17:58:08.662Z"
   },
   {
    "duration": 182,
    "start_time": "2022-05-08T17:58:08.677Z"
   },
   {
    "duration": 14,
    "start_time": "2022-05-08T17:58:08.861Z"
   },
   {
    "duration": 17,
    "start_time": "2022-05-08T17:58:08.876Z"
   },
   {
    "duration": 30,
    "start_time": "2022-05-08T17:58:08.894Z"
   },
   {
    "duration": 30,
    "start_time": "2022-05-08T17:58:08.925Z"
   },
   {
    "duration": 35,
    "start_time": "2022-05-08T17:58:08.957Z"
   },
   {
    "duration": 3,
    "start_time": "2022-05-08T17:58:08.994Z"
   },
   {
    "duration": 207,
    "start_time": "2022-05-08T17:58:08.999Z"
   },
   {
    "duration": 18,
    "start_time": "2022-05-08T17:58:09.208Z"
   },
   {
    "duration": 5,
    "start_time": "2022-05-08T17:58:09.231Z"
   },
   {
    "duration": 19,
    "start_time": "2022-05-08T17:58:09.238Z"
   },
   {
    "duration": 54,
    "start_time": "2022-05-08T17:58:09.258Z"
   },
   {
    "duration": 17,
    "start_time": "2022-05-08T17:58:09.314Z"
   },
   {
    "duration": 223,
    "start_time": "2022-05-08T17:58:09.333Z"
   },
   {
    "duration": 4,
    "start_time": "2022-05-08T17:58:09.558Z"
   },
   {
    "duration": 29,
    "start_time": "2022-05-08T17:58:09.564Z"
   },
   {
    "duration": 13,
    "start_time": "2022-05-08T17:58:09.594Z"
   },
   {
    "duration": 252,
    "start_time": "2022-05-08T17:58:09.609Z"
   },
   {
    "duration": 15,
    "start_time": "2022-05-08T17:58:09.863Z"
   },
   {
    "duration": 12,
    "start_time": "2022-05-08T17:58:09.880Z"
   },
   {
    "duration": 45,
    "start_time": "2022-05-08T17:58:09.894Z"
   },
   {
    "duration": 16,
    "start_time": "2022-05-08T17:58:09.940Z"
   },
   {
    "duration": 9,
    "start_time": "2022-05-08T17:58:09.957Z"
   },
   {
    "duration": 7,
    "start_time": "2022-05-08T17:58:09.968Z"
   },
   {
    "duration": 190,
    "start_time": "2022-05-08T17:58:09.977Z"
   },
   {
    "duration": 0,
    "start_time": "2022-05-08T17:58:10.169Z"
   },
   {
    "duration": 0,
    "start_time": "2022-05-08T17:58:10.170Z"
   },
   {
    "duration": 0,
    "start_time": "2022-05-08T17:58:10.172Z"
   },
   {
    "duration": 0,
    "start_time": "2022-05-08T17:58:10.173Z"
   },
   {
    "duration": 0,
    "start_time": "2022-05-08T17:58:10.174Z"
   },
   {
    "duration": 0,
    "start_time": "2022-05-08T17:58:10.176Z"
   },
   {
    "duration": 1123,
    "start_time": "2022-05-08T17:58:26.498Z"
   },
   {
    "duration": 91,
    "start_time": "2022-05-08T17:58:27.623Z"
   },
   {
    "duration": 14,
    "start_time": "2022-05-08T17:58:27.716Z"
   },
   {
    "duration": 18,
    "start_time": "2022-05-08T17:58:27.732Z"
   },
   {
    "duration": 15,
    "start_time": "2022-05-08T17:58:27.752Z"
   },
   {
    "duration": 3,
    "start_time": "2022-05-08T17:58:27.768Z"
   },
   {
    "duration": 17,
    "start_time": "2022-05-08T17:58:27.772Z"
   },
   {
    "duration": 37,
    "start_time": "2022-05-08T17:58:27.790Z"
   },
   {
    "duration": 12,
    "start_time": "2022-05-08T17:58:27.828Z"
   },
   {
    "duration": 13,
    "start_time": "2022-05-08T17:58:27.841Z"
   },
   {
    "duration": 16,
    "start_time": "2022-05-08T17:58:27.856Z"
   },
   {
    "duration": 12,
    "start_time": "2022-05-08T17:58:27.873Z"
   },
   {
    "duration": 6,
    "start_time": "2022-05-08T17:58:27.886Z"
   },
   {
    "duration": 13,
    "start_time": "2022-05-08T17:58:27.925Z"
   },
   {
    "duration": 5,
    "start_time": "2022-05-08T17:58:27.940Z"
   },
   {
    "duration": 10,
    "start_time": "2022-05-08T17:58:27.946Z"
   },
   {
    "duration": 6,
    "start_time": "2022-05-08T17:58:27.957Z"
   },
   {
    "duration": 5,
    "start_time": "2022-05-08T17:58:27.965Z"
   },
   {
    "duration": 207,
    "start_time": "2022-05-08T17:58:27.972Z"
   },
   {
    "duration": 14,
    "start_time": "2022-05-08T17:58:28.180Z"
   },
   {
    "duration": 9,
    "start_time": "2022-05-08T17:58:28.195Z"
   },
   {
    "duration": 12,
    "start_time": "2022-05-08T17:58:28.222Z"
   },
   {
    "duration": 18,
    "start_time": "2022-05-08T17:58:28.235Z"
   },
   {
    "duration": 27,
    "start_time": "2022-05-08T17:58:28.255Z"
   },
   {
    "duration": 3,
    "start_time": "2022-05-08T17:58:28.284Z"
   },
   {
    "duration": 229,
    "start_time": "2022-05-08T17:58:28.289Z"
   },
   {
    "duration": 17,
    "start_time": "2022-05-08T17:58:28.522Z"
   },
   {
    "duration": 5,
    "start_time": "2022-05-08T17:58:28.541Z"
   },
   {
    "duration": 5,
    "start_time": "2022-05-08T17:58:28.547Z"
   },
   {
    "duration": 16,
    "start_time": "2022-05-08T17:58:28.554Z"
   },
   {
    "duration": 3,
    "start_time": "2022-05-08T17:58:28.572Z"
   },
   {
    "duration": 231,
    "start_time": "2022-05-08T17:58:28.576Z"
   },
   {
    "duration": 5,
    "start_time": "2022-05-08T17:58:28.808Z"
   },
   {
    "duration": 17,
    "start_time": "2022-05-08T17:58:28.823Z"
   },
   {
    "duration": 4,
    "start_time": "2022-05-08T17:58:28.842Z"
   },
   {
    "duration": 238,
    "start_time": "2022-05-08T17:58:28.847Z"
   },
   {
    "duration": 14,
    "start_time": "2022-05-08T17:58:29.087Z"
   },
   {
    "duration": 9,
    "start_time": "2022-05-08T17:58:29.102Z"
   },
   {
    "duration": 34,
    "start_time": "2022-05-08T17:58:29.123Z"
   },
   {
    "duration": 15,
    "start_time": "2022-05-08T17:58:29.159Z"
   },
   {
    "duration": 5,
    "start_time": "2022-05-08T17:58:29.177Z"
   },
   {
    "duration": 4,
    "start_time": "2022-05-08T17:58:29.184Z"
   },
   {
    "duration": 7,
    "start_time": "2022-05-08T17:58:29.190Z"
   },
   {
    "duration": 32,
    "start_time": "2022-05-08T17:58:29.199Z"
   },
   {
    "duration": 105,
    "start_time": "2022-05-08T17:58:29.233Z"
   },
   {
    "duration": 0,
    "start_time": "2022-05-08T17:58:29.340Z"
   },
   {
    "duration": 0,
    "start_time": "2022-05-08T17:58:29.341Z"
   },
   {
    "duration": 0,
    "start_time": "2022-05-08T17:58:29.342Z"
   },
   {
    "duration": 0,
    "start_time": "2022-05-08T17:58:29.343Z"
   },
   {
    "duration": 1192,
    "start_time": "2022-05-08T17:58:46.790Z"
   },
   {
    "duration": 97,
    "start_time": "2022-05-08T17:58:47.984Z"
   },
   {
    "duration": 16,
    "start_time": "2022-05-08T17:58:48.083Z"
   },
   {
    "duration": 31,
    "start_time": "2022-05-08T17:58:48.101Z"
   },
   {
    "duration": 18,
    "start_time": "2022-05-08T17:58:48.134Z"
   },
   {
    "duration": 3,
    "start_time": "2022-05-08T17:58:48.154Z"
   },
   {
    "duration": 19,
    "start_time": "2022-05-08T17:58:48.159Z"
   },
   {
    "duration": 7,
    "start_time": "2022-05-08T17:58:48.180Z"
   },
   {
    "duration": 36,
    "start_time": "2022-05-08T17:58:48.188Z"
   },
   {
    "duration": 14,
    "start_time": "2022-05-08T17:58:48.227Z"
   },
   {
    "duration": 17,
    "start_time": "2022-05-08T17:58:48.243Z"
   },
   {
    "duration": 9,
    "start_time": "2022-05-08T17:58:48.262Z"
   },
   {
    "duration": 7,
    "start_time": "2022-05-08T17:58:48.273Z"
   },
   {
    "duration": 49,
    "start_time": "2022-05-08T17:58:48.282Z"
   },
   {
    "duration": 5,
    "start_time": "2022-05-08T17:58:48.333Z"
   },
   {
    "duration": 11,
    "start_time": "2022-05-08T17:58:48.339Z"
   },
   {
    "duration": 6,
    "start_time": "2022-05-08T17:58:48.352Z"
   },
   {
    "duration": 5,
    "start_time": "2022-05-08T17:58:48.360Z"
   },
   {
    "duration": 207,
    "start_time": "2022-05-08T17:58:48.367Z"
   },
   {
    "duration": 15,
    "start_time": "2022-05-08T17:58:48.575Z"
   },
   {
    "duration": 9,
    "start_time": "2022-05-08T17:58:48.592Z"
   },
   {
    "duration": 12,
    "start_time": "2022-05-08T17:58:48.623Z"
   },
   {
    "duration": 19,
    "start_time": "2022-05-08T17:58:48.636Z"
   },
   {
    "duration": 29,
    "start_time": "2022-05-08T17:58:48.657Z"
   },
   {
    "duration": 4,
    "start_time": "2022-05-08T17:58:48.688Z"
   },
   {
    "duration": 251,
    "start_time": "2022-05-08T17:58:48.693Z"
   },
   {
    "duration": 18,
    "start_time": "2022-05-08T17:58:48.946Z"
   },
   {
    "duration": 5,
    "start_time": "2022-05-08T17:58:48.967Z"
   },
   {
    "duration": 6,
    "start_time": "2022-05-08T17:58:48.973Z"
   },
   {
    "duration": 43,
    "start_time": "2022-05-08T17:58:48.981Z"
   },
   {
    "duration": 3,
    "start_time": "2022-05-08T17:58:49.026Z"
   },
   {
    "duration": 217,
    "start_time": "2022-05-08T17:58:49.031Z"
   },
   {
    "duration": 6,
    "start_time": "2022-05-08T17:58:49.250Z"
   },
   {
    "duration": 21,
    "start_time": "2022-05-08T17:58:49.257Z"
   },
   {
    "duration": 4,
    "start_time": "2022-05-08T17:58:49.280Z"
   },
   {
    "duration": 354,
    "start_time": "2022-05-08T17:58:49.287Z"
   },
   {
    "duration": 22,
    "start_time": "2022-05-08T17:58:49.644Z"
   },
   {
    "duration": 7,
    "start_time": "2022-05-08T17:58:49.667Z"
   },
   {
    "duration": 48,
    "start_time": "2022-05-08T17:58:49.676Z"
   },
   {
    "duration": 17,
    "start_time": "2022-05-08T17:58:49.726Z"
   },
   {
    "duration": 12,
    "start_time": "2022-05-08T17:58:49.745Z"
   },
   {
    "duration": 4,
    "start_time": "2022-05-08T17:58:49.758Z"
   },
   {
    "duration": 9,
    "start_time": "2022-05-08T17:58:49.764Z"
   },
   {
    "duration": 11,
    "start_time": "2022-05-08T17:58:49.775Z"
   },
   {
    "duration": 9,
    "start_time": "2022-05-08T17:58:49.787Z"
   },
   {
    "duration": 125,
    "start_time": "2022-05-08T17:58:49.798Z"
   },
   {
    "duration": 0,
    "start_time": "2022-05-08T17:58:49.925Z"
   },
   {
    "duration": 0,
    "start_time": "2022-05-08T17:58:49.926Z"
   },
   {
    "duration": 0,
    "start_time": "2022-05-08T17:58:49.927Z"
   },
   {
    "duration": 1144,
    "start_time": "2022-05-08T17:59:09.589Z"
   },
   {
    "duration": 96,
    "start_time": "2022-05-08T17:59:10.735Z"
   },
   {
    "duration": 17,
    "start_time": "2022-05-08T17:59:10.833Z"
   },
   {
    "duration": 23,
    "start_time": "2022-05-08T17:59:10.853Z"
   },
   {
    "duration": 17,
    "start_time": "2022-05-08T17:59:10.877Z"
   },
   {
    "duration": 3,
    "start_time": "2022-05-08T17:59:10.896Z"
   },
   {
    "duration": 34,
    "start_time": "2022-05-08T17:59:10.900Z"
   },
   {
    "duration": 6,
    "start_time": "2022-05-08T17:59:10.936Z"
   },
   {
    "duration": 11,
    "start_time": "2022-05-08T17:59:10.944Z"
   },
   {
    "duration": 12,
    "start_time": "2022-05-08T17:59:10.958Z"
   },
   {
    "duration": 15,
    "start_time": "2022-05-08T17:59:10.972Z"
   },
   {
    "duration": 37,
    "start_time": "2022-05-08T17:59:10.989Z"
   },
   {
    "duration": 6,
    "start_time": "2022-05-08T17:59:11.028Z"
   },
   {
    "duration": 13,
    "start_time": "2022-05-08T17:59:11.037Z"
   },
   {
    "duration": 6,
    "start_time": "2022-05-08T17:59:11.051Z"
   },
   {
    "duration": 12,
    "start_time": "2022-05-08T17:59:11.059Z"
   },
   {
    "duration": 10,
    "start_time": "2022-05-08T17:59:11.073Z"
   },
   {
    "duration": 9,
    "start_time": "2022-05-08T17:59:11.084Z"
   },
   {
    "duration": 218,
    "start_time": "2022-05-08T17:59:11.094Z"
   },
   {
    "duration": 16,
    "start_time": "2022-05-08T17:59:11.314Z"
   },
   {
    "duration": 10,
    "start_time": "2022-05-08T17:59:11.331Z"
   },
   {
    "duration": 17,
    "start_time": "2022-05-08T17:59:11.342Z"
   },
   {
    "duration": 17,
    "start_time": "2022-05-08T17:59:11.360Z"
   },
   {
    "duration": 53,
    "start_time": "2022-05-08T17:59:11.379Z"
   },
   {
    "duration": 3,
    "start_time": "2022-05-08T17:59:11.434Z"
   },
   {
    "duration": 221,
    "start_time": "2022-05-08T17:59:11.439Z"
   },
   {
    "duration": 18,
    "start_time": "2022-05-08T17:59:11.662Z"
   },
   {
    "duration": 5,
    "start_time": "2022-05-08T17:59:11.684Z"
   },
   {
    "duration": 5,
    "start_time": "2022-05-08T17:59:11.691Z"
   },
   {
    "duration": 37,
    "start_time": "2022-05-08T17:59:11.698Z"
   },
   {
    "duration": 3,
    "start_time": "2022-05-08T17:59:11.737Z"
   },
   {
    "duration": 219,
    "start_time": "2022-05-08T17:59:11.742Z"
   },
   {
    "duration": 5,
    "start_time": "2022-05-08T17:59:11.963Z"
   },
   {
    "duration": 22,
    "start_time": "2022-05-08T17:59:11.969Z"
   },
   {
    "duration": 3,
    "start_time": "2022-05-08T17:59:11.993Z"
   },
   {
    "duration": 255,
    "start_time": "2022-05-08T17:59:11.998Z"
   },
   {
    "duration": 14,
    "start_time": "2022-05-08T17:59:12.255Z"
   },
   {
    "duration": 8,
    "start_time": "2022-05-08T17:59:12.271Z"
   },
   {
    "duration": 47,
    "start_time": "2022-05-08T17:59:12.281Z"
   },
   {
    "duration": 16,
    "start_time": "2022-05-08T17:59:12.330Z"
   },
   {
    "duration": 5,
    "start_time": "2022-05-08T17:59:12.348Z"
   },
   {
    "duration": 5,
    "start_time": "2022-05-08T17:59:12.355Z"
   },
   {
    "duration": 5,
    "start_time": "2022-05-08T17:59:12.361Z"
   },
   {
    "duration": 15,
    "start_time": "2022-05-08T17:59:12.368Z"
   },
   {
    "duration": 7,
    "start_time": "2022-05-08T17:59:12.385Z"
   },
   {
    "duration": 42,
    "start_time": "2022-05-08T17:59:12.393Z"
   },
   {
    "duration": 3,
    "start_time": "2022-05-08T17:59:12.437Z"
   },
   {
    "duration": 223,
    "start_time": "2022-05-08T17:59:12.442Z"
   },
   {
    "duration": 6,
    "start_time": "2022-05-08T17:59:12.666Z"
   },
   {
    "duration": 20,
    "start_time": "2022-05-08T18:01:49.985Z"
   },
   {
    "duration": 1194,
    "start_time": "2022-05-08T18:31:15.829Z"
   },
   {
    "duration": 106,
    "start_time": "2022-05-08T18:31:17.026Z"
   },
   {
    "duration": 17,
    "start_time": "2022-05-08T18:31:17.134Z"
   },
   {
    "duration": 26,
    "start_time": "2022-05-08T18:31:17.153Z"
   },
   {
    "duration": 23,
    "start_time": "2022-05-08T18:31:17.180Z"
   },
   {
    "duration": 4,
    "start_time": "2022-05-08T18:31:17.205Z"
   },
   {
    "duration": 29,
    "start_time": "2022-05-08T18:31:17.210Z"
   },
   {
    "duration": 7,
    "start_time": "2022-05-08T18:31:17.242Z"
   },
   {
    "duration": 12,
    "start_time": "2022-05-08T18:31:17.251Z"
   },
   {
    "duration": 20,
    "start_time": "2022-05-08T18:31:17.267Z"
   },
   {
    "duration": 19,
    "start_time": "2022-05-08T18:31:17.323Z"
   },
   {
    "duration": 10,
    "start_time": "2022-05-08T18:31:17.344Z"
   },
   {
    "duration": 9,
    "start_time": "2022-05-08T18:31:17.356Z"
   },
   {
    "duration": 21,
    "start_time": "2022-05-08T18:31:17.367Z"
   },
   {
    "duration": 35,
    "start_time": "2022-05-08T18:31:17.391Z"
   },
   {
    "duration": 12,
    "start_time": "2022-05-08T18:31:17.428Z"
   },
   {
    "duration": 7,
    "start_time": "2022-05-08T18:31:17.443Z"
   },
   {
    "duration": 7,
    "start_time": "2022-05-08T18:31:17.452Z"
   },
   {
    "duration": 263,
    "start_time": "2022-05-08T18:31:17.461Z"
   },
   {
    "duration": 18,
    "start_time": "2022-05-08T18:31:17.726Z"
   },
   {
    "duration": 16,
    "start_time": "2022-05-08T18:31:17.746Z"
   },
   {
    "duration": 17,
    "start_time": "2022-05-08T18:31:17.765Z"
   },
   {
    "duration": 54,
    "start_time": "2022-05-08T18:31:17.785Z"
   },
   {
    "duration": 37,
    "start_time": "2022-05-08T18:31:17.841Z"
   },
   {
    "duration": 4,
    "start_time": "2022-05-08T18:31:17.880Z"
   },
   {
    "duration": 383,
    "start_time": "2022-05-08T18:31:17.886Z"
   },
   {
    "duration": 30,
    "start_time": "2022-05-08T18:31:18.271Z"
   },
   {
    "duration": 5,
    "start_time": "2022-05-08T18:31:18.322Z"
   },
   {
    "duration": 7,
    "start_time": "2022-05-08T18:31:18.329Z"
   },
   {
    "duration": 27,
    "start_time": "2022-05-08T18:31:18.338Z"
   },
   {
    "duration": 4,
    "start_time": "2022-05-08T18:31:18.368Z"
   },
   {
    "duration": 257,
    "start_time": "2022-05-08T18:31:18.374Z"
   },
   {
    "duration": 6,
    "start_time": "2022-05-08T18:31:18.634Z"
   },
   {
    "duration": 6,
    "start_time": "2022-05-08T18:31:18.642Z"
   },
   {
    "duration": 294,
    "start_time": "2022-05-08T18:31:18.650Z"
   },
   {
    "duration": 16,
    "start_time": "2022-05-08T18:31:18.946Z"
   },
   {
    "duration": 24,
    "start_time": "2022-05-08T18:31:18.964Z"
   },
   {
    "duration": 6,
    "start_time": "2022-05-08T18:31:18.990Z"
   },
   {
    "duration": 52,
    "start_time": "2022-05-08T18:31:18.998Z"
   },
   {
    "duration": 6,
    "start_time": "2022-05-08T18:31:19.053Z"
   },
   {
    "duration": 4,
    "start_time": "2022-05-08T18:31:19.061Z"
   },
   {
    "duration": 9,
    "start_time": "2022-05-08T18:31:19.067Z"
   },
   {
    "duration": 13,
    "start_time": "2022-05-08T18:31:19.078Z"
   },
   {
    "duration": 34,
    "start_time": "2022-05-08T18:31:19.093Z"
   },
   {
    "duration": 18,
    "start_time": "2022-05-08T18:31:19.129Z"
   },
   {
    "duration": 3,
    "start_time": "2022-05-08T18:31:19.149Z"
   },
   {
    "duration": 386,
    "start_time": "2022-05-08T18:31:19.154Z"
   },
   {
    "duration": 6,
    "start_time": "2022-05-08T18:31:19.542Z"
   },
   {
    "duration": 30,
    "start_time": "2022-05-08T18:31:19.550Z"
   },
   {
    "duration": 1483,
    "start_time": "2022-05-08T18:38:16.644Z"
   },
   {
    "duration": 147,
    "start_time": "2022-05-08T18:38:18.129Z"
   },
   {
    "duration": 25,
    "start_time": "2022-05-08T18:38:18.278Z"
   },
   {
    "duration": 38,
    "start_time": "2022-05-08T18:38:18.306Z"
   },
   {
    "duration": 25,
    "start_time": "2022-05-08T18:38:18.346Z"
   },
   {
    "duration": 4,
    "start_time": "2022-05-08T18:38:18.373Z"
   },
   {
    "duration": 49,
    "start_time": "2022-05-08T18:38:18.379Z"
   },
   {
    "duration": 10,
    "start_time": "2022-05-08T18:38:18.430Z"
   },
   {
    "duration": 17,
    "start_time": "2022-05-08T18:38:18.442Z"
   },
   {
    "duration": 20,
    "start_time": "2022-05-08T18:38:18.463Z"
   },
   {
    "duration": 50,
    "start_time": "2022-05-08T18:38:18.485Z"
   },
   {
    "duration": 12,
    "start_time": "2022-05-08T18:38:18.537Z"
   },
   {
    "duration": 7,
    "start_time": "2022-05-08T18:38:18.551Z"
   },
   {
    "duration": 23,
    "start_time": "2022-05-08T18:38:18.560Z"
   },
   {
    "duration": 40,
    "start_time": "2022-05-08T18:38:18.586Z"
   },
   {
    "duration": 13,
    "start_time": "2022-05-08T18:38:18.628Z"
   },
   {
    "duration": 7,
    "start_time": "2022-05-08T18:38:18.643Z"
   },
   {
    "duration": 4,
    "start_time": "2022-05-08T18:38:18.652Z"
   },
   {
    "duration": 321,
    "start_time": "2022-05-08T18:38:18.658Z"
   },
   {
    "duration": 19,
    "start_time": "2022-05-08T18:38:18.981Z"
   },
   {
    "duration": 24,
    "start_time": "2022-05-08T18:38:19.002Z"
   },
   {
    "duration": 11,
    "start_time": "2022-05-08T18:38:19.029Z"
   },
   {
    "duration": 17,
    "start_time": "2022-05-08T18:38:19.041Z"
   },
   {
    "duration": 28,
    "start_time": "2022-05-08T18:38:19.060Z"
   },
   {
    "duration": 3,
    "start_time": "2022-05-08T18:38:19.089Z"
   },
   {
    "duration": 225,
    "start_time": "2022-05-08T18:38:19.123Z"
   },
   {
    "duration": 21,
    "start_time": "2022-05-08T18:38:19.350Z"
   },
   {
    "duration": 6,
    "start_time": "2022-05-08T18:38:19.374Z"
   },
   {
    "duration": 6,
    "start_time": "2022-05-08T18:38:19.382Z"
   },
   {
    "duration": 58,
    "start_time": "2022-05-08T18:38:19.390Z"
   },
   {
    "duration": 4,
    "start_time": "2022-05-08T18:38:19.450Z"
   },
   {
    "duration": 246,
    "start_time": "2022-05-08T18:38:19.456Z"
   },
   {
    "duration": 6,
    "start_time": "2022-05-08T18:38:19.703Z"
   },
   {
    "duration": 13,
    "start_time": "2022-05-08T18:38:19.710Z"
   },
   {
    "duration": 414,
    "start_time": "2022-05-08T18:38:19.725Z"
   },
   {
    "duration": 22,
    "start_time": "2022-05-08T18:38:20.142Z"
   },
   {
    "duration": 27,
    "start_time": "2022-05-08T18:38:20.166Z"
   },
   {
    "duration": 6,
    "start_time": "2022-05-08T18:38:20.195Z"
   },
   {
    "duration": 26,
    "start_time": "2022-05-08T18:38:20.223Z"
   },
   {
    "duration": 6,
    "start_time": "2022-05-08T18:38:20.251Z"
   },
   {
    "duration": 7,
    "start_time": "2022-05-08T18:38:20.260Z"
   },
   {
    "duration": 9,
    "start_time": "2022-05-08T18:38:20.270Z"
   },
   {
    "duration": 14,
    "start_time": "2022-05-08T18:38:20.281Z"
   },
   {
    "duration": 24,
    "start_time": "2022-05-08T18:38:20.298Z"
   },
   {
    "duration": 17,
    "start_time": "2022-05-08T18:38:20.324Z"
   },
   {
    "duration": 3,
    "start_time": "2022-05-08T18:38:20.343Z"
   },
   {
    "duration": 253,
    "start_time": "2022-05-08T18:38:20.348Z"
   },
   {
    "duration": 5,
    "start_time": "2022-05-08T18:38:20.603Z"
   },
   {
    "duration": 31,
    "start_time": "2022-05-08T18:38:20.609Z"
   },
   {
    "duration": 5,
    "start_time": "2022-05-08T18:41:01.454Z"
   },
   {
    "duration": 94,
    "start_time": "2022-05-08T18:42:33.616Z"
   },
   {
    "duration": 10,
    "start_time": "2022-05-08T18:42:39.021Z"
   },
   {
    "duration": 16,
    "start_time": "2022-05-08T18:42:43.893Z"
   },
   {
    "duration": 10,
    "start_time": "2022-05-08T18:45:14.130Z"
   },
   {
    "duration": 13,
    "start_time": "2022-05-08T18:46:38.852Z"
   },
   {
    "duration": 20,
    "start_time": "2022-05-08T18:46:44.902Z"
   },
   {
    "duration": 28,
    "start_time": "2022-05-08T18:47:15.673Z"
   },
   {
    "duration": 26,
    "start_time": "2022-05-08T18:47:42.406Z"
   },
   {
    "duration": 43,
    "start_time": "2022-05-08T18:47:55.755Z"
   },
   {
    "duration": 11,
    "start_time": "2022-05-08T18:48:46.788Z"
   },
   {
    "duration": 8,
    "start_time": "2022-05-08T18:49:33.564Z"
   },
   {
    "duration": 11,
    "start_time": "2022-05-08T18:49:37.219Z"
   },
   {
    "duration": 24,
    "start_time": "2022-05-08T18:52:15.902Z"
   },
   {
    "duration": 10,
    "start_time": "2022-05-08T18:52:24.590Z"
   },
   {
    "duration": 9,
    "start_time": "2022-05-08T18:52:56.980Z"
   },
   {
    "duration": 14,
    "start_time": "2022-05-08T18:53:02.132Z"
   },
   {
    "duration": 11,
    "start_time": "2022-05-08T18:53:07.788Z"
   },
   {
    "duration": 10,
    "start_time": "2022-05-08T18:53:13.396Z"
   },
   {
    "duration": 1138,
    "start_time": "2022-05-08T18:54:40.678Z"
   },
   {
    "duration": 108,
    "start_time": "2022-05-08T18:54:41.818Z"
   },
   {
    "duration": 15,
    "start_time": "2022-05-08T18:54:41.928Z"
   },
   {
    "duration": 36,
    "start_time": "2022-05-08T18:54:41.945Z"
   },
   {
    "duration": 20,
    "start_time": "2022-05-08T18:54:41.983Z"
   },
   {
    "duration": 15,
    "start_time": "2022-05-08T18:54:42.005Z"
   },
   {
    "duration": 28,
    "start_time": "2022-05-08T18:54:42.022Z"
   },
   {
    "duration": 10,
    "start_time": "2022-05-08T18:54:42.051Z"
   },
   {
    "duration": 26,
    "start_time": "2022-05-08T18:54:42.063Z"
   },
   {
    "duration": 14,
    "start_time": "2022-05-08T18:54:42.092Z"
   },
   {
    "duration": 27,
    "start_time": "2022-05-08T18:54:42.108Z"
   },
   {
    "duration": 18,
    "start_time": "2022-05-08T18:54:42.138Z"
   },
   {
    "duration": 26,
    "start_time": "2022-05-08T18:54:42.158Z"
   },
   {
    "duration": 22,
    "start_time": "2022-05-08T18:54:42.186Z"
   },
   {
    "duration": 9,
    "start_time": "2022-05-08T18:54:42.211Z"
   },
   {
    "duration": 14,
    "start_time": "2022-05-08T18:54:42.222Z"
   },
   {
    "duration": 15,
    "start_time": "2022-05-08T18:54:42.238Z"
   },
   {
    "duration": 6,
    "start_time": "2022-05-08T18:54:42.255Z"
   },
   {
    "duration": 190,
    "start_time": "2022-05-08T18:54:42.262Z"
   },
   {
    "duration": 13,
    "start_time": "2022-05-08T18:54:42.454Z"
   },
   {
    "duration": 9,
    "start_time": "2022-05-08T18:54:42.468Z"
   },
   {
    "duration": 30,
    "start_time": "2022-05-08T18:54:42.478Z"
   },
   {
    "duration": 22,
    "start_time": "2022-05-08T18:54:42.510Z"
   },
   {
    "duration": 31,
    "start_time": "2022-05-08T18:54:42.534Z"
   },
   {
    "duration": 4,
    "start_time": "2022-05-08T18:54:42.566Z"
   },
   {
    "duration": 222,
    "start_time": "2022-05-08T18:54:42.571Z"
   },
   {
    "duration": 17,
    "start_time": "2022-05-08T18:54:42.795Z"
   },
   {
    "duration": 13,
    "start_time": "2022-05-08T18:54:42.815Z"
   },
   {
    "duration": 21,
    "start_time": "2022-05-08T18:54:42.830Z"
   },
   {
    "duration": 27,
    "start_time": "2022-05-08T18:54:42.853Z"
   },
   {
    "duration": 4,
    "start_time": "2022-05-08T18:54:42.881Z"
   },
   {
    "duration": 229,
    "start_time": "2022-05-08T18:54:42.887Z"
   },
   {
    "duration": 5,
    "start_time": "2022-05-08T18:54:43.122Z"
   },
   {
    "duration": 6,
    "start_time": "2022-05-08T18:54:43.129Z"
   },
   {
    "duration": 256,
    "start_time": "2022-05-08T18:54:43.137Z"
   },
   {
    "duration": 16,
    "start_time": "2022-05-08T18:54:43.395Z"
   },
   {
    "duration": 28,
    "start_time": "2022-05-08T18:54:43.413Z"
   },
   {
    "duration": 13,
    "start_time": "2022-05-08T18:54:43.442Z"
   },
   {
    "duration": 30,
    "start_time": "2022-05-08T18:54:43.456Z"
   },
   {
    "duration": 19,
    "start_time": "2022-05-08T18:54:43.487Z"
   },
   {
    "duration": 16,
    "start_time": "2022-05-08T18:54:43.507Z"
   },
   {
    "duration": 17,
    "start_time": "2022-05-08T18:54:43.525Z"
   },
   {
    "duration": 33,
    "start_time": "2022-05-08T18:54:43.543Z"
   },
   {
    "duration": 8,
    "start_time": "2022-05-08T18:54:43.578Z"
   },
   {
    "duration": 36,
    "start_time": "2022-05-08T18:54:43.587Z"
   },
   {
    "duration": 3,
    "start_time": "2022-05-08T18:54:43.624Z"
   },
   {
    "duration": 225,
    "start_time": "2022-05-08T18:54:43.629Z"
   },
   {
    "duration": 4,
    "start_time": "2022-05-08T18:54:43.856Z"
   },
   {
    "duration": 19,
    "start_time": "2022-05-08T18:54:43.862Z"
   },
   {
    "duration": 35,
    "start_time": "2022-05-08T18:54:43.882Z"
   },
   {
    "duration": 8,
    "start_time": "2022-05-08T18:54:43.919Z"
   },
   {
    "duration": 15,
    "start_time": "2022-05-08T19:00:19.605Z"
   },
   {
    "duration": 107,
    "start_time": "2022-05-08T19:00:27.716Z"
   },
   {
    "duration": 15,
    "start_time": "2022-05-08T19:00:35.391Z"
   },
   {
    "duration": 16,
    "start_time": "2022-05-08T19:00:43.662Z"
   },
   {
    "duration": 16,
    "start_time": "2022-05-08T19:00:50.727Z"
   },
   {
    "duration": 16,
    "start_time": "2022-05-08T19:07:33.849Z"
   },
   {
    "duration": 1165,
    "start_time": "2022-05-08T19:08:02.693Z"
   },
   {
    "duration": 101,
    "start_time": "2022-05-08T19:08:03.860Z"
   },
   {
    "duration": 16,
    "start_time": "2022-05-08T19:08:03.963Z"
   },
   {
    "duration": 19,
    "start_time": "2022-05-08T19:08:03.981Z"
   },
   {
    "duration": 29,
    "start_time": "2022-05-08T19:08:04.002Z"
   },
   {
    "duration": 3,
    "start_time": "2022-05-08T19:08:04.033Z"
   },
   {
    "duration": 18,
    "start_time": "2022-05-08T19:08:04.038Z"
   },
   {
    "duration": 7,
    "start_time": "2022-05-08T19:08:04.057Z"
   },
   {
    "duration": 12,
    "start_time": "2022-05-08T19:08:04.066Z"
   },
   {
    "duration": 46,
    "start_time": "2022-05-08T19:08:04.081Z"
   },
   {
    "duration": 14,
    "start_time": "2022-05-08T19:08:04.129Z"
   },
   {
    "duration": 13,
    "start_time": "2022-05-08T19:08:04.145Z"
   },
   {
    "duration": 8,
    "start_time": "2022-05-08T19:08:04.160Z"
   },
   {
    "duration": 14,
    "start_time": "2022-05-08T19:08:04.170Z"
   },
   {
    "duration": 5,
    "start_time": "2022-05-08T19:08:04.186Z"
   },
   {
    "duration": 38,
    "start_time": "2022-05-08T19:08:04.193Z"
   },
   {
    "duration": 12,
    "start_time": "2022-05-08T19:08:04.232Z"
   },
   {
    "duration": 4,
    "start_time": "2022-05-08T19:08:04.246Z"
   },
   {
    "duration": 196,
    "start_time": "2022-05-08T19:08:04.252Z"
   },
   {
    "duration": 16,
    "start_time": "2022-05-08T19:08:04.450Z"
   },
   {
    "duration": 11,
    "start_time": "2022-05-08T19:08:04.468Z"
   },
   {
    "duration": 12,
    "start_time": "2022-05-08T19:08:04.481Z"
   },
   {
    "duration": 19,
    "start_time": "2022-05-08T19:08:04.523Z"
   },
   {
    "duration": 33,
    "start_time": "2022-05-08T19:08:04.544Z"
   },
   {
    "duration": 3,
    "start_time": "2022-05-08T19:08:04.579Z"
   },
   {
    "duration": 233,
    "start_time": "2022-05-08T19:08:04.584Z"
   },
   {
    "duration": 21,
    "start_time": "2022-05-08T19:08:04.818Z"
   },
   {
    "duration": 10,
    "start_time": "2022-05-08T19:08:04.843Z"
   },
   {
    "duration": 7,
    "start_time": "2022-05-08T19:08:04.854Z"
   },
   {
    "duration": 17,
    "start_time": "2022-05-08T19:08:04.863Z"
   },
   {
    "duration": 4,
    "start_time": "2022-05-08T19:08:04.882Z"
   },
   {
    "duration": 237,
    "start_time": "2022-05-08T19:08:04.888Z"
   },
   {
    "duration": 6,
    "start_time": "2022-05-08T19:08:05.127Z"
   },
   {
    "duration": 26,
    "start_time": "2022-05-08T19:08:05.135Z"
   },
   {
    "duration": 248,
    "start_time": "2022-05-08T19:08:05.163Z"
   },
   {
    "duration": 16,
    "start_time": "2022-05-08T19:08:05.413Z"
   },
   {
    "duration": 23,
    "start_time": "2022-05-08T19:08:05.431Z"
   },
   {
    "duration": 6,
    "start_time": "2022-05-08T19:08:05.456Z"
   },
   {
    "duration": 22,
    "start_time": "2022-05-08T19:08:05.464Z"
   },
   {
    "duration": 6,
    "start_time": "2022-05-08T19:08:05.488Z"
   },
   {
    "duration": 4,
    "start_time": "2022-05-08T19:08:05.523Z"
   },
   {
    "duration": 6,
    "start_time": "2022-05-08T19:08:05.529Z"
   },
   {
    "duration": 14,
    "start_time": "2022-05-08T19:08:05.537Z"
   },
   {
    "duration": 7,
    "start_time": "2022-05-08T19:08:05.553Z"
   },
   {
    "duration": 20,
    "start_time": "2022-05-08T19:08:05.561Z"
   },
   {
    "duration": 3,
    "start_time": "2022-05-08T19:08:05.583Z"
   },
   {
    "duration": 234,
    "start_time": "2022-05-08T19:08:05.588Z"
   },
   {
    "duration": 5,
    "start_time": "2022-05-08T19:08:05.824Z"
   },
   {
    "duration": 7,
    "start_time": "2022-05-08T19:08:05.830Z"
   },
   {
    "duration": 27,
    "start_time": "2022-05-08T19:08:05.839Z"
   },
   {
    "duration": 10,
    "start_time": "2022-05-08T19:08:05.868Z"
   },
   {
    "duration": 18,
    "start_time": "2022-05-08T19:08:05.879Z"
   },
   {
    "duration": 180,
    "start_time": "2022-05-08T19:08:05.923Z"
   },
   {
    "duration": 176,
    "start_time": "2022-05-08T19:08:35.187Z"
   },
   {
    "duration": 177,
    "start_time": "2022-05-08T19:09:17.212Z"
   },
   {
    "duration": 186,
    "start_time": "2022-05-08T19:10:44.404Z"
   },
   {
    "duration": 157,
    "start_time": "2022-05-08T19:11:11.858Z"
   },
   {
    "duration": 167,
    "start_time": "2022-05-08T19:11:30.859Z"
   },
   {
    "duration": 9,
    "start_time": "2022-05-08T19:12:11.412Z"
   },
   {
    "duration": 9,
    "start_time": "2022-05-08T19:12:22.206Z"
   },
   {
    "duration": 16,
    "start_time": "2022-05-08T19:12:43.716Z"
   },
   {
    "duration": 23,
    "start_time": "2022-05-08T19:13:12.405Z"
   },
   {
    "duration": 31,
    "start_time": "2022-05-08T19:13:24.094Z"
   },
   {
    "duration": 24,
    "start_time": "2022-05-08T19:13:39.566Z"
   },
   {
    "duration": 32,
    "start_time": "2022-05-08T19:13:59.758Z"
   },
   {
    "duration": 117,
    "start_time": "2022-05-08T19:17:43.186Z"
   },
   {
    "duration": 135,
    "start_time": "2022-05-08T19:18:02.444Z"
   },
   {
    "duration": 119,
    "start_time": "2022-05-08T19:18:51.086Z"
   },
   {
    "duration": 121,
    "start_time": "2022-05-08T19:19:04.046Z"
   },
   {
    "duration": 224,
    "start_time": "2022-05-08T19:19:19.656Z"
   },
   {
    "duration": 1162,
    "start_time": "2022-05-08T19:22:16.175Z"
   },
   {
    "duration": 103,
    "start_time": "2022-05-08T19:22:17.340Z"
   },
   {
    "duration": 16,
    "start_time": "2022-05-08T19:22:17.445Z"
   },
   {
    "duration": 23,
    "start_time": "2022-05-08T19:22:17.464Z"
   },
   {
    "duration": 35,
    "start_time": "2022-05-08T19:22:17.489Z"
   },
   {
    "duration": 3,
    "start_time": "2022-05-08T19:22:17.526Z"
   },
   {
    "duration": 19,
    "start_time": "2022-05-08T19:22:17.531Z"
   },
   {
    "duration": 7,
    "start_time": "2022-05-08T19:22:17.551Z"
   },
   {
    "duration": 13,
    "start_time": "2022-05-08T19:22:17.560Z"
   },
   {
    "duration": 14,
    "start_time": "2022-05-08T19:22:17.576Z"
   },
   {
    "duration": 47,
    "start_time": "2022-05-08T19:22:17.591Z"
   },
   {
    "duration": 12,
    "start_time": "2022-05-08T19:22:17.640Z"
   },
   {
    "duration": 8,
    "start_time": "2022-05-08T19:22:17.654Z"
   },
   {
    "duration": 13,
    "start_time": "2022-05-08T19:22:17.664Z"
   },
   {
    "duration": 5,
    "start_time": "2022-05-08T19:22:17.679Z"
   },
   {
    "duration": 41,
    "start_time": "2022-05-08T19:22:17.686Z"
   },
   {
    "duration": 6,
    "start_time": "2022-05-08T19:22:17.729Z"
   },
   {
    "duration": 9,
    "start_time": "2022-05-08T19:22:17.736Z"
   },
   {
    "duration": 199,
    "start_time": "2022-05-08T19:22:17.747Z"
   },
   {
    "duration": 14,
    "start_time": "2022-05-08T19:22:17.948Z"
   },
   {
    "duration": 10,
    "start_time": "2022-05-08T19:22:17.964Z"
   },
   {
    "duration": 13,
    "start_time": "2022-05-08T19:22:17.976Z"
   },
   {
    "duration": 48,
    "start_time": "2022-05-08T19:22:17.991Z"
   },
   {
    "duration": 29,
    "start_time": "2022-05-08T19:22:18.041Z"
   },
   {
    "duration": 3,
    "start_time": "2022-05-08T19:22:18.072Z"
   },
   {
    "duration": 233,
    "start_time": "2022-05-08T19:22:18.077Z"
   },
   {
    "duration": 24,
    "start_time": "2022-05-08T19:22:18.311Z"
   },
   {
    "duration": 14,
    "start_time": "2022-05-08T19:22:18.339Z"
   },
   {
    "duration": 28,
    "start_time": "2022-05-08T19:22:18.354Z"
   },
   {
    "duration": 23,
    "start_time": "2022-05-08T19:22:18.383Z"
   },
   {
    "duration": 16,
    "start_time": "2022-05-08T19:22:18.408Z"
   },
   {
    "duration": 233,
    "start_time": "2022-05-08T19:22:18.426Z"
   },
   {
    "duration": 5,
    "start_time": "2022-05-08T19:22:18.661Z"
   },
   {
    "duration": 26,
    "start_time": "2022-05-08T19:22:18.668Z"
   },
   {
    "duration": 267,
    "start_time": "2022-05-08T19:22:18.695Z"
   },
   {
    "duration": 15,
    "start_time": "2022-05-08T19:22:18.964Z"
   },
   {
    "duration": 47,
    "start_time": "2022-05-08T19:22:18.981Z"
   },
   {
    "duration": 11,
    "start_time": "2022-05-08T19:22:19.030Z"
   },
   {
    "duration": 49,
    "start_time": "2022-05-08T19:22:19.042Z"
   },
   {
    "duration": 12,
    "start_time": "2022-05-08T19:22:19.093Z"
   },
   {
    "duration": 23,
    "start_time": "2022-05-08T19:22:19.106Z"
   },
   {
    "duration": 25,
    "start_time": "2022-05-08T19:22:19.131Z"
   },
   {
    "duration": 48,
    "start_time": "2022-05-08T19:22:19.158Z"
   },
   {
    "duration": 31,
    "start_time": "2022-05-08T19:22:19.208Z"
   },
   {
    "duration": 43,
    "start_time": "2022-05-08T19:22:19.240Z"
   },
   {
    "duration": 9,
    "start_time": "2022-05-08T19:22:19.285Z"
   },
   {
    "duration": 249,
    "start_time": "2022-05-08T19:22:19.296Z"
   },
   {
    "duration": 5,
    "start_time": "2022-05-08T19:22:19.546Z"
   },
   {
    "duration": 30,
    "start_time": "2022-05-08T19:22:19.553Z"
   },
   {
    "duration": 46,
    "start_time": "2022-05-08T19:22:19.585Z"
   },
   {
    "duration": 13,
    "start_time": "2022-05-08T19:22:19.632Z"
   },
   {
    "duration": 36,
    "start_time": "2022-05-08T19:22:19.647Z"
   },
   {
    "duration": 193,
    "start_time": "2022-05-08T19:22:19.684Z"
   },
   {
    "duration": 187,
    "start_time": "2022-05-08T19:22:19.878Z"
   },
   {
    "duration": 225,
    "start_time": "2022-05-08T19:22:20.067Z"
   },
   {
    "duration": 182,
    "start_time": "2022-05-08T19:22:20.299Z"
   },
   {
    "duration": 171,
    "start_time": "2022-05-08T19:22:20.483Z"
   },
   {
    "duration": 153,
    "start_time": "2022-05-08T19:22:20.656Z"
   },
   {
    "duration": 154,
    "start_time": "2022-05-08T19:22:20.811Z"
   },
   {
    "duration": 147,
    "start_time": "2022-05-08T19:22:20.967Z"
   },
   {
    "duration": 6,
    "start_time": "2022-05-08T19:30:35.033Z"
   },
   {
    "duration": 12,
    "start_time": "2022-05-08T19:30:47.064Z"
   },
   {
    "duration": 6,
    "start_time": "2022-05-08T19:43:24.206Z"
   },
   {
    "duration": 20,
    "start_time": "2022-05-08T19:43:46.185Z"
   },
   {
    "duration": 6,
    "start_time": "2022-05-08T19:44:26.876Z"
   },
   {
    "duration": 11,
    "start_time": "2022-05-08T19:44:31.116Z"
   },
   {
    "duration": 5,
    "start_time": "2022-05-08T19:44:46.146Z"
   },
   {
    "duration": 98,
    "start_time": "2022-05-08T19:44:52.650Z"
   },
   {
    "duration": 20,
    "start_time": "2022-05-08T19:44:55.463Z"
   },
   {
    "duration": 1253,
    "start_time": "2022-05-08T20:39:46.958Z"
   },
   {
    "duration": 118,
    "start_time": "2022-05-08T20:39:48.215Z"
   },
   {
    "duration": 24,
    "start_time": "2022-05-08T20:39:48.335Z"
   },
   {
    "duration": 24,
    "start_time": "2022-05-08T20:39:48.361Z"
   },
   {
    "duration": 58,
    "start_time": "2022-05-08T20:39:48.390Z"
   },
   {
    "duration": 5,
    "start_time": "2022-05-08T20:39:48.450Z"
   },
   {
    "duration": 20,
    "start_time": "2022-05-08T20:39:48.457Z"
   },
   {
    "duration": 8,
    "start_time": "2022-05-08T20:39:48.479Z"
   },
   {
    "duration": 41,
    "start_time": "2022-05-08T20:39:48.489Z"
   },
   {
    "duration": 21,
    "start_time": "2022-05-08T20:39:48.533Z"
   },
   {
    "duration": 262,
    "start_time": "2022-05-08T20:39:48.556Z"
   },
   {
    "duration": 27,
    "start_time": "2022-05-08T20:39:48.822Z"
   },
   {
    "duration": 12,
    "start_time": "2022-05-08T20:39:48.851Z"
   },
   {
    "duration": 36,
    "start_time": "2022-05-08T20:39:48.868Z"
   },
   {
    "duration": 8,
    "start_time": "2022-05-08T20:39:48.906Z"
   },
   {
    "duration": 12,
    "start_time": "2022-05-08T20:39:48.916Z"
   },
   {
    "duration": 7,
    "start_time": "2022-05-08T20:39:48.929Z"
   },
   {
    "duration": 11,
    "start_time": "2022-05-08T20:39:48.938Z"
   },
   {
    "duration": 261,
    "start_time": "2022-05-08T20:39:48.953Z"
   },
   {
    "duration": 18,
    "start_time": "2022-05-08T20:39:49.216Z"
   },
   {
    "duration": 16,
    "start_time": "2022-05-08T20:39:49.236Z"
   },
   {
    "duration": 21,
    "start_time": "2022-05-08T20:39:49.255Z"
   },
   {
    "duration": 49,
    "start_time": "2022-05-08T20:39:49.278Z"
   },
   {
    "duration": 50,
    "start_time": "2022-05-08T20:39:49.330Z"
   },
   {
    "duration": 4,
    "start_time": "2022-05-08T20:39:49.382Z"
   },
   {
    "duration": 332,
    "start_time": "2022-05-08T20:39:49.388Z"
   },
   {
    "duration": 33,
    "start_time": "2022-05-08T20:39:49.723Z"
   },
   {
    "duration": 6,
    "start_time": "2022-05-08T20:39:49.758Z"
   },
   {
    "duration": 10,
    "start_time": "2022-05-08T20:39:49.766Z"
   },
   {
    "duration": 48,
    "start_time": "2022-05-08T20:39:49.779Z"
   },
   {
    "duration": 4,
    "start_time": "2022-05-08T20:39:49.831Z"
   },
   {
    "duration": 293,
    "start_time": "2022-05-08T20:39:49.843Z"
   },
   {
    "duration": 7,
    "start_time": "2022-05-08T20:39:50.146Z"
   },
   {
    "duration": 22,
    "start_time": "2022-05-08T20:39:50.155Z"
   },
   {
    "duration": 317,
    "start_time": "2022-05-08T20:39:50.178Z"
   },
   {
    "duration": 29,
    "start_time": "2022-05-08T20:39:50.497Z"
   },
   {
    "duration": 124,
    "start_time": "2022-05-08T20:39:50.529Z"
   },
   {
    "duration": 9,
    "start_time": "2022-05-08T20:39:50.655Z"
   },
   {
    "duration": 61,
    "start_time": "2022-05-08T20:39:50.666Z"
   },
   {
    "duration": 9,
    "start_time": "2022-05-08T20:39:50.729Z"
   },
   {
    "duration": 9,
    "start_time": "2022-05-08T20:39:50.746Z"
   },
   {
    "duration": 26,
    "start_time": "2022-05-08T20:39:50.758Z"
   },
   {
    "duration": 23,
    "start_time": "2022-05-08T20:39:50.786Z"
   },
   {
    "duration": 15,
    "start_time": "2022-05-08T20:39:50.811Z"
   },
   {
    "duration": 33,
    "start_time": "2022-05-08T20:39:50.829Z"
   },
   {
    "duration": 3,
    "start_time": "2022-05-08T20:39:50.865Z"
   },
   {
    "duration": 302,
    "start_time": "2022-05-08T20:39:50.871Z"
   },
   {
    "duration": 6,
    "start_time": "2022-05-08T20:39:51.175Z"
   },
   {
    "duration": 7,
    "start_time": "2022-05-08T20:39:51.183Z"
   },
   {
    "duration": 41,
    "start_time": "2022-05-08T20:39:51.192Z"
   },
   {
    "duration": 16,
    "start_time": "2022-05-08T20:39:51.236Z"
   },
   {
    "duration": 22,
    "start_time": "2022-05-08T20:39:51.254Z"
   },
   {
    "duration": 233,
    "start_time": "2022-05-08T20:39:51.278Z"
   },
   {
    "duration": 285,
    "start_time": "2022-05-08T20:39:51.513Z"
   },
   {
    "duration": 201,
    "start_time": "2022-05-08T20:39:51.800Z"
   },
   {
    "duration": 189,
    "start_time": "2022-05-08T20:39:52.003Z"
   },
   {
    "duration": 214,
    "start_time": "2022-05-08T20:39:52.194Z"
   },
   {
    "duration": 201,
    "start_time": "2022-05-08T20:39:52.410Z"
   },
   {
    "duration": 216,
    "start_time": "2022-05-08T20:39:52.613Z"
   },
   {
    "duration": 197,
    "start_time": "2022-05-08T20:39:52.832Z"
   },
   {
    "duration": 8,
    "start_time": "2022-05-08T20:39:53.032Z"
   },
   {
    "duration": 19,
    "start_time": "2022-05-08T20:39:53.042Z"
   },
   {
    "duration": 18,
    "start_time": "2022-05-08T20:39:53.062Z"
   },
   {
    "duration": 15,
    "start_time": "2022-05-08T20:41:53.890Z"
   },
   {
    "duration": 17,
    "start_time": "2022-05-08T20:42:03.210Z"
   },
   {
    "duration": 17,
    "start_time": "2022-05-08T20:42:11.177Z"
   },
   {
    "duration": 23,
    "start_time": "2022-05-08T20:43:48.954Z"
   },
   {
    "duration": 143,
    "start_time": "2022-05-08T20:44:08.452Z"
   },
   {
    "duration": 32,
    "start_time": "2022-05-08T20:44:31.063Z"
   },
   {
    "duration": 984,
    "start_time": "2022-05-08T20:45:31.900Z"
   },
   {
    "duration": 229,
    "start_time": "2022-05-08T20:47:30.961Z"
   },
   {
    "duration": 243,
    "start_time": "2022-05-08T20:47:58.090Z"
   },
   {
    "duration": 2467,
    "start_time": "2022-05-08T20:48:09.826Z"
   },
   {
    "duration": 120,
    "start_time": "2022-05-08T20:49:48.182Z"
   },
   {
    "duration": 258,
    "start_time": "2022-05-08T20:50:12.769Z"
   },
   {
    "duration": 136,
    "start_time": "2022-05-08T20:50:47.882Z"
   },
   {
    "duration": 102,
    "start_time": "2022-05-08T20:51:33.064Z"
   },
   {
    "duration": 142,
    "start_time": "2022-05-08T20:52:38.362Z"
   },
   {
    "duration": 2050,
    "start_time": "2022-05-08T20:52:50.377Z"
   },
   {
    "duration": 32,
    "start_time": "2022-05-08T20:52:59.603Z"
   },
   {
    "duration": 26,
    "start_time": "2022-05-08T20:55:19.344Z"
   },
   {
    "duration": 11,
    "start_time": "2022-05-08T20:57:56.076Z"
   },
   {
    "duration": 136,
    "start_time": "2022-05-08T20:58:06.412Z"
   },
   {
    "duration": 137,
    "start_time": "2022-05-08T20:58:24.145Z"
   },
   {
    "duration": 142,
    "start_time": "2022-05-08T20:58:31.773Z"
   },
   {
    "duration": 11,
    "start_time": "2022-05-08T20:59:00.559Z"
   },
   {
    "duration": 151,
    "start_time": "2022-05-08T20:59:29.391Z"
   },
   {
    "duration": 125,
    "start_time": "2022-05-08T21:01:16.538Z"
   },
   {
    "duration": 142,
    "start_time": "2022-05-08T21:01:31.305Z"
   },
   {
    "duration": 2368,
    "start_time": "2022-05-08T21:01:44.194Z"
   },
   {
    "duration": 20,
    "start_time": "2022-05-08T21:08:09.993Z"
   },
   {
    "duration": 1572,
    "start_time": "2022-05-08T21:08:19.728Z"
   },
   {
    "duration": 149,
    "start_time": "2022-05-08T21:08:21.303Z"
   },
   {
    "duration": 22,
    "start_time": "2022-05-08T21:08:21.454Z"
   },
   {
    "duration": 29,
    "start_time": "2022-05-08T21:08:21.479Z"
   },
   {
    "duration": 24,
    "start_time": "2022-05-08T21:08:21.523Z"
   },
   {
    "duration": 5,
    "start_time": "2022-05-08T21:08:21.549Z"
   },
   {
    "duration": 24,
    "start_time": "2022-05-08T21:08:21.555Z"
   },
   {
    "duration": 9,
    "start_time": "2022-05-08T21:08:21.581Z"
   },
   {
    "duration": 40,
    "start_time": "2022-05-08T21:08:21.592Z"
   },
   {
    "duration": 20,
    "start_time": "2022-05-08T21:08:21.636Z"
   },
   {
    "duration": 24,
    "start_time": "2022-05-08T21:08:21.658Z"
   },
   {
    "duration": 40,
    "start_time": "2022-05-08T21:08:21.684Z"
   },
   {
    "duration": 7,
    "start_time": "2022-05-08T21:08:21.726Z"
   },
   {
    "duration": 20,
    "start_time": "2022-05-08T21:08:21.735Z"
   },
   {
    "duration": 7,
    "start_time": "2022-05-08T21:08:21.757Z"
   },
   {
    "duration": 10,
    "start_time": "2022-05-08T21:08:21.767Z"
   },
   {
    "duration": 5,
    "start_time": "2022-05-08T21:08:21.779Z"
   },
   {
    "duration": 38,
    "start_time": "2022-05-08T21:08:21.785Z"
   },
   {
    "duration": 196,
    "start_time": "2022-05-08T21:08:21.824Z"
   },
   {
    "duration": 15,
    "start_time": "2022-05-08T21:08:22.022Z"
   },
   {
    "duration": 8,
    "start_time": "2022-05-08T21:08:22.039Z"
   },
   {
    "duration": 13,
    "start_time": "2022-05-08T21:08:22.049Z"
   },
   {
    "duration": 20,
    "start_time": "2022-05-08T21:08:22.064Z"
   },
   {
    "duration": 64,
    "start_time": "2022-05-08T21:08:22.086Z"
   },
   {
    "duration": 4,
    "start_time": "2022-05-08T21:08:22.153Z"
   },
   {
    "duration": 241,
    "start_time": "2022-05-08T21:08:22.159Z"
   },
   {
    "duration": 24,
    "start_time": "2022-05-08T21:08:22.402Z"
   },
   {
    "duration": 6,
    "start_time": "2022-05-08T21:08:22.431Z"
   },
   {
    "duration": 5,
    "start_time": "2022-05-08T21:08:22.440Z"
   },
   {
    "duration": 16,
    "start_time": "2022-05-08T21:08:22.447Z"
   },
   {
    "duration": 3,
    "start_time": "2022-05-08T21:08:22.465Z"
   },
   {
    "duration": 251,
    "start_time": "2022-05-08T21:08:22.470Z"
   },
   {
    "duration": 5,
    "start_time": "2022-05-08T21:08:22.723Z"
   },
   {
    "duration": 4,
    "start_time": "2022-05-08T21:08:22.730Z"
   },
   {
    "duration": 255,
    "start_time": "2022-05-08T21:08:22.736Z"
   },
   {
    "duration": 15,
    "start_time": "2022-05-08T21:08:22.993Z"
   },
   {
    "duration": 32,
    "start_time": "2022-05-08T21:08:23.010Z"
   },
   {
    "duration": 5,
    "start_time": "2022-05-08T21:08:23.044Z"
   },
   {
    "duration": 22,
    "start_time": "2022-05-08T21:08:23.051Z"
   },
   {
    "duration": 7,
    "start_time": "2022-05-08T21:08:23.076Z"
   },
   {
    "duration": 40,
    "start_time": "2022-05-08T21:08:23.085Z"
   },
   {
    "duration": 5,
    "start_time": "2022-05-08T21:08:23.128Z"
   },
   {
    "duration": 14,
    "start_time": "2022-05-08T21:08:23.136Z"
   },
   {
    "duration": 10,
    "start_time": "2022-05-08T21:08:23.153Z"
   },
   {
    "duration": 30,
    "start_time": "2022-05-08T21:08:23.165Z"
   },
   {
    "duration": 29,
    "start_time": "2022-05-08T21:08:23.197Z"
   },
   {
    "duration": 385,
    "start_time": "2022-05-08T21:08:23.228Z"
   },
   {
    "duration": 11,
    "start_time": "2022-05-08T21:08:23.616Z"
   },
   {
    "duration": 4,
    "start_time": "2022-05-08T21:08:23.630Z"
   },
   {
    "duration": 24,
    "start_time": "2022-05-08T21:08:23.636Z"
   },
   {
    "duration": 10,
    "start_time": "2022-05-08T21:08:23.662Z"
   },
   {
    "duration": 49,
    "start_time": "2022-05-08T21:08:23.674Z"
   },
   {
    "duration": 199,
    "start_time": "2022-05-08T21:08:23.725Z"
   },
   {
    "duration": 181,
    "start_time": "2022-05-08T21:08:23.926Z"
   },
   {
    "duration": 195,
    "start_time": "2022-05-08T21:08:24.109Z"
   },
   {
    "duration": 171,
    "start_time": "2022-05-08T21:08:24.306Z"
   },
   {
    "duration": 181,
    "start_time": "2022-05-08T21:08:24.479Z"
   },
   {
    "duration": 160,
    "start_time": "2022-05-08T21:08:24.662Z"
   },
   {
    "duration": 144,
    "start_time": "2022-05-08T21:08:24.824Z"
   },
   {
    "duration": 135,
    "start_time": "2022-05-08T21:08:24.970Z"
   },
   {
    "duration": 14,
    "start_time": "2022-05-08T21:08:25.108Z"
   },
   {
    "duration": 14,
    "start_time": "2022-05-08T21:08:25.124Z"
   },
   {
    "duration": 16,
    "start_time": "2022-05-08T21:08:25.140Z"
   },
   {
    "duration": 17,
    "start_time": "2022-05-08T21:08:25.158Z"
   },
   {
    "duration": 144,
    "start_time": "2022-05-08T21:08:25.177Z"
   },
   {
    "duration": 0,
    "start_time": "2022-05-08T21:08:25.324Z"
   },
   {
    "duration": 0,
    "start_time": "2022-05-08T21:08:25.324Z"
   },
   {
    "duration": 0,
    "start_time": "2022-05-08T21:08:25.326Z"
   },
   {
    "duration": 199,
    "start_time": "2022-05-08T21:09:13.172Z"
   },
   {
    "duration": 34,
    "start_time": "2022-05-08T21:09:20.126Z"
   },
   {
    "duration": 551,
    "start_time": "2022-05-08T21:10:13.464Z"
   },
   {
    "duration": 562,
    "start_time": "2022-05-08T21:11:37.659Z"
   },
   {
    "duration": 1090,
    "start_time": "2022-05-08T21:23:38.157Z"
   },
   {
    "duration": 0,
    "start_time": "2022-05-08T21:23:39.250Z"
   },
   {
    "duration": 0,
    "start_time": "2022-05-08T21:23:39.252Z"
   },
   {
    "duration": 0,
    "start_time": "2022-05-08T21:23:39.252Z"
   },
   {
    "duration": 0,
    "start_time": "2022-05-08T21:23:39.253Z"
   },
   {
    "duration": 0,
    "start_time": "2022-05-08T21:23:39.254Z"
   },
   {
    "duration": 0,
    "start_time": "2022-05-08T21:23:39.255Z"
   },
   {
    "duration": 0,
    "start_time": "2022-05-08T21:23:39.256Z"
   },
   {
    "duration": 0,
    "start_time": "2022-05-08T21:23:39.257Z"
   },
   {
    "duration": 0,
    "start_time": "2022-05-08T21:23:39.258Z"
   },
   {
    "duration": 0,
    "start_time": "2022-05-08T21:23:39.259Z"
   },
   {
    "duration": 0,
    "start_time": "2022-05-08T21:23:39.260Z"
   },
   {
    "duration": 0,
    "start_time": "2022-05-08T21:23:39.261Z"
   },
   {
    "duration": 0,
    "start_time": "2022-05-08T21:23:39.262Z"
   },
   {
    "duration": 0,
    "start_time": "2022-05-08T21:23:39.263Z"
   },
   {
    "duration": 0,
    "start_time": "2022-05-08T21:23:39.264Z"
   },
   {
    "duration": 0,
    "start_time": "2022-05-08T21:23:39.265Z"
   },
   {
    "duration": 0,
    "start_time": "2022-05-08T21:23:39.266Z"
   },
   {
    "duration": 0,
    "start_time": "2022-05-08T21:23:39.267Z"
   },
   {
    "duration": 0,
    "start_time": "2022-05-08T21:23:39.268Z"
   },
   {
    "duration": 0,
    "start_time": "2022-05-08T21:23:39.269Z"
   },
   {
    "duration": 0,
    "start_time": "2022-05-08T21:23:39.270Z"
   },
   {
    "duration": 0,
    "start_time": "2022-05-08T21:23:39.271Z"
   },
   {
    "duration": 0,
    "start_time": "2022-05-08T21:23:39.271Z"
   },
   {
    "duration": 0,
    "start_time": "2022-05-08T21:23:39.272Z"
   },
   {
    "duration": 0,
    "start_time": "2022-05-08T21:23:39.273Z"
   },
   {
    "duration": 0,
    "start_time": "2022-05-08T21:23:39.274Z"
   },
   {
    "duration": 0,
    "start_time": "2022-05-08T21:23:39.275Z"
   },
   {
    "duration": 0,
    "start_time": "2022-05-08T21:23:39.276Z"
   },
   {
    "duration": 0,
    "start_time": "2022-05-08T21:23:39.278Z"
   },
   {
    "duration": 1,
    "start_time": "2022-05-08T21:23:39.322Z"
   },
   {
    "duration": 0,
    "start_time": "2022-05-08T21:23:39.324Z"
   },
   {
    "duration": 0,
    "start_time": "2022-05-08T21:23:39.325Z"
   },
   {
    "duration": 0,
    "start_time": "2022-05-08T21:23:39.326Z"
   },
   {
    "duration": 0,
    "start_time": "2022-05-08T21:23:39.327Z"
   },
   {
    "duration": 0,
    "start_time": "2022-05-08T21:23:39.328Z"
   },
   {
    "duration": 0,
    "start_time": "2022-05-08T21:23:39.329Z"
   },
   {
    "duration": 0,
    "start_time": "2022-05-08T21:23:39.331Z"
   },
   {
    "duration": 0,
    "start_time": "2022-05-08T21:23:39.331Z"
   },
   {
    "duration": 0,
    "start_time": "2022-05-08T21:23:39.333Z"
   },
   {
    "duration": 0,
    "start_time": "2022-05-08T21:23:39.334Z"
   },
   {
    "duration": 0,
    "start_time": "2022-05-08T21:23:39.334Z"
   },
   {
    "duration": 0,
    "start_time": "2022-05-08T21:23:39.336Z"
   },
   {
    "duration": 0,
    "start_time": "2022-05-08T21:23:39.337Z"
   },
   {
    "duration": 0,
    "start_time": "2022-05-08T21:23:39.338Z"
   },
   {
    "duration": 0,
    "start_time": "2022-05-08T21:23:39.339Z"
   },
   {
    "duration": 0,
    "start_time": "2022-05-08T21:23:39.340Z"
   },
   {
    "duration": 0,
    "start_time": "2022-05-08T21:23:39.342Z"
   },
   {
    "duration": 0,
    "start_time": "2022-05-08T21:23:39.343Z"
   },
   {
    "duration": 0,
    "start_time": "2022-05-08T21:23:39.345Z"
   },
   {
    "duration": 0,
    "start_time": "2022-05-08T21:23:39.346Z"
   },
   {
    "duration": 0,
    "start_time": "2022-05-08T21:23:39.347Z"
   },
   {
    "duration": 0,
    "start_time": "2022-05-08T21:23:39.349Z"
   },
   {
    "duration": 0,
    "start_time": "2022-05-08T21:23:39.350Z"
   },
   {
    "duration": 0,
    "start_time": "2022-05-08T21:23:39.352Z"
   },
   {
    "duration": 0,
    "start_time": "2022-05-08T21:23:39.353Z"
   },
   {
    "duration": 0,
    "start_time": "2022-05-08T21:23:39.355Z"
   },
   {
    "duration": 0,
    "start_time": "2022-05-08T21:23:39.356Z"
   },
   {
    "duration": 0,
    "start_time": "2022-05-08T21:23:39.358Z"
   },
   {
    "duration": 0,
    "start_time": "2022-05-08T21:23:39.423Z"
   },
   {
    "duration": 0,
    "start_time": "2022-05-08T21:23:39.425Z"
   },
   {
    "duration": 0,
    "start_time": "2022-05-08T21:23:39.426Z"
   },
   {
    "duration": 0,
    "start_time": "2022-05-08T21:23:39.428Z"
   },
   {
    "duration": 0,
    "start_time": "2022-05-08T21:23:39.430Z"
   },
   {
    "duration": 0,
    "start_time": "2022-05-08T21:23:39.432Z"
   },
   {
    "duration": 0,
    "start_time": "2022-05-08T21:23:39.433Z"
   },
   {
    "duration": 1612,
    "start_time": "2022-05-08T21:25:59.680Z"
   },
   {
    "duration": 145,
    "start_time": "2022-05-08T21:26:01.295Z"
   },
   {
    "duration": 23,
    "start_time": "2022-05-08T21:26:01.443Z"
   },
   {
    "duration": 20,
    "start_time": "2022-05-08T21:26:01.469Z"
   },
   {
    "duration": 34,
    "start_time": "2022-05-08T21:26:01.490Z"
   },
   {
    "duration": 4,
    "start_time": "2022-05-08T21:26:01.525Z"
   },
   {
    "duration": 24,
    "start_time": "2022-05-08T21:26:01.530Z"
   },
   {
    "duration": 7,
    "start_time": "2022-05-08T21:26:01.556Z"
   },
   {
    "duration": 13,
    "start_time": "2022-05-08T21:26:01.565Z"
   },
   {
    "duration": 20,
    "start_time": "2022-05-08T21:26:01.581Z"
   },
   {
    "duration": 34,
    "start_time": "2022-05-08T21:26:01.603Z"
   },
   {
    "duration": 10,
    "start_time": "2022-05-08T21:26:01.639Z"
   },
   {
    "duration": 6,
    "start_time": "2022-05-08T21:26:01.651Z"
   },
   {
    "duration": 16,
    "start_time": "2022-05-08T21:26:01.659Z"
   },
   {
    "duration": 6,
    "start_time": "2022-05-08T21:26:01.676Z"
   },
   {
    "duration": 40,
    "start_time": "2022-05-08T21:26:01.684Z"
   },
   {
    "duration": 5,
    "start_time": "2022-05-08T21:26:01.726Z"
   },
   {
    "duration": 13,
    "start_time": "2022-05-08T21:26:01.733Z"
   },
   {
    "duration": 196,
    "start_time": "2022-05-08T21:26:01.748Z"
   },
   {
    "duration": 16,
    "start_time": "2022-05-08T21:26:01.946Z"
   },
   {
    "duration": 34,
    "start_time": "2022-05-08T21:26:01.964Z"
   },
   {
    "duration": 16,
    "start_time": "2022-05-08T21:26:02.000Z"
   },
   {
    "duration": 50,
    "start_time": "2022-05-08T21:26:02.018Z"
   },
   {
    "duration": 57,
    "start_time": "2022-05-08T21:26:02.070Z"
   },
   {
    "duration": 4,
    "start_time": "2022-05-08T21:26:02.129Z"
   },
   {
    "duration": 224,
    "start_time": "2022-05-08T21:26:02.134Z"
   },
   {
    "duration": 21,
    "start_time": "2022-05-08T21:26:02.360Z"
   },
   {
    "duration": 27,
    "start_time": "2022-05-08T21:26:02.385Z"
   },
   {
    "duration": 33,
    "start_time": "2022-05-08T21:26:02.414Z"
   },
   {
    "duration": 36,
    "start_time": "2022-05-08T21:26:02.449Z"
   },
   {
    "duration": 15,
    "start_time": "2022-05-08T21:26:02.487Z"
   },
   {
    "duration": 239,
    "start_time": "2022-05-08T21:26:02.505Z"
   },
   {
    "duration": 7,
    "start_time": "2022-05-08T21:26:02.746Z"
   },
   {
    "duration": 34,
    "start_time": "2022-05-08T21:26:02.755Z"
   },
   {
    "duration": 258,
    "start_time": "2022-05-08T21:26:02.791Z"
   },
   {
    "duration": 16,
    "start_time": "2022-05-08T21:26:03.051Z"
   },
   {
    "duration": 45,
    "start_time": "2022-05-08T21:26:03.070Z"
   },
   {
    "duration": 14,
    "start_time": "2022-05-08T21:26:03.117Z"
   },
   {
    "duration": 43,
    "start_time": "2022-05-08T21:26:03.133Z"
   },
   {
    "duration": 10,
    "start_time": "2022-05-08T21:26:03.178Z"
   },
   {
    "duration": 21,
    "start_time": "2022-05-08T21:26:03.190Z"
   },
   {
    "duration": 30,
    "start_time": "2022-05-08T21:26:03.213Z"
   },
   {
    "duration": 20,
    "start_time": "2022-05-08T21:26:03.245Z"
   },
   {
    "duration": 31,
    "start_time": "2022-05-08T21:26:03.267Z"
   },
   {
    "duration": 31,
    "start_time": "2022-05-08T21:26:03.300Z"
   },
   {
    "duration": 24,
    "start_time": "2022-05-08T21:26:03.332Z"
   },
   {
    "duration": 265,
    "start_time": "2022-05-08T21:26:03.358Z"
   },
   {
    "duration": 7,
    "start_time": "2022-05-08T21:26:03.624Z"
   },
   {
    "duration": 32,
    "start_time": "2022-05-08T21:26:03.633Z"
   },
   {
    "duration": 37,
    "start_time": "2022-05-08T21:26:03.668Z"
   },
   {
    "duration": 37,
    "start_time": "2022-05-08T21:26:03.707Z"
   },
   {
    "duration": 48,
    "start_time": "2022-05-08T21:26:03.746Z"
   },
   {
    "duration": 200,
    "start_time": "2022-05-08T21:26:03.796Z"
   },
   {
    "duration": 186,
    "start_time": "2022-05-08T21:26:03.998Z"
   },
   {
    "duration": 182,
    "start_time": "2022-05-08T21:26:04.186Z"
   },
   {
    "duration": 176,
    "start_time": "2022-05-08T21:26:04.370Z"
   },
   {
    "duration": 179,
    "start_time": "2022-05-08T21:26:04.547Z"
   },
   {
    "duration": 160,
    "start_time": "2022-05-08T21:26:04.727Z"
   },
   {
    "duration": 153,
    "start_time": "2022-05-08T21:26:04.889Z"
   },
   {
    "duration": 147,
    "start_time": "2022-05-08T21:26:05.043Z"
   },
   {
    "duration": 7,
    "start_time": "2022-05-08T21:26:05.192Z"
   },
   {
    "duration": 34,
    "start_time": "2022-05-08T21:26:05.200Z"
   },
   {
    "duration": 29,
    "start_time": "2022-05-08T21:26:05.236Z"
   },
   {
    "duration": 41,
    "start_time": "2022-05-08T21:26:05.267Z"
   },
   {
    "duration": 44,
    "start_time": "2022-05-08T21:26:05.310Z"
   },
   {
    "duration": 420,
    "start_time": "2022-05-08T21:26:05.355Z"
   },
   {
    "duration": 22,
    "start_time": "2022-05-08T21:29:42.642Z"
   },
   {
    "duration": 17,
    "start_time": "2022-05-08T21:30:03.395Z"
   },
   {
    "duration": 1540,
    "start_time": "2022-05-08T21:30:16.863Z"
   },
   {
    "duration": 97,
    "start_time": "2022-05-08T21:31:00.846Z"
   },
   {
    "duration": 17,
    "start_time": "2022-05-08T21:31:21.897Z"
   },
   {
    "duration": 19,
    "start_time": "2022-05-08T21:32:14.933Z"
   },
   {
    "duration": 5,
    "start_time": "2022-05-08T21:32:22.350Z"
   },
   {
    "duration": 24,
    "start_time": "2022-05-08T21:32:25.827Z"
   },
   {
    "duration": 1187,
    "start_time": "2022-05-08T21:35:57.074Z"
   },
   {
    "duration": 101,
    "start_time": "2022-05-08T21:35:58.263Z"
   },
   {
    "duration": 16,
    "start_time": "2022-05-08T21:35:58.366Z"
   },
   {
    "duration": 37,
    "start_time": "2022-05-08T21:35:58.385Z"
   },
   {
    "duration": 17,
    "start_time": "2022-05-08T21:35:58.425Z"
   },
   {
    "duration": 3,
    "start_time": "2022-05-08T21:35:58.444Z"
   },
   {
    "duration": 18,
    "start_time": "2022-05-08T21:35:58.449Z"
   },
   {
    "duration": 6,
    "start_time": "2022-05-08T21:35:58.469Z"
   },
   {
    "duration": 13,
    "start_time": "2022-05-08T21:35:58.477Z"
   },
   {
    "duration": 16,
    "start_time": "2022-05-08T21:35:58.522Z"
   },
   {
    "duration": 17,
    "start_time": "2022-05-08T21:35:58.539Z"
   },
   {
    "duration": 11,
    "start_time": "2022-05-08T21:35:58.558Z"
   },
   {
    "duration": 5,
    "start_time": "2022-05-08T21:35:58.571Z"
   },
   {
    "duration": 47,
    "start_time": "2022-05-08T21:35:58.578Z"
   },
   {
    "duration": 6,
    "start_time": "2022-05-08T21:35:58.627Z"
   },
   {
    "duration": 11,
    "start_time": "2022-05-08T21:35:58.635Z"
   },
   {
    "duration": 6,
    "start_time": "2022-05-08T21:35:58.648Z"
   },
   {
    "duration": 3,
    "start_time": "2022-05-08T21:35:58.656Z"
   },
   {
    "duration": 220,
    "start_time": "2022-05-08T21:35:58.661Z"
   },
   {
    "duration": 15,
    "start_time": "2022-05-08T21:35:58.883Z"
   },
   {
    "duration": 24,
    "start_time": "2022-05-08T21:35:58.900Z"
   },
   {
    "duration": 17,
    "start_time": "2022-05-08T21:35:58.926Z"
   },
   {
    "duration": 31,
    "start_time": "2022-05-08T21:35:58.945Z"
   },
   {
    "duration": 69,
    "start_time": "2022-05-08T21:35:58.978Z"
   },
   {
    "duration": 4,
    "start_time": "2022-05-08T21:35:59.049Z"
   },
   {
    "duration": 484,
    "start_time": "2022-05-08T21:35:59.055Z"
   },
   {
    "duration": 31,
    "start_time": "2022-05-08T21:35:59.542Z"
   },
   {
    "duration": 7,
    "start_time": "2022-05-08T21:35:59.580Z"
   },
   {
    "duration": 6,
    "start_time": "2022-05-08T21:35:59.590Z"
   },
   {
    "duration": 23,
    "start_time": "2022-05-08T21:35:59.622Z"
   },
   {
    "duration": 3,
    "start_time": "2022-05-08T21:35:59.648Z"
   },
   {
    "duration": 390,
    "start_time": "2022-05-08T21:35:59.653Z"
   },
   {
    "duration": 8,
    "start_time": "2022-05-08T21:36:00.046Z"
   },
   {
    "duration": 6,
    "start_time": "2022-05-08T21:36:00.056Z"
   },
   {
    "duration": 432,
    "start_time": "2022-05-08T21:36:00.064Z"
   },
   {
    "duration": 28,
    "start_time": "2022-05-08T21:36:00.498Z"
   },
   {
    "duration": 41,
    "start_time": "2022-05-08T21:36:00.528Z"
   },
   {
    "duration": 8,
    "start_time": "2022-05-08T21:36:00.572Z"
   },
   {
    "duration": 20,
    "start_time": "2022-05-08T21:36:00.582Z"
   },
   {
    "duration": 6,
    "start_time": "2022-05-08T21:36:00.622Z"
   },
   {
    "duration": 6,
    "start_time": "2022-05-08T21:36:00.630Z"
   },
   {
    "duration": 13,
    "start_time": "2022-05-08T21:36:00.638Z"
   },
   {
    "duration": 12,
    "start_time": "2022-05-08T21:36:00.652Z"
   },
   {
    "duration": 12,
    "start_time": "2022-05-08T21:36:00.665Z"
   },
   {
    "duration": 24,
    "start_time": "2022-05-08T21:36:00.679Z"
   },
   {
    "duration": 3,
    "start_time": "2022-05-08T21:36:00.705Z"
   },
   {
    "duration": 212,
    "start_time": "2022-05-08T21:36:00.722Z"
   },
   {
    "duration": 6,
    "start_time": "2022-05-08T21:36:00.936Z"
   },
   {
    "duration": 9,
    "start_time": "2022-05-08T21:36:00.944Z"
   },
   {
    "duration": 41,
    "start_time": "2022-05-08T21:36:00.954Z"
   },
   {
    "duration": 10,
    "start_time": "2022-05-08T21:36:00.997Z"
   },
   {
    "duration": 25,
    "start_time": "2022-05-08T21:36:01.009Z"
   },
   {
    "duration": 208,
    "start_time": "2022-05-08T21:36:01.036Z"
   },
   {
    "duration": 286,
    "start_time": "2022-05-08T21:36:01.246Z"
   },
   {
    "duration": 287,
    "start_time": "2022-05-08T21:36:01.535Z"
   },
   {
    "duration": 253,
    "start_time": "2022-05-08T21:36:01.825Z"
   },
   {
    "duration": 272,
    "start_time": "2022-05-08T21:36:02.080Z"
   },
   {
    "duration": 245,
    "start_time": "2022-05-08T21:36:02.355Z"
   },
   {
    "duration": 250,
    "start_time": "2022-05-08T21:36:02.603Z"
   },
   {
    "duration": 229,
    "start_time": "2022-05-08T21:36:02.855Z"
   },
   {
    "duration": 9,
    "start_time": "2022-05-08T21:36:03.086Z"
   },
   {
    "duration": 26,
    "start_time": "2022-05-08T21:36:03.097Z"
   },
   {
    "duration": 16,
    "start_time": "2022-05-08T21:36:03.125Z"
   },
   {
    "duration": 20,
    "start_time": "2022-05-08T21:36:03.143Z"
   },
   {
    "duration": 32,
    "start_time": "2022-05-08T21:36:03.165Z"
   },
   {
    "duration": 352,
    "start_time": "2022-05-08T21:36:03.199Z"
   },
   {
    "duration": 302,
    "start_time": "2022-05-08T21:42:50.620Z"
   },
   {
    "duration": 3264,
    "start_time": "2022-05-08T21:43:03.790Z"
   },
   {
    "duration": 12,
    "start_time": "2022-05-08T21:46:41.888Z"
   },
   {
    "duration": 621,
    "start_time": "2022-05-08T21:46:46.103Z"
   },
   {
    "duration": 92353,
    "start_time": "2022-05-08T21:48:44.199Z"
   },
   {
    "duration": 2283,
    "start_time": "2022-05-08T21:51:36.090Z"
   },
   {
    "duration": 278,
    "start_time": "2022-05-08T21:52:48.115Z"
   },
   {
    "duration": 30,
    "start_time": "2022-05-08T22:39:48.642Z"
   },
   {
    "duration": 10,
    "start_time": "2022-05-08T22:42:53.636Z"
   },
   {
    "duration": 2899,
    "start_time": "2022-05-08T22:42:59.653Z"
   },
   {
    "duration": 2978,
    "start_time": "2022-05-08T22:43:16.207Z"
   },
   {
    "duration": 111,
    "start_time": "2022-05-08T22:45:06.300Z"
   },
   {
    "duration": 116,
    "start_time": "2022-05-08T22:45:50.514Z"
   },
   {
    "duration": 6,
    "start_time": "2022-05-08T22:49:21.291Z"
   },
   {
    "duration": 5,
    "start_time": "2022-05-08T22:50:01.978Z"
   },
   {
    "duration": 5,
    "start_time": "2022-05-08T22:55:20.438Z"
   },
   {
    "duration": 4,
    "start_time": "2022-05-08T22:55:26.769Z"
   },
   {
    "duration": 15,
    "start_time": "2022-05-08T22:55:34.426Z"
   },
   {
    "duration": 22,
    "start_time": "2022-05-08T22:55:43.280Z"
   },
   {
    "duration": 186,
    "start_time": "2022-05-08T22:56:36.592Z"
   },
   {
    "duration": 28,
    "start_time": "2022-05-08T22:56:39.646Z"
   },
   {
    "duration": 27,
    "start_time": "2022-05-08T22:57:12.330Z"
   },
   {
    "duration": 1183,
    "start_time": "2022-05-08T22:59:12.714Z"
   },
   {
    "duration": 116,
    "start_time": "2022-05-08T22:59:13.899Z"
   },
   {
    "duration": 17,
    "start_time": "2022-05-08T22:59:14.017Z"
   },
   {
    "duration": 21,
    "start_time": "2022-05-08T22:59:14.036Z"
   },
   {
    "duration": 17,
    "start_time": "2022-05-08T22:59:14.059Z"
   },
   {
    "duration": 4,
    "start_time": "2022-05-08T22:59:14.078Z"
   },
   {
    "duration": 48,
    "start_time": "2022-05-08T22:59:14.083Z"
   },
   {
    "duration": 7,
    "start_time": "2022-05-08T22:59:14.133Z"
   },
   {
    "duration": 17,
    "start_time": "2022-05-08T22:59:14.142Z"
   },
   {
    "duration": 14,
    "start_time": "2022-05-08T22:59:14.162Z"
   },
   {
    "duration": 17,
    "start_time": "2022-05-08T22:59:14.178Z"
   },
   {
    "duration": 35,
    "start_time": "2022-05-08T22:59:14.196Z"
   },
   {
    "duration": 5,
    "start_time": "2022-05-08T22:59:14.234Z"
   },
   {
    "duration": 15,
    "start_time": "2022-05-08T22:59:14.240Z"
   },
   {
    "duration": 6,
    "start_time": "2022-05-08T22:59:14.257Z"
   },
   {
    "duration": 10,
    "start_time": "2022-05-08T22:59:14.265Z"
   },
   {
    "duration": 47,
    "start_time": "2022-05-08T22:59:14.276Z"
   },
   {
    "duration": 3,
    "start_time": "2022-05-08T22:59:14.325Z"
   },
   {
    "duration": 204,
    "start_time": "2022-05-08T22:59:14.330Z"
   },
   {
    "duration": 15,
    "start_time": "2022-05-08T22:59:14.535Z"
   },
   {
    "duration": 11,
    "start_time": "2022-05-08T22:59:14.552Z"
   },
   {
    "duration": 13,
    "start_time": "2022-05-08T22:59:14.564Z"
   },
   {
    "duration": 48,
    "start_time": "2022-05-08T22:59:14.578Z"
   },
   {
    "duration": 30,
    "start_time": "2022-05-08T22:59:14.628Z"
   },
   {
    "duration": 4,
    "start_time": "2022-05-08T22:59:14.660Z"
   },
   {
    "duration": 224,
    "start_time": "2022-05-08T22:59:14.665Z"
   },
   {
    "duration": 19,
    "start_time": "2022-05-08T22:59:14.891Z"
   },
   {
    "duration": 6,
    "start_time": "2022-05-08T22:59:14.926Z"
   },
   {
    "duration": 5,
    "start_time": "2022-05-08T22:59:14.934Z"
   },
   {
    "duration": 16,
    "start_time": "2022-05-08T22:59:14.941Z"
   },
   {
    "duration": 3,
    "start_time": "2022-05-08T22:59:14.959Z"
   },
   {
    "duration": 234,
    "start_time": "2022-05-08T22:59:14.964Z"
   },
   {
    "duration": 6,
    "start_time": "2022-05-08T22:59:15.199Z"
   },
   {
    "duration": 18,
    "start_time": "2022-05-08T22:59:15.206Z"
   },
   {
    "duration": 242,
    "start_time": "2022-05-08T22:59:15.225Z"
   },
   {
    "duration": 17,
    "start_time": "2022-05-08T22:59:15.468Z"
   },
   {
    "duration": 36,
    "start_time": "2022-05-08T22:59:15.486Z"
   },
   {
    "duration": 6,
    "start_time": "2022-05-08T22:59:15.524Z"
   },
   {
    "duration": 21,
    "start_time": "2022-05-08T22:59:15.532Z"
   },
   {
    "duration": 5,
    "start_time": "2022-05-08T22:59:15.555Z"
   },
   {
    "duration": 4,
    "start_time": "2022-05-08T22:59:15.562Z"
   },
   {
    "duration": 8,
    "start_time": "2022-05-08T22:59:15.567Z"
   },
   {
    "duration": 12,
    "start_time": "2022-05-08T22:59:15.577Z"
   },
   {
    "duration": 37,
    "start_time": "2022-05-08T22:59:15.590Z"
   },
   {
    "duration": 16,
    "start_time": "2022-05-08T22:59:15.629Z"
   },
   {
    "duration": 3,
    "start_time": "2022-05-08T22:59:15.647Z"
   },
   {
    "duration": 228,
    "start_time": "2022-05-08T22:59:15.652Z"
   },
   {
    "duration": 5,
    "start_time": "2022-05-08T22:59:15.882Z"
   },
   {
    "duration": 8,
    "start_time": "2022-05-08T22:59:15.889Z"
   },
   {
    "duration": 37,
    "start_time": "2022-05-08T22:59:15.898Z"
   },
   {
    "duration": 9,
    "start_time": "2022-05-08T22:59:15.937Z"
   },
   {
    "duration": 18,
    "start_time": "2022-05-08T22:59:15.948Z"
   },
   {
    "duration": 213,
    "start_time": "2022-05-08T22:59:15.968Z"
   },
   {
    "duration": 183,
    "start_time": "2022-05-08T22:59:16.182Z"
   },
   {
    "duration": 186,
    "start_time": "2022-05-08T22:59:16.366Z"
   },
   {
    "duration": 170,
    "start_time": "2022-05-08T22:59:16.554Z"
   },
   {
    "duration": 176,
    "start_time": "2022-05-08T22:59:16.726Z"
   },
   {
    "duration": 147,
    "start_time": "2022-05-08T22:59:16.904Z"
   },
   {
    "duration": 158,
    "start_time": "2022-05-08T22:59:17.053Z"
   },
   {
    "duration": 137,
    "start_time": "2022-05-08T22:59:17.213Z"
   },
   {
    "duration": 6,
    "start_time": "2022-05-08T22:59:17.352Z"
   },
   {
    "duration": 13,
    "start_time": "2022-05-08T22:59:17.359Z"
   },
   {
    "duration": 15,
    "start_time": "2022-05-08T22:59:17.374Z"
   },
   {
    "duration": 41,
    "start_time": "2022-05-08T22:59:17.391Z"
   },
   {
    "duration": 33,
    "start_time": "2022-05-08T22:59:17.434Z"
   },
   {
    "duration": 322,
    "start_time": "2022-05-08T22:59:17.469Z"
   },
   {
    "duration": 340,
    "start_time": "2022-05-08T22:59:17.794Z"
   },
   {
    "duration": 26,
    "start_time": "2022-05-08T22:59:18.136Z"
   },
   {
    "duration": 137,
    "start_time": "2022-05-08T22:59:18.164Z"
   },
   {
    "duration": 6,
    "start_time": "2022-05-08T22:59:18.303Z"
   },
   {
    "duration": 122,
    "start_time": "2022-05-08T22:59:18.323Z"
   },
   {
    "duration": 5,
    "start_time": "2022-05-08T22:59:18.448Z"
   },
   {
    "duration": 71,
    "start_time": "2022-05-08T22:59:18.456Z"
   },
   {
    "duration": 69434,
    "start_time": "2022-05-08T22:59:39.715Z"
   },
   {
    "duration": 99,
    "start_time": "2022-05-08T23:01:43.328Z"
   },
   {
    "duration": 16,
    "start_time": "2022-05-08T23:01:46.400Z"
   },
   {
    "duration": 21,
    "start_time": "2022-05-08T23:01:51.816Z"
   },
   {
    "duration": 24,
    "start_time": "2022-05-08T23:02:10.858Z"
   },
   {
    "duration": 23,
    "start_time": "2022-05-08T23:02:16.515Z"
   },
   {
    "duration": 22,
    "start_time": "2022-05-08T23:02:54.454Z"
   },
   {
    "duration": 23,
    "start_time": "2022-05-08T23:03:23.991Z"
   },
   {
    "duration": 12,
    "start_time": "2022-05-08T23:05:53.106Z"
   },
   {
    "duration": 4547,
    "start_time": "2022-05-08T23:06:01.391Z"
   },
   {
    "duration": 142,
    "start_time": "2022-05-08T23:06:22.143Z"
   },
   {
    "duration": 137,
    "start_time": "2022-05-08T23:06:52.400Z"
   },
   {
    "duration": 114,
    "start_time": "2022-05-08T23:07:42.088Z"
   },
   {
    "duration": 120,
    "start_time": "2022-05-08T23:07:49.150Z"
   },
   {
    "duration": 126,
    "start_time": "2022-05-08T23:09:09.810Z"
   },
   {
    "duration": 22,
    "start_time": "2022-05-08T23:10:41.407Z"
   },
   {
    "duration": 137,
    "start_time": "2022-05-08T23:11:11.986Z"
   },
   {
    "duration": 136,
    "start_time": "2022-05-08T23:11:49.564Z"
   },
   {
    "duration": 135,
    "start_time": "2022-05-08T23:12:34.044Z"
   },
   {
    "duration": 136,
    "start_time": "2022-05-08T23:13:25.942Z"
   },
   {
    "duration": 1082,
    "start_time": "2022-05-08T23:21:44.041Z"
   },
   {
    "duration": 95,
    "start_time": "2022-05-08T23:21:45.125Z"
   },
   {
    "duration": 15,
    "start_time": "2022-05-08T23:21:45.222Z"
   },
   {
    "duration": 18,
    "start_time": "2022-05-08T23:21:45.239Z"
   },
   {
    "duration": 15,
    "start_time": "2022-05-08T23:21:45.259Z"
   },
   {
    "duration": 3,
    "start_time": "2022-05-08T23:21:45.275Z"
   },
   {
    "duration": 45,
    "start_time": "2022-05-08T23:21:45.280Z"
   },
   {
    "duration": 8,
    "start_time": "2022-05-08T23:21:45.327Z"
   },
   {
    "duration": 12,
    "start_time": "2022-05-08T23:21:45.337Z"
   },
   {
    "duration": 14,
    "start_time": "2022-05-08T23:21:45.353Z"
   },
   {
    "duration": 16,
    "start_time": "2022-05-08T23:21:45.369Z"
   },
   {
    "duration": 39,
    "start_time": "2022-05-08T23:21:45.387Z"
   },
   {
    "duration": 5,
    "start_time": "2022-05-08T23:21:45.429Z"
   },
   {
    "duration": 14,
    "start_time": "2022-05-08T23:21:45.436Z"
   },
   {
    "duration": 5,
    "start_time": "2022-05-08T23:21:45.453Z"
   },
   {
    "duration": 15,
    "start_time": "2022-05-08T23:21:45.460Z"
   },
   {
    "duration": 45,
    "start_time": "2022-05-08T23:21:45.477Z"
   },
   {
    "duration": 4,
    "start_time": "2022-05-08T23:21:45.525Z"
   },
   {
    "duration": 187,
    "start_time": "2022-05-08T23:21:45.531Z"
   },
   {
    "duration": 15,
    "start_time": "2022-05-08T23:21:45.720Z"
   },
   {
    "duration": 9,
    "start_time": "2022-05-08T23:21:45.737Z"
   },
   {
    "duration": 13,
    "start_time": "2022-05-08T23:21:45.748Z"
   },
   {
    "duration": 19,
    "start_time": "2022-05-08T23:21:45.763Z"
   },
   {
    "duration": 64,
    "start_time": "2022-05-08T23:21:45.784Z"
   },
   {
    "duration": 4,
    "start_time": "2022-05-08T23:21:45.850Z"
   },
   {
    "duration": 229,
    "start_time": "2022-05-08T23:21:45.856Z"
   },
   {
    "duration": 20,
    "start_time": "2022-05-08T23:21:46.087Z"
   },
   {
    "duration": 6,
    "start_time": "2022-05-08T23:21:46.122Z"
   },
   {
    "duration": 7,
    "start_time": "2022-05-08T23:21:46.130Z"
   },
   {
    "duration": 22,
    "start_time": "2022-05-08T23:21:46.139Z"
   },
   {
    "duration": 4,
    "start_time": "2022-05-08T23:21:46.163Z"
   },
   {
    "duration": 348,
    "start_time": "2022-05-08T23:21:46.169Z"
   },
   {
    "duration": 9,
    "start_time": "2022-05-08T23:21:46.518Z"
   },
   {
    "duration": 4,
    "start_time": "2022-05-08T23:21:46.529Z"
   },
   {
    "duration": 236,
    "start_time": "2022-05-08T23:21:46.535Z"
   },
   {
    "duration": 14,
    "start_time": "2022-05-08T23:21:46.773Z"
   },
   {
    "duration": 34,
    "start_time": "2022-05-08T23:21:46.789Z"
   },
   {
    "duration": 6,
    "start_time": "2022-05-08T23:21:46.825Z"
   },
   {
    "duration": 21,
    "start_time": "2022-05-08T23:21:46.833Z"
   },
   {
    "duration": 5,
    "start_time": "2022-05-08T23:21:46.856Z"
   },
   {
    "duration": 5,
    "start_time": "2022-05-08T23:21:46.863Z"
   },
   {
    "duration": 5,
    "start_time": "2022-05-08T23:21:46.870Z"
   },
   {
    "duration": 10,
    "start_time": "2022-05-08T23:21:46.876Z"
   },
   {
    "duration": 40,
    "start_time": "2022-05-08T23:21:46.888Z"
   },
   {
    "duration": 16,
    "start_time": "2022-05-08T23:21:46.930Z"
   },
   {
    "duration": 4,
    "start_time": "2022-05-08T23:21:46.948Z"
   },
   {
    "duration": 230,
    "start_time": "2022-05-08T23:21:46.953Z"
   },
   {
    "duration": 6,
    "start_time": "2022-05-08T23:21:47.185Z"
   },
   {
    "duration": 9,
    "start_time": "2022-05-08T23:21:47.193Z"
   },
   {
    "duration": 37,
    "start_time": "2022-05-08T23:21:47.204Z"
   },
   {
    "duration": 9,
    "start_time": "2022-05-08T23:21:47.243Z"
   },
   {
    "duration": 15,
    "start_time": "2022-05-08T23:21:47.254Z"
   },
   {
    "duration": 195,
    "start_time": "2022-05-08T23:21:47.271Z"
   },
   {
    "duration": 165,
    "start_time": "2022-05-08T23:21:47.468Z"
   },
   {
    "duration": 161,
    "start_time": "2022-05-08T23:21:47.635Z"
   },
   {
    "duration": 159,
    "start_time": "2022-05-08T23:21:47.798Z"
   },
   {
    "duration": 172,
    "start_time": "2022-05-08T23:21:47.959Z"
   },
   {
    "duration": 149,
    "start_time": "2022-05-08T23:21:48.134Z"
   },
   {
    "duration": 140,
    "start_time": "2022-05-08T23:21:48.285Z"
   },
   {
    "duration": 127,
    "start_time": "2022-05-08T23:21:48.427Z"
   },
   {
    "duration": 7,
    "start_time": "2022-05-08T23:21:48.556Z"
   },
   {
    "duration": 14,
    "start_time": "2022-05-08T23:21:48.565Z"
   },
   {
    "duration": 15,
    "start_time": "2022-05-08T23:21:48.581Z"
   },
   {
    "duration": 16,
    "start_time": "2022-05-08T23:21:48.623Z"
   },
   {
    "duration": 29,
    "start_time": "2022-05-08T23:21:48.641Z"
   },
   {
    "duration": 335,
    "start_time": "2022-05-08T23:21:48.672Z"
   },
   {
    "duration": 343,
    "start_time": "2022-05-08T23:21:49.009Z"
   },
   {
    "duration": 25,
    "start_time": "2022-05-08T23:21:49.354Z"
   },
   {
    "duration": 129,
    "start_time": "2022-05-08T23:21:49.381Z"
   },
   {
    "duration": 5,
    "start_time": "2022-05-08T23:21:49.512Z"
   },
   {
    "duration": 118,
    "start_time": "2022-05-08T23:21:49.523Z"
   },
   {
    "duration": 4,
    "start_time": "2022-05-08T23:21:49.643Z"
   },
   {
    "duration": 122,
    "start_time": "2022-05-08T23:21:49.649Z"
   },
   {
    "duration": 0,
    "start_time": "2022-05-08T23:21:49.773Z"
   },
   {
    "duration": 0,
    "start_time": "2022-05-08T23:21:49.774Z"
   },
   {
    "duration": 0,
    "start_time": "2022-05-08T23:21:49.775Z"
   },
   {
    "duration": 0,
    "start_time": "2022-05-08T23:21:49.776Z"
   },
   {
    "duration": 0,
    "start_time": "2022-05-08T23:21:49.777Z"
   },
   {
    "duration": 21,
    "start_time": "2022-05-08T23:22:14.117Z"
   },
   {
    "duration": 23,
    "start_time": "2022-05-08T23:22:20.332Z"
   },
   {
    "duration": 155,
    "start_time": "2022-05-08T23:22:20.356Z"
   },
   {
    "duration": 154,
    "start_time": "2022-05-08T23:22:20.512Z"
   },
   {
    "duration": 135,
    "start_time": "2022-05-08T23:22:20.668Z"
   },
   {
    "duration": 145,
    "start_time": "2022-05-08T23:22:20.805Z"
   },
   {
    "duration": 150,
    "start_time": "2022-05-08T23:22:20.952Z"
   },
   {
    "duration": 5,
    "start_time": "2022-05-08T23:24:22.086Z"
   },
   {
    "duration": 158,
    "start_time": "2022-05-08T23:25:53.935Z"
   },
   {
    "duration": 158,
    "start_time": "2022-05-08T23:26:29.637Z"
   },
   {
    "duration": 248,
    "start_time": "2022-05-08T23:26:40.827Z"
   },
   {
    "duration": 16,
    "start_time": "2022-05-08T23:33:44.953Z"
   },
   {
    "duration": 160,
    "start_time": "2022-05-08T23:35:54.593Z"
   },
   {
    "duration": 182,
    "start_time": "2022-05-08T23:36:34.518Z"
   },
   {
    "duration": 148,
    "start_time": "2022-05-08T23:39:04.103Z"
   },
   {
    "duration": 1096,
    "start_time": "2022-05-08T23:42:39.322Z"
   },
   {
    "duration": 93,
    "start_time": "2022-05-08T23:42:40.420Z"
   },
   {
    "duration": 16,
    "start_time": "2022-05-08T23:42:40.514Z"
   },
   {
    "duration": 19,
    "start_time": "2022-05-08T23:42:40.532Z"
   },
   {
    "duration": 17,
    "start_time": "2022-05-08T23:42:40.552Z"
   },
   {
    "duration": 3,
    "start_time": "2022-05-08T23:42:40.571Z"
   },
   {
    "duration": 18,
    "start_time": "2022-05-08T23:42:40.576Z"
   },
   {
    "duration": 6,
    "start_time": "2022-05-08T23:42:40.623Z"
   },
   {
    "duration": 12,
    "start_time": "2022-05-08T23:42:40.631Z"
   },
   {
    "duration": 13,
    "start_time": "2022-05-08T23:42:40.645Z"
   },
   {
    "duration": 14,
    "start_time": "2022-05-08T23:42:40.660Z"
   },
   {
    "duration": 10,
    "start_time": "2022-05-08T23:42:40.676Z"
   },
   {
    "duration": 5,
    "start_time": "2022-05-08T23:42:40.687Z"
   },
   {
    "duration": 13,
    "start_time": "2022-05-08T23:42:40.723Z"
   },
   {
    "duration": 5,
    "start_time": "2022-05-08T23:42:40.738Z"
   },
   {
    "duration": 10,
    "start_time": "2022-05-08T23:42:40.744Z"
   },
   {
    "duration": 9,
    "start_time": "2022-05-08T23:42:40.755Z"
   },
   {
    "duration": 5,
    "start_time": "2022-05-08T23:42:40.766Z"
   },
   {
    "duration": 199,
    "start_time": "2022-05-08T23:42:40.773Z"
   },
   {
    "duration": 13,
    "start_time": "2022-05-08T23:42:40.974Z"
   },
   {
    "duration": 9,
    "start_time": "2022-05-08T23:42:40.989Z"
   },
   {
    "duration": 28,
    "start_time": "2022-05-08T23:42:41.000Z"
   },
   {
    "duration": 17,
    "start_time": "2022-05-08T23:42:41.030Z"
   },
   {
    "duration": 28,
    "start_time": "2022-05-08T23:42:41.049Z"
   },
   {
    "duration": 3,
    "start_time": "2022-05-08T23:42:41.078Z"
   },
   {
    "duration": 228,
    "start_time": "2022-05-08T23:42:41.083Z"
   },
   {
    "duration": 17,
    "start_time": "2022-05-08T23:42:41.312Z"
   },
   {
    "duration": 5,
    "start_time": "2022-05-08T23:42:41.334Z"
   },
   {
    "duration": 5,
    "start_time": "2022-05-08T23:42:41.341Z"
   },
   {
    "duration": 18,
    "start_time": "2022-05-08T23:42:41.347Z"
   },
   {
    "duration": 3,
    "start_time": "2022-05-08T23:42:41.367Z"
   },
   {
    "duration": 232,
    "start_time": "2022-05-08T23:42:41.371Z"
   },
   {
    "duration": 5,
    "start_time": "2022-05-08T23:42:41.604Z"
   },
   {
    "duration": 5,
    "start_time": "2022-05-08T23:42:41.611Z"
   },
   {
    "duration": 224,
    "start_time": "2022-05-08T23:42:41.623Z"
   },
   {
    "duration": 14,
    "start_time": "2022-05-08T23:42:41.849Z"
   },
   {
    "duration": 20,
    "start_time": "2022-05-08T23:42:41.865Z"
   },
   {
    "duration": 6,
    "start_time": "2022-05-08T23:42:41.887Z"
   },
   {
    "duration": 42,
    "start_time": "2022-05-08T23:42:41.895Z"
   },
   {
    "duration": 5,
    "start_time": "2022-05-08T23:42:41.939Z"
   },
   {
    "duration": 5,
    "start_time": "2022-05-08T23:42:41.946Z"
   },
   {
    "duration": 3,
    "start_time": "2022-05-08T23:42:41.953Z"
   },
   {
    "duration": 10,
    "start_time": "2022-05-08T23:42:41.958Z"
   },
   {
    "duration": 6,
    "start_time": "2022-05-08T23:42:41.970Z"
   },
   {
    "duration": 48,
    "start_time": "2022-05-08T23:42:41.978Z"
   },
   {
    "duration": 4,
    "start_time": "2022-05-08T23:42:42.028Z"
   },
   {
    "duration": 208,
    "start_time": "2022-05-08T23:42:42.034Z"
   },
   {
    "duration": 6,
    "start_time": "2022-05-08T23:42:42.244Z"
   },
   {
    "duration": 6,
    "start_time": "2022-05-08T23:42:42.251Z"
   },
   {
    "duration": 24,
    "start_time": "2022-05-08T23:42:42.259Z"
   },
   {
    "duration": 11,
    "start_time": "2022-05-08T23:42:42.285Z"
   },
   {
    "duration": 16,
    "start_time": "2022-05-08T23:42:42.324Z"
   },
   {
    "duration": 196,
    "start_time": "2022-05-08T23:42:42.343Z"
   },
   {
    "duration": 171,
    "start_time": "2022-05-08T23:42:42.541Z"
   },
   {
    "duration": 173,
    "start_time": "2022-05-08T23:42:42.714Z"
   },
   {
    "duration": 155,
    "start_time": "2022-05-08T23:42:42.889Z"
   },
   {
    "duration": 161,
    "start_time": "2022-05-08T23:42:43.046Z"
   },
   {
    "duration": 147,
    "start_time": "2022-05-08T23:42:43.209Z"
   },
   {
    "duration": 155,
    "start_time": "2022-05-08T23:42:43.359Z"
   },
   {
    "duration": 134,
    "start_time": "2022-05-08T23:42:43.517Z"
   },
   {
    "duration": 7,
    "start_time": "2022-05-08T23:42:43.653Z"
   },
   {
    "duration": 12,
    "start_time": "2022-05-08T23:42:43.662Z"
   },
   {
    "duration": 15,
    "start_time": "2022-05-08T23:42:43.676Z"
   },
   {
    "duration": 43,
    "start_time": "2022-05-08T23:42:43.693Z"
   },
   {
    "duration": 33,
    "start_time": "2022-05-08T23:42:43.738Z"
   },
   {
    "duration": 346,
    "start_time": "2022-05-08T23:42:43.773Z"
   },
   {
    "duration": 340,
    "start_time": "2022-05-08T23:42:44.122Z"
   },
   {
    "duration": 25,
    "start_time": "2022-05-08T23:42:44.465Z"
   },
   {
    "duration": 130,
    "start_time": "2022-05-08T23:42:44.492Z"
   },
   {
    "duration": 7,
    "start_time": "2022-05-08T23:42:44.624Z"
   },
   {
    "duration": 120,
    "start_time": "2022-05-08T23:42:44.632Z"
   },
   {
    "duration": 6,
    "start_time": "2022-05-08T23:42:44.754Z"
   },
   {
    "duration": 32,
    "start_time": "2022-05-08T23:42:44.762Z"
   },
   {
    "duration": 149,
    "start_time": "2022-05-08T23:42:44.796Z"
   },
   {
    "duration": 145,
    "start_time": "2022-05-08T23:42:44.947Z"
   },
   {
    "duration": 141,
    "start_time": "2022-05-08T23:42:45.094Z"
   },
   {
    "duration": 144,
    "start_time": "2022-05-08T23:42:45.237Z"
   },
   {
    "duration": 147,
    "start_time": "2022-05-08T23:42:45.384Z"
   },
   {
    "duration": 7,
    "start_time": "2022-05-08T23:42:45.533Z"
   },
   {
    "duration": 169,
    "start_time": "2022-05-08T23:42:45.542Z"
   },
   {
    "duration": 173,
    "start_time": "2022-05-08T23:42:45.713Z"
   },
   {
    "duration": 269,
    "start_time": "2022-05-08T23:42:45.893Z"
   },
   {
    "duration": 149,
    "start_time": "2022-05-08T23:42:46.164Z"
   },
   {
    "duration": 179,
    "start_time": "2022-05-08T23:42:46.315Z"
   },
   {
    "duration": 189,
    "start_time": "2022-05-08T23:42:46.497Z"
   },
   {
    "duration": 139,
    "start_time": "2022-05-08T23:42:46.688Z"
   },
   {
    "duration": 189,
    "start_time": "2022-05-08T23:42:46.829Z"
   },
   {
    "duration": 167,
    "start_time": "2022-05-08T23:42:47.019Z"
   },
   {
    "duration": 127,
    "start_time": "2022-05-08T23:42:47.187Z"
   },
   {
    "duration": 1103,
    "start_time": "2022-05-08T23:45:36.516Z"
   },
   {
    "duration": 103,
    "start_time": "2022-05-08T23:45:37.621Z"
   },
   {
    "duration": 14,
    "start_time": "2022-05-08T23:45:37.726Z"
   },
   {
    "duration": 18,
    "start_time": "2022-05-08T23:45:37.742Z"
   },
   {
    "duration": 16,
    "start_time": "2022-05-08T23:45:37.761Z"
   },
   {
    "duration": 3,
    "start_time": "2022-05-08T23:45:37.779Z"
   },
   {
    "duration": 42,
    "start_time": "2022-05-08T23:45:37.783Z"
   },
   {
    "duration": 6,
    "start_time": "2022-05-08T23:45:37.827Z"
   },
   {
    "duration": 11,
    "start_time": "2022-05-08T23:45:37.835Z"
   },
   {
    "duration": 13,
    "start_time": "2022-05-08T23:45:37.848Z"
   },
   {
    "duration": 17,
    "start_time": "2022-05-08T23:45:37.863Z"
   },
   {
    "duration": 8,
    "start_time": "2022-05-08T23:45:37.882Z"
   },
   {
    "duration": 35,
    "start_time": "2022-05-08T23:45:37.891Z"
   },
   {
    "duration": 13,
    "start_time": "2022-05-08T23:45:37.928Z"
   },
   {
    "duration": 5,
    "start_time": "2022-05-08T23:45:37.942Z"
   },
   {
    "duration": 9,
    "start_time": "2022-05-08T23:45:37.948Z"
   },
   {
    "duration": 5,
    "start_time": "2022-05-08T23:45:37.959Z"
   },
   {
    "duration": 9,
    "start_time": "2022-05-08T23:45:37.965Z"
   },
   {
    "duration": 210,
    "start_time": "2022-05-08T23:45:37.975Z"
   },
   {
    "duration": 13,
    "start_time": "2022-05-08T23:45:38.186Z"
   },
   {
    "duration": 22,
    "start_time": "2022-05-08T23:45:38.201Z"
   },
   {
    "duration": 13,
    "start_time": "2022-05-08T23:45:38.224Z"
   },
   {
    "duration": 18,
    "start_time": "2022-05-08T23:45:38.238Z"
   },
   {
    "duration": 29,
    "start_time": "2022-05-08T23:45:38.257Z"
   },
   {
    "duration": 3,
    "start_time": "2022-05-08T23:45:38.287Z"
   },
   {
    "duration": 228,
    "start_time": "2022-05-08T23:45:38.292Z"
   },
   {
    "duration": 18,
    "start_time": "2022-05-08T23:45:38.522Z"
   },
   {
    "duration": 5,
    "start_time": "2022-05-08T23:45:38.545Z"
   },
   {
    "duration": 5,
    "start_time": "2022-05-08T23:45:38.552Z"
   },
   {
    "duration": 15,
    "start_time": "2022-05-08T23:45:38.559Z"
   },
   {
    "duration": 3,
    "start_time": "2022-05-08T23:45:38.576Z"
   },
   {
    "duration": 233,
    "start_time": "2022-05-08T23:45:38.580Z"
   },
   {
    "duration": 10,
    "start_time": "2022-05-08T23:45:38.814Z"
   },
   {
    "duration": 6,
    "start_time": "2022-05-08T23:45:38.825Z"
   },
   {
    "duration": 227,
    "start_time": "2022-05-08T23:45:38.833Z"
   },
   {
    "duration": 13,
    "start_time": "2022-05-08T23:45:39.062Z"
   },
   {
    "duration": 22,
    "start_time": "2022-05-08T23:45:39.077Z"
   },
   {
    "duration": 5,
    "start_time": "2022-05-08T23:45:39.100Z"
   },
   {
    "duration": 18,
    "start_time": "2022-05-08T23:45:39.123Z"
   },
   {
    "duration": 4,
    "start_time": "2022-05-08T23:45:39.143Z"
   },
   {
    "duration": 4,
    "start_time": "2022-05-08T23:45:39.148Z"
   },
   {
    "duration": 8,
    "start_time": "2022-05-08T23:45:39.153Z"
   },
   {
    "duration": 13,
    "start_time": "2022-05-08T23:45:39.162Z"
   },
   {
    "duration": 6,
    "start_time": "2022-05-08T23:45:39.176Z"
   },
   {
    "duration": 46,
    "start_time": "2022-05-08T23:45:39.184Z"
   },
   {
    "duration": 3,
    "start_time": "2022-05-08T23:45:39.232Z"
   },
   {
    "duration": 222,
    "start_time": "2022-05-08T23:45:39.236Z"
   },
   {
    "duration": 5,
    "start_time": "2022-05-08T23:45:39.460Z"
   },
   {
    "duration": 4,
    "start_time": "2022-05-08T23:45:39.467Z"
   },
   {
    "duration": 21,
    "start_time": "2022-05-08T23:45:39.473Z"
   },
   {
    "duration": 28,
    "start_time": "2022-05-08T23:45:39.496Z"
   },
   {
    "duration": 18,
    "start_time": "2022-05-08T23:45:39.526Z"
   },
   {
    "duration": 193,
    "start_time": "2022-05-08T23:45:39.545Z"
   },
   {
    "duration": 161,
    "start_time": "2022-05-08T23:45:39.740Z"
   },
   {
    "duration": 167,
    "start_time": "2022-05-08T23:45:39.903Z"
   },
   {
    "duration": 159,
    "start_time": "2022-05-08T23:45:40.071Z"
   },
   {
    "duration": 169,
    "start_time": "2022-05-08T23:45:40.231Z"
   },
   {
    "duration": 146,
    "start_time": "2022-05-08T23:45:40.402Z"
   },
   {
    "duration": 143,
    "start_time": "2022-05-08T23:45:40.550Z"
   },
   {
    "duration": 128,
    "start_time": "2022-05-08T23:45:40.694Z"
   },
   {
    "duration": 7,
    "start_time": "2022-05-08T23:45:40.824Z"
   },
   {
    "duration": 13,
    "start_time": "2022-05-08T23:45:40.832Z"
   },
   {
    "duration": 14,
    "start_time": "2022-05-08T23:45:40.846Z"
   },
   {
    "duration": 14,
    "start_time": "2022-05-08T23:45:40.862Z"
   },
   {
    "duration": 61,
    "start_time": "2022-05-08T23:45:40.878Z"
   },
   {
    "duration": 322,
    "start_time": "2022-05-08T23:45:40.941Z"
   },
   {
    "duration": 323,
    "start_time": "2022-05-08T23:45:41.265Z"
   },
   {
    "duration": 24,
    "start_time": "2022-05-08T23:45:41.590Z"
   },
   {
    "duration": 110,
    "start_time": "2022-05-08T23:45:41.622Z"
   },
   {
    "duration": 5,
    "start_time": "2022-05-08T23:45:41.733Z"
   },
   {
    "duration": 113,
    "start_time": "2022-05-08T23:45:41.740Z"
   },
   {
    "duration": 5,
    "start_time": "2022-05-08T23:45:41.855Z"
   },
   {
    "duration": 20,
    "start_time": "2022-05-08T23:45:41.862Z"
   },
   {
    "duration": 156,
    "start_time": "2022-05-08T23:45:41.884Z"
   },
   {
    "duration": 139,
    "start_time": "2022-05-08T23:45:42.042Z"
   },
   {
    "duration": 136,
    "start_time": "2022-05-08T23:45:42.183Z"
   },
   {
    "duration": 134,
    "start_time": "2022-05-08T23:45:42.323Z"
   },
   {
    "duration": 142,
    "start_time": "2022-05-08T23:45:42.459Z"
   },
   {
    "duration": 5,
    "start_time": "2022-05-08T23:45:42.603Z"
   },
   {
    "duration": 169,
    "start_time": "2022-05-08T23:45:42.609Z"
   },
   {
    "duration": 177,
    "start_time": "2022-05-08T23:45:42.780Z"
   },
   {
    "duration": 271,
    "start_time": "2022-05-08T23:45:42.962Z"
   },
   {
    "duration": 152,
    "start_time": "2022-05-08T23:45:43.235Z"
   },
   {
    "duration": 190,
    "start_time": "2022-05-08T23:45:43.388Z"
   },
   {
    "duration": 195,
    "start_time": "2022-05-08T23:45:43.580Z"
   },
   {
    "duration": 147,
    "start_time": "2022-05-08T23:45:43.777Z"
   },
   {
    "duration": 186,
    "start_time": "2022-05-08T23:45:43.926Z"
   },
   {
    "duration": 195,
    "start_time": "2022-05-08T23:45:44.113Z"
   },
   {
    "duration": 146,
    "start_time": "2022-05-08T23:45:44.310Z"
   },
   {
    "duration": 89,
    "start_time": "2022-05-08T23:47:40.666Z"
   },
   {
    "duration": 5,
    "start_time": "2022-05-08T23:47:46.162Z"
   },
   {
    "duration": 6,
    "start_time": "2022-05-08T23:48:18.234Z"
   },
   {
    "duration": 4,
    "start_time": "2022-05-08T23:48:26.675Z"
   },
   {
    "duration": 210,
    "start_time": "2022-05-08T23:51:09.305Z"
   },
   {
    "duration": 132,
    "start_time": "2022-05-08T23:51:13.529Z"
   },
   {
    "duration": 120,
    "start_time": "2022-05-08T23:51:26.564Z"
   },
   {
    "duration": 131,
    "start_time": "2022-05-08T23:51:42.802Z"
   },
   {
    "duration": 130,
    "start_time": "2022-05-08T23:51:54.012Z"
   },
   {
    "duration": 137,
    "start_time": "2022-05-08T23:52:06.362Z"
   },
   {
    "duration": 237,
    "start_time": "2022-05-08T23:52:14.846Z"
   },
   {
    "duration": 8,
    "start_time": "2022-05-08T23:55:50.883Z"
   },
   {
    "duration": 8,
    "start_time": "2022-05-08T23:56:15.920Z"
   },
   {
    "duration": 8,
    "start_time": "2022-05-09T00:05:59.554Z"
   },
   {
    "duration": 212,
    "start_time": "2022-05-09T00:07:08.746Z"
   },
   {
    "duration": 19,
    "start_time": "2022-05-09T00:07:20.367Z"
   },
   {
    "duration": 189,
    "start_time": "2022-05-09T00:07:57.927Z"
   },
   {
    "duration": 203,
    "start_time": "2022-05-09T00:08:05.317Z"
   },
   {
    "duration": 206,
    "start_time": "2022-05-09T00:08:12.311Z"
   },
   {
    "duration": 18,
    "start_time": "2022-05-09T00:08:26.336Z"
   },
   {
    "duration": 18,
    "start_time": "2022-05-09T00:09:28.613Z"
   },
   {
    "duration": 19,
    "start_time": "2022-05-09T00:10:21.781Z"
   },
   {
    "duration": 194,
    "start_time": "2022-05-09T00:33:54.721Z"
   },
   {
    "duration": 200,
    "start_time": "2022-05-09T00:34:20.963Z"
   },
   {
    "duration": 16,
    "start_time": "2022-05-09T00:34:27.420Z"
   },
   {
    "duration": 13,
    "start_time": "2022-05-09T00:34:46.059Z"
   },
   {
    "duration": 14,
    "start_time": "2022-05-09T00:37:06.358Z"
   },
   {
    "duration": 15,
    "start_time": "2022-05-09T00:37:34.918Z"
   },
   {
    "duration": 14,
    "start_time": "2022-05-09T00:44:29.723Z"
   },
   {
    "duration": 14,
    "start_time": "2022-05-09T00:44:53.699Z"
   },
   {
    "duration": 15,
    "start_time": "2022-05-09T00:45:07.720Z"
   },
   {
    "duration": 1167,
    "start_time": "2022-05-09T01:01:15.476Z"
   },
   {
    "duration": 104,
    "start_time": "2022-05-09T01:01:16.645Z"
   },
   {
    "duration": 16,
    "start_time": "2022-05-09T01:01:16.751Z"
   },
   {
    "duration": 26,
    "start_time": "2022-05-09T01:01:16.769Z"
   },
   {
    "duration": 30,
    "start_time": "2022-05-09T01:01:16.797Z"
   },
   {
    "duration": 4,
    "start_time": "2022-05-09T01:01:16.829Z"
   },
   {
    "duration": 22,
    "start_time": "2022-05-09T01:01:16.834Z"
   },
   {
    "duration": 7,
    "start_time": "2022-05-09T01:01:16.858Z"
   },
   {
    "duration": 19,
    "start_time": "2022-05-09T01:01:16.866Z"
   },
   {
    "duration": 15,
    "start_time": "2022-05-09T01:01:16.888Z"
   },
   {
    "duration": 16,
    "start_time": "2022-05-09T01:01:16.923Z"
   },
   {
    "duration": 11,
    "start_time": "2022-05-09T01:01:16.941Z"
   },
   {
    "duration": 14,
    "start_time": "2022-05-09T01:01:16.953Z"
   },
   {
    "duration": 14,
    "start_time": "2022-05-09T01:01:16.968Z"
   },
   {
    "duration": 5,
    "start_time": "2022-05-09T01:01:16.984Z"
   },
   {
    "duration": 35,
    "start_time": "2022-05-09T01:01:16.991Z"
   },
   {
    "duration": 5,
    "start_time": "2022-05-09T01:01:17.028Z"
   },
   {
    "duration": 9,
    "start_time": "2022-05-09T01:01:17.035Z"
   },
   {
    "duration": 200,
    "start_time": "2022-05-09T01:01:17.046Z"
   },
   {
    "duration": 13,
    "start_time": "2022-05-09T01:01:17.248Z"
   },
   {
    "duration": 9,
    "start_time": "2022-05-09T01:01:17.262Z"
   },
   {
    "duration": 12,
    "start_time": "2022-05-09T01:01:17.273Z"
   },
   {
    "duration": 43,
    "start_time": "2022-05-09T01:01:17.287Z"
   },
   {
    "duration": 28,
    "start_time": "2022-05-09T01:01:17.331Z"
   },
   {
    "duration": 4,
    "start_time": "2022-05-09T01:01:17.361Z"
   },
   {
    "duration": 231,
    "start_time": "2022-05-09T01:01:17.366Z"
   },
   {
    "duration": 24,
    "start_time": "2022-05-09T01:01:17.599Z"
   },
   {
    "duration": 5,
    "start_time": "2022-05-09T01:01:17.628Z"
   },
   {
    "duration": 6,
    "start_time": "2022-05-09T01:01:17.635Z"
   },
   {
    "duration": 16,
    "start_time": "2022-05-09T01:01:17.643Z"
   },
   {
    "duration": 3,
    "start_time": "2022-05-09T01:01:17.661Z"
   },
   {
    "duration": 238,
    "start_time": "2022-05-09T01:01:17.665Z"
   },
   {
    "duration": 5,
    "start_time": "2022-05-09T01:01:17.904Z"
   },
   {
    "duration": 12,
    "start_time": "2022-05-09T01:01:17.911Z"
   },
   {
    "duration": 249,
    "start_time": "2022-05-09T01:01:17.924Z"
   },
   {
    "duration": 17,
    "start_time": "2022-05-09T01:01:18.175Z"
   },
   {
    "duration": 36,
    "start_time": "2022-05-09T01:01:18.193Z"
   },
   {
    "duration": 6,
    "start_time": "2022-05-09T01:01:18.231Z"
   },
   {
    "duration": 24,
    "start_time": "2022-05-09T01:01:18.238Z"
   },
   {
    "duration": 5,
    "start_time": "2022-05-09T01:01:18.264Z"
   },
   {
    "duration": 5,
    "start_time": "2022-05-09T01:01:18.270Z"
   },
   {
    "duration": 4,
    "start_time": "2022-05-09T01:01:18.276Z"
   },
   {
    "duration": 41,
    "start_time": "2022-05-09T01:01:18.282Z"
   },
   {
    "duration": 6,
    "start_time": "2022-05-09T01:01:18.325Z"
   },
   {
    "duration": 19,
    "start_time": "2022-05-09T01:01:18.333Z"
   },
   {
    "duration": 3,
    "start_time": "2022-05-09T01:01:18.354Z"
   },
   {
    "duration": 230,
    "start_time": "2022-05-09T01:01:18.358Z"
   },
   {
    "duration": 5,
    "start_time": "2022-05-09T01:01:18.590Z"
   },
   {
    "duration": 7,
    "start_time": "2022-05-09T01:01:18.597Z"
   },
   {
    "duration": 37,
    "start_time": "2022-05-09T01:01:18.606Z"
   },
   {
    "duration": 10,
    "start_time": "2022-05-09T01:01:18.644Z"
   },
   {
    "duration": 18,
    "start_time": "2022-05-09T01:01:18.655Z"
   },
   {
    "duration": 316,
    "start_time": "2022-05-09T01:01:18.674Z"
   },
   {
    "duration": 177,
    "start_time": "2022-05-09T01:01:18.992Z"
   },
   {
    "duration": 189,
    "start_time": "2022-05-09T01:01:19.171Z"
   },
   {
    "duration": 172,
    "start_time": "2022-05-09T01:01:19.362Z"
   },
   {
    "duration": 187,
    "start_time": "2022-05-09T01:01:19.536Z"
   },
   {
    "duration": 157,
    "start_time": "2022-05-09T01:01:19.725Z"
   },
   {
    "duration": 167,
    "start_time": "2022-05-09T01:01:19.884Z"
   },
   {
    "duration": 143,
    "start_time": "2022-05-09T01:01:20.053Z"
   },
   {
    "duration": 6,
    "start_time": "2022-05-09T01:01:20.197Z"
   },
   {
    "duration": 27,
    "start_time": "2022-05-09T01:01:20.205Z"
   },
   {
    "duration": 15,
    "start_time": "2022-05-09T01:01:20.233Z"
   },
   {
    "duration": 16,
    "start_time": "2022-05-09T01:01:20.250Z"
   },
   {
    "duration": 55,
    "start_time": "2022-05-09T01:01:20.268Z"
   },
   {
    "duration": 318,
    "start_time": "2022-05-09T01:01:20.325Z"
   },
   {
    "duration": 331,
    "start_time": "2022-05-09T01:01:20.645Z"
   },
   {
    "duration": 24,
    "start_time": "2022-05-09T01:01:20.978Z"
   },
   {
    "duration": 231,
    "start_time": "2022-05-09T01:01:21.004Z"
   },
   {
    "duration": 5,
    "start_time": "2022-05-09T01:01:21.237Z"
   },
   {
    "duration": 138,
    "start_time": "2022-05-09T01:01:21.244Z"
   },
   {
    "duration": 6,
    "start_time": "2022-05-09T01:01:21.383Z"
   },
   {
    "duration": 36,
    "start_time": "2022-05-09T01:01:21.391Z"
   },
   {
    "duration": 151,
    "start_time": "2022-05-09T01:01:21.429Z"
   },
   {
    "duration": 154,
    "start_time": "2022-05-09T01:01:21.582Z"
   },
   {
    "duration": 148,
    "start_time": "2022-05-09T01:01:21.738Z"
   },
   {
    "duration": 138,
    "start_time": "2022-05-09T01:01:21.887Z"
   },
   {
    "duration": 151,
    "start_time": "2022-05-09T01:01:22.027Z"
   },
   {
    "duration": 6,
    "start_time": "2022-05-09T01:01:22.180Z"
   },
   {
    "duration": 178,
    "start_time": "2022-05-09T01:01:22.187Z"
   },
   {
    "duration": 139,
    "start_time": "2022-05-09T01:01:22.367Z"
   },
   {
    "duration": 333,
    "start_time": "2022-05-09T01:01:22.512Z"
   },
   {
    "duration": 19,
    "start_time": "2022-05-09T01:01:22.847Z"
   },
   {
    "duration": 169,
    "start_time": "2022-05-09T01:01:22.867Z"
   },
   {
    "duration": 7,
    "start_time": "2022-05-09T01:01:23.038Z"
   },
   {
    "duration": 178,
    "start_time": "2022-05-09T01:01:23.047Z"
   },
   {
    "duration": 131,
    "start_time": "2022-05-09T01:01:23.226Z"
   },
   {
    "duration": 19,
    "start_time": "2022-05-09T01:01:23.358Z"
   },
   {
    "duration": 168,
    "start_time": "2022-05-09T01:01:23.378Z"
   },
   {
    "duration": 5,
    "start_time": "2022-05-09T01:01:23.548Z"
   },
   {
    "duration": 194,
    "start_time": "2022-05-09T01:01:23.555Z"
   },
   {
    "duration": 138,
    "start_time": "2022-05-09T01:01:23.750Z"
   },
   {
    "duration": 17,
    "start_time": "2022-05-09T01:01:23.890Z"
   },
   {
    "duration": 155,
    "start_time": "2022-05-09T01:01:23.908Z"
   },
   {
    "duration": 5,
    "start_time": "2022-05-09T01:01:24.065Z"
   },
   {
    "duration": 33,
    "start_time": "2022-05-09T01:01:24.072Z"
   },
   {
    "duration": 28,
    "start_time": "2022-05-09T01:01:24.106Z"
   },
   {
    "duration": 1158,
    "start_time": "2022-05-09T01:07:08.738Z"
   },
   {
    "duration": 115,
    "start_time": "2022-05-09T01:07:09.898Z"
   },
   {
    "duration": 16,
    "start_time": "2022-05-09T01:07:10.015Z"
   },
   {
    "duration": 20,
    "start_time": "2022-05-09T01:07:10.033Z"
   },
   {
    "duration": 17,
    "start_time": "2022-05-09T01:07:10.055Z"
   },
   {
    "duration": 3,
    "start_time": "2022-05-09T01:07:10.074Z"
   },
   {
    "duration": 45,
    "start_time": "2022-05-09T01:07:10.079Z"
   },
   {
    "duration": 7,
    "start_time": "2022-05-09T01:07:10.125Z"
   },
   {
    "duration": 12,
    "start_time": "2022-05-09T01:07:10.134Z"
   },
   {
    "duration": 14,
    "start_time": "2022-05-09T01:07:10.149Z"
   },
   {
    "duration": 17,
    "start_time": "2022-05-09T01:07:10.165Z"
   },
   {
    "duration": 41,
    "start_time": "2022-05-09T01:07:10.183Z"
   },
   {
    "duration": 6,
    "start_time": "2022-05-09T01:07:10.226Z"
   },
   {
    "duration": 14,
    "start_time": "2022-05-09T01:07:10.234Z"
   },
   {
    "duration": 9,
    "start_time": "2022-05-09T01:07:10.250Z"
   },
   {
    "duration": 5,
    "start_time": "2022-05-09T01:07:10.261Z"
   },
   {
    "duration": 6,
    "start_time": "2022-05-09T01:07:10.267Z"
   },
   {
    "duration": 219,
    "start_time": "2022-05-09T01:07:10.274Z"
   },
   {
    "duration": 16,
    "start_time": "2022-05-09T01:07:10.495Z"
   },
   {
    "duration": 10,
    "start_time": "2022-05-09T01:07:10.523Z"
   },
   {
    "duration": 11,
    "start_time": "2022-05-09T01:07:10.535Z"
   },
   {
    "duration": 20,
    "start_time": "2022-05-09T01:07:10.548Z"
   },
   {
    "duration": 60,
    "start_time": "2022-05-09T01:07:10.570Z"
   },
   {
    "duration": 3,
    "start_time": "2022-05-09T01:07:10.632Z"
   },
   {
    "duration": 220,
    "start_time": "2022-05-09T01:07:10.637Z"
   },
   {
    "duration": 20,
    "start_time": "2022-05-09T01:07:10.858Z"
   },
   {
    "duration": 10,
    "start_time": "2022-05-09T01:07:10.880Z"
   },
   {
    "duration": 6,
    "start_time": "2022-05-09T01:07:10.894Z"
   },
   {
    "duration": 34,
    "start_time": "2022-05-09T01:07:10.901Z"
   },
   {
    "duration": 3,
    "start_time": "2022-05-09T01:07:10.937Z"
   },
   {
    "duration": 236,
    "start_time": "2022-05-09T01:07:10.942Z"
   },
   {
    "duration": 6,
    "start_time": "2022-05-09T01:07:11.180Z"
   },
   {
    "duration": 6,
    "start_time": "2022-05-09T01:07:11.187Z"
   },
   {
    "duration": 264,
    "start_time": "2022-05-09T01:07:11.194Z"
   },
   {
    "duration": 15,
    "start_time": "2022-05-09T01:07:11.460Z"
   },
   {
    "duration": 25,
    "start_time": "2022-05-09T01:07:11.477Z"
   },
   {
    "duration": 21,
    "start_time": "2022-05-09T01:07:11.504Z"
   },
   {
    "duration": 23,
    "start_time": "2022-05-09T01:07:11.527Z"
   },
   {
    "duration": 4,
    "start_time": "2022-05-09T01:07:11.552Z"
   },
   {
    "duration": 4,
    "start_time": "2022-05-09T01:07:11.558Z"
   },
   {
    "duration": 6,
    "start_time": "2022-05-09T01:07:11.564Z"
   },
   {
    "duration": 11,
    "start_time": "2022-05-09T01:07:11.572Z"
   },
   {
    "duration": 10,
    "start_time": "2022-05-09T01:07:11.585Z"
   },
   {
    "duration": 17,
    "start_time": "2022-05-09T01:07:11.623Z"
   },
   {
    "duration": 4,
    "start_time": "2022-05-09T01:07:11.642Z"
   },
   {
    "duration": 231,
    "start_time": "2022-05-09T01:07:11.649Z"
   },
   {
    "duration": 6,
    "start_time": "2022-05-09T01:07:11.882Z"
   },
   {
    "duration": 40,
    "start_time": "2022-05-09T01:07:11.890Z"
   },
   {
    "duration": 10,
    "start_time": "2022-05-09T01:07:11.932Z"
   },
   {
    "duration": 17,
    "start_time": "2022-05-09T01:07:11.944Z"
   },
   {
    "duration": 212,
    "start_time": "2022-05-09T01:07:11.963Z"
   },
   {
    "duration": 181,
    "start_time": "2022-05-09T01:07:12.177Z"
   },
   {
    "duration": 183,
    "start_time": "2022-05-09T01:07:12.360Z"
   },
   {
    "duration": 172,
    "start_time": "2022-05-09T01:07:12.546Z"
   },
   {
    "duration": 179,
    "start_time": "2022-05-09T01:07:12.723Z"
   },
   {
    "duration": 158,
    "start_time": "2022-05-09T01:07:12.905Z"
   },
   {
    "duration": 156,
    "start_time": "2022-05-09T01:07:13.065Z"
   },
   {
    "duration": 147,
    "start_time": "2022-05-09T01:07:13.223Z"
   },
   {
    "duration": 6,
    "start_time": "2022-05-09T01:07:13.372Z"
   },
   {
    "duration": 16,
    "start_time": "2022-05-09T01:07:13.380Z"
   },
   {
    "duration": 42,
    "start_time": "2022-05-09T01:07:13.398Z"
   },
   {
    "duration": 21,
    "start_time": "2022-05-09T01:07:13.442Z"
   },
   {
    "duration": 35,
    "start_time": "2022-05-09T01:07:13.465Z"
   },
   {
    "duration": 309,
    "start_time": "2022-05-09T01:07:13.502Z"
   },
   {
    "duration": 342,
    "start_time": "2022-05-09T01:07:13.813Z"
   },
   {
    "duration": 25,
    "start_time": "2022-05-09T01:07:14.157Z"
   },
   {
    "duration": 130,
    "start_time": "2022-05-09T01:07:14.184Z"
   },
   {
    "duration": 6,
    "start_time": "2022-05-09T01:07:14.323Z"
   },
   {
    "duration": 125,
    "start_time": "2022-05-09T01:07:14.331Z"
   },
   {
    "duration": 6,
    "start_time": "2022-05-09T01:07:14.457Z"
   },
   {
    "duration": 41,
    "start_time": "2022-05-09T01:07:14.465Z"
   },
   {
    "duration": 151,
    "start_time": "2022-05-09T01:07:14.508Z"
   },
   {
    "duration": 153,
    "start_time": "2022-05-09T01:07:14.661Z"
   },
   {
    "duration": 154,
    "start_time": "2022-05-09T01:07:14.816Z"
   },
   {
    "duration": 142,
    "start_time": "2022-05-09T01:07:14.972Z"
   },
   {
    "duration": 147,
    "start_time": "2022-05-09T01:07:15.122Z"
   },
   {
    "duration": 6,
    "start_time": "2022-05-09T01:07:15.271Z"
   },
   {
    "duration": 174,
    "start_time": "2022-05-09T01:07:15.279Z"
   },
   {
    "duration": 147,
    "start_time": "2022-05-09T01:07:15.455Z"
   },
   {
    "duration": 230,
    "start_time": "2022-05-09T01:07:15.604Z"
   },
   {
    "duration": 18,
    "start_time": "2022-05-09T01:07:15.836Z"
   },
   {
    "duration": 170,
    "start_time": "2022-05-09T01:07:15.860Z"
   },
   {
    "duration": 5,
    "start_time": "2022-05-09T01:07:16.032Z"
   },
   {
    "duration": 157,
    "start_time": "2022-05-09T01:07:16.039Z"
   },
   {
    "duration": 139,
    "start_time": "2022-05-09T01:07:16.198Z"
   },
   {
    "duration": 18,
    "start_time": "2022-05-09T01:07:16.339Z"
   },
   {
    "duration": 162,
    "start_time": "2022-05-09T01:07:16.359Z"
   },
   {
    "duration": 6,
    "start_time": "2022-05-09T01:07:16.523Z"
   },
   {
    "duration": 149,
    "start_time": "2022-05-09T01:07:16.531Z"
   },
   {
    "duration": 135,
    "start_time": "2022-05-09T01:07:16.682Z"
   },
   {
    "duration": 19,
    "start_time": "2022-05-09T01:07:16.819Z"
   },
   {
    "duration": 151,
    "start_time": "2022-05-09T01:07:16.839Z"
   },
   {
    "duration": 6,
    "start_time": "2022-05-09T01:07:16.991Z"
   },
   {
    "duration": 30,
    "start_time": "2022-05-09T01:07:16.999Z"
   },
   {
    "duration": 17,
    "start_time": "2022-05-09T01:07:17.030Z"
   },
   {
    "duration": 150,
    "start_time": "2022-05-09T06:04:00.989Z"
   },
   {
    "duration": 101,
    "start_time": "2022-05-09T06:15:52.193Z"
   },
   {
    "duration": 72,
    "start_time": "2022-05-09T19:49:49.225Z"
   },
   {
    "duration": 1649,
    "start_time": "2022-05-09T19:49:57.772Z"
   },
   {
    "duration": 124,
    "start_time": "2022-05-09T19:49:59.424Z"
   },
   {
    "duration": 22,
    "start_time": "2022-05-09T19:49:59.550Z"
   },
   {
    "duration": 50,
    "start_time": "2022-05-09T19:49:59.575Z"
   },
   {
    "duration": 23,
    "start_time": "2022-05-09T19:49:59.627Z"
   },
   {
    "duration": 5,
    "start_time": "2022-05-09T19:49:59.652Z"
   },
   {
    "duration": 25,
    "start_time": "2022-05-09T19:49:59.659Z"
   },
   {
    "duration": 41,
    "start_time": "2022-05-09T19:49:59.687Z"
   },
   {
    "duration": 15,
    "start_time": "2022-05-09T19:49:59.730Z"
   },
   {
    "duration": 19,
    "start_time": "2022-05-09T19:49:59.750Z"
   },
   {
    "duration": 58,
    "start_time": "2022-05-09T19:49:59.772Z"
   },
   {
    "duration": 14,
    "start_time": "2022-05-09T19:49:59.833Z"
   },
   {
    "duration": 7,
    "start_time": "2022-05-09T19:49:59.850Z"
   },
   {
    "duration": 19,
    "start_time": "2022-05-09T19:49:59.859Z"
   },
   {
    "duration": 54,
    "start_time": "2022-05-09T19:49:59.881Z"
   },
   {
    "duration": 9,
    "start_time": "2022-05-09T19:49:59.937Z"
   },
   {
    "duration": 5,
    "start_time": "2022-05-09T19:49:59.948Z"
   },
   {
    "duration": 336,
    "start_time": "2022-05-09T19:49:59.955Z"
   },
   {
    "duration": 31,
    "start_time": "2022-05-09T19:50:00.294Z"
   },
   {
    "duration": 14,
    "start_time": "2022-05-09T19:50:00.328Z"
   },
   {
    "duration": 18,
    "start_time": "2022-05-09T19:50:00.345Z"
   },
   {
    "duration": 9,
    "start_time": "2022-05-09T19:50:00.366Z"
   },
   {
    "duration": 7,
    "start_time": "2022-05-09T19:50:00.377Z"
   },
   {
    "duration": 420,
    "start_time": "2022-05-09T19:50:00.425Z"
   },
   {
    "duration": 23,
    "start_time": "2022-05-09T19:50:00.847Z"
   },
   {
    "duration": 54,
    "start_time": "2022-05-09T19:50:00.873Z"
   },
   {
    "duration": 8,
    "start_time": "2022-05-09T19:50:00.929Z"
   },
   {
    "duration": 40,
    "start_time": "2022-05-09T19:50:00.941Z"
   },
   {
    "duration": 6,
    "start_time": "2022-05-09T19:50:00.983Z"
   },
   {
    "duration": 6,
    "start_time": "2022-05-09T19:50:00.991Z"
   },
   {
    "duration": 4,
    "start_time": "2022-05-09T19:50:01.025Z"
   },
   {
    "duration": 42,
    "start_time": "2022-05-09T19:50:01.032Z"
   },
   {
    "duration": 17,
    "start_time": "2022-05-09T19:50:01.076Z"
   },
   {
    "duration": 34,
    "start_time": "2022-05-09T19:50:01.096Z"
   },
   {
    "duration": 6,
    "start_time": "2022-05-09T19:50:01.133Z"
   },
   {
    "duration": 358,
    "start_time": "2022-05-09T19:50:01.141Z"
   },
   {
    "duration": 8,
    "start_time": "2022-05-09T19:50:01.501Z"
   },
   {
    "duration": 528,
    "start_time": "2022-05-09T19:50:01.525Z"
   },
   {
    "duration": 6,
    "start_time": "2022-05-09T19:50:02.056Z"
   },
   {
    "duration": 504,
    "start_time": "2022-05-09T19:50:36.708Z"
   },
   {
    "duration": 9,
    "start_time": "2022-05-09T19:52:09.336Z"
   },
   {
    "duration": 4,
    "start_time": "2022-05-09T19:52:37.180Z"
   },
   {
    "duration": 56,
    "start_time": "2022-05-09T19:52:37.187Z"
   },
   {
    "duration": 19,
    "start_time": "2022-05-09T19:52:37.246Z"
   },
   {
    "duration": 21,
    "start_time": "2022-05-09T19:52:37.268Z"
   },
   {
    "duration": 47,
    "start_time": "2022-05-09T19:52:37.293Z"
   },
   {
    "duration": 4,
    "start_time": "2022-05-09T19:52:37.343Z"
   },
   {
    "duration": 35,
    "start_time": "2022-05-09T19:52:37.349Z"
   },
   {
    "duration": 10,
    "start_time": "2022-05-09T19:52:37.386Z"
   },
   {
    "duration": 52,
    "start_time": "2022-05-09T19:52:37.398Z"
   },
   {
    "duration": 34,
    "start_time": "2022-05-09T19:52:37.453Z"
   },
   {
    "duration": 50,
    "start_time": "2022-05-09T19:52:37.493Z"
   },
   {
    "duration": 17,
    "start_time": "2022-05-09T19:52:37.545Z"
   },
   {
    "duration": 6,
    "start_time": "2022-05-09T19:52:37.565Z"
   },
   {
    "duration": 56,
    "start_time": "2022-05-09T19:52:37.573Z"
   },
   {
    "duration": 13,
    "start_time": "2022-05-09T19:52:37.631Z"
   },
   {
    "duration": 10,
    "start_time": "2022-05-09T19:52:37.647Z"
   },
   {
    "duration": 5,
    "start_time": "2022-05-09T19:52:37.659Z"
   },
   {
    "duration": 336,
    "start_time": "2022-05-09T19:52:37.667Z"
   },
   {
    "duration": 26,
    "start_time": "2022-05-09T19:52:38.006Z"
   },
   {
    "duration": 15,
    "start_time": "2022-05-09T19:52:38.035Z"
   },
   {
    "duration": 17,
    "start_time": "2022-05-09T19:52:38.053Z"
   },
   {
    "duration": 8,
    "start_time": "2022-05-09T19:52:38.074Z"
   },
   {
    "duration": 6,
    "start_time": "2022-05-09T19:52:38.124Z"
   },
   {
    "duration": 422,
    "start_time": "2022-05-09T19:52:38.133Z"
   },
   {
    "duration": 23,
    "start_time": "2022-05-09T19:52:38.557Z"
   },
   {
    "duration": 51,
    "start_time": "2022-05-09T19:52:38.582Z"
   },
   {
    "duration": 6,
    "start_time": "2022-05-09T19:52:38.635Z"
   },
   {
    "duration": 31,
    "start_time": "2022-05-09T19:52:38.643Z"
   },
   {
    "duration": 7,
    "start_time": "2022-05-09T19:52:38.679Z"
   },
   {
    "duration": 37,
    "start_time": "2022-05-09T19:52:38.688Z"
   },
   {
    "duration": 11,
    "start_time": "2022-05-09T19:52:38.727Z"
   },
   {
    "duration": 23,
    "start_time": "2022-05-09T19:52:38.740Z"
   },
   {
    "duration": 12,
    "start_time": "2022-05-09T19:52:38.766Z"
   },
   {
    "duration": 58,
    "start_time": "2022-05-09T19:52:38.780Z"
   },
   {
    "duration": 4,
    "start_time": "2022-05-09T19:52:38.840Z"
   },
   {
    "duration": 359,
    "start_time": "2022-05-09T19:52:38.846Z"
   },
   {
    "duration": 16,
    "start_time": "2022-05-09T19:52:39.208Z"
   },
   {
    "duration": 841,
    "start_time": "2022-05-09T19:52:39.227Z"
   },
   {
    "duration": 24,
    "start_time": "2022-05-09T19:52:40.071Z"
   },
   {
    "duration": 303,
    "start_time": "2022-05-09T19:52:40.097Z"
   },
   {
    "duration": 287,
    "start_time": "2022-05-09T19:52:40.403Z"
   },
   {
    "duration": 293,
    "start_time": "2022-05-09T19:52:40.692Z"
   },
   {
    "duration": 274,
    "start_time": "2022-05-09T19:52:40.987Z"
   },
   {
    "duration": 364,
    "start_time": "2022-05-09T19:52:41.263Z"
   },
   {
    "duration": 245,
    "start_time": "2022-05-09T19:52:41.629Z"
   },
   {
    "duration": 251,
    "start_time": "2022-05-09T19:52:41.876Z"
   },
   {
    "duration": 235,
    "start_time": "2022-05-09T19:52:42.130Z"
   },
   {
    "duration": 8,
    "start_time": "2022-05-09T19:52:42.369Z"
   },
   {
    "duration": 18,
    "start_time": "2022-05-09T19:52:52.237Z"
   },
   {
    "duration": 23,
    "start_time": "2022-05-09T19:52:57.971Z"
   },
   {
    "duration": 23,
    "start_time": "2022-05-09T19:53:04.382Z"
   },
   {
    "duration": 41,
    "start_time": "2022-05-09T19:53:11.339Z"
   },
   {
    "duration": 465,
    "start_time": "2022-05-09T19:53:17.892Z"
   },
   {
    "duration": 389,
    "start_time": "2022-05-09T19:55:50.727Z"
   },
   {
    "duration": 38,
    "start_time": "2022-05-09T19:57:00.421Z"
   },
   {
    "duration": 195,
    "start_time": "2022-05-09T19:57:30.570Z"
   },
   {
    "duration": 7,
    "start_time": "2022-05-09T19:57:34.096Z"
   },
   {
    "duration": 179,
    "start_time": "2022-05-09T19:57:38.663Z"
   },
   {
    "duration": 7,
    "start_time": "2022-05-09T19:57:42.193Z"
   },
   {
    "duration": 24,
    "start_time": "2022-05-09T19:58:47.989Z"
   },
   {
    "duration": 245,
    "start_time": "2022-05-09T19:59:38.117Z"
   },
   {
    "duration": 284,
    "start_time": "2022-05-09T19:59:44.299Z"
   },
   {
    "duration": 337,
    "start_time": "2022-05-09T20:00:12.957Z"
   },
   {
    "duration": 226,
    "start_time": "2022-05-09T20:02:36.363Z"
   },
   {
    "duration": 250,
    "start_time": "2022-05-09T20:03:07.723Z"
   },
   {
    "duration": 9,
    "start_time": "2022-05-09T20:04:10.766Z"
   },
   {
    "duration": 262,
    "start_time": "2022-05-09T20:04:14.256Z"
   },
   {
    "duration": 202,
    "start_time": "2022-05-09T20:04:39.855Z"
   },
   {
    "duration": 197,
    "start_time": "2022-05-09T20:04:55.936Z"
   },
   {
    "duration": 26,
    "start_time": "2022-05-09T20:05:22.940Z"
   },
   {
    "duration": 225,
    "start_time": "2022-05-09T20:05:26.614Z"
   },
   {
    "duration": 8,
    "start_time": "2022-05-09T20:05:44.072Z"
   },
   {
    "duration": 284,
    "start_time": "2022-05-09T20:05:49.612Z"
   },
   {
    "duration": 232,
    "start_time": "2022-05-09T20:05:54.363Z"
   },
   {
    "duration": 34,
    "start_time": "2022-05-09T20:06:11.984Z"
   },
   {
    "duration": 212,
    "start_time": "2022-05-09T20:06:15.004Z"
   },
   {
    "duration": 7,
    "start_time": "2022-05-09T20:06:17.781Z"
   },
   {
    "duration": 234,
    "start_time": "2022-05-09T20:06:21.457Z"
   },
   {
    "duration": 208,
    "start_time": "2022-05-09T20:06:25.268Z"
   },
   {
    "duration": 27,
    "start_time": "2022-05-09T20:06:41.256Z"
   },
   {
    "duration": 213,
    "start_time": "2022-05-09T20:06:49.448Z"
   },
   {
    "duration": 7,
    "start_time": "2022-05-09T20:06:52.372Z"
   },
   {
    "duration": 1703,
    "start_time": "2022-05-09T20:08:51.484Z"
   },
   {
    "duration": 9,
    "start_time": "2022-05-09T20:08:56.319Z"
   },
   {
    "duration": 1485,
    "start_time": "2022-05-09T20:13:17.284Z"
   },
   {
    "duration": 113,
    "start_time": "2022-05-09T20:13:18.771Z"
   },
   {
    "duration": 22,
    "start_time": "2022-05-09T20:13:18.887Z"
   },
   {
    "duration": 26,
    "start_time": "2022-05-09T20:13:18.926Z"
   },
   {
    "duration": 32,
    "start_time": "2022-05-09T20:13:18.954Z"
   },
   {
    "duration": 39,
    "start_time": "2022-05-09T20:13:18.989Z"
   },
   {
    "duration": 40,
    "start_time": "2022-05-09T20:13:19.031Z"
   },
   {
    "duration": 13,
    "start_time": "2022-05-09T20:13:19.074Z"
   },
   {
    "duration": 48,
    "start_time": "2022-05-09T20:13:19.090Z"
   },
   {
    "duration": 27,
    "start_time": "2022-05-09T20:13:19.144Z"
   },
   {
    "duration": 57,
    "start_time": "2022-05-09T20:13:19.174Z"
   },
   {
    "duration": 13,
    "start_time": "2022-05-09T20:13:19.233Z"
   },
   {
    "duration": 11,
    "start_time": "2022-05-09T20:13:19.249Z"
   },
   {
    "duration": 20,
    "start_time": "2022-05-09T20:13:19.262Z"
   },
   {
    "duration": 51,
    "start_time": "2022-05-09T20:13:19.284Z"
   },
   {
    "duration": 11,
    "start_time": "2022-05-09T20:13:19.337Z"
   },
   {
    "duration": 6,
    "start_time": "2022-05-09T20:13:19.350Z"
   },
   {
    "duration": 332,
    "start_time": "2022-05-09T20:13:19.359Z"
   },
   {
    "duration": 31,
    "start_time": "2022-05-09T20:13:19.693Z"
   },
   {
    "duration": 14,
    "start_time": "2022-05-09T20:13:19.726Z"
   },
   {
    "duration": 19,
    "start_time": "2022-05-09T20:13:19.743Z"
   },
   {
    "duration": 8,
    "start_time": "2022-05-09T20:13:19.765Z"
   },
   {
    "duration": 50,
    "start_time": "2022-05-09T20:13:19.775Z"
   },
   {
    "duration": 708,
    "start_time": "2022-05-09T20:13:19.827Z"
   },
   {
    "duration": 33,
    "start_time": "2022-05-09T20:13:20.538Z"
   },
   {
    "duration": 50,
    "start_time": "2022-05-09T20:13:20.574Z"
   },
   {
    "duration": 8,
    "start_time": "2022-05-09T20:13:20.627Z"
   },
   {
    "duration": 43,
    "start_time": "2022-05-09T20:13:20.647Z"
   },
   {
    "duration": 34,
    "start_time": "2022-05-09T20:13:20.693Z"
   },
   {
    "duration": 5,
    "start_time": "2022-05-09T20:13:20.730Z"
   },
   {
    "duration": 13,
    "start_time": "2022-05-09T20:13:20.738Z"
   },
   {
    "duration": 25,
    "start_time": "2022-05-09T20:13:20.753Z"
   },
   {
    "duration": 11,
    "start_time": "2022-05-09T20:13:20.781Z"
   },
   {
    "duration": 20,
    "start_time": "2022-05-09T20:13:20.826Z"
   },
   {
    "duration": 4,
    "start_time": "2022-05-09T20:13:20.849Z"
   },
   {
    "duration": 376,
    "start_time": "2022-05-09T20:13:20.856Z"
   },
   {
    "duration": 7,
    "start_time": "2022-05-09T20:13:21.234Z"
   },
   {
    "duration": 560,
    "start_time": "2022-05-09T20:13:21.244Z"
   },
   {
    "duration": 28,
    "start_time": "2022-05-09T20:13:21.807Z"
   },
   {
    "duration": 295,
    "start_time": "2022-05-09T20:13:21.837Z"
   },
   {
    "duration": 294,
    "start_time": "2022-05-09T20:13:22.135Z"
   },
   {
    "duration": 292,
    "start_time": "2022-05-09T20:13:22.432Z"
   },
   {
    "duration": 270,
    "start_time": "2022-05-09T20:13:22.727Z"
   },
   {
    "duration": 291,
    "start_time": "2022-05-09T20:13:23.000Z"
   },
   {
    "duration": 261,
    "start_time": "2022-05-09T20:13:23.293Z"
   },
   {
    "duration": 262,
    "start_time": "2022-05-09T20:13:23.556Z"
   },
   {
    "duration": 233,
    "start_time": "2022-05-09T20:13:23.820Z"
   },
   {
    "duration": 8,
    "start_time": "2022-05-09T20:13:24.055Z"
   },
   {
    "duration": 25,
    "start_time": "2022-05-09T20:13:24.065Z"
   },
   {
    "duration": 45,
    "start_time": "2022-05-09T20:13:24.092Z"
   },
   {
    "duration": 22,
    "start_time": "2022-05-09T20:13:24.139Z"
   },
   {
    "duration": 154,
    "start_time": "2022-05-09T20:13:24.163Z"
   },
   {
    "duration": 476,
    "start_time": "2022-05-09T20:13:24.325Z"
   },
   {
    "duration": 382,
    "start_time": "2022-05-09T20:13:24.804Z"
   },
   {
    "duration": 47,
    "start_time": "2022-05-09T20:13:25.188Z"
   },
   {
    "duration": 200,
    "start_time": "2022-05-09T20:13:25.237Z"
   },
   {
    "duration": 9,
    "start_time": "2022-05-09T20:13:25.440Z"
   },
   {
    "duration": 213,
    "start_time": "2022-05-09T20:13:25.452Z"
   },
   {
    "duration": 8,
    "start_time": "2022-05-09T20:13:25.669Z"
   },
   {
    "duration": 54,
    "start_time": "2022-05-09T20:13:25.680Z"
   },
   {
    "duration": 252,
    "start_time": "2022-05-09T20:13:25.738Z"
   },
   {
    "duration": 241,
    "start_time": "2022-05-09T20:13:25.993Z"
   },
   {
    "duration": 249,
    "start_time": "2022-05-09T20:13:26.237Z"
   },
   {
    "duration": 228,
    "start_time": "2022-05-09T20:13:26.488Z"
   },
   {
    "duration": 255,
    "start_time": "2022-05-09T20:13:26.724Z"
   },
   {
    "duration": 8,
    "start_time": "2022-05-09T20:13:26.981Z"
   },
   {
    "duration": 283,
    "start_time": "2022-05-09T20:13:26.992Z"
   },
   {
    "duration": 347,
    "start_time": "2022-05-09T20:13:27.278Z"
   },
   {
    "duration": 216,
    "start_time": "2022-05-09T20:13:27.628Z"
   },
   {
    "duration": 26,
    "start_time": "2022-05-09T20:13:27.847Z"
   },
   {
    "duration": 251,
    "start_time": "2022-05-09T20:13:27.876Z"
   },
   {
    "duration": 7,
    "start_time": "2022-05-09T20:13:28.130Z"
   },
   {
    "duration": 253,
    "start_time": "2022-05-09T20:13:28.139Z"
   },
   {
    "duration": 243,
    "start_time": "2022-05-09T20:13:28.394Z"
   },
   {
    "duration": 25,
    "start_time": "2022-05-09T20:13:28.639Z"
   },
   {
    "duration": 369,
    "start_time": "2022-05-09T20:13:28.667Z"
   },
   {
    "duration": 9,
    "start_time": "2022-05-09T20:13:29.039Z"
   },
   {
    "duration": 397,
    "start_time": "2022-05-09T20:13:29.051Z"
   },
   {
    "duration": 350,
    "start_time": "2022-05-09T20:13:29.451Z"
   },
   {
    "duration": 41,
    "start_time": "2022-05-09T20:13:29.803Z"
   },
   {
    "duration": 354,
    "start_time": "2022-05-09T20:13:29.847Z"
   },
   {
    "duration": 9,
    "start_time": "2022-05-09T20:13:30.224Z"
   },
   {
    "duration": 31,
    "start_time": "2022-05-09T20:13:30.236Z"
   },
   {
    "duration": 57,
    "start_time": "2022-05-09T20:13:30.270Z"
   },
   {
    "duration": 557,
    "start_time": "2022-05-09T20:14:35.040Z"
   },
   {
    "duration": 1474,
    "start_time": "2022-05-09T20:16:43.037Z"
   },
   {
    "duration": 152,
    "start_time": "2022-05-09T20:16:44.514Z"
   },
   {
    "duration": 24,
    "start_time": "2022-05-09T20:16:44.668Z"
   },
   {
    "duration": 53,
    "start_time": "2022-05-09T20:16:44.696Z"
   },
   {
    "duration": 26,
    "start_time": "2022-05-09T20:16:44.752Z"
   },
   {
    "duration": 6,
    "start_time": "2022-05-09T20:16:44.781Z"
   },
   {
    "duration": 29,
    "start_time": "2022-05-09T20:16:44.825Z"
   },
   {
    "duration": 8,
    "start_time": "2022-05-09T20:16:44.856Z"
   },
   {
    "duration": 21,
    "start_time": "2022-05-09T20:16:44.867Z"
   },
   {
    "duration": 55,
    "start_time": "2022-05-09T20:16:44.892Z"
   },
   {
    "duration": 24,
    "start_time": "2022-05-09T20:16:44.949Z"
   },
   {
    "duration": 17,
    "start_time": "2022-05-09T20:16:44.975Z"
   },
   {
    "duration": 37,
    "start_time": "2022-05-09T20:16:44.994Z"
   },
   {
    "duration": 27,
    "start_time": "2022-05-09T20:16:45.039Z"
   },
   {
    "duration": 13,
    "start_time": "2022-05-09T20:16:45.069Z"
   },
   {
    "duration": 13,
    "start_time": "2022-05-09T20:16:45.084Z"
   },
   {
    "duration": 27,
    "start_time": "2022-05-09T20:16:45.100Z"
   },
   {
    "duration": 344,
    "start_time": "2022-05-09T20:16:45.131Z"
   },
   {
    "duration": 19,
    "start_time": "2022-05-09T20:16:45.477Z"
   },
   {
    "duration": 42,
    "start_time": "2022-05-09T20:16:45.498Z"
   },
   {
    "duration": 22,
    "start_time": "2022-05-09T20:16:45.543Z"
   },
   {
    "duration": 7,
    "start_time": "2022-05-09T20:16:45.568Z"
   },
   {
    "duration": 15,
    "start_time": "2022-05-09T20:16:45.577Z"
   },
   {
    "duration": 448,
    "start_time": "2022-05-09T20:16:45.595Z"
   },
   {
    "duration": 23,
    "start_time": "2022-05-09T20:16:46.046Z"
   },
   {
    "duration": 34,
    "start_time": "2022-05-09T20:16:46.072Z"
   },
   {
    "duration": 11,
    "start_time": "2022-05-09T20:16:46.125Z"
   },
   {
    "duration": 34,
    "start_time": "2022-05-09T20:16:46.148Z"
   },
   {
    "duration": 7,
    "start_time": "2022-05-09T20:16:46.184Z"
   },
   {
    "duration": 32,
    "start_time": "2022-05-09T20:16:46.193Z"
   },
   {
    "duration": 15,
    "start_time": "2022-05-09T20:16:46.228Z"
   },
   {
    "duration": 20,
    "start_time": "2022-05-09T20:16:46.245Z"
   },
   {
    "duration": 10,
    "start_time": "2022-05-09T20:16:46.267Z"
   },
   {
    "duration": 53,
    "start_time": "2022-05-09T20:16:46.279Z"
   },
   {
    "duration": 6,
    "start_time": "2022-05-09T20:16:46.337Z"
   },
   {
    "duration": 385,
    "start_time": "2022-05-09T20:16:46.346Z"
   },
   {
    "duration": 9,
    "start_time": "2022-05-09T20:16:46.735Z"
   },
   {
    "duration": 705,
    "start_time": "2022-05-09T20:16:46.747Z"
   },
   {
    "duration": 23,
    "start_time": "2022-05-09T20:16:47.454Z"
   },
   {
    "duration": 324,
    "start_time": "2022-05-09T20:16:47.479Z"
   },
   {
    "duration": 301,
    "start_time": "2022-05-09T20:16:47.805Z"
   },
   {
    "duration": 298,
    "start_time": "2022-05-09T20:16:48.108Z"
   },
   {
    "duration": 270,
    "start_time": "2022-05-09T20:16:48.408Z"
   },
   {
    "duration": 295,
    "start_time": "2022-05-09T20:16:48.680Z"
   },
   {
    "duration": 261,
    "start_time": "2022-05-09T20:16:48.978Z"
   },
   {
    "duration": 251,
    "start_time": "2022-05-09T20:16:49.241Z"
   },
   {
    "duration": 237,
    "start_time": "2022-05-09T20:16:49.494Z"
   },
   {
    "duration": 9,
    "start_time": "2022-05-09T20:16:49.735Z"
   },
   {
    "duration": 16,
    "start_time": "2022-05-09T20:16:49.747Z"
   },
   {
    "duration": 22,
    "start_time": "2022-05-09T20:16:49.766Z"
   },
   {
    "duration": 59,
    "start_time": "2022-05-09T20:16:49.791Z"
   },
   {
    "duration": 137,
    "start_time": "2022-05-09T20:16:49.852Z"
   },
   {
    "duration": 610,
    "start_time": "2022-05-09T20:16:49.991Z"
   },
   {
    "duration": 508,
    "start_time": "2022-05-09T20:16:50.604Z"
   },
   {
    "duration": 48,
    "start_time": "2022-05-09T20:16:51.114Z"
   },
   {
    "duration": 225,
    "start_time": "2022-05-09T20:16:51.165Z"
   },
   {
    "duration": 7,
    "start_time": "2022-05-09T20:16:51.392Z"
   },
   {
    "duration": 207,
    "start_time": "2022-05-09T20:16:51.401Z"
   },
   {
    "duration": 16,
    "start_time": "2022-05-09T20:16:51.610Z"
   },
   {
    "duration": 27,
    "start_time": "2022-05-09T20:16:51.630Z"
   },
   {
    "duration": 279,
    "start_time": "2022-05-09T20:16:51.659Z"
   },
   {
    "duration": 257,
    "start_time": "2022-05-09T20:16:51.940Z"
   },
   {
    "duration": 258,
    "start_time": "2022-05-09T20:16:52.200Z"
   },
   {
    "duration": 249,
    "start_time": "2022-05-09T20:16:52.461Z"
   },
   {
    "duration": 245,
    "start_time": "2022-05-09T20:16:52.713Z"
   },
   {
    "duration": 7,
    "start_time": "2022-05-09T20:16:52.960Z"
   },
   {
    "duration": 301,
    "start_time": "2022-05-09T20:16:52.969Z"
   },
   {
    "duration": 346,
    "start_time": "2022-05-09T20:16:53.272Z"
   },
   {
    "duration": 234,
    "start_time": "2022-05-09T20:16:53.620Z"
   },
   {
    "duration": 25,
    "start_time": "2022-05-09T20:16:53.856Z"
   },
   {
    "duration": 260,
    "start_time": "2022-05-09T20:16:53.883Z"
   },
   {
    "duration": 7,
    "start_time": "2022-05-09T20:16:54.145Z"
   },
   {
    "duration": 256,
    "start_time": "2022-05-09T20:16:54.154Z"
   },
   {
    "duration": 251,
    "start_time": "2022-05-09T20:16:54.413Z"
   },
   {
    "duration": 26,
    "start_time": "2022-05-09T20:16:54.666Z"
   },
   {
    "duration": 258,
    "start_time": "2022-05-09T20:16:54.695Z"
   },
   {
    "duration": 8,
    "start_time": "2022-05-09T20:16:54.956Z"
   },
   {
    "duration": 271,
    "start_time": "2022-05-09T20:16:54.966Z"
   },
   {
    "duration": 232,
    "start_time": "2022-05-09T20:16:55.240Z"
   },
   {
    "duration": 27,
    "start_time": "2022-05-09T20:16:55.474Z"
   },
   {
    "duration": 257,
    "start_time": "2022-05-09T20:16:55.504Z"
   },
   {
    "duration": 8,
    "start_time": "2022-05-09T20:16:55.770Z"
   },
   {
    "duration": 21,
    "start_time": "2022-05-09T20:16:55.781Z"
   },
   {
    "duration": 24,
    "start_time": "2022-05-09T20:16:55.827Z"
   }
  ],
  "kernelspec": {
   "display_name": "Python 3 (ipykernel)",
   "language": "python",
   "name": "python3"
  },
  "language_info": {
   "codemirror_mode": {
    "name": "ipython",
    "version": 3
   },
   "file_extension": ".py",
   "mimetype": "text/x-python",
   "name": "python",
   "nbconvert_exporter": "python",
   "pygments_lexer": "ipython3",
   "version": "3.9.5"
  },
  "toc": {
   "base_numbering": 1,
   "nav_menu": {},
   "number_sections": true,
   "sideBar": true,
   "skip_h1_title": true,
   "title_cell": "Table of Contents",
   "title_sidebar": "Contents",
   "toc_cell": false,
   "toc_position": {},
   "toc_section_display": true,
   "toc_window_display": false
  }
 },
 "nbformat": 4,
 "nbformat_minor": 2
}
