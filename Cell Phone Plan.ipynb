{
 "cells": [
  {
   "cell_type": "markdown",
   "metadata": {},
   "source": [
    "# Which one is a better plan?\n",
    "\n",
    "This report will analyze the clients' behavior and determine which prepaid plan brings in more revenue. The data I have available is on 500 Megaline clients: who the clients are, where they're from, which plan they use, and the number of calls they made and text messages they sent in 2018. "
   ]
  },
  {
   "cell_type": "markdown",
   "metadata": {},
   "source": [
    "## Initialization"
   ]
  },
  {
   "cell_type": "code",
   "execution_count": 1,
   "metadata": {},
   "outputs": [],
   "source": [
    "# Loading all the libraries\n",
    "import pandas as pd \n",
    "import numpy as np\n",
    "import seaborn as sns\n",
    "import math as math\n",
    "from scipy import stats as stats\n",
    "from matplotlib import pyplot as plt\n",
    "from math import factorial\n",
    "\n"
   ]
  },
  {
   "cell_type": "markdown",
   "metadata": {},
   "source": [
    "## Load data"
   ]
  },
  {
   "cell_type": "code",
   "execution_count": 2,
   "metadata": {},
   "outputs": [],
   "source": [
    "# Load the data files into different DataFrames\n",
    "users = pd.read_csv('/datasets/megaline_users.csv')\n",
    "calls = pd.read_csv('/datasets/megaline_calls.csv')\n",
    "internet = pd.read_csv('/datasets/megaline_internet.csv')\n",
    "messages = pd.read_csv('/datasets/megaline_messages.csv')\n",
    "plans = pd.read_csv('/datasets/megaline_plans.csv')\n",
    "\n",
    "\n"
   ]
  },
  {
   "cell_type": "markdown",
   "metadata": {},
   "source": [
    "## Prepare the data"
   ]
  },
  {
   "cell_type": "markdown",
   "metadata": {},
   "source": [
    "As there are several datasets that hold different information pertaining to the users, I will go through them one by one to become more familiar with the data and also do the pre-processing if needed."
   ]
  },
  {
   "cell_type": "markdown",
   "metadata": {},
   "source": [
    "## Plans"
   ]
  },
  {
   "cell_type": "code",
   "execution_count": 3,
   "metadata": {},
   "outputs": [
    {
     "name": "stdout",
     "output_type": "stream",
     "text": [
      "<class 'pandas.core.frame.DataFrame'>\n",
      "RangeIndex: 2 entries, 0 to 1\n",
      "Data columns (total 8 columns):\n",
      " #   Column                 Non-Null Count  Dtype  \n",
      "---  ------                 --------------  -----  \n",
      " 0   messages_included      2 non-null      int64  \n",
      " 1   mb_per_month_included  2 non-null      int64  \n",
      " 2   minutes_included       2 non-null      int64  \n",
      " 3   usd_monthly_pay        2 non-null      int64  \n",
      " 4   usd_per_gb             2 non-null      int64  \n",
      " 5   usd_per_message        2 non-null      float64\n",
      " 6   usd_per_minute         2 non-null      float64\n",
      " 7   plan_name              2 non-null      object \n",
      "dtypes: float64(2), int64(5), object(1)\n",
      "memory usage: 256.0+ bytes\n",
      "None\n"
     ]
    }
   ],
   "source": [
    "# Printing the general/summary information about the plans' DataFrame\n",
    "print(plans.info())\n",
    "\n"
   ]
  },
  {
   "cell_type": "code",
   "execution_count": 4,
   "metadata": {},
   "outputs": [
    {
     "data": {
      "text/html": [
       "<div>\n",
       "<style scoped>\n",
       "    .dataframe tbody tr th:only-of-type {\n",
       "        vertical-align: middle;\n",
       "    }\n",
       "\n",
       "    .dataframe tbody tr th {\n",
       "        vertical-align: top;\n",
       "    }\n",
       "\n",
       "    .dataframe thead th {\n",
       "        text-align: right;\n",
       "    }\n",
       "</style>\n",
       "<table border=\"1\" class=\"dataframe\">\n",
       "  <thead>\n",
       "    <tr style=\"text-align: right;\">\n",
       "      <th></th>\n",
       "      <th>messages_included</th>\n",
       "      <th>mb_per_month_included</th>\n",
       "      <th>minutes_included</th>\n",
       "      <th>usd_monthly_pay</th>\n",
       "      <th>usd_per_gb</th>\n",
       "      <th>usd_per_message</th>\n",
       "      <th>usd_per_minute</th>\n",
       "      <th>plan_name</th>\n",
       "    </tr>\n",
       "  </thead>\n",
       "  <tbody>\n",
       "    <tr>\n",
       "      <th>0</th>\n",
       "      <td>50</td>\n",
       "      <td>15360</td>\n",
       "      <td>500</td>\n",
       "      <td>20</td>\n",
       "      <td>10</td>\n",
       "      <td>0.03</td>\n",
       "      <td>0.03</td>\n",
       "      <td>surf</td>\n",
       "    </tr>\n",
       "    <tr>\n",
       "      <th>1</th>\n",
       "      <td>1000</td>\n",
       "      <td>30720</td>\n",
       "      <td>3000</td>\n",
       "      <td>70</td>\n",
       "      <td>7</td>\n",
       "      <td>0.01</td>\n",
       "      <td>0.01</td>\n",
       "      <td>ultimate</td>\n",
       "    </tr>\n",
       "  </tbody>\n",
       "</table>\n",
       "</div>"
      ],
      "text/plain": [
       "   messages_included  mb_per_month_included  minutes_included  \\\n",
       "0                 50                  15360               500   \n",
       "1               1000                  30720              3000   \n",
       "\n",
       "   usd_monthly_pay  usd_per_gb  usd_per_message  usd_per_minute plan_name  \n",
       "0               20          10             0.03            0.03      surf  \n",
       "1               70           7             0.01            0.01  ultimate  "
      ]
     },
     "execution_count": 4,
     "metadata": {},
     "output_type": "execute_result"
    }
   ],
   "source": [
    "# Printing a sample of data for plans\n",
    "plans.head()"
   ]
  },
  {
   "cell_type": "markdown",
   "metadata": {},
   "source": [
    "\n",
    "The plans dataset seems fairly straight forward, outlining the conditions of the two data plans.\n",
    "Nothing glaringly obvious, I will reorder the columns for ease and I will change mb to gb as mb usage is rounded up to gb and users are charged per gb in the table."
   ]
  },
  {
   "cell_type": "markdown",
   "metadata": {},
   "source": [
    " "
   ]
  },
  {
   "cell_type": "markdown",
   "metadata": {},
   "source": [
    "## Fix data"
   ]
  },
  {
   "cell_type": "code",
   "execution_count": 5,
   "metadata": {},
   "outputs": [],
   "source": [
    "plans = plans[['plan_name', 'messages_included', 'mb_per_month_included', 'minutes_included', 'usd_monthly_pay', 'usd_per_gb','usd_per_message','usd_per_minute']]"
   ]
  },
  {
   "cell_type": "code",
   "execution_count": 6,
   "metadata": {},
   "outputs": [],
   "source": [
    "plans = plans.rename(columns={'mb_per_month_included':'gb_per_month_included'})\n",
    "plans['gb_per_month_included'] = plans['gb_per_month_included'] * 0.001"
   ]
  },
  {
   "cell_type": "code",
   "execution_count": 7,
   "metadata": {},
   "outputs": [
    {
     "data": {
      "text/html": [
       "<div>\n",
       "<style scoped>\n",
       "    .dataframe tbody tr th:only-of-type {\n",
       "        vertical-align: middle;\n",
       "    }\n",
       "\n",
       "    .dataframe tbody tr th {\n",
       "        vertical-align: top;\n",
       "    }\n",
       "\n",
       "    .dataframe thead th {\n",
       "        text-align: right;\n",
       "    }\n",
       "</style>\n",
       "<table border=\"1\" class=\"dataframe\">\n",
       "  <thead>\n",
       "    <tr style=\"text-align: right;\">\n",
       "      <th></th>\n",
       "      <th>plan_name</th>\n",
       "      <th>messages_included</th>\n",
       "      <th>gb_per_month_included</th>\n",
       "      <th>minutes_included</th>\n",
       "      <th>usd_monthly_pay</th>\n",
       "      <th>usd_per_gb</th>\n",
       "      <th>usd_per_message</th>\n",
       "      <th>usd_per_minute</th>\n",
       "    </tr>\n",
       "  </thead>\n",
       "  <tbody>\n",
       "    <tr>\n",
       "      <th>0</th>\n",
       "      <td>surf</td>\n",
       "      <td>50</td>\n",
       "      <td>15.36</td>\n",
       "      <td>500</td>\n",
       "      <td>20</td>\n",
       "      <td>10</td>\n",
       "      <td>0.03</td>\n",
       "      <td>0.03</td>\n",
       "    </tr>\n",
       "    <tr>\n",
       "      <th>1</th>\n",
       "      <td>ultimate</td>\n",
       "      <td>1000</td>\n",
       "      <td>30.72</td>\n",
       "      <td>3000</td>\n",
       "      <td>70</td>\n",
       "      <td>7</td>\n",
       "      <td>0.01</td>\n",
       "      <td>0.01</td>\n",
       "    </tr>\n",
       "  </tbody>\n",
       "</table>\n",
       "</div>"
      ],
      "text/plain": [
       "  plan_name  messages_included  gb_per_month_included  minutes_included  \\\n",
       "0      surf                 50                  15.36               500   \n",
       "1  ultimate               1000                  30.72              3000   \n",
       "\n",
       "   usd_monthly_pay  usd_per_gb  usd_per_message  usd_per_minute  \n",
       "0               20          10             0.03            0.03  \n",
       "1               70           7             0.01            0.01  "
      ]
     },
     "execution_count": 7,
     "metadata": {},
     "output_type": "execute_result"
    }
   ],
   "source": [
    "plans"
   ]
  },
  {
   "cell_type": "markdown",
   "metadata": {},
   "source": [
    "## Users"
   ]
  },
  {
   "cell_type": "code",
   "execution_count": 8,
   "metadata": {},
   "outputs": [
    {
     "name": "stdout",
     "output_type": "stream",
     "text": [
      "<class 'pandas.core.frame.DataFrame'>\n",
      "RangeIndex: 500 entries, 0 to 499\n",
      "Data columns (total 8 columns):\n",
      " #   Column      Non-Null Count  Dtype \n",
      "---  ------      --------------  ----- \n",
      " 0   user_id     500 non-null    int64 \n",
      " 1   first_name  500 non-null    object\n",
      " 2   last_name   500 non-null    object\n",
      " 3   age         500 non-null    int64 \n",
      " 4   city        500 non-null    object\n",
      " 5   reg_date    500 non-null    object\n",
      " 6   plan        500 non-null    object\n",
      " 7   churn_date  34 non-null     object\n",
      "dtypes: int64(2), object(6)\n",
      "memory usage: 31.4+ KB\n"
     ]
    }
   ],
   "source": [
    "# Printing the general/summary information about the users' DataFrame\n",
    "users.info()\n"
   ]
  },
  {
   "cell_type": "code",
   "execution_count": 9,
   "metadata": {},
   "outputs": [
    {
     "data": {
      "text/html": [
       "<div>\n",
       "<style scoped>\n",
       "    .dataframe tbody tr th:only-of-type {\n",
       "        vertical-align: middle;\n",
       "    }\n",
       "\n",
       "    .dataframe tbody tr th {\n",
       "        vertical-align: top;\n",
       "    }\n",
       "\n",
       "    .dataframe thead th {\n",
       "        text-align: right;\n",
       "    }\n",
       "</style>\n",
       "<table border=\"1\" class=\"dataframe\">\n",
       "  <thead>\n",
       "    <tr style=\"text-align: right;\">\n",
       "      <th></th>\n",
       "      <th>user_id</th>\n",
       "      <th>first_name</th>\n",
       "      <th>last_name</th>\n",
       "      <th>age</th>\n",
       "      <th>city</th>\n",
       "      <th>reg_date</th>\n",
       "      <th>plan</th>\n",
       "      <th>churn_date</th>\n",
       "    </tr>\n",
       "  </thead>\n",
       "  <tbody>\n",
       "    <tr>\n",
       "      <th>0</th>\n",
       "      <td>1000</td>\n",
       "      <td>Anamaria</td>\n",
       "      <td>Bauer</td>\n",
       "      <td>45</td>\n",
       "      <td>Atlanta-Sandy Springs-Roswell, GA MSA</td>\n",
       "      <td>2018-12-24</td>\n",
       "      <td>ultimate</td>\n",
       "      <td>NaN</td>\n",
       "    </tr>\n",
       "    <tr>\n",
       "      <th>1</th>\n",
       "      <td>1001</td>\n",
       "      <td>Mickey</td>\n",
       "      <td>Wilkerson</td>\n",
       "      <td>28</td>\n",
       "      <td>Seattle-Tacoma-Bellevue, WA MSA</td>\n",
       "      <td>2018-08-13</td>\n",
       "      <td>surf</td>\n",
       "      <td>NaN</td>\n",
       "    </tr>\n",
       "    <tr>\n",
       "      <th>2</th>\n",
       "      <td>1002</td>\n",
       "      <td>Carlee</td>\n",
       "      <td>Hoffman</td>\n",
       "      <td>36</td>\n",
       "      <td>Las Vegas-Henderson-Paradise, NV MSA</td>\n",
       "      <td>2018-10-21</td>\n",
       "      <td>surf</td>\n",
       "      <td>NaN</td>\n",
       "    </tr>\n",
       "    <tr>\n",
       "      <th>3</th>\n",
       "      <td>1003</td>\n",
       "      <td>Reynaldo</td>\n",
       "      <td>Jenkins</td>\n",
       "      <td>52</td>\n",
       "      <td>Tulsa, OK MSA</td>\n",
       "      <td>2018-01-28</td>\n",
       "      <td>surf</td>\n",
       "      <td>NaN</td>\n",
       "    </tr>\n",
       "    <tr>\n",
       "      <th>4</th>\n",
       "      <td>1004</td>\n",
       "      <td>Leonila</td>\n",
       "      <td>Thompson</td>\n",
       "      <td>40</td>\n",
       "      <td>Seattle-Tacoma-Bellevue, WA MSA</td>\n",
       "      <td>2018-05-23</td>\n",
       "      <td>surf</td>\n",
       "      <td>NaN</td>\n",
       "    </tr>\n",
       "  </tbody>\n",
       "</table>\n",
       "</div>"
      ],
      "text/plain": [
       "   user_id first_name  last_name  age                                   city  \\\n",
       "0     1000   Anamaria      Bauer   45  Atlanta-Sandy Springs-Roswell, GA MSA   \n",
       "1     1001     Mickey  Wilkerson   28        Seattle-Tacoma-Bellevue, WA MSA   \n",
       "2     1002     Carlee    Hoffman   36   Las Vegas-Henderson-Paradise, NV MSA   \n",
       "3     1003   Reynaldo    Jenkins   52                          Tulsa, OK MSA   \n",
       "4     1004    Leonila   Thompson   40        Seattle-Tacoma-Bellevue, WA MSA   \n",
       "\n",
       "     reg_date      plan churn_date  \n",
       "0  2018-12-24  ultimate        NaN  \n",
       "1  2018-08-13      surf        NaN  \n",
       "2  2018-10-21      surf        NaN  \n",
       "3  2018-01-28      surf        NaN  \n",
       "4  2018-05-23      surf        NaN  "
      ]
     },
     "execution_count": 9,
     "metadata": {},
     "output_type": "execute_result"
    }
   ],
   "source": [
    "# Printing a sample of data for users\n",
    "users.head()\n"
   ]
  },
  {
   "cell_type": "markdown",
   "metadata": {},
   "source": [
    "\n",
    "The users dataframe outlines the users, their name, age, location and which data plan they are using. There are missing values in the churn date  column but that only indicates that those users were still using their plan when their information was pulled so there is no needed to fill in those missing values.\n",
    "\n",
    "As I don't believe the registration date and churn date are pertinent to my analysis I will be excluding those columns."
   ]
  },
  {
   "cell_type": "markdown",
   "metadata": {},
   "source": [
    " "
   ]
  },
  {
   "cell_type": "markdown",
   "metadata": {},
   "source": [
    "### Fix Data"
   ]
  },
  {
   "cell_type": "code",
   "execution_count": 10,
   "metadata": {},
   "outputs": [],
   "source": [
    "users = users[['user_id','city','plan']]\n"
   ]
  },
  {
   "cell_type": "code",
   "execution_count": 11,
   "metadata": {},
   "outputs": [
    {
     "data": {
      "text/html": [
       "<div>\n",
       "<style scoped>\n",
       "    .dataframe tbody tr th:only-of-type {\n",
       "        vertical-align: middle;\n",
       "    }\n",
       "\n",
       "    .dataframe tbody tr th {\n",
       "        vertical-align: top;\n",
       "    }\n",
       "\n",
       "    .dataframe thead th {\n",
       "        text-align: right;\n",
       "    }\n",
       "</style>\n",
       "<table border=\"1\" class=\"dataframe\">\n",
       "  <thead>\n",
       "    <tr style=\"text-align: right;\">\n",
       "      <th></th>\n",
       "      <th>user_id</th>\n",
       "      <th>city</th>\n",
       "      <th>plan</th>\n",
       "    </tr>\n",
       "  </thead>\n",
       "  <tbody>\n",
       "    <tr>\n",
       "      <th>0</th>\n",
       "      <td>1000</td>\n",
       "      <td>Atlanta-Sandy Springs-Roswell, GA MSA</td>\n",
       "      <td>ultimate</td>\n",
       "    </tr>\n",
       "    <tr>\n",
       "      <th>1</th>\n",
       "      <td>1001</td>\n",
       "      <td>Seattle-Tacoma-Bellevue, WA MSA</td>\n",
       "      <td>surf</td>\n",
       "    </tr>\n",
       "    <tr>\n",
       "      <th>2</th>\n",
       "      <td>1002</td>\n",
       "      <td>Las Vegas-Henderson-Paradise, NV MSA</td>\n",
       "      <td>surf</td>\n",
       "    </tr>\n",
       "    <tr>\n",
       "      <th>3</th>\n",
       "      <td>1003</td>\n",
       "      <td>Tulsa, OK MSA</td>\n",
       "      <td>surf</td>\n",
       "    </tr>\n",
       "    <tr>\n",
       "      <th>4</th>\n",
       "      <td>1004</td>\n",
       "      <td>Seattle-Tacoma-Bellevue, WA MSA</td>\n",
       "      <td>surf</td>\n",
       "    </tr>\n",
       "  </tbody>\n",
       "</table>\n",
       "</div>"
      ],
      "text/plain": [
       "   user_id                                   city      plan\n",
       "0     1000  Atlanta-Sandy Springs-Roswell, GA MSA  ultimate\n",
       "1     1001        Seattle-Tacoma-Bellevue, WA MSA      surf\n",
       "2     1002   Las Vegas-Henderson-Paradise, NV MSA      surf\n",
       "3     1003                          Tulsa, OK MSA      surf\n",
       "4     1004        Seattle-Tacoma-Bellevue, WA MSA      surf"
      ]
     },
     "execution_count": 11,
     "metadata": {},
     "output_type": "execute_result"
    }
   ],
   "source": [
    "users.head()"
   ]
  },
  {
   "cell_type": "markdown",
   "metadata": {},
   "source": [
    "## Calls"
   ]
  },
  {
   "cell_type": "code",
   "execution_count": 12,
   "metadata": {},
   "outputs": [
    {
     "name": "stdout",
     "output_type": "stream",
     "text": [
      "<class 'pandas.core.frame.DataFrame'>\n",
      "RangeIndex: 137735 entries, 0 to 137734\n",
      "Data columns (total 4 columns):\n",
      " #   Column     Non-Null Count   Dtype  \n",
      "---  ------     --------------   -----  \n",
      " 0   id         137735 non-null  object \n",
      " 1   user_id    137735 non-null  int64  \n",
      " 2   call_date  137735 non-null  object \n",
      " 3   duration   137735 non-null  float64\n",
      "dtypes: float64(1), int64(1), object(2)\n",
      "memory usage: 4.2+ MB\n"
     ]
    },
    {
     "data": {
      "text/html": [
       "<div>\n",
       "<style scoped>\n",
       "    .dataframe tbody tr th:only-of-type {\n",
       "        vertical-align: middle;\n",
       "    }\n",
       "\n",
       "    .dataframe tbody tr th {\n",
       "        vertical-align: top;\n",
       "    }\n",
       "\n",
       "    .dataframe thead th {\n",
       "        text-align: right;\n",
       "    }\n",
       "</style>\n",
       "<table border=\"1\" class=\"dataframe\">\n",
       "  <thead>\n",
       "    <tr style=\"text-align: right;\">\n",
       "      <th></th>\n",
       "      <th>user_id</th>\n",
       "      <th>duration</th>\n",
       "    </tr>\n",
       "  </thead>\n",
       "  <tbody>\n",
       "    <tr>\n",
       "      <th>count</th>\n",
       "      <td>137735.000000</td>\n",
       "      <td>137735.000000</td>\n",
       "    </tr>\n",
       "    <tr>\n",
       "      <th>mean</th>\n",
       "      <td>1247.658046</td>\n",
       "      <td>6.745927</td>\n",
       "    </tr>\n",
       "    <tr>\n",
       "      <th>std</th>\n",
       "      <td>139.416268</td>\n",
       "      <td>5.839241</td>\n",
       "    </tr>\n",
       "    <tr>\n",
       "      <th>min</th>\n",
       "      <td>1000.000000</td>\n",
       "      <td>0.000000</td>\n",
       "    </tr>\n",
       "    <tr>\n",
       "      <th>25%</th>\n",
       "      <td>1128.000000</td>\n",
       "      <td>1.290000</td>\n",
       "    </tr>\n",
       "    <tr>\n",
       "      <th>50%</th>\n",
       "      <td>1247.000000</td>\n",
       "      <td>5.980000</td>\n",
       "    </tr>\n",
       "    <tr>\n",
       "      <th>75%</th>\n",
       "      <td>1365.000000</td>\n",
       "      <td>10.690000</td>\n",
       "    </tr>\n",
       "    <tr>\n",
       "      <th>max</th>\n",
       "      <td>1499.000000</td>\n",
       "      <td>37.600000</td>\n",
       "    </tr>\n",
       "  </tbody>\n",
       "</table>\n",
       "</div>"
      ],
      "text/plain": [
       "             user_id       duration\n",
       "count  137735.000000  137735.000000\n",
       "mean     1247.658046       6.745927\n",
       "std       139.416268       5.839241\n",
       "min      1000.000000       0.000000\n",
       "25%      1128.000000       1.290000\n",
       "50%      1247.000000       5.980000\n",
       "75%      1365.000000      10.690000\n",
       "max      1499.000000      37.600000"
      ]
     },
     "execution_count": 12,
     "metadata": {},
     "output_type": "execute_result"
    }
   ],
   "source": [
    "# Printing the general/summary information about the calls' DataFrame\n",
    "calls.info()\n",
    "calls.describe()\n"
   ]
  },
  {
   "cell_type": "code",
   "execution_count": 13,
   "metadata": {},
   "outputs": [
    {
     "data": {
      "text/html": [
       "<div>\n",
       "<style scoped>\n",
       "    .dataframe tbody tr th:only-of-type {\n",
       "        vertical-align: middle;\n",
       "    }\n",
       "\n",
       "    .dataframe tbody tr th {\n",
       "        vertical-align: top;\n",
       "    }\n",
       "\n",
       "    .dataframe thead th {\n",
       "        text-align: right;\n",
       "    }\n",
       "</style>\n",
       "<table border=\"1\" class=\"dataframe\">\n",
       "  <thead>\n",
       "    <tr style=\"text-align: right;\">\n",
       "      <th></th>\n",
       "      <th>id</th>\n",
       "      <th>user_id</th>\n",
       "      <th>call_date</th>\n",
       "      <th>duration</th>\n",
       "    </tr>\n",
       "  </thead>\n",
       "  <tbody>\n",
       "    <tr>\n",
       "      <th>0</th>\n",
       "      <td>1000_93</td>\n",
       "      <td>1000</td>\n",
       "      <td>2018-12-27</td>\n",
       "      <td>8.52</td>\n",
       "    </tr>\n",
       "    <tr>\n",
       "      <th>1</th>\n",
       "      <td>1000_145</td>\n",
       "      <td>1000</td>\n",
       "      <td>2018-12-27</td>\n",
       "      <td>13.66</td>\n",
       "    </tr>\n",
       "    <tr>\n",
       "      <th>2</th>\n",
       "      <td>1000_247</td>\n",
       "      <td>1000</td>\n",
       "      <td>2018-12-27</td>\n",
       "      <td>14.48</td>\n",
       "    </tr>\n",
       "    <tr>\n",
       "      <th>3</th>\n",
       "      <td>1000_309</td>\n",
       "      <td>1000</td>\n",
       "      <td>2018-12-28</td>\n",
       "      <td>5.76</td>\n",
       "    </tr>\n",
       "    <tr>\n",
       "      <th>4</th>\n",
       "      <td>1000_380</td>\n",
       "      <td>1000</td>\n",
       "      <td>2018-12-30</td>\n",
       "      <td>4.22</td>\n",
       "    </tr>\n",
       "  </tbody>\n",
       "</table>\n",
       "</div>"
      ],
      "text/plain": [
       "         id  user_id   call_date  duration\n",
       "0   1000_93     1000  2018-12-27      8.52\n",
       "1  1000_145     1000  2018-12-27     13.66\n",
       "2  1000_247     1000  2018-12-27     14.48\n",
       "3  1000_309     1000  2018-12-28      5.76\n",
       "4  1000_380     1000  2018-12-30      4.22"
      ]
     },
     "execution_count": 13,
     "metadata": {},
     "output_type": "execute_result"
    }
   ],
   "source": [
    "# Printing a sample of data for calls\n",
    "calls.head()"
   ]
  },
  {
   "cell_type": "markdown",
   "metadata": {},
   "source": [
    "\n",
    "There are no missing values in this dataset. Later on I may have to group this information by the unique user id but for now the only change I will make is changing call date to the right data type,round the call duration to minute, and add a month column. I believe adding the month column will help analysis further down the line."
   ]
  },
  {
   "cell_type": "markdown",
   "metadata": {},
   "source": [
    " "
   ]
  },
  {
   "cell_type": "markdown",
   "metadata": {},
   "source": [
    "### Fix data"
   ]
  },
  {
   "cell_type": "code",
   "execution_count": 14,
   "metadata": {
    "scrolled": true
   },
   "outputs": [],
   "source": [
    "calls['call_date'] = pd.to_datetime(calls['call_date'], format ='%Y-%m-%d')\n",
    "\n"
   ]
  },
  {
   "cell_type": "code",
   "execution_count": 15,
   "metadata": {},
   "outputs": [],
   "source": [
    "calls['duration'] = np.ceil(calls['duration'])"
   ]
  },
  {
   "cell_type": "markdown",
   "metadata": {},
   "source": [
    "### Enrich data"
   ]
  },
  {
   "cell_type": "code",
   "execution_count": 16,
   "metadata": {},
   "outputs": [],
   "source": [
    "calls['month']=pd.DatetimeIndex(calls['call_date']).month"
   ]
  },
  {
   "cell_type": "code",
   "execution_count": 17,
   "metadata": {},
   "outputs": [
    {
     "data": {
      "text/html": [
       "<div>\n",
       "<style scoped>\n",
       "    .dataframe tbody tr th:only-of-type {\n",
       "        vertical-align: middle;\n",
       "    }\n",
       "\n",
       "    .dataframe tbody tr th {\n",
       "        vertical-align: top;\n",
       "    }\n",
       "\n",
       "    .dataframe thead th {\n",
       "        text-align: right;\n",
       "    }\n",
       "</style>\n",
       "<table border=\"1\" class=\"dataframe\">\n",
       "  <thead>\n",
       "    <tr style=\"text-align: right;\">\n",
       "      <th></th>\n",
       "      <th>id</th>\n",
       "      <th>user_id</th>\n",
       "      <th>call_date</th>\n",
       "      <th>duration</th>\n",
       "      <th>month</th>\n",
       "    </tr>\n",
       "  </thead>\n",
       "  <tbody>\n",
       "    <tr>\n",
       "      <th>0</th>\n",
       "      <td>1000_93</td>\n",
       "      <td>1000</td>\n",
       "      <td>2018-12-27</td>\n",
       "      <td>9.0</td>\n",
       "      <td>12</td>\n",
       "    </tr>\n",
       "    <tr>\n",
       "      <th>1</th>\n",
       "      <td>1000_145</td>\n",
       "      <td>1000</td>\n",
       "      <td>2018-12-27</td>\n",
       "      <td>14.0</td>\n",
       "      <td>12</td>\n",
       "    </tr>\n",
       "    <tr>\n",
       "      <th>2</th>\n",
       "      <td>1000_247</td>\n",
       "      <td>1000</td>\n",
       "      <td>2018-12-27</td>\n",
       "      <td>15.0</td>\n",
       "      <td>12</td>\n",
       "    </tr>\n",
       "    <tr>\n",
       "      <th>3</th>\n",
       "      <td>1000_309</td>\n",
       "      <td>1000</td>\n",
       "      <td>2018-12-28</td>\n",
       "      <td>6.0</td>\n",
       "      <td>12</td>\n",
       "    </tr>\n",
       "    <tr>\n",
       "      <th>4</th>\n",
       "      <td>1000_380</td>\n",
       "      <td>1000</td>\n",
       "      <td>2018-12-30</td>\n",
       "      <td>5.0</td>\n",
       "      <td>12</td>\n",
       "    </tr>\n",
       "  </tbody>\n",
       "</table>\n",
       "</div>"
      ],
      "text/plain": [
       "         id  user_id  call_date  duration  month\n",
       "0   1000_93     1000 2018-12-27       9.0     12\n",
       "1  1000_145     1000 2018-12-27      14.0     12\n",
       "2  1000_247     1000 2018-12-27      15.0     12\n",
       "3  1000_309     1000 2018-12-28       6.0     12\n",
       "4  1000_380     1000 2018-12-30       5.0     12"
      ]
     },
     "execution_count": 17,
     "metadata": {},
     "output_type": "execute_result"
    }
   ],
   "source": [
    "calls.head()"
   ]
  },
  {
   "cell_type": "markdown",
   "metadata": {},
   "source": [
    "## Messages"
   ]
  },
  {
   "cell_type": "code",
   "execution_count": 18,
   "metadata": {},
   "outputs": [
    {
     "name": "stdout",
     "output_type": "stream",
     "text": [
      "<class 'pandas.core.frame.DataFrame'>\n",
      "RangeIndex: 76051 entries, 0 to 76050\n",
      "Data columns (total 3 columns):\n",
      " #   Column        Non-Null Count  Dtype \n",
      "---  ------        --------------  ----- \n",
      " 0   id            76051 non-null  object\n",
      " 1   user_id       76051 non-null  int64 \n",
      " 2   message_date  76051 non-null  object\n",
      "dtypes: int64(1), object(2)\n",
      "memory usage: 1.7+ MB\n"
     ]
    }
   ],
   "source": [
    "# Printing the general/summary information about the messages' DataFrame\n",
    "messages.info()\n",
    "\n"
   ]
  },
  {
   "cell_type": "code",
   "execution_count": 19,
   "metadata": {},
   "outputs": [
    {
     "data": {
      "text/html": [
       "<div>\n",
       "<style scoped>\n",
       "    .dataframe tbody tr th:only-of-type {\n",
       "        vertical-align: middle;\n",
       "    }\n",
       "\n",
       "    .dataframe tbody tr th {\n",
       "        vertical-align: top;\n",
       "    }\n",
       "\n",
       "    .dataframe thead th {\n",
       "        text-align: right;\n",
       "    }\n",
       "</style>\n",
       "<table border=\"1\" class=\"dataframe\">\n",
       "  <thead>\n",
       "    <tr style=\"text-align: right;\">\n",
       "      <th></th>\n",
       "      <th>id</th>\n",
       "      <th>user_id</th>\n",
       "      <th>message_date</th>\n",
       "    </tr>\n",
       "  </thead>\n",
       "  <tbody>\n",
       "    <tr>\n",
       "      <th>0</th>\n",
       "      <td>1000_125</td>\n",
       "      <td>1000</td>\n",
       "      <td>2018-12-27</td>\n",
       "    </tr>\n",
       "    <tr>\n",
       "      <th>1</th>\n",
       "      <td>1000_160</td>\n",
       "      <td>1000</td>\n",
       "      <td>2018-12-31</td>\n",
       "    </tr>\n",
       "    <tr>\n",
       "      <th>2</th>\n",
       "      <td>1000_223</td>\n",
       "      <td>1000</td>\n",
       "      <td>2018-12-31</td>\n",
       "    </tr>\n",
       "    <tr>\n",
       "      <th>3</th>\n",
       "      <td>1000_251</td>\n",
       "      <td>1000</td>\n",
       "      <td>2018-12-27</td>\n",
       "    </tr>\n",
       "    <tr>\n",
       "      <th>4</th>\n",
       "      <td>1000_255</td>\n",
       "      <td>1000</td>\n",
       "      <td>2018-12-26</td>\n",
       "    </tr>\n",
       "  </tbody>\n",
       "</table>\n",
       "</div>"
      ],
      "text/plain": [
       "         id  user_id message_date\n",
       "0  1000_125     1000   2018-12-27\n",
       "1  1000_160     1000   2018-12-31\n",
       "2  1000_223     1000   2018-12-31\n",
       "3  1000_251     1000   2018-12-27\n",
       "4  1000_255     1000   2018-12-26"
      ]
     },
     "execution_count": 19,
     "metadata": {},
     "output_type": "execute_result"
    }
   ],
   "source": [
    "# Printing a sample of data for messages\n",
    "messages.head()"
   ]
  },
  {
   "cell_type": "markdown",
   "metadata": {},
   "source": [
    "There is no missing data in this dataframe. I will change message date to the correct data type (datetime) and will add a month column to aid analysis."
   ]
  },
  {
   "cell_type": "markdown",
   "metadata": {},
   "source": [
    " "
   ]
  },
  {
   "cell_type": "markdown",
   "metadata": {},
   "source": [
    "### Fix data"
   ]
  },
  {
   "cell_type": "code",
   "execution_count": 20,
   "metadata": {},
   "outputs": [],
   "source": [
    "messages['message_date'] = pd.to_datetime(messages['message_date'], format ='%Y-%m-%d')\n"
   ]
  },
  {
   "cell_type": "markdown",
   "metadata": {},
   "source": [
    "### Enrich data"
   ]
  },
  {
   "cell_type": "code",
   "execution_count": 21,
   "metadata": {},
   "outputs": [
    {
     "name": "stdout",
     "output_type": "stream",
     "text": [
      "         id  user_id message_date  month\n",
      "0  1000_125     1000   2018-12-27     12\n",
      "1  1000_160     1000   2018-12-31     12\n",
      "2  1000_223     1000   2018-12-31     12\n",
      "3  1000_251     1000   2018-12-27     12\n",
      "4  1000_255     1000   2018-12-26     12\n"
     ]
    }
   ],
   "source": [
    "messages['month']=pd.DatetimeIndex(messages['message_date']).month\n",
    "print(messages.head())"
   ]
  },
  {
   "cell_type": "markdown",
   "metadata": {},
   "source": [
    "## Internet"
   ]
  },
  {
   "cell_type": "code",
   "execution_count": 22,
   "metadata": {},
   "outputs": [
    {
     "name": "stdout",
     "output_type": "stream",
     "text": [
      "<class 'pandas.core.frame.DataFrame'>\n",
      "RangeIndex: 104825 entries, 0 to 104824\n",
      "Data columns (total 4 columns):\n",
      " #   Column        Non-Null Count   Dtype  \n",
      "---  ------        --------------   -----  \n",
      " 0   id            104825 non-null  object \n",
      " 1   user_id       104825 non-null  int64  \n",
      " 2   session_date  104825 non-null  object \n",
      " 3   mb_used       104825 non-null  float64\n",
      "dtypes: float64(1), int64(1), object(2)\n",
      "memory usage: 3.2+ MB\n"
     ]
    }
   ],
   "source": [
    "# Printing the general/summary information about the internet DataFrame\n",
    "internet.info()\n"
   ]
  },
  {
   "cell_type": "code",
   "execution_count": 23,
   "metadata": {},
   "outputs": [
    {
     "data": {
      "text/html": [
       "<div>\n",
       "<style scoped>\n",
       "    .dataframe tbody tr th:only-of-type {\n",
       "        vertical-align: middle;\n",
       "    }\n",
       "\n",
       "    .dataframe tbody tr th {\n",
       "        vertical-align: top;\n",
       "    }\n",
       "\n",
       "    .dataframe thead th {\n",
       "        text-align: right;\n",
       "    }\n",
       "</style>\n",
       "<table border=\"1\" class=\"dataframe\">\n",
       "  <thead>\n",
       "    <tr style=\"text-align: right;\">\n",
       "      <th></th>\n",
       "      <th>id</th>\n",
       "      <th>user_id</th>\n",
       "      <th>session_date</th>\n",
       "      <th>mb_used</th>\n",
       "    </tr>\n",
       "  </thead>\n",
       "  <tbody>\n",
       "    <tr>\n",
       "      <th>0</th>\n",
       "      <td>1000_13</td>\n",
       "      <td>1000</td>\n",
       "      <td>2018-12-29</td>\n",
       "      <td>89.86</td>\n",
       "    </tr>\n",
       "    <tr>\n",
       "      <th>1</th>\n",
       "      <td>1000_204</td>\n",
       "      <td>1000</td>\n",
       "      <td>2018-12-31</td>\n",
       "      <td>0.00</td>\n",
       "    </tr>\n",
       "    <tr>\n",
       "      <th>2</th>\n",
       "      <td>1000_379</td>\n",
       "      <td>1000</td>\n",
       "      <td>2018-12-28</td>\n",
       "      <td>660.40</td>\n",
       "    </tr>\n",
       "    <tr>\n",
       "      <th>3</th>\n",
       "      <td>1000_413</td>\n",
       "      <td>1000</td>\n",
       "      <td>2018-12-26</td>\n",
       "      <td>270.99</td>\n",
       "    </tr>\n",
       "    <tr>\n",
       "      <th>4</th>\n",
       "      <td>1000_442</td>\n",
       "      <td>1000</td>\n",
       "      <td>2018-12-27</td>\n",
       "      <td>880.22</td>\n",
       "    </tr>\n",
       "  </tbody>\n",
       "</table>\n",
       "</div>"
      ],
      "text/plain": [
       "         id  user_id session_date  mb_used\n",
       "0   1000_13     1000   2018-12-29    89.86\n",
       "1  1000_204     1000   2018-12-31     0.00\n",
       "2  1000_379     1000   2018-12-28   660.40\n",
       "3  1000_413     1000   2018-12-26   270.99\n",
       "4  1000_442     1000   2018-12-27   880.22"
      ]
     },
     "execution_count": 23,
     "metadata": {},
     "output_type": "execute_result"
    }
   ],
   "source": [
    "# Printing a sample of data for the internet traffic\n",
    "internet.head()\n"
   ]
  },
  {
   "cell_type": "markdown",
   "metadata": {},
   "source": [
    "There is no missing data in this table. I will change mb to gb for ease of finding out how much the user was charged and I will change session date to the proper data type and then add a month column."
   ]
  },
  {
   "cell_type": "markdown",
   "metadata": {},
   "source": [
    " "
   ]
  },
  {
   "cell_type": "markdown",
   "metadata": {},
   "source": [
    "### Fix data"
   ]
  },
  {
   "cell_type": "code",
   "execution_count": 24,
   "metadata": {},
   "outputs": [],
   "source": [
    "internet['session_date'] = pd.to_datetime(internet['session_date'], format ='%Y-%m-%d')\n",
    "\n",
    "internet = internet.rename(columns={'mb_used':'gb_used'})\n",
    "internet['gb_used'] = internet['gb_used'] * 0.001\n"
   ]
  },
  {
   "cell_type": "code",
   "execution_count": 25,
   "metadata": {
    "scrolled": true
   },
   "outputs": [
    {
     "data": {
      "text/html": [
       "<div>\n",
       "<style scoped>\n",
       "    .dataframe tbody tr th:only-of-type {\n",
       "        vertical-align: middle;\n",
       "    }\n",
       "\n",
       "    .dataframe tbody tr th {\n",
       "        vertical-align: top;\n",
       "    }\n",
       "\n",
       "    .dataframe thead th {\n",
       "        text-align: right;\n",
       "    }\n",
       "</style>\n",
       "<table border=\"1\" class=\"dataframe\">\n",
       "  <thead>\n",
       "    <tr style=\"text-align: right;\">\n",
       "      <th></th>\n",
       "      <th>id</th>\n",
       "      <th>user_id</th>\n",
       "      <th>session_date</th>\n",
       "      <th>gb_used</th>\n",
       "    </tr>\n",
       "  </thead>\n",
       "  <tbody>\n",
       "    <tr>\n",
       "      <th>0</th>\n",
       "      <td>1000_13</td>\n",
       "      <td>1000</td>\n",
       "      <td>2018-12-29</td>\n",
       "      <td>0.08986</td>\n",
       "    </tr>\n",
       "    <tr>\n",
       "      <th>1</th>\n",
       "      <td>1000_204</td>\n",
       "      <td>1000</td>\n",
       "      <td>2018-12-31</td>\n",
       "      <td>0.00000</td>\n",
       "    </tr>\n",
       "    <tr>\n",
       "      <th>2</th>\n",
       "      <td>1000_379</td>\n",
       "      <td>1000</td>\n",
       "      <td>2018-12-28</td>\n",
       "      <td>0.66040</td>\n",
       "    </tr>\n",
       "    <tr>\n",
       "      <th>3</th>\n",
       "      <td>1000_413</td>\n",
       "      <td>1000</td>\n",
       "      <td>2018-12-26</td>\n",
       "      <td>0.27099</td>\n",
       "    </tr>\n",
       "    <tr>\n",
       "      <th>4</th>\n",
       "      <td>1000_442</td>\n",
       "      <td>1000</td>\n",
       "      <td>2018-12-27</td>\n",
       "      <td>0.88022</td>\n",
       "    </tr>\n",
       "  </tbody>\n",
       "</table>\n",
       "</div>"
      ],
      "text/plain": [
       "         id  user_id session_date  gb_used\n",
       "0   1000_13     1000   2018-12-29  0.08986\n",
       "1  1000_204     1000   2018-12-31  0.00000\n",
       "2  1000_379     1000   2018-12-28  0.66040\n",
       "3  1000_413     1000   2018-12-26  0.27099\n",
       "4  1000_442     1000   2018-12-27  0.88022"
      ]
     },
     "execution_count": 25,
     "metadata": {},
     "output_type": "execute_result"
    }
   ],
   "source": [
    "internet.head()"
   ]
  },
  {
   "cell_type": "markdown",
   "metadata": {},
   "source": [
    "### Enrich data"
   ]
  },
  {
   "cell_type": "code",
   "execution_count": 26,
   "metadata": {},
   "outputs": [
    {
     "name": "stdout",
     "output_type": "stream",
     "text": [
      "         id  user_id session_date  gb_used  month\n",
      "0   1000_13     1000   2018-12-29  0.08986     12\n",
      "1  1000_204     1000   2018-12-31  0.00000     12\n",
      "2  1000_379     1000   2018-12-28  0.66040     12\n",
      "3  1000_413     1000   2018-12-26  0.27099     12\n",
      "4  1000_442     1000   2018-12-27  0.88022     12\n"
     ]
    }
   ],
   "source": [
    "internet['month']=pd.DatetimeIndex(internet['session_date']).month\n",
    "print(internet.head())"
   ]
  },
  {
   "cell_type": "markdown",
   "metadata": {},
   "source": [
    "## Study plan conditions"
   ]
  },
  {
   "cell_type": "code",
   "execution_count": 27,
   "metadata": {},
   "outputs": [
    {
     "data": {
      "text/html": [
       "<div>\n",
       "<style scoped>\n",
       "    .dataframe tbody tr th:only-of-type {\n",
       "        vertical-align: middle;\n",
       "    }\n",
       "\n",
       "    .dataframe tbody tr th {\n",
       "        vertical-align: top;\n",
       "    }\n",
       "\n",
       "    .dataframe thead th {\n",
       "        text-align: right;\n",
       "    }\n",
       "</style>\n",
       "<table border=\"1\" class=\"dataframe\">\n",
       "  <thead>\n",
       "    <tr style=\"text-align: right;\">\n",
       "      <th></th>\n",
       "      <th>plan_name</th>\n",
       "      <th>messages_included</th>\n",
       "      <th>gb_per_month_included</th>\n",
       "      <th>minutes_included</th>\n",
       "      <th>usd_monthly_pay</th>\n",
       "      <th>usd_per_gb</th>\n",
       "      <th>usd_per_message</th>\n",
       "      <th>usd_per_minute</th>\n",
       "    </tr>\n",
       "  </thead>\n",
       "  <tbody>\n",
       "    <tr>\n",
       "      <th>0</th>\n",
       "      <td>surf</td>\n",
       "      <td>50</td>\n",
       "      <td>15.36</td>\n",
       "      <td>500</td>\n",
       "      <td>20</td>\n",
       "      <td>10</td>\n",
       "      <td>0.03</td>\n",
       "      <td>0.03</td>\n",
       "    </tr>\n",
       "    <tr>\n",
       "      <th>1</th>\n",
       "      <td>ultimate</td>\n",
       "      <td>1000</td>\n",
       "      <td>30.72</td>\n",
       "      <td>3000</td>\n",
       "      <td>70</td>\n",
       "      <td>7</td>\n",
       "      <td>0.01</td>\n",
       "      <td>0.01</td>\n",
       "    </tr>\n",
       "  </tbody>\n",
       "</table>\n",
       "</div>"
      ],
      "text/plain": [
       "  plan_name  messages_included  gb_per_month_included  minutes_included  \\\n",
       "0      surf                 50                  15.36               500   \n",
       "1  ultimate               1000                  30.72              3000   \n",
       "\n",
       "   usd_monthly_pay  usd_per_gb  usd_per_message  usd_per_minute  \n",
       "0               20          10             0.03            0.03  \n",
       "1               70           7             0.01            0.01  "
      ]
     },
     "execution_count": 27,
     "metadata": {},
     "output_type": "execute_result"
    }
   ],
   "source": [
    "# Printing out the plan conditions \n",
    "plans\n"
   ]
  },
  {
   "cell_type": "markdown",
   "metadata": {},
   "source": [
    "## Aggregate data per user\n",
    "\n",
    "Now that my preprocessing is done and I am satisfied with the way my tables look, I will begin the process of aggregating the data per user per period (monthly). The goal is to have one table that holds the user's call, minute, message, and internet usage, as well as what plan they are enrolled in.\n"
   ]
  },
  {
   "cell_type": "code",
   "execution_count": 28,
   "metadata": {},
   "outputs": [],
   "source": [
    "# Calculating the number of calls made by each user per month. \n",
    "call_count = pd.Series(calls.groupby(['user_id','month'])['duration'].count(), name='call_count')\n"
   ]
  },
  {
   "cell_type": "code",
   "execution_count": 29,
   "metadata": {},
   "outputs": [],
   "source": [
    "# Calculating the amount of minutes spent by each user per month. \n",
    "\n",
    "call_duration = pd.Series(calls.groupby(['user_id','month'])['duration'].sum(), name='call_duration')\n"
   ]
  },
  {
   "cell_type": "code",
   "execution_count": 30,
   "metadata": {},
   "outputs": [],
   "source": [
    "# Calculating the number of messages sent by each user per month. \n",
    "message_count = pd.Series(messages.groupby(['user_id','month'])['id'].count(), name='message_count')\n"
   ]
  },
  {
   "cell_type": "code",
   "execution_count": 31,
   "metadata": {},
   "outputs": [],
   "source": [
    "# Calculating the volume of internet traffic used by each user per month. \n",
    "gb_usage = pd.Series(internet.groupby(['user_id','month'])['gb_used'].sum(), name='gb_usage')\n",
    "\n"
   ]
  },
  {
   "cell_type": "markdown",
   "metadata": {},
   "source": [
    "Now that the metrics have been aggregated, I will merge the tables."
   ]
  },
  {
   "cell_type": "code",
   "execution_count": 32,
   "metadata": {
    "scrolled": true
   },
   "outputs": [],
   "source": [
    "agg_user=pd.merge(call_count,call_duration, on=['user_id','month'],how='outer')\n",
    "agg_user=pd.merge(agg_user,message_count, on=['user_id','month'],how='outer')\n",
    "agg_user=pd.merge(agg_user,gb_usage, on=['user_id','month'],how='outer')\n"
   ]
  },
  {
   "cell_type": "code",
   "execution_count": 33,
   "metadata": {},
   "outputs": [
    {
     "data": {
      "text/html": [
       "<div>\n",
       "<style scoped>\n",
       "    .dataframe tbody tr th:only-of-type {\n",
       "        vertical-align: middle;\n",
       "    }\n",
       "\n",
       "    .dataframe tbody tr th {\n",
       "        vertical-align: top;\n",
       "    }\n",
       "\n",
       "    .dataframe thead th {\n",
       "        text-align: right;\n",
       "    }\n",
       "</style>\n",
       "<table border=\"1\" class=\"dataframe\">\n",
       "  <thead>\n",
       "    <tr style=\"text-align: right;\">\n",
       "      <th></th>\n",
       "      <th></th>\n",
       "      <th>call_count</th>\n",
       "      <th>call_duration</th>\n",
       "      <th>message_count</th>\n",
       "      <th>gb_usage</th>\n",
       "    </tr>\n",
       "    <tr>\n",
       "      <th>user_id</th>\n",
       "      <th>month</th>\n",
       "      <th></th>\n",
       "      <th></th>\n",
       "      <th></th>\n",
       "      <th></th>\n",
       "    </tr>\n",
       "  </thead>\n",
       "  <tbody>\n",
       "    <tr>\n",
       "      <th>1000</th>\n",
       "      <th>12</th>\n",
       "      <td>16.0</td>\n",
       "      <td>124.0</td>\n",
       "      <td>11.0</td>\n",
       "      <td>1.90147</td>\n",
       "    </tr>\n",
       "    <tr>\n",
       "      <th rowspan=\"4\" valign=\"top\">1001</th>\n",
       "      <th>8</th>\n",
       "      <td>27.0</td>\n",
       "      <td>182.0</td>\n",
       "      <td>30.0</td>\n",
       "      <td>6.91915</td>\n",
       "    </tr>\n",
       "    <tr>\n",
       "      <th>9</th>\n",
       "      <td>49.0</td>\n",
       "      <td>315.0</td>\n",
       "      <td>44.0</td>\n",
       "      <td>13.31482</td>\n",
       "    </tr>\n",
       "    <tr>\n",
       "      <th>10</th>\n",
       "      <td>65.0</td>\n",
       "      <td>393.0</td>\n",
       "      <td>53.0</td>\n",
       "      <td>22.33049</td>\n",
       "    </tr>\n",
       "    <tr>\n",
       "      <th>11</th>\n",
       "      <td>64.0</td>\n",
       "      <td>426.0</td>\n",
       "      <td>36.0</td>\n",
       "      <td>18.50430</td>\n",
       "    </tr>\n",
       "    <tr>\n",
       "      <th>...</th>\n",
       "      <th>...</th>\n",
       "      <td>...</td>\n",
       "      <td>...</td>\n",
       "      <td>...</td>\n",
       "      <td>...</td>\n",
       "    </tr>\n",
       "    <tr>\n",
       "      <th>1349</th>\n",
       "      <th>12</th>\n",
       "      <td>NaN</td>\n",
       "      <td>NaN</td>\n",
       "      <td>61.0</td>\n",
       "      <td>13.03991</td>\n",
       "    </tr>\n",
       "    <tr>\n",
       "      <th>1361</th>\n",
       "      <th>5</th>\n",
       "      <td>NaN</td>\n",
       "      <td>NaN</td>\n",
       "      <td>2.0</td>\n",
       "      <td>1.51969</td>\n",
       "    </tr>\n",
       "    <tr>\n",
       "      <th>1482</th>\n",
       "      <th>10</th>\n",
       "      <td>NaN</td>\n",
       "      <td>NaN</td>\n",
       "      <td>2.0</td>\n",
       "      <td>NaN</td>\n",
       "    </tr>\n",
       "    <tr>\n",
       "      <th>1108</th>\n",
       "      <th>12</th>\n",
       "      <td>NaN</td>\n",
       "      <td>NaN</td>\n",
       "      <td>NaN</td>\n",
       "      <td>0.23317</td>\n",
       "    </tr>\n",
       "    <tr>\n",
       "      <th>1311</th>\n",
       "      <th>6</th>\n",
       "      <td>NaN</td>\n",
       "      <td>NaN</td>\n",
       "      <td>NaN</td>\n",
       "      <td>1.49883</td>\n",
       "    </tr>\n",
       "  </tbody>\n",
       "</table>\n",
       "<p>2293 rows × 4 columns</p>\n",
       "</div>"
      ],
      "text/plain": [
       "               call_count  call_duration  message_count  gb_usage\n",
       "user_id month                                                    \n",
       "1000    12           16.0          124.0           11.0   1.90147\n",
       "1001    8            27.0          182.0           30.0   6.91915\n",
       "        9            49.0          315.0           44.0  13.31482\n",
       "        10           65.0          393.0           53.0  22.33049\n",
       "        11           64.0          426.0           36.0  18.50430\n",
       "...                   ...            ...            ...       ...\n",
       "1349    12            NaN            NaN           61.0  13.03991\n",
       "1361    5             NaN            NaN            2.0   1.51969\n",
       "1482    10            NaN            NaN            2.0       NaN\n",
       "1108    12            NaN            NaN            NaN   0.23317\n",
       "1311    6             NaN            NaN            NaN   1.49883\n",
       "\n",
       "[2293 rows x 4 columns]"
      ]
     },
     "execution_count": 33,
     "metadata": {},
     "output_type": "execute_result"
    }
   ],
   "source": [
    "agg_user"
   ]
  },
  {
   "cell_type": "markdown",
   "metadata": {},
   "source": [
    "<div class=\"alert alert-block alert-success\">\n",
    "<b>Reviewer's comment v2:</b>\n",
    "    \n",
    "Indeed `how = 'outer' can be used here to prevent data loss.\n",
    "    \n",
    "By the way, it is also possible to group 3 tables at once using reduce. You can read about it here: https://www.codegrepper.com/code-examples/python/merge+more+than+2+dataframes+in+pandas"
   ]
  },
  {
   "cell_type": "code",
   "execution_count": 34,
   "metadata": {},
   "outputs": [],
   "source": [
    "users=users.set_index('user_id')\n"
   ]
  },
  {
   "cell_type": "code",
   "execution_count": 35,
   "metadata": {
    "scrolled": false
   },
   "outputs": [],
   "source": [
    "#add plan\n",
    "agg_user=pd.merge(agg_user,users,right_index=True, left_index=True)"
   ]
  },
  {
   "cell_type": "code",
   "execution_count": 36,
   "metadata": {},
   "outputs": [
    {
     "data": {
      "text/html": [
       "<div>\n",
       "<style scoped>\n",
       "    .dataframe tbody tr th:only-of-type {\n",
       "        vertical-align: middle;\n",
       "    }\n",
       "\n",
       "    .dataframe tbody tr th {\n",
       "        vertical-align: top;\n",
       "    }\n",
       "\n",
       "    .dataframe thead th {\n",
       "        text-align: right;\n",
       "    }\n",
       "</style>\n",
       "<table border=\"1\" class=\"dataframe\">\n",
       "  <thead>\n",
       "    <tr style=\"text-align: right;\">\n",
       "      <th></th>\n",
       "      <th></th>\n",
       "      <th>call_count</th>\n",
       "      <th>call_duration</th>\n",
       "      <th>message_count</th>\n",
       "      <th>gb_usage</th>\n",
       "      <th>city</th>\n",
       "      <th>plan</th>\n",
       "    </tr>\n",
       "    <tr>\n",
       "      <th>user_id</th>\n",
       "      <th>month</th>\n",
       "      <th></th>\n",
       "      <th></th>\n",
       "      <th></th>\n",
       "      <th></th>\n",
       "      <th></th>\n",
       "      <th></th>\n",
       "    </tr>\n",
       "  </thead>\n",
       "  <tbody>\n",
       "    <tr>\n",
       "      <th>1000</th>\n",
       "      <th>12</th>\n",
       "      <td>16.0</td>\n",
       "      <td>124.0</td>\n",
       "      <td>11.0</td>\n",
       "      <td>1.90147</td>\n",
       "      <td>Atlanta-Sandy Springs-Roswell, GA MSA</td>\n",
       "      <td>ultimate</td>\n",
       "    </tr>\n",
       "    <tr>\n",
       "      <th rowspan=\"4\" valign=\"top\">1001</th>\n",
       "      <th>8</th>\n",
       "      <td>27.0</td>\n",
       "      <td>182.0</td>\n",
       "      <td>30.0</td>\n",
       "      <td>6.91915</td>\n",
       "      <td>Seattle-Tacoma-Bellevue, WA MSA</td>\n",
       "      <td>surf</td>\n",
       "    </tr>\n",
       "    <tr>\n",
       "      <th>9</th>\n",
       "      <td>49.0</td>\n",
       "      <td>315.0</td>\n",
       "      <td>44.0</td>\n",
       "      <td>13.31482</td>\n",
       "      <td>Seattle-Tacoma-Bellevue, WA MSA</td>\n",
       "      <td>surf</td>\n",
       "    </tr>\n",
       "    <tr>\n",
       "      <th>10</th>\n",
       "      <td>65.0</td>\n",
       "      <td>393.0</td>\n",
       "      <td>53.0</td>\n",
       "      <td>22.33049</td>\n",
       "      <td>Seattle-Tacoma-Bellevue, WA MSA</td>\n",
       "      <td>surf</td>\n",
       "    </tr>\n",
       "    <tr>\n",
       "      <th>11</th>\n",
       "      <td>64.0</td>\n",
       "      <td>426.0</td>\n",
       "      <td>36.0</td>\n",
       "      <td>18.50430</td>\n",
       "      <td>Seattle-Tacoma-Bellevue, WA MSA</td>\n",
       "      <td>surf</td>\n",
       "    </tr>\n",
       "    <tr>\n",
       "      <th>...</th>\n",
       "      <th>...</th>\n",
       "      <td>...</td>\n",
       "      <td>...</td>\n",
       "      <td>...</td>\n",
       "      <td>...</td>\n",
       "      <td>...</td>\n",
       "      <td>...</td>\n",
       "    </tr>\n",
       "    <tr>\n",
       "      <th>1349</th>\n",
       "      <th>12</th>\n",
       "      <td>NaN</td>\n",
       "      <td>NaN</td>\n",
       "      <td>61.0</td>\n",
       "      <td>13.03991</td>\n",
       "      <td>Boston-Cambridge-Newton, MA-NH MSA</td>\n",
       "      <td>surf</td>\n",
       "    </tr>\n",
       "    <tr>\n",
       "      <th>1361</th>\n",
       "      <th>5</th>\n",
       "      <td>NaN</td>\n",
       "      <td>NaN</td>\n",
       "      <td>2.0</td>\n",
       "      <td>1.51969</td>\n",
       "      <td>Birmingham-Hoover, AL MSA</td>\n",
       "      <td>surf</td>\n",
       "    </tr>\n",
       "    <tr>\n",
       "      <th>1482</th>\n",
       "      <th>10</th>\n",
       "      <td>NaN</td>\n",
       "      <td>NaN</td>\n",
       "      <td>2.0</td>\n",
       "      <td>NaN</td>\n",
       "      <td>New York-Newark-Jersey City, NY-NJ-PA MSA</td>\n",
       "      <td>ultimate</td>\n",
       "    </tr>\n",
       "    <tr>\n",
       "      <th>1108</th>\n",
       "      <th>12</th>\n",
       "      <td>NaN</td>\n",
       "      <td>NaN</td>\n",
       "      <td>NaN</td>\n",
       "      <td>0.23317</td>\n",
       "      <td>Salt Lake City, UT MSA</td>\n",
       "      <td>ultimate</td>\n",
       "    </tr>\n",
       "    <tr>\n",
       "      <th>1311</th>\n",
       "      <th>6</th>\n",
       "      <td>NaN</td>\n",
       "      <td>NaN</td>\n",
       "      <td>NaN</td>\n",
       "      <td>1.49883</td>\n",
       "      <td>Memphis, TN-MS-AR MSA</td>\n",
       "      <td>ultimate</td>\n",
       "    </tr>\n",
       "  </tbody>\n",
       "</table>\n",
       "<p>2293 rows × 6 columns</p>\n",
       "</div>"
      ],
      "text/plain": [
       "               call_count  call_duration  message_count  gb_usage  \\\n",
       "user_id month                                                       \n",
       "1000    12           16.0          124.0           11.0   1.90147   \n",
       "1001    8            27.0          182.0           30.0   6.91915   \n",
       "        9            49.0          315.0           44.0  13.31482   \n",
       "        10           65.0          393.0           53.0  22.33049   \n",
       "        11           64.0          426.0           36.0  18.50430   \n",
       "...                   ...            ...            ...       ...   \n",
       "1349    12            NaN            NaN           61.0  13.03991   \n",
       "1361    5             NaN            NaN            2.0   1.51969   \n",
       "1482    10            NaN            NaN            2.0       NaN   \n",
       "1108    12            NaN            NaN            NaN   0.23317   \n",
       "1311    6             NaN            NaN            NaN   1.49883   \n",
       "\n",
       "                                                    city      plan  \n",
       "user_id month                                                       \n",
       "1000    12         Atlanta-Sandy Springs-Roswell, GA MSA  ultimate  \n",
       "1001    8                Seattle-Tacoma-Bellevue, WA MSA      surf  \n",
       "        9                Seattle-Tacoma-Bellevue, WA MSA      surf  \n",
       "        10               Seattle-Tacoma-Bellevue, WA MSA      surf  \n",
       "        11               Seattle-Tacoma-Bellevue, WA MSA      surf  \n",
       "...                                                  ...       ...  \n",
       "1349    12            Boston-Cambridge-Newton, MA-NH MSA      surf  \n",
       "1361    5                      Birmingham-Hoover, AL MSA      surf  \n",
       "1482    10     New York-Newark-Jersey City, NY-NJ-PA MSA  ultimate  \n",
       "1108    12                        Salt Lake City, UT MSA  ultimate  \n",
       "1311    6                          Memphis, TN-MS-AR MSA  ultimate  \n",
       "\n",
       "[2293 rows x 6 columns]"
      ]
     },
     "execution_count": 36,
     "metadata": {},
     "output_type": "execute_result"
    }
   ],
   "source": [
    "agg_user"
   ]
  },
  {
   "cell_type": "markdown",
   "metadata": {},
   "source": [
    "Now that I have my final aggregated table, I will round gb usage up as that is how the monthly revenue will be decided on and charged. "
   ]
  },
  {
   "cell_type": "code",
   "execution_count": 37,
   "metadata": {},
   "outputs": [],
   "source": [
    "agg_user['gb_usage']= np.ceil(agg_user['gb_usage'])\n"
   ]
  },
  {
   "cell_type": "code",
   "execution_count": 38,
   "metadata": {
    "scrolled": true
   },
   "outputs": [
    {
     "name": "stdout",
     "output_type": "stream",
     "text": [
      "<class 'pandas.core.frame.DataFrame'>\n",
      "MultiIndex: 2293 entries, (1000, 12) to (1311, 6)\n",
      "Data columns (total 6 columns):\n",
      " #   Column         Non-Null Count  Dtype  \n",
      "---  ------         --------------  -----  \n",
      " 0   call_count     2258 non-null   float64\n",
      " 1   call_duration  2258 non-null   float64\n",
      " 2   message_count  1806 non-null   float64\n",
      " 3   gb_usage       2277 non-null   float64\n",
      " 4   city           2293 non-null   object \n",
      " 5   plan           2293 non-null   object \n",
      "dtypes: float64(4), object(2)\n",
      "memory usage: 118.5+ KB\n"
     ]
    }
   ],
   "source": [
    "agg_user.info()"
   ]
  },
  {
   "cell_type": "markdown",
   "metadata": {},
   "source": [
    "Now I will calculate the monthly revenue for each user. As there are hundreds of users, it is more efficient to create a function and then later on apply that function to the rows of the table.\n",
    "\n",
    "The below function makes use of counters and if statements. It takes into account the base amount for each plan (20 for Surf, 70 for Ultimate) and then each parameter has its own counter. Based on the user's usage and if they exceed a certain number, the appropriate counter will have the appropriate amount added onto it.\n",
    "\n",
    "At the end, monthly revenue (which is a total of the counters) is returned.\n",
    "\n"
   ]
  },
  {
   "cell_type": "code",
   "execution_count": 39,
   "metadata": {},
   "outputs": [],
   "source": [
    "# Calculating the monthly revenue for each user\n",
    "def monthly_revenue_surf(row):\n",
    "    surf_revenue = 20\n",
    "    duration_revenue =0\n",
    "    message_revenue = 0\n",
    "    gb_revenue=0\n",
    "    monthly_revenue=0\n",
    "    ult_revenue = 70\n",
    " \n",
    "    \n",
    "    if row['plan'] == 'surf':\n",
    "        duration_revenue=0\n",
    "        if row['call_duration'] > 500:\n",
    "            duration_revenue +=(row['call_duration'] - 500)*0.03\n",
    "        message_revenue=0\n",
    "        if row['message_count'] > 50:\n",
    "            message_revenue+=(row['message_count']-50) * 0.03\n",
    "        gb_revenue=0\n",
    "        if row['gb_usage'] > 15:        \n",
    "            gb_revenue+=(row['gb_usage']-15)*10\n",
    "        monthly_revenue = surf_revenue+duration_revenue+message_revenue+gb_revenue\n",
    "        return monthly_revenue\n",
    "    elif row['plan']=='ultimate':\n",
    "        duration_revenue=0\n",
    "        if row['call_duration'] > 3000:\n",
    "            duration_revenue +=(row['call_duration'] - 3000)*0.01\n",
    "        message_revenue=0\n",
    "        if row['message_count'] > 1000:\n",
    "            message_revenue+=(row['message_count']-1000) * 0.01\n",
    "        gb_revenue=0\n",
    "        if row['gb_usage'] > 30:        \n",
    "            gb_revenue+=(row['gb_usage']-30)*7\n",
    "        monthly_revenue = ult_revenue+duration_revenue+message_revenue+gb_revenue\n",
    "        return monthly_revenue\n",
    "            \n",
    "        \n",
    "        \n",
    "        \n"
   ]
  },
  {
   "cell_type": "code",
   "execution_count": 40,
   "metadata": {},
   "outputs": [],
   "source": [
    "agg_user['monthly_revenue']= agg_user.apply(monthly_revenue_surf, axis=1)"
   ]
  },
  {
   "cell_type": "code",
   "execution_count": 41,
   "metadata": {
    "scrolled": true
   },
   "outputs": [
    {
     "data": {
      "text/html": [
       "<div>\n",
       "<style scoped>\n",
       "    .dataframe tbody tr th:only-of-type {\n",
       "        vertical-align: middle;\n",
       "    }\n",
       "\n",
       "    .dataframe tbody tr th {\n",
       "        vertical-align: top;\n",
       "    }\n",
       "\n",
       "    .dataframe thead th {\n",
       "        text-align: right;\n",
       "    }\n",
       "</style>\n",
       "<table border=\"1\" class=\"dataframe\">\n",
       "  <thead>\n",
       "    <tr style=\"text-align: right;\">\n",
       "      <th></th>\n",
       "      <th></th>\n",
       "      <th>call_count</th>\n",
       "      <th>call_duration</th>\n",
       "      <th>message_count</th>\n",
       "      <th>gb_usage</th>\n",
       "      <th>city</th>\n",
       "      <th>plan</th>\n",
       "      <th>monthly_revenue</th>\n",
       "    </tr>\n",
       "    <tr>\n",
       "      <th>user_id</th>\n",
       "      <th>month</th>\n",
       "      <th></th>\n",
       "      <th></th>\n",
       "      <th></th>\n",
       "      <th></th>\n",
       "      <th></th>\n",
       "      <th></th>\n",
       "      <th></th>\n",
       "    </tr>\n",
       "  </thead>\n",
       "  <tbody>\n",
       "    <tr>\n",
       "      <th>1000</th>\n",
       "      <th>12</th>\n",
       "      <td>16.0</td>\n",
       "      <td>124.0</td>\n",
       "      <td>11.0</td>\n",
       "      <td>2.0</td>\n",
       "      <td>Atlanta-Sandy Springs-Roswell, GA MSA</td>\n",
       "      <td>ultimate</td>\n",
       "      <td>70.00</td>\n",
       "    </tr>\n",
       "    <tr>\n",
       "      <th rowspan=\"5\" valign=\"top\">1001</th>\n",
       "      <th>8</th>\n",
       "      <td>27.0</td>\n",
       "      <td>182.0</td>\n",
       "      <td>30.0</td>\n",
       "      <td>7.0</td>\n",
       "      <td>Seattle-Tacoma-Bellevue, WA MSA</td>\n",
       "      <td>surf</td>\n",
       "      <td>20.00</td>\n",
       "    </tr>\n",
       "    <tr>\n",
       "      <th>9</th>\n",
       "      <td>49.0</td>\n",
       "      <td>315.0</td>\n",
       "      <td>44.0</td>\n",
       "      <td>14.0</td>\n",
       "      <td>Seattle-Tacoma-Bellevue, WA MSA</td>\n",
       "      <td>surf</td>\n",
       "      <td>20.00</td>\n",
       "    </tr>\n",
       "    <tr>\n",
       "      <th>10</th>\n",
       "      <td>65.0</td>\n",
       "      <td>393.0</td>\n",
       "      <td>53.0</td>\n",
       "      <td>23.0</td>\n",
       "      <td>Seattle-Tacoma-Bellevue, WA MSA</td>\n",
       "      <td>surf</td>\n",
       "      <td>100.09</td>\n",
       "    </tr>\n",
       "    <tr>\n",
       "      <th>11</th>\n",
       "      <td>64.0</td>\n",
       "      <td>426.0</td>\n",
       "      <td>36.0</td>\n",
       "      <td>19.0</td>\n",
       "      <td>Seattle-Tacoma-Bellevue, WA MSA</td>\n",
       "      <td>surf</td>\n",
       "      <td>60.00</td>\n",
       "    </tr>\n",
       "    <tr>\n",
       "      <th>12</th>\n",
       "      <td>56.0</td>\n",
       "      <td>412.0</td>\n",
       "      <td>44.0</td>\n",
       "      <td>20.0</td>\n",
       "      <td>Seattle-Tacoma-Bellevue, WA MSA</td>\n",
       "      <td>surf</td>\n",
       "      <td>70.00</td>\n",
       "    </tr>\n",
       "    <tr>\n",
       "      <th rowspan=\"3\" valign=\"top\">1002</th>\n",
       "      <th>10</th>\n",
       "      <td>11.0</td>\n",
       "      <td>59.0</td>\n",
       "      <td>15.0</td>\n",
       "      <td>7.0</td>\n",
       "      <td>Las Vegas-Henderson-Paradise, NV MSA</td>\n",
       "      <td>surf</td>\n",
       "      <td>20.00</td>\n",
       "    </tr>\n",
       "    <tr>\n",
       "      <th>11</th>\n",
       "      <td>55.0</td>\n",
       "      <td>386.0</td>\n",
       "      <td>32.0</td>\n",
       "      <td>20.0</td>\n",
       "      <td>Las Vegas-Henderson-Paradise, NV MSA</td>\n",
       "      <td>surf</td>\n",
       "      <td>70.00</td>\n",
       "    </tr>\n",
       "    <tr>\n",
       "      <th>12</th>\n",
       "      <td>47.0</td>\n",
       "      <td>384.0</td>\n",
       "      <td>41.0</td>\n",
       "      <td>15.0</td>\n",
       "      <td>Las Vegas-Henderson-Paradise, NV MSA</td>\n",
       "      <td>surf</td>\n",
       "      <td>20.00</td>\n",
       "    </tr>\n",
       "    <tr>\n",
       "      <th>1003</th>\n",
       "      <th>12</th>\n",
       "      <td>149.0</td>\n",
       "      <td>1104.0</td>\n",
       "      <td>50.0</td>\n",
       "      <td>28.0</td>\n",
       "      <td>Tulsa, OK MSA</td>\n",
       "      <td>surf</td>\n",
       "      <td>168.12</td>\n",
       "    </tr>\n",
       "  </tbody>\n",
       "</table>\n",
       "</div>"
      ],
      "text/plain": [
       "               call_count  call_duration  message_count  gb_usage  \\\n",
       "user_id month                                                       \n",
       "1000    12           16.0          124.0           11.0       2.0   \n",
       "1001    8            27.0          182.0           30.0       7.0   \n",
       "        9            49.0          315.0           44.0      14.0   \n",
       "        10           65.0          393.0           53.0      23.0   \n",
       "        11           64.0          426.0           36.0      19.0   \n",
       "        12           56.0          412.0           44.0      20.0   \n",
       "1002    10           11.0           59.0           15.0       7.0   \n",
       "        11           55.0          386.0           32.0      20.0   \n",
       "        12           47.0          384.0           41.0      15.0   \n",
       "1003    12          149.0         1104.0           50.0      28.0   \n",
       "\n",
       "                                                city      plan  \\\n",
       "user_id month                                                    \n",
       "1000    12     Atlanta-Sandy Springs-Roswell, GA MSA  ultimate   \n",
       "1001    8            Seattle-Tacoma-Bellevue, WA MSA      surf   \n",
       "        9            Seattle-Tacoma-Bellevue, WA MSA      surf   \n",
       "        10           Seattle-Tacoma-Bellevue, WA MSA      surf   \n",
       "        11           Seattle-Tacoma-Bellevue, WA MSA      surf   \n",
       "        12           Seattle-Tacoma-Bellevue, WA MSA      surf   \n",
       "1002    10      Las Vegas-Henderson-Paradise, NV MSA      surf   \n",
       "        11      Las Vegas-Henderson-Paradise, NV MSA      surf   \n",
       "        12      Las Vegas-Henderson-Paradise, NV MSA      surf   \n",
       "1003    12                             Tulsa, OK MSA      surf   \n",
       "\n",
       "               monthly_revenue  \n",
       "user_id month                   \n",
       "1000    12               70.00  \n",
       "1001    8                20.00  \n",
       "        9                20.00  \n",
       "        10              100.09  \n",
       "        11               60.00  \n",
       "        12               70.00  \n",
       "1002    10               20.00  \n",
       "        11               70.00  \n",
       "        12               20.00  \n",
       "1003    12              168.12  "
      ]
     },
     "execution_count": 41,
     "metadata": {},
     "output_type": "execute_result"
    }
   ],
   "source": [
    "agg_user.head(10)"
   ]
  },
  {
   "cell_type": "markdown",
   "metadata": {},
   "source": [
    "## Study user behaviour"
   ]
  },
  {
   "cell_type": "markdown",
   "metadata": {},
   "source": [
    "Now that I have my completed table with monthly revenue I can proceed into the analysis portion. I will be analyzing the calls, message, internet, and revenue parameters of the data to see if there is a difference in behavior/activity between the users of the two plans. \n",
    "I will be calculating the means of the parameters based on the month and the plan.\n",
    "\n",
    "It will be important to keep in mind that more of the customers are using the Surf plan, which will affect certain aggreation methods such as count and sum."
   ]
  },
  {
   "cell_type": "markdown",
   "metadata": {},
   "source": [
    "### Calls"
   ]
  },
  {
   "cell_type": "code",
   "execution_count": 42,
   "metadata": {},
   "outputs": [
    {
     "data": {
      "text/plain": [
       "Text(0.5, 1.0, 'The Average Call Duration of each Plan per Month(minutes)')"
      ]
     },
     "execution_count": 42,
     "metadata": {},
     "output_type": "execute_result"
    },
    {
     "data": {
      "image/png": "[encoded data removed]",
      "text/plain": [
       "<Figure size 432x288 with 1 Axes>"
      ]
     },
     "metadata": {
      "needs_background": "light"
     },
     "output_type": "display_data"
    }
   ],
   "source": [
    "# Comparing average duration of calls per each plan per each distinct month\n",
    "avg_call= agg_user.groupby(['plan', 'month']).agg({'call_duration':'mean'}).plot(kind='bar')\n",
    "plt.title('The Average Call Duration of each Plan per Month(minutes)')\n"
   ]
  },
  {
   "cell_type": "code",
   "execution_count": 43,
   "metadata": {
    "scrolled": true
   },
   "outputs": [
    {
     "data": {
      "text/plain": [
       "Text(0.5, 0, 'Sum of Call Usage in Minutes')"
      ]
     },
     "execution_count": 43,
     "metadata": {},
     "output_type": "execute_result"
    },
    {
     "data": {
      "image/png": "[encoded data removed]",
      "text/plain": [
       "<Figure size 432x288 with 1 Axes>"
      ]
     },
     "metadata": {
      "needs_background": "light"
     },
     "output_type": "display_data"
    },
    {
     "data": {
      "image/png": "[encoded data removed]",
      "text/plain": [
       "<Figure size 432x288 with 1 Axes>"
      ]
     },
     "metadata": {
      "needs_background": "light"
     },
     "output_type": "display_data"
    }
   ],
   "source": [
    "# Comparing the number of minutes users of each plan require each month.\n",
    "surf_minute_his= agg_user.query('plan==\"surf\"').groupby('month').agg({'call_duration':'sum'}).plot(kind='hist',title='Surf Call Duration',xlabel='Month Usage in Minutes',alpha=0.3,legend=True)\n",
    "plt.xlabel('Sum of Call Usage in Minutes')\n",
    "ult_minute_his=agg_user.query('plan==\"ultimate\"').groupby('month').agg({'call_duration':'sum'}).plot(kind='hist',title='Ultimate Call Duration',xlabel=\"Month Usage in Minutes\",alpha=0.3,legend=True)\n",
    "plt.xlabel('Sum of Call Usage in Minutes')\n"
   ]
  },
  {
   "cell_type": "code",
   "execution_count": 44,
   "metadata": {
    "scrolled": true
   },
   "outputs": [
    {
     "name": "stdout",
     "output_type": "stream",
     "text": [
      "The average monthly call duration and variance for the Surf plan is 436.51974110032364 and 52571.06324345624\n",
      "\n",
      "The average monthly call duration and variance for the Ultimate plan is 434.67601683029454 and 56573.63224703341\n"
     ]
    }
   ],
   "source": [
    "# Calculating the mean and the variance of the monthly call duration\n",
    "surf_avg_min=agg_user.query('plan==\"surf\"')['call_duration'].mean()\n",
    "surf_var_min=agg_user.query('plan==\"surf\"')['call_duration'].var()\n",
    "ult_avg_min=agg_user.query('plan==\"ultimate\"')['call_duration'].mean()\n",
    "ult_var_min=agg_user.query('plan==\"ultimate\"')['call_duration'].var()\n",
    "\n",
    "print('The average monthly call duration and variance for the Surf plan is',surf_avg_min,'and',surf_var_min)\n",
    "print()\n",
    "print('The average monthly call duration and variance for the Ultimate plan is',ult_avg_min,'and',ult_var_min)\n",
    "\n"
   ]
  },
  {
   "cell_type": "code",
   "execution_count": 45,
   "metadata": {},
   "outputs": [
    {
     "data": {
      "image/png": "[encoded data removed]",
      "text/plain": [
       "<Figure size 576x576 with 1 Axes>"
      ]
     },
     "metadata": {
      "needs_background": "light"
     },
     "output_type": "display_data"
    }
   ],
   "source": [
    "agg_user.boxplot(column='call_duration', by='plan', figsize=(8,8))\n",
    "plt.show()\n"
   ]
  },
  {
   "cell_type": "code",
   "execution_count": 46,
   "metadata": {},
   "outputs": [
    {
     "data": {
      "image/png": "[encoded data removed]",
      "text/plain": [
       "<Figure size 720x720 with 1 Axes>"
      ]
     },
     "metadata": {
      "needs_background": "light"
     },
     "output_type": "display_data"
    }
   ],
   "source": [
    "# Ploting a boxplot to visualize the distribution of the monthly call duration\n",
    "agg_user.boxplot(column='call_duration', by=['plan','month'],figsize=(10,10), rot=90)\n",
    "\n",
    "\n",
    "plt.show()"
   ]
  },
  {
   "cell_type": "markdown",
   "metadata": {},
   "source": [
    "### Conclusion ###\n",
    "\n",
    "Though there are instances of Surf plan users call duration sum being around 120,000 minutes, when comparing the average call duration between the plans, the means are not that different with Surf plan having a mean of around 436 minutes a month and Ultimate plan having a mean of around 434 minutes a month. The box plots show that there are more outliers with Surf plan but the variance is higher with the Ultimate plan."
   ]
  },
  {
   "cell_type": "markdown",
   "metadata": {},
   "source": [
    " "
   ]
  },
  {
   "cell_type": "markdown",
   "metadata": {},
   "source": [
    "### Messages"
   ]
  },
  {
   "cell_type": "code",
   "execution_count": 47,
   "metadata": {
    "scrolled": true
   },
   "outputs": [
    {
     "data": {
      "text/plain": [
       "Text(0.5, 1.0, 'Number of Messages by Plan and Month')"
      ]
     },
     "execution_count": 47,
     "metadata": {},
     "output_type": "execute_result"
    },
    {
     "data": {
      "image/png": "[encoded data removed]",
      "text/plain": [
       "<Figure size 432x288 with 1 Axes>"
      ]
     },
     "metadata": {
      "needs_background": "light"
     },
     "output_type": "display_data"
    }
   ],
   "source": [
    "# Comparing the number of messages users of each plan tend to send each month\n",
    "mess_plot=agg_user.groupby(['plan','month'])['message_count'].sum().plot(kind='bar')\n",
    "plt.title('Number of Messages by Plan and Month')\n"
   ]
  },
  {
   "cell_type": "code",
   "execution_count": 48,
   "metadata": {},
   "outputs": [
    {
     "name": "stdout",
     "output_type": "stream",
     "text": [
      "The average number of messages sent a month and variance for the Surf plan is 40.10965630114566 and 1091.3442310038054\n",
      "\n",
      "The average number of messages sent a month and variance for the Ultimate plan is 46.29623287671233 and 1085.183107568317\n"
     ]
    }
   ],
   "source": [
    "surf_avg_mess=agg_user.query('plan==\"surf\"')['message_count'].mean()\n",
    "surf_var_mess=agg_user.query('plan==\"surf\"')['message_count'].var()\n",
    "ult_avg_mess=agg_user.query('plan==\"ultimate\"')['message_count'].mean()\n",
    "ult_var_mess=agg_user.query('plan==\"ultimate\"')['message_count'].var()\n",
    "\n",
    "print('The average number of messages sent a month and variance for the Surf plan is',surf_avg_mess,'and',surf_var_mess)\n",
    "print()\n",
    "print('The average number of messages sent a month and variance for the Ultimate plan is',ult_avg_mess,'and',ult_var_mess)\n"
   ]
  },
  {
   "cell_type": "code",
   "execution_count": 49,
   "metadata": {},
   "outputs": [
    {
     "data": {
      "image/png": "[encoded data removed]",
      "text/plain": [
       "<Figure size 720x720 with 1 Axes>"
      ]
     },
     "metadata": {
      "needs_background": "light"
     },
     "output_type": "display_data"
    }
   ],
   "source": [
    "agg_user.boxplot(column='message_count', by=['plan','month'],figsize=(10,10), rot=90)\n",
    "\n",
    "plt.show()"
   ]
  },
  {
   "cell_type": "code",
   "execution_count": 50,
   "metadata": {},
   "outputs": [
    {
     "data": {
      "image/png": "[encoded data removed]",
      "text/plain": [
       "<Figure size 576x576 with 1 Axes>"
      ]
     },
     "metadata": {
      "needs_background": "light"
     },
     "output_type": "display_data"
    }
   ],
   "source": [
    "agg_user.boxplot(column='message_count', by='plan', figsize=(8,8))\n",
    "plt.show()"
   ]
  },
  {
   "cell_type": "markdown",
   "metadata": {},
   "source": [
    "### Conclusion ###\n",
    "As stated above there are more customers enrolled in the Surf plan which can help explain the difference in the 'Number of Messages by Plan and Month' chart. Looking at the bar chart it is tempting to assume that Surf plan users send more messages a month on average than Ultimate plan users but that doesn't seem to be the case.\n",
    "Surf plan users send an average of about 40 messages a month while Ultimate plan users send an average of about 46 messages a month."
   ]
  },
  {
   "cell_type": "markdown",
   "metadata": {},
   "source": [
    " "
   ]
  },
  {
   "cell_type": "markdown",
   "metadata": {},
   "source": [
    "### Internet"
   ]
  },
  {
   "cell_type": "code",
   "execution_count": 51,
   "metadata": {},
   "outputs": [
    {
     "data": {
      "image/png": "[encoded data removed]",
      "text/plain": [
       "<Figure size 432x288 with 1 Axes>"
      ]
     },
     "metadata": {
      "needs_background": "light"
     },
     "output_type": "display_data"
    }
   ],
   "source": [
    "# Comparing the amount of internet traffic consumed by users per plan\n",
    "int_plot=agg_user.groupby(['plan','month'])['gb_usage'].sum().plot(kind='bar')\n",
    "plt.title('Amount of Traffic Consumed Organized By Plan and Month')\n",
    "plt.show()"
   ]
  },
  {
   "cell_type": "code",
   "execution_count": 52,
   "metadata": {},
   "outputs": [
    {
     "name": "stdout",
     "output_type": "stream",
     "text": [
      "The average number of internet usage a month and its variance for the Surf plan is 17.201540436456995 and 62.05826352148524\n",
      "\n",
      "The average number of internet usage a month and its variance for the Ultimate plan is 17.744089012517385 and 61.511020025491916\n"
     ]
    }
   ],
   "source": [
    "surf_avg_int=agg_user.query('plan==\"surf\"')['gb_usage'].mean()\n",
    "surf_var_int=agg_user.query('plan==\"surf\"')['gb_usage'].var()\n",
    "ult_avg_int=agg_user.query('plan==\"ultimate\"')['gb_usage'].mean()\n",
    "ult_var_int=agg_user.query('plan==\"ultimate\"')['gb_usage'].var()\n",
    "\n",
    "print('The average number of internet usage a month and its variance for the Surf plan is',surf_avg_int,'and',surf_var_int)\n",
    "print()\n",
    "print('The average number of internet usage a month and its variance for the Ultimate plan is',ult_avg_int,'and',ult_var_int)\n"
   ]
  },
  {
   "cell_type": "code",
   "execution_count": 53,
   "metadata": {
    "scrolled": true
   },
   "outputs": [
    {
     "data": {
      "image/png": "[encoded data removed]",
      "text/plain": [
       "<Figure size 576x576 with 1 Axes>"
      ]
     },
     "metadata": {
      "needs_background": "light"
     },
     "output_type": "display_data"
    }
   ],
   "source": [
    "agg_user.boxplot(column='gb_usage', by='plan', figsize=(8,8))\n",
    "plt.show()"
   ]
  },
  {
   "cell_type": "code",
   "execution_count": 54,
   "metadata": {},
   "outputs": [
    {
     "data": {
      "image/png": "[encoded data removed]",
      "text/plain": [
       "<Figure size 720x720 with 1 Axes>"
      ]
     },
     "metadata": {
      "needs_background": "light"
     },
     "output_type": "display_data"
    }
   ],
   "source": [
    "agg_user.boxplot(column='gb_usage', by=['plan','month'],figsize=(10,10), rot=90)\n",
    "plt.show()"
   ]
  },
  {
   "cell_type": "markdown",
   "metadata": {},
   "source": [
    "### Conclusions ###\n",
    "Similarly to the message bar chart, it is tempting to assume that Surf plan users use more data on average every month, than Ultimate plan users. But unlike the message parameter, the average monthly data usage for both plans looks very similar, with both plans having users that spend around 17gb's a month with similiar variances as well."
   ]
  },
  {
   "cell_type": "markdown",
   "metadata": {},
   "source": [
    " "
   ]
  },
  {
   "cell_type": "markdown",
   "metadata": {},
   "source": [
    "## Revenue"
   ]
  },
  {
   "cell_type": "code",
   "execution_count": 55,
   "metadata": {
    "scrolled": true
   },
   "outputs": [
    {
     "data": {
      "image/png": "[encoded data removed]",
      "text/plain": [
       "<Figure size 432x288 with 1 Axes>"
      ]
     },
     "metadata": {
      "needs_background": "light"
     },
     "output_type": "display_data"
    }
   ],
   "source": [
    "#total revenue brought in\n",
    "agg_user.groupby('plan')['monthly_revenue'].sum().plot(kind='bar')\n",
    "plt.title('Total Revenue Brought In, by Plan')\n",
    "plt.show()"
   ]
  },
  {
   "cell_type": "code",
   "execution_count": 56,
   "metadata": {},
   "outputs": [
    {
     "name": "stdout",
     "output_type": "stream",
     "text": [
      "The average amount a customer is charged and its variance for the Surf plan is 63.6116846789574 and 3295.5976941702293\n",
      "\n",
      "The average amount a customer is charged and its variance for the Ultimate plan is 72.70277777777778 and 160.6069463761397\n"
     ]
    }
   ],
   "source": [
    "#avg monthly revenue brought in \n",
    "surf_avg_rev=agg_user.query('plan==\"surf\"')['monthly_revenue'].mean()\n",
    "surf_var_rev=agg_user.query('plan==\"surf\"')['monthly_revenue'].var()\n",
    "ult_avg_rev=agg_user.query('plan==\"ultimate\"')['monthly_revenue'].mean()\n",
    "ult_var_rev=agg_user.query('plan==\"ultimate\"')['monthly_revenue'].var()\n",
    "\n",
    "print('The average amount a customer is charged and its variance for the Surf plan is',surf_avg_rev,'and',surf_var_rev)\n",
    "print()\n",
    "print('The average amount a customer is charged and its variance for the Ultimate plan is',ult_avg_rev,'and',ult_var_rev)\n"
   ]
  },
  {
   "cell_type": "code",
   "execution_count": 57,
   "metadata": {
    "scrolled": true
   },
   "outputs": [
    {
     "data": {
      "image/png": "[encoded data removed]",
      "text/plain": [
       "<Figure size 576x576 with 1 Axes>"
      ]
     },
     "metadata": {
      "needs_background": "light"
     },
     "output_type": "display_data"
    }
   ],
   "source": [
    "agg_user.boxplot(column='monthly_revenue', by='plan', figsize=(8,8))\n",
    "plt.show()"
   ]
  },
  {
   "cell_type": "code",
   "execution_count": 58,
   "metadata": {},
   "outputs": [
    {
     "data": {
      "image/png": "[encoded data removed]",
      "text/plain": [
       "<Figure size 720x720 with 1 Axes>"
      ]
     },
     "metadata": {
      "needs_background": "light"
     },
     "output_type": "display_data"
    }
   ],
   "source": [
    "agg_user.boxplot(column='monthly_revenue', by=['plan','month'], figsize=(10,10), rot=90)\n",
    "plt.show()"
   ]
  },
  {
   "cell_type": "markdown",
   "metadata": {},
   "source": [
    "### Conclusion ###\n",
    "One of the major goals of our analysis is to find out which plan brings in the most revenue. As there are more users using the Surf plan, it brings in a higher total revenue than the Ultimate plan at almost 100,000, while Ultimate brought in closer to 50,000 for 2018.\n",
    "However, when you break it down into the average monthly revenue by plan, the Ultimate plan actually brings in more money with the Ultimate plan user being charged about 72 a month on average and the Surf plan users being charged an average of around 63 a month. "
   ]
  },
  {
   "cell_type": "markdown",
   "metadata": {},
   "source": [
    " "
   ]
  },
  {
   "cell_type": "markdown",
   "metadata": {},
   "source": [
    "## Test statistical hypotheses"
   ]
  },
  {
   "cell_type": "markdown",
   "metadata": {},
   "source": [
    "Now I will test the hypothesis that the average revenue from users of the Ultimate and Surf calling plans differs."
   ]
  },
  {
   "cell_type": "code",
   "execution_count": 59,
   "metadata": {
    "scrolled": true
   },
   "outputs": [
    {
     "name": "stdout",
     "output_type": "stream",
     "text": [
      "LeveneResult(statistic=432.4350750021272, pvalue=4.005588978247873e-88)\n",
      "72.70277777777778\n",
      "63.6116846789574\n",
      "p-value:  2.81373182813939e-09\n",
      "We reject the null hypothesis\n"
     ]
    }
   ],
   "source": [
    "# Test the hypotheses\n",
    "\"\"\"H0: The average revenue of the Ultimate plan is equal to the average revenue of \n",
    "Surf plan\n",
    "Ha: The average revenue of the Ultimate plan is not equal to the average revenue of the\n",
    "Surf plan\n",
    "\n",
    "\"\"\"\n",
    "ult_rev= agg_user.query('plan==\"ultimate\"')['monthly_revenue']\n",
    "surf_rev=agg_user.query('plan==\"surf\"')['monthly_revenue']\n",
    "p_value_levene = stats.levene(ult_rev, surf_rev)\n",
    "print(p_value_levene)\n",
    "print(ult_rev.mean())\n",
    "print(surf_rev.mean())\n",
    "alpha = 0.05\n",
    "\n",
    "results = stats.ttest_ind(ult_rev, surf_rev,equal_var=False)\n",
    "print('p-value: ', results.pvalue)\n",
    "\n",
    "if results.pvalue < alpha:\n",
    "    print(\"We reject the null hypothesis\")\n",
    "else:\n",
    "    print(\"We can't reject the null hypothesis\")"
   ]
  },
  {
   "cell_type": "markdown",
   "metadata": {},
   "source": [
    "We will conduct a t-test to check the equality of these means. They are not paired so I used ttest_ind and since the variances are not equal, I made sure to include the parameter equal_var=False.\n",
    "We can see that the means of the Ultimate and Surf plan are not equal with, Ultimate having a higher monthly revenue average. \n",
    "The hypothesis test and it's resulting p-value allows us to reject the null hypothesis as there is very little probability of getting a difference of the means this size or larger."
   ]
  },
  {
   "cell_type": "markdown",
   "metadata": {},
   "source": [
    "I wlll now test the hypothesis that the average revenue from users in the NY-NJ area is different from that of the users from the other regions."
   ]
  },
  {
   "cell_type": "code",
   "execution_count": 60,
   "metadata": {},
   "outputs": [
    {
     "name": "stdout",
     "output_type": "stream",
     "text": [
      "LeveneResult(statistic=432.4350750021272, pvalue=4.005588978247873e-88)\n",
      "Mean of NY/NJ Users 63.73004926108375\n",
      "Mean of Other Users 67.05499735029147\n",
      "p-value:  0.19551827853120665\n",
      "We can't reject the null hypothesis\n"
     ]
    }
   ],
   "source": [
    "# Test the hypotheses\n",
    "\"\"\"H0: The average revenue of users in the NY-NJ area is equal to the average revenue of \n",
    "other plan users\n",
    "Ha: The average revenue of users in the NY-NJ area is not equal to the average revenue of\n",
    "other plan users \"\"\"\n",
    "\n",
    "ny_nj_users=agg_user.query('city.str.contains(\"NY\")==1')['monthly_revenue']\n",
    "others_users=agg_user.query('city.str.contains(\"NY\")==0')['monthly_revenue']\n",
    "p_value_levene = stats.levene(ult_rev, surf_rev)\n",
    "print(p_value_levene)\n",
    "print('Mean of NY/NJ Users',ny_nj_users.mean())\n",
    "print('Mean of Other Users',others_users.mean())\n",
    "alpha = 0.05\n",
    "\n",
    "results = stats.ttest_ind(ny_nj_users, others_users,equal_var=False)\n",
    "print('p-value: ', results.pvalue)\n",
    "\n",
    "if results.pvalue < alpha:\n",
    "    print(\"We reject the null hypothesis\")\n",
    "else:\n",
    "    print(\"We can't reject the null hypothesis\")"
   ]
  },
  {
   "cell_type": "markdown",
   "metadata": {},
   "source": [
    "Although the means of the NY/NJ users and other users are not equal, the p-value obtained tells us that there is a 12% chance of randomly getting a difference this size or larger. This is too high a probability to state that there is a significant difference between average monthly revenues."
   ]
  },
  {
   "cell_type": "markdown",
   "metadata": {},
   "source": [
    "## General conclusion\n",
    "\n",
    "\n",
    "\n",
    "My goal was to ascertain which plan brought in the most revenue to aid in advertising. \n",
    "My first step was to get familiar with the data and to see if it needed any cleaning. Though there was very little cleaning, I did add a month column to each data set and change the data types when needed. \n",
    "\n",
    "After the pre-processing was then, I then aggregated the data based on the message, call, and internet parameters on a monthly and plan basis. Finally I found the monthly revenue of the users. \n",
    "\n",
    "In my initial analysis, I assumed that the Surf plan would bring in more revenue as it had more customers enrolled in the plan than Ultimate. If the advertising department is focusing on the total revenue, then I would tell them to put more money behind Surf plan advertising as that is the plan that brings in the most amount of money.\n",
    "However, if the advertising team is focused on which plan brings in more money monthly, then they should focus their efforts on the Ultimate plan as that brings in more on average a month than the Surf plan does.\n",
    "\n",
    "This is further bolstered by my first hypothesis test that resulted in my rejecting the null hypothesis that the average monthly revenue for the Surf and Ultimate plan were the same. \n",
    "The advertising department need not worry about customer region though (at least as far at NY/NJ is concerned). My second hypothesis test did not find enough evidence to reject the null hypothesis that NY/NJ users average monthly revenue is the same as users from other regions."
   ]
  },
  {
   "cell_type": "markdown",
   "metadata": {},
   "source": [
    "<div class=\"alert alert-success\" role=\"alert\">\n",
    "<b>Reviewer's comment v1:</b>\n",
    "    \n",
    "- You conducted an outstanding research with correct interim findings, clean code and nice visualisation.\n",
    "- I also like your overall conclusion. It is very structured and provides insights and recommendations to the business."
   ]
  },
  {
   "cell_type": "markdown",
   "metadata": {},
   "source": [
    " "
   ]
  }
 ],
 "metadata": {
  "ExecuteTimeLog": [
   {
    "duration": 828,
    "start_time": "2021-11-16T09:21:11.304Z"
   },
   {
    "duration": 893,
    "start_time": "2021-11-16T09:21:17.728Z"
   },
   {
    "duration": 1150,
    "start_time": "2021-11-16T09:21:29.568Z"
   },
   {
    "duration": 3,
    "start_time": "2021-11-16T09:24:14.495Z"
   },
   {
    "duration": 120,
    "start_time": "2021-11-16T09:24:46.630Z"
   },
   {
    "duration": 3,
    "start_time": "2021-11-16T09:28:27.882Z"
   },
   {
    "duration": 4,
    "start_time": "2021-11-16T09:29:54.281Z"
   },
   {
    "duration": 3,
    "start_time": "2021-11-16T09:30:45.936Z"
   },
   {
    "duration": 4,
    "start_time": "2021-11-16T09:31:06.300Z"
   },
   {
    "duration": 113,
    "start_time": "2021-11-16T09:31:37.208Z"
   },
   {
    "duration": 143,
    "start_time": "2021-11-16T09:31:48.656Z"
   },
   {
    "duration": 98,
    "start_time": "2021-11-16T09:31:55.678Z"
   },
   {
    "duration": 3,
    "start_time": "2021-11-16T09:32:08.535Z"
   },
   {
    "duration": 111,
    "start_time": "2021-11-16T09:32:10.120Z"
   },
   {
    "duration": 3,
    "start_time": "2021-11-16T09:32:15.732Z"
   },
   {
    "duration": 4,
    "start_time": "2021-11-16T09:32:29.423Z"
   },
   {
    "duration": 3,
    "start_time": "2021-11-16T10:03:03.074Z"
   },
   {
    "duration": 3,
    "start_time": "2021-11-16T10:10:01.288Z"
   },
   {
    "duration": 3,
    "start_time": "2021-11-16T10:10:46.923Z"
   },
   {
    "duration": 121,
    "start_time": "2021-11-16T10:37:46.494Z"
   },
   {
    "duration": 125,
    "start_time": "2021-11-16T10:38:20.632Z"
   },
   {
    "duration": 112,
    "start_time": "2021-11-16T10:46:53.001Z"
   },
   {
    "duration": 110,
    "start_time": "2021-11-16T10:48:25.775Z"
   },
   {
    "duration": 3,
    "start_time": "2021-11-16T10:50:18.720Z"
   },
   {
    "duration": 4,
    "start_time": "2021-11-16T10:50:37.649Z"
   },
   {
    "duration": 2,
    "start_time": "2021-11-16T10:50:51.884Z"
   },
   {
    "duration": 3,
    "start_time": "2021-11-16T10:51:56.237Z"
   },
   {
    "duration": 101,
    "start_time": "2021-11-16T10:53:13.791Z"
   },
   {
    "duration": 3,
    "start_time": "2021-11-16T10:55:59.186Z"
   },
   {
    "duration": 3,
    "start_time": "2021-11-16T10:56:10.751Z"
   },
   {
    "duration": 3,
    "start_time": "2021-11-16T10:56:49.038Z"
   },
   {
    "duration": 3,
    "start_time": "2021-11-16T10:56:49.174Z"
   },
   {
    "duration": 4,
    "start_time": "2021-11-16T10:56:49.414Z"
   },
   {
    "duration": 3,
    "start_time": "2021-11-16T10:56:49.680Z"
   },
   {
    "duration": 3,
    "start_time": "2021-11-16T10:56:50.370Z"
   },
   {
    "duration": 114,
    "start_time": "2021-11-16T10:59:34.518Z"
   },
   {
    "duration": 3,
    "start_time": "2021-11-16T11:01:41.201Z"
   },
   {
    "duration": 116,
    "start_time": "2021-11-16T11:01:48.754Z"
   },
   {
    "duration": 3,
    "start_time": "2021-11-16T11:02:16.685Z"
   },
   {
    "duration": 3,
    "start_time": "2021-11-16T11:02:19.479Z"
   },
   {
    "duration": 3,
    "start_time": "2021-11-16T11:02:47.067Z"
   },
   {
    "duration": 3,
    "start_time": "2021-11-16T11:02:49.353Z"
   },
   {
    "duration": 3,
    "start_time": "2021-11-16T11:03:07.835Z"
   },
   {
    "duration": 3,
    "start_time": "2021-11-16T11:03:07.953Z"
   },
   {
    "duration": 112,
    "start_time": "2021-11-16T11:07:52.072Z"
   },
   {
    "duration": 187,
    "start_time": "2021-11-16T11:09:23.468Z"
   },
   {
    "duration": 4,
    "start_time": "2021-11-16T11:10:01.455Z"
   },
   {
    "duration": 3,
    "start_time": "2021-11-16T11:10:05.069Z"
   },
   {
    "duration": 4,
    "start_time": "2021-11-16T11:10:13.376Z"
   },
   {
    "duration": 3,
    "start_time": "2021-11-16T11:10:14.434Z"
   },
   {
    "duration": 3,
    "start_time": "2021-11-16T11:10:22.853Z"
   },
   {
    "duration": 4,
    "start_time": "2021-11-16T11:27:29.279Z"
   },
   {
    "duration": 4,
    "start_time": "2021-11-16T11:29:08.919Z"
   },
   {
    "duration": 118,
    "start_time": "2021-11-16T11:29:46.703Z"
   },
   {
    "duration": 437,
    "start_time": "2021-11-16T11:36:02.181Z"
   },
   {
    "duration": 157,
    "start_time": "2021-11-16T11:36:14.388Z"
   },
   {
    "duration": 207,
    "start_time": "2021-11-16T11:47:15.898Z"
   },
   {
    "duration": 3,
    "start_time": "2021-11-16T11:53:52.092Z"
   },
   {
    "duration": 3,
    "start_time": "2021-11-16T11:53:52.236Z"
   },
   {
    "duration": 3,
    "start_time": "2021-11-16T11:59:12.005Z"
   },
   {
    "duration": 112,
    "start_time": "2021-11-16T12:00:33.446Z"
   },
   {
    "duration": 3,
    "start_time": "2021-11-16T12:02:14.453Z"
   },
   {
    "duration": 3,
    "start_time": "2021-11-16T12:02:39.512Z"
   },
   {
    "duration": 106,
    "start_time": "2021-11-16T12:03:03.460Z"
   },
   {
    "duration": 3,
    "start_time": "2021-11-17T20:37:21.139Z"
   },
   {
    "duration": 3,
    "start_time": "2021-11-17T20:37:22.229Z"
   },
   {
    "duration": 3,
    "start_time": "2021-11-17T20:38:38.806Z"
   },
   {
    "duration": 3,
    "start_time": "2021-11-17T20:38:41.958Z"
   },
   {
    "duration": 3,
    "start_time": "2021-11-17T20:43:46.551Z"
   },
   {
    "duration": 4,
    "start_time": "2021-11-17T20:58:21.835Z"
   },
   {
    "duration": 3,
    "start_time": "2021-11-17T20:59:21.872Z"
   },
   {
    "duration": 4,
    "start_time": "2021-11-17T20:59:45.352Z"
   },
   {
    "duration": 4,
    "start_time": "2021-11-17T20:59:49.646Z"
   },
   {
    "duration": 159,
    "start_time": "2021-11-17T21:02:26.949Z"
   },
   {
    "duration": 3,
    "start_time": "2021-11-17T21:03:53.461Z"
   },
   {
    "duration": 3,
    "start_time": "2021-11-17T21:03:53.694Z"
   },
   {
    "duration": 3,
    "start_time": "2021-11-17T21:05:28.145Z"
   },
   {
    "duration": 116,
    "start_time": "2021-11-17T21:05:57.787Z"
   },
   {
    "duration": 3,
    "start_time": "2021-11-17T21:06:37.993Z"
   },
   {
    "duration": 3,
    "start_time": "2021-11-17T21:06:38.261Z"
   },
   {
    "duration": 3,
    "start_time": "2021-11-17T21:11:54.358Z"
   },
   {
    "duration": 3,
    "start_time": "2021-11-17T21:12:43.846Z"
   },
   {
    "duration": 4,
    "start_time": "2021-11-17T21:13:08.773Z"
   },
   {
    "duration": 3,
    "start_time": "2021-11-17T21:14:44.441Z"
   },
   {
    "duration": 3,
    "start_time": "2021-11-17T21:15:42.059Z"
   },
   {
    "duration": 4,
    "start_time": "2021-11-17T21:15:51.995Z"
   },
   {
    "duration": 3,
    "start_time": "2021-11-17T21:15:53.923Z"
   },
   {
    "duration": 3,
    "start_time": "2021-11-17T21:15:55.282Z"
   },
   {
    "duration": 3,
    "start_time": "2021-11-17T21:16:28.492Z"
   },
   {
    "duration": 3,
    "start_time": "2021-11-17T21:16:32.603Z"
   },
   {
    "duration": 3,
    "start_time": "2021-11-17T21:17:06.941Z"
   },
   {
    "duration": 98,
    "start_time": "2021-11-17T21:18:05.733Z"
   },
   {
    "duration": 4,
    "start_time": "2021-11-17T21:21:35.255Z"
   },
   {
    "duration": 3,
    "start_time": "2021-11-17T21:21:37.804Z"
   },
   {
    "duration": 4,
    "start_time": "2021-11-17T21:23:06.071Z"
   },
   {
    "duration": 3,
    "start_time": "2021-11-17T21:23:24.799Z"
   },
   {
    "duration": 3,
    "start_time": "2021-11-17T21:23:32.591Z"
   },
   {
    "duration": 98,
    "start_time": "2021-11-17T21:28:31.559Z"
   },
   {
    "duration": 3,
    "start_time": "2021-11-17T21:28:45.448Z"
   },
   {
    "duration": 3,
    "start_time": "2021-11-17T21:29:17.303Z"
   },
   {
    "duration": 3,
    "start_time": "2021-11-17T21:29:29.617Z"
   },
   {
    "duration": 3,
    "start_time": "2021-11-17T21:29:32.681Z"
   },
   {
    "duration": 3,
    "start_time": "2021-11-17T21:36:11.474Z"
   },
   {
    "duration": 3,
    "start_time": "2021-11-17T21:36:14.791Z"
   },
   {
    "duration": 3,
    "start_time": "2021-11-17T21:36:53.943Z"
   },
   {
    "duration": 3,
    "start_time": "2021-11-17T21:36:56.165Z"
   },
   {
    "duration": 4,
    "start_time": "2021-11-17T21:37:16.590Z"
   },
   {
    "duration": 3,
    "start_time": "2021-11-17T21:37:22.702Z"
   },
   {
    "duration": 4,
    "start_time": "2021-11-17T21:38:03.479Z"
   },
   {
    "duration": 3,
    "start_time": "2021-11-17T21:38:08.601Z"
   },
   {
    "duration": 3,
    "start_time": "2021-11-17T21:38:12.928Z"
   },
   {
    "duration": 3,
    "start_time": "2021-11-17T21:38:48.896Z"
   },
   {
    "duration": 2,
    "start_time": "2021-11-17T21:38:49.171Z"
   },
   {
    "duration": 4,
    "start_time": "2021-11-17T21:39:57.889Z"
   },
   {
    "duration": 3,
    "start_time": "2021-11-17T21:39:58.057Z"
   },
   {
    "duration": 3,
    "start_time": "2021-11-17T21:41:20.108Z"
   },
   {
    "duration": 3,
    "start_time": "2021-11-17T21:41:20.629Z"
   },
   {
    "duration": 3,
    "start_time": "2021-11-17T21:42:49.136Z"
   },
   {
    "duration": 3,
    "start_time": "2021-11-17T21:43:15.137Z"
   },
   {
    "duration": 4,
    "start_time": "2021-11-17T21:43:16.766Z"
   },
   {
    "duration": 4,
    "start_time": "2021-11-17T21:43:31.711Z"
   },
   {
    "duration": 3,
    "start_time": "2021-11-17T21:43:36.312Z"
   },
   {
    "duration": 4,
    "start_time": "2021-11-17T21:45:08.825Z"
   },
   {
    "duration": 4,
    "start_time": "2021-11-17T21:45:10.119Z"
   },
   {
    "duration": 4,
    "start_time": "2021-11-17T21:45:13.748Z"
   },
   {
    "duration": 3,
    "start_time": "2021-11-17T21:45:22.219Z"
   },
   {
    "duration": 3,
    "start_time": "2021-11-17T21:45:33.412Z"
   },
   {
    "duration": 2,
    "start_time": "2021-11-17T21:46:01.885Z"
   },
   {
    "duration": 3,
    "start_time": "2021-11-17T21:46:03.628Z"
   },
   {
    "duration": 107,
    "start_time": "2021-11-17T21:47:32.512Z"
   },
   {
    "duration": 103,
    "start_time": "2021-11-17T21:50:36.243Z"
   },
   {
    "duration": 3,
    "start_time": "2021-11-18T06:28:31.440Z"
   },
   {
    "duration": 3,
    "start_time": "2021-11-18T06:29:00.168Z"
   },
   {
    "duration": 3,
    "start_time": "2021-11-18T06:31:27.008Z"
   },
   {
    "duration": 2,
    "start_time": "2021-11-18T06:35:34.288Z"
   },
   {
    "duration": 2,
    "start_time": "2021-11-18T06:38:04.527Z"
   },
   {
    "duration": 1437,
    "start_time": "2022-05-04T00:58:09.766Z"
   },
   {
    "duration": 143,
    "start_time": "2022-05-04T01:00:42.496Z"
   },
   {
    "duration": 15,
    "start_time": "2022-05-04T01:01:52.986Z"
   },
   {
    "duration": 1920,
    "start_time": "2022-05-04T01:02:25.108Z"
   },
   {
    "duration": 119,
    "start_time": "2022-05-04T01:03:11.413Z"
   },
   {
    "duration": 156,
    "start_time": "2022-05-04T01:03:23.359Z"
   },
   {
    "duration": 55,
    "start_time": "2022-05-04T01:04:04.399Z"
   },
   {
    "duration": 114,
    "start_time": "2022-05-04T01:04:23.641Z"
   },
   {
    "duration": 104,
    "start_time": "2022-05-04T01:04:34.686Z"
   },
   {
    "duration": 451,
    "start_time": "2022-05-04T01:04:57.616Z"
   },
   {
    "duration": 12,
    "start_time": "2022-05-04T01:06:30.929Z"
   },
   {
    "duration": 13,
    "start_time": "2022-05-04T01:06:44.605Z"
   },
   {
    "duration": 4,
    "start_time": "2022-05-04T01:11:41.560Z"
   },
   {
    "duration": 10,
    "start_time": "2022-05-04T01:11:56.441Z"
   },
   {
    "duration": 9,
    "start_time": "2022-05-04T01:18:52.841Z"
   },
   {
    "duration": 4,
    "start_time": "2022-05-04T01:19:00.265Z"
   },
   {
    "duration": 9,
    "start_time": "2022-05-04T01:19:06.251Z"
   },
   {
    "duration": 5,
    "start_time": "2022-05-04T01:20:58.614Z"
   },
   {
    "duration": 10,
    "start_time": "2022-05-04T01:21:05.418Z"
   },
   {
    "duration": 5,
    "start_time": "2022-05-04T01:22:06.398Z"
   },
   {
    "duration": 9,
    "start_time": "2022-05-04T01:22:07.743Z"
   },
   {
    "duration": 1123,
    "start_time": "2022-05-04T01:22:27.519Z"
   },
   {
    "duration": 358,
    "start_time": "2022-05-04T01:22:28.644Z"
   },
   {
    "duration": 12,
    "start_time": "2022-05-04T01:22:29.004Z"
   },
   {
    "duration": 13,
    "start_time": "2022-05-04T01:22:29.018Z"
   },
   {
    "duration": 4,
    "start_time": "2022-05-04T01:22:29.033Z"
   },
   {
    "duration": 8,
    "start_time": "2022-05-04T01:22:29.038Z"
   },
   {
    "duration": 13,
    "start_time": "2022-05-04T01:22:29.047Z"
   },
   {
    "duration": 4,
    "start_time": "2022-05-04T01:22:29.061Z"
   },
   {
    "duration": 6,
    "start_time": "2022-05-04T01:22:29.066Z"
   },
   {
    "duration": 3,
    "start_time": "2022-05-04T01:22:29.075Z"
   },
   {
    "duration": 3,
    "start_time": "2022-05-04T01:22:29.107Z"
   },
   {
    "duration": 5,
    "start_time": "2022-05-04T01:22:29.111Z"
   },
   {
    "duration": 10,
    "start_time": "2022-05-04T01:22:29.117Z"
   },
   {
    "duration": 8,
    "start_time": "2022-05-04T01:22:29.128Z"
   },
   {
    "duration": 8,
    "start_time": "2022-05-04T01:22:29.137Z"
   },
   {
    "duration": 5,
    "start_time": "2022-05-04T01:22:29.147Z"
   },
   {
    "duration": 6,
    "start_time": "2022-05-04T01:22:29.154Z"
   },
   {
    "duration": 5,
    "start_time": "2022-05-04T01:22:29.162Z"
   },
   {
    "duration": 4,
    "start_time": "2022-05-04T01:22:29.169Z"
   },
   {
    "duration": 4,
    "start_time": "2022-05-04T01:22:29.174Z"
   },
   {
    "duration": 5,
    "start_time": "2022-05-04T01:22:29.179Z"
   },
   {
    "duration": 4,
    "start_time": "2022-05-04T01:22:29.185Z"
   },
   {
    "duration": 22,
    "start_time": "2022-05-04T01:22:29.190Z"
   },
   {
    "duration": 4,
    "start_time": "2022-05-04T01:22:29.214Z"
   },
   {
    "duration": 5,
    "start_time": "2022-05-04T01:22:29.219Z"
   },
   {
    "duration": 5,
    "start_time": "2022-05-04T01:22:29.225Z"
   },
   {
    "duration": 5,
    "start_time": "2022-05-04T01:22:29.231Z"
   },
   {
    "duration": 2,
    "start_time": "2022-05-04T01:22:29.239Z"
   },
   {
    "duration": 4,
    "start_time": "2022-05-04T01:22:29.243Z"
   },
   {
    "duration": 4,
    "start_time": "2022-05-04T01:22:29.249Z"
   },
   {
    "duration": 4,
    "start_time": "2022-05-04T01:22:29.255Z"
   },
   {
    "duration": 9,
    "start_time": "2022-05-04T01:23:34.063Z"
   },
   {
    "duration": 309,
    "start_time": "2022-05-04T01:24:05.702Z"
   },
   {
    "duration": 10,
    "start_time": "2022-05-04T01:24:10.805Z"
   },
   {
    "duration": 3,
    "start_time": "2022-05-04T01:28:23.087Z"
   },
   {
    "duration": 8,
    "start_time": "2022-05-04T01:28:30.346Z"
   },
   {
    "duration": 19,
    "start_time": "2022-05-04T01:30:23.652Z"
   },
   {
    "duration": 11,
    "start_time": "2022-05-04T01:31:49.579Z"
   },
   {
    "duration": 54,
    "start_time": "2022-05-04T01:32:23.542Z"
   },
   {
    "duration": 6,
    "start_time": "2022-05-04T01:35:35.495Z"
   },
   {
    "duration": 10,
    "start_time": "2022-05-04T01:35:45.516Z"
   },
   {
    "duration": 8,
    "start_time": "2022-05-04T01:36:20.280Z"
   },
   {
    "duration": 16,
    "start_time": "2022-05-04T01:37:04.070Z"
   },
   {
    "duration": 4,
    "start_time": "2022-05-04T01:37:50.899Z"
   },
   {
    "duration": 9,
    "start_time": "2022-05-04T01:38:00.821Z"
   },
   {
    "duration": 19,
    "start_time": "2022-05-04T01:38:16.560Z"
   },
   {
    "duration": 64,
    "start_time": "2022-05-04T01:40:43.143Z"
   },
   {
    "duration": 10,
    "start_time": "2022-05-04T01:40:58.421Z"
   },
   {
    "duration": 8,
    "start_time": "2022-05-04T01:41:06.329Z"
   },
   {
    "duration": 3,
    "start_time": "2022-05-04T01:44:17.305Z"
   },
   {
    "duration": 96,
    "start_time": "2022-05-04T01:47:45.325Z"
   },
   {
    "duration": 10,
    "start_time": "2022-05-04T01:49:07.882Z"
   },
   {
    "duration": 9,
    "start_time": "2022-05-04T01:50:33.036Z"
   },
   {
    "duration": 4,
    "start_time": "2022-05-04T01:51:48.278Z"
   },
   {
    "duration": 8,
    "start_time": "2022-05-04T01:52:03.942Z"
   },
   {
    "duration": 6,
    "start_time": "2022-05-04T01:57:21.974Z"
   },
   {
    "duration": 12,
    "start_time": "2022-05-04T01:57:29.496Z"
   },
   {
    "duration": 1236,
    "start_time": "2022-05-04T01:58:10.687Z"
   },
   {
    "duration": 291,
    "start_time": "2022-05-04T01:58:11.925Z"
   },
   {
    "duration": 12,
    "start_time": "2022-05-04T01:58:12.218Z"
   },
   {
    "duration": 17,
    "start_time": "2022-05-04T01:58:12.232Z"
   },
   {
    "duration": 4,
    "start_time": "2022-05-04T01:58:12.251Z"
   },
   {
    "duration": 7,
    "start_time": "2022-05-04T01:58:12.257Z"
   },
   {
    "duration": 10,
    "start_time": "2022-05-04T01:58:12.266Z"
   },
   {
    "duration": 33,
    "start_time": "2022-05-04T01:58:12.278Z"
   },
   {
    "duration": 12,
    "start_time": "2022-05-04T01:58:12.313Z"
   },
   {
    "duration": 3,
    "start_time": "2022-05-04T01:58:12.329Z"
   },
   {
    "duration": 8,
    "start_time": "2022-05-04T01:58:12.335Z"
   },
   {
    "duration": 76,
    "start_time": "2022-05-04T01:58:12.345Z"
   },
   {
    "duration": 9,
    "start_time": "2022-05-04T01:58:12.424Z"
   },
   {
    "duration": 9,
    "start_time": "2022-05-04T01:58:12.435Z"
   },
   {
    "duration": 13,
    "start_time": "2022-05-04T01:58:12.446Z"
   },
   {
    "duration": 6,
    "start_time": "2022-05-04T01:58:12.461Z"
   },
   {
    "duration": 39,
    "start_time": "2022-05-04T01:58:12.469Z"
   },
   {
    "duration": 16,
    "start_time": "2022-05-04T01:58:12.510Z"
   },
   {
    "duration": 7,
    "start_time": "2022-05-04T01:58:12.528Z"
   },
   {
    "duration": 5,
    "start_time": "2022-05-04T01:58:12.536Z"
   },
   {
    "duration": 20,
    "start_time": "2022-05-04T01:58:12.543Z"
   },
   {
    "duration": 9,
    "start_time": "2022-05-04T01:58:12.565Z"
   },
   {
    "duration": 12,
    "start_time": "2022-05-04T01:58:12.608Z"
   },
   {
    "duration": 8,
    "start_time": "2022-05-04T01:58:12.621Z"
   },
   {
    "duration": 3,
    "start_time": "2022-05-04T01:58:12.631Z"
   },
   {
    "duration": 4,
    "start_time": "2022-05-04T01:58:12.635Z"
   },
   {
    "duration": 4,
    "start_time": "2022-05-04T01:58:12.641Z"
   },
   {
    "duration": 3,
    "start_time": "2022-05-04T01:58:12.648Z"
   },
   {
    "duration": 4,
    "start_time": "2022-05-04T01:58:12.652Z"
   },
   {
    "duration": 4,
    "start_time": "2022-05-04T01:58:12.658Z"
   },
   {
    "duration": 5,
    "start_time": "2022-05-04T01:58:12.663Z"
   },
   {
    "duration": 3,
    "start_time": "2022-05-04T01:58:12.707Z"
   },
   {
    "duration": 6,
    "start_time": "2022-05-04T01:58:12.712Z"
   },
   {
    "duration": 4,
    "start_time": "2022-05-04T01:58:12.720Z"
   },
   {
    "duration": 5,
    "start_time": "2022-05-04T01:58:12.726Z"
   },
   {
    "duration": 4,
    "start_time": "2022-05-04T01:58:12.732Z"
   },
   {
    "duration": 5,
    "start_time": "2022-05-04T01:58:12.738Z"
   },
   {
    "duration": 4,
    "start_time": "2022-05-04T01:58:12.745Z"
   },
   {
    "duration": 6,
    "start_time": "2022-05-04T01:58:12.750Z"
   },
   {
    "duration": 10,
    "start_time": "2022-05-04T01:58:12.757Z"
   },
   {
    "duration": 10,
    "start_time": "2022-05-04T01:59:59.763Z"
   },
   {
    "duration": 9,
    "start_time": "2022-05-04T02:02:13.687Z"
   },
   {
    "duration": 16,
    "start_time": "2022-05-04T02:04:27.073Z"
   },
   {
    "duration": 17,
    "start_time": "2022-05-04T02:04:36.704Z"
   },
   {
    "duration": 1146,
    "start_time": "2022-05-04T02:10:11.333Z"
   },
   {
    "duration": 1136,
    "start_time": "2022-05-04T02:12:13.651Z"
   },
   {
    "duration": 299,
    "start_time": "2022-05-04T02:12:14.789Z"
   },
   {
    "duration": 12,
    "start_time": "2022-05-04T02:12:15.090Z"
   },
   {
    "duration": 14,
    "start_time": "2022-05-04T02:12:15.104Z"
   },
   {
    "duration": 4,
    "start_time": "2022-05-04T02:12:15.120Z"
   },
   {
    "duration": 8,
    "start_time": "2022-05-04T02:12:15.125Z"
   },
   {
    "duration": 11,
    "start_time": "2022-05-04T02:12:15.134Z"
   },
   {
    "duration": 12,
    "start_time": "2022-05-04T02:12:15.147Z"
   },
   {
    "duration": 11,
    "start_time": "2022-05-04T02:12:15.161Z"
   },
   {
    "duration": 33,
    "start_time": "2022-05-04T02:12:15.175Z"
   },
   {
    "duration": 6,
    "start_time": "2022-05-04T02:12:15.210Z"
   },
   {
    "duration": 48,
    "start_time": "2022-05-04T02:12:15.218Z"
   },
   {
    "duration": 8,
    "start_time": "2022-05-04T02:12:15.267Z"
   },
   {
    "duration": 52,
    "start_time": "2022-05-04T02:12:15.277Z"
   },
   {
    "duration": 5,
    "start_time": "2022-05-04T02:12:15.330Z"
   },
   {
    "duration": 14,
    "start_time": "2022-05-04T02:12:15.337Z"
   },
   {
    "duration": 16,
    "start_time": "2022-05-04T02:12:15.353Z"
   },
   {
    "duration": 7,
    "start_time": "2022-05-04T02:12:15.371Z"
   },
   {
    "duration": 28,
    "start_time": "2022-05-04T02:12:15.379Z"
   },
   {
    "duration": 20,
    "start_time": "2022-05-04T02:12:15.409Z"
   },
   {
    "duration": 8,
    "start_time": "2022-05-04T02:12:15.431Z"
   },
   {
    "duration": 14,
    "start_time": "2022-05-04T02:12:15.440Z"
   },
   {
    "duration": 8,
    "start_time": "2022-05-04T02:12:15.456Z"
   },
   {
    "duration": 43,
    "start_time": "2022-05-04T02:12:15.466Z"
   },
   {
    "duration": 12,
    "start_time": "2022-05-04T02:12:15.511Z"
   },
   {
    "duration": 22,
    "start_time": "2022-05-04T02:12:15.525Z"
   },
   {
    "duration": 3,
    "start_time": "2022-05-04T02:12:15.548Z"
   },
   {
    "duration": 4,
    "start_time": "2022-05-04T02:12:15.554Z"
   },
   {
    "duration": 5,
    "start_time": "2022-05-04T02:12:15.560Z"
   },
   {
    "duration": 5,
    "start_time": "2022-05-04T02:12:15.566Z"
   },
   {
    "duration": 5,
    "start_time": "2022-05-04T02:12:15.573Z"
   },
   {
    "duration": 29,
    "start_time": "2022-05-04T02:12:15.579Z"
   },
   {
    "duration": 5,
    "start_time": "2022-05-04T02:12:15.610Z"
   },
   {
    "duration": 7,
    "start_time": "2022-05-04T02:12:15.617Z"
   },
   {
    "duration": 4,
    "start_time": "2022-05-04T02:12:15.626Z"
   },
   {
    "duration": 5,
    "start_time": "2022-05-04T02:12:15.632Z"
   },
   {
    "duration": 8,
    "start_time": "2022-05-04T02:12:15.639Z"
   },
   {
    "duration": 7,
    "start_time": "2022-05-04T02:12:15.649Z"
   },
   {
    "duration": 5,
    "start_time": "2022-05-04T02:12:15.658Z"
   },
   {
    "duration": 4,
    "start_time": "2022-05-04T02:12:15.664Z"
   },
   {
    "duration": 115,
    "start_time": "2022-05-04T02:12:33.757Z"
   },
   {
    "duration": 23,
    "start_time": "2022-05-04T02:12:52.791Z"
   },
   {
    "duration": 30,
    "start_time": "2022-05-04T02:13:07.855Z"
   },
   {
    "duration": 1126,
    "start_time": "2022-05-04T02:13:19.352Z"
   },
   {
    "duration": 288,
    "start_time": "2022-05-04T02:13:20.480Z"
   },
   {
    "duration": 12,
    "start_time": "2022-05-04T02:13:20.770Z"
   },
   {
    "duration": 15,
    "start_time": "2022-05-04T02:13:20.784Z"
   },
   {
    "duration": 7,
    "start_time": "2022-05-04T02:13:20.801Z"
   },
   {
    "duration": 8,
    "start_time": "2022-05-04T02:13:20.810Z"
   },
   {
    "duration": 11,
    "start_time": "2022-05-04T02:13:20.819Z"
   },
   {
    "duration": 13,
    "start_time": "2022-05-04T02:13:20.832Z"
   },
   {
    "duration": 15,
    "start_time": "2022-05-04T02:13:20.847Z"
   },
   {
    "duration": 5,
    "start_time": "2022-05-04T02:13:20.865Z"
   },
   {
    "duration": 37,
    "start_time": "2022-05-04T02:13:20.872Z"
   },
   {
    "duration": 53,
    "start_time": "2022-05-04T02:13:20.911Z"
   },
   {
    "duration": 10,
    "start_time": "2022-05-04T02:13:20.965Z"
   },
   {
    "duration": 58,
    "start_time": "2022-05-04T02:13:20.977Z"
   },
   {
    "duration": 4,
    "start_time": "2022-05-04T02:13:21.038Z"
   },
   {
    "duration": 23,
    "start_time": "2022-05-04T02:13:21.044Z"
   },
   {
    "duration": 17,
    "start_time": "2022-05-04T02:13:21.069Z"
   },
   {
    "duration": 25,
    "start_time": "2022-05-04T02:13:21.088Z"
   },
   {
    "duration": 6,
    "start_time": "2022-05-04T02:13:21.114Z"
   },
   {
    "duration": 20,
    "start_time": "2022-05-04T02:13:21.122Z"
   },
   {
    "duration": 8,
    "start_time": "2022-05-04T02:13:21.144Z"
   },
   {
    "duration": 12,
    "start_time": "2022-05-04T02:13:21.154Z"
   },
   {
    "duration": 8,
    "start_time": "2022-05-04T02:13:21.168Z"
   },
   {
    "duration": 11,
    "start_time": "2022-05-04T02:13:21.207Z"
   },
   {
    "duration": 11,
    "start_time": "2022-05-04T02:13:21.219Z"
   },
   {
    "duration": 25,
    "start_time": "2022-05-04T02:13:21.232Z"
   },
   {
    "duration": 2,
    "start_time": "2022-05-04T02:13:21.259Z"
   },
   {
    "duration": 7,
    "start_time": "2022-05-04T02:13:21.265Z"
   },
   {
    "duration": 34,
    "start_time": "2022-05-04T02:13:21.274Z"
   },
   {
    "duration": 2,
    "start_time": "2022-05-04T02:13:21.310Z"
   },
   {
    "duration": 4,
    "start_time": "2022-05-04T02:13:21.314Z"
   },
   {
    "duration": 4,
    "start_time": "2022-05-04T02:13:21.320Z"
   },
   {
    "duration": 5,
    "start_time": "2022-05-04T02:13:21.325Z"
   },
   {
    "duration": 4,
    "start_time": "2022-05-04T02:13:21.331Z"
   },
   {
    "duration": 3,
    "start_time": "2022-05-04T02:13:21.337Z"
   },
   {
    "duration": 7,
    "start_time": "2022-05-04T02:13:21.342Z"
   },
   {
    "duration": 5,
    "start_time": "2022-05-04T02:13:21.350Z"
   },
   {
    "duration": 6,
    "start_time": "2022-05-04T02:13:21.356Z"
   },
   {
    "duration": 4,
    "start_time": "2022-05-04T02:13:21.363Z"
   },
   {
    "duration": 38,
    "start_time": "2022-05-04T02:13:21.369Z"
   },
   {
    "duration": 1169,
    "start_time": "2022-05-04T02:15:07.992Z"
   },
   {
    "duration": 296,
    "start_time": "2022-05-04T02:15:09.163Z"
   },
   {
    "duration": 13,
    "start_time": "2022-05-04T02:15:09.461Z"
   },
   {
    "duration": 15,
    "start_time": "2022-05-04T02:15:09.476Z"
   },
   {
    "duration": 16,
    "start_time": "2022-05-04T02:15:09.492Z"
   },
   {
    "duration": 6,
    "start_time": "2022-05-04T02:15:09.510Z"
   },
   {
    "duration": 10,
    "start_time": "2022-05-04T02:15:09.518Z"
   },
   {
    "duration": 11,
    "start_time": "2022-05-04T02:15:09.530Z"
   },
   {
    "duration": 12,
    "start_time": "2022-05-04T02:15:09.543Z"
   },
   {
    "duration": 4,
    "start_time": "2022-05-04T02:15:09.558Z"
   },
   {
    "duration": 46,
    "start_time": "2022-05-04T02:15:09.564Z"
   },
   {
    "duration": 48,
    "start_time": "2022-05-04T02:15:09.611Z"
   },
   {
    "duration": 8,
    "start_time": "2022-05-04T02:15:09.661Z"
   },
   {
    "duration": 63,
    "start_time": "2022-05-04T02:15:09.670Z"
   },
   {
    "duration": 5,
    "start_time": "2022-05-04T02:15:09.735Z"
   },
   {
    "duration": 15,
    "start_time": "2022-05-04T02:15:09.741Z"
   },
   {
    "duration": 16,
    "start_time": "2022-05-04T02:15:09.758Z"
   },
   {
    "duration": 7,
    "start_time": "2022-05-04T02:15:09.776Z"
   },
   {
    "duration": 1367,
    "start_time": "2022-05-04T02:15:09.784Z"
   },
   {
    "duration": 0,
    "start_time": "2022-05-04T02:15:11.153Z"
   },
   {
    "duration": 0,
    "start_time": "2022-05-04T02:15:11.154Z"
   },
   {
    "duration": 0,
    "start_time": "2022-05-04T02:15:11.156Z"
   },
   {
    "duration": 0,
    "start_time": "2022-05-04T02:15:11.157Z"
   },
   {
    "duration": 0,
    "start_time": "2022-05-04T02:15:11.158Z"
   },
   {
    "duration": 0,
    "start_time": "2022-05-04T02:15:11.159Z"
   },
   {
    "duration": 0,
    "start_time": "2022-05-04T02:15:11.160Z"
   },
   {
    "duration": 0,
    "start_time": "2022-05-04T02:15:11.162Z"
   },
   {
    "duration": 0,
    "start_time": "2022-05-04T02:15:11.163Z"
   },
   {
    "duration": 0,
    "start_time": "2022-05-04T02:15:11.164Z"
   },
   {
    "duration": 0,
    "start_time": "2022-05-04T02:15:11.165Z"
   },
   {
    "duration": 0,
    "start_time": "2022-05-04T02:15:11.166Z"
   },
   {
    "duration": 0,
    "start_time": "2022-05-04T02:15:11.167Z"
   },
   {
    "duration": 0,
    "start_time": "2022-05-04T02:15:11.168Z"
   },
   {
    "duration": 0,
    "start_time": "2022-05-04T02:15:11.169Z"
   },
   {
    "duration": 0,
    "start_time": "2022-05-04T02:15:11.170Z"
   },
   {
    "duration": 0,
    "start_time": "2022-05-04T02:15:11.171Z"
   },
   {
    "duration": 0,
    "start_time": "2022-05-04T02:15:11.172Z"
   },
   {
    "duration": 0,
    "start_time": "2022-05-04T02:15:11.173Z"
   },
   {
    "duration": 0,
    "start_time": "2022-05-04T02:15:11.174Z"
   },
   {
    "duration": 0,
    "start_time": "2022-05-04T02:15:11.175Z"
   },
   {
    "duration": 1173,
    "start_time": "2022-05-04T02:17:17.093Z"
   },
   {
    "duration": 290,
    "start_time": "2022-05-04T02:17:18.268Z"
   },
   {
    "duration": 12,
    "start_time": "2022-05-04T02:17:18.560Z"
   },
   {
    "duration": 13,
    "start_time": "2022-05-04T02:17:18.574Z"
   },
   {
    "duration": 4,
    "start_time": "2022-05-04T02:17:18.588Z"
   },
   {
    "duration": 17,
    "start_time": "2022-05-04T02:17:18.593Z"
   },
   {
    "duration": 10,
    "start_time": "2022-05-04T02:17:18.612Z"
   },
   {
    "duration": 11,
    "start_time": "2022-05-04T02:17:18.624Z"
   },
   {
    "duration": 10,
    "start_time": "2022-05-04T02:17:18.637Z"
   },
   {
    "duration": 5,
    "start_time": "2022-05-04T02:17:18.650Z"
   },
   {
    "duration": 10,
    "start_time": "2022-05-04T02:17:18.656Z"
   },
   {
    "duration": 75,
    "start_time": "2022-05-04T02:17:18.667Z"
   },
   {
    "duration": 8,
    "start_time": "2022-05-04T02:17:18.744Z"
   },
   {
    "duration": 26,
    "start_time": "2022-05-04T02:17:18.754Z"
   },
   {
    "duration": 26,
    "start_time": "2022-05-04T02:17:18.781Z"
   },
   {
    "duration": 13,
    "start_time": "2022-05-04T02:17:18.809Z"
   },
   {
    "duration": 18,
    "start_time": "2022-05-04T02:17:18.824Z"
   },
   {
    "duration": 17,
    "start_time": "2022-05-04T02:17:18.844Z"
   },
   {
    "duration": 8,
    "start_time": "2022-05-04T02:17:18.862Z"
   },
   {
    "duration": 44,
    "start_time": "2022-05-04T02:17:18.871Z"
   },
   {
    "duration": 11,
    "start_time": "2022-05-04T02:17:18.916Z"
   },
   {
    "duration": 19,
    "start_time": "2022-05-04T02:17:18.928Z"
   },
   {
    "duration": 9,
    "start_time": "2022-05-04T02:17:18.948Z"
   },
   {
    "duration": 54,
    "start_time": "2022-05-04T02:17:18.958Z"
   },
   {
    "duration": 9,
    "start_time": "2022-05-04T02:17:19.014Z"
   },
   {
    "duration": 16,
    "start_time": "2022-05-04T02:17:19.024Z"
   },
   {
    "duration": 9,
    "start_time": "2022-05-04T02:17:19.041Z"
   },
   {
    "duration": 9,
    "start_time": "2022-05-04T02:17:19.053Z"
   },
   {
    "duration": 54,
    "start_time": "2022-05-04T02:17:19.063Z"
   },
   {
    "duration": 2,
    "start_time": "2022-05-04T02:17:19.119Z"
   },
   {
    "duration": 5,
    "start_time": "2022-05-04T02:17:19.122Z"
   },
   {
    "duration": 4,
    "start_time": "2022-05-04T02:17:19.128Z"
   },
   {
    "duration": 4,
    "start_time": "2022-05-04T02:17:19.134Z"
   },
   {
    "duration": 4,
    "start_time": "2022-05-04T02:17:19.139Z"
   },
   {
    "duration": 4,
    "start_time": "2022-05-04T02:17:19.144Z"
   },
   {
    "duration": 5,
    "start_time": "2022-05-04T02:17:19.149Z"
   },
   {
    "duration": 4,
    "start_time": "2022-05-04T02:17:19.155Z"
   },
   {
    "duration": 5,
    "start_time": "2022-05-04T02:17:19.161Z"
   },
   {
    "duration": 5,
    "start_time": "2022-05-04T02:17:19.167Z"
   },
   {
    "duration": 33,
    "start_time": "2022-05-04T02:17:19.174Z"
   },
   {
    "duration": 2,
    "start_time": "2022-05-04T02:17:19.209Z"
   },
   {
    "duration": 5,
    "start_time": "2022-05-04T02:17:19.213Z"
   },
   {
    "duration": 4,
    "start_time": "2022-05-04T02:17:19.220Z"
   },
   {
    "duration": 1195,
    "start_time": "2022-05-04T02:18:56.188Z"
   },
   {
    "duration": 275,
    "start_time": "2022-05-04T02:18:57.385Z"
   },
   {
    "duration": 12,
    "start_time": "2022-05-04T02:18:57.661Z"
   },
   {
    "duration": 14,
    "start_time": "2022-05-04T02:18:57.675Z"
   },
   {
    "duration": 4,
    "start_time": "2022-05-04T02:18:57.691Z"
   },
   {
    "duration": 5,
    "start_time": "2022-05-04T02:18:57.707Z"
   },
   {
    "duration": 11,
    "start_time": "2022-05-04T02:18:57.713Z"
   },
   {
    "duration": 13,
    "start_time": "2022-05-04T02:18:57.725Z"
   },
   {
    "duration": 18,
    "start_time": "2022-05-04T02:18:57.739Z"
   },
   {
    "duration": 8,
    "start_time": "2022-05-04T02:18:57.760Z"
   },
   {
    "duration": 16,
    "start_time": "2022-05-04T02:18:57.769Z"
   },
   {
    "duration": 57,
    "start_time": "2022-05-04T02:18:57.786Z"
   },
   {
    "duration": 8,
    "start_time": "2022-05-04T02:18:57.844Z"
   },
   {
    "duration": 29,
    "start_time": "2022-05-04T02:18:57.854Z"
   },
   {
    "duration": 4,
    "start_time": "2022-05-04T02:18:57.885Z"
   },
   {
    "duration": 16,
    "start_time": "2022-05-04T02:18:57.907Z"
   },
   {
    "duration": 13,
    "start_time": "2022-05-04T02:18:57.925Z"
   },
   {
    "duration": 19,
    "start_time": "2022-05-04T02:18:57.940Z"
   },
   {
    "duration": 6,
    "start_time": "2022-05-04T02:18:57.961Z"
   },
   {
    "duration": 44,
    "start_time": "2022-05-04T02:18:57.969Z"
   },
   {
    "duration": 13,
    "start_time": "2022-05-04T02:18:58.014Z"
   },
   {
    "duration": 19,
    "start_time": "2022-05-04T02:18:58.028Z"
   },
   {
    "duration": 8,
    "start_time": "2022-05-04T02:18:58.048Z"
   },
   {
    "duration": 52,
    "start_time": "2022-05-04T02:18:58.058Z"
   },
   {
    "duration": 9,
    "start_time": "2022-05-04T02:18:58.111Z"
   },
   {
    "duration": 19,
    "start_time": "2022-05-04T02:18:58.121Z"
   },
   {
    "duration": 8,
    "start_time": "2022-05-04T02:18:58.142Z"
   },
   {
    "duration": 9,
    "start_time": "2022-05-04T02:18:58.153Z"
   },
   {
    "duration": 52,
    "start_time": "2022-05-04T02:18:58.164Z"
   },
   {
    "duration": 2,
    "start_time": "2022-05-04T02:18:58.218Z"
   },
   {
    "duration": 7,
    "start_time": "2022-05-04T02:18:58.221Z"
   },
   {
    "duration": 6,
    "start_time": "2022-05-04T02:18:58.230Z"
   },
   {
    "duration": 6,
    "start_time": "2022-05-04T02:18:58.237Z"
   },
   {
    "duration": 8,
    "start_time": "2022-05-04T02:18:58.245Z"
   },
   {
    "duration": 4,
    "start_time": "2022-05-04T02:18:58.254Z"
   },
   {
    "duration": 4,
    "start_time": "2022-05-04T02:18:58.260Z"
   },
   {
    "duration": 4,
    "start_time": "2022-05-04T02:18:58.266Z"
   },
   {
    "duration": 5,
    "start_time": "2022-05-04T02:18:58.271Z"
   },
   {
    "duration": 4,
    "start_time": "2022-05-04T02:18:58.277Z"
   },
   {
    "duration": 4,
    "start_time": "2022-05-04T02:18:58.282Z"
   },
   {
    "duration": 3,
    "start_time": "2022-05-04T02:18:58.307Z"
   },
   {
    "duration": 5,
    "start_time": "2022-05-04T02:18:58.311Z"
   },
   {
    "duration": 4,
    "start_time": "2022-05-04T02:18:58.317Z"
   },
   {
    "duration": 39,
    "start_time": "2022-05-04T02:21:08.435Z"
   },
   {
    "duration": 29,
    "start_time": "2022-05-04T02:21:32.571Z"
   },
   {
    "duration": 30,
    "start_time": "2022-05-04T02:21:56.989Z"
   },
   {
    "duration": 32,
    "start_time": "2022-05-04T02:22:46.830Z"
   },
   {
    "duration": 30,
    "start_time": "2022-05-04T02:23:22.752Z"
   },
   {
    "duration": 33,
    "start_time": "2022-05-04T02:34:06.570Z"
   },
   {
    "duration": 40,
    "start_time": "2022-05-04T02:34:30.592Z"
   },
   {
    "duration": 65,
    "start_time": "2022-05-04T02:35:39.479Z"
   },
   {
    "duration": 34,
    "start_time": "2022-05-04T02:36:07.268Z"
   },
   {
    "duration": 8,
    "start_time": "2022-05-04T02:37:07.613Z"
   },
   {
    "duration": 26,
    "start_time": "2022-05-04T02:37:31.942Z"
   },
   {
    "duration": 9,
    "start_time": "2022-05-04T02:37:52.982Z"
   },
   {
    "duration": 119,
    "start_time": "2022-05-04T02:38:39.403Z"
   },
   {
    "duration": 24,
    "start_time": "2022-05-04T02:38:44.522Z"
   },
   {
    "duration": 29,
    "start_time": "2022-05-04T02:38:55.764Z"
   },
   {
    "duration": 25,
    "start_time": "2022-05-04T02:39:00.505Z"
   },
   {
    "duration": 49,
    "start_time": "2022-05-04T02:47:05.755Z"
   },
   {
    "duration": 42,
    "start_time": "2022-05-04T02:47:11.913Z"
   },
   {
    "duration": 12,
    "start_time": "2022-05-04T02:47:42.162Z"
   },
   {
    "duration": 39,
    "start_time": "2022-05-04T02:47:52.476Z"
   },
   {
    "duration": 1139,
    "start_time": "2022-05-04T02:48:00.664Z"
   },
   {
    "duration": 289,
    "start_time": "2022-05-04T02:48:01.805Z"
   },
   {
    "duration": 13,
    "start_time": "2022-05-04T02:48:02.095Z"
   },
   {
    "duration": 29,
    "start_time": "2022-05-04T02:48:02.110Z"
   },
   {
    "duration": 4,
    "start_time": "2022-05-04T02:48:02.140Z"
   },
   {
    "duration": 14,
    "start_time": "2022-05-04T02:48:02.146Z"
   },
   {
    "duration": 15,
    "start_time": "2022-05-04T02:48:02.162Z"
   },
   {
    "duration": 14,
    "start_time": "2022-05-04T02:48:02.179Z"
   },
   {
    "duration": 22,
    "start_time": "2022-05-04T02:48:02.194Z"
   },
   {
    "duration": 9,
    "start_time": "2022-05-04T02:48:02.219Z"
   },
   {
    "duration": 15,
    "start_time": "2022-05-04T02:48:02.229Z"
   },
   {
    "duration": 48,
    "start_time": "2022-05-04T02:48:02.246Z"
   },
   {
    "duration": 12,
    "start_time": "2022-05-04T02:48:02.296Z"
   },
   {
    "duration": 27,
    "start_time": "2022-05-04T02:48:02.310Z"
   },
   {
    "duration": 4,
    "start_time": "2022-05-04T02:48:02.339Z"
   },
   {
    "duration": 26,
    "start_time": "2022-05-04T02:48:02.345Z"
   },
   {
    "duration": 9,
    "start_time": "2022-05-04T02:48:02.373Z"
   },
   {
    "duration": 37,
    "start_time": "2022-05-04T02:48:02.384Z"
   },
   {
    "duration": 7,
    "start_time": "2022-05-04T02:48:02.423Z"
   },
   {
    "duration": 17,
    "start_time": "2022-05-04T02:48:02.431Z"
   },
   {
    "duration": 12,
    "start_time": "2022-05-04T02:48:02.450Z"
   },
   {
    "duration": 43,
    "start_time": "2022-05-04T02:48:02.464Z"
   },
   {
    "duration": 8,
    "start_time": "2022-05-04T02:48:02.509Z"
   },
   {
    "duration": 26,
    "start_time": "2022-05-04T02:48:02.518Z"
   },
   {
    "duration": 9,
    "start_time": "2022-05-04T02:48:02.545Z"
   },
   {
    "duration": 18,
    "start_time": "2022-05-04T02:48:02.555Z"
   },
   {
    "duration": 35,
    "start_time": "2022-05-04T02:48:02.574Z"
   },
   {
    "duration": 9,
    "start_time": "2022-05-04T02:48:02.612Z"
   },
   {
    "duration": 45,
    "start_time": "2022-05-04T02:48:02.623Z"
   },
   {
    "duration": 53,
    "start_time": "2022-05-04T02:48:02.670Z"
   },
   {
    "duration": 8,
    "start_time": "2022-05-04T02:48:02.724Z"
   },
   {
    "duration": 29,
    "start_time": "2022-05-04T02:48:02.734Z"
   },
   {
    "duration": 8,
    "start_time": "2022-05-04T02:48:02.765Z"
   },
   {
    "duration": 60,
    "start_time": "2022-05-04T02:48:02.775Z"
   },
   {
    "duration": 52,
    "start_time": "2022-05-04T02:48:02.837Z"
   },
   {
    "duration": 16,
    "start_time": "2022-05-04T02:48:02.891Z"
   },
   {
    "duration": 71,
    "start_time": "2022-05-04T02:48:02.910Z"
   },
   {
    "duration": 0,
    "start_time": "2022-05-04T02:48:02.983Z"
   },
   {
    "duration": 0,
    "start_time": "2022-05-04T02:48:02.984Z"
   },
   {
    "duration": 0,
    "start_time": "2022-05-04T02:48:02.986Z"
   },
   {
    "duration": 0,
    "start_time": "2022-05-04T02:48:02.987Z"
   },
   {
    "duration": 0,
    "start_time": "2022-05-04T02:48:02.989Z"
   },
   {
    "duration": 0,
    "start_time": "2022-05-04T02:48:02.990Z"
   },
   {
    "duration": 0,
    "start_time": "2022-05-04T02:48:02.991Z"
   },
   {
    "duration": 0,
    "start_time": "2022-05-04T02:48:02.993Z"
   },
   {
    "duration": 7,
    "start_time": "2022-05-04T02:48:58.564Z"
   },
   {
    "duration": 13,
    "start_time": "2022-05-04T02:49:15.943Z"
   },
   {
    "duration": 18,
    "start_time": "2022-05-04T02:49:33.405Z"
   },
   {
    "duration": 19,
    "start_time": "2022-05-04T02:50:43.681Z"
   },
   {
    "duration": 23,
    "start_time": "2022-05-04T02:55:31.946Z"
   },
   {
    "duration": 14,
    "start_time": "2022-05-04T02:56:43.591Z"
   },
   {
    "duration": 8,
    "start_time": "2022-05-04T02:57:03.857Z"
   },
   {
    "duration": 25,
    "start_time": "2022-05-04T02:57:25.937Z"
   },
   {
    "duration": 24,
    "start_time": "2022-05-04T02:57:46.651Z"
   },
   {
    "duration": 26,
    "start_time": "2022-05-04T02:57:57.251Z"
   },
   {
    "duration": 27,
    "start_time": "2022-05-04T02:58:10.898Z"
   },
   {
    "duration": 7,
    "start_time": "2022-05-04T03:00:47.608Z"
   },
   {
    "duration": 25,
    "start_time": "2022-05-04T03:01:34.094Z"
   },
   {
    "duration": 40,
    "start_time": "2022-05-04T03:03:41.829Z"
   },
   {
    "duration": 7,
    "start_time": "2022-05-04T03:03:50.988Z"
   },
   {
    "duration": 8,
    "start_time": "2022-05-04T03:04:19.682Z"
   },
   {
    "duration": 18,
    "start_time": "2022-05-04T03:04:42.522Z"
   },
   {
    "duration": 9,
    "start_time": "2022-05-04T03:05:17.271Z"
   },
   {
    "duration": 19,
    "start_time": "2022-05-04T03:05:21.635Z"
   },
   {
    "duration": 108,
    "start_time": "2022-05-04T03:06:15.341Z"
   },
   {
    "duration": 66,
    "start_time": "2022-05-04T03:06:18.702Z"
   },
   {
    "duration": 46,
    "start_time": "2022-05-04T03:06:22.922Z"
   },
   {
    "duration": 26,
    "start_time": "2022-05-04T03:06:38.701Z"
   },
   {
    "duration": 26,
    "start_time": "2022-05-04T03:08:12.063Z"
   },
   {
    "duration": 32,
    "start_time": "2022-05-04T03:08:55.326Z"
   },
   {
    "duration": 31,
    "start_time": "2022-05-04T03:09:34.251Z"
   },
   {
    "duration": 68,
    "start_time": "2022-05-04T03:11:00.836Z"
   },
   {
    "duration": 101,
    "start_time": "2022-05-04T03:12:36.701Z"
   },
   {
    "duration": 10,
    "start_time": "2022-05-04T03:12:40.259Z"
   },
   {
    "duration": 7,
    "start_time": "2022-05-04T03:12:47.278Z"
   },
   {
    "duration": 15,
    "start_time": "2022-05-04T03:14:32.366Z"
   },
   {
    "duration": 82,
    "start_time": "2022-05-04T03:15:06.923Z"
   },
   {
    "duration": 17,
    "start_time": "2022-05-04T03:15:08.909Z"
   },
   {
    "duration": 19,
    "start_time": "2022-05-04T03:15:17.100Z"
   },
   {
    "duration": 14,
    "start_time": "2022-05-04T03:15:38.357Z"
   },
   {
    "duration": 13,
    "start_time": "2022-05-04T03:16:12.397Z"
   },
   {
    "duration": 1250,
    "start_time": "2022-05-04T03:16:20.432Z"
   },
   {
    "duration": 286,
    "start_time": "2022-05-04T03:16:21.684Z"
   },
   {
    "duration": 13,
    "start_time": "2022-05-04T03:16:21.971Z"
   },
   {
    "duration": 13,
    "start_time": "2022-05-04T03:16:21.986Z"
   },
   {
    "duration": 5,
    "start_time": "2022-05-04T03:16:22.006Z"
   },
   {
    "duration": 6,
    "start_time": "2022-05-04T03:16:22.013Z"
   },
   {
    "duration": 9,
    "start_time": "2022-05-04T03:16:22.021Z"
   },
   {
    "duration": 10,
    "start_time": "2022-05-04T03:16:22.032Z"
   },
   {
    "duration": 9,
    "start_time": "2022-05-04T03:16:22.044Z"
   },
   {
    "duration": 4,
    "start_time": "2022-05-04T03:16:22.056Z"
   },
   {
    "duration": 8,
    "start_time": "2022-05-04T03:16:22.061Z"
   },
   {
    "duration": 46,
    "start_time": "2022-05-04T03:16:22.108Z"
   },
   {
    "duration": 9,
    "start_time": "2022-05-04T03:16:22.155Z"
   },
   {
    "duration": 47,
    "start_time": "2022-05-04T03:16:22.166Z"
   },
   {
    "duration": 4,
    "start_time": "2022-05-04T03:16:22.215Z"
   },
   {
    "duration": 18,
    "start_time": "2022-05-04T03:16:22.221Z"
   },
   {
    "duration": 9,
    "start_time": "2022-05-04T03:16:22.241Z"
   },
   {
    "duration": 16,
    "start_time": "2022-05-04T03:16:22.252Z"
   },
   {
    "duration": 6,
    "start_time": "2022-05-04T03:16:22.270Z"
   },
   {
    "duration": 43,
    "start_time": "2022-05-04T03:16:22.278Z"
   },
   {
    "duration": 13,
    "start_time": "2022-05-04T03:16:22.323Z"
   },
   {
    "duration": 19,
    "start_time": "2022-05-04T03:16:22.337Z"
   },
   {
    "duration": 8,
    "start_time": "2022-05-04T03:16:22.358Z"
   },
   {
    "duration": 58,
    "start_time": "2022-05-04T03:16:22.368Z"
   },
   {
    "duration": 9,
    "start_time": "2022-05-04T03:16:22.428Z"
   },
   {
    "duration": 19,
    "start_time": "2022-05-04T03:16:22.438Z"
   },
   {
    "duration": 10,
    "start_time": "2022-05-04T03:16:22.458Z"
   },
   {
    "duration": 36,
    "start_time": "2022-05-04T03:16:22.472Z"
   },
   {
    "duration": 51,
    "start_time": "2022-05-04T03:16:22.510Z"
   },
   {
    "duration": 49,
    "start_time": "2022-05-04T03:16:22.563Z"
   },
   {
    "duration": 9,
    "start_time": "2022-05-04T03:16:22.614Z"
   },
   {
    "duration": 36,
    "start_time": "2022-05-04T03:16:22.624Z"
   },
   {
    "duration": 9,
    "start_time": "2022-05-04T03:16:22.662Z"
   },
   {
    "duration": 56,
    "start_time": "2022-05-04T03:16:22.673Z"
   },
   {
    "duration": 8,
    "start_time": "2022-05-04T03:16:22.731Z"
   },
   {
    "duration": 35,
    "start_time": "2022-05-04T03:16:22.740Z"
   },
   {
    "duration": 7,
    "start_time": "2022-05-04T03:16:22.777Z"
   },
   {
    "duration": 16,
    "start_time": "2022-05-04T03:16:22.808Z"
   },
   {
    "duration": 72,
    "start_time": "2022-05-04T03:16:22.826Z"
   },
   {
    "duration": 0,
    "start_time": "2022-05-04T03:16:22.900Z"
   },
   {
    "duration": 0,
    "start_time": "2022-05-04T03:16:22.901Z"
   },
   {
    "duration": 0,
    "start_time": "2022-05-04T03:16:22.903Z"
   },
   {
    "duration": 0,
    "start_time": "2022-05-04T03:16:22.904Z"
   },
   {
    "duration": 0,
    "start_time": "2022-05-04T03:16:22.905Z"
   },
   {
    "duration": 0,
    "start_time": "2022-05-04T03:16:22.906Z"
   },
   {
    "duration": 0,
    "start_time": "2022-05-04T03:16:22.907Z"
   },
   {
    "duration": 0,
    "start_time": "2022-05-04T03:16:22.908Z"
   },
   {
    "duration": 104,
    "start_time": "2022-05-04T03:16:32.604Z"
   },
   {
    "duration": 19,
    "start_time": "2022-05-04T03:17:51.543Z"
   },
   {
    "duration": 6,
    "start_time": "2022-05-04T03:19:57.449Z"
   },
   {
    "duration": 19,
    "start_time": "2022-05-04T03:20:02.383Z"
   },
   {
    "duration": 20,
    "start_time": "2022-05-04T03:29:49.960Z"
   },
   {
    "duration": 17,
    "start_time": "2022-05-04T03:30:07.468Z"
   },
   {
    "duration": 17,
    "start_time": "2022-05-04T03:30:16.306Z"
   },
   {
    "duration": 1162,
    "start_time": "2022-05-04T03:30:24.196Z"
   },
   {
    "duration": 279,
    "start_time": "2022-05-04T03:30:25.360Z"
   },
   {
    "duration": 11,
    "start_time": "2022-05-04T03:30:25.641Z"
   },
   {
    "duration": 14,
    "start_time": "2022-05-04T03:30:25.655Z"
   },
   {
    "duration": 4,
    "start_time": "2022-05-04T03:30:25.670Z"
   },
   {
    "duration": 6,
    "start_time": "2022-05-04T03:30:25.676Z"
   },
   {
    "duration": 10,
    "start_time": "2022-05-04T03:30:25.683Z"
   },
   {
    "duration": 10,
    "start_time": "2022-05-04T03:30:25.708Z"
   },
   {
    "duration": 12,
    "start_time": "2022-05-04T03:30:25.720Z"
   },
   {
    "duration": 3,
    "start_time": "2022-05-04T03:30:25.735Z"
   },
   {
    "duration": 8,
    "start_time": "2022-05-04T03:30:25.740Z"
   },
   {
    "duration": 70,
    "start_time": "2022-05-04T03:30:25.750Z"
   },
   {
    "duration": 9,
    "start_time": "2022-05-04T03:30:25.822Z"
   },
   {
    "duration": 23,
    "start_time": "2022-05-04T03:30:25.833Z"
   },
   {
    "duration": 4,
    "start_time": "2022-05-04T03:30:25.858Z"
   },
   {
    "duration": 43,
    "start_time": "2022-05-04T03:30:25.864Z"
   },
   {
    "duration": 9,
    "start_time": "2022-05-04T03:30:25.909Z"
   },
   {
    "duration": 18,
    "start_time": "2022-05-04T03:30:25.920Z"
   },
   {
    "duration": 7,
    "start_time": "2022-05-04T03:30:25.939Z"
   },
   {
    "duration": 15,
    "start_time": "2022-05-04T03:30:25.947Z"
   },
   {
    "duration": 13,
    "start_time": "2022-05-04T03:30:25.964Z"
   },
   {
    "duration": 19,
    "start_time": "2022-05-04T03:30:26.007Z"
   },
   {
    "duration": 8,
    "start_time": "2022-05-04T03:30:26.028Z"
   },
   {
    "duration": 25,
    "start_time": "2022-05-04T03:30:26.038Z"
   },
   {
    "duration": 8,
    "start_time": "2022-05-04T03:30:26.065Z"
   },
   {
    "duration": 48,
    "start_time": "2022-05-04T03:30:26.075Z"
   },
   {
    "duration": 9,
    "start_time": "2022-05-04T03:30:26.125Z"
   },
   {
    "duration": 9,
    "start_time": "2022-05-04T03:30:26.138Z"
   },
   {
    "duration": 71,
    "start_time": "2022-05-04T03:30:26.148Z"
   },
   {
    "duration": 35,
    "start_time": "2022-05-04T03:30:26.221Z"
   },
   {
    "duration": 8,
    "start_time": "2022-05-04T03:30:26.257Z"
   },
   {
    "duration": 51,
    "start_time": "2022-05-04T03:30:26.267Z"
   },
   {
    "duration": 9,
    "start_time": "2022-05-04T03:30:26.320Z"
   },
   {
    "duration": 31,
    "start_time": "2022-05-04T03:30:26.330Z"
   },
   {
    "duration": 7,
    "start_time": "2022-05-04T03:30:26.363Z"
   },
   {
    "duration": 58,
    "start_time": "2022-05-04T03:30:26.372Z"
   },
   {
    "duration": 7,
    "start_time": "2022-05-04T03:30:26.432Z"
   },
   {
    "duration": 32,
    "start_time": "2022-05-04T03:30:26.440Z"
   },
   {
    "duration": 81,
    "start_time": "2022-05-04T03:30:26.474Z"
   },
   {
    "duration": 0,
    "start_time": "2022-05-04T03:30:26.557Z"
   },
   {
    "duration": 0,
    "start_time": "2022-05-04T03:30:26.559Z"
   },
   {
    "duration": 0,
    "start_time": "2022-05-04T03:30:26.560Z"
   },
   {
    "duration": 0,
    "start_time": "2022-05-04T03:30:26.561Z"
   },
   {
    "duration": 0,
    "start_time": "2022-05-04T03:30:26.562Z"
   },
   {
    "duration": 0,
    "start_time": "2022-05-04T03:30:26.563Z"
   },
   {
    "duration": 0,
    "start_time": "2022-05-04T03:30:26.564Z"
   },
   {
    "duration": 0,
    "start_time": "2022-05-04T03:30:26.566Z"
   },
   {
    "duration": 103,
    "start_time": "2022-05-04T03:32:25.334Z"
   },
   {
    "duration": 8,
    "start_time": "2022-05-04T03:35:06.220Z"
   },
   {
    "duration": 21,
    "start_time": "2022-05-04T03:35:10.278Z"
   },
   {
    "duration": 1154,
    "start_time": "2022-05-04T03:51:06.503Z"
   },
   {
    "duration": 283,
    "start_time": "2022-05-04T03:51:07.659Z"
   },
   {
    "duration": 12,
    "start_time": "2022-05-04T03:51:07.944Z"
   },
   {
    "duration": 13,
    "start_time": "2022-05-04T03:51:07.958Z"
   },
   {
    "duration": 4,
    "start_time": "2022-05-04T03:51:07.973Z"
   },
   {
    "duration": 7,
    "start_time": "2022-05-04T03:51:07.978Z"
   },
   {
    "duration": 21,
    "start_time": "2022-05-04T03:51:07.987Z"
   },
   {
    "duration": 11,
    "start_time": "2022-05-04T03:51:08.010Z"
   },
   {
    "duration": 11,
    "start_time": "2022-05-04T03:51:08.022Z"
   },
   {
    "duration": 3,
    "start_time": "2022-05-04T03:51:08.036Z"
   },
   {
    "duration": 9,
    "start_time": "2022-05-04T03:51:08.041Z"
   },
   {
    "duration": 76,
    "start_time": "2022-05-04T03:51:08.052Z"
   },
   {
    "duration": 8,
    "start_time": "2022-05-04T03:51:08.130Z"
   },
   {
    "duration": 31,
    "start_time": "2022-05-04T03:51:08.139Z"
   },
   {
    "duration": 4,
    "start_time": "2022-05-04T03:51:08.172Z"
   },
   {
    "duration": 39,
    "start_time": "2022-05-04T03:51:08.178Z"
   },
   {
    "duration": 9,
    "start_time": "2022-05-04T03:51:08.219Z"
   },
   {
    "duration": 17,
    "start_time": "2022-05-04T03:51:08.230Z"
   },
   {
    "duration": 7,
    "start_time": "2022-05-04T03:51:08.249Z"
   },
   {
    "duration": 16,
    "start_time": "2022-05-04T03:51:08.258Z"
   },
   {
    "duration": 43,
    "start_time": "2022-05-04T03:51:08.275Z"
   },
   {
    "duration": 19,
    "start_time": "2022-05-04T03:51:08.319Z"
   },
   {
    "duration": 9,
    "start_time": "2022-05-04T03:51:08.339Z"
   },
   {
    "duration": 26,
    "start_time": "2022-05-04T03:51:08.349Z"
   },
   {
    "duration": 39,
    "start_time": "2022-05-04T03:51:08.376Z"
   },
   {
    "duration": 21,
    "start_time": "2022-05-04T03:51:08.416Z"
   },
   {
    "duration": 9,
    "start_time": "2022-05-04T03:51:08.438Z"
   },
   {
    "duration": 9,
    "start_time": "2022-05-04T03:51:08.451Z"
   },
   {
    "duration": 74,
    "start_time": "2022-05-04T03:51:08.462Z"
   },
   {
    "duration": 32,
    "start_time": "2022-05-04T03:51:08.537Z"
   },
   {
    "duration": 8,
    "start_time": "2022-05-04T03:51:08.571Z"
   },
   {
    "duration": 52,
    "start_time": "2022-05-04T03:51:08.580Z"
   },
   {
    "duration": 9,
    "start_time": "2022-05-04T03:51:08.634Z"
   },
   {
    "duration": 29,
    "start_time": "2022-05-04T03:51:08.644Z"
   },
   {
    "duration": 8,
    "start_time": "2022-05-04T03:51:08.675Z"
   },
   {
    "duration": 52,
    "start_time": "2022-05-04T03:51:08.684Z"
   },
   {
    "duration": 7,
    "start_time": "2022-05-04T03:51:08.738Z"
   },
   {
    "duration": 16,
    "start_time": "2022-05-04T03:51:08.747Z"
   },
   {
    "duration": 44,
    "start_time": "2022-05-04T03:51:08.765Z"
   },
   {
    "duration": 114,
    "start_time": "2022-05-04T03:51:08.811Z"
   },
   {
    "duration": 0,
    "start_time": "2022-05-04T03:51:08.927Z"
   },
   {
    "duration": 0,
    "start_time": "2022-05-04T03:51:08.928Z"
   },
   {
    "duration": 0,
    "start_time": "2022-05-04T03:51:08.930Z"
   },
   {
    "duration": 0,
    "start_time": "2022-05-04T03:51:08.931Z"
   },
   {
    "duration": 0,
    "start_time": "2022-05-04T03:51:08.931Z"
   },
   {
    "duration": 0,
    "start_time": "2022-05-04T03:51:08.932Z"
   },
   {
    "duration": 0,
    "start_time": "2022-05-04T03:51:08.933Z"
   },
   {
    "duration": 0,
    "start_time": "2022-05-04T03:51:08.934Z"
   },
   {
    "duration": 1139,
    "start_time": "2022-05-04T03:53:37.233Z"
   },
   {
    "duration": 274,
    "start_time": "2022-05-04T03:53:38.374Z"
   },
   {
    "duration": 12,
    "start_time": "2022-05-04T03:53:38.650Z"
   },
   {
    "duration": 15,
    "start_time": "2022-05-04T03:53:38.664Z"
   },
   {
    "duration": 4,
    "start_time": "2022-05-04T03:53:38.680Z"
   },
   {
    "duration": 21,
    "start_time": "2022-05-04T03:53:38.686Z"
   },
   {
    "duration": 10,
    "start_time": "2022-05-04T03:53:38.709Z"
   },
   {
    "duration": 11,
    "start_time": "2022-05-04T03:53:38.720Z"
   },
   {
    "duration": 14,
    "start_time": "2022-05-04T03:53:38.733Z"
   },
   {
    "duration": 11,
    "start_time": "2022-05-04T03:53:38.750Z"
   },
   {
    "duration": 11,
    "start_time": "2022-05-04T03:53:38.762Z"
   },
   {
    "duration": 61,
    "start_time": "2022-05-04T03:53:38.775Z"
   },
   {
    "duration": 7,
    "start_time": "2022-05-04T03:53:38.838Z"
   },
   {
    "duration": 26,
    "start_time": "2022-05-04T03:53:38.847Z"
   },
   {
    "duration": 5,
    "start_time": "2022-05-04T03:53:38.874Z"
   },
   {
    "duration": 38,
    "start_time": "2022-05-04T03:53:38.881Z"
   },
   {
    "duration": 9,
    "start_time": "2022-05-04T03:53:38.921Z"
   },
   {
    "duration": 17,
    "start_time": "2022-05-04T03:53:38.932Z"
   },
   {
    "duration": 7,
    "start_time": "2022-05-04T03:53:38.950Z"
   },
   {
    "duration": 15,
    "start_time": "2022-05-04T03:53:38.959Z"
   },
   {
    "duration": 41,
    "start_time": "2022-05-04T03:53:38.976Z"
   },
   {
    "duration": 19,
    "start_time": "2022-05-04T03:53:39.019Z"
   },
   {
    "duration": 8,
    "start_time": "2022-05-04T03:53:39.040Z"
   },
   {
    "duration": 25,
    "start_time": "2022-05-04T03:53:39.050Z"
   },
   {
    "duration": 39,
    "start_time": "2022-05-04T03:53:39.077Z"
   },
   {
    "duration": 17,
    "start_time": "2022-05-04T03:53:39.118Z"
   },
   {
    "duration": 8,
    "start_time": "2022-05-04T03:53:39.137Z"
   },
   {
    "duration": 8,
    "start_time": "2022-05-04T03:53:39.149Z"
   },
   {
    "duration": 73,
    "start_time": "2022-05-04T03:53:39.159Z"
   },
   {
    "duration": 108,
    "start_time": "2022-05-04T03:53:39.234Z"
   },
   {
    "duration": 0,
    "start_time": "2022-05-04T03:53:39.343Z"
   },
   {
    "duration": 0,
    "start_time": "2022-05-04T03:53:39.345Z"
   },
   {
    "duration": 0,
    "start_time": "2022-05-04T03:53:39.346Z"
   },
   {
    "duration": 0,
    "start_time": "2022-05-04T03:53:39.347Z"
   },
   {
    "duration": 0,
    "start_time": "2022-05-04T03:53:39.348Z"
   },
   {
    "duration": 0,
    "start_time": "2022-05-04T03:53:39.349Z"
   },
   {
    "duration": 0,
    "start_time": "2022-05-04T03:53:39.350Z"
   },
   {
    "duration": 0,
    "start_time": "2022-05-04T03:53:39.351Z"
   },
   {
    "duration": 0,
    "start_time": "2022-05-04T03:53:39.353Z"
   },
   {
    "duration": 0,
    "start_time": "2022-05-04T03:53:39.353Z"
   },
   {
    "duration": 0,
    "start_time": "2022-05-04T03:53:39.355Z"
   },
   {
    "duration": 0,
    "start_time": "2022-05-04T03:53:39.356Z"
   },
   {
    "duration": 0,
    "start_time": "2022-05-04T03:53:39.357Z"
   },
   {
    "duration": 0,
    "start_time": "2022-05-04T03:53:39.358Z"
   },
   {
    "duration": 0,
    "start_time": "2022-05-04T03:53:39.359Z"
   },
   {
    "duration": 0,
    "start_time": "2022-05-04T03:53:39.360Z"
   },
   {
    "duration": 0,
    "start_time": "2022-05-04T03:53:39.361Z"
   },
   {
    "duration": 0,
    "start_time": "2022-05-04T03:53:39.362Z"
   },
   {
    "duration": 0,
    "start_time": "2022-05-04T03:53:39.363Z"
   },
   {
    "duration": 4,
    "start_time": "2022-05-04T03:54:39.954Z"
   },
   {
    "duration": 26,
    "start_time": "2022-05-04T03:54:45.649Z"
   },
   {
    "duration": 29,
    "start_time": "2022-05-04T03:55:14.807Z"
   },
   {
    "duration": 63,
    "start_time": "2022-05-04T03:56:38.321Z"
   },
   {
    "duration": 76,
    "start_time": "2022-05-04T03:56:48.272Z"
   },
   {
    "duration": 16,
    "start_time": "2022-05-04T03:56:57.057Z"
   },
   {
    "duration": 20,
    "start_time": "2022-05-04T03:57:12.698Z"
   },
   {
    "duration": 1225,
    "start_time": "2022-05-04T03:57:35.301Z"
   },
   {
    "duration": 279,
    "start_time": "2022-05-04T03:57:36.528Z"
   },
   {
    "duration": 12,
    "start_time": "2022-05-04T03:57:36.808Z"
   },
   {
    "duration": 16,
    "start_time": "2022-05-04T03:57:36.823Z"
   },
   {
    "duration": 5,
    "start_time": "2022-05-04T03:57:36.841Z"
   },
   {
    "duration": 7,
    "start_time": "2022-05-04T03:57:36.847Z"
   },
   {
    "duration": 11,
    "start_time": "2022-05-04T03:57:36.856Z"
   },
   {
    "duration": 44,
    "start_time": "2022-05-04T03:57:36.869Z"
   },
   {
    "duration": 11,
    "start_time": "2022-05-04T03:57:36.916Z"
   },
   {
    "duration": 4,
    "start_time": "2022-05-04T03:57:36.930Z"
   },
   {
    "duration": 8,
    "start_time": "2022-05-04T03:57:36.936Z"
   },
   {
    "duration": 78,
    "start_time": "2022-05-04T03:57:36.946Z"
   },
   {
    "duration": 8,
    "start_time": "2022-05-04T03:57:37.026Z"
   },
   {
    "duration": 26,
    "start_time": "2022-05-04T03:57:37.035Z"
   },
   {
    "duration": 4,
    "start_time": "2022-05-04T03:57:37.063Z"
   },
   {
    "duration": 42,
    "start_time": "2022-05-04T03:57:37.069Z"
   },
   {
    "duration": 9,
    "start_time": "2022-05-04T03:57:37.112Z"
   },
   {
    "duration": 16,
    "start_time": "2022-05-04T03:57:37.123Z"
   },
   {
    "duration": 7,
    "start_time": "2022-05-04T03:57:37.141Z"
   },
   {
    "duration": 19,
    "start_time": "2022-05-04T03:57:37.149Z"
   },
   {
    "duration": 38,
    "start_time": "2022-05-04T03:57:37.170Z"
   },
   {
    "duration": 19,
    "start_time": "2022-05-04T03:57:37.209Z"
   },
   {
    "duration": 7,
    "start_time": "2022-05-04T03:57:37.230Z"
   },
   {
    "duration": 26,
    "start_time": "2022-05-04T03:57:37.240Z"
   },
   {
    "duration": 9,
    "start_time": "2022-05-04T03:57:37.268Z"
   },
   {
    "duration": 18,
    "start_time": "2022-05-04T03:57:37.307Z"
   },
   {
    "duration": 11,
    "start_time": "2022-05-04T03:57:37.327Z"
   },
   {
    "duration": 10,
    "start_time": "2022-05-04T03:57:37.343Z"
   },
   {
    "duration": 83,
    "start_time": "2022-05-04T03:57:37.355Z"
   },
   {
    "duration": 108,
    "start_time": "2022-05-04T03:57:37.440Z"
   },
   {
    "duration": 0,
    "start_time": "2022-05-04T03:57:37.550Z"
   },
   {
    "duration": 0,
    "start_time": "2022-05-04T03:57:37.551Z"
   },
   {
    "duration": 0,
    "start_time": "2022-05-04T03:57:37.553Z"
   },
   {
    "duration": 0,
    "start_time": "2022-05-04T03:57:37.554Z"
   },
   {
    "duration": 0,
    "start_time": "2022-05-04T03:57:37.556Z"
   },
   {
    "duration": 0,
    "start_time": "2022-05-04T03:57:37.557Z"
   },
   {
    "duration": 0,
    "start_time": "2022-05-04T03:57:37.558Z"
   },
   {
    "duration": 0,
    "start_time": "2022-05-04T03:57:37.560Z"
   },
   {
    "duration": 0,
    "start_time": "2022-05-04T03:57:37.562Z"
   },
   {
    "duration": 0,
    "start_time": "2022-05-04T03:57:37.563Z"
   },
   {
    "duration": 0,
    "start_time": "2022-05-04T03:57:37.564Z"
   },
   {
    "duration": 0,
    "start_time": "2022-05-04T03:57:37.566Z"
   },
   {
    "duration": 0,
    "start_time": "2022-05-04T03:57:37.567Z"
   },
   {
    "duration": 0,
    "start_time": "2022-05-04T03:57:37.568Z"
   },
   {
    "duration": 0,
    "start_time": "2022-05-04T03:57:37.570Z"
   },
   {
    "duration": 0,
    "start_time": "2022-05-04T03:57:37.608Z"
   },
   {
    "duration": 0,
    "start_time": "2022-05-04T03:57:37.610Z"
   },
   {
    "duration": 0,
    "start_time": "2022-05-04T03:57:37.611Z"
   },
   {
    "duration": 0,
    "start_time": "2022-05-04T03:57:37.612Z"
   },
   {
    "duration": 121,
    "start_time": "2022-05-04T03:59:08.527Z"
   },
   {
    "duration": 118,
    "start_time": "2022-05-04T03:59:12.805Z"
   },
   {
    "duration": 9,
    "start_time": "2022-05-04T04:00:07.684Z"
   },
   {
    "duration": 24,
    "start_time": "2022-05-04T04:00:13.692Z"
   },
   {
    "duration": 17,
    "start_time": "2022-05-04T04:02:40.771Z"
   },
   {
    "duration": 25,
    "start_time": "2022-05-04T04:03:12.622Z"
   },
   {
    "duration": 10,
    "start_time": "2022-05-04T04:07:14.173Z"
   },
   {
    "duration": 1213,
    "start_time": "2022-05-04T04:07:23.557Z"
   },
   {
    "duration": 295,
    "start_time": "2022-05-04T04:07:24.773Z"
   },
   {
    "duration": 14,
    "start_time": "2022-05-04T04:07:25.069Z"
   },
   {
    "duration": 25,
    "start_time": "2022-05-04T04:07:25.085Z"
   },
   {
    "duration": 14,
    "start_time": "2022-05-04T04:07:25.112Z"
   },
   {
    "duration": 27,
    "start_time": "2022-05-04T04:07:25.128Z"
   },
   {
    "duration": 21,
    "start_time": "2022-05-04T04:07:25.157Z"
   },
   {
    "duration": 22,
    "start_time": "2022-05-04T04:07:25.179Z"
   },
   {
    "duration": 25,
    "start_time": "2022-05-04T04:07:25.202Z"
   },
   {
    "duration": 16,
    "start_time": "2022-05-04T04:07:25.230Z"
   },
   {
    "duration": 15,
    "start_time": "2022-05-04T04:07:25.247Z"
   },
   {
    "duration": 55,
    "start_time": "2022-05-04T04:07:25.263Z"
   },
   {
    "duration": 8,
    "start_time": "2022-05-04T04:07:25.319Z"
   },
   {
    "duration": 39,
    "start_time": "2022-05-04T04:07:25.329Z"
   },
   {
    "duration": 4,
    "start_time": "2022-05-04T04:07:25.370Z"
   },
   {
    "duration": 29,
    "start_time": "2022-05-04T04:07:25.376Z"
   },
   {
    "duration": 9,
    "start_time": "2022-05-04T04:07:25.407Z"
   },
   {
    "duration": 21,
    "start_time": "2022-05-04T04:07:25.418Z"
   },
   {
    "duration": 7,
    "start_time": "2022-05-04T04:07:25.441Z"
   },
   {
    "duration": 28,
    "start_time": "2022-05-04T04:07:25.450Z"
   },
   {
    "duration": 29,
    "start_time": "2022-05-04T04:07:25.479Z"
   },
   {
    "duration": 19,
    "start_time": "2022-05-04T04:07:25.510Z"
   },
   {
    "duration": 12,
    "start_time": "2022-05-04T04:07:25.530Z"
   },
   {
    "duration": 33,
    "start_time": "2022-05-04T04:07:25.543Z"
   },
   {
    "duration": 9,
    "start_time": "2022-05-04T04:07:25.578Z"
   },
   {
    "duration": 29,
    "start_time": "2022-05-04T04:07:25.588Z"
   },
   {
    "duration": 9,
    "start_time": "2022-05-04T04:07:25.619Z"
   },
   {
    "duration": 18,
    "start_time": "2022-05-04T04:07:25.631Z"
   },
   {
    "duration": 58,
    "start_time": "2022-05-04T04:07:25.650Z"
   },
   {
    "duration": 34,
    "start_time": "2022-05-04T04:07:25.710Z"
   },
   {
    "duration": 7,
    "start_time": "2022-05-04T04:07:25.746Z"
   },
   {
    "duration": 54,
    "start_time": "2022-05-04T04:07:25.755Z"
   },
   {
    "duration": 9,
    "start_time": "2022-05-04T04:07:25.811Z"
   },
   {
    "duration": 44,
    "start_time": "2022-05-04T04:07:25.821Z"
   },
   {
    "duration": 8,
    "start_time": "2022-05-04T04:07:25.866Z"
   },
   {
    "duration": 18,
    "start_time": "2022-05-04T04:07:25.876Z"
   },
   {
    "duration": 17,
    "start_time": "2022-05-04T04:07:25.895Z"
   },
   {
    "duration": 32,
    "start_time": "2022-05-04T04:07:25.914Z"
   },
   {
    "duration": 32,
    "start_time": "2022-05-04T04:07:25.947Z"
   },
   {
    "duration": 1152,
    "start_time": "2022-05-04T04:07:25.981Z"
   },
   {
    "duration": 0,
    "start_time": "2022-05-04T04:07:27.135Z"
   },
   {
    "duration": 0,
    "start_time": "2022-05-04T04:07:27.136Z"
   },
   {
    "duration": 0,
    "start_time": "2022-05-04T04:07:27.137Z"
   },
   {
    "duration": 0,
    "start_time": "2022-05-04T04:07:27.138Z"
   },
   {
    "duration": 0,
    "start_time": "2022-05-04T04:07:27.139Z"
   },
   {
    "duration": 0,
    "start_time": "2022-05-04T04:07:27.140Z"
   },
   {
    "duration": 0,
    "start_time": "2022-05-04T04:07:27.141Z"
   },
   {
    "duration": 0,
    "start_time": "2022-05-04T04:07:27.142Z"
   },
   {
    "duration": 18,
    "start_time": "2022-05-04T04:08:19.139Z"
   },
   {
    "duration": 1117,
    "start_time": "2022-05-04T04:13:31.519Z"
   },
   {
    "duration": 265,
    "start_time": "2022-05-04T04:13:32.638Z"
   },
   {
    "duration": 11,
    "start_time": "2022-05-04T04:13:32.905Z"
   },
   {
    "duration": 14,
    "start_time": "2022-05-04T04:13:32.918Z"
   },
   {
    "duration": 4,
    "start_time": "2022-05-04T04:13:32.934Z"
   },
   {
    "duration": 17,
    "start_time": "2022-05-04T04:13:32.939Z"
   },
   {
    "duration": 9,
    "start_time": "2022-05-04T04:13:32.957Z"
   },
   {
    "duration": 11,
    "start_time": "2022-05-04T04:13:32.968Z"
   },
   {
    "duration": 10,
    "start_time": "2022-05-04T04:13:32.981Z"
   },
   {
    "duration": 71,
    "start_time": "2022-05-04T04:13:33.007Z"
   },
   {
    "duration": 0,
    "start_time": "2022-05-04T04:13:33.080Z"
   },
   {
    "duration": 0,
    "start_time": "2022-05-04T04:13:33.081Z"
   },
   {
    "duration": 0,
    "start_time": "2022-05-04T04:13:33.082Z"
   },
   {
    "duration": 0,
    "start_time": "2022-05-04T04:13:33.083Z"
   },
   {
    "duration": 0,
    "start_time": "2022-05-04T04:13:33.084Z"
   },
   {
    "duration": 0,
    "start_time": "2022-05-04T04:13:33.085Z"
   },
   {
    "duration": 0,
    "start_time": "2022-05-04T04:13:33.085Z"
   },
   {
    "duration": 0,
    "start_time": "2022-05-04T04:13:33.086Z"
   },
   {
    "duration": 0,
    "start_time": "2022-05-04T04:13:33.087Z"
   },
   {
    "duration": 0,
    "start_time": "2022-05-04T04:13:33.088Z"
   },
   {
    "duration": 0,
    "start_time": "2022-05-04T04:13:33.089Z"
   },
   {
    "duration": 0,
    "start_time": "2022-05-04T04:13:33.091Z"
   },
   {
    "duration": 0,
    "start_time": "2022-05-04T04:13:33.092Z"
   },
   {
    "duration": 0,
    "start_time": "2022-05-04T04:13:33.093Z"
   },
   {
    "duration": 0,
    "start_time": "2022-05-04T04:13:33.094Z"
   },
   {
    "duration": 0,
    "start_time": "2022-05-04T04:13:33.095Z"
   },
   {
    "duration": 0,
    "start_time": "2022-05-04T04:13:33.096Z"
   },
   {
    "duration": 0,
    "start_time": "2022-05-04T04:13:33.097Z"
   },
   {
    "duration": 0,
    "start_time": "2022-05-04T04:13:33.098Z"
   },
   {
    "duration": 0,
    "start_time": "2022-05-04T04:13:33.099Z"
   },
   {
    "duration": 0,
    "start_time": "2022-05-04T04:13:33.100Z"
   },
   {
    "duration": 0,
    "start_time": "2022-05-04T04:13:33.101Z"
   },
   {
    "duration": 0,
    "start_time": "2022-05-04T04:13:33.102Z"
   },
   {
    "duration": 0,
    "start_time": "2022-05-04T04:13:33.103Z"
   },
   {
    "duration": 0,
    "start_time": "2022-05-04T04:13:33.104Z"
   },
   {
    "duration": 0,
    "start_time": "2022-05-04T04:13:33.105Z"
   },
   {
    "duration": 0,
    "start_time": "2022-05-04T04:13:33.106Z"
   },
   {
    "duration": 0,
    "start_time": "2022-05-04T04:13:33.107Z"
   },
   {
    "duration": 0,
    "start_time": "2022-05-04T04:13:33.108Z"
   },
   {
    "duration": 0,
    "start_time": "2022-05-04T04:13:33.109Z"
   },
   {
    "duration": 0,
    "start_time": "2022-05-04T04:13:33.110Z"
   },
   {
    "duration": 0,
    "start_time": "2022-05-04T04:13:33.111Z"
   },
   {
    "duration": 0,
    "start_time": "2022-05-04T04:13:33.112Z"
   },
   {
    "duration": 0,
    "start_time": "2022-05-04T04:13:33.113Z"
   },
   {
    "duration": 0,
    "start_time": "2022-05-04T04:13:33.114Z"
   },
   {
    "duration": 0,
    "start_time": "2022-05-04T04:13:33.115Z"
   },
   {
    "duration": 0,
    "start_time": "2022-05-04T04:13:33.116Z"
   },
   {
    "duration": 1470,
    "start_time": "2022-05-04T04:14:05.109Z"
   },
   {
    "duration": 290,
    "start_time": "2022-05-04T04:14:06.581Z"
   },
   {
    "duration": 13,
    "start_time": "2022-05-04T04:14:06.872Z"
   },
   {
    "duration": 13,
    "start_time": "2022-05-04T04:14:06.888Z"
   },
   {
    "duration": 6,
    "start_time": "2022-05-04T04:14:06.902Z"
   },
   {
    "duration": 7,
    "start_time": "2022-05-04T04:14:06.910Z"
   },
   {
    "duration": 10,
    "start_time": "2022-05-04T04:14:06.919Z"
   },
   {
    "duration": 13,
    "start_time": "2022-05-04T04:14:06.930Z"
   },
   {
    "duration": 13,
    "start_time": "2022-05-04T04:14:06.944Z"
   },
   {
    "duration": 6,
    "start_time": "2022-05-04T04:14:06.959Z"
   },
   {
    "duration": 42,
    "start_time": "2022-05-04T04:14:06.967Z"
   },
   {
    "duration": 5,
    "start_time": "2022-05-04T04:14:07.011Z"
   },
   {
    "duration": 46,
    "start_time": "2022-05-04T04:14:07.018Z"
   },
   {
    "duration": 8,
    "start_time": "2022-05-04T04:14:07.066Z"
   },
   {
    "duration": 47,
    "start_time": "2022-05-04T04:14:07.076Z"
   },
   {
    "duration": 4,
    "start_time": "2022-05-04T04:14:07.124Z"
   },
   {
    "duration": 17,
    "start_time": "2022-05-04T04:14:07.130Z"
   },
   {
    "duration": 9,
    "start_time": "2022-05-04T04:14:07.149Z"
   },
   {
    "duration": 16,
    "start_time": "2022-05-04T04:14:07.160Z"
   },
   {
    "duration": 32,
    "start_time": "2022-05-04T04:14:07.177Z"
   },
   {
    "duration": 16,
    "start_time": "2022-05-04T04:14:07.211Z"
   },
   {
    "duration": 13,
    "start_time": "2022-05-04T04:14:07.228Z"
   },
   {
    "duration": 20,
    "start_time": "2022-05-04T04:14:07.243Z"
   },
   {
    "duration": 9,
    "start_time": "2022-05-04T04:14:07.264Z"
   },
   {
    "duration": 25,
    "start_time": "2022-05-04T04:14:07.306Z"
   },
   {
    "duration": 9,
    "start_time": "2022-05-04T04:14:07.333Z"
   },
   {
    "duration": 18,
    "start_time": "2022-05-04T04:14:07.343Z"
   },
   {
    "duration": 9,
    "start_time": "2022-05-04T04:14:07.365Z"
   },
   {
    "duration": 39,
    "start_time": "2022-05-04T04:14:07.376Z"
   },
   {
    "duration": 47,
    "start_time": "2022-05-04T04:14:07.416Z"
   },
   {
    "duration": 52,
    "start_time": "2022-05-04T04:14:07.464Z"
   },
   {
    "duration": 8,
    "start_time": "2022-05-04T04:14:07.517Z"
   },
   {
    "duration": 32,
    "start_time": "2022-05-04T04:14:07.526Z"
   },
   {
    "duration": 8,
    "start_time": "2022-05-04T04:14:07.559Z"
   },
   {
    "duration": 53,
    "start_time": "2022-05-04T04:14:07.569Z"
   },
   {
    "duration": 8,
    "start_time": "2022-05-04T04:14:07.623Z"
   },
   {
    "duration": 31,
    "start_time": "2022-05-04T04:14:07.633Z"
   },
   {
    "duration": 42,
    "start_time": "2022-05-04T04:14:07.666Z"
   },
   {
    "duration": 70,
    "start_time": "2022-05-04T04:14:07.710Z"
   },
   {
    "duration": 0,
    "start_time": "2022-05-04T04:14:07.782Z"
   },
   {
    "duration": 0,
    "start_time": "2022-05-04T04:14:07.783Z"
   },
   {
    "duration": 0,
    "start_time": "2022-05-04T04:14:07.784Z"
   },
   {
    "duration": 0,
    "start_time": "2022-05-04T04:14:07.786Z"
   },
   {
    "duration": 0,
    "start_time": "2022-05-04T04:14:07.787Z"
   },
   {
    "duration": 1,
    "start_time": "2022-05-04T04:14:07.787Z"
   },
   {
    "duration": 0,
    "start_time": "2022-05-04T04:14:07.788Z"
   },
   {
    "duration": 0,
    "start_time": "2022-05-04T04:14:07.789Z"
   },
   {
    "duration": 20,
    "start_time": "2022-05-04T04:16:57.314Z"
   },
   {
    "duration": 32,
    "start_time": "2022-05-04T04:17:23.543Z"
   },
   {
    "duration": 46,
    "start_time": "2022-05-04T04:17:36.216Z"
   },
   {
    "duration": 36,
    "start_time": "2022-05-04T04:19:16.060Z"
   },
   {
    "duration": 35,
    "start_time": "2022-05-04T04:19:27.815Z"
   },
   {
    "duration": 39,
    "start_time": "2022-05-04T04:19:38.313Z"
   },
   {
    "duration": 34,
    "start_time": "2022-05-04T04:20:02.922Z"
   },
   {
    "duration": 35,
    "start_time": "2022-05-04T04:20:14.071Z"
   },
   {
    "duration": 43,
    "start_time": "2022-05-04T04:20:19.112Z"
   },
   {
    "duration": 41,
    "start_time": "2022-05-04T04:21:08.352Z"
   },
   {
    "duration": 1136,
    "start_time": "2022-05-04T04:22:18.351Z"
   },
   {
    "duration": 295,
    "start_time": "2022-05-04T04:22:19.489Z"
   },
   {
    "duration": 12,
    "start_time": "2022-05-04T04:22:19.785Z"
   },
   {
    "duration": 14,
    "start_time": "2022-05-04T04:22:19.799Z"
   },
   {
    "duration": 7,
    "start_time": "2022-05-04T04:22:19.816Z"
   },
   {
    "duration": 7,
    "start_time": "2022-05-04T04:22:19.824Z"
   },
   {
    "duration": 10,
    "start_time": "2022-05-04T04:22:19.832Z"
   },
   {
    "duration": 12,
    "start_time": "2022-05-04T04:22:19.844Z"
   },
   {
    "duration": 14,
    "start_time": "2022-05-04T04:22:19.858Z"
   },
   {
    "duration": 7,
    "start_time": "2022-05-04T04:22:19.874Z"
   },
   {
    "duration": 9,
    "start_time": "2022-05-04T04:22:19.908Z"
   },
   {
    "duration": 11,
    "start_time": "2022-05-04T04:22:19.918Z"
   },
   {
    "duration": 51,
    "start_time": "2022-05-04T04:22:19.930Z"
   },
   {
    "duration": 8,
    "start_time": "2022-05-04T04:22:19.985Z"
   },
   {
    "duration": 38,
    "start_time": "2022-05-04T04:22:19.994Z"
   },
   {
    "duration": 5,
    "start_time": "2022-05-04T04:22:20.033Z"
   },
   {
    "duration": 18,
    "start_time": "2022-05-04T04:22:20.040Z"
   },
   {
    "duration": 9,
    "start_time": "2022-05-04T04:22:20.060Z"
   },
   {
    "duration": 44,
    "start_time": "2022-05-04T04:22:20.070Z"
   },
   {
    "duration": 7,
    "start_time": "2022-05-04T04:22:20.116Z"
   },
   {
    "duration": 18,
    "start_time": "2022-05-04T04:22:20.125Z"
   },
   {
    "duration": 18,
    "start_time": "2022-05-04T04:22:20.145Z"
   },
   {
    "duration": 19,
    "start_time": "2022-05-04T04:22:20.164Z"
   },
   {
    "duration": 9,
    "start_time": "2022-05-04T04:22:20.207Z"
   },
   {
    "duration": 29,
    "start_time": "2022-05-04T04:22:20.217Z"
   },
   {
    "duration": 8,
    "start_time": "2022-05-04T04:22:20.248Z"
   },
   {
    "duration": 19,
    "start_time": "2022-05-04T04:22:20.258Z"
   },
   {
    "duration": 35,
    "start_time": "2022-05-04T04:22:20.278Z"
   },
   {
    "duration": 10,
    "start_time": "2022-05-04T04:22:20.314Z"
   },
   {
    "duration": 58,
    "start_time": "2022-05-04T04:22:20.326Z"
   },
   {
    "duration": 44,
    "start_time": "2022-05-04T04:22:20.386Z"
   },
   {
    "duration": 8,
    "start_time": "2022-05-04T04:22:20.432Z"
   },
   {
    "duration": 34,
    "start_time": "2022-05-04T04:22:20.441Z"
   },
   {
    "duration": 32,
    "start_time": "2022-05-04T04:22:20.477Z"
   },
   {
    "duration": 31,
    "start_time": "2022-05-04T04:22:20.511Z"
   },
   {
    "duration": 8,
    "start_time": "2022-05-04T04:22:20.544Z"
   },
   {
    "duration": 61,
    "start_time": "2022-05-04T04:22:20.553Z"
   },
   {
    "duration": 25,
    "start_time": "2022-05-04T04:22:20.616Z"
   },
   {
    "duration": 82,
    "start_time": "2022-05-04T04:22:20.642Z"
   },
   {
    "duration": 0,
    "start_time": "2022-05-04T04:22:20.726Z"
   },
   {
    "duration": 0,
    "start_time": "2022-05-04T04:22:20.728Z"
   },
   {
    "duration": 0,
    "start_time": "2022-05-04T04:22:20.729Z"
   },
   {
    "duration": 0,
    "start_time": "2022-05-04T04:22:20.730Z"
   },
   {
    "duration": 0,
    "start_time": "2022-05-04T04:22:20.731Z"
   },
   {
    "duration": 0,
    "start_time": "2022-05-04T04:22:20.732Z"
   },
   {
    "duration": 0,
    "start_time": "2022-05-04T04:22:20.733Z"
   },
   {
    "duration": 0,
    "start_time": "2022-05-04T04:22:20.734Z"
   },
   {
    "duration": 37,
    "start_time": "2022-05-04T04:23:14.064Z"
   },
   {
    "duration": 1118,
    "start_time": "2022-05-04T04:28:31.857Z"
   },
   {
    "duration": 271,
    "start_time": "2022-05-04T04:28:32.977Z"
   },
   {
    "duration": 11,
    "start_time": "2022-05-04T04:28:33.250Z"
   },
   {
    "duration": 16,
    "start_time": "2022-05-04T04:28:33.263Z"
   },
   {
    "duration": 4,
    "start_time": "2022-05-04T04:28:33.280Z"
   },
   {
    "duration": 8,
    "start_time": "2022-05-04T04:28:33.285Z"
   },
   {
    "duration": 17,
    "start_time": "2022-05-04T04:28:33.295Z"
   },
   {
    "duration": 11,
    "start_time": "2022-05-04T04:28:33.314Z"
   },
   {
    "duration": 10,
    "start_time": "2022-05-04T04:28:33.326Z"
   },
   {
    "duration": 7,
    "start_time": "2022-05-04T04:28:33.338Z"
   },
   {
    "duration": 13,
    "start_time": "2022-05-04T04:28:33.346Z"
   },
   {
    "duration": 5,
    "start_time": "2022-05-04T04:28:33.360Z"
   },
   {
    "duration": 70,
    "start_time": "2022-05-04T04:28:33.366Z"
   },
   {
    "duration": 8,
    "start_time": "2022-05-04T04:28:33.438Z"
   },
   {
    "duration": 29,
    "start_time": "2022-05-04T04:28:33.447Z"
   },
   {
    "duration": 5,
    "start_time": "2022-05-04T04:28:33.478Z"
   },
   {
    "duration": 34,
    "start_time": "2022-05-04T04:28:33.484Z"
   },
   {
    "duration": 8,
    "start_time": "2022-05-04T04:28:33.520Z"
   },
   {
    "duration": 18,
    "start_time": "2022-05-04T04:28:33.530Z"
   },
   {
    "duration": 7,
    "start_time": "2022-05-04T04:28:33.549Z"
   },
   {
    "duration": 15,
    "start_time": "2022-05-04T04:28:33.557Z"
   },
   {
    "duration": 41,
    "start_time": "2022-05-04T04:28:33.574Z"
   },
   {
    "duration": 18,
    "start_time": "2022-05-04T04:28:33.616Z"
   },
   {
    "duration": 7,
    "start_time": "2022-05-04T04:28:33.636Z"
   },
   {
    "duration": 24,
    "start_time": "2022-05-04T04:28:33.645Z"
   },
   {
    "duration": 8,
    "start_time": "2022-05-04T04:28:33.670Z"
   },
   {
    "duration": 17,
    "start_time": "2022-05-04T04:28:33.708Z"
   },
   {
    "duration": 9,
    "start_time": "2022-05-04T04:28:33.728Z"
   },
   {
    "duration": 12,
    "start_time": "2022-05-04T04:28:33.739Z"
   },
   {
    "duration": 75,
    "start_time": "2022-05-04T04:28:33.752Z"
   },
   {
    "duration": 32,
    "start_time": "2022-05-04T04:28:33.828Z"
   },
   {
    "duration": 8,
    "start_time": "2022-05-04T04:28:33.861Z"
   },
   {
    "duration": 48,
    "start_time": "2022-05-04T04:28:33.871Z"
   },
   {
    "duration": 8,
    "start_time": "2022-05-04T04:28:33.921Z"
   },
   {
    "duration": 29,
    "start_time": "2022-05-04T04:28:33.930Z"
   },
   {
    "duration": 7,
    "start_time": "2022-05-04T04:28:33.961Z"
   },
   {
    "duration": 57,
    "start_time": "2022-05-04T04:28:33.969Z"
   },
   {
    "duration": 29,
    "start_time": "2022-05-04T04:28:34.028Z"
   },
   {
    "duration": 84,
    "start_time": "2022-05-04T04:28:34.058Z"
   },
   {
    "duration": 0,
    "start_time": "2022-05-04T04:28:34.143Z"
   },
   {
    "duration": 0,
    "start_time": "2022-05-04T04:28:34.145Z"
   },
   {
    "duration": 0,
    "start_time": "2022-05-04T04:28:34.146Z"
   },
   {
    "duration": 0,
    "start_time": "2022-05-04T04:28:34.147Z"
   },
   {
    "duration": 0,
    "start_time": "2022-05-04T04:28:34.148Z"
   },
   {
    "duration": 0,
    "start_time": "2022-05-04T04:28:34.149Z"
   },
   {
    "duration": 0,
    "start_time": "2022-05-04T04:28:34.150Z"
   },
   {
    "duration": 0,
    "start_time": "2022-05-04T04:28:34.151Z"
   },
   {
    "duration": 1107,
    "start_time": "2022-05-04T04:31:52.035Z"
   },
   {
    "duration": 271,
    "start_time": "2022-05-04T04:31:53.144Z"
   },
   {
    "duration": 12,
    "start_time": "2022-05-04T04:31:53.416Z"
   },
   {
    "duration": 14,
    "start_time": "2022-05-04T04:31:53.430Z"
   },
   {
    "duration": 4,
    "start_time": "2022-05-04T04:31:53.446Z"
   },
   {
    "duration": 7,
    "start_time": "2022-05-04T04:31:53.451Z"
   },
   {
    "duration": 9,
    "start_time": "2022-05-04T04:31:53.459Z"
   },
   {
    "duration": 14,
    "start_time": "2022-05-04T04:31:53.469Z"
   },
   {
    "duration": 10,
    "start_time": "2022-05-04T04:31:53.507Z"
   },
   {
    "duration": 5,
    "start_time": "2022-05-04T04:31:53.520Z"
   },
   {
    "duration": 10,
    "start_time": "2022-05-04T04:31:53.526Z"
   },
   {
    "duration": 4,
    "start_time": "2022-05-04T04:31:53.538Z"
   },
   {
    "duration": 69,
    "start_time": "2022-05-04T04:31:53.543Z"
   },
   {
    "duration": 9,
    "start_time": "2022-05-04T04:31:53.614Z"
   },
   {
    "duration": 25,
    "start_time": "2022-05-04T04:31:53.624Z"
   },
   {
    "duration": 5,
    "start_time": "2022-05-04T04:31:53.650Z"
   },
   {
    "duration": 16,
    "start_time": "2022-05-04T04:31:53.657Z"
   },
   {
    "duration": 40,
    "start_time": "2022-05-04T04:31:53.675Z"
   },
   {
    "duration": 16,
    "start_time": "2022-05-04T04:31:53.716Z"
   },
   {
    "duration": 7,
    "start_time": "2022-05-04T04:31:53.733Z"
   },
   {
    "duration": 14,
    "start_time": "2022-05-04T04:31:53.742Z"
   },
   {
    "duration": 13,
    "start_time": "2022-05-04T04:31:53.758Z"
   },
   {
    "duration": 47,
    "start_time": "2022-05-04T04:31:53.773Z"
   },
   {
    "duration": 8,
    "start_time": "2022-05-04T04:31:53.822Z"
   },
   {
    "duration": 24,
    "start_time": "2022-05-04T04:31:53.832Z"
   },
   {
    "duration": 9,
    "start_time": "2022-05-04T04:31:53.858Z"
   },
   {
    "duration": 51,
    "start_time": "2022-05-04T04:31:53.868Z"
   },
   {
    "duration": 8,
    "start_time": "2022-05-04T04:31:53.924Z"
   },
   {
    "duration": 10,
    "start_time": "2022-05-04T04:31:53.934Z"
   },
   {
    "duration": 70,
    "start_time": "2022-05-04T04:31:53.946Z"
   },
   {
    "duration": 34,
    "start_time": "2022-05-04T04:31:54.018Z"
   },
   {
    "duration": 9,
    "start_time": "2022-05-04T04:31:54.054Z"
   },
   {
    "duration": 60,
    "start_time": "2022-05-04T04:31:54.065Z"
   },
   {
    "duration": 9,
    "start_time": "2022-05-04T04:31:54.127Z"
   },
   {
    "duration": 30,
    "start_time": "2022-05-04T04:31:54.138Z"
   },
   {
    "duration": 8,
    "start_time": "2022-05-04T04:31:54.170Z"
   },
   {
    "duration": 33,
    "start_time": "2022-05-04T04:31:54.208Z"
   },
   {
    "duration": 4,
    "start_time": "2022-05-04T04:31:54.243Z"
   },
   {
    "duration": 34,
    "start_time": "2022-05-04T04:31:54.249Z"
   },
   {
    "duration": 70,
    "start_time": "2022-05-04T04:31:54.308Z"
   },
   {
    "duration": 0,
    "start_time": "2022-05-04T04:31:54.380Z"
   },
   {
    "duration": 0,
    "start_time": "2022-05-04T04:31:54.382Z"
   },
   {
    "duration": 0,
    "start_time": "2022-05-04T04:31:54.384Z"
   },
   {
    "duration": 0,
    "start_time": "2022-05-04T04:31:54.385Z"
   },
   {
    "duration": 0,
    "start_time": "2022-05-04T04:31:54.386Z"
   },
   {
    "duration": 0,
    "start_time": "2022-05-04T04:31:54.388Z"
   },
   {
    "duration": 0,
    "start_time": "2022-05-04T04:31:54.389Z"
   },
   {
    "duration": 1,
    "start_time": "2022-05-04T04:31:54.390Z"
   },
   {
    "duration": 25,
    "start_time": "2022-05-04T04:33:05.941Z"
   },
   {
    "duration": 1133,
    "start_time": "2022-05-04T04:34:33.614Z"
   },
   {
    "duration": 271,
    "start_time": "2022-05-04T04:34:34.749Z"
   },
   {
    "duration": 11,
    "start_time": "2022-05-04T04:34:35.022Z"
   },
   {
    "duration": 16,
    "start_time": "2022-05-04T04:34:35.036Z"
   },
   {
    "duration": 9,
    "start_time": "2022-05-04T04:34:35.053Z"
   },
   {
    "duration": 10,
    "start_time": "2022-05-04T04:34:35.063Z"
   },
   {
    "duration": 19,
    "start_time": "2022-05-04T04:34:35.075Z"
   },
   {
    "duration": 17,
    "start_time": "2022-05-04T04:34:35.096Z"
   },
   {
    "duration": 15,
    "start_time": "2022-05-04T04:34:35.115Z"
   },
   {
    "duration": 4,
    "start_time": "2022-05-04T04:34:35.133Z"
   },
   {
    "duration": 10,
    "start_time": "2022-05-04T04:34:35.139Z"
   },
   {
    "duration": 4,
    "start_time": "2022-05-04T04:34:35.150Z"
   },
   {
    "duration": 61,
    "start_time": "2022-05-04T04:34:35.156Z"
   },
   {
    "duration": 8,
    "start_time": "2022-05-04T04:34:35.218Z"
   },
   {
    "duration": 26,
    "start_time": "2022-05-04T04:34:35.228Z"
   },
   {
    "duration": 5,
    "start_time": "2022-05-04T04:34:35.255Z"
   },
   {
    "duration": 17,
    "start_time": "2022-05-04T04:34:35.262Z"
   },
   {
    "duration": 34,
    "start_time": "2022-05-04T04:34:35.281Z"
   },
   {
    "duration": 16,
    "start_time": "2022-05-04T04:34:35.317Z"
   },
   {
    "duration": 7,
    "start_time": "2022-05-04T04:34:35.335Z"
   },
   {
    "duration": 15,
    "start_time": "2022-05-04T04:34:35.343Z"
   },
   {
    "duration": 13,
    "start_time": "2022-05-04T04:34:35.359Z"
   },
   {
    "duration": 49,
    "start_time": "2022-05-04T04:34:35.374Z"
   },
   {
    "duration": 9,
    "start_time": "2022-05-04T04:34:35.425Z"
   },
   {
    "duration": 31,
    "start_time": "2022-05-04T04:34:35.435Z"
   },
   {
    "duration": 8,
    "start_time": "2022-05-04T04:34:35.468Z"
   },
   {
    "duration": 40,
    "start_time": "2022-05-04T04:34:35.478Z"
   },
   {
    "duration": 9,
    "start_time": "2022-05-04T04:34:35.521Z"
   },
   {
    "duration": 9,
    "start_time": "2022-05-04T04:34:35.532Z"
   },
   {
    "duration": 44,
    "start_time": "2022-05-04T04:34:35.543Z"
   },
   {
    "duration": 31,
    "start_time": "2022-05-04T04:34:35.608Z"
   },
   {
    "duration": 7,
    "start_time": "2022-05-04T04:34:35.641Z"
   },
   {
    "duration": 29,
    "start_time": "2022-05-04T04:34:35.650Z"
   },
   {
    "duration": 34,
    "start_time": "2022-05-04T04:34:35.680Z"
   },
   {
    "duration": 31,
    "start_time": "2022-05-04T04:34:35.715Z"
   },
   {
    "duration": 7,
    "start_time": "2022-05-04T04:34:35.747Z"
   },
   {
    "duration": 53,
    "start_time": "2022-05-04T04:34:35.756Z"
   },
   {
    "duration": 4,
    "start_time": "2022-05-04T04:34:35.810Z"
   },
   {
    "duration": 22,
    "start_time": "2022-05-04T04:34:35.815Z"
   },
   {
    "duration": 61,
    "start_time": "2022-05-04T04:34:35.839Z"
   },
   {
    "duration": 0,
    "start_time": "2022-05-04T04:34:35.902Z"
   },
   {
    "duration": 0,
    "start_time": "2022-05-04T04:34:35.903Z"
   },
   {
    "duration": 0,
    "start_time": "2022-05-04T04:34:35.904Z"
   },
   {
    "duration": 0,
    "start_time": "2022-05-04T04:34:35.905Z"
   },
   {
    "duration": 0,
    "start_time": "2022-05-04T04:34:35.905Z"
   },
   {
    "duration": 0,
    "start_time": "2022-05-04T04:34:35.906Z"
   },
   {
    "duration": 0,
    "start_time": "2022-05-04T04:34:35.907Z"
   },
   {
    "duration": 0,
    "start_time": "2022-05-04T04:34:35.908Z"
   },
   {
    "duration": 61,
    "start_time": "2022-05-04T04:56:56.831Z"
   },
   {
    "duration": 4,
    "start_time": "2022-05-04T04:57:01.134Z"
   },
   {
    "duration": 4,
    "start_time": "2022-05-04T04:58:45.041Z"
   },
   {
    "duration": 105,
    "start_time": "2022-05-04T04:58:51.415Z"
   },
   {
    "duration": 9,
    "start_time": "2022-05-04T04:59:03.180Z"
   },
   {
    "duration": 16,
    "start_time": "2022-05-04T04:59:16.998Z"
   },
   {
    "duration": 24,
    "start_time": "2022-05-04T05:00:07.533Z"
   },
   {
    "duration": 4,
    "start_time": "2022-05-04T05:03:29.132Z"
   },
   {
    "duration": 9,
    "start_time": "2022-05-04T05:03:31.552Z"
   },
   {
    "duration": 23,
    "start_time": "2022-05-04T05:03:33.965Z"
   },
   {
    "duration": 4,
    "start_time": "2022-05-04T05:04:33.984Z"
   },
   {
    "duration": 8,
    "start_time": "2022-05-04T05:04:35.942Z"
   },
   {
    "duration": 24,
    "start_time": "2022-05-04T05:04:37.238Z"
   },
   {
    "duration": 4,
    "start_time": "2022-05-04T05:06:07.364Z"
   },
   {
    "duration": 8,
    "start_time": "2022-05-04T05:06:08.752Z"
   },
   {
    "duration": 24,
    "start_time": "2022-05-04T05:06:10.055Z"
   },
   {
    "duration": 18,
    "start_time": "2022-05-04T05:07:01.119Z"
   },
   {
    "duration": 5,
    "start_time": "2022-05-04T05:10:22.842Z"
   },
   {
    "duration": 8,
    "start_time": "2022-05-04T05:10:27.173Z"
   },
   {
    "duration": 17,
    "start_time": "2022-05-04T05:10:29.514Z"
   },
   {
    "duration": 71,
    "start_time": "2022-05-04T05:17:02.163Z"
   },
   {
    "duration": 69,
    "start_time": "2022-05-04T05:20:33.641Z"
   },
   {
    "duration": 4,
    "start_time": "2022-05-04T05:20:40.831Z"
   },
   {
    "duration": 209175,
    "start_time": "2022-05-04T05:20:52.708Z"
   },
   {
    "duration": 0,
    "start_time": "2022-05-04T05:24:21.885Z"
   },
   {
    "duration": 7,
    "start_time": "2022-05-04T05:32:55.384Z"
   },
   {
    "duration": 8,
    "start_time": "2022-05-04T05:32:58.073Z"
   },
   {
    "duration": 17,
    "start_time": "2022-05-04T05:33:00.495Z"
   },
   {
    "duration": 17,
    "start_time": "2022-05-04T05:34:03.048Z"
   },
   {
    "duration": 5,
    "start_time": "2022-05-04T05:35:18.317Z"
   },
   {
    "duration": 8,
    "start_time": "2022-05-04T05:35:19.922Z"
   },
   {
    "duration": 18,
    "start_time": "2022-05-04T05:35:21.909Z"
   },
   {
    "duration": 22,
    "start_time": "2022-05-04T05:39:51.413Z"
   },
   {
    "duration": 5,
    "start_time": "2022-05-04T05:44:29.022Z"
   },
   {
    "duration": 21,
    "start_time": "2022-05-04T05:44:31.245Z"
   },
   {
    "duration": 4,
    "start_time": "2022-05-04T05:45:06.867Z"
   },
   {
    "duration": 10,
    "start_time": "2022-05-04T05:45:08.467Z"
   },
   {
    "duration": 26,
    "start_time": "2022-05-04T05:45:11.084Z"
   },
   {
    "duration": 5,
    "start_time": "2022-05-04T05:46:02.660Z"
   },
   {
    "duration": 4,
    "start_time": "2022-05-04T05:46:05.913Z"
   },
   {
    "duration": 7,
    "start_time": "2022-05-04T05:46:07.461Z"
   },
   {
    "duration": 21,
    "start_time": "2022-05-04T05:46:08.813Z"
   },
   {
    "duration": 6,
    "start_time": "2022-05-04T05:48:22.887Z"
   },
   {
    "duration": 9,
    "start_time": "2022-05-04T05:48:25.748Z"
   },
   {
    "duration": 21,
    "start_time": "2022-05-04T05:48:28.064Z"
   },
   {
    "duration": 23,
    "start_time": "2022-05-04T05:48:52.875Z"
   },
   {
    "duration": 6,
    "start_time": "2022-05-04T05:51:49.427Z"
   },
   {
    "duration": 12,
    "start_time": "2022-05-04T05:51:51.502Z"
   },
   {
    "duration": 32,
    "start_time": "2022-05-04T05:51:53.068Z"
   },
   {
    "duration": 63,
    "start_time": "2022-05-04T05:52:14.788Z"
   },
   {
    "duration": 13,
    "start_time": "2022-05-04T05:52:21.883Z"
   },
   {
    "duration": 30,
    "start_time": "2022-05-04T05:52:28.635Z"
   },
   {
    "duration": 6,
    "start_time": "2022-05-04T05:53:05.469Z"
   },
   {
    "duration": 14,
    "start_time": "2022-05-04T05:53:09.688Z"
   },
   {
    "duration": 32,
    "start_time": "2022-05-04T05:53:11.050Z"
   },
   {
    "duration": 13,
    "start_time": "2022-05-04T05:54:04.714Z"
   },
   {
    "duration": 11,
    "start_time": "2022-05-04T05:54:20.071Z"
   },
   {
    "duration": 10,
    "start_time": "2022-05-04T05:54:34.750Z"
   },
   {
    "duration": 27,
    "start_time": "2022-05-04T05:54:52.012Z"
   },
   {
    "duration": 33,
    "start_time": "2022-05-04T05:56:33.628Z"
   },
   {
    "duration": 12,
    "start_time": "2022-05-04T06:00:31.687Z"
   },
   {
    "duration": 15,
    "start_time": "2022-05-04T06:00:58.669Z"
   },
   {
    "duration": 45,
    "start_time": "2022-05-04T06:01:12.006Z"
   },
   {
    "duration": 13,
    "start_time": "2022-05-04T06:01:22.047Z"
   },
   {
    "duration": 24,
    "start_time": "2022-05-04T06:01:28.796Z"
   },
   {
    "duration": 26,
    "start_time": "2022-05-04T06:01:38.359Z"
   },
   {
    "duration": 39,
    "start_time": "2022-05-04T06:01:51.049Z"
   },
   {
    "duration": 23,
    "start_time": "2022-05-04T06:01:59.305Z"
   },
   {
    "duration": 16,
    "start_time": "2022-05-04T06:05:40.754Z"
   },
   {
    "duration": 14,
    "start_time": "2022-05-04T06:09:40.266Z"
   },
   {
    "duration": 12,
    "start_time": "2022-05-04T06:09:50.929Z"
   },
   {
    "duration": 17,
    "start_time": "2022-05-04T06:10:04.047Z"
   },
   {
    "duration": 10,
    "start_time": "2022-05-04T06:11:22.441Z"
   },
   {
    "duration": 24,
    "start_time": "2022-05-04T06:11:31.601Z"
   },
   {
    "duration": 20,
    "start_time": "2022-05-04T06:11:54.292Z"
   },
   {
    "duration": 311,
    "start_time": "2022-05-04T06:13:17.237Z"
   },
   {
    "duration": 109,
    "start_time": "2022-05-04T06:13:52.275Z"
   },
   {
    "duration": 27,
    "start_time": "2022-05-04T06:13:55.685Z"
   },
   {
    "duration": 919,
    "start_time": "2022-05-04T06:16:39.278Z"
   },
   {
    "duration": 2,
    "start_time": "2022-05-04T06:17:24.393Z"
   },
   {
    "duration": 13,
    "start_time": "2022-05-04T06:18:20.365Z"
   },
   {
    "duration": 293,
    "start_time": "2022-05-04T06:18:36.992Z"
   },
   {
    "duration": 957,
    "start_time": "2022-05-04T06:20:09.086Z"
   },
   {
    "duration": 25,
    "start_time": "2022-05-04T06:23:19.453Z"
   },
   {
    "duration": 30,
    "start_time": "2022-05-04T06:23:46.077Z"
   },
   {
    "duration": 8,
    "start_time": "2022-05-04T06:24:01.131Z"
   },
   {
    "duration": 33,
    "start_time": "2022-05-04T06:24:06.476Z"
   },
   {
    "duration": 1006,
    "start_time": "2022-05-04T06:28:04.963Z"
   },
   {
    "duration": 491,
    "start_time": "2022-05-04T06:28:13.278Z"
   },
   {
    "duration": 154,
    "start_time": "2022-05-04T06:33:24.286Z"
   },
   {
    "duration": 190,
    "start_time": "2022-05-04T06:36:20.871Z"
   },
   {
    "duration": 7,
    "start_time": "2022-05-04T06:37:12.251Z"
   },
   {
    "duration": 15,
    "start_time": "2022-05-04T06:37:15.930Z"
   },
   {
    "duration": 145,
    "start_time": "2022-05-04T06:37:28.952Z"
   },
   {
    "duration": 19,
    "start_time": "2022-05-04T06:38:29.584Z"
   },
   {
    "duration": 21,
    "start_time": "2022-05-04T06:38:37.640Z"
   },
   {
    "duration": 139,
    "start_time": "2022-05-04T06:38:57.522Z"
   },
   {
    "duration": 2140,
    "start_time": "2022-05-04T17:47:48.103Z"
   },
   {
    "duration": 681,
    "start_time": "2022-05-04T17:47:50.246Z"
   },
   {
    "duration": 19,
    "start_time": "2022-05-04T17:47:50.929Z"
   },
   {
    "duration": 28,
    "start_time": "2022-05-04T17:47:50.951Z"
   },
   {
    "duration": 8,
    "start_time": "2022-05-04T17:47:50.981Z"
   },
   {
    "duration": 32,
    "start_time": "2022-05-04T17:47:50.992Z"
   },
   {
    "duration": 13,
    "start_time": "2022-05-04T17:47:51.027Z"
   },
   {
    "duration": 24,
    "start_time": "2022-05-04T17:47:51.042Z"
   },
   {
    "duration": 35,
    "start_time": "2022-05-04T17:47:51.068Z"
   },
   {
    "duration": 28,
    "start_time": "2022-05-04T17:47:51.107Z"
   },
   {
    "duration": 25,
    "start_time": "2022-05-04T17:47:51.137Z"
   },
   {
    "duration": 24,
    "start_time": "2022-05-04T17:47:51.165Z"
   },
   {
    "duration": 83,
    "start_time": "2022-05-04T17:47:51.191Z"
   },
   {
    "duration": 12,
    "start_time": "2022-05-04T17:47:51.276Z"
   },
   {
    "duration": 56,
    "start_time": "2022-05-04T17:47:51.290Z"
   },
   {
    "duration": 5,
    "start_time": "2022-05-04T17:47:51.348Z"
   },
   {
    "duration": 59,
    "start_time": "2022-05-04T17:47:51.355Z"
   },
   {
    "duration": 13,
    "start_time": "2022-05-04T17:47:51.417Z"
   },
   {
    "duration": 28,
    "start_time": "2022-05-04T17:47:51.432Z"
   },
   {
    "duration": 13,
    "start_time": "2022-05-04T17:47:51.462Z"
   },
   {
    "duration": 44,
    "start_time": "2022-05-04T17:47:51.477Z"
   },
   {
    "duration": 19,
    "start_time": "2022-05-04T17:47:51.523Z"
   },
   {
    "duration": 34,
    "start_time": "2022-05-04T17:47:51.544Z"
   },
   {
    "duration": 13,
    "start_time": "2022-05-04T17:47:51.580Z"
   },
   {
    "duration": 56,
    "start_time": "2022-05-04T17:47:51.595Z"
   },
   {
    "duration": 11,
    "start_time": "2022-05-04T17:47:51.654Z"
   },
   {
    "duration": 24,
    "start_time": "2022-05-04T17:47:51.667Z"
   },
   {
    "duration": 35,
    "start_time": "2022-05-04T17:47:51.696Z"
   },
   {
    "duration": 17,
    "start_time": "2022-05-04T17:47:51.733Z"
   },
   {
    "duration": 78,
    "start_time": "2022-05-04T17:47:51.752Z"
   },
   {
    "duration": 44,
    "start_time": "2022-05-04T17:47:51.833Z"
   },
   {
    "duration": 12,
    "start_time": "2022-05-04T17:47:51.880Z"
   },
   {
    "duration": 40,
    "start_time": "2022-05-04T17:47:51.924Z"
   },
   {
    "duration": 13,
    "start_time": "2022-05-04T17:47:51.967Z"
   },
   {
    "duration": 67,
    "start_time": "2022-05-04T17:47:51.982Z"
   },
   {
    "duration": 12,
    "start_time": "2022-05-04T17:47:52.052Z"
   },
   {
    "duration": 82,
    "start_time": "2022-05-04T17:47:52.067Z"
   },
   {
    "duration": 5,
    "start_time": "2022-05-04T17:47:52.151Z"
   },
   {
    "duration": 33,
    "start_time": "2022-05-04T17:47:52.157Z"
   },
   {
    "duration": 9,
    "start_time": "2022-05-04T17:47:52.192Z"
   },
   {
    "duration": 18,
    "start_time": "2022-05-04T17:47:52.225Z"
   },
   {
    "duration": 22,
    "start_time": "2022-05-04T17:47:52.245Z"
   },
   {
    "duration": 744,
    "start_time": "2022-05-04T17:47:52.270Z"
   },
   {
    "duration": 165,
    "start_time": "2022-05-04T17:47:53.016Z"
   },
   {
    "duration": 0,
    "start_time": "2022-05-04T17:47:53.183Z"
   },
   {
    "duration": 0,
    "start_time": "2022-05-04T17:47:53.185Z"
   },
   {
    "duration": 0,
    "start_time": "2022-05-04T17:47:53.187Z"
   },
   {
    "duration": 0,
    "start_time": "2022-05-04T17:47:53.189Z"
   },
   {
    "duration": 0,
    "start_time": "2022-05-04T17:47:53.191Z"
   },
   {
    "duration": 0,
    "start_time": "2022-05-04T17:47:53.193Z"
   },
   {
    "duration": 150,
    "start_time": "2022-05-04T17:49:51.102Z"
   },
   {
    "duration": 208,
    "start_time": "2022-05-04T17:50:00.077Z"
   },
   {
    "duration": 243,
    "start_time": "2022-05-04T17:50:17.225Z"
   },
   {
    "duration": 250,
    "start_time": "2022-05-04T17:50:52.826Z"
   },
   {
    "duration": 502,
    "start_time": "2022-05-04T17:51:32.574Z"
   },
   {
    "duration": 383,
    "start_time": "2022-05-04T17:56:44.102Z"
   },
   {
    "duration": 42,
    "start_time": "2022-05-04T17:58:01.867Z"
   },
   {
    "duration": 473,
    "start_time": "2022-05-04T17:58:16.716Z"
   },
   {
    "duration": 13,
    "start_time": "2022-05-04T17:59:22.668Z"
   },
   {
    "duration": 36,
    "start_time": "2022-05-04T17:59:26.588Z"
   },
   {
    "duration": 1327,
    "start_time": "2022-05-04T17:59:45.331Z"
   },
   {
    "duration": 375,
    "start_time": "2022-05-04T18:00:04.792Z"
   },
   {
    "duration": 28,
    "start_time": "2022-05-04T18:01:16.764Z"
   },
   {
    "duration": 29,
    "start_time": "2022-05-04T18:01:37.092Z"
   },
   {
    "duration": 408,
    "start_time": "2022-05-04T18:01:46.531Z"
   },
   {
    "duration": 460,
    "start_time": "2022-05-04T18:01:56.534Z"
   },
   {
    "duration": 23,
    "start_time": "2022-05-04T18:04:06.091Z"
   },
   {
    "duration": 19,
    "start_time": "2022-05-04T18:04:38.240Z"
   },
   {
    "duration": 12,
    "start_time": "2022-05-04T18:04:45.467Z"
   },
   {
    "duration": 14,
    "start_time": "2022-05-04T18:04:52.237Z"
   },
   {
    "duration": 27,
    "start_time": "2022-05-04T18:05:51.912Z"
   },
   {
    "duration": 13,
    "start_time": "2022-05-04T18:06:02.924Z"
   },
   {
    "duration": 12,
    "start_time": "2022-05-04T18:06:16.543Z"
   },
   {
    "duration": 41,
    "start_time": "2022-05-04T18:06:24.848Z"
   },
   {
    "duration": 20,
    "start_time": "2022-05-04T18:06:35.810Z"
   },
   {
    "duration": 7,
    "start_time": "2022-05-04T18:07:02.139Z"
   },
   {
    "duration": 6,
    "start_time": "2022-05-04T18:07:14.242Z"
   },
   {
    "duration": 8,
    "start_time": "2022-05-04T18:09:10.928Z"
   },
   {
    "duration": 7,
    "start_time": "2022-05-04T18:09:44.560Z"
   },
   {
    "duration": 10,
    "start_time": "2022-05-04T18:10:44.184Z"
   },
   {
    "duration": 11,
    "start_time": "2022-05-04T18:11:41.546Z"
   },
   {
    "duration": 12,
    "start_time": "2022-05-04T18:12:27.869Z"
   },
   {
    "duration": 13,
    "start_time": "2022-05-04T18:12:42.915Z"
   },
   {
    "duration": 161,
    "start_time": "2022-05-04T18:12:56.397Z"
   },
   {
    "duration": 20,
    "start_time": "2022-05-04T18:25:07.745Z"
   },
   {
    "duration": 24,
    "start_time": "2022-05-04T18:25:14.273Z"
   },
   {
    "duration": 24,
    "start_time": "2022-05-04T18:25:47.111Z"
   },
   {
    "duration": 19,
    "start_time": "2022-05-04T18:26:19.909Z"
   },
   {
    "duration": 129,
    "start_time": "2022-05-04T18:28:42.712Z"
   },
   {
    "duration": 102,
    "start_time": "2022-05-04T18:28:50.167Z"
   },
   {
    "duration": 23,
    "start_time": "2022-05-04T18:28:59.986Z"
   },
   {
    "duration": 20,
    "start_time": "2022-05-04T18:29:17.249Z"
   },
   {
    "duration": 36,
    "start_time": "2022-05-04T18:41:49.738Z"
   },
   {
    "duration": 7,
    "start_time": "2022-05-04T18:42:02.907Z"
   },
   {
    "duration": 21,
    "start_time": "2022-05-04T18:42:08.501Z"
   },
   {
    "duration": 1629,
    "start_time": "2022-05-04T18:42:44.650Z"
   },
   {
    "duration": 362,
    "start_time": "2022-05-04T18:42:46.282Z"
   },
   {
    "duration": 18,
    "start_time": "2022-05-04T18:42:46.646Z"
   },
   {
    "duration": 22,
    "start_time": "2022-05-04T18:42:46.667Z"
   },
   {
    "duration": 5,
    "start_time": "2022-05-04T18:42:46.691Z"
   },
   {
    "duration": 26,
    "start_time": "2022-05-04T18:42:46.698Z"
   },
   {
    "duration": 14,
    "start_time": "2022-05-04T18:42:46.727Z"
   },
   {
    "duration": 19,
    "start_time": "2022-05-04T18:42:46.743Z"
   },
   {
    "duration": 15,
    "start_time": "2022-05-04T18:42:46.764Z"
   },
   {
    "duration": 41,
    "start_time": "2022-05-04T18:42:46.783Z"
   },
   {
    "duration": 19,
    "start_time": "2022-05-04T18:42:46.827Z"
   },
   {
    "duration": 8,
    "start_time": "2022-05-04T18:42:46.849Z"
   },
   {
    "duration": 78,
    "start_time": "2022-05-04T18:42:46.859Z"
   },
   {
    "duration": 12,
    "start_time": "2022-05-04T18:42:46.939Z"
   },
   {
    "duration": 45,
    "start_time": "2022-05-04T18:42:46.953Z"
   },
   {
    "duration": 5,
    "start_time": "2022-05-04T18:42:47.000Z"
   },
   {
    "duration": 42,
    "start_time": "2022-05-04T18:42:47.008Z"
   },
   {
    "duration": 13,
    "start_time": "2022-05-04T18:42:47.052Z"
   },
   {
    "duration": 24,
    "start_time": "2022-05-04T18:42:47.067Z"
   },
   {
    "duration": 40,
    "start_time": "2022-05-04T18:42:47.093Z"
   },
   {
    "duration": 24,
    "start_time": "2022-05-04T18:42:47.136Z"
   },
   {
    "duration": 18,
    "start_time": "2022-05-04T18:42:47.163Z"
   },
   {
    "duration": 52,
    "start_time": "2022-05-04T18:42:47.184Z"
   },
   {
    "duration": 11,
    "start_time": "2022-05-04T18:42:47.238Z"
   },
   {
    "duration": 34,
    "start_time": "2022-05-04T18:42:47.251Z"
   },
   {
    "duration": 41,
    "start_time": "2022-05-04T18:42:47.288Z"
   },
   {
    "duration": 25,
    "start_time": "2022-05-04T18:42:47.331Z"
   },
   {
    "duration": 13,
    "start_time": "2022-05-04T18:42:47.362Z"
   },
   {
    "duration": 14,
    "start_time": "2022-05-04T18:42:47.377Z"
   },
   {
    "duration": 58,
    "start_time": "2022-05-04T18:42:47.425Z"
   },
   {
    "duration": 66,
    "start_time": "2022-05-04T18:42:47.485Z"
   },
   {
    "duration": 12,
    "start_time": "2022-05-04T18:42:47.553Z"
   },
   {
    "duration": 62,
    "start_time": "2022-05-04T18:42:47.568Z"
   },
   {
    "duration": 14,
    "start_time": "2022-05-04T18:42:47.633Z"
   },
   {
    "duration": 40,
    "start_time": "2022-05-04T18:42:47.650Z"
   },
   {
    "duration": 13,
    "start_time": "2022-05-04T18:42:47.725Z"
   },
   {
    "duration": 50,
    "start_time": "2022-05-04T18:42:47.741Z"
   },
   {
    "duration": 34,
    "start_time": "2022-05-04T18:42:47.793Z"
   },
   {
    "duration": 30,
    "start_time": "2022-05-04T18:42:47.830Z"
   },
   {
    "duration": 10,
    "start_time": "2022-05-04T18:42:47.863Z"
   },
   {
    "duration": 56,
    "start_time": "2022-05-04T18:42:47.875Z"
   },
   {
    "duration": 23,
    "start_time": "2022-05-04T18:42:47.933Z"
   },
   {
    "duration": 671,
    "start_time": "2022-05-04T18:42:47.958Z"
   },
   {
    "duration": 395,
    "start_time": "2022-05-04T18:42:48.631Z"
   },
   {
    "duration": 9,
    "start_time": "2022-05-04T18:42:49.028Z"
   },
   {
    "duration": 188,
    "start_time": "2022-05-04T18:42:49.039Z"
   },
   {
    "duration": 24,
    "start_time": "2022-05-04T18:42:49.229Z"
   },
   {
    "duration": 3,
    "start_time": "2022-05-04T18:42:49.255Z"
   },
   {
    "duration": 5,
    "start_time": "2022-05-04T18:42:49.261Z"
   },
   {
    "duration": 6,
    "start_time": "2022-05-04T18:42:49.269Z"
   },
   {
    "duration": 19,
    "start_time": "2022-05-04T18:43:02.960Z"
   },
   {
    "duration": 59,
    "start_time": "2022-05-04T18:44:51.872Z"
   },
   {
    "duration": 52,
    "start_time": "2022-05-04T18:45:00.654Z"
   },
   {
    "duration": 40,
    "start_time": "2022-05-04T18:45:21.697Z"
   },
   {
    "duration": 38,
    "start_time": "2022-05-04T18:46:08.293Z"
   },
   {
    "duration": 1501,
    "start_time": "2022-05-04T18:47:35.560Z"
   },
   {
    "duration": 368,
    "start_time": "2022-05-04T18:47:37.064Z"
   },
   {
    "duration": 17,
    "start_time": "2022-05-04T18:47:37.434Z"
   },
   {
    "duration": 24,
    "start_time": "2022-05-04T18:47:37.454Z"
   },
   {
    "duration": 6,
    "start_time": "2022-05-04T18:47:37.480Z"
   },
   {
    "duration": 9,
    "start_time": "2022-05-04T18:47:37.488Z"
   },
   {
    "duration": 47,
    "start_time": "2022-05-04T18:47:37.499Z"
   },
   {
    "duration": 113,
    "start_time": "2022-05-04T18:47:37.549Z"
   },
   {
    "duration": 21,
    "start_time": "2022-05-04T18:47:37.665Z"
   },
   {
    "duration": 10,
    "start_time": "2022-05-04T18:47:37.690Z"
   },
   {
    "duration": 16,
    "start_time": "2022-05-04T18:47:37.702Z"
   },
   {
    "duration": 9,
    "start_time": "2022-05-04T18:47:37.720Z"
   },
   {
    "duration": 57,
    "start_time": "2022-05-04T18:47:37.732Z"
   },
   {
    "duration": 12,
    "start_time": "2022-05-04T18:47:37.791Z"
   },
   {
    "duration": 38,
    "start_time": "2022-05-04T18:47:37.825Z"
   },
   {
    "duration": 5,
    "start_time": "2022-05-04T18:47:37.865Z"
   },
   {
    "duration": 30,
    "start_time": "2022-05-04T18:47:37.872Z"
   },
   {
    "duration": 17,
    "start_time": "2022-05-04T18:47:37.924Z"
   },
   {
    "duration": 27,
    "start_time": "2022-05-04T18:47:37.943Z"
   },
   {
    "duration": 10,
    "start_time": "2022-05-04T18:47:37.972Z"
   },
   {
    "duration": 47,
    "start_time": "2022-05-04T18:47:37.984Z"
   },
   {
    "duration": 18,
    "start_time": "2022-05-04T18:47:38.034Z"
   },
   {
    "duration": 24,
    "start_time": "2022-05-04T18:47:38.054Z"
   },
   {
    "duration": 11,
    "start_time": "2022-05-04T18:47:38.080Z"
   },
   {
    "duration": 32,
    "start_time": "2022-05-04T18:47:38.125Z"
   },
   {
    "duration": 11,
    "start_time": "2022-05-04T18:47:38.159Z"
   },
   {
    "duration": 25,
    "start_time": "2022-05-04T18:47:38.173Z"
   },
   {
    "duration": 14,
    "start_time": "2022-05-04T18:47:38.227Z"
   },
   {
    "duration": 17,
    "start_time": "2022-05-04T18:47:38.242Z"
   },
   {
    "duration": 84,
    "start_time": "2022-05-04T18:47:38.261Z"
   },
   {
    "duration": 32,
    "start_time": "2022-05-04T18:47:38.347Z"
   },
   {
    "duration": 11,
    "start_time": "2022-05-04T18:47:38.381Z"
   },
   {
    "duration": 63,
    "start_time": "2022-05-04T18:47:38.394Z"
   },
   {
    "duration": 12,
    "start_time": "2022-05-04T18:47:38.460Z"
   },
   {
    "duration": 63,
    "start_time": "2022-05-04T18:47:38.475Z"
   },
   {
    "duration": 12,
    "start_time": "2022-05-04T18:47:38.540Z"
   },
   {
    "duration": 44,
    "start_time": "2022-05-04T18:47:38.554Z"
   },
   {
    "duration": 4,
    "start_time": "2022-05-04T18:47:38.600Z"
   },
   {
    "duration": 48,
    "start_time": "2022-05-04T18:47:38.606Z"
   },
   {
    "duration": 8,
    "start_time": "2022-05-04T18:47:38.656Z"
   },
   {
    "duration": 23,
    "start_time": "2022-05-04T18:47:38.667Z"
   },
   {
    "duration": 49,
    "start_time": "2022-05-04T18:47:38.692Z"
   },
   {
    "duration": 705,
    "start_time": "2022-05-04T18:47:38.743Z"
   },
   {
    "duration": 589,
    "start_time": "2022-05-04T18:47:39.451Z"
   },
   {
    "duration": 9,
    "start_time": "2022-05-04T18:47:40.042Z"
   },
   {
    "duration": 382,
    "start_time": "2022-05-04T18:47:40.053Z"
   },
   {
    "duration": 15,
    "start_time": "2022-05-04T18:47:40.437Z"
   },
   {
    "duration": 73,
    "start_time": "2022-05-04T18:47:40.454Z"
   },
   {
    "duration": 5,
    "start_time": "2022-05-04T18:47:40.530Z"
   },
   {
    "duration": 6,
    "start_time": "2022-05-04T18:47:40.538Z"
   },
   {
    "duration": 6,
    "start_time": "2022-05-04T18:47:40.547Z"
   },
   {
    "duration": 51,
    "start_time": "2022-05-04T22:19:09.558Z"
   },
   {
    "duration": 1477,
    "start_time": "2022-05-04T22:19:18.093Z"
   },
   {
    "duration": 2034,
    "start_time": "2022-05-04T22:19:19.572Z"
   },
   {
    "duration": 13,
    "start_time": "2022-05-04T22:19:21.608Z"
   },
   {
    "duration": 17,
    "start_time": "2022-05-04T22:19:21.623Z"
   },
   {
    "duration": 5,
    "start_time": "2022-05-04T22:19:21.642Z"
   },
   {
    "duration": 8,
    "start_time": "2022-05-04T22:19:21.648Z"
   },
   {
    "duration": 10,
    "start_time": "2022-05-04T22:19:21.658Z"
   },
   {
    "duration": 13,
    "start_time": "2022-05-04T22:19:21.670Z"
   },
   {
    "duration": 13,
    "start_time": "2022-05-04T22:19:21.685Z"
   },
   {
    "duration": 36,
    "start_time": "2022-05-04T22:19:21.702Z"
   },
   {
    "duration": 12,
    "start_time": "2022-05-04T22:19:21.740Z"
   },
   {
    "duration": 6,
    "start_time": "2022-05-04T22:19:21.754Z"
   },
   {
    "duration": 48,
    "start_time": "2022-05-04T22:19:21.762Z"
   },
   {
    "duration": 27,
    "start_time": "2022-05-04T22:19:21.812Z"
   },
   {
    "duration": 30,
    "start_time": "2022-05-04T22:19:21.842Z"
   },
   {
    "duration": 4,
    "start_time": "2022-05-04T22:19:21.874Z"
   },
   {
    "duration": 24,
    "start_time": "2022-05-04T22:19:21.880Z"
   },
   {
    "duration": 35,
    "start_time": "2022-05-04T22:19:21.906Z"
   },
   {
    "duration": 19,
    "start_time": "2022-05-04T22:19:21.943Z"
   },
   {
    "duration": 7,
    "start_time": "2022-05-04T22:19:21.964Z"
   },
   {
    "duration": 18,
    "start_time": "2022-05-04T22:19:21.972Z"
   },
   {
    "duration": 13,
    "start_time": "2022-05-04T22:19:21.992Z"
   },
   {
    "duration": 45,
    "start_time": "2022-05-04T22:19:22.007Z"
   },
   {
    "duration": 9,
    "start_time": "2022-05-04T22:19:22.054Z"
   },
   {
    "duration": 33,
    "start_time": "2022-05-04T22:19:22.065Z"
   },
   {
    "duration": 9,
    "start_time": "2022-05-04T22:19:22.100Z"
   },
   {
    "duration": 17,
    "start_time": "2022-05-04T22:19:22.134Z"
   },
   {
    "duration": 9,
    "start_time": "2022-05-04T22:19:22.154Z"
   },
   {
    "duration": 11,
    "start_time": "2022-05-04T22:19:22.165Z"
   },
   {
    "duration": 74,
    "start_time": "2022-05-04T22:19:22.178Z"
   },
   {
    "duration": 26,
    "start_time": "2022-05-04T22:19:22.254Z"
   },
   {
    "duration": 7,
    "start_time": "2022-05-04T22:19:22.282Z"
   },
   {
    "duration": 50,
    "start_time": "2022-05-04T22:19:22.291Z"
   },
   {
    "duration": 8,
    "start_time": "2022-05-04T22:19:22.343Z"
   },
   {
    "duration": 32,
    "start_time": "2022-05-04T22:19:22.353Z"
   },
   {
    "duration": 8,
    "start_time": "2022-05-04T22:19:22.386Z"
   },
   {
    "duration": 52,
    "start_time": "2022-05-04T22:19:22.396Z"
   },
   {
    "duration": 3,
    "start_time": "2022-05-04T22:19:22.450Z"
   },
   {
    "duration": 23,
    "start_time": "2022-05-04T22:19:22.455Z"
   },
   {
    "duration": 6,
    "start_time": "2022-05-04T22:19:22.480Z"
   },
   {
    "duration": 13,
    "start_time": "2022-05-04T22:19:22.488Z"
   },
   {
    "duration": 32,
    "start_time": "2022-05-04T22:19:22.503Z"
   },
   {
    "duration": 574,
    "start_time": "2022-05-04T22:19:22.537Z"
   },
   {
    "duration": 262,
    "start_time": "2022-05-04T22:19:23.113Z"
   },
   {
    "duration": 7,
    "start_time": "2022-05-04T22:19:23.377Z"
   },
   {
    "duration": 127,
    "start_time": "2022-05-04T22:19:23.385Z"
   },
   {
    "duration": 21,
    "start_time": "2022-05-04T22:19:23.514Z"
   },
   {
    "duration": 17,
    "start_time": "2022-05-04T22:19:23.537Z"
   },
   {
    "duration": 3,
    "start_time": "2022-05-04T22:19:23.555Z"
   },
   {
    "duration": 7,
    "start_time": "2022-05-04T22:19:23.559Z"
   },
   {
    "duration": 5,
    "start_time": "2022-05-04T22:19:23.568Z"
   },
   {
    "duration": 45,
    "start_time": "2022-05-04T22:19:38.066Z"
   },
   {
    "duration": 47,
    "start_time": "2022-05-04T22:19:54.477Z"
   },
   {
    "duration": 44,
    "start_time": "2022-05-04T22:20:04.573Z"
   },
   {
    "duration": 17,
    "start_time": "2022-05-04T22:20:28.596Z"
   },
   {
    "duration": 18,
    "start_time": "2022-05-04T22:20:47.224Z"
   },
   {
    "duration": 5,
    "start_time": "2022-05-04T22:21:24.471Z"
   },
   {
    "duration": 1259,
    "start_time": "2022-05-04T22:23:15.898Z"
   },
   {
    "duration": 306,
    "start_time": "2022-05-04T22:23:17.159Z"
   },
   {
    "duration": 12,
    "start_time": "2022-05-04T22:23:17.467Z"
   },
   {
    "duration": 16,
    "start_time": "2022-05-04T22:23:17.481Z"
   },
   {
    "duration": 5,
    "start_time": "2022-05-04T22:23:17.498Z"
   },
   {
    "duration": 8,
    "start_time": "2022-05-04T22:23:17.504Z"
   },
   {
    "duration": 20,
    "start_time": "2022-05-04T22:23:17.514Z"
   },
   {
    "duration": 14,
    "start_time": "2022-05-04T22:23:17.535Z"
   },
   {
    "duration": 15,
    "start_time": "2022-05-04T22:23:17.551Z"
   },
   {
    "duration": 7,
    "start_time": "2022-05-04T22:23:17.570Z"
   },
   {
    "duration": 13,
    "start_time": "2022-05-04T22:23:17.578Z"
   },
   {
    "duration": 7,
    "start_time": "2022-05-04T22:23:17.593Z"
   },
   {
    "duration": 82,
    "start_time": "2022-05-04T22:23:17.602Z"
   },
   {
    "duration": 9,
    "start_time": "2022-05-04T22:23:17.687Z"
   },
   {
    "duration": 44,
    "start_time": "2022-05-04T22:23:17.698Z"
   },
   {
    "duration": 5,
    "start_time": "2022-05-04T22:23:17.743Z"
   },
   {
    "duration": 19,
    "start_time": "2022-05-04T22:23:17.750Z"
   },
   {
    "duration": 9,
    "start_time": "2022-05-04T22:23:17.771Z"
   },
   {
    "duration": 21,
    "start_time": "2022-05-04T22:23:17.782Z"
   },
   {
    "duration": 32,
    "start_time": "2022-05-04T22:23:17.805Z"
   },
   {
    "duration": 17,
    "start_time": "2022-05-04T22:23:17.839Z"
   },
   {
    "duration": 13,
    "start_time": "2022-05-04T22:23:17.858Z"
   },
   {
    "duration": 21,
    "start_time": "2022-05-04T22:23:17.873Z"
   },
   {
    "duration": 8,
    "start_time": "2022-05-04T22:23:17.896Z"
   },
   {
    "duration": 25,
    "start_time": "2022-05-04T22:23:17.934Z"
   },
   {
    "duration": 9,
    "start_time": "2022-05-04T22:23:17.961Z"
   },
   {
    "duration": 18,
    "start_time": "2022-05-04T22:23:17.972Z"
   },
   {
    "duration": 9,
    "start_time": "2022-05-04T22:23:17.994Z"
   },
   {
    "duration": 37,
    "start_time": "2022-05-04T22:23:18.004Z"
   },
   {
    "duration": 47,
    "start_time": "2022-05-04T22:23:18.043Z"
   },
   {
    "duration": 47,
    "start_time": "2022-05-04T22:23:18.092Z"
   },
   {
    "duration": 7,
    "start_time": "2022-05-04T22:23:18.141Z"
   },
   {
    "duration": 35,
    "start_time": "2022-05-04T22:23:18.150Z"
   },
   {
    "duration": 9,
    "start_time": "2022-05-04T22:23:18.187Z"
   },
   {
    "duration": 57,
    "start_time": "2022-05-04T22:23:18.197Z"
   },
   {
    "duration": 8,
    "start_time": "2022-05-04T22:23:18.256Z"
   },
   {
    "duration": 22,
    "start_time": "2022-05-04T22:23:18.266Z"
   },
   {
    "duration": 3,
    "start_time": "2022-05-04T22:23:18.290Z"
   },
   {
    "duration": 13,
    "start_time": "2022-05-04T22:23:18.294Z"
   },
   {
    "duration": 28,
    "start_time": "2022-05-04T22:23:18.309Z"
   },
   {
    "duration": 6,
    "start_time": "2022-05-04T22:23:18.338Z"
   },
   {
    "duration": 40,
    "start_time": "2022-05-04T22:23:18.345Z"
   },
   {
    "duration": 15,
    "start_time": "2022-05-04T22:23:18.387Z"
   },
   {
    "duration": 522,
    "start_time": "2022-05-04T22:23:18.403Z"
   },
   {
    "duration": 262,
    "start_time": "2022-05-04T22:23:18.927Z"
   },
   {
    "duration": 7,
    "start_time": "2022-05-04T22:23:19.191Z"
   },
   {
    "duration": 129,
    "start_time": "2022-05-04T22:23:19.200Z"
   },
   {
    "duration": 12,
    "start_time": "2022-05-04T22:23:19.334Z"
   },
   {
    "duration": 25,
    "start_time": "2022-05-04T22:23:19.348Z"
   },
   {
    "duration": 3,
    "start_time": "2022-05-04T22:23:19.375Z"
   },
   {
    "duration": 10,
    "start_time": "2022-05-04T22:23:19.380Z"
   },
   {
    "duration": 14,
    "start_time": "2022-05-04T22:23:19.392Z"
   },
   {
    "duration": 12,
    "start_time": "2022-05-04T22:23:43.042Z"
   },
   {
    "duration": 16,
    "start_time": "2022-05-04T22:24:01.612Z"
   },
   {
    "duration": 24,
    "start_time": "2022-05-04T22:24:15.808Z"
   },
   {
    "duration": 1315,
    "start_time": "2022-05-04T22:27:25.093Z"
   },
   {
    "duration": 329,
    "start_time": "2022-05-04T22:27:26.410Z"
   },
   {
    "duration": 13,
    "start_time": "2022-05-04T22:27:26.741Z"
   },
   {
    "duration": 24,
    "start_time": "2022-05-04T22:27:26.757Z"
   },
   {
    "duration": 5,
    "start_time": "2022-05-04T22:27:26.783Z"
   },
   {
    "duration": 10,
    "start_time": "2022-05-04T22:27:26.790Z"
   },
   {
    "duration": 21,
    "start_time": "2022-05-04T22:27:26.802Z"
   },
   {
    "duration": 20,
    "start_time": "2022-05-04T22:27:26.824Z"
   },
   {
    "duration": 14,
    "start_time": "2022-05-04T22:27:26.846Z"
   },
   {
    "duration": 16,
    "start_time": "2022-05-04T22:27:26.864Z"
   },
   {
    "duration": 13,
    "start_time": "2022-05-04T22:27:26.882Z"
   },
   {
    "duration": 7,
    "start_time": "2022-05-04T22:27:26.897Z"
   },
   {
    "duration": 68,
    "start_time": "2022-05-04T22:27:26.905Z"
   },
   {
    "duration": 10,
    "start_time": "2022-05-04T22:27:26.975Z"
   },
   {
    "duration": 48,
    "start_time": "2022-05-04T22:27:26.987Z"
   },
   {
    "duration": 6,
    "start_time": "2022-05-04T22:27:27.037Z"
   },
   {
    "duration": 20,
    "start_time": "2022-05-04T22:27:27.044Z"
   },
   {
    "duration": 11,
    "start_time": "2022-05-04T22:27:27.066Z"
   },
   {
    "duration": 22,
    "start_time": "2022-05-04T22:27:27.079Z"
   },
   {
    "duration": 8,
    "start_time": "2022-05-04T22:27:27.133Z"
   },
   {
    "duration": 16,
    "start_time": "2022-05-04T22:27:27.144Z"
   },
   {
    "duration": 15,
    "start_time": "2022-05-04T22:27:27.162Z"
   },
   {
    "duration": 57,
    "start_time": "2022-05-04T22:27:27.179Z"
   },
   {
    "duration": 9,
    "start_time": "2022-05-04T22:27:27.239Z"
   },
   {
    "duration": 27,
    "start_time": "2022-05-04T22:27:27.250Z"
   },
   {
    "duration": 10,
    "start_time": "2022-05-04T22:27:27.279Z"
   },
   {
    "duration": 48,
    "start_time": "2022-05-04T22:27:27.291Z"
   },
   {
    "duration": 10,
    "start_time": "2022-05-04T22:27:27.344Z"
   },
   {
    "duration": 12,
    "start_time": "2022-05-04T22:27:27.356Z"
   },
   {
    "duration": 75,
    "start_time": "2022-05-04T22:27:27.370Z"
   },
   {
    "duration": 27,
    "start_time": "2022-05-04T22:27:27.446Z"
   },
   {
    "duration": 8,
    "start_time": "2022-05-04T22:27:27.475Z"
   },
   {
    "duration": 56,
    "start_time": "2022-05-04T22:27:27.484Z"
   },
   {
    "duration": 9,
    "start_time": "2022-05-04T22:27:27.542Z"
   },
   {
    "duration": 33,
    "start_time": "2022-05-04T22:27:27.553Z"
   },
   {
    "duration": 8,
    "start_time": "2022-05-04T22:27:27.588Z"
   },
   {
    "duration": 49,
    "start_time": "2022-05-04T22:27:27.598Z"
   },
   {
    "duration": 4,
    "start_time": "2022-05-04T22:27:27.648Z"
   },
   {
    "duration": 14,
    "start_time": "2022-05-04T22:27:27.654Z"
   },
   {
    "duration": 25,
    "start_time": "2022-05-04T22:27:27.670Z"
   },
   {
    "duration": 7,
    "start_time": "2022-05-04T22:27:27.696Z"
   },
   {
    "duration": 63,
    "start_time": "2022-05-04T22:27:27.704Z"
   },
   {
    "duration": 19,
    "start_time": "2022-05-04T22:27:27.768Z"
   },
   {
    "duration": 521,
    "start_time": "2022-05-04T22:27:27.789Z"
   },
   {
    "duration": 274,
    "start_time": "2022-05-04T22:27:28.312Z"
   },
   {
    "duration": 7,
    "start_time": "2022-05-04T22:27:28.588Z"
   },
   {
    "duration": 124,
    "start_time": "2022-05-04T22:27:28.597Z"
   },
   {
    "duration": 23,
    "start_time": "2022-05-04T22:27:28.722Z"
   },
   {
    "duration": 15,
    "start_time": "2022-05-04T22:27:28.746Z"
   },
   {
    "duration": 2,
    "start_time": "2022-05-04T22:27:28.763Z"
   },
   {
    "duration": 5,
    "start_time": "2022-05-04T22:27:28.767Z"
   },
   {
    "duration": 4,
    "start_time": "2022-05-04T22:27:28.774Z"
   },
   {
    "duration": 1218,
    "start_time": "2022-05-04T22:27:47.584Z"
   },
   {
    "duration": 318,
    "start_time": "2022-05-04T22:27:48.804Z"
   },
   {
    "duration": 14,
    "start_time": "2022-05-04T22:27:49.124Z"
   },
   {
    "duration": 17,
    "start_time": "2022-05-04T22:27:49.140Z"
   },
   {
    "duration": 4,
    "start_time": "2022-05-04T22:27:49.159Z"
   },
   {
    "duration": 9,
    "start_time": "2022-05-04T22:27:49.165Z"
   },
   {
    "duration": 14,
    "start_time": "2022-05-04T22:27:49.176Z"
   },
   {
    "duration": 15,
    "start_time": "2022-05-04T22:27:49.192Z"
   },
   {
    "duration": 31,
    "start_time": "2022-05-04T22:27:49.209Z"
   },
   {
    "duration": 8,
    "start_time": "2022-05-04T22:27:49.243Z"
   },
   {
    "duration": 11,
    "start_time": "2022-05-04T22:27:49.253Z"
   },
   {
    "duration": 6,
    "start_time": "2022-05-04T22:27:49.266Z"
   },
   {
    "duration": 70,
    "start_time": "2022-05-04T22:27:49.274Z"
   },
   {
    "duration": 10,
    "start_time": "2022-05-04T22:27:49.345Z"
   },
   {
    "duration": 29,
    "start_time": "2022-05-04T22:27:49.356Z"
   },
   {
    "duration": 5,
    "start_time": "2022-05-04T22:27:49.387Z"
   },
   {
    "duration": 46,
    "start_time": "2022-05-04T22:27:49.393Z"
   },
   {
    "duration": 9,
    "start_time": "2022-05-04T22:27:49.440Z"
   },
   {
    "duration": 22,
    "start_time": "2022-05-04T22:27:49.451Z"
   },
   {
    "duration": 9,
    "start_time": "2022-05-04T22:27:49.475Z"
   },
   {
    "duration": 53,
    "start_time": "2022-05-04T22:27:49.486Z"
   },
   {
    "duration": 17,
    "start_time": "2022-05-04T22:27:49.541Z"
   },
   {
    "duration": 25,
    "start_time": "2022-05-04T22:27:49.560Z"
   },
   {
    "duration": 9,
    "start_time": "2022-05-04T22:27:49.587Z"
   },
   {
    "duration": 53,
    "start_time": "2022-05-04T22:27:49.598Z"
   },
   {
    "duration": 10,
    "start_time": "2022-05-04T22:27:49.652Z"
   },
   {
    "duration": 22,
    "start_time": "2022-05-04T22:27:49.663Z"
   },
   {
    "duration": 10,
    "start_time": "2022-05-04T22:27:49.689Z"
   },
   {
    "duration": 37,
    "start_time": "2022-05-04T22:27:49.701Z"
   },
   {
    "duration": 51,
    "start_time": "2022-05-04T22:27:49.739Z"
   },
   {
    "duration": 26,
    "start_time": "2022-05-04T22:27:49.791Z"
   },
   {
    "duration": 8,
    "start_time": "2022-05-04T22:27:49.833Z"
   },
   {
    "duration": 34,
    "start_time": "2022-05-04T22:27:49.843Z"
   },
   {
    "duration": 9,
    "start_time": "2022-05-04T22:27:49.879Z"
   },
   {
    "duration": 55,
    "start_time": "2022-05-04T22:27:49.890Z"
   },
   {
    "duration": 8,
    "start_time": "2022-05-04T22:27:49.947Z"
   },
   {
    "duration": 27,
    "start_time": "2022-05-04T22:27:49.957Z"
   },
   {
    "duration": 4,
    "start_time": "2022-05-04T22:27:49.985Z"
   },
   {
    "duration": 15,
    "start_time": "2022-05-04T22:27:49.991Z"
   },
   {
    "duration": 46,
    "start_time": "2022-05-04T22:27:50.008Z"
   },
   {
    "duration": 7,
    "start_time": "2022-05-04T22:27:50.056Z"
   },
   {
    "duration": 19,
    "start_time": "2022-05-04T22:27:50.064Z"
   },
   {
    "duration": 20,
    "start_time": "2022-05-04T22:27:50.084Z"
   },
   {
    "duration": 521,
    "start_time": "2022-05-04T22:27:50.105Z"
   },
   {
    "duration": 261,
    "start_time": "2022-05-04T22:27:50.628Z"
   },
   {
    "duration": 6,
    "start_time": "2022-05-04T22:27:50.891Z"
   },
   {
    "duration": 119,
    "start_time": "2022-05-04T22:27:50.898Z"
   },
   {
    "duration": 23,
    "start_time": "2022-05-04T22:27:51.019Z"
   },
   {
    "duration": 17,
    "start_time": "2022-05-04T22:27:51.043Z"
   },
   {
    "duration": 3,
    "start_time": "2022-05-04T22:27:51.062Z"
   },
   {
    "duration": 5,
    "start_time": "2022-05-04T22:27:51.066Z"
   },
   {
    "duration": 6,
    "start_time": "2022-05-04T22:27:51.073Z"
   },
   {
    "duration": 1233,
    "start_time": "2022-05-04T22:29:49.251Z"
   },
   {
    "duration": 331,
    "start_time": "2022-05-04T22:29:50.487Z"
   },
   {
    "duration": 14,
    "start_time": "2022-05-04T22:29:50.820Z"
   },
   {
    "duration": 13,
    "start_time": "2022-05-04T22:29:50.836Z"
   },
   {
    "duration": 6,
    "start_time": "2022-05-04T22:29:50.851Z"
   },
   {
    "duration": 9,
    "start_time": "2022-05-04T22:29:50.858Z"
   },
   {
    "duration": 13,
    "start_time": "2022-05-04T22:29:50.869Z"
   },
   {
    "duration": 15,
    "start_time": "2022-05-04T22:29:50.884Z"
   },
   {
    "duration": 39,
    "start_time": "2022-05-04T22:29:50.901Z"
   },
   {
    "duration": 9,
    "start_time": "2022-05-04T22:29:50.944Z"
   },
   {
    "duration": 15,
    "start_time": "2022-05-04T22:29:50.954Z"
   },
   {
    "duration": 8,
    "start_time": "2022-05-04T22:29:50.971Z"
   },
   {
    "duration": 57,
    "start_time": "2022-05-04T22:29:50.980Z"
   },
   {
    "duration": 8,
    "start_time": "2022-05-04T22:29:51.039Z"
   },
   {
    "duration": 30,
    "start_time": "2022-05-04T22:29:51.049Z"
   },
   {
    "duration": 5,
    "start_time": "2022-05-04T22:29:51.081Z"
   },
   {
    "duration": 46,
    "start_time": "2022-05-04T22:29:51.087Z"
   },
   {
    "duration": 11,
    "start_time": "2022-05-04T22:29:51.135Z"
   },
   {
    "duration": 21,
    "start_time": "2022-05-04T22:29:51.148Z"
   },
   {
    "duration": 8,
    "start_time": "2022-05-04T22:29:51.172Z"
   },
   {
    "duration": 18,
    "start_time": "2022-05-04T22:29:51.182Z"
   },
   {
    "duration": 16,
    "start_time": "2022-05-04T22:29:51.234Z"
   },
   {
    "duration": 26,
    "start_time": "2022-05-04T22:29:51.252Z"
   },
   {
    "duration": 9,
    "start_time": "2022-05-04T22:29:51.280Z"
   },
   {
    "duration": 62,
    "start_time": "2022-05-04T22:29:51.291Z"
   },
   {
    "duration": 10,
    "start_time": "2022-05-04T22:29:51.354Z"
   },
   {
    "duration": 21,
    "start_time": "2022-05-04T22:29:51.366Z"
   },
   {
    "duration": 9,
    "start_time": "2022-05-04T22:29:51.393Z"
   },
   {
    "duration": 37,
    "start_time": "2022-05-04T22:29:51.405Z"
   },
   {
    "duration": 50,
    "start_time": "2022-05-04T22:29:51.444Z"
   },
   {
    "duration": 54,
    "start_time": "2022-05-04T22:29:51.496Z"
   },
   {
    "duration": 9,
    "start_time": "2022-05-04T22:29:51.552Z"
   },
   {
    "duration": 35,
    "start_time": "2022-05-04T22:29:51.563Z"
   },
   {
    "duration": 9,
    "start_time": "2022-05-04T22:29:51.600Z"
   },
   {
    "duration": 53,
    "start_time": "2022-05-04T22:29:51.612Z"
   },
   {
    "duration": 9,
    "start_time": "2022-05-04T22:29:51.667Z"
   },
   {
    "duration": 23,
    "start_time": "2022-05-04T22:29:51.678Z"
   },
   {
    "duration": 140,
    "start_time": "2022-05-04T22:29:51.703Z"
   },
   {
    "duration": 0,
    "start_time": "2022-05-04T22:29:51.845Z"
   },
   {
    "duration": 0,
    "start_time": "2022-05-04T22:29:51.846Z"
   },
   {
    "duration": 0,
    "start_time": "2022-05-04T22:29:51.848Z"
   },
   {
    "duration": 0,
    "start_time": "2022-05-04T22:29:51.849Z"
   },
   {
    "duration": 0,
    "start_time": "2022-05-04T22:29:51.851Z"
   },
   {
    "duration": 0,
    "start_time": "2022-05-04T22:29:51.852Z"
   },
   {
    "duration": 0,
    "start_time": "2022-05-04T22:29:51.854Z"
   },
   {
    "duration": 0,
    "start_time": "2022-05-04T22:29:51.855Z"
   },
   {
    "duration": 0,
    "start_time": "2022-05-04T22:29:51.856Z"
   },
   {
    "duration": 0,
    "start_time": "2022-05-04T22:29:51.858Z"
   },
   {
    "duration": 0,
    "start_time": "2022-05-04T22:29:51.860Z"
   },
   {
    "duration": 0,
    "start_time": "2022-05-04T22:29:51.861Z"
   },
   {
    "duration": 0,
    "start_time": "2022-05-04T22:29:51.862Z"
   },
   {
    "duration": 0,
    "start_time": "2022-05-04T22:29:51.864Z"
   },
   {
    "duration": 1308,
    "start_time": "2022-05-04T22:30:20.693Z"
   },
   {
    "duration": 333,
    "start_time": "2022-05-04T22:30:22.003Z"
   },
   {
    "duration": 14,
    "start_time": "2022-05-04T22:30:22.337Z"
   },
   {
    "duration": 19,
    "start_time": "2022-05-04T22:30:22.352Z"
   },
   {
    "duration": 4,
    "start_time": "2022-05-04T22:30:22.373Z"
   },
   {
    "duration": 8,
    "start_time": "2022-05-04T22:30:22.379Z"
   },
   {
    "duration": 14,
    "start_time": "2022-05-04T22:30:22.388Z"
   },
   {
    "duration": 35,
    "start_time": "2022-05-04T22:30:22.404Z"
   },
   {
    "duration": 16,
    "start_time": "2022-05-04T22:30:22.441Z"
   },
   {
    "duration": 7,
    "start_time": "2022-05-04T22:30:22.459Z"
   },
   {
    "duration": 11,
    "start_time": "2022-05-04T22:30:22.468Z"
   },
   {
    "duration": 6,
    "start_time": "2022-05-04T22:30:22.481Z"
   },
   {
    "duration": 78,
    "start_time": "2022-05-04T22:30:22.488Z"
   },
   {
    "duration": 8,
    "start_time": "2022-05-04T22:30:22.569Z"
   },
   {
    "duration": 28,
    "start_time": "2022-05-04T22:30:22.579Z"
   },
   {
    "duration": 25,
    "start_time": "2022-05-04T22:30:22.609Z"
   },
   {
    "duration": 17,
    "start_time": "2022-05-04T22:30:22.636Z"
   },
   {
    "duration": 10,
    "start_time": "2022-05-04T22:30:22.655Z"
   },
   {
    "duration": 22,
    "start_time": "2022-05-04T22:30:22.666Z"
   },
   {
    "duration": 8,
    "start_time": "2022-05-04T22:30:22.690Z"
   },
   {
    "duration": 15,
    "start_time": "2022-05-04T22:30:22.733Z"
   },
   {
    "duration": 13,
    "start_time": "2022-05-04T22:30:22.750Z"
   },
   {
    "duration": 23,
    "start_time": "2022-05-04T22:30:22.765Z"
   },
   {
    "duration": 8,
    "start_time": "2022-05-04T22:30:22.790Z"
   },
   {
    "duration": 56,
    "start_time": "2022-05-04T22:30:22.799Z"
   },
   {
    "duration": 9,
    "start_time": "2022-05-04T22:30:22.857Z"
   },
   {
    "duration": 20,
    "start_time": "2022-05-04T22:30:22.868Z"
   },
   {
    "duration": 9,
    "start_time": "2022-05-04T22:30:22.890Z"
   },
   {
    "duration": 42,
    "start_time": "2022-05-04T22:30:22.901Z"
   },
   {
    "duration": 52,
    "start_time": "2022-05-04T22:30:22.945Z"
   },
   {
    "duration": 40,
    "start_time": "2022-05-04T22:30:22.999Z"
   },
   {
    "duration": 8,
    "start_time": "2022-05-04T22:30:23.041Z"
   },
   {
    "duration": 35,
    "start_time": "2022-05-04T22:30:23.050Z"
   },
   {
    "duration": 10,
    "start_time": "2022-05-04T22:30:23.087Z"
   },
   {
    "duration": 54,
    "start_time": "2022-05-04T22:30:23.098Z"
   },
   {
    "duration": 9,
    "start_time": "2022-05-04T22:30:23.154Z"
   },
   {
    "duration": 21,
    "start_time": "2022-05-04T22:30:23.165Z"
   },
   {
    "duration": 124,
    "start_time": "2022-05-04T22:30:23.188Z"
   },
   {
    "duration": 0,
    "start_time": "2022-05-04T22:30:23.314Z"
   },
   {
    "duration": 0,
    "start_time": "2022-05-04T22:30:23.316Z"
   },
   {
    "duration": 0,
    "start_time": "2022-05-04T22:30:23.317Z"
   },
   {
    "duration": 0,
    "start_time": "2022-05-04T22:30:23.319Z"
   },
   {
    "duration": 0,
    "start_time": "2022-05-04T22:30:23.320Z"
   },
   {
    "duration": 0,
    "start_time": "2022-05-04T22:30:23.334Z"
   },
   {
    "duration": 0,
    "start_time": "2022-05-04T22:30:23.336Z"
   },
   {
    "duration": 0,
    "start_time": "2022-05-04T22:30:23.337Z"
   },
   {
    "duration": 0,
    "start_time": "2022-05-04T22:30:23.339Z"
   },
   {
    "duration": 0,
    "start_time": "2022-05-04T22:30:23.340Z"
   },
   {
    "duration": 0,
    "start_time": "2022-05-04T22:30:23.342Z"
   },
   {
    "duration": 1,
    "start_time": "2022-05-04T22:30:23.343Z"
   },
   {
    "duration": 0,
    "start_time": "2022-05-04T22:30:23.345Z"
   },
   {
    "duration": 0,
    "start_time": "2022-05-04T22:30:23.347Z"
   },
   {
    "duration": 0,
    "start_time": "2022-05-04T22:30:57.668Z"
   },
   {
    "duration": 2703,
    "start_time": "2022-05-04T22:31:02.156Z"
   },
   {
    "duration": 16,
    "start_time": "2022-05-04T22:31:19.751Z"
   },
   {
    "duration": 15,
    "start_time": "2022-05-04T22:31:40.478Z"
   },
   {
    "duration": 16,
    "start_time": "2022-05-04T22:32:02.732Z"
   },
   {
    "duration": 21,
    "start_time": "2022-05-04T22:32:24.004Z"
   },
   {
    "duration": 16,
    "start_time": "2022-05-04T22:33:02.407Z"
   },
   {
    "duration": 29,
    "start_time": "2022-05-04T22:33:17.132Z"
   },
   {
    "duration": 34,
    "start_time": "2022-05-04T22:33:39.394Z"
   },
   {
    "duration": 36,
    "start_time": "2022-05-04T22:33:54.920Z"
   },
   {
    "duration": 4,
    "start_time": "2022-05-04T22:34:15.112Z"
   },
   {
    "duration": 19,
    "start_time": "2022-05-04T22:34:25.049Z"
   },
   {
    "duration": 30,
    "start_time": "2022-05-04T22:34:49.328Z"
   },
   {
    "duration": 16,
    "start_time": "2022-05-04T22:35:35.493Z"
   },
   {
    "duration": 15,
    "start_time": "2022-05-04T22:35:41.816Z"
   },
   {
    "duration": 36,
    "start_time": "2022-05-04T22:35:50.473Z"
   },
   {
    "duration": 1194,
    "start_time": "2022-05-04T22:36:36.286Z"
   },
   {
    "duration": 312,
    "start_time": "2022-05-04T22:36:37.482Z"
   },
   {
    "duration": 12,
    "start_time": "2022-05-04T22:36:37.795Z"
   },
   {
    "duration": 15,
    "start_time": "2022-05-04T22:36:37.810Z"
   },
   {
    "duration": 6,
    "start_time": "2022-05-04T22:36:37.827Z"
   },
   {
    "duration": 5,
    "start_time": "2022-05-04T22:36:37.835Z"
   },
   {
    "duration": 13,
    "start_time": "2022-05-04T22:36:37.842Z"
   },
   {
    "duration": 13,
    "start_time": "2022-05-04T22:36:37.856Z"
   },
   {
    "duration": 11,
    "start_time": "2022-05-04T22:36:37.871Z"
   },
   {
    "duration": 7,
    "start_time": "2022-05-04T22:36:37.885Z"
   },
   {
    "duration": 11,
    "start_time": "2022-05-04T22:36:37.893Z"
   },
   {
    "duration": 4,
    "start_time": "2022-05-04T22:36:37.934Z"
   },
   {
    "duration": 50,
    "start_time": "2022-05-04T22:36:37.940Z"
   },
   {
    "duration": 8,
    "start_time": "2022-05-04T22:36:37.992Z"
   },
   {
    "duration": 43,
    "start_time": "2022-05-04T22:36:38.002Z"
   },
   {
    "duration": 5,
    "start_time": "2022-05-04T22:36:38.047Z"
   },
   {
    "duration": 19,
    "start_time": "2022-05-04T22:36:38.054Z"
   },
   {
    "duration": 10,
    "start_time": "2022-05-04T22:36:38.075Z"
   },
   {
    "duration": 48,
    "start_time": "2022-05-04T22:36:38.087Z"
   },
   {
    "duration": 9,
    "start_time": "2022-05-04T22:36:38.137Z"
   },
   {
    "duration": 15,
    "start_time": "2022-05-04T22:36:38.148Z"
   },
   {
    "duration": 15,
    "start_time": "2022-05-04T22:36:38.165Z"
   },
   {
    "duration": 58,
    "start_time": "2022-05-04T22:36:38.182Z"
   },
   {
    "duration": 9,
    "start_time": "2022-05-04T22:36:38.242Z"
   },
   {
    "duration": 27,
    "start_time": "2022-05-04T22:36:38.253Z"
   },
   {
    "duration": 10,
    "start_time": "2022-05-04T22:36:38.282Z"
   },
   {
    "duration": 51,
    "start_time": "2022-05-04T22:36:38.294Z"
   },
   {
    "duration": 10,
    "start_time": "2022-05-04T22:36:38.350Z"
   },
   {
    "duration": 12,
    "start_time": "2022-05-04T22:36:38.362Z"
   },
   {
    "duration": 72,
    "start_time": "2022-05-04T22:36:38.375Z"
   },
   {
    "duration": 35,
    "start_time": "2022-05-04T22:36:38.449Z"
   },
   {
    "duration": 9,
    "start_time": "2022-05-04T22:36:38.485Z"
   },
   {
    "duration": 55,
    "start_time": "2022-05-04T22:36:38.495Z"
   },
   {
    "duration": 9,
    "start_time": "2022-05-04T22:36:38.552Z"
   },
   {
    "duration": 33,
    "start_time": "2022-05-04T22:36:38.562Z"
   },
   {
    "duration": 8,
    "start_time": "2022-05-04T22:36:38.597Z"
   },
   {
    "duration": 55,
    "start_time": "2022-05-04T22:36:38.606Z"
   },
   {
    "duration": 16,
    "start_time": "2022-05-04T22:36:38.662Z"
   },
   {
    "duration": 22,
    "start_time": "2022-05-04T22:36:38.680Z"
   },
   {
    "duration": 44,
    "start_time": "2022-05-04T22:36:38.704Z"
   },
   {
    "duration": 10,
    "start_time": "2022-05-04T22:36:38.750Z"
   },
   {
    "duration": 16,
    "start_time": "2022-05-04T22:36:38.762Z"
   },
   {
    "duration": 15,
    "start_time": "2022-05-04T22:36:38.780Z"
   },
   {
    "duration": 498,
    "start_time": "2022-05-04T22:36:38.797Z"
   },
   {
    "duration": 255,
    "start_time": "2022-05-04T22:36:39.297Z"
   },
   {
    "duration": 6,
    "start_time": "2022-05-04T22:36:39.554Z"
   },
   {
    "duration": 133,
    "start_time": "2022-05-04T22:36:39.562Z"
   },
   {
    "duration": 13,
    "start_time": "2022-05-04T22:36:39.697Z"
   },
   {
    "duration": 29,
    "start_time": "2022-05-04T22:36:39.712Z"
   },
   {
    "duration": 3,
    "start_time": "2022-05-04T22:36:39.743Z"
   },
   {
    "duration": 8,
    "start_time": "2022-05-04T22:36:39.748Z"
   },
   {
    "duration": 13,
    "start_time": "2022-05-04T22:36:39.758Z"
   },
   {
    "duration": 19,
    "start_time": "2022-05-04T22:38:41.428Z"
   },
   {
    "duration": 18,
    "start_time": "2022-05-04T22:38:54.030Z"
   },
   {
    "duration": 1276,
    "start_time": "2022-05-04T22:40:30.616Z"
   },
   {
    "duration": 314,
    "start_time": "2022-05-04T22:40:31.894Z"
   },
   {
    "duration": 14,
    "start_time": "2022-05-04T22:40:32.209Z"
   },
   {
    "duration": 33,
    "start_time": "2022-05-04T22:40:32.225Z"
   },
   {
    "duration": 5,
    "start_time": "2022-05-04T22:40:32.260Z"
   },
   {
    "duration": 13,
    "start_time": "2022-05-04T22:40:32.267Z"
   },
   {
    "duration": 22,
    "start_time": "2022-05-04T22:40:32.281Z"
   },
   {
    "duration": 14,
    "start_time": "2022-05-04T22:40:32.305Z"
   },
   {
    "duration": 12,
    "start_time": "2022-05-04T22:40:32.321Z"
   },
   {
    "duration": 9,
    "start_time": "2022-05-04T22:40:32.336Z"
   },
   {
    "duration": 14,
    "start_time": "2022-05-04T22:40:32.346Z"
   },
   {
    "duration": 11,
    "start_time": "2022-05-04T22:40:32.362Z"
   },
   {
    "duration": 50,
    "start_time": "2022-05-04T22:40:32.375Z"
   },
   {
    "duration": 9,
    "start_time": "2022-05-04T22:40:32.433Z"
   },
   {
    "duration": 32,
    "start_time": "2022-05-04T22:40:32.444Z"
   },
   {
    "duration": 7,
    "start_time": "2022-05-04T22:40:32.478Z"
   },
   {
    "duration": 21,
    "start_time": "2022-05-04T22:40:32.486Z"
   },
   {
    "duration": 26,
    "start_time": "2022-05-04T22:40:32.509Z"
   },
   {
    "duration": 21,
    "start_time": "2022-05-04T22:40:32.536Z"
   },
   {
    "duration": 7,
    "start_time": "2022-05-04T22:40:32.559Z"
   },
   {
    "duration": 19,
    "start_time": "2022-05-04T22:40:32.568Z"
   },
   {
    "duration": 14,
    "start_time": "2022-05-04T22:40:32.589Z"
   },
   {
    "duration": 22,
    "start_time": "2022-05-04T22:40:32.635Z"
   },
   {
    "duration": 8,
    "start_time": "2022-05-04T22:40:32.659Z"
   },
   {
    "duration": 33,
    "start_time": "2022-05-04T22:40:32.670Z"
   },
   {
    "duration": 29,
    "start_time": "2022-05-04T22:40:32.705Z"
   },
   {
    "duration": 17,
    "start_time": "2022-05-04T22:40:32.737Z"
   },
   {
    "duration": 9,
    "start_time": "2022-05-04T22:40:32.758Z"
   },
   {
    "duration": 19,
    "start_time": "2022-05-04T22:40:32.769Z"
   },
   {
    "duration": 68,
    "start_time": "2022-05-04T22:40:32.790Z"
   },
   {
    "duration": 28,
    "start_time": "2022-05-04T22:40:32.860Z"
   },
   {
    "duration": 9,
    "start_time": "2022-05-04T22:40:32.889Z"
   },
   {
    "duration": 58,
    "start_time": "2022-05-04T22:40:32.900Z"
   },
   {
    "duration": 8,
    "start_time": "2022-05-04T22:40:32.960Z"
   },
   {
    "duration": 36,
    "start_time": "2022-05-04T22:40:32.970Z"
   },
   {
    "duration": 8,
    "start_time": "2022-05-04T22:40:33.007Z"
   },
   {
    "duration": 35,
    "start_time": "2022-05-04T22:40:33.034Z"
   },
   {
    "duration": 10,
    "start_time": "2022-05-04T22:40:33.071Z"
   },
   {
    "duration": 43,
    "start_time": "2022-05-04T22:40:33.083Z"
   },
   {
    "duration": 40,
    "start_time": "2022-05-04T22:40:33.127Z"
   },
   {
    "duration": 23,
    "start_time": "2022-05-04T22:40:33.168Z"
   },
   {
    "duration": 6,
    "start_time": "2022-05-04T22:40:33.193Z"
   },
   {
    "duration": 16,
    "start_time": "2022-05-04T22:40:33.201Z"
   },
   {
    "duration": 25,
    "start_time": "2022-05-04T22:40:33.219Z"
   },
   {
    "duration": 487,
    "start_time": "2022-05-04T22:40:33.246Z"
   },
   {
    "duration": 271,
    "start_time": "2022-05-04T22:40:33.735Z"
   },
   {
    "duration": 7,
    "start_time": "2022-05-04T22:40:34.008Z"
   },
   {
    "duration": 127,
    "start_time": "2022-05-04T22:40:34.016Z"
   },
   {
    "duration": 11,
    "start_time": "2022-05-04T22:40:34.145Z"
   },
   {
    "duration": 17,
    "start_time": "2022-05-04T22:40:34.158Z"
   },
   {
    "duration": 3,
    "start_time": "2022-05-04T22:40:34.177Z"
   },
   {
    "duration": 8,
    "start_time": "2022-05-04T22:40:34.181Z"
   },
   {
    "duration": 6,
    "start_time": "2022-05-04T22:40:34.190Z"
   },
   {
    "duration": 1192,
    "start_time": "2022-05-04T22:43:12.085Z"
   },
   {
    "duration": 313,
    "start_time": "2022-05-04T22:43:13.279Z"
   },
   {
    "duration": 13,
    "start_time": "2022-05-04T22:43:13.593Z"
   },
   {
    "duration": 17,
    "start_time": "2022-05-04T22:43:13.608Z"
   },
   {
    "duration": 4,
    "start_time": "2022-05-04T22:43:13.627Z"
   },
   {
    "duration": 8,
    "start_time": "2022-05-04T22:43:13.633Z"
   },
   {
    "duration": 11,
    "start_time": "2022-05-04T22:43:13.643Z"
   },
   {
    "duration": 15,
    "start_time": "2022-05-04T22:43:13.656Z"
   },
   {
    "duration": 14,
    "start_time": "2022-05-04T22:43:13.672Z"
   },
   {
    "duration": 5,
    "start_time": "2022-05-04T22:43:13.689Z"
   },
   {
    "duration": 37,
    "start_time": "2022-05-04T22:43:13.696Z"
   },
   {
    "duration": 4,
    "start_time": "2022-05-04T22:43:13.735Z"
   },
   {
    "duration": 46,
    "start_time": "2022-05-04T22:43:13.741Z"
   },
   {
    "duration": 8,
    "start_time": "2022-05-04T22:43:13.789Z"
   },
   {
    "duration": 49,
    "start_time": "2022-05-04T22:43:13.799Z"
   },
   {
    "duration": 5,
    "start_time": "2022-05-04T22:43:13.850Z"
   },
   {
    "duration": 19,
    "start_time": "2022-05-04T22:43:13.857Z"
   },
   {
    "duration": 10,
    "start_time": "2022-05-04T22:43:13.877Z"
   },
   {
    "duration": 23,
    "start_time": "2022-05-04T22:43:13.888Z"
   },
   {
    "duration": 8,
    "start_time": "2022-05-04T22:43:13.934Z"
   },
   {
    "duration": 16,
    "start_time": "2022-05-04T22:43:13.943Z"
   },
   {
    "duration": 13,
    "start_time": "2022-05-04T22:43:13.961Z"
   },
   {
    "duration": 22,
    "start_time": "2022-05-04T22:43:13.976Z"
   },
   {
    "duration": 38,
    "start_time": "2022-05-04T22:43:14.000Z"
   },
   {
    "duration": 26,
    "start_time": "2022-05-04T22:43:14.040Z"
   },
   {
    "duration": 8,
    "start_time": "2022-05-04T22:43:14.068Z"
   },
   {
    "duration": 19,
    "start_time": "2022-05-04T22:43:14.077Z"
   },
   {
    "duration": 34,
    "start_time": "2022-05-04T22:43:14.101Z"
   },
   {
    "duration": 13,
    "start_time": "2022-05-04T22:43:14.137Z"
   },
   {
    "duration": 51,
    "start_time": "2022-05-04T22:43:14.151Z"
   },
   {
    "duration": 46,
    "start_time": "2022-05-04T22:43:14.204Z"
   },
   {
    "duration": 9,
    "start_time": "2022-05-04T22:43:14.252Z"
   },
   {
    "duration": 32,
    "start_time": "2022-05-04T22:43:14.262Z"
   },
   {
    "duration": 8,
    "start_time": "2022-05-04T22:43:14.296Z"
   },
   {
    "duration": 51,
    "start_time": "2022-05-04T22:43:14.306Z"
   },
   {
    "duration": 8,
    "start_time": "2022-05-04T22:43:14.358Z"
   },
   {
    "duration": 35,
    "start_time": "2022-05-04T22:43:14.368Z"
   },
   {
    "duration": 32,
    "start_time": "2022-05-04T22:43:14.405Z"
   },
   {
    "duration": 16,
    "start_time": "2022-05-04T22:43:14.439Z"
   },
   {
    "duration": 20,
    "start_time": "2022-05-04T22:43:14.456Z"
   },
   {
    "duration": 23,
    "start_time": "2022-05-04T22:43:14.478Z"
   },
   {
    "duration": 36,
    "start_time": "2022-05-04T22:43:14.503Z"
   },
   {
    "duration": 23,
    "start_time": "2022-05-04T22:43:14.540Z"
   },
   {
    "duration": 15,
    "start_time": "2022-05-04T22:43:14.565Z"
   },
   {
    "duration": 501,
    "start_time": "2022-05-04T22:43:14.582Z"
   },
   {
    "duration": 260,
    "start_time": "2022-05-04T22:43:15.085Z"
   },
   {
    "duration": 6,
    "start_time": "2022-05-04T22:43:15.347Z"
   },
   {
    "duration": 124,
    "start_time": "2022-05-04T22:43:15.355Z"
   },
   {
    "duration": 11,
    "start_time": "2022-05-04T22:43:15.481Z"
   },
   {
    "duration": 16,
    "start_time": "2022-05-04T22:43:15.494Z"
   },
   {
    "duration": 3,
    "start_time": "2022-05-04T22:43:15.511Z"
   },
   {
    "duration": 2,
    "start_time": "2022-05-04T22:43:15.534Z"
   },
   {
    "duration": 5,
    "start_time": "2022-05-04T22:43:15.538Z"
   },
   {
    "duration": 1272,
    "start_time": "2022-05-04T22:45:26.750Z"
   },
   {
    "duration": 318,
    "start_time": "2022-05-04T22:45:28.024Z"
   },
   {
    "duration": 13,
    "start_time": "2022-05-04T22:45:28.344Z"
   },
   {
    "duration": 21,
    "start_time": "2022-05-04T22:45:28.359Z"
   },
   {
    "duration": 5,
    "start_time": "2022-05-04T22:45:28.382Z"
   },
   {
    "duration": 8,
    "start_time": "2022-05-04T22:45:28.389Z"
   },
   {
    "duration": 13,
    "start_time": "2022-05-04T22:45:28.399Z"
   },
   {
    "duration": 27,
    "start_time": "2022-05-04T22:45:28.414Z"
   },
   {
    "duration": 15,
    "start_time": "2022-05-04T22:45:28.443Z"
   },
   {
    "duration": 7,
    "start_time": "2022-05-04T22:45:28.461Z"
   },
   {
    "duration": 12,
    "start_time": "2022-05-04T22:45:28.470Z"
   },
   {
    "duration": 6,
    "start_time": "2022-05-04T22:45:28.484Z"
   },
   {
    "duration": 64,
    "start_time": "2022-05-04T22:45:28.492Z"
   },
   {
    "duration": 8,
    "start_time": "2022-05-04T22:45:28.558Z"
   },
   {
    "duration": 28,
    "start_time": "2022-05-04T22:45:28.568Z"
   },
   {
    "duration": 5,
    "start_time": "2022-05-04T22:45:28.597Z"
   },
   {
    "duration": 41,
    "start_time": "2022-05-04T22:45:28.603Z"
   },
   {
    "duration": 9,
    "start_time": "2022-05-04T22:45:28.645Z"
   },
   {
    "duration": 22,
    "start_time": "2022-05-04T22:45:28.656Z"
   },
   {
    "duration": 7,
    "start_time": "2022-05-04T22:45:28.680Z"
   },
   {
    "duration": 17,
    "start_time": "2022-05-04T22:45:28.689Z"
   },
   {
    "duration": 34,
    "start_time": "2022-05-04T22:45:28.708Z"
   },
   {
    "duration": 22,
    "start_time": "2022-05-04T22:45:28.744Z"
   },
   {
    "duration": 8,
    "start_time": "2022-05-04T22:45:28.768Z"
   },
   {
    "duration": 56,
    "start_time": "2022-05-04T22:45:28.778Z"
   },
   {
    "duration": 8,
    "start_time": "2022-05-04T22:45:28.836Z"
   },
   {
    "duration": 21,
    "start_time": "2022-05-04T22:45:28.846Z"
   },
   {
    "duration": 9,
    "start_time": "2022-05-04T22:45:28.872Z"
   },
   {
    "duration": 12,
    "start_time": "2022-05-04T22:45:28.883Z"
   },
   {
    "duration": 72,
    "start_time": "2022-05-04T22:45:28.896Z"
   },
   {
    "duration": 26,
    "start_time": "2022-05-04T22:45:28.969Z"
   },
   {
    "duration": 7,
    "start_time": "2022-05-04T22:45:28.997Z"
   },
   {
    "duration": 52,
    "start_time": "2022-05-04T22:45:29.006Z"
   },
   {
    "duration": 8,
    "start_time": "2022-05-04T22:45:29.060Z"
   },
   {
    "duration": 33,
    "start_time": "2022-05-04T22:45:29.070Z"
   },
   {
    "duration": 30,
    "start_time": "2022-05-04T22:45:29.104Z"
   },
   {
    "duration": 36,
    "start_time": "2022-05-04T22:45:29.136Z"
   },
   {
    "duration": 3,
    "start_time": "2022-05-04T22:45:29.174Z"
   },
   {
    "duration": 19,
    "start_time": "2022-05-04T22:45:29.179Z"
   },
   {
    "duration": 8,
    "start_time": "2022-05-04T22:45:29.200Z"
   },
   {
    "duration": 118,
    "start_time": "2022-05-04T22:45:29.209Z"
   },
   {
    "duration": 0,
    "start_time": "2022-05-04T22:45:29.329Z"
   },
   {
    "duration": 0,
    "start_time": "2022-05-04T22:45:29.330Z"
   },
   {
    "duration": 0,
    "start_time": "2022-05-04T22:45:29.333Z"
   },
   {
    "duration": 0,
    "start_time": "2022-05-04T22:45:29.334Z"
   },
   {
    "duration": 0,
    "start_time": "2022-05-04T22:45:29.335Z"
   },
   {
    "duration": 0,
    "start_time": "2022-05-04T22:45:29.336Z"
   },
   {
    "duration": 0,
    "start_time": "2022-05-04T22:45:29.338Z"
   },
   {
    "duration": 0,
    "start_time": "2022-05-04T22:45:29.338Z"
   },
   {
    "duration": 1,
    "start_time": "2022-05-04T22:45:29.339Z"
   },
   {
    "duration": 0,
    "start_time": "2022-05-04T22:45:29.340Z"
   },
   {
    "duration": 0,
    "start_time": "2022-05-04T22:45:29.341Z"
   },
   {
    "duration": 0,
    "start_time": "2022-05-04T22:45:29.342Z"
   },
   {
    "duration": 11,
    "start_time": "2022-05-04T22:46:09.307Z"
   },
   {
    "duration": 14,
    "start_time": "2022-05-04T22:46:25.790Z"
   },
   {
    "duration": 1236,
    "start_time": "2022-05-04T22:49:09.146Z"
   },
   {
    "duration": 303,
    "start_time": "2022-05-04T22:49:10.384Z"
   },
   {
    "duration": 13,
    "start_time": "2022-05-04T22:49:10.689Z"
   },
   {
    "duration": 17,
    "start_time": "2022-05-04T22:49:10.704Z"
   },
   {
    "duration": 4,
    "start_time": "2022-05-04T22:49:10.723Z"
   },
   {
    "duration": 8,
    "start_time": "2022-05-04T22:49:10.729Z"
   },
   {
    "duration": 13,
    "start_time": "2022-05-04T22:49:10.739Z"
   },
   {
    "duration": 14,
    "start_time": "2022-05-04T22:49:10.753Z"
   },
   {
    "duration": 13,
    "start_time": "2022-05-04T22:49:10.768Z"
   },
   {
    "duration": 7,
    "start_time": "2022-05-04T22:49:10.784Z"
   },
   {
    "duration": 12,
    "start_time": "2022-05-04T22:49:10.793Z"
   },
   {
    "duration": 30,
    "start_time": "2022-05-04T22:49:10.807Z"
   },
   {
    "duration": 46,
    "start_time": "2022-05-04T22:49:10.839Z"
   },
   {
    "duration": 9,
    "start_time": "2022-05-04T22:49:10.887Z"
   },
   {
    "duration": 50,
    "start_time": "2022-05-04T22:49:10.897Z"
   },
   {
    "duration": 5,
    "start_time": "2022-05-04T22:49:10.949Z"
   },
   {
    "duration": 20,
    "start_time": "2022-05-04T22:49:10.955Z"
   },
   {
    "duration": 9,
    "start_time": "2022-05-04T22:49:10.977Z"
   },
   {
    "duration": 47,
    "start_time": "2022-05-04T22:49:10.987Z"
   },
   {
    "duration": 7,
    "start_time": "2022-05-04T22:49:11.036Z"
   },
   {
    "duration": 18,
    "start_time": "2022-05-04T22:49:11.045Z"
   },
   {
    "duration": 13,
    "start_time": "2022-05-04T22:49:11.064Z"
   },
   {
    "duration": 54,
    "start_time": "2022-05-04T22:49:11.079Z"
   },
   {
    "duration": 9,
    "start_time": "2022-05-04T22:49:11.135Z"
   },
   {
    "duration": 28,
    "start_time": "2022-05-04T22:49:11.146Z"
   },
   {
    "duration": 8,
    "start_time": "2022-05-04T22:49:11.176Z"
   },
   {
    "duration": 22,
    "start_time": "2022-05-04T22:49:11.186Z"
   },
   {
    "duration": 10,
    "start_time": "2022-05-04T22:49:11.233Z"
   },
   {
    "duration": 11,
    "start_time": "2022-05-04T22:49:11.244Z"
   },
   {
    "duration": 51,
    "start_time": "2022-05-04T22:49:11.256Z"
   },
   {
    "duration": 48,
    "start_time": "2022-05-04T22:49:11.308Z"
   },
   {
    "duration": 8,
    "start_time": "2022-05-04T22:49:11.358Z"
   },
   {
    "duration": 33,
    "start_time": "2022-05-04T22:49:11.368Z"
   },
   {
    "duration": 39,
    "start_time": "2022-05-04T22:49:11.402Z"
   },
   {
    "duration": 33,
    "start_time": "2022-05-04T22:49:11.442Z"
   },
   {
    "duration": 9,
    "start_time": "2022-05-04T22:49:11.476Z"
   },
   {
    "duration": 63,
    "start_time": "2022-05-04T22:49:11.487Z"
   },
   {
    "duration": 3,
    "start_time": "2022-05-04T22:49:11.552Z"
   },
   {
    "duration": 109,
    "start_time": "2022-05-04T22:49:11.557Z"
   },
   {
    "duration": 0,
    "start_time": "2022-05-04T22:49:11.668Z"
   },
   {
    "duration": 0,
    "start_time": "2022-05-04T22:49:11.670Z"
   },
   {
    "duration": 0,
    "start_time": "2022-05-04T22:49:11.671Z"
   },
   {
    "duration": 0,
    "start_time": "2022-05-04T22:49:11.672Z"
   },
   {
    "duration": 0,
    "start_time": "2022-05-04T22:49:11.673Z"
   },
   {
    "duration": 0,
    "start_time": "2022-05-04T22:49:11.675Z"
   },
   {
    "duration": 0,
    "start_time": "2022-05-04T22:49:11.675Z"
   },
   {
    "duration": 0,
    "start_time": "2022-05-04T22:49:11.676Z"
   },
   {
    "duration": 0,
    "start_time": "2022-05-04T22:49:11.677Z"
   },
   {
    "duration": 0,
    "start_time": "2022-05-04T22:49:11.678Z"
   },
   {
    "duration": 0,
    "start_time": "2022-05-04T22:49:11.679Z"
   },
   {
    "duration": 0,
    "start_time": "2022-05-04T22:49:11.681Z"
   },
   {
    "duration": 0,
    "start_time": "2022-05-04T22:49:11.681Z"
   },
   {
    "duration": 0,
    "start_time": "2022-05-04T22:49:11.683Z"
   },
   {
    "duration": 19,
    "start_time": "2022-05-04T22:49:59.317Z"
   },
   {
    "duration": 21,
    "start_time": "2022-05-04T22:50:38.440Z"
   },
   {
    "duration": 17,
    "start_time": "2022-05-04T22:50:44.518Z"
   },
   {
    "duration": 26,
    "start_time": "2022-05-04T22:51:34.654Z"
   },
   {
    "duration": 30,
    "start_time": "2022-05-04T22:52:03.323Z"
   },
   {
    "duration": 35,
    "start_time": "2022-05-04T22:52:22.338Z"
   },
   {
    "duration": 1333,
    "start_time": "2022-05-04T22:52:37.649Z"
   },
   {
    "duration": 306,
    "start_time": "2022-05-04T22:52:38.984Z"
   },
   {
    "duration": 12,
    "start_time": "2022-05-04T22:52:39.292Z"
   },
   {
    "duration": 16,
    "start_time": "2022-05-04T22:52:39.306Z"
   },
   {
    "duration": 5,
    "start_time": "2022-05-04T22:52:39.324Z"
   },
   {
    "duration": 5,
    "start_time": "2022-05-04T22:52:39.334Z"
   },
   {
    "duration": 10,
    "start_time": "2022-05-04T22:52:39.341Z"
   },
   {
    "duration": 13,
    "start_time": "2022-05-04T22:52:39.352Z"
   },
   {
    "duration": 10,
    "start_time": "2022-05-04T22:52:39.367Z"
   },
   {
    "duration": 14,
    "start_time": "2022-05-04T22:52:39.380Z"
   },
   {
    "duration": 40,
    "start_time": "2022-05-04T22:52:39.396Z"
   },
   {
    "duration": 5,
    "start_time": "2022-05-04T22:52:39.438Z"
   },
   {
    "duration": 44,
    "start_time": "2022-05-04T22:52:39.445Z"
   },
   {
    "duration": 8,
    "start_time": "2022-05-04T22:52:39.491Z"
   },
   {
    "duration": 53,
    "start_time": "2022-05-04T22:52:39.500Z"
   },
   {
    "duration": 5,
    "start_time": "2022-05-04T22:52:39.555Z"
   },
   {
    "duration": 18,
    "start_time": "2022-05-04T22:52:39.561Z"
   },
   {
    "duration": 9,
    "start_time": "2022-05-04T22:52:39.581Z"
   },
   {
    "duration": 42,
    "start_time": "2022-05-04T22:52:39.592Z"
   },
   {
    "duration": 8,
    "start_time": "2022-05-04T22:52:39.636Z"
   },
   {
    "duration": 16,
    "start_time": "2022-05-04T22:52:39.646Z"
   },
   {
    "duration": 14,
    "start_time": "2022-05-04T22:52:39.663Z"
   },
   {
    "duration": 56,
    "start_time": "2022-05-04T22:52:39.679Z"
   },
   {
    "duration": 9,
    "start_time": "2022-05-04T22:52:39.737Z"
   },
   {
    "duration": 28,
    "start_time": "2022-05-04T22:52:39.747Z"
   },
   {
    "duration": 9,
    "start_time": "2022-05-04T22:52:39.777Z"
   },
   {
    "duration": 48,
    "start_time": "2022-05-04T22:52:39.787Z"
   },
   {
    "duration": 10,
    "start_time": "2022-05-04T22:52:39.839Z"
   },
   {
    "duration": 11,
    "start_time": "2022-05-04T22:52:39.850Z"
   },
   {
    "duration": 72,
    "start_time": "2022-05-04T22:52:39.862Z"
   },
   {
    "duration": 26,
    "start_time": "2022-05-04T22:52:39.936Z"
   },
   {
    "duration": 8,
    "start_time": "2022-05-04T22:52:39.963Z"
   },
   {
    "duration": 33,
    "start_time": "2022-05-04T22:52:39.972Z"
   },
   {
    "duration": 35,
    "start_time": "2022-05-04T22:52:40.007Z"
   },
   {
    "duration": 37,
    "start_time": "2022-05-04T22:52:40.043Z"
   },
   {
    "duration": 9,
    "start_time": "2022-05-04T22:52:40.081Z"
   },
   {
    "duration": 56,
    "start_time": "2022-05-04T22:52:40.092Z"
   },
   {
    "duration": 17,
    "start_time": "2022-05-04T22:52:40.150Z"
   },
   {
    "duration": 25,
    "start_time": "2022-05-04T22:52:40.168Z"
   },
   {
    "duration": 126,
    "start_time": "2022-05-04T22:52:40.195Z"
   },
   {
    "duration": 0,
    "start_time": "2022-05-04T22:52:40.323Z"
   },
   {
    "duration": 0,
    "start_time": "2022-05-04T22:52:40.324Z"
   },
   {
    "duration": 0,
    "start_time": "2022-05-04T22:52:40.325Z"
   },
   {
    "duration": 0,
    "start_time": "2022-05-04T22:52:40.333Z"
   },
   {
    "duration": 0,
    "start_time": "2022-05-04T22:52:40.334Z"
   },
   {
    "duration": 0,
    "start_time": "2022-05-04T22:52:40.335Z"
   },
   {
    "duration": 0,
    "start_time": "2022-05-04T22:52:40.336Z"
   },
   {
    "duration": 0,
    "start_time": "2022-05-04T22:52:40.337Z"
   },
   {
    "duration": 0,
    "start_time": "2022-05-04T22:52:40.338Z"
   },
   {
    "duration": 0,
    "start_time": "2022-05-04T22:52:40.339Z"
   },
   {
    "duration": 0,
    "start_time": "2022-05-04T22:52:40.340Z"
   },
   {
    "duration": 0,
    "start_time": "2022-05-04T22:52:40.342Z"
   },
   {
    "duration": 1273,
    "start_time": "2022-05-04T22:53:09.134Z"
   },
   {
    "duration": 310,
    "start_time": "2022-05-04T22:53:10.409Z"
   },
   {
    "duration": 13,
    "start_time": "2022-05-04T22:53:10.721Z"
   },
   {
    "duration": 16,
    "start_time": "2022-05-04T22:53:10.736Z"
   },
   {
    "duration": 5,
    "start_time": "2022-05-04T22:53:10.753Z"
   },
   {
    "duration": 10,
    "start_time": "2022-05-04T22:53:10.759Z"
   },
   {
    "duration": 13,
    "start_time": "2022-05-04T22:53:10.771Z"
   },
   {
    "duration": 13,
    "start_time": "2022-05-04T22:53:10.786Z"
   },
   {
    "duration": 38,
    "start_time": "2022-05-04T22:53:10.801Z"
   },
   {
    "duration": 9,
    "start_time": "2022-05-04T22:53:10.842Z"
   },
   {
    "duration": 12,
    "start_time": "2022-05-04T22:53:10.852Z"
   },
   {
    "duration": 7,
    "start_time": "2022-05-04T22:53:10.865Z"
   },
   {
    "duration": 64,
    "start_time": "2022-05-04T22:53:10.873Z"
   },
   {
    "duration": 9,
    "start_time": "2022-05-04T22:53:10.938Z"
   },
   {
    "duration": 27,
    "start_time": "2022-05-04T22:53:10.949Z"
   },
   {
    "duration": 5,
    "start_time": "2022-05-04T22:53:10.978Z"
   },
   {
    "duration": 21,
    "start_time": "2022-05-04T22:53:10.984Z"
   },
   {
    "duration": 31,
    "start_time": "2022-05-04T22:53:11.007Z"
   },
   {
    "duration": 21,
    "start_time": "2022-05-04T22:53:11.040Z"
   },
   {
    "duration": 8,
    "start_time": "2022-05-04T22:53:11.063Z"
   },
   {
    "duration": 16,
    "start_time": "2022-05-04T22:53:11.073Z"
   },
   {
    "duration": 48,
    "start_time": "2022-05-04T22:53:11.091Z"
   },
   {
    "duration": 24,
    "start_time": "2022-05-04T22:53:11.141Z"
   },
   {
    "duration": 9,
    "start_time": "2022-05-04T22:53:11.167Z"
   },
   {
    "duration": 56,
    "start_time": "2022-05-04T22:53:11.179Z"
   },
   {
    "duration": 11,
    "start_time": "2022-05-04T22:53:11.236Z"
   },
   {
    "duration": 19,
    "start_time": "2022-05-04T22:53:11.249Z"
   },
   {
    "duration": 9,
    "start_time": "2022-05-04T22:53:11.273Z"
   },
   {
    "duration": 11,
    "start_time": "2022-05-04T22:53:11.284Z"
   },
   {
    "duration": 79,
    "start_time": "2022-05-04T22:53:11.297Z"
   },
   {
    "duration": 28,
    "start_time": "2022-05-04T22:53:11.378Z"
   },
   {
    "duration": 27,
    "start_time": "2022-05-04T22:53:11.408Z"
   },
   {
    "duration": 34,
    "start_time": "2022-05-04T22:53:11.437Z"
   },
   {
    "duration": 10,
    "start_time": "2022-05-04T22:53:11.473Z"
   },
   {
    "duration": 60,
    "start_time": "2022-05-04T22:53:11.485Z"
   },
   {
    "duration": 9,
    "start_time": "2022-05-04T22:53:11.547Z"
   },
   {
    "duration": 35,
    "start_time": "2022-05-04T22:53:11.558Z"
   },
   {
    "duration": 43,
    "start_time": "2022-05-04T22:53:11.595Z"
   },
   {
    "duration": 26,
    "start_time": "2022-05-04T22:53:11.640Z"
   },
   {
    "duration": 124,
    "start_time": "2022-05-04T22:53:11.668Z"
   },
   {
    "duration": 0,
    "start_time": "2022-05-04T22:53:11.795Z"
   },
   {
    "duration": 0,
    "start_time": "2022-05-04T22:53:11.796Z"
   },
   {
    "duration": 0,
    "start_time": "2022-05-04T22:53:11.798Z"
   },
   {
    "duration": 0,
    "start_time": "2022-05-04T22:53:11.799Z"
   },
   {
    "duration": 0,
    "start_time": "2022-05-04T22:53:11.801Z"
   },
   {
    "duration": 0,
    "start_time": "2022-05-04T22:53:11.802Z"
   },
   {
    "duration": 0,
    "start_time": "2022-05-04T22:53:11.804Z"
   },
   {
    "duration": 0,
    "start_time": "2022-05-04T22:53:11.805Z"
   },
   {
    "duration": 0,
    "start_time": "2022-05-04T22:53:11.807Z"
   },
   {
    "duration": 0,
    "start_time": "2022-05-04T22:53:11.809Z"
   },
   {
    "duration": 0,
    "start_time": "2022-05-04T22:53:11.834Z"
   },
   {
    "duration": 0,
    "start_time": "2022-05-04T22:53:11.835Z"
   },
   {
    "duration": 1204,
    "start_time": "2022-05-04T22:54:50.167Z"
   },
   {
    "duration": 320,
    "start_time": "2022-05-04T22:54:51.373Z"
   },
   {
    "duration": 11,
    "start_time": "2022-05-04T22:54:51.695Z"
   },
   {
    "duration": 24,
    "start_time": "2022-05-04T22:54:51.708Z"
   },
   {
    "duration": 11,
    "start_time": "2022-05-04T22:54:51.734Z"
   },
   {
    "duration": 13,
    "start_time": "2022-05-04T22:54:51.747Z"
   },
   {
    "duration": 25,
    "start_time": "2022-05-04T22:54:51.762Z"
   },
   {
    "duration": 27,
    "start_time": "2022-05-04T22:54:51.789Z"
   },
   {
    "duration": 19,
    "start_time": "2022-05-04T22:54:51.818Z"
   },
   {
    "duration": 7,
    "start_time": "2022-05-04T22:54:51.841Z"
   },
   {
    "duration": 13,
    "start_time": "2022-05-04T22:54:51.850Z"
   },
   {
    "duration": 6,
    "start_time": "2022-05-04T22:54:51.865Z"
   },
   {
    "duration": 65,
    "start_time": "2022-05-04T22:54:51.873Z"
   },
   {
    "duration": 10,
    "start_time": "2022-05-04T22:54:51.940Z"
   },
   {
    "duration": 29,
    "start_time": "2022-05-04T22:54:51.951Z"
   },
   {
    "duration": 5,
    "start_time": "2022-05-04T22:54:51.981Z"
   },
   {
    "duration": 45,
    "start_time": "2022-05-04T22:54:51.988Z"
   },
   {
    "duration": 10,
    "start_time": "2022-05-04T22:54:52.035Z"
   },
   {
    "duration": 26,
    "start_time": "2022-05-04T22:54:52.047Z"
   },
   {
    "duration": 8,
    "start_time": "2022-05-04T22:54:52.075Z"
   },
   {
    "duration": 18,
    "start_time": "2022-05-04T22:54:52.085Z"
   },
   {
    "duration": 38,
    "start_time": "2022-05-04T22:54:52.105Z"
   },
   {
    "duration": 23,
    "start_time": "2022-05-04T22:54:52.145Z"
   },
   {
    "duration": 9,
    "start_time": "2022-05-04T22:54:52.170Z"
   },
   {
    "duration": 53,
    "start_time": "2022-05-04T22:54:52.181Z"
   },
   {
    "duration": 9,
    "start_time": "2022-05-04T22:54:52.235Z"
   },
   {
    "duration": 23,
    "start_time": "2022-05-04T22:54:52.246Z"
   },
   {
    "duration": 10,
    "start_time": "2022-05-04T22:54:52.273Z"
   },
   {
    "duration": 11,
    "start_time": "2022-05-04T22:54:52.284Z"
   },
   {
    "duration": 74,
    "start_time": "2022-05-04T22:54:52.297Z"
   },
   {
    "duration": 26,
    "start_time": "2022-05-04T22:54:52.372Z"
   },
   {
    "duration": 8,
    "start_time": "2022-05-04T22:54:52.400Z"
   },
   {
    "duration": 53,
    "start_time": "2022-05-04T22:54:52.410Z"
   },
   {
    "duration": 9,
    "start_time": "2022-05-04T22:54:52.465Z"
   },
   {
    "duration": 37,
    "start_time": "2022-05-04T22:54:52.476Z"
   },
   {
    "duration": 26,
    "start_time": "2022-05-04T22:54:52.514Z"
   },
   {
    "duration": 36,
    "start_time": "2022-05-04T22:54:52.542Z"
   },
   {
    "duration": 17,
    "start_time": "2022-05-04T22:54:52.580Z"
   },
   {
    "duration": 47,
    "start_time": "2022-05-04T22:54:52.598Z"
   },
   {
    "duration": 113,
    "start_time": "2022-05-04T22:54:52.647Z"
   },
   {
    "duration": 0,
    "start_time": "2022-05-04T22:54:52.761Z"
   },
   {
    "duration": 0,
    "start_time": "2022-05-04T22:54:52.763Z"
   },
   {
    "duration": 0,
    "start_time": "2022-05-04T22:54:52.764Z"
   },
   {
    "duration": 0,
    "start_time": "2022-05-04T22:54:52.765Z"
   },
   {
    "duration": 0,
    "start_time": "2022-05-04T22:54:52.766Z"
   },
   {
    "duration": 0,
    "start_time": "2022-05-04T22:54:52.767Z"
   },
   {
    "duration": 0,
    "start_time": "2022-05-04T22:54:52.768Z"
   },
   {
    "duration": 0,
    "start_time": "2022-05-04T22:54:52.769Z"
   },
   {
    "duration": 0,
    "start_time": "2022-05-04T22:54:52.770Z"
   },
   {
    "duration": 0,
    "start_time": "2022-05-04T22:54:52.771Z"
   },
   {
    "duration": 0,
    "start_time": "2022-05-04T22:54:52.772Z"
   },
   {
    "duration": 0,
    "start_time": "2022-05-04T22:54:52.773Z"
   },
   {
    "duration": 36,
    "start_time": "2022-05-04T22:55:15.734Z"
   },
   {
    "duration": 1215,
    "start_time": "2022-05-04T22:55:48.570Z"
   },
   {
    "duration": 312,
    "start_time": "2022-05-04T22:55:49.788Z"
   },
   {
    "duration": 13,
    "start_time": "2022-05-04T22:55:50.102Z"
   },
   {
    "duration": 17,
    "start_time": "2022-05-04T22:55:50.117Z"
   },
   {
    "duration": 5,
    "start_time": "2022-05-04T22:55:50.136Z"
   },
   {
    "duration": 9,
    "start_time": "2022-05-04T22:55:50.142Z"
   },
   {
    "duration": 13,
    "start_time": "2022-05-04T22:55:50.153Z"
   },
   {
    "duration": 15,
    "start_time": "2022-05-04T22:55:50.167Z"
   },
   {
    "duration": 12,
    "start_time": "2022-05-04T22:55:50.184Z"
   },
   {
    "duration": 8,
    "start_time": "2022-05-04T22:55:50.197Z"
   },
   {
    "duration": 35,
    "start_time": "2022-05-04T22:55:50.207Z"
   },
   {
    "duration": 5,
    "start_time": "2022-05-04T22:55:50.245Z"
   },
   {
    "duration": 49,
    "start_time": "2022-05-04T22:55:50.251Z"
   },
   {
    "duration": 32,
    "start_time": "2022-05-04T22:55:50.303Z"
   },
   {
    "duration": 24,
    "start_time": "2022-05-04T22:55:50.337Z"
   },
   {
    "duration": 4,
    "start_time": "2022-05-04T22:55:50.363Z"
   },
   {
    "duration": 24,
    "start_time": "2022-05-04T22:55:50.369Z"
   },
   {
    "duration": 9,
    "start_time": "2022-05-04T22:55:50.395Z"
   },
   {
    "duration": 44,
    "start_time": "2022-05-04T22:55:50.405Z"
   },
   {
    "duration": 8,
    "start_time": "2022-05-04T22:55:50.451Z"
   },
   {
    "duration": 21,
    "start_time": "2022-05-04T22:55:50.460Z"
   },
   {
    "duration": 14,
    "start_time": "2022-05-04T22:55:50.483Z"
   },
   {
    "duration": 45,
    "start_time": "2022-05-04T22:55:50.499Z"
   },
   {
    "duration": 8,
    "start_time": "2022-05-04T22:55:50.546Z"
   },
   {
    "duration": 29,
    "start_time": "2022-05-04T22:55:50.556Z"
   },
   {
    "duration": 9,
    "start_time": "2022-05-04T22:55:50.587Z"
   },
   {
    "duration": 47,
    "start_time": "2022-05-04T22:55:50.598Z"
   },
   {
    "duration": 10,
    "start_time": "2022-05-04T22:55:50.647Z"
   },
   {
    "duration": 12,
    "start_time": "2022-05-04T22:55:50.659Z"
   },
   {
    "duration": 64,
    "start_time": "2022-05-04T22:55:50.672Z"
   },
   {
    "duration": 27,
    "start_time": "2022-05-04T22:55:50.738Z"
   },
   {
    "duration": 8,
    "start_time": "2022-05-04T22:55:50.767Z"
   },
   {
    "duration": 33,
    "start_time": "2022-05-04T22:55:50.776Z"
   },
   {
    "duration": 31,
    "start_time": "2022-05-04T22:55:50.811Z"
   },
   {
    "duration": 34,
    "start_time": "2022-05-04T22:55:50.843Z"
   },
   {
    "duration": 7,
    "start_time": "2022-05-04T22:55:50.879Z"
   },
   {
    "duration": 56,
    "start_time": "2022-05-04T22:55:50.888Z"
   },
   {
    "duration": 17,
    "start_time": "2022-05-04T22:55:50.946Z"
   },
   {
    "duration": 9,
    "start_time": "2022-05-04T22:55:50.965Z"
   },
   {
    "duration": 124,
    "start_time": "2022-05-04T22:55:50.975Z"
   },
   {
    "duration": 0,
    "start_time": "2022-05-04T22:55:51.101Z"
   },
   {
    "duration": 0,
    "start_time": "2022-05-04T22:55:51.102Z"
   },
   {
    "duration": 0,
    "start_time": "2022-05-04T22:55:51.105Z"
   },
   {
    "duration": 0,
    "start_time": "2022-05-04T22:55:51.106Z"
   },
   {
    "duration": 0,
    "start_time": "2022-05-04T22:55:51.107Z"
   },
   {
    "duration": 0,
    "start_time": "2022-05-04T22:55:51.108Z"
   },
   {
    "duration": 0,
    "start_time": "2022-05-04T22:55:51.110Z"
   },
   {
    "duration": 0,
    "start_time": "2022-05-04T22:55:51.111Z"
   },
   {
    "duration": 0,
    "start_time": "2022-05-04T22:55:51.112Z"
   },
   {
    "duration": 0,
    "start_time": "2022-05-04T22:55:51.113Z"
   },
   {
    "duration": 0,
    "start_time": "2022-05-04T22:55:51.113Z"
   },
   {
    "duration": 0,
    "start_time": "2022-05-04T22:55:51.114Z"
   },
   {
    "duration": 1236,
    "start_time": "2022-05-04T22:56:10.356Z"
   },
   {
    "duration": 306,
    "start_time": "2022-05-04T22:56:11.594Z"
   },
   {
    "duration": 14,
    "start_time": "2022-05-04T22:56:11.902Z"
   },
   {
    "duration": 14,
    "start_time": "2022-05-04T22:56:11.918Z"
   },
   {
    "duration": 4,
    "start_time": "2022-05-04T22:56:11.934Z"
   },
   {
    "duration": 12,
    "start_time": "2022-05-04T22:56:11.939Z"
   },
   {
    "duration": 13,
    "start_time": "2022-05-04T22:56:11.953Z"
   },
   {
    "duration": 13,
    "start_time": "2022-05-04T22:56:11.968Z"
   },
   {
    "duration": 10,
    "start_time": "2022-05-04T22:56:11.983Z"
   },
   {
    "duration": 5,
    "start_time": "2022-05-04T22:56:11.997Z"
   },
   {
    "duration": 37,
    "start_time": "2022-05-04T22:56:12.005Z"
   },
   {
    "duration": 6,
    "start_time": "2022-05-04T22:56:12.044Z"
   },
   {
    "duration": 46,
    "start_time": "2022-05-04T22:56:12.051Z"
   },
   {
    "duration": 9,
    "start_time": "2022-05-04T22:56:12.099Z"
   },
   {
    "duration": 27,
    "start_time": "2022-05-04T22:56:12.135Z"
   },
   {
    "duration": 5,
    "start_time": "2022-05-04T22:56:12.164Z"
   },
   {
    "duration": 18,
    "start_time": "2022-05-04T22:56:12.171Z"
   },
   {
    "duration": 9,
    "start_time": "2022-05-04T22:56:12.191Z"
   },
   {
    "duration": 43,
    "start_time": "2022-05-04T22:56:12.202Z"
   },
   {
    "duration": 7,
    "start_time": "2022-05-04T22:56:12.247Z"
   },
   {
    "duration": 16,
    "start_time": "2022-05-04T22:56:12.256Z"
   },
   {
    "duration": 13,
    "start_time": "2022-05-04T22:56:12.274Z"
   },
   {
    "duration": 49,
    "start_time": "2022-05-04T22:56:12.289Z"
   },
   {
    "duration": 9,
    "start_time": "2022-05-04T22:56:12.340Z"
   },
   {
    "duration": 29,
    "start_time": "2022-05-04T22:56:12.350Z"
   },
   {
    "duration": 9,
    "start_time": "2022-05-04T22:56:12.380Z"
   },
   {
    "duration": 45,
    "start_time": "2022-05-04T22:56:12.391Z"
   },
   {
    "duration": 10,
    "start_time": "2022-05-04T22:56:12.440Z"
   },
   {
    "duration": 11,
    "start_time": "2022-05-04T22:56:12.452Z"
   },
   {
    "duration": 46,
    "start_time": "2022-05-04T22:56:12.465Z"
   },
   {
    "duration": 44,
    "start_time": "2022-05-04T22:56:12.513Z"
   },
   {
    "duration": 8,
    "start_time": "2022-05-04T22:56:12.559Z"
   },
   {
    "duration": 33,
    "start_time": "2022-05-04T22:56:12.569Z"
   },
   {
    "duration": 31,
    "start_time": "2022-05-04T22:56:12.604Z"
   },
   {
    "duration": 32,
    "start_time": "2022-05-04T22:56:12.637Z"
   },
   {
    "duration": 8,
    "start_time": "2022-05-04T22:56:12.670Z"
   },
   {
    "duration": 57,
    "start_time": "2022-05-04T22:56:12.680Z"
   },
   {
    "duration": 17,
    "start_time": "2022-05-04T22:56:12.739Z"
   },
   {
    "duration": 27,
    "start_time": "2022-05-04T22:56:12.758Z"
   },
   {
    "duration": 123,
    "start_time": "2022-05-04T22:56:12.786Z"
   },
   {
    "duration": 0,
    "start_time": "2022-05-04T22:56:12.911Z"
   },
   {
    "duration": 0,
    "start_time": "2022-05-04T22:56:12.912Z"
   },
   {
    "duration": 0,
    "start_time": "2022-05-04T22:56:12.914Z"
   },
   {
    "duration": 0,
    "start_time": "2022-05-04T22:56:12.915Z"
   },
   {
    "duration": 0,
    "start_time": "2022-05-04T22:56:12.916Z"
   },
   {
    "duration": 0,
    "start_time": "2022-05-04T22:56:12.918Z"
   },
   {
    "duration": 0,
    "start_time": "2022-05-04T22:56:12.919Z"
   },
   {
    "duration": 0,
    "start_time": "2022-05-04T22:56:12.934Z"
   },
   {
    "duration": 0,
    "start_time": "2022-05-04T22:56:12.936Z"
   },
   {
    "duration": 0,
    "start_time": "2022-05-04T22:56:12.937Z"
   },
   {
    "duration": 0,
    "start_time": "2022-05-04T22:56:12.939Z"
   },
   {
    "duration": 0,
    "start_time": "2022-05-04T22:56:12.940Z"
   },
   {
    "duration": 11,
    "start_time": "2022-05-04T22:56:45.515Z"
   },
   {
    "duration": 8,
    "start_time": "2022-05-04T22:56:50.169Z"
   },
   {
    "duration": 10,
    "start_time": "2022-05-04T22:57:01.269Z"
   },
   {
    "duration": 6,
    "start_time": "2022-05-04T22:57:07.798Z"
   },
   {
    "duration": 7,
    "start_time": "2022-05-04T22:57:14.242Z"
   },
   {
    "duration": 1211,
    "start_time": "2022-05-04T22:57:46.074Z"
   },
   {
    "duration": 314,
    "start_time": "2022-05-04T22:57:47.287Z"
   },
   {
    "duration": 13,
    "start_time": "2022-05-04T22:57:47.603Z"
   },
   {
    "duration": 14,
    "start_time": "2022-05-04T22:57:47.618Z"
   },
   {
    "duration": 5,
    "start_time": "2022-05-04T22:57:47.634Z"
   },
   {
    "duration": 7,
    "start_time": "2022-05-04T22:57:47.640Z"
   },
   {
    "duration": 11,
    "start_time": "2022-05-04T22:57:47.649Z"
   },
   {
    "duration": 14,
    "start_time": "2022-05-04T22:57:47.661Z"
   },
   {
    "duration": 10,
    "start_time": "2022-05-04T22:57:47.677Z"
   },
   {
    "duration": 5,
    "start_time": "2022-05-04T22:57:47.689Z"
   },
   {
    "duration": 39,
    "start_time": "2022-05-04T22:57:47.696Z"
   },
   {
    "duration": 4,
    "start_time": "2022-05-04T22:57:47.737Z"
   },
   {
    "duration": 44,
    "start_time": "2022-05-04T22:57:47.743Z"
   },
   {
    "duration": 8,
    "start_time": "2022-05-04T22:57:47.789Z"
   },
   {
    "duration": 52,
    "start_time": "2022-05-04T22:57:47.798Z"
   },
   {
    "duration": 5,
    "start_time": "2022-05-04T22:57:47.852Z"
   },
   {
    "duration": 20,
    "start_time": "2022-05-04T22:57:47.858Z"
   },
   {
    "duration": 9,
    "start_time": "2022-05-04T22:57:47.880Z"
   },
   {
    "duration": 20,
    "start_time": "2022-05-04T22:57:47.891Z"
   },
   {
    "duration": 7,
    "start_time": "2022-05-04T22:57:47.934Z"
   },
   {
    "duration": 15,
    "start_time": "2022-05-04T22:57:47.943Z"
   },
   {
    "duration": 13,
    "start_time": "2022-05-04T22:57:47.960Z"
   },
   {
    "duration": 22,
    "start_time": "2022-05-04T22:57:47.975Z"
   },
   {
    "duration": 37,
    "start_time": "2022-05-04T22:57:47.999Z"
   },
   {
    "duration": 29,
    "start_time": "2022-05-04T22:57:48.038Z"
   },
   {
    "duration": 9,
    "start_time": "2022-05-04T22:57:48.069Z"
   },
   {
    "duration": 19,
    "start_time": "2022-05-04T22:57:48.080Z"
   },
   {
    "duration": 9,
    "start_time": "2022-05-04T22:57:48.103Z"
   },
   {
    "duration": 29,
    "start_time": "2022-05-04T22:57:48.113Z"
   },
   {
    "duration": 48,
    "start_time": "2022-05-04T22:57:48.143Z"
   },
   {
    "duration": 48,
    "start_time": "2022-05-04T22:57:48.193Z"
   },
   {
    "duration": 9,
    "start_time": "2022-05-04T22:57:48.243Z"
   },
   {
    "duration": 32,
    "start_time": "2022-05-04T22:57:48.253Z"
   },
   {
    "duration": 9,
    "start_time": "2022-05-04T22:57:48.287Z"
   },
   {
    "duration": 58,
    "start_time": "2022-05-04T22:57:48.298Z"
   },
   {
    "duration": 9,
    "start_time": "2022-05-04T22:57:48.357Z"
   },
   {
    "duration": 33,
    "start_time": "2022-05-04T22:57:48.367Z"
   },
   {
    "duration": 39,
    "start_time": "2022-05-04T22:57:48.401Z"
   },
   {
    "duration": 25,
    "start_time": "2022-05-04T22:57:48.442Z"
   },
   {
    "duration": 5,
    "start_time": "2022-05-04T22:57:48.469Z"
   },
   {
    "duration": 121,
    "start_time": "2022-05-04T22:57:48.476Z"
   },
   {
    "duration": 0,
    "start_time": "2022-05-04T22:57:48.599Z"
   },
   {
    "duration": 0,
    "start_time": "2022-05-04T22:57:48.600Z"
   },
   {
    "duration": 0,
    "start_time": "2022-05-04T22:57:48.601Z"
   },
   {
    "duration": 0,
    "start_time": "2022-05-04T22:57:48.602Z"
   },
   {
    "duration": 0,
    "start_time": "2022-05-04T22:57:48.603Z"
   },
   {
    "duration": 0,
    "start_time": "2022-05-04T22:57:48.605Z"
   },
   {
    "duration": 0,
    "start_time": "2022-05-04T22:57:48.606Z"
   },
   {
    "duration": 0,
    "start_time": "2022-05-04T22:57:48.607Z"
   },
   {
    "duration": 0,
    "start_time": "2022-05-04T22:57:48.608Z"
   },
   {
    "duration": 0,
    "start_time": "2022-05-04T22:57:48.610Z"
   },
   {
    "duration": 0,
    "start_time": "2022-05-04T22:57:48.611Z"
   },
   {
    "duration": 0,
    "start_time": "2022-05-04T22:57:48.612Z"
   },
   {
    "duration": 21,
    "start_time": "2022-05-04T22:58:30.662Z"
   },
   {
    "duration": 1258,
    "start_time": "2022-05-04T22:59:17.421Z"
   },
   {
    "duration": 312,
    "start_time": "2022-05-04T22:59:18.681Z"
   },
   {
    "duration": 13,
    "start_time": "2022-05-04T22:59:18.995Z"
   },
   {
    "duration": 16,
    "start_time": "2022-05-04T22:59:19.010Z"
   },
   {
    "duration": 6,
    "start_time": "2022-05-04T22:59:19.028Z"
   },
   {
    "duration": 11,
    "start_time": "2022-05-04T22:59:19.035Z"
   },
   {
    "duration": 13,
    "start_time": "2022-05-04T22:59:19.048Z"
   },
   {
    "duration": 14,
    "start_time": "2022-05-04T22:59:19.063Z"
   },
   {
    "duration": 11,
    "start_time": "2022-05-04T22:59:19.079Z"
   },
   {
    "duration": 7,
    "start_time": "2022-05-04T22:59:19.093Z"
   },
   {
    "duration": 33,
    "start_time": "2022-05-04T22:59:19.102Z"
   },
   {
    "duration": 6,
    "start_time": "2022-05-04T22:59:19.136Z"
   },
   {
    "duration": 50,
    "start_time": "2022-05-04T22:59:19.143Z"
   },
   {
    "duration": 8,
    "start_time": "2022-05-04T22:59:19.195Z"
   },
   {
    "duration": 50,
    "start_time": "2022-05-04T22:59:19.205Z"
   },
   {
    "duration": 5,
    "start_time": "2022-05-04T22:59:19.256Z"
   },
   {
    "duration": 20,
    "start_time": "2022-05-04T22:59:19.262Z"
   },
   {
    "duration": 9,
    "start_time": "2022-05-04T22:59:19.284Z"
   },
   {
    "duration": 42,
    "start_time": "2022-05-04T22:59:19.295Z"
   },
   {
    "duration": 7,
    "start_time": "2022-05-04T22:59:19.339Z"
   },
   {
    "duration": 17,
    "start_time": "2022-05-04T22:59:19.348Z"
   },
   {
    "duration": 13,
    "start_time": "2022-05-04T22:59:19.367Z"
   },
   {
    "duration": 52,
    "start_time": "2022-05-04T22:59:19.382Z"
   },
   {
    "duration": 9,
    "start_time": "2022-05-04T22:59:19.436Z"
   },
   {
    "duration": 27,
    "start_time": "2022-05-04T22:59:19.447Z"
   },
   {
    "duration": 10,
    "start_time": "2022-05-04T22:59:19.476Z"
   },
   {
    "duration": 47,
    "start_time": "2022-05-04T22:59:19.487Z"
   },
   {
    "duration": 10,
    "start_time": "2022-05-04T22:59:19.537Z"
   },
   {
    "duration": 13,
    "start_time": "2022-05-04T22:59:19.548Z"
   },
   {
    "duration": 48,
    "start_time": "2022-05-04T22:59:19.563Z"
   },
   {
    "duration": 46,
    "start_time": "2022-05-04T22:59:19.612Z"
   },
   {
    "duration": 8,
    "start_time": "2022-05-04T22:59:19.659Z"
   },
   {
    "duration": 32,
    "start_time": "2022-05-04T22:59:19.669Z"
   },
   {
    "duration": 31,
    "start_time": "2022-05-04T22:59:19.703Z"
   },
   {
    "duration": 31,
    "start_time": "2022-05-04T22:59:19.736Z"
   },
   {
    "duration": 8,
    "start_time": "2022-05-04T22:59:19.768Z"
   },
   {
    "duration": 60,
    "start_time": "2022-05-04T22:59:19.778Z"
   },
   {
    "duration": 16,
    "start_time": "2022-05-04T22:59:19.840Z"
   },
   {
    "duration": 26,
    "start_time": "2022-05-04T22:59:19.858Z"
   },
   {
    "duration": 18,
    "start_time": "2022-05-04T22:59:19.886Z"
   },
   {
    "duration": 129,
    "start_time": "2022-05-04T22:59:19.906Z"
   },
   {
    "duration": 0,
    "start_time": "2022-05-04T22:59:20.037Z"
   },
   {
    "duration": 0,
    "start_time": "2022-05-04T22:59:20.038Z"
   },
   {
    "duration": 0,
    "start_time": "2022-05-04T22:59:20.039Z"
   },
   {
    "duration": 0,
    "start_time": "2022-05-04T22:59:20.040Z"
   },
   {
    "duration": 0,
    "start_time": "2022-05-04T22:59:20.041Z"
   },
   {
    "duration": 0,
    "start_time": "2022-05-04T22:59:20.042Z"
   },
   {
    "duration": 0,
    "start_time": "2022-05-04T22:59:20.043Z"
   },
   {
    "duration": 0,
    "start_time": "2022-05-04T22:59:20.044Z"
   },
   {
    "duration": 0,
    "start_time": "2022-05-04T22:59:20.045Z"
   },
   {
    "duration": 0,
    "start_time": "2022-05-04T22:59:20.047Z"
   },
   {
    "duration": 0,
    "start_time": "2022-05-04T22:59:20.048Z"
   },
   {
    "duration": 0,
    "start_time": "2022-05-04T22:59:20.049Z"
   },
   {
    "duration": 1292,
    "start_time": "2022-05-04T22:59:53.359Z"
   },
   {
    "duration": 312,
    "start_time": "2022-05-04T22:59:54.653Z"
   },
   {
    "duration": 14,
    "start_time": "2022-05-04T22:59:54.967Z"
   },
   {
    "duration": 18,
    "start_time": "2022-05-04T22:59:54.983Z"
   },
   {
    "duration": 5,
    "start_time": "2022-05-04T22:59:55.003Z"
   },
   {
    "duration": 15,
    "start_time": "2022-05-04T22:59:55.010Z"
   },
   {
    "duration": 14,
    "start_time": "2022-05-04T22:59:55.027Z"
   },
   {
    "duration": 21,
    "start_time": "2022-05-04T22:59:55.043Z"
   },
   {
    "duration": 16,
    "start_time": "2022-05-04T22:59:55.066Z"
   },
   {
    "duration": 5,
    "start_time": "2022-05-04T22:59:55.085Z"
   },
   {
    "duration": 11,
    "start_time": "2022-05-04T22:59:55.092Z"
   },
   {
    "duration": 28,
    "start_time": "2022-05-04T22:59:55.105Z"
   },
   {
    "duration": 48,
    "start_time": "2022-05-04T22:59:55.135Z"
   },
   {
    "duration": 8,
    "start_time": "2022-05-04T22:59:55.185Z"
   },
   {
    "duration": 49,
    "start_time": "2022-05-04T22:59:55.195Z"
   },
   {
    "duration": 4,
    "start_time": "2022-05-04T22:59:55.246Z"
   },
   {
    "duration": 19,
    "start_time": "2022-05-04T22:59:55.252Z"
   },
   {
    "duration": 9,
    "start_time": "2022-05-04T22:59:55.273Z"
   },
   {
    "duration": 22,
    "start_time": "2022-05-04T22:59:55.284Z"
   },
   {
    "duration": 31,
    "start_time": "2022-05-04T22:59:55.308Z"
   },
   {
    "duration": 16,
    "start_time": "2022-05-04T22:59:55.340Z"
   },
   {
    "duration": 14,
    "start_time": "2022-05-04T22:59:55.358Z"
   },
   {
    "duration": 23,
    "start_time": "2022-05-04T22:59:55.374Z"
   },
   {
    "duration": 41,
    "start_time": "2022-05-04T22:59:55.399Z"
   },
   {
    "duration": 28,
    "start_time": "2022-05-04T22:59:55.442Z"
   },
   {
    "duration": 9,
    "start_time": "2022-05-04T22:59:55.472Z"
   },
   {
    "duration": 21,
    "start_time": "2022-05-04T22:59:55.482Z"
   },
   {
    "duration": 27,
    "start_time": "2022-05-04T22:59:55.507Z"
   },
   {
    "duration": 10,
    "start_time": "2022-05-04T22:59:55.536Z"
   },
   {
    "duration": 49,
    "start_time": "2022-05-04T22:59:55.547Z"
   },
   {
    "duration": 48,
    "start_time": "2022-05-04T22:59:55.597Z"
   },
   {
    "duration": 7,
    "start_time": "2022-05-04T22:59:55.647Z"
   },
   {
    "duration": 34,
    "start_time": "2022-05-04T22:59:55.656Z"
   },
   {
    "duration": 9,
    "start_time": "2022-05-04T22:59:55.691Z"
   },
   {
    "duration": 53,
    "start_time": "2022-05-04T22:59:55.701Z"
   },
   {
    "duration": 7,
    "start_time": "2022-05-04T22:59:55.756Z"
   },
   {
    "duration": 33,
    "start_time": "2022-05-04T22:59:55.765Z"
   },
   {
    "duration": 37,
    "start_time": "2022-05-04T22:59:55.800Z"
   },
   {
    "duration": 24,
    "start_time": "2022-05-04T22:59:55.839Z"
   },
   {
    "duration": 19,
    "start_time": "2022-05-04T22:59:55.865Z"
   },
   {
    "duration": 125,
    "start_time": "2022-05-04T22:59:55.886Z"
   },
   {
    "duration": 0,
    "start_time": "2022-05-04T22:59:56.012Z"
   },
   {
    "duration": 0,
    "start_time": "2022-05-04T22:59:56.013Z"
   },
   {
    "duration": 0,
    "start_time": "2022-05-04T22:59:56.014Z"
   },
   {
    "duration": 0,
    "start_time": "2022-05-04T22:59:56.015Z"
   },
   {
    "duration": 0,
    "start_time": "2022-05-04T22:59:56.016Z"
   },
   {
    "duration": 0,
    "start_time": "2022-05-04T22:59:56.017Z"
   },
   {
    "duration": 0,
    "start_time": "2022-05-04T22:59:56.018Z"
   },
   {
    "duration": 0,
    "start_time": "2022-05-04T22:59:56.019Z"
   },
   {
    "duration": 0,
    "start_time": "2022-05-04T22:59:56.021Z"
   },
   {
    "duration": 0,
    "start_time": "2022-05-04T22:59:56.033Z"
   },
   {
    "duration": 0,
    "start_time": "2022-05-04T22:59:56.034Z"
   },
   {
    "duration": 0,
    "start_time": "2022-05-04T22:59:56.035Z"
   },
   {
    "duration": 35,
    "start_time": "2022-05-04T23:02:06.297Z"
   },
   {
    "duration": 39,
    "start_time": "2022-05-04T23:02:17.371Z"
   },
   {
    "duration": 13,
    "start_time": "2022-05-04T23:02:22.233Z"
   },
   {
    "duration": 1236,
    "start_time": "2022-05-04T23:04:23.285Z"
   },
   {
    "duration": 339,
    "start_time": "2022-05-04T23:04:24.523Z"
   },
   {
    "duration": 12,
    "start_time": "2022-05-04T23:04:24.864Z"
   },
   {
    "duration": 17,
    "start_time": "2022-05-04T23:04:24.879Z"
   },
   {
    "duration": 4,
    "start_time": "2022-05-04T23:04:24.898Z"
   },
   {
    "duration": 12,
    "start_time": "2022-05-04T23:04:24.904Z"
   },
   {
    "duration": 17,
    "start_time": "2022-05-04T23:04:24.917Z"
   },
   {
    "duration": 15,
    "start_time": "2022-05-04T23:04:24.936Z"
   },
   {
    "duration": 15,
    "start_time": "2022-05-04T23:04:24.953Z"
   },
   {
    "duration": 9,
    "start_time": "2022-05-04T23:04:24.972Z"
   },
   {
    "duration": 13,
    "start_time": "2022-05-04T23:04:24.982Z"
   },
   {
    "duration": 8,
    "start_time": "2022-05-04T23:04:24.997Z"
   },
   {
    "duration": 67,
    "start_time": "2022-05-04T23:04:25.007Z"
   },
   {
    "duration": 9,
    "start_time": "2022-05-04T23:04:25.077Z"
   },
   {
    "duration": 60,
    "start_time": "2022-05-04T23:04:25.088Z"
   },
   {
    "duration": 5,
    "start_time": "2022-05-04T23:04:25.150Z"
   },
   {
    "duration": 25,
    "start_time": "2022-05-04T23:04:25.157Z"
   },
   {
    "duration": 10,
    "start_time": "2022-05-04T23:04:25.184Z"
   },
   {
    "duration": 48,
    "start_time": "2022-05-04T23:04:25.196Z"
   },
   {
    "duration": 9,
    "start_time": "2022-05-04T23:04:25.246Z"
   },
   {
    "duration": 25,
    "start_time": "2022-05-04T23:04:25.257Z"
   },
   {
    "duration": 14,
    "start_time": "2022-05-04T23:04:25.284Z"
   },
   {
    "duration": 54,
    "start_time": "2022-05-04T23:04:25.300Z"
   },
   {
    "duration": 9,
    "start_time": "2022-05-04T23:04:25.355Z"
   },
   {
    "duration": 28,
    "start_time": "2022-05-04T23:04:25.366Z"
   },
   {
    "duration": 9,
    "start_time": "2022-05-04T23:04:25.396Z"
   },
   {
    "duration": 17,
    "start_time": "2022-05-04T23:04:25.434Z"
   },
   {
    "duration": 9,
    "start_time": "2022-05-04T23:04:25.455Z"
   },
   {
    "duration": 11,
    "start_time": "2022-05-04T23:04:25.466Z"
   },
   {
    "duration": 72,
    "start_time": "2022-05-04T23:04:25.479Z"
   },
   {
    "duration": 27,
    "start_time": "2022-05-04T23:04:25.553Z"
   },
   {
    "duration": 8,
    "start_time": "2022-05-04T23:04:25.582Z"
   },
   {
    "duration": 51,
    "start_time": "2022-05-04T23:04:25.592Z"
   },
   {
    "duration": 10,
    "start_time": "2022-05-04T23:04:25.645Z"
   },
   {
    "duration": 32,
    "start_time": "2022-05-04T23:04:25.656Z"
   },
   {
    "duration": 8,
    "start_time": "2022-05-04T23:04:25.690Z"
   },
   {
    "duration": 63,
    "start_time": "2022-05-04T23:04:25.700Z"
   },
   {
    "duration": 17,
    "start_time": "2022-05-04T23:04:25.765Z"
   },
   {
    "duration": 123,
    "start_time": "2022-05-04T23:04:25.783Z"
   },
   {
    "duration": 0,
    "start_time": "2022-05-04T23:04:25.908Z"
   },
   {
    "duration": 0,
    "start_time": "2022-05-04T23:04:25.910Z"
   },
   {
    "duration": 0,
    "start_time": "2022-05-04T23:04:25.911Z"
   },
   {
    "duration": 0,
    "start_time": "2022-05-04T23:04:25.913Z"
   },
   {
    "duration": 0,
    "start_time": "2022-05-04T23:04:25.914Z"
   },
   {
    "duration": 0,
    "start_time": "2022-05-04T23:04:25.915Z"
   },
   {
    "duration": 0,
    "start_time": "2022-05-04T23:04:25.916Z"
   },
   {
    "duration": 0,
    "start_time": "2022-05-04T23:04:25.934Z"
   },
   {
    "duration": 0,
    "start_time": "2022-05-04T23:04:25.935Z"
   },
   {
    "duration": 0,
    "start_time": "2022-05-04T23:04:25.936Z"
   },
   {
    "duration": 0,
    "start_time": "2022-05-04T23:04:25.938Z"
   },
   {
    "duration": 0,
    "start_time": "2022-05-04T23:04:25.939Z"
   },
   {
    "duration": 0,
    "start_time": "2022-05-04T23:04:25.940Z"
   },
   {
    "duration": 0,
    "start_time": "2022-05-04T23:04:25.942Z"
   },
   {
    "duration": 0,
    "start_time": "2022-05-04T23:04:25.943Z"
   },
   {
    "duration": 15,
    "start_time": "2022-05-04T23:05:44.447Z"
   },
   {
    "duration": 12,
    "start_time": "2022-05-04T23:07:04.017Z"
   },
   {
    "duration": 12,
    "start_time": "2022-05-04T23:07:20.236Z"
   },
   {
    "duration": 32,
    "start_time": "2022-05-04T23:07:56.719Z"
   },
   {
    "duration": 1286,
    "start_time": "2022-05-04T23:08:40.427Z"
   },
   {
    "duration": 315,
    "start_time": "2022-05-04T23:08:41.715Z"
   },
   {
    "duration": 12,
    "start_time": "2022-05-04T23:08:42.031Z"
   },
   {
    "duration": 15,
    "start_time": "2022-05-04T23:08:42.045Z"
   },
   {
    "duration": 4,
    "start_time": "2022-05-04T23:08:42.062Z"
   },
   {
    "duration": 9,
    "start_time": "2022-05-04T23:08:42.068Z"
   },
   {
    "duration": 12,
    "start_time": "2022-05-04T23:08:42.079Z"
   },
   {
    "duration": 14,
    "start_time": "2022-05-04T23:08:42.092Z"
   },
   {
    "duration": 12,
    "start_time": "2022-05-04T23:08:42.132Z"
   },
   {
    "duration": 6,
    "start_time": "2022-05-04T23:08:42.147Z"
   },
   {
    "duration": 12,
    "start_time": "2022-05-04T23:08:42.155Z"
   },
   {
    "duration": 6,
    "start_time": "2022-05-04T23:08:42.169Z"
   },
   {
    "duration": 74,
    "start_time": "2022-05-04T23:08:42.177Z"
   },
   {
    "duration": 8,
    "start_time": "2022-05-04T23:08:42.253Z"
   },
   {
    "duration": 33,
    "start_time": "2022-05-04T23:08:42.263Z"
   },
   {
    "duration": 4,
    "start_time": "2022-05-04T23:08:42.298Z"
   },
   {
    "duration": 40,
    "start_time": "2022-05-04T23:08:42.304Z"
   },
   {
    "duration": 9,
    "start_time": "2022-05-04T23:08:42.346Z"
   },
   {
    "duration": 21,
    "start_time": "2022-05-04T23:08:42.357Z"
   },
   {
    "duration": 7,
    "start_time": "2022-05-04T23:08:42.380Z"
   },
   {
    "duration": 45,
    "start_time": "2022-05-04T23:08:42.389Z"
   },
   {
    "duration": 14,
    "start_time": "2022-05-04T23:08:42.435Z"
   },
   {
    "duration": 24,
    "start_time": "2022-05-04T23:08:42.451Z"
   },
   {
    "duration": 8,
    "start_time": "2022-05-04T23:08:42.477Z"
   },
   {
    "duration": 55,
    "start_time": "2022-05-04T23:08:42.486Z"
   },
   {
    "duration": 8,
    "start_time": "2022-05-04T23:08:42.543Z"
   },
   {
    "duration": 39,
    "start_time": "2022-05-04T23:08:42.552Z"
   },
   {
    "duration": 9,
    "start_time": "2022-05-04T23:08:42.595Z"
   },
   {
    "duration": 21,
    "start_time": "2022-05-04T23:08:42.605Z"
   },
   {
    "duration": 59,
    "start_time": "2022-05-04T23:08:42.627Z"
   },
   {
    "duration": 25,
    "start_time": "2022-05-04T23:08:42.688Z"
   },
   {
    "duration": 19,
    "start_time": "2022-05-04T23:08:42.715Z"
   },
   {
    "duration": 39,
    "start_time": "2022-05-04T23:08:42.735Z"
   },
   {
    "duration": 9,
    "start_time": "2022-05-04T23:08:42.776Z"
   },
   {
    "duration": 49,
    "start_time": "2022-05-04T23:08:42.787Z"
   },
   {
    "duration": 8,
    "start_time": "2022-05-04T23:08:42.838Z"
   },
   {
    "duration": 33,
    "start_time": "2022-05-04T23:08:42.848Z"
   },
   {
    "duration": 16,
    "start_time": "2022-05-04T23:08:42.883Z"
   },
   {
    "duration": 62,
    "start_time": "2022-05-04T23:08:42.900Z"
   },
   {
    "duration": 111,
    "start_time": "2022-05-04T23:08:42.963Z"
   },
   {
    "duration": 0,
    "start_time": "2022-05-04T23:08:43.076Z"
   },
   {
    "duration": 0,
    "start_time": "2022-05-04T23:08:43.077Z"
   },
   {
    "duration": 0,
    "start_time": "2022-05-04T23:08:43.078Z"
   },
   {
    "duration": 0,
    "start_time": "2022-05-04T23:08:43.079Z"
   },
   {
    "duration": 0,
    "start_time": "2022-05-04T23:08:43.080Z"
   },
   {
    "duration": 0,
    "start_time": "2022-05-04T23:08:43.081Z"
   },
   {
    "duration": 0,
    "start_time": "2022-05-04T23:08:43.082Z"
   },
   {
    "duration": 0,
    "start_time": "2022-05-04T23:08:43.083Z"
   },
   {
    "duration": 0,
    "start_time": "2022-05-04T23:08:43.083Z"
   },
   {
    "duration": 0,
    "start_time": "2022-05-04T23:08:43.084Z"
   },
   {
    "duration": 0,
    "start_time": "2022-05-04T23:08:43.085Z"
   },
   {
    "duration": 0,
    "start_time": "2022-05-04T23:08:43.086Z"
   },
   {
    "duration": 0,
    "start_time": "2022-05-04T23:08:43.088Z"
   },
   {
    "duration": 0,
    "start_time": "2022-05-04T23:08:43.089Z"
   },
   {
    "duration": 1233,
    "start_time": "2022-05-04T23:09:08.854Z"
   },
   {
    "duration": 319,
    "start_time": "2022-05-04T23:09:10.090Z"
   },
   {
    "duration": 12,
    "start_time": "2022-05-04T23:09:10.411Z"
   },
   {
    "duration": 16,
    "start_time": "2022-05-04T23:09:10.425Z"
   },
   {
    "duration": 8,
    "start_time": "2022-05-04T23:09:10.443Z"
   },
   {
    "duration": 12,
    "start_time": "2022-05-04T23:09:10.453Z"
   },
   {
    "duration": 12,
    "start_time": "2022-05-04T23:09:10.467Z"
   },
   {
    "duration": 12,
    "start_time": "2022-05-04T23:09:10.481Z"
   },
   {
    "duration": 13,
    "start_time": "2022-05-04T23:09:10.495Z"
   },
   {
    "duration": 28,
    "start_time": "2022-05-04T23:09:10.511Z"
   },
   {
    "duration": 10,
    "start_time": "2022-05-04T23:09:10.541Z"
   },
   {
    "duration": 5,
    "start_time": "2022-05-04T23:09:10.553Z"
   },
   {
    "duration": 49,
    "start_time": "2022-05-04T23:09:10.560Z"
   },
   {
    "duration": 25,
    "start_time": "2022-05-04T23:09:10.611Z"
   },
   {
    "duration": 29,
    "start_time": "2022-05-04T23:09:10.638Z"
   },
   {
    "duration": 5,
    "start_time": "2022-05-04T23:09:10.669Z"
   },
   {
    "duration": 20,
    "start_time": "2022-05-04T23:09:10.676Z"
   },
   {
    "duration": 39,
    "start_time": "2022-05-04T23:09:10.698Z"
   },
   {
    "duration": 21,
    "start_time": "2022-05-04T23:09:10.739Z"
   },
   {
    "duration": 7,
    "start_time": "2022-05-04T23:09:10.762Z"
   },
   {
    "duration": 17,
    "start_time": "2022-05-04T23:09:10.771Z"
   },
   {
    "duration": 47,
    "start_time": "2022-05-04T23:09:10.790Z"
   },
   {
    "duration": 22,
    "start_time": "2022-05-04T23:09:10.839Z"
   },
   {
    "duration": 8,
    "start_time": "2022-05-04T23:09:10.863Z"
   },
   {
    "duration": 27,
    "start_time": "2022-05-04T23:09:10.873Z"
   },
   {
    "duration": 38,
    "start_time": "2022-05-04T23:09:10.902Z"
   },
   {
    "duration": 20,
    "start_time": "2022-05-04T23:09:10.942Z"
   },
   {
    "duration": 9,
    "start_time": "2022-05-04T23:09:10.966Z"
   },
   {
    "duration": 20,
    "start_time": "2022-05-04T23:09:10.977Z"
   },
   {
    "duration": 75,
    "start_time": "2022-05-04T23:09:10.999Z"
   },
   {
    "duration": 26,
    "start_time": "2022-05-04T23:09:11.076Z"
   },
   {
    "duration": 9,
    "start_time": "2022-05-04T23:09:11.104Z"
   },
   {
    "duration": 31,
    "start_time": "2022-05-04T23:09:11.134Z"
   },
   {
    "duration": 9,
    "start_time": "2022-05-04T23:09:11.167Z"
   },
   {
    "duration": 56,
    "start_time": "2022-05-04T23:09:11.178Z"
   },
   {
    "duration": 9,
    "start_time": "2022-05-04T23:09:11.236Z"
   },
   {
    "duration": 43,
    "start_time": "2022-05-04T23:09:11.246Z"
   },
   {
    "duration": 17,
    "start_time": "2022-05-04T23:09:11.291Z"
   },
   {
    "duration": 57,
    "start_time": "2022-05-04T23:09:11.310Z"
   },
   {
    "duration": 116,
    "start_time": "2022-05-04T23:09:11.369Z"
   },
   {
    "duration": 0,
    "start_time": "2022-05-04T23:09:11.487Z"
   },
   {
    "duration": 0,
    "start_time": "2022-05-04T23:09:11.488Z"
   },
   {
    "duration": 0,
    "start_time": "2022-05-04T23:09:11.489Z"
   },
   {
    "duration": 0,
    "start_time": "2022-05-04T23:09:11.490Z"
   },
   {
    "duration": 0,
    "start_time": "2022-05-04T23:09:11.491Z"
   },
   {
    "duration": 0,
    "start_time": "2022-05-04T23:09:11.493Z"
   },
   {
    "duration": 0,
    "start_time": "2022-05-04T23:09:11.494Z"
   },
   {
    "duration": 0,
    "start_time": "2022-05-04T23:09:11.495Z"
   },
   {
    "duration": 0,
    "start_time": "2022-05-04T23:09:11.496Z"
   },
   {
    "duration": 0,
    "start_time": "2022-05-04T23:09:11.497Z"
   },
   {
    "duration": 0,
    "start_time": "2022-05-04T23:09:11.498Z"
   },
   {
    "duration": 0,
    "start_time": "2022-05-04T23:09:11.498Z"
   },
   {
    "duration": 0,
    "start_time": "2022-05-04T23:09:11.500Z"
   },
   {
    "duration": 0,
    "start_time": "2022-05-04T23:09:11.502Z"
   },
   {
    "duration": 1236,
    "start_time": "2022-05-04T23:10:29.755Z"
   },
   {
    "duration": 328,
    "start_time": "2022-05-04T23:10:30.993Z"
   },
   {
    "duration": 14,
    "start_time": "2022-05-04T23:10:31.323Z"
   },
   {
    "duration": 21,
    "start_time": "2022-05-04T23:10:31.340Z"
   },
   {
    "duration": 11,
    "start_time": "2022-05-04T23:10:31.363Z"
   },
   {
    "duration": 13,
    "start_time": "2022-05-04T23:10:31.375Z"
   },
   {
    "duration": 30,
    "start_time": "2022-05-04T23:10:31.390Z"
   },
   {
    "duration": 24,
    "start_time": "2022-05-04T23:10:31.422Z"
   },
   {
    "duration": 19,
    "start_time": "2022-05-04T23:10:31.448Z"
   },
   {
    "duration": 10,
    "start_time": "2022-05-04T23:10:31.471Z"
   },
   {
    "duration": 13,
    "start_time": "2022-05-04T23:10:31.483Z"
   },
   {
    "duration": 11,
    "start_time": "2022-05-04T23:10:31.498Z"
   },
   {
    "duration": 58,
    "start_time": "2022-05-04T23:10:31.511Z"
   },
   {
    "duration": 9,
    "start_time": "2022-05-04T23:10:31.571Z"
   },
   {
    "duration": 30,
    "start_time": "2022-05-04T23:10:31.582Z"
   },
   {
    "duration": 19,
    "start_time": "2022-05-04T23:10:31.614Z"
   },
   {
    "duration": 18,
    "start_time": "2022-05-04T23:10:31.635Z"
   },
   {
    "duration": 10,
    "start_time": "2022-05-04T23:10:31.655Z"
   },
   {
    "duration": 27,
    "start_time": "2022-05-04T23:10:31.667Z"
   },
   {
    "duration": 37,
    "start_time": "2022-05-04T23:10:31.697Z"
   },
   {
    "duration": 14,
    "start_time": "2022-05-04T23:10:31.736Z"
   },
   {
    "duration": 18,
    "start_time": "2022-05-04T23:10:31.752Z"
   },
   {
    "duration": 24,
    "start_time": "2022-05-04T23:10:31.772Z"
   },
   {
    "duration": 37,
    "start_time": "2022-05-04T23:10:31.797Z"
   },
   {
    "duration": 24,
    "start_time": "2022-05-04T23:10:31.836Z"
   },
   {
    "duration": 9,
    "start_time": "2022-05-04T23:10:31.862Z"
   },
   {
    "duration": 21,
    "start_time": "2022-05-04T23:10:31.872Z"
   },
   {
    "duration": 9,
    "start_time": "2022-05-04T23:10:31.897Z"
   },
   {
    "duration": 10,
    "start_time": "2022-05-04T23:10:31.934Z"
   },
   {
    "duration": 50,
    "start_time": "2022-05-04T23:10:31.945Z"
   },
   {
    "duration": 52,
    "start_time": "2022-05-04T23:10:31.997Z"
   },
   {
    "duration": 8,
    "start_time": "2022-05-04T23:10:32.051Z"
   },
   {
    "duration": 33,
    "start_time": "2022-05-04T23:10:32.061Z"
   },
   {
    "duration": 9,
    "start_time": "2022-05-04T23:10:32.096Z"
   },
   {
    "duration": 53,
    "start_time": "2022-05-04T23:10:32.106Z"
   },
   {
    "duration": 9,
    "start_time": "2022-05-04T23:10:32.161Z"
   },
   {
    "duration": 37,
    "start_time": "2022-05-04T23:10:32.171Z"
   },
   {
    "duration": 37,
    "start_time": "2022-05-04T23:10:32.210Z"
   },
   {
    "duration": 27,
    "start_time": "2022-05-04T23:10:32.249Z"
   },
   {
    "duration": 121,
    "start_time": "2022-05-04T23:10:32.278Z"
   },
   {
    "duration": 0,
    "start_time": "2022-05-04T23:10:32.401Z"
   },
   {
    "duration": 0,
    "start_time": "2022-05-04T23:10:32.402Z"
   },
   {
    "duration": 0,
    "start_time": "2022-05-04T23:10:32.403Z"
   },
   {
    "duration": 0,
    "start_time": "2022-05-04T23:10:32.404Z"
   },
   {
    "duration": 0,
    "start_time": "2022-05-04T23:10:32.406Z"
   },
   {
    "duration": 0,
    "start_time": "2022-05-04T23:10:32.407Z"
   },
   {
    "duration": 0,
    "start_time": "2022-05-04T23:10:32.408Z"
   },
   {
    "duration": 0,
    "start_time": "2022-05-04T23:10:32.409Z"
   },
   {
    "duration": 0,
    "start_time": "2022-05-04T23:10:32.410Z"
   },
   {
    "duration": 0,
    "start_time": "2022-05-04T23:10:32.411Z"
   },
   {
    "duration": 0,
    "start_time": "2022-05-04T23:10:32.412Z"
   },
   {
    "duration": 0,
    "start_time": "2022-05-04T23:10:32.414Z"
   },
   {
    "duration": 0,
    "start_time": "2022-05-04T23:10:32.434Z"
   },
   {
    "duration": 0,
    "start_time": "2022-05-04T23:10:32.435Z"
   },
   {
    "duration": 1263,
    "start_time": "2022-05-04T23:11:27.806Z"
   },
   {
    "duration": 311,
    "start_time": "2022-05-04T23:11:29.071Z"
   },
   {
    "duration": 13,
    "start_time": "2022-05-04T23:11:29.384Z"
   },
   {
    "duration": 15,
    "start_time": "2022-05-04T23:11:29.399Z"
   },
   {
    "duration": 5,
    "start_time": "2022-05-04T23:11:29.416Z"
   },
   {
    "duration": 10,
    "start_time": "2022-05-04T23:11:29.423Z"
   },
   {
    "duration": 13,
    "start_time": "2022-05-04T23:11:29.435Z"
   },
   {
    "duration": 16,
    "start_time": "2022-05-04T23:11:29.451Z"
   },
   {
    "duration": 14,
    "start_time": "2022-05-04T23:11:29.469Z"
   },
   {
    "duration": 8,
    "start_time": "2022-05-04T23:11:29.485Z"
   },
   {
    "duration": 40,
    "start_time": "2022-05-04T23:11:29.495Z"
   },
   {
    "duration": 6,
    "start_time": "2022-05-04T23:11:29.537Z"
   },
   {
    "duration": 44,
    "start_time": "2022-05-04T23:11:29.544Z"
   },
   {
    "duration": 8,
    "start_time": "2022-05-04T23:11:29.592Z"
   },
   {
    "duration": 47,
    "start_time": "2022-05-04T23:11:29.602Z"
   },
   {
    "duration": 5,
    "start_time": "2022-05-04T23:11:29.651Z"
   },
   {
    "duration": 18,
    "start_time": "2022-05-04T23:11:29.657Z"
   },
   {
    "duration": 10,
    "start_time": "2022-05-04T23:11:29.677Z"
   },
   {
    "duration": 46,
    "start_time": "2022-05-04T23:11:29.688Z"
   },
   {
    "duration": 7,
    "start_time": "2022-05-04T23:11:29.736Z"
   },
   {
    "duration": 15,
    "start_time": "2022-05-04T23:11:29.745Z"
   },
   {
    "duration": 13,
    "start_time": "2022-05-04T23:11:29.762Z"
   },
   {
    "duration": 22,
    "start_time": "2022-05-04T23:11:29.776Z"
   },
   {
    "duration": 37,
    "start_time": "2022-05-04T23:11:29.800Z"
   },
   {
    "duration": 28,
    "start_time": "2022-05-04T23:11:29.839Z"
   },
   {
    "duration": 9,
    "start_time": "2022-05-04T23:11:29.868Z"
   },
   {
    "duration": 20,
    "start_time": "2022-05-04T23:11:29.878Z"
   },
   {
    "duration": 9,
    "start_time": "2022-05-04T23:11:29.900Z"
   },
   {
    "duration": 9,
    "start_time": "2022-05-04T23:11:29.934Z"
   },
   {
    "duration": 46,
    "start_time": "2022-05-04T23:11:29.944Z"
   },
   {
    "duration": 49,
    "start_time": "2022-05-04T23:11:29.992Z"
   },
   {
    "duration": 8,
    "start_time": "2022-05-04T23:11:30.043Z"
   },
   {
    "duration": 32,
    "start_time": "2022-05-04T23:11:30.053Z"
   },
   {
    "duration": 9,
    "start_time": "2022-05-04T23:11:30.087Z"
   },
   {
    "duration": 57,
    "start_time": "2022-05-04T23:11:30.098Z"
   },
   {
    "duration": 9,
    "start_time": "2022-05-04T23:11:30.156Z"
   },
   {
    "duration": 39,
    "start_time": "2022-05-04T23:11:30.166Z"
   },
   {
    "duration": 33,
    "start_time": "2022-05-04T23:11:30.207Z"
   },
   {
    "duration": 25,
    "start_time": "2022-05-04T23:11:30.242Z"
   },
   {
    "duration": 117,
    "start_time": "2022-05-04T23:11:30.269Z"
   },
   {
    "duration": 0,
    "start_time": "2022-05-04T23:11:30.389Z"
   },
   {
    "duration": 0,
    "start_time": "2022-05-04T23:11:30.390Z"
   },
   {
    "duration": 0,
    "start_time": "2022-05-04T23:11:30.392Z"
   },
   {
    "duration": 0,
    "start_time": "2022-05-04T23:11:30.393Z"
   },
   {
    "duration": 0,
    "start_time": "2022-05-04T23:11:30.394Z"
   },
   {
    "duration": 0,
    "start_time": "2022-05-04T23:11:30.394Z"
   },
   {
    "duration": 0,
    "start_time": "2022-05-04T23:11:30.395Z"
   },
   {
    "duration": 0,
    "start_time": "2022-05-04T23:11:30.397Z"
   },
   {
    "duration": 0,
    "start_time": "2022-05-04T23:11:30.398Z"
   },
   {
    "duration": 0,
    "start_time": "2022-05-04T23:11:30.399Z"
   },
   {
    "duration": 0,
    "start_time": "2022-05-04T23:11:30.400Z"
   },
   {
    "duration": 0,
    "start_time": "2022-05-04T23:11:30.401Z"
   },
   {
    "duration": 0,
    "start_time": "2022-05-04T23:11:30.402Z"
   },
   {
    "duration": 0,
    "start_time": "2022-05-04T23:11:30.403Z"
   },
   {
    "duration": 1216,
    "start_time": "2022-05-04T23:11:46.655Z"
   },
   {
    "duration": 302,
    "start_time": "2022-05-04T23:11:47.873Z"
   },
   {
    "duration": 12,
    "start_time": "2022-05-04T23:11:48.177Z"
   },
   {
    "duration": 15,
    "start_time": "2022-05-04T23:11:48.191Z"
   },
   {
    "duration": 4,
    "start_time": "2022-05-04T23:11:48.208Z"
   },
   {
    "duration": 8,
    "start_time": "2022-05-04T23:11:48.214Z"
   },
   {
    "duration": 17,
    "start_time": "2022-05-04T23:11:48.224Z"
   },
   {
    "duration": 11,
    "start_time": "2022-05-04T23:11:48.243Z"
   },
   {
    "duration": 12,
    "start_time": "2022-05-04T23:11:48.256Z"
   },
   {
    "duration": 8,
    "start_time": "2022-05-04T23:11:48.271Z"
   },
   {
    "duration": 11,
    "start_time": "2022-05-04T23:11:48.281Z"
   },
   {
    "duration": 6,
    "start_time": "2022-05-04T23:11:48.294Z"
   },
   {
    "duration": 70,
    "start_time": "2022-05-04T23:11:48.302Z"
   },
   {
    "duration": 8,
    "start_time": "2022-05-04T23:11:48.374Z"
   },
   {
    "duration": 27,
    "start_time": "2022-05-04T23:11:48.384Z"
   },
   {
    "duration": 23,
    "start_time": "2022-05-04T23:11:48.413Z"
   },
   {
    "duration": 21,
    "start_time": "2022-05-04T23:11:48.437Z"
   },
   {
    "duration": 12,
    "start_time": "2022-05-04T23:11:48.460Z"
   },
   {
    "duration": 21,
    "start_time": "2022-05-04T23:11:48.473Z"
   },
   {
    "duration": 7,
    "start_time": "2022-05-04T23:11:48.496Z"
   },
   {
    "duration": 16,
    "start_time": "2022-05-04T23:11:48.532Z"
   },
   {
    "duration": 14,
    "start_time": "2022-05-04T23:11:48.550Z"
   },
   {
    "duration": 24,
    "start_time": "2022-05-04T23:11:48.566Z"
   },
   {
    "duration": 42,
    "start_time": "2022-05-04T23:11:48.592Z"
   },
   {
    "duration": 26,
    "start_time": "2022-05-04T23:11:48.635Z"
   },
   {
    "duration": 9,
    "start_time": "2022-05-04T23:11:48.662Z"
   },
   {
    "duration": 21,
    "start_time": "2022-05-04T23:11:48.672Z"
   },
   {
    "duration": 10,
    "start_time": "2022-05-04T23:11:48.697Z"
   },
   {
    "duration": 11,
    "start_time": "2022-05-04T23:11:48.733Z"
   },
   {
    "duration": 50,
    "start_time": "2022-05-04T23:11:48.746Z"
   },
   {
    "duration": 45,
    "start_time": "2022-05-04T23:11:48.798Z"
   },
   {
    "duration": 8,
    "start_time": "2022-05-04T23:11:48.845Z"
   },
   {
    "duration": 33,
    "start_time": "2022-05-04T23:11:48.855Z"
   },
   {
    "duration": 10,
    "start_time": "2022-05-04T23:11:48.890Z"
   },
   {
    "duration": 67,
    "start_time": "2022-05-04T23:11:48.902Z"
   },
   {
    "duration": 8,
    "start_time": "2022-05-04T23:11:48.972Z"
   },
   {
    "duration": 53,
    "start_time": "2022-05-04T23:11:48.982Z"
   },
   {
    "duration": 18,
    "start_time": "2022-05-04T23:11:49.038Z"
   },
   {
    "duration": 25,
    "start_time": "2022-05-04T23:11:49.058Z"
   },
   {
    "duration": 129,
    "start_time": "2022-05-04T23:11:49.085Z"
   },
   {
    "duration": 0,
    "start_time": "2022-05-04T23:11:49.216Z"
   },
   {
    "duration": 0,
    "start_time": "2022-05-04T23:11:49.217Z"
   },
   {
    "duration": 0,
    "start_time": "2022-05-04T23:11:49.218Z"
   },
   {
    "duration": 0,
    "start_time": "2022-05-04T23:11:49.219Z"
   },
   {
    "duration": 0,
    "start_time": "2022-05-04T23:11:49.220Z"
   },
   {
    "duration": 0,
    "start_time": "2022-05-04T23:11:49.221Z"
   },
   {
    "duration": 0,
    "start_time": "2022-05-04T23:11:49.222Z"
   },
   {
    "duration": 0,
    "start_time": "2022-05-04T23:11:49.223Z"
   },
   {
    "duration": 0,
    "start_time": "2022-05-04T23:11:49.233Z"
   },
   {
    "duration": 0,
    "start_time": "2022-05-04T23:11:49.235Z"
   },
   {
    "duration": 0,
    "start_time": "2022-05-04T23:11:49.236Z"
   },
   {
    "duration": 0,
    "start_time": "2022-05-04T23:11:49.238Z"
   },
   {
    "duration": 0,
    "start_time": "2022-05-04T23:11:49.239Z"
   },
   {
    "duration": 0,
    "start_time": "2022-05-04T23:11:49.240Z"
   },
   {
    "duration": 22,
    "start_time": "2022-05-04T23:12:19.054Z"
   },
   {
    "duration": 26,
    "start_time": "2022-05-04T23:12:38.751Z"
   },
   {
    "duration": 6,
    "start_time": "2022-05-04T23:14:50.299Z"
   },
   {
    "duration": 53,
    "start_time": "2022-05-04T23:14:52.626Z"
   },
   {
    "duration": 16,
    "start_time": "2022-05-04T23:14:54.434Z"
   },
   {
    "duration": 26,
    "start_time": "2022-05-04T23:15:08.673Z"
   },
   {
    "duration": 1220,
    "start_time": "2022-05-04T23:16:46.372Z"
   },
   {
    "duration": 308,
    "start_time": "2022-05-04T23:16:47.594Z"
   },
   {
    "duration": 15,
    "start_time": "2022-05-04T23:16:47.903Z"
   },
   {
    "duration": 16,
    "start_time": "2022-05-04T23:16:47.920Z"
   },
   {
    "duration": 5,
    "start_time": "2022-05-04T23:16:47.939Z"
   },
   {
    "duration": 7,
    "start_time": "2022-05-04T23:16:47.946Z"
   },
   {
    "duration": 12,
    "start_time": "2022-05-04T23:16:47.954Z"
   },
   {
    "duration": 14,
    "start_time": "2022-05-04T23:16:47.968Z"
   },
   {
    "duration": 11,
    "start_time": "2022-05-04T23:16:47.984Z"
   },
   {
    "duration": 36,
    "start_time": "2022-05-04T23:16:47.997Z"
   },
   {
    "duration": 10,
    "start_time": "2022-05-04T23:16:48.036Z"
   },
   {
    "duration": 7,
    "start_time": "2022-05-04T23:16:48.048Z"
   },
   {
    "duration": 44,
    "start_time": "2022-05-04T23:16:48.056Z"
   },
   {
    "duration": 8,
    "start_time": "2022-05-04T23:16:48.104Z"
   },
   {
    "duration": 25,
    "start_time": "2022-05-04T23:16:48.134Z"
   },
   {
    "duration": 4,
    "start_time": "2022-05-04T23:16:48.161Z"
   },
   {
    "duration": 18,
    "start_time": "2022-05-04T23:16:48.167Z"
   },
   {
    "duration": 10,
    "start_time": "2022-05-04T23:16:48.187Z"
   },
   {
    "duration": 50,
    "start_time": "2022-05-04T23:16:48.198Z"
   },
   {
    "duration": 8,
    "start_time": "2022-05-04T23:16:48.250Z"
   },
   {
    "duration": 19,
    "start_time": "2022-05-04T23:16:48.259Z"
   },
   {
    "duration": 14,
    "start_time": "2022-05-04T23:16:48.280Z"
   },
   {
    "duration": 48,
    "start_time": "2022-05-04T23:16:48.295Z"
   },
   {
    "duration": 8,
    "start_time": "2022-05-04T23:16:48.345Z"
   },
   {
    "duration": 27,
    "start_time": "2022-05-04T23:16:48.355Z"
   },
   {
    "duration": 9,
    "start_time": "2022-05-04T23:16:48.383Z"
   },
   {
    "duration": 45,
    "start_time": "2022-05-04T23:16:48.393Z"
   },
   {
    "duration": 9,
    "start_time": "2022-05-04T23:16:48.440Z"
   },
   {
    "duration": 14,
    "start_time": "2022-05-04T23:16:48.450Z"
   },
   {
    "duration": 46,
    "start_time": "2022-05-04T23:16:48.466Z"
   },
   {
    "duration": 26,
    "start_time": "2022-05-04T23:16:48.534Z"
   },
   {
    "duration": 8,
    "start_time": "2022-05-04T23:16:48.561Z"
   },
   {
    "duration": 31,
    "start_time": "2022-05-04T23:16:48.570Z"
   },
   {
    "duration": 31,
    "start_time": "2022-05-04T23:16:48.603Z"
   },
   {
    "duration": 32,
    "start_time": "2022-05-04T23:16:48.636Z"
   },
   {
    "duration": 8,
    "start_time": "2022-05-04T23:16:48.669Z"
   },
   {
    "duration": 60,
    "start_time": "2022-05-04T23:16:48.678Z"
   },
   {
    "duration": 18,
    "start_time": "2022-05-04T23:16:48.739Z"
   },
   {
    "duration": 17,
    "start_time": "2022-05-04T23:16:48.758Z"
   },
   {
    "duration": 11,
    "start_time": "2022-05-04T23:16:48.777Z"
   },
   {
    "duration": 135,
    "start_time": "2022-05-04T23:16:48.792Z"
   },
   {
    "duration": 0,
    "start_time": "2022-05-04T23:16:48.933Z"
   },
   {
    "duration": 0,
    "start_time": "2022-05-04T23:16:48.934Z"
   },
   {
    "duration": 0,
    "start_time": "2022-05-04T23:16:48.935Z"
   },
   {
    "duration": 0,
    "start_time": "2022-05-04T23:16:48.937Z"
   },
   {
    "duration": 0,
    "start_time": "2022-05-04T23:16:48.938Z"
   },
   {
    "duration": 0,
    "start_time": "2022-05-04T23:16:48.938Z"
   },
   {
    "duration": 0,
    "start_time": "2022-05-04T23:16:48.939Z"
   },
   {
    "duration": 0,
    "start_time": "2022-05-04T23:16:48.941Z"
   },
   {
    "duration": 0,
    "start_time": "2022-05-04T23:16:48.942Z"
   },
   {
    "duration": 0,
    "start_time": "2022-05-04T23:16:48.943Z"
   },
   {
    "duration": 0,
    "start_time": "2022-05-04T23:16:48.943Z"
   },
   {
    "duration": 0,
    "start_time": "2022-05-04T23:16:48.944Z"
   },
   {
    "duration": 14,
    "start_time": "2022-05-04T23:17:10.106Z"
   },
   {
    "duration": 9,
    "start_time": "2022-05-04T23:17:23.189Z"
   },
   {
    "duration": 16,
    "start_time": "2022-05-04T23:17:26.373Z"
   },
   {
    "duration": 1342,
    "start_time": "2022-05-04T23:20:12.542Z"
   },
   {
    "duration": 324,
    "start_time": "2022-05-04T23:20:13.886Z"
   },
   {
    "duration": 12,
    "start_time": "2022-05-04T23:20:14.212Z"
   },
   {
    "duration": 15,
    "start_time": "2022-05-04T23:20:14.226Z"
   },
   {
    "duration": 4,
    "start_time": "2022-05-04T23:20:14.243Z"
   },
   {
    "duration": 9,
    "start_time": "2022-05-04T23:20:14.248Z"
   },
   {
    "duration": 11,
    "start_time": "2022-05-04T23:20:14.258Z"
   },
   {
    "duration": 12,
    "start_time": "2022-05-04T23:20:14.271Z"
   },
   {
    "duration": 19,
    "start_time": "2022-05-04T23:20:14.284Z"
   },
   {
    "duration": 8,
    "start_time": "2022-05-04T23:20:14.306Z"
   },
   {
    "duration": 21,
    "start_time": "2022-05-04T23:20:14.315Z"
   },
   {
    "duration": 7,
    "start_time": "2022-05-04T23:20:14.338Z"
   },
   {
    "duration": 48,
    "start_time": "2022-05-04T23:20:14.347Z"
   },
   {
    "duration": 8,
    "start_time": "2022-05-04T23:20:14.397Z"
   },
   {
    "duration": 50,
    "start_time": "2022-05-04T23:20:14.407Z"
   },
   {
    "duration": 6,
    "start_time": "2022-05-04T23:20:14.459Z"
   },
   {
    "duration": 19,
    "start_time": "2022-05-04T23:20:14.467Z"
   },
   {
    "duration": 11,
    "start_time": "2022-05-04T23:20:14.488Z"
   },
   {
    "duration": 48,
    "start_time": "2022-05-04T23:20:14.501Z"
   },
   {
    "duration": 9,
    "start_time": "2022-05-04T23:20:14.551Z"
   },
   {
    "duration": 15,
    "start_time": "2022-05-04T23:20:14.562Z"
   },
   {
    "duration": 14,
    "start_time": "2022-05-04T23:20:14.579Z"
   },
   {
    "duration": 56,
    "start_time": "2022-05-04T23:20:14.595Z"
   },
   {
    "duration": 8,
    "start_time": "2022-05-04T23:20:14.652Z"
   },
   {
    "duration": 26,
    "start_time": "2022-05-04T23:20:14.662Z"
   },
   {
    "duration": 8,
    "start_time": "2022-05-04T23:20:14.690Z"
   },
   {
    "duration": 49,
    "start_time": "2022-05-04T23:20:14.700Z"
   },
   {
    "duration": 10,
    "start_time": "2022-05-04T23:20:14.752Z"
   },
   {
    "duration": 12,
    "start_time": "2022-05-04T23:20:14.763Z"
   },
   {
    "duration": 70,
    "start_time": "2022-05-04T23:20:14.777Z"
   },
   {
    "duration": 26,
    "start_time": "2022-05-04T23:20:14.849Z"
   },
   {
    "duration": 8,
    "start_time": "2022-05-04T23:20:14.876Z"
   },
   {
    "duration": 49,
    "start_time": "2022-05-04T23:20:14.885Z"
   },
   {
    "duration": 9,
    "start_time": "2022-05-04T23:20:14.936Z"
   },
   {
    "duration": 32,
    "start_time": "2022-05-04T23:20:14.946Z"
   },
   {
    "duration": 8,
    "start_time": "2022-05-04T23:20:14.980Z"
   },
   {
    "duration": 65,
    "start_time": "2022-05-04T23:20:14.990Z"
   },
   {
    "duration": 16,
    "start_time": "2022-05-04T23:20:15.057Z"
   },
   {
    "duration": 18,
    "start_time": "2022-05-04T23:20:15.074Z"
   },
   {
    "duration": 45,
    "start_time": "2022-05-04T23:20:15.093Z"
   },
   {
    "duration": 110,
    "start_time": "2022-05-04T23:20:15.139Z"
   },
   {
    "duration": 0,
    "start_time": "2022-05-04T23:20:15.251Z"
   },
   {
    "duration": 0,
    "start_time": "2022-05-04T23:20:15.252Z"
   },
   {
    "duration": 0,
    "start_time": "2022-05-04T23:20:15.253Z"
   },
   {
    "duration": 0,
    "start_time": "2022-05-04T23:20:15.254Z"
   },
   {
    "duration": 0,
    "start_time": "2022-05-04T23:20:15.255Z"
   },
   {
    "duration": 0,
    "start_time": "2022-05-04T23:20:15.256Z"
   },
   {
    "duration": 0,
    "start_time": "2022-05-04T23:20:15.257Z"
   },
   {
    "duration": 0,
    "start_time": "2022-05-04T23:20:15.258Z"
   },
   {
    "duration": 0,
    "start_time": "2022-05-04T23:20:15.259Z"
   },
   {
    "duration": 0,
    "start_time": "2022-05-04T23:20:15.260Z"
   },
   {
    "duration": 0,
    "start_time": "2022-05-04T23:20:15.261Z"
   },
   {
    "duration": 0,
    "start_time": "2022-05-04T23:20:15.262Z"
   },
   {
    "duration": 11,
    "start_time": "2022-05-04T23:21:04.088Z"
   },
   {
    "duration": 9,
    "start_time": "2022-05-04T23:21:16.349Z"
   },
   {
    "duration": 12,
    "start_time": "2022-05-04T23:21:46.222Z"
   },
   {
    "duration": 30,
    "start_time": "2022-05-04T23:23:32.092Z"
   },
   {
    "duration": 1195,
    "start_time": "2022-05-04T23:25:17.180Z"
   },
   {
    "duration": 302,
    "start_time": "2022-05-04T23:25:18.377Z"
   },
   {
    "duration": 12,
    "start_time": "2022-05-04T23:25:18.681Z"
   },
   {
    "duration": 17,
    "start_time": "2022-05-04T23:25:18.695Z"
   },
   {
    "duration": 4,
    "start_time": "2022-05-04T23:25:18.714Z"
   },
   {
    "duration": 14,
    "start_time": "2022-05-04T23:25:18.719Z"
   },
   {
    "duration": 10,
    "start_time": "2022-05-04T23:25:18.735Z"
   },
   {
    "duration": 12,
    "start_time": "2022-05-04T23:25:18.746Z"
   },
   {
    "duration": 10,
    "start_time": "2022-05-04T23:25:18.760Z"
   },
   {
    "duration": 6,
    "start_time": "2022-05-04T23:25:18.773Z"
   },
   {
    "duration": 14,
    "start_time": "2022-05-04T23:25:18.781Z"
   },
   {
    "duration": 37,
    "start_time": "2022-05-04T23:25:18.797Z"
   },
   {
    "duration": 59,
    "start_time": "2022-05-04T23:25:18.836Z"
   },
   {
    "duration": 9,
    "start_time": "2022-05-04T23:25:18.897Z"
   },
   {
    "duration": 59,
    "start_time": "2022-05-04T23:25:18.908Z"
   },
   {
    "duration": 5,
    "start_time": "2022-05-04T23:25:18.969Z"
   },
   {
    "duration": 32,
    "start_time": "2022-05-04T23:25:18.976Z"
   },
   {
    "duration": 10,
    "start_time": "2022-05-04T23:25:19.010Z"
   },
   {
    "duration": 21,
    "start_time": "2022-05-04T23:25:19.034Z"
   },
   {
    "duration": 8,
    "start_time": "2022-05-04T23:25:19.057Z"
   },
   {
    "duration": 15,
    "start_time": "2022-05-04T23:25:19.066Z"
   },
   {
    "duration": 13,
    "start_time": "2022-05-04T23:25:19.083Z"
   },
   {
    "duration": 51,
    "start_time": "2022-05-04T23:25:19.098Z"
   },
   {
    "duration": 9,
    "start_time": "2022-05-04T23:25:19.151Z"
   },
   {
    "duration": 27,
    "start_time": "2022-05-04T23:25:19.162Z"
   },
   {
    "duration": 9,
    "start_time": "2022-05-04T23:25:19.191Z"
   },
   {
    "duration": 17,
    "start_time": "2022-05-04T23:25:19.234Z"
   },
   {
    "duration": 11,
    "start_time": "2022-05-04T23:25:19.255Z"
   },
   {
    "duration": 11,
    "start_time": "2022-05-04T23:25:19.267Z"
   },
   {
    "duration": 69,
    "start_time": "2022-05-04T23:25:19.280Z"
   },
   {
    "duration": 26,
    "start_time": "2022-05-04T23:25:19.351Z"
   },
   {
    "duration": 14,
    "start_time": "2022-05-04T23:25:19.379Z"
   },
   {
    "duration": 55,
    "start_time": "2022-05-04T23:25:19.394Z"
   },
   {
    "duration": 9,
    "start_time": "2022-05-04T23:25:19.451Z"
   },
   {
    "duration": 41,
    "start_time": "2022-05-04T23:25:19.462Z"
   },
   {
    "duration": 9,
    "start_time": "2022-05-04T23:25:19.506Z"
   },
   {
    "duration": 35,
    "start_time": "2022-05-04T23:25:19.533Z"
   },
   {
    "duration": 18,
    "start_time": "2022-05-04T23:25:19.570Z"
   },
   {
    "duration": 133,
    "start_time": "2022-05-04T23:25:19.591Z"
   },
   {
    "duration": 0,
    "start_time": "2022-05-04T23:25:19.727Z"
   },
   {
    "duration": 0,
    "start_time": "2022-05-04T23:25:19.734Z"
   },
   {
    "duration": 0,
    "start_time": "2022-05-04T23:25:19.735Z"
   },
   {
    "duration": 1,
    "start_time": "2022-05-04T23:25:19.736Z"
   },
   {
    "duration": 0,
    "start_time": "2022-05-04T23:25:19.738Z"
   },
   {
    "duration": 0,
    "start_time": "2022-05-04T23:25:19.739Z"
   },
   {
    "duration": 0,
    "start_time": "2022-05-04T23:25:19.741Z"
   },
   {
    "duration": 0,
    "start_time": "2022-05-04T23:25:19.742Z"
   },
   {
    "duration": 0,
    "start_time": "2022-05-04T23:25:19.744Z"
   },
   {
    "duration": 0,
    "start_time": "2022-05-04T23:25:19.745Z"
   },
   {
    "duration": 0,
    "start_time": "2022-05-04T23:25:19.747Z"
   },
   {
    "duration": 0,
    "start_time": "2022-05-04T23:25:19.748Z"
   },
   {
    "duration": 0,
    "start_time": "2022-05-04T23:25:19.750Z"
   },
   {
    "duration": 0,
    "start_time": "2022-05-04T23:25:19.751Z"
   },
   {
    "duration": 7,
    "start_time": "2022-05-04T23:26:00.562Z"
   },
   {
    "duration": 19,
    "start_time": "2022-05-04T23:26:13.357Z"
   },
   {
    "duration": 10,
    "start_time": "2022-05-04T23:30:13.980Z"
   },
   {
    "duration": 8,
    "start_time": "2022-05-04T23:30:53.037Z"
   },
   {
    "duration": 17,
    "start_time": "2022-05-04T23:33:21.993Z"
   },
   {
    "duration": 1284,
    "start_time": "2022-05-04T23:37:02.508Z"
   },
   {
    "duration": 328,
    "start_time": "2022-05-04T23:37:03.794Z"
   },
   {
    "duration": 13,
    "start_time": "2022-05-04T23:37:04.124Z"
   },
   {
    "duration": 18,
    "start_time": "2022-05-04T23:37:04.139Z"
   },
   {
    "duration": 8,
    "start_time": "2022-05-04T23:37:04.158Z"
   },
   {
    "duration": 12,
    "start_time": "2022-05-04T23:37:04.168Z"
   },
   {
    "duration": 12,
    "start_time": "2022-05-04T23:37:04.182Z"
   },
   {
    "duration": 14,
    "start_time": "2022-05-04T23:37:04.196Z"
   },
   {
    "duration": 11,
    "start_time": "2022-05-04T23:37:04.234Z"
   },
   {
    "duration": 7,
    "start_time": "2022-05-04T23:37:04.248Z"
   },
   {
    "duration": 11,
    "start_time": "2022-05-04T23:37:04.257Z"
   },
   {
    "duration": 6,
    "start_time": "2022-05-04T23:37:04.270Z"
   },
   {
    "duration": 74,
    "start_time": "2022-05-04T23:37:04.277Z"
   },
   {
    "duration": 8,
    "start_time": "2022-05-04T23:37:04.352Z"
   },
   {
    "duration": 31,
    "start_time": "2022-05-04T23:37:04.362Z"
   },
   {
    "duration": 5,
    "start_time": "2022-05-04T23:37:04.394Z"
   },
   {
    "duration": 40,
    "start_time": "2022-05-04T23:37:04.400Z"
   },
   {
    "duration": 10,
    "start_time": "2022-05-04T23:37:04.441Z"
   },
   {
    "duration": 29,
    "start_time": "2022-05-04T23:37:04.452Z"
   },
   {
    "duration": 9,
    "start_time": "2022-05-04T23:37:04.483Z"
   },
   {
    "duration": 43,
    "start_time": "2022-05-04T23:37:04.494Z"
   },
   {
    "duration": 14,
    "start_time": "2022-05-04T23:37:04.539Z"
   },
   {
    "duration": 23,
    "start_time": "2022-05-04T23:37:04.554Z"
   },
   {
    "duration": 8,
    "start_time": "2022-05-04T23:37:04.579Z"
   },
   {
    "duration": 53,
    "start_time": "2022-05-04T23:37:04.589Z"
   },
   {
    "duration": 9,
    "start_time": "2022-05-04T23:37:04.644Z"
   },
   {
    "duration": 22,
    "start_time": "2022-05-04T23:37:04.654Z"
   },
   {
    "duration": 10,
    "start_time": "2022-05-04T23:37:04.679Z"
   },
   {
    "duration": 13,
    "start_time": "2022-05-04T23:37:04.691Z"
   },
   {
    "duration": 78,
    "start_time": "2022-05-04T23:37:04.706Z"
   },
   {
    "duration": 26,
    "start_time": "2022-05-04T23:37:04.785Z"
   },
   {
    "duration": 29,
    "start_time": "2022-05-04T23:37:04.813Z"
   },
   {
    "duration": 47,
    "start_time": "2022-05-04T23:37:04.844Z"
   },
   {
    "duration": 10,
    "start_time": "2022-05-04T23:37:04.892Z"
   },
   {
    "duration": 45,
    "start_time": "2022-05-04T23:37:04.903Z"
   },
   {
    "duration": 8,
    "start_time": "2022-05-04T23:37:04.950Z"
   },
   {
    "duration": 42,
    "start_time": "2022-05-04T23:37:04.960Z"
   },
   {
    "duration": 39,
    "start_time": "2022-05-04T23:37:05.004Z"
   },
   {
    "duration": 16,
    "start_time": "2022-05-04T23:37:05.045Z"
   },
   {
    "duration": 25,
    "start_time": "2022-05-04T23:37:05.063Z"
   },
   {
    "duration": 131,
    "start_time": "2022-05-04T23:37:05.090Z"
   },
   {
    "duration": 0,
    "start_time": "2022-05-04T23:37:05.222Z"
   },
   {
    "duration": 0,
    "start_time": "2022-05-04T23:37:05.224Z"
   },
   {
    "duration": 0,
    "start_time": "2022-05-04T23:37:05.233Z"
   },
   {
    "duration": 0,
    "start_time": "2022-05-04T23:37:05.234Z"
   },
   {
    "duration": 0,
    "start_time": "2022-05-04T23:37:05.235Z"
   },
   {
    "duration": 0,
    "start_time": "2022-05-04T23:37:05.237Z"
   },
   {
    "duration": 0,
    "start_time": "2022-05-04T23:37:05.238Z"
   },
   {
    "duration": 0,
    "start_time": "2022-05-04T23:37:05.239Z"
   },
   {
    "duration": 0,
    "start_time": "2022-05-04T23:37:05.240Z"
   },
   {
    "duration": 0,
    "start_time": "2022-05-04T23:37:05.241Z"
   },
   {
    "duration": 0,
    "start_time": "2022-05-04T23:37:05.243Z"
   },
   {
    "duration": 0,
    "start_time": "2022-05-04T23:37:05.245Z"
   },
   {
    "duration": 0,
    "start_time": "2022-05-04T23:37:05.245Z"
   },
   {
    "duration": 0,
    "start_time": "2022-05-04T23:37:05.246Z"
   },
   {
    "duration": 16,
    "start_time": "2022-05-04T23:37:56.674Z"
   },
   {
    "duration": 16,
    "start_time": "2022-05-04T23:39:03.452Z"
   },
   {
    "duration": 13,
    "start_time": "2022-05-04T23:39:56.480Z"
   },
   {
    "duration": 5,
    "start_time": "2022-05-05T01:16:56.296Z"
   },
   {
    "duration": 29,
    "start_time": "2022-05-05T01:17:04.639Z"
   },
   {
    "duration": 23,
    "start_time": "2022-05-05T01:19:44.624Z"
   },
   {
    "duration": 9,
    "start_time": "2022-05-05T01:54:34.923Z"
   },
   {
    "duration": 19,
    "start_time": "2022-05-05T01:54:48.117Z"
   },
   {
    "duration": 19,
    "start_time": "2022-05-05T01:56:44.618Z"
   },
   {
    "duration": 1287,
    "start_time": "2022-05-05T02:19:12.304Z"
   },
   {
    "duration": 329,
    "start_time": "2022-05-05T02:19:13.594Z"
   },
   {
    "duration": 14,
    "start_time": "2022-05-05T02:19:13.925Z"
   },
   {
    "duration": 15,
    "start_time": "2022-05-05T02:19:13.941Z"
   },
   {
    "duration": 6,
    "start_time": "2022-05-05T02:19:13.958Z"
   },
   {
    "duration": 13,
    "start_time": "2022-05-05T02:19:13.966Z"
   },
   {
    "duration": 13,
    "start_time": "2022-05-05T02:19:13.981Z"
   },
   {
    "duration": 16,
    "start_time": "2022-05-05T02:19:13.996Z"
   },
   {
    "duration": 30,
    "start_time": "2022-05-05T02:19:14.014Z"
   },
   {
    "duration": 10,
    "start_time": "2022-05-05T02:19:14.048Z"
   },
   {
    "duration": 16,
    "start_time": "2022-05-05T02:19:14.059Z"
   },
   {
    "duration": 6,
    "start_time": "2022-05-05T02:19:14.077Z"
   },
   {
    "duration": 70,
    "start_time": "2022-05-05T02:19:14.085Z"
   },
   {
    "duration": 9,
    "start_time": "2022-05-05T02:19:14.157Z"
   },
   {
    "duration": 31,
    "start_time": "2022-05-05T02:19:14.167Z"
   },
   {
    "duration": 5,
    "start_time": "2022-05-05T02:19:14.200Z"
   },
   {
    "duration": 39,
    "start_time": "2022-05-05T02:19:14.206Z"
   },
   {
    "duration": 10,
    "start_time": "2022-05-05T02:19:14.247Z"
   },
   {
    "duration": 22,
    "start_time": "2022-05-05T02:19:14.259Z"
   },
   {
    "duration": 7,
    "start_time": "2022-05-05T02:19:14.283Z"
   },
   {
    "duration": 50,
    "start_time": "2022-05-05T02:19:14.292Z"
   },
   {
    "duration": 13,
    "start_time": "2022-05-05T02:19:14.344Z"
   },
   {
    "duration": 25,
    "start_time": "2022-05-05T02:19:14.359Z"
   },
   {
    "duration": 9,
    "start_time": "2022-05-05T02:19:14.386Z"
   },
   {
    "duration": 57,
    "start_time": "2022-05-05T02:19:14.397Z"
   },
   {
    "duration": 10,
    "start_time": "2022-05-05T02:19:14.456Z"
   },
   {
    "duration": 28,
    "start_time": "2022-05-05T02:19:14.468Z"
   },
   {
    "duration": 10,
    "start_time": "2022-05-05T02:19:14.500Z"
   },
   {
    "duration": 39,
    "start_time": "2022-05-05T02:19:14.511Z"
   },
   {
    "duration": 33,
    "start_time": "2022-05-05T02:19:14.552Z"
   },
   {
    "duration": 3,
    "start_time": "2022-05-05T02:19:14.587Z"
   },
   {
    "duration": 44,
    "start_time": "2022-05-05T02:19:14.591Z"
   },
   {
    "duration": 117,
    "start_time": "2022-05-05T02:19:14.636Z"
   },
   {
    "duration": 0,
    "start_time": "2022-05-05T02:19:14.754Z"
   },
   {
    "duration": 0,
    "start_time": "2022-05-05T02:19:14.756Z"
   },
   {
    "duration": 0,
    "start_time": "2022-05-05T02:19:14.757Z"
   },
   {
    "duration": 0,
    "start_time": "2022-05-05T02:19:14.758Z"
   },
   {
    "duration": 0,
    "start_time": "2022-05-05T02:19:14.759Z"
   },
   {
    "duration": 0,
    "start_time": "2022-05-05T02:19:14.761Z"
   },
   {
    "duration": 0,
    "start_time": "2022-05-05T02:19:14.762Z"
   },
   {
    "duration": 0,
    "start_time": "2022-05-05T02:19:14.763Z"
   },
   {
    "duration": 0,
    "start_time": "2022-05-05T02:19:14.764Z"
   },
   {
    "duration": 0,
    "start_time": "2022-05-05T02:19:14.765Z"
   },
   {
    "duration": 0,
    "start_time": "2022-05-05T02:19:14.766Z"
   },
   {
    "duration": 0,
    "start_time": "2022-05-05T02:19:14.767Z"
   },
   {
    "duration": 0,
    "start_time": "2022-05-05T02:19:14.768Z"
   },
   {
    "duration": 0,
    "start_time": "2022-05-05T02:19:14.770Z"
   },
   {
    "duration": 0,
    "start_time": "2022-05-05T02:19:14.771Z"
   },
   {
    "duration": 0,
    "start_time": "2022-05-05T02:19:14.772Z"
   },
   {
    "duration": 1306,
    "start_time": "2022-05-05T02:21:05.012Z"
   },
   {
    "duration": 323,
    "start_time": "2022-05-05T02:21:06.320Z"
   },
   {
    "duration": 14,
    "start_time": "2022-05-05T02:21:06.644Z"
   },
   {
    "duration": 26,
    "start_time": "2022-05-05T02:21:06.661Z"
   },
   {
    "duration": 6,
    "start_time": "2022-05-05T02:21:06.689Z"
   },
   {
    "duration": 12,
    "start_time": "2022-05-05T02:21:06.697Z"
   },
   {
    "duration": 24,
    "start_time": "2022-05-05T02:21:06.711Z"
   },
   {
    "duration": 15,
    "start_time": "2022-05-05T02:21:06.737Z"
   },
   {
    "duration": 15,
    "start_time": "2022-05-05T02:21:06.754Z"
   },
   {
    "duration": 11,
    "start_time": "2022-05-05T02:21:06.772Z"
   },
   {
    "duration": 44,
    "start_time": "2022-05-05T02:21:06.784Z"
   },
   {
    "duration": 9,
    "start_time": "2022-05-05T02:21:06.830Z"
   },
   {
    "duration": 51,
    "start_time": "2022-05-05T02:21:06.841Z"
   },
   {
    "duration": 9,
    "start_time": "2022-05-05T02:21:06.894Z"
   },
   {
    "duration": 50,
    "start_time": "2022-05-05T02:21:06.904Z"
   },
   {
    "duration": 6,
    "start_time": "2022-05-05T02:21:06.957Z"
   },
   {
    "duration": 32,
    "start_time": "2022-05-05T02:21:06.965Z"
   },
   {
    "duration": 16,
    "start_time": "2022-05-05T02:21:06.999Z"
   },
   {
    "duration": 47,
    "start_time": "2022-05-05T02:21:07.017Z"
   },
   {
    "duration": 8,
    "start_time": "2022-05-05T02:21:07.067Z"
   },
   {
    "duration": 21,
    "start_time": "2022-05-05T02:21:07.077Z"
   },
   {
    "duration": 38,
    "start_time": "2022-05-05T02:21:07.100Z"
   },
   {
    "duration": 36,
    "start_time": "2022-05-05T02:21:07.140Z"
   },
   {
    "duration": 10,
    "start_time": "2022-05-05T02:21:07.178Z"
   },
   {
    "duration": 53,
    "start_time": "2022-05-05T02:21:07.190Z"
   },
   {
    "duration": 9,
    "start_time": "2022-05-05T02:21:07.245Z"
   },
   {
    "duration": 39,
    "start_time": "2022-05-05T02:21:07.256Z"
   },
   {
    "duration": 11,
    "start_time": "2022-05-05T02:21:07.299Z"
   },
   {
    "duration": 12,
    "start_time": "2022-05-05T02:21:07.312Z"
   },
   {
    "duration": 24,
    "start_time": "2022-05-05T02:21:07.334Z"
   },
   {
    "duration": 36,
    "start_time": "2022-05-05T02:21:07.360Z"
   },
   {
    "duration": 123,
    "start_time": "2022-05-05T02:21:07.398Z"
   },
   {
    "duration": 0,
    "start_time": "2022-05-05T02:21:07.522Z"
   },
   {
    "duration": 0,
    "start_time": "2022-05-05T02:21:07.524Z"
   },
   {
    "duration": 0,
    "start_time": "2022-05-05T02:21:07.534Z"
   },
   {
    "duration": 0,
    "start_time": "2022-05-05T02:21:07.535Z"
   },
   {
    "duration": 0,
    "start_time": "2022-05-05T02:21:07.536Z"
   },
   {
    "duration": 0,
    "start_time": "2022-05-05T02:21:07.537Z"
   },
   {
    "duration": 0,
    "start_time": "2022-05-05T02:21:07.539Z"
   },
   {
    "duration": 0,
    "start_time": "2022-05-05T02:21:07.540Z"
   },
   {
    "duration": 0,
    "start_time": "2022-05-05T02:21:07.541Z"
   },
   {
    "duration": 0,
    "start_time": "2022-05-05T02:21:07.542Z"
   },
   {
    "duration": 0,
    "start_time": "2022-05-05T02:21:07.543Z"
   },
   {
    "duration": 0,
    "start_time": "2022-05-05T02:21:07.544Z"
   },
   {
    "duration": 0,
    "start_time": "2022-05-05T02:21:07.545Z"
   },
   {
    "duration": 0,
    "start_time": "2022-05-05T02:21:07.547Z"
   },
   {
    "duration": 0,
    "start_time": "2022-05-05T02:21:07.548Z"
   },
   {
    "duration": 0,
    "start_time": "2022-05-05T02:21:07.548Z"
   },
   {
    "duration": 1254,
    "start_time": "2022-05-05T02:22:43.557Z"
   },
   {
    "duration": 334,
    "start_time": "2022-05-05T02:22:44.814Z"
   },
   {
    "duration": 18,
    "start_time": "2022-05-05T02:22:45.151Z"
   },
   {
    "duration": 25,
    "start_time": "2022-05-05T02:22:45.172Z"
   },
   {
    "duration": 8,
    "start_time": "2022-05-05T02:22:45.199Z"
   },
   {
    "duration": 12,
    "start_time": "2022-05-05T02:22:45.209Z"
   },
   {
    "duration": 19,
    "start_time": "2022-05-05T02:22:45.223Z"
   },
   {
    "duration": 19,
    "start_time": "2022-05-05T02:22:45.244Z"
   },
   {
    "duration": 18,
    "start_time": "2022-05-05T02:22:45.265Z"
   },
   {
    "duration": 17,
    "start_time": "2022-05-05T02:22:45.287Z"
   },
   {
    "duration": 19,
    "start_time": "2022-05-05T02:22:45.306Z"
   },
   {
    "duration": 17,
    "start_time": "2022-05-05T02:22:45.327Z"
   },
   {
    "duration": 53,
    "start_time": "2022-05-05T02:22:45.346Z"
   },
   {
    "duration": 10,
    "start_time": "2022-05-05T02:22:45.400Z"
   },
   {
    "duration": 57,
    "start_time": "2022-05-05T02:22:45.412Z"
   },
   {
    "duration": 4,
    "start_time": "2022-05-05T02:22:45.471Z"
   },
   {
    "duration": 22,
    "start_time": "2022-05-05T02:22:45.477Z"
   },
   {
    "duration": 10,
    "start_time": "2022-05-05T02:22:45.500Z"
   },
   {
    "duration": 40,
    "start_time": "2022-05-05T02:22:45.512Z"
   },
   {
    "duration": 8,
    "start_time": "2022-05-05T02:22:45.554Z"
   },
   {
    "duration": 18,
    "start_time": "2022-05-05T02:22:45.564Z"
   },
   {
    "duration": 51,
    "start_time": "2022-05-05T02:22:45.584Z"
   },
   {
    "duration": 32,
    "start_time": "2022-05-05T02:22:45.637Z"
   },
   {
    "duration": 10,
    "start_time": "2022-05-05T02:22:45.671Z"
   },
   {
    "duration": 56,
    "start_time": "2022-05-05T02:22:45.683Z"
   },
   {
    "duration": 9,
    "start_time": "2022-05-05T02:22:45.741Z"
   },
   {
    "duration": 25,
    "start_time": "2022-05-05T02:22:45.752Z"
   },
   {
    "duration": 13,
    "start_time": "2022-05-05T02:22:45.782Z"
   },
   {
    "duration": 50,
    "start_time": "2022-05-05T02:22:45.797Z"
   },
   {
    "duration": 24,
    "start_time": "2022-05-05T02:22:45.849Z"
   },
   {
    "duration": 124,
    "start_time": "2022-05-05T02:22:45.874Z"
   },
   {
    "duration": 0,
    "start_time": "2022-05-05T02:22:46.000Z"
   },
   {
    "duration": 0,
    "start_time": "2022-05-05T02:22:46.001Z"
   },
   {
    "duration": 0,
    "start_time": "2022-05-05T02:22:46.002Z"
   },
   {
    "duration": 0,
    "start_time": "2022-05-05T02:22:46.003Z"
   },
   {
    "duration": 0,
    "start_time": "2022-05-05T02:22:46.004Z"
   },
   {
    "duration": 0,
    "start_time": "2022-05-05T02:22:46.005Z"
   },
   {
    "duration": 0,
    "start_time": "2022-05-05T02:22:46.006Z"
   },
   {
    "duration": 0,
    "start_time": "2022-05-05T02:22:46.007Z"
   },
   {
    "duration": 0,
    "start_time": "2022-05-05T02:22:46.008Z"
   },
   {
    "duration": 0,
    "start_time": "2022-05-05T02:22:46.009Z"
   },
   {
    "duration": 0,
    "start_time": "2022-05-05T02:22:46.011Z"
   },
   {
    "duration": 0,
    "start_time": "2022-05-05T02:22:46.012Z"
   },
   {
    "duration": 0,
    "start_time": "2022-05-05T02:22:46.013Z"
   },
   {
    "duration": 0,
    "start_time": "2022-05-05T02:22:46.014Z"
   },
   {
    "duration": 0,
    "start_time": "2022-05-05T02:22:46.034Z"
   },
   {
    "duration": 0,
    "start_time": "2022-05-05T02:22:46.035Z"
   },
   {
    "duration": 32,
    "start_time": "2022-05-05T02:23:02.214Z"
   },
   {
    "duration": 26,
    "start_time": "2022-05-05T02:27:02.199Z"
   },
   {
    "duration": 17,
    "start_time": "2022-05-05T02:28:27.937Z"
   },
   {
    "duration": 189,
    "start_time": "2022-05-05T02:28:57.926Z"
   },
   {
    "duration": 15,
    "start_time": "2022-05-05T02:29:08.500Z"
   },
   {
    "duration": 16,
    "start_time": "2022-05-05T02:30:04.276Z"
   },
   {
    "duration": 12,
    "start_time": "2022-05-05T02:35:31.677Z"
   },
   {
    "duration": 28,
    "start_time": "2022-05-05T02:36:00.976Z"
   },
   {
    "duration": 27,
    "start_time": "2022-05-05T02:36:09.625Z"
   },
   {
    "duration": 30,
    "start_time": "2022-05-05T02:36:27.637Z"
   },
   {
    "duration": 21,
    "start_time": "2022-05-05T02:36:33.103Z"
   },
   {
    "duration": 23,
    "start_time": "2022-05-05T02:36:39.967Z"
   },
   {
    "duration": 11,
    "start_time": "2022-05-05T02:36:46.698Z"
   },
   {
    "duration": 28,
    "start_time": "2022-05-05T02:37:04.446Z"
   },
   {
    "duration": 10,
    "start_time": "2022-05-05T02:39:08.243Z"
   },
   {
    "duration": 13,
    "start_time": "2022-05-05T02:42:48.663Z"
   },
   {
    "duration": 14,
    "start_time": "2022-05-05T02:43:28.944Z"
   },
   {
    "duration": 28,
    "start_time": "2022-05-05T02:44:48.176Z"
   },
   {
    "duration": 20,
    "start_time": "2022-05-05T02:44:52.111Z"
   },
   {
    "duration": 20,
    "start_time": "2022-05-05T02:45:08.572Z"
   },
   {
    "duration": 20,
    "start_time": "2022-05-05T02:45:41.140Z"
   },
   {
    "duration": 8,
    "start_time": "2022-05-05T02:45:54.311Z"
   },
   {
    "duration": 16,
    "start_time": "2022-05-05T02:45:59.734Z"
   },
   {
    "duration": 15,
    "start_time": "2022-05-05T02:47:42.215Z"
   },
   {
    "duration": 1406,
    "start_time": "2022-05-05T02:48:01.310Z"
   },
   {
    "duration": 331,
    "start_time": "2022-05-05T02:48:02.719Z"
   },
   {
    "duration": 14,
    "start_time": "2022-05-05T02:48:03.052Z"
   },
   {
    "duration": 21,
    "start_time": "2022-05-05T02:48:03.068Z"
   },
   {
    "duration": 5,
    "start_time": "2022-05-05T02:48:03.092Z"
   },
   {
    "duration": 10,
    "start_time": "2022-05-05T02:48:03.099Z"
   },
   {
    "duration": 25,
    "start_time": "2022-05-05T02:48:03.111Z"
   },
   {
    "duration": 17,
    "start_time": "2022-05-05T02:48:03.138Z"
   },
   {
    "duration": 20,
    "start_time": "2022-05-05T02:48:03.158Z"
   },
   {
    "duration": 9,
    "start_time": "2022-05-05T02:48:03.181Z"
   },
   {
    "duration": 12,
    "start_time": "2022-05-05T02:48:03.192Z"
   },
   {
    "duration": 9,
    "start_time": "2022-05-05T02:48:03.206Z"
   },
   {
    "duration": 72,
    "start_time": "2022-05-05T02:48:03.217Z"
   },
   {
    "duration": 9,
    "start_time": "2022-05-05T02:48:03.291Z"
   },
   {
    "duration": 43,
    "start_time": "2022-05-05T02:48:03.302Z"
   },
   {
    "duration": 5,
    "start_time": "2022-05-05T02:48:03.346Z"
   },
   {
    "duration": 26,
    "start_time": "2022-05-05T02:48:03.353Z"
   },
   {
    "duration": 10,
    "start_time": "2022-05-05T02:48:03.381Z"
   },
   {
    "duration": 40,
    "start_time": "2022-05-05T02:48:03.393Z"
   },
   {
    "duration": 8,
    "start_time": "2022-05-05T02:48:03.435Z"
   },
   {
    "duration": 20,
    "start_time": "2022-05-05T02:48:03.445Z"
   },
   {
    "duration": 15,
    "start_time": "2022-05-05T02:48:03.466Z"
   },
   {
    "duration": 21,
    "start_time": "2022-05-05T02:48:03.483Z"
   },
   {
    "duration": 8,
    "start_time": "2022-05-05T02:48:03.534Z"
   },
   {
    "duration": 31,
    "start_time": "2022-05-05T02:48:03.544Z"
   },
   {
    "duration": 9,
    "start_time": "2022-05-05T02:48:03.577Z"
   },
   {
    "duration": 22,
    "start_time": "2022-05-05T02:48:03.588Z"
   },
   {
    "duration": 10,
    "start_time": "2022-05-05T02:48:03.636Z"
   },
   {
    "duration": 25,
    "start_time": "2022-05-05T02:48:03.648Z"
   },
   {
    "duration": 19,
    "start_time": "2022-05-05T02:48:03.674Z"
   },
   {
    "duration": 39,
    "start_time": "2022-05-05T02:48:03.695Z"
   },
   {
    "duration": 10,
    "start_time": "2022-05-05T02:48:03.736Z"
   },
   {
    "duration": 125,
    "start_time": "2022-05-05T02:48:03.748Z"
   },
   {
    "duration": 0,
    "start_time": "2022-05-05T02:48:03.875Z"
   },
   {
    "duration": 0,
    "start_time": "2022-05-05T02:48:03.876Z"
   },
   {
    "duration": 0,
    "start_time": "2022-05-05T02:48:03.877Z"
   },
   {
    "duration": 0,
    "start_time": "2022-05-05T02:48:03.878Z"
   },
   {
    "duration": 0,
    "start_time": "2022-05-05T02:48:03.880Z"
   },
   {
    "duration": 0,
    "start_time": "2022-05-05T02:48:03.881Z"
   },
   {
    "duration": 0,
    "start_time": "2022-05-05T02:48:03.882Z"
   },
   {
    "duration": 0,
    "start_time": "2022-05-05T02:48:03.883Z"
   },
   {
    "duration": 0,
    "start_time": "2022-05-05T02:48:03.884Z"
   },
   {
    "duration": 0,
    "start_time": "2022-05-05T02:48:03.885Z"
   },
   {
    "duration": 0,
    "start_time": "2022-05-05T02:48:03.887Z"
   },
   {
    "duration": 0,
    "start_time": "2022-05-05T02:48:03.887Z"
   },
   {
    "duration": 0,
    "start_time": "2022-05-05T02:48:03.889Z"
   },
   {
    "duration": 17,
    "start_time": "2022-05-05T02:48:22.241Z"
   },
   {
    "duration": 12,
    "start_time": "2022-05-05T02:48:54.507Z"
   },
   {
    "duration": 12,
    "start_time": "2022-05-05T02:49:20.312Z"
   },
   {
    "duration": 23,
    "start_time": "2022-05-05T02:49:24.925Z"
   },
   {
    "duration": 15,
    "start_time": "2022-05-05T02:49:56.788Z"
   },
   {
    "duration": 28,
    "start_time": "2022-05-05T02:50:01.043Z"
   },
   {
    "duration": 22,
    "start_time": "2022-05-05T02:50:13.948Z"
   },
   {
    "duration": 2143,
    "start_time": "2022-05-05T02:50:36.058Z"
   },
   {
    "duration": 327,
    "start_time": "2022-05-05T02:50:38.203Z"
   },
   {
    "duration": 15,
    "start_time": "2022-05-05T02:50:38.532Z"
   },
   {
    "duration": 16,
    "start_time": "2022-05-05T02:50:38.550Z"
   },
   {
    "duration": 4,
    "start_time": "2022-05-05T02:50:38.568Z"
   },
   {
    "duration": 50,
    "start_time": "2022-05-05T02:50:38.574Z"
   },
   {
    "duration": 12,
    "start_time": "2022-05-05T02:50:38.626Z"
   },
   {
    "duration": 13,
    "start_time": "2022-05-05T02:50:38.640Z"
   },
   {
    "duration": 12,
    "start_time": "2022-05-05T02:50:38.655Z"
   },
   {
    "duration": 8,
    "start_time": "2022-05-05T02:50:38.671Z"
   },
   {
    "duration": 12,
    "start_time": "2022-05-05T02:50:38.680Z"
   },
   {
    "duration": 5,
    "start_time": "2022-05-05T02:50:38.695Z"
   },
   {
    "duration": 74,
    "start_time": "2022-05-05T02:50:38.702Z"
   },
   {
    "duration": 11,
    "start_time": "2022-05-05T02:50:38.778Z"
   },
   {
    "duration": 57,
    "start_time": "2022-05-05T02:50:38.791Z"
   },
   {
    "duration": 6,
    "start_time": "2022-05-05T02:50:38.850Z"
   },
   {
    "duration": 25,
    "start_time": "2022-05-05T02:50:38.858Z"
   },
   {
    "duration": 14,
    "start_time": "2022-05-05T02:50:38.885Z"
   },
   {
    "duration": 54,
    "start_time": "2022-05-05T02:50:38.901Z"
   },
   {
    "duration": 11,
    "start_time": "2022-05-05T02:50:38.957Z"
   },
   {
    "duration": 21,
    "start_time": "2022-05-05T02:50:38.970Z"
   },
   {
    "duration": 15,
    "start_time": "2022-05-05T02:50:38.993Z"
   },
   {
    "duration": 32,
    "start_time": "2022-05-05T02:50:39.033Z"
   },
   {
    "duration": 12,
    "start_time": "2022-05-05T02:50:39.067Z"
   },
   {
    "duration": 35,
    "start_time": "2022-05-05T02:50:39.080Z"
   },
   {
    "duration": 10,
    "start_time": "2022-05-05T02:50:39.134Z"
   },
   {
    "duration": 29,
    "start_time": "2022-05-05T02:50:39.147Z"
   },
   {
    "duration": 14,
    "start_time": "2022-05-05T02:50:39.181Z"
   },
   {
    "duration": 41,
    "start_time": "2022-05-05T02:50:39.197Z"
   },
   {
    "duration": 19,
    "start_time": "2022-05-05T02:50:39.240Z"
   },
   {
    "duration": 13,
    "start_time": "2022-05-05T02:50:39.261Z"
   },
   {
    "duration": 12,
    "start_time": "2022-05-05T02:50:39.276Z"
   },
   {
    "duration": 51,
    "start_time": "2022-05-05T02:50:39.290Z"
   },
   {
    "duration": 121,
    "start_time": "2022-05-05T02:50:39.343Z"
   },
   {
    "duration": 0,
    "start_time": "2022-05-05T02:50:39.466Z"
   },
   {
    "duration": 0,
    "start_time": "2022-05-05T02:50:39.467Z"
   },
   {
    "duration": 0,
    "start_time": "2022-05-05T02:50:39.468Z"
   },
   {
    "duration": 0,
    "start_time": "2022-05-05T02:50:39.469Z"
   },
   {
    "duration": 0,
    "start_time": "2022-05-05T02:50:39.470Z"
   },
   {
    "duration": 0,
    "start_time": "2022-05-05T02:50:39.471Z"
   },
   {
    "duration": 0,
    "start_time": "2022-05-05T02:50:39.473Z"
   },
   {
    "duration": 0,
    "start_time": "2022-05-05T02:50:39.474Z"
   },
   {
    "duration": 0,
    "start_time": "2022-05-05T02:50:39.476Z"
   },
   {
    "duration": 1,
    "start_time": "2022-05-05T02:50:39.477Z"
   },
   {
    "duration": 0,
    "start_time": "2022-05-05T02:50:39.479Z"
   },
   {
    "duration": 0,
    "start_time": "2022-05-05T02:50:39.480Z"
   },
   {
    "duration": 28,
    "start_time": "2022-05-05T02:50:47.869Z"
   },
   {
    "duration": 38,
    "start_time": "2022-05-05T02:51:41.580Z"
   },
   {
    "duration": 1270,
    "start_time": "2022-05-05T02:52:04.141Z"
   },
   {
    "duration": 336,
    "start_time": "2022-05-05T02:52:05.413Z"
   },
   {
    "duration": 14,
    "start_time": "2022-05-05T02:52:05.751Z"
   },
   {
    "duration": 24,
    "start_time": "2022-05-05T02:52:05.768Z"
   },
   {
    "duration": 10,
    "start_time": "2022-05-05T02:52:05.794Z"
   },
   {
    "duration": 14,
    "start_time": "2022-05-05T02:52:05.805Z"
   },
   {
    "duration": 17,
    "start_time": "2022-05-05T02:52:05.821Z"
   },
   {
    "duration": 25,
    "start_time": "2022-05-05T02:52:05.840Z"
   },
   {
    "duration": 31,
    "start_time": "2022-05-05T02:52:05.866Z"
   },
   {
    "duration": 13,
    "start_time": "2022-05-05T02:52:05.901Z"
   },
   {
    "duration": 15,
    "start_time": "2022-05-05T02:52:05.916Z"
   },
   {
    "duration": 12,
    "start_time": "2022-05-05T02:52:05.933Z"
   },
   {
    "duration": 67,
    "start_time": "2022-05-05T02:52:05.947Z"
   },
   {
    "duration": 10,
    "start_time": "2022-05-05T02:52:06.016Z"
   },
   {
    "duration": 27,
    "start_time": "2022-05-05T02:52:06.034Z"
   },
   {
    "duration": 5,
    "start_time": "2022-05-05T02:52:06.063Z"
   },
   {
    "duration": 23,
    "start_time": "2022-05-05T02:52:06.070Z"
   },
   {
    "duration": 39,
    "start_time": "2022-05-05T02:52:06.095Z"
   },
   {
    "duration": 27,
    "start_time": "2022-05-05T02:52:06.136Z"
   },
   {
    "duration": 8,
    "start_time": "2022-05-05T02:52:06.165Z"
   },
   {
    "duration": 29,
    "start_time": "2022-05-05T02:52:06.175Z"
   },
   {
    "duration": 35,
    "start_time": "2022-05-05T02:52:06.206Z"
   },
   {
    "duration": 20,
    "start_time": "2022-05-05T02:52:06.243Z"
   },
   {
    "duration": 11,
    "start_time": "2022-05-05T02:52:06.266Z"
   },
   {
    "duration": 54,
    "start_time": "2022-05-05T02:52:06.279Z"
   },
   {
    "duration": 10,
    "start_time": "2022-05-05T02:52:06.335Z"
   },
   {
    "duration": 24,
    "start_time": "2022-05-05T02:52:06.346Z"
   },
   {
    "duration": 11,
    "start_time": "2022-05-05T02:52:06.373Z"
   },
   {
    "duration": 50,
    "start_time": "2022-05-05T02:52:06.387Z"
   },
   {
    "duration": 21,
    "start_time": "2022-05-05T02:52:06.439Z"
   },
   {
    "duration": 13,
    "start_time": "2022-05-05T02:52:06.462Z"
   },
   {
    "duration": 12,
    "start_time": "2022-05-05T02:52:06.476Z"
   },
   {
    "duration": 61,
    "start_time": "2022-05-05T02:52:06.490Z"
   },
   {
    "duration": 115,
    "start_time": "2022-05-05T02:52:06.553Z"
   },
   {
    "duration": 0,
    "start_time": "2022-05-05T02:52:06.670Z"
   },
   {
    "duration": 0,
    "start_time": "2022-05-05T02:52:06.671Z"
   },
   {
    "duration": 0,
    "start_time": "2022-05-05T02:52:06.673Z"
   },
   {
    "duration": 0,
    "start_time": "2022-05-05T02:52:06.674Z"
   },
   {
    "duration": 0,
    "start_time": "2022-05-05T02:52:06.676Z"
   },
   {
    "duration": 0,
    "start_time": "2022-05-05T02:52:06.677Z"
   },
   {
    "duration": 0,
    "start_time": "2022-05-05T02:52:06.679Z"
   },
   {
    "duration": 0,
    "start_time": "2022-05-05T02:52:06.680Z"
   },
   {
    "duration": 0,
    "start_time": "2022-05-05T02:52:06.681Z"
   },
   {
    "duration": 0,
    "start_time": "2022-05-05T02:52:06.683Z"
   },
   {
    "duration": 0,
    "start_time": "2022-05-05T02:52:06.684Z"
   },
   {
    "duration": 0,
    "start_time": "2022-05-05T02:52:06.685Z"
   },
   {
    "duration": 13,
    "start_time": "2022-05-05T02:54:39.869Z"
   },
   {
    "duration": 15,
    "start_time": "2022-05-05T02:54:54.545Z"
   },
   {
    "duration": 9,
    "start_time": "2022-05-05T02:56:53.076Z"
   },
   {
    "duration": 4,
    "start_time": "2022-05-05T02:56:56.568Z"
   },
   {
    "duration": 11,
    "start_time": "2022-05-05T02:56:59.705Z"
   },
   {
    "duration": 17,
    "start_time": "2022-05-05T02:57:15.989Z"
   },
   {
    "duration": 7,
    "start_time": "2022-05-05T02:57:26.014Z"
   },
   {
    "duration": 30,
    "start_time": "2022-05-05T02:57:31.719Z"
   },
   {
    "duration": 1320,
    "start_time": "2022-05-05T02:58:17.653Z"
   },
   {
    "duration": 324,
    "start_time": "2022-05-05T02:58:18.975Z"
   },
   {
    "duration": 14,
    "start_time": "2022-05-05T02:58:19.301Z"
   },
   {
    "duration": 25,
    "start_time": "2022-05-05T02:58:19.318Z"
   },
   {
    "duration": 5,
    "start_time": "2022-05-05T02:58:19.345Z"
   },
   {
    "duration": 12,
    "start_time": "2022-05-05T02:58:19.352Z"
   },
   {
    "duration": 14,
    "start_time": "2022-05-05T02:58:19.366Z"
   },
   {
    "duration": 12,
    "start_time": "2022-05-05T02:58:19.382Z"
   },
   {
    "duration": 41,
    "start_time": "2022-05-05T02:58:19.396Z"
   },
   {
    "duration": 6,
    "start_time": "2022-05-05T02:58:19.440Z"
   },
   {
    "duration": 14,
    "start_time": "2022-05-05T02:58:19.448Z"
   },
   {
    "duration": 5,
    "start_time": "2022-05-05T02:58:19.464Z"
   },
   {
    "duration": 69,
    "start_time": "2022-05-05T02:58:19.471Z"
   },
   {
    "duration": 9,
    "start_time": "2022-05-05T02:58:19.542Z"
   },
   {
    "duration": 28,
    "start_time": "2022-05-05T02:58:19.553Z"
   },
   {
    "duration": 4,
    "start_time": "2022-05-05T02:58:19.583Z"
   },
   {
    "duration": 44,
    "start_time": "2022-05-05T02:58:19.589Z"
   },
   {
    "duration": 10,
    "start_time": "2022-05-05T02:58:19.635Z"
   },
   {
    "duration": 21,
    "start_time": "2022-05-05T02:58:19.647Z"
   },
   {
    "duration": 7,
    "start_time": "2022-05-05T02:58:19.670Z"
   },
   {
    "duration": 16,
    "start_time": "2022-05-05T02:58:19.679Z"
   },
   {
    "duration": 39,
    "start_time": "2022-05-05T02:58:19.697Z"
   },
   {
    "duration": 19,
    "start_time": "2022-05-05T02:58:19.738Z"
   },
   {
    "duration": 8,
    "start_time": "2022-05-05T02:58:19.759Z"
   },
   {
    "duration": 27,
    "start_time": "2022-05-05T02:58:19.769Z"
   },
   {
    "duration": 37,
    "start_time": "2022-05-05T02:58:19.798Z"
   },
   {
    "duration": 19,
    "start_time": "2022-05-05T02:58:19.837Z"
   },
   {
    "duration": 9,
    "start_time": "2022-05-05T02:58:19.860Z"
   },
   {
    "duration": 21,
    "start_time": "2022-05-05T02:58:19.871Z"
   },
   {
    "duration": 44,
    "start_time": "2022-05-05T02:58:19.893Z"
   },
   {
    "duration": 13,
    "start_time": "2022-05-05T02:58:19.939Z"
   },
   {
    "duration": 10,
    "start_time": "2022-05-05T02:58:19.954Z"
   },
   {
    "duration": 29,
    "start_time": "2022-05-05T02:58:19.966Z"
   },
   {
    "duration": 3,
    "start_time": "2022-05-05T02:58:19.997Z"
   },
   {
    "duration": 33,
    "start_time": "2022-05-05T02:58:20.002Z"
   },
   {
    "duration": 30,
    "start_time": "2022-05-05T02:58:20.037Z"
   },
   {
    "duration": 116,
    "start_time": "2022-05-05T02:58:20.069Z"
   },
   {
    "duration": 0,
    "start_time": "2022-05-05T02:58:20.187Z"
   },
   {
    "duration": 0,
    "start_time": "2022-05-05T02:58:20.188Z"
   },
   {
    "duration": 0,
    "start_time": "2022-05-05T02:58:20.189Z"
   },
   {
    "duration": 0,
    "start_time": "2022-05-05T02:58:20.190Z"
   },
   {
    "duration": 0,
    "start_time": "2022-05-05T02:58:20.191Z"
   },
   {
    "duration": 0,
    "start_time": "2022-05-05T02:58:20.192Z"
   },
   {
    "duration": 0,
    "start_time": "2022-05-05T02:58:20.193Z"
   },
   {
    "duration": 0,
    "start_time": "2022-05-05T02:58:20.194Z"
   },
   {
    "duration": 0,
    "start_time": "2022-05-05T02:58:20.195Z"
   },
   {
    "duration": 0,
    "start_time": "2022-05-05T02:58:20.197Z"
   },
   {
    "duration": 0,
    "start_time": "2022-05-05T02:58:20.198Z"
   },
   {
    "duration": 0,
    "start_time": "2022-05-05T02:58:20.199Z"
   },
   {
    "duration": 2238,
    "start_time": "2022-05-05T02:59:42.734Z"
   },
   {
    "duration": 843,
    "start_time": "2022-05-05T02:59:44.974Z"
   },
   {
    "duration": 12,
    "start_time": "2022-05-05T02:59:45.819Z"
   },
   {
    "duration": 13,
    "start_time": "2022-05-05T02:59:45.834Z"
   },
   {
    "duration": 4,
    "start_time": "2022-05-05T02:59:45.849Z"
   },
   {
    "duration": 10,
    "start_time": "2022-05-05T02:59:45.854Z"
   },
   {
    "duration": 11,
    "start_time": "2022-05-05T02:59:45.866Z"
   },
   {
    "duration": 13,
    "start_time": "2022-05-05T02:59:45.878Z"
   },
   {
    "duration": 11,
    "start_time": "2022-05-05T02:59:45.892Z"
   },
   {
    "duration": 5,
    "start_time": "2022-05-05T02:59:45.936Z"
   },
   {
    "duration": 27,
    "start_time": "2022-05-05T02:59:45.942Z"
   },
   {
    "duration": 26,
    "start_time": "2022-05-05T02:59:45.971Z"
   },
   {
    "duration": 48,
    "start_time": "2022-05-05T02:59:45.999Z"
   },
   {
    "duration": 8,
    "start_time": "2022-05-05T02:59:46.049Z"
   },
   {
    "duration": 29,
    "start_time": "2022-05-05T02:59:46.059Z"
   },
   {
    "duration": 6,
    "start_time": "2022-05-05T02:59:46.089Z"
   },
   {
    "duration": 37,
    "start_time": "2022-05-05T02:59:46.096Z"
   },
   {
    "duration": 11,
    "start_time": "2022-05-05T02:59:46.135Z"
   },
   {
    "duration": 22,
    "start_time": "2022-05-05T02:59:46.148Z"
   },
   {
    "duration": 8,
    "start_time": "2022-05-05T02:59:46.172Z"
   },
   {
    "duration": 15,
    "start_time": "2022-05-05T02:59:46.182Z"
   },
   {
    "duration": 41,
    "start_time": "2022-05-05T02:59:46.200Z"
   },
   {
    "duration": 34,
    "start_time": "2022-05-05T02:59:46.243Z"
   },
   {
    "duration": 10,
    "start_time": "2022-05-05T02:59:46.279Z"
   },
   {
    "duration": 43,
    "start_time": "2022-05-05T02:59:46.291Z"
   },
   {
    "duration": 10,
    "start_time": "2022-05-05T02:59:46.336Z"
   },
   {
    "duration": 19,
    "start_time": "2022-05-05T02:59:46.348Z"
   },
   {
    "duration": 9,
    "start_time": "2022-05-05T02:59:46.372Z"
   },
   {
    "duration": 50,
    "start_time": "2022-05-05T02:59:46.383Z"
   },
   {
    "duration": 20,
    "start_time": "2022-05-05T02:59:46.435Z"
   },
   {
    "duration": 13,
    "start_time": "2022-05-05T02:59:46.457Z"
   },
   {
    "duration": 10,
    "start_time": "2022-05-05T02:59:46.472Z"
   },
   {
    "duration": 56,
    "start_time": "2022-05-05T02:59:46.483Z"
   },
   {
    "duration": 4,
    "start_time": "2022-05-05T02:59:46.540Z"
   },
   {
    "duration": 29,
    "start_time": "2022-05-05T02:59:46.546Z"
   },
   {
    "duration": 25,
    "start_time": "2022-05-05T02:59:46.578Z"
   },
   {
    "duration": 15,
    "start_time": "2022-05-05T02:59:46.606Z"
   },
   {
    "duration": 123,
    "start_time": "2022-05-05T02:59:46.623Z"
   },
   {
    "duration": 0,
    "start_time": "2022-05-05T02:59:46.748Z"
   },
   {
    "duration": 0,
    "start_time": "2022-05-05T02:59:46.749Z"
   },
   {
    "duration": 0,
    "start_time": "2022-05-05T02:59:46.751Z"
   },
   {
    "duration": 0,
    "start_time": "2022-05-05T02:59:46.752Z"
   },
   {
    "duration": 0,
    "start_time": "2022-05-05T02:59:46.754Z"
   },
   {
    "duration": 0,
    "start_time": "2022-05-05T02:59:46.755Z"
   },
   {
    "duration": 0,
    "start_time": "2022-05-05T02:59:46.756Z"
   },
   {
    "duration": 0,
    "start_time": "2022-05-05T02:59:46.758Z"
   },
   {
    "duration": 0,
    "start_time": "2022-05-05T02:59:46.759Z"
   },
   {
    "duration": 0,
    "start_time": "2022-05-05T02:59:46.761Z"
   },
   {
    "duration": 0,
    "start_time": "2022-05-05T02:59:46.762Z"
   },
   {
    "duration": 0,
    "start_time": "2022-05-05T02:59:46.763Z"
   },
   {
    "duration": 1333,
    "start_time": "2022-05-05T03:03:33.977Z"
   },
   {
    "duration": 340,
    "start_time": "2022-05-05T03:03:35.312Z"
   },
   {
    "duration": 13,
    "start_time": "2022-05-05T03:03:35.654Z"
   },
   {
    "duration": 24,
    "start_time": "2022-05-05T03:03:35.669Z"
   },
   {
    "duration": 4,
    "start_time": "2022-05-05T03:03:35.695Z"
   },
   {
    "duration": 17,
    "start_time": "2022-05-05T03:03:35.700Z"
   },
   {
    "duration": 12,
    "start_time": "2022-05-05T03:03:35.719Z"
   },
   {
    "duration": 15,
    "start_time": "2022-05-05T03:03:35.732Z"
   },
   {
    "duration": 13,
    "start_time": "2022-05-05T03:03:35.749Z"
   },
   {
    "duration": 3011,
    "start_time": "2022-05-05T03:03:35.765Z"
   },
   {
    "duration": 0,
    "start_time": "2022-05-05T03:03:38.779Z"
   },
   {
    "duration": 0,
    "start_time": "2022-05-05T03:03:38.780Z"
   },
   {
    "duration": 0,
    "start_time": "2022-05-05T03:03:38.781Z"
   },
   {
    "duration": 0,
    "start_time": "2022-05-05T03:03:38.782Z"
   },
   {
    "duration": 0,
    "start_time": "2022-05-05T03:03:38.783Z"
   },
   {
    "duration": 0,
    "start_time": "2022-05-05T03:03:38.784Z"
   },
   {
    "duration": 0,
    "start_time": "2022-05-05T03:03:38.786Z"
   },
   {
    "duration": 0,
    "start_time": "2022-05-05T03:03:38.787Z"
   },
   {
    "duration": 0,
    "start_time": "2022-05-05T03:03:38.788Z"
   },
   {
    "duration": 0,
    "start_time": "2022-05-05T03:03:38.788Z"
   },
   {
    "duration": 0,
    "start_time": "2022-05-05T03:03:38.789Z"
   },
   {
    "duration": 0,
    "start_time": "2022-05-05T03:03:38.790Z"
   },
   {
    "duration": 0,
    "start_time": "2022-05-05T03:03:38.791Z"
   },
   {
    "duration": 0,
    "start_time": "2022-05-05T03:03:38.792Z"
   },
   {
    "duration": 1,
    "start_time": "2022-05-05T03:03:38.793Z"
   },
   {
    "duration": 0,
    "start_time": "2022-05-05T03:03:38.795Z"
   },
   {
    "duration": 0,
    "start_time": "2022-05-05T03:03:38.796Z"
   },
   {
    "duration": 0,
    "start_time": "2022-05-05T03:03:38.797Z"
   },
   {
    "duration": 0,
    "start_time": "2022-05-05T03:03:38.798Z"
   },
   {
    "duration": 0,
    "start_time": "2022-05-05T03:03:38.799Z"
   },
   {
    "duration": 0,
    "start_time": "2022-05-05T03:03:38.800Z"
   },
   {
    "duration": 0,
    "start_time": "2022-05-05T03:03:38.801Z"
   },
   {
    "duration": 0,
    "start_time": "2022-05-05T03:03:38.803Z"
   },
   {
    "duration": 0,
    "start_time": "2022-05-05T03:03:38.804Z"
   },
   {
    "duration": 0,
    "start_time": "2022-05-05T03:03:38.805Z"
   },
   {
    "duration": 0,
    "start_time": "2022-05-05T03:03:38.806Z"
   },
   {
    "duration": 0,
    "start_time": "2022-05-05T03:03:38.807Z"
   },
   {
    "duration": 0,
    "start_time": "2022-05-05T03:03:38.808Z"
   },
   {
    "duration": 0,
    "start_time": "2022-05-05T03:03:38.809Z"
   },
   {
    "duration": 0,
    "start_time": "2022-05-05T03:03:38.810Z"
   },
   {
    "duration": 0,
    "start_time": "2022-05-05T03:03:38.811Z"
   },
   {
    "duration": 0,
    "start_time": "2022-05-05T03:03:38.812Z"
   },
   {
    "duration": 0,
    "start_time": "2022-05-05T03:03:38.813Z"
   },
   {
    "duration": 0,
    "start_time": "2022-05-05T03:03:38.815Z"
   },
   {
    "duration": 0,
    "start_time": "2022-05-05T03:03:38.816Z"
   },
   {
    "duration": 0,
    "start_time": "2022-05-05T03:03:38.817Z"
   },
   {
    "duration": 0,
    "start_time": "2022-05-05T03:03:38.834Z"
   },
   {
    "duration": 0,
    "start_time": "2022-05-05T03:03:38.835Z"
   },
   {
    "duration": 0,
    "start_time": "2022-05-05T03:03:38.836Z"
   },
   {
    "duration": 1250,
    "start_time": "2022-05-05T03:04:14.756Z"
   },
   {
    "duration": 339,
    "start_time": "2022-05-05T03:04:16.009Z"
   },
   {
    "duration": 13,
    "start_time": "2022-05-05T03:04:16.350Z"
   },
   {
    "duration": 19,
    "start_time": "2022-05-05T03:04:16.366Z"
   },
   {
    "duration": 4,
    "start_time": "2022-05-05T03:04:16.387Z"
   },
   {
    "duration": 10,
    "start_time": "2022-05-05T03:04:16.392Z"
   },
   {
    "duration": 13,
    "start_time": "2022-05-05T03:04:16.403Z"
   },
   {
    "duration": 24,
    "start_time": "2022-05-05T03:04:16.418Z"
   },
   {
    "duration": 11,
    "start_time": "2022-05-05T03:04:16.444Z"
   },
   {
    "duration": 6,
    "start_time": "2022-05-05T03:04:16.458Z"
   },
   {
    "duration": 14,
    "start_time": "2022-05-05T03:04:16.466Z"
   },
   {
    "duration": 70,
    "start_time": "2022-05-05T03:04:16.482Z"
   },
   {
    "duration": 9,
    "start_time": "2022-05-05T03:04:16.553Z"
   },
   {
    "duration": 31,
    "start_time": "2022-05-05T03:04:16.564Z"
   },
   {
    "duration": 4,
    "start_time": "2022-05-05T03:04:16.597Z"
   },
   {
    "duration": 40,
    "start_time": "2022-05-05T03:04:16.603Z"
   },
   {
    "duration": 11,
    "start_time": "2022-05-05T03:04:16.644Z"
   },
   {
    "duration": 22,
    "start_time": "2022-05-05T03:04:16.657Z"
   },
   {
    "duration": 8,
    "start_time": "2022-05-05T03:04:16.681Z"
   },
   {
    "duration": 46,
    "start_time": "2022-05-05T03:04:16.691Z"
   },
   {
    "duration": 15,
    "start_time": "2022-05-05T03:04:16.738Z"
   },
   {
    "duration": 20,
    "start_time": "2022-05-05T03:04:16.755Z"
   },
   {
    "duration": 25,
    "start_time": "2022-05-05T03:04:16.777Z"
   },
   {
    "duration": 42,
    "start_time": "2022-05-05T03:04:16.804Z"
   },
   {
    "duration": 9,
    "start_time": "2022-05-05T03:04:16.848Z"
   },
   {
    "duration": 22,
    "start_time": "2022-05-05T03:04:16.858Z"
   },
   {
    "duration": 10,
    "start_time": "2022-05-05T03:04:16.882Z"
   },
   {
    "duration": 48,
    "start_time": "2022-05-05T03:04:16.895Z"
   },
   {
    "duration": 19,
    "start_time": "2022-05-05T03:04:16.945Z"
   },
   {
    "duration": 22,
    "start_time": "2022-05-05T03:04:16.965Z"
   },
   {
    "duration": 20,
    "start_time": "2022-05-05T03:04:16.989Z"
   },
   {
    "duration": 51,
    "start_time": "2022-05-05T03:04:17.011Z"
   },
   {
    "duration": 11,
    "start_time": "2022-05-05T03:04:17.064Z"
   },
   {
    "duration": 19,
    "start_time": "2022-05-05T03:04:17.077Z"
   },
   {
    "duration": 38,
    "start_time": "2022-05-05T03:04:17.098Z"
   },
   {
    "duration": 17,
    "start_time": "2022-05-05T03:04:17.138Z"
   },
   {
    "duration": 122,
    "start_time": "2022-05-05T03:04:17.156Z"
   },
   {
    "duration": 0,
    "start_time": "2022-05-05T03:04:17.280Z"
   },
   {
    "duration": 0,
    "start_time": "2022-05-05T03:04:17.281Z"
   },
   {
    "duration": 0,
    "start_time": "2022-05-05T03:04:17.282Z"
   },
   {
    "duration": 0,
    "start_time": "2022-05-05T03:04:17.283Z"
   },
   {
    "duration": 0,
    "start_time": "2022-05-05T03:04:17.284Z"
   },
   {
    "duration": 0,
    "start_time": "2022-05-05T03:04:17.285Z"
   },
   {
    "duration": 0,
    "start_time": "2022-05-05T03:04:17.286Z"
   },
   {
    "duration": 0,
    "start_time": "2022-05-05T03:04:17.287Z"
   },
   {
    "duration": 0,
    "start_time": "2022-05-05T03:04:17.288Z"
   },
   {
    "duration": 0,
    "start_time": "2022-05-05T03:04:17.289Z"
   },
   {
    "duration": 0,
    "start_time": "2022-05-05T03:04:17.290Z"
   },
   {
    "duration": 0,
    "start_time": "2022-05-05T03:04:17.291Z"
   },
   {
    "duration": 6,
    "start_time": "2022-05-05T03:05:16.397Z"
   },
   {
    "duration": 6,
    "start_time": "2022-05-05T03:06:39.265Z"
   },
   {
    "duration": 43,
    "start_time": "2022-05-05T03:06:56.339Z"
   },
   {
    "duration": 18,
    "start_time": "2022-05-05T03:07:09.146Z"
   },
   {
    "duration": 1224,
    "start_time": "2022-05-05T03:08:56.159Z"
   },
   {
    "duration": 334,
    "start_time": "2022-05-05T03:08:57.385Z"
   },
   {
    "duration": 13,
    "start_time": "2022-05-05T03:08:57.721Z"
   },
   {
    "duration": 18,
    "start_time": "2022-05-05T03:08:57.736Z"
   },
   {
    "duration": 7,
    "start_time": "2022-05-05T03:08:57.755Z"
   },
   {
    "duration": 9,
    "start_time": "2022-05-05T03:08:57.764Z"
   },
   {
    "duration": 12,
    "start_time": "2022-05-05T03:08:57.774Z"
   },
   {
    "duration": 14,
    "start_time": "2022-05-05T03:08:57.788Z"
   },
   {
    "duration": 11,
    "start_time": "2022-05-05T03:08:57.833Z"
   },
   {
    "duration": 7,
    "start_time": "2022-05-05T03:08:57.847Z"
   },
   {
    "duration": 11,
    "start_time": "2022-05-05T03:08:57.856Z"
   },
   {
    "duration": 69,
    "start_time": "2022-05-05T03:08:57.869Z"
   },
   {
    "duration": 9,
    "start_time": "2022-05-05T03:08:57.940Z"
   },
   {
    "duration": 30,
    "start_time": "2022-05-05T03:08:57.950Z"
   },
   {
    "duration": 4,
    "start_time": "2022-05-05T03:08:57.982Z"
   },
   {
    "duration": 48,
    "start_time": "2022-05-05T03:08:57.988Z"
   },
   {
    "duration": 10,
    "start_time": "2022-05-05T03:08:58.038Z"
   },
   {
    "duration": 23,
    "start_time": "2022-05-05T03:08:58.050Z"
   },
   {
    "duration": 8,
    "start_time": "2022-05-05T03:08:58.075Z"
   },
   {
    "duration": 17,
    "start_time": "2022-05-05T03:08:58.084Z"
   },
   {
    "duration": 42,
    "start_time": "2022-05-05T03:08:58.103Z"
   },
   {
    "duration": 19,
    "start_time": "2022-05-05T03:08:58.147Z"
   },
   {
    "duration": 9,
    "start_time": "2022-05-05T03:08:58.168Z"
   },
   {
    "duration": 60,
    "start_time": "2022-05-05T03:08:58.179Z"
   },
   {
    "duration": 9,
    "start_time": "2022-05-05T03:08:58.241Z"
   },
   {
    "duration": 20,
    "start_time": "2022-05-05T03:08:58.252Z"
   },
   {
    "duration": 8,
    "start_time": "2022-05-05T03:08:58.274Z"
   },
   {
    "duration": 48,
    "start_time": "2022-05-05T03:08:58.286Z"
   },
   {
    "duration": 20,
    "start_time": "2022-05-05T03:08:58.336Z"
   },
   {
    "duration": 13,
    "start_time": "2022-05-05T03:08:58.358Z"
   },
   {
    "duration": 11,
    "start_time": "2022-05-05T03:08:58.373Z"
   },
   {
    "duration": 60,
    "start_time": "2022-05-05T03:08:58.385Z"
   },
   {
    "duration": 3,
    "start_time": "2022-05-05T03:08:58.447Z"
   },
   {
    "duration": 10,
    "start_time": "2022-05-05T03:08:58.452Z"
   },
   {
    "duration": 28,
    "start_time": "2022-05-05T03:08:58.464Z"
   },
   {
    "duration": 4,
    "start_time": "2022-05-05T03:08:58.494Z"
   },
   {
    "duration": 36,
    "start_time": "2022-05-05T03:08:58.499Z"
   },
   {
    "duration": 6,
    "start_time": "2022-05-05T03:08:58.537Z"
   },
   {
    "duration": 48,
    "start_time": "2022-05-05T03:08:58.545Z"
   },
   {
    "duration": 20,
    "start_time": "2022-05-05T03:08:58.595Z"
   },
   {
    "duration": 112,
    "start_time": "2022-05-05T03:08:58.634Z"
   },
   {
    "duration": 0,
    "start_time": "2022-05-05T03:08:58.748Z"
   },
   {
    "duration": 0,
    "start_time": "2022-05-05T03:08:58.749Z"
   },
   {
    "duration": 0,
    "start_time": "2022-05-05T03:08:58.750Z"
   },
   {
    "duration": 0,
    "start_time": "2022-05-05T03:08:58.751Z"
   },
   {
    "duration": 0,
    "start_time": "2022-05-05T03:08:58.752Z"
   },
   {
    "duration": 0,
    "start_time": "2022-05-05T03:08:58.753Z"
   },
   {
    "duration": 0,
    "start_time": "2022-05-05T03:08:58.754Z"
   },
   {
    "duration": 0,
    "start_time": "2022-05-05T03:08:58.754Z"
   },
   {
    "duration": 0,
    "start_time": "2022-05-05T03:08:58.756Z"
   },
   {
    "duration": 10,
    "start_time": "2022-05-05T03:13:12.915Z"
   },
   {
    "duration": 9,
    "start_time": "2022-05-05T03:13:23.101Z"
   },
   {
    "duration": 15,
    "start_time": "2022-05-05T03:13:30.788Z"
   },
   {
    "duration": 21,
    "start_time": "2022-05-05T03:13:54.895Z"
   },
   {
    "duration": 170,
    "start_time": "2022-05-05T03:14:37.503Z"
   },
   {
    "duration": 11,
    "start_time": "2022-05-05T03:14:42.205Z"
   },
   {
    "duration": 14,
    "start_time": "2022-05-05T03:15:06.439Z"
   },
   {
    "duration": 10,
    "start_time": "2022-05-05T03:15:13.034Z"
   },
   {
    "duration": 21,
    "start_time": "2022-05-05T03:15:41.295Z"
   },
   {
    "duration": 21,
    "start_time": "2022-05-05T03:16:40.907Z"
   },
   {
    "duration": 326,
    "start_time": "2022-05-05T03:16:59.171Z"
   },
   {
    "duration": 20,
    "start_time": "2022-05-05T03:17:30.897Z"
   },
   {
    "duration": 249,
    "start_time": "2022-05-05T03:17:57.344Z"
   },
   {
    "duration": 18,
    "start_time": "2022-05-05T03:18:52.396Z"
   },
   {
    "duration": 329,
    "start_time": "2022-05-05T03:20:12.030Z"
   },
   {
    "duration": 16,
    "start_time": "2022-05-05T03:20:19.157Z"
   },
   {
    "duration": 239,
    "start_time": "2022-05-05T03:20:28.937Z"
   },
   {
    "duration": 19,
    "start_time": "2022-05-05T03:22:03.071Z"
   },
   {
    "duration": 15,
    "start_time": "2022-05-05T03:22:24.994Z"
   },
   {
    "duration": 17,
    "start_time": "2022-05-05T03:22:31.201Z"
   },
   {
    "duration": 15,
    "start_time": "2022-05-05T03:22:49.350Z"
   },
   {
    "duration": 13,
    "start_time": "2022-05-05T03:23:40.425Z"
   },
   {
    "duration": 14,
    "start_time": "2022-05-05T03:24:01.459Z"
   },
   {
    "duration": 17,
    "start_time": "2022-05-05T03:24:08.027Z"
   },
   {
    "duration": 9,
    "start_time": "2022-05-05T03:24:13.930Z"
   },
   {
    "duration": 17,
    "start_time": "2022-05-05T03:24:50.876Z"
   },
   {
    "duration": 22,
    "start_time": "2022-05-05T03:25:10.954Z"
   },
   {
    "duration": 14,
    "start_time": "2022-05-05T03:25:22.722Z"
   },
   {
    "duration": 18,
    "start_time": "2022-05-05T03:25:30.382Z"
   },
   {
    "duration": 16,
    "start_time": "2022-05-05T03:25:39.447Z"
   },
   {
    "duration": 19,
    "start_time": "2022-05-05T03:25:48.077Z"
   },
   {
    "duration": 25,
    "start_time": "2022-05-05T03:26:16.688Z"
   },
   {
    "duration": 288,
    "start_time": "2022-05-05T03:26:31.418Z"
   },
   {
    "duration": 16,
    "start_time": "2022-05-05T03:28:47.578Z"
   },
   {
    "duration": 16,
    "start_time": "2022-05-05T03:28:55.930Z"
   },
   {
    "duration": 13,
    "start_time": "2022-05-05T03:29:18.953Z"
   },
   {
    "duration": 8,
    "start_time": "2022-05-05T03:29:25.737Z"
   },
   {
    "duration": 12,
    "start_time": "2022-05-05T03:29:31.281Z"
   },
   {
    "duration": 14,
    "start_time": "2022-05-05T03:29:44.341Z"
   },
   {
    "duration": 16,
    "start_time": "2022-05-05T03:30:35.315Z"
   },
   {
    "duration": 156,
    "start_time": "2022-05-05T03:31:07.412Z"
   },
   {
    "duration": 15,
    "start_time": "2022-05-05T03:31:10.738Z"
   },
   {
    "duration": 278,
    "start_time": "2022-05-05T03:31:47.327Z"
   },
   {
    "duration": 10,
    "start_time": "2022-05-05T03:33:55.107Z"
   },
   {
    "duration": 10,
    "start_time": "2022-05-05T03:34:24.769Z"
   },
   {
    "duration": 4,
    "start_time": "2022-05-05T03:34:32.546Z"
   },
   {
    "duration": 6,
    "start_time": "2022-05-05T03:34:38.362Z"
   },
   {
    "duration": 11,
    "start_time": "2022-05-05T03:34:41.612Z"
   },
   {
    "duration": 6576,
    "start_time": "2022-05-05T03:35:19.535Z"
   },
   {
    "duration": 508,
    "start_time": "2022-05-05T03:36:11.765Z"
   },
   {
    "duration": 1395,
    "start_time": "2022-05-05T03:36:51.009Z"
   },
   {
    "duration": 851,
    "start_time": "2022-05-05T03:37:16.267Z"
   },
   {
    "duration": 478,
    "start_time": "2022-05-05T03:38:14.510Z"
   },
   {
    "duration": 473,
    "start_time": "2022-05-05T03:41:27.657Z"
   },
   {
    "duration": 467,
    "start_time": "2022-05-05T03:42:05.260Z"
   },
   {
    "duration": 1105,
    "start_time": "2022-05-05T03:42:43.526Z"
   },
   {
    "duration": 487,
    "start_time": "2022-05-05T03:42:59.909Z"
   },
   {
    "duration": 471,
    "start_time": "2022-05-05T03:43:07.238Z"
   },
   {
    "duration": 452,
    "start_time": "2022-05-05T03:43:26.872Z"
   },
   {
    "duration": 175,
    "start_time": "2022-05-05T03:46:51.123Z"
   },
   {
    "duration": 183,
    "start_time": "2022-05-05T03:49:19.054Z"
   },
   {
    "duration": 188,
    "start_time": "2022-05-05T03:49:52.467Z"
   },
   {
    "duration": 186,
    "start_time": "2022-05-05T03:50:17.227Z"
   },
   {
    "duration": 174,
    "start_time": "2022-05-05T03:50:50.898Z"
   },
   {
    "duration": 168,
    "start_time": "2022-05-05T03:51:03.070Z"
   },
   {
    "duration": 172,
    "start_time": "2022-05-05T03:51:54.237Z"
   },
   {
    "duration": 180,
    "start_time": "2022-05-05T03:52:14.430Z"
   },
   {
    "duration": 168,
    "start_time": "2022-05-05T04:17:04.048Z"
   },
   {
    "duration": 231,
    "start_time": "2022-05-05T04:17:17.946Z"
   },
   {
    "duration": 310,
    "start_time": "2022-05-05T04:17:29.476Z"
   },
   {
    "duration": 321,
    "start_time": "2022-05-05T04:18:38.670Z"
   },
   {
    "duration": 317,
    "start_time": "2022-05-05T04:19:16.635Z"
   },
   {
    "duration": 326,
    "start_time": "2022-05-05T04:19:28.719Z"
   },
   {
    "duration": 332,
    "start_time": "2022-05-05T04:21:53.023Z"
   },
   {
    "duration": 675,
    "start_time": "2022-05-05T04:22:27.814Z"
   },
   {
    "duration": 325,
    "start_time": "2022-05-05T04:23:26.854Z"
   },
   {
    "duration": 339,
    "start_time": "2022-05-05T04:23:33.365Z"
   },
   {
    "duration": 17,
    "start_time": "2022-05-05T04:25:30.309Z"
   },
   {
    "duration": 5,
    "start_time": "2022-05-05T04:26:34.630Z"
   },
   {
    "duration": 10,
    "start_time": "2022-05-05T04:26:39.384Z"
   },
   {
    "duration": 1240,
    "start_time": "2022-05-05T04:26:55.831Z"
   },
   {
    "duration": 5,
    "start_time": "2022-05-05T04:27:19.960Z"
   },
   {
    "duration": 9,
    "start_time": "2022-05-05T04:27:22.721Z"
   },
   {
    "duration": 145,
    "start_time": "2022-05-05T04:28:44.213Z"
   },
   {
    "duration": 8,
    "start_time": "2022-05-05T04:30:07.377Z"
   },
   {
    "duration": 13,
    "start_time": "2022-05-05T04:30:12.135Z"
   },
   {
    "duration": 139,
    "start_time": "2022-05-05T04:30:35.813Z"
   },
   {
    "duration": 12,
    "start_time": "2022-05-05T04:30:43.492Z"
   },
   {
    "duration": 118,
    "start_time": "2022-05-05T04:32:09.865Z"
   },
   {
    "duration": 114,
    "start_time": "2022-05-05T04:32:21.524Z"
   },
   {
    "duration": 111,
    "start_time": "2022-05-05T04:32:28.992Z"
   },
   {
    "duration": 126,
    "start_time": "2022-05-05T04:33:14.499Z"
   },
   {
    "duration": 127,
    "start_time": "2022-05-05T04:33:19.354Z"
   },
   {
    "duration": 122,
    "start_time": "2022-05-05T04:33:32.454Z"
   },
   {
    "duration": 198,
    "start_time": "2022-05-05T04:34:15.458Z"
   },
   {
    "duration": 128,
    "start_time": "2022-05-05T04:34:17.994Z"
   },
   {
    "duration": 410,
    "start_time": "2022-05-05T04:34:42.958Z"
   },
   {
    "duration": 135,
    "start_time": "2022-05-05T04:35:07.830Z"
   },
   {
    "duration": 432,
    "start_time": "2022-05-05T04:35:22.553Z"
   },
   {
    "duration": 798,
    "start_time": "2022-05-05T04:36:13.058Z"
   },
   {
    "duration": 441,
    "start_time": "2022-05-05T04:36:31.647Z"
   },
   {
    "duration": 449,
    "start_time": "2022-05-05T04:37:03.986Z"
   },
   {
    "duration": 463,
    "start_time": "2022-05-05T04:37:31.144Z"
   },
   {
    "duration": 451,
    "start_time": "2022-05-05T04:37:37.977Z"
   },
   {
    "duration": 461,
    "start_time": "2022-05-05T04:37:58.316Z"
   },
   {
    "duration": 135,
    "start_time": "2022-05-05T04:38:28.412Z"
   },
   {
    "duration": 132,
    "start_time": "2022-05-05T04:38:35.626Z"
   },
   {
    "duration": 172,
    "start_time": "2022-05-05T04:38:48.531Z"
   },
   {
    "duration": 167,
    "start_time": "2022-05-05T04:38:55.630Z"
   },
   {
    "duration": 147,
    "start_time": "2022-05-05T04:39:04.619Z"
   },
   {
    "duration": 13,
    "start_time": "2022-05-05T04:41:19.219Z"
   },
   {
    "duration": 9,
    "start_time": "2022-05-05T04:41:26.925Z"
   },
   {
    "duration": 226,
    "start_time": "2022-05-05T04:42:06.845Z"
   },
   {
    "duration": 16,
    "start_time": "2022-05-05T04:44:40.057Z"
   },
   {
    "duration": 14,
    "start_time": "2022-05-05T04:46:54.892Z"
   },
   {
    "duration": 20,
    "start_time": "2022-05-05T04:48:50.389Z"
   },
   {
    "duration": 20,
    "start_time": "2022-05-05T04:49:37.107Z"
   },
   {
    "duration": 16,
    "start_time": "2022-05-05T04:49:44.009Z"
   },
   {
    "duration": 443,
    "start_time": "2022-05-05T04:52:09.340Z"
   },
   {
    "duration": 13,
    "start_time": "2022-05-05T04:52:30.023Z"
   },
   {
    "duration": 140,
    "start_time": "2022-05-05T04:52:58.322Z"
   },
   {
    "duration": 227,
    "start_time": "2022-05-05T04:53:56.439Z"
   },
   {
    "duration": 219,
    "start_time": "2022-05-05T04:54:10.240Z"
   },
   {
    "duration": 230,
    "start_time": "2022-05-05T04:55:14.162Z"
   },
   {
    "duration": 16,
    "start_time": "2022-05-05T04:57:00.279Z"
   },
   {
    "duration": 144,
    "start_time": "2022-05-05T04:57:40.316Z"
   },
   {
    "duration": 833,
    "start_time": "2022-05-05T04:58:02.994Z"
   },
   {
    "duration": 451,
    "start_time": "2022-05-05T04:58:08.971Z"
   },
   {
    "duration": 12,
    "start_time": "2022-05-05T05:00:33.281Z"
   },
   {
    "duration": 122,
    "start_time": "2022-05-05T05:01:04.601Z"
   },
   {
    "duration": 16,
    "start_time": "2022-05-05T05:03:38.168Z"
   },
   {
    "duration": 16,
    "start_time": "2022-05-05T05:04:11.848Z"
   },
   {
    "duration": 143,
    "start_time": "2022-05-05T05:05:45.768Z"
   },
   {
    "duration": 453,
    "start_time": "2022-05-05T05:06:22.375Z"
   },
   {
    "duration": 157,
    "start_time": "2022-05-05T05:07:09.017Z"
   },
   {
    "duration": 150,
    "start_time": "2022-05-05T05:07:19.401Z"
   },
   {
    "duration": 424,
    "start_time": "2022-05-05T05:07:47.050Z"
   },
   {
    "duration": 423,
    "start_time": "2022-05-05T05:07:57.510Z"
   },
   {
    "duration": 426,
    "start_time": "2022-05-05T05:08:11.551Z"
   },
   {
    "duration": 449,
    "start_time": "2022-05-05T05:08:18.904Z"
   },
   {
    "duration": 15,
    "start_time": "2022-05-05T05:13:57.480Z"
   },
   {
    "duration": 3,
    "start_time": "2022-05-05T05:14:19.040Z"
   },
   {
    "duration": 9,
    "start_time": "2022-05-05T05:14:26.273Z"
   },
   {
    "duration": 11,
    "start_time": "2022-05-05T05:14:37.353Z"
   },
   {
    "duration": 13,
    "start_time": "2022-05-05T05:17:43.809Z"
   },
   {
    "duration": 16,
    "start_time": "2022-05-05T05:23:19.009Z"
   },
   {
    "duration": 170,
    "start_time": "2022-05-05T05:25:21.007Z"
   },
   {
    "duration": 13,
    "start_time": "2022-05-05T05:25:27.944Z"
   },
   {
    "duration": 13,
    "start_time": "2022-05-05T05:26:32.128Z"
   },
   {
    "duration": 13,
    "start_time": "2022-05-05T05:28:43.541Z"
   },
   {
    "duration": 12,
    "start_time": "2022-05-05T05:28:58.968Z"
   },
   {
    "duration": 8,
    "start_time": "2022-05-05T05:29:46.774Z"
   },
   {
    "duration": 14,
    "start_time": "2022-05-05T05:31:45.954Z"
   },
   {
    "duration": 12,
    "start_time": "2022-05-05T05:31:57.625Z"
   },
   {
    "duration": 9,
    "start_time": "2022-05-05T05:32:18.273Z"
   },
   {
    "duration": 16,
    "start_time": "2022-05-05T05:32:47.926Z"
   },
   {
    "duration": 15,
    "start_time": "2022-05-05T05:34:56.576Z"
   },
   {
    "duration": 16,
    "start_time": "2022-05-05T05:36:14.606Z"
   },
   {
    "duration": 21,
    "start_time": "2022-05-05T05:36:22.781Z"
   },
   {
    "duration": 24,
    "start_time": "2022-05-05T05:36:33.262Z"
   },
   {
    "duration": 17,
    "start_time": "2022-05-05T05:37:41.365Z"
   },
   {
    "duration": 20,
    "start_time": "2022-05-05T05:38:14.869Z"
   },
   {
    "duration": 19,
    "start_time": "2022-05-05T05:38:50.742Z"
   },
   {
    "duration": 25,
    "start_time": "2022-05-05T05:39:08.869Z"
   },
   {
    "duration": 20,
    "start_time": "2022-05-05T05:39:27.698Z"
   },
   {
    "duration": 1200,
    "start_time": "2022-05-05T05:40:13.683Z"
   },
   {
    "duration": 327,
    "start_time": "2022-05-05T05:40:14.885Z"
   },
   {
    "duration": 13,
    "start_time": "2022-05-05T05:40:15.214Z"
   },
   {
    "duration": 26,
    "start_time": "2022-05-05T05:40:15.229Z"
   },
   {
    "duration": 4,
    "start_time": "2022-05-05T05:40:15.258Z"
   },
   {
    "duration": 11,
    "start_time": "2022-05-05T05:40:15.264Z"
   },
   {
    "duration": 12,
    "start_time": "2022-05-05T05:40:15.277Z"
   },
   {
    "duration": 19,
    "start_time": "2022-05-05T05:40:15.290Z"
   },
   {
    "duration": 13,
    "start_time": "2022-05-05T05:40:15.310Z"
   },
   {
    "duration": 7,
    "start_time": "2022-05-05T05:40:15.334Z"
   },
   {
    "duration": 16,
    "start_time": "2022-05-05T05:40:15.343Z"
   },
   {
    "duration": 49,
    "start_time": "2022-05-05T05:40:15.362Z"
   },
   {
    "duration": 9,
    "start_time": "2022-05-05T05:40:15.413Z"
   },
   {
    "duration": 36,
    "start_time": "2022-05-05T05:40:15.434Z"
   },
   {
    "duration": 4,
    "start_time": "2022-05-05T05:40:15.472Z"
   },
   {
    "duration": 19,
    "start_time": "2022-05-05T05:40:15.478Z"
   },
   {
    "duration": 35,
    "start_time": "2022-05-05T05:40:15.499Z"
   },
   {
    "duration": 28,
    "start_time": "2022-05-05T05:40:15.536Z"
   },
   {
    "duration": 7,
    "start_time": "2022-05-05T05:40:15.566Z"
   },
   {
    "duration": 19,
    "start_time": "2022-05-05T05:40:15.574Z"
   },
   {
    "duration": 44,
    "start_time": "2022-05-05T05:40:15.595Z"
   },
   {
    "duration": 21,
    "start_time": "2022-05-05T05:40:15.640Z"
   },
   {
    "duration": 9,
    "start_time": "2022-05-05T05:40:15.662Z"
   },
   {
    "duration": 27,
    "start_time": "2022-05-05T05:40:15.673Z"
   },
   {
    "duration": 35,
    "start_time": "2022-05-05T05:40:15.701Z"
   },
   {
    "duration": 23,
    "start_time": "2022-05-05T05:40:15.738Z"
   },
   {
    "duration": 10,
    "start_time": "2022-05-05T05:40:15.762Z"
   },
   {
    "duration": 22,
    "start_time": "2022-05-05T05:40:15.776Z"
   },
   {
    "duration": 45,
    "start_time": "2022-05-05T05:40:15.800Z"
   },
   {
    "duration": 13,
    "start_time": "2022-05-05T05:40:15.847Z"
   },
   {
    "duration": 13,
    "start_time": "2022-05-05T05:40:15.862Z"
   },
   {
    "duration": 27,
    "start_time": "2022-05-05T05:40:15.877Z"
   },
   {
    "duration": 30,
    "start_time": "2022-05-05T05:40:15.906Z"
   },
   {
    "duration": 9,
    "start_time": "2022-05-05T05:40:15.938Z"
   },
   {
    "duration": 23,
    "start_time": "2022-05-05T05:40:15.949Z"
   },
   {
    "duration": 6,
    "start_time": "2022-05-05T05:40:15.974Z"
   },
   {
    "duration": 15,
    "start_time": "2022-05-05T05:40:15.982Z"
   },
   {
    "duration": 35,
    "start_time": "2022-05-05T05:40:15.999Z"
   },
   {
    "duration": 43,
    "start_time": "2022-05-05T05:40:16.036Z"
   },
   {
    "duration": 17,
    "start_time": "2022-05-05T05:40:16.082Z"
   },
   {
    "duration": 285,
    "start_time": "2022-05-05T05:40:16.101Z"
   },
   {
    "duration": 366,
    "start_time": "2022-05-05T05:40:16.387Z"
   },
   {
    "duration": 16,
    "start_time": "2022-05-05T05:40:16.755Z"
   },
   {
    "duration": 171,
    "start_time": "2022-05-05T05:40:16.773Z"
   },
   {
    "duration": 471,
    "start_time": "2022-05-05T05:40:16.946Z"
   },
   {
    "duration": 317,
    "start_time": "2022-05-05T05:40:17.420Z"
   },
   {
    "duration": 14,
    "start_time": "2022-05-05T05:40:17.739Z"
   },
   {
    "duration": 17,
    "start_time": "2022-05-05T05:40:17.755Z"
   },
   {
    "duration": 465,
    "start_time": "2022-05-05T05:40:17.774Z"
   },
   {
    "duration": 156,
    "start_time": "2022-05-05T05:40:18.241Z"
   },
   {
    "duration": 237,
    "start_time": "2022-05-05T05:40:18.398Z"
   },
   {
    "duration": 19,
    "start_time": "2022-05-05T05:40:18.637Z"
   },
   {
    "duration": 185,
    "start_time": "2022-05-05T05:40:18.658Z"
   },
   {
    "duration": 500,
    "start_time": "2022-05-05T05:40:18.845Z"
   },
   {
    "duration": 13,
    "start_time": "2022-05-05T05:40:19.347Z"
   },
   {
    "duration": 148,
    "start_time": "2022-05-05T05:40:19.362Z"
   },
   {
    "duration": 37,
    "start_time": "2022-05-05T05:40:19.511Z"
   },
   {
    "duration": 317,
    "start_time": "2022-05-05T05:40:19.551Z"
   },
   {
    "duration": 511,
    "start_time": "2022-05-05T05:40:19.870Z"
   },
   {
    "duration": 117,
    "start_time": "2022-05-05T05:40:20.383Z"
   },
   {
    "duration": 0,
    "start_time": "2022-05-05T05:40:20.501Z"
   },
   {
    "duration": 0,
    "start_time": "2022-05-05T05:40:20.502Z"
   },
   {
    "duration": 1380,
    "start_time": "2022-05-05T05:40:44.599Z"
   },
   {
    "duration": 325,
    "start_time": "2022-05-05T05:40:45.981Z"
   },
   {
    "duration": 13,
    "start_time": "2022-05-05T05:40:46.307Z"
   },
   {
    "duration": 19,
    "start_time": "2022-05-05T05:40:46.322Z"
   },
   {
    "duration": 5,
    "start_time": "2022-05-05T05:40:46.343Z"
   },
   {
    "duration": 10,
    "start_time": "2022-05-05T05:40:46.350Z"
   },
   {
    "duration": 10,
    "start_time": "2022-05-05T05:40:46.362Z"
   },
   {
    "duration": 15,
    "start_time": "2022-05-05T05:40:46.373Z"
   },
   {
    "duration": 14,
    "start_time": "2022-05-05T05:40:46.389Z"
   },
   {
    "duration": 29,
    "start_time": "2022-05-05T05:40:46.406Z"
   },
   {
    "duration": 11,
    "start_time": "2022-05-05T05:40:46.437Z"
   },
   {
    "duration": 52,
    "start_time": "2022-05-05T05:40:46.450Z"
   },
   {
    "duration": 9,
    "start_time": "2022-05-05T05:40:46.503Z"
   },
   {
    "duration": 40,
    "start_time": "2022-05-05T05:40:46.533Z"
   },
   {
    "duration": 5,
    "start_time": "2022-05-05T05:40:46.574Z"
   },
   {
    "duration": 20,
    "start_time": "2022-05-05T05:40:46.580Z"
   },
   {
    "duration": 9,
    "start_time": "2022-05-05T05:40:46.602Z"
   },
   {
    "duration": 27,
    "start_time": "2022-05-05T05:40:46.634Z"
   },
   {
    "duration": 10,
    "start_time": "2022-05-05T05:40:46.662Z"
   },
   {
    "duration": 17,
    "start_time": "2022-05-05T05:40:46.674Z"
   },
   {
    "duration": 41,
    "start_time": "2022-05-05T05:40:46.693Z"
   },
   {
    "duration": 29,
    "start_time": "2022-05-05T05:40:46.736Z"
   },
   {
    "duration": 8,
    "start_time": "2022-05-05T05:40:46.767Z"
   },
   {
    "duration": 27,
    "start_time": "2022-05-05T05:40:46.777Z"
   },
   {
    "duration": 35,
    "start_time": "2022-05-05T05:40:46.806Z"
   },
   {
    "duration": 24,
    "start_time": "2022-05-05T05:40:46.843Z"
   },
   {
    "duration": 9,
    "start_time": "2022-05-05T05:40:46.868Z"
   },
   {
    "duration": 21,
    "start_time": "2022-05-05T05:40:46.881Z"
   },
   {
    "duration": 40,
    "start_time": "2022-05-05T05:40:46.903Z"
   },
   {
    "duration": 12,
    "start_time": "2022-05-05T05:40:46.945Z"
   },
   {
    "duration": 10,
    "start_time": "2022-05-05T05:40:46.959Z"
   },
   {
    "duration": 28,
    "start_time": "2022-05-05T05:40:46.971Z"
   },
   {
    "duration": 34,
    "start_time": "2022-05-05T05:40:47.000Z"
   },
   {
    "duration": 10,
    "start_time": "2022-05-05T05:40:47.036Z"
   },
   {
    "duration": 25,
    "start_time": "2022-05-05T05:40:47.048Z"
   },
   {
    "duration": 3,
    "start_time": "2022-05-05T05:40:47.075Z"
   },
   {
    "duration": 18,
    "start_time": "2022-05-05T05:40:47.079Z"
   },
   {
    "duration": 6,
    "start_time": "2022-05-05T05:40:47.099Z"
   },
   {
    "duration": 39,
    "start_time": "2022-05-05T05:40:47.133Z"
   },
   {
    "duration": 19,
    "start_time": "2022-05-05T05:40:47.174Z"
   },
   {
    "duration": 290,
    "start_time": "2022-05-05T05:40:47.194Z"
   },
   {
    "duration": 359,
    "start_time": "2022-05-05T05:40:47.486Z"
   },
   {
    "duration": 20,
    "start_time": "2022-05-05T05:40:47.847Z"
   },
   {
    "duration": 190,
    "start_time": "2022-05-05T05:40:47.869Z"
   },
   {
    "duration": 482,
    "start_time": "2022-05-05T05:40:48.061Z"
   },
   {
    "duration": 313,
    "start_time": "2022-05-05T05:40:48.545Z"
   },
   {
    "duration": 13,
    "start_time": "2022-05-05T05:40:48.860Z"
   },
   {
    "duration": 17,
    "start_time": "2022-05-05T05:40:48.874Z"
   },
   {
    "duration": 514,
    "start_time": "2022-05-05T05:40:48.893Z"
   },
   {
    "duration": 179,
    "start_time": "2022-05-05T05:40:49.409Z"
   },
   {
    "duration": 259,
    "start_time": "2022-05-05T05:40:49.590Z"
   },
   {
    "duration": 19,
    "start_time": "2022-05-05T05:40:49.851Z"
   },
   {
    "duration": 171,
    "start_time": "2022-05-05T05:40:49.872Z"
   },
   {
    "duration": 470,
    "start_time": "2022-05-05T05:40:50.045Z"
   },
   {
    "duration": 18,
    "start_time": "2022-05-05T05:40:50.517Z"
   },
   {
    "duration": 132,
    "start_time": "2022-05-05T05:40:50.538Z"
   },
   {
    "duration": 17,
    "start_time": "2022-05-05T05:40:50.673Z"
   },
   {
    "duration": 267,
    "start_time": "2022-05-05T05:40:50.692Z"
   },
   {
    "duration": 461,
    "start_time": "2022-05-05T05:40:50.961Z"
   },
   {
    "duration": 19,
    "start_time": "2022-05-05T05:40:51.423Z"
   },
   {
    "duration": 19,
    "start_time": "2022-05-05T05:40:51.444Z"
   },
   {
    "duration": 20,
    "start_time": "2022-05-05T05:40:51.464Z"
   },
   {
    "duration": 1283,
    "start_time": "2022-05-05T05:43:06.626Z"
   },
   {
    "duration": 304,
    "start_time": "2022-05-05T05:43:07.911Z"
   },
   {
    "duration": 12,
    "start_time": "2022-05-05T05:43:08.217Z"
   },
   {
    "duration": 14,
    "start_time": "2022-05-05T05:43:08.231Z"
   },
   {
    "duration": 4,
    "start_time": "2022-05-05T05:43:08.247Z"
   },
   {
    "duration": 7,
    "start_time": "2022-05-05T05:43:08.253Z"
   },
   {
    "duration": 12,
    "start_time": "2022-05-05T05:43:08.261Z"
   },
   {
    "duration": 13,
    "start_time": "2022-05-05T05:43:08.275Z"
   },
   {
    "duration": 12,
    "start_time": "2022-05-05T05:43:08.289Z"
   },
   {
    "duration": 5,
    "start_time": "2022-05-05T05:43:08.304Z"
   },
   {
    "duration": 29,
    "start_time": "2022-05-05T05:43:08.310Z"
   },
   {
    "duration": 46,
    "start_time": "2022-05-05T05:43:08.341Z"
   },
   {
    "duration": 8,
    "start_time": "2022-05-05T05:43:08.389Z"
   },
   {
    "duration": 46,
    "start_time": "2022-05-05T05:43:08.399Z"
   },
   {
    "duration": 5,
    "start_time": "2022-05-05T05:43:08.446Z"
   },
   {
    "duration": 20,
    "start_time": "2022-05-05T05:43:08.453Z"
   },
   {
    "duration": 9,
    "start_time": "2022-05-05T05:43:08.475Z"
   },
   {
    "duration": 19,
    "start_time": "2022-05-05T05:43:08.486Z"
   },
   {
    "duration": 32,
    "start_time": "2022-05-05T05:43:08.507Z"
   },
   {
    "duration": 16,
    "start_time": "2022-05-05T05:43:08.541Z"
   },
   {
    "duration": 13,
    "start_time": "2022-05-05T05:43:08.559Z"
   },
   {
    "duration": 18,
    "start_time": "2022-05-05T05:43:08.574Z"
   },
   {
    "duration": 8,
    "start_time": "2022-05-05T05:43:08.594Z"
   },
   {
    "duration": 24,
    "start_time": "2022-05-05T05:43:08.633Z"
   },
   {
    "duration": 8,
    "start_time": "2022-05-05T05:43:08.659Z"
   },
   {
    "duration": 19,
    "start_time": "2022-05-05T05:43:08.669Z"
   },
   {
    "duration": 9,
    "start_time": "2022-05-05T05:43:08.690Z"
   },
   {
    "duration": 20,
    "start_time": "2022-05-05T05:43:08.733Z"
   },
   {
    "duration": 19,
    "start_time": "2022-05-05T05:43:08.754Z"
   },
   {
    "duration": 13,
    "start_time": "2022-05-05T05:43:08.774Z"
   },
   {
    "duration": 11,
    "start_time": "2022-05-05T05:43:08.788Z"
   },
   {
    "duration": 58,
    "start_time": "2022-05-05T05:43:08.800Z"
   },
   {
    "duration": 4,
    "start_time": "2022-05-05T05:43:08.859Z"
   },
   {
    "duration": 8,
    "start_time": "2022-05-05T05:43:08.864Z"
   },
   {
    "duration": 19,
    "start_time": "2022-05-05T05:43:08.873Z"
   },
   {
    "duration": 4,
    "start_time": "2022-05-05T05:43:08.893Z"
   },
   {
    "duration": 39,
    "start_time": "2022-05-05T05:43:08.898Z"
   },
   {
    "duration": 6,
    "start_time": "2022-05-05T05:43:08.939Z"
   },
   {
    "duration": 40,
    "start_time": "2022-05-05T05:43:08.947Z"
   },
   {
    "duration": 14,
    "start_time": "2022-05-05T05:43:08.989Z"
   },
   {
    "duration": 287,
    "start_time": "2022-05-05T05:43:09.004Z"
   },
   {
    "duration": 356,
    "start_time": "2022-05-05T05:43:09.292Z"
   },
   {
    "duration": 18,
    "start_time": "2022-05-05T05:43:09.650Z"
   },
   {
    "duration": 176,
    "start_time": "2022-05-05T05:43:09.670Z"
   },
   {
    "duration": 469,
    "start_time": "2022-05-05T05:43:09.848Z"
   },
   {
    "duration": 320,
    "start_time": "2022-05-05T05:43:10.318Z"
   },
   {
    "duration": 14,
    "start_time": "2022-05-05T05:43:10.640Z"
   },
   {
    "duration": 17,
    "start_time": "2022-05-05T05:43:10.655Z"
   },
   {
    "duration": 468,
    "start_time": "2022-05-05T05:43:10.674Z"
   },
   {
    "duration": 156,
    "start_time": "2022-05-05T05:43:11.144Z"
   },
   {
    "duration": 237,
    "start_time": "2022-05-05T05:43:11.302Z"
   },
   {
    "duration": 16,
    "start_time": "2022-05-05T05:43:11.541Z"
   },
   {
    "duration": 161,
    "start_time": "2022-05-05T05:43:11.559Z"
   },
   {
    "duration": 468,
    "start_time": "2022-05-05T05:43:11.721Z"
   },
   {
    "duration": 13,
    "start_time": "2022-05-05T05:43:12.191Z"
   },
   {
    "duration": 137,
    "start_time": "2022-05-05T05:43:12.206Z"
   },
   {
    "duration": 17,
    "start_time": "2022-05-05T05:43:12.345Z"
   },
   {
    "duration": 263,
    "start_time": "2022-05-05T05:43:12.364Z"
   },
   {
    "duration": 470,
    "start_time": "2022-05-05T05:43:12.633Z"
   },
   {
    "duration": 14,
    "start_time": "2022-05-05T05:43:13.105Z"
   },
   {
    "duration": 12,
    "start_time": "2022-05-05T05:43:13.134Z"
   },
   {
    "duration": 22,
    "start_time": "2022-05-05T05:43:13.148Z"
   },
   {
    "duration": 276,
    "start_time": "2022-05-05T06:42:51.859Z"
   },
   {
    "duration": 278,
    "start_time": "2022-05-05T06:43:05.385Z"
   },
   {
    "duration": 254,
    "start_time": "2022-05-05T06:47:07.445Z"
   },
   {
    "duration": 247,
    "start_time": "2022-05-05T06:51:12.947Z"
   },
   {
    "duration": 125,
    "start_time": "2022-05-05T06:54:20.152Z"
   },
   {
    "duration": 15,
    "start_time": "2022-05-05T06:59:31.045Z"
   },
   {
    "duration": 1244,
    "start_time": "2022-05-05T07:14:42.659Z"
   },
   {
    "duration": 323,
    "start_time": "2022-05-05T07:14:43.905Z"
   },
   {
    "duration": 13,
    "start_time": "2022-05-05T07:14:44.230Z"
   },
   {
    "duration": 18,
    "start_time": "2022-05-05T07:14:44.245Z"
   },
   {
    "duration": 5,
    "start_time": "2022-05-05T07:14:44.264Z"
   },
   {
    "duration": 9,
    "start_time": "2022-05-05T07:14:44.270Z"
   },
   {
    "duration": 12,
    "start_time": "2022-05-05T07:14:44.280Z"
   },
   {
    "duration": 13,
    "start_time": "2022-05-05T07:14:44.293Z"
   },
   {
    "duration": 11,
    "start_time": "2022-05-05T07:14:44.333Z"
   },
   {
    "duration": 5,
    "start_time": "2022-05-05T07:14:44.347Z"
   },
   {
    "duration": 11,
    "start_time": "2022-05-05T07:14:44.353Z"
   },
   {
    "duration": 48,
    "start_time": "2022-05-05T07:14:44.366Z"
   },
   {
    "duration": 9,
    "start_time": "2022-05-05T07:14:44.434Z"
   },
   {
    "duration": 39,
    "start_time": "2022-05-05T07:14:44.445Z"
   },
   {
    "duration": 4,
    "start_time": "2022-05-05T07:14:44.486Z"
   },
   {
    "duration": 30,
    "start_time": "2022-05-05T07:14:44.492Z"
   },
   {
    "duration": 14,
    "start_time": "2022-05-05T07:14:44.524Z"
   },
   {
    "duration": 27,
    "start_time": "2022-05-05T07:14:44.540Z"
   },
   {
    "duration": 7,
    "start_time": "2022-05-05T07:14:44.569Z"
   },
   {
    "duration": 18,
    "start_time": "2022-05-05T07:14:44.578Z"
   },
   {
    "duration": 36,
    "start_time": "2022-05-05T07:14:44.598Z"
   },
   {
    "duration": 20,
    "start_time": "2022-05-05T07:14:44.636Z"
   },
   {
    "duration": 8,
    "start_time": "2022-05-05T07:14:44.658Z"
   },
   {
    "duration": 31,
    "start_time": "2022-05-05T07:14:44.668Z"
   },
   {
    "duration": 36,
    "start_time": "2022-05-05T07:14:44.700Z"
   },
   {
    "duration": 20,
    "start_time": "2022-05-05T07:14:44.737Z"
   },
   {
    "duration": 10,
    "start_time": "2022-05-05T07:14:44.759Z"
   },
   {
    "duration": 25,
    "start_time": "2022-05-05T07:14:44.773Z"
   },
   {
    "duration": 48,
    "start_time": "2022-05-05T07:14:44.800Z"
   },
   {
    "duration": 14,
    "start_time": "2022-05-05T07:14:44.850Z"
   },
   {
    "duration": 10,
    "start_time": "2022-05-05T07:14:44.866Z"
   },
   {
    "duration": 17,
    "start_time": "2022-05-05T07:14:44.877Z"
   },
   {
    "duration": 40,
    "start_time": "2022-05-05T07:14:44.895Z"
   },
   {
    "duration": 8,
    "start_time": "2022-05-05T07:14:44.937Z"
   },
   {
    "duration": 21,
    "start_time": "2022-05-05T07:14:44.947Z"
   },
   {
    "duration": 4,
    "start_time": "2022-05-05T07:14:44.970Z"
   },
   {
    "duration": 15,
    "start_time": "2022-05-05T07:14:44.975Z"
   },
   {
    "duration": 41,
    "start_time": "2022-05-05T07:14:44.992Z"
   },
   {
    "duration": 50,
    "start_time": "2022-05-05T07:14:45.035Z"
   },
   {
    "duration": 14,
    "start_time": "2022-05-05T07:14:45.086Z"
   },
   {
    "duration": 319,
    "start_time": "2022-05-05T07:14:45.102Z"
   },
   {
    "duration": 371,
    "start_time": "2022-05-05T07:14:45.423Z"
   },
   {
    "duration": 16,
    "start_time": "2022-05-05T07:14:45.796Z"
   },
   {
    "duration": 179,
    "start_time": "2022-05-05T07:14:45.814Z"
   },
   {
    "duration": 487,
    "start_time": "2022-05-05T07:14:45.995Z"
   },
   {
    "duration": 351,
    "start_time": "2022-05-05T07:14:46.484Z"
   },
   {
    "duration": 16,
    "start_time": "2022-05-05T07:14:46.837Z"
   },
   {
    "duration": 503,
    "start_time": "2022-05-05T07:14:46.854Z"
   },
   {
    "duration": 161,
    "start_time": "2022-05-05T07:14:47.359Z"
   },
   {
    "duration": 260,
    "start_time": "2022-05-05T07:14:47.523Z"
   },
   {
    "duration": 17,
    "start_time": "2022-05-05T07:14:47.785Z"
   },
   {
    "duration": 176,
    "start_time": "2022-05-05T07:14:47.804Z"
   },
   {
    "duration": 483,
    "start_time": "2022-05-05T07:14:47.982Z"
   },
   {
    "duration": 139,
    "start_time": "2022-05-05T07:14:48.467Z"
   },
   {
    "duration": 25,
    "start_time": "2022-05-05T07:14:48.608Z"
   },
   {
    "duration": 252,
    "start_time": "2022-05-05T07:14:48.635Z"
   },
   {
    "duration": 478,
    "start_time": "2022-05-05T07:14:48.889Z"
   },
   {
    "duration": 15,
    "start_time": "2022-05-05T07:14:49.370Z"
   },
   {
    "duration": 27,
    "start_time": "2022-05-05T07:14:49.386Z"
   },
   {
    "duration": 1245,
    "start_time": "2022-05-05T07:16:42.963Z"
   },
   {
    "duration": 316,
    "start_time": "2022-05-05T07:16:44.210Z"
   },
   {
    "duration": 14,
    "start_time": "2022-05-05T07:16:44.528Z"
   },
   {
    "duration": 16,
    "start_time": "2022-05-05T07:16:44.545Z"
   },
   {
    "duration": 5,
    "start_time": "2022-05-05T07:16:44.564Z"
   },
   {
    "duration": 11,
    "start_time": "2022-05-05T07:16:44.571Z"
   },
   {
    "duration": 15,
    "start_time": "2022-05-05T07:16:44.585Z"
   },
   {
    "duration": 49,
    "start_time": "2022-05-05T07:16:44.603Z"
   },
   {
    "duration": 19,
    "start_time": "2022-05-05T07:16:44.655Z"
   },
   {
    "duration": 5,
    "start_time": "2022-05-05T07:16:44.677Z"
   },
   {
    "duration": 10,
    "start_time": "2022-05-05T07:16:44.684Z"
   },
   {
    "duration": 66,
    "start_time": "2022-05-05T07:16:44.695Z"
   },
   {
    "duration": 9,
    "start_time": "2022-05-05T07:16:44.762Z"
   },
   {
    "duration": 30,
    "start_time": "2022-05-05T07:16:44.773Z"
   },
   {
    "duration": 4,
    "start_time": "2022-05-05T07:16:44.805Z"
   },
   {
    "duration": 18,
    "start_time": "2022-05-05T07:16:44.833Z"
   },
   {
    "duration": 10,
    "start_time": "2022-05-05T07:16:44.853Z"
   },
   {
    "duration": 20,
    "start_time": "2022-05-05T07:16:44.865Z"
   },
   {
    "duration": 8,
    "start_time": "2022-05-05T07:16:44.886Z"
   },
   {
    "duration": 51,
    "start_time": "2022-05-05T07:16:44.896Z"
   },
   {
    "duration": 14,
    "start_time": "2022-05-05T07:16:44.948Z"
   },
   {
    "duration": 31,
    "start_time": "2022-05-05T07:16:44.965Z"
   },
   {
    "duration": 44,
    "start_time": "2022-05-05T07:16:44.999Z"
   },
   {
    "duration": 30,
    "start_time": "2022-05-05T07:16:45.045Z"
   },
   {
    "duration": 9,
    "start_time": "2022-05-05T07:16:45.077Z"
   },
   {
    "duration": 20,
    "start_time": "2022-05-05T07:16:45.088Z"
   },
   {
    "duration": 11,
    "start_time": "2022-05-05T07:16:45.133Z"
   },
   {
    "duration": 20,
    "start_time": "2022-05-05T07:16:45.148Z"
   },
   {
    "duration": 18,
    "start_time": "2022-05-05T07:16:45.170Z"
   },
   {
    "duration": 14,
    "start_time": "2022-05-05T07:16:45.190Z"
   },
   {
    "duration": 13,
    "start_time": "2022-05-05T07:16:45.233Z"
   },
   {
    "duration": 26,
    "start_time": "2022-05-05T07:16:45.250Z"
   },
   {
    "duration": 4,
    "start_time": "2022-05-05T07:16:45.279Z"
   },
   {
    "duration": 13,
    "start_time": "2022-05-05T07:16:45.285Z"
   },
   {
    "duration": 50,
    "start_time": "2022-05-05T07:16:45.301Z"
   },
   {
    "duration": 5,
    "start_time": "2022-05-05T07:16:45.353Z"
   },
   {
    "duration": 20,
    "start_time": "2022-05-05T07:16:45.360Z"
   },
   {
    "duration": 8,
    "start_time": "2022-05-05T07:16:45.382Z"
   },
   {
    "duration": 79,
    "start_time": "2022-05-05T07:16:45.393Z"
   },
   {
    "duration": 15,
    "start_time": "2022-05-05T07:16:45.473Z"
   },
   {
    "duration": 344,
    "start_time": "2022-05-05T07:16:45.491Z"
   },
   {
    "duration": 382,
    "start_time": "2022-05-05T07:16:45.837Z"
   },
   {
    "duration": 24,
    "start_time": "2022-05-05T07:16:46.221Z"
   },
   {
    "duration": 192,
    "start_time": "2022-05-05T07:16:46.246Z"
   },
   {
    "duration": 534,
    "start_time": "2022-05-05T07:16:46.440Z"
   },
   {
    "duration": 393,
    "start_time": "2022-05-05T07:16:46.976Z"
   },
   {
    "duration": 17,
    "start_time": "2022-05-05T07:16:47.371Z"
   },
   {
    "duration": 515,
    "start_time": "2022-05-05T07:16:47.390Z"
   },
   {
    "duration": 163,
    "start_time": "2022-05-05T07:16:47.907Z"
   },
   {
    "duration": 262,
    "start_time": "2022-05-05T07:16:48.071Z"
   },
   {
    "duration": 16,
    "start_time": "2022-05-05T07:16:48.335Z"
   },
   {
    "duration": 191,
    "start_time": "2022-05-05T07:16:48.353Z"
   },
   {
    "duration": 494,
    "start_time": "2022-05-05T07:16:48.547Z"
   },
   {
    "duration": 150,
    "start_time": "2022-05-05T07:16:49.042Z"
   },
   {
    "duration": 18,
    "start_time": "2022-05-05T07:16:49.194Z"
   },
   {
    "duration": 270,
    "start_time": "2022-05-05T07:16:49.214Z"
   },
   {
    "duration": 524,
    "start_time": "2022-05-05T07:16:49.486Z"
   },
   {
    "duration": 23,
    "start_time": "2022-05-05T07:16:50.012Z"
   },
   {
    "duration": 25,
    "start_time": "2022-05-05T07:16:50.037Z"
   },
   {
    "duration": 1266,
    "start_time": "2022-05-05T07:17:54.416Z"
   },
   {
    "duration": 323,
    "start_time": "2022-05-05T07:17:55.684Z"
   },
   {
    "duration": 13,
    "start_time": "2022-05-05T07:17:56.009Z"
   },
   {
    "duration": 17,
    "start_time": "2022-05-05T07:17:56.024Z"
   },
   {
    "duration": 5,
    "start_time": "2022-05-05T07:17:56.042Z"
   },
   {
    "duration": 12,
    "start_time": "2022-05-05T07:17:56.048Z"
   },
   {
    "duration": 10,
    "start_time": "2022-05-05T07:17:56.062Z"
   },
   {
    "duration": 13,
    "start_time": "2022-05-05T07:17:56.074Z"
   },
   {
    "duration": 11,
    "start_time": "2022-05-05T07:17:56.089Z"
   },
   {
    "duration": 33,
    "start_time": "2022-05-05T07:17:56.103Z"
   },
   {
    "duration": 11,
    "start_time": "2022-05-05T07:17:56.138Z"
   },
   {
    "duration": 46,
    "start_time": "2022-05-05T07:17:56.151Z"
   },
   {
    "duration": 34,
    "start_time": "2022-05-05T07:17:56.199Z"
   },
   {
    "duration": 26,
    "start_time": "2022-05-05T07:17:56.235Z"
   },
   {
    "duration": 5,
    "start_time": "2022-05-05T07:17:56.263Z"
   },
   {
    "duration": 18,
    "start_time": "2022-05-05T07:17:56.269Z"
   },
   {
    "duration": 10,
    "start_time": "2022-05-05T07:17:56.289Z"
   },
   {
    "duration": 49,
    "start_time": "2022-05-05T07:17:56.300Z"
   },
   {
    "duration": 7,
    "start_time": "2022-05-05T07:17:56.351Z"
   },
   {
    "duration": 16,
    "start_time": "2022-05-05T07:17:56.360Z"
   },
   {
    "duration": 14,
    "start_time": "2022-05-05T07:17:56.377Z"
   },
   {
    "duration": 19,
    "start_time": "2022-05-05T07:17:56.434Z"
   },
   {
    "duration": 9,
    "start_time": "2022-05-05T07:17:56.454Z"
   },
   {
    "duration": 25,
    "start_time": "2022-05-05T07:17:56.464Z"
   },
   {
    "duration": 9,
    "start_time": "2022-05-05T07:17:56.490Z"
   },
   {
    "duration": 49,
    "start_time": "2022-05-05T07:17:56.500Z"
   },
   {
    "duration": 9,
    "start_time": "2022-05-05T07:17:56.551Z"
   },
   {
    "duration": 27,
    "start_time": "2022-05-05T07:17:56.564Z"
   },
   {
    "duration": 17,
    "start_time": "2022-05-05T07:17:56.593Z"
   },
   {
    "duration": 31,
    "start_time": "2022-05-05T07:17:56.612Z"
   },
   {
    "duration": 10,
    "start_time": "2022-05-05T07:17:56.645Z"
   },
   {
    "duration": 16,
    "start_time": "2022-05-05T07:17:56.657Z"
   },
   {
    "duration": 3,
    "start_time": "2022-05-05T07:17:56.675Z"
   },
   {
    "duration": 11,
    "start_time": "2022-05-05T07:17:56.680Z"
   },
   {
    "duration": 49,
    "start_time": "2022-05-05T07:17:56.693Z"
   },
   {
    "duration": 4,
    "start_time": "2022-05-05T07:17:56.744Z"
   },
   {
    "duration": 14,
    "start_time": "2022-05-05T07:17:56.750Z"
   },
   {
    "duration": 6,
    "start_time": "2022-05-05T07:17:56.766Z"
   },
   {
    "duration": 60,
    "start_time": "2022-05-05T07:17:56.774Z"
   },
   {
    "duration": 15,
    "start_time": "2022-05-05T07:17:56.835Z"
   },
   {
    "duration": 304,
    "start_time": "2022-05-05T07:17:56.851Z"
   },
   {
    "duration": 363,
    "start_time": "2022-05-05T07:17:57.157Z"
   },
   {
    "duration": 23,
    "start_time": "2022-05-05T07:17:57.522Z"
   },
   {
    "duration": 168,
    "start_time": "2022-05-05T07:17:57.547Z"
   },
   {
    "duration": 504,
    "start_time": "2022-05-05T07:17:57.717Z"
   },
   {
    "duration": 348,
    "start_time": "2022-05-05T07:17:58.223Z"
   },
   {
    "duration": 18,
    "start_time": "2022-05-05T07:17:58.572Z"
   },
   {
    "duration": 483,
    "start_time": "2022-05-05T07:17:58.593Z"
   },
   {
    "duration": 167,
    "start_time": "2022-05-05T07:17:59.079Z"
   },
   {
    "duration": 262,
    "start_time": "2022-05-05T07:17:59.248Z"
   },
   {
    "duration": 25,
    "start_time": "2022-05-05T07:17:59.512Z"
   },
   {
    "duration": 172,
    "start_time": "2022-05-05T07:17:59.539Z"
   },
   {
    "duration": 477,
    "start_time": "2022-05-05T07:17:59.713Z"
   },
   {
    "duration": 143,
    "start_time": "2022-05-05T07:18:00.192Z"
   },
   {
    "duration": 17,
    "start_time": "2022-05-05T07:18:00.337Z"
   },
   {
    "duration": 280,
    "start_time": "2022-05-05T07:18:00.355Z"
   },
   {
    "duration": 510,
    "start_time": "2022-05-05T07:18:00.637Z"
   },
   {
    "duration": 14,
    "start_time": "2022-05-05T07:18:01.149Z"
   },
   {
    "duration": 26,
    "start_time": "2022-05-05T07:18:01.165Z"
   },
   {
    "duration": 1192,
    "start_time": "2022-05-06T13:10:27.853Z"
   },
   {
    "duration": 340,
    "start_time": "2022-05-06T13:10:29.047Z"
   },
   {
    "duration": 15,
    "start_time": "2022-05-06T13:10:29.391Z"
   },
   {
    "duration": 19,
    "start_time": "2022-05-06T13:10:29.408Z"
   },
   {
    "duration": 5,
    "start_time": "2022-05-06T13:10:29.429Z"
   },
   {
    "duration": 8,
    "start_time": "2022-05-06T13:10:29.436Z"
   },
   {
    "duration": 10,
    "start_time": "2022-05-06T13:10:29.446Z"
   },
   {
    "duration": 31,
    "start_time": "2022-05-06T13:10:29.457Z"
   },
   {
    "duration": 27,
    "start_time": "2022-05-06T13:10:29.492Z"
   },
   {
    "duration": 5,
    "start_time": "2022-05-06T13:10:29.522Z"
   },
   {
    "duration": 10,
    "start_time": "2022-05-06T13:10:29.529Z"
   },
   {
    "duration": 51,
    "start_time": "2022-05-06T13:10:29.541Z"
   },
   {
    "duration": 9,
    "start_time": "2022-05-06T13:10:29.594Z"
   },
   {
    "duration": 27,
    "start_time": "2022-05-06T13:10:29.605Z"
   },
   {
    "duration": 4,
    "start_time": "2022-05-06T13:10:29.634Z"
   },
   {
    "duration": 42,
    "start_time": "2022-05-06T13:10:29.640Z"
   },
   {
    "duration": 16,
    "start_time": "2022-05-06T13:10:29.684Z"
   },
   {
    "duration": 20,
    "start_time": "2022-05-06T13:10:29.703Z"
   },
   {
    "duration": 8,
    "start_time": "2022-05-06T13:10:29.725Z"
   },
   {
    "duration": 17,
    "start_time": "2022-05-06T13:10:29.735Z"
   },
   {
    "duration": 28,
    "start_time": "2022-05-06T13:10:29.753Z"
   },
   {
    "duration": 30,
    "start_time": "2022-05-06T13:10:29.785Z"
   },
   {
    "duration": 9,
    "start_time": "2022-05-06T13:10:29.817Z"
   },
   {
    "duration": 51,
    "start_time": "2022-05-06T13:10:29.828Z"
   },
   {
    "duration": 15,
    "start_time": "2022-05-06T13:10:29.883Z"
   },
   {
    "duration": 27,
    "start_time": "2022-05-06T13:10:29.901Z"
   },
   {
    "duration": 12,
    "start_time": "2022-05-06T13:10:29.931Z"
   },
   {
    "duration": 34,
    "start_time": "2022-05-06T13:10:29.947Z"
   },
   {
    "duration": 23,
    "start_time": "2022-05-06T13:10:29.983Z"
   },
   {
    "duration": 24,
    "start_time": "2022-05-06T13:10:30.008Z"
   },
   {
    "duration": 35,
    "start_time": "2022-05-06T13:10:30.034Z"
   },
   {
    "duration": 25,
    "start_time": "2022-05-06T13:10:30.071Z"
   },
   {
    "duration": 28,
    "start_time": "2022-05-06T13:10:30.098Z"
   },
   {
    "duration": 21,
    "start_time": "2022-05-06T13:10:30.128Z"
   },
   {
    "duration": 30,
    "start_time": "2022-05-06T13:10:30.151Z"
   },
   {
    "duration": 29,
    "start_time": "2022-05-06T13:10:30.183Z"
   },
   {
    "duration": 22,
    "start_time": "2022-05-06T13:10:30.213Z"
   },
   {
    "duration": 19,
    "start_time": "2022-05-06T13:10:30.237Z"
   },
   {
    "duration": 60,
    "start_time": "2022-05-06T13:10:30.258Z"
   },
   {
    "duration": 17,
    "start_time": "2022-05-06T13:10:30.320Z"
   },
   {
    "duration": 310,
    "start_time": "2022-05-06T13:10:30.339Z"
   },
   {
    "duration": 379,
    "start_time": "2022-05-06T13:10:30.651Z"
   },
   {
    "duration": 22,
    "start_time": "2022-05-06T13:10:31.032Z"
   },
   {
    "duration": 237,
    "start_time": "2022-05-06T13:10:31.057Z"
   },
   {
    "duration": 703,
    "start_time": "2022-05-06T13:10:31.296Z"
   },
   {
    "duration": 379,
    "start_time": "2022-05-06T13:10:32.001Z"
   },
   {
    "duration": 19,
    "start_time": "2022-05-06T13:10:32.382Z"
   },
   {
    "duration": 537,
    "start_time": "2022-05-06T13:10:32.403Z"
   },
   {
    "duration": 188,
    "start_time": "2022-05-06T13:10:32.942Z"
   },
   {
    "duration": 291,
    "start_time": "2022-05-06T13:10:33.132Z"
   },
   {
    "duration": 16,
    "start_time": "2022-05-06T13:10:33.425Z"
   },
   {
    "duration": 173,
    "start_time": "2022-05-06T13:10:33.443Z"
   },
   {
    "duration": 502,
    "start_time": "2022-05-06T13:10:33.617Z"
   },
   {
    "duration": 125,
    "start_time": "2022-05-06T13:10:34.121Z"
   },
   {
    "duration": 15,
    "start_time": "2022-05-06T13:10:34.248Z"
   },
   {
    "duration": 288,
    "start_time": "2022-05-06T13:10:34.265Z"
   },
   {
    "duration": 512,
    "start_time": "2022-05-06T13:10:34.554Z"
   },
   {
    "duration": 26,
    "start_time": "2022-05-06T13:10:35.067Z"
   },
   {
    "duration": 36,
    "start_time": "2022-05-06T13:10:35.095Z"
   },
   {
    "duration": 21,
    "start_time": "2022-05-06T13:15:36.811Z"
   },
   {
    "duration": 5,
    "start_time": "2022-05-06T13:15:52.460Z"
   },
   {
    "duration": 21,
    "start_time": "2022-05-06T13:15:56.189Z"
   },
   {
    "duration": 17,
    "start_time": "2022-05-06T13:16:07.558Z"
   },
   {
    "duration": 1248,
    "start_time": "2022-05-07T01:48:56.313Z"
   },
   {
    "duration": 276,
    "start_time": "2022-05-07T01:48:57.562Z"
   },
   {
    "duration": 11,
    "start_time": "2022-05-07T01:48:57.840Z"
   },
   {
    "duration": 16,
    "start_time": "2022-05-07T01:48:57.853Z"
   },
   {
    "duration": 4,
    "start_time": "2022-05-07T01:48:57.871Z"
   },
   {
    "duration": 16,
    "start_time": "2022-05-07T01:48:57.876Z"
   },
   {
    "duration": 11,
    "start_time": "2022-05-07T01:48:57.894Z"
   },
   {
    "duration": 27,
    "start_time": "2022-05-07T01:48:57.907Z"
   },
   {
    "duration": 12,
    "start_time": "2022-05-07T01:48:57.936Z"
   },
   {
    "duration": 5,
    "start_time": "2022-05-07T01:48:57.951Z"
   },
   {
    "duration": 9,
    "start_time": "2022-05-07T01:48:57.957Z"
   },
   {
    "duration": 45,
    "start_time": "2022-05-07T01:48:57.973Z"
   },
   {
    "duration": 9,
    "start_time": "2022-05-07T01:48:58.019Z"
   },
   {
    "duration": 49,
    "start_time": "2022-05-07T01:48:58.030Z"
   },
   {
    "duration": 5,
    "start_time": "2022-05-07T01:48:58.081Z"
   },
   {
    "duration": 18,
    "start_time": "2022-05-07T01:48:58.087Z"
   },
   {
    "duration": 9,
    "start_time": "2022-05-07T01:48:58.106Z"
   },
   {
    "duration": 16,
    "start_time": "2022-05-07T01:48:58.117Z"
   },
   {
    "duration": 7,
    "start_time": "2022-05-07T01:48:58.135Z"
   },
   {
    "duration": 43,
    "start_time": "2022-05-07T01:48:58.144Z"
   },
   {
    "duration": 13,
    "start_time": "2022-05-07T01:48:58.189Z"
   },
   {
    "duration": 18,
    "start_time": "2022-05-07T01:48:58.204Z"
   },
   {
    "duration": 9,
    "start_time": "2022-05-07T01:48:58.223Z"
   },
   {
    "duration": 59,
    "start_time": "2022-05-07T01:48:58.234Z"
   },
   {
    "duration": 10,
    "start_time": "2022-05-07T01:48:58.294Z"
   },
   {
    "duration": 18,
    "start_time": "2022-05-07T01:48:58.306Z"
   },
   {
    "duration": 8,
    "start_time": "2022-05-07T01:48:58.326Z"
   },
   {
    "duration": 44,
    "start_time": "2022-05-07T01:48:58.338Z"
   },
   {
    "duration": 18,
    "start_time": "2022-05-07T01:48:58.384Z"
   },
   {
    "duration": 12,
    "start_time": "2022-05-07T01:48:58.404Z"
   },
   {
    "duration": 11,
    "start_time": "2022-05-07T01:48:58.418Z"
   },
   {
    "duration": 45,
    "start_time": "2022-05-07T01:48:58.431Z"
   },
   {
    "duration": 18,
    "start_time": "2022-05-07T01:49:18.481Z"
   },
   {
    "duration": 3,
    "start_time": "2022-05-07T01:50:15.081Z"
   },
   {
    "duration": 265,
    "start_time": "2022-05-07T01:50:15.088Z"
   },
   {
    "duration": 11,
    "start_time": "2022-05-07T01:50:15.355Z"
   },
   {
    "duration": 12,
    "start_time": "2022-05-07T01:50:15.367Z"
   },
   {
    "duration": 5,
    "start_time": "2022-05-07T01:50:15.381Z"
   },
   {
    "duration": 7,
    "start_time": "2022-05-07T01:50:15.387Z"
   },
   {
    "duration": 11,
    "start_time": "2022-05-07T01:50:15.396Z"
   },
   {
    "duration": 12,
    "start_time": "2022-05-07T01:50:15.409Z"
   },
   {
    "duration": 13,
    "start_time": "2022-05-07T01:50:15.422Z"
   },
   {
    "duration": 13,
    "start_time": "2022-05-07T01:50:15.436Z"
   },
   {
    "duration": 22,
    "start_time": "2022-05-07T01:50:15.451Z"
   },
   {
    "duration": 37,
    "start_time": "2022-05-07T01:50:15.474Z"
   },
   {
    "duration": 7,
    "start_time": "2022-05-07T01:50:15.513Z"
   },
   {
    "duration": 24,
    "start_time": "2022-05-07T01:50:15.522Z"
   },
   {
    "duration": 26,
    "start_time": "2022-05-07T01:50:15.547Z"
   },
   {
    "duration": 15,
    "start_time": "2022-05-07T01:50:15.575Z"
   },
   {
    "duration": 8,
    "start_time": "2022-05-07T01:50:15.592Z"
   },
   {
    "duration": 16,
    "start_time": "2022-05-07T01:50:15.602Z"
   },
   {
    "duration": 7,
    "start_time": "2022-05-07T01:50:15.619Z"
   },
   {
    "duration": 15,
    "start_time": "2022-05-07T01:50:15.627Z"
   },
   {
    "duration": 37,
    "start_time": "2022-05-07T01:50:15.644Z"
   },
   {
    "duration": 18,
    "start_time": "2022-05-07T01:50:15.683Z"
   },
   {
    "duration": 8,
    "start_time": "2022-05-07T01:50:15.702Z"
   },
   {
    "duration": 23,
    "start_time": "2022-05-07T01:50:15.711Z"
   },
   {
    "duration": 39,
    "start_time": "2022-05-07T01:50:15.736Z"
   },
   {
    "duration": 19,
    "start_time": "2022-05-07T01:50:15.777Z"
   },
   {
    "duration": 9,
    "start_time": "2022-05-07T01:50:15.797Z"
   },
   {
    "duration": 21,
    "start_time": "2022-05-07T01:50:15.807Z"
   },
   {
    "duration": 43,
    "start_time": "2022-05-07T01:50:15.831Z"
   },
   {
    "duration": 12,
    "start_time": "2022-05-07T01:50:15.876Z"
   },
   {
    "duration": 9,
    "start_time": "2022-05-07T01:50:15.890Z"
   },
   {
    "duration": 113,
    "start_time": "2022-05-07T01:50:15.901Z"
   },
   {
    "duration": 0,
    "start_time": "2022-05-07T01:50:16.015Z"
   },
   {
    "duration": 3,
    "start_time": "2022-05-07T01:51:57.627Z"
   },
   {
    "duration": 272,
    "start_time": "2022-05-07T01:51:57.634Z"
   },
   {
    "duration": 10,
    "start_time": "2022-05-07T01:51:57.908Z"
   },
   {
    "duration": 11,
    "start_time": "2022-05-07T01:51:57.919Z"
   },
   {
    "duration": 7,
    "start_time": "2022-05-07T01:51:57.932Z"
   },
   {
    "duration": 6,
    "start_time": "2022-05-07T01:51:57.940Z"
   },
   {
    "duration": 17,
    "start_time": "2022-05-07T01:51:57.948Z"
   },
   {
    "duration": 15,
    "start_time": "2022-05-07T01:51:57.966Z"
   },
   {
    "duration": 15,
    "start_time": "2022-05-07T01:51:57.982Z"
   },
   {
    "duration": 7,
    "start_time": "2022-05-07T01:51:57.998Z"
   },
   {
    "duration": 8,
    "start_time": "2022-05-07T01:51:58.008Z"
   },
   {
    "duration": 56,
    "start_time": "2022-05-07T01:51:58.018Z"
   },
   {
    "duration": 7,
    "start_time": "2022-05-07T01:51:58.076Z"
   },
   {
    "duration": 28,
    "start_time": "2022-05-07T01:51:58.085Z"
   },
   {
    "duration": 4,
    "start_time": "2022-05-07T01:51:58.114Z"
   },
   {
    "duration": 16,
    "start_time": "2022-05-07T01:51:58.119Z"
   },
   {
    "duration": 9,
    "start_time": "2022-05-07T01:51:58.137Z"
   },
   {
    "duration": 38,
    "start_time": "2022-05-07T01:51:58.148Z"
   },
   {
    "duration": 9,
    "start_time": "2022-05-07T01:51:58.188Z"
   },
   {
    "duration": 13,
    "start_time": "2022-05-07T01:51:58.199Z"
   },
   {
    "duration": 11,
    "start_time": "2022-05-07T01:51:58.214Z"
   },
   {
    "duration": 17,
    "start_time": "2022-05-07T01:51:58.227Z"
   },
   {
    "duration": 8,
    "start_time": "2022-05-07T01:51:58.273Z"
   },
   {
    "duration": 23,
    "start_time": "2022-05-07T01:51:58.282Z"
   },
   {
    "duration": 8,
    "start_time": "2022-05-07T01:51:58.307Z"
   },
   {
    "duration": 17,
    "start_time": "2022-05-07T01:51:58.316Z"
   },
   {
    "duration": 8,
    "start_time": "2022-05-07T01:51:58.334Z"
   },
   {
    "duration": 45,
    "start_time": "2022-05-07T01:51:58.343Z"
   },
   {
    "duration": 17,
    "start_time": "2022-05-07T01:51:58.391Z"
   },
   {
    "duration": 11,
    "start_time": "2022-05-07T01:51:58.410Z"
   },
   {
    "duration": 8,
    "start_time": "2022-05-07T01:51:58.423Z"
   },
   {
    "duration": 44,
    "start_time": "2022-05-07T01:51:58.433Z"
   },
   {
    "duration": 14,
    "start_time": "2022-05-07T01:51:58.479Z"
   },
   {
    "duration": 3,
    "start_time": "2022-05-07T01:53:07.378Z"
   },
   {
    "duration": 273,
    "start_time": "2022-05-07T01:53:07.384Z"
   },
   {
    "duration": 11,
    "start_time": "2022-05-07T01:53:07.659Z"
   },
   {
    "duration": 11,
    "start_time": "2022-05-07T01:53:07.671Z"
   },
   {
    "duration": 5,
    "start_time": "2022-05-07T01:53:07.684Z"
   },
   {
    "duration": 7,
    "start_time": "2022-05-07T01:53:07.690Z"
   },
   {
    "duration": 11,
    "start_time": "2022-05-07T01:53:07.698Z"
   },
   {
    "duration": 11,
    "start_time": "2022-05-07T01:53:07.711Z"
   },
   {
    "duration": 10,
    "start_time": "2022-05-07T01:53:07.723Z"
   },
   {
    "duration": 8,
    "start_time": "2022-05-07T01:53:07.734Z"
   },
   {
    "duration": 29,
    "start_time": "2022-05-07T01:53:07.745Z"
   },
   {
    "duration": 39,
    "start_time": "2022-05-07T01:53:07.776Z"
   },
   {
    "duration": 7,
    "start_time": "2022-05-07T01:53:07.817Z"
   },
   {
    "duration": 23,
    "start_time": "2022-05-07T01:53:07.826Z"
   },
   {
    "duration": 25,
    "start_time": "2022-05-07T01:53:07.851Z"
   },
   {
    "duration": 16,
    "start_time": "2022-05-07T01:53:07.878Z"
   },
   {
    "duration": 8,
    "start_time": "2022-05-07T01:53:07.896Z"
   },
   {
    "duration": 15,
    "start_time": "2022-05-07T01:53:07.906Z"
   },
   {
    "duration": 6,
    "start_time": "2022-05-07T01:53:07.923Z"
   },
   {
    "duration": 44,
    "start_time": "2022-05-07T01:53:07.931Z"
   },
   {
    "duration": 12,
    "start_time": "2022-05-07T01:53:07.977Z"
   },
   {
    "duration": 17,
    "start_time": "2022-05-07T01:53:07.990Z"
   },
   {
    "duration": 8,
    "start_time": "2022-05-07T01:53:08.009Z"
   },
   {
    "duration": 25,
    "start_time": "2022-05-07T01:53:08.018Z"
   },
   {
    "duration": 34,
    "start_time": "2022-05-07T01:53:08.044Z"
   },
   {
    "duration": 16,
    "start_time": "2022-05-07T01:53:08.080Z"
   },
   {
    "duration": 8,
    "start_time": "2022-05-07T01:53:08.098Z"
   },
   {
    "duration": 20,
    "start_time": "2022-05-07T01:53:08.108Z"
   },
   {
    "duration": 48,
    "start_time": "2022-05-07T01:53:08.132Z"
   },
   {
    "duration": 14,
    "start_time": "2022-05-07T01:53:08.182Z"
   },
   {
    "duration": 11,
    "start_time": "2022-05-07T01:53:08.197Z"
   },
   {
    "duration": 21,
    "start_time": "2022-05-07T01:53:08.210Z"
   },
   {
    "duration": 45,
    "start_time": "2022-05-07T01:53:08.233Z"
   },
   {
    "duration": 4,
    "start_time": "2022-05-07T01:53:08.280Z"
   },
   {
    "duration": 7,
    "start_time": "2022-05-07T01:53:08.286Z"
   },
   {
    "duration": 17,
    "start_time": "2022-05-07T01:53:08.295Z"
   },
   {
    "duration": 3,
    "start_time": "2022-05-07T01:54:21.365Z"
   },
   {
    "duration": 273,
    "start_time": "2022-05-07T01:54:21.370Z"
   },
   {
    "duration": 11,
    "start_time": "2022-05-07T01:54:21.644Z"
   },
   {
    "duration": 12,
    "start_time": "2022-05-07T01:54:21.657Z"
   },
   {
    "duration": 4,
    "start_time": "2022-05-07T01:54:21.671Z"
   },
   {
    "duration": 6,
    "start_time": "2022-05-07T01:54:21.677Z"
   },
   {
    "duration": 12,
    "start_time": "2022-05-07T01:54:21.684Z"
   },
   {
    "duration": 12,
    "start_time": "2022-05-07T01:54:21.697Z"
   },
   {
    "duration": 11,
    "start_time": "2022-05-07T01:54:21.711Z"
   },
   {
    "duration": 5,
    "start_time": "2022-05-07T01:54:21.724Z"
   },
   {
    "duration": 9,
    "start_time": "2022-05-07T01:54:21.731Z"
   },
   {
    "duration": 62,
    "start_time": "2022-05-07T01:54:21.742Z"
   },
   {
    "duration": 7,
    "start_time": "2022-05-07T01:54:21.806Z"
   },
   {
    "duration": 26,
    "start_time": "2022-05-07T01:54:21.816Z"
   },
   {
    "duration": 4,
    "start_time": "2022-05-07T01:54:21.844Z"
   },
   {
    "duration": 34,
    "start_time": "2022-05-07T01:54:21.849Z"
   },
   {
    "duration": 8,
    "start_time": "2022-05-07T01:54:21.885Z"
   },
   {
    "duration": 16,
    "start_time": "2022-05-07T01:54:21.895Z"
   },
   {
    "duration": 16,
    "start_time": "2022-05-07T01:54:21.913Z"
   },
   {
    "duration": 17,
    "start_time": "2022-05-07T01:54:21.930Z"
   },
   {
    "duration": 29,
    "start_time": "2022-05-07T01:54:21.949Z"
   },
   {
    "duration": 18,
    "start_time": "2022-05-07T01:54:21.979Z"
   },
   {
    "duration": 8,
    "start_time": "2022-05-07T01:54:21.999Z"
   },
   {
    "duration": 24,
    "start_time": "2022-05-07T01:54:22.009Z"
   },
   {
    "duration": 8,
    "start_time": "2022-05-07T01:54:22.035Z"
   },
   {
    "duration": 17,
    "start_time": "2022-05-07T01:54:22.072Z"
   },
   {
    "duration": 8,
    "start_time": "2022-05-07T01:54:22.090Z"
   },
   {
    "duration": 25,
    "start_time": "2022-05-07T01:54:22.100Z"
   },
   {
    "duration": 18,
    "start_time": "2022-05-07T01:54:22.126Z"
   },
   {
    "duration": 36,
    "start_time": "2022-05-07T01:54:22.146Z"
   },
   {
    "duration": 10,
    "start_time": "2022-05-07T01:54:22.184Z"
   },
   {
    "duration": 18,
    "start_time": "2022-05-07T01:54:22.195Z"
   },
   {
    "duration": 14,
    "start_time": "2022-05-07T01:54:22.215Z"
   },
   {
    "duration": 3,
    "start_time": "2022-05-07T01:54:22.231Z"
   },
   {
    "duration": 45,
    "start_time": "2022-05-07T01:54:22.235Z"
   },
   {
    "duration": 0,
    "start_time": "2022-05-07T01:54:22.281Z"
   },
   {
    "duration": 3,
    "start_time": "2022-05-07T01:55:18.912Z"
   },
   {
    "duration": 276,
    "start_time": "2022-05-07T01:55:18.917Z"
   },
   {
    "duration": 11,
    "start_time": "2022-05-07T01:55:19.194Z"
   },
   {
    "duration": 13,
    "start_time": "2022-05-07T01:55:19.206Z"
   },
   {
    "duration": 5,
    "start_time": "2022-05-07T01:55:19.221Z"
   },
   {
    "duration": 6,
    "start_time": "2022-05-07T01:55:19.228Z"
   },
   {
    "duration": 11,
    "start_time": "2022-05-07T01:55:19.236Z"
   },
   {
    "duration": 12,
    "start_time": "2022-05-07T01:55:19.248Z"
   },
   {
    "duration": 9,
    "start_time": "2022-05-07T01:55:19.272Z"
   },
   {
    "duration": 6,
    "start_time": "2022-05-07T01:55:19.283Z"
   },
   {
    "duration": 9,
    "start_time": "2022-05-07T01:55:19.290Z"
   },
   {
    "duration": 39,
    "start_time": "2022-05-07T01:55:19.301Z"
   },
   {
    "duration": 7,
    "start_time": "2022-05-07T01:55:19.342Z"
   },
   {
    "duration": 22,
    "start_time": "2022-05-07T01:55:19.373Z"
   },
   {
    "duration": 4,
    "start_time": "2022-05-07T01:55:19.397Z"
   },
   {
    "duration": 18,
    "start_time": "2022-05-07T01:55:19.403Z"
   },
   {
    "duration": 8,
    "start_time": "2022-05-07T01:55:19.423Z"
   },
   {
    "duration": 40,
    "start_time": "2022-05-07T01:55:19.433Z"
   },
   {
    "duration": 7,
    "start_time": "2022-05-07T01:55:19.475Z"
   },
   {
    "duration": 14,
    "start_time": "2022-05-07T01:55:19.484Z"
   },
   {
    "duration": 14,
    "start_time": "2022-05-07T01:55:19.499Z"
   },
   {
    "duration": 17,
    "start_time": "2022-05-07T01:55:19.514Z"
   },
   {
    "duration": 8,
    "start_time": "2022-05-07T01:55:19.533Z"
   },
   {
    "duration": 22,
    "start_time": "2022-05-07T01:55:19.573Z"
   },
   {
    "duration": 8,
    "start_time": "2022-05-07T01:55:19.597Z"
   },
   {
    "duration": 16,
    "start_time": "2022-05-07T01:55:19.607Z"
   },
   {
    "duration": 8,
    "start_time": "2022-05-07T01:55:19.625Z"
   },
   {
    "duration": 49,
    "start_time": "2022-05-07T01:55:19.634Z"
   },
   {
    "duration": 18,
    "start_time": "2022-05-07T01:55:19.685Z"
   },
   {
    "duration": 11,
    "start_time": "2022-05-07T01:55:19.704Z"
   },
   {
    "duration": 9,
    "start_time": "2022-05-07T01:55:19.717Z"
   },
   {
    "duration": 17,
    "start_time": "2022-05-07T01:55:19.728Z"
   },
   {
    "duration": 40,
    "start_time": "2022-05-07T01:55:19.747Z"
   },
   {
    "duration": 5,
    "start_time": "2022-05-07T01:55:19.789Z"
   },
   {
    "duration": 18,
    "start_time": "2022-05-07T01:55:19.795Z"
   },
   {
    "duration": 23,
    "start_time": "2022-05-07T01:55:19.814Z"
   },
   {
    "duration": 10,
    "start_time": "2022-05-07T01:55:50.869Z"
   },
   {
    "duration": 3,
    "start_time": "2022-05-07T03:18:02.052Z"
   },
   {
    "duration": 304,
    "start_time": "2022-05-07T03:18:02.060Z"
   },
   {
    "duration": 13,
    "start_time": "2022-05-07T03:18:02.366Z"
   },
   {
    "duration": 61,
    "start_time": "2022-05-07T03:18:02.381Z"
   },
   {
    "duration": 24,
    "start_time": "2022-05-07T03:18:02.445Z"
   },
   {
    "duration": 21,
    "start_time": "2022-05-07T03:18:02.471Z"
   },
   {
    "duration": 27,
    "start_time": "2022-05-07T03:18:02.494Z"
   },
   {
    "duration": 22,
    "start_time": "2022-05-07T03:18:02.524Z"
   },
   {
    "duration": 16,
    "start_time": "2022-05-07T03:18:02.548Z"
   },
   {
    "duration": 22,
    "start_time": "2022-05-07T03:18:02.566Z"
   },
   {
    "duration": 31,
    "start_time": "2022-05-07T03:18:02.591Z"
   },
   {
    "duration": 60,
    "start_time": "2022-05-07T03:18:02.624Z"
   },
   {
    "duration": 9,
    "start_time": "2022-05-07T03:18:02.686Z"
   },
   {
    "duration": 50,
    "start_time": "2022-05-07T03:18:02.697Z"
   },
   {
    "duration": 5,
    "start_time": "2022-05-07T03:18:02.749Z"
   },
   {
    "duration": 22,
    "start_time": "2022-05-07T03:18:02.756Z"
   },
   {
    "duration": 9,
    "start_time": "2022-05-07T03:18:02.780Z"
   },
   {
    "duration": 24,
    "start_time": "2022-05-07T03:18:02.791Z"
   },
   {
    "duration": 8,
    "start_time": "2022-05-07T03:18:02.817Z"
   },
   {
    "duration": 18,
    "start_time": "2022-05-07T03:18:02.826Z"
   },
   {
    "duration": 30,
    "start_time": "2022-05-07T03:18:02.846Z"
   },
   {
    "duration": 18,
    "start_time": "2022-05-07T03:18:02.878Z"
   },
   {
    "duration": 12,
    "start_time": "2022-05-07T03:18:02.898Z"
   },
   {
    "duration": 26,
    "start_time": "2022-05-07T03:18:02.911Z"
   },
   {
    "duration": 8,
    "start_time": "2022-05-07T03:18:02.938Z"
   },
   {
    "duration": 39,
    "start_time": "2022-05-07T03:18:02.948Z"
   },
   {
    "duration": 8,
    "start_time": "2022-05-07T03:18:02.989Z"
   },
   {
    "duration": 20,
    "start_time": "2022-05-07T03:18:02.999Z"
   },
   {
    "duration": 16,
    "start_time": "2022-05-07T03:18:03.022Z"
   },
   {
    "duration": 37,
    "start_time": "2022-05-07T03:18:03.039Z"
   },
   {
    "duration": 10,
    "start_time": "2022-05-07T03:18:03.078Z"
   },
   {
    "duration": 18,
    "start_time": "2022-05-07T03:18:03.089Z"
   },
   {
    "duration": 14,
    "start_time": "2022-05-07T03:18:03.109Z"
   },
   {
    "duration": 3,
    "start_time": "2022-05-07T03:18:03.125Z"
   },
   {
    "duration": 9,
    "start_time": "2022-05-07T03:18:03.130Z"
   },
   {
    "duration": 44,
    "start_time": "2022-05-07T03:18:03.141Z"
   },
   {
    "duration": 4,
    "start_time": "2022-05-07T03:18:22.558Z"
   },
   {
    "duration": 12,
    "start_time": "2022-05-07T03:18:24.477Z"
   },
   {
    "duration": 6,
    "start_time": "2022-05-07T03:18:30.170Z"
   },
   {
    "duration": 44,
    "start_time": "2022-05-07T03:18:31.926Z"
   },
   {
    "duration": 14,
    "start_time": "2022-05-07T03:18:34.640Z"
   },
   {
    "duration": 256,
    "start_time": "2022-05-07T03:19:34.038Z"
   },
   {
    "duration": 305,
    "start_time": "2022-05-07T03:19:41.332Z"
   },
   {
    "duration": 16,
    "start_time": "2022-05-07T03:19:45.729Z"
   },
   {
    "duration": 137,
    "start_time": "2022-05-07T03:20:19.149Z"
   },
   {
    "duration": 507,
    "start_time": "2022-05-07T03:20:31.946Z"
   },
   {
    "duration": 221,
    "start_time": "2022-05-07T03:21:11.662Z"
   },
   {
    "duration": 15,
    "start_time": "2022-05-07T03:21:17.614Z"
   },
   {
    "duration": 419,
    "start_time": "2022-05-07T03:21:23.095Z"
   },
   {
    "duration": 122,
    "start_time": "2022-05-07T03:21:32.752Z"
   },
   {
    "duration": 215,
    "start_time": "2022-05-07T03:21:54.413Z"
   },
   {
    "duration": 18,
    "start_time": "2022-05-07T03:21:59.432Z"
   },
   {
    "duration": 131,
    "start_time": "2022-05-07T03:22:11.009Z"
   },
   {
    "duration": 421,
    "start_time": "2022-05-07T03:22:14.978Z"
   },
   {
    "duration": 232,
    "start_time": "2022-05-07T03:22:32.069Z"
   },
   {
    "duration": 16,
    "start_time": "2022-05-07T03:22:42.060Z"
   },
   {
    "duration": 128,
    "start_time": "2022-05-07T03:22:51.811Z"
   },
   {
    "duration": 401,
    "start_time": "2022-05-07T03:22:56.565Z"
   },
   {
    "duration": 14,
    "start_time": "2022-05-07T03:23:50.557Z"
   },
   {
    "duration": 22,
    "start_time": "2022-05-07T03:23:59.429Z"
   },
   {
    "duration": 103,
    "start_time": "2022-05-07T03:29:38.686Z"
   },
   {
    "duration": 103,
    "start_time": "2022-05-07T03:29:51.411Z"
   },
   {
    "duration": 102,
    "start_time": "2022-05-07T03:30:00.367Z"
   },
   {
    "duration": 29,
    "start_time": "2022-05-07T03:31:16.497Z"
   },
   {
    "duration": 1175,
    "start_time": "2022-05-07T03:31:53.351Z"
   },
   {
    "duration": 279,
    "start_time": "2022-05-07T03:31:54.528Z"
   },
   {
    "duration": 12,
    "start_time": "2022-05-07T03:31:54.809Z"
   },
   {
    "duration": 16,
    "start_time": "2022-05-07T03:31:54.823Z"
   },
   {
    "duration": 5,
    "start_time": "2022-05-07T03:31:54.842Z"
   },
   {
    "duration": 9,
    "start_time": "2022-05-07T03:31:54.849Z"
   },
   {
    "duration": 19,
    "start_time": "2022-05-07T03:31:54.860Z"
   },
   {
    "duration": 14,
    "start_time": "2022-05-07T03:31:54.881Z"
   },
   {
    "duration": 13,
    "start_time": "2022-05-07T03:31:54.896Z"
   },
   {
    "duration": 10,
    "start_time": "2022-05-07T03:31:54.910Z"
   },
   {
    "duration": 12,
    "start_time": "2022-05-07T03:31:54.922Z"
   },
   {
    "duration": 61,
    "start_time": "2022-05-07T03:31:54.936Z"
   },
   {
    "duration": 8,
    "start_time": "2022-05-07T03:31:54.999Z"
   },
   {
    "duration": 27,
    "start_time": "2022-05-07T03:31:55.010Z"
   },
   {
    "duration": 5,
    "start_time": "2022-05-07T03:31:55.038Z"
   },
   {
    "duration": 40,
    "start_time": "2022-05-07T03:31:55.045Z"
   },
   {
    "duration": 9,
    "start_time": "2022-05-07T03:31:55.086Z"
   },
   {
    "duration": 21,
    "start_time": "2022-05-07T03:31:55.097Z"
   },
   {
    "duration": 7,
    "start_time": "2022-05-07T03:31:55.119Z"
   },
   {
    "duration": 18,
    "start_time": "2022-05-07T03:31:55.127Z"
   },
   {
    "duration": 29,
    "start_time": "2022-05-07T03:31:55.147Z"
   },
   {
    "duration": 17,
    "start_time": "2022-05-07T03:31:55.178Z"
   },
   {
    "duration": 7,
    "start_time": "2022-05-07T03:31:55.196Z"
   },
   {
    "duration": 24,
    "start_time": "2022-05-07T03:31:55.205Z"
   },
   {
    "duration": 8,
    "start_time": "2022-05-07T03:31:55.231Z"
   },
   {
    "duration": 43,
    "start_time": "2022-05-07T03:31:55.240Z"
   },
   {
    "duration": 8,
    "start_time": "2022-05-07T03:31:55.285Z"
   },
   {
    "duration": 20,
    "start_time": "2022-05-07T03:31:55.294Z"
   },
   {
    "duration": 16,
    "start_time": "2022-05-07T03:31:55.316Z"
   },
   {
    "duration": 12,
    "start_time": "2022-05-07T03:31:55.334Z"
   },
   {
    "duration": 32,
    "start_time": "2022-05-07T03:31:55.348Z"
   },
   {
    "duration": 19,
    "start_time": "2022-05-07T03:31:55.382Z"
   },
   {
    "duration": 14,
    "start_time": "2022-05-07T03:31:55.402Z"
   },
   {
    "duration": 3,
    "start_time": "2022-05-07T03:31:55.418Z"
   },
   {
    "duration": 9,
    "start_time": "2022-05-07T03:31:55.423Z"
   },
   {
    "duration": 43,
    "start_time": "2022-05-07T03:31:55.434Z"
   },
   {
    "duration": 4,
    "start_time": "2022-05-07T03:31:55.479Z"
   },
   {
    "duration": 12,
    "start_time": "2022-05-07T03:31:55.484Z"
   },
   {
    "duration": 5,
    "start_time": "2022-05-07T03:31:55.498Z"
   },
   {
    "duration": 48,
    "start_time": "2022-05-07T03:31:55.505Z"
   },
   {
    "duration": 15,
    "start_time": "2022-05-07T03:31:55.573Z"
   },
   {
    "duration": 267,
    "start_time": "2022-05-07T03:31:55.590Z"
   },
   {
    "duration": 330,
    "start_time": "2022-05-07T03:31:55.859Z"
   },
   {
    "duration": 15,
    "start_time": "2022-05-07T03:31:56.190Z"
   },
   {
    "duration": 142,
    "start_time": "2022-05-07T03:31:56.206Z"
   },
   {
    "duration": 407,
    "start_time": "2022-05-07T03:31:56.350Z"
   },
   {
    "duration": 229,
    "start_time": "2022-05-07T03:31:56.758Z"
   },
   {
    "duration": 15,
    "start_time": "2022-05-07T03:31:56.989Z"
   },
   {
    "duration": 504,
    "start_time": "2022-05-07T03:31:57.005Z"
   },
   {
    "duration": 127,
    "start_time": "2022-05-07T03:31:57.511Z"
   },
   {
    "duration": 222,
    "start_time": "2022-05-07T03:31:57.640Z"
   },
   {
    "duration": 20,
    "start_time": "2022-05-07T03:31:57.863Z"
   },
   {
    "duration": 138,
    "start_time": "2022-05-07T03:31:57.885Z"
   },
   {
    "duration": 421,
    "start_time": "2022-05-07T03:31:58.024Z"
   },
   {
    "duration": 111,
    "start_time": "2022-05-07T03:31:58.447Z"
   },
   {
    "duration": 19,
    "start_time": "2022-05-07T03:31:58.560Z"
   },
   {
    "duration": 142,
    "start_time": "2022-05-07T03:31:58.581Z"
   },
   {
    "duration": 519,
    "start_time": "2022-05-07T03:31:58.724Z"
   },
   {
    "duration": 13,
    "start_time": "2022-05-07T03:31:59.244Z"
   },
   {
    "duration": 31,
    "start_time": "2022-05-07T03:31:59.258Z"
   },
   {
    "duration": 1127,
    "start_time": "2022-05-07T03:37:07.777Z"
   },
   {
    "duration": 271,
    "start_time": "2022-05-07T03:37:08.905Z"
   },
   {
    "duration": 11,
    "start_time": "2022-05-07T03:37:09.178Z"
   },
   {
    "duration": 13,
    "start_time": "2022-05-07T03:37:09.191Z"
   },
   {
    "duration": 3,
    "start_time": "2022-05-07T03:37:09.206Z"
   },
   {
    "duration": 7,
    "start_time": "2022-05-07T03:37:09.211Z"
   },
   {
    "duration": 9,
    "start_time": "2022-05-07T03:37:09.219Z"
   },
   {
    "duration": 19,
    "start_time": "2022-05-07T03:37:09.229Z"
   },
   {
    "duration": 31,
    "start_time": "2022-05-07T03:37:09.250Z"
   },
   {
    "duration": 10,
    "start_time": "2022-05-07T03:37:09.284Z"
   },
   {
    "duration": 15,
    "start_time": "2022-05-07T03:37:09.295Z"
   },
   {
    "duration": 43,
    "start_time": "2022-05-07T03:37:09.312Z"
   },
   {
    "duration": 7,
    "start_time": "2022-05-07T03:37:09.357Z"
   },
   {
    "duration": 23,
    "start_time": "2022-05-07T03:37:09.373Z"
   },
   {
    "duration": 4,
    "start_time": "2022-05-07T03:37:09.398Z"
   },
   {
    "duration": 18,
    "start_time": "2022-05-07T03:37:09.404Z"
   },
   {
    "duration": 9,
    "start_time": "2022-05-07T03:37:09.424Z"
   },
   {
    "duration": 41,
    "start_time": "2022-05-07T03:37:09.434Z"
   },
   {
    "duration": 7,
    "start_time": "2022-05-07T03:37:09.477Z"
   },
   {
    "duration": 17,
    "start_time": "2022-05-07T03:37:09.485Z"
   },
   {
    "duration": 13,
    "start_time": "2022-05-07T03:37:09.503Z"
   },
   {
    "duration": 16,
    "start_time": "2022-05-07T03:37:09.517Z"
   },
   {
    "duration": 7,
    "start_time": "2022-05-07T03:37:09.535Z"
   },
   {
    "duration": 48,
    "start_time": "2022-05-07T03:37:09.544Z"
   },
   {
    "duration": 9,
    "start_time": "2022-05-07T03:37:09.594Z"
   },
   {
    "duration": 24,
    "start_time": "2022-05-07T03:37:09.605Z"
   },
   {
    "duration": 9,
    "start_time": "2022-05-07T03:37:09.631Z"
   },
   {
    "duration": 41,
    "start_time": "2022-05-07T03:37:09.644Z"
   },
   {
    "duration": 18,
    "start_time": "2022-05-07T03:37:09.687Z"
   },
   {
    "duration": 11,
    "start_time": "2022-05-07T03:37:09.707Z"
   },
   {
    "duration": 9,
    "start_time": "2022-05-07T03:37:09.720Z"
   },
   {
    "duration": 44,
    "start_time": "2022-05-07T03:37:09.731Z"
   },
   {
    "duration": 16,
    "start_time": "2022-05-07T03:37:09.777Z"
   },
   {
    "duration": 3,
    "start_time": "2022-05-07T03:37:09.794Z"
   },
   {
    "duration": 8,
    "start_time": "2022-05-07T03:37:09.799Z"
   },
   {
    "duration": 17,
    "start_time": "2022-05-07T03:37:09.808Z"
   },
   {
    "duration": 4,
    "start_time": "2022-05-07T03:37:09.826Z"
   },
   {
    "duration": 42,
    "start_time": "2022-05-07T03:37:09.831Z"
   },
   {
    "duration": 6,
    "start_time": "2022-05-07T03:37:09.875Z"
   },
   {
    "duration": 45,
    "start_time": "2022-05-07T03:37:09.882Z"
   },
   {
    "duration": 14,
    "start_time": "2022-05-07T03:37:09.928Z"
   },
   {
    "duration": 278,
    "start_time": "2022-05-07T03:37:09.943Z"
   },
   {
    "duration": 322,
    "start_time": "2022-05-07T03:37:10.222Z"
   },
   {
    "duration": 14,
    "start_time": "2022-05-07T03:37:10.546Z"
   },
   {
    "duration": 146,
    "start_time": "2022-05-07T03:37:10.562Z"
   },
   {
    "duration": 408,
    "start_time": "2022-05-07T03:37:10.709Z"
   },
   {
    "duration": 234,
    "start_time": "2022-05-07T03:37:11.119Z"
   },
   {
    "duration": 21,
    "start_time": "2022-05-07T03:37:11.355Z"
   },
   {
    "duration": 515,
    "start_time": "2022-05-07T03:37:11.377Z"
   },
   {
    "duration": 141,
    "start_time": "2022-05-07T03:37:11.894Z"
   },
   {
    "duration": 226,
    "start_time": "2022-05-07T03:37:12.036Z"
   },
   {
    "duration": 19,
    "start_time": "2022-05-07T03:37:12.264Z"
   },
   {
    "duration": 142,
    "start_time": "2022-05-07T03:37:12.285Z"
   },
   {
    "duration": 420,
    "start_time": "2022-05-07T03:37:12.429Z"
   },
   {
    "duration": 108,
    "start_time": "2022-05-07T03:37:12.850Z"
   },
   {
    "duration": 22,
    "start_time": "2022-05-07T03:37:12.960Z"
   },
   {
    "duration": 144,
    "start_time": "2022-05-07T03:37:12.984Z"
   },
   {
    "duration": 517,
    "start_time": "2022-05-07T03:37:13.129Z"
   },
   {
    "duration": 13,
    "start_time": "2022-05-07T03:37:13.648Z"
   },
   {
    "duration": 19,
    "start_time": "2022-05-07T03:37:13.674Z"
   }
  ],
  "kernelspec": {
   "display_name": "Python 3 (ipykernel)",
   "language": "python",
   "name": "python3"
  },
  "language_info": {
   "codemirror_mode": {
    "name": "ipython",
    "version": 3
   },
   "file_extension": ".py",
   "mimetype": "text/x-python",
   "name": "python",
   "nbconvert_exporter": "python",
   "pygments_lexer": "ipython3",
   "version": "3.9.5"
  },
  "toc": {
   "base_numbering": 1,
   "nav_menu": {},
   "number_sections": true,
   "sideBar": true,
   "skip_h1_title": false,
   "title_cell": "Table of Contents",
   "title_sidebar": "Contents",
   "toc_cell": false,
   "toc_position": {
    "height": "calc(100% - 180px)",
    "left": "10px",
    "top": "150px",
    "width": "201.4px"
   },
   "toc_section_display": true,
   "toc_window_display": false
  }
 },
 "nbformat": 4,
 "nbformat_minor": 2
}
