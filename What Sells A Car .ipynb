{
 "cells": [
  {
   "cell_type": "markdown",
   "metadata": {},
   "source": [
    "# What sells a car?\n"
   ]
  },
  {
   "cell_type": "markdown",
   "metadata": {},
   "source": [
    "The purpose of this project is to determine which factors, if any, influence the price of a vehicle listed on a car ad. The steps I will take are:\n",
    "- Taking a precursory look at the data to get familiar with its structure and features\n",
    "- Determine if there are missing values, and if there are missing values, determine if and how to fill them\n",
    "- Take a look at the data types and ensure they are what I need to continue\n",
    "- Analyze the different parameters of the dataset individually to determine if any adjustments need to be made i.e. removing outliers\n",
    "- Check if there is a significant correlation between these parameters and the price of a vehicle.\n",
    "\n"
   ]
  },
  {
   "cell_type": "markdown",
   "metadata": {},
   "source": [
    "## Initialization"
   ]
  },
  {
   "cell_type": "code",
   "execution_count": 1,
   "metadata": {},
   "outputs": [],
   "source": [
    "# Loading all the libraries\n",
    "\n",
    "import pandas as pd\n",
    "import numpy as np\n",
    "import matplotlib.pyplot as plt"
   ]
  },
  {
   "cell_type": "markdown",
   "metadata": {},
   "source": [
    "### Load data"
   ]
  },
  {
   "cell_type": "code",
   "execution_count": 2,
   "metadata": {},
   "outputs": [],
   "source": [
    "# Load the data file into a DataFrame\n",
    "data= pd.read_csv('/datasets/vehicles_us.csv')\n"
   ]
  },
  {
   "cell_type": "markdown",
   "metadata": {},
   "source": [
    "### Explore initial data"
   ]
  },
  {
   "cell_type": "markdown",
   "metadata": {},
   "source": [
    "The dataset contains the following fields:\n",
    "- `price`\n",
    "- `model_year`\n",
    "- `model`\n",
    "- `condition`\n",
    "- `cylinders`\n",
    "- `fuel` — gas, diesel, etc.\n",
    "- `odometer` — the vehicle's mileage when the ad was published\n",
    "- `transmission`\n",
    "- `paint_color`\n",
    "- `is_4wd` — whether the vehicle has 4-wheel drive (Boolean type)\n",
    "- `date_posted` — the date the ad was published\n",
    "- `days_listed` — from publication to removal\n",
    "\n"
   ]
  },
  {
   "cell_type": "code",
   "execution_count": 3,
   "metadata": {},
   "outputs": [
    {
     "name": "stdout",
     "output_type": "stream",
     "text": [
      "               price    model_year     cylinders       odometer   is_4wd  \\\n",
      "count   51525.000000  47906.000000  46265.000000   43633.000000  25572.0   \n",
      "mean    12132.464920   2009.750470      6.125235  115553.461738      1.0   \n",
      "std     10040.803015      6.282065      1.660360   65094.611341      0.0   \n",
      "min         1.000000   1908.000000      3.000000       0.000000      1.0   \n",
      "25%      5000.000000   2006.000000      4.000000   70000.000000      1.0   \n",
      "50%      9000.000000   2011.000000      6.000000  113000.000000      1.0   \n",
      "75%     16839.000000   2014.000000      8.000000  155000.000000      1.0   \n",
      "max    375000.000000   2019.000000     12.000000  990000.000000      1.0   \n",
      "\n",
      "       days_listed  \n",
      "count  51525.00000  \n",
      "mean      39.55476  \n",
      "std       28.20427  \n",
      "min        0.00000  \n",
      "25%       19.00000  \n",
      "50%       33.00000  \n",
      "75%       53.00000  \n",
      "max      271.00000  \n",
      "<class 'pandas.core.frame.DataFrame'>\n",
      "RangeIndex: 51525 entries, 0 to 51524\n",
      "Data columns (total 13 columns):\n",
      " #   Column        Non-Null Count  Dtype  \n",
      "---  ------        --------------  -----  \n",
      " 0   price         51525 non-null  int64  \n",
      " 1   model_year    47906 non-null  float64\n",
      " 2   model         51525 non-null  object \n",
      " 3   condition     51525 non-null  object \n",
      " 4   cylinders     46265 non-null  float64\n",
      " 5   fuel          51525 non-null  object \n",
      " 6   odometer      43633 non-null  float64\n",
      " 7   transmission  51525 non-null  object \n",
      " 8   type          51525 non-null  object \n",
      " 9   paint_color   42258 non-null  object \n",
      " 10  is_4wd        25572 non-null  float64\n",
      " 11  date_posted   51525 non-null  object \n",
      " 12  days_listed   51525 non-null  int64  \n",
      "dtypes: float64(4), int64(2), object(7)\n",
      "memory usage: 5.1+ MB\n",
      "None\n"
     ]
    }
   ],
   "source": [
    "# print the general/summary information about the DataFrame\n",
    "print(data.describe())\n",
    "print(data.info())\n",
    "\n"
   ]
  },
  {
   "cell_type": "code",
   "execution_count": 4,
   "metadata": {},
   "outputs": [
    {
     "data": {
      "text/html": [
       "<div>\n",
       "<style scoped>\n",
       "    .dataframe tbody tr th:only-of-type {\n",
       "        vertical-align: middle;\n",
       "    }\n",
       "\n",
       "    .dataframe tbody tr th {\n",
       "        vertical-align: top;\n",
       "    }\n",
       "\n",
       "    .dataframe thead th {\n",
       "        text-align: right;\n",
       "    }\n",
       "</style>\n",
       "<table border=\"1\" class=\"dataframe\">\n",
       "  <thead>\n",
       "    <tr style=\"text-align: right;\">\n",
       "      <th></th>\n",
       "      <th>price</th>\n",
       "      <th>model_year</th>\n",
       "      <th>model</th>\n",
       "      <th>condition</th>\n",
       "      <th>cylinders</th>\n",
       "      <th>fuel</th>\n",
       "      <th>odometer</th>\n",
       "      <th>transmission</th>\n",
       "      <th>type</th>\n",
       "      <th>paint_color</th>\n",
       "      <th>is_4wd</th>\n",
       "      <th>date_posted</th>\n",
       "      <th>days_listed</th>\n",
       "    </tr>\n",
       "  </thead>\n",
       "  <tbody>\n",
       "    <tr>\n",
       "      <th>0</th>\n",
       "      <td>9400</td>\n",
       "      <td>2011.0</td>\n",
       "      <td>bmw x5</td>\n",
       "      <td>good</td>\n",
       "      <td>6.0</td>\n",
       "      <td>gas</td>\n",
       "      <td>145000.0</td>\n",
       "      <td>automatic</td>\n",
       "      <td>SUV</td>\n",
       "      <td>NaN</td>\n",
       "      <td>1.0</td>\n",
       "      <td>2018-06-23</td>\n",
       "      <td>19</td>\n",
       "    </tr>\n",
       "    <tr>\n",
       "      <th>1</th>\n",
       "      <td>25500</td>\n",
       "      <td>NaN</td>\n",
       "      <td>ford f-150</td>\n",
       "      <td>good</td>\n",
       "      <td>6.0</td>\n",
       "      <td>gas</td>\n",
       "      <td>88705.0</td>\n",
       "      <td>automatic</td>\n",
       "      <td>pickup</td>\n",
       "      <td>white</td>\n",
       "      <td>1.0</td>\n",
       "      <td>2018-10-19</td>\n",
       "      <td>50</td>\n",
       "    </tr>\n",
       "    <tr>\n",
       "      <th>2</th>\n",
       "      <td>5500</td>\n",
       "      <td>2013.0</td>\n",
       "      <td>hyundai sonata</td>\n",
       "      <td>like new</td>\n",
       "      <td>4.0</td>\n",
       "      <td>gas</td>\n",
       "      <td>110000.0</td>\n",
       "      <td>automatic</td>\n",
       "      <td>sedan</td>\n",
       "      <td>red</td>\n",
       "      <td>NaN</td>\n",
       "      <td>2019-02-07</td>\n",
       "      <td>79</td>\n",
       "    </tr>\n",
       "    <tr>\n",
       "      <th>3</th>\n",
       "      <td>1500</td>\n",
       "      <td>2003.0</td>\n",
       "      <td>ford f-150</td>\n",
       "      <td>fair</td>\n",
       "      <td>8.0</td>\n",
       "      <td>gas</td>\n",
       "      <td>NaN</td>\n",
       "      <td>automatic</td>\n",
       "      <td>pickup</td>\n",
       "      <td>NaN</td>\n",
       "      <td>NaN</td>\n",
       "      <td>2019-03-22</td>\n",
       "      <td>9</td>\n",
       "    </tr>\n",
       "    <tr>\n",
       "      <th>4</th>\n",
       "      <td>14900</td>\n",
       "      <td>2017.0</td>\n",
       "      <td>chrysler 200</td>\n",
       "      <td>excellent</td>\n",
       "      <td>4.0</td>\n",
       "      <td>gas</td>\n",
       "      <td>80903.0</td>\n",
       "      <td>automatic</td>\n",
       "      <td>sedan</td>\n",
       "      <td>black</td>\n",
       "      <td>NaN</td>\n",
       "      <td>2019-04-02</td>\n",
       "      <td>28</td>\n",
       "    </tr>\n",
       "  </tbody>\n",
       "</table>\n",
       "</div>"
      ],
      "text/plain": [
       "   price  model_year           model  condition  cylinders fuel  odometer  \\\n",
       "0   9400      2011.0          bmw x5       good        6.0  gas  145000.0   \n",
       "1  25500         NaN      ford f-150       good        6.0  gas   88705.0   \n",
       "2   5500      2013.0  hyundai sonata   like new        4.0  gas  110000.0   \n",
       "3   1500      2003.0      ford f-150       fair        8.0  gas       NaN   \n",
       "4  14900      2017.0    chrysler 200  excellent        4.0  gas   80903.0   \n",
       "\n",
       "  transmission    type paint_color  is_4wd date_posted  days_listed  \n",
       "0    automatic     SUV         NaN     1.0  2018-06-23           19  \n",
       "1    automatic  pickup       white     1.0  2018-10-19           50  \n",
       "2    automatic   sedan         red     NaN  2019-02-07           79  \n",
       "3    automatic  pickup         NaN     NaN  2019-03-22            9  \n",
       "4    automatic   sedan       black     NaN  2019-04-02           28  "
      ]
     },
     "execution_count": 4,
     "metadata": {},
     "output_type": "execute_result"
    }
   ],
   "source": [
    "# print a sample of data\n",
    "data.head()"
   ]
  },
  {
   "cell_type": "markdown",
   "metadata": {},
   "source": [
    "In taking a look at the dataset I noticed:\n",
    "- There are currently 51,525 ads \n",
    "- Date posted will have to be converted to date time\n",
    "- There are missing values in model year, cylinders, odometer, paint color, and 4wd. \n",
    "\n",
    "4wd is missnig the most values but as it is a Boolean value, this will be easily remedied and I will fill in the missing values with 0, indicating the car does not have 4wd. \n",
    "Follwing 4wd, paint color is missing the most values and then odometer. "
   ]
  },
  {
   "cell_type": "markdown",
   "metadata": {},
   "source": [
    "### Conclusions and further steps\n",
    "\n"
   ]
  },
  {
   "cell_type": "markdown",
   "metadata": {},
   "source": [
    "Interesting observations: There is a price as low as a dollar, there is a day listed entry as 0 days with the longest being 271 days. I'm not sure that a price of a dollar is normal but I will analyze further.\n",
    "\n",
    "Next steps: changing the data type of day posted and filling in the missing values of is 4wd and analyzing whether to fill in the missing values for odometer, paint color, cylinder, and model year. "
   ]
  },
  {
   "cell_type": "markdown",
   "metadata": {},
   "source": [
    "## Treating missing values (if any)"
   ]
  },
  {
   "cell_type": "markdown",
   "metadata": {},
   "source": [
    "### Filling in 4wd ###\n",
    "As 4wd is Boolean value which means the resuls can either be a 1 or 0, I will fill in missing values with 0."
   ]
  },
  {
   "cell_type": "code",
   "execution_count": 5,
   "metadata": {},
   "outputs": [],
   "source": [
    "data['is_4wd'].fillna(0, inplace=True)"
   ]
  },
  {
   "cell_type": "code",
   "execution_count": 6,
   "metadata": {},
   "outputs": [
    {
     "data": {
      "text/plain": [
       "0"
      ]
     },
     "execution_count": 6,
     "metadata": {},
     "output_type": "execute_result"
    }
   ],
   "source": [
    "data['is_4wd'].isna().sum()"
   ]
  },
  {
   "cell_type": "code",
   "execution_count": 7,
   "metadata": {},
   "outputs": [
    {
     "data": {
      "text/plain": [
       "count    47906.000000\n",
       "mean      2009.750470\n",
       "std          6.282065\n",
       "min       1908.000000\n",
       "25%       2006.000000\n",
       "50%       2011.000000\n",
       "75%       2014.000000\n",
       "max       2019.000000\n",
       "Name: model_year, dtype: float64"
      ]
     },
     "execution_count": 7,
     "metadata": {},
     "output_type": "execute_result"
    }
   ],
   "source": [
    "data['model_year'].describe()"
   ]
  },
  {
   "cell_type": "markdown",
   "metadata": {},
   "source": [
    "Next steps: Because we will later on be finding the vehicle age and the avg mile per age the model year and odometer columns need to be filled in. "
   ]
  },
  {
   "cell_type": "markdown",
   "metadata": {},
   "source": [
    "### Filling In Odometer ###"
   ]
  },
  {
   "cell_type": "code",
   "execution_count": 8,
   "metadata": {},
   "outputs": [
    {
     "data": {
      "text/plain": [
       "count     43633.000000\n",
       "mean     115553.461738\n",
       "std       65094.611341\n",
       "min           0.000000\n",
       "25%       70000.000000\n",
       "50%      113000.000000\n",
       "75%      155000.000000\n",
       "max      990000.000000\n",
       "Name: odometer, dtype: float64"
      ]
     },
     "execution_count": 8,
     "metadata": {},
     "output_type": "execute_result"
    }
   ],
   "source": [
    "data['odometer'].describe()"
   ]
  },
  {
   "cell_type": "markdown",
   "metadata": {},
   "source": [
    "The mean and median values are quite different so I will be using the median. However, a car's odometer is typically affected by its model year and the condition of the car as well. First I will group the data into model year and condition and then take the median of these groups to fill in the missing values."
   ]
  },
  {
   "cell_type": "code",
   "execution_count": 9,
   "metadata": {
    "scrolled": true
   },
   "outputs": [
    {
     "data": {
      "text/html": [
       "<div>\n",
       "<style scoped>\n",
       "    .dataframe tbody tr th:only-of-type {\n",
       "        vertical-align: middle;\n",
       "    }\n",
       "\n",
       "    .dataframe tbody tr th {\n",
       "        vertical-align: top;\n",
       "    }\n",
       "\n",
       "    .dataframe thead th {\n",
       "        text-align: right;\n",
       "    }\n",
       "</style>\n",
       "<table border=\"1\" class=\"dataframe\">\n",
       "  <thead>\n",
       "    <tr style=\"text-align: right;\">\n",
       "      <th></th>\n",
       "      <th>price</th>\n",
       "      <th>model_year</th>\n",
       "      <th>model</th>\n",
       "      <th>condition</th>\n",
       "      <th>cylinders</th>\n",
       "      <th>fuel</th>\n",
       "      <th>odometer</th>\n",
       "      <th>transmission</th>\n",
       "      <th>type</th>\n",
       "      <th>paint_color</th>\n",
       "      <th>is_4wd</th>\n",
       "      <th>date_posted</th>\n",
       "      <th>days_listed</th>\n",
       "    </tr>\n",
       "  </thead>\n",
       "  <tbody>\n",
       "    <tr>\n",
       "      <th>0</th>\n",
       "      <td>9400</td>\n",
       "      <td>2011.0</td>\n",
       "      <td>bmw x5</td>\n",
       "      <td>good</td>\n",
       "      <td>6.0</td>\n",
       "      <td>gas</td>\n",
       "      <td>145000.0</td>\n",
       "      <td>automatic</td>\n",
       "      <td>SUV</td>\n",
       "      <td>NaN</td>\n",
       "      <td>1.0</td>\n",
       "      <td>2018-06-23</td>\n",
       "      <td>19</td>\n",
       "    </tr>\n",
       "    <tr>\n",
       "      <th>1</th>\n",
       "      <td>25500</td>\n",
       "      <td>NaN</td>\n",
       "      <td>ford f-150</td>\n",
       "      <td>good</td>\n",
       "      <td>6.0</td>\n",
       "      <td>gas</td>\n",
       "      <td>88705.0</td>\n",
       "      <td>automatic</td>\n",
       "      <td>pickup</td>\n",
       "      <td>white</td>\n",
       "      <td>1.0</td>\n",
       "      <td>2018-10-19</td>\n",
       "      <td>50</td>\n",
       "    </tr>\n",
       "    <tr>\n",
       "      <th>2</th>\n",
       "      <td>5500</td>\n",
       "      <td>2013.0</td>\n",
       "      <td>hyundai sonata</td>\n",
       "      <td>like new</td>\n",
       "      <td>4.0</td>\n",
       "      <td>gas</td>\n",
       "      <td>110000.0</td>\n",
       "      <td>automatic</td>\n",
       "      <td>sedan</td>\n",
       "      <td>red</td>\n",
       "      <td>0.0</td>\n",
       "      <td>2019-02-07</td>\n",
       "      <td>79</td>\n",
       "    </tr>\n",
       "    <tr>\n",
       "      <th>3</th>\n",
       "      <td>1500</td>\n",
       "      <td>2003.0</td>\n",
       "      <td>ford f-150</td>\n",
       "      <td>fair</td>\n",
       "      <td>8.0</td>\n",
       "      <td>gas</td>\n",
       "      <td>NaN</td>\n",
       "      <td>automatic</td>\n",
       "      <td>pickup</td>\n",
       "      <td>NaN</td>\n",
       "      <td>0.0</td>\n",
       "      <td>2019-03-22</td>\n",
       "      <td>9</td>\n",
       "    </tr>\n",
       "    <tr>\n",
       "      <th>4</th>\n",
       "      <td>14900</td>\n",
       "      <td>2017.0</td>\n",
       "      <td>chrysler 200</td>\n",
       "      <td>excellent</td>\n",
       "      <td>4.0</td>\n",
       "      <td>gas</td>\n",
       "      <td>80903.0</td>\n",
       "      <td>automatic</td>\n",
       "      <td>sedan</td>\n",
       "      <td>black</td>\n",
       "      <td>0.0</td>\n",
       "      <td>2019-04-02</td>\n",
       "      <td>28</td>\n",
       "    </tr>\n",
       "  </tbody>\n",
       "</table>\n",
       "</div>"
      ],
      "text/plain": [
       "   price  model_year           model  condition  cylinders fuel  odometer  \\\n",
       "0   9400      2011.0          bmw x5       good        6.0  gas  145000.0   \n",
       "1  25500         NaN      ford f-150       good        6.0  gas   88705.0   \n",
       "2   5500      2013.0  hyundai sonata   like new        4.0  gas  110000.0   \n",
       "3   1500      2003.0      ford f-150       fair        8.0  gas       NaN   \n",
       "4  14900      2017.0    chrysler 200  excellent        4.0  gas   80903.0   \n",
       "\n",
       "  transmission    type paint_color  is_4wd date_posted  days_listed  \n",
       "0    automatic     SUV         NaN     1.0  2018-06-23           19  \n",
       "1    automatic  pickup       white     1.0  2018-10-19           50  \n",
       "2    automatic   sedan         red     0.0  2019-02-07           79  \n",
       "3    automatic  pickup         NaN     0.0  2019-03-22            9  \n",
       "4    automatic   sedan       black     0.0  2019-04-02           28  "
      ]
     },
     "execution_count": 9,
     "metadata": {},
     "output_type": "execute_result"
    }
   ],
   "source": [
    "data.head()"
   ]
  },
  {
   "cell_type": "markdown",
   "metadata": {},
   "source": [
    "I will save my process to a variable so the code runs faster."
   ]
  },
  {
   "cell_type": "code",
   "execution_count": 10,
   "metadata": {},
   "outputs": [],
   "source": [
    "fill_odo_var = data.groupby(['model_year', 'condition'])['odometer'].median()"
   ]
  },
  {
   "cell_type": "markdown",
   "metadata": {},
   "source": [
    "I will create a variable that groups the data by model year and condition and then finds the median value of mileage (odometer) of these groups. \n",
    "I will create function that takes this variable and applies it to a row if that row's odometer value is missing."
   ]
  },
  {
   "cell_type": "code",
   "execution_count": 11,
   "metadata": {},
   "outputs": [],
   "source": [
    "def fill_odo(row):\n",
    "    if np.isnan(row['odometer']):\n",
    "        return fill_odo_var.get((row['model_year'], row['condition']))\n",
    "    else:\n",
    "        return row['odometer']"
   ]
  },
  {
   "cell_type": "code",
   "execution_count": 12,
   "metadata": {},
   "outputs": [],
   "source": [
    "data['odometer'] = data.apply(fill_odo, axis=1)"
   ]
  },
  {
   "cell_type": "code",
   "execution_count": 13,
   "metadata": {},
   "outputs": [
    {
     "data": {
      "text/html": [
       "<div>\n",
       "<style scoped>\n",
       "    .dataframe tbody tr th:only-of-type {\n",
       "        vertical-align: middle;\n",
       "    }\n",
       "\n",
       "    .dataframe tbody tr th {\n",
       "        vertical-align: top;\n",
       "    }\n",
       "\n",
       "    .dataframe thead th {\n",
       "        text-align: right;\n",
       "    }\n",
       "</style>\n",
       "<table border=\"1\" class=\"dataframe\">\n",
       "  <thead>\n",
       "    <tr style=\"text-align: right;\">\n",
       "      <th></th>\n",
       "      <th>price</th>\n",
       "      <th>model_year</th>\n",
       "      <th>model</th>\n",
       "      <th>condition</th>\n",
       "      <th>cylinders</th>\n",
       "      <th>fuel</th>\n",
       "      <th>odometer</th>\n",
       "      <th>transmission</th>\n",
       "      <th>type</th>\n",
       "      <th>paint_color</th>\n",
       "      <th>is_4wd</th>\n",
       "      <th>date_posted</th>\n",
       "      <th>days_listed</th>\n",
       "    </tr>\n",
       "  </thead>\n",
       "  <tbody>\n",
       "    <tr>\n",
       "      <th>0</th>\n",
       "      <td>9400</td>\n",
       "      <td>2011.0</td>\n",
       "      <td>bmw x5</td>\n",
       "      <td>good</td>\n",
       "      <td>6.0</td>\n",
       "      <td>gas</td>\n",
       "      <td>145000.0</td>\n",
       "      <td>automatic</td>\n",
       "      <td>SUV</td>\n",
       "      <td>NaN</td>\n",
       "      <td>1.0</td>\n",
       "      <td>2018-06-23</td>\n",
       "      <td>19</td>\n",
       "    </tr>\n",
       "    <tr>\n",
       "      <th>1</th>\n",
       "      <td>25500</td>\n",
       "      <td>NaN</td>\n",
       "      <td>ford f-150</td>\n",
       "      <td>good</td>\n",
       "      <td>6.0</td>\n",
       "      <td>gas</td>\n",
       "      <td>88705.0</td>\n",
       "      <td>automatic</td>\n",
       "      <td>pickup</td>\n",
       "      <td>white</td>\n",
       "      <td>1.0</td>\n",
       "      <td>2018-10-19</td>\n",
       "      <td>50</td>\n",
       "    </tr>\n",
       "    <tr>\n",
       "      <th>2</th>\n",
       "      <td>5500</td>\n",
       "      <td>2013.0</td>\n",
       "      <td>hyundai sonata</td>\n",
       "      <td>like new</td>\n",
       "      <td>4.0</td>\n",
       "      <td>gas</td>\n",
       "      <td>110000.0</td>\n",
       "      <td>automatic</td>\n",
       "      <td>sedan</td>\n",
       "      <td>red</td>\n",
       "      <td>0.0</td>\n",
       "      <td>2019-02-07</td>\n",
       "      <td>79</td>\n",
       "    </tr>\n",
       "    <tr>\n",
       "      <th>3</th>\n",
       "      <td>1500</td>\n",
       "      <td>2003.0</td>\n",
       "      <td>ford f-150</td>\n",
       "      <td>fair</td>\n",
       "      <td>8.0</td>\n",
       "      <td>gas</td>\n",
       "      <td>193850.0</td>\n",
       "      <td>automatic</td>\n",
       "      <td>pickup</td>\n",
       "      <td>NaN</td>\n",
       "      <td>0.0</td>\n",
       "      <td>2019-03-22</td>\n",
       "      <td>9</td>\n",
       "    </tr>\n",
       "    <tr>\n",
       "      <th>4</th>\n",
       "      <td>14900</td>\n",
       "      <td>2017.0</td>\n",
       "      <td>chrysler 200</td>\n",
       "      <td>excellent</td>\n",
       "      <td>4.0</td>\n",
       "      <td>gas</td>\n",
       "      <td>80903.0</td>\n",
       "      <td>automatic</td>\n",
       "      <td>sedan</td>\n",
       "      <td>black</td>\n",
       "      <td>0.0</td>\n",
       "      <td>2019-04-02</td>\n",
       "      <td>28</td>\n",
       "    </tr>\n",
       "  </tbody>\n",
       "</table>\n",
       "</div>"
      ],
      "text/plain": [
       "   price  model_year           model  condition  cylinders fuel  odometer  \\\n",
       "0   9400      2011.0          bmw x5       good        6.0  gas  145000.0   \n",
       "1  25500         NaN      ford f-150       good        6.0  gas   88705.0   \n",
       "2   5500      2013.0  hyundai sonata   like new        4.0  gas  110000.0   \n",
       "3   1500      2003.0      ford f-150       fair        8.0  gas  193850.0   \n",
       "4  14900      2017.0    chrysler 200  excellent        4.0  gas   80903.0   \n",
       "\n",
       "  transmission    type paint_color  is_4wd date_posted  days_listed  \n",
       "0    automatic     SUV         NaN     1.0  2018-06-23           19  \n",
       "1    automatic  pickup       white     1.0  2018-10-19           50  \n",
       "2    automatic   sedan         red     0.0  2019-02-07           79  \n",
       "3    automatic  pickup         NaN     0.0  2019-03-22            9  \n",
       "4    automatic   sedan       black     0.0  2019-04-02           28  "
      ]
     },
     "execution_count": 13,
     "metadata": {},
     "output_type": "execute_result"
    }
   ],
   "source": [
    "data.head()"
   ]
  },
  {
   "cell_type": "code",
   "execution_count": 14,
   "metadata": {
    "scrolled": false
   },
   "outputs": [
    {
     "name": "stdout",
     "output_type": "stream",
     "text": [
      "<class 'pandas.core.frame.DataFrame'>\n",
      "RangeIndex: 51525 entries, 0 to 51524\n",
      "Data columns (total 13 columns):\n",
      " #   Column        Non-Null Count  Dtype  \n",
      "---  ------        --------------  -----  \n",
      " 0   price         51525 non-null  int64  \n",
      " 1   model_year    47906 non-null  float64\n",
      " 2   model         51525 non-null  object \n",
      " 3   condition     51525 non-null  object \n",
      " 4   cylinders     46265 non-null  float64\n",
      " 5   fuel          51525 non-null  object \n",
      " 6   odometer      50969 non-null  float64\n",
      " 7   transmission  51525 non-null  object \n",
      " 8   type          51525 non-null  object \n",
      " 9   paint_color   42258 non-null  object \n",
      " 10  is_4wd        51525 non-null  float64\n",
      " 11  date_posted   51525 non-null  object \n",
      " 12  days_listed   51525 non-null  int64  \n",
      "dtypes: float64(4), int64(2), object(7)\n",
      "memory usage: 5.1+ MB\n"
     ]
    }
   ],
   "source": [
    "data.info()"
   ]
  },
  {
   "cell_type": "markdown",
   "metadata": {},
   "source": [
    "### Filling in Model Year ###\n",
    "Our odometer rows are not completely filled but I believe this wil suffice. Next we move onto model year. It may be possible to guess a car's model year based on the model and mileage on the car or possibly the condition of the car. Because odometer is a numerical value with a large range, we will go with condiiton instead. We  will be using similar coding to the above, once again finding the median."
   ]
  },
  {
   "cell_type": "code",
   "execution_count": 15,
   "metadata": {},
   "outputs": [
    {
     "data": {
      "text/plain": [
       "3619"
      ]
     },
     "execution_count": 15,
     "metadata": {},
     "output_type": "execute_result"
    }
   ],
   "source": [
    "data['model_year'].isna().sum()"
   ]
  },
  {
   "cell_type": "code",
   "execution_count": 16,
   "metadata": {},
   "outputs": [],
   "source": [
    "fill_model_year_var= data.groupby(['model', 'condition'])['model_year'].median()"
   ]
  },
  {
   "cell_type": "code",
   "execution_count": 17,
   "metadata": {},
   "outputs": [],
   "source": [
    "def fill_model_year(row):\n",
    "    if np.isnan(row['model_year']):\n",
    "        return fill_model_year_var.get((row['model'], row['condition']))\n",
    "    else:\n",
    "        return row['model_year']"
   ]
  },
  {
   "cell_type": "code",
   "execution_count": 18,
   "metadata": {},
   "outputs": [],
   "source": [
    "data['model_year'] = data.apply(fill_model_year, axis=1)"
   ]
  },
  {
   "cell_type": "code",
   "execution_count": 19,
   "metadata": {
    "scrolled": false
   },
   "outputs": [
    {
     "name": "stdout",
     "output_type": "stream",
     "text": [
      "6\n",
      "   price  model_year           model  condition  cylinders fuel  odometer  \\\n",
      "0   9400      2011.0          bmw x5       good        6.0  gas  145000.0   \n",
      "1  25500      2008.0      ford f-150       good        6.0  gas   88705.0   \n",
      "2   5500      2013.0  hyundai sonata   like new        4.0  gas  110000.0   \n",
      "3   1500      2003.0      ford f-150       fair        8.0  gas  193850.0   \n",
      "4  14900      2017.0    chrysler 200  excellent        4.0  gas   80903.0   \n",
      "\n",
      "  transmission    type paint_color  is_4wd date_posted  days_listed  \n",
      "0    automatic     SUV         NaN     1.0  2018-06-23           19  \n",
      "1    automatic  pickup       white     1.0  2018-10-19           50  \n",
      "2    automatic   sedan         red     0.0  2019-02-07           79  \n",
      "3    automatic  pickup         NaN     0.0  2019-03-22            9  \n",
      "4    automatic   sedan       black     0.0  2019-04-02           28  \n",
      "<class 'pandas.core.frame.DataFrame'>\n",
      "RangeIndex: 51525 entries, 0 to 51524\n",
      "Data columns (total 13 columns):\n",
      " #   Column        Non-Null Count  Dtype  \n",
      "---  ------        --------------  -----  \n",
      " 0   price         51525 non-null  int64  \n",
      " 1   model_year    51519 non-null  float64\n",
      " 2   model         51525 non-null  object \n",
      " 3   condition     51525 non-null  object \n",
      " 4   cylinders     46265 non-null  float64\n",
      " 5   fuel          51525 non-null  object \n",
      " 6   odometer      50969 non-null  float64\n",
      " 7   transmission  51525 non-null  object \n",
      " 8   type          51525 non-null  object \n",
      " 9   paint_color   42258 non-null  object \n",
      " 10  is_4wd        51525 non-null  float64\n",
      " 11  date_posted   51525 non-null  object \n",
      " 12  days_listed   51525 non-null  int64  \n",
      "dtypes: float64(4), int64(2), object(7)\n",
      "memory usage: 5.1+ MB\n",
      "None\n"
     ]
    }
   ],
   "source": [
    "print(data['model_year'].isna().sum())\n",
    "print(data.head())\n",
    "print(data.info())"
   ]
  },
  {
   "cell_type": "code",
   "execution_count": 20,
   "metadata": {},
   "outputs": [
    {
     "data": {
      "text/plain": [
       "0.9998835516739447"
      ]
     },
     "execution_count": 20,
     "metadata": {},
     "output_type": "execute_result"
    }
   ],
   "source": [
    "data['model_year'].count()/data.shape[0]"
   ]
  },
  {
   "cell_type": "markdown",
   "metadata": {},
   "source": [
    "This is did not fill all of the missing values but it filled in the majority with only 6 values missing or less than 0.01%."
   ]
  },
  {
   "cell_type": "markdown",
   "metadata": {},
   "source": [
    "### Filling In Number of Cylinders ###\n"
   ]
  },
  {
   "cell_type": "code",
   "execution_count": 21,
   "metadata": {
    "scrolled": true
   },
   "outputs": [
    {
     "data": {
      "text/plain": [
       "count    46265.000000\n",
       "mean         6.125235\n",
       "std          1.660360\n",
       "min          3.000000\n",
       "25%          4.000000\n",
       "50%          6.000000\n",
       "75%          8.000000\n",
       "max         12.000000\n",
       "Name: cylinders, dtype: float64"
      ]
     },
     "execution_count": 21,
     "metadata": {},
     "output_type": "execute_result"
    }
   ],
   "source": [
    "data['cylinders'].describe()"
   ]
  },
  {
   "cell_type": "markdown",
   "metadata": {},
   "source": [
    "The mean and the median are very similar at 6.125 and 6 respectively, but with the min being 3 and the max being 12, I feel as if the going with the median would be best. \n",
    "Also going with the median will insure we won't get a decimal as a cylinder count. \n",
    "I believe a possible estimate of a car's number of cylinders can be reached by considering the car's model and model year. Once again we will be using similar coding to the above."
   ]
  },
  {
   "cell_type": "code",
   "execution_count": 22,
   "metadata": {},
   "outputs": [],
   "source": [
    "fill_cylin_var = data.groupby(['model', 'model_year'])['cylinders'].median()"
   ]
  },
  {
   "cell_type": "code",
   "execution_count": 23,
   "metadata": {},
   "outputs": [],
   "source": [
    "def fill_cylinders(row):\n",
    "    if np.isnan(row['cylinders']):\n",
    "        return fill_cylin_var.get((row['model'], row['model_year']))\n",
    "    else:\n",
    "        return row['cylinders']"
   ]
  },
  {
   "cell_type": "code",
   "execution_count": 24,
   "metadata": {},
   "outputs": [],
   "source": [
    "data['cylinders'] = data.apply(fill_cylinders, axis=1)"
   ]
  },
  {
   "cell_type": "code",
   "execution_count": 25,
   "metadata": {
    "scrolled": true
   },
   "outputs": [
    {
     "name": "stdout",
     "output_type": "stream",
     "text": [
      "30\n",
      "0.0005822416302765648\n"
     ]
    }
   ],
   "source": [
    "print(data['cylinders'].isna().sum())\n",
    "print(data['cylinders'].isna().sum()/data.shape[0])"
   ]
  },
  {
   "cell_type": "markdown",
   "metadata": {},
   "source": [
    "We were able to fill in many of the cylinder rows leaving only less than 0.5% of the cylinder column being empty."
   ]
  },
  {
   "cell_type": "markdown",
   "metadata": {},
   "source": [
    "I will not be filling in paint color as the possibilities of what paint color a car may be is vast and would be difficult to narrow down. \n",
    "\n",
    "As days listed is not a core parameter I plan on analyzing when determining what influence's a car's price, I will not be filling in those missing values."
   ]
  },
  {
   "cell_type": "markdown",
   "metadata": {},
   "source": [
    "## Fix data types"
   ]
  },
  {
   "cell_type": "markdown",
   "metadata": {},
   "source": [
    "Now that my initial data preprocessing is complete, I will be converting the date_posted column into a date time type."
   ]
  },
  {
   "cell_type": "code",
   "execution_count": 26,
   "metadata": {},
   "outputs": [],
   "source": [
    "data['date_posted']=pd.to_datetime(data['date_posted'], format='%Y/%m/%d')"
   ]
  },
  {
   "cell_type": "markdown",
   "metadata": {},
   "source": [
    "## Enrich data"
   ]
  },
  {
   "cell_type": "markdown",
   "metadata": {},
   "source": [
    "I will add a few more columns that may help with my analysis:\n",
    "- The day the add was placed\n",
    "- The month the add was placed\n",
    "- the year the ad was placed\n",
    "\n",
    "The above will help me determine and create columns that detail\n",
    "- The age of the vehicle when the ad was placed\n",
    "- The average number of miles per age of a vehicle \n",
    "\n",
    "Finally I will replace the condition column with integers to make it easier to work with when it comes to artithmetic operations. "
   ]
  },
  {
   "cell_type": "code",
   "execution_count": 27,
   "metadata": {},
   "outputs": [],
   "source": [
    "# Add datetime values for when the ad was placed\n",
    "#day the add was placed\n",
    "data['day']=data['date_posted'].dt.weekday"
   ]
  },
  {
   "cell_type": "code",
   "execution_count": 28,
   "metadata": {},
   "outputs": [],
   "source": [
    "#month the ad was placed\n",
    "data['month']=data['date_posted'].dt.month"
   ]
  },
  {
   "cell_type": "code",
   "execution_count": 29,
   "metadata": {},
   "outputs": [],
   "source": [
    "#year the ad was placed \n",
    "data['year']=data['date_posted'].dt.year"
   ]
  },
  {
   "cell_type": "code",
   "execution_count": 30,
   "metadata": {},
   "outputs": [
    {
     "data": {
      "text/html": [
       "<div>\n",
       "<style scoped>\n",
       "    .dataframe tbody tr th:only-of-type {\n",
       "        vertical-align: middle;\n",
       "    }\n",
       "\n",
       "    .dataframe tbody tr th {\n",
       "        vertical-align: top;\n",
       "    }\n",
       "\n",
       "    .dataframe thead th {\n",
       "        text-align: right;\n",
       "    }\n",
       "</style>\n",
       "<table border=\"1\" class=\"dataframe\">\n",
       "  <thead>\n",
       "    <tr style=\"text-align: right;\">\n",
       "      <th></th>\n",
       "      <th>price</th>\n",
       "      <th>model_year</th>\n",
       "      <th>model</th>\n",
       "      <th>condition</th>\n",
       "      <th>cylinders</th>\n",
       "      <th>fuel</th>\n",
       "      <th>odometer</th>\n",
       "      <th>transmission</th>\n",
       "      <th>type</th>\n",
       "      <th>paint_color</th>\n",
       "      <th>is_4wd</th>\n",
       "      <th>date_posted</th>\n",
       "      <th>days_listed</th>\n",
       "      <th>day</th>\n",
       "      <th>month</th>\n",
       "      <th>year</th>\n",
       "    </tr>\n",
       "  </thead>\n",
       "  <tbody>\n",
       "    <tr>\n",
       "      <th>0</th>\n",
       "      <td>9400</td>\n",
       "      <td>2011.0</td>\n",
       "      <td>bmw x5</td>\n",
       "      <td>good</td>\n",
       "      <td>6.0</td>\n",
       "      <td>gas</td>\n",
       "      <td>145000.0</td>\n",
       "      <td>automatic</td>\n",
       "      <td>SUV</td>\n",
       "      <td>NaN</td>\n",
       "      <td>1.0</td>\n",
       "      <td>2018-06-23</td>\n",
       "      <td>19</td>\n",
       "      <td>5</td>\n",
       "      <td>6</td>\n",
       "      <td>2018</td>\n",
       "    </tr>\n",
       "    <tr>\n",
       "      <th>1</th>\n",
       "      <td>25500</td>\n",
       "      <td>2008.0</td>\n",
       "      <td>ford f-150</td>\n",
       "      <td>good</td>\n",
       "      <td>6.0</td>\n",
       "      <td>gas</td>\n",
       "      <td>88705.0</td>\n",
       "      <td>automatic</td>\n",
       "      <td>pickup</td>\n",
       "      <td>white</td>\n",
       "      <td>1.0</td>\n",
       "      <td>2018-10-19</td>\n",
       "      <td>50</td>\n",
       "      <td>4</td>\n",
       "      <td>10</td>\n",
       "      <td>2018</td>\n",
       "    </tr>\n",
       "    <tr>\n",
       "      <th>2</th>\n",
       "      <td>5500</td>\n",
       "      <td>2013.0</td>\n",
       "      <td>hyundai sonata</td>\n",
       "      <td>like new</td>\n",
       "      <td>4.0</td>\n",
       "      <td>gas</td>\n",
       "      <td>110000.0</td>\n",
       "      <td>automatic</td>\n",
       "      <td>sedan</td>\n",
       "      <td>red</td>\n",
       "      <td>0.0</td>\n",
       "      <td>2019-02-07</td>\n",
       "      <td>79</td>\n",
       "      <td>3</td>\n",
       "      <td>2</td>\n",
       "      <td>2019</td>\n",
       "    </tr>\n",
       "    <tr>\n",
       "      <th>3</th>\n",
       "      <td>1500</td>\n",
       "      <td>2003.0</td>\n",
       "      <td>ford f-150</td>\n",
       "      <td>fair</td>\n",
       "      <td>8.0</td>\n",
       "      <td>gas</td>\n",
       "      <td>193850.0</td>\n",
       "      <td>automatic</td>\n",
       "      <td>pickup</td>\n",
       "      <td>NaN</td>\n",
       "      <td>0.0</td>\n",
       "      <td>2019-03-22</td>\n",
       "      <td>9</td>\n",
       "      <td>4</td>\n",
       "      <td>3</td>\n",
       "      <td>2019</td>\n",
       "    </tr>\n",
       "    <tr>\n",
       "      <th>4</th>\n",
       "      <td>14900</td>\n",
       "      <td>2017.0</td>\n",
       "      <td>chrysler 200</td>\n",
       "      <td>excellent</td>\n",
       "      <td>4.0</td>\n",
       "      <td>gas</td>\n",
       "      <td>80903.0</td>\n",
       "      <td>automatic</td>\n",
       "      <td>sedan</td>\n",
       "      <td>black</td>\n",
       "      <td>0.0</td>\n",
       "      <td>2019-04-02</td>\n",
       "      <td>28</td>\n",
       "      <td>1</td>\n",
       "      <td>4</td>\n",
       "      <td>2019</td>\n",
       "    </tr>\n",
       "  </tbody>\n",
       "</table>\n",
       "</div>"
      ],
      "text/plain": [
       "   price  model_year           model  condition  cylinders fuel  odometer  \\\n",
       "0   9400      2011.0          bmw x5       good        6.0  gas  145000.0   \n",
       "1  25500      2008.0      ford f-150       good        6.0  gas   88705.0   \n",
       "2   5500      2013.0  hyundai sonata   like new        4.0  gas  110000.0   \n",
       "3   1500      2003.0      ford f-150       fair        8.0  gas  193850.0   \n",
       "4  14900      2017.0    chrysler 200  excellent        4.0  gas   80903.0   \n",
       "\n",
       "  transmission    type paint_color  is_4wd date_posted  days_listed  day  \\\n",
       "0    automatic     SUV         NaN     1.0  2018-06-23           19    5   \n",
       "1    automatic  pickup       white     1.0  2018-10-19           50    4   \n",
       "2    automatic   sedan         red     0.0  2019-02-07           79    3   \n",
       "3    automatic  pickup         NaN     0.0  2019-03-22            9    4   \n",
       "4    automatic   sedan       black     0.0  2019-04-02           28    1   \n",
       "\n",
       "   month  year  \n",
       "0      6  2018  \n",
       "1     10  2018  \n",
       "2      2  2019  \n",
       "3      3  2019  \n",
       "4      4  2019  "
      ]
     },
     "execution_count": 30,
     "metadata": {},
     "output_type": "execute_result"
    }
   ],
   "source": [
    "data.head()"
   ]
  },
  {
   "cell_type": "code",
   "execution_count": 31,
   "metadata": {},
   "outputs": [],
   "source": [
    "# Add the vehicle's age when the ad was placed\n",
    "data['vehicle_age']= data['year'] - data['model_year']\n"
   ]
  },
  {
   "cell_type": "code",
   "execution_count": 32,
   "metadata": {},
   "outputs": [
    {
     "data": {
      "text/html": [
       "<div>\n",
       "<style scoped>\n",
       "    .dataframe tbody tr th:only-of-type {\n",
       "        vertical-align: middle;\n",
       "    }\n",
       "\n",
       "    .dataframe tbody tr th {\n",
       "        vertical-align: top;\n",
       "    }\n",
       "\n",
       "    .dataframe thead th {\n",
       "        text-align: right;\n",
       "    }\n",
       "</style>\n",
       "<table border=\"1\" class=\"dataframe\">\n",
       "  <thead>\n",
       "    <tr style=\"text-align: right;\">\n",
       "      <th></th>\n",
       "      <th>price</th>\n",
       "      <th>model_year</th>\n",
       "      <th>model</th>\n",
       "      <th>condition</th>\n",
       "      <th>cylinders</th>\n",
       "      <th>fuel</th>\n",
       "      <th>odometer</th>\n",
       "      <th>transmission</th>\n",
       "      <th>type</th>\n",
       "      <th>paint_color</th>\n",
       "      <th>is_4wd</th>\n",
       "      <th>date_posted</th>\n",
       "      <th>days_listed</th>\n",
       "      <th>day</th>\n",
       "      <th>month</th>\n",
       "      <th>year</th>\n",
       "      <th>vehicle_age</th>\n",
       "    </tr>\n",
       "  </thead>\n",
       "  <tbody>\n",
       "    <tr>\n",
       "      <th>0</th>\n",
       "      <td>9400</td>\n",
       "      <td>2011.0</td>\n",
       "      <td>bmw x5</td>\n",
       "      <td>good</td>\n",
       "      <td>6.0</td>\n",
       "      <td>gas</td>\n",
       "      <td>145000.0</td>\n",
       "      <td>automatic</td>\n",
       "      <td>SUV</td>\n",
       "      <td>NaN</td>\n",
       "      <td>1.0</td>\n",
       "      <td>2018-06-23</td>\n",
       "      <td>19</td>\n",
       "      <td>5</td>\n",
       "      <td>6</td>\n",
       "      <td>2018</td>\n",
       "      <td>7.0</td>\n",
       "    </tr>\n",
       "    <tr>\n",
       "      <th>1</th>\n",
       "      <td>25500</td>\n",
       "      <td>2008.0</td>\n",
       "      <td>ford f-150</td>\n",
       "      <td>good</td>\n",
       "      <td>6.0</td>\n",
       "      <td>gas</td>\n",
       "      <td>88705.0</td>\n",
       "      <td>automatic</td>\n",
       "      <td>pickup</td>\n",
       "      <td>white</td>\n",
       "      <td>1.0</td>\n",
       "      <td>2018-10-19</td>\n",
       "      <td>50</td>\n",
       "      <td>4</td>\n",
       "      <td>10</td>\n",
       "      <td>2018</td>\n",
       "      <td>10.0</td>\n",
       "    </tr>\n",
       "    <tr>\n",
       "      <th>2</th>\n",
       "      <td>5500</td>\n",
       "      <td>2013.0</td>\n",
       "      <td>hyundai sonata</td>\n",
       "      <td>like new</td>\n",
       "      <td>4.0</td>\n",
       "      <td>gas</td>\n",
       "      <td>110000.0</td>\n",
       "      <td>automatic</td>\n",
       "      <td>sedan</td>\n",
       "      <td>red</td>\n",
       "      <td>0.0</td>\n",
       "      <td>2019-02-07</td>\n",
       "      <td>79</td>\n",
       "      <td>3</td>\n",
       "      <td>2</td>\n",
       "      <td>2019</td>\n",
       "      <td>6.0</td>\n",
       "    </tr>\n",
       "    <tr>\n",
       "      <th>3</th>\n",
       "      <td>1500</td>\n",
       "      <td>2003.0</td>\n",
       "      <td>ford f-150</td>\n",
       "      <td>fair</td>\n",
       "      <td>8.0</td>\n",
       "      <td>gas</td>\n",
       "      <td>193850.0</td>\n",
       "      <td>automatic</td>\n",
       "      <td>pickup</td>\n",
       "      <td>NaN</td>\n",
       "      <td>0.0</td>\n",
       "      <td>2019-03-22</td>\n",
       "      <td>9</td>\n",
       "      <td>4</td>\n",
       "      <td>3</td>\n",
       "      <td>2019</td>\n",
       "      <td>16.0</td>\n",
       "    </tr>\n",
       "    <tr>\n",
       "      <th>4</th>\n",
       "      <td>14900</td>\n",
       "      <td>2017.0</td>\n",
       "      <td>chrysler 200</td>\n",
       "      <td>excellent</td>\n",
       "      <td>4.0</td>\n",
       "      <td>gas</td>\n",
       "      <td>80903.0</td>\n",
       "      <td>automatic</td>\n",
       "      <td>sedan</td>\n",
       "      <td>black</td>\n",
       "      <td>0.0</td>\n",
       "      <td>2019-04-02</td>\n",
       "      <td>28</td>\n",
       "      <td>1</td>\n",
       "      <td>4</td>\n",
       "      <td>2019</td>\n",
       "      <td>2.0</td>\n",
       "    </tr>\n",
       "  </tbody>\n",
       "</table>\n",
       "</div>"
      ],
      "text/plain": [
       "   price  model_year           model  condition  cylinders fuel  odometer  \\\n",
       "0   9400      2011.0          bmw x5       good        6.0  gas  145000.0   \n",
       "1  25500      2008.0      ford f-150       good        6.0  gas   88705.0   \n",
       "2   5500      2013.0  hyundai sonata   like new        4.0  gas  110000.0   \n",
       "3   1500      2003.0      ford f-150       fair        8.0  gas  193850.0   \n",
       "4  14900      2017.0    chrysler 200  excellent        4.0  gas   80903.0   \n",
       "\n",
       "  transmission    type paint_color  is_4wd date_posted  days_listed  day  \\\n",
       "0    automatic     SUV         NaN     1.0  2018-06-23           19    5   \n",
       "1    automatic  pickup       white     1.0  2018-10-19           50    4   \n",
       "2    automatic   sedan         red     0.0  2019-02-07           79    3   \n",
       "3    automatic  pickup         NaN     0.0  2019-03-22            9    4   \n",
       "4    automatic   sedan       black     0.0  2019-04-02           28    1   \n",
       "\n",
       "   month  year  vehicle_age  \n",
       "0      6  2018          7.0  \n",
       "1     10  2018         10.0  \n",
       "2      2  2019          6.0  \n",
       "3      3  2019         16.0  \n",
       "4      4  2019          2.0  "
      ]
     },
     "execution_count": 32,
     "metadata": {},
     "output_type": "execute_result"
    }
   ],
   "source": [
    "data.head()"
   ]
  },
  {
   "cell_type": "code",
   "execution_count": 33,
   "metadata": {},
   "outputs": [],
   "source": [
    "# Add the vehicle's average mileage per year\n",
    "data['avg_mile']= data['odometer']/ data['vehicle_age']\n"
   ]
  },
  {
   "cell_type": "code",
   "execution_count": 34,
   "metadata": {},
   "outputs": [
    {
     "data": {
      "text/html": [
       "<div>\n",
       "<style scoped>\n",
       "    .dataframe tbody tr th:only-of-type {\n",
       "        vertical-align: middle;\n",
       "    }\n",
       "\n",
       "    .dataframe tbody tr th {\n",
       "        vertical-align: top;\n",
       "    }\n",
       "\n",
       "    .dataframe thead th {\n",
       "        text-align: right;\n",
       "    }\n",
       "</style>\n",
       "<table border=\"1\" class=\"dataframe\">\n",
       "  <thead>\n",
       "    <tr style=\"text-align: right;\">\n",
       "      <th></th>\n",
       "      <th>price</th>\n",
       "      <th>model_year</th>\n",
       "      <th>model</th>\n",
       "      <th>condition</th>\n",
       "      <th>cylinders</th>\n",
       "      <th>fuel</th>\n",
       "      <th>odometer</th>\n",
       "      <th>transmission</th>\n",
       "      <th>type</th>\n",
       "      <th>paint_color</th>\n",
       "      <th>is_4wd</th>\n",
       "      <th>date_posted</th>\n",
       "      <th>days_listed</th>\n",
       "      <th>day</th>\n",
       "      <th>month</th>\n",
       "      <th>year</th>\n",
       "      <th>vehicle_age</th>\n",
       "      <th>avg_mile</th>\n",
       "    </tr>\n",
       "  </thead>\n",
       "  <tbody>\n",
       "    <tr>\n",
       "      <th>0</th>\n",
       "      <td>9400</td>\n",
       "      <td>2011.0</td>\n",
       "      <td>bmw x5</td>\n",
       "      <td>good</td>\n",
       "      <td>6.0</td>\n",
       "      <td>gas</td>\n",
       "      <td>145000.0</td>\n",
       "      <td>automatic</td>\n",
       "      <td>SUV</td>\n",
       "      <td>NaN</td>\n",
       "      <td>1.0</td>\n",
       "      <td>2018-06-23</td>\n",
       "      <td>19</td>\n",
       "      <td>5</td>\n",
       "      <td>6</td>\n",
       "      <td>2018</td>\n",
       "      <td>7.0</td>\n",
       "      <td>20714.285714</td>\n",
       "    </tr>\n",
       "    <tr>\n",
       "      <th>1</th>\n",
       "      <td>25500</td>\n",
       "      <td>2008.0</td>\n",
       "      <td>ford f-150</td>\n",
       "      <td>good</td>\n",
       "      <td>6.0</td>\n",
       "      <td>gas</td>\n",
       "      <td>88705.0</td>\n",
       "      <td>automatic</td>\n",
       "      <td>pickup</td>\n",
       "      <td>white</td>\n",
       "      <td>1.0</td>\n",
       "      <td>2018-10-19</td>\n",
       "      <td>50</td>\n",
       "      <td>4</td>\n",
       "      <td>10</td>\n",
       "      <td>2018</td>\n",
       "      <td>10.0</td>\n",
       "      <td>8870.500000</td>\n",
       "    </tr>\n",
       "    <tr>\n",
       "      <th>2</th>\n",
       "      <td>5500</td>\n",
       "      <td>2013.0</td>\n",
       "      <td>hyundai sonata</td>\n",
       "      <td>like new</td>\n",
       "      <td>4.0</td>\n",
       "      <td>gas</td>\n",
       "      <td>110000.0</td>\n",
       "      <td>automatic</td>\n",
       "      <td>sedan</td>\n",
       "      <td>red</td>\n",
       "      <td>0.0</td>\n",
       "      <td>2019-02-07</td>\n",
       "      <td>79</td>\n",
       "      <td>3</td>\n",
       "      <td>2</td>\n",
       "      <td>2019</td>\n",
       "      <td>6.0</td>\n",
       "      <td>18333.333333</td>\n",
       "    </tr>\n",
       "    <tr>\n",
       "      <th>3</th>\n",
       "      <td>1500</td>\n",
       "      <td>2003.0</td>\n",
       "      <td>ford f-150</td>\n",
       "      <td>fair</td>\n",
       "      <td>8.0</td>\n",
       "      <td>gas</td>\n",
       "      <td>193850.0</td>\n",
       "      <td>automatic</td>\n",
       "      <td>pickup</td>\n",
       "      <td>NaN</td>\n",
       "      <td>0.0</td>\n",
       "      <td>2019-03-22</td>\n",
       "      <td>9</td>\n",
       "      <td>4</td>\n",
       "      <td>3</td>\n",
       "      <td>2019</td>\n",
       "      <td>16.0</td>\n",
       "      <td>12115.625000</td>\n",
       "    </tr>\n",
       "    <tr>\n",
       "      <th>4</th>\n",
       "      <td>14900</td>\n",
       "      <td>2017.0</td>\n",
       "      <td>chrysler 200</td>\n",
       "      <td>excellent</td>\n",
       "      <td>4.0</td>\n",
       "      <td>gas</td>\n",
       "      <td>80903.0</td>\n",
       "      <td>automatic</td>\n",
       "      <td>sedan</td>\n",
       "      <td>black</td>\n",
       "      <td>0.0</td>\n",
       "      <td>2019-04-02</td>\n",
       "      <td>28</td>\n",
       "      <td>1</td>\n",
       "      <td>4</td>\n",
       "      <td>2019</td>\n",
       "      <td>2.0</td>\n",
       "      <td>40451.500000</td>\n",
       "    </tr>\n",
       "  </tbody>\n",
       "</table>\n",
       "</div>"
      ],
      "text/plain": [
       "   price  model_year           model  condition  cylinders fuel  odometer  \\\n",
       "0   9400      2011.0          bmw x5       good        6.0  gas  145000.0   \n",
       "1  25500      2008.0      ford f-150       good        6.0  gas   88705.0   \n",
       "2   5500      2013.0  hyundai sonata   like new        4.0  gas  110000.0   \n",
       "3   1500      2003.0      ford f-150       fair        8.0  gas  193850.0   \n",
       "4  14900      2017.0    chrysler 200  excellent        4.0  gas   80903.0   \n",
       "\n",
       "  transmission    type paint_color  is_4wd date_posted  days_listed  day  \\\n",
       "0    automatic     SUV         NaN     1.0  2018-06-23           19    5   \n",
       "1    automatic  pickup       white     1.0  2018-10-19           50    4   \n",
       "2    automatic   sedan         red     0.0  2019-02-07           79    3   \n",
       "3    automatic  pickup         NaN     0.0  2019-03-22            9    4   \n",
       "4    automatic   sedan       black     0.0  2019-04-02           28    1   \n",
       "\n",
       "   month  year  vehicle_age      avg_mile  \n",
       "0      6  2018          7.0  20714.285714  \n",
       "1     10  2018         10.0   8870.500000  \n",
       "2      2  2019          6.0  18333.333333  \n",
       "3      3  2019         16.0  12115.625000  \n",
       "4      4  2019          2.0  40451.500000  "
      ]
     },
     "execution_count": 34,
     "metadata": {},
     "output_type": "execute_result"
    }
   ],
   "source": [
    "data.head()"
   ]
  },
  {
   "cell_type": "code",
   "execution_count": 35,
   "metadata": {},
   "outputs": [],
   "source": [
    "# Replacing the condition values with something that can be manipulated more easily\n",
    "\n",
    "def replace_condition(value):\n",
    "    if value == 'new':\n",
    "        return 5\n",
    "    if value == 'like new':\n",
    "        return 4\n",
    "    if value == 'excellent':\n",
    "        return 3\n",
    "    if value == 'good':\n",
    "        return 2\n",
    "    if value =='fair':\n",
    "        return 1\n",
    "    if value =='salvage':\n",
    "        return 0\n",
    "\n"
   ]
  },
  {
   "cell_type": "code",
   "execution_count": 36,
   "metadata": {},
   "outputs": [
    {
     "name": "stdout",
     "output_type": "stream",
     "text": [
      "   price  model_year           model  condition  cylinders fuel  odometer  \\\n",
      "0   9400      2011.0          bmw x5          2        6.0  gas  145000.0   \n",
      "1  25500      2008.0      ford f-150          2        6.0  gas   88705.0   \n",
      "2   5500      2013.0  hyundai sonata          4        4.0  gas  110000.0   \n",
      "3   1500      2003.0      ford f-150          1        8.0  gas  193850.0   \n",
      "4  14900      2017.0    chrysler 200          3        4.0  gas   80903.0   \n",
      "\n",
      "  transmission    type paint_color  is_4wd date_posted  days_listed  day  \\\n",
      "0    automatic     SUV         NaN     1.0  2018-06-23           19    5   \n",
      "1    automatic  pickup       white     1.0  2018-10-19           50    4   \n",
      "2    automatic   sedan         red     0.0  2019-02-07           79    3   \n",
      "3    automatic  pickup         NaN     0.0  2019-03-22            9    4   \n",
      "4    automatic   sedan       black     0.0  2019-04-02           28    1   \n",
      "\n",
      "   month  year  vehicle_age      avg_mile  \n",
      "0      6  2018          7.0  20714.285714  \n",
      "1     10  2018         10.0   8870.500000  \n",
      "2      2  2019          6.0  18333.333333  \n",
      "3      3  2019         16.0  12115.625000  \n",
      "4      4  2019          2.0  40451.500000  \n"
     ]
    }
   ],
   "source": [
    "data['condition']= data['condition'].apply(replace_condition)\n",
    "print(data.head())"
   ]
  },
  {
   "cell_type": "markdown",
   "metadata": {},
   "source": [
    "## Check clean data"
   ]
  },
  {
   "cell_type": "markdown",
   "metadata": {},
   "source": [
    "Now that I am satisifed with the current status of my data I will take a general look at it once more before studying the core parameters."
   ]
  },
  {
   "cell_type": "code",
   "execution_count": 37,
   "metadata": {},
   "outputs": [
    {
     "name": "stdout",
     "output_type": "stream",
     "text": [
      "<class 'pandas.core.frame.DataFrame'>\n",
      "RangeIndex: 51525 entries, 0 to 51524\n",
      "Data columns (total 18 columns):\n",
      " #   Column        Non-Null Count  Dtype         \n",
      "---  ------        --------------  -----         \n",
      " 0   price         51525 non-null  int64         \n",
      " 1   model_year    51519 non-null  float64       \n",
      " 2   model         51525 non-null  object        \n",
      " 3   condition     51525 non-null  int64         \n",
      " 4   cylinders     51495 non-null  float64       \n",
      " 5   fuel          51525 non-null  object        \n",
      " 6   odometer      50969 non-null  float64       \n",
      " 7   transmission  51525 non-null  object        \n",
      " 8   type          51525 non-null  object        \n",
      " 9   paint_color   42258 non-null  object        \n",
      " 10  is_4wd        51525 non-null  float64       \n",
      " 11  date_posted   51525 non-null  datetime64[ns]\n",
      " 12  days_listed   51525 non-null  int64         \n",
      " 13  day           51525 non-null  int64         \n",
      " 14  month         51525 non-null  int64         \n",
      " 15  year          51525 non-null  int64         \n",
      " 16  vehicle_age   51519 non-null  float64       \n",
      " 17  avg_mile      50962 non-null  float64       \n",
      "dtypes: datetime64[ns](1), float64(6), int64(6), object(5)\n",
      "memory usage: 7.1+ MB\n"
     ]
    }
   ],
   "source": [
    "# print the general/summary information about the DataFrame\n",
    "data.info()"
   ]
  },
  {
   "cell_type": "code",
   "execution_count": 38,
   "metadata": {},
   "outputs": [
    {
     "data": {
      "text/html": [
       "<div>\n",
       "<style scoped>\n",
       "    .dataframe tbody tr th:only-of-type {\n",
       "        vertical-align: middle;\n",
       "    }\n",
       "\n",
       "    .dataframe tbody tr th {\n",
       "        vertical-align: top;\n",
       "    }\n",
       "\n",
       "    .dataframe thead th {\n",
       "        text-align: right;\n",
       "    }\n",
       "</style>\n",
       "<table border=\"1\" class=\"dataframe\">\n",
       "  <thead>\n",
       "    <tr style=\"text-align: right;\">\n",
       "      <th></th>\n",
       "      <th>price</th>\n",
       "      <th>model_year</th>\n",
       "      <th>model</th>\n",
       "      <th>condition</th>\n",
       "      <th>cylinders</th>\n",
       "      <th>fuel</th>\n",
       "      <th>odometer</th>\n",
       "      <th>transmission</th>\n",
       "      <th>type</th>\n",
       "      <th>paint_color</th>\n",
       "      <th>is_4wd</th>\n",
       "      <th>date_posted</th>\n",
       "      <th>days_listed</th>\n",
       "      <th>day</th>\n",
       "      <th>month</th>\n",
       "      <th>year</th>\n",
       "      <th>vehicle_age</th>\n",
       "      <th>avg_mile</th>\n",
       "    </tr>\n",
       "  </thead>\n",
       "  <tbody>\n",
       "    <tr>\n",
       "      <th>0</th>\n",
       "      <td>9400</td>\n",
       "      <td>2011.0</td>\n",
       "      <td>bmw x5</td>\n",
       "      <td>2</td>\n",
       "      <td>6.0</td>\n",
       "      <td>gas</td>\n",
       "      <td>145000.0</td>\n",
       "      <td>automatic</td>\n",
       "      <td>SUV</td>\n",
       "      <td>NaN</td>\n",
       "      <td>1.0</td>\n",
       "      <td>2018-06-23</td>\n",
       "      <td>19</td>\n",
       "      <td>5</td>\n",
       "      <td>6</td>\n",
       "      <td>2018</td>\n",
       "      <td>7.0</td>\n",
       "      <td>20714.285714</td>\n",
       "    </tr>\n",
       "    <tr>\n",
       "      <th>1</th>\n",
       "      <td>25500</td>\n",
       "      <td>2008.0</td>\n",
       "      <td>ford f-150</td>\n",
       "      <td>2</td>\n",
       "      <td>6.0</td>\n",
       "      <td>gas</td>\n",
       "      <td>88705.0</td>\n",
       "      <td>automatic</td>\n",
       "      <td>pickup</td>\n",
       "      <td>white</td>\n",
       "      <td>1.0</td>\n",
       "      <td>2018-10-19</td>\n",
       "      <td>50</td>\n",
       "      <td>4</td>\n",
       "      <td>10</td>\n",
       "      <td>2018</td>\n",
       "      <td>10.0</td>\n",
       "      <td>8870.500000</td>\n",
       "    </tr>\n",
       "    <tr>\n",
       "      <th>2</th>\n",
       "      <td>5500</td>\n",
       "      <td>2013.0</td>\n",
       "      <td>hyundai sonata</td>\n",
       "      <td>4</td>\n",
       "      <td>4.0</td>\n",
       "      <td>gas</td>\n",
       "      <td>110000.0</td>\n",
       "      <td>automatic</td>\n",
       "      <td>sedan</td>\n",
       "      <td>red</td>\n",
       "      <td>0.0</td>\n",
       "      <td>2019-02-07</td>\n",
       "      <td>79</td>\n",
       "      <td>3</td>\n",
       "      <td>2</td>\n",
       "      <td>2019</td>\n",
       "      <td>6.0</td>\n",
       "      <td>18333.333333</td>\n",
       "    </tr>\n",
       "    <tr>\n",
       "      <th>3</th>\n",
       "      <td>1500</td>\n",
       "      <td>2003.0</td>\n",
       "      <td>ford f-150</td>\n",
       "      <td>1</td>\n",
       "      <td>8.0</td>\n",
       "      <td>gas</td>\n",
       "      <td>193850.0</td>\n",
       "      <td>automatic</td>\n",
       "      <td>pickup</td>\n",
       "      <td>NaN</td>\n",
       "      <td>0.0</td>\n",
       "      <td>2019-03-22</td>\n",
       "      <td>9</td>\n",
       "      <td>4</td>\n",
       "      <td>3</td>\n",
       "      <td>2019</td>\n",
       "      <td>16.0</td>\n",
       "      <td>12115.625000</td>\n",
       "    </tr>\n",
       "    <tr>\n",
       "      <th>4</th>\n",
       "      <td>14900</td>\n",
       "      <td>2017.0</td>\n",
       "      <td>chrysler 200</td>\n",
       "      <td>3</td>\n",
       "      <td>4.0</td>\n",
       "      <td>gas</td>\n",
       "      <td>80903.0</td>\n",
       "      <td>automatic</td>\n",
       "      <td>sedan</td>\n",
       "      <td>black</td>\n",
       "      <td>0.0</td>\n",
       "      <td>2019-04-02</td>\n",
       "      <td>28</td>\n",
       "      <td>1</td>\n",
       "      <td>4</td>\n",
       "      <td>2019</td>\n",
       "      <td>2.0</td>\n",
       "      <td>40451.500000</td>\n",
       "    </tr>\n",
       "  </tbody>\n",
       "</table>\n",
       "</div>"
      ],
      "text/plain": [
       "   price  model_year           model  condition  cylinders fuel  odometer  \\\n",
       "0   9400      2011.0          bmw x5          2        6.0  gas  145000.0   \n",
       "1  25500      2008.0      ford f-150          2        6.0  gas   88705.0   \n",
       "2   5500      2013.0  hyundai sonata          4        4.0  gas  110000.0   \n",
       "3   1500      2003.0      ford f-150          1        8.0  gas  193850.0   \n",
       "4  14900      2017.0    chrysler 200          3        4.0  gas   80903.0   \n",
       "\n",
       "  transmission    type paint_color  is_4wd date_posted  days_listed  day  \\\n",
       "0    automatic     SUV         NaN     1.0  2018-06-23           19    5   \n",
       "1    automatic  pickup       white     1.0  2018-10-19           50    4   \n",
       "2    automatic   sedan         red     0.0  2019-02-07           79    3   \n",
       "3    automatic  pickup         NaN     0.0  2019-03-22            9    4   \n",
       "4    automatic   sedan       black     0.0  2019-04-02           28    1   \n",
       "\n",
       "   month  year  vehicle_age      avg_mile  \n",
       "0      6  2018          7.0  20714.285714  \n",
       "1     10  2018         10.0   8870.500000  \n",
       "2      2  2019          6.0  18333.333333  \n",
       "3      3  2019         16.0  12115.625000  \n",
       "4      4  2019          2.0  40451.500000  "
      ]
     },
     "execution_count": 38,
     "metadata": {},
     "output_type": "execute_result"
    }
   ],
   "source": [
    "# print a sample of data\n",
    "\n",
    "data.head()"
   ]
  },
  {
   "cell_type": "markdown",
   "metadata": {},
   "source": [
    "## Study core parameters\n",
    "\n",
    "I will create histograms and, if needed, boxplots of each of the parameters to check for any outliers or skewness.\n",
    "\n",
    "The parameters are\n",
    "- Price\n",
    "- The vehicle's age when the ad was placed\n",
    "- Mileage\n",
    "- Number of cylinders\n",
    "- Condition"
   ]
  },
  {
   "cell_type": "code",
   "execution_count": 83,
   "metadata": {
    "scrolled": true
   },
   "outputs": [
    {
     "data": {
      "image/png": "[encoded data removed]",
      "text/plain": [
       "<Figure size 432x288 with 1 Axes>"
      ]
     },
     "metadata": {
      "needs_background": "light"
     },
     "output_type": "display_data"
    }
   ],
   "source": [
    "\n",
    "data['price'].plot(kind='hist', bins=100, title='Price Frequency', grid=True)\n",
    "plt.xlabel('price')\n",
    "plt.show()\n"
   ]
  },
  {
   "cell_type": "code",
   "execution_count": 84,
   "metadata": {
    "scrolled": true
   },
   "outputs": [
    {
     "data": {
      "image/png": "[encoded data removed]",
      "text/plain": [
       "<Figure size 432x288 with 1 Axes>"
      ]
     },
     "metadata": {
      "needs_background": "light"
     },
     "output_type": "display_data"
    }
   ],
   "source": [
    "data.boxplot('price')\n",
    "plt.title('Price Boxplot')\n",
    "plt.show()"
   ]
  },
  {
   "cell_type": "markdown",
   "metadata": {},
   "source": [
    "The price column has outliers, that are readily seen in the boxplot. These outliers are making the histogram skewed and harder to read. It may become necessary to remove these outliers."
   ]
  },
  {
   "cell_type": "code",
   "execution_count": 41,
   "metadata": {
    "scrolled": true
   },
   "outputs": [
    {
     "data": {
      "image/png": "[encoded data removed]",
      "text/plain": [
       "<Figure size 432x288 with 1 Axes>"
      ]
     },
     "metadata": {
      "needs_background": "light"
     },
     "output_type": "display_data"
    }
   ],
   "source": [
    "data['vehicle_age'].plot(kind='hist', bins=10, title='Vehicle Age Frequency')\n",
    "plt.xlabel('vehicle_age')\n",
    "plt.show()"
   ]
  },
  {
   "cell_type": "code",
   "execution_count": 85,
   "metadata": {
    "scrolled": true
   },
   "outputs": [
    {
     "data": {
      "image/png": "[encoded data removed]",
      "text/plain": [
       "<Figure size 432x288 with 1 Axes>"
      ]
     },
     "metadata": {
      "needs_background": "light"
     },
     "output_type": "display_data"
    }
   ],
   "source": [
    "data.boxplot('vehicle_age')\n",
    "plt.title('Vehicle Age Boxplot')\n",
    "plt.show()"
   ]
  },
  {
   "cell_type": "markdown",
   "metadata": {},
   "source": [
    "Similar to the price historgram, the vehicle age histogram is hard to read due to many outliers above vehicle age upper whisker (as seen in box plot)."
   ]
  },
  {
   "cell_type": "code",
   "execution_count": 43,
   "metadata": {
    "scrolled": false
   },
   "outputs": [
    {
     "data": {
      "image/png": "[encoded data removed]",
      "text/plain": [
       "<Figure size 432x288 with 1 Axes>"
      ]
     },
     "metadata": {
      "needs_background": "light"
     },
     "output_type": "display_data"
    }
   ],
   "source": [
    "data['odometer'].plot(kind='hist', bins=10, title='Odometer Frequency')\n",
    "plt.xlabel('odometer')\n",
    "plt.show()"
   ]
  },
  {
   "cell_type": "code",
   "execution_count": 86,
   "metadata": {},
   "outputs": [
    {
     "data": {
      "image/png": "[encoded data removed]",
      "text/plain": [
       "<Figure size 432x288 with 1 Axes>"
      ]
     },
     "metadata": {
      "needs_background": "light"
     },
     "output_type": "display_data"
    }
   ],
   "source": [
    "data.boxplot('odometer')\n",
    "plt.title('Odometer Boxplot')\n",
    "plt.show()"
   ]
  },
  {
   "cell_type": "markdown",
   "metadata": {},
   "source": [
    "The odometer hitogram also has many outliers that are affecting the readability of its histogram."
   ]
  },
  {
   "cell_type": "code",
   "execution_count": 45,
   "metadata": {
    "scrolled": true
   },
   "outputs": [],
   "source": [
    "condition_bar_data = data['condition'].value_counts()\n"
   ]
  },
  {
   "cell_type": "code",
   "execution_count": 46,
   "metadata": {},
   "outputs": [
    {
     "data": {
      "image/png": "[encoded data removed]",
      "text/plain": [
       "<Figure size 432x288 with 1 Axes>"
      ]
     },
     "metadata": {
      "needs_background": "light"
     },
     "output_type": "display_data"
    }
   ],
   "source": [
    "condition_bar_data.plot(kind='bar', title= 'Car Condition')\n",
    "plt.xlabel('Car Condition')\n",
    "plt.show()"
   ]
  },
  {
   "cell_type": "markdown",
   "metadata": {},
   "source": [
    "The majority of the cars have a 3 or 'good' condition, followed by a 2 or 'fair' condition."
   ]
  },
  {
   "cell_type": "code",
   "execution_count": 47,
   "metadata": {},
   "outputs": [],
   "source": [
    "cylin_bar_data = data['cylinders'].value_counts()"
   ]
  },
  {
   "cell_type": "code",
   "execution_count": 48,
   "metadata": {
    "scrolled": false
   },
   "outputs": [
    {
     "data": {
      "image/png": "[encoded data removed]",
      "text/plain": [
       "<Figure size 432x288 with 1 Axes>"
      ]
     },
     "metadata": {
      "needs_background": "light"
     },
     "output_type": "display_data"
    }
   ],
   "source": [
    "\n",
    "\n",
    "cylin_bar_data.plot(kind='bar', title='Number of Cylinders')\n",
    "plt.xlabel('Cylinders')\n",
    "plt.show()"
   ]
  },
  {
   "cell_type": "markdown",
   "metadata": {},
   "source": [
    "Looks like the majority of the cars have 8 or 6 cylinders with a small minority having less than 4 or more than 8."
   ]
  },
  {
   "cell_type": "markdown",
   "metadata": {},
   "source": [
    "Final thoughts: The condition and cylinder histograms are easy to read but the mileage, vehicle age, and price will need to be adjusted due to outliers.\n",
    "\n"
   ]
  },
  {
   "cell_type": "markdown",
   "metadata": {},
   "source": [
    "## Study and treat outliers\n",
    "\n",
    "I will consider values that follow below or above the theoretical upper and lower whiskers of a box plot as outliers. \n",
    "I will then create a dataset that does not contain these outliers."
   ]
  },
  {
   "cell_type": "markdown",
   "metadata": {},
   "source": [
    "I will write a loop that will go through the price, odometer, and vehicle age columns and determine there Q1 and Q3 values."
   ]
  },
  {
   "cell_type": "code",
   "execution_count": 49,
   "metadata": {
    "scrolled": true
   },
   "outputs": [
    {
     "name": "stdout",
     "output_type": "stream",
     "text": [
      "The lower limit is:\n",
      " price         -12758.5\n",
      "odometer      -47492.5\n",
      "vehicle_age       -8.0\n",
      "dtype: float64 \n",
      "\n",
      "The upper limit is:\n",
      " price           34597.5\n",
      "odometer       273295.5\n",
      "vehicle_age        24.0\n",
      "dtype: float64\n"
     ]
    }
   ],
   "source": [
    "columns = ['price', 'odometer', 'vehicle_age']\n",
    "for variable in columns:\n",
    "    Q1 = data[columns].quantile(0.25)\n",
    "    Q3 = data[columns].quantile(0.75)\n",
    "    IQR= Q3- Q1\n",
    "    lower_limit = Q1 - 1.5*IQR\n",
    "    upper_limit = Q3 + 1.5* IQR\n",
    "print ('The lower limit is:\\n',lower_limit,\n",
    "       '\\n\\nThe upper limit is:\\n',upper_limit)\n",
    "       \n",
    "\n"
   ]
  },
  {
   "cell_type": "code",
   "execution_count": 50,
   "metadata": {},
   "outputs": [
    {
     "name": "stdout",
     "output_type": "stream",
     "text": [
      "The lower limit is:\n",
      " price         -12758.5\n",
      "odometer      -47492.5\n",
      "vehicle_age       -8.0\n",
      "dtype: float64 \n",
      "\n",
      "The upper limit is:\n",
      " price           34597.5\n",
      "odometer       273295.5\n",
      "vehicle_age        24.0\n",
      "dtype: float64\n"
     ]
    }
   ],
   "source": [
    "# Reviewer's code\n",
    "\n",
    "columns = ['price', 'odometer', 'vehicle_age']\n",
    "for variable in columns:\n",
    "    Q1 = data[columns].quantile(0.25)\n",
    "    Q3 = data[columns].quantile(0.75)\n",
    "    IQR= Q3- Q1\n",
    "    lower_limit = Q1 - 1.5*IQR\n",
    "    upper_limit = Q3 + 1.5* IQR\n",
    "print(\n",
    "    'The lower limit is:\\n',lower_limit,\n",
    "    '\\n\\nThe upper limit is:\\n',upper_limit\n",
    ")"
   ]
  },
  {
   "cell_type": "markdown",
   "metadata": {},
   "source": [
    "The theoreotical lower limits aren't actually realistic as the lowest an odometer, vehicle age, or price can go is 0, but seeing how all of our outliers can be determined by our upper limits, this is fine. "
   ]
  },
  {
   "cell_type": "code",
   "execution_count": 51,
   "metadata": {},
   "outputs": [],
   "source": [
    "# Store data without outliers in a separate DataFrame\n",
    "filtered_data = data.query('price <= 34597.5 and odometer <= 273295.5 and vehicle_age <= 24 and vehicle_age >0')\n"
   ]
  },
  {
   "cell_type": "markdown",
   "metadata": {},
   "source": [
    "## Study core parameters without outliers"
   ]
  },
  {
   "cell_type": "markdown",
   "metadata": {},
   "source": [
    "Below are histograms of the now filtered data's price, odometer, and vehicle age columns as compared with the older data set's histograms."
   ]
  },
  {
   "cell_type": "code",
   "execution_count": 52,
   "metadata": {
    "scrolled": true
   },
   "outputs": [
    {
     "data": {
      "text/plain": [
       "<AxesSubplot:>"
      ]
     },
     "execution_count": 52,
     "metadata": {},
     "output_type": "execute_result"
    },
    {
     "data": {
      "image/png": "[encoded data removed]",
      "text/plain": [
       "<Figure size 432x288 with 1 Axes>"
      ]
     },
     "metadata": {
      "needs_background": "light"
     },
     "output_type": "display_data"
    }
   ],
   "source": [
    "filtered_data.boxplot('price')"
   ]
  },
  {
   "cell_type": "markdown",
   "metadata": {},
   "source": [
    "As there are still quite a few numbers of outliers shown in the boxplot, I will tweak my query code line."
   ]
  },
  {
   "cell_type": "code",
   "execution_count": 53,
   "metadata": {},
   "outputs": [],
   "source": [
    "filtered_data = data.query('price <= 30000 and odometer <= 273295.5 and vehicle_age <= 24 and vehicle_age >0')\n"
   ]
  },
  {
   "cell_type": "code",
   "execution_count": 54,
   "metadata": {},
   "outputs": [
    {
     "data": {
      "text/plain": [
       "<AxesSubplot:>"
      ]
     },
     "execution_count": 54,
     "metadata": {},
     "output_type": "execute_result"
    },
    {
     "data": {
      "image/png": "[encoded data removed]",
      "text/plain": [
       "<Figure size 432x288 with 1 Axes>"
      ]
     },
     "metadata": {
      "needs_background": "light"
     },
     "output_type": "display_data"
    }
   ],
   "source": [
    "filtered_data.boxplot('price')"
   ]
  },
  {
   "cell_type": "code",
   "execution_count": 55,
   "metadata": {
    "scrolled": false
   },
   "outputs": [
    {
     "name": "stdout",
     "output_type": "stream",
     "text": [
      "AxesSubplot(0.125,0.125;0.775x0.755)\n"
     ]
    },
    {
     "data": {
      "image/png": "[encoded data removed]",
      "text/plain": [
       "<Figure size 432x288 with 1 Axes>"
      ]
     },
     "metadata": {
      "needs_background": "light"
     },
     "output_type": "display_data"
    }
   ],
   "source": [
    "print(filtered_data['price'].hist(bins=25))\n"
   ]
  },
  {
   "cell_type": "code",
   "execution_count": 56,
   "metadata": {},
   "outputs": [
    {
     "name": "stdout",
     "output_type": "stream",
     "text": [
      "AxesSubplot(0.125,0.125;0.775x0.755)\n"
     ]
    },
    {
     "data": {
      "image/png": "[encoded data removed]",
      "text/plain": [
       "<Figure size 432x288 with 1 Axes>"
      ]
     },
     "metadata": {
      "needs_background": "light"
     },
     "output_type": "display_data"
    }
   ],
   "source": [
    "print(data['price'].hist())"
   ]
  },
  {
   "cell_type": "code",
   "execution_count": 57,
   "metadata": {
    "scrolled": true
   },
   "outputs": [
    {
     "data": {
      "text/plain": [
       "<AxesSubplot:>"
      ]
     },
     "execution_count": 57,
     "metadata": {},
     "output_type": "execute_result"
    },
    {
     "data": {
      "image/png": "[encoded data removed]",
      "text/plain": [
       "<Figure size 432x288 with 1 Axes>"
      ]
     },
     "metadata": {
      "needs_background": "light"
     },
     "output_type": "display_data"
    }
   ],
   "source": [
    "filtered_data['odometer'].hist(bins=20)"
   ]
  },
  {
   "cell_type": "code",
   "execution_count": 58,
   "metadata": {},
   "outputs": [
    {
     "data": {
      "text/plain": [
       "<AxesSubplot:>"
      ]
     },
     "execution_count": 58,
     "metadata": {},
     "output_type": "execute_result"
    },
    {
     "data": {
      "image/png": "[encoded data removed]",
      "text/plain": [
       "<Figure size 432x288 with 1 Axes>"
      ]
     },
     "metadata": {
      "needs_background": "light"
     },
     "output_type": "display_data"
    }
   ],
   "source": [
    "data['odometer'].hist()"
   ]
  },
  {
   "cell_type": "code",
   "execution_count": 59,
   "metadata": {
    "scrolled": true
   },
   "outputs": [
    {
     "data": {
      "text/plain": [
       "<AxesSubplot:>"
      ]
     },
     "execution_count": 59,
     "metadata": {},
     "output_type": "execute_result"
    },
    {
     "data": {
      "image/png": "[encoded data removed]",
      "text/plain": [
       "<Figure size 432x288 with 1 Axes>"
      ]
     },
     "metadata": {
      "needs_background": "light"
     },
     "output_type": "display_data"
    }
   ],
   "source": [
    "filtered_data['vehicle_age'].hist()"
   ]
  },
  {
   "cell_type": "code",
   "execution_count": 60,
   "metadata": {
    "scrolled": true
   },
   "outputs": [
    {
     "data": {
      "text/plain": [
       "<AxesSubplot:>"
      ]
     },
     "execution_count": 60,
     "metadata": {},
     "output_type": "execute_result"
    },
    {
     "data": {
      "image/png": "[encoded data removed]",
      "text/plain": [
       "<Figure size 432x288 with 1 Axes>"
      ]
     },
     "metadata": {
      "needs_background": "light"
     },
     "output_type": "display_data"
    }
   ],
   "source": [
    "data['vehicle_age'].hist()"
   ]
  },
  {
   "cell_type": "markdown",
   "metadata": {},
   "source": [
    "As seen above the new histograms of price,vehicle age, and mileage that have the outliers filtered give much more information. I can now see that most prices are around 5000 dollars, that odometer values peak 100,000 miles and most vehicles are between three and five years old."
   ]
  },
  {
   "cell_type": "markdown",
   "metadata": {},
   "source": [
    "## Ads lifetime\n",
    "\n",
    "Now I am interested in the general lifetime of a car ad. I will analyze the days listed column to determine the mean and median number of days of a car add and when a car ad was removed quickly or remained listed for a longer time than that would be deemed normal. \n"
   ]
  },
  {
   "cell_type": "code",
   "execution_count": 61,
   "metadata": {
    "scrolled": false
   },
   "outputs": [
    {
     "data": {
      "text/plain": [
       "count    45701.000000\n",
       "mean        39.536181\n",
       "std         28.191601\n",
       "min          0.000000\n",
       "25%         19.000000\n",
       "50%         33.000000\n",
       "75%         53.000000\n",
       "max        271.000000\n",
       "Name: days_listed, dtype: float64"
      ]
     },
     "execution_count": 61,
     "metadata": {},
     "output_type": "execute_result"
    }
   ],
   "source": [
    "filtered_data['days_listed'].describe()"
   ]
  },
  {
   "cell_type": "code",
   "execution_count": 62,
   "metadata": {
    "scrolled": true
   },
   "outputs": [
    {
     "data": {
      "text/plain": [
       "<AxesSubplot:>"
      ]
     },
     "execution_count": 62,
     "metadata": {},
     "output_type": "execute_result"
    },
    {
     "data": {
      "image/png": "[encoded data removed]",
      "text/plain": [
       "<Figure size 432x288 with 1 Axes>"
      ]
     },
     "metadata": {
      "needs_background": "light"
     },
     "output_type": "display_data"
    }
   ],
   "source": [
    "filtered_data['days_listed'].hist()"
   ]
  },
  {
   "cell_type": "code",
   "execution_count": 63,
   "metadata": {
    "scrolled": true
   },
   "outputs": [
    {
     "data": {
      "text/plain": [
       "<AxesSubplot:>"
      ]
     },
     "execution_count": 63,
     "metadata": {},
     "output_type": "execute_result"
    },
    {
     "data": {
      "image/png": "[encoded data removed]",
      "text/plain": [
       "<Figure size 432x288 with 1 Axes>"
      ]
     },
     "metadata": {
      "needs_background": "light"
     },
     "output_type": "display_data"
    }
   ],
   "source": [
    "filtered_data['days_listed'].hist(range=(0,180))"
   ]
  },
  {
   "cell_type": "code",
   "execution_count": 64,
   "metadata": {},
   "outputs": [
    {
     "data": {
      "text/plain": [
       "11148"
      ]
     },
     "execution_count": 64,
     "metadata": {},
     "output_type": "execute_result"
    }
   ],
   "source": [
    "len(filtered_data.query('days_listed < 19'))"
   ]
  },
  {
   "cell_type": "code",
   "execution_count": 65,
   "metadata": {},
   "outputs": [
    {
     "data": {
      "text/plain": [
       "48"
      ]
     },
     "execution_count": 65,
     "metadata": {},
     "output_type": "execute_result"
    }
   ],
   "source": [
    "len(filtered_data.query('days_listed < 1'))"
   ]
  },
  {
   "cell_type": "code",
   "execution_count": 66,
   "metadata": {},
   "outputs": [
    {
     "data": {
      "text/plain": [
       "597"
      ]
     },
     "execution_count": 66,
     "metadata": {},
     "output_type": "execute_result"
    }
   ],
   "source": [
    "len(filtered_data.query('days_listed > 125'))"
   ]
  },
  {
   "cell_type": "markdown",
   "metadata": {},
   "source": [
    "The mean number of days for a car ad is 35.53 days and the median is 33 days. 25% of the data falls below 19 days and there are 10,971 ads where the ads were listed for shorter than 19 days. There is also 46 ads that were listed for less than a day. \n",
    "25% of the filtered data is above 53 days and there are 586 ads which listed for longer than 125 days with the max being 271 days."
   ]
  },
  {
   "cell_type": "markdown",
   "metadata": {},
   "source": [
    "## Average price per each type of vehicle"
   ]
  },
  {
   "cell_type": "markdown",
   "metadata": {},
   "source": [
    "Next I will determine the number of ads and the average price for each type of vehicle. I will then plot a graph that shows the dependence of the number of ads on the vehicle type.\n",
    "\n"
   ]
  },
  {
   "cell_type": "code",
   "execution_count": 67,
   "metadata": {
    "scrolled": false
   },
   "outputs": [
    {
     "name": "stdout",
     "output_type": "stream",
     "text": [
      "sedan          11522\n",
      "SUV            11344\n",
      "truck          10406\n",
      "pickup          5676\n",
      "coupe           1914\n",
      "wagon           1468\n",
      "mini-van        1101\n",
      "hatchback        971\n",
      "van              551\n",
      "convertible      329\n",
      "other            219\n",
      "offroad          177\n",
      "bus               23\n",
      "Name: type, dtype: int64\n"
     ]
    }
   ],
   "source": [
    "# number of ads per vehicle type\n",
    "ad_number = filtered_data['type'].value_counts()\n",
    "print(ad_number)"
   ]
  },
  {
   "cell_type": "code",
   "execution_count": 68,
   "metadata": {
    "scrolled": false
   },
   "outputs": [
    {
     "data": {
      "text/html": [
       "<div>\n",
       "<style scoped>\n",
       "    .dataframe tbody tr th:only-of-type {\n",
       "        vertical-align: middle;\n",
       "    }\n",
       "\n",
       "    .dataframe tbody tr th {\n",
       "        vertical-align: top;\n",
       "    }\n",
       "\n",
       "    .dataframe thead th {\n",
       "        text-align: right;\n",
       "    }\n",
       "</style>\n",
       "<table border=\"1\" class=\"dataframe\">\n",
       "  <thead>\n",
       "    <tr style=\"text-align: right;\">\n",
       "      <th></th>\n",
       "      <th>price</th>\n",
       "    </tr>\n",
       "    <tr>\n",
       "      <th>type</th>\n",
       "      <th></th>\n",
       "    </tr>\n",
       "  </thead>\n",
       "  <tbody>\n",
       "    <tr>\n",
       "      <th>hatchback</th>\n",
       "      <td>6699.642636</td>\n",
       "    </tr>\n",
       "    <tr>\n",
       "      <th>sedan</th>\n",
       "      <td>6787.580976</td>\n",
       "    </tr>\n",
       "    <tr>\n",
       "      <th>mini-van</th>\n",
       "      <td>7716.135332</td>\n",
       "    </tr>\n",
       "    <tr>\n",
       "      <th>van</th>\n",
       "      <td>8185.989111</td>\n",
       "    </tr>\n",
       "    <tr>\n",
       "      <th>wagon</th>\n",
       "      <td>8828.619210</td>\n",
       "    </tr>\n",
       "    <tr>\n",
       "      <th>other</th>\n",
       "      <td>9802.292237</td>\n",
       "    </tr>\n",
       "    <tr>\n",
       "      <th>SUV</th>\n",
       "      <td>10049.981752</td>\n",
       "    </tr>\n",
       "    <tr>\n",
       "      <th>convertible</th>\n",
       "      <td>12439.607903</td>\n",
       "    </tr>\n",
       "    <tr>\n",
       "      <th>coupe</th>\n",
       "      <td>12910.271160</td>\n",
       "    </tr>\n",
       "    <tr>\n",
       "      <th>pickup</th>\n",
       "      <td>13696.464412</td>\n",
       "    </tr>\n",
       "    <tr>\n",
       "      <th>offroad</th>\n",
       "      <td>13846.175141</td>\n",
       "    </tr>\n",
       "    <tr>\n",
       "      <th>truck</th>\n",
       "      <td>14370.082452</td>\n",
       "    </tr>\n",
       "    <tr>\n",
       "      <th>bus</th>\n",
       "      <td>17445.913043</td>\n",
       "    </tr>\n",
       "  </tbody>\n",
       "</table>\n",
       "</div>"
      ],
      "text/plain": [
       "                    price\n",
       "type                     \n",
       "hatchback     6699.642636\n",
       "sedan         6787.580976\n",
       "mini-van      7716.135332\n",
       "van           8185.989111\n",
       "wagon         8828.619210\n",
       "other         9802.292237\n",
       "SUV          10049.981752\n",
       "convertible  12439.607903\n",
       "coupe        12910.271160\n",
       "pickup       13696.464412\n",
       "offroad      13846.175141\n",
       "truck        14370.082452\n",
       "bus          17445.913043"
      ]
     },
     "execution_count": 68,
     "metadata": {},
     "output_type": "execute_result"
    }
   ],
   "source": [
    "#average price for each type of vehicle\n",
    "filtered_data.pivot_table(index='type', values='price').sort_values(by='price')"
   ]
  },
  {
   "cell_type": "code",
   "execution_count": 69,
   "metadata": {
    "scrolled": true
   },
   "outputs": [
    {
     "data": {
      "text/plain": [
       "<AxesSubplot:>"
      ]
     },
     "execution_count": 69,
     "metadata": {},
     "output_type": "execute_result"
    },
    {
     "data": {
      "image/png": "[encoded data removed]",
      "text/plain": [
       "<Figure size 432x288 with 1 Axes>"
      ]
     },
     "metadata": {
      "needs_background": "light"
     },
     "output_type": "display_data"
    }
   ],
   "source": [
    "ad_number.plot(kind='bar', grid=True,)"
   ]
  },
  {
   "cell_type": "code",
   "execution_count": 70,
   "metadata": {},
   "outputs": [
    {
     "data": {
      "text/html": [
       "<div>\n",
       "<style scoped>\n",
       "    .dataframe tbody tr th:only-of-type {\n",
       "        vertical-align: middle;\n",
       "    }\n",
       "\n",
       "    .dataframe tbody tr th {\n",
       "        vertical-align: top;\n",
       "    }\n",
       "\n",
       "    .dataframe thead th {\n",
       "        text-align: right;\n",
       "    }\n",
       "</style>\n",
       "<table border=\"1\" class=\"dataframe\">\n",
       "  <thead>\n",
       "    <tr style=\"text-align: right;\">\n",
       "      <th></th>\n",
       "      <th>price</th>\n",
       "      <th>model_year</th>\n",
       "      <th>model</th>\n",
       "      <th>condition</th>\n",
       "      <th>cylinders</th>\n",
       "      <th>fuel</th>\n",
       "      <th>odometer</th>\n",
       "      <th>transmission</th>\n",
       "      <th>type</th>\n",
       "      <th>paint_color</th>\n",
       "      <th>is_4wd</th>\n",
       "      <th>date_posted</th>\n",
       "      <th>days_listed</th>\n",
       "      <th>day</th>\n",
       "      <th>month</th>\n",
       "      <th>year</th>\n",
       "      <th>vehicle_age</th>\n",
       "      <th>avg_mile</th>\n",
       "    </tr>\n",
       "  </thead>\n",
       "  <tbody>\n",
       "  </tbody>\n",
       "</table>\n",
       "</div>"
      ],
      "text/plain": [
       "Empty DataFrame\n",
       "Columns: [price, model_year, model, condition, cylinders, fuel, odometer, transmission, type, paint_color, is_4wd, date_posted, days_listed, day, month, year, vehicle_age, avg_mile]\n",
       "Index: []"
      ]
     },
     "execution_count": 70,
     "metadata": {},
     "output_type": "execute_result"
    }
   ],
   "source": [
    "filtered_data.query('avg_mile == inf')"
   ]
  },
  {
   "cell_type": "markdown",
   "metadata": {},
   "source": [
    "The two types of vehicles with the greatest number of ads is sedans and SUV's. We will focus on these types of vehicles."
   ]
  },
  {
   "cell_type": "markdown",
   "metadata": {},
   "source": [
    "## Price factors"
   ]
  },
  {
   "cell_type": "markdown",
   "metadata": {},
   "source": [
    "Focusing on SUV's and sedans, let's analyze whether there is a correlation between price and the following:\n",
    "- vehicle age\n",
    "- mileage\n",
    "- condition\n",
    "- transmission type\n",
    "- paint color\n",
    "\n",
    "We will be using a correlation matrix for our quantitative columns and box and whisker plots for our categorical columns."
   ]
  },
  {
   "cell_type": "code",
   "execution_count": 71,
   "metadata": {
    "scrolled": true
   },
   "outputs": [
    {
     "name": "stdout",
     "output_type": "stream",
     "text": [
      "       price  condition  odometer  vehicle_age\n",
      "2       5500          4  110000.0          6.0\n",
      "4      14900          3   80903.0          2.0\n",
      "5      14990          3   57954.0          4.0\n",
      "6      12990          3   79212.0          3.0\n",
      "11      8990          3  111142.0          7.0\n",
      "...      ...        ...       ...          ...\n",
      "51520   9249          4   88136.0          5.0\n",
      "51521   2700          0  181500.0         16.0\n",
      "51522   3950          3  128000.0          9.0\n",
      "51523   7455          2  139573.0          5.0\n",
      "51524   6300          2   93440.5          4.0\n",
      "\n",
      "[11522 rows x 4 columns]\n"
     ]
    }
   ],
   "source": [
    "sedan_tbl = filtered_data[filtered_data['type']=='sedan']\n",
    "sedan_tbl= sedan_tbl.iloc[:,[0,3,6,16]]\n",
    "print(sedan_tbl)\n"
   ]
  },
  {
   "cell_type": "code",
   "execution_count": 72,
   "metadata": {},
   "outputs": [
    {
     "data": {
      "text/html": [
       "<div>\n",
       "<style scoped>\n",
       "    .dataframe tbody tr th:only-of-type {\n",
       "        vertical-align: middle;\n",
       "    }\n",
       "\n",
       "    .dataframe tbody tr th {\n",
       "        vertical-align: top;\n",
       "    }\n",
       "\n",
       "    .dataframe thead th {\n",
       "        text-align: right;\n",
       "    }\n",
       "</style>\n",
       "<table border=\"1\" class=\"dataframe\">\n",
       "  <thead>\n",
       "    <tr style=\"text-align: right;\">\n",
       "      <th></th>\n",
       "      <th>price</th>\n",
       "      <th>condition</th>\n",
       "      <th>odometer</th>\n",
       "      <th>vehicle_age</th>\n",
       "    </tr>\n",
       "  </thead>\n",
       "  <tbody>\n",
       "    <tr>\n",
       "      <th>price</th>\n",
       "      <td>1.000000</td>\n",
       "      <td>0.283911</td>\n",
       "      <td>-0.570690</td>\n",
       "      <td>-0.635039</td>\n",
       "    </tr>\n",
       "    <tr>\n",
       "      <th>condition</th>\n",
       "      <td>0.283911</td>\n",
       "      <td>1.000000</td>\n",
       "      <td>-0.318398</td>\n",
       "      <td>-0.293043</td>\n",
       "    </tr>\n",
       "    <tr>\n",
       "      <th>odometer</th>\n",
       "      <td>-0.570690</td>\n",
       "      <td>-0.318398</td>\n",
       "      <td>1.000000</td>\n",
       "      <td>0.591150</td>\n",
       "    </tr>\n",
       "    <tr>\n",
       "      <th>vehicle_age</th>\n",
       "      <td>-0.635039</td>\n",
       "      <td>-0.293043</td>\n",
       "      <td>0.591150</td>\n",
       "      <td>1.000000</td>\n",
       "    </tr>\n",
       "  </tbody>\n",
       "</table>\n",
       "</div>"
      ],
      "text/plain": [
       "                price  condition  odometer  vehicle_age\n",
       "price        1.000000   0.283911 -0.570690    -0.635039\n",
       "condition    0.283911   1.000000 -0.318398    -0.293043\n",
       "odometer    -0.570690  -0.318398  1.000000     0.591150\n",
       "vehicle_age -0.635039  -0.293043  0.591150     1.000000"
      ]
     },
     "execution_count": 72,
     "metadata": {},
     "output_type": "execute_result"
    }
   ],
   "source": [
    "sedan_tbl.corr()"
   ]
  },
  {
   "cell_type": "code",
   "execution_count": 88,
   "metadata": {
    "scrolled": false
   },
   "outputs": [
    {
     "data": {
      "image/png": "[encoded data removed]",
      "text/plain": [
       "<Figure size 720x720 with 16 Axes>"
      ]
     },
     "metadata": {
      "needs_background": "light"
     },
     "output_type": "display_data"
    }
   ],
   "source": [
    "pd.plotting.scatter_matrix(sedan_tbl, alpha=(0.3),figsize=(10,10))\n",
    "plt.show()"
   ]
  },
  {
   "cell_type": "code",
   "execution_count": 74,
   "metadata": {
    "scrolled": false
   },
   "outputs": [
    {
     "name": "stdout",
     "output_type": "stream",
     "text": [
      "    price transmission paint_color\n",
      "2    5500    automatic         red\n",
      "4   14900    automatic       black\n",
      "5   14990    automatic       black\n",
      "6   12990    automatic       white\n",
      "11   8990    automatic        grey\n"
     ]
    }
   ],
   "source": [
    "sedan_tbl_cat = filtered_data[filtered_data['type']=='sedan']\n",
    "sedan_tbl_cat=sedan_tbl_cat.iloc[:,[0,7,9]]\n",
    "print(sedan_tbl_cat.head())\n"
   ]
  },
  {
   "cell_type": "code",
   "execution_count": 89,
   "metadata": {
    "scrolled": false
   },
   "outputs": [
    {
     "data": {
      "image/png": "[encoded data removed]",
      "text/plain": [
       "<Figure size 432x432 with 1 Axes>"
      ]
     },
     "metadata": {
      "needs_background": "light"
     },
     "output_type": "display_data"
    }
   ],
   "source": [
    "sedan_tbl_cat.boxplot(column='price', by='transmission',figsize=(6,6), grid=True)\n",
    "plt.show()"
   ]
  },
  {
   "cell_type": "code",
   "execution_count": 90,
   "metadata": {
    "scrolled": false
   },
   "outputs": [
    {
     "data": {
      "image/png": "[encoded data removed]",
      "text/plain": [
       "<Figure size 576x576 with 1 Axes>"
      ]
     },
     "metadata": {
      "needs_background": "light"
     },
     "output_type": "display_data"
    }
   ],
   "source": [
    "sedan_tbl_cat.boxplot(column='price', by='paint_color',figsize=(8,8), grid=True)\n",
    "plt.show()"
   ]
  },
  {
   "cell_type": "markdown",
   "metadata": {},
   "source": [
    "Sedan findings: The most correlation can be found with vehicle age and price with a negative correlation of about .648, it not an overwhelming correlation but it is not the highest, followed by a slight negative correlation between price and mileage at 0.571.\n",
    "\n",
    "Among the categorical variables: for transmission type, the highest median price and highest outliers lie with automatic transmission. For paint color greatest median price is the color orange, with the  greatest variance among white, yellow and black.\n",
    "\n",
    "Now we focus on SUV's."
   ]
  },
  {
   "cell_type": "code",
   "execution_count": 77,
   "metadata": {},
   "outputs": [
    {
     "name": "stdout",
     "output_type": "stream",
     "text": [
      "    price  condition  odometer  vehicle_age\n",
      "2    5500          4  110000.0          6.0\n",
      "4   14900          3   80903.0          2.0\n",
      "5   14990          3   57954.0          4.0\n",
      "6   12990          3   79212.0          3.0\n",
      "11   8990          3  111142.0          7.0\n"
     ]
    }
   ],
   "source": [
    "suv_tbl = filtered_data[filtered_data['type']=='SUV']\n",
    "suv_tbl= suv_tbl.iloc[:,[0,3,6,16]]\n",
    "print(sedan_tbl.head())"
   ]
  },
  {
   "cell_type": "code",
   "execution_count": 78,
   "metadata": {},
   "outputs": [
    {
     "data": {
      "text/html": [
       "<div>\n",
       "<style scoped>\n",
       "    .dataframe tbody tr th:only-of-type {\n",
       "        vertical-align: middle;\n",
       "    }\n",
       "\n",
       "    .dataframe tbody tr th {\n",
       "        vertical-align: top;\n",
       "    }\n",
       "\n",
       "    .dataframe thead th {\n",
       "        text-align: right;\n",
       "    }\n",
       "</style>\n",
       "<table border=\"1\" class=\"dataframe\">\n",
       "  <thead>\n",
       "    <tr style=\"text-align: right;\">\n",
       "      <th></th>\n",
       "      <th>price</th>\n",
       "      <th>condition</th>\n",
       "      <th>odometer</th>\n",
       "      <th>vehicle_age</th>\n",
       "    </tr>\n",
       "  </thead>\n",
       "  <tbody>\n",
       "    <tr>\n",
       "      <th>price</th>\n",
       "      <td>1.000000</td>\n",
       "      <td>0.266354</td>\n",
       "      <td>-0.540520</td>\n",
       "      <td>-0.606905</td>\n",
       "    </tr>\n",
       "    <tr>\n",
       "      <th>condition</th>\n",
       "      <td>0.266354</td>\n",
       "      <td>1.000000</td>\n",
       "      <td>-0.321251</td>\n",
       "      <td>-0.313908</td>\n",
       "    </tr>\n",
       "    <tr>\n",
       "      <th>odometer</th>\n",
       "      <td>-0.540520</td>\n",
       "      <td>-0.321251</td>\n",
       "      <td>1.000000</td>\n",
       "      <td>0.591059</td>\n",
       "    </tr>\n",
       "    <tr>\n",
       "      <th>vehicle_age</th>\n",
       "      <td>-0.606905</td>\n",
       "      <td>-0.313908</td>\n",
       "      <td>0.591059</td>\n",
       "      <td>1.000000</td>\n",
       "    </tr>\n",
       "  </tbody>\n",
       "</table>\n",
       "</div>"
      ],
      "text/plain": [
       "                price  condition  odometer  vehicle_age\n",
       "price        1.000000   0.266354 -0.540520    -0.606905\n",
       "condition    0.266354   1.000000 -0.321251    -0.313908\n",
       "odometer    -0.540520  -0.321251  1.000000     0.591059\n",
       "vehicle_age -0.606905  -0.313908  0.591059     1.000000"
      ]
     },
     "execution_count": 78,
     "metadata": {},
     "output_type": "execute_result"
    }
   ],
   "source": [
    "suv_tbl.corr()"
   ]
  },
  {
   "cell_type": "code",
   "execution_count": 91,
   "metadata": {
    "scrolled": false
   },
   "outputs": [
    {
     "data": {
      "image/png": "[encoded data removed]",
      "text/plain": [
       "<Figure size 720x720 with 16 Axes>"
      ]
     },
     "metadata": {
      "needs_background": "light"
     },
     "output_type": "display_data"
    }
   ],
   "source": [
    "pd.plotting.scatter_matrix(suv_tbl, alpha=(0.3),figsize=(10,10))\n",
    "plt.show()"
   ]
  },
  {
   "cell_type": "code",
   "execution_count": 80,
   "metadata": {
    "scrolled": true
   },
   "outputs": [
    {
     "name": "stdout",
     "output_type": "stream",
     "text": [
      "    price transmission paint_color\n",
      "0    9400    automatic         NaN\n",
      "7   15990    automatic       black\n",
      "8   11500    automatic         NaN\n",
      "9    9200    automatic        blue\n",
      "14  12990    automatic       black\n"
     ]
    }
   ],
   "source": [
    "suv_tbl_cat = filtered_data[filtered_data['type']=='SUV']\n",
    "suv_tbl_cat= suv_tbl_cat.iloc[:,[0,7,9]]\n",
    "print(suv_tbl_cat.head())"
   ]
  },
  {
   "cell_type": "code",
   "execution_count": 92,
   "metadata": {
    "scrolled": false
   },
   "outputs": [
    {
     "data": {
      "image/png": "[encoded data removed]",
      "text/plain": [
       "<Figure size 432x432 with 1 Axes>"
      ]
     },
     "metadata": {
      "needs_background": "light"
     },
     "output_type": "display_data"
    }
   ],
   "source": [
    "suv_tbl_cat.boxplot(column='price', by='transmission',figsize=(6,6), grid=True)\n",
    "plt.show()"
   ]
  },
  {
   "cell_type": "code",
   "execution_count": 93,
   "metadata": {
    "scrolled": false
   },
   "outputs": [
    {
     "data": {
      "image/png": "[encoded data removed]",
      "text/plain": [
       "<Figure size 576x576 with 1 Axes>"
      ]
     },
     "metadata": {
      "needs_background": "light"
     },
     "output_type": "display_data"
    }
   ],
   "source": [
    "suv_tbl_cat.boxplot(column='price', by='paint_color',figsize=(8,8), grid=True)\n",
    "plt.show()"
   ]
  },
  {
   "cell_type": "markdown",
   "metadata": {},
   "source": [
    "SUV's show a same correlation between the parameters and price as seen in sedans. \n",
    "The highest correlation is between price and vehicle age at about -0.624, followed by odometer/mileage at -0.545. Similarly to sedans, these are not very high correlations.\n",
    "\n",
    "Looking at the categorical variables, the median price for the color orange is highest with a median that is the same as it's Q3. \n",
    "One difference between SUV's and sedan's is that for SUV's the highest price is found in SUV's with manual transmission whereas with sedan's it was found with cars that have automatic transmissions."
   ]
  },
  {
   "cell_type": "markdown",
   "metadata": {},
   "source": [
    "## General conclusion\n"
   ]
  },
  {
   "cell_type": "markdown",
   "metadata": {},
   "source": [
    "The goal of this project was to figure out what affects the price listed on car ads. Our initial foray into the data resulting in the need to change data types and fill in missing values in the model year, odometer, and cylinder columns.. Then we added some columns to the data for more efficient data analysis (vehicle age when the ad was listed and the average number of miles vehicle age. After we cleaned the data we ran histograms and then removed outliers that were skewing the results and affecting the readability of the histogram. Once I was satisfied with the new data then I analyzed the core parameters: price, milege, vehicle age, transmission type, and paint color on the 2 vehicle types with the most ads, SUV's and sedans. \n",
    "\n",
    "When studying the correlation of these parameters with price, there wasn't an overwhelming obvious correlation wth a negative correlation. I found:\n",
    "\n",
    "\n",
    "For Sedans:\n",
    "\n",
    "- a negative correlation of -0.648 between price and vehicle age\n",
    "- a slight negative correlation of -0.571 between price and odometer.\n",
    "- the median price was higher for sedans with an automatic transmission and painted the color orange\n",
    "\n",
    "\n",
    "For SUV's:\n",
    "\n",
    "- a negative correlation of -0.624 between price and vehicle age\n",
    "- a slight negative correlation of -0.545 between price and odometer.\n",
    "- the median price was higher for SUV's with a manual transmission and painted the color orange."
   ]
  }
 ],
 "metadata": {
  "ExecuteTimeLog": [
   {
    "duration": 828,
    "start_time": "2021-11-16T09:21:11.304Z"
   },
   {
    "duration": 893,
    "start_time": "2021-11-16T09:21:17.728Z"
   },
   {
    "duration": 1150,
    "start_time": "2021-11-16T09:21:29.568Z"
   },
   {
    "duration": 3,
    "start_time": "2021-11-16T09:24:14.495Z"
   },
   {
    "duration": 120,
    "start_time": "2021-11-16T09:24:46.630Z"
   },
   {
    "duration": 3,
    "start_time": "2021-11-16T09:28:27.882Z"
   },
   {
    "duration": 4,
    "start_time": "2021-11-16T09:29:54.281Z"
   },
   {
    "duration": 3,
    "start_time": "2021-11-16T09:30:45.936Z"
   },
   {
    "duration": 4,
    "start_time": "2021-11-16T09:31:06.300Z"
   },
   {
    "duration": 113,
    "start_time": "2021-11-16T09:31:37.208Z"
   },
   {
    "duration": 143,
    "start_time": "2021-11-16T09:31:48.656Z"
   },
   {
    "duration": 98,
    "start_time": "2021-11-16T09:31:55.678Z"
   },
   {
    "duration": 3,
    "start_time": "2021-11-16T09:32:08.535Z"
   },
   {
    "duration": 111,
    "start_time": "2021-11-16T09:32:10.120Z"
   },
   {
    "duration": 3,
    "start_time": "2021-11-16T09:32:15.732Z"
   },
   {
    "duration": 4,
    "start_time": "2021-11-16T09:32:29.423Z"
   },
   {
    "duration": 3,
    "start_time": "2021-11-16T10:03:03.074Z"
   },
   {
    "duration": 3,
    "start_time": "2021-11-16T10:10:01.288Z"
   },
   {
    "duration": 3,
    "start_time": "2021-11-16T10:10:46.923Z"
   },
   {
    "duration": 121,
    "start_time": "2021-11-16T10:37:46.494Z"
   },
   {
    "duration": 125,
    "start_time": "2021-11-16T10:38:20.632Z"
   },
   {
    "duration": 112,
    "start_time": "2021-11-16T10:46:53.001Z"
   },
   {
    "duration": 110,
    "start_time": "2021-11-16T10:48:25.775Z"
   },
   {
    "duration": 3,
    "start_time": "2021-11-16T10:50:18.720Z"
   },
   {
    "duration": 4,
    "start_time": "2021-11-16T10:50:37.649Z"
   },
   {
    "duration": 2,
    "start_time": "2021-11-16T10:50:51.884Z"
   },
   {
    "duration": 3,
    "start_time": "2021-11-16T10:51:56.237Z"
   },
   {
    "duration": 101,
    "start_time": "2021-11-16T10:53:13.791Z"
   },
   {
    "duration": 3,
    "start_time": "2021-11-16T10:55:59.186Z"
   },
   {
    "duration": 3,
    "start_time": "2021-11-16T10:56:10.751Z"
   },
   {
    "duration": 3,
    "start_time": "2021-11-16T10:56:49.038Z"
   },
   {
    "duration": 3,
    "start_time": "2021-11-16T10:56:49.174Z"
   },
   {
    "duration": 4,
    "start_time": "2021-11-16T10:56:49.414Z"
   },
   {
    "duration": 3,
    "start_time": "2021-11-16T10:56:49.680Z"
   },
   {
    "duration": 3,
    "start_time": "2021-11-16T10:56:50.370Z"
   },
   {
    "duration": 114,
    "start_time": "2021-11-16T10:59:34.518Z"
   },
   {
    "duration": 3,
    "start_time": "2021-11-16T11:01:41.201Z"
   },
   {
    "duration": 116,
    "start_time": "2021-11-16T11:01:48.754Z"
   },
   {
    "duration": 3,
    "start_time": "2021-11-16T11:02:16.685Z"
   },
   {
    "duration": 3,
    "start_time": "2021-11-16T11:02:19.479Z"
   },
   {
    "duration": 3,
    "start_time": "2021-11-16T11:02:47.067Z"
   },
   {
    "duration": 3,
    "start_time": "2021-11-16T11:02:49.353Z"
   },
   {
    "duration": 3,
    "start_time": "2021-11-16T11:03:07.835Z"
   },
   {
    "duration": 3,
    "start_time": "2021-11-16T11:03:07.953Z"
   },
   {
    "duration": 112,
    "start_time": "2021-11-16T11:07:52.072Z"
   },
   {
    "duration": 187,
    "start_time": "2021-11-16T11:09:23.468Z"
   },
   {
    "duration": 4,
    "start_time": "2021-11-16T11:10:01.455Z"
   },
   {
    "duration": 3,
    "start_time": "2021-11-16T11:10:05.069Z"
   },
   {
    "duration": 4,
    "start_time": "2021-11-16T11:10:13.376Z"
   },
   {
    "duration": 3,
    "start_time": "2021-11-16T11:10:14.434Z"
   },
   {
    "duration": 3,
    "start_time": "2021-11-16T11:10:22.853Z"
   },
   {
    "duration": 4,
    "start_time": "2021-11-16T11:27:29.279Z"
   },
   {
    "duration": 4,
    "start_time": "2021-11-16T11:29:08.919Z"
   },
   {
    "duration": 118,
    "start_time": "2021-11-16T11:29:46.703Z"
   },
   {
    "duration": 437,
    "start_time": "2021-11-16T11:36:02.181Z"
   },
   {
    "duration": 157,
    "start_time": "2021-11-16T11:36:14.388Z"
   },
   {
    "duration": 207,
    "start_time": "2021-11-16T11:47:15.898Z"
   },
   {
    "duration": 3,
    "start_time": "2021-11-16T11:53:52.092Z"
   },
   {
    "duration": 3,
    "start_time": "2021-11-16T11:53:52.236Z"
   },
   {
    "duration": 3,
    "start_time": "2021-11-16T11:59:12.005Z"
   },
   {
    "duration": 112,
    "start_time": "2021-11-16T12:00:33.446Z"
   },
   {
    "duration": 3,
    "start_time": "2021-11-16T12:02:14.453Z"
   },
   {
    "duration": 3,
    "start_time": "2021-11-16T12:02:39.512Z"
   },
   {
    "duration": 106,
    "start_time": "2021-11-16T12:03:03.460Z"
   },
   {
    "duration": 757,
    "start_time": "2022-04-10T03:28:33.462Z"
   },
   {
    "duration": 77,
    "start_time": "2022-04-10T03:29:38.424Z"
   },
   {
    "duration": 21,
    "start_time": "2022-04-10T03:30:48.888Z"
   },
   {
    "duration": 17,
    "start_time": "2022-04-10T03:31:16.006Z"
   },
   {
    "duration": 9,
    "start_time": "2022-04-10T03:35:50.233Z"
   },
   {
    "duration": 10,
    "start_time": "2022-04-10T03:35:52.862Z"
   },
   {
    "duration": 8,
    "start_time": "2022-04-10T03:37:04.174Z"
   },
   {
    "duration": 6,
    "start_time": "2022-04-10T03:41:01.536Z"
   },
   {
    "duration": 3,
    "start_time": "2022-04-10T03:41:13.813Z"
   },
   {
    "duration": 4,
    "start_time": "2022-04-10T03:41:47.991Z"
   },
   {
    "duration": 9,
    "start_time": "2022-04-10T03:48:17.604Z"
   },
   {
    "duration": 1103,
    "start_time": "2022-04-10T03:51:30.052Z"
   },
   {
    "duration": 10,
    "start_time": "2022-04-10T03:52:11.373Z"
   },
   {
    "duration": 13,
    "start_time": "2022-04-10T03:53:50.498Z"
   },
   {
    "duration": 23,
    "start_time": "2022-04-10T03:54:17.205Z"
   },
   {
    "duration": 8,
    "start_time": "2022-04-10T03:55:28.953Z"
   },
   {
    "duration": 8,
    "start_time": "2022-04-10T03:55:42.971Z"
   },
   {
    "duration": 8,
    "start_time": "2022-04-10T03:55:57.410Z"
   },
   {
    "duration": 14,
    "start_time": "2022-04-10T03:56:03.883Z"
   },
   {
    "duration": 576,
    "start_time": "2022-04-10T03:57:46.809Z"
   },
   {
    "duration": 72,
    "start_time": "2022-04-10T03:57:47.387Z"
   },
   {
    "duration": 20,
    "start_time": "2022-04-10T03:57:47.461Z"
   },
   {
    "duration": 9,
    "start_time": "2022-04-10T03:57:47.483Z"
   },
   {
    "duration": 8,
    "start_time": "2022-04-10T03:57:47.494Z"
   },
   {
    "duration": 13,
    "start_time": "2022-04-10T03:57:47.503Z"
   },
   {
    "duration": 6,
    "start_time": "2022-04-10T03:57:47.518Z"
   },
   {
    "duration": 3,
    "start_time": "2022-04-10T03:57:47.526Z"
   },
   {
    "duration": 40,
    "start_time": "2022-04-10T03:57:47.530Z"
   },
   {
    "duration": 8,
    "start_time": "2022-04-10T03:57:47.573Z"
   },
   {
    "duration": 10,
    "start_time": "2022-04-10T03:57:47.582Z"
   },
   {
    "duration": 8,
    "start_time": "2022-04-10T03:57:47.593Z"
   },
   {
    "duration": 7,
    "start_time": "2022-04-10T03:57:47.602Z"
   },
   {
    "duration": 7,
    "start_time": "2022-04-10T03:57:47.610Z"
   },
   {
    "duration": 13,
    "start_time": "2022-04-10T03:57:47.618Z"
   },
   {
    "duration": 3,
    "start_time": "2022-04-10T03:57:47.633Z"
   },
   {
    "duration": 33,
    "start_time": "2022-04-10T03:57:47.638Z"
   },
   {
    "duration": 2,
    "start_time": "2022-04-10T03:57:47.672Z"
   },
   {
    "duration": 7,
    "start_time": "2022-04-10T03:57:47.675Z"
   },
   {
    "duration": 9,
    "start_time": "2022-04-10T03:57:47.683Z"
   },
   {
    "duration": 8,
    "start_time": "2022-04-10T03:57:47.693Z"
   },
   {
    "duration": 5,
    "start_time": "2022-04-10T03:57:47.703Z"
   },
   {
    "duration": 5,
    "start_time": "2022-04-10T03:57:47.709Z"
   },
   {
    "duration": 4,
    "start_time": "2022-04-10T03:57:47.715Z"
   },
   {
    "duration": 4,
    "start_time": "2022-04-10T03:57:47.721Z"
   },
   {
    "duration": 4,
    "start_time": "2022-04-10T03:57:47.726Z"
   },
   {
    "duration": 4,
    "start_time": "2022-04-10T03:57:47.731Z"
   },
   {
    "duration": 2,
    "start_time": "2022-04-10T03:57:47.738Z"
   },
   {
    "duration": 3,
    "start_time": "2022-04-10T03:57:47.742Z"
   },
   {
    "duration": 7,
    "start_time": "2022-04-10T03:58:29.926Z"
   },
   {
    "duration": 15,
    "start_time": "2022-04-10T03:58:37.148Z"
   },
   {
    "duration": 4,
    "start_time": "2022-04-10T03:59:12.647Z"
   },
   {
    "duration": 15,
    "start_time": "2022-04-10T03:59:19.039Z"
   },
   {
    "duration": 7,
    "start_time": "2022-04-10T12:49:38.062Z"
   },
   {
    "duration": 38,
    "start_time": "2022-04-10T12:51:57.877Z"
   },
   {
    "duration": 732,
    "start_time": "2022-04-10T12:52:04.187Z"
   },
   {
    "duration": 76,
    "start_time": "2022-04-10T12:52:04.921Z"
   },
   {
    "duration": 22,
    "start_time": "2022-04-10T12:52:04.999Z"
   },
   {
    "duration": 10,
    "start_time": "2022-04-10T12:52:05.023Z"
   },
   {
    "duration": 10,
    "start_time": "2022-04-10T12:52:05.035Z"
   },
   {
    "duration": 14,
    "start_time": "2022-04-10T12:52:05.071Z"
   },
   {
    "duration": 8,
    "start_time": "2022-04-10T12:52:05.086Z"
   },
   {
    "duration": 3,
    "start_time": "2022-04-10T12:52:05.096Z"
   },
   {
    "duration": 6,
    "start_time": "2022-04-10T12:52:05.101Z"
   },
   {
    "duration": 9,
    "start_time": "2022-04-10T12:52:05.110Z"
   },
   {
    "duration": 11,
    "start_time": "2022-04-10T12:52:05.121Z"
   },
   {
    "duration": 8,
    "start_time": "2022-04-10T12:52:05.171Z"
   },
   {
    "duration": 6,
    "start_time": "2022-04-10T12:52:05.181Z"
   },
   {
    "duration": 7,
    "start_time": "2022-04-10T12:52:05.189Z"
   },
   {
    "duration": 13,
    "start_time": "2022-04-10T12:52:05.197Z"
   },
   {
    "duration": 7,
    "start_time": "2022-04-10T12:52:05.211Z"
   },
   {
    "duration": 19,
    "start_time": "2022-04-10T12:52:05.219Z"
   },
   {
    "duration": 5,
    "start_time": "2022-04-10T12:52:05.239Z"
   },
   {
    "duration": 37,
    "start_time": "2022-04-10T12:52:05.245Z"
   },
   {
    "duration": 3,
    "start_time": "2022-04-10T12:52:05.283Z"
   },
   {
    "duration": 28,
    "start_time": "2022-04-10T12:52:05.288Z"
   },
   {
    "duration": 3,
    "start_time": "2022-04-10T12:52:05.317Z"
   },
   {
    "duration": 4,
    "start_time": "2022-04-10T12:52:05.322Z"
   },
   {
    "duration": 6,
    "start_time": "2022-04-10T12:52:05.328Z"
   },
   {
    "duration": 5,
    "start_time": "2022-04-10T12:52:05.335Z"
   },
   {
    "duration": 4,
    "start_time": "2022-04-10T12:52:05.342Z"
   },
   {
    "duration": 4,
    "start_time": "2022-04-10T12:52:05.348Z"
   },
   {
    "duration": 2,
    "start_time": "2022-04-10T12:52:05.371Z"
   },
   {
    "duration": 5,
    "start_time": "2022-04-10T12:52:05.374Z"
   },
   {
    "duration": 6,
    "start_time": "2022-04-10T12:52:05.380Z"
   },
   {
    "duration": 5,
    "start_time": "2022-04-10T12:52:05.388Z"
   },
   {
    "duration": 5,
    "start_time": "2022-04-10T12:52:05.394Z"
   },
   {
    "duration": 19,
    "start_time": "2022-04-10T12:57:52.236Z"
   },
   {
    "duration": 14,
    "start_time": "2022-04-10T12:58:28.454Z"
   },
   {
    "duration": 2,
    "start_time": "2022-04-10T13:09:19.947Z"
   },
   {
    "duration": 183,
    "start_time": "2022-04-10T13:09:57.119Z"
   },
   {
    "duration": 107,
    "start_time": "2022-04-10T13:10:35.428Z"
   },
   {
    "duration": 3,
    "start_time": "2022-04-10T13:11:11.030Z"
   },
   {
    "duration": 121,
    "start_time": "2022-04-10T13:11:14.185Z"
   },
   {
    "duration": 3,
    "start_time": "2022-04-10T13:18:06.339Z"
   },
   {
    "duration": 3,
    "start_time": "2022-04-10T13:18:29.081Z"
   },
   {
    "duration": 6,
    "start_time": "2022-04-10T13:18:31.186Z"
   },
   {
    "duration": 3,
    "start_time": "2022-04-10T13:18:59.095Z"
   },
   {
    "duration": 9,
    "start_time": "2022-04-10T13:19:00.410Z"
   },
   {
    "duration": 2,
    "start_time": "2022-04-10T13:19:02.941Z"
   },
   {
    "duration": 3,
    "start_time": "2022-04-10T13:19:04.891Z"
   },
   {
    "duration": 9,
    "start_time": "2022-04-10T13:19:06.466Z"
   },
   {
    "duration": 3,
    "start_time": "2022-04-10T13:19:49.573Z"
   },
   {
    "duration": 9,
    "start_time": "2022-04-10T13:19:50.805Z"
   },
   {
    "duration": 755,
    "start_time": "2022-04-11T00:34:28.844Z"
   },
   {
    "duration": 124,
    "start_time": "2022-04-11T00:34:29.600Z"
   },
   {
    "duration": 20,
    "start_time": "2022-04-11T00:34:29.726Z"
   },
   {
    "duration": 10,
    "start_time": "2022-04-11T00:34:29.748Z"
   },
   {
    "duration": 13,
    "start_time": "2022-04-11T00:34:29.759Z"
   },
   {
    "duration": 13,
    "start_time": "2022-04-11T00:34:29.773Z"
   },
   {
    "duration": 7,
    "start_time": "2022-04-11T00:34:29.787Z"
   },
   {
    "duration": 3,
    "start_time": "2022-04-11T00:34:29.795Z"
   },
   {
    "duration": 5,
    "start_time": "2022-04-11T00:34:29.799Z"
   },
   {
    "duration": 8,
    "start_time": "2022-04-11T00:34:29.806Z"
   },
   {
    "duration": 10,
    "start_time": "2022-04-11T00:34:29.815Z"
   },
   {
    "duration": 46,
    "start_time": "2022-04-11T00:34:29.826Z"
   },
   {
    "duration": 7,
    "start_time": "2022-04-11T00:34:29.873Z"
   },
   {
    "duration": 7,
    "start_time": "2022-04-11T00:34:29.881Z"
   },
   {
    "duration": 12,
    "start_time": "2022-04-11T00:34:29.890Z"
   },
   {
    "duration": 6,
    "start_time": "2022-04-11T00:34:29.903Z"
   },
   {
    "duration": 13,
    "start_time": "2022-04-11T00:34:29.910Z"
   },
   {
    "duration": 4,
    "start_time": "2022-04-11T00:34:29.924Z"
   },
   {
    "duration": 15,
    "start_time": "2022-04-11T00:34:29.929Z"
   },
   {
    "duration": 3,
    "start_time": "2022-04-11T00:34:29.971Z"
   },
   {
    "duration": 28,
    "start_time": "2022-04-11T00:34:29.975Z"
   },
   {
    "duration": 18,
    "start_time": "2022-04-11T00:34:30.005Z"
   },
   {
    "duration": 14,
    "start_time": "2022-04-11T00:34:30.024Z"
   },
   {
    "duration": 146,
    "start_time": "2022-04-11T00:34:30.040Z"
   },
   {
    "duration": 2,
    "start_time": "2022-04-11T00:34:30.187Z"
   },
   {
    "duration": 5,
    "start_time": "2022-04-11T00:34:30.191Z"
   },
   {
    "duration": 4,
    "start_time": "2022-04-11T00:34:30.197Z"
   },
   {
    "duration": 5,
    "start_time": "2022-04-11T00:34:30.204Z"
   },
   {
    "duration": 4,
    "start_time": "2022-04-11T00:34:30.211Z"
   },
   {
    "duration": 9,
    "start_time": "2022-04-11T00:34:30.216Z"
   },
   {
    "duration": 11,
    "start_time": "2022-04-11T00:34:30.227Z"
   },
   {
    "duration": 164,
    "start_time": "2022-04-11T00:35:07.185Z"
   },
   {
    "duration": 107,
    "start_time": "2022-04-11T00:35:25.723Z"
   },
   {
    "duration": 104,
    "start_time": "2022-04-11T00:35:35.714Z"
   },
   {
    "duration": 144,
    "start_time": "2022-04-11T00:35:43.005Z"
   },
   {
    "duration": 111,
    "start_time": "2022-04-11T00:35:50.974Z"
   },
   {
    "duration": 114,
    "start_time": "2022-04-11T00:36:22.388Z"
   },
   {
    "duration": 465,
    "start_time": "2022-04-11T00:36:33.562Z"
   },
   {
    "duration": 454,
    "start_time": "2022-04-11T00:36:42.338Z"
   },
   {
    "duration": 123,
    "start_time": "2022-04-11T00:36:56.458Z"
   },
   {
    "duration": 105,
    "start_time": "2022-04-11T00:37:32.513Z"
   },
   {
    "duration": 114,
    "start_time": "2022-04-11T00:37:49.435Z"
   },
   {
    "duration": 110,
    "start_time": "2022-04-11T00:38:01.922Z"
   },
   {
    "duration": 154,
    "start_time": "2022-04-11T00:39:37.525Z"
   },
   {
    "duration": 105,
    "start_time": "2022-04-11T00:40:56.461Z"
   },
   {
    "duration": 818,
    "start_time": "2022-04-11T02:45:09.308Z"
   },
   {
    "duration": 92,
    "start_time": "2022-04-11T02:45:10.129Z"
   },
   {
    "duration": 26,
    "start_time": "2022-04-11T02:45:10.223Z"
   },
   {
    "duration": 11,
    "start_time": "2022-04-11T02:45:10.252Z"
   },
   {
    "duration": 10,
    "start_time": "2022-04-11T02:45:10.265Z"
   },
   {
    "duration": 15,
    "start_time": "2022-04-11T02:45:10.277Z"
   },
   {
    "duration": 10,
    "start_time": "2022-04-11T02:45:10.294Z"
   },
   {
    "duration": 3,
    "start_time": "2022-04-11T02:45:10.305Z"
   },
   {
    "duration": 5,
    "start_time": "2022-04-11T02:45:10.348Z"
   },
   {
    "duration": 13,
    "start_time": "2022-04-11T02:45:10.355Z"
   },
   {
    "duration": 11,
    "start_time": "2022-04-11T02:45:10.370Z"
   },
   {
    "duration": 8,
    "start_time": "2022-04-11T02:45:10.383Z"
   },
   {
    "duration": 8,
    "start_time": "2022-04-11T02:45:10.393Z"
   },
   {
    "duration": 8,
    "start_time": "2022-04-11T02:45:10.403Z"
   },
   {
    "duration": 16,
    "start_time": "2022-04-11T02:45:10.447Z"
   },
   {
    "duration": 7,
    "start_time": "2022-04-11T02:45:10.465Z"
   },
   {
    "duration": 16,
    "start_time": "2022-04-11T02:45:10.473Z"
   },
   {
    "duration": 6,
    "start_time": "2022-04-11T02:45:10.491Z"
   },
   {
    "duration": 19,
    "start_time": "2022-04-11T02:45:10.498Z"
   },
   {
    "duration": 29,
    "start_time": "2022-04-11T02:45:10.519Z"
   },
   {
    "duration": 34,
    "start_time": "2022-04-11T02:45:10.550Z"
   },
   {
    "duration": 22,
    "start_time": "2022-04-11T02:45:10.586Z"
   },
   {
    "duration": 16,
    "start_time": "2022-04-11T02:45:10.610Z"
   },
   {
    "duration": 148,
    "start_time": "2022-04-11T02:45:10.649Z"
   },
   {
    "duration": 131,
    "start_time": "2022-04-11T02:45:10.799Z"
   },
   {
    "duration": 3,
    "start_time": "2022-04-11T02:45:10.931Z"
   },
   {
    "duration": 13,
    "start_time": "2022-04-11T02:45:10.935Z"
   },
   {
    "duration": 14,
    "start_time": "2022-04-11T02:45:10.951Z"
   },
   {
    "duration": 6,
    "start_time": "2022-04-11T02:45:10.967Z"
   },
   {
    "duration": 7,
    "start_time": "2022-04-11T02:45:10.974Z"
   },
   {
    "duration": 12,
    "start_time": "2022-04-11T02:45:10.983Z"
   },
   {
    "duration": 73,
    "start_time": "2022-04-11T02:45:30.554Z"
   },
   {
    "duration": 71,
    "start_time": "2022-04-11T02:46:02.942Z"
   },
   {
    "duration": 613,
    "start_time": "2022-04-11T02:46:52.056Z"
   },
   {
    "duration": 83,
    "start_time": "2022-04-11T02:46:52.671Z"
   },
   {
    "duration": 53,
    "start_time": "2022-04-11T02:46:52.755Z"
   },
   {
    "duration": 16,
    "start_time": "2022-04-11T02:46:52.810Z"
   },
   {
    "duration": 22,
    "start_time": "2022-04-11T02:46:52.827Z"
   },
   {
    "duration": 6,
    "start_time": "2022-04-11T02:46:52.851Z"
   },
   {
    "duration": 11,
    "start_time": "2022-04-11T02:46:52.859Z"
   },
   {
    "duration": 11,
    "start_time": "2022-04-11T02:46:52.872Z"
   },
   {
    "duration": 9,
    "start_time": "2022-04-11T02:46:52.885Z"
   },
   {
    "duration": 8,
    "start_time": "2022-04-11T02:46:52.897Z"
   },
   {
    "duration": 45,
    "start_time": "2022-04-11T02:46:52.906Z"
   },
   {
    "duration": 16,
    "start_time": "2022-04-11T02:46:52.953Z"
   },
   {
    "duration": 13,
    "start_time": "2022-04-11T02:46:52.970Z"
   },
   {
    "duration": 17,
    "start_time": "2022-04-11T02:46:52.984Z"
   },
   {
    "duration": 5,
    "start_time": "2022-04-11T02:46:53.003Z"
   },
   {
    "duration": 18,
    "start_time": "2022-04-11T02:46:53.010Z"
   },
   {
    "duration": 21,
    "start_time": "2022-04-11T02:46:53.029Z"
   },
   {
    "duration": 36,
    "start_time": "2022-04-11T02:46:53.052Z"
   },
   {
    "duration": 21,
    "start_time": "2022-04-11T02:46:53.090Z"
   },
   {
    "duration": 35,
    "start_time": "2022-04-11T02:46:53.113Z"
   },
   {
    "duration": 140,
    "start_time": "2022-04-11T02:46:53.149Z"
   },
   {
    "duration": 134,
    "start_time": "2022-04-11T02:46:53.291Z"
   },
   {
    "duration": 3,
    "start_time": "2022-04-11T02:46:53.427Z"
   },
   {
    "duration": 7,
    "start_time": "2022-04-11T02:46:53.431Z"
   },
   {
    "duration": 2,
    "start_time": "2022-04-11T02:46:53.448Z"
   },
   {
    "duration": 12,
    "start_time": "2022-04-11T02:46:53.451Z"
   },
   {
    "duration": 5,
    "start_time": "2022-04-11T02:46:53.464Z"
   },
   {
    "duration": 14,
    "start_time": "2022-04-11T02:46:53.471Z"
   },
   {
    "duration": 12,
    "start_time": "2022-04-11T02:48:52.952Z"
   },
   {
    "duration": 49,
    "start_time": "2022-04-11T02:51:12.198Z"
   },
   {
    "duration": 105,
    "start_time": "2022-04-11T02:54:30.533Z"
   },
   {
    "duration": 3,
    "start_time": "2022-04-11T02:54:38.894Z"
   },
   {
    "duration": 1972,
    "start_time": "2022-04-11T02:56:15.387Z"
   },
   {
    "duration": 3,
    "start_time": "2022-04-11T02:57:33.694Z"
   },
   {
    "duration": 2026,
    "start_time": "2022-04-11T02:57:35.735Z"
   },
   {
    "duration": 3,
    "start_time": "2022-04-11T03:00:28.720Z"
   },
   {
    "duration": 4,
    "start_time": "2022-04-11T03:01:06.405Z"
   },
   {
    "duration": 8,
    "start_time": "2022-04-11T03:01:07.779Z"
   },
   {
    "duration": 110469,
    "start_time": "2022-04-11T03:01:13.869Z"
   },
   {
    "duration": 9061,
    "start_time": "2022-04-11T03:03:18.300Z"
   },
   {
    "duration": 7,
    "start_time": "2022-04-11T03:03:54.714Z"
   },
   {
    "duration": 852,
    "start_time": "2022-04-11T03:07:43.540Z"
   },
   {
    "duration": 21,
    "start_time": "2022-04-11T03:07:56.970Z"
   },
   {
    "duration": 3,
    "start_time": "2022-04-11T03:09:39.824Z"
   },
   {
    "duration": 9146,
    "start_time": "2022-04-11T03:09:44.870Z"
   },
   {
    "duration": 22,
    "start_time": "2022-04-11T03:10:36.495Z"
   },
   {
    "duration": 5,
    "start_time": "2022-04-11T03:11:35.684Z"
   },
   {
    "duration": 16,
    "start_time": "2022-04-11T03:11:43.204Z"
   },
   {
    "duration": 16,
    "start_time": "2022-04-11T03:12:03.266Z"
   },
   {
    "duration": 970,
    "start_time": "2022-04-11T03:12:08.509Z"
   },
   {
    "duration": 86,
    "start_time": "2022-04-11T03:12:09.481Z"
   },
   {
    "duration": 56,
    "start_time": "2022-04-11T03:12:09.569Z"
   },
   {
    "duration": 29,
    "start_time": "2022-04-11T03:12:09.627Z"
   },
   {
    "duration": 7,
    "start_time": "2022-04-11T03:12:09.657Z"
   },
   {
    "duration": 6,
    "start_time": "2022-04-11T03:12:09.666Z"
   },
   {
    "duration": 13,
    "start_time": "2022-04-11T03:12:09.673Z"
   },
   {
    "duration": 10,
    "start_time": "2022-04-11T03:12:09.687Z"
   },
   {
    "duration": 13,
    "start_time": "2022-04-11T03:12:09.699Z"
   },
   {
    "duration": 33,
    "start_time": "2022-04-11T03:12:09.715Z"
   },
   {
    "duration": 118383,
    "start_time": "2022-04-11T03:12:09.749Z"
   },
   {
    "duration": 0,
    "start_time": "2022-04-11T03:14:08.133Z"
   },
   {
    "duration": 0,
    "start_time": "2022-04-11T03:14:08.135Z"
   },
   {
    "duration": 0,
    "start_time": "2022-04-11T03:14:08.135Z"
   },
   {
    "duration": 0,
    "start_time": "2022-04-11T03:14:08.137Z"
   },
   {
    "duration": 0,
    "start_time": "2022-04-11T03:14:08.137Z"
   },
   {
    "duration": 0,
    "start_time": "2022-04-11T03:14:08.147Z"
   },
   {
    "duration": 1,
    "start_time": "2022-04-11T03:14:08.148Z"
   },
   {
    "duration": 0,
    "start_time": "2022-04-11T03:14:08.150Z"
   },
   {
    "duration": 0,
    "start_time": "2022-04-11T03:14:08.151Z"
   },
   {
    "duration": 0,
    "start_time": "2022-04-11T03:14:08.152Z"
   },
   {
    "duration": 0,
    "start_time": "2022-04-11T03:14:08.153Z"
   },
   {
    "duration": 0,
    "start_time": "2022-04-11T03:14:08.154Z"
   },
   {
    "duration": 0,
    "start_time": "2022-04-11T03:14:08.155Z"
   },
   {
    "duration": 0,
    "start_time": "2022-04-11T03:14:08.156Z"
   },
   {
    "duration": 0,
    "start_time": "2022-04-11T03:14:08.157Z"
   },
   {
    "duration": 0,
    "start_time": "2022-04-11T03:14:08.158Z"
   },
   {
    "duration": 0,
    "start_time": "2022-04-11T03:14:08.159Z"
   },
   {
    "duration": 0,
    "start_time": "2022-04-11T03:14:08.160Z"
   },
   {
    "duration": 0,
    "start_time": "2022-04-11T03:14:08.161Z"
   },
   {
    "duration": 0,
    "start_time": "2022-04-11T03:14:08.162Z"
   },
   {
    "duration": 0,
    "start_time": "2022-04-11T03:14:08.163Z"
   },
   {
    "duration": 0,
    "start_time": "2022-04-11T03:14:08.164Z"
   },
   {
    "duration": 0,
    "start_time": "2022-04-11T03:14:08.165Z"
   },
   {
    "duration": 714,
    "start_time": "2022-04-11T03:14:27.112Z"
   },
   {
    "duration": 88,
    "start_time": "2022-04-11T03:14:27.828Z"
   },
   {
    "duration": 60,
    "start_time": "2022-04-11T03:14:27.918Z"
   },
   {
    "duration": 17,
    "start_time": "2022-04-11T03:14:27.981Z"
   },
   {
    "duration": 6,
    "start_time": "2022-04-11T03:14:28.000Z"
   },
   {
    "duration": 9,
    "start_time": "2022-04-11T03:14:28.007Z"
   },
   {
    "duration": 30,
    "start_time": "2022-04-11T03:14:28.018Z"
   },
   {
    "duration": 12,
    "start_time": "2022-04-11T03:14:28.051Z"
   },
   {
    "duration": 14,
    "start_time": "2022-04-11T03:14:28.065Z"
   },
   {
    "duration": 4,
    "start_time": "2022-04-11T03:14:28.083Z"
   },
   {
    "duration": 139306,
    "start_time": "2022-04-11T03:14:28.088Z"
   },
   {
    "duration": 14,
    "start_time": "2022-04-11T03:16:47.396Z"
   },
   {
    "duration": 28,
    "start_time": "2022-04-11T03:16:47.411Z"
   },
   {
    "duration": 13,
    "start_time": "2022-04-11T03:16:47.446Z"
   },
   {
    "duration": 12,
    "start_time": "2022-04-11T03:16:47.460Z"
   },
   {
    "duration": 19,
    "start_time": "2022-04-11T03:16:47.473Z"
   },
   {
    "duration": 7,
    "start_time": "2022-04-11T03:16:47.494Z"
   },
   {
    "duration": 15,
    "start_time": "2022-04-11T03:16:47.502Z"
   },
   {
    "duration": 29,
    "start_time": "2022-04-11T03:16:47.519Z"
   },
   {
    "duration": 15,
    "start_time": "2022-04-11T03:16:47.549Z"
   },
   {
    "duration": 7,
    "start_time": "2022-04-11T03:16:47.566Z"
   },
   {
    "duration": 21,
    "start_time": "2022-04-11T03:16:47.574Z"
   },
   {
    "duration": 5,
    "start_time": "2022-04-11T03:16:47.596Z"
   },
   {
    "duration": 45,
    "start_time": "2022-04-11T03:16:47.602Z"
   },
   {
    "duration": 21,
    "start_time": "2022-04-11T03:16:47.649Z"
   },
   {
    "duration": 15,
    "start_time": "2022-04-11T03:16:47.671Z"
   },
   {
    "duration": 148,
    "start_time": "2022-04-11T03:16:47.688Z"
   },
   {
    "duration": 138,
    "start_time": "2022-04-11T03:16:47.839Z"
   },
   {
    "duration": 3,
    "start_time": "2022-04-11T03:16:47.978Z"
   },
   {
    "duration": 5,
    "start_time": "2022-04-11T03:16:47.982Z"
   },
   {
    "duration": 4,
    "start_time": "2022-04-11T03:16:47.989Z"
   },
   {
    "duration": 6,
    "start_time": "2022-04-11T03:16:47.995Z"
   },
   {
    "duration": 4,
    "start_time": "2022-04-11T03:16:48.002Z"
   },
   {
    "duration": 9,
    "start_time": "2022-04-11T03:16:48.007Z"
   },
   {
    "duration": 4,
    "start_time": "2022-04-11T03:19:36.780Z"
   },
   {
    "duration": 31085,
    "start_time": "2022-04-11T03:19:42.055Z"
   },
   {
    "duration": 17,
    "start_time": "2022-04-11T03:20:21.667Z"
   },
   {
    "duration": 20,
    "start_time": "2022-04-11T03:20:26.555Z"
   },
   {
    "duration": 3,
    "start_time": "2022-04-11T03:21:39.932Z"
   },
   {
    "duration": 2706,
    "start_time": "2022-04-11T03:21:43.885Z"
   },
   {
    "duration": 17,
    "start_time": "2022-04-11T03:21:59.518Z"
   },
   {
    "duration": 667,
    "start_time": "2022-04-11T03:22:14.140Z"
   },
   {
    "duration": 82,
    "start_time": "2022-04-11T03:22:14.809Z"
   },
   {
    "duration": 59,
    "start_time": "2022-04-11T03:22:14.893Z"
   },
   {
    "duration": 16,
    "start_time": "2022-04-11T03:22:14.954Z"
   },
   {
    "duration": 3,
    "start_time": "2022-04-11T03:22:14.972Z"
   },
   {
    "duration": 6,
    "start_time": "2022-04-11T03:22:14.976Z"
   },
   {
    "duration": 10,
    "start_time": "2022-04-11T03:22:14.984Z"
   },
   {
    "duration": 11,
    "start_time": "2022-04-11T03:22:14.995Z"
   },
   {
    "duration": 48,
    "start_time": "2022-04-11T03:22:15.008Z"
   },
   {
    "duration": 3,
    "start_time": "2022-04-11T03:22:15.059Z"
   },
   {
    "duration": 47993,
    "start_time": "2022-04-11T03:22:15.064Z"
   },
   {
    "duration": 19,
    "start_time": "2022-04-11T03:23:03.059Z"
   },
   {
    "duration": 31,
    "start_time": "2022-04-11T03:23:03.080Z"
   },
   {
    "duration": 10,
    "start_time": "2022-04-11T03:23:03.113Z"
   },
   {
    "duration": 27,
    "start_time": "2022-04-11T03:23:03.125Z"
   },
   {
    "duration": 11,
    "start_time": "2022-04-11T03:23:03.153Z"
   },
   {
    "duration": 11,
    "start_time": "2022-04-11T03:23:03.165Z"
   },
   {
    "duration": 24,
    "start_time": "2022-04-11T03:23:03.178Z"
   },
   {
    "duration": 13,
    "start_time": "2022-04-11T03:23:03.204Z"
   },
   {
    "duration": 34,
    "start_time": "2022-04-11T03:23:03.219Z"
   },
   {
    "duration": 75,
    "start_time": "2022-04-11T03:23:03.255Z"
   },
   {
    "duration": 0,
    "start_time": "2022-04-11T03:23:03.332Z"
   },
   {
    "duration": 0,
    "start_time": "2022-04-11T03:23:03.333Z"
   },
   {
    "duration": 0,
    "start_time": "2022-04-11T03:23:03.334Z"
   },
   {
    "duration": 0,
    "start_time": "2022-04-11T03:23:03.347Z"
   },
   {
    "duration": 0,
    "start_time": "2022-04-11T03:23:03.348Z"
   },
   {
    "duration": 0,
    "start_time": "2022-04-11T03:23:03.349Z"
   },
   {
    "duration": 0,
    "start_time": "2022-04-11T03:23:03.350Z"
   },
   {
    "duration": 0,
    "start_time": "2022-04-11T03:23:03.351Z"
   },
   {
    "duration": 0,
    "start_time": "2022-04-11T03:23:03.352Z"
   },
   {
    "duration": 0,
    "start_time": "2022-04-11T03:23:03.353Z"
   },
   {
    "duration": 0,
    "start_time": "2022-04-11T03:23:03.354Z"
   },
   {
    "duration": 0,
    "start_time": "2022-04-11T03:23:03.355Z"
   },
   {
    "duration": 0,
    "start_time": "2022-04-11T03:23:03.356Z"
   },
   {
    "duration": 25,
    "start_time": "2022-04-11T03:23:33.661Z"
   },
   {
    "duration": 33,
    "start_time": "2022-04-11T03:23:46.742Z"
   },
   {
    "duration": 665,
    "start_time": "2022-04-11T03:23:58.528Z"
   },
   {
    "duration": 81,
    "start_time": "2022-04-11T03:23:59.195Z"
   },
   {
    "duration": 55,
    "start_time": "2022-04-11T03:23:59.278Z"
   },
   {
    "duration": 20,
    "start_time": "2022-04-11T03:23:59.335Z"
   },
   {
    "duration": 4,
    "start_time": "2022-04-11T03:23:59.356Z"
   },
   {
    "duration": 10,
    "start_time": "2022-04-11T03:23:59.361Z"
   },
   {
    "duration": 12,
    "start_time": "2022-04-11T03:23:59.373Z"
   },
   {
    "duration": 10,
    "start_time": "2022-04-11T03:23:59.387Z"
   },
   {
    "duration": 14,
    "start_time": "2022-04-11T03:23:59.398Z"
   },
   {
    "duration": 36,
    "start_time": "2022-04-11T03:23:59.414Z"
   },
   {
    "duration": 48971,
    "start_time": "2022-04-11T03:23:59.452Z"
   },
   {
    "duration": 25,
    "start_time": "2022-04-11T03:24:48.424Z"
   },
   {
    "duration": 22,
    "start_time": "2022-04-11T03:24:48.450Z"
   },
   {
    "duration": 10,
    "start_time": "2022-04-11T03:24:48.474Z"
   },
   {
    "duration": 8,
    "start_time": "2022-04-11T03:24:48.486Z"
   },
   {
    "duration": 7,
    "start_time": "2022-04-11T03:24:48.495Z"
   },
   {
    "duration": 9,
    "start_time": "2022-04-11T03:24:48.504Z"
   },
   {
    "duration": 44,
    "start_time": "2022-04-11T03:24:48.515Z"
   },
   {
    "duration": 5,
    "start_time": "2022-04-11T03:24:48.561Z"
   },
   {
    "duration": 16,
    "start_time": "2022-04-11T03:24:48.568Z"
   },
   {
    "duration": 5,
    "start_time": "2022-04-11T03:24:48.585Z"
   },
   {
    "duration": 16,
    "start_time": "2022-04-11T03:24:48.592Z"
   },
   {
    "duration": 8,
    "start_time": "2022-04-11T03:24:48.609Z"
   },
   {
    "duration": 61,
    "start_time": "2022-04-11T03:24:48.618Z"
   },
   {
    "duration": 21,
    "start_time": "2022-04-11T03:24:48.681Z"
   },
   {
    "duration": 15,
    "start_time": "2022-04-11T03:24:48.704Z"
   },
   {
    "duration": 147,
    "start_time": "2022-04-11T03:24:48.721Z"
   },
   {
    "duration": 135,
    "start_time": "2022-04-11T03:24:48.872Z"
   },
   {
    "duration": 3,
    "start_time": "2022-04-11T03:24:49.008Z"
   },
   {
    "duration": 8,
    "start_time": "2022-04-11T03:24:49.012Z"
   },
   {
    "duration": 4,
    "start_time": "2022-04-11T03:24:49.022Z"
   },
   {
    "duration": 4,
    "start_time": "2022-04-11T03:24:49.028Z"
   },
   {
    "duration": 5,
    "start_time": "2022-04-11T03:24:49.033Z"
   },
   {
    "duration": 7,
    "start_time": "2022-04-11T03:24:49.047Z"
   },
   {
    "duration": 16,
    "start_time": "2022-04-11T03:32:47.968Z"
   },
   {
    "duration": 787,
    "start_time": "2022-04-12T02:44:22.496Z"
   },
   {
    "duration": 87,
    "start_time": "2022-04-12T02:44:23.285Z"
   },
   {
    "duration": 50,
    "start_time": "2022-04-12T02:44:23.374Z"
   },
   {
    "duration": 14,
    "start_time": "2022-04-12T02:44:23.426Z"
   },
   {
    "duration": 4,
    "start_time": "2022-04-12T02:44:23.442Z"
   },
   {
    "duration": 5,
    "start_time": "2022-04-12T02:44:23.447Z"
   },
   {
    "duration": 9,
    "start_time": "2022-04-12T02:44:23.453Z"
   },
   {
    "duration": 8,
    "start_time": "2022-04-12T02:44:23.463Z"
   },
   {
    "duration": 11,
    "start_time": "2022-04-12T02:44:23.473Z"
   },
   {
    "duration": 4,
    "start_time": "2022-04-12T02:44:23.486Z"
   },
   {
    "duration": 45623,
    "start_time": "2022-04-12T02:44:23.491Z"
   },
   {
    "duration": 13,
    "start_time": "2022-04-12T02:45:09.116Z"
   },
   {
    "duration": 22,
    "start_time": "2022-04-12T02:45:09.131Z"
   },
   {
    "duration": 10,
    "start_time": "2022-04-12T02:45:09.155Z"
   },
   {
    "duration": 7,
    "start_time": "2022-04-12T02:45:09.167Z"
   },
   {
    "duration": 7,
    "start_time": "2022-04-12T02:45:09.175Z"
   },
   {
    "duration": 7,
    "start_time": "2022-04-12T02:45:09.183Z"
   },
   {
    "duration": 15,
    "start_time": "2022-04-12T02:45:09.223Z"
   },
   {
    "duration": 9,
    "start_time": "2022-04-12T02:45:09.239Z"
   },
   {
    "duration": 13,
    "start_time": "2022-04-12T02:45:09.250Z"
   },
   {
    "duration": 4,
    "start_time": "2022-04-12T02:45:09.265Z"
   },
   {
    "duration": 16,
    "start_time": "2022-04-12T02:45:09.270Z"
   },
   {
    "duration": 4,
    "start_time": "2022-04-12T02:45:09.287Z"
   },
   {
    "duration": 60,
    "start_time": "2022-04-12T02:45:09.292Z"
   },
   {
    "duration": 17,
    "start_time": "2022-04-12T02:45:09.354Z"
   },
   {
    "duration": 13,
    "start_time": "2022-04-12T02:45:09.372Z"
   },
   {
    "duration": 153,
    "start_time": "2022-04-12T02:45:09.386Z"
   },
   {
    "duration": 123,
    "start_time": "2022-04-12T02:45:09.541Z"
   },
   {
    "duration": 2,
    "start_time": "2022-04-12T02:45:09.666Z"
   },
   {
    "duration": 4,
    "start_time": "2022-04-12T02:45:09.670Z"
   },
   {
    "duration": 4,
    "start_time": "2022-04-12T02:45:09.676Z"
   },
   {
    "duration": 5,
    "start_time": "2022-04-12T02:45:09.681Z"
   },
   {
    "duration": 5,
    "start_time": "2022-04-12T02:45:09.687Z"
   },
   {
    "duration": 4,
    "start_time": "2022-04-12T02:45:09.693Z"
   },
   {
    "duration": 3,
    "start_time": "2022-04-12T02:49:27.962Z"
   },
   {
    "duration": 67,
    "start_time": "2022-04-12T02:49:59.167Z"
   },
   {
    "duration": 9,
    "start_time": "2022-04-12T02:50:18.623Z"
   },
   {
    "duration": 5,
    "start_time": "2022-04-12T02:50:35.511Z"
   },
   {
    "duration": 51853,
    "start_time": "2022-04-12T02:50:41.951Z"
   },
   {
    "duration": 9,
    "start_time": "2022-04-12T02:52:19.181Z"
   },
   {
    "duration": 12,
    "start_time": "2022-04-12T02:53:21.248Z"
   },
   {
    "duration": 15,
    "start_time": "2022-04-12T02:53:30.412Z"
   },
   {
    "duration": 14,
    "start_time": "2022-04-12T02:53:48.724Z"
   },
   {
    "duration": 16,
    "start_time": "2022-04-12T02:53:56.384Z"
   },
   {
    "duration": 22,
    "start_time": "2022-04-12T02:54:11.904Z"
   },
   {
    "duration": 26,
    "start_time": "2022-04-12T02:55:12.660Z"
   },
   {
    "duration": 14,
    "start_time": "2022-04-12T02:55:22.153Z"
   },
   {
    "duration": 24,
    "start_time": "2022-04-12T02:56:31.780Z"
   },
   {
    "duration": 26,
    "start_time": "2022-04-12T02:57:05.931Z"
   },
   {
    "duration": 9,
    "start_time": "2022-04-12T02:57:25.607Z"
   },
   {
    "duration": 5,
    "start_time": "2022-04-12T02:57:38.158Z"
   },
   {
    "duration": 8,
    "start_time": "2022-04-12T02:57:46.920Z"
   },
   {
    "duration": 4,
    "start_time": "2022-04-12T02:57:53.354Z"
   },
   {
    "duration": 5,
    "start_time": "2022-04-12T03:00:54.526Z"
   },
   {
    "duration": 9,
    "start_time": "2022-04-12T03:04:23.325Z"
   },
   {
    "duration": 3,
    "start_time": "2022-04-12T03:09:13.270Z"
   },
   {
    "duration": 2209,
    "start_time": "2022-04-12T03:09:50.516Z"
   },
   {
    "duration": 3,
    "start_time": "2022-04-12T03:10:17.215Z"
   },
   {
    "duration": 33784,
    "start_time": "2022-04-12T03:10:18.825Z"
   },
   {
    "duration": 4,
    "start_time": "2022-04-12T03:11:27.555Z"
   },
   {
    "duration": 5,
    "start_time": "2022-04-12T03:12:00.837Z"
   },
   {
    "duration": 641,
    "start_time": "2022-04-12T03:12:35.517Z"
   },
   {
    "duration": 79,
    "start_time": "2022-04-12T03:12:36.160Z"
   },
   {
    "duration": 46,
    "start_time": "2022-04-12T03:12:36.241Z"
   },
   {
    "duration": 15,
    "start_time": "2022-04-12T03:12:36.289Z"
   },
   {
    "duration": 5,
    "start_time": "2022-04-12T03:12:36.306Z"
   },
   {
    "duration": 13,
    "start_time": "2022-04-12T03:12:36.312Z"
   },
   {
    "duration": 9,
    "start_time": "2022-04-12T03:12:36.327Z"
   },
   {
    "duration": 9,
    "start_time": "2022-04-12T03:12:36.337Z"
   },
   {
    "duration": 13,
    "start_time": "2022-04-12T03:12:36.347Z"
   },
   {
    "duration": 3,
    "start_time": "2022-04-12T03:12:36.362Z"
   },
   {
    "duration": 45265,
    "start_time": "2022-04-12T03:12:36.367Z"
   },
   {
    "duration": 13,
    "start_time": "2022-04-12T03:13:21.634Z"
   },
   {
    "duration": 22,
    "start_time": "2022-04-12T03:13:21.648Z"
   },
   {
    "duration": 4,
    "start_time": "2022-04-12T03:13:21.672Z"
   },
   {
    "duration": 4,
    "start_time": "2022-04-12T03:13:21.677Z"
   },
   {
    "duration": 52408,
    "start_time": "2022-04-12T03:13:21.683Z"
   },
   {
    "duration": 32,
    "start_time": "2022-04-12T03:14:14.093Z"
   },
   {
    "duration": 4,
    "start_time": "2022-04-12T03:14:14.127Z"
   },
   {
    "duration": 16,
    "start_time": "2022-04-12T03:14:14.132Z"
   },
   {
    "duration": 4,
    "start_time": "2022-04-12T03:14:14.149Z"
   },
   {
    "duration": 33644,
    "start_time": "2022-04-12T03:14:14.155Z"
   },
   {
    "duration": 4,
    "start_time": "2022-04-12T03:14:47.801Z"
   },
   {
    "duration": 21,
    "start_time": "2022-04-12T03:14:47.806Z"
   },
   {
    "duration": 8,
    "start_time": "2022-04-12T03:14:47.828Z"
   },
   {
    "duration": 7,
    "start_time": "2022-04-12T03:14:47.837Z"
   },
   {
    "duration": 8,
    "start_time": "2022-04-12T03:14:47.845Z"
   },
   {
    "duration": 13,
    "start_time": "2022-04-12T03:14:47.854Z"
   },
   {
    "duration": 7,
    "start_time": "2022-04-12T03:14:47.870Z"
   },
   {
    "duration": 14,
    "start_time": "2022-04-12T03:14:47.878Z"
   },
   {
    "duration": 31,
    "start_time": "2022-04-12T03:14:47.893Z"
   },
   {
    "duration": 17,
    "start_time": "2022-04-12T03:14:47.925Z"
   },
   {
    "duration": 8,
    "start_time": "2022-04-12T03:14:47.943Z"
   },
   {
    "duration": 27,
    "start_time": "2022-04-12T03:14:47.952Z"
   },
   {
    "duration": 18,
    "start_time": "2022-04-12T03:14:47.980Z"
   },
   {
    "duration": 35,
    "start_time": "2022-04-12T03:14:47.999Z"
   },
   {
    "duration": 127,
    "start_time": "2022-04-12T03:14:48.035Z"
   },
   {
    "duration": 119,
    "start_time": "2022-04-12T03:14:48.164Z"
   },
   {
    "duration": 2,
    "start_time": "2022-04-12T03:14:48.285Z"
   },
   {
    "duration": 8,
    "start_time": "2022-04-12T03:14:48.289Z"
   },
   {
    "duration": 4,
    "start_time": "2022-04-12T03:14:48.298Z"
   },
   {
    "duration": 4,
    "start_time": "2022-04-12T03:14:48.304Z"
   },
   {
    "duration": 14,
    "start_time": "2022-04-12T03:14:48.309Z"
   },
   {
    "duration": 3,
    "start_time": "2022-04-12T03:14:48.325Z"
   },
   {
    "duration": 62,
    "start_time": "2022-04-12T03:18:10.777Z"
   },
   {
    "duration": 132,
    "start_time": "2022-04-12T03:18:19.817Z"
   },
   {
    "duration": 109,
    "start_time": "2022-04-12T03:23:15.963Z"
   },
   {
    "duration": 148,
    "start_time": "2022-04-12T03:23:33.732Z"
   },
   {
    "duration": 105,
    "start_time": "2022-04-12T03:25:08.278Z"
   },
   {
    "duration": 101,
    "start_time": "2022-04-12T03:25:30.237Z"
   },
   {
    "duration": 113,
    "start_time": "2022-04-12T03:26:19.397Z"
   },
   {
    "duration": 8,
    "start_time": "2022-04-12T03:35:54.861Z"
   },
   {
    "duration": 8,
    "start_time": "2022-04-12T03:36:28.072Z"
   },
   {
    "duration": 7,
    "start_time": "2022-04-12T03:37:24.939Z"
   },
   {
    "duration": 7,
    "start_time": "2022-04-12T03:37:40.174Z"
   },
   {
    "duration": 8,
    "start_time": "2022-04-12T03:37:47.515Z"
   },
   {
    "duration": 6,
    "start_time": "2022-04-12T03:41:47.778Z"
   },
   {
    "duration": 6,
    "start_time": "2022-04-12T03:42:00.513Z"
   },
   {
    "duration": 134,
    "start_time": "2022-04-12T03:44:42.168Z"
   },
   {
    "duration": 143,
    "start_time": "2022-04-12T03:45:04.731Z"
   },
   {
    "duration": 125,
    "start_time": "2022-04-12T03:45:12.379Z"
   },
   {
    "duration": 362,
    "start_time": "2022-04-12T03:45:17.431Z"
   },
   {
    "duration": 130,
    "start_time": "2022-04-12T03:46:02.815Z"
   },
   {
    "duration": 127,
    "start_time": "2022-04-12T03:46:08.804Z"
   },
   {
    "duration": 173,
    "start_time": "2022-04-12T03:46:14.902Z"
   },
   {
    "duration": 129,
    "start_time": "2022-04-12T03:47:26.058Z"
   },
   {
    "duration": 157,
    "start_time": "2022-04-12T03:47:38.732Z"
   },
   {
    "duration": 185,
    "start_time": "2022-04-12T03:48:55.452Z"
   },
   {
    "duration": 11,
    "start_time": "2022-04-12T03:50:01.260Z"
   },
   {
    "duration": 7,
    "start_time": "2022-04-12T03:50:19.197Z"
   },
   {
    "duration": 2051,
    "start_time": "2022-04-12T03:50:22.887Z"
   },
   {
    "duration": 192,
    "start_time": "2022-04-12T03:50:39.886Z"
   },
   {
    "duration": 20,
    "start_time": "2022-04-12T03:50:52.486Z"
   },
   {
    "duration": 10,
    "start_time": "2022-04-12T03:52:00.262Z"
   },
   {
    "duration": 170,
    "start_time": "2022-04-12T03:59:45.891Z"
   },
   {
    "duration": 177,
    "start_time": "2022-04-12T04:00:13.963Z"
   },
   {
    "duration": 184,
    "start_time": "2022-04-12T04:00:36.274Z"
   },
   {
    "duration": 167,
    "start_time": "2022-04-12T04:01:34.979Z"
   },
   {
    "duration": 639,
    "start_time": "2022-04-12T04:01:40.304Z"
   },
   {
    "duration": 79,
    "start_time": "2022-04-12T04:01:40.945Z"
   },
   {
    "duration": 46,
    "start_time": "2022-04-12T04:01:41.026Z"
   },
   {
    "duration": 15,
    "start_time": "2022-04-12T04:01:41.075Z"
   },
   {
    "duration": 5,
    "start_time": "2022-04-12T04:01:41.091Z"
   },
   {
    "duration": 29,
    "start_time": "2022-04-12T04:01:41.097Z"
   },
   {
    "duration": 9,
    "start_time": "2022-04-12T04:01:41.128Z"
   },
   {
    "duration": 9,
    "start_time": "2022-04-12T04:01:41.139Z"
   },
   {
    "duration": 12,
    "start_time": "2022-04-12T04:01:41.150Z"
   },
   {
    "duration": 3,
    "start_time": "2022-04-12T04:01:41.165Z"
   },
   {
    "duration": 46208,
    "start_time": "2022-04-12T04:01:41.170Z"
   },
   {
    "duration": 13,
    "start_time": "2022-04-12T04:02:27.379Z"
   },
   {
    "duration": 33,
    "start_time": "2022-04-12T04:02:27.394Z"
   },
   {
    "duration": 4,
    "start_time": "2022-04-12T04:02:27.429Z"
   },
   {
    "duration": 6,
    "start_time": "2022-04-12T04:02:27.435Z"
   },
   {
    "duration": 52412,
    "start_time": "2022-04-12T04:02:27.442Z"
   },
   {
    "duration": 26,
    "start_time": "2022-04-12T04:03:19.855Z"
   },
   {
    "duration": 4,
    "start_time": "2022-04-12T04:03:19.883Z"
   },
   {
    "duration": 10,
    "start_time": "2022-04-12T04:03:19.889Z"
   },
   {
    "duration": 3,
    "start_time": "2022-04-12T04:03:19.923Z"
   },
   {
    "duration": 34203,
    "start_time": "2022-04-12T04:03:19.928Z"
   },
   {
    "duration": 5,
    "start_time": "2022-04-12T04:03:54.132Z"
   },
   {
    "duration": 16,
    "start_time": "2022-04-12T04:03:54.138Z"
   },
   {
    "duration": 8,
    "start_time": "2022-04-12T04:03:54.156Z"
   },
   {
    "duration": 14,
    "start_time": "2022-04-12T04:03:54.165Z"
   },
   {
    "duration": 13,
    "start_time": "2022-04-12T04:03:54.180Z"
   },
   {
    "duration": 15,
    "start_time": "2022-04-12T04:03:54.194Z"
   },
   {
    "duration": 7,
    "start_time": "2022-04-12T04:03:54.223Z"
   },
   {
    "duration": 13,
    "start_time": "2022-04-12T04:03:54.231Z"
   },
   {
    "duration": 4,
    "start_time": "2022-04-12T04:03:54.246Z"
   },
   {
    "duration": 16,
    "start_time": "2022-04-12T04:03:54.251Z"
   },
   {
    "duration": 4,
    "start_time": "2022-04-12T04:03:54.268Z"
   },
   {
    "duration": 29,
    "start_time": "2022-04-12T04:03:54.273Z"
   },
   {
    "duration": 18,
    "start_time": "2022-04-12T04:03:54.323Z"
   },
   {
    "duration": 14,
    "start_time": "2022-04-12T04:03:54.343Z"
   },
   {
    "duration": 139,
    "start_time": "2022-04-12T04:03:54.359Z"
   },
   {
    "duration": 135,
    "start_time": "2022-04-12T04:03:54.500Z"
   },
   {
    "duration": 118,
    "start_time": "2022-04-12T04:03:54.637Z"
   },
   {
    "duration": 128,
    "start_time": "2022-04-12T04:03:54.758Z"
   },
   {
    "duration": 185,
    "start_time": "2022-04-12T04:03:54.888Z"
   },
   {
    "duration": 123,
    "start_time": "2022-04-12T04:03:55.074Z"
   },
   {
    "duration": 114,
    "start_time": "2022-04-12T04:03:55.198Z"
   },
   {
    "duration": 122,
    "start_time": "2022-04-12T04:03:55.314Z"
   },
   {
    "duration": 62,
    "start_time": "2022-04-12T04:03:55.437Z"
   },
   {
    "duration": 0,
    "start_time": "2022-04-12T04:03:55.501Z"
   },
   {
    "duration": 0,
    "start_time": "2022-04-12T04:03:55.502Z"
   },
   {
    "duration": 0,
    "start_time": "2022-04-12T04:03:55.503Z"
   },
   {
    "duration": 0,
    "start_time": "2022-04-12T04:03:55.504Z"
   },
   {
    "duration": 3,
    "start_time": "2022-04-12T04:04:45.205Z"
   },
   {
    "duration": 78,
    "start_time": "2022-04-12T04:04:45.211Z"
   },
   {
    "duration": 49,
    "start_time": "2022-04-12T04:04:45.290Z"
   },
   {
    "duration": 12,
    "start_time": "2022-04-12T04:04:45.340Z"
   },
   {
    "duration": 4,
    "start_time": "2022-04-12T04:04:45.354Z"
   },
   {
    "duration": 5,
    "start_time": "2022-04-12T04:04:45.360Z"
   },
   {
    "duration": 9,
    "start_time": "2022-04-12T04:04:45.366Z"
   },
   {
    "duration": 10,
    "start_time": "2022-04-12T04:04:45.376Z"
   },
   {
    "duration": 38,
    "start_time": "2022-04-12T04:04:45.387Z"
   },
   {
    "duration": 5,
    "start_time": "2022-04-12T04:04:45.426Z"
   },
   {
    "duration": 12121,
    "start_time": "2022-04-12T04:04:45.433Z"
   },
   {
    "duration": 0,
    "start_time": "2022-04-12T04:04:57.557Z"
   },
   {
    "duration": 0,
    "start_time": "2022-04-12T04:04:57.558Z"
   },
   {
    "duration": 0,
    "start_time": "2022-04-12T04:04:57.559Z"
   },
   {
    "duration": 0,
    "start_time": "2022-04-12T04:04:57.560Z"
   },
   {
    "duration": 0,
    "start_time": "2022-04-12T04:04:57.561Z"
   },
   {
    "duration": 0,
    "start_time": "2022-04-12T04:04:57.561Z"
   },
   {
    "duration": 0,
    "start_time": "2022-04-12T04:04:57.562Z"
   },
   {
    "duration": 0,
    "start_time": "2022-04-12T04:04:57.563Z"
   },
   {
    "duration": 0,
    "start_time": "2022-04-12T04:04:57.564Z"
   },
   {
    "duration": 0,
    "start_time": "2022-04-12T04:04:57.565Z"
   },
   {
    "duration": 0,
    "start_time": "2022-04-12T04:04:57.565Z"
   },
   {
    "duration": 0,
    "start_time": "2022-04-12T04:04:57.566Z"
   },
   {
    "duration": 0,
    "start_time": "2022-04-12T04:04:57.567Z"
   },
   {
    "duration": 0,
    "start_time": "2022-04-12T04:04:57.568Z"
   },
   {
    "duration": 0,
    "start_time": "2022-04-12T04:04:57.569Z"
   },
   {
    "duration": 0,
    "start_time": "2022-04-12T04:04:57.569Z"
   },
   {
    "duration": 0,
    "start_time": "2022-04-12T04:04:57.570Z"
   },
   {
    "duration": 0,
    "start_time": "2022-04-12T04:04:57.571Z"
   },
   {
    "duration": 0,
    "start_time": "2022-04-12T04:04:57.572Z"
   },
   {
    "duration": 0,
    "start_time": "2022-04-12T04:04:57.573Z"
   },
   {
    "duration": 0,
    "start_time": "2022-04-12T04:04:57.574Z"
   },
   {
    "duration": 0,
    "start_time": "2022-04-12T04:04:57.575Z"
   },
   {
    "duration": 0,
    "start_time": "2022-04-12T04:04:57.576Z"
   },
   {
    "duration": 0,
    "start_time": "2022-04-12T04:04:57.577Z"
   },
   {
    "duration": 0,
    "start_time": "2022-04-12T04:04:57.578Z"
   },
   {
    "duration": 0,
    "start_time": "2022-04-12T04:04:57.579Z"
   },
   {
    "duration": 0,
    "start_time": "2022-04-12T04:04:57.580Z"
   },
   {
    "duration": 0,
    "start_time": "2022-04-12T04:04:57.581Z"
   },
   {
    "duration": 0,
    "start_time": "2022-04-12T04:04:57.623Z"
   },
   {
    "duration": 0,
    "start_time": "2022-04-12T04:04:57.624Z"
   },
   {
    "duration": 0,
    "start_time": "2022-04-12T04:04:57.625Z"
   },
   {
    "duration": 627,
    "start_time": "2022-04-12T04:05:02.834Z"
   },
   {
    "duration": 76,
    "start_time": "2022-04-12T04:05:03.463Z"
   },
   {
    "duration": 48,
    "start_time": "2022-04-12T04:05:03.540Z"
   },
   {
    "duration": 15,
    "start_time": "2022-04-12T04:05:03.590Z"
   },
   {
    "duration": 19,
    "start_time": "2022-04-12T04:05:03.606Z"
   },
   {
    "duration": 5,
    "start_time": "2022-04-12T04:05:03.627Z"
   },
   {
    "duration": 9,
    "start_time": "2022-04-12T04:05:03.634Z"
   },
   {
    "duration": 9,
    "start_time": "2022-04-12T04:05:03.645Z"
   },
   {
    "duration": 13,
    "start_time": "2022-04-12T04:05:03.655Z"
   },
   {
    "duration": 9,
    "start_time": "2022-04-12T04:05:03.670Z"
   },
   {
    "duration": 45817,
    "start_time": "2022-04-12T04:05:03.680Z"
   },
   {
    "duration": 13,
    "start_time": "2022-04-12T04:05:49.498Z"
   },
   {
    "duration": 28,
    "start_time": "2022-04-12T04:05:49.513Z"
   },
   {
    "duration": 5,
    "start_time": "2022-04-12T04:05:49.542Z"
   },
   {
    "duration": 6,
    "start_time": "2022-04-12T04:05:49.548Z"
   },
   {
    "duration": 52346,
    "start_time": "2022-04-12T04:05:49.556Z"
   },
   {
    "duration": 29,
    "start_time": "2022-04-12T04:06:41.903Z"
   },
   {
    "duration": 4,
    "start_time": "2022-04-12T04:06:41.933Z"
   },
   {
    "duration": 10,
    "start_time": "2022-04-12T04:06:41.938Z"
   },
   {
    "duration": 3,
    "start_time": "2022-04-12T04:06:41.949Z"
   },
   {
    "duration": 34182,
    "start_time": "2022-04-12T04:06:41.953Z"
   },
   {
    "duration": 5,
    "start_time": "2022-04-12T04:07:16.136Z"
   },
   {
    "duration": 15,
    "start_time": "2022-04-12T04:07:16.142Z"
   },
   {
    "duration": 8,
    "start_time": "2022-04-12T04:07:16.158Z"
   },
   {
    "duration": 7,
    "start_time": "2022-04-12T04:07:16.167Z"
   },
   {
    "duration": 7,
    "start_time": "2022-04-12T04:07:16.176Z"
   },
   {
    "duration": 39,
    "start_time": "2022-04-12T04:07:16.184Z"
   },
   {
    "duration": 7,
    "start_time": "2022-04-12T04:07:16.227Z"
   },
   {
    "duration": 14,
    "start_time": "2022-04-12T04:07:16.235Z"
   },
   {
    "duration": 4,
    "start_time": "2022-04-12T04:07:16.251Z"
   },
   {
    "duration": 15,
    "start_time": "2022-04-12T04:07:16.257Z"
   },
   {
    "duration": 3,
    "start_time": "2022-04-12T04:07:16.274Z"
   },
   {
    "duration": 52,
    "start_time": "2022-04-12T04:07:16.279Z"
   },
   {
    "duration": 19,
    "start_time": "2022-04-12T04:07:16.333Z"
   },
   {
    "duration": 14,
    "start_time": "2022-04-12T04:07:16.353Z"
   },
   {
    "duration": 133,
    "start_time": "2022-04-12T04:07:16.368Z"
   },
   {
    "duration": 131,
    "start_time": "2022-04-12T04:07:16.503Z"
   },
   {
    "duration": 114,
    "start_time": "2022-04-12T04:07:16.635Z"
   },
   {
    "duration": 115,
    "start_time": "2022-04-12T04:07:16.750Z"
   },
   {
    "duration": 158,
    "start_time": "2022-04-12T04:07:16.867Z"
   },
   {
    "duration": 120,
    "start_time": "2022-04-12T04:07:17.026Z"
   },
   {
    "duration": 124,
    "start_time": "2022-04-12T04:07:17.147Z"
   },
   {
    "duration": 119,
    "start_time": "2022-04-12T04:07:17.272Z"
   },
   {
    "duration": 8,
    "start_time": "2022-04-12T04:07:17.393Z"
   },
   {
    "duration": 22,
    "start_time": "2022-04-12T04:07:17.402Z"
   },
   {
    "duration": 233,
    "start_time": "2022-04-12T04:07:17.426Z"
   },
   {
    "duration": 0,
    "start_time": "2022-04-12T04:07:17.660Z"
   },
   {
    "duration": 8,
    "start_time": "2022-04-12T04:10:42.535Z"
   },
   {
    "duration": 166,
    "start_time": "2022-04-12T04:10:48.994Z"
   },
   {
    "duration": 32,
    "start_time": "2022-04-12T04:11:33.273Z"
   },
   {
    "duration": 25,
    "start_time": "2022-04-12T04:12:53.856Z"
   },
   {
    "duration": 7,
    "start_time": "2022-04-12T04:14:56.488Z"
   },
   {
    "duration": 2,
    "start_time": "2022-04-12T04:14:56.551Z"
   },
   {
    "duration": 26,
    "start_time": "2022-04-12T04:15:05.938Z"
   },
   {
    "duration": 138,
    "start_time": "2022-04-12T04:16:23.604Z"
   },
   {
    "duration": 27,
    "start_time": "2022-04-12T04:16:29.029Z"
   },
   {
    "duration": 71,
    "start_time": "2022-04-12T04:20:18.903Z"
   },
   {
    "duration": 79,
    "start_time": "2022-04-12T04:20:34.817Z"
   },
   {
    "duration": 68,
    "start_time": "2022-04-12T04:20:59.540Z"
   },
   {
    "duration": 72,
    "start_time": "2022-04-12T04:21:47.250Z"
   },
   {
    "duration": 14,
    "start_time": "2022-04-12T04:22:23.536Z"
   },
   {
    "duration": 159,
    "start_time": "2022-04-12T04:22:46.536Z"
   },
   {
    "duration": 146,
    "start_time": "2022-04-12T04:23:27.919Z"
   },
   {
    "duration": 145,
    "start_time": "2022-04-12T04:23:29.885Z"
   },
   {
    "duration": 124,
    "start_time": "2022-04-12T04:24:33.325Z"
   },
   {
    "duration": 124,
    "start_time": "2022-04-12T04:24:37.832Z"
   },
   {
    "duration": 123,
    "start_time": "2022-04-12T04:24:48.754Z"
   },
   {
    "duration": 112,
    "start_time": "2022-04-12T04:25:12.919Z"
   },
   {
    "duration": 184,
    "start_time": "2022-04-12T04:25:29.810Z"
   },
   {
    "duration": 109,
    "start_time": "2022-04-12T04:25:37.642Z"
   },
   {
    "duration": 107,
    "start_time": "2022-04-12T04:27:24.602Z"
   },
   {
    "duration": 102,
    "start_time": "2022-04-12T04:27:41.101Z"
   },
   {
    "duration": 104,
    "start_time": "2022-04-12T04:27:52.140Z"
   },
   {
    "duration": 7,
    "start_time": "2022-04-12T04:29:43.884Z"
   },
   {
    "duration": 17,
    "start_time": "2022-04-12T04:29:58.521Z"
   },
   {
    "duration": 8,
    "start_time": "2022-04-12T04:31:22.365Z"
   },
   {
    "duration": 27,
    "start_time": "2022-04-12T04:32:44.141Z"
   },
   {
    "duration": 26,
    "start_time": "2022-04-12T04:32:57.819Z"
   },
   {
    "duration": 29,
    "start_time": "2022-04-12T04:36:20.435Z"
   },
   {
    "duration": 24,
    "start_time": "2022-04-12T04:37:17.277Z"
   },
   {
    "duration": 28,
    "start_time": "2022-04-12T04:37:28.199Z"
   },
   {
    "duration": 107,
    "start_time": "2022-04-12T04:38:23.051Z"
   },
   {
    "duration": 113,
    "start_time": "2022-04-12T04:39:02.044Z"
   },
   {
    "duration": 7,
    "start_time": "2022-04-12T05:14:52.370Z"
   },
   {
    "duration": 8,
    "start_time": "2022-04-12T05:15:13.263Z"
   },
   {
    "duration": 10,
    "start_time": "2022-04-12T05:17:28.228Z"
   },
   {
    "duration": 10,
    "start_time": "2022-04-12T05:17:44.244Z"
   },
   {
    "duration": 18,
    "start_time": "2022-04-12T05:18:28.306Z"
   },
   {
    "duration": 17,
    "start_time": "2022-04-12T05:19:16.989Z"
   },
   {
    "duration": 18,
    "start_time": "2022-04-12T05:19:22.130Z"
   },
   {
    "duration": 6,
    "start_time": "2022-04-12T05:21:40.496Z"
   },
   {
    "duration": 6,
    "start_time": "2022-04-12T05:21:45.209Z"
   },
   {
    "duration": 7,
    "start_time": "2022-04-12T05:21:54.586Z"
   },
   {
    "duration": 25,
    "start_time": "2022-04-12T05:22:48.250Z"
   },
   {
    "duration": 127,
    "start_time": "2022-04-12T05:23:03.354Z"
   },
   {
    "duration": 130,
    "start_time": "2022-04-12T05:23:07.156Z"
   },
   {
    "duration": 21,
    "start_time": "2022-04-12T05:23:12.388Z"
   },
   {
    "duration": 14,
    "start_time": "2022-04-12T05:24:17.503Z"
   },
   {
    "duration": 12,
    "start_time": "2022-04-12T05:24:36.262Z"
   },
   {
    "duration": 133,
    "start_time": "2022-04-12T05:24:56.364Z"
   },
   {
    "duration": 149,
    "start_time": "2022-04-12T05:25:20.262Z"
   },
   {
    "duration": 144,
    "start_time": "2022-04-12T05:26:02.992Z"
   },
   {
    "duration": 7,
    "start_time": "2022-04-12T05:28:40.274Z"
   },
   {
    "duration": 17,
    "start_time": "2022-04-12T05:28:52.549Z"
   },
   {
    "duration": 135,
    "start_time": "2022-04-12T05:28:57.964Z"
   },
   {
    "duration": 31,
    "start_time": "2022-04-12T05:29:36.100Z"
   },
   {
    "duration": 6313,
    "start_time": "2022-04-12T05:30:29.398Z"
   },
   {
    "duration": 128,
    "start_time": "2022-04-12T05:33:12.109Z"
   },
   {
    "duration": 14,
    "start_time": "2022-04-12T05:33:22.760Z"
   },
   {
    "duration": 10,
    "start_time": "2022-04-12T05:33:33.520Z"
   },
   {
    "duration": 126,
    "start_time": "2022-04-12T05:35:04.094Z"
   },
   {
    "duration": 5264,
    "start_time": "2022-04-12T05:35:24.908Z"
   },
   {
    "duration": 7039,
    "start_time": "2022-04-12T05:35:37.605Z"
   },
   {
    "duration": 26,
    "start_time": "2022-04-12T05:36:43.143Z"
   },
   {
    "duration": 26,
    "start_time": "2022-04-12T05:37:15.138Z"
   },
   {
    "duration": 13,
    "start_time": "2022-04-12T05:38:35.862Z"
   },
   {
    "duration": 108,
    "start_time": "2022-04-12T05:38:39.240Z"
   },
   {
    "duration": 98,
    "start_time": "2022-04-12T05:38:43.852Z"
   },
   {
    "duration": 107,
    "start_time": "2022-04-12T05:38:47.499Z"
   },
   {
    "duration": 9,
    "start_time": "2022-04-12T05:38:52.412Z"
   },
   {
    "duration": 113,
    "start_time": "2022-04-12T05:38:55.586Z"
   },
   {
    "duration": 125,
    "start_time": "2022-04-12T05:38:59.716Z"
   },
   {
    "duration": 7,
    "start_time": "2022-04-12T05:39:05.011Z"
   },
   {
    "duration": 17,
    "start_time": "2022-04-12T05:39:14.360Z"
   },
   {
    "duration": 135,
    "start_time": "2022-04-12T05:39:18.156Z"
   },
   {
    "duration": 11,
    "start_time": "2022-04-12T05:39:23.811Z"
   },
   {
    "duration": 20312,
    "start_time": "2022-04-12T05:39:31.087Z"
   },
   {
    "duration": 20483,
    "start_time": "2022-04-12T05:40:11.537Z"
   },
   {
    "duration": 20516,
    "start_time": "2022-04-12T05:41:07.393Z"
   },
   {
    "duration": 1501,
    "start_time": "2022-04-12T05:42:26.667Z"
   },
   {
    "duration": 27,
    "start_time": "2022-04-12T05:42:57.017Z"
   },
   {
    "duration": 24,
    "start_time": "2022-04-12T05:43:08.940Z"
   },
   {
    "duration": 12,
    "start_time": "2022-04-12T05:43:22.529Z"
   },
   {
    "duration": 18,
    "start_time": "2022-04-12T05:43:32.697Z"
   },
   {
    "duration": 4515,
    "start_time": "2022-04-12T05:43:50.688Z"
   },
   {
    "duration": 11,
    "start_time": "2022-04-12T05:47:11.056Z"
   },
   {
    "duration": 10,
    "start_time": "2022-04-12T05:47:25.283Z"
   },
   {
    "duration": 1103,
    "start_time": "2022-04-13T03:20:17.285Z"
   },
   {
    "duration": 504,
    "start_time": "2022-04-13T03:20:18.391Z"
   },
   {
    "duration": 60,
    "start_time": "2022-04-13T03:20:18.897Z"
   },
   {
    "duration": 18,
    "start_time": "2022-04-13T03:20:18.959Z"
   },
   {
    "duration": 12,
    "start_time": "2022-04-13T03:20:18.980Z"
   },
   {
    "duration": 5,
    "start_time": "2022-04-13T03:20:18.994Z"
   },
   {
    "duration": 22,
    "start_time": "2022-04-13T03:20:19.001Z"
   },
   {
    "duration": 11,
    "start_time": "2022-04-13T03:20:19.026Z"
   },
   {
    "duration": 14,
    "start_time": "2022-04-13T03:20:19.039Z"
   },
   {
    "duration": 5,
    "start_time": "2022-04-13T03:20:19.055Z"
   },
   {
    "duration": 56007,
    "start_time": "2022-04-13T03:20:19.061Z"
   },
   {
    "duration": 15,
    "start_time": "2022-04-13T03:21:15.070Z"
   },
   {
    "duration": 40,
    "start_time": "2022-04-13T03:21:15.087Z"
   },
   {
    "duration": 5,
    "start_time": "2022-04-13T03:21:15.134Z"
   },
   {
    "duration": 4,
    "start_time": "2022-04-13T03:21:15.141Z"
   },
   {
    "duration": 62944,
    "start_time": "2022-04-13T03:21:15.146Z"
   },
   {
    "duration": 39,
    "start_time": "2022-04-13T03:22:18.092Z"
   },
   {
    "duration": 5,
    "start_time": "2022-04-13T03:22:18.134Z"
   },
   {
    "duration": 11,
    "start_time": "2022-04-13T03:22:18.141Z"
   },
   {
    "duration": 3,
    "start_time": "2022-04-13T03:22:18.153Z"
   },
   {
    "duration": 41287,
    "start_time": "2022-04-13T03:22:18.158Z"
   },
   {
    "duration": 5,
    "start_time": "2022-04-13T03:22:59.447Z"
   },
   {
    "duration": 20,
    "start_time": "2022-04-13T03:22:59.454Z"
   },
   {
    "duration": 9,
    "start_time": "2022-04-13T03:22:59.475Z"
   },
   {
    "duration": 8,
    "start_time": "2022-04-13T03:22:59.485Z"
   },
   {
    "duration": 36,
    "start_time": "2022-04-13T03:22:59.494Z"
   },
   {
    "duration": 14,
    "start_time": "2022-04-13T03:22:59.532Z"
   },
   {
    "duration": 9,
    "start_time": "2022-04-13T03:22:59.548Z"
   },
   {
    "duration": 15,
    "start_time": "2022-04-13T03:22:59.559Z"
   },
   {
    "duration": 5,
    "start_time": "2022-04-13T03:22:59.575Z"
   },
   {
    "duration": 43,
    "start_time": "2022-04-13T03:22:59.582Z"
   },
   {
    "duration": 7,
    "start_time": "2022-04-13T03:22:59.627Z"
   },
   {
    "duration": 44,
    "start_time": "2022-04-13T03:22:59.636Z"
   },
   {
    "duration": 20,
    "start_time": "2022-04-13T03:22:59.682Z"
   },
   {
    "duration": 16,
    "start_time": "2022-04-13T03:22:59.722Z"
   },
   {
    "duration": 141,
    "start_time": "2022-04-13T03:22:59.740Z"
   },
   {
    "duration": 149,
    "start_time": "2022-04-13T03:22:59.883Z"
   },
   {
    "duration": 163,
    "start_time": "2022-04-13T03:23:00.034Z"
   },
   {
    "duration": 165,
    "start_time": "2022-04-13T03:23:00.199Z"
   },
   {
    "duration": 207,
    "start_time": "2022-04-13T03:23:00.366Z"
   },
   {
    "duration": 144,
    "start_time": "2022-04-13T03:23:00.578Z"
   },
   {
    "duration": 130,
    "start_time": "2022-04-13T03:23:00.725Z"
   },
   {
    "duration": 156,
    "start_time": "2022-04-13T03:23:00.857Z"
   },
   {
    "duration": 15,
    "start_time": "2022-04-13T03:23:01.015Z"
   },
   {
    "duration": 38,
    "start_time": "2022-04-13T03:23:01.032Z"
   },
   {
    "duration": 41,
    "start_time": "2022-04-13T03:23:01.072Z"
   },
   {
    "duration": 16,
    "start_time": "2022-04-13T03:23:01.114Z"
   },
   {
    "duration": 149,
    "start_time": "2022-04-13T03:23:01.132Z"
   },
   {
    "duration": 146,
    "start_time": "2022-04-13T03:23:01.283Z"
   },
   {
    "duration": 138,
    "start_time": "2022-04-13T03:23:01.431Z"
   },
   {
    "duration": 131,
    "start_time": "2022-04-13T03:23:01.571Z"
   },
   {
    "duration": 133,
    "start_time": "2022-04-13T03:23:01.703Z"
   },
   {
    "duration": 156,
    "start_time": "2022-04-13T03:23:01.838Z"
   },
   {
    "duration": 9,
    "start_time": "2022-04-13T03:23:01.996Z"
   },
   {
    "duration": 178,
    "start_time": "2022-04-13T03:23:02.006Z"
   },
   {
    "duration": 228,
    "start_time": "2022-04-13T03:23:02.185Z"
   },
   {
    "duration": 13,
    "start_time": "2022-04-13T03:23:02.414Z"
   },
   {
    "duration": 30,
    "start_time": "2022-04-13T03:23:02.430Z"
   },
   {
    "duration": 162,
    "start_time": "2022-04-13T03:23:02.462Z"
   },
   {
    "duration": 11,
    "start_time": "2022-04-13T03:23:02.626Z"
   },
   {
    "duration": 26,
    "start_time": "2022-04-13T03:23:02.639Z"
   },
   {
    "duration": 96,
    "start_time": "2022-04-13T03:23:02.666Z"
   },
   {
    "duration": 7,
    "start_time": "2022-04-13T03:23:39.187Z"
   },
   {
    "duration": 13,
    "start_time": "2022-04-13T03:24:38.912Z"
   },
   {
    "duration": 3075,
    "start_time": "2022-04-13T03:25:17.370Z"
   },
   {
    "duration": 22,
    "start_time": "2022-04-13T03:25:39.624Z"
   },
   {
    "duration": 37,
    "start_time": "2022-04-13T03:26:14.357Z"
   },
   {
    "duration": 22,
    "start_time": "2022-04-13T03:26:36.608Z"
   },
   {
    "duration": 27,
    "start_time": "2022-04-13T03:27:12.379Z"
   },
   {
    "duration": 10,
    "start_time": "2022-04-13T03:28:24.345Z"
   },
   {
    "duration": 11,
    "start_time": "2022-04-13T03:28:39.333Z"
   },
   {
    "duration": 2819,
    "start_time": "2022-04-13T03:30:23.782Z"
   },
   {
    "duration": 21,
    "start_time": "2022-04-13T03:30:42.047Z"
   },
   {
    "duration": 30,
    "start_time": "2022-04-13T03:31:14.465Z"
   },
   {
    "duration": 27,
    "start_time": "2022-04-13T03:31:20.473Z"
   },
   {
    "duration": 170,
    "start_time": "2022-04-13T03:31:41.547Z"
   },
   {
    "duration": 13,
    "start_time": "2022-04-13T03:31:48.299Z"
   },
   {
    "duration": 18,
    "start_time": "2022-04-13T03:31:56.988Z"
   },
   {
    "duration": 21,
    "start_time": "2022-04-13T03:32:29.412Z"
   },
   {
    "duration": 20,
    "start_time": "2022-04-13T03:32:57.209Z"
   },
   {
    "duration": 10,
    "start_time": "2022-04-13T03:33:39.792Z"
   },
   {
    "duration": 2759,
    "start_time": "2022-04-13T03:33:54.506Z"
   },
   {
    "duration": 12,
    "start_time": "2022-04-13T03:35:12.019Z"
   },
   {
    "duration": 11,
    "start_time": "2022-04-13T03:36:26.592Z"
   },
   {
    "duration": 12,
    "start_time": "2022-04-13T03:36:37.608Z"
   },
   {
    "duration": 935,
    "start_time": "2022-04-13T03:37:41.348Z"
   },
   {
    "duration": 834,
    "start_time": "2022-04-13T03:37:49.963Z"
   },
   {
    "duration": 13,
    "start_time": "2022-04-13T03:38:08.429Z"
   },
   {
    "duration": 12,
    "start_time": "2022-04-13T03:38:32.391Z"
   },
   {
    "duration": 10,
    "start_time": "2022-04-13T03:38:35.044Z"
   },
   {
    "duration": 1416,
    "start_time": "2022-04-13T03:38:37.720Z"
   },
   {
    "duration": 13,
    "start_time": "2022-04-13T03:40:30.678Z"
   },
   {
    "duration": 8,
    "start_time": "2022-04-13T03:40:45.876Z"
   },
   {
    "duration": 12,
    "start_time": "2022-04-13T03:40:57.556Z"
   },
   {
    "duration": 11,
    "start_time": "2022-04-13T03:41:04.048Z"
   },
   {
    "duration": 19,
    "start_time": "2022-04-13T03:41:28.855Z"
   },
   {
    "duration": 17,
    "start_time": "2022-04-13T03:42:49.097Z"
   },
   {
    "duration": 16,
    "start_time": "2022-04-13T03:43:06.681Z"
   },
   {
    "duration": 17,
    "start_time": "2022-04-13T03:43:53.080Z"
   },
   {
    "duration": 14,
    "start_time": "2022-04-13T03:44:14.936Z"
   },
   {
    "duration": 11,
    "start_time": "2022-04-13T03:44:28.162Z"
   },
   {
    "duration": 12,
    "start_time": "2022-04-13T03:44:36.640Z"
   },
   {
    "duration": 16,
    "start_time": "2022-04-13T03:44:45.745Z"
   },
   {
    "duration": 8,
    "start_time": "2022-04-13T03:45:33.429Z"
   },
   {
    "duration": 116,
    "start_time": "2022-04-13T03:45:55.765Z"
   },
   {
    "duration": 420,
    "start_time": "2022-04-13T03:47:49.090Z"
   },
   {
    "duration": 166,
    "start_time": "2022-04-13T03:48:06.336Z"
   },
   {
    "duration": 188,
    "start_time": "2022-04-13T03:48:25.399Z"
   },
   {
    "duration": 303,
    "start_time": "2022-04-13T03:48:30.611Z"
   },
   {
    "duration": 227,
    "start_time": "2022-04-13T03:48:59.167Z"
   },
   {
    "duration": 257,
    "start_time": "2022-04-13T03:49:05.356Z"
   },
   {
    "duration": 293,
    "start_time": "2022-04-13T03:53:43.713Z"
   },
   {
    "duration": 146,
    "start_time": "2022-04-13T03:54:07.845Z"
   },
   {
    "duration": 12,
    "start_time": "2022-04-13T03:54:55.576Z"
   },
   {
    "duration": 11,
    "start_time": "2022-04-13T03:55:21.553Z"
   },
   {
    "duration": 1573,
    "start_time": "2022-04-13T03:55:28.500Z"
   },
   {
    "duration": 17,
    "start_time": "2022-04-13T03:56:22.243Z"
   },
   {
    "duration": 11,
    "start_time": "2022-04-13T03:56:24.821Z"
   },
   {
    "duration": 1293,
    "start_time": "2022-04-13T03:56:29.283Z"
   },
   {
    "duration": 12,
    "start_time": "2022-04-13T03:56:58.641Z"
   },
   {
    "duration": 10,
    "start_time": "2022-04-13T03:57:00.738Z"
   },
   {
    "duration": 11,
    "start_time": "2022-04-13T03:57:27.083Z"
   },
   {
    "duration": 9,
    "start_time": "2022-04-13T03:57:30.105Z"
   },
   {
    "duration": 1239,
    "start_time": "2022-04-13T03:57:33.289Z"
   },
   {
    "duration": 16,
    "start_time": "2022-04-13T03:58:08.791Z"
   },
   {
    "duration": 14,
    "start_time": "2022-04-13T03:58:37.747Z"
   },
   {
    "duration": 168,
    "start_time": "2022-04-13T03:59:17.861Z"
   },
   {
    "duration": 180,
    "start_time": "2022-04-13T03:59:24.112Z"
   },
   {
    "duration": 11,
    "start_time": "2022-04-13T03:59:38.192Z"
   },
   {
    "duration": 300,
    "start_time": "2022-04-13T03:59:59.864Z"
   },
   {
    "duration": 287,
    "start_time": "2022-04-13T04:00:12.905Z"
   },
   {
    "duration": 320,
    "start_time": "2022-04-13T04:00:21.033Z"
   },
   {
    "duration": 882,
    "start_time": "2022-04-13T15:32:41.647Z"
   },
   {
    "duration": 101,
    "start_time": "2022-04-13T15:32:42.532Z"
   },
   {
    "duration": 59,
    "start_time": "2022-04-13T15:32:42.636Z"
   },
   {
    "duration": 30,
    "start_time": "2022-04-13T15:32:42.698Z"
   },
   {
    "duration": 3,
    "start_time": "2022-04-13T15:32:42.730Z"
   },
   {
    "duration": 10,
    "start_time": "2022-04-13T15:32:42.735Z"
   },
   {
    "duration": 14,
    "start_time": "2022-04-13T15:32:42.747Z"
   },
   {
    "duration": 11,
    "start_time": "2022-04-13T15:32:42.763Z"
   },
   {
    "duration": 47,
    "start_time": "2022-04-13T15:32:42.776Z"
   },
   {
    "duration": 14,
    "start_time": "2022-04-13T15:32:42.827Z"
   },
   {
    "duration": 5,
    "start_time": "2022-04-13T15:32:42.842Z"
   },
   {
    "duration": 125,
    "start_time": "2022-04-13T15:32:42.849Z"
   },
   {
    "duration": 0,
    "start_time": "2022-04-13T15:32:42.979Z"
   },
   {
    "duration": 0,
    "start_time": "2022-04-13T15:32:42.980Z"
   },
   {
    "duration": 1,
    "start_time": "2022-04-13T15:32:42.981Z"
   },
   {
    "duration": 0,
    "start_time": "2022-04-13T15:32:42.983Z"
   },
   {
    "duration": 0,
    "start_time": "2022-04-13T15:32:42.984Z"
   },
   {
    "duration": 0,
    "start_time": "2022-04-13T15:32:42.986Z"
   },
   {
    "duration": 0,
    "start_time": "2022-04-13T15:32:42.987Z"
   },
   {
    "duration": 0,
    "start_time": "2022-04-13T15:32:42.989Z"
   },
   {
    "duration": 0,
    "start_time": "2022-04-13T15:32:42.991Z"
   },
   {
    "duration": 0,
    "start_time": "2022-04-13T15:32:42.992Z"
   },
   {
    "duration": 0,
    "start_time": "2022-04-13T15:32:43.017Z"
   },
   {
    "duration": 0,
    "start_time": "2022-04-13T15:32:43.020Z"
   },
   {
    "duration": 0,
    "start_time": "2022-04-13T15:32:43.021Z"
   },
   {
    "duration": 0,
    "start_time": "2022-04-13T15:32:43.023Z"
   },
   {
    "duration": 0,
    "start_time": "2022-04-13T15:32:43.025Z"
   },
   {
    "duration": 0,
    "start_time": "2022-04-13T15:32:43.026Z"
   },
   {
    "duration": 0,
    "start_time": "2022-04-13T15:32:43.028Z"
   },
   {
    "duration": 0,
    "start_time": "2022-04-13T15:32:43.030Z"
   },
   {
    "duration": 0,
    "start_time": "2022-04-13T15:32:43.031Z"
   },
   {
    "duration": 0,
    "start_time": "2022-04-13T15:32:43.032Z"
   },
   {
    "duration": 0,
    "start_time": "2022-04-13T15:32:43.034Z"
   },
   {
    "duration": 0,
    "start_time": "2022-04-13T15:32:43.036Z"
   },
   {
    "duration": 0,
    "start_time": "2022-04-13T15:32:43.037Z"
   },
   {
    "duration": 0,
    "start_time": "2022-04-13T15:32:43.039Z"
   },
   {
    "duration": 1,
    "start_time": "2022-04-13T15:32:43.040Z"
   },
   {
    "duration": 0,
    "start_time": "2022-04-13T15:32:43.042Z"
   },
   {
    "duration": 0,
    "start_time": "2022-04-13T15:32:43.044Z"
   },
   {
    "duration": 0,
    "start_time": "2022-04-13T15:32:43.045Z"
   },
   {
    "duration": 0,
    "start_time": "2022-04-13T15:32:43.046Z"
   },
   {
    "duration": 0,
    "start_time": "2022-04-13T15:32:43.048Z"
   },
   {
    "duration": 0,
    "start_time": "2022-04-13T15:32:43.050Z"
   },
   {
    "duration": 0,
    "start_time": "2022-04-13T15:32:43.051Z"
   },
   {
    "duration": 0,
    "start_time": "2022-04-13T15:32:43.053Z"
   },
   {
    "duration": 0,
    "start_time": "2022-04-13T15:32:43.054Z"
   },
   {
    "duration": 0,
    "start_time": "2022-04-13T15:32:43.119Z"
   },
   {
    "duration": 0,
    "start_time": "2022-04-13T15:32:43.120Z"
   },
   {
    "duration": 1,
    "start_time": "2022-04-13T15:32:43.122Z"
   },
   {
    "duration": 0,
    "start_time": "2022-04-13T15:32:43.124Z"
   },
   {
    "duration": 0,
    "start_time": "2022-04-13T15:32:43.126Z"
   },
   {
    "duration": 0,
    "start_time": "2022-04-13T15:32:43.127Z"
   },
   {
    "duration": 0,
    "start_time": "2022-04-13T15:32:43.129Z"
   },
   {
    "duration": 0,
    "start_time": "2022-04-13T15:32:43.130Z"
   },
   {
    "duration": 0,
    "start_time": "2022-04-13T15:32:43.132Z"
   },
   {
    "duration": 0,
    "start_time": "2022-04-13T15:32:43.133Z"
   },
   {
    "duration": 0,
    "start_time": "2022-04-13T15:32:43.135Z"
   },
   {
    "duration": 0,
    "start_time": "2022-04-13T15:32:43.136Z"
   },
   {
    "duration": 0,
    "start_time": "2022-04-13T15:32:43.138Z"
   },
   {
    "duration": 0,
    "start_time": "2022-04-13T15:32:43.139Z"
   },
   {
    "duration": 0,
    "start_time": "2022-04-13T15:32:43.141Z"
   },
   {
    "duration": 0,
    "start_time": "2022-04-13T15:32:43.142Z"
   },
   {
    "duration": 0,
    "start_time": "2022-04-13T15:32:43.144Z"
   },
   {
    "duration": 0,
    "start_time": "2022-04-13T15:32:43.146Z"
   },
   {
    "duration": 0,
    "start_time": "2022-04-13T15:32:43.148Z"
   },
   {
    "duration": 0,
    "start_time": "2022-04-13T15:32:43.149Z"
   },
   {
    "duration": 0,
    "start_time": "2022-04-13T15:32:43.151Z"
   },
   {
    "duration": 0,
    "start_time": "2022-04-13T15:32:43.152Z"
   },
   {
    "duration": 0,
    "start_time": "2022-04-13T15:32:43.154Z"
   },
   {
    "duration": 0,
    "start_time": "2022-04-13T15:32:43.219Z"
   },
   {
    "duration": 0,
    "start_time": "2022-04-13T15:32:43.221Z"
   },
   {
    "duration": 0,
    "start_time": "2022-04-13T15:32:43.223Z"
   },
   {
    "duration": 0,
    "start_time": "2022-04-13T15:32:43.224Z"
   },
   {
    "duration": 0,
    "start_time": "2022-04-13T15:32:43.225Z"
   },
   {
    "duration": 791,
    "start_time": "2022-04-13T15:33:13.287Z"
   },
   {
    "duration": 97,
    "start_time": "2022-04-13T15:33:14.081Z"
   },
   {
    "duration": 71,
    "start_time": "2022-04-13T15:33:14.181Z"
   },
   {
    "duration": 19,
    "start_time": "2022-04-13T15:33:14.254Z"
   },
   {
    "duration": 33,
    "start_time": "2022-04-13T15:33:14.275Z"
   },
   {
    "duration": 30,
    "start_time": "2022-04-13T15:33:14.310Z"
   },
   {
    "duration": 29,
    "start_time": "2022-04-13T15:33:14.342Z"
   },
   {
    "duration": 30,
    "start_time": "2022-04-13T15:33:14.374Z"
   },
   {
    "duration": 26,
    "start_time": "2022-04-13T15:33:14.406Z"
   },
   {
    "duration": 33,
    "start_time": "2022-04-13T15:33:14.436Z"
   },
   {
    "duration": 27,
    "start_time": "2022-04-13T15:33:14.471Z"
   },
   {
    "duration": 770,
    "start_time": "2022-04-13T15:33:14.500Z"
   },
   {
    "duration": 16,
    "start_time": "2022-04-13T15:33:15.272Z"
   },
   {
    "duration": 41,
    "start_time": "2022-04-13T15:33:15.290Z"
   },
   {
    "duration": 4,
    "start_time": "2022-04-13T15:33:15.333Z"
   },
   {
    "duration": 9,
    "start_time": "2022-04-13T15:33:15.339Z"
   },
   {
    "duration": 25914,
    "start_time": "2022-04-13T15:33:15.350Z"
   },
   {
    "duration": 0,
    "start_time": "2022-04-13T15:33:41.268Z"
   },
   {
    "duration": 0,
    "start_time": "2022-04-13T15:33:41.269Z"
   },
   {
    "duration": 0,
    "start_time": "2022-04-13T15:33:41.270Z"
   },
   {
    "duration": 0,
    "start_time": "2022-04-13T15:33:41.271Z"
   },
   {
    "duration": 0,
    "start_time": "2022-04-13T15:33:41.272Z"
   },
   {
    "duration": 0,
    "start_time": "2022-04-13T15:33:41.273Z"
   },
   {
    "duration": 0,
    "start_time": "2022-04-13T15:33:41.275Z"
   },
   {
    "duration": 0,
    "start_time": "2022-04-13T15:33:41.276Z"
   },
   {
    "duration": 0,
    "start_time": "2022-04-13T15:33:41.277Z"
   },
   {
    "duration": 0,
    "start_time": "2022-04-13T15:33:41.278Z"
   },
   {
    "duration": 0,
    "start_time": "2022-04-13T15:33:41.279Z"
   },
   {
    "duration": 0,
    "start_time": "2022-04-13T15:33:41.280Z"
   },
   {
    "duration": 0,
    "start_time": "2022-04-13T15:33:41.281Z"
   },
   {
    "duration": 0,
    "start_time": "2022-04-13T15:33:41.282Z"
   },
   {
    "duration": 0,
    "start_time": "2022-04-13T15:33:41.284Z"
   },
   {
    "duration": 0,
    "start_time": "2022-04-13T15:33:41.285Z"
   },
   {
    "duration": 0,
    "start_time": "2022-04-13T15:33:41.286Z"
   },
   {
    "duration": 0,
    "start_time": "2022-04-13T15:33:41.319Z"
   },
   {
    "duration": 0,
    "start_time": "2022-04-13T15:33:41.320Z"
   },
   {
    "duration": 0,
    "start_time": "2022-04-13T15:33:41.321Z"
   },
   {
    "duration": 0,
    "start_time": "2022-04-13T15:33:41.322Z"
   },
   {
    "duration": 0,
    "start_time": "2022-04-13T15:33:41.324Z"
   },
   {
    "duration": 1,
    "start_time": "2022-04-13T15:33:41.325Z"
   },
   {
    "duration": 0,
    "start_time": "2022-04-13T15:33:41.327Z"
   },
   {
    "duration": 0,
    "start_time": "2022-04-13T15:33:41.328Z"
   },
   {
    "duration": 0,
    "start_time": "2022-04-13T15:33:41.330Z"
   },
   {
    "duration": 0,
    "start_time": "2022-04-13T15:33:41.331Z"
   },
   {
    "duration": 0,
    "start_time": "2022-04-13T15:33:41.331Z"
   },
   {
    "duration": 0,
    "start_time": "2022-04-13T15:33:41.333Z"
   },
   {
    "duration": 0,
    "start_time": "2022-04-13T15:33:41.334Z"
   },
   {
    "duration": 0,
    "start_time": "2022-04-13T15:33:41.335Z"
   },
   {
    "duration": 0,
    "start_time": "2022-04-13T15:33:41.336Z"
   },
   {
    "duration": 0,
    "start_time": "2022-04-13T15:33:41.338Z"
   },
   {
    "duration": 0,
    "start_time": "2022-04-13T15:33:41.339Z"
   },
   {
    "duration": 0,
    "start_time": "2022-04-13T15:33:41.340Z"
   },
   {
    "duration": 0,
    "start_time": "2022-04-13T15:33:41.340Z"
   },
   {
    "duration": 0,
    "start_time": "2022-04-13T15:33:41.341Z"
   },
   {
    "duration": 0,
    "start_time": "2022-04-13T15:33:41.343Z"
   },
   {
    "duration": 0,
    "start_time": "2022-04-13T15:33:41.344Z"
   },
   {
    "duration": 0,
    "start_time": "2022-04-13T15:33:41.345Z"
   },
   {
    "duration": 0,
    "start_time": "2022-04-13T15:33:41.348Z"
   },
   {
    "duration": 0,
    "start_time": "2022-04-13T15:33:41.349Z"
   },
   {
    "duration": 0,
    "start_time": "2022-04-13T15:33:41.350Z"
   },
   {
    "duration": 0,
    "start_time": "2022-04-13T15:33:41.351Z"
   },
   {
    "duration": 0,
    "start_time": "2022-04-13T15:33:41.352Z"
   },
   {
    "duration": 0,
    "start_time": "2022-04-13T15:33:41.353Z"
   },
   {
    "duration": 0,
    "start_time": "2022-04-13T15:33:41.419Z"
   },
   {
    "duration": 0,
    "start_time": "2022-04-13T15:33:41.419Z"
   },
   {
    "duration": 0,
    "start_time": "2022-04-13T15:33:41.420Z"
   },
   {
    "duration": 0,
    "start_time": "2022-04-13T15:33:41.421Z"
   },
   {
    "duration": 0,
    "start_time": "2022-04-13T15:33:41.422Z"
   },
   {
    "duration": 0,
    "start_time": "2022-04-13T15:33:41.423Z"
   },
   {
    "duration": 0,
    "start_time": "2022-04-13T15:33:41.424Z"
   },
   {
    "duration": 0,
    "start_time": "2022-04-13T15:33:41.425Z"
   },
   {
    "duration": 0,
    "start_time": "2022-04-13T15:33:41.426Z"
   },
   {
    "duration": 0,
    "start_time": "2022-04-13T15:33:41.427Z"
   },
   {
    "duration": 0,
    "start_time": "2022-04-13T15:33:41.428Z"
   },
   {
    "duration": 764,
    "start_time": "2022-04-13T15:34:32.991Z"
   },
   {
    "duration": 93,
    "start_time": "2022-04-13T15:34:33.758Z"
   },
   {
    "duration": 68,
    "start_time": "2022-04-13T15:34:33.853Z"
   },
   {
    "duration": 18,
    "start_time": "2022-04-13T15:34:33.923Z"
   },
   {
    "duration": 9,
    "start_time": "2022-04-13T15:34:33.944Z"
   },
   {
    "duration": 17,
    "start_time": "2022-04-13T15:34:33.955Z"
   },
   {
    "duration": 21,
    "start_time": "2022-04-13T15:34:33.974Z"
   },
   {
    "duration": 22,
    "start_time": "2022-04-13T15:34:33.997Z"
   },
   {
    "duration": 16,
    "start_time": "2022-04-13T15:34:34.021Z"
   },
   {
    "duration": 15,
    "start_time": "2022-04-13T15:34:34.039Z"
   },
   {
    "duration": 10,
    "start_time": "2022-04-13T15:34:34.056Z"
   },
   {
    "duration": 784,
    "start_time": "2022-04-13T15:34:34.068Z"
   },
   {
    "duration": 16,
    "start_time": "2022-04-13T15:34:34.854Z"
   },
   {
    "duration": 46,
    "start_time": "2022-04-13T15:34:34.874Z"
   },
   {
    "duration": 5,
    "start_time": "2022-04-13T15:34:34.922Z"
   },
   {
    "duration": 28,
    "start_time": "2022-04-13T15:34:34.929Z"
   },
   {
    "duration": 3,
    "start_time": "2022-04-13T15:34:34.960Z"
   },
   {
    "duration": 670,
    "start_time": "2022-04-13T15:34:34.964Z"
   },
   {
    "duration": 32,
    "start_time": "2022-04-13T15:34:35.636Z"
   },
   {
    "duration": 8,
    "start_time": "2022-04-13T15:34:35.669Z"
   },
   {
    "duration": 19,
    "start_time": "2022-04-13T15:34:35.679Z"
   },
   {
    "duration": 18,
    "start_time": "2022-04-13T15:34:35.700Z"
   },
   {
    "duration": 16396,
    "start_time": "2022-04-13T15:34:35.720Z"
   },
   {
    "duration": 0,
    "start_time": "2022-04-13T15:34:52.120Z"
   },
   {
    "duration": 0,
    "start_time": "2022-04-13T15:34:52.121Z"
   },
   {
    "duration": 0,
    "start_time": "2022-04-13T15:34:52.122Z"
   },
   {
    "duration": 0,
    "start_time": "2022-04-13T15:34:52.123Z"
   },
   {
    "duration": 0,
    "start_time": "2022-04-13T15:34:52.124Z"
   },
   {
    "duration": 0,
    "start_time": "2022-04-13T15:34:52.125Z"
   },
   {
    "duration": 0,
    "start_time": "2022-04-13T15:34:52.126Z"
   },
   {
    "duration": 0,
    "start_time": "2022-04-13T15:34:52.127Z"
   },
   {
    "duration": 0,
    "start_time": "2022-04-13T15:34:52.128Z"
   },
   {
    "duration": 0,
    "start_time": "2022-04-13T15:34:52.129Z"
   },
   {
    "duration": 0,
    "start_time": "2022-04-13T15:34:52.130Z"
   },
   {
    "duration": 0,
    "start_time": "2022-04-13T15:34:52.132Z"
   },
   {
    "duration": 0,
    "start_time": "2022-04-13T15:34:52.133Z"
   },
   {
    "duration": 0,
    "start_time": "2022-04-13T15:34:52.134Z"
   },
   {
    "duration": 0,
    "start_time": "2022-04-13T15:34:52.136Z"
   },
   {
    "duration": 0,
    "start_time": "2022-04-13T15:34:52.137Z"
   },
   {
    "duration": 0,
    "start_time": "2022-04-13T15:34:52.138Z"
   },
   {
    "duration": 0,
    "start_time": "2022-04-13T15:34:52.139Z"
   },
   {
    "duration": 0,
    "start_time": "2022-04-13T15:34:52.140Z"
   },
   {
    "duration": 0,
    "start_time": "2022-04-13T15:34:52.141Z"
   },
   {
    "duration": 0,
    "start_time": "2022-04-13T15:34:52.142Z"
   },
   {
    "duration": 0,
    "start_time": "2022-04-13T15:34:52.143Z"
   },
   {
    "duration": 0,
    "start_time": "2022-04-13T15:34:52.144Z"
   },
   {
    "duration": 0,
    "start_time": "2022-04-13T15:34:52.145Z"
   },
   {
    "duration": 0,
    "start_time": "2022-04-13T15:34:52.146Z"
   },
   {
    "duration": 0,
    "start_time": "2022-04-13T15:34:52.147Z"
   },
   {
    "duration": 0,
    "start_time": "2022-04-13T15:34:52.148Z"
   },
   {
    "duration": 0,
    "start_time": "2022-04-13T15:34:52.149Z"
   },
   {
    "duration": 0,
    "start_time": "2022-04-13T15:34:52.150Z"
   },
   {
    "duration": 0,
    "start_time": "2022-04-13T15:34:52.151Z"
   },
   {
    "duration": 0,
    "start_time": "2022-04-13T15:34:52.152Z"
   },
   {
    "duration": 0,
    "start_time": "2022-04-13T15:34:52.153Z"
   },
   {
    "duration": 0,
    "start_time": "2022-04-13T15:34:52.155Z"
   },
   {
    "duration": 0,
    "start_time": "2022-04-13T15:34:52.157Z"
   },
   {
    "duration": 0,
    "start_time": "2022-04-13T15:34:52.158Z"
   },
   {
    "duration": 0,
    "start_time": "2022-04-13T15:34:52.159Z"
   },
   {
    "duration": 0,
    "start_time": "2022-04-13T15:34:52.220Z"
   },
   {
    "duration": 0,
    "start_time": "2022-04-13T15:34:52.221Z"
   },
   {
    "duration": 0,
    "start_time": "2022-04-13T15:34:52.222Z"
   },
   {
    "duration": 0,
    "start_time": "2022-04-13T15:34:52.224Z"
   },
   {
    "duration": 0,
    "start_time": "2022-04-13T15:34:52.225Z"
   },
   {
    "duration": 0,
    "start_time": "2022-04-13T15:34:52.226Z"
   },
   {
    "duration": 0,
    "start_time": "2022-04-13T15:34:52.227Z"
   },
   {
    "duration": 0,
    "start_time": "2022-04-13T15:34:52.228Z"
   },
   {
    "duration": 0,
    "start_time": "2022-04-13T15:34:52.230Z"
   },
   {
    "duration": 0,
    "start_time": "2022-04-13T15:34:52.231Z"
   },
   {
    "duration": 0,
    "start_time": "2022-04-13T15:34:52.232Z"
   },
   {
    "duration": 0,
    "start_time": "2022-04-13T15:34:52.233Z"
   },
   {
    "duration": 0,
    "start_time": "2022-04-13T15:34:52.234Z"
   },
   {
    "duration": 0,
    "start_time": "2022-04-13T15:34:52.236Z"
   },
   {
    "duration": 0,
    "start_time": "2022-04-13T15:34:52.237Z"
   },
   {
    "duration": 0,
    "start_time": "2022-04-13T15:34:52.239Z"
   },
   {
    "duration": 769,
    "start_time": "2022-04-13T15:35:20.287Z"
   },
   {
    "duration": 98,
    "start_time": "2022-04-13T15:35:21.059Z"
   },
   {
    "duration": 63,
    "start_time": "2022-04-13T15:35:21.159Z"
   },
   {
    "duration": 20,
    "start_time": "2022-04-13T15:35:21.224Z"
   },
   {
    "duration": 18,
    "start_time": "2022-04-13T15:35:21.246Z"
   },
   {
    "duration": 32,
    "start_time": "2022-04-13T15:35:21.266Z"
   },
   {
    "duration": 34,
    "start_time": "2022-04-13T15:35:21.300Z"
   },
   {
    "duration": 32,
    "start_time": "2022-04-13T15:35:21.336Z"
   },
   {
    "duration": 28,
    "start_time": "2022-04-13T15:35:21.370Z"
   },
   {
    "duration": 24,
    "start_time": "2022-04-13T15:35:21.403Z"
   },
   {
    "duration": 33,
    "start_time": "2022-04-13T15:35:21.430Z"
   },
   {
    "duration": 769,
    "start_time": "2022-04-13T15:35:21.465Z"
   },
   {
    "duration": 17,
    "start_time": "2022-04-13T15:35:22.235Z"
   },
   {
    "duration": 48,
    "start_time": "2022-04-13T15:35:22.253Z"
   },
   {
    "duration": 9,
    "start_time": "2022-04-13T15:35:22.303Z"
   },
   {
    "duration": 46,
    "start_time": "2022-04-13T15:35:22.318Z"
   },
   {
    "duration": 12,
    "start_time": "2022-04-13T15:35:22.367Z"
   },
   {
    "duration": 702,
    "start_time": "2022-04-13T15:35:22.381Z"
   },
   {
    "duration": 42,
    "start_time": "2022-04-13T15:35:23.086Z"
   },
   {
    "duration": 6,
    "start_time": "2022-04-13T15:35:23.130Z"
   },
   {
    "duration": 14,
    "start_time": "2022-04-13T15:35:23.138Z"
   },
   {
    "duration": 14,
    "start_time": "2022-04-13T15:35:23.155Z"
   },
   {
    "duration": 4,
    "start_time": "2022-04-13T15:35:23.171Z"
   },
   {
    "duration": 699,
    "start_time": "2022-04-13T15:35:23.177Z"
   },
   {
    "duration": 4,
    "start_time": "2022-04-13T15:35:23.878Z"
   },
   {
    "duration": 22,
    "start_time": "2022-04-13T15:35:23.883Z"
   },
   {
    "duration": 15,
    "start_time": "2022-04-13T15:35:23.907Z"
   },
   {
    "duration": 10,
    "start_time": "2022-04-13T15:35:23.927Z"
   },
   {
    "duration": 11,
    "start_time": "2022-04-13T15:35:23.938Z"
   },
   {
    "duration": 25,
    "start_time": "2022-04-13T15:35:23.951Z"
   },
   {
    "duration": 21,
    "start_time": "2022-04-13T15:35:23.979Z"
   },
   {
    "duration": 30,
    "start_time": "2022-04-13T15:35:24.002Z"
   },
   {
    "duration": 20,
    "start_time": "2022-04-13T15:35:24.034Z"
   },
   {
    "duration": 33,
    "start_time": "2022-04-13T15:35:24.056Z"
   },
   {
    "duration": 18,
    "start_time": "2022-04-13T15:35:24.091Z"
   },
   {
    "duration": 51,
    "start_time": "2022-04-13T15:35:24.111Z"
   },
   {
    "duration": 24,
    "start_time": "2022-04-13T15:35:24.164Z"
   },
   {
    "duration": 16,
    "start_time": "2022-04-13T15:35:24.190Z"
   },
   {
    "duration": 147,
    "start_time": "2022-04-13T15:35:24.208Z"
   },
   {
    "duration": 161,
    "start_time": "2022-04-13T15:35:24.357Z"
   },
   {
    "duration": 139,
    "start_time": "2022-04-13T15:35:24.520Z"
   },
   {
    "duration": 134,
    "start_time": "2022-04-13T15:35:24.660Z"
   },
   {
    "duration": 196,
    "start_time": "2022-04-13T15:35:24.796Z"
   },
   {
    "duration": 146,
    "start_time": "2022-04-13T15:35:24.994Z"
   },
   {
    "duration": 134,
    "start_time": "2022-04-13T15:35:25.142Z"
   },
   {
    "duration": 130,
    "start_time": "2022-04-13T15:35:25.277Z"
   },
   {
    "duration": 16,
    "start_time": "2022-04-13T15:35:25.409Z"
   },
   {
    "duration": 16,
    "start_time": "2022-04-13T15:35:25.427Z"
   },
   {
    "duration": 33,
    "start_time": "2022-04-13T15:35:25.445Z"
   },
   {
    "duration": 40,
    "start_time": "2022-04-13T15:35:25.480Z"
   },
   {
    "duration": 140,
    "start_time": "2022-04-13T15:35:25.522Z"
   },
   {
    "duration": 146,
    "start_time": "2022-04-13T15:35:25.664Z"
   },
   {
    "duration": 134,
    "start_time": "2022-04-13T15:35:25.811Z"
   },
   {
    "duration": 138,
    "start_time": "2022-04-13T15:35:25.947Z"
   },
   {
    "duration": 139,
    "start_time": "2022-04-13T15:35:26.087Z"
   },
   {
    "duration": 142,
    "start_time": "2022-04-13T15:35:26.228Z"
   },
   {
    "duration": 9,
    "start_time": "2022-04-13T15:35:26.372Z"
   },
   {
    "duration": 149,
    "start_time": "2022-04-13T15:35:26.383Z"
   },
   {
    "duration": 224,
    "start_time": "2022-04-13T15:35:26.534Z"
   },
   {
    "duration": 9,
    "start_time": "2022-04-13T15:35:26.760Z"
   },
   {
    "duration": 25,
    "start_time": "2022-04-13T15:35:26.771Z"
   },
   {
    "duration": 180,
    "start_time": "2022-04-13T15:35:26.799Z"
   },
   {
    "duration": 14,
    "start_time": "2022-04-13T15:35:26.982Z"
   },
   {
    "duration": 38,
    "start_time": "2022-04-13T15:35:26.998Z"
   },
   {
    "duration": 15,
    "start_time": "2022-04-13T15:35:27.039Z"
   },
   {
    "duration": 19,
    "start_time": "2022-04-13T15:35:27.056Z"
   },
   {
    "duration": 1246,
    "start_time": "2022-04-13T15:35:27.077Z"
   },
   {
    "duration": 15,
    "start_time": "2022-04-13T15:35:28.325Z"
   },
   {
    "duration": 167,
    "start_time": "2022-04-13T15:35:28.342Z"
   },
   {
    "duration": 296,
    "start_time": "2022-04-13T15:35:28.519Z"
   },
   {
    "duration": 13,
    "start_time": "2022-04-13T15:35:28.818Z"
   },
   {
    "duration": 11,
    "start_time": "2022-04-13T15:35:28.834Z"
   },
   {
    "duration": 1348,
    "start_time": "2022-04-13T15:35:28.847Z"
   },
   {
    "duration": 23,
    "start_time": "2022-04-13T15:35:30.198Z"
   },
   {
    "duration": 174,
    "start_time": "2022-04-13T15:35:30.223Z"
   },
   {
    "duration": 286,
    "start_time": "2022-04-13T15:35:30.399Z"
   },
   {
    "duration": 90,
    "start_time": "2022-04-13T15:59:46.130Z"
   },
   {
    "duration": 162,
    "start_time": "2022-04-13T15:59:55.710Z"
   },
   {
    "duration": 144,
    "start_time": "2022-04-13T16:00:39.498Z"
   },
   {
    "duration": 14,
    "start_time": "2022-04-13T16:04:30.085Z"
   },
   {
    "duration": 51,
    "start_time": "2022-04-13T16:04:40.582Z"
   },
   {
    "duration": 22,
    "start_time": "2022-04-13T16:04:52.554Z"
   },
   {
    "duration": 14,
    "start_time": "2022-04-13T16:05:03.210Z"
   },
   {
    "duration": 12,
    "start_time": "2022-04-13T16:05:28.806Z"
   },
   {
    "duration": 10,
    "start_time": "2022-04-13T16:05:57.157Z"
   },
   {
    "duration": 9,
    "start_time": "2022-04-13T16:06:09.528Z"
   },
   {
    "duration": 9,
    "start_time": "2022-04-13T16:06:16.573Z"
   },
   {
    "duration": 748,
    "start_time": "2022-04-13T16:24:26.198Z"
   },
   {
    "duration": 98,
    "start_time": "2022-04-13T16:24:26.949Z"
   },
   {
    "duration": 79,
    "start_time": "2022-04-13T16:24:27.048Z"
   },
   {
    "duration": 18,
    "start_time": "2022-04-13T16:24:27.130Z"
   },
   {
    "duration": 5,
    "start_time": "2022-04-13T16:24:27.150Z"
   },
   {
    "duration": 11,
    "start_time": "2022-04-13T16:24:27.157Z"
   },
   {
    "duration": 20,
    "start_time": "2022-04-13T16:24:27.170Z"
   },
   {
    "duration": 34,
    "start_time": "2022-04-13T16:24:27.192Z"
   },
   {
    "duration": 15,
    "start_time": "2022-04-13T16:24:27.229Z"
   },
   {
    "duration": 15,
    "start_time": "2022-04-13T16:24:27.248Z"
   },
   {
    "duration": 4,
    "start_time": "2022-04-13T16:24:27.265Z"
   },
   {
    "duration": 840,
    "start_time": "2022-04-13T16:24:27.271Z"
   },
   {
    "duration": 21,
    "start_time": "2022-04-13T16:24:28.113Z"
   },
   {
    "duration": 34,
    "start_time": "2022-04-13T16:24:28.136Z"
   },
   {
    "duration": 7,
    "start_time": "2022-04-13T16:24:28.172Z"
   },
   {
    "duration": 40,
    "start_time": "2022-04-13T16:24:28.181Z"
   },
   {
    "duration": 3,
    "start_time": "2022-04-13T16:24:28.224Z"
   },
   {
    "duration": 697,
    "start_time": "2022-04-13T16:24:28.229Z"
   },
   {
    "duration": 34,
    "start_time": "2022-04-13T16:24:28.928Z"
   },
   {
    "duration": 5,
    "start_time": "2022-04-13T16:24:28.964Z"
   },
   {
    "duration": 15,
    "start_time": "2022-04-13T16:24:28.970Z"
   },
   {
    "duration": 39,
    "start_time": "2022-04-13T16:24:28.987Z"
   },
   {
    "duration": 4,
    "start_time": "2022-04-13T16:24:29.028Z"
   },
   {
    "duration": 688,
    "start_time": "2022-04-13T16:24:29.034Z"
   },
   {
    "duration": 6,
    "start_time": "2022-04-13T16:24:29.724Z"
   },
   {
    "duration": 19,
    "start_time": "2022-04-13T16:24:29.732Z"
   },
   {
    "duration": 11,
    "start_time": "2022-04-13T16:24:29.753Z"
   },
   {
    "duration": 9,
    "start_time": "2022-04-13T16:24:29.769Z"
   },
   {
    "duration": 39,
    "start_time": "2022-04-13T16:24:29.780Z"
   },
   {
    "duration": 19,
    "start_time": "2022-04-13T16:24:29.820Z"
   },
   {
    "duration": 13,
    "start_time": "2022-04-13T16:24:29.841Z"
   },
   {
    "duration": 26,
    "start_time": "2022-04-13T16:24:29.856Z"
   },
   {
    "duration": 11,
    "start_time": "2022-04-13T16:24:29.885Z"
   },
   {
    "duration": 40,
    "start_time": "2022-04-13T16:24:29.898Z"
   },
   {
    "duration": 19,
    "start_time": "2022-04-13T16:24:29.940Z"
   },
   {
    "duration": 37,
    "start_time": "2022-04-13T16:24:29.961Z"
   },
   {
    "duration": 26,
    "start_time": "2022-04-13T16:24:30.001Z"
   },
   {
    "duration": 24,
    "start_time": "2022-04-13T16:24:30.030Z"
   },
   {
    "duration": 164,
    "start_time": "2022-04-13T16:24:30.056Z"
   },
   {
    "duration": 161,
    "start_time": "2022-04-13T16:24:30.222Z"
   },
   {
    "duration": 140,
    "start_time": "2022-04-13T16:24:30.385Z"
   },
   {
    "duration": 148,
    "start_time": "2022-04-13T16:24:30.527Z"
   },
   {
    "duration": 211,
    "start_time": "2022-04-13T16:24:30.677Z"
   },
   {
    "duration": 167,
    "start_time": "2022-04-13T16:24:30.891Z"
   },
   {
    "duration": 146,
    "start_time": "2022-04-13T16:24:31.060Z"
   },
   {
    "duration": 163,
    "start_time": "2022-04-13T16:24:31.208Z"
   },
   {
    "duration": 48,
    "start_time": "2022-04-13T16:24:31.374Z"
   },
   {
    "duration": 16,
    "start_time": "2022-04-13T16:24:31.425Z"
   },
   {
    "duration": 177,
    "start_time": "2022-04-13T16:24:31.443Z"
   },
   {
    "duration": 161,
    "start_time": "2022-04-13T16:24:31.621Z"
   },
   {
    "duration": 152,
    "start_time": "2022-04-13T16:24:31.784Z"
   },
   {
    "duration": 146,
    "start_time": "2022-04-13T16:24:31.938Z"
   },
   {
    "duration": 140,
    "start_time": "2022-04-13T16:24:32.087Z"
   },
   {
    "duration": 145,
    "start_time": "2022-04-13T16:24:32.229Z"
   },
   {
    "duration": 10,
    "start_time": "2022-04-13T16:24:32.376Z"
   },
   {
    "duration": 158,
    "start_time": "2022-04-13T16:24:32.388Z"
   },
   {
    "duration": 231,
    "start_time": "2022-04-13T16:24:32.548Z"
   },
   {
    "duration": 10,
    "start_time": "2022-04-13T16:24:32.781Z"
   },
   {
    "duration": 26,
    "start_time": "2022-04-13T16:24:32.793Z"
   },
   {
    "duration": 9,
    "start_time": "2022-04-13T16:24:32.821Z"
   },
   {
    "duration": 16,
    "start_time": "2022-04-13T16:24:32.832Z"
   },
   {
    "duration": 24,
    "start_time": "2022-04-13T16:24:32.850Z"
   },
   {
    "duration": 193,
    "start_time": "2022-04-13T16:24:32.876Z"
   },
   {
    "duration": 13,
    "start_time": "2022-04-13T16:24:33.070Z"
   },
   {
    "duration": 15,
    "start_time": "2022-04-13T16:24:33.084Z"
   },
   {
    "duration": 11,
    "start_time": "2022-04-13T16:24:33.118Z"
   },
   {
    "duration": 1396,
    "start_time": "2022-04-13T16:24:33.131Z"
   },
   {
    "duration": 17,
    "start_time": "2022-04-13T16:24:34.530Z"
   },
   {
    "duration": 260,
    "start_time": "2022-04-13T16:24:34.549Z"
   },
   {
    "duration": 423,
    "start_time": "2022-04-13T16:24:34.811Z"
   },
   {
    "duration": 18,
    "start_time": "2022-04-13T16:24:35.237Z"
   },
   {
    "duration": 11,
    "start_time": "2022-04-13T16:24:35.258Z"
   },
   {
    "duration": 1399,
    "start_time": "2022-04-13T16:24:35.270Z"
   },
   {
    "duration": 12,
    "start_time": "2022-04-13T16:24:36.671Z"
   },
   {
    "duration": 177,
    "start_time": "2022-04-13T16:24:36.685Z"
   },
   {
    "duration": 282,
    "start_time": "2022-04-13T16:24:36.864Z"
   },
   {
    "duration": 794,
    "start_time": "2022-04-14T11:02:32.301Z"
   },
   {
    "duration": 127,
    "start_time": "2022-04-14T11:02:33.097Z"
   },
   {
    "duration": 55,
    "start_time": "2022-04-14T11:02:33.226Z"
   },
   {
    "duration": 19,
    "start_time": "2022-04-14T11:02:33.284Z"
   },
   {
    "duration": 6,
    "start_time": "2022-04-14T11:02:33.304Z"
   },
   {
    "duration": 7,
    "start_time": "2022-04-14T11:02:33.311Z"
   },
   {
    "duration": 13,
    "start_time": "2022-04-14T11:02:33.320Z"
   },
   {
    "duration": 10,
    "start_time": "2022-04-14T11:02:33.335Z"
   },
   {
    "duration": 14,
    "start_time": "2022-04-14T11:02:33.372Z"
   },
   {
    "duration": 10,
    "start_time": "2022-04-14T11:02:33.389Z"
   },
   {
    "duration": 3,
    "start_time": "2022-04-14T11:02:33.401Z"
   },
   {
    "duration": 766,
    "start_time": "2022-04-14T11:02:33.406Z"
   },
   {
    "duration": 15,
    "start_time": "2022-04-14T11:02:34.174Z"
   },
   {
    "duration": 27,
    "start_time": "2022-04-14T11:02:34.190Z"
   },
   {
    "duration": 5,
    "start_time": "2022-04-14T11:02:34.218Z"
   },
   {
    "duration": 20,
    "start_time": "2022-04-14T11:02:34.224Z"
   },
   {
    "duration": 27,
    "start_time": "2022-04-14T11:02:34.246Z"
   },
   {
    "duration": 648,
    "start_time": "2022-04-14T11:02:34.275Z"
   },
   {
    "duration": 30,
    "start_time": "2022-04-14T11:02:34.924Z"
   },
   {
    "duration": 5,
    "start_time": "2022-04-14T11:02:34.955Z"
   },
   {
    "duration": 12,
    "start_time": "2022-04-14T11:02:34.972Z"
   },
   {
    "duration": 10,
    "start_time": "2022-04-14T11:02:34.985Z"
   },
   {
    "duration": 8,
    "start_time": "2022-04-14T11:02:34.996Z"
   },
   {
    "duration": 683,
    "start_time": "2022-04-14T11:02:35.005Z"
   },
   {
    "duration": 5,
    "start_time": "2022-04-14T11:02:35.690Z"
   },
   {
    "duration": 19,
    "start_time": "2022-04-14T11:02:35.696Z"
   },
   {
    "duration": 9,
    "start_time": "2022-04-14T11:02:35.716Z"
   },
   {
    "duration": 7,
    "start_time": "2022-04-14T11:02:35.729Z"
   },
   {
    "duration": 8,
    "start_time": "2022-04-14T11:02:35.738Z"
   },
   {
    "duration": 36,
    "start_time": "2022-04-14T11:02:35.747Z"
   },
   {
    "duration": 12,
    "start_time": "2022-04-14T11:02:35.785Z"
   },
   {
    "duration": 17,
    "start_time": "2022-04-14T11:02:35.798Z"
   },
   {
    "duration": 8,
    "start_time": "2022-04-14T11:02:35.816Z"
   },
   {
    "duration": 20,
    "start_time": "2022-04-14T11:02:35.825Z"
   },
   {
    "duration": 9,
    "start_time": "2022-04-14T11:02:35.846Z"
   },
   {
    "duration": 40,
    "start_time": "2022-04-14T11:02:35.856Z"
   },
   {
    "duration": 22,
    "start_time": "2022-04-14T11:02:35.897Z"
   },
   {
    "duration": 16,
    "start_time": "2022-04-14T11:02:35.921Z"
   },
   {
    "duration": 166,
    "start_time": "2022-04-14T11:02:35.939Z"
   },
   {
    "duration": 145,
    "start_time": "2022-04-14T11:02:36.107Z"
   },
   {
    "duration": 134,
    "start_time": "2022-04-14T11:02:36.253Z"
   },
   {
    "duration": 134,
    "start_time": "2022-04-14T11:02:36.388Z"
   },
   {
    "duration": 184,
    "start_time": "2022-04-14T11:02:36.524Z"
   },
   {
    "duration": 131,
    "start_time": "2022-04-14T11:02:36.709Z"
   },
   {
    "duration": 133,
    "start_time": "2022-04-14T11:02:36.842Z"
   },
   {
    "duration": 137,
    "start_time": "2022-04-14T11:02:36.976Z"
   },
   {
    "duration": 33,
    "start_time": "2022-04-14T11:02:37.115Z"
   },
   {
    "duration": 30,
    "start_time": "2022-04-14T11:03:08.343Z"
   },
   {
    "duration": 32,
    "start_time": "2022-04-14T11:03:19.606Z"
   },
   {
    "duration": 14,
    "start_time": "2022-04-14T11:03:48.151Z"
   },
   {
    "duration": 151,
    "start_time": "2022-04-14T11:03:48.167Z"
   },
   {
    "duration": 132,
    "start_time": "2022-04-14T11:03:48.320Z"
   },
   {
    "duration": 145,
    "start_time": "2022-04-14T11:03:48.454Z"
   },
   {
    "duration": 132,
    "start_time": "2022-04-14T11:03:48.601Z"
   },
   {
    "duration": 122,
    "start_time": "2022-04-14T11:03:48.735Z"
   },
   {
    "duration": 136,
    "start_time": "2022-04-14T11:03:48.859Z"
   },
   {
    "duration": 10,
    "start_time": "2022-04-14T11:03:48.997Z"
   },
   {
    "duration": 173,
    "start_time": "2022-04-14T11:03:49.009Z"
   },
   {
    "duration": 417,
    "start_time": "2022-04-14T11:03:49.184Z"
   },
   {
    "duration": 9,
    "start_time": "2022-04-14T11:03:49.603Z"
   },
   {
    "duration": 60,
    "start_time": "2022-04-14T11:03:49.614Z"
   },
   {
    "duration": 10,
    "start_time": "2022-04-14T11:03:49.676Z"
   },
   {
    "duration": 10,
    "start_time": "2022-04-14T11:03:49.687Z"
   },
   {
    "duration": 18,
    "start_time": "2022-04-14T11:03:49.699Z"
   },
   {
    "duration": 302,
    "start_time": "2022-04-14T11:03:49.774Z"
   },
   {
    "duration": 11,
    "start_time": "2022-04-14T11:03:50.078Z"
   },
   {
    "duration": 17,
    "start_time": "2022-04-14T11:03:50.091Z"
   },
   {
    "duration": 64,
    "start_time": "2022-04-14T11:03:50.110Z"
   },
   {
    "duration": 1374,
    "start_time": "2022-04-14T11:03:50.176Z"
   },
   {
    "duration": 11,
    "start_time": "2022-04-14T11:03:51.552Z"
   },
   {
    "duration": 152,
    "start_time": "2022-04-14T11:03:51.565Z"
   },
   {
    "duration": 258,
    "start_time": "2022-04-14T11:03:51.720Z"
   },
   {
    "duration": 11,
    "start_time": "2022-04-14T11:03:51.979Z"
   },
   {
    "duration": 10,
    "start_time": "2022-04-14T11:03:51.991Z"
   },
   {
    "duration": 1264,
    "start_time": "2022-04-14T11:03:52.002Z"
   },
   {
    "duration": 11,
    "start_time": "2022-04-14T11:03:53.268Z"
   },
   {
    "duration": 165,
    "start_time": "2022-04-14T11:03:53.283Z"
   },
   {
    "duration": 276,
    "start_time": "2022-04-14T11:03:53.450Z"
   },
   {
    "duration": 1277,
    "start_time": "2022-04-14T11:14:54.509Z"
   },
   {
    "duration": 1164,
    "start_time": "2022-04-14T11:15:10.122Z"
   },
   {
    "duration": 1499,
    "start_time": "2022-04-14T15:50:49.303Z"
   },
   {
    "duration": 511,
    "start_time": "2022-04-14T15:50:50.806Z"
   },
   {
    "duration": 103,
    "start_time": "2022-04-14T15:50:51.321Z"
   },
   {
    "duration": 35,
    "start_time": "2022-04-14T15:50:51.429Z"
   },
   {
    "duration": 31,
    "start_time": "2022-04-14T15:50:51.472Z"
   },
   {
    "duration": 36,
    "start_time": "2022-04-14T15:50:51.507Z"
   },
   {
    "duration": 64,
    "start_time": "2022-04-14T15:50:51.545Z"
   },
   {
    "duration": 18,
    "start_time": "2022-04-14T15:50:51.611Z"
   },
   {
    "duration": 22,
    "start_time": "2022-04-14T15:50:51.631Z"
   },
   {
    "duration": 67,
    "start_time": "2022-04-14T15:50:51.659Z"
   },
   {
    "duration": 5,
    "start_time": "2022-04-14T15:50:51.728Z"
   },
   {
    "duration": 1763,
    "start_time": "2022-04-14T15:50:51.736Z"
   },
   {
    "duration": 30,
    "start_time": "2022-04-14T15:50:53.502Z"
   },
   {
    "duration": 81,
    "start_time": "2022-04-14T15:50:53.534Z"
   },
   {
    "duration": 7,
    "start_time": "2022-04-14T15:50:53.618Z"
   },
   {
    "duration": 41,
    "start_time": "2022-04-14T15:50:53.628Z"
   },
   {
    "duration": 6,
    "start_time": "2022-04-14T15:50:53.671Z"
   },
   {
    "duration": 1692,
    "start_time": "2022-04-14T15:50:53.680Z"
   },
   {
    "duration": 68,
    "start_time": "2022-04-14T15:50:55.379Z"
   },
   {
    "duration": 11,
    "start_time": "2022-04-14T15:50:55.458Z"
   },
   {
    "duration": 37,
    "start_time": "2022-04-14T15:50:55.470Z"
   },
   {
    "duration": 15,
    "start_time": "2022-04-14T15:50:55.509Z"
   },
   {
    "duration": 5,
    "start_time": "2022-04-14T15:50:55.526Z"
   },
   {
    "duration": 1489,
    "start_time": "2022-04-14T15:50:55.533Z"
   },
   {
    "duration": 8,
    "start_time": "2022-04-14T15:50:57.025Z"
   },
   {
    "duration": 50,
    "start_time": "2022-04-14T15:50:57.036Z"
   },
   {
    "duration": 16,
    "start_time": "2022-04-14T15:50:57.094Z"
   },
   {
    "duration": 14,
    "start_time": "2022-04-14T15:50:57.121Z"
   },
   {
    "duration": 29,
    "start_time": "2022-04-14T15:50:57.139Z"
   },
   {
    "duration": 27,
    "start_time": "2022-04-14T15:50:57.179Z"
   },
   {
    "duration": 11,
    "start_time": "2022-04-14T15:50:57.209Z"
   },
   {
    "duration": 45,
    "start_time": "2022-04-14T15:50:57.222Z"
   },
   {
    "duration": 23,
    "start_time": "2022-04-14T15:50:57.269Z"
   },
   {
    "duration": 37,
    "start_time": "2022-04-14T15:50:57.295Z"
   },
   {
    "duration": 10,
    "start_time": "2022-04-14T15:50:57.334Z"
   },
   {
    "duration": 63,
    "start_time": "2022-04-14T15:50:57.346Z"
   },
   {
    "duration": 41,
    "start_time": "2022-04-14T15:50:57.411Z"
   },
   {
    "duration": 38,
    "start_time": "2022-04-14T15:50:57.455Z"
   },
   {
    "duration": 268,
    "start_time": "2022-04-14T15:50:57.496Z"
   },
   {
    "duration": 357,
    "start_time": "2022-04-14T15:50:57.766Z"
   },
   {
    "duration": 266,
    "start_time": "2022-04-14T15:50:58.126Z"
   },
   {
    "duration": 236,
    "start_time": "2022-04-14T15:50:58.394Z"
   },
   {
    "duration": 312,
    "start_time": "2022-04-14T15:50:58.633Z"
   },
   {
    "duration": 239,
    "start_time": "2022-04-14T15:50:58.954Z"
   },
   {
    "duration": 263,
    "start_time": "2022-04-14T15:50:59.196Z"
   },
   {
    "duration": 242,
    "start_time": "2022-04-14T15:50:59.463Z"
   },
   {
    "duration": 59,
    "start_time": "2022-04-14T15:50:59.707Z"
   },
   {
    "duration": 43,
    "start_time": "2022-04-14T15:50:59.768Z"
   },
   {
    "duration": 46,
    "start_time": "2022-04-14T15:50:59.814Z"
   },
   {
    "duration": 264,
    "start_time": "2022-04-14T15:50:59.863Z"
   },
   {
    "duration": 239,
    "start_time": "2022-04-14T15:51:00.129Z"
   },
   {
    "duration": 252,
    "start_time": "2022-04-14T15:51:00.370Z"
   },
   {
    "duration": 238,
    "start_time": "2022-04-14T15:51:00.624Z"
   },
   {
    "duration": 324,
    "start_time": "2022-04-14T15:51:00.868Z"
   },
   {
    "duration": 301,
    "start_time": "2022-04-14T15:51:01.197Z"
   },
   {
    "duration": 13,
    "start_time": "2022-04-14T15:51:01.501Z"
   },
   {
    "duration": 302,
    "start_time": "2022-04-14T15:51:01.517Z"
   },
   {
    "duration": 354,
    "start_time": "2022-04-14T15:51:01.822Z"
   },
   {
    "duration": 13,
    "start_time": "2022-04-14T15:51:02.185Z"
   },
   {
    "duration": 14,
    "start_time": "2022-04-14T15:51:02.200Z"
   },
   {
    "duration": 39,
    "start_time": "2022-04-14T15:51:02.216Z"
   },
   {
    "duration": 22,
    "start_time": "2022-04-14T15:51:02.261Z"
   },
   {
    "duration": 38,
    "start_time": "2022-04-14T15:51:02.286Z"
   },
   {
    "duration": 303,
    "start_time": "2022-04-14T15:51:02.326Z"
   },
   {
    "duration": 39,
    "start_time": "2022-04-14T15:51:02.631Z"
   },
   {
    "duration": 25,
    "start_time": "2022-04-14T15:51:02.675Z"
   },
   {
    "duration": 14,
    "start_time": "2022-04-14T15:51:02.702Z"
   },
   {
    "duration": 2398,
    "start_time": "2022-04-14T15:51:02.719Z"
   },
   {
    "duration": 21,
    "start_time": "2022-04-14T15:51:05.120Z"
   },
   {
    "duration": 407,
    "start_time": "2022-04-14T15:51:05.146Z"
   },
   {
    "duration": 648,
    "start_time": "2022-04-14T15:51:05.571Z"
   },
   {
    "duration": 30,
    "start_time": "2022-04-14T15:51:06.222Z"
   },
   {
    "duration": 41,
    "start_time": "2022-04-14T15:51:06.262Z"
   },
   {
    "duration": 2426,
    "start_time": "2022-04-14T15:51:06.305Z"
   },
   {
    "duration": 31,
    "start_time": "2022-04-14T15:51:08.733Z"
   },
   {
    "duration": 284,
    "start_time": "2022-04-14T15:51:08.767Z"
   },
   {
    "duration": 522,
    "start_time": "2022-04-14T15:51:09.056Z"
   },
   {
    "duration": 395,
    "start_time": "2022-04-14T15:53:15.384Z"
   },
   {
    "duration": 319,
    "start_time": "2022-04-14T15:54:36.155Z"
   },
   {
    "duration": 493,
    "start_time": "2022-04-14T15:54:55.341Z"
   },
   {
    "duration": 294,
    "start_time": "2022-04-14T15:55:28.923Z"
   },
   {
    "duration": 284,
    "start_time": "2022-04-14T15:55:37.090Z"
   },
   {
    "duration": 535,
    "start_time": "2022-04-14T15:55:45.138Z"
   },
   {
    "duration": 235,
    "start_time": "2022-04-14T15:55:49.198Z"
   },
   {
    "duration": 345,
    "start_time": "2022-04-14T15:55:52.639Z"
   },
   {
    "duration": 236,
    "start_time": "2022-04-14T15:55:57.851Z"
   },
   {
    "duration": 290,
    "start_time": "2022-04-14T15:56:05.871Z"
   },
   {
    "duration": 416,
    "start_time": "2022-04-14T15:56:11.478Z"
   },
   {
    "duration": 526,
    "start_time": "2022-04-14T15:56:56.298Z"
   },
   {
    "duration": 666,
    "start_time": "2022-04-14T15:57:01.825Z"
   },
   {
    "duration": 315,
    "start_time": "2022-04-14T15:57:08.074Z"
   },
   {
    "duration": 227,
    "start_time": "2022-04-14T15:57:14.264Z"
   },
   {
    "duration": 264,
    "start_time": "2022-04-14T15:57:17.802Z"
   },
   {
    "duration": 226,
    "start_time": "2022-04-14T15:57:23.019Z"
   },
   {
    "duration": 246,
    "start_time": "2022-04-14T15:57:28.924Z"
   },
   {
    "duration": 245,
    "start_time": "2022-04-14T15:57:50.308Z"
   },
   {
    "duration": 110640,
    "start_time": "2022-04-14T15:58:09.130Z"
   },
   {
    "duration": 984,
    "start_time": "2022-04-14T16:01:44.249Z"
   },
   {
    "duration": 136,
    "start_time": "2022-04-14T16:01:45.236Z"
   },
   {
    "duration": 137,
    "start_time": "2022-04-14T16:01:45.375Z"
   },
   {
    "duration": 48,
    "start_time": "2022-04-14T16:01:45.515Z"
   },
   {
    "duration": 6,
    "start_time": "2022-04-14T16:01:45.565Z"
   },
   {
    "duration": 10,
    "start_time": "2022-04-14T16:01:45.574Z"
   },
   {
    "duration": 16,
    "start_time": "2022-04-14T16:01:45.586Z"
   },
   {
    "duration": 13,
    "start_time": "2022-04-14T16:01:45.604Z"
   },
   {
    "duration": 26,
    "start_time": "2022-04-14T16:01:45.656Z"
   },
   {
    "duration": 16,
    "start_time": "2022-04-14T16:01:45.686Z"
   },
   {
    "duration": 5,
    "start_time": "2022-04-14T16:01:45.704Z"
   },
   {
    "duration": 1475,
    "start_time": "2022-04-14T16:01:45.711Z"
   },
   {
    "duration": 22,
    "start_time": "2022-04-14T16:01:47.188Z"
   },
   {
    "duration": 63,
    "start_time": "2022-04-14T16:01:47.212Z"
   },
   {
    "duration": 9,
    "start_time": "2022-04-14T16:01:47.279Z"
   },
   {
    "duration": 27,
    "start_time": "2022-04-14T16:01:47.290Z"
   },
   {
    "duration": 5,
    "start_time": "2022-04-14T16:01:47.320Z"
   },
   {
    "duration": 1162,
    "start_time": "2022-04-14T16:01:47.355Z"
   },
   {
    "duration": 61,
    "start_time": "2022-04-14T16:01:48.520Z"
   },
   {
    "duration": 7,
    "start_time": "2022-04-14T16:01:48.583Z"
   },
   {
    "duration": 20,
    "start_time": "2022-04-14T16:01:48.592Z"
   },
   {
    "duration": 51,
    "start_time": "2022-04-14T16:01:48.614Z"
   },
   {
    "duration": 5,
    "start_time": "2022-04-14T16:01:48.669Z"
   },
   {
    "duration": 1376,
    "start_time": "2022-04-14T16:01:48.677Z"
   },
   {
    "duration": 12,
    "start_time": "2022-04-14T16:01:50.057Z"
   },
   {
    "duration": 36,
    "start_time": "2022-04-14T16:01:50.073Z"
   },
   {
    "duration": 12,
    "start_time": "2022-04-14T16:01:50.112Z"
   },
   {
    "duration": 17,
    "start_time": "2022-04-14T16:01:50.157Z"
   },
   {
    "duration": 16,
    "start_time": "2022-04-14T16:01:50.179Z"
   },
   {
    "duration": 62,
    "start_time": "2022-04-14T16:01:50.199Z"
   },
   {
    "duration": 23,
    "start_time": "2022-04-14T16:01:50.264Z"
   },
   {
    "duration": 38,
    "start_time": "2022-04-14T16:01:50.290Z"
   },
   {
    "duration": 25,
    "start_time": "2022-04-14T16:01:50.331Z"
   },
   {
    "duration": 39,
    "start_time": "2022-04-14T16:01:50.359Z"
   },
   {
    "duration": 11,
    "start_time": "2022-04-14T16:01:50.400Z"
   },
   {
    "duration": 81,
    "start_time": "2022-04-14T16:01:50.413Z"
   },
   {
    "duration": 33,
    "start_time": "2022-04-14T16:01:50.496Z"
   },
   {
    "duration": 53,
    "start_time": "2022-04-14T16:01:50.532Z"
   },
   {
    "duration": 468,
    "start_time": "2022-04-14T16:01:50.587Z"
   },
   {
    "duration": 339,
    "start_time": "2022-04-14T16:01:51.058Z"
   },
   {
    "duration": 245,
    "start_time": "2022-04-14T16:01:51.400Z"
   },
   {
    "duration": 284,
    "start_time": "2022-04-14T16:01:51.653Z"
   },
   {
    "duration": 240,
    "start_time": "2022-04-14T16:01:51.939Z"
   },
   {
    "duration": 235,
    "start_time": "2022-04-14T16:01:52.182Z"
   },
   {
    "duration": 173167,
    "start_time": "2022-04-14T16:01:52.420Z"
   },
   {
    "duration": 94735,
    "start_time": "2022-04-14T16:04:45.591Z"
   },
   {
    "duration": 0,
    "start_time": "2022-04-14T16:06:20.329Z"
   },
   {
    "duration": 0,
    "start_time": "2022-04-14T16:06:20.331Z"
   },
   {
    "duration": 0,
    "start_time": "2022-04-14T16:06:20.332Z"
   },
   {
    "duration": 0,
    "start_time": "2022-04-14T16:06:20.333Z"
   },
   {
    "duration": 0,
    "start_time": "2022-04-14T16:06:20.356Z"
   },
   {
    "duration": 0,
    "start_time": "2022-04-14T16:06:20.358Z"
   },
   {
    "duration": 0,
    "start_time": "2022-04-14T16:06:20.360Z"
   },
   {
    "duration": 0,
    "start_time": "2022-04-14T16:06:20.363Z"
   },
   {
    "duration": 0,
    "start_time": "2022-04-14T16:06:20.365Z"
   },
   {
    "duration": 0,
    "start_time": "2022-04-14T16:06:20.367Z"
   },
   {
    "duration": 0,
    "start_time": "2022-04-14T16:06:20.368Z"
   },
   {
    "duration": 0,
    "start_time": "2022-04-14T16:06:20.369Z"
   },
   {
    "duration": 0,
    "start_time": "2022-04-14T16:06:20.371Z"
   },
   {
    "duration": 0,
    "start_time": "2022-04-14T16:06:20.372Z"
   },
   {
    "duration": 0,
    "start_time": "2022-04-14T16:06:20.373Z"
   },
   {
    "duration": 0,
    "start_time": "2022-04-14T16:06:20.374Z"
   },
   {
    "duration": 0,
    "start_time": "2022-04-14T16:06:20.376Z"
   },
   {
    "duration": 0,
    "start_time": "2022-04-14T16:06:20.377Z"
   },
   {
    "duration": 0,
    "start_time": "2022-04-14T16:06:20.379Z"
   },
   {
    "duration": 0,
    "start_time": "2022-04-14T16:06:20.380Z"
   },
   {
    "duration": 0,
    "start_time": "2022-04-14T16:06:20.382Z"
   },
   {
    "duration": 0,
    "start_time": "2022-04-14T16:06:20.384Z"
   },
   {
    "duration": 0,
    "start_time": "2022-04-14T16:06:20.385Z"
   },
   {
    "duration": 0,
    "start_time": "2022-04-14T16:06:20.386Z"
   },
   {
    "duration": 0,
    "start_time": "2022-04-14T16:06:20.388Z"
   },
   {
    "duration": 0,
    "start_time": "2022-04-14T16:06:20.390Z"
   },
   {
    "duration": 0,
    "start_time": "2022-04-14T16:06:20.391Z"
   },
   {
    "duration": 0,
    "start_time": "2022-04-14T16:06:20.393Z"
   },
   {
    "duration": 0,
    "start_time": "2022-04-14T16:06:20.395Z"
   },
   {
    "duration": 1,
    "start_time": "2022-04-14T16:06:20.396Z"
   },
   {
    "duration": 57,
    "start_time": "2022-04-14T16:06:20.398Z"
   },
   {
    "duration": 0,
    "start_time": "2022-04-14T16:06:20.476Z"
   },
   {
    "duration": 12,
    "start_time": "2022-04-14T16:06:42.717Z"
   },
   {
    "duration": 12,
    "start_time": "2022-04-14T16:07:07.176Z"
   },
   {
    "duration": 931,
    "start_time": "2022-04-14T16:07:28.697Z"
   },
   {
    "duration": 175,
    "start_time": "2022-04-14T16:07:29.631Z"
   },
   {
    "duration": 122,
    "start_time": "2022-04-14T16:07:29.809Z"
   },
   {
    "duration": 42,
    "start_time": "2022-04-14T16:07:29.934Z"
   },
   {
    "duration": 5,
    "start_time": "2022-04-14T16:07:29.980Z"
   },
   {
    "duration": 12,
    "start_time": "2022-04-14T16:07:29.987Z"
   },
   {
    "duration": 21,
    "start_time": "2022-04-14T16:07:30.004Z"
   },
   {
    "duration": 49,
    "start_time": "2022-04-14T16:07:30.028Z"
   },
   {
    "duration": 25,
    "start_time": "2022-04-14T16:07:30.080Z"
   },
   {
    "duration": 24,
    "start_time": "2022-04-14T16:07:30.107Z"
   },
   {
    "duration": 7,
    "start_time": "2022-04-14T16:07:30.133Z"
   },
   {
    "duration": 1397,
    "start_time": "2022-04-14T16:07:30.153Z"
   },
   {
    "duration": 26,
    "start_time": "2022-04-14T16:07:31.555Z"
   },
   {
    "duration": 33,
    "start_time": "2022-04-14T16:07:31.586Z"
   },
   {
    "duration": 33,
    "start_time": "2022-04-14T16:07:31.621Z"
   },
   {
    "duration": 25,
    "start_time": "2022-04-14T16:07:31.657Z"
   },
   {
    "duration": 5,
    "start_time": "2022-04-14T16:07:31.685Z"
   },
   {
    "duration": 1233,
    "start_time": "2022-04-14T16:07:31.693Z"
   },
   {
    "duration": 48,
    "start_time": "2022-04-14T16:07:32.928Z"
   },
   {
    "duration": 18,
    "start_time": "2022-04-14T16:07:32.978Z"
   },
   {
    "duration": 20,
    "start_time": "2022-04-14T16:07:32.999Z"
   },
   {
    "duration": 34,
    "start_time": "2022-04-14T16:07:33.022Z"
   },
   {
    "duration": 8,
    "start_time": "2022-04-14T16:07:33.059Z"
   },
   {
    "duration": 1345,
    "start_time": "2022-04-14T16:07:33.070Z"
   },
   {
    "duration": 6,
    "start_time": "2022-04-14T16:07:34.418Z"
   },
   {
    "duration": 44,
    "start_time": "2022-04-14T16:07:34.427Z"
   },
   {
    "duration": 13,
    "start_time": "2022-04-14T16:07:34.474Z"
   },
   {
    "duration": 11,
    "start_time": "2022-04-14T16:07:34.489Z"
   },
   {
    "duration": 12,
    "start_time": "2022-04-14T16:07:34.503Z"
   },
   {
    "duration": 63,
    "start_time": "2022-04-14T16:07:34.518Z"
   },
   {
    "duration": 10,
    "start_time": "2022-04-14T16:07:34.583Z"
   },
   {
    "duration": 25,
    "start_time": "2022-04-14T16:07:34.595Z"
   },
   {
    "duration": 15,
    "start_time": "2022-04-14T16:07:34.656Z"
   },
   {
    "duration": 33,
    "start_time": "2022-04-14T16:07:34.674Z"
   },
   {
    "duration": 7,
    "start_time": "2022-04-14T16:07:34.710Z"
   },
   {
    "duration": 69,
    "start_time": "2022-04-14T16:07:34.720Z"
   },
   {
    "duration": 33,
    "start_time": "2022-04-14T16:07:34.792Z"
   },
   {
    "duration": 44,
    "start_time": "2022-04-14T16:07:34.827Z"
   },
   {
    "duration": 461,
    "start_time": "2022-04-14T16:07:34.874Z"
   },
   {
    "duration": 244,
    "start_time": "2022-04-14T16:07:35.337Z"
   },
   {
    "duration": 253,
    "start_time": "2022-04-14T16:07:35.591Z"
   },
   {
    "duration": 291,
    "start_time": "2022-04-14T16:07:35.846Z"
   },
   {
    "duration": 247,
    "start_time": "2022-04-14T16:07:36.141Z"
   },
   {
    "duration": 236,
    "start_time": "2022-04-14T16:07:36.391Z"
   },
   {
    "duration": 363387,
    "start_time": "2022-04-14T16:07:36.629Z"
   },
   {
    "duration": 0,
    "start_time": "2022-04-14T16:13:40.019Z"
   },
   {
    "duration": 0,
    "start_time": "2022-04-14T16:13:40.021Z"
   },
   {
    "duration": 0,
    "start_time": "2022-04-14T16:13:40.022Z"
   },
   {
    "duration": 0,
    "start_time": "2022-04-14T16:13:40.024Z"
   },
   {
    "duration": 0,
    "start_time": "2022-04-14T16:13:40.025Z"
   },
   {
    "duration": 0,
    "start_time": "2022-04-14T16:13:40.027Z"
   },
   {
    "duration": 0,
    "start_time": "2022-04-14T16:13:40.029Z"
   },
   {
    "duration": 0,
    "start_time": "2022-04-14T16:13:40.030Z"
   },
   {
    "duration": 0,
    "start_time": "2022-04-14T16:13:40.031Z"
   },
   {
    "duration": 0,
    "start_time": "2022-04-14T16:13:40.032Z"
   },
   {
    "duration": 0,
    "start_time": "2022-04-14T16:13:40.033Z"
   },
   {
    "duration": 0,
    "start_time": "2022-04-14T16:13:40.035Z"
   },
   {
    "duration": 0,
    "start_time": "2022-04-14T16:13:40.036Z"
   },
   {
    "duration": 0,
    "start_time": "2022-04-14T16:13:40.037Z"
   },
   {
    "duration": 0,
    "start_time": "2022-04-14T16:13:40.039Z"
   },
   {
    "duration": 0,
    "start_time": "2022-04-14T16:13:40.041Z"
   },
   {
    "duration": 0,
    "start_time": "2022-04-14T16:13:40.044Z"
   },
   {
    "duration": 0,
    "start_time": "2022-04-14T16:13:40.046Z"
   },
   {
    "duration": 0,
    "start_time": "2022-04-14T16:13:40.047Z"
   },
   {
    "duration": 0,
    "start_time": "2022-04-14T16:13:52.060Z"
   },
   {
    "duration": 0,
    "start_time": "2022-04-14T16:13:52.061Z"
   },
   {
    "duration": 0,
    "start_time": "2022-04-14T16:13:52.062Z"
   },
   {
    "duration": 0,
    "start_time": "2022-04-14T16:13:52.063Z"
   },
   {
    "duration": 0,
    "start_time": "2022-04-14T16:13:52.064Z"
   },
   {
    "duration": 0,
    "start_time": "2022-04-14T16:13:52.066Z"
   },
   {
    "duration": 0,
    "start_time": "2022-04-14T16:13:52.067Z"
   },
   {
    "duration": 0,
    "start_time": "2022-04-14T16:13:52.068Z"
   },
   {
    "duration": 0,
    "start_time": "2022-04-14T16:13:52.069Z"
   },
   {
    "duration": 0,
    "start_time": "2022-04-14T16:13:52.070Z"
   },
   {
    "duration": 0,
    "start_time": "2022-04-14T16:13:52.071Z"
   },
   {
    "duration": 0,
    "start_time": "2022-04-14T16:13:52.074Z"
   },
   {
    "duration": 0,
    "start_time": "2022-04-14T16:13:52.076Z"
   },
   {
    "duration": 6,
    "start_time": "2022-04-14T16:13:56.795Z"
   },
   {
    "duration": 182,
    "start_time": "2022-04-14T16:14:02.593Z"
   },
   {
    "duration": 195,
    "start_time": "2022-04-14T16:15:10.715Z"
   },
   {
    "duration": 6,
    "start_time": "2022-04-14T16:15:55.070Z"
   },
   {
    "duration": 238,
    "start_time": "2022-04-14T16:16:31.558Z"
   },
   {
    "duration": 25,
    "start_time": "2022-04-14T16:17:17.171Z"
   },
   {
    "duration": 25,
    "start_time": "2022-04-14T16:17:22.497Z"
   },
   {
    "duration": 236,
    "start_time": "2022-04-14T16:17:24.491Z"
   },
   {
    "duration": 39,
    "start_time": "2022-04-14T16:17:43.085Z"
   },
   {
    "duration": 40,
    "start_time": "2022-04-14T16:17:59.317Z"
   },
   {
    "duration": 42,
    "start_time": "2022-04-14T16:18:55.113Z"
   },
   {
    "duration": 22,
    "start_time": "2022-04-14T16:20:22.724Z"
   },
   {
    "duration": 261,
    "start_time": "2022-04-14T16:20:32.544Z"
   },
   {
    "duration": 17,
    "start_time": "2022-04-14T16:20:46.591Z"
   },
   {
    "duration": 298,
    "start_time": "2022-04-14T16:20:47.759Z"
   },
   {
    "duration": 232,
    "start_time": "2022-04-14T16:20:57.609Z"
   },
   {
    "duration": 228,
    "start_time": "2022-04-14T16:21:02.069Z"
   },
   {
    "duration": 1039,
    "start_time": "2022-04-14T16:21:18.479Z"
   },
   {
    "duration": 386,
    "start_time": "2022-04-14T16:21:19.522Z"
   },
   {
    "duration": 89,
    "start_time": "2022-04-14T16:21:19.911Z"
   },
   {
    "duration": 29,
    "start_time": "2022-04-14T16:21:20.003Z"
   },
   {
    "duration": 22,
    "start_time": "2022-04-14T16:21:20.035Z"
   },
   {
    "duration": 18,
    "start_time": "2022-04-14T16:21:20.060Z"
   },
   {
    "duration": 15,
    "start_time": "2022-04-14T16:21:20.080Z"
   },
   {
    "duration": 13,
    "start_time": "2022-04-14T16:21:20.097Z"
   },
   {
    "duration": 59,
    "start_time": "2022-04-14T16:21:20.112Z"
   },
   {
    "duration": 20,
    "start_time": "2022-04-14T16:21:20.176Z"
   },
   {
    "duration": 6,
    "start_time": "2022-04-14T16:21:20.198Z"
   },
   {
    "duration": 1568,
    "start_time": "2022-04-14T16:21:20.207Z"
   },
   {
    "duration": 22,
    "start_time": "2022-04-14T16:21:21.777Z"
   },
   {
    "duration": 60,
    "start_time": "2022-04-14T16:21:21.802Z"
   },
   {
    "duration": 8,
    "start_time": "2022-04-14T16:21:21.865Z"
   },
   {
    "duration": 29,
    "start_time": "2022-04-14T16:21:21.876Z"
   },
   {
    "duration": 7,
    "start_time": "2022-04-14T16:21:21.908Z"
   },
   {
    "duration": 1303,
    "start_time": "2022-04-14T16:21:21.918Z"
   },
   {
    "duration": 61,
    "start_time": "2022-04-14T16:21:23.224Z"
   },
   {
    "duration": 7,
    "start_time": "2022-04-14T16:21:23.288Z"
   },
   {
    "duration": 15,
    "start_time": "2022-04-14T16:21:23.298Z"
   },
   {
    "duration": 53,
    "start_time": "2022-04-14T16:21:23.316Z"
   },
   {
    "duration": 5,
    "start_time": "2022-04-14T16:21:23.373Z"
   },
   {
    "duration": 2238,
    "start_time": "2022-04-14T16:21:23.380Z"
   },
   {
    "duration": 9,
    "start_time": "2022-04-14T16:21:25.621Z"
   },
   {
    "duration": 49,
    "start_time": "2022-04-14T16:21:25.633Z"
   },
   {
    "duration": 15,
    "start_time": "2022-04-14T16:21:25.685Z"
   },
   {
    "duration": 57,
    "start_time": "2022-04-14T16:21:25.712Z"
   },
   {
    "duration": 16,
    "start_time": "2022-04-14T16:21:25.772Z"
   },
   {
    "duration": 25,
    "start_time": "2022-04-14T16:21:25.790Z"
   },
   {
    "duration": 20,
    "start_time": "2022-04-14T16:21:25.818Z"
   },
   {
    "duration": 34,
    "start_time": "2022-04-14T16:21:25.840Z"
   },
   {
    "duration": 7,
    "start_time": "2022-04-14T16:21:25.876Z"
   },
   {
    "duration": 42,
    "start_time": "2022-04-14T16:21:25.885Z"
   },
   {
    "duration": 5,
    "start_time": "2022-04-14T16:21:25.930Z"
   },
   {
    "duration": 64,
    "start_time": "2022-04-14T16:21:25.938Z"
   },
   {
    "duration": 30,
    "start_time": "2022-04-14T16:21:26.005Z"
   },
   {
    "duration": 41,
    "start_time": "2022-04-14T16:21:26.038Z"
   },
   {
    "duration": 497,
    "start_time": "2022-04-14T16:21:26.081Z"
   },
   {
    "duration": 397,
    "start_time": "2022-04-14T16:21:26.581Z"
   },
   {
    "duration": 316,
    "start_time": "2022-04-14T16:21:26.981Z"
   },
   {
    "duration": 442,
    "start_time": "2022-04-14T16:21:27.300Z"
   },
   {
    "duration": 287,
    "start_time": "2022-04-14T16:21:27.744Z"
   },
   {
    "duration": 229,
    "start_time": "2022-04-14T16:21:28.033Z"
   },
   {
    "duration": 6,
    "start_time": "2022-04-14T16:21:28.264Z"
   },
   {
    "duration": 220,
    "start_time": "2022-04-14T16:21:28.272Z"
   },
   {
    "duration": 5,
    "start_time": "2022-04-14T16:21:28.495Z"
   },
   {
    "duration": 273,
    "start_time": "2022-04-14T16:21:28.502Z"
   },
   {
    "duration": 44,
    "start_time": "2022-04-14T16:21:28.778Z"
   },
   {
    "duration": 64,
    "start_time": "2022-04-14T16:21:28.825Z"
   },
   {
    "duration": 26,
    "start_time": "2022-04-14T16:21:28.892Z"
   },
   {
    "duration": 285,
    "start_time": "2022-04-14T16:21:28.921Z"
   },
   {
    "duration": 21,
    "start_time": "2022-04-14T16:21:29.209Z"
   },
   {
    "duration": 250,
    "start_time": "2022-04-14T16:21:29.233Z"
   },
   {
    "duration": 276,
    "start_time": "2022-04-14T16:21:29.485Z"
   },
   {
    "duration": 246,
    "start_time": "2022-04-14T16:21:29.764Z"
   },
   {
    "duration": 255,
    "start_time": "2022-04-14T16:21:30.012Z"
   },
   {
    "duration": 265,
    "start_time": "2022-04-14T16:21:30.270Z"
   },
   {
    "duration": 374,
    "start_time": "2022-04-14T16:21:30.537Z"
   },
   {
    "duration": 259,
    "start_time": "2022-04-14T16:21:30.913Z"
   },
   {
    "duration": 14,
    "start_time": "2022-04-14T16:21:31.174Z"
   },
   {
    "duration": 267,
    "start_time": "2022-04-14T16:21:31.191Z"
   },
   {
    "duration": 280,
    "start_time": "2022-04-14T16:21:31.461Z"
   },
   {
    "duration": 25,
    "start_time": "2022-04-14T16:21:31.744Z"
   },
   {
    "duration": 14,
    "start_time": "2022-04-14T16:21:31.772Z"
   },
   {
    "duration": 11,
    "start_time": "2022-04-14T16:21:31.789Z"
   },
   {
    "duration": 12,
    "start_time": "2022-04-14T16:21:31.802Z"
   },
   {
    "duration": 74,
    "start_time": "2022-04-14T16:21:31.816Z"
   },
   {
    "duration": 318,
    "start_time": "2022-04-14T16:21:31.892Z"
   },
   {
    "duration": 18,
    "start_time": "2022-04-14T16:21:32.212Z"
   },
   {
    "duration": 41,
    "start_time": "2022-04-14T16:21:32.233Z"
   },
   {
    "duration": 17,
    "start_time": "2022-04-14T16:21:32.277Z"
   },
   {
    "duration": 2513,
    "start_time": "2022-04-14T16:21:32.296Z"
   },
   {
    "duration": 18,
    "start_time": "2022-04-14T16:21:34.812Z"
   },
   {
    "duration": 375,
    "start_time": "2022-04-14T16:21:34.832Z"
   },
   {
    "duration": 520,
    "start_time": "2022-04-14T16:21:35.209Z"
   },
   {
    "duration": 39,
    "start_time": "2022-04-14T16:21:35.732Z"
   },
   {
    "duration": 16,
    "start_time": "2022-04-14T16:21:35.773Z"
   },
   {
    "duration": 2520,
    "start_time": "2022-04-14T16:21:35.791Z"
   },
   {
    "duration": 38,
    "start_time": "2022-04-14T16:21:38.313Z"
   },
   {
    "duration": 288,
    "start_time": "2022-04-14T16:21:38.356Z"
   },
   {
    "duration": 618,
    "start_time": "2022-04-14T16:21:38.658Z"
   },
   {
    "duration": 436,
    "start_time": "2022-04-14T16:23:22.371Z"
   },
   {
    "duration": 275,
    "start_time": "2022-04-14T16:24:36.133Z"
   },
   {
    "duration": 222,
    "start_time": "2022-04-14T16:25:06.838Z"
   },
   {
    "duration": 220,
    "start_time": "2022-04-14T16:25:19.414Z"
   },
   {
    "duration": 2218,
    "start_time": "2022-04-14T16:26:42.417Z"
   },
   {
    "duration": 2022,
    "start_time": "2022-04-14T16:26:52.668Z"
   },
   {
    "duration": 258,
    "start_time": "2022-04-14T16:27:28.631Z"
   },
   {
    "duration": 437,
    "start_time": "2022-04-14T16:27:40.765Z"
   },
   {
    "duration": 2197,
    "start_time": "2022-04-14T16:27:49.240Z"
   },
   {
    "duration": 251,
    "start_time": "2022-04-14T16:28:00.770Z"
   },
   {
    "duration": 448,
    "start_time": "2022-04-14T16:28:05.514Z"
   }
  ],
  "kernelspec": {
   "display_name": "Python 3 (ipykernel)",
   "language": "python",
   "name": "python3"
  },
  "language_info": {
   "codemirror_mode": {
    "name": "ipython",
    "version": 3
   },
   "file_extension": ".py",
   "mimetype": "text/x-python",
   "name": "python",
   "nbconvert_exporter": "python",
   "pygments_lexer": "ipython3",
   "version": "3.9.5"
  },
  "toc": {
   "base_numbering": 1,
   "nav_menu": {},
   "number_sections": true,
   "sideBar": true,
   "skip_h1_title": false,
   "title_cell": "Table of Contents",
   "title_sidebar": "Contents",
   "toc_cell": false,
   "toc_position": {
    "height": "calc(100% - 180px)",
    "left": "10px",
    "top": "150px",
    "width": "165px"
   },
   "toc_section_display": true,
   "toc_window_display": true
  }
 },
 "nbformat": 4,
 "nbformat_minor": 2
}
