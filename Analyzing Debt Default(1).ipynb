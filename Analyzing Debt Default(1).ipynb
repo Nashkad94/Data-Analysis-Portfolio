{
 "cells": [
  {
   "cell_type": "markdown",
   "metadata": {},
   "source": [
    "# Analyzing borrowers’ risk of defaulting\n",
    "\n",
    "The goal of this project is to determine whether or not a client's marital status and number of children, among other factors has an impact on whether they will default on a loan. This is will be considered when building a potential customer's credit score. The avenues of thinking I will be testing:\n",
    "- Does the number of children affect whether a client will default on a loan?\n",
    "- Does the marital status of a client affect whether they will default on a loan?\n",
    "- Does a client's income level affect whether they will default on a loan?\n",
    "- Does the credit's purpose affect whether a client will default on a loan?\n"
   ]
  },
  {
   "cell_type": "code",
   "execution_count": 1,
   "metadata": {},
   "outputs": [],
   "source": [
    "# Loading all the libraries\n",
    "import pandas as pd \n",
    "\n",
    "# Load the data\n",
    "bank_data = pd.read_csv('/datasets/credit_scoring_eng.csv')"
   ]
  },
  {
   "cell_type": "markdown",
   "metadata": {},
   "source": [
    "## Task 1. Data exploration\n",
    "\n",
    "**Description of the data**\n",
    "- `children` - the number of children in the family\n",
    "- `days_employed` - work experience in days\n",
    "- `dob_years` - client's age in years\n",
    "- `education` - client's education\n",
    "- `education_id` - education identifier\n",
    "- `family_status` - marital status\n",
    "- `family_status_id` - marital status identifier\n",
    "- `gender` - gender of the client\n",
    "- `income_type` - type of employment\n",
    "- `debt` - was there any debt on loan repayment\n",
    "- `total_income` - monthly income\n",
    "- `purpose` - the purpose of obtaining a loan\n",
    "\n",
    "Next we will take a preliminary look through our data and take note of any changes that will have to be made to aid in clarity and processing."
   ]
  },
  {
   "cell_type": "code",
   "execution_count": 2,
   "metadata": {},
   "outputs": [
    {
     "data": {
      "text/plain": [
       "(21525, 12)"
      ]
     },
     "execution_count": 2,
     "metadata": {},
     "output_type": "execute_result"
    }
   ],
   "source": [
    "# Let's see how many rows and columns our dataset has\n",
    "bank_data.shape"
   ]
  },
  {
   "cell_type": "code",
   "execution_count": 3,
   "metadata": {
    "scrolled": true
   },
   "outputs": [
    {
     "name": "stdout",
     "output_type": "stream",
     "text": [
      "   children  days_employed  dob_years            education  education_id  \\\n",
      "0         1   -8437.673028         42    bachelor's degree             0   \n",
      "1         1   -4024.803754         36  secondary education             1   \n",
      "2         0   -5623.422610         33  Secondary Education             1   \n",
      "3         3   -4124.747207         32  secondary education             1   \n",
      "4         0  340266.072047         53  secondary education             1   \n",
      "5         0    -926.185831         27    bachelor's degree             0   \n",
      "6         0   -2879.202052         43    bachelor's degree             0   \n",
      "7         0    -152.779569         50  SECONDARY EDUCATION             1   \n",
      "8         2   -6929.865299         35    BACHELOR'S DEGREE             0   \n",
      "9         0   -2188.756445         41  secondary education             1   \n",
      "\n",
      "       family_status  family_status_id gender income_type  debt  total_income  \\\n",
      "0            married                 0      F    employee     0     40620.102   \n",
      "1            married                 0      F    employee     0     17932.802   \n",
      "2            married                 0      M    employee     0     23341.752   \n",
      "3            married                 0      M    employee     0     42820.568   \n",
      "4  civil partnership                 1      F     retiree     0     25378.572   \n",
      "5  civil partnership                 1      M    business     0     40922.170   \n",
      "6            married                 0      F    business     0     38484.156   \n",
      "7            married                 0      M    employee     0     21731.829   \n",
      "8  civil partnership                 1      F    employee     0     15337.093   \n",
      "9            married                 0      M    employee     0     23108.150   \n",
      "\n",
      "                               purpose  \n",
      "0                purchase of the house  \n",
      "1                         car purchase  \n",
      "2                purchase of the house  \n",
      "3              supplementary education  \n",
      "4                    to have a wedding  \n",
      "5                purchase of the house  \n",
      "6                 housing transactions  \n",
      "7                            education  \n",
      "8                     having a wedding  \n",
      "9  purchase of the house for my family  \n"
     ]
    }
   ],
   "source": [
    "\n",
    "\n",
    "print(bank_data.head(10))"
   ]
  },
  {
   "cell_type": "markdown",
   "metadata": {},
   "source": [
    "We can see that though some entries are conveying the same information (i.e. Secondary education), they are logged differently with some being in all capital letters and other rows having all lower case letters. \n",
    "\n",
    "It is also apparent that the 'days_employed' column has some negative values that might need to be investigated. "
   ]
  },
  {
   "cell_type": "code",
   "execution_count": 4,
   "metadata": {
    "scrolled": true
   },
   "outputs": [
    {
     "name": "stdout",
     "output_type": "stream",
     "text": [
      "<class 'pandas.core.frame.DataFrame'>\n",
      "RangeIndex: 21525 entries, 0 to 21524\n",
      "Data columns (total 12 columns):\n",
      " #   Column            Non-Null Count  Dtype  \n",
      "---  ------            --------------  -----  \n",
      " 0   children          21525 non-null  int64  \n",
      " 1   days_employed     19351 non-null  float64\n",
      " 2   dob_years         21525 non-null  int64  \n",
      " 3   education         21525 non-null  object \n",
      " 4   education_id      21525 non-null  int64  \n",
      " 5   family_status     21525 non-null  object \n",
      " 6   family_status_id  21525 non-null  int64  \n",
      " 7   gender            21525 non-null  object \n",
      " 8   income_type       21525 non-null  object \n",
      " 9   debt              21525 non-null  int64  \n",
      " 10  total_income      19351 non-null  float64\n",
      " 11  purpose           21525 non-null  object \n",
      "dtypes: float64(2), int64(5), object(5)\n",
      "memory usage: 2.0+ MB\n"
     ]
    }
   ],
   "source": [
    "bank_data.info()\n"
   ]
  },
  {
   "cell_type": "markdown",
   "metadata": {},
   "source": [
    "Of the 12 columns, it seems like there are 2 columns with missing values: 'days_employed' and 'total_income'. Beyond that, the other 10 columns have 21,525 filled rows.\n",
    "\n"
   ]
  },
  {
   "cell_type": "code",
   "execution_count": 5,
   "metadata": {
    "scrolled": true
   },
   "outputs": [
    {
     "data": {
      "text/plain": [
       "children               0\n",
       "days_employed       2174\n",
       "dob_years              0\n",
       "education              0\n",
       "education_id           0\n",
       "family_status          0\n",
       "family_status_id       0\n",
       "gender                 0\n",
       "income_type            0\n",
       "debt                   0\n",
       "total_income        2174\n",
       "purpose                0\n",
       "dtype: int64"
      ]
     },
     "execution_count": 5,
     "metadata": {},
     "output_type": "execute_result"
    }
   ],
   "source": [
    "# Let's look at the filtered table with missing values in the the first column with missing data\n",
    "\n",
    "bank_data.isna().sum()"
   ]
  },
  {
   "cell_type": "code",
   "execution_count": 6,
   "metadata": {},
   "outputs": [
    {
     "data": {
      "text/plain": [
       "children            0.000000\n",
       "days_employed       0.100999\n",
       "dob_years           0.000000\n",
       "education           0.000000\n",
       "education_id        0.000000\n",
       "family_status       0.000000\n",
       "family_status_id    0.000000\n",
       "gender              0.000000\n",
       "income_type         0.000000\n",
       "debt                0.000000\n",
       "total_income        0.100999\n",
       "purpose             0.000000\n",
       "dtype: float64"
      ]
     },
     "execution_count": 6,
     "metadata": {},
     "output_type": "execute_result"
    }
   ],
   "source": [
    "bank_data.isna().sum()/ bank_data.shape[0]"
   ]
  },
  {
   "cell_type": "markdown",
   "metadata": {},
   "source": [
    "It would seem like the missing values are symmetric with both 'days_employed' and 'income_type' missing 2174 entries, or about 10% of their data. My initial assumption is that those who are unemployed (for example retired) would not have an entry for 'days_employed' and because they are unemployed they would also have no total_income, but this assumption would need to be investigated further. \n",
    "\n"
   ]
  },
  {
   "cell_type": "code",
   "execution_count": 7,
   "metadata": {
    "scrolled": true
   },
   "outputs": [
    {
     "data": {
      "text/html": [
       "<div>\n",
       "<style scoped>\n",
       "    .dataframe tbody tr th:only-of-type {\n",
       "        vertical-align: middle;\n",
       "    }\n",
       "\n",
       "    .dataframe tbody tr th {\n",
       "        vertical-align: top;\n",
       "    }\n",
       "\n",
       "    .dataframe thead th {\n",
       "        text-align: right;\n",
       "    }\n",
       "</style>\n",
       "<table border=\"1\" class=\"dataframe\">\n",
       "  <thead>\n",
       "    <tr style=\"text-align: right;\">\n",
       "      <th></th>\n",
       "      <th>children</th>\n",
       "      <th>days_employed</th>\n",
       "      <th>dob_years</th>\n",
       "      <th>education</th>\n",
       "      <th>education_id</th>\n",
       "      <th>family_status</th>\n",
       "      <th>family_status_id</th>\n",
       "      <th>gender</th>\n",
       "      <th>income_type</th>\n",
       "      <th>debt</th>\n",
       "      <th>total_income</th>\n",
       "      <th>purpose</th>\n",
       "    </tr>\n",
       "  </thead>\n",
       "  <tbody>\n",
       "    <tr>\n",
       "      <th>3133</th>\n",
       "      <td>1</td>\n",
       "      <td>337524.466835</td>\n",
       "      <td>31</td>\n",
       "      <td>secondary education</td>\n",
       "      <td>1</td>\n",
       "      <td>married</td>\n",
       "      <td>0</td>\n",
       "      <td>M</td>\n",
       "      <td>unemployed</td>\n",
       "      <td>1</td>\n",
       "      <td>9593.119</td>\n",
       "      <td>buying property for renting out</td>\n",
       "    </tr>\n",
       "    <tr>\n",
       "      <th>14798</th>\n",
       "      <td>0</td>\n",
       "      <td>395302.838654</td>\n",
       "      <td>45</td>\n",
       "      <td>Bachelor's Degree</td>\n",
       "      <td>0</td>\n",
       "      <td>civil partnership</td>\n",
       "      <td>1</td>\n",
       "      <td>F</td>\n",
       "      <td>unemployed</td>\n",
       "      <td>0</td>\n",
       "      <td>32435.602</td>\n",
       "      <td>housing renovation</td>\n",
       "    </tr>\n",
       "  </tbody>\n",
       "</table>\n",
       "</div>"
      ],
      "text/plain": [
       "       children  days_employed  dob_years            education  education_id  \\\n",
       "3133          1  337524.466835         31  secondary education             1   \n",
       "14798         0  395302.838654         45    Bachelor's Degree             0   \n",
       "\n",
       "           family_status  family_status_id gender income_type  debt  \\\n",
       "3133             married                 0      M  unemployed     1   \n",
       "14798  civil partnership                 1      F  unemployed     0   \n",
       "\n",
       "       total_income                          purpose  \n",
       "3133       9593.119  buying property for renting out  \n",
       "14798     32435.602               housing renovation  "
      ]
     },
     "execution_count": 7,
     "metadata": {},
     "output_type": "execute_result"
    }
   ],
   "source": [
    "bank_data[bank_data['income_type'] == 'unemployed']"
   ]
  },
  {
   "cell_type": "code",
   "execution_count": 8,
   "metadata": {},
   "outputs": [
    {
     "name": "stdout",
     "output_type": "stream",
     "text": [
      "\n",
      "   children  days_employed  dob_years            education  education_id  \\\n",
      "0         0            NaN         65  secondary education             1   \n",
      "1         0            NaN         41  secondary education             1   \n",
      "2         0            NaN         63  secondary education             1   \n",
      "3         0            NaN         50  secondary education             1   \n",
      "4         0            NaN         54  secondary education             1   \n",
      "5         0            NaN         21  secondary education             1   \n",
      "6         0            NaN         52    bachelor's degree             0   \n",
      "7         1            NaN         32    bachelor's degree             0   \n",
      "8         2            NaN         50    bachelor's degree             0   \n",
      "9         0            NaN         52  secondary education             1   \n",
      "\n",
      "       family_status  family_status_id gender    income_type  debt  \\\n",
      "0  civil partnership                 1      M        retiree     0   \n",
      "1            married                 0      M  civil servant     0   \n",
      "2          unmarried                 4      F        retiree     0   \n",
      "3            married                 0      F  civil servant     0   \n",
      "4  civil partnership                 1      F        retiree     1   \n",
      "5          unmarried                 4      M       business     0   \n",
      "6            married                 0      F        retiree     0   \n",
      "7            married                 0      M  civil servant     0   \n",
      "8            married                 0      F       employee     0   \n",
      "9            married                 0      M       employee     0   \n",
      "\n",
      "   total_income                                   purpose  \n",
      "0           NaN                         to have a wedding  \n",
      "1           NaN                                 education  \n",
      "2           NaN                    building a real estate  \n",
      "3           NaN                  second-hand car purchase  \n",
      "4           NaN                         to have a wedding  \n",
      "5           NaN  transactions with commercial real estate  \n",
      "6           NaN       purchase of the house for my family  \n",
      "7           NaN  transactions with commercial real estate  \n",
      "8           NaN                                   housing  \n",
      "9           NaN                                   housing  \n"
     ]
    }
   ],
   "source": [
    "# Let's apply multiple conditions for filtering data and look at the number of rows in the filtered table.\n",
    "missing_data = bank_data.loc[bank_data['days_employed'].isna() == True, :].reset_index(drop=True)\n",
    "print()\n",
    "print(missing_data.head(10))"
   ]
  },
  {
   "cell_type": "markdown",
   "metadata": {},
   "source": [
    "**Intermediate conclusion**\n",
    "\n",
    "The number of rows in the filtered table (missing_data) matches the number of missing values. As stated above the percentage of missing values compared to the whole dataset for the 'days_employed' and 'total_income' of the bank_data type is about 10%.\n",
    "\n",
    "My original thought was that missing entries were all retired customers, but the first 10 rows shows that while some are indeed retired, other entries in the first 10 row include 'civil servant', 'business', and 'employee'. I would think that while my original thought is partially correct, some of the other entries may have been logged incorrectly or skipped by the client. \n",
    "\n",
    "It's also interesting to note that clients who are labeled as 'unemployed' still have an entry in 'days_employed' and 'total_income'.\n",
    "\n",
    "My next steps are to find possible reasons for the missing values as my original idea proved at least partially incorrect. I also will determine whether or not there is a pattern among the missing values. This will aid me later when I will have to fill in the missing values.\n"
   ]
  },
  {
   "cell_type": "code",
   "execution_count": 9,
   "metadata": {},
   "outputs": [
    {
     "data": {
      "text/html": [
       "<div>\n",
       "<style scoped>\n",
       "    .dataframe tbody tr th:only-of-type {\n",
       "        vertical-align: middle;\n",
       "    }\n",
       "\n",
       "    .dataframe tbody tr th {\n",
       "        vertical-align: top;\n",
       "    }\n",
       "\n",
       "    .dataframe thead th {\n",
       "        text-align: right;\n",
       "    }\n",
       "</style>\n",
       "<table border=\"1\" class=\"dataframe\">\n",
       "  <thead>\n",
       "    <tr style=\"text-align: right;\">\n",
       "      <th></th>\n",
       "      <th>children</th>\n",
       "      <th>days_employed</th>\n",
       "      <th>dob_years</th>\n",
       "      <th>education</th>\n",
       "      <th>education_id</th>\n",
       "      <th>family_status</th>\n",
       "      <th>family_status_id</th>\n",
       "      <th>gender</th>\n",
       "      <th>income_type</th>\n",
       "      <th>debt</th>\n",
       "      <th>total_income</th>\n",
       "      <th>purpose</th>\n",
       "    </tr>\n",
       "  </thead>\n",
       "  <tbody>\n",
       "    <tr>\n",
       "      <th>0</th>\n",
       "      <td>0</td>\n",
       "      <td>NaN</td>\n",
       "      <td>65</td>\n",
       "      <td>secondary education</td>\n",
       "      <td>1</td>\n",
       "      <td>civil partnership</td>\n",
       "      <td>1</td>\n",
       "      <td>M</td>\n",
       "      <td>retiree</td>\n",
       "      <td>0</td>\n",
       "      <td>NaN</td>\n",
       "      <td>to have a wedding</td>\n",
       "    </tr>\n",
       "    <tr>\n",
       "      <th>1</th>\n",
       "      <td>0</td>\n",
       "      <td>NaN</td>\n",
       "      <td>41</td>\n",
       "      <td>secondary education</td>\n",
       "      <td>1</td>\n",
       "      <td>married</td>\n",
       "      <td>0</td>\n",
       "      <td>M</td>\n",
       "      <td>civil servant</td>\n",
       "      <td>0</td>\n",
       "      <td>NaN</td>\n",
       "      <td>education</td>\n",
       "    </tr>\n",
       "    <tr>\n",
       "      <th>2</th>\n",
       "      <td>0</td>\n",
       "      <td>NaN</td>\n",
       "      <td>63</td>\n",
       "      <td>secondary education</td>\n",
       "      <td>1</td>\n",
       "      <td>unmarried</td>\n",
       "      <td>4</td>\n",
       "      <td>F</td>\n",
       "      <td>retiree</td>\n",
       "      <td>0</td>\n",
       "      <td>NaN</td>\n",
       "      <td>building a real estate</td>\n",
       "    </tr>\n",
       "    <tr>\n",
       "      <th>3</th>\n",
       "      <td>0</td>\n",
       "      <td>NaN</td>\n",
       "      <td>50</td>\n",
       "      <td>secondary education</td>\n",
       "      <td>1</td>\n",
       "      <td>married</td>\n",
       "      <td>0</td>\n",
       "      <td>F</td>\n",
       "      <td>civil servant</td>\n",
       "      <td>0</td>\n",
       "      <td>NaN</td>\n",
       "      <td>second-hand car purchase</td>\n",
       "    </tr>\n",
       "    <tr>\n",
       "      <th>4</th>\n",
       "      <td>0</td>\n",
       "      <td>NaN</td>\n",
       "      <td>54</td>\n",
       "      <td>secondary education</td>\n",
       "      <td>1</td>\n",
       "      <td>civil partnership</td>\n",
       "      <td>1</td>\n",
       "      <td>F</td>\n",
       "      <td>retiree</td>\n",
       "      <td>1</td>\n",
       "      <td>NaN</td>\n",
       "      <td>to have a wedding</td>\n",
       "    </tr>\n",
       "    <tr>\n",
       "      <th>5</th>\n",
       "      <td>0</td>\n",
       "      <td>NaN</td>\n",
       "      <td>21</td>\n",
       "      <td>secondary education</td>\n",
       "      <td>1</td>\n",
       "      <td>unmarried</td>\n",
       "      <td>4</td>\n",
       "      <td>M</td>\n",
       "      <td>business</td>\n",
       "      <td>0</td>\n",
       "      <td>NaN</td>\n",
       "      <td>transactions with commercial real estate</td>\n",
       "    </tr>\n",
       "    <tr>\n",
       "      <th>6</th>\n",
       "      <td>0</td>\n",
       "      <td>NaN</td>\n",
       "      <td>52</td>\n",
       "      <td>bachelor's degree</td>\n",
       "      <td>0</td>\n",
       "      <td>married</td>\n",
       "      <td>0</td>\n",
       "      <td>F</td>\n",
       "      <td>retiree</td>\n",
       "      <td>0</td>\n",
       "      <td>NaN</td>\n",
       "      <td>purchase of the house for my family</td>\n",
       "    </tr>\n",
       "    <tr>\n",
       "      <th>7</th>\n",
       "      <td>1</td>\n",
       "      <td>NaN</td>\n",
       "      <td>32</td>\n",
       "      <td>bachelor's degree</td>\n",
       "      <td>0</td>\n",
       "      <td>married</td>\n",
       "      <td>0</td>\n",
       "      <td>M</td>\n",
       "      <td>civil servant</td>\n",
       "      <td>0</td>\n",
       "      <td>NaN</td>\n",
       "      <td>transactions with commercial real estate</td>\n",
       "    </tr>\n",
       "    <tr>\n",
       "      <th>8</th>\n",
       "      <td>2</td>\n",
       "      <td>NaN</td>\n",
       "      <td>50</td>\n",
       "      <td>bachelor's degree</td>\n",
       "      <td>0</td>\n",
       "      <td>married</td>\n",
       "      <td>0</td>\n",
       "      <td>F</td>\n",
       "      <td>employee</td>\n",
       "      <td>0</td>\n",
       "      <td>NaN</td>\n",
       "      <td>housing</td>\n",
       "    </tr>\n",
       "    <tr>\n",
       "      <th>9</th>\n",
       "      <td>0</td>\n",
       "      <td>NaN</td>\n",
       "      <td>52</td>\n",
       "      <td>secondary education</td>\n",
       "      <td>1</td>\n",
       "      <td>married</td>\n",
       "      <td>0</td>\n",
       "      <td>M</td>\n",
       "      <td>employee</td>\n",
       "      <td>0</td>\n",
       "      <td>NaN</td>\n",
       "      <td>housing</td>\n",
       "    </tr>\n",
       "  </tbody>\n",
       "</table>\n",
       "</div>"
      ],
      "text/plain": [
       "   children  days_employed  dob_years            education  education_id  \\\n",
       "0         0            NaN         65  secondary education             1   \n",
       "1         0            NaN         41  secondary education             1   \n",
       "2         0            NaN         63  secondary education             1   \n",
       "3         0            NaN         50  secondary education             1   \n",
       "4         0            NaN         54  secondary education             1   \n",
       "5         0            NaN         21  secondary education             1   \n",
       "6         0            NaN         52    bachelor's degree             0   \n",
       "7         1            NaN         32    bachelor's degree             0   \n",
       "8         2            NaN         50    bachelor's degree             0   \n",
       "9         0            NaN         52  secondary education             1   \n",
       "\n",
       "       family_status  family_status_id gender    income_type  debt  \\\n",
       "0  civil partnership                 1      M        retiree     0   \n",
       "1            married                 0      M  civil servant     0   \n",
       "2          unmarried                 4      F        retiree     0   \n",
       "3            married                 0      F  civil servant     0   \n",
       "4  civil partnership                 1      F        retiree     1   \n",
       "5          unmarried                 4      M       business     0   \n",
       "6            married                 0      F        retiree     0   \n",
       "7            married                 0      M  civil servant     0   \n",
       "8            married                 0      F       employee     0   \n",
       "9            married                 0      M       employee     0   \n",
       "\n",
       "   total_income                                   purpose  \n",
       "0           NaN                         to have a wedding  \n",
       "1           NaN                                 education  \n",
       "2           NaN                    building a real estate  \n",
       "3           NaN                  second-hand car purchase  \n",
       "4           NaN                         to have a wedding  \n",
       "5           NaN  transactions with commercial real estate  \n",
       "6           NaN       purchase of the house for my family  \n",
       "7           NaN  transactions with commercial real estate  \n",
       "8           NaN                                   housing  \n",
       "9           NaN                                   housing  "
      ]
     },
     "execution_count": 9,
     "metadata": {},
     "output_type": "execute_result"
    }
   ],
   "source": [
    "# Let's investigate clients who do not have data on identified characteristic and the column with the missing values\n",
    "missing_data.head(10)\n"
   ]
  },
  {
   "cell_type": "code",
   "execution_count": 10,
   "metadata": {
    "scrolled": false
   },
   "outputs": [
    {
     "name": "stdout",
     "output_type": "stream",
     "text": [
      "employee         1105\n",
      "business          508\n",
      "retiree           413\n",
      "civil servant     147\n",
      "entrepreneur        1\n",
      "Name: income_type, dtype: int64\n",
      "employee         0.508280\n",
      "business         0.233671\n",
      "retiree          0.189972\n",
      "civil servant    0.067617\n",
      "entrepreneur     0.000460\n",
      "Name: income_type, dtype: float64\n"
     ]
    }
   ],
   "source": [
    "print(missing_data['income_type'].value_counts())\n",
    "print(missing_data['income_type'].value_counts()/ missing_data.shape[0])"
   ]
  },
  {
   "cell_type": "code",
   "execution_count": 11,
   "metadata": {
    "scrolled": true
   },
   "outputs": [
    {
     "name": "stdout",
     "output_type": "stream",
     "text": [
      "employee                       11119\n",
      "business                        5085\n",
      "retiree                         3856\n",
      "civil servant                   1459\n",
      "entrepreneur                       2\n",
      "unemployed                         2\n",
      "paternity / maternity leave        1\n",
      "student                            1\n",
      "Name: income_type, dtype: int64\n",
      "employee                       0.516562\n",
      "business                       0.236237\n",
      "retiree                        0.179141\n",
      "civil servant                  0.067782\n",
      "entrepreneur                   0.000093\n",
      "unemployed                     0.000093\n",
      "paternity / maternity leave    0.000046\n",
      "student                        0.000046\n",
      "Name: income_type, dtype: float64\n"
     ]
    }
   ],
   "source": [
    "print(bank_data['income_type'].value_counts())\n",
    "\n",
    "print(bank_data['income_type'].value_counts()/bank_data.shape[0])"
   ]
  },
  {
   "cell_type": "markdown",
   "metadata": {},
   "source": [
    "In checking the distribution of income type with missing values, it is apparent that 'employee' is the most prevalent income type, accounting for 50% of the missing data. This goes against my original assumption that retirees would make up the bulk of the missing data. Also in the bank_data table there are retirees that do report an income, which means not all retirees failed to report an income.  \n",
    "\n",
    "\n",
    "**Possible reasons for missing values in data**\n",
    "\n",
    "I propose that the missing values are due to a possible human error. Comparing the percentage of income types with the percentage of income types with missing values, the percentages are very similar. This leads me to believe that there are missing values across almost all the income types except for 3 (unemployed, student, and paternity/maternity leave) and that there is no pattern.  \n",
    "\n"
   ]
  },
  {
   "cell_type": "code",
   "execution_count": 12,
   "metadata": {
    "scrolled": true
   },
   "outputs": [
    {
     "data": {
      "text/plain": [
       "children            0.000000\n",
       "days_employed       0.100999\n",
       "dob_years           0.000000\n",
       "education           0.000000\n",
       "education_id        0.000000\n",
       "family_status       0.000000\n",
       "family_status_id    0.000000\n",
       "gender              0.000000\n",
       "income_type         0.000000\n",
       "debt                0.000000\n",
       "total_income        0.100999\n",
       "purpose             0.000000\n",
       "dtype: float64"
      ]
     },
     "execution_count": 12,
     "metadata": {},
     "output_type": "execute_result"
    }
   ],
   "source": [
    "# Checking the distribution in the whole dataset\n",
    "bank_data.isna().sum()/ bank_data.shape[0]\n"
   ]
  },
  {
   "cell_type": "code",
   "execution_count": 13,
   "metadata": {},
   "outputs": [
    {
     "name": "stdout",
     "output_type": "stream",
     "text": [
      "employee         1105\n",
      "business          508\n",
      "retiree           413\n",
      "civil servant     147\n",
      "entrepreneur        1\n",
      "Name: income_type, dtype: int64\n",
      "\n",
      "employee         0.508280\n",
      "business         0.233671\n",
      "retiree          0.189972\n",
      "civil servant    0.067617\n",
      "entrepreneur     0.000460\n",
      "Name: income_type, dtype: float64\n"
     ]
    }
   ],
   "source": [
    "print(missing_data['income_type'].value_counts())\n",
    "print()\n",
    "print(missing_data['income_type'].value_counts()/missing_data.shape[0])"
   ]
  },
  {
   "cell_type": "markdown",
   "metadata": {},
   "source": [
    "**Intermediate conclusion**\n",
    "I am first investigating whether income type will lend some clues as to whether there is a pattern for the missing values. The distribution in this filtered table is similar to the original dataset which leads me to believe that the missing values are random. \n",
    "\n",
    "\n"
   ]
  },
  {
   "cell_type": "code",
   "execution_count": 14,
   "metadata": {
    "scrolled": true
   },
   "outputs": [
    {
     "data": {
      "text/plain": [
       "0.6826126954921803"
      ]
     },
     "execution_count": 14,
     "metadata": {},
     "output_type": "execute_result"
    }
   ],
   "source": [
    "# Check for other reasons and patterns that could lead to missing values\n",
    "missing_data.loc[missing_data['gender'] == 'F']['gender'].count() / missing_data.shape[0]"
   ]
  },
  {
   "cell_type": "code",
   "execution_count": 15,
   "metadata": {},
   "outputs": [
    {
     "name": "stdout",
     "output_type": "stream",
     "text": [
      "F    0.66137\n",
      "Name: gender, dtype: float64\n"
     ]
    }
   ],
   "source": [
    "print(bank_data.loc[bank_data['gender'] == 'F']['gender'].value_counts()/bank_data.shape[0])"
   ]
  },
  {
   "cell_type": "code",
   "execution_count": 16,
   "metadata": {
    "scrolled": true
   },
   "outputs": [
    {
     "data": {
      "text/plain": [
       "0.3173873045078197"
      ]
     },
     "execution_count": 16,
     "metadata": {},
     "output_type": "execute_result"
    }
   ],
   "source": [
    "missing_data.loc[missing_data['gender'] == 'M']['gender'].count() / missing_data.shape[0]"
   ]
  },
  {
   "cell_type": "code",
   "execution_count": 17,
   "metadata": {},
   "outputs": [
    {
     "name": "stdout",
     "output_type": "stream",
     "text": [
      "M    0.338583\n",
      "Name: gender, dtype: float64\n"
     ]
    }
   ],
   "source": [
    "print(bank_data.loc[bank_data['gender'] == 'M']['gender'].value_counts()/bank_data.shape[0])"
   ]
  },
  {
   "cell_type": "code",
   "execution_count": 18,
   "metadata": {},
   "outputs": [
    {
     "name": "stdout",
     "output_type": "stream",
     "text": [
      "having a wedding                            92\n",
      "to have a wedding                           81\n",
      "wedding ceremony                            76\n",
      "construction of own property                75\n",
      "housing transactions                        74\n",
      "buy real estate                             72\n",
      "purchase of the house for my family         71\n",
      "transactions with my real estate            71\n",
      "transactions with commercial real estate    70\n",
      "housing renovation                          70\n",
      "buy commercial real estate                  67\n",
      "buying property for renting out             65\n",
      "property                                    62\n",
      "buy residential real estate                 61\n",
      "real estate transactions                    61\n",
      "housing                                     60\n",
      "building a property                         59\n",
      "cars                                        57\n",
      "going to university                         56\n",
      "to become educated                          55\n",
      "second-hand car purchase                    54\n",
      "buying my own car                           53\n",
      "to own a car                                52\n",
      "purchase of the house                       52\n",
      "to get a supplementary education            51\n",
      "getting an education                        50\n",
      "supplementary education                     48\n",
      "profile education                           47\n",
      "purchase of my own house                    46\n",
      "purchase of a car                           46\n",
      "building a real estate                      46\n",
      "car purchase                                43\n",
      "buying a second-hand car                    42\n",
      "education                                   42\n",
      "car                                         41\n",
      "university education                        40\n",
      "getting higher education                    36\n",
      "to buy a car                                30\n",
      "Name: purpose, dtype: int64\n",
      "\n",
      "having a wedding                            0.042318\n",
      "to have a wedding                           0.037259\n",
      "wedding ceremony                            0.034959\n",
      "construction of own property                0.034499\n",
      "housing transactions                        0.034039\n",
      "buy real estate                             0.033119\n",
      "purchase of the house for my family         0.032659\n",
      "transactions with my real estate            0.032659\n",
      "transactions with commercial real estate    0.032199\n",
      "housing renovation                          0.032199\n",
      "buy commercial real estate                  0.030819\n",
      "buying property for renting out             0.029899\n",
      "property                                    0.028519\n",
      "buy residential real estate                 0.028059\n",
      "real estate transactions                    0.028059\n",
      "housing                                     0.027599\n",
      "building a property                         0.027139\n",
      "cars                                        0.026219\n",
      "going to university                         0.025759\n",
      "to become educated                          0.025299\n",
      "second-hand car purchase                    0.024839\n",
      "buying my own car                           0.024379\n",
      "to own a car                                0.023919\n",
      "purchase of the house                       0.023919\n",
      "to get a supplementary education            0.023459\n",
      "getting an education                        0.022999\n",
      "supplementary education                     0.022079\n",
      "profile education                           0.021619\n",
      "purchase of my own house                    0.021159\n",
      "purchase of a car                           0.021159\n",
      "building a real estate                      0.021159\n",
      "car purchase                                0.019779\n",
      "buying a second-hand car                    0.019319\n",
      "education                                   0.019319\n",
      "car                                         0.018859\n",
      "university education                        0.018399\n",
      "getting higher education                    0.016559\n",
      "to buy a car                                0.013799\n",
      "Name: purpose, dtype: float64\n"
     ]
    }
   ],
   "source": [
    "print(missing_data['purpose'].value_counts())\n",
    "print()\n",
    "print(missing_data['purpose'].value_counts()/missing_data.shape[0])"
   ]
  },
  {
   "cell_type": "code",
   "execution_count": 19,
   "metadata": {},
   "outputs": [
    {
     "name": "stdout",
     "output_type": "stream",
     "text": [
      "wedding ceremony                            0.037027\n",
      "having a wedding                            0.036098\n",
      "to have a wedding                           0.035958\n",
      "real estate transactions                    0.031405\n",
      "buy commercial real estate                  0.030848\n",
      "buying property for renting out             0.030337\n",
      "housing transactions                        0.030337\n",
      "transactions with commercial real estate    0.030244\n",
      "housing                                     0.030058\n",
      "purchase of the house                       0.030058\n",
      "purchase of the house for my family         0.029779\n",
      "construction of own property                0.029501\n",
      "property                                    0.029454\n",
      "transactions with my real estate            0.029268\n",
      "building a real estate                      0.029082\n",
      "buy real estate                             0.028990\n",
      "purchase of my own house                    0.028804\n",
      "building a property                         0.028804\n",
      "housing renovation                          0.028432\n",
      "buy residential real estate                 0.028200\n",
      "buying my own car                           0.023461\n",
      "going to university                         0.023043\n",
      "car                                         0.022997\n",
      "second-hand car purchase                    0.022718\n",
      "to own a car                                0.022300\n",
      "buying a second-hand car                    0.022253\n",
      "cars                                        0.022207\n",
      "to buy a car                                0.021928\n",
      "car purchase                                0.021463\n",
      "supplementary education                     0.021463\n",
      "purchase of a car                           0.021138\n",
      "university education                        0.021045\n",
      "to get a supplementary education            0.020767\n",
      "education                                   0.020767\n",
      "getting an education                        0.020581\n",
      "profile education                           0.020256\n",
      "getting higher education                    0.019791\n",
      "to become educated                          0.019141\n",
      "Name: purpose, dtype: float64\n"
     ]
    }
   ],
   "source": [
    "print(bank_data['purpose'].value_counts()/bank_data.shape[0])"
   ]
  },
  {
   "cell_type": "markdown",
   "metadata": {},
   "source": [
    "**Intermediate conclusion**\n",
    "\n",
    "After looking into the distribution of possible other factors (gender and loan purpose), it is apparent that the distribution of the filtered tables are similar to the original table. I believe it is safe to confirm that the missing values are accidental. I will report this to the department responsible for this data and ask if it's possible to get the meta data.\n"
   ]
  },
  {
   "cell_type": "markdown",
   "metadata": {},
   "source": [
    "**Conclusions**\n",
    "\n",
    "After further investigation, I did not find any pattern in the missing values. The distributions of the missing values when filtering the data by gender, loan purpose, and income type did not yield any pattern as the distributions of the filtered table were similar to the original dataset.  \n",
    "\n",
    "\n",
    "\n",
    "Through using the absolute value method, I will adjust the 'days_employed' column to change all the integers to positive integers. As total income is imperative to our hypotheses, I will determine the possible factors that can affect one's income and then find the median or mean incomes of those parameters. If there are outliers in these calculations then I will be using the median and if there are no outliers I will use the mean.\n",
    "\n",
    "\n",
    "\n",
    "My next steps will be transforming the data. This will include ensuring all entries are in lower case to ease with the possible elimination of duplicates, filling in missing values using the best practice, and addressing any potential errors. \n",
    "\n"
   ]
  },
  {
   "cell_type": "markdown",
   "metadata": {},
   "source": [
    "## Data transformation\n",
    "\n",
    "\n"
   ]
  },
  {
   "cell_type": "code",
   "execution_count": 20,
   "metadata": {},
   "outputs": [
    {
     "data": {
      "text/plain": [
       "secondary education    13750\n",
       "bachelor's degree       4718\n",
       "SECONDARY EDUCATION      772\n",
       "Secondary Education      711\n",
       "some college             668\n",
       "BACHELOR'S DEGREE        274\n",
       "Bachelor's Degree        268\n",
       "primary education        250\n",
       "Some College              47\n",
       "SOME COLLEGE              29\n",
       "PRIMARY EDUCATION         17\n",
       "Primary Education         15\n",
       "graduate degree            4\n",
       "Graduate Degree            1\n",
       "GRADUATE DEGREE            1\n",
       "Name: education, dtype: int64"
      ]
     },
     "execution_count": 20,
     "metadata": {},
     "output_type": "execute_result"
    }
   ],
   "source": [
    "# Let's see all values in education column to check if and what spellings will need to be fixed\n",
    "bank_data['education'].value_counts()\n"
   ]
  },
  {
   "cell_type": "code",
   "execution_count": 21,
   "metadata": {
    "scrolled": true
   },
   "outputs": [],
   "source": [
    "# Fix the registers if required\n",
    "bank_data['education'] = bank_data['education'].str.lower()"
   ]
  },
  {
   "cell_type": "code",
   "execution_count": 22,
   "metadata": {},
   "outputs": [
    {
     "data": {
      "text/plain": [
       "secondary education    15233\n",
       "bachelor's degree       5260\n",
       "some college             744\n",
       "primary education        282\n",
       "graduate degree            6\n",
       "Name: education, dtype: int64"
      ]
     },
     "execution_count": 22,
     "metadata": {},
     "output_type": "execute_result"
    }
   ],
   "source": [
    "# Checking all the values in the column to make sure we fixed them\n",
    "bank_data['education'].value_counts()\n"
   ]
  },
  {
   "cell_type": "code",
   "execution_count": 23,
   "metadata": {},
   "outputs": [
    {
     "data": {
      "text/plain": [
       " 0     14149\n",
       " 1      4818\n",
       " 2      2055\n",
       " 3       330\n",
       " 20       76\n",
       "-1        47\n",
       " 4        41\n",
       " 5         9\n",
       "Name: children, dtype: int64"
      ]
     },
     "execution_count": 23,
     "metadata": {},
     "output_type": "execute_result"
    }
   ],
   "source": [
    "# Let's see the distribution of values in the `children` column\n",
    "bank_data['children'].value_counts()"
   ]
  },
  {
   "cell_type": "code",
   "execution_count": 24,
   "metadata": {},
   "outputs": [
    {
     "data": {
      "text/plain": [
       " 0     0.657329\n",
       " 1     0.223833\n",
       " 2     0.095470\n",
       " 3     0.015331\n",
       " 20    0.003531\n",
       "-1     0.002184\n",
       " 4     0.001905\n",
       " 5     0.000418\n",
       "Name: children, dtype: float64"
      ]
     },
     "execution_count": 24,
     "metadata": {},
     "output_type": "execute_result"
    }
   ],
   "source": [
    "bank_data['children'].value_counts()/ bank_data['children'].count()"
   ]
  },
  {
   "cell_type": "markdown",
   "metadata": {},
   "source": [
    "There are 47 entries of a client having -1 children. This makes up about .2% of the children column, a low percentage. It is possible that the client meant to indicate 1 child and there was a typo. Seeing how it is a low percentage, I am going to change the -1 to a 1, thus adding those 47 entries to the 1 child categorization. \n"
   ]
  },
  {
   "cell_type": "code",
   "execution_count": 25,
   "metadata": {},
   "outputs": [],
   "source": [
    "# [fix the data based on your decision]\n",
    "bank_data['children']= bank_data['children'].replace(-1,1)"
   ]
  },
  {
   "cell_type": "code",
   "execution_count": 26,
   "metadata": {},
   "outputs": [
    {
     "data": {
      "text/plain": [
       "0     14149\n",
       "1      4865\n",
       "2      2055\n",
       "3       330\n",
       "20       76\n",
       "4        41\n",
       "5         9\n",
       "Name: children, dtype: int64"
      ]
     },
     "execution_count": 26,
     "metadata": {},
     "output_type": "execute_result"
    }
   ],
   "source": [
    "# Checking the `children` column again to make sure it's all fixed\n",
    "\n",
    "bank_data['children'].value_counts()"
   ]
  },
  {
   "cell_type": "code",
   "execution_count": 27,
   "metadata": {},
   "outputs": [
    {
     "name": "stdout",
     "output_type": "stream",
     "text": [
      "0     -8437.673028\n",
      "1     -4024.803754\n",
      "2     -5623.422610\n",
      "3     -4124.747207\n",
      "4    340266.072047\n",
      "5      -926.185831\n",
      "6     -2879.202052\n",
      "7      -152.779569\n",
      "8     -6929.865299\n",
      "9     -2188.756445\n",
      "Name: days_employed, dtype: float64\n",
      "\n",
      "15906\n",
      "\n",
      "0.8219730246498889\n"
     ]
    }
   ],
   "source": [
    "# Find problematic data in `days_employed`, if they exist, and calculate the percentage\n",
    "print(bank_data['days_employed'].head(10))\n",
    "print()\n",
    "print(bank_data.loc[bank_data['days_employed'] < 0]['days_employed'].count())\n",
    "print()\n",
    "print(bank_data.loc[bank_data['days_employed'] < 0]['days_employed'].count() / bank_data['days_employed'].count())"
   ]
  },
  {
   "cell_type": "markdown",
   "metadata": {},
   "source": [
    "In the days employed column there is a large parcentage (82%) of entries that are logged as negative numbers. Because the percentage is so high, it is possible this was caused by a technical issue. I propose that the numbers themselves are accurate but they should be positive, rather than negative numbers. I will use the absolute value method to turn the negative integers into positive integers.\n"
   ]
  },
  {
   "cell_type": "code",
   "execution_count": 28,
   "metadata": {},
   "outputs": [],
   "source": [
    "# Address the problematic values, if they exist\n",
    "bank_data['days_employed'] = bank_data['days_employed'].abs()\n"
   ]
  },
  {
   "cell_type": "code",
   "execution_count": 29,
   "metadata": {},
   "outputs": [
    {
     "data": {
      "text/plain": [
       "0      8437.673028\n",
       "1      4024.803754\n",
       "2      5623.422610\n",
       "3      4124.747207\n",
       "4    340266.072047\n",
       "5       926.185831\n",
       "6      2879.202052\n",
       "7       152.779569\n",
       "8      6929.865299\n",
       "9      2188.756445\n",
       "Name: days_employed, dtype: float64"
      ]
     },
     "execution_count": 29,
     "metadata": {},
     "output_type": "execute_result"
    }
   ],
   "source": [
    "# Check the result - make sure it's fixed\n",
    "bank_data['days_employed'].head(10)"
   ]
  },
  {
   "cell_type": "code",
   "execution_count": 30,
   "metadata": {
    "scrolled": true
   },
   "outputs": [
    {
     "name": "stdout",
     "output_type": "stream",
     "text": [
      "0     101\n",
      "19     14\n",
      "20     51\n",
      "21    111\n",
      "22    183\n",
      "23    254\n",
      "24    264\n",
      "25    357\n",
      "26    408\n",
      "27    493\n",
      "28    503\n",
      "29    545\n",
      "30    540\n",
      "31    560\n",
      "32    510\n",
      "33    581\n",
      "34    603\n",
      "35    617\n",
      "36    555\n",
      "37    537\n",
      "38    598\n",
      "39    573\n",
      "40    609\n",
      "41    607\n",
      "42    597\n",
      "43    513\n",
      "44    547\n",
      "45    497\n",
      "46    475\n",
      "47    480\n",
      "48    538\n",
      "49    508\n",
      "50    514\n",
      "51    448\n",
      "52    484\n",
      "53    459\n",
      "54    479\n",
      "55    443\n",
      "56    487\n",
      "57    460\n",
      "58    461\n",
      "59    444\n",
      "60    377\n",
      "61    355\n",
      "62    352\n",
      "63    269\n",
      "64    265\n",
      "65    194\n",
      "66    183\n",
      "67    167\n",
      "68     99\n",
      "69     85\n",
      "70     65\n",
      "71     58\n",
      "72     33\n",
      "73      8\n",
      "74      6\n",
      "75      1\n",
      "Name: dob_years, dtype: int64\n",
      "children            0.004692\n",
      "days_employed       0.004228\n",
      "dob_years           0.004692\n",
      "education           0.004692\n",
      "education_id        0.004692\n",
      "family_status       0.004692\n",
      "family_status_id    0.004692\n",
      "gender              0.004692\n",
      "income_type         0.004692\n",
      "debt                0.004692\n",
      "total_income        0.004228\n",
      "purpose             0.004692\n",
      "dtype: float64\n"
     ]
    }
   ],
   "source": [
    "# Check the `dob_years` for suspicious values and count the percentage\n",
    "print(bank_data['dob_years'].value_counts().sort_index())\n",
    "print(bank_data.loc[bank_data['dob_years'] == 0].count() / bank_data['dob_years'].count())"
   ]
  },
  {
   "cell_type": "markdown",
   "metadata": {},
   "source": [
    "In the 'dob_years' column that indicates the clients day of birth in years, there are 101 instances of the client being 0 years old. This acounts for about 0.4% of the 'dob_years' column. As the percentage is negligible I will drop the rows that have 0 as the date of birth in years.\n",
    "\n"
   ]
  },
  {
   "cell_type": "code",
   "execution_count": 31,
   "metadata": {},
   "outputs": [],
   "source": [
    "# Address the issues in the `dob_years` column, if they exist\n",
    "bank_data = bank_data.loc[bank_data['dob_years'] != 0]"
   ]
  },
  {
   "cell_type": "code",
   "execution_count": 32,
   "metadata": {},
   "outputs": [
    {
     "name": "stdout",
     "output_type": "stream",
     "text": [
      "19     14\n",
      "20     51\n",
      "21    111\n",
      "22    183\n",
      "23    254\n",
      "24    264\n",
      "25    357\n",
      "26    408\n",
      "27    493\n",
      "28    503\n",
      "29    545\n",
      "30    540\n",
      "31    560\n",
      "32    510\n",
      "33    581\n",
      "34    603\n",
      "35    617\n",
      "36    555\n",
      "37    537\n",
      "38    598\n",
      "39    573\n",
      "40    609\n",
      "41    607\n",
      "42    597\n",
      "43    513\n",
      "44    547\n",
      "45    497\n",
      "46    475\n",
      "47    480\n",
      "48    538\n",
      "49    508\n",
      "50    514\n",
      "51    448\n",
      "52    484\n",
      "53    459\n",
      "54    479\n",
      "55    443\n",
      "56    487\n",
      "57    460\n",
      "58    461\n",
      "59    444\n",
      "60    377\n",
      "61    355\n",
      "62    352\n",
      "63    269\n",
      "64    265\n",
      "65    194\n",
      "66    183\n",
      "67    167\n",
      "68     99\n",
      "69     85\n",
      "70     65\n",
      "71     58\n",
      "72     33\n",
      "73      8\n",
      "74      6\n",
      "75      1\n",
      "Name: dob_years, dtype: int64\n"
     ]
    }
   ],
   "source": [
    "# Check the result - make sure it's fixed\n",
    "print(bank_data['dob_years'].value_counts().sort_index())"
   ]
  },
  {
   "cell_type": "code",
   "execution_count": 33,
   "metadata": {},
   "outputs": [
    {
     "name": "stdout",
     "output_type": "stream",
     "text": [
      "married              12331\n",
      "civil partnership     4156\n",
      "unmarried             2797\n",
      "divorced              1185\n",
      "widow / widower        955\n",
      "Name: family_status, dtype: int64\n"
     ]
    }
   ],
   "source": [
    "# Let's see the values for the column\n",
    "print(bank_data['family_status'].value_counts())"
   ]
  },
  {
   "cell_type": "code",
   "execution_count": 34,
   "metadata": {},
   "outputs": [],
   "source": [
    "# Address the problematic values in `family_status`, if they exist\n",
    " \n"
   ]
  },
  {
   "cell_type": "markdown",
   "metadata": {},
   "source": [
    "There do not seem to be any problematic values in the 'family_status' column."
   ]
  },
  {
   "cell_type": "code",
   "execution_count": 35,
   "metadata": {},
   "outputs": [],
   "source": [
    "# Check the result - make sure it's fixed\n"
   ]
  },
  {
   "cell_type": "code",
   "execution_count": 36,
   "metadata": {},
   "outputs": [
    {
     "data": {
      "text/plain": [
       "F      14164\n",
       "M       7259\n",
       "XNA        1\n",
       "Name: gender, dtype: int64"
      ]
     },
     "execution_count": 36,
     "metadata": {},
     "output_type": "execute_result"
    }
   ],
   "source": [
    "# Let's see the values in the column\n",
    "bank_data['gender'].value_counts()"
   ]
  },
  {
   "cell_type": "markdown",
   "metadata": {},
   "source": [
    "There is one entry in the gender column that is 'XNA'."
   ]
  },
  {
   "cell_type": "code",
   "execution_count": 37,
   "metadata": {
    "scrolled": true
   },
   "outputs": [
    {
     "data": {
      "text/html": [
       "<div>\n",
       "<style scoped>\n",
       "    .dataframe tbody tr th:only-of-type {\n",
       "        vertical-align: middle;\n",
       "    }\n",
       "\n",
       "    .dataframe tbody tr th {\n",
       "        vertical-align: top;\n",
       "    }\n",
       "\n",
       "    .dataframe thead th {\n",
       "        text-align: right;\n",
       "    }\n",
       "</style>\n",
       "<table border=\"1\" class=\"dataframe\">\n",
       "  <thead>\n",
       "    <tr style=\"text-align: right;\">\n",
       "      <th></th>\n",
       "      <th>children</th>\n",
       "      <th>days_employed</th>\n",
       "      <th>dob_years</th>\n",
       "      <th>education</th>\n",
       "      <th>education_id</th>\n",
       "      <th>family_status</th>\n",
       "      <th>family_status_id</th>\n",
       "      <th>gender</th>\n",
       "      <th>income_type</th>\n",
       "      <th>debt</th>\n",
       "      <th>total_income</th>\n",
       "      <th>purpose</th>\n",
       "    </tr>\n",
       "  </thead>\n",
       "  <tbody>\n",
       "    <tr>\n",
       "      <th>10701</th>\n",
       "      <td>0</td>\n",
       "      <td>2358.600502</td>\n",
       "      <td>24</td>\n",
       "      <td>some college</td>\n",
       "      <td>2</td>\n",
       "      <td>civil partnership</td>\n",
       "      <td>1</td>\n",
       "      <td>XNA</td>\n",
       "      <td>business</td>\n",
       "      <td>0</td>\n",
       "      <td>32624.825</td>\n",
       "      <td>buy real estate</td>\n",
       "    </tr>\n",
       "  </tbody>\n",
       "</table>\n",
       "</div>"
      ],
      "text/plain": [
       "       children  days_employed  dob_years     education  education_id  \\\n",
       "10701         0    2358.600502         24  some college             2   \n",
       "\n",
       "           family_status  family_status_id gender income_type  debt  \\\n",
       "10701  civil partnership                 1    XNA    business     0   \n",
       "\n",
       "       total_income          purpose  \n",
       "10701     32624.825  buy real estate  "
      ]
     },
     "execution_count": 37,
     "metadata": {},
     "output_type": "execute_result"
    }
   ],
   "source": [
    "bank_data[bank_data['gender'] == 'XNA']"
   ]
  },
  {
   "cell_type": "markdown",
   "metadata": {},
   "source": [
    "There is no way of knowing if this was a typo or if this client identifies as 'non-binary'. In case the latter is true, I will keep this row and not change anything. "
   ]
  },
  {
   "cell_type": "code",
   "execution_count": 38,
   "metadata": {},
   "outputs": [
    {
     "data": {
      "text/plain": [
       "employee                       11064\n",
       "business                        5065\n",
       "retiree                         3836\n",
       "civil servant                   1453\n",
       "entrepreneur                       2\n",
       "unemployed                         2\n",
       "paternity / maternity leave        1\n",
       "student                            1\n",
       "Name: income_type, dtype: int64"
      ]
     },
     "execution_count": 38,
     "metadata": {},
     "output_type": "execute_result"
    }
   ],
   "source": [
    "# Let's see the values in the column\n",
    "bank_data['income_type'].value_counts()"
   ]
  },
  {
   "cell_type": "markdown",
   "metadata": {},
   "source": [
    "One potential problem is the lack of clarity between 'business' and 'entrepreneur'. These values are not defined which leaves room for interpretation. I am going to interpret it the following way: An entrepreneur is someone who earns an income from their business. With that in mind, I am going to change 'entrepreneur' into 'business'. "
   ]
  },
  {
   "cell_type": "code",
   "execution_count": 39,
   "metadata": {},
   "outputs": [],
   "source": [
    "bank_data.loc[bank_data['income_type'] == 'entrepreneur','income_type'] = 'business'"
   ]
  },
  {
   "cell_type": "code",
   "execution_count": 40,
   "metadata": {},
   "outputs": [
    {
     "data": {
      "text/plain": [
       "employee                       11064\n",
       "business                        5067\n",
       "retiree                         3836\n",
       "civil servant                   1453\n",
       "unemployed                         2\n",
       "paternity / maternity leave        1\n",
       "student                            1\n",
       "Name: income_type, dtype: int64"
      ]
     },
     "execution_count": 40,
     "metadata": {},
     "output_type": "execute_result"
    }
   ],
   "source": [
    "# Check the result - make sure it's fixed\n",
    "bank_data['income_type'].value_counts()\n"
   ]
  },
  {
   "cell_type": "code",
   "execution_count": 41,
   "metadata": {},
   "outputs": [
    {
     "name": "stdout",
     "output_type": "stream",
     "text": [
      "71\n"
     ]
    }
   ],
   "source": [
    "# Checking duplicates\n",
    "print(bank_data.duplicated().sum())"
   ]
  },
  {
   "cell_type": "markdown",
   "metadata": {},
   "source": [
    "There are 71 duplicates in the dataset. As there is no unique identifier for each client, I will use the drop_duplicates method and reset the index."
   ]
  },
  {
   "cell_type": "code",
   "execution_count": 42,
   "metadata": {},
   "outputs": [],
   "source": [
    "# Address the duplicates, if they exist\n",
    "bank_data = bank_data.drop_duplicates().reset_index(drop=True)"
   ]
  },
  {
   "cell_type": "code",
   "execution_count": 43,
   "metadata": {},
   "outputs": [
    {
     "name": "stdout",
     "output_type": "stream",
     "text": [
      "0\n"
     ]
    }
   ],
   "source": [
    "# Last check whether we have any duplicates\n",
    "print(bank_data.duplicated().sum())"
   ]
  },
  {
   "cell_type": "code",
   "execution_count": 44,
   "metadata": {},
   "outputs": [
    {
     "data": {
      "text/plain": [
       "(21353, 12)"
      ]
     },
     "execution_count": 44,
     "metadata": {},
     "output_type": "execute_result"
    }
   ],
   "source": [
    "# Checking the size of the dataset \n",
    "bank_data.shape"
   ]
  },
  {
   "cell_type": "markdown",
   "metadata": {},
   "source": [
    "After my initial processing my dataset shape has changed from 21,525 rows to 21,353 rows, a change of about 0.8%. There are currently still 12 columns. I've changed the 'entrepreneur' income type to business and made sure the entries in education were all uniform. I've also dropped duplicate rows and eliminated any rows where a client was logged as being 0 years old.\n",
    "\n",
    "\n"
   ]
  },
  {
   "cell_type": "markdown",
   "metadata": {},
   "source": [
    "# Working with missing values"
   ]
  },
  {
   "cell_type": "markdown",
   "metadata": {},
   "source": [
    "In case I need them, I will create two dictionaries. One for the education/education_id columns and the another for the family_status/family_status_id colums. I chose these colums as they readily have unique ids provided that reference certain entries. \n"
   ]
  },
  {
   "cell_type": "code",
   "execution_count": 45,
   "metadata": {},
   "outputs": [
    {
     "data": {
      "text/plain": [
       "secondary education    15108\n",
       "bachelor's degree       5215\n",
       "some college             742\n",
       "primary education        282\n",
       "graduate degree            6\n",
       "Name: education, dtype: int64"
      ]
     },
     "execution_count": 45,
     "metadata": {},
     "output_type": "execute_result"
    }
   ],
   "source": [
    "bank_data['education'].value_counts()\n"
   ]
  },
  {
   "cell_type": "code",
   "execution_count": 46,
   "metadata": {},
   "outputs": [],
   "source": [
    "# Find the dictionaries\n",
    "education = {\n",
    "    0: 'bachelor\\'s degree',\n",
    "    1: 'secondary education',\n",
    "    2: 'some college',\n",
    "    3: 'primary education',\n",
    "    4: 'graduate degree'\n",
    "}\n",
    "\n"
   ]
  },
  {
   "cell_type": "code",
   "execution_count": 47,
   "metadata": {},
   "outputs": [
    {
     "name": "stdout",
     "output_type": "stream",
     "text": [
      "married              12290\n",
      "civil partnership     4130\n",
      "unmarried             2794\n",
      "divorced              1185\n",
      "widow / widower        954\n",
      "Name: family_status, dtype: int64\n"
     ]
    }
   ],
   "source": [
    "print(bank_data['family_status'].value_counts())\n"
   ]
  },
  {
   "cell_type": "code",
   "execution_count": 48,
   "metadata": {},
   "outputs": [],
   "source": [
    "family =  {\n",
    "    0: 'married',\n",
    "    1: 'civil partnership',\n",
    "    2: 'widow / widower',\n",
    "    3: 'divorced',\n",
    "    4: 'unmarried'\n",
    "}"
   ]
  },
  {
   "cell_type": "markdown",
   "metadata": {},
   "source": [
    "### Restoring missing values in `total_income`"
   ]
  },
  {
   "cell_type": "markdown",
   "metadata": {},
   "source": [
    "The total income and days employed colums have missing values that I will need to address. I will fix these columns by deciding which parameter would best help predict one's income or days employed and then I will find the median and mean of those parameters. Finally, after choosing between using the mean or median, I will use whichever one I chose to fill in the missing values. \n"
   ]
  },
  {
   "cell_type": "code",
   "execution_count": 49,
   "metadata": {},
   "outputs": [
    {
     "data": {
      "text/plain": [
       "19     14\n",
       "20     51\n",
       "21    111\n",
       "22    183\n",
       "23    252\n",
       "24    264\n",
       "25    357\n",
       "26    408\n",
       "27    493\n",
       "28    503\n",
       "29    544\n",
       "30    537\n",
       "31    559\n",
       "32    509\n",
       "33    581\n",
       "34    601\n",
       "35    616\n",
       "36    554\n",
       "37    536\n",
       "38    597\n",
       "39    572\n",
       "40    607\n",
       "41    605\n",
       "42    596\n",
       "43    512\n",
       "44    545\n",
       "45    496\n",
       "46    472\n",
       "47    477\n",
       "48    536\n",
       "49    508\n",
       "50    513\n",
       "51    446\n",
       "52    484\n",
       "53    459\n",
       "54    476\n",
       "55    443\n",
       "56    483\n",
       "57    456\n",
       "58    454\n",
       "59    443\n",
       "60    374\n",
       "61    354\n",
       "62    348\n",
       "63    269\n",
       "64    260\n",
       "65    193\n",
       "66    182\n",
       "67    167\n",
       "68     99\n",
       "69     85\n",
       "70     65\n",
       "71     56\n",
       "72     33\n",
       "73      8\n",
       "74      6\n",
       "75      1\n",
       "Name: dob_years, dtype: int64"
      ]
     },
     "execution_count": 49,
     "metadata": {},
     "output_type": "execute_result"
    }
   ],
   "source": [
    "bank_data['dob_years'].value_counts().sort_index()"
   ]
  },
  {
   "cell_type": "code",
   "execution_count": 50,
   "metadata": {},
   "outputs": [],
   "source": [
    "# Writing a function that calculates the age category\n",
    "\n",
    "def age_category(age):\n",
    "    if age < 20:\n",
    "        return 'under twenty'\n",
    "    if 20 <= age <= 29:\n",
    "        return '20s'\n",
    "    if 30 <= age <= 39:\n",
    "        return '30s'\n",
    "    if 40 <= age <= 49:\n",
    "        return '40s'\n",
    "    if 50 <= age <= 59:\n",
    "        return '50s'\n",
    "    if 60 <= age <= 69:\n",
    "        return '60s'\n",
    "    if age >= 70:\n",
    "        return 'over 70'\n",
    "    "
   ]
  },
  {
   "cell_type": "code",
   "execution_count": 51,
   "metadata": {},
   "outputs": [
    {
     "data": {
      "text/plain": [
       "'50s'"
      ]
     },
     "execution_count": 51,
     "metadata": {},
     "output_type": "execute_result"
    }
   ],
   "source": [
    "#Function test\n",
    "age_category(57)"
   ]
  },
  {
   "cell_type": "code",
   "execution_count": 52,
   "metadata": {},
   "outputs": [
    {
     "name": "stdout",
     "output_type": "stream",
     "text": [
      "   children  days_employed  dob_years            education  education_id  \\\n",
      "0         1    8437.673028         42    bachelor's degree             0   \n",
      "1         1    4024.803754         36  secondary education             1   \n",
      "2         0    5623.422610         33  secondary education             1   \n",
      "3         3    4124.747207         32  secondary education             1   \n",
      "4         0  340266.072047         53  secondary education             1   \n",
      "\n",
      "       family_status  family_status_id gender income_type  debt  total_income  \\\n",
      "0            married                 0      F    employee     0     40620.102   \n",
      "1            married                 0      F    employee     0     17932.802   \n",
      "2            married                 0      M    employee     0     23341.752   \n",
      "3            married                 0      M    employee     0     42820.568   \n",
      "4  civil partnership                 1      F     retiree     0     25378.572   \n",
      "\n",
      "                   purpose age_cat  \n",
      "0    purchase of the house     40s  \n",
      "1             car purchase     30s  \n",
      "2    purchase of the house     30s  \n",
      "3  supplementary education     30s  \n",
      "4        to have a wedding     50s  \n"
     ]
    }
   ],
   "source": [
    "# Creating new column based on function\n",
    "bank_data['age_cat'] = bank_data['dob_years'].apply(age_category)\n",
    "print(bank_data.head())"
   ]
  },
  {
   "cell_type": "code",
   "execution_count": 53,
   "metadata": {},
   "outputs": [
    {
     "data": {
      "text/plain": [
       "30s             5662\n",
       "40s             5354\n",
       "50s             4657\n",
       "20s             3166\n",
       "60s             2331\n",
       "over 70          169\n",
       "under twenty      14\n",
       "Name: age_cat, dtype: int64"
      ]
     },
     "execution_count": 53,
     "metadata": {},
     "output_type": "execute_result"
    }
   ],
   "source": [
    "# Checking how values in the new column\n",
    "bank_data['age_cat'].value_counts()\n"
   ]
  },
  {
   "cell_type": "markdown",
   "metadata": {},
   "source": [
    "One's income typically depends on one's job, education, age, experience/days employed, and gender. I will look at these parameters and choose the one that I feel has the strongest impact. \n",
    "\n"
   ]
  },
  {
   "cell_type": "code",
   "execution_count": 54,
   "metadata": {},
   "outputs": [
    {
     "name": "stdout",
     "output_type": "stream",
     "text": [
      "   children  days_employed  dob_years            education  education_id  \\\n",
      "0         1    8437.673028         42    bachelor's degree             0   \n",
      "1         1    4024.803754         36  secondary education             1   \n",
      "2         0    5623.422610         33  secondary education             1   \n",
      "3         3    4124.747207         32  secondary education             1   \n",
      "4         0  340266.072047         53  secondary education             1   \n",
      "\n",
      "       family_status  family_status_id gender income_type  debt  total_income  \\\n",
      "0            married                 0      F    employee     0     40620.102   \n",
      "1            married                 0      F    employee     0     17932.802   \n",
      "2            married                 0      M    employee     0     23341.752   \n",
      "3            married                 0      M    employee     0     42820.568   \n",
      "4  civil partnership                 1      F     retiree     0     25378.572   \n",
      "\n",
      "                   purpose age_cat  \n",
      "0    purchase of the house     40s  \n",
      "1             car purchase     30s  \n",
      "2    purchase of the house     30s  \n",
      "3  supplementary education     30s  \n",
      "4        to have a wedding     50s  \n",
      "children            0\n",
      "days_employed       0\n",
      "dob_years           0\n",
      "education           0\n",
      "education_id        0\n",
      "family_status       0\n",
      "family_status_id    0\n",
      "gender              0\n",
      "income_type         0\n",
      "debt                0\n",
      "total_income        0\n",
      "purpose             0\n",
      "age_cat             0\n",
      "dtype: int64\n"
     ]
    }
   ],
   "source": [
    "# Creating a table without missing values\n",
    "no_missing = bank_data.loc[(bank_data['days_employed'].isna() == False) & (bank_data['total_income'].isna() == False), :]\n",
    "print(no_missing.head())\n",
    "print(no_missing.isna().sum())"
   ]
  },
  {
   "cell_type": "code",
   "execution_count": 55,
   "metadata": {},
   "outputs": [
    {
     "data": {
      "text/plain": [
       "age_cat\n",
       "20s             25572.630177\n",
       "30s             28312.479963\n",
       "40s             28551.375635\n",
       "50s             25811.700327\n",
       "60s             23242.812818\n",
       "over 70         20125.658331\n",
       "under twenty    16993.942462\n",
       "Name: total_income, dtype: float64"
      ]
     },
     "execution_count": 55,
     "metadata": {},
     "output_type": "execute_result"
    }
   ],
   "source": [
    "# Looking at the mean values for income based identified factors\n",
    "no_missing.groupby('age_cat')['total_income'].mean().sort_index()"
   ]
  },
  {
   "cell_type": "code",
   "execution_count": 56,
   "metadata": {
    "scrolled": true
   },
   "outputs": [
    {
     "data": {
      "text/plain": [
       "age_cat\n",
       "20s             22799.2580\n",
       "30s             24667.5280\n",
       "40s             24764.2290\n",
       "50s             22203.0745\n",
       "60s             19817.4400\n",
       "over 70         18751.3240\n",
       "under twenty    14934.9010\n",
       "Name: total_income, dtype: float64"
      ]
     },
     "execution_count": 56,
     "metadata": {},
     "output_type": "execute_result"
    }
   ],
   "source": [
    "# Looking at the median values for income based identified factors\n",
    "no_missing.groupby('age_cat')['total_income'].median().sort_index()"
   ]
  },
  {
   "cell_type": "code",
   "execution_count": 57,
   "metadata": {},
   "outputs": [
    {
     "data": {
      "text/plain": [
       "gender\n",
       "F      24664.752169\n",
       "M      30905.772981\n",
       "XNA    32624.825000\n",
       "Name: total_income, dtype: float64"
      ]
     },
     "execution_count": 57,
     "metadata": {},
     "output_type": "execute_result"
    }
   ],
   "source": [
    "no_missing.groupby('gender')['total_income'].mean()"
   ]
  },
  {
   "cell_type": "code",
   "execution_count": 58,
   "metadata": {},
   "outputs": [
    {
     "data": {
      "text/plain": [
       "gender\n",
       "F      21469.0015\n",
       "M      26819.5670\n",
       "XNA    32624.8250\n",
       "Name: total_income, dtype: float64"
      ]
     },
     "execution_count": 58,
     "metadata": {},
     "output_type": "execute_result"
    }
   ],
   "source": [
    "no_missing.groupby('gender')['total_income'].median()"
   ]
  },
  {
   "cell_type": "code",
   "execution_count": 59,
   "metadata": {},
   "outputs": [
    {
     "data": {
      "text/plain": [
       "income_type\n",
       "business                       32407.766937\n",
       "civil servant                  27361.316126\n",
       "employee                       25824.679592\n",
       "paternity / maternity leave     8612.661000\n",
       "retiree                        21939.310393\n",
       "student                        15712.260000\n",
       "unemployed                     21014.360500\n",
       "Name: total_income, dtype: float64"
      ]
     },
     "execution_count": 59,
     "metadata": {},
     "output_type": "execute_result"
    }
   ],
   "source": [
    "no_missing.groupby('income_type')['total_income'].mean()"
   ]
  },
  {
   "cell_type": "code",
   "execution_count": 60,
   "metadata": {},
   "outputs": [
    {
     "data": {
      "text/plain": [
       "income_type\n",
       "business                       27571.0825\n",
       "civil servant                  24083.5065\n",
       "employee                       22815.1035\n",
       "paternity / maternity leave     8612.6610\n",
       "retiree                        18969.1490\n",
       "student                        15712.2600\n",
       "unemployed                     21014.3605\n",
       "Name: total_income, dtype: float64"
      ]
     },
     "execution_count": 60,
     "metadata": {},
     "output_type": "execute_result"
    }
   ],
   "source": [
    "no_missing.groupby('income_type')['total_income'].median()"
   ]
  },
  {
   "cell_type": "code",
   "execution_count": 61,
   "metadata": {},
   "outputs": [
    {
     "data": {
      "text/plain": [
       "education\n",
       "bachelor's degree      33172.428387\n",
       "graduate degree        27960.024667\n",
       "primary education      21144.882211\n",
       "secondary education    24600.353617\n",
       "some college           29040.391842\n",
       "Name: total_income, dtype: float64"
      ]
     },
     "execution_count": 61,
     "metadata": {},
     "output_type": "execute_result"
    }
   ],
   "source": [
    "no_missing.groupby('education')['total_income'].mean()"
   ]
  },
  {
   "cell_type": "code",
   "execution_count": 62,
   "metadata": {},
   "outputs": [
    {
     "name": "stdout",
     "output_type": "stream",
     "text": [
      "education\n",
      "bachelor's degree      28054.5310\n",
      "graduate degree        25161.5835\n",
      "primary education      18741.9760\n",
      "secondary education    21839.4075\n",
      "some college           25618.4640\n",
      "Name: total_income, dtype: float64\n",
      "25161.5835\n"
     ]
    }
   ],
   "source": [
    "education_income = no_missing.groupby('education')['total_income'].median()\n",
    "graduate_mean = no_missing[no_missing['education'] == 'graduate degree']['total_income'].median()\n",
    "print(education_income)\n",
    "print(graduate_mean)\n"
   ]
  },
  {
   "cell_type": "markdown",
   "metadata": {},
   "source": [
    "Based on the above findings, I will chose education as the characteristic that defines income the most. As the results for the mean are quite different, suggesting possible outliers, I will be using the median to fill in missing values.\n",
    "\n"
   ]
  },
  {
   "cell_type": "code",
   "execution_count": 63,
   "metadata": {},
   "outputs": [],
   "source": [
    "#  Write a function that we will use for filling in missing values\n",
    "        \n",
    "def income_values(edu_income):\n",
    "   \n",
    "    if edu_income == 'bachelor\\'s degree':\n",
    "        return 28054.5310\n",
    "    if edu_income == 'graduate degree':\n",
    "        return 25161.5835\n",
    "    if edu_income == 'primary education':\n",
    "        return 18741.9760\n",
    "    if edu_income == 'secondary education':\n",
    "        return 21839.4075\n",
    "    if edu_income == 'some college':\n",
    "        return 25618.4640\n",
    "    "
   ]
  },
  {
   "cell_type": "code",
   "execution_count": 64,
   "metadata": {},
   "outputs": [
    {
     "data": {
      "text/plain": [
       "21839.4075"
      ]
     },
     "execution_count": 64,
     "metadata": {},
     "output_type": "execute_result"
    }
   ],
   "source": [
    "# Check if it works\n",
    "income_values('secondary education')"
   ]
  },
  {
   "cell_type": "code",
   "execution_count": 65,
   "metadata": {},
   "outputs": [
    {
     "data": {
      "text/plain": [
       "0    40620.102\n",
       "1    17932.802\n",
       "2    23341.752\n",
       "3    42820.568\n",
       "4    25378.572\n",
       "Name: total_income, dtype: float64"
      ]
     },
     "execution_count": 65,
     "metadata": {},
     "output_type": "execute_result"
    }
   ],
   "source": [
    "bank_data['total_income'].head()"
   ]
  },
  {
   "cell_type": "code",
   "execution_count": 66,
   "metadata": {},
   "outputs": [],
   "source": [
    "# Apply it to every row\n",
    "bank_data['total_income'] = bank_data['total_income'].fillna(value = bank_data['education'].apply(income_values))"
   ]
  },
  {
   "cell_type": "code",
   "execution_count": 67,
   "metadata": {},
   "outputs": [
    {
     "data": {
      "text/plain": [
       "0    40620.102\n",
       "1    17932.802\n",
       "2    23341.752\n",
       "3    42820.568\n",
       "4    25378.572\n",
       "Name: total_income, dtype: float64"
      ]
     },
     "execution_count": 67,
     "metadata": {},
     "output_type": "execute_result"
    }
   ],
   "source": [
    "# Check if we got any errors\n",
    "bank_data['total_income'].head()"
   ]
  },
  {
   "cell_type": "code",
   "execution_count": 68,
   "metadata": {},
   "outputs": [
    {
     "name": "stdout",
     "output_type": "stream",
     "text": [
      "<class 'pandas.core.frame.DataFrame'>\n",
      "RangeIndex: 21353 entries, 0 to 21352\n",
      "Data columns (total 13 columns):\n",
      " #   Column            Non-Null Count  Dtype  \n",
      "---  ------            --------------  -----  \n",
      " 0   children          21353 non-null  int64  \n",
      " 1   days_employed     19260 non-null  float64\n",
      " 2   dob_years         21353 non-null  int64  \n",
      " 3   education         21353 non-null  object \n",
      " 4   education_id      21353 non-null  int64  \n",
      " 5   family_status     21353 non-null  object \n",
      " 6   family_status_id  21353 non-null  int64  \n",
      " 7   gender            21353 non-null  object \n",
      " 8   income_type       21353 non-null  object \n",
      " 9   debt              21353 non-null  int64  \n",
      " 10  total_income      21353 non-null  float64\n",
      " 11  purpose           21353 non-null  object \n",
      " 12  age_cat           21353 non-null  object \n",
      "dtypes: float64(2), int64(5), object(6)\n",
      "memory usage: 2.1+ MB\n",
      "None\n"
     ]
    }
   ],
   "source": [
    "# Checking the number of entries in the columns\n",
    "print(bank_data.info())\n"
   ]
  },
  {
   "cell_type": "markdown",
   "metadata": {},
   "source": [
    "###  Restoring values in `days_employed`"
   ]
  },
  {
   "cell_type": "code",
   "execution_count": 69,
   "metadata": {},
   "outputs": [
    {
     "name": "stdout",
     "output_type": "stream",
     "text": [
      "   children  days_employed  dob_years            education  education_id  \\\n",
      "0         1    8437.673028         42    bachelor's degree             0   \n",
      "1         1    4024.803754         36  secondary education             1   \n",
      "2         0    5623.422610         33  secondary education             1   \n",
      "3         3    4124.747207         32  secondary education             1   \n",
      "4         0  340266.072047         53  secondary education             1   \n",
      "\n",
      "       family_status  family_status_id gender income_type  debt  total_income  \\\n",
      "0            married                 0      F    employee     0     40620.102   \n",
      "1            married                 0      F    employee     0     17932.802   \n",
      "2            married                 0      M    employee     0     23341.752   \n",
      "3            married                 0      M    employee     0     42820.568   \n",
      "4  civil partnership                 1      F     retiree     0     25378.572   \n",
      "\n",
      "                   purpose age_cat  \n",
      "0    purchase of the house     40s  \n",
      "1             car purchase     30s  \n",
      "2    purchase of the house     30s  \n",
      "3  supplementary education     30s  \n",
      "4        to have a wedding     50s  \n"
     ]
    }
   ],
   "source": [
    "no_missing = bank_data.loc[bank_data['days_employed'].isna() == False]\n",
    "print(no_missing.head())"
   ]
  },
  {
   "cell_type": "code",
   "execution_count": 70,
   "metadata": {
    "pycharm": {
     "name": "#%%\n"
    },
    "scrolled": true
   },
   "outputs": [
    {
     "name": "stdout",
     "output_type": "stream",
     "text": [
      "age_cat\n",
      "20s               1005.629955\n",
      "30s               1601.784231\n",
      "40s               2111.489906\n",
      "50s               4796.767897\n",
      "60s             354935.619093\n",
      "over 70         361336.993449\n",
      "under twenty       724.492610\n",
      "Name: days_employed, dtype: float64\n",
      "\n",
      "education\n",
      "bachelor's degree      1895.747795\n",
      "graduate degree        5660.057032\n",
      "primary education      3043.933615\n",
      "secondary education    2392.805768\n",
      "some college           1209.230373\n",
      "Name: days_employed, dtype: float64\n",
      "\n",
      "income_type\n",
      "business                         1548.009883\n",
      "civil servant                    2673.404956\n",
      "employee                         1576.067689\n",
      "paternity / maternity leave      3296.759962\n",
      "retiree                        365176.336775\n",
      "student                           578.751554\n",
      "unemployed                     366413.652744\n",
      "Name: days_employed, dtype: float64\n"
     ]
    }
   ],
   "source": [
    "# Distribution of `days_employed` medians based on identified parameters\n",
    "print(no_missing.groupby('age_cat')['days_employed'].median())\n",
    "print()\n",
    "print(no_missing.groupby('education')['days_employed'].median())\n",
    "print()\n",
    "print(no_missing.groupby('income_type')['days_employed'].median())\n",
    "\n"
   ]
  },
  {
   "cell_type": "code",
   "execution_count": 71,
   "metadata": {
    "scrolled": true
   },
   "outputs": [
    {
     "name": "stdout",
     "output_type": "stream",
     "text": [
      "age_cat\n",
      "20s               2089.054192\n",
      "30s               4155.029251\n",
      "40s              12383.580460\n",
      "50s             132907.545543\n",
      "60s             283926.481689\n",
      "over 70         320819.151927\n",
      "under twenty       633.678086\n",
      "Name: days_employed, dtype: float64\n",
      "\n",
      "education\n",
      "bachelor's degree       42352.124485\n",
      "graduate degree        121323.630206\n",
      "primary education      130340.426349\n",
      "secondary education     76376.801662\n",
      "some college            20717.298527\n",
      "Name: days_employed, dtype: float64\n",
      "\n",
      "income_type\n",
      "business                         2112.449218\n",
      "civil servant                    3388.508552\n",
      "employee                         2328.603723\n",
      "paternity / maternity leave      3296.759962\n",
      "retiree                        365015.727554\n",
      "student                           578.751554\n",
      "unemployed                     366413.652744\n",
      "Name: days_employed, dtype: float64\n"
     ]
    }
   ],
   "source": [
    "# Distribution of `days_employed` means based on identified parameters\n",
    "print(no_missing.groupby('age_cat')['days_employed'].mean())\n",
    "print()\n",
    "print(no_missing.groupby('education')['days_employed'].mean())\n",
    "print()\n",
    "print(no_missing.groupby('income_type')['days_employed'].mean())"
   ]
  },
  {
   "cell_type": "markdown",
   "metadata": {},
   "source": [
    "I will use the median value as there is a bit of range in values.\n"
   ]
  },
  {
   "cell_type": "code",
   "execution_count": 72,
   "metadata": {},
   "outputs": [],
   "source": [
    "twentymedian = no_missing.loc[no_missing['age_cat'] == '20s']['days_employed'].median()\n",
    "\n",
    "thirtymedian= no_missing.loc[no_missing['age_cat'] == '30s']['days_employed'].median()\n",
    "\n",
    "fourtymedian= no_missing.loc[no_missing['age_cat'] == '40s']['days_employed'].median()\n",
    "\n",
    "fiftymedian= no_missing.loc[no_missing['age_cat'] == '50s']['days_employed'].median()\n",
    "\n",
    "sixtiesmedian= no_missing.loc[no_missing['age_cat'] == '60s']['days_employed'].median()\n",
    "\n",
    "seventiesmedian= no_missing.loc[no_missing['age_cat'] == 'over 70']['days_employed'].median()"
   ]
  },
  {
   "cell_type": "code",
   "execution_count": 73,
   "metadata": {},
   "outputs": [],
   "source": [
    "# Let's write a function that calculates medians based on identified parameter\n",
    "def days_median(age_cat):\n",
    "    if age_cat == '20s':\n",
    "        return twentymedian\n",
    "    elif age_cat == '30s':\n",
    "        return thirtymedian\n",
    "    elif age_cat == '40s':\n",
    "        return fourtymedian\n",
    "    elif age_cat == '50s':\n",
    "        return fiftymedian\n",
    "    elif age_cat == '60s':\n",
    "        return sixtiesmedian\n",
    "    else:\n",
    "        return seventiesmedian"
   ]
  },
  {
   "cell_type": "code",
   "execution_count": 74,
   "metadata": {},
   "outputs": [
    {
     "data": {
      "text/plain": [
       "4796.7678969987155"
      ]
     },
     "execution_count": 74,
     "metadata": {},
     "output_type": "execute_result"
    }
   ],
   "source": [
    "# Check that the function works\n",
    "\n",
    "days_median('50s')"
   ]
  },
  {
   "cell_type": "code",
   "execution_count": 75,
   "metadata": {},
   "outputs": [],
   "source": [
    "# Replacing missing values\n",
    "bank_data['days_employed'] = bank_data['days_employed'].fillna(value = bank_data['age_cat'].apply(days_median))\n"
   ]
  },
  {
   "cell_type": "code",
   "execution_count": 76,
   "metadata": {},
   "outputs": [
    {
     "name": "stdout",
     "output_type": "stream",
     "text": [
      "<class 'pandas.core.frame.DataFrame'>\n",
      "RangeIndex: 21353 entries, 0 to 21352\n",
      "Data columns (total 13 columns):\n",
      " #   Column            Non-Null Count  Dtype  \n",
      "---  ------            --------------  -----  \n",
      " 0   children          21353 non-null  int64  \n",
      " 1   days_employed     21353 non-null  float64\n",
      " 2   dob_years         21353 non-null  int64  \n",
      " 3   education         21353 non-null  object \n",
      " 4   education_id      21353 non-null  int64  \n",
      " 5   family_status     21353 non-null  object \n",
      " 6   family_status_id  21353 non-null  int64  \n",
      " 7   gender            21353 non-null  object \n",
      " 8   income_type       21353 non-null  object \n",
      " 9   debt              21353 non-null  int64  \n",
      " 10  total_income      21353 non-null  float64\n",
      " 11  purpose           21353 non-null  object \n",
      " 12  age_cat           21353 non-null  object \n",
      "dtypes: float64(2), int64(5), object(6)\n",
      "memory usage: 2.1+ MB\n"
     ]
    }
   ],
   "source": [
    "# Check the entries in all columns - make sure we fixed all missing values\n",
    "bank_data.info()"
   ]
  },
  {
   "cell_type": "markdown",
   "metadata": {},
   "source": [
    "## Categorization of data\n",
    "\n"
   ]
  },
  {
   "cell_type": "code",
   "execution_count": 77,
   "metadata": {
    "scrolled": true
   },
   "outputs": [
    {
     "name": "stdout",
     "output_type": "stream",
     "text": [
      "<class 'pandas.core.frame.DataFrame'>\n",
      "RangeIndex: 21353 entries, 0 to 21352\n",
      "Data columns (total 13 columns):\n",
      " #   Column            Non-Null Count  Dtype  \n",
      "---  ------            --------------  -----  \n",
      " 0   children          21353 non-null  int64  \n",
      " 1   days_employed     21353 non-null  float64\n",
      " 2   dob_years         21353 non-null  int64  \n",
      " 3   education         21353 non-null  object \n",
      " 4   education_id      21353 non-null  int64  \n",
      " 5   family_status     21353 non-null  object \n",
      " 6   family_status_id  21353 non-null  int64  \n",
      " 7   gender            21353 non-null  object \n",
      " 8   income_type       21353 non-null  object \n",
      " 9   debt              21353 non-null  int64  \n",
      " 10  total_income      21353 non-null  float64\n",
      " 11  purpose           21353 non-null  object \n",
      " 12  age_cat           21353 non-null  object \n",
      "dtypes: float64(2), int64(5), object(6)\n",
      "memory usage: 2.1+ MB\n"
     ]
    }
   ],
   "source": [
    "bank_data.info()"
   ]
  },
  {
   "cell_type": "code",
   "execution_count": 78,
   "metadata": {
    "scrolled": true
   },
   "outputs": [
    {
     "data": {
      "text/plain": [
       "0                  married\n",
       "1                  married\n",
       "2                  married\n",
       "3                  married\n",
       "4        civil partnership\n",
       "               ...        \n",
       "21348    civil partnership\n",
       "21349              married\n",
       "21350    civil partnership\n",
       "21351              married\n",
       "21352              married\n",
       "Name: family_status, Length: 21353, dtype: object"
      ]
     },
     "execution_count": 78,
     "metadata": {},
     "output_type": "execute_result"
    }
   ],
   "source": [
    "# Print the values for selected data for categorization\n",
    "bank_data['family_status']"
   ]
  },
  {
   "cell_type": "code",
   "execution_count": 79,
   "metadata": {},
   "outputs": [
    {
     "data": {
      "text/plain": [
       "married              12290\n",
       "civil partnership     4130\n",
       "unmarried             2794\n",
       "divorced              1185\n",
       "widow / widower        954\n",
       "Name: family_status, dtype: int64"
      ]
     },
     "execution_count": 79,
     "metadata": {},
     "output_type": "execute_result"
    }
   ],
   "source": [
    "# Check the unique values\n",
    "bank_data['family_status'].value_counts()\n"
   ]
  },
  {
   "cell_type": "markdown",
   "metadata": {},
   "source": [
    "Based on the unique values of family status, I will group that column into clients who are 'Single' and clients who are 'Coupled'.\n",
    "\n"
   ]
  },
  {
   "cell_type": "code",
   "execution_count": 80,
   "metadata": {},
   "outputs": [],
   "source": [
    "# Let's write a function to categorize the data based on common topics\n",
    "def martial_status(status):\n",
    "    if status == 'married':\n",
    "        return 'Coupled'\n",
    "    elif status == 'civil partnership':\n",
    "        return 'Coupled'\n",
    "    else:\n",
    "        return 'Single'\n"
   ]
  },
  {
   "cell_type": "code",
   "execution_count": 81,
   "metadata": {},
   "outputs": [],
   "source": [
    "# Create a column with the categories and count the values for them\n",
    "bank_data['status_cat'] = bank_data['family_status'].apply(martial_status)\n"
   ]
  },
  {
   "cell_type": "code",
   "execution_count": 82,
   "metadata": {},
   "outputs": [
    {
     "data": {
      "text/html": [
       "<div>\n",
       "<style scoped>\n",
       "    .dataframe tbody tr th:only-of-type {\n",
       "        vertical-align: middle;\n",
       "    }\n",
       "\n",
       "    .dataframe tbody tr th {\n",
       "        vertical-align: top;\n",
       "    }\n",
       "\n",
       "    .dataframe thead th {\n",
       "        text-align: right;\n",
       "    }\n",
       "</style>\n",
       "<table border=\"1\" class=\"dataframe\">\n",
       "  <thead>\n",
       "    <tr style=\"text-align: right;\">\n",
       "      <th></th>\n",
       "      <th>children</th>\n",
       "      <th>days_employed</th>\n",
       "      <th>dob_years</th>\n",
       "      <th>education</th>\n",
       "      <th>education_id</th>\n",
       "      <th>family_status</th>\n",
       "      <th>family_status_id</th>\n",
       "      <th>gender</th>\n",
       "      <th>income_type</th>\n",
       "      <th>debt</th>\n",
       "      <th>total_income</th>\n",
       "      <th>purpose</th>\n",
       "      <th>age_cat</th>\n",
       "      <th>status_cat</th>\n",
       "    </tr>\n",
       "  </thead>\n",
       "  <tbody>\n",
       "    <tr>\n",
       "      <th>0</th>\n",
       "      <td>1</td>\n",
       "      <td>8437.673028</td>\n",
       "      <td>42</td>\n",
       "      <td>bachelor's degree</td>\n",
       "      <td>0</td>\n",
       "      <td>married</td>\n",
       "      <td>0</td>\n",
       "      <td>F</td>\n",
       "      <td>employee</td>\n",
       "      <td>0</td>\n",
       "      <td>40620.102</td>\n",
       "      <td>purchase of the house</td>\n",
       "      <td>40s</td>\n",
       "      <td>Coupled</td>\n",
       "    </tr>\n",
       "    <tr>\n",
       "      <th>1</th>\n",
       "      <td>1</td>\n",
       "      <td>4024.803754</td>\n",
       "      <td>36</td>\n",
       "      <td>secondary education</td>\n",
       "      <td>1</td>\n",
       "      <td>married</td>\n",
       "      <td>0</td>\n",
       "      <td>F</td>\n",
       "      <td>employee</td>\n",
       "      <td>0</td>\n",
       "      <td>17932.802</td>\n",
       "      <td>car purchase</td>\n",
       "      <td>30s</td>\n",
       "      <td>Coupled</td>\n",
       "    </tr>\n",
       "    <tr>\n",
       "      <th>2</th>\n",
       "      <td>0</td>\n",
       "      <td>5623.422610</td>\n",
       "      <td>33</td>\n",
       "      <td>secondary education</td>\n",
       "      <td>1</td>\n",
       "      <td>married</td>\n",
       "      <td>0</td>\n",
       "      <td>M</td>\n",
       "      <td>employee</td>\n",
       "      <td>0</td>\n",
       "      <td>23341.752</td>\n",
       "      <td>purchase of the house</td>\n",
       "      <td>30s</td>\n",
       "      <td>Coupled</td>\n",
       "    </tr>\n",
       "    <tr>\n",
       "      <th>3</th>\n",
       "      <td>3</td>\n",
       "      <td>4124.747207</td>\n",
       "      <td>32</td>\n",
       "      <td>secondary education</td>\n",
       "      <td>1</td>\n",
       "      <td>married</td>\n",
       "      <td>0</td>\n",
       "      <td>M</td>\n",
       "      <td>employee</td>\n",
       "      <td>0</td>\n",
       "      <td>42820.568</td>\n",
       "      <td>supplementary education</td>\n",
       "      <td>30s</td>\n",
       "      <td>Coupled</td>\n",
       "    </tr>\n",
       "    <tr>\n",
       "      <th>4</th>\n",
       "      <td>0</td>\n",
       "      <td>340266.072047</td>\n",
       "      <td>53</td>\n",
       "      <td>secondary education</td>\n",
       "      <td>1</td>\n",
       "      <td>civil partnership</td>\n",
       "      <td>1</td>\n",
       "      <td>F</td>\n",
       "      <td>retiree</td>\n",
       "      <td>0</td>\n",
       "      <td>25378.572</td>\n",
       "      <td>to have a wedding</td>\n",
       "      <td>50s</td>\n",
       "      <td>Coupled</td>\n",
       "    </tr>\n",
       "  </tbody>\n",
       "</table>\n",
       "</div>"
      ],
      "text/plain": [
       "   children  days_employed  dob_years            education  education_id  \\\n",
       "0         1    8437.673028         42    bachelor's degree             0   \n",
       "1         1    4024.803754         36  secondary education             1   \n",
       "2         0    5623.422610         33  secondary education             1   \n",
       "3         3    4124.747207         32  secondary education             1   \n",
       "4         0  340266.072047         53  secondary education             1   \n",
       "\n",
       "       family_status  family_status_id gender income_type  debt  total_income  \\\n",
       "0            married                 0      F    employee     0     40620.102   \n",
       "1            married                 0      F    employee     0     17932.802   \n",
       "2            married                 0      M    employee     0     23341.752   \n",
       "3            married                 0      M    employee     0     42820.568   \n",
       "4  civil partnership                 1      F     retiree     0     25378.572   \n",
       "\n",
       "                   purpose age_cat status_cat  \n",
       "0    purchase of the house     40s    Coupled  \n",
       "1             car purchase     30s    Coupled  \n",
       "2    purchase of the house     30s    Coupled  \n",
       "3  supplementary education     30s    Coupled  \n",
       "4        to have a wedding     50s    Coupled  "
      ]
     },
     "execution_count": 82,
     "metadata": {},
     "output_type": "execute_result"
    }
   ],
   "source": [
    "bank_data.head()"
   ]
  },
  {
   "cell_type": "code",
   "execution_count": 83,
   "metadata": {},
   "outputs": [
    {
     "data": {
      "text/plain": [
       "0        1\n",
       "1        1\n",
       "2        0\n",
       "3        3\n",
       "4        0\n",
       "        ..\n",
       "21348    1\n",
       "21349    0\n",
       "21350    1\n",
       "21351    3\n",
       "21352    2\n",
       "Name: children, Length: 21353, dtype: int64"
      ]
     },
     "execution_count": 83,
     "metadata": {},
     "output_type": "execute_result"
    }
   ],
   "source": [
    "bank_data['children']"
   ]
  },
  {
   "cell_type": "code",
   "execution_count": 84,
   "metadata": {
    "scrolled": false
   },
   "outputs": [
    {
     "data": {
      "text/plain": [
       "0     14022\n",
       "1      4839\n",
       "2      2039\n",
       "3       328\n",
       "20       75\n",
       "4        41\n",
       "5         9\n",
       "Name: children, dtype: int64"
      ]
     },
     "execution_count": 84,
     "metadata": {},
     "output_type": "execute_result"
    }
   ],
   "source": [
    "bank_data['children'].value_counts()"
   ]
  },
  {
   "cell_type": "markdown",
   "metadata": {},
   "source": [
    "Based on the unique values above, I will categorize the clients into three categories: \n",
    "    - Those with no children ('No Children')\n",
    "    - Those with a few children ('1-3 Children')\n",
    "    - Those with more than a few children ('More than 3 Children')"
   ]
  },
  {
   "cell_type": "code",
   "execution_count": 85,
   "metadata": {},
   "outputs": [],
   "source": [
    "def child_count (children):\n",
    "    if children == 0:\n",
    "        return \"No Children\"\n",
    "    elif 1<= children <= 3:\n",
    "        return '1-3 Children'\n",
    "    else:\n",
    "        return 'More than 3 Children'\n",
    "    "
   ]
  },
  {
   "cell_type": "code",
   "execution_count": 86,
   "metadata": {},
   "outputs": [],
   "source": [
    "bank_data['child_cat'] = bank_data['children'].apply(child_count)"
   ]
  },
  {
   "cell_type": "code",
   "execution_count": 87,
   "metadata": {},
   "outputs": [
    {
     "data": {
      "text/plain": [
       "No Children             14022\n",
       "1-3 Children             7206\n",
       "More than 3 Children      125\n",
       "Name: child_cat, dtype: int64"
      ]
     },
     "execution_count": 87,
     "metadata": {},
     "output_type": "execute_result"
    }
   ],
   "source": [
    "bank_data['child_cat'].value_counts()"
   ]
  },
  {
   "cell_type": "code",
   "execution_count": 88,
   "metadata": {
    "scrolled": true
   },
   "outputs": [
    {
     "data": {
      "text/plain": [
       "wedding ceremony                            786\n",
       "having a wedding                            764\n",
       "to have a wedding                           760\n",
       "real estate transactions                    672\n",
       "buy commercial real estate                  658\n",
       "buying property for renting out             649\n",
       "transactions with commercial real estate    648\n",
       "housing transactions                        646\n",
       "housing                                     640\n",
       "purchase of the house                       640\n",
       "purchase of the house for my family         637\n",
       "construction of own property                633\n",
       "property                                    629\n",
       "transactions with my real estate            627\n",
       "building a real estate                      621\n",
       "purchase of my own house                    619\n",
       "building a property                         619\n",
       "buy real estate                             618\n",
       "housing renovation                          605\n",
       "buy residential real estate                 603\n",
       "buying my own car                           502\n",
       "going to university                         493\n",
       "car                                         490\n",
       "second-hand car purchase                    484\n",
       "buying a second-hand car                    478\n",
       "cars                                        476\n",
       "to own a car                                475\n",
       "to buy a car                                466\n",
       "car purchase                                459\n",
       "supplementary education                     458\n",
       "purchase of a car                           454\n",
       "university education                        449\n",
       "to get a supplementary education            444\n",
       "education                                   444\n",
       "getting an education                        441\n",
       "profile education                           435\n",
       "getting higher education                    424\n",
       "to become educated                          407\n",
       "Name: purpose, dtype: int64"
      ]
     },
     "execution_count": 88,
     "metadata": {},
     "output_type": "execute_result"
    }
   ],
   "source": [
    "bank_data['purpose'].value_counts()"
   ]
  },
  {
   "cell_type": "markdown",
   "metadata": {},
   "source": [
    "Based on the unique values for the purpose column I will categorize my clients by:\n",
    "    -Those who were using the loan for a wedding ceremony ('wedding ceremony')\n",
    "    -Those who were using the loan for a car purhcase ('car purchase')\n",
    "    -Those who were using the loan for educational reasons ('education')\n",
    "    -Those who were using the loan for real estate/housing ('real estate')"
   ]
  },
  {
   "cell_type": "code",
   "execution_count": 89,
   "metadata": {},
   "outputs": [],
   "source": [
    "def loan_purpose_cat (loan):\n",
    "    if 'wedding' in loan:\n",
    "        return 'wedding ceremony'\n",
    "    elif 'car' in loan:\n",
    "        return 'car purchase'\n",
    "    elif 'education' in loan:\n",
    "        return 'education'\n",
    "    else:\n",
    "        return 'real estate'\n",
    "\n"
   ]
  },
  {
   "cell_type": "code",
   "execution_count": 90,
   "metadata": {},
   "outputs": [],
   "source": [
    "bank_data['loan_purpose_cat'] = bank_data['purpose'].apply(loan_purpose_cat)"
   ]
  },
  {
   "cell_type": "code",
   "execution_count": 91,
   "metadata": {},
   "outputs": [
    {
     "data": {
      "text/html": [
       "<div>\n",
       "<style scoped>\n",
       "    .dataframe tbody tr th:only-of-type {\n",
       "        vertical-align: middle;\n",
       "    }\n",
       "\n",
       "    .dataframe tbody tr th {\n",
       "        vertical-align: top;\n",
       "    }\n",
       "\n",
       "    .dataframe thead th {\n",
       "        text-align: right;\n",
       "    }\n",
       "</style>\n",
       "<table border=\"1\" class=\"dataframe\">\n",
       "  <thead>\n",
       "    <tr style=\"text-align: right;\">\n",
       "      <th></th>\n",
       "      <th>children</th>\n",
       "      <th>days_employed</th>\n",
       "      <th>dob_years</th>\n",
       "      <th>education</th>\n",
       "      <th>education_id</th>\n",
       "      <th>family_status</th>\n",
       "      <th>family_status_id</th>\n",
       "      <th>gender</th>\n",
       "      <th>income_type</th>\n",
       "      <th>debt</th>\n",
       "      <th>total_income</th>\n",
       "      <th>purpose</th>\n",
       "      <th>age_cat</th>\n",
       "      <th>status_cat</th>\n",
       "      <th>child_cat</th>\n",
       "      <th>loan_purpose_cat</th>\n",
       "    </tr>\n",
       "  </thead>\n",
       "  <tbody>\n",
       "    <tr>\n",
       "      <th>0</th>\n",
       "      <td>1</td>\n",
       "      <td>8437.673028</td>\n",
       "      <td>42</td>\n",
       "      <td>bachelor's degree</td>\n",
       "      <td>0</td>\n",
       "      <td>married</td>\n",
       "      <td>0</td>\n",
       "      <td>F</td>\n",
       "      <td>employee</td>\n",
       "      <td>0</td>\n",
       "      <td>40620.102</td>\n",
       "      <td>purchase of the house</td>\n",
       "      <td>40s</td>\n",
       "      <td>Coupled</td>\n",
       "      <td>1-3 Children</td>\n",
       "      <td>real estate</td>\n",
       "    </tr>\n",
       "    <tr>\n",
       "      <th>1</th>\n",
       "      <td>1</td>\n",
       "      <td>4024.803754</td>\n",
       "      <td>36</td>\n",
       "      <td>secondary education</td>\n",
       "      <td>1</td>\n",
       "      <td>married</td>\n",
       "      <td>0</td>\n",
       "      <td>F</td>\n",
       "      <td>employee</td>\n",
       "      <td>0</td>\n",
       "      <td>17932.802</td>\n",
       "      <td>car purchase</td>\n",
       "      <td>30s</td>\n",
       "      <td>Coupled</td>\n",
       "      <td>1-3 Children</td>\n",
       "      <td>car purchase</td>\n",
       "    </tr>\n",
       "    <tr>\n",
       "      <th>2</th>\n",
       "      <td>0</td>\n",
       "      <td>5623.422610</td>\n",
       "      <td>33</td>\n",
       "      <td>secondary education</td>\n",
       "      <td>1</td>\n",
       "      <td>married</td>\n",
       "      <td>0</td>\n",
       "      <td>M</td>\n",
       "      <td>employee</td>\n",
       "      <td>0</td>\n",
       "      <td>23341.752</td>\n",
       "      <td>purchase of the house</td>\n",
       "      <td>30s</td>\n",
       "      <td>Coupled</td>\n",
       "      <td>No Children</td>\n",
       "      <td>real estate</td>\n",
       "    </tr>\n",
       "    <tr>\n",
       "      <th>3</th>\n",
       "      <td>3</td>\n",
       "      <td>4124.747207</td>\n",
       "      <td>32</td>\n",
       "      <td>secondary education</td>\n",
       "      <td>1</td>\n",
       "      <td>married</td>\n",
       "      <td>0</td>\n",
       "      <td>M</td>\n",
       "      <td>employee</td>\n",
       "      <td>0</td>\n",
       "      <td>42820.568</td>\n",
       "      <td>supplementary education</td>\n",
       "      <td>30s</td>\n",
       "      <td>Coupled</td>\n",
       "      <td>1-3 Children</td>\n",
       "      <td>education</td>\n",
       "    </tr>\n",
       "    <tr>\n",
       "      <th>4</th>\n",
       "      <td>0</td>\n",
       "      <td>340266.072047</td>\n",
       "      <td>53</td>\n",
       "      <td>secondary education</td>\n",
       "      <td>1</td>\n",
       "      <td>civil partnership</td>\n",
       "      <td>1</td>\n",
       "      <td>F</td>\n",
       "      <td>retiree</td>\n",
       "      <td>0</td>\n",
       "      <td>25378.572</td>\n",
       "      <td>to have a wedding</td>\n",
       "      <td>50s</td>\n",
       "      <td>Coupled</td>\n",
       "      <td>No Children</td>\n",
       "      <td>wedding ceremony</td>\n",
       "    </tr>\n",
       "  </tbody>\n",
       "</table>\n",
       "</div>"
      ],
      "text/plain": [
       "   children  days_employed  dob_years            education  education_id  \\\n",
       "0         1    8437.673028         42    bachelor's degree             0   \n",
       "1         1    4024.803754         36  secondary education             1   \n",
       "2         0    5623.422610         33  secondary education             1   \n",
       "3         3    4124.747207         32  secondary education             1   \n",
       "4         0  340266.072047         53  secondary education             1   \n",
       "\n",
       "       family_status  family_status_id gender income_type  debt  total_income  \\\n",
       "0            married                 0      F    employee     0     40620.102   \n",
       "1            married                 0      F    employee     0     17932.802   \n",
       "2            married                 0      M    employee     0     23341.752   \n",
       "3            married                 0      M    employee     0     42820.568   \n",
       "4  civil partnership                 1      F     retiree     0     25378.572   \n",
       "\n",
       "                   purpose age_cat status_cat     child_cat  loan_purpose_cat  \n",
       "0    purchase of the house     40s    Coupled  1-3 Children       real estate  \n",
       "1             car purchase     30s    Coupled  1-3 Children      car purchase  \n",
       "2    purchase of the house     30s    Coupled   No Children       real estate  \n",
       "3  supplementary education     30s    Coupled  1-3 Children         education  \n",
       "4        to have a wedding     50s    Coupled   No Children  wedding ceremony  "
      ]
     },
     "execution_count": 91,
     "metadata": {},
     "output_type": "execute_result"
    }
   ],
   "source": [
    "bank_data.head()"
   ]
  },
  {
   "cell_type": "code",
   "execution_count": 92,
   "metadata": {},
   "outputs": [
    {
     "data": {
      "text/plain": [
       "14480      3306.762\n",
       "12919      3392.845\n",
       "16054      3418.824\n",
       "1590       3471.216\n",
       "14174      3503.298\n",
       "            ...    \n",
       "17051    273809.483\n",
       "20643    274402.943\n",
       "9115     276204.162\n",
       "19452    352136.354\n",
       "12327    362496.645\n",
       "Name: total_income, Length: 21353, dtype: float64"
      ]
     },
     "execution_count": 92,
     "metadata": {},
     "output_type": "execute_result"
    }
   ],
   "source": [
    "# Looking through all the numerical data in your selected column for categorization\n",
    "bank_data['total_income'].sort_values()\n"
   ]
  },
  {
   "cell_type": "code",
   "execution_count": 93,
   "metadata": {},
   "outputs": [
    {
     "name": "stdout",
     "output_type": "stream",
     "text": [
      "26472.470093710486\n",
      "22586.069\n",
      "3306.762\n",
      "362496.645\n"
     ]
    }
   ],
   "source": [
    "# Getting summary statistics for the column\n",
    "print(bank_data['total_income'].mean())\n",
    "print(bank_data['total_income'].median())\n",
    "print(bank_data['total_income'].min())\n",
    "print(bank_data['total_income'].max())\n",
    "\n"
   ]
  },
  {
   "cell_type": "markdown",
   "metadata": {},
   "source": [
    "Based on the unique values and the summary statistics for the total income column, I have decided to group the clients into Low, Mid-low, Mid, and High income levels. The ranges were in increments of 40000 as I felt that would encompass the data well without having too many categorization groups. "
   ]
  },
  {
   "cell_type": "markdown",
   "metadata": {},
   "source": [
    "Low income <40000\n",
    "\n",
    "Mid income 40000< x < 100000\n",
    "\n",
    "High income >100000\n"
   ]
  },
  {
   "cell_type": "code",
   "execution_count": 94,
   "metadata": {},
   "outputs": [],
   "source": [
    "# Creating function for categorizing into different numerical groups based on ranges\n",
    "def income_cat(income):\n",
    "    if income < 40000:\n",
    "        return 'Low income'\n",
    "    if 40000 < income < 80000:\n",
    "        return 'Mid-low income'\n",
    "    if 80000 < income < 120000:\n",
    "        return 'Mid income'\n",
    "    if income > 120000:\n",
    "        return 'High income'\n"
   ]
  },
  {
   "cell_type": "code",
   "execution_count": 95,
   "metadata": {},
   "outputs": [],
   "source": [
    "# Creating column with categories\n",
    "bank_data['income_cat'] = bank_data['total_income'].apply(income_cat)"
   ]
  },
  {
   "cell_type": "code",
   "execution_count": 96,
   "metadata": {
    "scrolled": false
   },
   "outputs": [
    {
     "data": {
      "text/plain": [
       "Low income        18554\n",
       "Mid-low income     2577\n",
       "Mid income          173\n",
       "High income          49\n",
       "Name: income_cat, dtype: int64"
      ]
     },
     "execution_count": 96,
     "metadata": {},
     "output_type": "execute_result"
    }
   ],
   "source": [
    "# Count each categories values to see the distribution\n",
    "bank_data['income_cat'].value_counts()"
   ]
  },
  {
   "cell_type": "code",
   "execution_count": 97,
   "metadata": {},
   "outputs": [
    {
     "data": {
      "text/html": [
       "<div>\n",
       "<style scoped>\n",
       "    .dataframe tbody tr th:only-of-type {\n",
       "        vertical-align: middle;\n",
       "    }\n",
       "\n",
       "    .dataframe tbody tr th {\n",
       "        vertical-align: top;\n",
       "    }\n",
       "\n",
       "    .dataframe thead th {\n",
       "        text-align: right;\n",
       "    }\n",
       "</style>\n",
       "<table border=\"1\" class=\"dataframe\">\n",
       "  <thead>\n",
       "    <tr style=\"text-align: right;\">\n",
       "      <th></th>\n",
       "      <th>children</th>\n",
       "      <th>days_employed</th>\n",
       "      <th>dob_years</th>\n",
       "      <th>education</th>\n",
       "      <th>education_id</th>\n",
       "      <th>family_status</th>\n",
       "      <th>family_status_id</th>\n",
       "      <th>gender</th>\n",
       "      <th>income_type</th>\n",
       "      <th>debt</th>\n",
       "      <th>total_income</th>\n",
       "      <th>purpose</th>\n",
       "      <th>age_cat</th>\n",
       "      <th>status_cat</th>\n",
       "      <th>child_cat</th>\n",
       "      <th>loan_purpose_cat</th>\n",
       "      <th>income_cat</th>\n",
       "    </tr>\n",
       "  </thead>\n",
       "  <tbody>\n",
       "    <tr>\n",
       "      <th>0</th>\n",
       "      <td>1</td>\n",
       "      <td>8437.673028</td>\n",
       "      <td>42</td>\n",
       "      <td>bachelor's degree</td>\n",
       "      <td>0</td>\n",
       "      <td>married</td>\n",
       "      <td>0</td>\n",
       "      <td>F</td>\n",
       "      <td>employee</td>\n",
       "      <td>0</td>\n",
       "      <td>40620.102</td>\n",
       "      <td>purchase of the house</td>\n",
       "      <td>40s</td>\n",
       "      <td>Coupled</td>\n",
       "      <td>1-3 Children</td>\n",
       "      <td>real estate</td>\n",
       "      <td>Mid-low income</td>\n",
       "    </tr>\n",
       "    <tr>\n",
       "      <th>1</th>\n",
       "      <td>1</td>\n",
       "      <td>4024.803754</td>\n",
       "      <td>36</td>\n",
       "      <td>secondary education</td>\n",
       "      <td>1</td>\n",
       "      <td>married</td>\n",
       "      <td>0</td>\n",
       "      <td>F</td>\n",
       "      <td>employee</td>\n",
       "      <td>0</td>\n",
       "      <td>17932.802</td>\n",
       "      <td>car purchase</td>\n",
       "      <td>30s</td>\n",
       "      <td>Coupled</td>\n",
       "      <td>1-3 Children</td>\n",
       "      <td>car purchase</td>\n",
       "      <td>Low income</td>\n",
       "    </tr>\n",
       "    <tr>\n",
       "      <th>2</th>\n",
       "      <td>0</td>\n",
       "      <td>5623.422610</td>\n",
       "      <td>33</td>\n",
       "      <td>secondary education</td>\n",
       "      <td>1</td>\n",
       "      <td>married</td>\n",
       "      <td>0</td>\n",
       "      <td>M</td>\n",
       "      <td>employee</td>\n",
       "      <td>0</td>\n",
       "      <td>23341.752</td>\n",
       "      <td>purchase of the house</td>\n",
       "      <td>30s</td>\n",
       "      <td>Coupled</td>\n",
       "      <td>No Children</td>\n",
       "      <td>real estate</td>\n",
       "      <td>Low income</td>\n",
       "    </tr>\n",
       "    <tr>\n",
       "      <th>3</th>\n",
       "      <td>3</td>\n",
       "      <td>4124.747207</td>\n",
       "      <td>32</td>\n",
       "      <td>secondary education</td>\n",
       "      <td>1</td>\n",
       "      <td>married</td>\n",
       "      <td>0</td>\n",
       "      <td>M</td>\n",
       "      <td>employee</td>\n",
       "      <td>0</td>\n",
       "      <td>42820.568</td>\n",
       "      <td>supplementary education</td>\n",
       "      <td>30s</td>\n",
       "      <td>Coupled</td>\n",
       "      <td>1-3 Children</td>\n",
       "      <td>education</td>\n",
       "      <td>Mid-low income</td>\n",
       "    </tr>\n",
       "    <tr>\n",
       "      <th>4</th>\n",
       "      <td>0</td>\n",
       "      <td>340266.072047</td>\n",
       "      <td>53</td>\n",
       "      <td>secondary education</td>\n",
       "      <td>1</td>\n",
       "      <td>civil partnership</td>\n",
       "      <td>1</td>\n",
       "      <td>F</td>\n",
       "      <td>retiree</td>\n",
       "      <td>0</td>\n",
       "      <td>25378.572</td>\n",
       "      <td>to have a wedding</td>\n",
       "      <td>50s</td>\n",
       "      <td>Coupled</td>\n",
       "      <td>No Children</td>\n",
       "      <td>wedding ceremony</td>\n",
       "      <td>Low income</td>\n",
       "    </tr>\n",
       "  </tbody>\n",
       "</table>\n",
       "</div>"
      ],
      "text/plain": [
       "   children  days_employed  dob_years            education  education_id  \\\n",
       "0         1    8437.673028         42    bachelor's degree             0   \n",
       "1         1    4024.803754         36  secondary education             1   \n",
       "2         0    5623.422610         33  secondary education             1   \n",
       "3         3    4124.747207         32  secondary education             1   \n",
       "4         0  340266.072047         53  secondary education             1   \n",
       "\n",
       "       family_status  family_status_id gender income_type  debt  total_income  \\\n",
       "0            married                 0      F    employee     0     40620.102   \n",
       "1            married                 0      F    employee     0     17932.802   \n",
       "2            married                 0      M    employee     0     23341.752   \n",
       "3            married                 0      M    employee     0     42820.568   \n",
       "4  civil partnership                 1      F     retiree     0     25378.572   \n",
       "\n",
       "                   purpose age_cat status_cat     child_cat  loan_purpose_cat  \\\n",
       "0    purchase of the house     40s    Coupled  1-3 Children       real estate   \n",
       "1             car purchase     30s    Coupled  1-3 Children      car purchase   \n",
       "2    purchase of the house     30s    Coupled   No Children       real estate   \n",
       "3  supplementary education     30s    Coupled  1-3 Children         education   \n",
       "4        to have a wedding     50s    Coupled   No Children  wedding ceremony   \n",
       "\n",
       "       income_cat  \n",
       "0  Mid-low income  \n",
       "1      Low income  \n",
       "2      Low income  \n",
       "3  Mid-low income  \n",
       "4      Low income  "
      ]
     },
     "execution_count": 97,
     "metadata": {},
     "output_type": "execute_result"
    }
   ],
   "source": [
    "bank_data.head()"
   ]
  },
  {
   "cell_type": "markdown",
   "metadata": {},
   "source": [
    "The final new data categorizations are : income level, loan purpose, children, martial status, and age."
   ]
  },
  {
   "cell_type": "markdown",
   "metadata": {},
   "source": [
    "## Checking the Hypotheses\n"
   ]
  },
  {
   "cell_type": "markdown",
   "metadata": {},
   "source": [
    "**Is there a correlation between having children and paying back on time?**"
   ]
  },
  {
   "cell_type": "code",
   "execution_count": 98,
   "metadata": {
    "scrolled": true
   },
   "outputs": [
    {
     "name": "stdout",
     "output_type": "stream",
     "text": [
      "child_cat             debt\n",
      "1-3 Children          0        6543\n",
      "                      1         663\n",
      "More than 3 Children  0         113\n",
      "                      1          12\n",
      "No Children           0       12964\n",
      "                      1        1058\n",
      "Name: debt, dtype: int64\n",
      "0.3825735718407386\n",
      "\n",
      "0.6105020196191575\n",
      "\n",
      "0.006924408540103866\n"
     ]
    }
   ],
   "source": [
    "# Check the children data and paying back on time\n",
    "\n",
    "print(bank_data.groupby('child_cat')['debt'].value_counts())\n",
    "# Calculating default-rate based on the number of children\n",
    "\n",
    "print(bank_data.loc[(bank_data['child_cat'] == '1-3 Children') & (bank_data['debt'] == 1)]['debt'].count() / bank_data[bank_data['debt'] == 1]['debt'].count())\n",
    "print()\n",
    "print(bank_data.loc[(bank_data['child_cat'] == 'No Children') & (bank_data['debt'] == 1)]['debt'].count() / bank_data[bank_data['debt'] == 1]['debt'].count())\n",
    "print()\n",
    "print(bank_data.loc[(bank_data['child_cat'] == 'More than 3 Children') & (bank_data['debt'] == 1)]['debt'].count() / bank_data[bank_data['debt'] == 1]['debt'].count())\n"
   ]
  },
  {
   "cell_type": "code",
   "execution_count": 100,
   "metadata": {
    "scrolled": false
   },
   "outputs": [
    {
     "name": "stdout",
     "output_type": "stream",
     "text": [
      "debt                      0     1    All\n",
      "child_cat                               \n",
      "1-3 Children           8990   911   9901\n",
      "More than 3 Children   1533   176   1709\n",
      "No Children               0     0      0\n",
      "All                   10523  1087  11610\n"
     ]
    }
   ],
   "source": [
    "print(bank_data.pivot_table(index='child_cat', columns='debt', values='children', aggfunc='sum', margins=True))"
   ]
  },
  {
   "cell_type": "markdown",
   "metadata": {},
   "source": [
    "**Conclusion**\n",
    "Based on my manipulations of the child_cat column, it seems that those with more children are actually less likely to default on a loan. Clients with more than 3 children only made up about 0.7% of those who defaulted on those loans, with clients with 1 to 3 children making up about 32%. Those with no children made up the majority of clients who defaulted, coming in at about 61%.\n",
    "\n"
   ]
  },
  {
   "cell_type": "markdown",
   "metadata": {},
   "source": [
    "**Is there a correlation between family status and paying back on time?**"
   ]
  },
  {
   "cell_type": "code",
   "execution_count": 110,
   "metadata": {},
   "outputs": [
    {
     "name": "stdout",
     "output_type": "stream",
     "text": [
      "status_cat  debt\n",
      "Coupled     0       15107\n",
      "            1        1313\n",
      "Single      0        4513\n",
      "            1         420\n",
      "Name: debt, dtype: int64\n",
      "0.7576457010963646\n",
      "\n",
      "0.2423542989036353\n"
     ]
    }
   ],
   "source": [
    "# Check the family status data and paying back on time\n",
    "print(bank_data.groupby('status_cat')['debt'].value_counts())\n",
    "\n",
    "\n",
    "# Calculating default-rate based on family status\n",
    "print(bank_data.loc[(bank_data['status_cat'] == 'Coupled') & (bank_data['debt'] == 1)]['debt'].count() / bank_data[bank_data['debt'] == 1]['debt'].count())\n",
    "print()\n",
    "print(bank_data.loc[(bank_data['status_cat'] == 'Single') & (bank_data['debt'] == 1)]['debt'].count() / bank_data[bank_data['debt'] == 1]['debt'].count())\n",
    "\n",
    "\n"
   ]
  },
  {
   "cell_type": "code",
   "execution_count": 117,
   "metadata": {},
   "outputs": [
    {
     "name": "stdout",
     "output_type": "stream",
     "text": [
      "debt            0     1    All\n",
      "status_cat                    \n",
      "Coupled      9105   920  10025\n",
      "Single       1418   167   1585\n",
      "All         10523  1087  11610\n"
     ]
    }
   ],
   "source": [
    "print(bank_data.pivot_table(index='status_cat', columns='debt', values= 'children', aggfunc='sum', margins=True))"
   ]
  },
  {
   "cell_type": "markdown",
   "metadata": {},
   "source": [
    "**Conclusion**\n",
    "Based on my manipulations it seems that clients who are in a couple are more likely to default on a loan as they make up about 76% of loan defaults. But it is also worth noting that there are significantly more clients who are in couples than single. \n"
   ]
  },
  {
   "cell_type": "markdown",
   "metadata": {},
   "source": [
    "**Is there a correlation between income level and paying back on time?**"
   ]
  },
  {
   "cell_type": "code",
   "execution_count": 111,
   "metadata": {},
   "outputs": [
    {
     "name": "stdout",
     "output_type": "stream",
     "text": [
      "income_categories  debt\n",
      "High income        0          45\n",
      "                   1           4\n",
      "Low income         0       17014\n",
      "                   1        1540\n",
      "Mid income         0         163\n",
      "                   1          10\n",
      "Mid-low income     0        2398\n",
      "                   1         179\n",
      "Name: debt, dtype: int64\n",
      "\n",
      "0.8886324293133295\n",
      "\n",
      "0.10328909405654933\n",
      "\n",
      "0.005770340450086555\n",
      "\n",
      "0.002308136180034622\n"
     ]
    }
   ],
   "source": [
    "# Check the income level data and paying back on time\n",
    "print(bank_data.groupby('income_categories')['debt'].value_counts())\n",
    "print()\n",
    "\n",
    "# Calculating default-rate based on income level\n",
    "print(bank_data.loc[(bank_data['income_categories'] == 'Low income') & (bank_data['debt'] == 1)]['debt'].count() / bank_data[bank_data['debt'] == 1]['debt'].count())\n",
    "print()\n",
    "print(bank_data.loc[(bank_data['income_categories'] == 'Mid-low income') & (bank_data['debt'] == 1)]['debt'].count() / bank_data[bank_data['debt'] == 1]['debt'].count())\n",
    "print()\n",
    "print(bank_data.loc[(bank_data['income_categories'] == 'Mid income') & (bank_data['debt'] == 1)]['debt'].count() / bank_data[bank_data['debt'] == 1]['debt'].count())\n",
    "print()\n",
    "print(bank_data.loc[(bank_data['income_categories'] == 'High income') & (bank_data['debt'] == 1)]['debt'].count() / bank_data[bank_data['debt'] == 1]['debt'].count())\n",
    "\n"
   ]
  },
  {
   "cell_type": "code",
   "execution_count": 116,
   "metadata": {},
   "outputs": [
    {
     "name": "stdout",
     "output_type": "stream",
     "text": [
      "debt                   0     1    All\n",
      "income_categories                    \n",
      "High income           35     1     36\n",
      "Low income          8998   971   9969\n",
      "Mid income            91     6     97\n",
      "Mid-low income      1399   109   1508\n",
      "All                10523  1087  11610\n"
     ]
    }
   ],
   "source": [
    "print(bank_data.pivot_table(index='income_categories', columns='debt', values= 'children', aggfunc='sum', margins=True))"
   ]
  },
  {
   "cell_type": "markdown",
   "metadata": {},
   "source": [
    "**Conclusion**\n",
    "\n",
    "Seems like those with low incomes (less than $40,000) are more likely to default on loan, making up almost 89% of those who defaulted. As income levels increase, those populations make up less and less of the client's who defaulted.\n",
    "\n"
   ]
  },
  {
   "cell_type": "markdown",
   "metadata": {},
   "source": [
    "**How does credit purpose affect the default rate?**"
   ]
  },
  {
   "cell_type": "code",
   "execution_count": 112,
   "metadata": {},
   "outputs": [
    {
     "name": "stdout",
     "output_type": "stream",
     "text": [
      "loan_purpose_cat  debt\n",
      "car purchase      0        3884\n",
      "                  1         400\n",
      "education         0        2807\n",
      "                  1         288\n",
      "real estate       0       10803\n",
      "                  1         861\n",
      "wedding ceremony  0        2126\n",
      "                  1         184\n",
      "Name: debt, dtype: int64\n",
      "\n",
      "0.2308136180034622\n",
      "\n",
      "0.1661858049624928\n",
      "\n",
      "0.49682631275245237\n",
      "\n",
      "0.10617426428159261\n"
     ]
    }
   ],
   "source": [
    "# Check the percentages for default rate for each credit purpose and analyze them\n",
    "print(bank_data.groupby('loan_purpose_cat')['debt'].value_counts())\n",
    "print()\n",
    "print(bank_data.loc[(bank_data['loan_purpose_cat'] == 'car purchase') & (bank_data['debt'] == 1)]['debt'].count() / bank_data[bank_data['debt'] == 1]['debt'].count())\n",
    "print()\n",
    "print(bank_data.loc[(bank_data['loan_purpose_cat'] == 'education') & (bank_data['debt'] == 1)]['debt'].count() / bank_data[bank_data['debt'] == 1]['debt'].count())\n",
    "print()\n",
    "print(bank_data.loc[(bank_data['loan_purpose_cat'] == 'real estate') & (bank_data['debt'] == 1)]['debt'].count() / bank_data[bank_data['debt'] == 1]['debt'].count())\n",
    "print()\n",
    "print(bank_data.loc[(bank_data['loan_purpose_cat'] == 'wedding ceremony') & (bank_data['debt'] == 1)]['debt'].count() / bank_data[bank_data['debt'] == 1]['debt'].count())\n"
   ]
  },
  {
   "cell_type": "code",
   "execution_count": 115,
   "metadata": {},
   "outputs": [
    {
     "name": "stdout",
     "output_type": "stream",
     "text": [
      "debt                  0     1    All\n",
      "loan_purpose_cat                    \n",
      "car purchase       2036   257   2293\n",
      "education          1586   166   1752\n",
      "real estate        5797   514   6311\n",
      "wedding ceremony   1104   150   1254\n",
      "All               10523  1087  11610\n"
     ]
    }
   ],
   "source": [
    "print(bank_data.pivot_table(index='loan_purpose_cat', columns='debt', values= 'children', aggfunc='sum', margins=True))"
   ]
  },
  {
   "cell_type": "markdown",
   "metadata": {},
   "source": [
    "**Conclusion**\n",
    "\n",
    "Based on my findings it seems like real estate related loans make up about half (50%) of clients who default on their lonas. As for the other purposes, there doesn't seem to be much correlation between them and the rate of defaults. \n",
    "[Write your conclusions based on your manipulations and observations.]\n"
   ]
  },
  {
   "cell_type": "markdown",
   "metadata": {},
   "source": [
    "# General Conclusion \n",
    "\n",
    "The main goal of this report was to determine whether a client's martial status, whether they had children, and other factors correlated with the rate of client's who default on their loans. \n",
    "To reach this goal the data had to be analyzed, cleaned up, transformed, and then categorized. There seemed to be examples of both human and technical errors that resulted in problematic data. There were some entries that had to be transformed (education column and days employed) to ensure that removing duplicates would go smoothly. Other categories were combined into one for better clarity of the data.\n",
    "The original dataset included 2 columns that had missing values (days employed and total income). Various possible reasons for these missing values were investigated, and my conclusion was that there was no pattern to be found. By using the median value of parameters that I deemed as having the greatest impact on these values, I was able to fill in the missing values. \n",
    "Once the data was cleaned up, it was time to categorize it to be able to draw conclusions. Based on the value counts of certain categories it seemed based to create categorizations based on client's age, income level, martial status, number of children, and loan purpose. These categorizations then aided me in answering the posed questions.  \n",
    "\n",
    "\n",
    "\n",
    "As for determining whether or not certain factors predicted whether a client would default on their loan, I made some fascinating observations. It seems that client's with children and/or mid to high incomes made up the minoritity of client's who defaulted on thier loans, leading me to belive those clients are less likely to default.\n",
    "On the other hand, client's with no children and/or low income are more likely to default. Based on the data, it also seems that clients who are in a couple are more likely to default than those who are not, but it's important to keep in mind that in this sample, there are many more clients who are in a couple than those who are single. \n",
    "Finally, beyond those who requested a loan for real estate, there does not seem to be much correlation between loan purpose and those who default on loans. \n",
    "\n",
    "\n",
    "\n"
   ]
  },
  {
   "cell_type": "code",
   "execution_count": null,
   "metadata": {},
   "outputs": [],
   "source": []
  }
 ],
 "metadata": {
  "ExecuteTimeLog": [
   {
    "duration": 2741,
    "start_time": "2021-10-21T01:08:49.480Z"
   },
   {
    "duration": 52,
    "start_time": "2021-10-21T01:08:53.315Z"
   },
   {
    "duration": 49,
    "start_time": "2021-10-21T01:08:57.432Z"
   },
   {
    "duration": 70,
    "start_time": "2021-10-21T01:09:07.706Z"
   },
   {
    "duration": 622,
    "start_time": "2022-03-12T01:46:29.002Z"
   },
   {
    "duration": 339,
    "start_time": "2022-03-12T01:46:32.272Z"
   },
   {
    "duration": 41,
    "start_time": "2022-03-12T01:47:00.967Z"
   },
   {
    "duration": 296,
    "start_time": "2022-03-12T01:47:08.400Z"
   },
   {
    "duration": 42,
    "start_time": "2022-03-12T01:48:28.091Z"
   },
   {
    "duration": 314,
    "start_time": "2022-03-12T01:48:35.585Z"
   },
   {
    "duration": 10,
    "start_time": "2022-03-12T01:48:57.877Z"
   },
   {
    "duration": 3,
    "start_time": "2022-03-12T01:49:24.199Z"
   },
   {
    "duration": 7,
    "start_time": "2022-03-12T01:49:37.203Z"
   },
   {
    "duration": 294,
    "start_time": "2022-03-12T01:51:40.950Z"
   },
   {
    "duration": 297,
    "start_time": "2022-03-12T01:51:48.560Z"
   },
   {
    "duration": 2,
    "start_time": "2022-03-12T01:53:35.240Z"
   },
   {
    "duration": 314,
    "start_time": "2022-03-12T01:53:47.817Z"
   },
   {
    "duration": 4,
    "start_time": "2022-03-12T01:54:25.053Z"
   },
   {
    "duration": 10,
    "start_time": "2022-03-12T01:55:05.353Z"
   },
   {
    "duration": 349,
    "start_time": "2022-03-12T22:43:53.420Z"
   },
   {
    "duration": 852,
    "start_time": "2022-03-12T22:44:01.115Z"
   },
   {
    "duration": 12,
    "start_time": "2022-03-12T22:44:01.970Z"
   },
   {
    "duration": 21,
    "start_time": "2022-03-12T22:44:01.985Z"
   },
   {
    "duration": 20,
    "start_time": "2022-03-12T22:44:02.008Z"
   },
   {
    "duration": 21,
    "start_time": "2022-03-12T22:44:02.030Z"
   },
   {
    "duration": 4,
    "start_time": "2022-03-12T22:44:02.053Z"
   },
   {
    "duration": 14,
    "start_time": "2022-03-12T22:44:02.059Z"
   },
   {
    "duration": 11,
    "start_time": "2022-03-12T22:44:02.075Z"
   },
   {
    "duration": 12,
    "start_time": "2022-03-12T22:44:02.090Z"
   },
   {
    "duration": 11,
    "start_time": "2022-03-12T22:44:02.105Z"
   },
   {
    "duration": 6,
    "start_time": "2022-03-12T22:44:02.118Z"
   },
   {
    "duration": 10,
    "start_time": "2022-03-12T22:44:02.127Z"
   },
   {
    "duration": 13,
    "start_time": "2022-03-12T22:44:02.139Z"
   },
   {
    "duration": 6,
    "start_time": "2022-03-12T22:44:02.154Z"
   },
   {
    "duration": 10,
    "start_time": "2022-03-12T22:44:02.162Z"
   },
   {
    "duration": 8,
    "start_time": "2022-03-12T22:44:02.174Z"
   },
   {
    "duration": 6,
    "start_time": "2022-03-12T22:44:02.184Z"
   },
   {
    "duration": 15,
    "start_time": "2022-03-12T22:44:02.192Z"
   },
   {
    "duration": 7,
    "start_time": "2022-03-12T22:44:02.209Z"
   },
   {
    "duration": 5,
    "start_time": "2022-03-12T22:44:02.219Z"
   },
   {
    "duration": 26,
    "start_time": "2022-03-12T22:44:02.226Z"
   },
   {
    "duration": 11,
    "start_time": "2022-03-12T22:44:02.255Z"
   },
   {
    "duration": 12,
    "start_time": "2022-03-12T22:44:02.268Z"
   },
   {
    "duration": 7,
    "start_time": "2022-03-12T22:44:02.283Z"
   },
   {
    "duration": 12,
    "start_time": "2022-03-12T22:44:02.292Z"
   },
   {
    "duration": 8,
    "start_time": "2022-03-12T22:44:02.306Z"
   },
   {
    "duration": 5,
    "start_time": "2022-03-12T22:44:02.320Z"
   },
   {
    "duration": 9,
    "start_time": "2022-03-12T22:44:02.328Z"
   },
   {
    "duration": 12,
    "start_time": "2022-03-12T22:44:02.339Z"
   },
   {
    "duration": 7,
    "start_time": "2022-03-12T22:44:02.353Z"
   },
   {
    "duration": 8,
    "start_time": "2022-03-12T22:44:02.362Z"
   },
   {
    "duration": 4,
    "start_time": "2022-03-12T22:44:02.372Z"
   },
   {
    "duration": 4,
    "start_time": "2022-03-12T22:44:02.378Z"
   },
   {
    "duration": 5,
    "start_time": "2022-03-12T22:44:02.384Z"
   },
   {
    "duration": 4,
    "start_time": "2022-03-12T22:44:02.392Z"
   },
   {
    "duration": 4,
    "start_time": "2022-03-12T22:44:02.399Z"
   },
   {
    "duration": 6,
    "start_time": "2022-03-12T22:44:02.405Z"
   },
   {
    "duration": 39,
    "start_time": "2022-03-12T22:44:02.413Z"
   },
   {
    "duration": 5,
    "start_time": "2022-03-12T22:44:02.454Z"
   },
   {
    "duration": 4,
    "start_time": "2022-03-12T22:44:02.461Z"
   },
   {
    "duration": 9,
    "start_time": "2022-03-12T22:44:02.467Z"
   },
   {
    "duration": 8,
    "start_time": "2022-03-12T22:44:02.478Z"
   },
   {
    "duration": 6,
    "start_time": "2022-03-12T22:44:02.488Z"
   },
   {
    "duration": 6,
    "start_time": "2022-03-12T22:44:02.496Z"
   },
   {
    "duration": 9,
    "start_time": "2022-03-12T22:44:02.504Z"
   },
   {
    "duration": 36,
    "start_time": "2022-03-12T22:44:02.515Z"
   },
   {
    "duration": 11,
    "start_time": "2022-03-12T22:44:02.553Z"
   },
   {
    "duration": 15,
    "start_time": "2022-03-12T22:44:02.566Z"
   },
   {
    "duration": 7,
    "start_time": "2022-03-12T22:44:02.584Z"
   },
   {
    "duration": 6,
    "start_time": "2022-03-12T22:44:02.594Z"
   },
   {
    "duration": 11,
    "start_time": "2022-03-12T22:44:02.602Z"
   },
   {
    "duration": 9,
    "start_time": "2022-03-12T22:44:02.615Z"
   },
   {
    "duration": 5,
    "start_time": "2022-03-12T22:44:02.626Z"
   },
   {
    "duration": 13,
    "start_time": "2022-03-12T22:44:02.633Z"
   },
   {
    "duration": 14,
    "start_time": "2022-03-12T22:44:02.648Z"
   },
   {
    "duration": 13,
    "start_time": "2022-03-12T22:44:02.665Z"
   },
   {
    "duration": 25,
    "start_time": "2022-03-12T22:44:02.680Z"
   },
   {
    "duration": 21,
    "start_time": "2022-03-12T22:44:02.707Z"
   },
   {
    "duration": 10,
    "start_time": "2022-03-12T22:44:02.730Z"
   },
   {
    "duration": 8,
    "start_time": "2022-03-12T22:44:02.742Z"
   },
   {
    "duration": 12,
    "start_time": "2022-03-12T22:44:02.752Z"
   },
   {
    "duration": 11,
    "start_time": "2022-03-12T22:44:02.766Z"
   },
   {
    "duration": 7,
    "start_time": "2022-03-12T22:44:02.779Z"
   },
   {
    "duration": 6,
    "start_time": "2022-03-12T22:44:02.788Z"
   },
   {
    "duration": 6,
    "start_time": "2022-03-12T22:44:02.796Z"
   },
   {
    "duration": 17,
    "start_time": "2022-03-12T22:44:02.804Z"
   },
   {
    "duration": 28,
    "start_time": "2022-03-12T22:44:02.823Z"
   },
   {
    "duration": 8,
    "start_time": "2022-03-12T22:44:02.853Z"
   },
   {
    "duration": 7,
    "start_time": "2022-03-12T22:44:02.864Z"
   },
   {
    "duration": 6,
    "start_time": "2022-03-12T22:44:02.874Z"
   },
   {
    "duration": 16,
    "start_time": "2022-03-12T22:44:02.883Z"
   },
   {
    "duration": 13,
    "start_time": "2022-03-12T22:53:34.382Z"
   },
   {
    "duration": 21,
    "start_time": "2022-03-12T22:53:37.264Z"
   },
   {
    "duration": 340,
    "start_time": "2022-03-12T23:01:24.680Z"
   },
   {
    "duration": 7,
    "start_time": "2022-03-12T23:02:11.090Z"
   },
   {
    "duration": 14,
    "start_time": "2022-03-12T23:02:20.034Z"
   },
   {
    "duration": 22,
    "start_time": "2022-03-12T23:05:40.443Z"
   },
   {
    "duration": 22,
    "start_time": "2022-03-13T00:02:07.085Z"
   },
   {
    "duration": 26,
    "start_time": "2022-03-13T00:04:30.271Z"
   },
   {
    "duration": 245,
    "start_time": "2022-03-13T00:05:57.387Z"
   },
   {
    "duration": 278,
    "start_time": "2022-03-13T00:06:40.822Z"
   },
   {
    "duration": 277,
    "start_time": "2022-03-13T00:06:50.933Z"
   },
   {
    "duration": 267,
    "start_time": "2022-03-13T00:07:27.756Z"
   },
   {
    "duration": 248,
    "start_time": "2022-03-13T00:09:41.804Z"
   },
   {
    "duration": 258,
    "start_time": "2022-03-13T00:10:07.190Z"
   },
   {
    "duration": 8,
    "start_time": "2022-03-13T00:10:53.804Z"
   },
   {
    "duration": 9,
    "start_time": "2022-03-13T00:13:23.987Z"
   },
   {
    "duration": 274,
    "start_time": "2022-03-13T00:15:34.880Z"
   },
   {
    "duration": 11,
    "start_time": "2022-03-13T00:15:42.660Z"
   },
   {
    "duration": 6,
    "start_time": "2022-03-13T00:17:33.186Z"
   },
   {
    "duration": 8,
    "start_time": "2022-03-13T00:17:42.671Z"
   },
   {
    "duration": 254,
    "start_time": "2022-03-13T00:28:17.097Z"
   },
   {
    "duration": 11,
    "start_time": "2022-03-13T00:28:32.837Z"
   },
   {
    "duration": 11,
    "start_time": "2022-03-13T00:28:45.591Z"
   },
   {
    "duration": 10,
    "start_time": "2022-03-13T00:35:54.460Z"
   },
   {
    "duration": 19,
    "start_time": "2022-03-13T00:37:05.289Z"
   },
   {
    "duration": 18,
    "start_time": "2022-03-13T00:39:39.573Z"
   },
   {
    "duration": 36,
    "start_time": "2022-03-13T00:42:20.159Z"
   },
   {
    "duration": 13,
    "start_time": "2022-03-13T00:46:09.975Z"
   },
   {
    "duration": 5,
    "start_time": "2022-03-13T00:47:10.809Z"
   },
   {
    "duration": 7,
    "start_time": "2022-03-13T00:47:25.555Z"
   },
   {
    "duration": 13,
    "start_time": "2022-03-13T00:48:27.725Z"
   },
   {
    "duration": 14,
    "start_time": "2022-03-13T00:48:38.970Z"
   },
   {
    "duration": 16,
    "start_time": "2022-03-13T03:12:37.412Z"
   },
   {
    "duration": 14,
    "start_time": "2022-03-13T03:13:18.227Z"
   },
   {
    "duration": 18,
    "start_time": "2022-03-13T03:14:29.439Z"
   },
   {
    "duration": 279,
    "start_time": "2022-03-13T03:17:02.397Z"
   },
   {
    "duration": 13,
    "start_time": "2022-03-13T03:17:41.097Z"
   },
   {
    "duration": 12,
    "start_time": "2022-03-13T03:18:21.714Z"
   },
   {
    "duration": 11,
    "start_time": "2022-03-13T03:31:49.196Z"
   },
   {
    "duration": 14,
    "start_time": "2022-03-13T03:33:26.529Z"
   },
   {
    "duration": 12,
    "start_time": "2022-03-13T03:33:44.509Z"
   },
   {
    "duration": 7,
    "start_time": "2022-03-13T03:34:22.134Z"
   },
   {
    "duration": 7,
    "start_time": "2022-03-13T03:34:33.278Z"
   },
   {
    "duration": 9,
    "start_time": "2022-03-13T03:36:04.683Z"
   },
   {
    "duration": 9,
    "start_time": "2022-03-13T03:36:38.692Z"
   },
   {
    "duration": 41,
    "start_time": "2022-03-13T04:11:02.990Z"
   },
   {
    "duration": 9,
    "start_time": "2022-03-13T04:11:23.860Z"
   },
   {
    "duration": 5,
    "start_time": "2022-03-13T04:11:51.506Z"
   },
   {
    "duration": 9,
    "start_time": "2022-03-13T04:11:54.100Z"
   },
   {
    "duration": 11,
    "start_time": "2022-03-13T04:12:34.165Z"
   },
   {
    "duration": 6,
    "start_time": "2022-03-13T04:13:06.141Z"
   },
   {
    "duration": 16,
    "start_time": "2022-03-13T04:15:03.188Z"
   },
   {
    "duration": 373,
    "start_time": "2022-03-13T04:16:01.908Z"
   },
   {
    "duration": 24,
    "start_time": "2022-03-13T04:16:13.561Z"
   },
   {
    "duration": 26,
    "start_time": "2022-03-13T04:19:29.856Z"
   },
   {
    "duration": 335,
    "start_time": "2022-03-13T04:23:05.827Z"
   },
   {
    "duration": 3110,
    "start_time": "2022-03-13T04:24:47.318Z"
   },
   {
    "duration": 36,
    "start_time": "2022-03-13T04:27:43.227Z"
   },
   {
    "duration": 48,
    "start_time": "2022-03-13T04:28:15.730Z"
   },
   {
    "duration": 35,
    "start_time": "2022-03-13T04:28:24.754Z"
   },
   {
    "duration": 7,
    "start_time": "2022-03-13T04:28:58.514Z"
   },
   {
    "duration": 3,
    "start_time": "2022-03-13T04:29:12.593Z"
   },
   {
    "duration": 758,
    "start_time": "2022-03-13T04:29:29.294Z"
   },
   {
    "duration": 13,
    "start_time": "2022-03-13T04:29:30.054Z"
   },
   {
    "duration": 17,
    "start_time": "2022-03-13T04:29:30.070Z"
   },
   {
    "duration": 17,
    "start_time": "2022-03-13T04:29:30.090Z"
   },
   {
    "duration": 12,
    "start_time": "2022-03-13T04:29:30.109Z"
   },
   {
    "duration": 14,
    "start_time": "2022-03-13T04:29:30.152Z"
   },
   {
    "duration": 19,
    "start_time": "2022-03-13T04:29:30.169Z"
   },
   {
    "duration": 20,
    "start_time": "2022-03-13T04:29:30.192Z"
   },
   {
    "duration": 19,
    "start_time": "2022-03-13T04:29:30.251Z"
   },
   {
    "duration": 11,
    "start_time": "2022-03-13T04:29:30.272Z"
   },
   {
    "duration": 15,
    "start_time": "2022-03-13T04:29:30.285Z"
   },
   {
    "duration": 49,
    "start_time": "2022-03-13T04:29:30.303Z"
   },
   {
    "duration": 3,
    "start_time": "2022-03-13T04:29:30.355Z"
   },
   {
    "duration": 6,
    "start_time": "2022-03-13T04:29:30.361Z"
   },
   {
    "duration": 13,
    "start_time": "2022-03-13T04:29:30.370Z"
   },
   {
    "duration": 14,
    "start_time": "2022-03-13T04:29:30.385Z"
   },
   {
    "duration": 56,
    "start_time": "2022-03-13T04:29:30.401Z"
   },
   {
    "duration": 15,
    "start_time": "2022-03-13T04:29:30.459Z"
   },
   {
    "duration": 21,
    "start_time": "2022-03-13T04:29:30.477Z"
   },
   {
    "duration": 10,
    "start_time": "2022-03-13T04:29:30.501Z"
   },
   {
    "duration": 37,
    "start_time": "2022-03-13T04:29:30.514Z"
   },
   {
    "duration": 5,
    "start_time": "2022-03-13T04:29:30.553Z"
   },
   {
    "duration": 8,
    "start_time": "2022-03-13T04:29:30.564Z"
   },
   {
    "duration": 26,
    "start_time": "2022-03-13T04:29:30.576Z"
   },
   {
    "duration": 3,
    "start_time": "2022-03-13T04:29:30.604Z"
   },
   {
    "duration": 48,
    "start_time": "2022-03-13T04:29:30.609Z"
   },
   {
    "duration": 8,
    "start_time": "2022-03-13T04:29:30.659Z"
   },
   {
    "duration": 8,
    "start_time": "2022-03-13T04:29:30.669Z"
   },
   {
    "duration": 7,
    "start_time": "2022-03-13T04:29:30.679Z"
   },
   {
    "duration": 7,
    "start_time": "2022-03-13T04:29:30.689Z"
   },
   {
    "duration": 7,
    "start_time": "2022-03-13T04:29:30.699Z"
   },
   {
    "duration": 9,
    "start_time": "2022-03-13T04:29:30.708Z"
   },
   {
    "duration": 8,
    "start_time": "2022-03-13T04:29:30.719Z"
   },
   {
    "duration": 22,
    "start_time": "2022-03-13T04:29:30.729Z"
   },
   {
    "duration": 12,
    "start_time": "2022-03-13T04:29:30.753Z"
   },
   {
    "duration": 15,
    "start_time": "2022-03-13T04:29:30.767Z"
   },
   {
    "duration": 11,
    "start_time": "2022-03-13T04:29:30.784Z"
   },
   {
    "duration": 12,
    "start_time": "2022-03-13T04:29:30.797Z"
   },
   {
    "duration": 20,
    "start_time": "2022-03-13T04:29:30.811Z"
   },
   {
    "duration": 22,
    "start_time": "2022-03-13T04:29:30.833Z"
   },
   {
    "duration": 12,
    "start_time": "2022-03-13T04:29:30.857Z"
   },
   {
    "duration": 14,
    "start_time": "2022-03-13T04:29:30.871Z"
   },
   {
    "duration": 9,
    "start_time": "2022-03-13T04:29:30.888Z"
   },
   {
    "duration": 19,
    "start_time": "2022-03-13T04:29:30.899Z"
   },
   {
    "duration": 15,
    "start_time": "2022-03-13T04:29:30.921Z"
   },
   {
    "duration": 12,
    "start_time": "2022-03-13T04:29:30.938Z"
   },
   {
    "duration": 10,
    "start_time": "2022-03-13T04:29:30.952Z"
   },
   {
    "duration": 15,
    "start_time": "2022-03-13T04:29:30.965Z"
   },
   {
    "duration": 11,
    "start_time": "2022-03-13T04:29:30.983Z"
   },
   {
    "duration": 20,
    "start_time": "2022-03-13T04:29:30.996Z"
   },
   {
    "duration": 21,
    "start_time": "2022-03-13T04:29:31.019Z"
   },
   {
    "duration": 14,
    "start_time": "2022-03-13T04:29:31.042Z"
   },
   {
    "duration": 20,
    "start_time": "2022-03-13T04:29:31.058Z"
   },
   {
    "duration": 17,
    "start_time": "2022-03-13T04:29:31.080Z"
   },
   {
    "duration": 9,
    "start_time": "2022-03-13T04:29:31.100Z"
   },
   {
    "duration": 8,
    "start_time": "2022-03-13T04:29:31.112Z"
   },
   {
    "duration": 6,
    "start_time": "2022-03-13T04:29:31.122Z"
   },
   {
    "duration": 18,
    "start_time": "2022-03-13T04:29:31.130Z"
   },
   {
    "duration": 10,
    "start_time": "2022-03-13T04:29:31.150Z"
   },
   {
    "duration": 16,
    "start_time": "2022-03-13T04:29:31.163Z"
   },
   {
    "duration": 11,
    "start_time": "2022-03-13T04:29:31.181Z"
   },
   {
    "duration": 8,
    "start_time": "2022-03-13T04:29:31.194Z"
   },
   {
    "duration": 10,
    "start_time": "2022-03-13T04:29:31.204Z"
   },
   {
    "duration": 16,
    "start_time": "2022-03-13T04:29:31.217Z"
   },
   {
    "duration": 9,
    "start_time": "2022-03-13T04:29:31.235Z"
   },
   {
    "duration": 6,
    "start_time": "2022-03-13T04:29:31.247Z"
   },
   {
    "duration": 10,
    "start_time": "2022-03-13T04:29:31.255Z"
   },
   {
    "duration": 3,
    "start_time": "2022-03-13T04:29:31.272Z"
   },
   {
    "duration": 29,
    "start_time": "2022-03-13T04:29:31.278Z"
   },
   {
    "duration": 7,
    "start_time": "2022-03-13T04:29:31.309Z"
   },
   {
    "duration": 10,
    "start_time": "2022-03-13T04:29:31.318Z"
   },
   {
    "duration": 20,
    "start_time": "2022-03-13T04:29:31.330Z"
   },
   {
    "duration": 15,
    "start_time": "2022-03-13T04:29:31.352Z"
   },
   {
    "duration": 8,
    "start_time": "2022-03-13T04:29:31.369Z"
   },
   {
    "duration": 11,
    "start_time": "2022-03-13T04:29:31.380Z"
   },
   {
    "duration": 8,
    "start_time": "2022-03-13T04:29:31.393Z"
   },
   {
    "duration": 9,
    "start_time": "2022-03-13T04:29:31.404Z"
   },
   {
    "duration": 4,
    "start_time": "2022-03-13T04:34:58.083Z"
   },
   {
    "duration": 8,
    "start_time": "2022-03-13T04:35:12.244Z"
   },
   {
    "duration": 9,
    "start_time": "2022-03-13T04:36:17.605Z"
   },
   {
    "duration": 8,
    "start_time": "2022-03-13T04:36:43.122Z"
   },
   {
    "duration": 9,
    "start_time": "2022-03-13T04:36:47.763Z"
   },
   {
    "duration": 10,
    "start_time": "2022-03-13T04:37:08.900Z"
   },
   {
    "duration": 9,
    "start_time": "2022-03-13T04:37:22.233Z"
   },
   {
    "duration": 359,
    "start_time": "2022-03-13T04:38:03.375Z"
   },
   {
    "duration": 39,
    "start_time": "2022-03-13T04:38:12.103Z"
   },
   {
    "duration": 249,
    "start_time": "2022-03-13T04:38:40.631Z"
   },
   {
    "duration": 6,
    "start_time": "2022-03-13T04:38:49.035Z"
   },
   {
    "duration": 249,
    "start_time": "2022-03-13T04:39:00.467Z"
   },
   {
    "duration": 289,
    "start_time": "2022-03-13T04:39:09.119Z"
   },
   {
    "duration": 9,
    "start_time": "2022-03-13T04:39:37.238Z"
   },
   {
    "duration": 9,
    "start_time": "2022-03-13T04:39:54.228Z"
   },
   {
    "duration": 264,
    "start_time": "2022-03-13T04:40:40.289Z"
   },
   {
    "duration": 274,
    "start_time": "2022-03-13T04:40:57.649Z"
   },
   {
    "duration": 760,
    "start_time": "2022-03-13T04:41:22.302Z"
   },
   {
    "duration": 12,
    "start_time": "2022-03-13T04:41:23.065Z"
   },
   {
    "duration": 13,
    "start_time": "2022-03-13T04:41:23.080Z"
   },
   {
    "duration": 15,
    "start_time": "2022-03-13T04:41:23.096Z"
   },
   {
    "duration": 41,
    "start_time": "2022-03-13T04:41:23.113Z"
   },
   {
    "duration": 16,
    "start_time": "2022-03-13T04:41:23.157Z"
   },
   {
    "duration": 21,
    "start_time": "2022-03-13T04:41:23.176Z"
   },
   {
    "duration": 63,
    "start_time": "2022-03-13T04:41:23.200Z"
   },
   {
    "duration": 18,
    "start_time": "2022-03-13T04:41:23.270Z"
   },
   {
    "duration": 10,
    "start_time": "2022-03-13T04:41:23.291Z"
   },
   {
    "duration": 52,
    "start_time": "2022-03-13T04:41:23.303Z"
   },
   {
    "duration": 7,
    "start_time": "2022-03-13T04:41:23.357Z"
   },
   {
    "duration": 5,
    "start_time": "2022-03-13T04:41:23.366Z"
   },
   {
    "duration": 4,
    "start_time": "2022-03-13T04:41:23.373Z"
   },
   {
    "duration": 12,
    "start_time": "2022-03-13T04:41:23.379Z"
   },
   {
    "duration": 10,
    "start_time": "2022-03-13T04:41:23.393Z"
   },
   {
    "duration": 49,
    "start_time": "2022-03-13T04:41:23.406Z"
   },
   {
    "duration": 14,
    "start_time": "2022-03-13T04:41:23.458Z"
   },
   {
    "duration": 11,
    "start_time": "2022-03-13T04:41:23.475Z"
   },
   {
    "duration": 10,
    "start_time": "2022-03-13T04:41:23.489Z"
   },
   {
    "duration": 9,
    "start_time": "2022-03-13T04:41:23.501Z"
   },
   {
    "duration": 5,
    "start_time": "2022-03-13T04:41:23.552Z"
   },
   {
    "duration": 9,
    "start_time": "2022-03-13T04:41:23.559Z"
   },
   {
    "duration": 24,
    "start_time": "2022-03-13T04:41:23.570Z"
   },
   {
    "duration": 4,
    "start_time": "2022-03-13T04:41:23.597Z"
   },
   {
    "duration": 49,
    "start_time": "2022-03-13T04:41:23.603Z"
   },
   {
    "duration": 4,
    "start_time": "2022-03-13T04:41:23.659Z"
   },
   {
    "duration": 3,
    "start_time": "2022-03-13T04:41:23.666Z"
   },
   {
    "duration": 5,
    "start_time": "2022-03-13T04:41:23.672Z"
   },
   {
    "duration": 5,
    "start_time": "2022-03-13T04:41:23.679Z"
   },
   {
    "duration": 4,
    "start_time": "2022-03-13T04:41:23.686Z"
   },
   {
    "duration": 5,
    "start_time": "2022-03-13T04:41:23.692Z"
   },
   {
    "duration": 5,
    "start_time": "2022-03-13T04:41:23.699Z"
   },
   {
    "duration": 45,
    "start_time": "2022-03-13T04:41:23.706Z"
   },
   {
    "duration": 4,
    "start_time": "2022-03-13T04:41:23.754Z"
   },
   {
    "duration": 5,
    "start_time": "2022-03-13T04:41:23.760Z"
   },
   {
    "duration": 5,
    "start_time": "2022-03-13T04:41:23.767Z"
   },
   {
    "duration": 5,
    "start_time": "2022-03-13T04:41:23.774Z"
   },
   {
    "duration": 6,
    "start_time": "2022-03-13T04:41:23.781Z"
   },
   {
    "duration": 4,
    "start_time": "2022-03-13T04:41:23.790Z"
   },
   {
    "duration": 5,
    "start_time": "2022-03-13T04:41:23.797Z"
   },
   {
    "duration": 48,
    "start_time": "2022-03-13T04:41:23.804Z"
   },
   {
    "duration": 6,
    "start_time": "2022-03-13T04:41:23.854Z"
   },
   {
    "duration": 5,
    "start_time": "2022-03-13T04:41:23.862Z"
   },
   {
    "duration": 4,
    "start_time": "2022-03-13T04:41:23.869Z"
   },
   {
    "duration": 5,
    "start_time": "2022-03-13T04:41:23.875Z"
   },
   {
    "duration": 8,
    "start_time": "2022-03-13T04:41:23.882Z"
   },
   {
    "duration": 8,
    "start_time": "2022-03-13T04:41:23.892Z"
   },
   {
    "duration": 6,
    "start_time": "2022-03-13T04:41:23.901Z"
   },
   {
    "duration": 6,
    "start_time": "2022-03-13T04:41:23.909Z"
   },
   {
    "duration": 2,
    "start_time": "2022-03-13T04:41:23.952Z"
   },
   {
    "duration": 5,
    "start_time": "2022-03-13T04:41:23.956Z"
   },
   {
    "duration": 5,
    "start_time": "2022-03-13T04:41:23.964Z"
   },
   {
    "duration": 5,
    "start_time": "2022-03-13T04:41:23.971Z"
   },
   {
    "duration": 6,
    "start_time": "2022-03-13T04:41:23.978Z"
   },
   {
    "duration": 5,
    "start_time": "2022-03-13T04:41:23.986Z"
   },
   {
    "duration": 7,
    "start_time": "2022-03-13T04:41:23.993Z"
   },
   {
    "duration": 7,
    "start_time": "2022-03-13T04:41:24.002Z"
   },
   {
    "duration": 44,
    "start_time": "2022-03-13T04:41:24.011Z"
   },
   {
    "duration": 5,
    "start_time": "2022-03-13T04:41:24.057Z"
   },
   {
    "duration": 5,
    "start_time": "2022-03-13T04:41:24.064Z"
   },
   {
    "duration": 5,
    "start_time": "2022-03-13T04:41:24.071Z"
   },
   {
    "duration": 5,
    "start_time": "2022-03-13T04:41:24.078Z"
   },
   {
    "duration": 4,
    "start_time": "2022-03-13T04:41:24.085Z"
   },
   {
    "duration": 5,
    "start_time": "2022-03-13T04:41:24.091Z"
   },
   {
    "duration": 4,
    "start_time": "2022-03-13T04:41:24.098Z"
   },
   {
    "duration": 3,
    "start_time": "2022-03-13T04:41:24.150Z"
   },
   {
    "duration": 5,
    "start_time": "2022-03-13T04:41:24.156Z"
   },
   {
    "duration": 4,
    "start_time": "2022-03-13T04:41:24.164Z"
   },
   {
    "duration": 5,
    "start_time": "2022-03-13T04:41:24.171Z"
   },
   {
    "duration": 5,
    "start_time": "2022-03-13T04:41:24.179Z"
   },
   {
    "duration": 4,
    "start_time": "2022-03-13T04:41:24.187Z"
   },
   {
    "duration": 4,
    "start_time": "2022-03-13T04:41:24.194Z"
   },
   {
    "duration": 6,
    "start_time": "2022-03-13T04:41:24.200Z"
   },
   {
    "duration": 44,
    "start_time": "2022-03-13T04:41:24.208Z"
   },
   {
    "duration": 4,
    "start_time": "2022-03-13T04:41:24.255Z"
   },
   {
    "duration": 6,
    "start_time": "2022-03-13T04:41:24.262Z"
   },
   {
    "duration": 346,
    "start_time": "2022-03-13T04:42:05.844Z"
   },
   {
    "duration": 7,
    "start_time": "2022-03-13T04:42:16.412Z"
   },
   {
    "duration": 9,
    "start_time": "2022-03-13T04:42:25.547Z"
   },
   {
    "duration": 9,
    "start_time": "2022-03-13T04:42:31.653Z"
   },
   {
    "duration": 12,
    "start_time": "2022-03-13T04:44:07.578Z"
   },
   {
    "duration": 13,
    "start_time": "2022-03-13T04:44:39.604Z"
   },
   {
    "duration": 114,
    "start_time": "2022-03-13T23:24:36.113Z"
   },
   {
    "duration": 92,
    "start_time": "2022-03-13T23:24:58.130Z"
   },
   {
    "duration": 303,
    "start_time": "2022-03-13T23:25:03.265Z"
   },
   {
    "duration": 876,
    "start_time": "2022-03-13T23:25:09.871Z"
   },
   {
    "duration": 9,
    "start_time": "2022-03-13T23:25:10.749Z"
   },
   {
    "duration": 25,
    "start_time": "2022-03-13T23:25:10.760Z"
   },
   {
    "duration": 30,
    "start_time": "2022-03-13T23:25:10.787Z"
   },
   {
    "duration": 34,
    "start_time": "2022-03-13T23:25:10.818Z"
   },
   {
    "duration": 23,
    "start_time": "2022-03-13T23:25:10.854Z"
   },
   {
    "duration": 43,
    "start_time": "2022-03-13T23:25:10.878Z"
   },
   {
    "duration": 28,
    "start_time": "2022-03-13T23:25:10.923Z"
   },
   {
    "duration": 15,
    "start_time": "2022-03-13T23:25:10.954Z"
   },
   {
    "duration": 17,
    "start_time": "2022-03-13T23:25:10.972Z"
   },
   {
    "duration": 24,
    "start_time": "2022-03-13T23:25:10.991Z"
   },
   {
    "duration": 24,
    "start_time": "2022-03-13T23:25:11.017Z"
   },
   {
    "duration": 23,
    "start_time": "2022-03-13T23:25:11.042Z"
   },
   {
    "duration": 19,
    "start_time": "2022-03-13T23:25:11.067Z"
   },
   {
    "duration": 25,
    "start_time": "2022-03-13T23:25:11.088Z"
   },
   {
    "duration": 19,
    "start_time": "2022-03-13T23:25:11.115Z"
   },
   {
    "duration": 23,
    "start_time": "2022-03-13T23:25:11.136Z"
   },
   {
    "duration": 20,
    "start_time": "2022-03-13T23:25:11.161Z"
   },
   {
    "duration": 21,
    "start_time": "2022-03-13T23:25:11.183Z"
   },
   {
    "duration": 24,
    "start_time": "2022-03-13T23:25:11.205Z"
   },
   {
    "duration": 11,
    "start_time": "2022-03-13T23:25:11.231Z"
   },
   {
    "duration": 18,
    "start_time": "2022-03-13T23:25:11.244Z"
   },
   {
    "duration": 21,
    "start_time": "2022-03-13T23:25:11.264Z"
   },
   {
    "duration": 32,
    "start_time": "2022-03-13T23:25:11.287Z"
   },
   {
    "duration": 8,
    "start_time": "2022-03-13T23:25:11.321Z"
   },
   {
    "duration": 33,
    "start_time": "2022-03-13T23:25:11.331Z"
   },
   {
    "duration": 31,
    "start_time": "2022-03-13T23:25:11.368Z"
   },
   {
    "duration": 10,
    "start_time": "2022-03-13T23:25:11.402Z"
   },
   {
    "duration": 15,
    "start_time": "2022-03-13T23:25:11.414Z"
   },
   {
    "duration": 11,
    "start_time": "2022-03-13T23:25:11.430Z"
   },
   {
    "duration": 28,
    "start_time": "2022-03-13T23:25:11.443Z"
   },
   {
    "duration": 10,
    "start_time": "2022-03-13T23:25:11.473Z"
   },
   {
    "duration": 27,
    "start_time": "2022-03-13T23:25:11.485Z"
   },
   {
    "duration": 20,
    "start_time": "2022-03-13T23:25:11.513Z"
   },
   {
    "duration": 17,
    "start_time": "2022-03-13T23:25:11.534Z"
   },
   {
    "duration": 20,
    "start_time": "2022-03-13T23:25:11.552Z"
   },
   {
    "duration": 12,
    "start_time": "2022-03-13T23:25:11.574Z"
   },
   {
    "duration": 18,
    "start_time": "2022-03-13T23:25:11.589Z"
   },
   {
    "duration": 11,
    "start_time": "2022-03-13T23:25:11.609Z"
   },
   {
    "duration": 20,
    "start_time": "2022-03-13T23:25:11.622Z"
   },
   {
    "duration": 11,
    "start_time": "2022-03-13T23:25:11.644Z"
   },
   {
    "duration": 16,
    "start_time": "2022-03-13T23:25:11.657Z"
   },
   {
    "duration": 20,
    "start_time": "2022-03-13T23:25:11.675Z"
   },
   {
    "duration": 25,
    "start_time": "2022-03-13T23:25:11.697Z"
   },
   {
    "duration": 14,
    "start_time": "2022-03-13T23:25:11.724Z"
   },
   {
    "duration": 18,
    "start_time": "2022-03-13T23:25:11.739Z"
   },
   {
    "duration": 17,
    "start_time": "2022-03-13T23:25:11.759Z"
   },
   {
    "duration": 24,
    "start_time": "2022-03-13T23:25:11.778Z"
   },
   {
    "duration": 17,
    "start_time": "2022-03-13T23:25:11.803Z"
   },
   {
    "duration": 10,
    "start_time": "2022-03-13T23:25:11.822Z"
   },
   {
    "duration": 22,
    "start_time": "2022-03-13T23:25:11.833Z"
   },
   {
    "duration": 30,
    "start_time": "2022-03-13T23:25:11.857Z"
   },
   {
    "duration": 14,
    "start_time": "2022-03-13T23:25:11.889Z"
   },
   {
    "duration": 17,
    "start_time": "2022-03-13T23:25:11.905Z"
   },
   {
    "duration": 17,
    "start_time": "2022-03-13T23:25:11.924Z"
   },
   {
    "duration": 19,
    "start_time": "2022-03-13T23:25:11.942Z"
   },
   {
    "duration": 33,
    "start_time": "2022-03-13T23:25:11.963Z"
   },
   {
    "duration": 24,
    "start_time": "2022-03-13T23:25:11.998Z"
   },
   {
    "duration": 18,
    "start_time": "2022-03-13T23:25:12.023Z"
   },
   {
    "duration": 27,
    "start_time": "2022-03-13T23:25:12.043Z"
   },
   {
    "duration": 7,
    "start_time": "2022-03-13T23:25:12.072Z"
   },
   {
    "duration": 16,
    "start_time": "2022-03-13T23:25:12.081Z"
   },
   {
    "duration": 23,
    "start_time": "2022-03-13T23:25:12.098Z"
   },
   {
    "duration": 16,
    "start_time": "2022-03-13T23:25:12.123Z"
   },
   {
    "duration": 25,
    "start_time": "2022-03-13T23:25:12.141Z"
   },
   {
    "duration": 13,
    "start_time": "2022-03-13T23:25:12.168Z"
   },
   {
    "duration": 11,
    "start_time": "2022-03-13T23:25:12.183Z"
   },
   {
    "duration": 8,
    "start_time": "2022-03-13T23:25:12.196Z"
   },
   {
    "duration": 24,
    "start_time": "2022-03-13T23:25:12.206Z"
   },
   {
    "duration": 21,
    "start_time": "2022-03-13T23:25:12.232Z"
   },
   {
    "duration": 9,
    "start_time": "2022-03-13T23:25:12.254Z"
   },
   {
    "duration": 8,
    "start_time": "2022-03-13T23:25:12.265Z"
   },
   {
    "duration": 22,
    "start_time": "2022-03-13T23:25:12.276Z"
   },
   {
    "duration": 21,
    "start_time": "2022-03-13T23:25:12.300Z"
   },
   {
    "duration": 11,
    "start_time": "2022-03-13T23:25:12.323Z"
   },
   {
    "duration": 38,
    "start_time": "2022-03-13T23:25:12.336Z"
   },
   {
    "duration": 26,
    "start_time": "2022-03-13T23:25:12.375Z"
   },
   {
    "duration": 86,
    "start_time": "2022-03-13T23:25:40.714Z"
   },
   {
    "duration": 11,
    "start_time": "2022-03-13T23:25:47.376Z"
   },
   {
    "duration": 647,
    "start_time": "2022-03-14T01:06:05.244Z"
   },
   {
    "duration": 9,
    "start_time": "2022-03-14T01:06:05.893Z"
   },
   {
    "duration": 11,
    "start_time": "2022-03-14T01:06:05.904Z"
   },
   {
    "duration": 15,
    "start_time": "2022-03-14T01:06:05.917Z"
   },
   {
    "duration": 10,
    "start_time": "2022-03-14T01:06:05.933Z"
   },
   {
    "duration": 13,
    "start_time": "2022-03-14T01:06:05.944Z"
   },
   {
    "duration": 31,
    "start_time": "2022-03-14T01:06:05.958Z"
   },
   {
    "duration": 14,
    "start_time": "2022-03-14T01:06:06.137Z"
   },
   {
    "duration": 12,
    "start_time": "2022-03-14T01:06:06.153Z"
   },
   {
    "duration": 9,
    "start_time": "2022-03-14T01:06:06.167Z"
   },
   {
    "duration": 14,
    "start_time": "2022-03-14T01:06:06.178Z"
   },
   {
    "duration": 7,
    "start_time": "2022-03-14T01:06:06.193Z"
   },
   {
    "duration": 8,
    "start_time": "2022-03-14T01:06:06.202Z"
   },
   {
    "duration": 5,
    "start_time": "2022-03-14T01:06:06.211Z"
   },
   {
    "duration": 15,
    "start_time": "2022-03-14T01:06:06.218Z"
   },
   {
    "duration": 16,
    "start_time": "2022-03-14T01:06:06.236Z"
   },
   {
    "duration": 11,
    "start_time": "2022-03-14T01:06:06.254Z"
   },
   {
    "duration": 11,
    "start_time": "2022-03-14T01:06:06.277Z"
   },
   {
    "duration": 18,
    "start_time": "2022-03-14T01:06:06.290Z"
   },
   {
    "duration": 9,
    "start_time": "2022-03-14T01:06:06.309Z"
   },
   {
    "duration": 10,
    "start_time": "2022-03-14T01:06:06.320Z"
   },
   {
    "duration": 4,
    "start_time": "2022-03-14T01:06:06.332Z"
   },
   {
    "duration": 9,
    "start_time": "2022-03-14T01:06:06.338Z"
   },
   {
    "duration": 44,
    "start_time": "2022-03-14T01:06:06.348Z"
   },
   {
    "duration": 4,
    "start_time": "2022-03-14T01:06:06.394Z"
   },
   {
    "duration": 8,
    "start_time": "2022-03-14T01:06:06.400Z"
   },
   {
    "duration": 12,
    "start_time": "2022-03-14T01:06:06.409Z"
   },
   {
    "duration": 5,
    "start_time": "2022-03-14T01:06:06.423Z"
   },
   {
    "duration": 13,
    "start_time": "2022-03-14T01:06:06.430Z"
   },
   {
    "duration": 7,
    "start_time": "2022-03-14T01:06:06.445Z"
   },
   {
    "duration": 24,
    "start_time": "2022-03-14T01:06:06.454Z"
   },
   {
    "duration": 7,
    "start_time": "2022-03-14T01:06:06.480Z"
   },
   {
    "duration": 5,
    "start_time": "2022-03-14T01:06:06.489Z"
   },
   {
    "duration": 6,
    "start_time": "2022-03-14T01:06:06.496Z"
   },
   {
    "duration": 5,
    "start_time": "2022-03-14T01:06:06.504Z"
   },
   {
    "duration": 8,
    "start_time": "2022-03-14T01:06:06.510Z"
   },
   {
    "duration": 4,
    "start_time": "2022-03-14T01:06:06.520Z"
   },
   {
    "duration": 10,
    "start_time": "2022-03-14T01:06:06.526Z"
   },
   {
    "duration": 5,
    "start_time": "2022-03-14T01:06:06.538Z"
   },
   {
    "duration": 5,
    "start_time": "2022-03-14T01:06:06.544Z"
   },
   {
    "duration": 30,
    "start_time": "2022-03-14T01:06:06.551Z"
   },
   {
    "duration": 2,
    "start_time": "2022-03-14T01:06:06.585Z"
   },
   {
    "duration": 5,
    "start_time": "2022-03-14T01:06:06.589Z"
   },
   {
    "duration": 6,
    "start_time": "2022-03-14T01:06:06.596Z"
   },
   {
    "duration": 5,
    "start_time": "2022-03-14T01:06:06.604Z"
   },
   {
    "duration": 11,
    "start_time": "2022-03-14T01:06:06.611Z"
   },
   {
    "duration": 6,
    "start_time": "2022-03-14T01:06:06.624Z"
   },
   {
    "duration": 8,
    "start_time": "2022-03-14T01:06:06.631Z"
   },
   {
    "duration": 5,
    "start_time": "2022-03-14T01:06:06.641Z"
   },
   {
    "duration": 6,
    "start_time": "2022-03-14T01:06:06.647Z"
   },
   {
    "duration": 5,
    "start_time": "2022-03-14T01:06:06.654Z"
   },
   {
    "duration": 16,
    "start_time": "2022-03-14T01:06:06.661Z"
   },
   {
    "duration": 3,
    "start_time": "2022-03-14T01:06:06.679Z"
   },
   {
    "duration": 7,
    "start_time": "2022-03-14T01:06:06.684Z"
   },
   {
    "duration": 7,
    "start_time": "2022-03-14T01:06:06.693Z"
   },
   {
    "duration": 6,
    "start_time": "2022-03-14T01:06:06.702Z"
   },
   {
    "duration": 5,
    "start_time": "2022-03-14T01:06:06.710Z"
   },
   {
    "duration": 5,
    "start_time": "2022-03-14T01:06:06.717Z"
   },
   {
    "duration": 4,
    "start_time": "2022-03-14T01:06:06.724Z"
   },
   {
    "duration": 5,
    "start_time": "2022-03-14T01:06:06.730Z"
   },
   {
    "duration": 9,
    "start_time": "2022-03-14T01:06:06.737Z"
   },
   {
    "duration": 5,
    "start_time": "2022-03-14T01:06:06.748Z"
   },
   {
    "duration": 4,
    "start_time": "2022-03-14T01:06:06.755Z"
   },
   {
    "duration": 17,
    "start_time": "2022-03-14T01:06:06.761Z"
   },
   {
    "duration": 3,
    "start_time": "2022-03-14T01:06:06.781Z"
   },
   {
    "duration": 7,
    "start_time": "2022-03-14T01:06:06.786Z"
   },
   {
    "duration": 5,
    "start_time": "2022-03-14T01:06:06.795Z"
   },
   {
    "duration": 5,
    "start_time": "2022-03-14T01:06:06.801Z"
   },
   {
    "duration": 6,
    "start_time": "2022-03-14T01:06:06.808Z"
   },
   {
    "duration": 5,
    "start_time": "2022-03-14T01:06:06.816Z"
   },
   {
    "duration": 5,
    "start_time": "2022-03-14T01:06:06.822Z"
   },
   {
    "duration": 11,
    "start_time": "2022-03-14T01:06:06.829Z"
   },
   {
    "duration": 8,
    "start_time": "2022-03-14T01:06:06.842Z"
   },
   {
    "duration": 5,
    "start_time": "2022-03-14T01:06:06.852Z"
   },
   {
    "duration": 5,
    "start_time": "2022-03-14T01:06:06.859Z"
   },
   {
    "duration": 2,
    "start_time": "2022-03-14T01:06:06.877Z"
   },
   {
    "duration": 7,
    "start_time": "2022-03-14T01:06:06.881Z"
   },
   {
    "duration": 6,
    "start_time": "2022-03-14T01:06:16.118Z"
   },
   {
    "duration": 8,
    "start_time": "2022-03-14T01:36:39.039Z"
   },
   {
    "duration": 16,
    "start_time": "2022-03-14T01:37:33.713Z"
   },
   {
    "duration": 7,
    "start_time": "2022-03-14T01:38:42.566Z"
   },
   {
    "duration": 13,
    "start_time": "2022-03-14T01:41:42.076Z"
   },
   {
    "duration": 7,
    "start_time": "2022-03-14T01:44:39.213Z"
   },
   {
    "duration": 22,
    "start_time": "2022-03-14T01:50:00.138Z"
   },
   {
    "duration": 7,
    "start_time": "2022-03-14T01:50:14.915Z"
   },
   {
    "duration": 334,
    "start_time": "2022-03-14T01:50:46.652Z"
   },
   {
    "duration": 28,
    "start_time": "2022-03-14T01:51:08.468Z"
   },
   {
    "duration": 47,
    "start_time": "2022-03-14T01:53:55.212Z"
   },
   {
    "duration": 637,
    "start_time": "2022-03-14T01:58:38.431Z"
   },
   {
    "duration": 8,
    "start_time": "2022-03-14T01:58:39.070Z"
   },
   {
    "duration": 24,
    "start_time": "2022-03-14T01:58:39.080Z"
   },
   {
    "duration": 18,
    "start_time": "2022-03-14T01:58:39.105Z"
   },
   {
    "duration": 20,
    "start_time": "2022-03-14T01:58:39.125Z"
   },
   {
    "duration": 12,
    "start_time": "2022-03-14T01:58:39.147Z"
   },
   {
    "duration": 16,
    "start_time": "2022-03-14T01:58:39.161Z"
   },
   {
    "duration": 23,
    "start_time": "2022-03-14T01:58:39.179Z"
   },
   {
    "duration": 24,
    "start_time": "2022-03-14T01:58:39.204Z"
   },
   {
    "duration": 17,
    "start_time": "2022-03-14T01:58:39.230Z"
   },
   {
    "duration": 31,
    "start_time": "2022-03-14T01:58:39.249Z"
   },
   {
    "duration": 8,
    "start_time": "2022-03-14T01:58:39.282Z"
   },
   {
    "duration": 5,
    "start_time": "2022-03-14T01:58:39.291Z"
   },
   {
    "duration": 4,
    "start_time": "2022-03-14T01:58:39.298Z"
   },
   {
    "duration": 12,
    "start_time": "2022-03-14T01:58:39.303Z"
   },
   {
    "duration": 8,
    "start_time": "2022-03-14T01:58:39.317Z"
   },
   {
    "duration": 8,
    "start_time": "2022-03-14T01:58:39.326Z"
   },
   {
    "duration": 42,
    "start_time": "2022-03-14T01:58:39.335Z"
   },
   {
    "duration": 17,
    "start_time": "2022-03-14T01:58:39.379Z"
   },
   {
    "duration": 8,
    "start_time": "2022-03-14T01:58:39.397Z"
   },
   {
    "duration": 7,
    "start_time": "2022-03-14T01:58:39.407Z"
   },
   {
    "duration": 4,
    "start_time": "2022-03-14T01:58:39.416Z"
   },
   {
    "duration": 6,
    "start_time": "2022-03-14T01:58:39.424Z"
   },
   {
    "duration": 44,
    "start_time": "2022-03-14T01:58:39.433Z"
   },
   {
    "duration": 4,
    "start_time": "2022-03-14T01:58:39.479Z"
   },
   {
    "duration": 8,
    "start_time": "2022-03-14T01:58:39.485Z"
   },
   {
    "duration": 11,
    "start_time": "2022-03-14T01:58:39.494Z"
   },
   {
    "duration": 5,
    "start_time": "2022-03-14T01:58:39.507Z"
   },
   {
    "duration": 6,
    "start_time": "2022-03-14T01:58:39.514Z"
   },
   {
    "duration": 7,
    "start_time": "2022-03-14T01:58:39.521Z"
   },
   {
    "duration": 5,
    "start_time": "2022-03-14T01:58:39.529Z"
   },
   {
    "duration": 41,
    "start_time": "2022-03-14T01:58:39.536Z"
   },
   {
    "duration": 10,
    "start_time": "2022-03-14T01:58:39.579Z"
   },
   {
    "duration": 13,
    "start_time": "2022-03-14T01:58:39.592Z"
   },
   {
    "duration": 3,
    "start_time": "2022-03-14T01:58:39.608Z"
   },
   {
    "duration": 5,
    "start_time": "2022-03-14T01:58:39.613Z"
   },
   {
    "duration": 9,
    "start_time": "2022-03-14T01:58:39.620Z"
   },
   {
    "duration": 47,
    "start_time": "2022-03-14T01:58:39.631Z"
   },
   {
    "duration": 7,
    "start_time": "2022-03-14T01:58:39.680Z"
   },
   {
    "duration": 53,
    "start_time": "2022-03-14T01:58:39.689Z"
   },
   {
    "duration": 2,
    "start_time": "2022-03-14T01:58:39.744Z"
   },
   {
    "duration": 6,
    "start_time": "2022-03-14T01:58:39.747Z"
   },
   {
    "duration": 26,
    "start_time": "2022-03-14T01:58:39.754Z"
   },
   {
    "duration": 4,
    "start_time": "2022-03-14T01:58:39.782Z"
   },
   {
    "duration": 5,
    "start_time": "2022-03-14T01:58:39.788Z"
   },
   {
    "duration": 6,
    "start_time": "2022-03-14T01:58:39.794Z"
   },
   {
    "duration": 7,
    "start_time": "2022-03-14T01:58:39.801Z"
   },
   {
    "duration": 5,
    "start_time": "2022-03-14T01:58:39.810Z"
   },
   {
    "duration": 5,
    "start_time": "2022-03-14T01:58:39.816Z"
   },
   {
    "duration": 8,
    "start_time": "2022-03-14T01:58:39.823Z"
   },
   {
    "duration": 8,
    "start_time": "2022-03-14T01:58:39.833Z"
   },
   {
    "duration": 5,
    "start_time": "2022-03-14T01:58:39.843Z"
   },
   {
    "duration": 9,
    "start_time": "2022-03-14T01:58:39.849Z"
   },
   {
    "duration": 5,
    "start_time": "2022-03-14T01:58:39.860Z"
   },
   {
    "duration": 11,
    "start_time": "2022-03-14T01:58:39.867Z"
   },
   {
    "duration": 5,
    "start_time": "2022-03-14T01:58:39.880Z"
   },
   {
    "duration": 6,
    "start_time": "2022-03-14T01:58:39.887Z"
   },
   {
    "duration": 5,
    "start_time": "2022-03-14T01:58:39.895Z"
   },
   {
    "duration": 5,
    "start_time": "2022-03-14T01:58:39.902Z"
   },
   {
    "duration": 4,
    "start_time": "2022-03-14T01:58:39.909Z"
   },
   {
    "duration": 5,
    "start_time": "2022-03-14T01:58:39.915Z"
   },
   {
    "duration": 6,
    "start_time": "2022-03-14T01:58:39.922Z"
   },
   {
    "duration": 9,
    "start_time": "2022-03-14T01:58:39.930Z"
   },
   {
    "duration": 10,
    "start_time": "2022-03-14T01:58:39.941Z"
   },
   {
    "duration": 7,
    "start_time": "2022-03-14T01:58:39.953Z"
   },
   {
    "duration": 2,
    "start_time": "2022-03-14T01:58:39.978Z"
   },
   {
    "duration": 6,
    "start_time": "2022-03-14T01:58:39.981Z"
   },
   {
    "duration": 2,
    "start_time": "2022-03-14T01:58:39.992Z"
   },
   {
    "duration": 8,
    "start_time": "2022-03-14T01:58:39.996Z"
   },
   {
    "duration": 7,
    "start_time": "2022-03-14T01:58:40.005Z"
   },
   {
    "duration": 7,
    "start_time": "2022-03-14T01:58:40.014Z"
   },
   {
    "duration": 7,
    "start_time": "2022-03-14T01:58:40.022Z"
   },
   {
    "duration": 16,
    "start_time": "2022-03-14T01:58:40.031Z"
   },
   {
    "duration": 7,
    "start_time": "2022-03-14T01:58:40.049Z"
   },
   {
    "duration": 7,
    "start_time": "2022-03-14T01:58:40.058Z"
   },
   {
    "duration": 11,
    "start_time": "2022-03-14T01:58:40.067Z"
   },
   {
    "duration": 9,
    "start_time": "2022-03-14T01:58:40.080Z"
   },
   {
    "duration": 10,
    "start_time": "2022-03-14T01:58:40.091Z"
   },
   {
    "duration": 29,
    "start_time": "2022-03-14T01:58:50.047Z"
   },
   {
    "duration": 51,
    "start_time": "2022-03-14T02:00:44.790Z"
   },
   {
    "duration": 30,
    "start_time": "2022-03-14T02:01:02.616Z"
   },
   {
    "duration": 36,
    "start_time": "2022-03-14T02:01:13.928Z"
   },
   {
    "duration": 31,
    "start_time": "2022-03-14T02:01:16.245Z"
   },
   {
    "duration": 3,
    "start_time": "2022-03-14T02:01:29.133Z"
   },
   {
    "duration": 15,
    "start_time": "2022-03-14T02:02:50.124Z"
   },
   {
    "duration": 34,
    "start_time": "2022-03-14T02:03:44.443Z"
   },
   {
    "duration": 26,
    "start_time": "2022-03-14T02:03:45.980Z"
   },
   {
    "duration": 16,
    "start_time": "2022-03-14T02:03:47.626Z"
   },
   {
    "duration": 32,
    "start_time": "2022-03-14T02:04:22.543Z"
   },
   {
    "duration": 29,
    "start_time": "2022-03-14T02:04:24.917Z"
   },
   {
    "duration": 17,
    "start_time": "2022-03-14T02:04:43.726Z"
   },
   {
    "duration": 696,
    "start_time": "2022-03-14T02:04:50.182Z"
   },
   {
    "duration": 9,
    "start_time": "2022-03-14T02:04:50.880Z"
   },
   {
    "duration": 12,
    "start_time": "2022-03-14T02:04:50.892Z"
   },
   {
    "duration": 20,
    "start_time": "2022-03-14T02:04:50.906Z"
   },
   {
    "duration": 11,
    "start_time": "2022-03-14T02:04:50.928Z"
   },
   {
    "duration": 37,
    "start_time": "2022-03-14T02:04:50.941Z"
   },
   {
    "duration": 16,
    "start_time": "2022-03-14T02:04:50.981Z"
   },
   {
    "duration": 17,
    "start_time": "2022-03-14T02:04:51.001Z"
   },
   {
    "duration": 14,
    "start_time": "2022-03-14T02:04:51.021Z"
   },
   {
    "duration": 44,
    "start_time": "2022-03-14T02:04:51.037Z"
   },
   {
    "duration": 13,
    "start_time": "2022-03-14T02:04:51.083Z"
   },
   {
    "duration": 13,
    "start_time": "2022-03-14T02:04:51.099Z"
   },
   {
    "duration": 5,
    "start_time": "2022-03-14T02:04:51.114Z"
   },
   {
    "duration": 6,
    "start_time": "2022-03-14T02:04:51.121Z"
   },
   {
    "duration": 10,
    "start_time": "2022-03-14T02:04:51.129Z"
   },
   {
    "duration": 37,
    "start_time": "2022-03-14T02:04:51.141Z"
   },
   {
    "duration": 7,
    "start_time": "2022-03-14T02:04:51.180Z"
   },
   {
    "duration": 12,
    "start_time": "2022-03-14T02:04:51.190Z"
   },
   {
    "duration": 17,
    "start_time": "2022-03-14T02:04:51.204Z"
   },
   {
    "duration": 10,
    "start_time": "2022-03-14T02:04:51.223Z"
   },
   {
    "duration": 14,
    "start_time": "2022-03-14T02:04:51.235Z"
   },
   {
    "duration": 27,
    "start_time": "2022-03-14T02:04:51.251Z"
   },
   {
    "duration": 6,
    "start_time": "2022-03-14T02:04:51.284Z"
   },
   {
    "duration": 28,
    "start_time": "2022-03-14T02:04:51.293Z"
   },
   {
    "duration": 13,
    "start_time": "2022-03-14T02:04:51.322Z"
   },
   {
    "duration": 20,
    "start_time": "2022-03-14T02:04:51.336Z"
   },
   {
    "duration": 20,
    "start_time": "2022-03-14T02:04:51.357Z"
   },
   {
    "duration": 6,
    "start_time": "2022-03-14T02:04:51.379Z"
   },
   {
    "duration": 12,
    "start_time": "2022-03-14T02:04:51.386Z"
   },
   {
    "duration": 10,
    "start_time": "2022-03-14T02:04:51.400Z"
   },
   {
    "duration": 26,
    "start_time": "2022-03-14T02:04:51.412Z"
   },
   {
    "duration": 11,
    "start_time": "2022-03-14T02:04:51.440Z"
   },
   {
    "duration": 15,
    "start_time": "2022-03-14T02:04:51.453Z"
   },
   {
    "duration": 19,
    "start_time": "2022-03-14T02:04:51.469Z"
   },
   {
    "duration": 9,
    "start_time": "2022-03-14T02:04:51.489Z"
   },
   {
    "duration": 13,
    "start_time": "2022-03-14T02:04:51.500Z"
   },
   {
    "duration": 12,
    "start_time": "2022-03-14T02:04:51.515Z"
   },
   {
    "duration": 49,
    "start_time": "2022-03-14T02:04:51.529Z"
   },
   {
    "duration": 10,
    "start_time": "2022-03-14T02:04:51.580Z"
   },
   {
    "duration": 49,
    "start_time": "2022-03-14T02:04:51.591Z"
   },
   {
    "duration": 57,
    "start_time": "2022-03-14T02:04:51.642Z"
   },
   {
    "duration": 26,
    "start_time": "2022-03-14T02:04:51.701Z"
   },
   {
    "duration": 15,
    "start_time": "2022-03-14T02:04:51.729Z"
   },
   {
    "duration": 20,
    "start_time": "2022-03-14T02:04:51.746Z"
   },
   {
    "duration": 35,
    "start_time": "2022-03-14T02:04:51.767Z"
   },
   {
    "duration": 6,
    "start_time": "2022-03-14T02:04:51.804Z"
   },
   {
    "duration": 23,
    "start_time": "2022-03-14T02:04:51.812Z"
   },
   {
    "duration": 24,
    "start_time": "2022-03-14T02:04:51.837Z"
   },
   {
    "duration": 20,
    "start_time": "2022-03-14T02:04:51.863Z"
   },
   {
    "duration": 20,
    "start_time": "2022-03-14T02:04:51.885Z"
   },
   {
    "duration": 16,
    "start_time": "2022-03-14T02:04:51.907Z"
   },
   {
    "duration": 26,
    "start_time": "2022-03-14T02:04:51.925Z"
   },
   {
    "duration": 20,
    "start_time": "2022-03-14T02:04:51.953Z"
   },
   {
    "duration": 19,
    "start_time": "2022-03-14T02:04:51.975Z"
   },
   {
    "duration": 19,
    "start_time": "2022-03-14T02:04:51.996Z"
   },
   {
    "duration": 15,
    "start_time": "2022-03-14T02:04:52.017Z"
   },
   {
    "duration": 20,
    "start_time": "2022-03-14T02:04:52.034Z"
   },
   {
    "duration": 29,
    "start_time": "2022-03-14T02:04:52.056Z"
   },
   {
    "duration": 14,
    "start_time": "2022-03-14T02:04:52.087Z"
   },
   {
    "duration": 22,
    "start_time": "2022-03-14T02:04:52.103Z"
   },
   {
    "duration": 27,
    "start_time": "2022-03-14T02:04:52.126Z"
   },
   {
    "duration": 22,
    "start_time": "2022-03-14T02:04:52.155Z"
   },
   {
    "duration": 21,
    "start_time": "2022-03-14T02:04:52.179Z"
   },
   {
    "duration": 26,
    "start_time": "2022-03-14T02:04:52.201Z"
   },
   {
    "duration": 21,
    "start_time": "2022-03-14T02:04:52.229Z"
   },
   {
    "duration": 33,
    "start_time": "2022-03-14T02:04:52.251Z"
   },
   {
    "duration": 13,
    "start_time": "2022-03-14T02:04:52.286Z"
   },
   {
    "duration": 14,
    "start_time": "2022-03-14T02:04:52.303Z"
   },
   {
    "duration": 39,
    "start_time": "2022-03-14T02:04:52.319Z"
   },
   {
    "duration": 20,
    "start_time": "2022-03-14T02:04:52.360Z"
   },
   {
    "duration": 26,
    "start_time": "2022-03-14T02:04:52.382Z"
   },
   {
    "duration": 21,
    "start_time": "2022-03-14T02:04:52.410Z"
   },
   {
    "duration": 27,
    "start_time": "2022-03-14T02:04:52.432Z"
   },
   {
    "duration": 28,
    "start_time": "2022-03-14T02:04:52.460Z"
   },
   {
    "duration": 8,
    "start_time": "2022-03-14T02:04:52.490Z"
   },
   {
    "duration": 6,
    "start_time": "2022-03-14T02:04:52.500Z"
   },
   {
    "duration": 9,
    "start_time": "2022-03-14T02:04:52.508Z"
   },
   {
    "duration": 6,
    "start_time": "2022-03-14T02:04:52.518Z"
   },
   {
    "duration": 3,
    "start_time": "2022-03-14T02:05:08.273Z"
   },
   {
    "duration": 13,
    "start_time": "2022-03-14T02:17:54.819Z"
   },
   {
    "duration": 4,
    "start_time": "2022-03-14T02:19:25.166Z"
   },
   {
    "duration": 4,
    "start_time": "2022-03-14T02:19:43.039Z"
   },
   {
    "duration": 17,
    "start_time": "2022-03-14T02:21:21.526Z"
   },
   {
    "duration": 13,
    "start_time": "2022-03-14T02:22:04.420Z"
   },
   {
    "duration": 9,
    "start_time": "2022-03-14T02:22:55.026Z"
   },
   {
    "duration": 79,
    "start_time": "2022-03-14T02:24:33.238Z"
   },
   {
    "duration": 11,
    "start_time": "2022-03-14T02:24:38.382Z"
   },
   {
    "duration": 86,
    "start_time": "2022-03-14T02:24:59.761Z"
   },
   {
    "duration": 10,
    "start_time": "2022-03-14T02:25:03.273Z"
   },
   {
    "duration": 653,
    "start_time": "2022-03-14T02:26:06.327Z"
   },
   {
    "duration": 9,
    "start_time": "2022-03-14T02:26:06.982Z"
   },
   {
    "duration": 21,
    "start_time": "2022-03-14T02:26:06.993Z"
   },
   {
    "duration": 21,
    "start_time": "2022-03-14T02:26:07.016Z"
   },
   {
    "duration": 21,
    "start_time": "2022-03-14T02:26:07.039Z"
   },
   {
    "duration": 12,
    "start_time": "2022-03-14T02:26:07.062Z"
   },
   {
    "duration": 20,
    "start_time": "2022-03-14T02:26:07.076Z"
   },
   {
    "duration": 19,
    "start_time": "2022-03-14T02:26:07.098Z"
   },
   {
    "duration": 18,
    "start_time": "2022-03-14T02:26:07.120Z"
   },
   {
    "duration": 25,
    "start_time": "2022-03-14T02:26:07.139Z"
   },
   {
    "duration": 20,
    "start_time": "2022-03-14T02:26:07.166Z"
   },
   {
    "duration": 11,
    "start_time": "2022-03-14T02:26:07.187Z"
   },
   {
    "duration": 5,
    "start_time": "2022-03-14T02:26:07.200Z"
   },
   {
    "duration": 5,
    "start_time": "2022-03-14T02:26:07.207Z"
   },
   {
    "duration": 15,
    "start_time": "2022-03-14T02:26:07.213Z"
   },
   {
    "duration": 8,
    "start_time": "2022-03-14T02:26:07.230Z"
   },
   {
    "duration": 8,
    "start_time": "2022-03-14T02:26:07.240Z"
   },
   {
    "duration": 35,
    "start_time": "2022-03-14T02:26:07.249Z"
   },
   {
    "duration": 9,
    "start_time": "2022-03-14T02:26:07.286Z"
   },
   {
    "duration": 21,
    "start_time": "2022-03-14T02:26:07.296Z"
   },
   {
    "duration": 12,
    "start_time": "2022-03-14T02:26:07.319Z"
   },
   {
    "duration": 13,
    "start_time": "2022-03-14T02:26:07.333Z"
   },
   {
    "duration": 17,
    "start_time": "2022-03-14T02:26:07.350Z"
   },
   {
    "duration": 28,
    "start_time": "2022-03-14T02:26:07.370Z"
   },
   {
    "duration": 11,
    "start_time": "2022-03-14T02:26:07.400Z"
   },
   {
    "duration": 17,
    "start_time": "2022-03-14T02:26:07.413Z"
   },
   {
    "duration": 31,
    "start_time": "2022-03-14T02:26:07.432Z"
   },
   {
    "duration": 16,
    "start_time": "2022-03-14T02:26:07.465Z"
   },
   {
    "duration": 7,
    "start_time": "2022-03-14T02:26:07.483Z"
   },
   {
    "duration": 10,
    "start_time": "2022-03-14T02:26:07.491Z"
   },
   {
    "duration": 8,
    "start_time": "2022-03-14T02:26:07.503Z"
   },
   {
    "duration": 7,
    "start_time": "2022-03-14T02:26:07.513Z"
   },
   {
    "duration": 12,
    "start_time": "2022-03-14T02:26:07.522Z"
   },
   {
    "duration": 20,
    "start_time": "2022-03-14T02:26:07.535Z"
   },
   {
    "duration": 4,
    "start_time": "2022-03-14T02:26:07.557Z"
   },
   {
    "duration": 3,
    "start_time": "2022-03-14T02:26:07.577Z"
   },
   {
    "duration": 17,
    "start_time": "2022-03-14T02:26:07.581Z"
   },
   {
    "duration": 14,
    "start_time": "2022-03-14T02:26:07.600Z"
   },
   {
    "duration": 21,
    "start_time": "2022-03-14T02:26:07.616Z"
   },
   {
    "duration": 26,
    "start_time": "2022-03-14T02:26:07.638Z"
   },
   {
    "duration": 19,
    "start_time": "2022-03-14T02:26:07.666Z"
   },
   {
    "duration": 18,
    "start_time": "2022-03-14T02:26:07.687Z"
   },
   {
    "duration": 4,
    "start_time": "2022-03-14T02:26:07.707Z"
   },
   {
    "duration": 18,
    "start_time": "2022-03-14T02:26:07.712Z"
   },
   {
    "duration": 103,
    "start_time": "2022-03-14T02:26:07.732Z"
   },
   {
    "duration": -284,
    "start_time": "2022-03-14T02:26:08.121Z"
   },
   {
    "duration": -290,
    "start_time": "2022-03-14T02:26:08.129Z"
   },
   {
    "duration": -296,
    "start_time": "2022-03-14T02:26:08.136Z"
   },
   {
    "duration": -304,
    "start_time": "2022-03-14T02:26:08.145Z"
   },
   {
    "duration": -311,
    "start_time": "2022-03-14T02:26:08.153Z"
   },
   {
    "duration": -323,
    "start_time": "2022-03-14T02:26:08.166Z"
   },
   {
    "duration": -330,
    "start_time": "2022-03-14T02:26:08.174Z"
   },
   {
    "duration": -377,
    "start_time": "2022-03-14T02:26:08.222Z"
   },
   {
    "duration": -431,
    "start_time": "2022-03-14T02:26:08.277Z"
   },
   {
    "duration": -437,
    "start_time": "2022-03-14T02:26:08.284Z"
   },
   {
    "duration": -456,
    "start_time": "2022-03-14T02:26:08.304Z"
   },
   {
    "duration": -478,
    "start_time": "2022-03-14T02:26:08.328Z"
   },
   {
    "duration": -488,
    "start_time": "2022-03-14T02:26:08.339Z"
   },
   {
    "duration": -505,
    "start_time": "2022-03-14T02:26:08.357Z"
   },
   {
    "duration": -518,
    "start_time": "2022-03-14T02:26:08.371Z"
   },
   {
    "duration": -527,
    "start_time": "2022-03-14T02:26:08.381Z"
   },
   {
    "duration": -533,
    "start_time": "2022-03-14T02:26:08.388Z"
   },
   {
    "duration": -544,
    "start_time": "2022-03-14T02:26:08.400Z"
   },
   {
    "duration": -550,
    "start_time": "2022-03-14T02:26:08.407Z"
   },
   {
    "duration": -559,
    "start_time": "2022-03-14T02:26:08.417Z"
   },
   {
    "duration": -569,
    "start_time": "2022-03-14T02:26:08.428Z"
   },
   {
    "duration": -575,
    "start_time": "2022-03-14T02:26:08.435Z"
   },
   {
    "duration": -586,
    "start_time": "2022-03-14T02:26:08.447Z"
   },
   {
    "duration": -591,
    "start_time": "2022-03-14T02:26:08.453Z"
   },
   {
    "duration": -603,
    "start_time": "2022-03-14T02:26:08.466Z"
   },
   {
    "duration": -611,
    "start_time": "2022-03-14T02:26:08.475Z"
   },
   {
    "duration": -618,
    "start_time": "2022-03-14T02:26:08.483Z"
   },
   {
    "duration": -632,
    "start_time": "2022-03-14T02:26:08.498Z"
   },
   {
    "duration": -638,
    "start_time": "2022-03-14T02:26:08.505Z"
   },
   {
    "duration": -652,
    "start_time": "2022-03-14T02:26:08.520Z"
   },
   {
    "duration": -662,
    "start_time": "2022-03-14T02:26:08.531Z"
   },
   {
    "duration": -670,
    "start_time": "2022-03-14T02:26:08.540Z"
   },
   {
    "duration": -677,
    "start_time": "2022-03-14T02:26:08.548Z"
   },
   {
    "duration": -684,
    "start_time": "2022-03-14T02:26:08.556Z"
   },
   {
    "duration": 697,
    "start_time": "2022-03-14T02:29:21.181Z"
   },
   {
    "duration": 8,
    "start_time": "2022-03-14T02:29:21.880Z"
   },
   {
    "duration": 17,
    "start_time": "2022-03-14T02:29:21.890Z"
   },
   {
    "duration": 15,
    "start_time": "2022-03-14T02:29:21.909Z"
   },
   {
    "duration": 10,
    "start_time": "2022-03-14T02:29:21.926Z"
   },
   {
    "duration": 12,
    "start_time": "2022-03-14T02:29:21.938Z"
   },
   {
    "duration": 35,
    "start_time": "2022-03-14T02:29:21.952Z"
   },
   {
    "duration": 14,
    "start_time": "2022-03-14T02:29:21.990Z"
   },
   {
    "duration": 13,
    "start_time": "2022-03-14T02:29:22.006Z"
   },
   {
    "duration": 9,
    "start_time": "2022-03-14T02:29:22.021Z"
   },
   {
    "duration": 14,
    "start_time": "2022-03-14T02:29:22.032Z"
   },
   {
    "duration": 5,
    "start_time": "2022-03-14T02:29:22.077Z"
   },
   {
    "duration": 5,
    "start_time": "2022-03-14T02:29:22.084Z"
   },
   {
    "duration": 6,
    "start_time": "2022-03-14T02:29:22.090Z"
   },
   {
    "duration": 11,
    "start_time": "2022-03-14T02:29:22.097Z"
   },
   {
    "duration": 9,
    "start_time": "2022-03-14T02:29:22.110Z"
   },
   {
    "duration": 7,
    "start_time": "2022-03-14T02:29:22.121Z"
   },
   {
    "duration": 46,
    "start_time": "2022-03-14T02:29:22.131Z"
   },
   {
    "duration": 10,
    "start_time": "2022-03-14T02:29:22.179Z"
   },
   {
    "duration": 7,
    "start_time": "2022-03-14T02:29:22.191Z"
   },
   {
    "duration": 8,
    "start_time": "2022-03-14T02:29:22.200Z"
   },
   {
    "duration": 4,
    "start_time": "2022-03-14T02:29:22.210Z"
   },
   {
    "duration": 8,
    "start_time": "2022-03-14T02:29:22.219Z"
   },
   {
    "duration": 66,
    "start_time": "2022-03-14T02:29:22.231Z"
   },
   {
    "duration": 4,
    "start_time": "2022-03-14T02:29:22.299Z"
   },
   {
    "duration": 8,
    "start_time": "2022-03-14T02:29:22.305Z"
   },
   {
    "duration": 11,
    "start_time": "2022-03-14T02:29:22.315Z"
   },
   {
    "duration": 7,
    "start_time": "2022-03-14T02:29:22.328Z"
   },
   {
    "duration": 44,
    "start_time": "2022-03-14T02:29:22.337Z"
   },
   {
    "duration": 6,
    "start_time": "2022-03-14T02:29:22.384Z"
   },
   {
    "duration": 4,
    "start_time": "2022-03-14T02:29:22.392Z"
   },
   {
    "duration": 5,
    "start_time": "2022-03-14T02:29:22.398Z"
   },
   {
    "duration": 9,
    "start_time": "2022-03-14T02:29:22.405Z"
   },
   {
    "duration": 14,
    "start_time": "2022-03-14T02:29:22.416Z"
   },
   {
    "duration": 3,
    "start_time": "2022-03-14T02:29:22.432Z"
   },
   {
    "duration": 3,
    "start_time": "2022-03-14T02:29:22.478Z"
   },
   {
    "duration": 10,
    "start_time": "2022-03-14T02:29:22.483Z"
   },
   {
    "duration": 9,
    "start_time": "2022-03-14T02:29:22.495Z"
   },
   {
    "duration": 9,
    "start_time": "2022-03-14T02:29:22.506Z"
   },
   {
    "duration": 18,
    "start_time": "2022-03-14T02:29:22.517Z"
   },
   {
    "duration": 53,
    "start_time": "2022-03-14T02:29:22.537Z"
   },
   {
    "duration": 17,
    "start_time": "2022-03-14T02:29:22.592Z"
   },
   {
    "duration": 4,
    "start_time": "2022-03-14T02:29:22.611Z"
   },
   {
    "duration": 9,
    "start_time": "2022-03-14T02:29:22.618Z"
   },
   {
    "duration": 86,
    "start_time": "2022-03-14T02:29:22.629Z"
   },
   {
    "duration": -294,
    "start_time": "2022-03-14T02:29:23.012Z"
   },
   {
    "duration": -316,
    "start_time": "2022-03-14T02:29:23.035Z"
   },
   {
    "duration": -320,
    "start_time": "2022-03-14T02:29:23.041Z"
   },
   {
    "duration": -335,
    "start_time": "2022-03-14T02:29:23.057Z"
   },
   {
    "duration": -346,
    "start_time": "2022-03-14T02:29:23.069Z"
   },
   {
    "duration": -351,
    "start_time": "2022-03-14T02:29:23.076Z"
   },
   {
    "duration": -360,
    "start_time": "2022-03-14T02:29:23.086Z"
   },
   {
    "duration": -364,
    "start_time": "2022-03-14T02:29:23.092Z"
   },
   {
    "duration": -373,
    "start_time": "2022-03-14T02:29:23.102Z"
   },
   {
    "duration": -378,
    "start_time": "2022-03-14T02:29:23.109Z"
   },
   {
    "duration": -386,
    "start_time": "2022-03-14T02:29:23.118Z"
   },
   {
    "duration": -390,
    "start_time": "2022-03-14T02:29:23.124Z"
   },
   {
    "duration": -400,
    "start_time": "2022-03-14T02:29:23.136Z"
   },
   {
    "duration": -406,
    "start_time": "2022-03-14T02:29:23.143Z"
   },
   {
    "duration": -417,
    "start_time": "2022-03-14T02:29:23.155Z"
   },
   {
    "duration": -421,
    "start_time": "2022-03-14T02:29:23.161Z"
   },
   {
    "duration": -431,
    "start_time": "2022-03-14T02:29:23.173Z"
   },
   {
    "duration": -441,
    "start_time": "2022-03-14T02:29:23.184Z"
   },
   {
    "duration": -445,
    "start_time": "2022-03-14T02:29:23.189Z"
   },
   {
    "duration": -456,
    "start_time": "2022-03-14T02:29:23.201Z"
   },
   {
    "duration": -461,
    "start_time": "2022-03-14T02:29:23.207Z"
   },
   {
    "duration": -471,
    "start_time": "2022-03-14T02:29:23.218Z"
   },
   {
    "duration": -477,
    "start_time": "2022-03-14T02:29:23.224Z"
   },
   {
    "duration": -485,
    "start_time": "2022-03-14T02:29:23.233Z"
   },
   {
    "duration": -490,
    "start_time": "2022-03-14T02:29:23.239Z"
   },
   {
    "duration": -498,
    "start_time": "2022-03-14T02:29:23.248Z"
   },
   {
    "duration": -503,
    "start_time": "2022-03-14T02:29:23.254Z"
   },
   {
    "duration": -510,
    "start_time": "2022-03-14T02:29:23.262Z"
   },
   {
    "duration": -524,
    "start_time": "2022-03-14T02:29:23.277Z"
   },
   {
    "duration": -533,
    "start_time": "2022-03-14T02:29:23.287Z"
   },
   {
    "duration": -539,
    "start_time": "2022-03-14T02:29:23.293Z"
   },
   {
    "duration": -547,
    "start_time": "2022-03-14T02:29:23.302Z"
   },
   {
    "duration": -531,
    "start_time": "2022-03-14T02:29:23.308Z"
   },
   {
    "duration": -538,
    "start_time": "2022-03-14T02:29:23.316Z"
   },
   {
    "duration": 8,
    "start_time": "2022-03-14T02:30:21.126Z"
   },
   {
    "duration": 3,
    "start_time": "2022-03-14T02:33:01.724Z"
   },
   {
    "duration": 14,
    "start_time": "2022-03-14T02:33:44.337Z"
   },
   {
    "duration": 15,
    "start_time": "2022-03-14T02:34:53.140Z"
   },
   {
    "duration": 110,
    "start_time": "2022-03-14T02:35:36.540Z"
   },
   {
    "duration": 17,
    "start_time": "2022-03-14T02:35:56.082Z"
   },
   {
    "duration": 17,
    "start_time": "2022-03-14T02:36:17.184Z"
   },
   {
    "duration": 16,
    "start_time": "2022-03-14T02:36:39.752Z"
   },
   {
    "duration": 3,
    "start_time": "2022-03-14T02:36:52.136Z"
   },
   {
    "duration": 832,
    "start_time": "2022-03-15T22:20:24.476Z"
   },
   {
    "duration": 12,
    "start_time": "2022-03-15T22:20:25.311Z"
   },
   {
    "duration": 22,
    "start_time": "2022-03-15T22:20:25.326Z"
   },
   {
    "duration": 14,
    "start_time": "2022-03-15T22:20:25.351Z"
   },
   {
    "duration": 29,
    "start_time": "2022-03-15T22:20:25.367Z"
   },
   {
    "duration": 17,
    "start_time": "2022-03-15T22:20:25.399Z"
   },
   {
    "duration": 28,
    "start_time": "2022-03-15T22:20:25.418Z"
   },
   {
    "duration": 42,
    "start_time": "2022-03-15T22:20:25.450Z"
   },
   {
    "duration": 18,
    "start_time": "2022-03-15T22:20:25.494Z"
   },
   {
    "duration": 12,
    "start_time": "2022-03-15T22:20:25.515Z"
   },
   {
    "duration": 26,
    "start_time": "2022-03-15T22:20:25.529Z"
   },
   {
    "duration": 32,
    "start_time": "2022-03-15T22:20:25.557Z"
   },
   {
    "duration": 16,
    "start_time": "2022-03-15T22:20:25.591Z"
   },
   {
    "duration": 6,
    "start_time": "2022-03-15T22:20:25.609Z"
   },
   {
    "duration": 22,
    "start_time": "2022-03-15T22:20:25.617Z"
   },
   {
    "duration": 24,
    "start_time": "2022-03-15T22:20:25.641Z"
   },
   {
    "duration": 20,
    "start_time": "2022-03-15T22:20:25.667Z"
   },
   {
    "duration": 26,
    "start_time": "2022-03-15T22:20:25.689Z"
   },
   {
    "duration": 19,
    "start_time": "2022-03-15T22:20:25.717Z"
   },
   {
    "duration": 26,
    "start_time": "2022-03-15T22:20:25.739Z"
   },
   {
    "duration": 20,
    "start_time": "2022-03-15T22:20:25.768Z"
   },
   {
    "duration": 8,
    "start_time": "2022-03-15T22:20:25.791Z"
   },
   {
    "duration": 9,
    "start_time": "2022-03-15T22:20:25.805Z"
   },
   {
    "duration": 29,
    "start_time": "2022-03-15T22:20:25.817Z"
   },
   {
    "duration": 4,
    "start_time": "2022-03-15T22:20:25.848Z"
   },
   {
    "duration": 36,
    "start_time": "2022-03-15T22:20:25.855Z"
   },
   {
    "duration": 23,
    "start_time": "2022-03-15T22:20:25.893Z"
   },
   {
    "duration": 13,
    "start_time": "2022-03-15T22:20:25.918Z"
   },
   {
    "duration": 22,
    "start_time": "2022-03-15T22:20:25.934Z"
   },
   {
    "duration": 16,
    "start_time": "2022-03-15T22:20:25.958Z"
   },
   {
    "duration": 11,
    "start_time": "2022-03-15T22:20:25.976Z"
   },
   {
    "duration": 21,
    "start_time": "2022-03-15T22:20:25.989Z"
   },
   {
    "duration": 13,
    "start_time": "2022-03-15T22:20:26.013Z"
   },
   {
    "duration": 41,
    "start_time": "2022-03-15T22:20:26.028Z"
   },
   {
    "duration": 9,
    "start_time": "2022-03-15T22:20:26.071Z"
   },
   {
    "duration": 25,
    "start_time": "2022-03-15T22:20:26.082Z"
   },
   {
    "duration": 11,
    "start_time": "2022-03-15T22:20:26.109Z"
   },
   {
    "duration": 25,
    "start_time": "2022-03-15T22:20:26.122Z"
   },
   {
    "duration": 27,
    "start_time": "2022-03-15T22:20:26.149Z"
   },
   {
    "duration": 37,
    "start_time": "2022-03-15T22:20:26.178Z"
   },
   {
    "duration": 24,
    "start_time": "2022-03-15T22:20:26.217Z"
   },
   {
    "duration": 19,
    "start_time": "2022-03-15T22:20:26.244Z"
   },
   {
    "duration": 21,
    "start_time": "2022-03-15T22:20:26.265Z"
   },
   {
    "duration": 19,
    "start_time": "2022-03-15T22:20:26.288Z"
   },
   {
    "duration": 24,
    "start_time": "2022-03-15T22:20:26.309Z"
   },
   {
    "duration": 29,
    "start_time": "2022-03-15T22:20:26.335Z"
   },
   {
    "duration": 3,
    "start_time": "2022-03-15T22:20:26.367Z"
   },
   {
    "duration": 4,
    "start_time": "2022-03-15T22:20:26.387Z"
   },
   {
    "duration": 17,
    "start_time": "2022-03-15T22:20:26.394Z"
   },
   {
    "duration": 20,
    "start_time": "2022-03-15T22:20:26.413Z"
   },
   {
    "duration": 8,
    "start_time": "2022-03-15T22:20:26.435Z"
   },
   {
    "duration": 9,
    "start_time": "2022-03-15T22:20:26.445Z"
   },
   {
    "duration": 22,
    "start_time": "2022-03-15T22:20:26.456Z"
   },
   {
    "duration": 8,
    "start_time": "2022-03-15T22:20:26.481Z"
   },
   {
    "duration": 11,
    "start_time": "2022-03-15T22:20:26.491Z"
   },
   {
    "duration": 10,
    "start_time": "2022-03-15T22:20:26.504Z"
   },
   {
    "duration": 7,
    "start_time": "2022-03-15T22:20:26.516Z"
   },
   {
    "duration": 13,
    "start_time": "2022-03-15T22:20:26.525Z"
   },
   {
    "duration": 11,
    "start_time": "2022-03-15T22:20:26.540Z"
   },
   {
    "duration": 24,
    "start_time": "2022-03-15T22:20:26.553Z"
   },
   {
    "duration": 15,
    "start_time": "2022-03-15T22:20:26.579Z"
   },
   {
    "duration": 8,
    "start_time": "2022-03-15T22:20:26.596Z"
   },
   {
    "duration": 9,
    "start_time": "2022-03-15T22:20:26.606Z"
   },
   {
    "duration": 7,
    "start_time": "2022-03-15T22:20:26.618Z"
   },
   {
    "duration": 15,
    "start_time": "2022-03-15T22:20:26.627Z"
   },
   {
    "duration": 24,
    "start_time": "2022-03-15T22:20:26.644Z"
   },
   {
    "duration": 26,
    "start_time": "2022-03-15T22:20:26.671Z"
   },
   {
    "duration": 4,
    "start_time": "2022-03-15T22:20:26.704Z"
   },
   {
    "duration": 12,
    "start_time": "2022-03-15T22:20:26.711Z"
   },
   {
    "duration": 12,
    "start_time": "2022-03-15T22:20:26.726Z"
   },
   {
    "duration": 18,
    "start_time": "2022-03-15T22:20:26.740Z"
   },
   {
    "duration": 15,
    "start_time": "2022-03-15T22:20:26.760Z"
   },
   {
    "duration": 10,
    "start_time": "2022-03-15T22:20:26.777Z"
   },
   {
    "duration": 9,
    "start_time": "2022-03-15T22:20:26.789Z"
   },
   {
    "duration": 12,
    "start_time": "2022-03-15T22:20:26.800Z"
   },
   {
    "duration": 6,
    "start_time": "2022-03-15T22:20:26.814Z"
   },
   {
    "duration": 14,
    "start_time": "2022-03-15T22:20:26.822Z"
   },
   {
    "duration": 20,
    "start_time": "2022-03-15T22:20:26.839Z"
   },
   {
    "duration": 6,
    "start_time": "2022-03-15T22:20:26.861Z"
   },
   {
    "duration": 11,
    "start_time": "2022-03-15T22:20:26.869Z"
   },
   {
    "duration": 13,
    "start_time": "2022-03-15T22:20:26.883Z"
   },
   {
    "duration": 245,
    "start_time": "2022-03-15T22:26:16.991Z"
   },
   {
    "duration": 9,
    "start_time": "2022-03-15T22:26:29.526Z"
   },
   {
    "duration": 10,
    "start_time": "2022-03-15T22:26:48.424Z"
   },
   {
    "duration": 9,
    "start_time": "2022-03-15T22:27:18.969Z"
   },
   {
    "duration": 174,
    "start_time": "2022-03-15T22:36:26.656Z"
   },
   {
    "duration": 5,
    "start_time": "2022-03-15T22:36:30.360Z"
   },
   {
    "duration": 148,
    "start_time": "2022-03-15T22:36:33.553Z"
   },
   {
    "duration": 788,
    "start_time": "2022-03-15T22:36:58.043Z"
   },
   {
    "duration": 12,
    "start_time": "2022-03-15T22:36:58.833Z"
   },
   {
    "duration": 16,
    "start_time": "2022-03-15T22:36:58.848Z"
   },
   {
    "duration": 30,
    "start_time": "2022-03-15T22:36:58.867Z"
   },
   {
    "duration": 12,
    "start_time": "2022-03-15T22:36:58.899Z"
   },
   {
    "duration": 14,
    "start_time": "2022-03-15T22:36:58.913Z"
   },
   {
    "duration": 19,
    "start_time": "2022-03-15T22:36:58.929Z"
   },
   {
    "duration": 21,
    "start_time": "2022-03-15T22:36:58.988Z"
   },
   {
    "duration": 17,
    "start_time": "2022-03-15T22:36:59.012Z"
   },
   {
    "duration": 9,
    "start_time": "2022-03-15T22:36:59.032Z"
   },
   {
    "duration": 54,
    "start_time": "2022-03-15T22:36:59.044Z"
   },
   {
    "duration": 7,
    "start_time": "2022-03-15T22:36:59.100Z"
   },
   {
    "duration": 7,
    "start_time": "2022-03-15T22:36:59.109Z"
   },
   {
    "duration": 5,
    "start_time": "2022-03-15T22:36:59.118Z"
   },
   {
    "duration": 12,
    "start_time": "2022-03-15T22:36:59.125Z"
   },
   {
    "duration": 10,
    "start_time": "2022-03-15T22:36:59.139Z"
   },
   {
    "duration": 10,
    "start_time": "2022-03-15T22:36:59.188Z"
   },
   {
    "duration": 16,
    "start_time": "2022-03-15T22:36:59.201Z"
   },
   {
    "duration": 12,
    "start_time": "2022-03-15T22:36:59.220Z"
   },
   {
    "duration": 9,
    "start_time": "2022-03-15T22:36:59.235Z"
   },
   {
    "duration": 11,
    "start_time": "2022-03-15T22:36:59.288Z"
   },
   {
    "duration": 6,
    "start_time": "2022-03-15T22:36:59.301Z"
   },
   {
    "duration": 9,
    "start_time": "2022-03-15T22:36:59.314Z"
   },
   {
    "duration": 78,
    "start_time": "2022-03-15T22:36:59.328Z"
   },
   {
    "duration": 5,
    "start_time": "2022-03-15T22:36:59.409Z"
   },
   {
    "duration": 22,
    "start_time": "2022-03-15T22:36:59.416Z"
   },
   {
    "duration": 18,
    "start_time": "2022-03-15T22:36:59.440Z"
   },
   {
    "duration": 32,
    "start_time": "2022-03-15T22:36:59.461Z"
   },
   {
    "duration": 9,
    "start_time": "2022-03-15T22:36:59.496Z"
   },
   {
    "duration": 12,
    "start_time": "2022-03-15T22:36:59.508Z"
   },
   {
    "duration": 11,
    "start_time": "2022-03-15T22:36:59.522Z"
   },
   {
    "duration": 8,
    "start_time": "2022-03-15T22:36:59.535Z"
   },
   {
    "duration": 45,
    "start_time": "2022-03-15T22:36:59.546Z"
   },
   {
    "duration": 24,
    "start_time": "2022-03-15T22:36:59.594Z"
   },
   {
    "duration": 21,
    "start_time": "2022-03-15T22:36:59.621Z"
   },
   {
    "duration": 15,
    "start_time": "2022-03-15T22:36:59.644Z"
   },
   {
    "duration": 15,
    "start_time": "2022-03-15T22:36:59.662Z"
   },
   {
    "duration": 18,
    "start_time": "2022-03-15T22:36:59.680Z"
   },
   {
    "duration": 12,
    "start_time": "2022-03-15T22:36:59.700Z"
   },
   {
    "duration": 24,
    "start_time": "2022-03-15T22:36:59.715Z"
   },
   {
    "duration": 46,
    "start_time": "2022-03-15T22:36:59.741Z"
   },
   {
    "duration": 21,
    "start_time": "2022-03-15T22:36:59.789Z"
   },
   {
    "duration": 4,
    "start_time": "2022-03-15T22:36:59.812Z"
   },
   {
    "duration": 18,
    "start_time": "2022-03-15T22:36:59.819Z"
   },
   {
    "duration": 6,
    "start_time": "2022-03-15T22:36:59.840Z"
   },
   {
    "duration": 53,
    "start_time": "2022-03-15T22:36:59.849Z"
   },
   {
    "duration": 3,
    "start_time": "2022-03-15T22:36:59.904Z"
   },
   {
    "duration": 13,
    "start_time": "2022-03-15T22:36:59.909Z"
   },
   {
    "duration": 4,
    "start_time": "2022-03-15T22:36:59.924Z"
   },
   {
    "duration": 373,
    "start_time": "2022-03-15T22:36:59.930Z"
   },
   {
    "duration": -235,
    "start_time": "2022-03-15T22:37:00.541Z"
   },
   {
    "duration": -252,
    "start_time": "2022-03-15T22:37:00.559Z"
   },
   {
    "duration": -263,
    "start_time": "2022-03-15T22:37:00.572Z"
   },
   {
    "duration": -275,
    "start_time": "2022-03-15T22:37:00.585Z"
   },
   {
    "duration": -287,
    "start_time": "2022-03-15T22:37:00.598Z"
   },
   {
    "duration": -298,
    "start_time": "2022-03-15T22:37:00.611Z"
   },
   {
    "duration": -308,
    "start_time": "2022-03-15T22:37:00.622Z"
   },
   {
    "duration": -315,
    "start_time": "2022-03-15T22:37:00.631Z"
   },
   {
    "duration": -328,
    "start_time": "2022-03-15T22:37:00.645Z"
   },
   {
    "duration": -337,
    "start_time": "2022-03-15T22:37:00.656Z"
   },
   {
    "duration": -345,
    "start_time": "2022-03-15T22:37:00.665Z"
   },
   {
    "duration": -355,
    "start_time": "2022-03-15T22:37:00.677Z"
   },
   {
    "duration": -361,
    "start_time": "2022-03-15T22:37:00.684Z"
   },
   {
    "duration": -370,
    "start_time": "2022-03-15T22:37:00.695Z"
   },
   {
    "duration": -374,
    "start_time": "2022-03-15T22:37:00.700Z"
   },
   {
    "duration": -383,
    "start_time": "2022-03-15T22:37:00.711Z"
   },
   {
    "duration": -387,
    "start_time": "2022-03-15T22:37:00.716Z"
   },
   {
    "duration": -396,
    "start_time": "2022-03-15T22:37:00.727Z"
   },
   {
    "duration": -400,
    "start_time": "2022-03-15T22:37:00.733Z"
   },
   {
    "duration": -410,
    "start_time": "2022-03-15T22:37:00.744Z"
   },
   {
    "duration": -414,
    "start_time": "2022-03-15T22:37:00.750Z"
   },
   {
    "duration": -424,
    "start_time": "2022-03-15T22:37:00.761Z"
   },
   {
    "duration": -428,
    "start_time": "2022-03-15T22:37:00.767Z"
   },
   {
    "duration": -438,
    "start_time": "2022-03-15T22:37:00.778Z"
   },
   {
    "duration": -442,
    "start_time": "2022-03-15T22:37:00.784Z"
   },
   {
    "duration": -467,
    "start_time": "2022-03-15T22:37:00.810Z"
   },
   {
    "duration": -429,
    "start_time": "2022-03-15T22:37:00.816Z"
   },
   {
    "duration": -439,
    "start_time": "2022-03-15T22:37:00.828Z"
   },
   {
    "duration": -444,
    "start_time": "2022-03-15T22:37:00.834Z"
   },
   {
    "duration": -454,
    "start_time": "2022-03-15T22:37:00.846Z"
   },
   {
    "duration": -459,
    "start_time": "2022-03-15T22:37:00.852Z"
   },
   {
    "duration": -464,
    "start_time": "2022-03-15T22:37:00.859Z"
   },
   {
    "duration": 6,
    "start_time": "2022-03-15T22:37:12.583Z"
   },
   {
    "duration": 6,
    "start_time": "2022-03-15T22:37:14.729Z"
   },
   {
    "duration": 16,
    "start_time": "2022-03-15T22:38:22.741Z"
   },
   {
    "duration": 23,
    "start_time": "2022-03-15T22:38:41.486Z"
   },
   {
    "duration": 792,
    "start_time": "2022-03-15T22:43:48.665Z"
   },
   {
    "duration": 10,
    "start_time": "2022-03-15T22:44:15.712Z"
   },
   {
    "duration": 5,
    "start_time": "2022-03-15T22:44:32.092Z"
   },
   {
    "duration": 6,
    "start_time": "2022-03-15T22:44:34.663Z"
   },
   {
    "duration": 33,
    "start_time": "2022-03-15T22:44:37.381Z"
   },
   {
    "duration": 13,
    "start_time": "2022-03-15T22:44:40.622Z"
   },
   {
    "duration": 177,
    "start_time": "2022-03-15T22:49:24.847Z"
   },
   {
    "duration": 12,
    "start_time": "2022-03-15T22:52:55.217Z"
   },
   {
    "duration": 20,
    "start_time": "2022-03-15T22:53:05.415Z"
   },
   {
    "duration": 36,
    "start_time": "2022-03-15T22:53:25.190Z"
   },
   {
    "duration": 146,
    "start_time": "2022-03-15T22:55:03.492Z"
   },
   {
    "duration": 11,
    "start_time": "2022-03-15T22:55:12.940Z"
   },
   {
    "duration": 12,
    "start_time": "2022-03-15T22:55:34.509Z"
   },
   {
    "duration": 836,
    "start_time": "2022-03-15T22:56:29.787Z"
   },
   {
    "duration": 14,
    "start_time": "2022-03-15T22:56:30.627Z"
   },
   {
    "duration": 16,
    "start_time": "2022-03-15T22:56:30.644Z"
   },
   {
    "duration": 25,
    "start_time": "2022-03-15T22:56:30.688Z"
   },
   {
    "duration": 22,
    "start_time": "2022-03-15T22:56:30.715Z"
   },
   {
    "duration": 35,
    "start_time": "2022-03-15T22:56:30.740Z"
   },
   {
    "duration": 30,
    "start_time": "2022-03-15T22:56:30.777Z"
   },
   {
    "duration": 34,
    "start_time": "2022-03-15T22:56:30.812Z"
   },
   {
    "duration": 41,
    "start_time": "2022-03-15T22:56:30.849Z"
   },
   {
    "duration": 20,
    "start_time": "2022-03-15T22:56:30.893Z"
   },
   {
    "duration": 32,
    "start_time": "2022-03-15T22:56:30.916Z"
   },
   {
    "duration": 13,
    "start_time": "2022-03-15T22:56:30.951Z"
   },
   {
    "duration": 10,
    "start_time": "2022-03-15T22:56:30.967Z"
   },
   {
    "duration": 29,
    "start_time": "2022-03-15T22:56:30.979Z"
   },
   {
    "duration": 24,
    "start_time": "2022-03-15T22:56:31.011Z"
   },
   {
    "duration": 19,
    "start_time": "2022-03-15T22:56:31.037Z"
   },
   {
    "duration": 20,
    "start_time": "2022-03-15T22:56:31.059Z"
   },
   {
    "duration": 27,
    "start_time": "2022-03-15T22:56:31.081Z"
   },
   {
    "duration": 15,
    "start_time": "2022-03-15T22:56:31.110Z"
   },
   {
    "duration": 14,
    "start_time": "2022-03-15T22:56:31.127Z"
   },
   {
    "duration": 12,
    "start_time": "2022-03-15T22:56:31.143Z"
   },
   {
    "duration": 4,
    "start_time": "2022-03-15T22:56:31.158Z"
   },
   {
    "duration": 26,
    "start_time": "2022-03-15T22:56:31.169Z"
   },
   {
    "duration": 36,
    "start_time": "2022-03-15T22:56:31.199Z"
   },
   {
    "duration": 6,
    "start_time": "2022-03-15T22:56:31.238Z"
   },
   {
    "duration": 15,
    "start_time": "2022-03-15T22:56:31.246Z"
   },
   {
    "duration": 15,
    "start_time": "2022-03-15T22:56:31.288Z"
   },
   {
    "duration": 9,
    "start_time": "2022-03-15T22:56:31.306Z"
   },
   {
    "duration": 17,
    "start_time": "2022-03-15T22:56:31.318Z"
   },
   {
    "duration": 12,
    "start_time": "2022-03-15T22:56:31.338Z"
   },
   {
    "duration": 3,
    "start_time": "2022-03-15T22:56:31.388Z"
   },
   {
    "duration": 12,
    "start_time": "2022-03-15T22:56:31.393Z"
   },
   {
    "duration": 28,
    "start_time": "2022-03-15T22:56:31.407Z"
   },
   {
    "duration": 37,
    "start_time": "2022-03-15T22:56:31.437Z"
   },
   {
    "duration": 13,
    "start_time": "2022-03-15T22:56:31.477Z"
   },
   {
    "duration": 23,
    "start_time": "2022-03-15T22:56:31.492Z"
   },
   {
    "duration": 26,
    "start_time": "2022-03-15T22:56:31.517Z"
   },
   {
    "duration": 18,
    "start_time": "2022-03-15T22:56:31.545Z"
   },
   {
    "duration": 16,
    "start_time": "2022-03-15T22:56:31.566Z"
   },
   {
    "duration": 26,
    "start_time": "2022-03-15T22:56:31.585Z"
   },
   {
    "duration": 25,
    "start_time": "2022-03-15T22:56:31.614Z"
   },
   {
    "duration": 21,
    "start_time": "2022-03-15T22:56:31.642Z"
   },
   {
    "duration": 23,
    "start_time": "2022-03-15T22:56:31.666Z"
   },
   {
    "duration": 23,
    "start_time": "2022-03-15T22:56:31.691Z"
   },
   {
    "duration": 8,
    "start_time": "2022-03-15T22:56:31.716Z"
   },
   {
    "duration": 38,
    "start_time": "2022-03-15T22:56:31.727Z"
   },
   {
    "duration": 21,
    "start_time": "2022-03-15T22:56:31.767Z"
   },
   {
    "duration": 16,
    "start_time": "2022-03-15T22:56:31.790Z"
   },
   {
    "duration": 5,
    "start_time": "2022-03-15T22:56:31.808Z"
   },
   {
    "duration": 7,
    "start_time": "2022-03-15T22:56:31.815Z"
   },
   {
    "duration": 24,
    "start_time": "2022-03-15T22:56:31.824Z"
   },
   {
    "duration": 42,
    "start_time": "2022-03-15T22:56:31.850Z"
   },
   {
    "duration": 30,
    "start_time": "2022-03-15T22:56:31.895Z"
   },
   {
    "duration": 9,
    "start_time": "2022-03-15T22:56:31.927Z"
   },
   {
    "duration": 3,
    "start_time": "2022-03-15T22:56:31.939Z"
   },
   {
    "duration": 43,
    "start_time": "2022-03-15T22:56:31.944Z"
   },
   {
    "duration": 3,
    "start_time": "2022-03-15T22:56:31.989Z"
   },
   {
    "duration": 8,
    "start_time": "2022-03-15T22:56:31.995Z"
   },
   {
    "duration": 6,
    "start_time": "2022-03-15T22:56:32.006Z"
   },
   {
    "duration": 5,
    "start_time": "2022-03-15T22:56:32.014Z"
   },
   {
    "duration": 6,
    "start_time": "2022-03-15T22:56:32.021Z"
   },
   {
    "duration": 6,
    "start_time": "2022-03-15T22:56:32.029Z"
   },
   {
    "duration": 6,
    "start_time": "2022-03-15T22:56:32.037Z"
   },
   {
    "duration": 5,
    "start_time": "2022-03-15T22:56:32.045Z"
   },
   {
    "duration": 3,
    "start_time": "2022-03-15T22:56:32.088Z"
   },
   {
    "duration": 7,
    "start_time": "2022-03-15T22:56:32.094Z"
   },
   {
    "duration": 8,
    "start_time": "2022-03-15T22:56:32.103Z"
   },
   {
    "duration": 6,
    "start_time": "2022-03-15T22:56:32.118Z"
   },
   {
    "duration": 7,
    "start_time": "2022-03-15T22:56:32.126Z"
   },
   {
    "duration": 9,
    "start_time": "2022-03-15T22:56:32.135Z"
   },
   {
    "duration": 6,
    "start_time": "2022-03-15T22:56:32.147Z"
   },
   {
    "duration": 32,
    "start_time": "2022-03-15T22:56:32.155Z"
   },
   {
    "duration": 9,
    "start_time": "2022-03-15T22:56:32.189Z"
   },
   {
    "duration": 5,
    "start_time": "2022-03-15T22:56:32.200Z"
   },
   {
    "duration": 4,
    "start_time": "2022-03-15T22:56:32.208Z"
   },
   {
    "duration": 5,
    "start_time": "2022-03-15T22:56:32.214Z"
   },
   {
    "duration": 5,
    "start_time": "2022-03-15T22:56:32.221Z"
   },
   {
    "duration": 5,
    "start_time": "2022-03-15T22:56:32.228Z"
   },
   {
    "duration": 6,
    "start_time": "2022-03-15T22:56:32.235Z"
   },
   {
    "duration": 6,
    "start_time": "2022-03-15T22:56:32.243Z"
   },
   {
    "duration": 37,
    "start_time": "2022-03-15T22:56:32.251Z"
   },
   {
    "duration": 6,
    "start_time": "2022-03-15T22:56:32.290Z"
   },
   {
    "duration": 10,
    "start_time": "2022-03-15T22:58:45.321Z"
   },
   {
    "duration": 16,
    "start_time": "2022-03-15T23:00:43.709Z"
   },
   {
    "duration": 12,
    "start_time": "2022-03-15T23:01:11.207Z"
   },
   {
    "duration": 11,
    "start_time": "2022-03-15T23:01:30.423Z"
   },
   {
    "duration": 10,
    "start_time": "2022-03-15T23:01:32.180Z"
   },
   {
    "duration": 10,
    "start_time": "2022-03-15T23:02:04.583Z"
   },
   {
    "duration": 11,
    "start_time": "2022-03-15T23:02:06.801Z"
   },
   {
    "duration": 11,
    "start_time": "2022-03-15T23:03:18.969Z"
   },
   {
    "duration": 10,
    "start_time": "2022-03-15T23:03:20.710Z"
   },
   {
    "duration": 237,
    "start_time": "2022-03-15T23:27:19.207Z"
   },
   {
    "duration": 175,
    "start_time": "2022-03-16T02:54:16.663Z"
   },
   {
    "duration": 6,
    "start_time": "2022-03-16T02:54:45.814Z"
   },
   {
    "duration": 332,
    "start_time": "2022-03-16T02:54:48.356Z"
   },
   {
    "duration": 5,
    "start_time": "2022-03-16T02:55:40.491Z"
   },
   {
    "duration": 5,
    "start_time": "2022-03-16T02:55:43.104Z"
   },
   {
    "duration": 6,
    "start_time": "2022-03-16T02:55:49.272Z"
   },
   {
    "duration": 69,
    "start_time": "2022-03-16T02:57:21.294Z"
   },
   {
    "duration": 182,
    "start_time": "2022-03-16T03:05:52.515Z"
   },
   {
    "duration": 827,
    "start_time": "2022-03-16T03:06:17.363Z"
   },
   {
    "duration": 12,
    "start_time": "2022-03-16T03:06:18.193Z"
   },
   {
    "duration": 14,
    "start_time": "2022-03-16T03:06:18.207Z"
   },
   {
    "duration": 16,
    "start_time": "2022-03-16T03:06:18.224Z"
   },
   {
    "duration": 48,
    "start_time": "2022-03-16T03:06:18.243Z"
   },
   {
    "duration": 15,
    "start_time": "2022-03-16T03:06:18.294Z"
   },
   {
    "duration": 21,
    "start_time": "2022-03-16T03:06:18.311Z"
   },
   {
    "duration": 56,
    "start_time": "2022-03-16T03:06:18.336Z"
   },
   {
    "duration": 18,
    "start_time": "2022-03-16T03:06:18.395Z"
   },
   {
    "duration": 20,
    "start_time": "2022-03-16T03:06:18.415Z"
   },
   {
    "duration": 14,
    "start_time": "2022-03-16T03:06:18.437Z"
   },
   {
    "duration": 35,
    "start_time": "2022-03-16T03:06:18.453Z"
   },
   {
    "duration": 5,
    "start_time": "2022-03-16T03:06:18.491Z"
   },
   {
    "duration": 6,
    "start_time": "2022-03-16T03:06:18.498Z"
   },
   {
    "duration": 12,
    "start_time": "2022-03-16T03:06:18.507Z"
   },
   {
    "duration": 12,
    "start_time": "2022-03-16T03:06:18.522Z"
   },
   {
    "duration": 51,
    "start_time": "2022-03-16T03:06:18.536Z"
   },
   {
    "duration": 14,
    "start_time": "2022-03-16T03:06:18.589Z"
   },
   {
    "duration": 12,
    "start_time": "2022-03-16T03:06:18.605Z"
   },
   {
    "duration": 12,
    "start_time": "2022-03-16T03:06:18.620Z"
   },
   {
    "duration": 9,
    "start_time": "2022-03-16T03:06:18.635Z"
   },
   {
    "duration": 4,
    "start_time": "2022-03-16T03:06:18.647Z"
   },
   {
    "duration": 7,
    "start_time": "2022-03-16T03:06:18.692Z"
   },
   {
    "duration": 26,
    "start_time": "2022-03-16T03:06:18.703Z"
   },
   {
    "duration": 4,
    "start_time": "2022-03-16T03:06:18.732Z"
   },
   {
    "duration": 14,
    "start_time": "2022-03-16T03:06:18.738Z"
   },
   {
    "duration": 13,
    "start_time": "2022-03-16T03:06:18.787Z"
   },
   {
    "duration": 8,
    "start_time": "2022-03-16T03:06:18.802Z"
   },
   {
    "duration": 11,
    "start_time": "2022-03-16T03:06:18.813Z"
   },
   {
    "duration": 8,
    "start_time": "2022-03-16T03:06:18.826Z"
   },
   {
    "duration": 5,
    "start_time": "2022-03-16T03:06:18.836Z"
   },
   {
    "duration": 6,
    "start_time": "2022-03-16T03:06:18.843Z"
   },
   {
    "duration": 10,
    "start_time": "2022-03-16T03:06:18.888Z"
   },
   {
    "duration": 21,
    "start_time": "2022-03-16T03:06:18.901Z"
   },
   {
    "duration": 6,
    "start_time": "2022-03-16T03:06:18.924Z"
   },
   {
    "duration": 6,
    "start_time": "2022-03-16T03:06:18.933Z"
   },
   {
    "duration": 48,
    "start_time": "2022-03-16T03:06:18.942Z"
   },
   {
    "duration": 11,
    "start_time": "2022-03-16T03:06:18.993Z"
   },
   {
    "duration": 11,
    "start_time": "2022-03-16T03:06:19.006Z"
   },
   {
    "duration": 22,
    "start_time": "2022-03-16T03:06:19.020Z"
   },
   {
    "duration": 61,
    "start_time": "2022-03-16T03:06:19.044Z"
   },
   {
    "duration": 21,
    "start_time": "2022-03-16T03:06:19.107Z"
   },
   {
    "duration": 5,
    "start_time": "2022-03-16T03:06:19.130Z"
   },
   {
    "duration": 18,
    "start_time": "2022-03-16T03:06:19.137Z"
   },
   {
    "duration": 5,
    "start_time": "2022-03-16T03:06:19.187Z"
   },
   {
    "duration": 29,
    "start_time": "2022-03-16T03:06:19.195Z"
   },
   {
    "duration": 4,
    "start_time": "2022-03-16T03:06:19.226Z"
   },
   {
    "duration": 11,
    "start_time": "2022-03-16T03:06:19.232Z"
   },
   {
    "duration": 5,
    "start_time": "2022-03-16T03:06:19.246Z"
   },
   {
    "duration": 36,
    "start_time": "2022-03-16T03:06:19.253Z"
   },
   {
    "duration": 25,
    "start_time": "2022-03-16T03:06:19.292Z"
   },
   {
    "duration": 10,
    "start_time": "2022-03-16T03:06:19.320Z"
   },
   {
    "duration": 74,
    "start_time": "2022-03-16T03:06:19.333Z"
   },
   {
    "duration": 11,
    "start_time": "2022-03-16T03:06:19.410Z"
   },
   {
    "duration": 11,
    "start_time": "2022-03-16T03:06:19.424Z"
   },
   {
    "duration": 51,
    "start_time": "2022-03-16T03:06:19.438Z"
   },
   {
    "duration": 9,
    "start_time": "2022-03-16T03:06:19.491Z"
   },
   {
    "duration": 8,
    "start_time": "2022-03-16T03:06:19.503Z"
   },
   {
    "duration": 9,
    "start_time": "2022-03-16T03:06:19.513Z"
   },
   {
    "duration": 12,
    "start_time": "2022-03-16T03:06:19.525Z"
   },
   {
    "duration": 287,
    "start_time": "2022-03-16T03:06:19.540Z"
   },
   {
    "duration": -104,
    "start_time": "2022-03-16T03:06:19.934Z"
   },
   {
    "duration": -121,
    "start_time": "2022-03-16T03:06:19.953Z"
   },
   {
    "duration": -132,
    "start_time": "2022-03-16T03:06:19.965Z"
   },
   {
    "duration": -159,
    "start_time": "2022-03-16T03:06:19.994Z"
   },
   {
    "duration": -164,
    "start_time": "2022-03-16T03:06:20.000Z"
   },
   {
    "duration": -172,
    "start_time": "2022-03-16T03:06:20.009Z"
   },
   {
    "duration": -175,
    "start_time": "2022-03-16T03:06:20.014Z"
   },
   {
    "duration": -179,
    "start_time": "2022-03-16T03:06:20.019Z"
   },
   {
    "duration": -189,
    "start_time": "2022-03-16T03:06:20.031Z"
   },
   {
    "duration": -194,
    "start_time": "2022-03-16T03:06:20.037Z"
   },
   {
    "duration": -202,
    "start_time": "2022-03-16T03:06:20.047Z"
   },
   {
    "duration": -222,
    "start_time": "2022-03-16T03:06:20.068Z"
   },
   {
    "duration": -229,
    "start_time": "2022-03-16T03:06:20.076Z"
   },
   {
    "duration": -234,
    "start_time": "2022-03-16T03:06:20.082Z"
   },
   {
    "duration": -241,
    "start_time": "2022-03-16T03:06:20.091Z"
   },
   {
    "duration": -246,
    "start_time": "2022-03-16T03:06:20.097Z"
   },
   {
    "duration": -250,
    "start_time": "2022-03-16T03:06:20.102Z"
   },
   {
    "duration": -258,
    "start_time": "2022-03-16T03:06:20.111Z"
   },
   {
    "duration": -263,
    "start_time": "2022-03-16T03:06:20.117Z"
   },
   {
    "duration": -271,
    "start_time": "2022-03-16T03:06:20.127Z"
   },
   {
    "duration": -276,
    "start_time": "2022-03-16T03:06:20.133Z"
   },
   {
    "duration": -284,
    "start_time": "2022-03-16T03:06:20.142Z"
   },
   {
    "duration": -288,
    "start_time": "2022-03-16T03:06:20.147Z"
   },
   {
    "duration": -296,
    "start_time": "2022-03-16T03:06:20.156Z"
   },
   {
    "duration": -300,
    "start_time": "2022-03-16T03:06:20.162Z"
   },
   {
    "duration": -305,
    "start_time": "2022-03-16T03:06:20.168Z"
   },
   {
    "duration": -312,
    "start_time": "2022-03-16T03:06:20.177Z"
   },
   {
    "duration": 13,
    "start_time": "2022-03-16T03:07:02.657Z"
   },
   {
    "duration": 4,
    "start_time": "2022-03-16T03:07:47.245Z"
   },
   {
    "duration": 4,
    "start_time": "2022-03-16T03:10:40.027Z"
   },
   {
    "duration": 314,
    "start_time": "2022-03-16T03:10:55.768Z"
   },
   {
    "duration": 5,
    "start_time": "2022-03-16T03:13:13.844Z"
   },
   {
    "duration": 360,
    "start_time": "2022-03-16T03:13:16.609Z"
   },
   {
    "duration": 4,
    "start_time": "2022-03-16T03:14:18.383Z"
   },
   {
    "duration": 323,
    "start_time": "2022-03-16T03:14:20.654Z"
   },
   {
    "duration": 4,
    "start_time": "2022-03-16T03:20:16.583Z"
   },
   {
    "duration": 4,
    "start_time": "2022-03-16T03:20:27.482Z"
   },
   {
    "duration": 303,
    "start_time": "2022-03-16T03:20:29.468Z"
   },
   {
    "duration": 772,
    "start_time": "2022-03-16T03:22:53.630Z"
   },
   {
    "duration": 4,
    "start_time": "2022-03-16T03:23:29.811Z"
   },
   {
    "duration": 791,
    "start_time": "2022-03-16T03:23:31.347Z"
   },
   {
    "duration": 4,
    "start_time": "2022-03-16T03:25:37.818Z"
   },
   {
    "duration": 3,
    "start_time": "2022-03-16T03:25:38.999Z"
   },
   {
    "duration": 6,
    "start_time": "2022-03-16T03:27:06.476Z"
   },
   {
    "duration": 603,
    "start_time": "2022-03-16T03:27:11.931Z"
   },
   {
    "duration": 8,
    "start_time": "2022-03-16T03:28:50.341Z"
   },
   {
    "duration": 156,
    "start_time": "2022-03-16T03:29:18.856Z"
   },
   {
    "duration": 7,
    "start_time": "2022-03-16T03:29:27.329Z"
   },
   {
    "duration": 4,
    "start_time": "2022-03-16T03:29:57.890Z"
   },
   {
    "duration": 7,
    "start_time": "2022-03-16T03:30:01.073Z"
   },
   {
    "duration": 7,
    "start_time": "2022-03-16T03:30:03.183Z"
   },
   {
    "duration": 7,
    "start_time": "2022-03-16T03:31:11.474Z"
   },
   {
    "duration": 786,
    "start_time": "2022-03-16T03:32:20.942Z"
   },
   {
    "duration": 14,
    "start_time": "2022-03-16T03:32:21.730Z"
   },
   {
    "duration": 24,
    "start_time": "2022-03-16T03:32:21.746Z"
   },
   {
    "duration": 27,
    "start_time": "2022-03-16T03:32:21.772Z"
   },
   {
    "duration": 13,
    "start_time": "2022-03-16T03:32:21.801Z"
   },
   {
    "duration": 17,
    "start_time": "2022-03-16T03:32:21.816Z"
   },
   {
    "duration": 20,
    "start_time": "2022-03-16T03:32:21.836Z"
   },
   {
    "duration": 21,
    "start_time": "2022-03-16T03:32:21.889Z"
   },
   {
    "duration": 19,
    "start_time": "2022-03-16T03:32:21.913Z"
   },
   {
    "duration": 14,
    "start_time": "2022-03-16T03:32:21.934Z"
   },
   {
    "duration": 45,
    "start_time": "2022-03-16T03:32:21.951Z"
   },
   {
    "duration": 13,
    "start_time": "2022-03-16T03:32:21.998Z"
   },
   {
    "duration": 6,
    "start_time": "2022-03-16T03:32:22.013Z"
   },
   {
    "duration": 11,
    "start_time": "2022-03-16T03:32:22.021Z"
   },
   {
    "duration": 13,
    "start_time": "2022-03-16T03:32:22.034Z"
   },
   {
    "duration": 44,
    "start_time": "2022-03-16T03:32:22.049Z"
   },
   {
    "duration": 10,
    "start_time": "2022-03-16T03:32:22.096Z"
   },
   {
    "duration": 19,
    "start_time": "2022-03-16T03:32:22.108Z"
   },
   {
    "duration": 19,
    "start_time": "2022-03-16T03:32:22.129Z"
   },
   {
    "duration": 27,
    "start_time": "2022-03-16T03:32:22.150Z"
   },
   {
    "duration": 11,
    "start_time": "2022-03-16T03:32:22.187Z"
   },
   {
    "duration": 4,
    "start_time": "2022-03-16T03:32:22.200Z"
   },
   {
    "duration": 7,
    "start_time": "2022-03-16T03:32:22.210Z"
   },
   {
    "duration": 30,
    "start_time": "2022-03-16T03:32:22.221Z"
   },
   {
    "duration": 37,
    "start_time": "2022-03-16T03:32:22.253Z"
   },
   {
    "duration": 9,
    "start_time": "2022-03-16T03:32:22.292Z"
   },
   {
    "duration": 15,
    "start_time": "2022-03-16T03:32:22.303Z"
   },
   {
    "duration": 7,
    "start_time": "2022-03-16T03:32:22.320Z"
   },
   {
    "duration": 8,
    "start_time": "2022-03-16T03:32:22.329Z"
   },
   {
    "duration": 53,
    "start_time": "2022-03-16T03:32:22.339Z"
   },
   {
    "duration": 11,
    "start_time": "2022-03-16T03:32:22.394Z"
   },
   {
    "duration": 6,
    "start_time": "2022-03-16T03:32:22.407Z"
   },
   {
    "duration": 14,
    "start_time": "2022-03-16T03:32:22.416Z"
   },
   {
    "duration": 20,
    "start_time": "2022-03-16T03:32:22.432Z"
   },
   {
    "duration": 4,
    "start_time": "2022-03-16T03:32:22.454Z"
   },
   {
    "duration": 2,
    "start_time": "2022-03-16T03:32:22.488Z"
   },
   {
    "duration": 12,
    "start_time": "2022-03-16T03:32:22.492Z"
   },
   {
    "duration": 10,
    "start_time": "2022-03-16T03:32:22.506Z"
   },
   {
    "duration": 12,
    "start_time": "2022-03-16T03:32:22.518Z"
   },
   {
    "duration": 58,
    "start_time": "2022-03-16T03:32:22.532Z"
   },
   {
    "duration": 25,
    "start_time": "2022-03-16T03:32:22.592Z"
   },
   {
    "duration": 21,
    "start_time": "2022-03-16T03:32:22.619Z"
   },
   {
    "duration": 5,
    "start_time": "2022-03-16T03:32:22.642Z"
   },
   {
    "duration": 50,
    "start_time": "2022-03-16T03:32:22.649Z"
   },
   {
    "duration": 5,
    "start_time": "2022-03-16T03:32:22.701Z"
   },
   {
    "duration": 25,
    "start_time": "2022-03-16T03:32:22.708Z"
   },
   {
    "duration": 4,
    "start_time": "2022-03-16T03:32:22.735Z"
   },
   {
    "duration": 47,
    "start_time": "2022-03-16T03:32:22.741Z"
   },
   {
    "duration": 5,
    "start_time": "2022-03-16T03:32:22.791Z"
   },
   {
    "duration": 11,
    "start_time": "2022-03-16T03:32:22.798Z"
   },
   {
    "duration": 35,
    "start_time": "2022-03-16T03:32:22.811Z"
   },
   {
    "duration": 9,
    "start_time": "2022-03-16T03:32:22.849Z"
   },
   {
    "duration": 46,
    "start_time": "2022-03-16T03:32:22.860Z"
   },
   {
    "duration": 9,
    "start_time": "2022-03-16T03:32:22.908Z"
   },
   {
    "duration": 10,
    "start_time": "2022-03-16T03:32:22.919Z"
   },
   {
    "duration": 8,
    "start_time": "2022-03-16T03:32:22.931Z"
   },
   {
    "duration": 52,
    "start_time": "2022-03-16T03:32:22.941Z"
   },
   {
    "duration": 9,
    "start_time": "2022-03-16T03:32:22.996Z"
   },
   {
    "duration": 9,
    "start_time": "2022-03-16T03:32:23.008Z"
   },
   {
    "duration": 9,
    "start_time": "2022-03-16T03:32:23.020Z"
   },
   {
    "duration": 57,
    "start_time": "2022-03-16T03:32:23.031Z"
   },
   {
    "duration": 4,
    "start_time": "2022-03-16T03:32:23.091Z"
   },
   {
    "duration": 6,
    "start_time": "2022-03-16T03:32:23.097Z"
   },
   {
    "duration": 9,
    "start_time": "2022-03-16T03:32:23.105Z"
   },
   {
    "duration": 11,
    "start_time": "2022-03-16T03:32:23.117Z"
   },
   {
    "duration": 10,
    "start_time": "2022-03-16T03:32:23.130Z"
   },
   {
    "duration": 4,
    "start_time": "2022-03-16T03:32:23.142Z"
   },
   {
    "duration": 3,
    "start_time": "2022-03-16T03:32:23.186Z"
   },
   {
    "duration": 5,
    "start_time": "2022-03-16T03:32:23.192Z"
   },
   {
    "duration": 6,
    "start_time": "2022-03-16T03:32:23.199Z"
   },
   {
    "duration": 5,
    "start_time": "2022-03-16T03:32:23.207Z"
   },
   {
    "duration": 8,
    "start_time": "2022-03-16T03:32:23.214Z"
   },
   {
    "duration": 15,
    "start_time": "2022-03-16T03:32:23.225Z"
   },
   {
    "duration": 12,
    "start_time": "2022-03-16T03:32:23.242Z"
   },
   {
    "duration": 7,
    "start_time": "2022-03-16T03:32:23.256Z"
   },
   {
    "duration": 24,
    "start_time": "2022-03-16T03:32:23.265Z"
   },
   {
    "duration": 5,
    "start_time": "2022-03-16T03:32:23.292Z"
   },
   {
    "duration": 6,
    "start_time": "2022-03-16T03:32:23.299Z"
   },
   {
    "duration": 6,
    "start_time": "2022-03-16T03:32:23.307Z"
   },
   {
    "duration": 5,
    "start_time": "2022-03-16T03:32:23.315Z"
   },
   {
    "duration": 8,
    "start_time": "2022-03-16T03:32:23.322Z"
   },
   {
    "duration": 5,
    "start_time": "2022-03-16T03:32:23.333Z"
   },
   {
    "duration": 9,
    "start_time": "2022-03-16T03:32:23.340Z"
   },
   {
    "duration": 37,
    "start_time": "2022-03-16T03:32:23.351Z"
   },
   {
    "duration": 6,
    "start_time": "2022-03-16T03:32:23.391Z"
   },
   {
    "duration": 6,
    "start_time": "2022-03-16T03:32:23.399Z"
   },
   {
    "duration": 7,
    "start_time": "2022-03-16T03:32:23.407Z"
   },
   {
    "duration": 8,
    "start_time": "2022-03-16T03:32:23.416Z"
   },
   {
    "duration": 6,
    "start_time": "2022-03-16T03:32:23.426Z"
   },
   {
    "duration": 6,
    "start_time": "2022-03-16T03:32:40.185Z"
   },
   {
    "duration": 369,
    "start_time": "2022-03-16T03:34:49.660Z"
   },
   {
    "duration": 811,
    "start_time": "2022-03-16T03:37:42.175Z"
   },
   {
    "duration": 759,
    "start_time": "2022-03-16T03:38:00.499Z"
   },
   {
    "duration": 12,
    "start_time": "2022-03-16T03:38:01.261Z"
   },
   {
    "duration": 27,
    "start_time": "2022-03-16T03:38:01.276Z"
   },
   {
    "duration": 28,
    "start_time": "2022-03-16T03:38:01.306Z"
   },
   {
    "duration": 20,
    "start_time": "2022-03-16T03:38:01.337Z"
   },
   {
    "duration": 19,
    "start_time": "2022-03-16T03:38:01.359Z"
   },
   {
    "duration": 20,
    "start_time": "2022-03-16T03:38:01.381Z"
   },
   {
    "duration": 32,
    "start_time": "2022-03-16T03:38:01.403Z"
   },
   {
    "duration": 32,
    "start_time": "2022-03-16T03:38:01.439Z"
   },
   {
    "duration": 53,
    "start_time": "2022-03-16T03:38:01.475Z"
   },
   {
    "duration": 32,
    "start_time": "2022-03-16T03:38:01.530Z"
   },
   {
    "duration": 43,
    "start_time": "2022-03-16T03:38:01.565Z"
   },
   {
    "duration": 21,
    "start_time": "2022-03-16T03:38:01.610Z"
   },
   {
    "duration": 7,
    "start_time": "2022-03-16T03:38:01.633Z"
   },
   {
    "duration": 15,
    "start_time": "2022-03-16T03:38:01.643Z"
   },
   {
    "duration": 12,
    "start_time": "2022-03-16T03:38:01.660Z"
   },
   {
    "duration": 12,
    "start_time": "2022-03-16T03:38:01.674Z"
   },
   {
    "duration": 27,
    "start_time": "2022-03-16T03:38:01.688Z"
   },
   {
    "duration": 22,
    "start_time": "2022-03-16T03:38:01.717Z"
   },
   {
    "duration": 26,
    "start_time": "2022-03-16T03:38:01.741Z"
   },
   {
    "duration": 17,
    "start_time": "2022-03-16T03:38:01.769Z"
   },
   {
    "duration": 5,
    "start_time": "2022-03-16T03:38:01.788Z"
   },
   {
    "duration": 10,
    "start_time": "2022-03-16T03:38:01.796Z"
   },
   {
    "duration": 27,
    "start_time": "2022-03-16T03:38:01.808Z"
   },
   {
    "duration": 5,
    "start_time": "2022-03-16T03:38:01.837Z"
   },
   {
    "duration": 44,
    "start_time": "2022-03-16T03:38:01.844Z"
   },
   {
    "duration": 13,
    "start_time": "2022-03-16T03:38:01.895Z"
   },
   {
    "duration": 8,
    "start_time": "2022-03-16T03:38:01.912Z"
   },
   {
    "duration": 7,
    "start_time": "2022-03-16T03:38:01.922Z"
   },
   {
    "duration": 10,
    "start_time": "2022-03-16T03:38:01.932Z"
   },
   {
    "duration": 19,
    "start_time": "2022-03-16T03:38:01.944Z"
   },
   {
    "duration": 14,
    "start_time": "2022-03-16T03:38:01.989Z"
   },
   {
    "duration": 19,
    "start_time": "2022-03-16T03:38:02.005Z"
   },
   {
    "duration": 25,
    "start_time": "2022-03-16T03:38:02.026Z"
   },
   {
    "duration": 11,
    "start_time": "2022-03-16T03:38:02.054Z"
   },
   {
    "duration": 19,
    "start_time": "2022-03-16T03:38:02.067Z"
   },
   {
    "duration": 14,
    "start_time": "2022-03-16T03:38:02.089Z"
   },
   {
    "duration": 12,
    "start_time": "2022-03-16T03:38:02.106Z"
   },
   {
    "duration": 18,
    "start_time": "2022-03-16T03:38:02.120Z"
   },
   {
    "duration": 28,
    "start_time": "2022-03-16T03:38:02.140Z"
   },
   {
    "duration": 38,
    "start_time": "2022-03-16T03:38:02.171Z"
   },
   {
    "duration": 21,
    "start_time": "2022-03-16T03:38:02.212Z"
   },
   {
    "duration": 5,
    "start_time": "2022-03-16T03:38:02.235Z"
   },
   {
    "duration": 56,
    "start_time": "2022-03-16T03:38:02.242Z"
   },
   {
    "duration": 3,
    "start_time": "2022-03-16T03:38:02.300Z"
   },
   {
    "duration": 32,
    "start_time": "2022-03-16T03:38:02.305Z"
   },
   {
    "duration": 4,
    "start_time": "2022-03-16T03:38:02.339Z"
   },
   {
    "duration": 14,
    "start_time": "2022-03-16T03:38:02.345Z"
   },
   {
    "duration": 26,
    "start_time": "2022-03-16T03:38:02.361Z"
   },
   {
    "duration": 4,
    "start_time": "2022-03-16T03:38:02.390Z"
   },
   {
    "duration": 25,
    "start_time": "2022-03-16T03:38:02.396Z"
   },
   {
    "duration": 9,
    "start_time": "2022-03-16T03:38:02.424Z"
   },
   {
    "duration": 67,
    "start_time": "2022-03-16T03:38:02.435Z"
   },
   {
    "duration": 8,
    "start_time": "2022-03-16T03:38:02.504Z"
   },
   {
    "duration": 8,
    "start_time": "2022-03-16T03:38:02.515Z"
   },
   {
    "duration": 7,
    "start_time": "2022-03-16T03:38:02.526Z"
   },
   {
    "duration": 9,
    "start_time": "2022-03-16T03:38:02.535Z"
   },
   {
    "duration": 8,
    "start_time": "2022-03-16T03:38:02.588Z"
   },
   {
    "duration": 9,
    "start_time": "2022-03-16T03:38:02.599Z"
   },
   {
    "duration": 9,
    "start_time": "2022-03-16T03:38:02.610Z"
   },
   {
    "duration": 13,
    "start_time": "2022-03-16T03:38:02.621Z"
   },
   {
    "duration": 5,
    "start_time": "2022-03-16T03:38:02.636Z"
   },
   {
    "duration": 3,
    "start_time": "2022-03-16T03:38:02.687Z"
   },
   {
    "duration": 9,
    "start_time": "2022-03-16T03:38:02.692Z"
   },
   {
    "duration": 823,
    "start_time": "2022-03-16T03:38:02.704Z"
   },
   {
    "duration": -238,
    "start_time": "2022-03-16T03:38:03.768Z"
   },
   {
    "duration": -247,
    "start_time": "2022-03-16T03:38:03.778Z"
   },
   {
    "duration": -261,
    "start_time": "2022-03-16T03:38:03.794Z"
   },
   {
    "duration": -270,
    "start_time": "2022-03-16T03:38:03.804Z"
   },
   {
    "duration": -280,
    "start_time": "2022-03-16T03:38:03.815Z"
   },
   {
    "duration": -291,
    "start_time": "2022-03-16T03:38:03.828Z"
   },
   {
    "duration": -307,
    "start_time": "2022-03-16T03:38:03.845Z"
   },
   {
    "duration": -319,
    "start_time": "2022-03-16T03:38:03.858Z"
   },
   {
    "duration": -333,
    "start_time": "2022-03-16T03:38:03.874Z"
   },
   {
    "duration": -342,
    "start_time": "2022-03-16T03:38:03.884Z"
   },
   {
    "duration": -355,
    "start_time": "2022-03-16T03:38:03.898Z"
   },
   {
    "duration": -367,
    "start_time": "2022-03-16T03:38:03.911Z"
   },
   {
    "duration": -377,
    "start_time": "2022-03-16T03:38:03.923Z"
   },
   {
    "duration": -386,
    "start_time": "2022-03-16T03:38:03.933Z"
   },
   {
    "duration": -397,
    "start_time": "2022-03-16T03:38:03.945Z"
   },
   {
    "duration": -407,
    "start_time": "2022-03-16T03:38:03.956Z"
   },
   {
    "duration": -415,
    "start_time": "2022-03-16T03:38:03.966Z"
   },
   {
    "duration": -426,
    "start_time": "2022-03-16T03:38:03.978Z"
   },
   {
    "duration": -437,
    "start_time": "2022-03-16T03:38:03.990Z"
   },
   {
    "duration": -446,
    "start_time": "2022-03-16T03:38:04.000Z"
   },
   {
    "duration": -473,
    "start_time": "2022-03-16T03:38:04.029Z"
   },
   {
    "duration": -485,
    "start_time": "2022-03-16T03:38:04.042Z"
   },
   {
    "duration": -491,
    "start_time": "2022-03-16T03:38:04.049Z"
   },
   {
    "duration": -502,
    "start_time": "2022-03-16T03:38:04.062Z"
   },
   {
    "duration": 817,
    "start_time": "2022-03-16T03:38:49.278Z"
   },
   {
    "duration": 12,
    "start_time": "2022-03-16T03:38:50.097Z"
   },
   {
    "duration": 14,
    "start_time": "2022-03-16T03:38:50.112Z"
   },
   {
    "duration": 16,
    "start_time": "2022-03-16T03:38:50.129Z"
   },
   {
    "duration": 45,
    "start_time": "2022-03-16T03:38:50.147Z"
   },
   {
    "duration": 25,
    "start_time": "2022-03-16T03:38:50.194Z"
   },
   {
    "duration": 29,
    "start_time": "2022-03-16T03:38:50.222Z"
   },
   {
    "duration": 20,
    "start_time": "2022-03-16T03:38:50.256Z"
   },
   {
    "duration": 18,
    "start_time": "2022-03-16T03:38:50.288Z"
   },
   {
    "duration": 21,
    "start_time": "2022-03-16T03:38:50.308Z"
   },
   {
    "duration": 16,
    "start_time": "2022-03-16T03:38:50.331Z"
   },
   {
    "duration": 21,
    "start_time": "2022-03-16T03:38:50.349Z"
   },
   {
    "duration": 20,
    "start_time": "2022-03-16T03:38:50.372Z"
   },
   {
    "duration": 24,
    "start_time": "2022-03-16T03:38:50.394Z"
   },
   {
    "duration": 28,
    "start_time": "2022-03-16T03:38:50.420Z"
   },
   {
    "duration": 13,
    "start_time": "2022-03-16T03:38:50.450Z"
   },
   {
    "duration": 21,
    "start_time": "2022-03-16T03:38:50.466Z"
   },
   {
    "duration": 31,
    "start_time": "2022-03-16T03:38:50.490Z"
   },
   {
    "duration": 14,
    "start_time": "2022-03-16T03:38:50.524Z"
   },
   {
    "duration": 18,
    "start_time": "2022-03-16T03:38:50.540Z"
   },
   {
    "duration": 8,
    "start_time": "2022-03-16T03:38:50.560Z"
   },
   {
    "duration": 8,
    "start_time": "2022-03-16T03:38:50.570Z"
   },
   {
    "duration": 19,
    "start_time": "2022-03-16T03:38:50.589Z"
   },
   {
    "duration": 34,
    "start_time": "2022-03-16T03:38:50.611Z"
   },
   {
    "duration": 7,
    "start_time": "2022-03-16T03:38:50.648Z"
   },
   {
    "duration": 22,
    "start_time": "2022-03-16T03:38:50.657Z"
   },
   {
    "duration": 23,
    "start_time": "2022-03-16T03:38:50.681Z"
   },
   {
    "duration": 21,
    "start_time": "2022-03-16T03:38:50.707Z"
   },
   {
    "duration": 11,
    "start_time": "2022-03-16T03:38:50.730Z"
   },
   {
    "duration": 20,
    "start_time": "2022-03-16T03:38:50.743Z"
   },
   {
    "duration": 30,
    "start_time": "2022-03-16T03:38:50.766Z"
   },
   {
    "duration": 7,
    "start_time": "2022-03-16T03:38:50.798Z"
   },
   {
    "duration": 16,
    "start_time": "2022-03-16T03:38:50.807Z"
   },
   {
    "duration": 25,
    "start_time": "2022-03-16T03:38:50.825Z"
   },
   {
    "duration": 6,
    "start_time": "2022-03-16T03:38:50.853Z"
   },
   {
    "duration": 11,
    "start_time": "2022-03-16T03:38:50.862Z"
   },
   {
    "duration": 18,
    "start_time": "2022-03-16T03:38:50.875Z"
   },
   {
    "duration": 15,
    "start_time": "2022-03-16T03:38:50.896Z"
   },
   {
    "duration": 32,
    "start_time": "2022-03-16T03:38:50.914Z"
   },
   {
    "duration": 30,
    "start_time": "2022-03-16T03:38:50.949Z"
   },
   {
    "duration": 24,
    "start_time": "2022-03-16T03:38:50.982Z"
   },
   {
    "duration": 21,
    "start_time": "2022-03-16T03:38:51.008Z"
   },
   {
    "duration": 6,
    "start_time": "2022-03-16T03:38:51.031Z"
   },
   {
    "duration": 48,
    "start_time": "2022-03-16T03:38:51.039Z"
   },
   {
    "duration": 13,
    "start_time": "2022-03-16T03:38:51.090Z"
   },
   {
    "duration": 40,
    "start_time": "2022-03-16T03:38:51.105Z"
   },
   {
    "duration": 4,
    "start_time": "2022-03-16T03:38:51.147Z"
   },
   {
    "duration": 25,
    "start_time": "2022-03-16T03:38:51.153Z"
   },
   {
    "duration": 9,
    "start_time": "2022-03-16T03:38:51.180Z"
   },
   {
    "duration": 22,
    "start_time": "2022-03-16T03:38:51.191Z"
   },
   {
    "duration": 29,
    "start_time": "2022-03-16T03:38:51.215Z"
   },
   {
    "duration": 10,
    "start_time": "2022-03-16T03:38:51.246Z"
   },
   {
    "duration": 53,
    "start_time": "2022-03-16T03:38:51.258Z"
   },
   {
    "duration": 23,
    "start_time": "2022-03-16T03:38:51.313Z"
   },
   {
    "duration": 10,
    "start_time": "2022-03-16T03:38:51.339Z"
   },
   {
    "duration": 8,
    "start_time": "2022-03-16T03:38:51.351Z"
   },
   {
    "duration": 30,
    "start_time": "2022-03-16T03:38:51.361Z"
   },
   {
    "duration": 8,
    "start_time": "2022-03-16T03:38:51.394Z"
   },
   {
    "duration": 19,
    "start_time": "2022-03-16T03:38:51.405Z"
   },
   {
    "duration": 17,
    "start_time": "2022-03-16T03:38:51.426Z"
   },
   {
    "duration": 18,
    "start_time": "2022-03-16T03:38:51.446Z"
   },
   {
    "duration": 22,
    "start_time": "2022-03-16T03:38:51.466Z"
   },
   {
    "duration": 9,
    "start_time": "2022-03-16T03:38:51.491Z"
   },
   {
    "duration": 13,
    "start_time": "2022-03-16T03:38:51.502Z"
   },
   {
    "duration": 23,
    "start_time": "2022-03-16T03:38:51.517Z"
   },
   {
    "duration": 12,
    "start_time": "2022-03-16T03:38:51.542Z"
   },
   {
    "duration": 10,
    "start_time": "2022-03-16T03:38:51.556Z"
   },
   {
    "duration": 3,
    "start_time": "2022-03-16T03:38:51.589Z"
   },
   {
    "duration": 8,
    "start_time": "2022-03-16T03:38:51.595Z"
   },
   {
    "duration": 15,
    "start_time": "2022-03-16T03:38:51.605Z"
   },
   {
    "duration": 6,
    "start_time": "2022-03-16T03:38:51.622Z"
   },
   {
    "duration": 6,
    "start_time": "2022-03-16T03:38:51.630Z"
   },
   {
    "duration": 19,
    "start_time": "2022-03-16T03:38:51.638Z"
   },
   {
    "duration": 5,
    "start_time": "2022-03-16T03:38:51.660Z"
   },
   {
    "duration": 17,
    "start_time": "2022-03-16T03:38:51.667Z"
   },
   {
    "duration": 15,
    "start_time": "2022-03-16T03:38:51.686Z"
   },
   {
    "duration": 8,
    "start_time": "2022-03-16T03:38:51.703Z"
   },
   {
    "duration": 18,
    "start_time": "2022-03-16T03:38:51.713Z"
   },
   {
    "duration": 13,
    "start_time": "2022-03-16T03:38:51.733Z"
   },
   {
    "duration": 14,
    "start_time": "2022-03-16T03:38:51.748Z"
   },
   {
    "duration": 11,
    "start_time": "2022-03-16T03:38:51.764Z"
   },
   {
    "duration": 17,
    "start_time": "2022-03-16T03:38:51.777Z"
   },
   {
    "duration": 18,
    "start_time": "2022-03-16T03:38:51.796Z"
   },
   {
    "duration": 17,
    "start_time": "2022-03-16T03:38:51.816Z"
   },
   {
    "duration": 7,
    "start_time": "2022-03-16T03:38:51.835Z"
   },
   {
    "duration": 15,
    "start_time": "2022-03-16T03:38:51.844Z"
   },
   {
    "duration": 21,
    "start_time": "2022-03-16T03:38:51.861Z"
   },
   {
    "duration": 11,
    "start_time": "2022-03-16T03:38:51.885Z"
   },
   {
    "duration": 15,
    "start_time": "2022-03-16T03:38:51.898Z"
   },
   {
    "duration": 4,
    "start_time": "2022-03-16T03:42:57.108Z"
   },
   {
    "duration": 8,
    "start_time": "2022-03-16T03:51:12.894Z"
   },
   {
    "duration": 17,
    "start_time": "2022-03-16T03:51:19.004Z"
   },
   {
    "duration": 778,
    "start_time": "2022-03-16T03:51:31.474Z"
   },
   {
    "duration": 12,
    "start_time": "2022-03-16T03:51:32.255Z"
   },
   {
    "duration": 22,
    "start_time": "2022-03-16T03:51:32.269Z"
   },
   {
    "duration": 18,
    "start_time": "2022-03-16T03:51:32.294Z"
   },
   {
    "duration": 13,
    "start_time": "2022-03-16T03:51:32.314Z"
   },
   {
    "duration": 15,
    "start_time": "2022-03-16T03:51:32.329Z"
   },
   {
    "duration": 52,
    "start_time": "2022-03-16T03:51:32.346Z"
   },
   {
    "duration": 20,
    "start_time": "2022-03-16T03:51:32.401Z"
   },
   {
    "duration": 19,
    "start_time": "2022-03-16T03:51:32.425Z"
   },
   {
    "duration": 45,
    "start_time": "2022-03-16T03:51:32.446Z"
   },
   {
    "duration": 14,
    "start_time": "2022-03-16T03:51:32.493Z"
   },
   {
    "duration": 9,
    "start_time": "2022-03-16T03:51:32.509Z"
   },
   {
    "duration": 10,
    "start_time": "2022-03-16T03:51:32.520Z"
   },
   {
    "duration": 8,
    "start_time": "2022-03-16T03:51:32.533Z"
   },
   {
    "duration": 46,
    "start_time": "2022-03-16T03:51:32.543Z"
   },
   {
    "duration": 11,
    "start_time": "2022-03-16T03:51:32.591Z"
   },
   {
    "duration": 9,
    "start_time": "2022-03-16T03:51:32.605Z"
   },
   {
    "duration": 19,
    "start_time": "2022-03-16T03:51:32.617Z"
   },
   {
    "duration": 11,
    "start_time": "2022-03-16T03:51:32.638Z"
   },
   {
    "duration": 42,
    "start_time": "2022-03-16T03:51:32.651Z"
   },
   {
    "duration": 8,
    "start_time": "2022-03-16T03:51:32.696Z"
   },
   {
    "duration": 6,
    "start_time": "2022-03-16T03:51:32.707Z"
   },
   {
    "duration": 12,
    "start_time": "2022-03-16T03:51:32.716Z"
   },
   {
    "duration": 70,
    "start_time": "2022-03-16T03:51:32.730Z"
   },
   {
    "duration": 4,
    "start_time": "2022-03-16T03:51:32.802Z"
   },
   {
    "duration": 9,
    "start_time": "2022-03-16T03:51:32.808Z"
   },
   {
    "duration": 12,
    "start_time": "2022-03-16T03:51:32.824Z"
   },
   {
    "duration": 8,
    "start_time": "2022-03-16T03:51:32.841Z"
   },
   {
    "duration": 10,
    "start_time": "2022-03-16T03:51:32.886Z"
   },
   {
    "duration": 7,
    "start_time": "2022-03-16T03:51:32.899Z"
   },
   {
    "duration": 5,
    "start_time": "2022-03-16T03:51:32.908Z"
   },
   {
    "duration": 6,
    "start_time": "2022-03-16T03:51:32.915Z"
   },
   {
    "duration": 11,
    "start_time": "2022-03-16T03:51:32.923Z"
   },
   {
    "duration": 59,
    "start_time": "2022-03-16T03:51:32.936Z"
   },
   {
    "duration": 4,
    "start_time": "2022-03-16T03:51:32.998Z"
   },
   {
    "duration": 7,
    "start_time": "2022-03-16T03:51:33.005Z"
   },
   {
    "duration": 12,
    "start_time": "2022-03-16T03:51:33.015Z"
   },
   {
    "duration": 10,
    "start_time": "2022-03-16T03:51:33.030Z"
   },
   {
    "duration": 53,
    "start_time": "2022-03-16T03:51:33.043Z"
   },
   {
    "duration": 24,
    "start_time": "2022-03-16T03:51:33.098Z"
   },
   {
    "duration": 23,
    "start_time": "2022-03-16T03:51:33.124Z"
   },
   {
    "duration": 52,
    "start_time": "2022-03-16T03:51:33.150Z"
   },
   {
    "duration": 5,
    "start_time": "2022-03-16T03:51:33.204Z"
   },
   {
    "duration": 19,
    "start_time": "2022-03-16T03:51:33.211Z"
   },
   {
    "duration": 4,
    "start_time": "2022-03-16T03:51:33.232Z"
   },
   {
    "duration": 61,
    "start_time": "2022-03-16T03:51:33.238Z"
   },
   {
    "duration": 4,
    "start_time": "2022-03-16T03:51:33.301Z"
   },
   {
    "duration": 12,
    "start_time": "2022-03-16T03:51:33.308Z"
   },
   {
    "duration": 5,
    "start_time": "2022-03-16T03:51:33.323Z"
   },
   {
    "duration": 6,
    "start_time": "2022-03-16T03:51:33.330Z"
   },
   {
    "duration": 64,
    "start_time": "2022-03-16T03:51:33.339Z"
   },
   {
    "duration": 9,
    "start_time": "2022-03-16T03:51:33.406Z"
   },
   {
    "duration": 29,
    "start_time": "2022-03-16T03:51:33.418Z"
   },
   {
    "duration": 44,
    "start_time": "2022-03-16T03:51:33.450Z"
   },
   {
    "duration": 10,
    "start_time": "2022-03-16T03:51:33.496Z"
   },
   {
    "duration": 9,
    "start_time": "2022-03-16T03:51:33.509Z"
   },
   {
    "duration": 9,
    "start_time": "2022-03-16T03:51:33.520Z"
   },
   {
    "duration": 54,
    "start_time": "2022-03-16T03:51:33.532Z"
   },
   {
    "duration": 10,
    "start_time": "2022-03-16T03:51:33.589Z"
   },
   {
    "duration": 9,
    "start_time": "2022-03-16T03:51:33.602Z"
   },
   {
    "duration": 12,
    "start_time": "2022-03-16T03:51:33.614Z"
   },
   {
    "duration": 4,
    "start_time": "2022-03-16T03:51:33.629Z"
   },
   {
    "duration": 22,
    "start_time": "2022-03-16T03:51:33.636Z"
   },
   {
    "duration": 8,
    "start_time": "2022-03-16T03:51:33.688Z"
   },
   {
    "duration": 18,
    "start_time": "2022-03-16T03:51:33.698Z"
   },
   {
    "duration": 6,
    "start_time": "2022-03-16T03:51:33.718Z"
   },
   {
    "duration": 7,
    "start_time": "2022-03-16T03:51:33.726Z"
   },
   {
    "duration": 5,
    "start_time": "2022-03-16T03:51:33.736Z"
   },
   {
    "duration": 44,
    "start_time": "2022-03-16T03:51:33.743Z"
   },
   {
    "duration": 4,
    "start_time": "2022-03-16T03:51:33.789Z"
   },
   {
    "duration": 6,
    "start_time": "2022-03-16T03:51:33.796Z"
   },
   {
    "duration": 7,
    "start_time": "2022-03-16T03:51:33.804Z"
   },
   {
    "duration": 9,
    "start_time": "2022-03-16T03:51:33.813Z"
   },
   {
    "duration": 8,
    "start_time": "2022-03-16T03:51:33.825Z"
   },
   {
    "duration": 5,
    "start_time": "2022-03-16T03:51:33.835Z"
   },
   {
    "duration": 5,
    "start_time": "2022-03-16T03:51:33.843Z"
   },
   {
    "duration": 9,
    "start_time": "2022-03-16T03:51:33.850Z"
   },
   {
    "duration": 3,
    "start_time": "2022-03-16T03:51:33.888Z"
   },
   {
    "duration": 6,
    "start_time": "2022-03-16T03:51:33.893Z"
   },
   {
    "duration": 8,
    "start_time": "2022-03-16T03:51:33.901Z"
   },
   {
    "duration": 3,
    "start_time": "2022-03-16T03:51:33.917Z"
   },
   {
    "duration": 7,
    "start_time": "2022-03-16T03:51:33.922Z"
   },
   {
    "duration": 10,
    "start_time": "2022-03-16T03:51:33.931Z"
   },
   {
    "duration": 6,
    "start_time": "2022-03-16T03:51:33.943Z"
   },
   {
    "duration": 4,
    "start_time": "2022-03-16T03:51:33.951Z"
   },
   {
    "duration": 2,
    "start_time": "2022-03-16T03:51:33.988Z"
   },
   {
    "duration": 7,
    "start_time": "2022-03-16T03:51:33.992Z"
   },
   {
    "duration": 4,
    "start_time": "2022-03-16T03:51:34.001Z"
   },
   {
    "duration": 6,
    "start_time": "2022-03-16T03:51:34.007Z"
   },
   {
    "duration": 14,
    "start_time": "2022-03-16T03:52:41.357Z"
   },
   {
    "duration": 6,
    "start_time": "2022-03-16T03:52:51.615Z"
   },
   {
    "duration": 17,
    "start_time": "2022-03-16T03:54:50.847Z"
   },
   {
    "duration": 26,
    "start_time": "2022-03-16T03:55:50.847Z"
   },
   {
    "duration": 15,
    "start_time": "2022-03-16T03:56:22.336Z"
   },
   {
    "duration": 19,
    "start_time": "2022-03-16T04:02:23.399Z"
   },
   {
    "duration": 16,
    "start_time": "2022-03-16T04:05:55.653Z"
   },
   {
    "duration": 28,
    "start_time": "2022-03-16T04:10:09.811Z"
   },
   {
    "duration": 29,
    "start_time": "2022-03-16T04:10:28.068Z"
   },
   {
    "duration": 832,
    "start_time": "2022-03-16T04:10:41.401Z"
   },
   {
    "duration": 12,
    "start_time": "2022-03-16T04:10:42.236Z"
   },
   {
    "duration": 16,
    "start_time": "2022-03-16T04:10:42.252Z"
   },
   {
    "duration": 31,
    "start_time": "2022-03-16T04:10:42.271Z"
   },
   {
    "duration": 14,
    "start_time": "2022-03-16T04:10:42.305Z"
   },
   {
    "duration": 17,
    "start_time": "2022-03-16T04:10:42.322Z"
   },
   {
    "duration": 63,
    "start_time": "2022-03-16T04:10:42.342Z"
   },
   {
    "duration": 22,
    "start_time": "2022-03-16T04:10:42.409Z"
   },
   {
    "duration": 20,
    "start_time": "2022-03-16T04:10:42.434Z"
   },
   {
    "duration": 10,
    "start_time": "2022-03-16T04:10:42.488Z"
   },
   {
    "duration": 15,
    "start_time": "2022-03-16T04:10:42.501Z"
   },
   {
    "duration": 9,
    "start_time": "2022-03-16T04:10:42.518Z"
   },
   {
    "duration": 8,
    "start_time": "2022-03-16T04:10:42.530Z"
   },
   {
    "duration": 47,
    "start_time": "2022-03-16T04:10:42.540Z"
   },
   {
    "duration": 15,
    "start_time": "2022-03-16T04:10:42.590Z"
   },
   {
    "duration": 13,
    "start_time": "2022-03-16T04:10:42.608Z"
   },
   {
    "duration": 10,
    "start_time": "2022-03-16T04:10:42.624Z"
   },
   {
    "duration": 60,
    "start_time": "2022-03-16T04:10:42.637Z"
   },
   {
    "duration": 12,
    "start_time": "2022-03-16T04:10:42.700Z"
   },
   {
    "duration": 17,
    "start_time": "2022-03-16T04:10:42.714Z"
   },
   {
    "duration": 11,
    "start_time": "2022-03-16T04:10:42.733Z"
   },
   {
    "duration": 5,
    "start_time": "2022-03-16T04:10:42.746Z"
   },
   {
    "duration": 38,
    "start_time": "2022-03-16T04:10:42.757Z"
   },
   {
    "duration": 27,
    "start_time": "2022-03-16T04:10:42.799Z"
   },
   {
    "duration": 4,
    "start_time": "2022-03-16T04:10:42.829Z"
   },
   {
    "duration": 8,
    "start_time": "2022-03-16T04:10:42.836Z"
   },
   {
    "duration": 51,
    "start_time": "2022-03-16T04:10:42.847Z"
   },
   {
    "duration": 8,
    "start_time": "2022-03-16T04:10:42.902Z"
   },
   {
    "duration": 9,
    "start_time": "2022-03-16T04:10:42.913Z"
   },
   {
    "duration": 9,
    "start_time": "2022-03-16T04:10:42.925Z"
   },
   {
    "duration": 6,
    "start_time": "2022-03-16T04:10:42.936Z"
   },
   {
    "duration": 46,
    "start_time": "2022-03-16T04:10:42.945Z"
   },
   {
    "duration": 17,
    "start_time": "2022-03-16T04:10:42.994Z"
   },
   {
    "duration": 25,
    "start_time": "2022-03-16T04:10:43.014Z"
   },
   {
    "duration": 9,
    "start_time": "2022-03-16T04:10:43.042Z"
   },
   {
    "duration": 11,
    "start_time": "2022-03-16T04:10:43.054Z"
   },
   {
    "duration": 13,
    "start_time": "2022-03-16T04:10:43.088Z"
   },
   {
    "duration": 16,
    "start_time": "2022-03-16T04:10:43.104Z"
   },
   {
    "duration": 13,
    "start_time": "2022-03-16T04:10:43.122Z"
   },
   {
    "duration": 58,
    "start_time": "2022-03-16T04:10:43.138Z"
   },
   {
    "duration": 27,
    "start_time": "2022-03-16T04:10:43.199Z"
   },
   {
    "duration": 23,
    "start_time": "2022-03-16T04:10:43.229Z"
   },
   {
    "duration": 34,
    "start_time": "2022-03-16T04:10:43.255Z"
   },
   {
    "duration": 22,
    "start_time": "2022-03-16T04:10:43.292Z"
   },
   {
    "duration": 5,
    "start_time": "2022-03-16T04:10:43.317Z"
   },
   {
    "duration": 70,
    "start_time": "2022-03-16T04:10:43.325Z"
   },
   {
    "duration": 5,
    "start_time": "2022-03-16T04:10:43.398Z"
   },
   {
    "duration": 11,
    "start_time": "2022-03-16T04:10:43.406Z"
   },
   {
    "duration": 6,
    "start_time": "2022-03-16T04:10:43.420Z"
   },
   {
    "duration": 8,
    "start_time": "2022-03-16T04:10:43.429Z"
   },
   {
    "duration": 70,
    "start_time": "2022-03-16T04:10:43.440Z"
   },
   {
    "duration": 11,
    "start_time": "2022-03-16T04:10:43.513Z"
   },
   {
    "duration": 77,
    "start_time": "2022-03-16T04:10:43.527Z"
   },
   {
    "duration": 14,
    "start_time": "2022-03-16T04:10:43.607Z"
   },
   {
    "duration": 10,
    "start_time": "2022-03-16T04:10:43.624Z"
   },
   {
    "duration": 9,
    "start_time": "2022-03-16T04:10:43.637Z"
   },
   {
    "duration": 48,
    "start_time": "2022-03-16T04:10:43.648Z"
   },
   {
    "duration": 9,
    "start_time": "2022-03-16T04:10:43.698Z"
   },
   {
    "duration": 9,
    "start_time": "2022-03-16T04:10:43.709Z"
   },
   {
    "duration": 9,
    "start_time": "2022-03-16T04:10:43.721Z"
   },
   {
    "duration": 54,
    "start_time": "2022-03-16T04:10:43.733Z"
   },
   {
    "duration": 6,
    "start_time": "2022-03-16T04:10:43.791Z"
   },
   {
    "duration": 4,
    "start_time": "2022-03-16T04:10:43.801Z"
   },
   {
    "duration": 11,
    "start_time": "2022-03-16T04:10:43.808Z"
   },
   {
    "duration": 15,
    "start_time": "2022-03-16T04:10:43.822Z"
   },
   {
    "duration": 54,
    "start_time": "2022-03-16T04:10:43.839Z"
   },
   {
    "duration": 4,
    "start_time": "2022-03-16T04:10:43.897Z"
   },
   {
    "duration": 17,
    "start_time": "2022-03-16T04:10:43.912Z"
   },
   {
    "duration": 66,
    "start_time": "2022-03-16T04:10:43.934Z"
   },
   {
    "duration": 18,
    "start_time": "2022-03-16T04:10:44.003Z"
   },
   {
    "duration": 3,
    "start_time": "2022-03-16T04:10:44.023Z"
   },
   {
    "duration": 5,
    "start_time": "2022-03-16T04:10:44.028Z"
   },
   {
    "duration": 51,
    "start_time": "2022-03-16T04:10:44.036Z"
   },
   {
    "duration": 3,
    "start_time": "2022-03-16T04:10:44.089Z"
   },
   {
    "duration": 7,
    "start_time": "2022-03-16T04:10:44.095Z"
   },
   {
    "duration": 8,
    "start_time": "2022-03-16T04:10:44.105Z"
   },
   {
    "duration": 5,
    "start_time": "2022-03-16T04:10:44.115Z"
   },
   {
    "duration": 5,
    "start_time": "2022-03-16T04:10:44.122Z"
   },
   {
    "duration": 5,
    "start_time": "2022-03-16T04:10:44.130Z"
   },
   {
    "duration": 4,
    "start_time": "2022-03-16T04:10:44.186Z"
   },
   {
    "duration": 5,
    "start_time": "2022-03-16T04:10:44.192Z"
   },
   {
    "duration": 4,
    "start_time": "2022-03-16T04:10:44.200Z"
   },
   {
    "duration": 5,
    "start_time": "2022-03-16T04:10:44.207Z"
   },
   {
    "duration": 5,
    "start_time": "2022-03-16T04:10:44.214Z"
   },
   {
    "duration": 10,
    "start_time": "2022-03-16T04:10:44.221Z"
   },
   {
    "duration": 6,
    "start_time": "2022-03-16T04:10:44.233Z"
   },
   {
    "duration": 3,
    "start_time": "2022-03-16T04:10:44.288Z"
   },
   {
    "duration": 6,
    "start_time": "2022-03-16T04:10:44.293Z"
   },
   {
    "duration": 7,
    "start_time": "2022-03-16T04:10:44.301Z"
   },
   {
    "duration": 9,
    "start_time": "2022-03-16T04:13:13.642Z"
   },
   {
    "duration": 20,
    "start_time": "2022-03-16T04:13:22.666Z"
   },
   {
    "duration": 19,
    "start_time": "2022-03-16T04:13:47.575Z"
   },
   {
    "duration": 20,
    "start_time": "2022-03-16T04:14:27.671Z"
   },
   {
    "duration": 19,
    "start_time": "2022-03-16T04:14:55.315Z"
   },
   {
    "duration": 18,
    "start_time": "2022-03-16T04:15:57.153Z"
   },
   {
    "duration": 4,
    "start_time": "2022-03-16T04:36:49.092Z"
   },
   {
    "duration": 14,
    "start_time": "2022-03-16T04:37:07.711Z"
   },
   {
    "duration": 3,
    "start_time": "2022-03-16T04:38:09.771Z"
   },
   {
    "duration": 7,
    "start_time": "2022-03-16T04:38:12.388Z"
   },
   {
    "duration": 3,
    "start_time": "2022-03-16T04:38:22.740Z"
   },
   {
    "duration": 7,
    "start_time": "2022-03-16T04:38:25.143Z"
   },
   {
    "duration": 268,
    "start_time": "2022-03-16T04:39:16.670Z"
   },
   {
    "duration": 250,
    "start_time": "2022-03-16T04:39:31.830Z"
   },
   {
    "duration": 173,
    "start_time": "2022-03-16T04:39:41.445Z"
   },
   {
    "duration": 152,
    "start_time": "2022-03-16T04:40:27.136Z"
   },
   {
    "duration": 8,
    "start_time": "2022-03-16T04:41:32.338Z"
   },
   {
    "duration": 52,
    "start_time": "2022-03-16T04:41:48.307Z"
   },
   {
    "duration": 135,
    "start_time": "2022-03-16T04:42:22.281Z"
   },
   {
    "duration": 954,
    "start_time": "2022-03-16T04:42:28.340Z"
   },
   {
    "duration": 3666,
    "start_time": "2022-03-16T04:42:44.183Z"
   },
   {
    "duration": 9,
    "start_time": "2022-03-16T04:43:15.952Z"
   },
   {
    "duration": 49,
    "start_time": "2022-03-16T04:43:55.418Z"
   },
   {
    "duration": 9,
    "start_time": "2022-03-16T04:44:02.694Z"
   },
   {
    "duration": 286,
    "start_time": "2022-03-16T17:39:59.481Z"
   },
   {
    "duration": 903,
    "start_time": "2022-03-16T17:40:01.829Z"
   },
   {
    "duration": 498,
    "start_time": "2022-03-16T17:40:03.765Z"
   },
   {
    "duration": 674,
    "start_time": "2022-03-16T17:40:23.752Z"
   },
   {
    "duration": 3076,
    "start_time": "2022-03-16T17:40:24.429Z"
   },
   {
    "duration": 5210,
    "start_time": "2022-03-16T17:40:27.508Z"
   },
   {
    "duration": 5199,
    "start_time": "2022-03-16T17:40:32.720Z"
   },
   {
    "duration": 5185,
    "start_time": "2022-03-16T17:40:37.920Z"
   },
   {
    "duration": 6537,
    "start_time": "2022-03-16T17:40:43.107Z"
   },
   {
    "duration": 3624,
    "start_time": "2022-03-16T17:40:49.646Z"
   },
   {
    "duration": 3312,
    "start_time": "2022-03-16T17:40:53.272Z"
   },
   {
    "duration": 7464,
    "start_time": "2022-03-16T17:41:10.158Z"
   },
   {
    "duration": 6869,
    "start_time": "2022-03-16T17:41:17.624Z"
   },
   {
    "duration": 6803,
    "start_time": "2022-03-16T17:41:24.495Z"
   },
   {
    "duration": 6582,
    "start_time": "2022-03-16T17:41:31.300Z"
   },
   {
    "duration": 6594,
    "start_time": "2022-03-16T17:41:37.884Z"
   },
   {
    "duration": 9187,
    "start_time": "2022-03-16T17:41:44.480Z"
   },
   {
    "duration": 4209,
    "start_time": "2022-03-16T17:41:53.669Z"
   },
   {
    "duration": 4933,
    "start_time": "2022-03-16T17:41:57.881Z"
   },
   {
    "duration": 16794,
    "start_time": "2022-03-16T17:42:02.817Z"
   },
   {
    "duration": 6547,
    "start_time": "2022-03-16T17:42:19.613Z"
   },
   {
    "duration": 5094,
    "start_time": "2022-03-16T17:42:26.162Z"
   },
   {
    "duration": 9654,
    "start_time": "2022-03-16T17:42:31.258Z"
   },
   {
    "duration": 5800,
    "start_time": "2022-03-16T17:42:40.918Z"
   },
   {
    "duration": 6043,
    "start_time": "2022-03-16T17:42:46.722Z"
   },
   {
    "duration": 9540,
    "start_time": "2022-03-16T17:42:52.768Z"
   },
   {
    "duration": 8941,
    "start_time": "2022-03-16T17:43:02.310Z"
   },
   {
    "duration": 3886,
    "start_time": "2022-03-16T17:43:11.252Z"
   },
   {
    "duration": 5166,
    "start_time": "2022-03-16T17:43:15.140Z"
   },
   {
    "duration": 2495,
    "start_time": "2022-03-16T17:43:20.308Z"
   },
   {
    "duration": 2103,
    "start_time": "2022-03-16T17:43:22.806Z"
   },
   {
    "duration": 2889,
    "start_time": "2022-03-16T17:43:24.912Z"
   },
   {
    "duration": 4076,
    "start_time": "2022-03-16T17:43:27.803Z"
   },
   {
    "duration": 6704,
    "start_time": "2022-03-16T17:43:31.881Z"
   },
   {
    "duration": 4081,
    "start_time": "2022-03-16T17:43:38.587Z"
   },
   {
    "duration": 7700,
    "start_time": "2022-03-16T17:43:42.670Z"
   },
   {
    "duration": 6900,
    "start_time": "2022-03-16T17:43:50.372Z"
   },
   {
    "duration": 6030,
    "start_time": "2022-03-16T17:43:57.274Z"
   },
   {
    "duration": 5007,
    "start_time": "2022-03-16T17:44:03.306Z"
   },
   {
    "duration": 2113,
    "start_time": "2022-03-16T17:44:08.316Z"
   },
   {
    "duration": 2750,
    "start_time": "2022-03-16T17:44:10.431Z"
   },
   {
    "duration": 3493,
    "start_time": "2022-03-16T17:44:13.183Z"
   },
   {
    "duration": 5230,
    "start_time": "2022-03-16T17:44:16.678Z"
   },
   {
    "duration": 4288,
    "start_time": "2022-03-16T17:44:21.910Z"
   },
   {
    "duration": 7571,
    "start_time": "2022-03-16T17:44:26.200Z"
   },
   {
    "duration": 8208,
    "start_time": "2022-03-16T17:44:33.777Z"
   },
   {
    "duration": 1333,
    "start_time": "2022-03-16T17:44:41.987Z"
   },
   {
    "duration": 868,
    "start_time": "2022-03-16T17:44:43.322Z"
   },
   {
    "duration": 1056,
    "start_time": "2022-03-16T17:44:44.192Z"
   },
   {
    "duration": 2842,
    "start_time": "2022-03-16T17:44:45.250Z"
   },
   {
    "duration": 1919,
    "start_time": "2022-03-16T17:44:48.095Z"
   },
   {
    "duration": 2021,
    "start_time": "2022-03-16T17:44:50.016Z"
   },
   {
    "duration": 1656,
    "start_time": "2022-03-16T17:44:52.039Z"
   },
   {
    "duration": 4438,
    "start_time": "2022-03-16T17:44:53.697Z"
   },
   {
    "duration": 3034,
    "start_time": "2022-03-16T17:44:58.137Z"
   },
   {
    "duration": 990,
    "start_time": "2022-03-16T17:45:01.173Z"
   },
   {
    "duration": 702,
    "start_time": "2022-03-16T17:45:02.165Z"
   },
   {
    "duration": 1394,
    "start_time": "2022-03-16T17:45:02.869Z"
   },
   {
    "duration": 1757,
    "start_time": "2022-03-16T17:45:04.265Z"
   },
   {
    "duration": 3573,
    "start_time": "2022-03-16T17:45:06.024Z"
   },
   {
    "duration": 1370,
    "start_time": "2022-03-16T17:45:09.599Z"
   },
   {
    "duration": 947,
    "start_time": "2022-03-16T17:45:10.971Z"
   },
   {
    "duration": 2567,
    "start_time": "2022-03-16T17:45:11.920Z"
   },
   {
    "duration": 1368,
    "start_time": "2022-03-16T17:45:14.489Z"
   },
   {
    "duration": 1407,
    "start_time": "2022-03-16T17:45:15.859Z"
   },
   {
    "duration": 1596,
    "start_time": "2022-03-16T17:45:17.268Z"
   },
   {
    "duration": 2041,
    "start_time": "2022-03-16T17:45:18.866Z"
   },
   {
    "duration": 2755,
    "start_time": "2022-03-16T17:45:20.909Z"
   },
   {
    "duration": 4976,
    "start_time": "2022-03-16T17:45:23.670Z"
   },
   {
    "duration": 5095,
    "start_time": "2022-03-16T17:45:28.649Z"
   },
   {
    "duration": 2835,
    "start_time": "2022-03-16T17:45:33.746Z"
   },
   {
    "duration": 1531,
    "start_time": "2022-03-16T17:45:36.584Z"
   },
   {
    "duration": 8478,
    "start_time": "2022-03-16T17:45:53.058Z"
   },
   {
    "duration": 2114,
    "start_time": "2022-03-16T17:46:01.538Z"
   },
   {
    "duration": 6065,
    "start_time": "2022-03-16T17:46:03.654Z"
   },
   {
    "duration": 3665,
    "start_time": "2022-03-16T17:46:09.721Z"
   },
   {
    "duration": 2626,
    "start_time": "2022-03-16T17:46:13.388Z"
   },
   {
    "duration": 3201,
    "start_time": "2022-03-16T17:46:16.016Z"
   },
   {
    "duration": 2371,
    "start_time": "2022-03-16T17:46:19.219Z"
   },
   {
    "duration": 5773,
    "start_time": "2022-03-16T17:46:21.592Z"
   },
   {
    "duration": 7712,
    "start_time": "2022-03-16T17:46:27.367Z"
   },
   {
    "duration": 4421,
    "start_time": "2022-03-16T17:46:35.082Z"
   },
   {
    "duration": 3232,
    "start_time": "2022-03-16T17:46:39.505Z"
   },
   {
    "duration": 8063,
    "start_time": "2022-03-16T17:46:42.739Z"
   },
   {
    "duration": 6480,
    "start_time": "2022-03-16T17:46:50.804Z"
   },
   {
    "duration": 8326,
    "start_time": "2022-03-16T17:46:57.287Z"
   },
   {
    "duration": 7305,
    "start_time": "2022-03-16T17:47:05.615Z"
   },
   {
    "duration": 4046,
    "start_time": "2022-03-16T17:47:12.922Z"
   },
   {
    "duration": 4105,
    "start_time": "2022-03-16T17:47:16.971Z"
   },
   {
    "duration": 2475,
    "start_time": "2022-03-16T17:47:21.078Z"
   },
   {
    "duration": 19416,
    "start_time": "2022-03-16T17:47:23.554Z"
   },
   {
    "duration": 5197,
    "start_time": "2022-03-16T17:47:42.972Z"
   },
   {
    "duration": 6378,
    "start_time": "2022-03-16T17:47:50.048Z"
   },
   {
    "duration": 6,
    "start_time": "2022-03-16T17:56:40.767Z"
   },
   {
    "duration": 3197,
    "start_time": "2022-03-16T17:57:54.615Z"
   },
   {
    "duration": 6059,
    "start_time": "2022-03-16T17:58:18.479Z"
   },
   {
    "duration": 6103,
    "start_time": "2022-03-16T17:59:07.077Z"
   },
   {
    "duration": 7618,
    "start_time": "2022-03-16T17:59:32.043Z"
   },
   {
    "duration": 6295,
    "start_time": "2022-03-16T17:59:50.179Z"
   },
   {
    "duration": -196,
    "start_time": "2022-03-16T18:00:46.967Z"
   },
   {
    "duration": 243,
    "start_time": "2022-03-16T18:01:41.898Z"
   },
   {
    "duration": 8,
    "start_time": "2022-03-16T18:01:49.647Z"
   },
   {
    "duration": 4,
    "start_time": "2022-03-16T18:04:33.912Z"
   },
   {
    "duration": 4,
    "start_time": "2022-03-16T18:08:39.417Z"
   },
   {
    "duration": 672,
    "start_time": "2022-03-16T18:08:41.547Z"
   },
   {
    "duration": 240,
    "start_time": "2022-03-16T18:08:49.099Z"
   },
   {
    "duration": 1597,
    "start_time": "2022-03-16T18:08:52.331Z"
   },
   {
    "duration": 4,
    "start_time": "2022-03-16T18:10:00.577Z"
   },
   {
    "duration": 5368,
    "start_time": "2022-03-16T18:10:02.605Z"
   },
   {
    "duration": 3,
    "start_time": "2022-03-16T18:11:04.325Z"
   },
   {
    "duration": 13,
    "start_time": "2022-03-16T18:33:08.796Z"
   },
   {
    "duration": 8,
    "start_time": "2022-03-16T18:34:53.021Z"
   },
   {
    "duration": 8,
    "start_time": "2022-03-16T18:35:44.134Z"
   },
   {
    "duration": 9,
    "start_time": "2022-03-16T18:37:50.363Z"
   },
   {
    "duration": 9,
    "start_time": "2022-03-16T18:38:05.583Z"
   },
   {
    "duration": 9,
    "start_time": "2022-03-16T18:38:19.813Z"
   },
   {
    "duration": 286,
    "start_time": "2022-03-16T18:41:16.457Z"
   },
   {
    "duration": 3,
    "start_time": "2022-03-16T18:41:26.514Z"
   },
   {
    "duration": 12511,
    "start_time": "2022-03-16T18:41:27.915Z"
   },
   {
    "duration": 3,
    "start_time": "2022-03-16T18:41:52.430Z"
   },
   {
    "duration": 257,
    "start_time": "2022-03-16T18:41:56.679Z"
   },
   {
    "duration": 8,
    "start_time": "2022-03-16T18:42:24.661Z"
   },
   {
    "duration": 4,
    "start_time": "2022-03-16T18:44:20.544Z"
   },
   {
    "duration": 7159,
    "start_time": "2022-03-16T18:44:22.358Z"
   },
   {
    "duration": 12027,
    "start_time": "2022-03-16T18:44:29.519Z"
   },
   {
    "duration": 10,
    "start_time": "2022-03-16T18:53:00.799Z"
   },
   {
    "duration": 6,
    "start_time": "2022-03-16T18:53:21.439Z"
   },
   {
    "duration": 9,
    "start_time": "2022-03-16T18:53:24.767Z"
   },
   {
    "duration": 6,
    "start_time": "2022-03-16T18:55:26.611Z"
   },
   {
    "duration": 6,
    "start_time": "2022-03-16T18:55:45.460Z"
   },
   {
    "duration": 10,
    "start_time": "2022-03-16T19:07:06.398Z"
   },
   {
    "duration": 4,
    "start_time": "2022-03-16T19:15:25.109Z"
   },
   {
    "duration": 8,
    "start_time": "2022-03-16T19:16:01.551Z"
   },
   {
    "duration": 19,
    "start_time": "2022-03-16T19:16:21.631Z"
   },
   {
    "duration": 10,
    "start_time": "2022-03-16T19:16:46.766Z"
   },
   {
    "duration": 97,
    "start_time": "2022-03-16T19:17:14.952Z"
   },
   {
    "duration": 5,
    "start_time": "2022-03-16T19:17:47.848Z"
   },
   {
    "duration": 44,
    "start_time": "2022-03-16T19:17:49.865Z"
   },
   {
    "duration": 267,
    "start_time": "2022-03-16T19:17:51.812Z"
   },
   {
    "duration": 21,
    "start_time": "2022-03-16T19:18:17.902Z"
   },
   {
    "duration": 611,
    "start_time": "2022-03-16T21:14:35.928Z"
   },
   {
    "duration": 8,
    "start_time": "2022-03-16T21:14:36.541Z"
   },
   {
    "duration": 8,
    "start_time": "2022-03-16T21:14:36.551Z"
   },
   {
    "duration": 11,
    "start_time": "2022-03-16T21:14:36.561Z"
   },
   {
    "duration": 8,
    "start_time": "2022-03-16T21:14:36.574Z"
   },
   {
    "duration": 11,
    "start_time": "2022-03-16T21:14:36.583Z"
   },
   {
    "duration": 12,
    "start_time": "2022-03-16T21:14:36.595Z"
   },
   {
    "duration": 12,
    "start_time": "2022-03-16T21:14:36.609Z"
   },
   {
    "duration": 10,
    "start_time": "2022-03-16T21:14:36.623Z"
   },
   {
    "duration": 6,
    "start_time": "2022-03-16T21:14:36.635Z"
   },
   {
    "duration": 42,
    "start_time": "2022-03-16T21:14:36.642Z"
   },
   {
    "duration": 7,
    "start_time": "2022-03-16T21:14:36.686Z"
   },
   {
    "duration": 5,
    "start_time": "2022-03-16T21:14:36.695Z"
   },
   {
    "duration": 5,
    "start_time": "2022-03-16T21:14:36.701Z"
   },
   {
    "duration": 10,
    "start_time": "2022-03-16T21:14:36.708Z"
   },
   {
    "duration": 9,
    "start_time": "2022-03-16T21:14:36.720Z"
   },
   {
    "duration": 9,
    "start_time": "2022-03-16T21:14:36.730Z"
   },
   {
    "duration": 44,
    "start_time": "2022-03-16T21:14:36.741Z"
   },
   {
    "duration": 11,
    "start_time": "2022-03-16T21:14:36.786Z"
   },
   {
    "duration": 6,
    "start_time": "2022-03-16T21:14:36.799Z"
   },
   {
    "duration": 7,
    "start_time": "2022-03-16T21:14:36.807Z"
   },
   {
    "duration": 3,
    "start_time": "2022-03-16T21:14:36.816Z"
   },
   {
    "duration": 8,
    "start_time": "2022-03-16T21:14:36.822Z"
   },
   {
    "duration": 55,
    "start_time": "2022-03-16T21:14:36.832Z"
   },
   {
    "duration": 3,
    "start_time": "2022-03-16T21:14:36.889Z"
   },
   {
    "duration": 7,
    "start_time": "2022-03-16T21:14:36.893Z"
   },
   {
    "duration": 9,
    "start_time": "2022-03-16T21:14:36.901Z"
   },
   {
    "duration": 6,
    "start_time": "2022-03-16T21:14:36.912Z"
   },
   {
    "duration": 4,
    "start_time": "2022-03-16T21:14:36.919Z"
   },
   {
    "duration": 6,
    "start_time": "2022-03-16T21:14:36.925Z"
   },
   {
    "duration": 4,
    "start_time": "2022-03-16T21:14:36.933Z"
   },
   {
    "duration": 43,
    "start_time": "2022-03-16T21:14:36.938Z"
   },
   {
    "duration": 9,
    "start_time": "2022-03-16T21:14:36.983Z"
   },
   {
    "duration": 19,
    "start_time": "2022-03-16T21:14:36.994Z"
   },
   {
    "duration": 2,
    "start_time": "2022-03-16T21:14:37.015Z"
   },
   {
    "duration": 5,
    "start_time": "2022-03-16T21:14:37.019Z"
   },
   {
    "duration": 13,
    "start_time": "2022-03-16T21:14:37.026Z"
   },
   {
    "duration": 8,
    "start_time": "2022-03-16T21:14:37.040Z"
   },
   {
    "duration": 32,
    "start_time": "2022-03-16T21:14:37.050Z"
   },
   {
    "duration": 21,
    "start_time": "2022-03-16T21:14:37.083Z"
   },
   {
    "duration": 22,
    "start_time": "2022-03-16T21:14:37.106Z"
   },
   {
    "duration": 18,
    "start_time": "2022-03-16T21:14:37.130Z"
   },
   {
    "duration": 4,
    "start_time": "2022-03-16T21:14:37.150Z"
   },
   {
    "duration": 34,
    "start_time": "2022-03-16T21:14:37.156Z"
   },
   {
    "duration": 3,
    "start_time": "2022-03-16T21:14:37.192Z"
   },
   {
    "duration": 15,
    "start_time": "2022-03-16T21:14:37.197Z"
   },
   {
    "duration": 3,
    "start_time": "2022-03-16T21:14:37.214Z"
   },
   {
    "duration": 7,
    "start_time": "2022-03-16T21:14:37.219Z"
   },
   {
    "duration": 4,
    "start_time": "2022-03-16T21:14:37.228Z"
   },
   {
    "duration": 5,
    "start_time": "2022-03-16T21:14:37.233Z"
   },
   {
    "duration": 51,
    "start_time": "2022-03-16T21:14:37.240Z"
   },
   {
    "duration": 7,
    "start_time": "2022-03-16T21:14:37.293Z"
   },
   {
    "duration": 19,
    "start_time": "2022-03-16T21:14:37.302Z"
   },
   {
    "duration": 7,
    "start_time": "2022-03-16T21:14:37.323Z"
   },
   {
    "duration": 7,
    "start_time": "2022-03-16T21:14:37.331Z"
   },
   {
    "duration": 43,
    "start_time": "2022-03-16T21:14:37.340Z"
   },
   {
    "duration": 8,
    "start_time": "2022-03-16T21:14:37.385Z"
   },
   {
    "duration": 6,
    "start_time": "2022-03-16T21:14:37.395Z"
   },
   {
    "duration": 8,
    "start_time": "2022-03-16T21:14:37.402Z"
   },
   {
    "duration": 7,
    "start_time": "2022-03-16T21:14:37.412Z"
   },
   {
    "duration": 9,
    "start_time": "2022-03-16T21:14:37.421Z"
   },
   {
    "duration": 4,
    "start_time": "2022-03-16T21:14:37.431Z"
   },
   {
    "duration": 5,
    "start_time": "2022-03-16T21:14:37.436Z"
   },
   {
    "duration": 6,
    "start_time": "2022-03-16T21:14:37.481Z"
   },
   {
    "duration": 9,
    "start_time": "2022-03-16T21:14:37.489Z"
   },
   {
    "duration": 7,
    "start_time": "2022-03-16T21:14:37.500Z"
   },
   {
    "duration": 4,
    "start_time": "2022-03-16T21:14:37.508Z"
   },
   {
    "duration": 11,
    "start_time": "2022-03-16T21:14:37.517Z"
   },
   {
    "duration": 11,
    "start_time": "2022-03-16T21:14:37.530Z"
   },
   {
    "duration": 44,
    "start_time": "2022-03-16T21:14:37.542Z"
   },
   {
    "duration": 10,
    "start_time": "2022-03-16T21:14:37.588Z"
   },
   {
    "duration": 3,
    "start_time": "2022-03-16T21:14:37.599Z"
   },
   {
    "duration": 7,
    "start_time": "2022-03-16T21:14:37.603Z"
   },
   {
    "duration": 4,
    "start_time": "2022-03-16T21:14:37.612Z"
   },
   {
    "duration": 4,
    "start_time": "2022-03-16T21:14:37.617Z"
   },
   {
    "duration": 15,
    "start_time": "2022-03-16T21:14:37.622Z"
   },
   {
    "duration": 2,
    "start_time": "2022-03-16T21:14:37.638Z"
   },
   {
    "duration": 13,
    "start_time": "2022-03-16T21:14:37.641Z"
   },
   {
    "duration": 4,
    "start_time": "2022-03-16T21:14:37.681Z"
   },
   {
    "duration": 8,
    "start_time": "2022-03-16T21:14:37.686Z"
   },
   {
    "duration": 4,
    "start_time": "2022-03-16T21:14:37.695Z"
   },
   {
    "duration": 9,
    "start_time": "2022-03-16T21:14:37.700Z"
   },
   {
    "duration": 18,
    "start_time": "2022-03-16T21:14:37.710Z"
   },
   {
    "duration": 7,
    "start_time": "2022-03-16T21:14:37.729Z"
   },
   {
    "duration": 9,
    "start_time": "2022-03-16T21:14:37.737Z"
   },
   {
    "duration": 7,
    "start_time": "2022-03-16T21:14:37.748Z"
   },
   {
    "duration": 105,
    "start_time": "2022-03-16T21:14:37.781Z"
   },
   {
    "duration": -456,
    "start_time": "2022-03-16T21:14:38.344Z"
   },
   {
    "duration": -468,
    "start_time": "2022-03-16T21:14:38.357Z"
   },
   {
    "duration": -475,
    "start_time": "2022-03-16T21:14:38.366Z"
   },
   {
    "duration": -486,
    "start_time": "2022-03-16T21:14:38.378Z"
   },
   {
    "duration": -495,
    "start_time": "2022-03-16T21:14:38.388Z"
   },
   {
    "duration": -500,
    "start_time": "2022-03-16T21:14:38.394Z"
   },
   {
    "duration": -509,
    "start_time": "2022-03-16T21:14:38.405Z"
   },
   {
    "duration": -514,
    "start_time": "2022-03-16T21:14:38.411Z"
   },
   {
    "duration": -523,
    "start_time": "2022-03-16T21:14:38.421Z"
   },
   {
    "duration": 3,
    "start_time": "2022-03-16T21:14:55.742Z"
   },
   {
    "duration": 7,
    "start_time": "2022-03-16T21:14:59.245Z"
   },
   {
    "duration": 16,
    "start_time": "2022-03-16T21:15:04.424Z"
   },
   {
    "duration": 3,
    "start_time": "2022-03-16T21:16:16.402Z"
   },
   {
    "duration": 7,
    "start_time": "2022-03-16T21:16:18.355Z"
   },
   {
    "duration": 16,
    "start_time": "2022-03-16T21:16:20.124Z"
   },
   {
    "duration": 2,
    "start_time": "2022-03-16T22:08:57.759Z"
   },
   {
    "duration": 7,
    "start_time": "2022-03-16T22:09:29.682Z"
   },
   {
    "duration": 7,
    "start_time": "2022-03-16T22:09:46.425Z"
   },
   {
    "duration": 94,
    "start_time": "2022-03-16T22:13:09.067Z"
   },
   {
    "duration": 2,
    "start_time": "2022-03-16T22:13:25.251Z"
   },
   {
    "duration": 1496,
    "start_time": "2022-03-16T22:13:59.156Z"
   },
   {
    "duration": 2,
    "start_time": "2022-03-16T22:14:27.597Z"
   },
   {
    "duration": 1495,
    "start_time": "2022-03-16T22:14:29.130Z"
   },
   {
    "duration": 3,
    "start_time": "2022-03-16T22:15:33.294Z"
   },
   {
    "duration": 1520,
    "start_time": "2022-03-16T22:15:35.648Z"
   },
   {
    "duration": 3,
    "start_time": "2022-03-16T22:18:29.802Z"
   },
   {
    "duration": 1400,
    "start_time": "2022-03-16T22:18:32.002Z"
   },
   {
    "duration": 98,
    "start_time": "2022-03-16T22:18:49.033Z"
   },
   {
    "duration": 4,
    "start_time": "2022-03-16T22:18:55.304Z"
   },
   {
    "duration": 1435,
    "start_time": "2022-03-16T22:18:58.148Z"
   },
   {
    "duration": 2,
    "start_time": "2022-03-16T22:19:24.812Z"
   },
   {
    "duration": 1415,
    "start_time": "2022-03-16T22:19:26.207Z"
   },
   {
    "duration": 3,
    "start_time": "2022-03-16T22:21:06.446Z"
   },
   {
    "duration": 1447,
    "start_time": "2022-03-16T22:21:09.316Z"
   },
   {
    "duration": 11,
    "start_time": "2022-03-16T22:23:59.388Z"
   },
   {
    "duration": 3,
    "start_time": "2022-03-16T22:28:05.872Z"
   },
   {
    "duration": 8,
    "start_time": "2022-03-16T22:28:09.124Z"
   },
   {
    "duration": 17,
    "start_time": "2022-03-16T22:28:25.146Z"
   },
   {
    "duration": 3,
    "start_time": "2022-03-16T22:31:08.777Z"
   },
   {
    "duration": 8,
    "start_time": "2022-03-16T22:31:11.403Z"
   },
   {
    "duration": 17,
    "start_time": "2022-03-16T22:31:13.556Z"
   },
   {
    "duration": 3,
    "start_time": "2022-03-16T22:39:39.802Z"
   },
   {
    "duration": 7,
    "start_time": "2022-03-16T22:39:41.478Z"
   },
   {
    "duration": 7,
    "start_time": "2022-03-16T22:39:42.891Z"
   },
   {
    "duration": 21,
    "start_time": "2022-03-16T22:40:38.123Z"
   },
   {
    "duration": 4,
    "start_time": "2022-03-16T22:41:56.032Z"
   },
   {
    "duration": 8,
    "start_time": "2022-03-16T22:42:10.355Z"
   },
   {
    "duration": 99,
    "start_time": "2022-03-16T22:47:04.126Z"
   },
   {
    "duration": 3,
    "start_time": "2022-03-16T22:47:26.489Z"
   },
   {
    "duration": 8,
    "start_time": "2022-03-16T22:47:29.423Z"
   },
   {
    "duration": 7,
    "start_time": "2022-03-16T22:47:31.240Z"
   },
   {
    "duration": 9,
    "start_time": "2022-03-16T22:47:47.060Z"
   },
   {
    "duration": 1244,
    "start_time": "2022-03-16T22:52:05.113Z"
   },
   {
    "duration": 17,
    "start_time": "2022-03-16T22:52:33.810Z"
   },
   {
    "duration": 12,
    "start_time": "2022-03-16T22:53:13.316Z"
   },
   {
    "duration": 10,
    "start_time": "2022-03-16T22:53:48.045Z"
   },
   {
    "duration": 16,
    "start_time": "2022-03-16T22:55:25.439Z"
   },
   {
    "duration": 98,
    "start_time": "2022-03-16T22:55:58.845Z"
   },
   {
    "duration": 12,
    "start_time": "2022-03-16T22:56:08.051Z"
   },
   {
    "duration": 14,
    "start_time": "2022-03-16T22:57:01.351Z"
   },
   {
    "duration": 20,
    "start_time": "2022-03-16T22:58:15.170Z"
   },
   {
    "duration": 21,
    "start_time": "2022-03-16T23:00:41.793Z"
   },
   {
    "duration": 7,
    "start_time": "2022-03-16T23:03:23.573Z"
   },
   {
    "duration": 17,
    "start_time": "2022-03-16T23:05:48.684Z"
   },
   {
    "duration": 8,
    "start_time": "2022-03-16T23:09:58.036Z"
   },
   {
    "duration": 24,
    "start_time": "2022-03-16T23:11:43.698Z"
   },
   {
    "duration": 25,
    "start_time": "2022-03-16T23:11:49.551Z"
   },
   {
    "duration": 7,
    "start_time": "2022-03-16T23:13:00.426Z"
   },
   {
    "duration": 26,
    "start_time": "2022-03-16T23:13:13.299Z"
   },
   {
    "duration": 25,
    "start_time": "2022-03-16T23:14:20.745Z"
   },
   {
    "duration": 26,
    "start_time": "2022-03-16T23:14:46.504Z"
   },
   {
    "duration": 27,
    "start_time": "2022-03-16T23:14:56.526Z"
   },
   {
    "duration": 16,
    "start_time": "2022-03-16T23:51:35.916Z"
   },
   {
    "duration": 11,
    "start_time": "2022-03-16T23:51:49.606Z"
   },
   {
    "duration": 7,
    "start_time": "2022-03-17T00:24:25.775Z"
   },
   {
    "duration": 6,
    "start_time": "2022-03-17T00:25:06.745Z"
   },
   {
    "duration": 5,
    "start_time": "2022-03-17T00:25:10.074Z"
   },
   {
    "duration": 10,
    "start_time": "2022-03-17T00:26:57.368Z"
   },
   {
    "duration": 9,
    "start_time": "2022-03-17T00:27:15.113Z"
   },
   {
    "duration": 7,
    "start_time": "2022-03-17T00:28:02.101Z"
   },
   {
    "duration": 7,
    "start_time": "2022-03-17T00:28:23.964Z"
   },
   {
    "duration": 345,
    "start_time": "2022-03-17T00:29:34.976Z"
   },
   {
    "duration": 303,
    "start_time": "2022-03-17T00:30:15.482Z"
   },
   {
    "duration": 100,
    "start_time": "2022-03-17T00:30:28.680Z"
   },
   {
    "duration": 7,
    "start_time": "2022-03-17T00:30:46.296Z"
   },
   {
    "duration": 9,
    "start_time": "2022-03-17T00:39:02.775Z"
   },
   {
    "duration": 9,
    "start_time": "2022-03-17T00:39:15.950Z"
   },
   {
    "duration": 636,
    "start_time": "2022-03-17T00:39:22.249Z"
   },
   {
    "duration": 8,
    "start_time": "2022-03-17T00:39:22.887Z"
   },
   {
    "duration": 19,
    "start_time": "2022-03-17T00:39:22.896Z"
   },
   {
    "duration": 20,
    "start_time": "2022-03-17T00:39:22.916Z"
   },
   {
    "duration": 8,
    "start_time": "2022-03-17T00:39:22.937Z"
   },
   {
    "duration": 9,
    "start_time": "2022-03-17T00:39:22.946Z"
   },
   {
    "duration": 13,
    "start_time": "2022-03-17T00:39:22.957Z"
   },
   {
    "duration": 14,
    "start_time": "2022-03-17T00:39:22.973Z"
   },
   {
    "duration": 11,
    "start_time": "2022-03-17T00:39:22.989Z"
   },
   {
    "duration": 7,
    "start_time": "2022-03-17T00:39:23.002Z"
   },
   {
    "duration": 10,
    "start_time": "2022-03-17T00:39:23.010Z"
   },
   {
    "duration": 10,
    "start_time": "2022-03-17T00:39:23.021Z"
   },
   {
    "duration": 6,
    "start_time": "2022-03-17T00:39:23.032Z"
   },
   {
    "duration": 43,
    "start_time": "2022-03-17T00:39:23.040Z"
   },
   {
    "duration": 8,
    "start_time": "2022-03-17T00:39:23.085Z"
   },
   {
    "duration": 6,
    "start_time": "2022-03-17T00:39:23.094Z"
   },
   {
    "duration": 9,
    "start_time": "2022-03-17T00:39:23.102Z"
   },
   {
    "duration": 7,
    "start_time": "2022-03-17T00:39:23.112Z"
   },
   {
    "duration": 7,
    "start_time": "2022-03-17T00:39:23.120Z"
   },
   {
    "duration": 11,
    "start_time": "2022-03-17T00:39:23.128Z"
   },
   {
    "duration": 48,
    "start_time": "2022-03-17T00:39:23.140Z"
   },
   {
    "duration": 8,
    "start_time": "2022-03-17T00:39:23.189Z"
   },
   {
    "duration": 5,
    "start_time": "2022-03-17T00:39:23.201Z"
   },
   {
    "duration": 6,
    "start_time": "2022-03-17T00:39:23.208Z"
   },
   {
    "duration": 7,
    "start_time": "2022-03-17T00:39:23.215Z"
   },
   {
    "duration": 21,
    "start_time": "2022-03-17T00:39:23.224Z"
   },
   {
    "duration": 24,
    "start_time": "2022-03-17T00:39:23.246Z"
   },
   {
    "duration": 11,
    "start_time": "2022-03-17T00:39:23.271Z"
   },
   {
    "duration": 23,
    "start_time": "2022-03-17T00:39:23.283Z"
   },
   {
    "duration": 16,
    "start_time": "2022-03-17T00:39:23.307Z"
   },
   {
    "duration": 20,
    "start_time": "2022-03-17T00:39:23.324Z"
   },
   {
    "duration": 15,
    "start_time": "2022-03-17T00:39:23.345Z"
   },
   {
    "duration": 18,
    "start_time": "2022-03-17T00:39:23.362Z"
   },
   {
    "duration": 15,
    "start_time": "2022-03-17T00:39:23.381Z"
   },
   {
    "duration": 4,
    "start_time": "2022-03-17T00:39:23.397Z"
   },
   {
    "duration": 8,
    "start_time": "2022-03-17T00:39:23.402Z"
   },
   {
    "duration": 14,
    "start_time": "2022-03-17T00:39:23.415Z"
   },
   {
    "duration": 3,
    "start_time": "2022-03-17T00:39:23.430Z"
   },
   {
    "duration": 4,
    "start_time": "2022-03-17T00:39:23.435Z"
   },
   {
    "duration": 8,
    "start_time": "2022-03-17T00:39:23.440Z"
   },
   {
    "duration": 7,
    "start_time": "2022-03-17T00:39:23.449Z"
   },
   {
    "duration": 8,
    "start_time": "2022-03-17T00:39:23.457Z"
   },
   {
    "duration": 28,
    "start_time": "2022-03-17T00:39:23.466Z"
   },
   {
    "duration": 17,
    "start_time": "2022-03-17T00:39:23.496Z"
   },
   {
    "duration": 13,
    "start_time": "2022-03-17T00:39:23.515Z"
   },
   {
    "duration": 4,
    "start_time": "2022-03-17T00:39:23.530Z"
   },
   {
    "duration": 47,
    "start_time": "2022-03-17T00:39:23.535Z"
   },
   {
    "duration": 3,
    "start_time": "2022-03-17T00:39:23.584Z"
   },
   {
    "duration": 17,
    "start_time": "2022-03-17T00:39:23.588Z"
   },
   {
    "duration": 3,
    "start_time": "2022-03-17T00:39:23.606Z"
   },
   {
    "duration": 7,
    "start_time": "2022-03-17T00:39:23.610Z"
   },
   {
    "duration": 4,
    "start_time": "2022-03-17T00:39:23.619Z"
   },
   {
    "duration": 8,
    "start_time": "2022-03-17T00:39:23.624Z"
   },
   {
    "duration": 14,
    "start_time": "2022-03-17T00:39:23.633Z"
   },
   {
    "duration": 34,
    "start_time": "2022-03-17T00:39:23.648Z"
   },
   {
    "duration": 25,
    "start_time": "2022-03-17T00:39:23.683Z"
   },
   {
    "duration": 5,
    "start_time": "2022-03-17T00:39:23.709Z"
   },
   {
    "duration": 8,
    "start_time": "2022-03-17T00:39:23.716Z"
   },
   {
    "duration": 5,
    "start_time": "2022-03-17T00:39:23.725Z"
   },
   {
    "duration": 7,
    "start_time": "2022-03-17T00:39:23.732Z"
   },
   {
    "duration": 5,
    "start_time": "2022-03-17T00:39:23.740Z"
   },
   {
    "duration": 6,
    "start_time": "2022-03-17T00:39:23.746Z"
   },
   {
    "duration": 33,
    "start_time": "2022-03-17T00:39:23.753Z"
   },
   {
    "duration": 7,
    "start_time": "2022-03-17T00:39:23.787Z"
   },
   {
    "duration": 2,
    "start_time": "2022-03-17T00:39:23.796Z"
   },
   {
    "duration": 5,
    "start_time": "2022-03-17T00:39:23.800Z"
   },
   {
    "duration": 6,
    "start_time": "2022-03-17T00:39:23.806Z"
   },
   {
    "duration": 9,
    "start_time": "2022-03-17T00:39:23.817Z"
   },
   {
    "duration": 4,
    "start_time": "2022-03-17T00:39:23.828Z"
   },
   {
    "duration": 4,
    "start_time": "2022-03-17T00:39:23.833Z"
   },
   {
    "duration": 12,
    "start_time": "2022-03-17T00:39:23.838Z"
   },
   {
    "duration": 38,
    "start_time": "2022-03-17T00:39:23.851Z"
   },
   {
    "duration": 10,
    "start_time": "2022-03-17T00:39:23.891Z"
   },
   {
    "duration": 9,
    "start_time": "2022-03-17T00:39:23.902Z"
   },
   {
    "duration": 2,
    "start_time": "2022-03-17T00:39:23.913Z"
   },
   {
    "duration": 6,
    "start_time": "2022-03-17T00:39:23.916Z"
   },
   {
    "duration": 6,
    "start_time": "2022-03-17T00:39:23.923Z"
   },
   {
    "duration": 5,
    "start_time": "2022-03-17T00:39:23.930Z"
   },
   {
    "duration": 13,
    "start_time": "2022-03-17T00:39:23.936Z"
   },
   {
    "duration": 2,
    "start_time": "2022-03-17T00:39:23.950Z"
   },
   {
    "duration": 35,
    "start_time": "2022-03-17T00:39:23.954Z"
   },
   {
    "duration": 4,
    "start_time": "2022-03-17T00:39:23.991Z"
   },
   {
    "duration": 12,
    "start_time": "2022-03-17T00:39:23.996Z"
   },
   {
    "duration": 4,
    "start_time": "2022-03-17T00:39:24.009Z"
   },
   {
    "duration": 9,
    "start_time": "2022-03-17T00:39:24.014Z"
   },
   {
    "duration": 18,
    "start_time": "2022-03-17T00:39:24.024Z"
   },
   {
    "duration": 4,
    "start_time": "2022-03-17T00:39:24.043Z"
   },
   {
    "duration": 6,
    "start_time": "2022-03-17T00:39:24.048Z"
   },
   {
    "duration": 2,
    "start_time": "2022-03-17T00:39:24.081Z"
   },
   {
    "duration": 9,
    "start_time": "2022-03-17T00:39:24.085Z"
   },
   {
    "duration": 8,
    "start_time": "2022-03-17T00:39:24.096Z"
   },
   {
    "duration": 8,
    "start_time": "2022-03-17T00:39:24.105Z"
   },
   {
    "duration": 17,
    "start_time": "2022-03-17T00:39:24.115Z"
   },
   {
    "duration": 2,
    "start_time": "2022-03-17T00:39:24.133Z"
   },
   {
    "duration": 9,
    "start_time": "2022-03-17T00:39:24.137Z"
   },
   {
    "duration": 35,
    "start_time": "2022-03-17T00:39:24.147Z"
   },
   {
    "duration": 9,
    "start_time": "2022-03-17T00:39:24.183Z"
   },
   {
    "duration": 5,
    "start_time": "2022-03-17T00:39:24.194Z"
   },
   {
    "duration": 4,
    "start_time": "2022-03-17T00:39:24.200Z"
   },
   {
    "duration": 10,
    "start_time": "2022-03-17T00:39:24.205Z"
   },
   {
    "duration": 5,
    "start_time": "2022-03-17T00:39:24.216Z"
   },
   {
    "duration": 13,
    "start_time": "2022-03-17T00:39:24.223Z"
   },
   {
    "duration": 56,
    "start_time": "2022-03-17T00:39:24.238Z"
   },
   {
    "duration": 110,
    "start_time": "2022-03-17T00:39:24.296Z"
   },
   {
    "duration": -1240,
    "start_time": "2022-03-17T00:39:25.648Z"
   },
   {
    "duration": -1257,
    "start_time": "2022-03-17T00:39:25.666Z"
   },
   {
    "duration": 9,
    "start_time": "2022-03-17T00:40:12.000Z"
   },
   {
    "duration": 616,
    "start_time": "2022-03-17T00:40:25.629Z"
   },
   {
    "duration": 7,
    "start_time": "2022-03-17T00:40:26.246Z"
   },
   {
    "duration": 10,
    "start_time": "2022-03-17T00:40:26.255Z"
   },
   {
    "duration": 15,
    "start_time": "2022-03-17T00:40:26.266Z"
   },
   {
    "duration": 8,
    "start_time": "2022-03-17T00:40:26.282Z"
   },
   {
    "duration": 9,
    "start_time": "2022-03-17T00:40:26.291Z"
   },
   {
    "duration": 12,
    "start_time": "2022-03-17T00:40:26.301Z"
   },
   {
    "duration": 10,
    "start_time": "2022-03-17T00:40:26.315Z"
   },
   {
    "duration": 10,
    "start_time": "2022-03-17T00:40:26.327Z"
   },
   {
    "duration": 44,
    "start_time": "2022-03-17T00:40:26.339Z"
   },
   {
    "duration": 10,
    "start_time": "2022-03-17T00:40:26.384Z"
   },
   {
    "duration": 10,
    "start_time": "2022-03-17T00:40:26.396Z"
   },
   {
    "duration": 6,
    "start_time": "2022-03-17T00:40:26.407Z"
   },
   {
    "duration": 7,
    "start_time": "2022-03-17T00:40:26.414Z"
   },
   {
    "duration": 9,
    "start_time": "2022-03-17T00:40:26.422Z"
   },
   {
    "duration": 5,
    "start_time": "2022-03-17T00:40:26.433Z"
   },
   {
    "duration": 7,
    "start_time": "2022-03-17T00:40:26.439Z"
   },
   {
    "duration": 38,
    "start_time": "2022-03-17T00:40:26.447Z"
   },
   {
    "duration": 18,
    "start_time": "2022-03-17T00:40:26.487Z"
   },
   {
    "duration": 23,
    "start_time": "2022-03-17T00:40:26.506Z"
   },
   {
    "duration": 32,
    "start_time": "2022-03-17T00:40:26.531Z"
   },
   {
    "duration": 21,
    "start_time": "2022-03-17T00:40:26.564Z"
   },
   {
    "duration": 27,
    "start_time": "2022-03-17T00:40:26.589Z"
   },
   {
    "duration": 28,
    "start_time": "2022-03-17T00:40:26.618Z"
   },
   {
    "duration": 27,
    "start_time": "2022-03-17T00:40:26.648Z"
   },
   {
    "duration": 16,
    "start_time": "2022-03-17T00:40:26.677Z"
   },
   {
    "duration": 24,
    "start_time": "2022-03-17T00:40:26.694Z"
   },
   {
    "duration": 3,
    "start_time": "2022-03-17T00:40:26.720Z"
   },
   {
    "duration": 16,
    "start_time": "2022-03-17T00:40:26.724Z"
   },
   {
    "duration": 13,
    "start_time": "2022-03-17T00:40:26.741Z"
   },
   {
    "duration": 8,
    "start_time": "2022-03-17T00:40:26.755Z"
   },
   {
    "duration": 7,
    "start_time": "2022-03-17T00:40:26.765Z"
   },
   {
    "duration": 12,
    "start_time": "2022-03-17T00:40:26.773Z"
   },
   {
    "duration": 9,
    "start_time": "2022-03-17T00:40:26.787Z"
   },
   {
    "duration": 21,
    "start_time": "2022-03-17T00:40:26.797Z"
   },
   {
    "duration": 19,
    "start_time": "2022-03-17T00:40:26.819Z"
   },
   {
    "duration": 23,
    "start_time": "2022-03-17T00:40:26.839Z"
   },
   {
    "duration": 10,
    "start_time": "2022-03-17T00:40:26.863Z"
   },
   {
    "duration": 12,
    "start_time": "2022-03-17T00:40:26.874Z"
   },
   {
    "duration": 17,
    "start_time": "2022-03-17T00:40:26.888Z"
   },
   {
    "duration": 18,
    "start_time": "2022-03-17T00:40:26.907Z"
   },
   {
    "duration": 15,
    "start_time": "2022-03-17T00:40:26.926Z"
   },
   {
    "duration": 18,
    "start_time": "2022-03-17T00:40:26.943Z"
   },
   {
    "duration": 24,
    "start_time": "2022-03-17T00:40:26.963Z"
   },
   {
    "duration": 22,
    "start_time": "2022-03-17T00:40:26.988Z"
   },
   {
    "duration": 3,
    "start_time": "2022-03-17T00:40:27.011Z"
   },
   {
    "duration": 16,
    "start_time": "2022-03-17T00:40:27.016Z"
   },
   {
    "duration": 19,
    "start_time": "2022-03-17T00:40:27.033Z"
   },
   {
    "duration": 16,
    "start_time": "2022-03-17T00:40:27.053Z"
   },
   {
    "duration": 6,
    "start_time": "2022-03-17T00:40:27.071Z"
   },
   {
    "duration": 19,
    "start_time": "2022-03-17T00:40:27.078Z"
   },
   {
    "duration": 12,
    "start_time": "2022-03-17T00:40:27.099Z"
   },
   {
    "duration": 12,
    "start_time": "2022-03-17T00:40:27.113Z"
   },
   {
    "duration": 28,
    "start_time": "2022-03-17T00:40:27.127Z"
   },
   {
    "duration": 10,
    "start_time": "2022-03-17T00:40:27.157Z"
   },
   {
    "duration": 35,
    "start_time": "2022-03-17T00:40:27.168Z"
   },
   {
    "duration": 6,
    "start_time": "2022-03-17T00:40:27.205Z"
   },
   {
    "duration": 18,
    "start_time": "2022-03-17T00:40:27.212Z"
   },
   {
    "duration": 15,
    "start_time": "2022-03-17T00:40:27.231Z"
   },
   {
    "duration": 6,
    "start_time": "2022-03-17T00:40:27.247Z"
   },
   {
    "duration": 9,
    "start_time": "2022-03-17T00:40:27.255Z"
   },
   {
    "duration": 13,
    "start_time": "2022-03-17T00:40:27.265Z"
   },
   {
    "duration": 15,
    "start_time": "2022-03-17T00:40:27.280Z"
   },
   {
    "duration": 13,
    "start_time": "2022-03-17T00:40:27.297Z"
   },
   {
    "duration": 3,
    "start_time": "2022-03-17T00:40:27.312Z"
   },
   {
    "duration": 7,
    "start_time": "2022-03-17T00:40:27.317Z"
   },
   {
    "duration": 11,
    "start_time": "2022-03-17T00:40:27.326Z"
   },
   {
    "duration": 22,
    "start_time": "2022-03-17T00:40:27.342Z"
   },
   {
    "duration": 10,
    "start_time": "2022-03-17T00:40:27.365Z"
   },
   {
    "duration": 12,
    "start_time": "2022-03-17T00:40:27.376Z"
   },
   {
    "duration": 30,
    "start_time": "2022-03-17T00:40:27.389Z"
   },
   {
    "duration": 9,
    "start_time": "2022-03-17T00:40:27.421Z"
   },
   {
    "duration": 17,
    "start_time": "2022-03-17T00:40:27.432Z"
   },
   {
    "duration": 11,
    "start_time": "2022-03-17T00:40:27.450Z"
   },
   {
    "duration": 5,
    "start_time": "2022-03-17T00:40:27.462Z"
   },
   {
    "duration": 13,
    "start_time": "2022-03-17T00:40:27.469Z"
   },
   {
    "duration": 17,
    "start_time": "2022-03-17T00:40:27.484Z"
   },
   {
    "duration": 5,
    "start_time": "2022-03-17T00:40:27.502Z"
   },
   {
    "duration": 19,
    "start_time": "2022-03-17T00:40:27.508Z"
   },
   {
    "duration": 13,
    "start_time": "2022-03-17T00:40:27.528Z"
   },
   {
    "duration": 15,
    "start_time": "2022-03-17T00:40:27.543Z"
   },
   {
    "duration": 26,
    "start_time": "2022-03-17T00:40:27.559Z"
   },
   {
    "duration": 11,
    "start_time": "2022-03-17T00:40:27.587Z"
   },
   {
    "duration": 9,
    "start_time": "2022-03-17T00:40:27.600Z"
   },
   {
    "duration": 8,
    "start_time": "2022-03-17T00:40:27.611Z"
   },
   {
    "duration": 18,
    "start_time": "2022-03-17T00:40:27.620Z"
   },
   {
    "duration": 4,
    "start_time": "2022-03-17T00:40:27.639Z"
   },
   {
    "duration": 6,
    "start_time": "2022-03-17T00:40:27.644Z"
   },
   {
    "duration": 2,
    "start_time": "2022-03-17T00:40:27.652Z"
   },
   {
    "duration": 8,
    "start_time": "2022-03-17T00:40:27.656Z"
   },
   {
    "duration": 19,
    "start_time": "2022-03-17T00:40:27.665Z"
   },
   {
    "duration": 8,
    "start_time": "2022-03-17T00:40:27.686Z"
   },
   {
    "duration": 17,
    "start_time": "2022-03-17T00:40:27.695Z"
   },
   {
    "duration": 3,
    "start_time": "2022-03-17T00:40:27.714Z"
   },
   {
    "duration": 11,
    "start_time": "2022-03-17T00:40:27.719Z"
   },
   {
    "duration": 25,
    "start_time": "2022-03-17T00:40:27.731Z"
   },
   {
    "duration": 28,
    "start_time": "2022-03-17T00:40:27.758Z"
   },
   {
    "duration": 5,
    "start_time": "2022-03-17T00:40:27.788Z"
   },
   {
    "duration": 4,
    "start_time": "2022-03-17T00:40:27.794Z"
   },
   {
    "duration": 10,
    "start_time": "2022-03-17T00:40:27.799Z"
   },
   {
    "duration": 8,
    "start_time": "2022-03-17T00:40:27.810Z"
   },
   {
    "duration": 12,
    "start_time": "2022-03-17T00:40:27.820Z"
   },
   {
    "duration": 50,
    "start_time": "2022-03-17T00:40:27.834Z"
   },
   {
    "duration": 97,
    "start_time": "2022-03-17T00:40:27.886Z"
   },
   {
    "duration": -930,
    "start_time": "2022-03-17T00:40:28.914Z"
   },
   {
    "duration": -939,
    "start_time": "2022-03-17T00:40:28.924Z"
   },
   {
    "duration": 7,
    "start_time": "2022-03-17T00:48:43.199Z"
   },
   {
    "duration": 6,
    "start_time": "2022-03-17T00:48:58.930Z"
   },
   {
    "duration": 20,
    "start_time": "2022-03-17T00:52:33.021Z"
   },
   {
    "duration": 3,
    "start_time": "2022-03-17T00:54:56.688Z"
   },
   {
    "duration": 5,
    "start_time": "2022-03-17T00:55:03.295Z"
   },
   {
    "duration": 5,
    "start_time": "2022-03-17T00:55:35.320Z"
   },
   {
    "duration": 12,
    "start_time": "2022-03-17T00:56:22.650Z"
   },
   {
    "duration": 96,
    "start_time": "2022-03-17T00:59:37.885Z"
   },
   {
    "duration": 109,
    "start_time": "2022-03-17T00:59:54.321Z"
   },
   {
    "duration": 8,
    "start_time": "2022-03-17T01:00:07.684Z"
   },
   {
    "duration": 19,
    "start_time": "2022-03-17T01:02:41.436Z"
   },
   {
    "duration": 3,
    "start_time": "2022-03-17T01:11:29.204Z"
   },
   {
    "duration": 3,
    "start_time": "2022-03-17T01:11:40.344Z"
   },
   {
    "duration": 11,
    "start_time": "2022-03-17T01:13:30.428Z"
   },
   {
    "duration": 2,
    "start_time": "2022-03-17T01:13:54.858Z"
   },
   {
    "duration": 641,
    "start_time": "2022-03-17T01:15:23.557Z"
   },
   {
    "duration": 8,
    "start_time": "2022-03-17T01:15:24.200Z"
   },
   {
    "duration": 10,
    "start_time": "2022-03-17T01:15:24.210Z"
   },
   {
    "duration": 11,
    "start_time": "2022-03-17T01:15:24.221Z"
   },
   {
    "duration": 9,
    "start_time": "2022-03-17T01:15:24.234Z"
   },
   {
    "duration": 9,
    "start_time": "2022-03-17T01:15:24.245Z"
   },
   {
    "duration": 13,
    "start_time": "2022-03-17T01:15:24.282Z"
   },
   {
    "duration": 10,
    "start_time": "2022-03-17T01:15:24.298Z"
   },
   {
    "duration": 12,
    "start_time": "2022-03-17T01:15:24.310Z"
   },
   {
    "duration": 10,
    "start_time": "2022-03-17T01:15:24.323Z"
   },
   {
    "duration": 49,
    "start_time": "2022-03-17T01:15:24.335Z"
   },
   {
    "duration": 12,
    "start_time": "2022-03-17T01:15:24.386Z"
   },
   {
    "duration": 10,
    "start_time": "2022-03-17T01:15:24.399Z"
   },
   {
    "duration": 10,
    "start_time": "2022-03-17T01:15:24.411Z"
   },
   {
    "duration": 13,
    "start_time": "2022-03-17T01:15:24.423Z"
   },
   {
    "duration": 6,
    "start_time": "2022-03-17T01:15:24.437Z"
   },
   {
    "duration": 16,
    "start_time": "2022-03-17T01:15:24.445Z"
   },
   {
    "duration": 8,
    "start_time": "2022-03-17T01:15:24.481Z"
   },
   {
    "duration": 9,
    "start_time": "2022-03-17T01:15:24.490Z"
   },
   {
    "duration": 11,
    "start_time": "2022-03-17T01:15:24.501Z"
   },
   {
    "duration": 10,
    "start_time": "2022-03-17T01:15:24.514Z"
   },
   {
    "duration": 10,
    "start_time": "2022-03-17T01:15:24.526Z"
   },
   {
    "duration": 5,
    "start_time": "2022-03-17T01:15:24.541Z"
   },
   {
    "duration": 7,
    "start_time": "2022-03-17T01:15:24.581Z"
   },
   {
    "duration": 3,
    "start_time": "2022-03-17T01:15:24.590Z"
   },
   {
    "duration": 7,
    "start_time": "2022-03-17T01:15:24.594Z"
   },
   {
    "duration": 10,
    "start_time": "2022-03-17T01:15:24.603Z"
   },
   {
    "duration": 2,
    "start_time": "2022-03-17T01:15:24.615Z"
   },
   {
    "duration": 7,
    "start_time": "2022-03-17T01:15:24.618Z"
   },
   {
    "duration": 9,
    "start_time": "2022-03-17T01:15:24.627Z"
   },
   {
    "duration": 46,
    "start_time": "2022-03-17T01:15:24.637Z"
   },
   {
    "duration": 5,
    "start_time": "2022-03-17T01:15:24.684Z"
   },
   {
    "duration": 8,
    "start_time": "2022-03-17T01:15:24.690Z"
   },
   {
    "duration": 4,
    "start_time": "2022-03-17T01:15:24.700Z"
   },
   {
    "duration": 4,
    "start_time": "2022-03-17T01:15:24.706Z"
   },
   {
    "duration": 9,
    "start_time": "2022-03-17T01:15:24.711Z"
   },
   {
    "duration": 12,
    "start_time": "2022-03-17T01:15:24.721Z"
   },
   {
    "duration": 4,
    "start_time": "2022-03-17T01:15:24.734Z"
   },
   {
    "duration": 5,
    "start_time": "2022-03-17T01:15:24.740Z"
   },
   {
    "duration": 9,
    "start_time": "2022-03-17T01:15:24.747Z"
   },
   {
    "duration": 25,
    "start_time": "2022-03-17T01:15:24.757Z"
   },
   {
    "duration": 6,
    "start_time": "2022-03-17T01:15:24.783Z"
   },
   {
    "duration": 28,
    "start_time": "2022-03-17T01:15:24.790Z"
   },
   {
    "duration": 13,
    "start_time": "2022-03-17T01:15:24.820Z"
   },
   {
    "duration": 11,
    "start_time": "2022-03-17T01:15:24.835Z"
   },
   {
    "duration": 8,
    "start_time": "2022-03-17T01:15:24.847Z"
   },
   {
    "duration": 11,
    "start_time": "2022-03-17T01:15:24.857Z"
   },
   {
    "duration": 12,
    "start_time": "2022-03-17T01:15:24.869Z"
   },
   {
    "duration": 9,
    "start_time": "2022-03-17T01:15:24.883Z"
   },
   {
    "duration": 3,
    "start_time": "2022-03-17T01:15:24.894Z"
   },
   {
    "duration": 8,
    "start_time": "2022-03-17T01:15:24.899Z"
   },
   {
    "duration": 3,
    "start_time": "2022-03-17T01:15:24.909Z"
   },
   {
    "duration": 5,
    "start_time": "2022-03-17T01:15:24.914Z"
   },
   {
    "duration": 15,
    "start_time": "2022-03-17T01:15:24.921Z"
   },
   {
    "duration": 6,
    "start_time": "2022-03-17T01:15:24.938Z"
   },
   {
    "duration": 20,
    "start_time": "2022-03-17T01:15:24.981Z"
   },
   {
    "duration": 8,
    "start_time": "2022-03-17T01:15:25.002Z"
   },
   {
    "duration": 9,
    "start_time": "2022-03-17T01:15:25.011Z"
   },
   {
    "duration": 7,
    "start_time": "2022-03-17T01:15:25.022Z"
   },
   {
    "duration": 7,
    "start_time": "2022-03-17T01:15:25.031Z"
   },
   {
    "duration": 45,
    "start_time": "2022-03-17T01:15:25.040Z"
   },
   {
    "duration": 7,
    "start_time": "2022-03-17T01:15:25.087Z"
   },
   {
    "duration": 7,
    "start_time": "2022-03-17T01:15:25.096Z"
   },
   {
    "duration": 9,
    "start_time": "2022-03-17T01:15:25.105Z"
   },
   {
    "duration": 4,
    "start_time": "2022-03-17T01:15:25.116Z"
   },
   {
    "duration": 5,
    "start_time": "2022-03-17T01:15:25.121Z"
   },
   {
    "duration": 6,
    "start_time": "2022-03-17T01:15:25.128Z"
   },
   {
    "duration": 10,
    "start_time": "2022-03-17T01:15:25.183Z"
   },
   {
    "duration": 6,
    "start_time": "2022-03-17T01:15:25.195Z"
   },
   {
    "duration": 5,
    "start_time": "2022-03-17T01:15:25.202Z"
   },
   {
    "duration": 12,
    "start_time": "2022-03-17T01:15:25.209Z"
   },
   {
    "duration": 10,
    "start_time": "2022-03-17T01:15:25.223Z"
   },
   {
    "duration": 12,
    "start_time": "2022-03-17T01:15:25.234Z"
   },
   {
    "duration": 43,
    "start_time": "2022-03-17T01:15:25.248Z"
   },
   {
    "duration": 19,
    "start_time": "2022-03-17T01:15:25.292Z"
   },
   {
    "duration": 3,
    "start_time": "2022-03-17T01:15:25.313Z"
   },
   {
    "duration": 7,
    "start_time": "2022-03-17T01:15:25.318Z"
   },
   {
    "duration": 11,
    "start_time": "2022-03-17T01:15:25.327Z"
   },
   {
    "duration": 4,
    "start_time": "2022-03-17T01:15:25.339Z"
   },
   {
    "duration": 36,
    "start_time": "2022-03-17T01:15:25.345Z"
   },
   {
    "duration": 5,
    "start_time": "2022-03-17T01:15:25.383Z"
   },
   {
    "duration": 8,
    "start_time": "2022-03-17T01:15:25.390Z"
   },
   {
    "duration": 9,
    "start_time": "2022-03-17T01:15:25.399Z"
   },
   {
    "duration": 15,
    "start_time": "2022-03-17T01:15:25.410Z"
   },
   {
    "duration": 22,
    "start_time": "2022-03-17T01:15:25.426Z"
   },
   {
    "duration": 6,
    "start_time": "2022-03-17T01:15:25.450Z"
   },
   {
    "duration": 23,
    "start_time": "2022-03-17T01:15:25.458Z"
   },
   {
    "duration": 2,
    "start_time": "2022-03-17T01:15:25.483Z"
   },
   {
    "duration": 11,
    "start_time": "2022-03-17T01:15:25.486Z"
   },
   {
    "duration": 11,
    "start_time": "2022-03-17T01:15:25.498Z"
   },
   {
    "duration": 7,
    "start_time": "2022-03-17T01:15:25.510Z"
   },
   {
    "duration": 19,
    "start_time": "2022-03-17T01:15:25.519Z"
   },
   {
    "duration": 2,
    "start_time": "2022-03-17T01:15:25.540Z"
   },
   {
    "duration": 13,
    "start_time": "2022-03-17T01:15:25.544Z"
   },
   {
    "duration": 28,
    "start_time": "2022-03-17T01:15:25.559Z"
   },
   {
    "duration": 8,
    "start_time": "2022-03-17T01:15:25.589Z"
   },
   {
    "duration": 5,
    "start_time": "2022-03-17T01:15:25.599Z"
   },
   {
    "duration": 3,
    "start_time": "2022-03-17T01:15:25.606Z"
   },
   {
    "duration": 9,
    "start_time": "2022-03-17T01:15:25.610Z"
   },
   {
    "duration": 9,
    "start_time": "2022-03-17T01:15:25.621Z"
   },
   {
    "duration": 14,
    "start_time": "2022-03-17T01:15:25.631Z"
   },
   {
    "duration": 55,
    "start_time": "2022-03-17T01:15:25.647Z"
   },
   {
    "duration": 116,
    "start_time": "2022-03-17T01:15:25.704Z"
   },
   {
    "duration": -726,
    "start_time": "2022-03-17T01:15:26.548Z"
   },
   {
    "duration": -735,
    "start_time": "2022-03-17T01:15:26.558Z"
   },
   {
    "duration": 13,
    "start_time": "2022-03-17T01:15:43.351Z"
   },
   {
    "duration": 12,
    "start_time": "2022-03-17T01:17:59.825Z"
   },
   {
    "duration": 13,
    "start_time": "2022-03-17T01:21:14.263Z"
   },
   {
    "duration": 101,
    "start_time": "2022-03-17T01:30:25.041Z"
   },
   {
    "duration": 21,
    "start_time": "2022-03-17T01:30:37.062Z"
   },
   {
    "duration": 125,
    "start_time": "2022-03-17T01:39:21.776Z"
   },
   {
    "duration": 16,
    "start_time": "2022-03-17T01:39:33.774Z"
   },
   {
    "duration": 27,
    "start_time": "2022-03-17T02:01:12.518Z"
   },
   {
    "duration": 26,
    "start_time": "2022-03-17T02:02:47.023Z"
   },
   {
    "duration": 357,
    "start_time": "2022-03-17T02:17:52.418Z"
   },
   {
    "duration": 718,
    "start_time": "2022-03-17T02:18:03.063Z"
   },
   {
    "duration": 37,
    "start_time": "2022-03-17T02:19:02.156Z"
   },
   {
    "duration": 34,
    "start_time": "2022-03-17T02:20:14.321Z"
   },
   {
    "duration": 36,
    "start_time": "2022-03-17T02:20:35.738Z"
   },
   {
    "duration": 36,
    "start_time": "2022-03-17T02:21:02.786Z"
   },
   {
    "duration": 22,
    "start_time": "2022-03-17T02:21:22.019Z"
   },
   {
    "duration": 695,
    "start_time": "2022-03-17T02:22:07.132Z"
   },
   {
    "duration": 34,
    "start_time": "2022-03-17T02:23:21.553Z"
   },
   {
    "duration": 703,
    "start_time": "2022-03-17T02:23:27.695Z"
   },
   {
    "duration": 89,
    "start_time": "2022-03-17T02:24:07.092Z"
   },
   {
    "duration": 34,
    "start_time": "2022-03-17T02:24:15.114Z"
   },
   {
    "duration": 605,
    "start_time": "2022-06-17T23:23:58.298Z"
   },
   {
    "duration": 7,
    "start_time": "2022-06-17T23:23:58.905Z"
   },
   {
    "duration": 13,
    "start_time": "2022-06-17T23:23:58.913Z"
   },
   {
    "duration": 14,
    "start_time": "2022-06-17T23:23:58.928Z"
   },
   {
    "duration": 9,
    "start_time": "2022-06-17T23:23:58.943Z"
   },
   {
    "duration": 11,
    "start_time": "2022-06-17T23:23:58.953Z"
   },
   {
    "duration": 13,
    "start_time": "2022-06-17T23:23:58.966Z"
   },
   {
    "duration": 9,
    "start_time": "2022-06-17T23:23:58.981Z"
   },
   {
    "duration": 42,
    "start_time": "2022-06-17T23:23:58.991Z"
   },
   {
    "duration": 6,
    "start_time": "2022-06-17T23:23:59.037Z"
   },
   {
    "duration": 10,
    "start_time": "2022-06-17T23:23:59.045Z"
   },
   {
    "duration": 9,
    "start_time": "2022-06-17T23:23:59.057Z"
   },
   {
    "duration": 6,
    "start_time": "2022-06-17T23:23:59.068Z"
   },
   {
    "duration": 8,
    "start_time": "2022-06-17T23:23:59.075Z"
   },
   {
    "duration": 47,
    "start_time": "2022-06-17T23:23:59.085Z"
   },
   {
    "duration": 5,
    "start_time": "2022-06-17T23:23:59.133Z"
   },
   {
    "duration": 16,
    "start_time": "2022-06-17T23:23:59.139Z"
   },
   {
    "duration": 7,
    "start_time": "2022-06-17T23:23:59.157Z"
   },
   {
    "duration": 8,
    "start_time": "2022-06-17T23:23:59.165Z"
   },
   {
    "duration": 10,
    "start_time": "2022-06-17T23:23:59.174Z"
   },
   {
    "duration": 14,
    "start_time": "2022-06-17T23:23:59.185Z"
   },
   {
    "duration": 30,
    "start_time": "2022-06-17T23:23:59.201Z"
   },
   {
    "duration": 11,
    "start_time": "2022-06-17T23:23:59.233Z"
   },
   {
    "duration": 23,
    "start_time": "2022-06-17T23:23:59.246Z"
   },
   {
    "duration": 13,
    "start_time": "2022-06-17T23:23:59.270Z"
   },
   {
    "duration": 14,
    "start_time": "2022-06-17T23:23:59.285Z"
   },
   {
    "duration": 11,
    "start_time": "2022-06-17T23:23:59.300Z"
   },
   {
    "duration": 3,
    "start_time": "2022-06-17T23:23:59.315Z"
   },
   {
    "duration": 9,
    "start_time": "2022-06-17T23:23:59.320Z"
   },
   {
    "duration": 11,
    "start_time": "2022-06-17T23:23:59.331Z"
   },
   {
    "duration": 5,
    "start_time": "2022-06-17T23:23:59.343Z"
   },
   {
    "duration": 11,
    "start_time": "2022-06-17T23:23:59.349Z"
   },
   {
    "duration": 8,
    "start_time": "2022-06-17T23:23:59.362Z"
   },
   {
    "duration": 7,
    "start_time": "2022-06-17T23:23:59.371Z"
   },
   {
    "duration": 4,
    "start_time": "2022-06-17T23:23:59.380Z"
   },
   {
    "duration": 12,
    "start_time": "2022-06-17T23:23:59.386Z"
   },
   {
    "duration": 31,
    "start_time": "2022-06-17T23:23:59.399Z"
   },
   {
    "duration": 22,
    "start_time": "2022-06-17T23:23:59.432Z"
   },
   {
    "duration": 8,
    "start_time": "2022-06-17T23:23:59.456Z"
   },
   {
    "duration": 13,
    "start_time": "2022-06-17T23:23:59.466Z"
   },
   {
    "duration": 21,
    "start_time": "2022-06-17T23:23:59.480Z"
   },
   {
    "duration": 16,
    "start_time": "2022-06-17T23:23:59.502Z"
   },
   {
    "duration": 20,
    "start_time": "2022-06-17T23:23:59.519Z"
   },
   {
    "duration": 4,
    "start_time": "2022-06-17T23:23:59.540Z"
   },
   {
    "duration": 10,
    "start_time": "2022-06-17T23:23:59.545Z"
   },
   {
    "duration": 6,
    "start_time": "2022-06-17T23:23:59.556Z"
   },
   {
    "duration": 8,
    "start_time": "2022-06-17T23:23:59.563Z"
   },
   {
    "duration": 5,
    "start_time": "2022-06-17T23:23:59.573Z"
   },
   {
    "duration": 9,
    "start_time": "2022-06-17T23:23:59.580Z"
   },
   {
    "duration": 3,
    "start_time": "2022-06-17T23:23:59.590Z"
   },
   {
    "duration": 34,
    "start_time": "2022-06-17T23:23:59.595Z"
   },
   {
    "duration": 21,
    "start_time": "2022-06-17T23:23:59.631Z"
   },
   {
    "duration": 6,
    "start_time": "2022-06-17T23:23:59.653Z"
   },
   {
    "duration": 21,
    "start_time": "2022-06-17T23:23:59.661Z"
   },
   {
    "duration": 6,
    "start_time": "2022-06-17T23:23:59.683Z"
   },
   {
    "duration": 36,
    "start_time": "2022-06-17T23:23:59.691Z"
   },
   {
    "duration": 7,
    "start_time": "2022-06-17T23:23:59.729Z"
   },
   {
    "duration": 7,
    "start_time": "2022-06-17T23:23:59.737Z"
   },
   {
    "duration": 6,
    "start_time": "2022-06-17T23:23:59.745Z"
   },
   {
    "duration": 7,
    "start_time": "2022-06-17T23:23:59.753Z"
   },
   {
    "duration": 6,
    "start_time": "2022-06-17T23:23:59.762Z"
   },
   {
    "duration": 9,
    "start_time": "2022-06-17T23:23:59.769Z"
   },
   {
    "duration": 2,
    "start_time": "2022-06-17T23:23:59.780Z"
   },
   {
    "duration": 5,
    "start_time": "2022-06-17T23:23:59.784Z"
   },
   {
    "duration": 5,
    "start_time": "2022-06-17T23:23:59.827Z"
   },
   {
    "duration": 11,
    "start_time": "2022-06-17T23:23:59.833Z"
   },
   {
    "duration": 9,
    "start_time": "2022-06-17T23:23:59.846Z"
   },
   {
    "duration": 19,
    "start_time": "2022-06-17T23:23:59.856Z"
   },
   {
    "duration": 11,
    "start_time": "2022-06-17T23:23:59.877Z"
   },
   {
    "duration": 11,
    "start_time": "2022-06-17T23:23:59.890Z"
   },
   {
    "duration": 11,
    "start_time": "2022-06-17T23:23:59.926Z"
   },
   {
    "duration": 18,
    "start_time": "2022-06-17T23:23:59.942Z"
   },
   {
    "duration": 2,
    "start_time": "2022-06-17T23:23:59.962Z"
   },
   {
    "duration": 8,
    "start_time": "2022-06-17T23:23:59.966Z"
   },
   {
    "duration": 10,
    "start_time": "2022-06-17T23:23:59.976Z"
   },
   {
    "duration": 40,
    "start_time": "2022-06-17T23:23:59.987Z"
   },
   {
    "duration": 15,
    "start_time": "2022-06-17T23:24:00.029Z"
   },
   {
    "duration": 6,
    "start_time": "2022-06-17T23:24:00.045Z"
   },
   {
    "duration": 12,
    "start_time": "2022-06-17T23:24:00.052Z"
   },
   {
    "duration": 13,
    "start_time": "2022-06-17T23:24:00.066Z"
   },
   {
    "duration": 16,
    "start_time": "2022-06-17T23:24:00.081Z"
   },
   {
    "duration": 23,
    "start_time": "2022-06-17T23:24:00.098Z"
   },
   {
    "duration": 15,
    "start_time": "2022-06-17T23:24:00.122Z"
   },
   {
    "duration": 13,
    "start_time": "2022-06-17T23:24:00.138Z"
   },
   {
    "duration": 10,
    "start_time": "2022-06-17T23:24:00.153Z"
   },
   {
    "duration": 15,
    "start_time": "2022-06-17T23:24:00.165Z"
   },
   {
    "duration": 10,
    "start_time": "2022-06-17T23:24:00.181Z"
   },
   {
    "duration": 12,
    "start_time": "2022-06-17T23:24:00.193Z"
   },
   {
    "duration": 27,
    "start_time": "2022-06-17T23:24:00.206Z"
   },
   {
    "duration": 25,
    "start_time": "2022-06-17T23:24:00.235Z"
   },
   {
    "duration": 33,
    "start_time": "2022-06-17T23:24:00.262Z"
   },
   {
    "duration": 36,
    "start_time": "2022-06-17T23:24:00.296Z"
   },
   {
    "duration": 16,
    "start_time": "2022-06-17T23:24:00.333Z"
   },
   {
    "duration": 23,
    "start_time": "2022-06-17T23:24:00.351Z"
   },
   {
    "duration": 38,
    "start_time": "2022-06-17T23:24:00.375Z"
   },
   {
    "duration": 40,
    "start_time": "2022-06-17T23:24:00.415Z"
   },
   {
    "duration": 55,
    "start_time": "2022-06-17T23:24:00.457Z"
   },
   {
    "duration": 51,
    "start_time": "2022-06-17T23:24:00.514Z"
   },
   {
    "duration": 90,
    "start_time": "2022-06-17T23:24:08.009Z"
   },
   {
    "duration": 33,
    "start_time": "2022-06-17T23:28:01.363Z"
   }
  ],
  "kernelspec": {
   "display_name": "Python 3 (ipykernel)",
   "language": "python",
   "name": "python3"
  },
  "language_info": {
   "codemirror_mode": {
    "name": "ipython",
    "version": 3
   },
   "file_extension": ".py",
   "mimetype": "text/x-python",
   "name": "python",
   "nbconvert_exporter": "python",
   "pygments_lexer": "ipython3",
   "version": "3.9.5"
  },
  "toc": {
   "base_numbering": 1,
   "nav_menu": {},
   "number_sections": true,
   "sideBar": true,
   "skip_h1_title": true,
   "title_cell": "Table of Contents",
   "title_sidebar": "Contents",
   "toc_cell": false,
   "toc_position": {},
   "toc_section_display": true,
   "toc_window_display": false
  }
 },
 "nbformat": 4,
 "nbformat_minor": 2
}
