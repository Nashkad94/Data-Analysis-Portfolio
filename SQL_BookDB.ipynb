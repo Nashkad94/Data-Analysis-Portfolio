{
 "cells": [
  {
   "cell_type": "markdown",
   "metadata": {},
   "source": [
    "# Analyzing Book Databases"
   ]
  },
  {
   "cell_type": "markdown",
   "metadata": {},
   "source": [
    "This report will analyze 4 databases using SQL in order to generate a value proposition for a new app geared towards book lovers. \n",
    "The 4 databases are:\n",
    "- books:\n",
    "    book_id\n",
    "    author_id\n",
    "    title\n",
    "    num_pages — number of pages\n",
    "    publication_date\n",
    "    publisher_id\n",
    "\n",
    "- authors:\n",
    "    Contains data on authors:\n",
    "    author_id\n",
    "    author\n",
    "\n",
    "- publishers:\n",
    "    Contains data on publishers:\n",
    "    publisher_id\n",
    "    publisher\n",
    "\n",
    "- ratings:\n",
    "    Contains data on user ratings:\n",
    "    rating_id\n",
    "    book_id\n",
    "    username — the name of the user who rated the book\n",
    "    rating\n",
    "\n",
    "- reviews:\n",
    "    Contains data on customer reviews:\n",
    "    review_id\n",
    "    book_id\n",
    "    username — the name of the user who reviewed the book\n",
    "    text — the text of the review\n",
    "    \n",
    " "
   ]
  },
  {
   "cell_type": "code",
   "execution_count": 1,
   "metadata": {},
   "outputs": [],
   "source": [
    "# import libraries\n",
    "import pandas as pd\n",
    "from sqlalchemy import create_engine\n",
    "\n",
    "\n"
   ]
  },
  {
   "cell_type": "code",
   "execution_count": 2,
   "metadata": {},
   "outputs": [],
   "source": [
    "db_config = {'user': 'praktikum_student',         # user name\n",
    "             'pwd': 'Sdf4$2;d-d30pp', # password\n",
    "             'host': 'rc1b-wcoijxj3yxfsf3fs.mdb.yandexcloud.net',\n",
    "             'port': 6432,              # connection port\n",
    "             'db': 'data-analyst-final-project-db'}          # the name of the data base\n",
    "\n",
    "connection_string = 'postgresql://{}:{}@{}:{}/{}'.format(db_config['user'],\n",
    "                                                                     db_config['pwd'],\n",
    "                                                                       db_config['host'],\n",
    "                                                                       db_config['port'],\n",
    "                                                                       db_config['db'])\n",
    "\n",
    "engine = create_engine(connection_string, connect_args={'sslmode':'require'})"
   ]
  },
  {
   "cell_type": "markdown",
   "metadata": {},
   "source": [
    "Let's first study each of the individual tables by printing the first few rows to become more familiar with what they contain."
   ]
  },
  {
   "cell_type": "code",
   "execution_count": 3,
   "metadata": {},
   "outputs": [
    {
     "data": {
      "text/html": [
       "<div>\n",
       "<style scoped>\n",
       "    .dataframe tbody tr th:only-of-type {\n",
       "        vertical-align: middle;\n",
       "    }\n",
       "\n",
       "    .dataframe tbody tr th {\n",
       "        vertical-align: top;\n",
       "    }\n",
       "\n",
       "    .dataframe thead th {\n",
       "        text-align: right;\n",
       "    }\n",
       "</style>\n",
       "<table border=\"1\" class=\"dataframe\">\n",
       "  <thead>\n",
       "    <tr style=\"text-align: right;\">\n",
       "      <th></th>\n",
       "      <th>author_id</th>\n",
       "      <th>author</th>\n",
       "      <th>table_size</th>\n",
       "    </tr>\n",
       "  </thead>\n",
       "  <tbody>\n",
       "    <tr>\n",
       "      <th>0</th>\n",
       "      <td>1</td>\n",
       "      <td>A.S. Byatt</td>\n",
       "      <td>636</td>\n",
       "    </tr>\n",
       "  </tbody>\n",
       "</table>\n",
       "</div>"
      ],
      "text/plain": [
       "   author_id      author  table_size\n",
       "0          1  A.S. Byatt         636"
      ]
     },
     "execution_count": 3,
     "metadata": {},
     "output_type": "execute_result"
    }
   ],
   "source": [
    "#the authors database\n",
    "query= 'SELECT *, COUNT(*) OVER() AS table_size FROM authors LIMIT 1'\n",
    "\n",
    "authors= pd.io.sql.read_sql(query, con = engine)\n",
    "authors.head()"
   ]
  },
  {
   "cell_type": "code",
   "execution_count": 4,
   "metadata": {},
   "outputs": [
    {
     "data": {
      "text/html": [
       "<div>\n",
       "<style scoped>\n",
       "    .dataframe tbody tr th:only-of-type {\n",
       "        vertical-align: middle;\n",
       "    }\n",
       "\n",
       "    .dataframe tbody tr th {\n",
       "        vertical-align: top;\n",
       "    }\n",
       "\n",
       "    .dataframe thead th {\n",
       "        text-align: right;\n",
       "    }\n",
       "</style>\n",
       "<table border=\"1\" class=\"dataframe\">\n",
       "  <thead>\n",
       "    <tr style=\"text-align: right;\">\n",
       "      <th></th>\n",
       "      <th>publisher_id</th>\n",
       "      <th>publisher</th>\n",
       "      <th>table_size</th>\n",
       "    </tr>\n",
       "  </thead>\n",
       "  <tbody>\n",
       "    <tr>\n",
       "      <th>0</th>\n",
       "      <td>1</td>\n",
       "      <td>Ace</td>\n",
       "      <td>340</td>\n",
       "    </tr>\n",
       "  </tbody>\n",
       "</table>\n",
       "</div>"
      ],
      "text/plain": [
       "   publisher_id publisher  table_size\n",
       "0             1       Ace         340"
      ]
     },
     "execution_count": 4,
     "metadata": {},
     "output_type": "execute_result"
    }
   ],
   "source": [
    "#the publishers database\n",
    "query= 'SELECT *, COUNT(*) OVER() AS table_size FROM publishers LIMIT 1'\n",
    "\n",
    "publishers= pd.io.sql.read_sql(query, con = engine)\n",
    "publishers.head()"
   ]
  },
  {
   "cell_type": "code",
   "execution_count": 5,
   "metadata": {},
   "outputs": [
    {
     "data": {
      "text/html": [
       "<div>\n",
       "<style scoped>\n",
       "    .dataframe tbody tr th:only-of-type {\n",
       "        vertical-align: middle;\n",
       "    }\n",
       "\n",
       "    .dataframe tbody tr th {\n",
       "        vertical-align: top;\n",
       "    }\n",
       "\n",
       "    .dataframe thead th {\n",
       "        text-align: right;\n",
       "    }\n",
       "</style>\n",
       "<table border=\"1\" class=\"dataframe\">\n",
       "  <thead>\n",
       "    <tr style=\"text-align: right;\">\n",
       "      <th></th>\n",
       "      <th>rating_id</th>\n",
       "      <th>book_id</th>\n",
       "      <th>username</th>\n",
       "      <th>rating</th>\n",
       "      <th>table_size</th>\n",
       "    </tr>\n",
       "  </thead>\n",
       "  <tbody>\n",
       "    <tr>\n",
       "      <th>0</th>\n",
       "      <td>1</td>\n",
       "      <td>1</td>\n",
       "      <td>ryanfranco</td>\n",
       "      <td>4</td>\n",
       "      <td>6456</td>\n",
       "    </tr>\n",
       "  </tbody>\n",
       "</table>\n",
       "</div>"
      ],
      "text/plain": [
       "   rating_id  book_id    username  rating  table_size\n",
       "0          1        1  ryanfranco       4        6456"
      ]
     },
     "execution_count": 5,
     "metadata": {},
     "output_type": "execute_result"
    }
   ],
   "source": [
    "#the ratings database\n",
    "query= 'SELECT *, COUNT(*) OVER() AS table_size FROM ratings LIMIT 1'\n",
    "\n",
    "ratings= pd.io.sql.read_sql(query, con = engine)\n",
    "ratings.head()"
   ]
  },
  {
   "cell_type": "code",
   "execution_count": 6,
   "metadata": {},
   "outputs": [
    {
     "data": {
      "text/html": [
       "<div>\n",
       "<style scoped>\n",
       "    .dataframe tbody tr th:only-of-type {\n",
       "        vertical-align: middle;\n",
       "    }\n",
       "\n",
       "    .dataframe tbody tr th {\n",
       "        vertical-align: top;\n",
       "    }\n",
       "\n",
       "    .dataframe thead th {\n",
       "        text-align: right;\n",
       "    }\n",
       "</style>\n",
       "<table border=\"1\" class=\"dataframe\">\n",
       "  <thead>\n",
       "    <tr style=\"text-align: right;\">\n",
       "      <th></th>\n",
       "      <th>review_id</th>\n",
       "      <th>book_id</th>\n",
       "      <th>username</th>\n",
       "      <th>text</th>\n",
       "      <th>table_size</th>\n",
       "    </tr>\n",
       "  </thead>\n",
       "  <tbody>\n",
       "    <tr>\n",
       "      <th>0</th>\n",
       "      <td>1</td>\n",
       "      <td>1</td>\n",
       "      <td>brandtandrea</td>\n",
       "      <td>Mention society tell send professor analysis. ...</td>\n",
       "      <td>2793</td>\n",
       "    </tr>\n",
       "  </tbody>\n",
       "</table>\n",
       "</div>"
      ],
      "text/plain": [
       "   review_id  book_id      username  \\\n",
       "0          1        1  brandtandrea   \n",
       "\n",
       "                                                text  table_size  \n",
       "0  Mention society tell send professor analysis. ...        2793  "
      ]
     },
     "execution_count": 6,
     "metadata": {},
     "output_type": "execute_result"
    }
   ],
   "source": [
    "#the reviews database\n",
    "query= 'SELECT *, COUNT(*) OVER() AS table_size FROM reviews LIMIT 1'\n",
    "\n",
    "reviews= pd.io.sql.read_sql(query, con = engine)\n",
    "reviews.head()"
   ]
  },
  {
   "cell_type": "code",
   "execution_count": 7,
   "metadata": {},
   "outputs": [
    {
     "data": {
      "text/html": [
       "<div>\n",
       "<style scoped>\n",
       "    .dataframe tbody tr th:only-of-type {\n",
       "        vertical-align: middle;\n",
       "    }\n",
       "\n",
       "    .dataframe tbody tr th {\n",
       "        vertical-align: top;\n",
       "    }\n",
       "\n",
       "    .dataframe thead th {\n",
       "        text-align: right;\n",
       "    }\n",
       "</style>\n",
       "<table border=\"1\" class=\"dataframe\">\n",
       "  <thead>\n",
       "    <tr style=\"text-align: right;\">\n",
       "      <th></th>\n",
       "      <th>book_id</th>\n",
       "      <th>author_id</th>\n",
       "      <th>title</th>\n",
       "      <th>num_pages</th>\n",
       "      <th>publication_date</th>\n",
       "      <th>publisher_id</th>\n",
       "      <th>table_size</th>\n",
       "    </tr>\n",
       "  </thead>\n",
       "  <tbody>\n",
       "    <tr>\n",
       "      <th>0</th>\n",
       "      <td>1</td>\n",
       "      <td>546</td>\n",
       "      <td>'Salem's Lot</td>\n",
       "      <td>594</td>\n",
       "      <td>2005-11-01</td>\n",
       "      <td>93</td>\n",
       "      <td>1000</td>\n",
       "    </tr>\n",
       "  </tbody>\n",
       "</table>\n",
       "</div>"
      ],
      "text/plain": [
       "   book_id  author_id         title  num_pages publication_date  publisher_id  \\\n",
       "0        1        546  'Salem's Lot        594       2005-11-01            93   \n",
       "\n",
       "   table_size  \n",
       "0        1000  "
      ]
     },
     "execution_count": 7,
     "metadata": {},
     "output_type": "execute_result"
    }
   ],
   "source": [
    "#the books database\n",
    "query= 'SELECT *, COUNT(*) OVER() AS table_size FROM books LIMIT 1'\n",
    "\n",
    "books= pd.io.sql.read_sql(query, con = engine)\n",
    "books"
   ]
  },
  {
   "cell_type": "markdown",
   "metadata": {},
   "source": [
    "There are a few relationships between the tables, namely the book_id field that is present in the books, ratings and reviews tables. As well as the publisher_id that is found in the book and publisher tables. Author_id is found in the book and author tables. \n",
    "\n",
    "The ratings table is our largest with a size of 6456."
   ]
  },
  {
   "cell_type": "markdown",
   "metadata": {},
   "source": [
    "# Task 1\n",
    "My first task is to find the number of books released after January 1, 2000.\n"
   ]
  },
  {
   "cell_type": "code",
   "execution_count": 10,
   "metadata": {
    "scrolled": true
   },
   "outputs": [
    {
     "data": {
      "text/html": [
       "<div>\n",
       "<style scoped>\n",
       "    .dataframe tbody tr th:only-of-type {\n",
       "        vertical-align: middle;\n",
       "    }\n",
       "\n",
       "    .dataframe tbody tr th {\n",
       "        vertical-align: top;\n",
       "    }\n",
       "\n",
       "    .dataframe thead th {\n",
       "        text-align: right;\n",
       "    }\n",
       "</style>\n",
       "<table border=\"1\" class=\"dataframe\">\n",
       "  <thead>\n",
       "    <tr style=\"text-align: right;\">\n",
       "      <th></th>\n",
       "      <th>count</th>\n",
       "    </tr>\n",
       "  </thead>\n",
       "  <tbody>\n",
       "    <tr>\n",
       "      <th>0</th>\n",
       "      <td>819</td>\n",
       "    </tr>\n",
       "  </tbody>\n",
       "</table>\n",
       "</div>"
      ],
      "text/plain": [
       "   count\n",
       "0    819"
      ]
     },
     "execution_count": 10,
     "metadata": {},
     "output_type": "execute_result"
    }
   ],
   "source": [
    "#TASK 1\n",
    "query=\"SELECT COUNT(book_id) AS count FROM books WHERE publication_date >'2000-01-01'\"\n",
    "\n",
    "book_count=pd.io.sql.read_sql(query, con = engine)\n",
    "book_count"
   ]
  },
  {
   "cell_type": "markdown",
   "metadata": {},
   "source": [
    "## Task 1 Conclusion\n",
    "There are 819 books that were published after January 1, 2008. That is the majority of the books database that holds 1000 books."
   ]
  },
  {
   "cell_type": "markdown",
   "metadata": {},
   "source": [
    "# Task 2\n",
    "The next query will find the number of user reviews and the average rating for each book. "
   ]
  },
  {
   "cell_type": "code",
   "execution_count": 11,
   "metadata": {},
   "outputs": [
    {
     "data": {
      "text/html": [
       "<div>\n",
       "<style scoped>\n",
       "    .dataframe tbody tr th:only-of-type {\n",
       "        vertical-align: middle;\n",
       "    }\n",
       "\n",
       "    .dataframe tbody tr th {\n",
       "        vertical-align: top;\n",
       "    }\n",
       "\n",
       "    .dataframe thead th {\n",
       "        text-align: right;\n",
       "    }\n",
       "</style>\n",
       "<table border=\"1\" class=\"dataframe\">\n",
       "  <thead>\n",
       "    <tr style=\"text-align: right;\">\n",
       "      <th></th>\n",
       "      <th>book_id</th>\n",
       "      <th>count_reviews</th>\n",
       "      <th>avg_rating</th>\n",
       "    </tr>\n",
       "  </thead>\n",
       "  <tbody>\n",
       "    <tr>\n",
       "      <th>0</th>\n",
       "      <td>1</td>\n",
       "      <td>2</td>\n",
       "      <td>3.666667</td>\n",
       "    </tr>\n",
       "    <tr>\n",
       "      <th>1</th>\n",
       "      <td>2</td>\n",
       "      <td>1</td>\n",
       "      <td>2.500000</td>\n",
       "    </tr>\n",
       "    <tr>\n",
       "      <th>2</th>\n",
       "      <td>3</td>\n",
       "      <td>3</td>\n",
       "      <td>4.666667</td>\n",
       "    </tr>\n",
       "    <tr>\n",
       "      <th>3</th>\n",
       "      <td>4</td>\n",
       "      <td>2</td>\n",
       "      <td>4.500000</td>\n",
       "    </tr>\n",
       "    <tr>\n",
       "      <th>4</th>\n",
       "      <td>5</td>\n",
       "      <td>4</td>\n",
       "      <td>4.000000</td>\n",
       "    </tr>\n",
       "    <tr>\n",
       "      <th>...</th>\n",
       "      <td>...</td>\n",
       "      <td>...</td>\n",
       "      <td>...</td>\n",
       "    </tr>\n",
       "    <tr>\n",
       "      <th>989</th>\n",
       "      <td>996</td>\n",
       "      <td>3</td>\n",
       "      <td>3.666667</td>\n",
       "    </tr>\n",
       "    <tr>\n",
       "      <th>990</th>\n",
       "      <td>997</td>\n",
       "      <td>3</td>\n",
       "      <td>3.400000</td>\n",
       "    </tr>\n",
       "    <tr>\n",
       "      <th>991</th>\n",
       "      <td>998</td>\n",
       "      <td>4</td>\n",
       "      <td>3.200000</td>\n",
       "    </tr>\n",
       "    <tr>\n",
       "      <th>992</th>\n",
       "      <td>999</td>\n",
       "      <td>2</td>\n",
       "      <td>4.500000</td>\n",
       "    </tr>\n",
       "    <tr>\n",
       "      <th>993</th>\n",
       "      <td>1000</td>\n",
       "      <td>4</td>\n",
       "      <td>3.833333</td>\n",
       "    </tr>\n",
       "  </tbody>\n",
       "</table>\n",
       "<p>994 rows × 3 columns</p>\n",
       "</div>"
      ],
      "text/plain": [
       "     book_id  count_reviews  avg_rating\n",
       "0          1              2    3.666667\n",
       "1          2              1    2.500000\n",
       "2          3              3    4.666667\n",
       "3          4              2    4.500000\n",
       "4          5              4    4.000000\n",
       "..       ...            ...         ...\n",
       "989      996              3    3.666667\n",
       "990      997              3    3.400000\n",
       "991      998              4    3.200000\n",
       "992      999              2    4.500000\n",
       "993     1000              4    3.833333\n",
       "\n",
       "[994 rows x 3 columns]"
      ]
     },
     "execution_count": 11,
     "metadata": {},
     "output_type": "execute_result"
    }
   ],
   "source": [
    "#TASK 2\n",
    "query=''' \n",
    "SELECT books.book_id AS book_id,\n",
    "    COUNT (DISTINCT reviews.review_id) AS count_reviews,\n",
    "    AVG(ratings.rating) AS avg_rating\n",
    "    FROM books INNER JOIN reviews ON reviews.book_id = books.book_id \n",
    "    INNER JOIN ratings ON ratings.book_id= books.book_id \n",
    "    GROUP BY books.book_id\n",
    "    ORDER BY books.book_id\n",
    "'''\n",
    "rev_review= pd.io.sql.read_sql(query, con=engine)\n",
    "rev_review"
   ]
  },
  {
   "cell_type": "markdown",
   "metadata": {},
   "source": [
    "## Task 2 Conclusion\n",
    "We have found the number of reviews and average rating for each book. For example book_id 1 has 2 reviews with an average rating of 3.6667."
   ]
  },
  {
   "cell_type": "markdown",
   "metadata": {},
   "source": [
    "# Task 3\n",
    "Next I will identify the publisher that has released the greatest number of books with more than 50 pages"
   ]
  },
  {
   "cell_type": "code",
   "execution_count": 13,
   "metadata": {
    "scrolled": true
   },
   "outputs": [
    {
     "data": {
      "text/html": [
       "<div>\n",
       "<style scoped>\n",
       "    .dataframe tbody tr th:only-of-type {\n",
       "        vertical-align: middle;\n",
       "    }\n",
       "\n",
       "    .dataframe tbody tr th {\n",
       "        vertical-align: top;\n",
       "    }\n",
       "\n",
       "    .dataframe thead th {\n",
       "        text-align: right;\n",
       "    }\n",
       "</style>\n",
       "<table border=\"1\" class=\"dataframe\">\n",
       "  <thead>\n",
       "    <tr style=\"text-align: right;\">\n",
       "      <th></th>\n",
       "      <th>publisher_id</th>\n",
       "      <th>publisher</th>\n",
       "      <th>count</th>\n",
       "    </tr>\n",
       "  </thead>\n",
       "  <tbody>\n",
       "    <tr>\n",
       "      <th>0</th>\n",
       "      <td>212</td>\n",
       "      <td>Penguin Books</td>\n",
       "      <td>42</td>\n",
       "    </tr>\n",
       "    <tr>\n",
       "      <th>1</th>\n",
       "      <td>309</td>\n",
       "      <td>Vintage</td>\n",
       "      <td>31</td>\n",
       "    </tr>\n",
       "    <tr>\n",
       "      <th>2</th>\n",
       "      <td>116</td>\n",
       "      <td>Grand Central Publishing</td>\n",
       "      <td>25</td>\n",
       "    </tr>\n",
       "  </tbody>\n",
       "</table>\n",
       "</div>"
      ],
      "text/plain": [
       "   publisher_id                 publisher  count\n",
       "0           212             Penguin Books     42\n",
       "1           309                   Vintage     31\n",
       "2           116  Grand Central Publishing     25"
      ]
     },
     "execution_count": 13,
     "metadata": {},
     "output_type": "execute_result"
    }
   ],
   "source": [
    "#TASK 3\n",
    "query= '''\n",
    "SELECT books.publisher_id,\n",
    "publishers.publisher,\n",
    "COUNT(book_id) AS count \n",
    "FROM books INNER JOIN publishers ON publishers.publisher_id = books.publisher_id\n",
    "WHERE num_pages > 50 \n",
    "GROUP BY books.publisher_id, publishers.publisher\n",
    "ORDER BY COUNT(book_id) DESC \n",
    "LIMIT 3\n",
    "'''\n",
    "\n",
    "greatest_pub= pd.io.sql.read_sql(query, con=engine)\n",
    "greatest_pub"
   ]
  },
  {
   "cell_type": "markdown",
   "metadata": {},
   "source": [
    "## Task 3 Conclusion\n",
    "The top three publishers that have released the greatest number of books with more than 50 pages is above, with Penguin Books (publisher_id 212) having released the greatest number with 42. "
   ]
  },
  {
   "cell_type": "markdown",
   "metadata": {},
   "source": [
    "# Task 4\n",
    "Identify the author with the highest average book rating: look only at books with at least 50 ratings. "
   ]
  },
  {
   "cell_type": "code",
   "execution_count": 14,
   "metadata": {},
   "outputs": [
    {
     "data": {
      "text/html": [
       "<div>\n",
       "<style scoped>\n",
       "    .dataframe tbody tr th:only-of-type {\n",
       "        vertical-align: middle;\n",
       "    }\n",
       "\n",
       "    .dataframe tbody tr th {\n",
       "        vertical-align: top;\n",
       "    }\n",
       "\n",
       "    .dataframe thead th {\n",
       "        text-align: right;\n",
       "    }\n",
       "</style>\n",
       "<table border=\"1\" class=\"dataframe\">\n",
       "  <thead>\n",
       "    <tr style=\"text-align: right;\">\n",
       "      <th></th>\n",
       "      <th>author</th>\n",
       "      <th>avg_rating</th>\n",
       "      <th>count</th>\n",
       "    </tr>\n",
       "  </thead>\n",
       "  <tbody>\n",
       "    <tr>\n",
       "      <th>0</th>\n",
       "      <td>J.K. Rowling/Mary GrandPré</td>\n",
       "      <td>4.283844</td>\n",
       "      <td>4</td>\n",
       "    </tr>\n",
       "    <tr>\n",
       "      <th>1</th>\n",
       "      <td>Markus Zusak/Cao Xuân Việt Khương</td>\n",
       "      <td>4.264151</td>\n",
       "      <td>1</td>\n",
       "    </tr>\n",
       "    <tr>\n",
       "      <th>2</th>\n",
       "      <td>J.R.R. Tolkien</td>\n",
       "      <td>4.258446</td>\n",
       "      <td>2</td>\n",
       "    </tr>\n",
       "  </tbody>\n",
       "</table>\n",
       "</div>"
      ],
      "text/plain": [
       "                              author  avg_rating  count\n",
       "0         J.K. Rowling/Mary GrandPré    4.283844      4\n",
       "1  Markus Zusak/Cao Xuân Việt Khương    4.264151      1\n",
       "2                     J.R.R. Tolkien    4.258446      2"
      ]
     },
     "execution_count": 14,
     "metadata": {},
     "output_type": "execute_result"
    }
   ],
   "source": [
    "#TASK 4\n",
    "query='''\n",
    "SELECT Sub.author,\n",
    "AVG(Sub.avg_rating) AS avg_rating,\n",
    "COUNT(DISTINCT Sub.book_id)\n",
    "FROM\n",
    "    (SELECT books.book_id,\n",
    "    authors.author AS author,\n",
    "    books.author_id,\n",
    "    AVG(ratings.rating) AS avg_rating\n",
    "    FROM books INNER JOIN ratings ON ratings.book_id= books.book_id \n",
    "    INNER JOIN authors ON authors.author_id = books.author_id\n",
    "    GROUP BY authors.author, books.book_id\n",
    "    HAVING COUNT(DISTINCT ratings.rating_id) >=50 \n",
    "    ORDER BY avg_rating DESC) AS Sub\n",
    "GROUP BY Sub.author\n",
    "ORDER BY avg_rating DESC\n",
    "LIMIT 3\n",
    "'''\n",
    "rev_4=pd.io.sql.read_sql(query, con=engine)\n",
    "rev_4"
   ]
  },
  {
   "cell_type": "markdown",
   "metadata": {},
   "source": [
    "## Task 4 Conclusion\n",
    "\n",
    "The top 3 authors (with at least 50 ratings) with the highest average book ratings are shown above with J.K. Rowling/ Mary GrandePre  having the highest rating of 4.28"
   ]
  },
  {
   "cell_type": "markdown",
   "metadata": {},
   "source": [
    "# Task 5\n",
    "Find the average number of text reviews among users who rated more than 50 books"
   ]
  },
  {
   "cell_type": "code",
   "execution_count": 15,
   "metadata": {},
   "outputs": [
    {
     "data": {
      "text/html": [
       "<div>\n",
       "<style scoped>\n",
       "    .dataframe tbody tr th:only-of-type {\n",
       "        vertical-align: middle;\n",
       "    }\n",
       "\n",
       "    .dataframe tbody tr th {\n",
       "        vertical-align: top;\n",
       "    }\n",
       "\n",
       "    .dataframe thead th {\n",
       "        text-align: right;\n",
       "    }\n",
       "</style>\n",
       "<table border=\"1\" class=\"dataframe\">\n",
       "  <thead>\n",
       "    <tr style=\"text-align: right;\">\n",
       "      <th></th>\n",
       "      <th>avg</th>\n",
       "    </tr>\n",
       "  </thead>\n",
       "  <tbody>\n",
       "    <tr>\n",
       "      <th>0</th>\n",
       "      <td>24.333333</td>\n",
       "    </tr>\n",
       "  </tbody>\n",
       "</table>\n",
       "</div>"
      ],
      "text/plain": [
       "         avg\n",
       "0  24.333333"
      ]
     },
     "execution_count": 15,
     "metadata": {},
     "output_type": "execute_result"
    }
   ],
   "source": [
    "query= '''\n",
    "SELECT AVG(Sub.text_count)\n",
    "FROM\n",
    "    (SELECT reviews.username,\n",
    "    COUNT(DISTINCT ratings.rating_id) AS rating_count,\n",
    "    COUNT(DISTINCT reviews.text) AS text_count\n",
    "    FROM reviews INNER JOIN ratings ON ratings.username=reviews.username\n",
    "    GROUP BY reviews.username\n",
    "    HAVING COUNT(DISTINCT ratings.rating_id) > 50) AS Sub\n",
    "'''\n",
    "rev5=pd.io.sql.read_sql(query, con=engine)\n",
    "rev5"
   ]
  },
  {
   "cell_type": "markdown",
   "metadata": {},
   "source": [
    "## Task 5 Conclusion\n",
    "\n",
    "I've used a subquery to fulfill this task and have found that the average number of text reviews among those users is about 24.3"
   ]
  },
  {
   "cell_type": "markdown",
   "metadata": {},
   "source": [
    "# Conclusion\n",
    "The goal of this report was to analyze 4 databases that were geared towards book publication. We were able to find the number of books published after January 1st, 2000 (819), the number of user reviews and the average rating for each book, identify the publisher that has released the greatest number of books with more than 50 pages (Penguin Books), find the author with the highest average book rating, looking only at books with at least 50 ratings (J.K. Rowling) and find the average number of text reviews among users who rated more than 50 books (24.33). \n",
    "\n",
    "With these findings we will be able to create a value proposition for a new app for avid book readers. "
   ]
  }
 ],
 "metadata": {
  "ExecuteTimeLog": [
   {
    "duration": 6462,
    "start_time": "2022-09-07T03:07:01.422Z"
   },
   {
    "duration": 50,
    "start_time": "2022-09-07T03:08:20.541Z"
   },
   {
    "duration": 47,
    "start_time": "2022-09-07T03:08:43.039Z"
   },
   {
    "duration": 40,
    "start_time": "2022-09-07T03:09:09.680Z"
   },
   {
    "duration": 240,
    "start_time": "2022-09-07T03:09:14.778Z"
   },
   {
    "duration": 59,
    "start_time": "2022-09-07T03:11:22.199Z"
   },
   {
    "duration": 423,
    "start_time": "2022-09-07T03:11:27.307Z"
   },
   {
    "duration": 121,
    "start_time": "2022-09-07T03:11:44.913Z"
   },
   {
    "duration": 105,
    "start_time": "2022-09-07T03:12:05.975Z"
   },
   {
    "duration": 87,
    "start_time": "2022-09-07T03:12:27.180Z"
   },
   {
    "duration": 75,
    "start_time": "2022-09-07T03:12:35.752Z"
   },
   {
    "duration": 105,
    "start_time": "2022-09-07T03:12:50.440Z"
   },
   {
    "duration": 132,
    "start_time": "2022-09-07T03:13:00.573Z"
   },
   {
    "duration": 129,
    "start_time": "2022-09-07T03:13:05.898Z"
   },
   {
    "duration": 561,
    "start_time": "2022-09-07T03:27:31.607Z"
   },
   {
    "duration": 79,
    "start_time": "2022-09-07T03:31:11.609Z"
   },
   {
    "duration": 74,
    "start_time": "2022-09-07T03:31:16.774Z"
   },
   {
    "duration": 74,
    "start_time": "2022-09-07T03:33:05.105Z"
   },
   {
    "duration": 134,
    "start_time": "2022-09-07T03:33:21.946Z"
   },
   {
    "duration": 159,
    "start_time": "2022-09-07T03:34:50.218Z"
   },
   {
    "duration": 147,
    "start_time": "2022-09-07T03:35:52.874Z"
   },
   {
    "duration": 139,
    "start_time": "2022-09-07T03:35:56.762Z"
   },
   {
    "duration": 132,
    "start_time": "2022-09-07T03:36:02.364Z"
   },
   {
    "duration": 74,
    "start_time": "2022-09-07T03:36:16.770Z"
   },
   {
    "duration": 76,
    "start_time": "2022-09-07T03:37:56.270Z"
   },
   {
    "duration": 74,
    "start_time": "2022-09-07T03:39:03.824Z"
   },
   {
    "duration": 85,
    "start_time": "2022-09-07T03:43:27.432Z"
   },
   {
    "duration": 93,
    "start_time": "2022-09-07T03:43:46.687Z"
   },
   {
    "duration": 390,
    "start_time": "2022-09-07T03:48:42.254Z"
   },
   {
    "duration": 74,
    "start_time": "2022-09-07T03:49:08.703Z"
   },
   {
    "duration": 436,
    "start_time": "2022-09-07T03:49:14.207Z"
   },
   {
    "duration": 126,
    "start_time": "2022-09-07T03:56:09.389Z"
   },
   {
    "duration": 154,
    "start_time": "2022-09-07T03:56:50.482Z"
   },
   {
    "duration": 140,
    "start_time": "2022-09-07T03:57:11.701Z"
   },
   {
    "duration": 126,
    "start_time": "2022-09-07T03:57:47.198Z"
   },
   {
    "duration": 215,
    "start_time": "2022-09-07T03:58:19.332Z"
   },
   {
    "duration": 147,
    "start_time": "2022-09-07T03:59:01.543Z"
   },
   {
    "duration": 140,
    "start_time": "2022-09-07T03:59:49.693Z"
   },
   {
    "duration": 205,
    "start_time": "2022-09-07T04:00:23.717Z"
   },
   {
    "duration": 204,
    "start_time": "2022-09-07T04:00:47.970Z"
   },
   {
    "duration": 149,
    "start_time": "2022-09-07T04:01:09.481Z"
   },
   {
    "duration": 144,
    "start_time": "2022-09-07T04:01:23.309Z"
   },
   {
    "duration": 97,
    "start_time": "2022-09-07T04:01:50.436Z"
   },
   {
    "duration": 107,
    "start_time": "2022-09-07T04:02:05.536Z"
   },
   {
    "duration": 135,
    "start_time": "2022-09-07T04:02:29.039Z"
   },
   {
    "duration": 98,
    "start_time": "2022-09-07T04:03:14.309Z"
   },
   {
    "duration": 3,
    "start_time": "2022-09-07T04:06:06.908Z"
   },
   {
    "duration": 650,
    "start_time": "2022-09-07T04:06:36.011Z"
   },
   {
    "duration": 189,
    "start_time": "2022-09-07T04:07:02.477Z"
   },
   {
    "duration": 136,
    "start_time": "2022-09-07T04:07:43.447Z"
   },
   {
    "duration": 75,
    "start_time": "2022-09-07T04:07:59.167Z"
   },
   {
    "duration": 83,
    "start_time": "2022-09-07T04:08:20.841Z"
   },
   {
    "duration": 124,
    "start_time": "2022-09-07T04:09:21.815Z"
   },
   {
    "duration": 141,
    "start_time": "2022-09-07T04:10:08.195Z"
   },
   {
    "duration": 81,
    "start_time": "2022-09-07T04:10:25.422Z"
   },
   {
    "duration": 91,
    "start_time": "2022-09-07T04:11:04.701Z"
   },
   {
    "duration": 79,
    "start_time": "2022-09-07T04:11:14.158Z"
   },
   {
    "duration": 152,
    "start_time": "2022-09-07T04:12:01.262Z"
   },
   {
    "duration": 89,
    "start_time": "2022-09-07T04:12:12.108Z"
   },
   {
    "duration": 80,
    "start_time": "2022-09-07T04:12:28.719Z"
   },
   {
    "duration": 155,
    "start_time": "2022-09-07T04:20:00.352Z"
   },
   {
    "duration": 140,
    "start_time": "2022-09-07T04:25:21.169Z"
   },
   {
    "duration": 136,
    "start_time": "2022-09-07T04:25:32.346Z"
   },
   {
    "duration": 141,
    "start_time": "2022-09-07T04:26:39.147Z"
   },
   {
    "duration": 166,
    "start_time": "2022-09-07T04:27:09.340Z"
   },
   {
    "duration": 134,
    "start_time": "2022-09-07T04:27:21.326Z"
   },
   {
    "duration": 158,
    "start_time": "2022-09-07T04:28:00.081Z"
   },
   {
    "duration": 98,
    "start_time": "2022-09-07T04:28:35.109Z"
   },
   {
    "duration": 90,
    "start_time": "2022-09-07T04:30:43.864Z"
   },
   {
    "duration": 56,
    "start_time": "2022-09-07T14:17:24.206Z"
   },
   {
    "duration": 15533,
    "start_time": "2022-09-07T14:17:31.545Z"
   },
   {
    "duration": 313,
    "start_time": "2022-09-07T14:17:47.081Z"
   },
   {
    "duration": 82,
    "start_time": "2022-09-07T14:17:47.396Z"
   },
   {
    "duration": 137,
    "start_time": "2022-09-07T14:17:47.480Z"
   },
   {
    "duration": 98,
    "start_time": "2022-09-07T14:17:47.618Z"
   },
   {
    "duration": 86,
    "start_time": "2022-09-07T14:17:47.719Z"
   },
   {
    "duration": 78,
    "start_time": "2022-09-07T14:17:47.807Z"
   },
   {
    "duration": 97,
    "start_time": "2022-09-07T14:17:47.886Z"
   },
   {
    "duration": 80,
    "start_time": "2022-09-07T14:17:47.985Z"
   },
   {
    "duration": 251,
    "start_time": "2022-09-07T14:17:48.068Z"
   },
   {
    "duration": 0,
    "start_time": "2022-09-07T14:17:48.321Z"
   },
   {
    "duration": 2468,
    "start_time": "2022-09-07T14:18:02.320Z"
   },
   {
    "duration": 1270,
    "start_time": "2022-09-07T14:18:25.340Z"
   },
   {
    "duration": 498,
    "start_time": "2022-09-07T14:18:34.428Z"
   },
   {
    "duration": 829,
    "start_time": "2022-09-07T14:18:56.276Z"
   },
   {
    "duration": 103,
    "start_time": "2022-09-07T14:19:27.120Z"
   },
   {
    "duration": 145,
    "start_time": "2022-09-07T14:23:50.453Z"
   },
   {
    "duration": 122,
    "start_time": "2022-09-07T14:24:03.587Z"
   },
   {
    "duration": 95,
    "start_time": "2022-09-07T14:24:17.569Z"
   },
   {
    "duration": 153,
    "start_time": "2022-09-07T14:24:58.966Z"
   },
   {
    "duration": 158,
    "start_time": "2022-09-07T14:25:15.034Z"
   },
   {
    "duration": 134,
    "start_time": "2022-09-07T14:25:28.716Z"
   },
   {
    "duration": 94,
    "start_time": "2022-09-07T14:25:40.823Z"
   },
   {
    "duration": 183,
    "start_time": "2022-09-07T14:28:16.014Z"
   },
   {
    "duration": 132,
    "start_time": "2022-09-07T14:29:33.919Z"
   },
   {
    "duration": 162,
    "start_time": "2022-09-07T14:30:08.694Z"
   },
   {
    "duration": 101,
    "start_time": "2022-09-07T14:44:29.677Z"
   },
   {
    "duration": 7734,
    "start_time": "2022-09-07T14:45:50.364Z"
   },
   {
    "duration": 272,
    "start_time": "2022-09-07T14:45:58.100Z"
   },
   {
    "duration": 77,
    "start_time": "2022-09-07T14:45:58.374Z"
   },
   {
    "duration": 123,
    "start_time": "2022-09-07T14:45:58.453Z"
   },
   {
    "duration": 97,
    "start_time": "2022-09-07T14:45:58.578Z"
   },
   {
    "duration": 89,
    "start_time": "2022-09-07T14:45:58.677Z"
   },
   {
    "duration": 76,
    "start_time": "2022-09-07T14:45:58.768Z"
   },
   {
    "duration": 91,
    "start_time": "2022-09-07T14:45:58.846Z"
   },
   {
    "duration": 77,
    "start_time": "2022-09-07T14:45:58.939Z"
   },
   {
    "duration": 83,
    "start_time": "2022-09-07T14:45:59.018Z"
   },
   {
    "duration": 3,
    "start_time": "2022-09-07T14:45:59.103Z"
   },
   {
    "duration": 8,
    "start_time": "2022-09-07T14:46:08.775Z"
   },
   {
    "duration": 8,
    "start_time": "2022-09-07T14:46:14.548Z"
   },
   {
    "duration": 2,
    "start_time": "2022-09-07T14:59:07.761Z"
   },
   {
    "duration": 124,
    "start_time": "2022-09-07T14:59:30.544Z"
   },
   {
    "duration": 103,
    "start_time": "2022-09-07T15:02:49.497Z"
   },
   {
    "duration": 117,
    "start_time": "2022-09-07T15:03:50.398Z"
   },
   {
    "duration": 54,
    "start_time": "2022-09-07T15:11:26.191Z"
   },
   {
    "duration": 123,
    "start_time": "2022-09-07T15:11:34.187Z"
   },
   {
    "duration": 55,
    "start_time": "2022-09-07T15:12:17.945Z"
   },
   {
    "duration": 99,
    "start_time": "2022-09-07T15:13:03.353Z"
   },
   {
    "duration": 46,
    "start_time": "2022-09-07T15:13:54.894Z"
   },
   {
    "duration": 93,
    "start_time": "2022-09-07T15:14:04.529Z"
   },
   {
    "duration": 78,
    "start_time": "2022-09-07T15:14:13.708Z"
   },
   {
    "duration": 210,
    "start_time": "2022-09-07T15:14:23.048Z"
   },
   {
    "duration": 103,
    "start_time": "2022-09-07T15:14:34.353Z"
   },
   {
    "duration": 6870,
    "start_time": "2022-09-07T15:20:19.368Z"
   },
   {
    "duration": 294,
    "start_time": "2022-09-07T15:20:26.240Z"
   },
   {
    "duration": 79,
    "start_time": "2022-09-07T15:20:26.535Z"
   },
   {
    "duration": 131,
    "start_time": "2022-09-07T15:20:26.616Z"
   },
   {
    "duration": 105,
    "start_time": "2022-09-07T15:20:26.748Z"
   },
   {
    "duration": 91,
    "start_time": "2022-09-07T15:20:26.855Z"
   },
   {
    "duration": 86,
    "start_time": "2022-09-07T15:20:26.948Z"
   },
   {
    "duration": 90,
    "start_time": "2022-09-07T15:20:27.036Z"
   },
   {
    "duration": 87,
    "start_time": "2022-09-07T15:20:27.128Z"
   },
   {
    "duration": 87,
    "start_time": "2022-09-07T15:20:27.217Z"
   },
   {
    "duration": 105,
    "start_time": "2022-09-07T15:20:27.306Z"
   },
   {
    "duration": 10174,
    "start_time": "2022-09-08T06:55:07.370Z"
   },
   {
    "duration": 121,
    "start_time": "2022-09-08T06:55:17.546Z"
   },
   {
    "duration": 12,
    "start_time": "2022-09-08T06:55:17.668Z"
   },
   {
    "duration": 28,
    "start_time": "2022-09-08T06:55:17.681Z"
   },
   {
    "duration": 20,
    "start_time": "2022-09-08T06:55:17.712Z"
   },
   {
    "duration": 21,
    "start_time": "2022-09-08T06:55:17.734Z"
   },
   {
    "duration": 19,
    "start_time": "2022-09-08T06:55:17.756Z"
   },
   {
    "duration": 31,
    "start_time": "2022-09-08T06:55:17.777Z"
   },
   {
    "duration": 11,
    "start_time": "2022-09-08T06:55:17.809Z"
   },
   {
    "duration": 14,
    "start_time": "2022-09-08T06:55:17.822Z"
   },
   {
    "duration": 40,
    "start_time": "2022-09-08T06:55:17.837Z"
   },
   {
    "duration": 13,
    "start_time": "2022-09-08T06:58:28.230Z"
   },
   {
    "duration": 14,
    "start_time": "2022-09-08T07:00:24.961Z"
   },
   {
    "duration": 305,
    "start_time": "2022-09-08T07:04:28.433Z"
   },
   {
    "duration": 6717,
    "start_time": "2022-09-08T07:04:31.434Z"
   },
   {
    "duration": 5068,
    "start_time": "2022-09-08T07:05:10.863Z"
   },
   {
    "duration": 389,
    "start_time": "2022-09-08T12:44:55.645Z"
   },
   {
    "duration": 42,
    "start_time": "2022-09-08T12:45:09.298Z"
   },
   {
    "duration": 8993,
    "start_time": "2022-09-08T12:45:16.218Z"
   },
   {
    "duration": 348,
    "start_time": "2022-09-08T12:45:35.566Z"
   },
   {
    "duration": 172,
    "start_time": "2022-09-08T12:46:32.411Z"
   },
   {
    "duration": 113,
    "start_time": "2022-09-08T12:46:37.914Z"
   },
   {
    "duration": 80,
    "start_time": "2022-09-08T12:49:51.619Z"
   },
   {
    "duration": 233,
    "start_time": "2022-09-08T12:57:28.069Z"
   },
   {
    "duration": 207,
    "start_time": "2022-09-08T12:57:46.491Z"
   },
   {
    "duration": 72,
    "start_time": "2022-09-08T12:58:08.374Z"
   },
   {
    "duration": 215,
    "start_time": "2022-09-08T13:02:21.167Z"
   },
   {
    "duration": 233,
    "start_time": "2022-09-08T13:02:25.918Z"
   },
   {
    "duration": 235,
    "start_time": "2022-09-08T13:02:36.019Z"
   },
   {
    "duration": 151,
    "start_time": "2022-09-08T13:02:57.118Z"
   },
   {
    "duration": 73,
    "start_time": "2022-09-08T13:03:02.794Z"
   },
   {
    "duration": 75,
    "start_time": "2022-09-08T13:06:17.272Z"
   },
   {
    "duration": 215,
    "start_time": "2022-09-08T13:11:48.959Z"
   },
   {
    "duration": 77,
    "start_time": "2022-09-08T13:11:57.413Z"
   },
   {
    "duration": 470,
    "start_time": "2022-09-08T13:13:34.413Z"
   },
   {
    "duration": 94,
    "start_time": "2022-09-08T13:14:07.939Z"
   },
   {
    "duration": 81,
    "start_time": "2022-09-08T13:15:34.166Z"
   },
   {
    "duration": 79,
    "start_time": "2022-09-08T13:15:44.427Z"
   },
   {
    "duration": 93,
    "start_time": "2022-09-08T13:15:48.949Z"
   },
   {
    "duration": 92,
    "start_time": "2022-09-08T13:15:54.509Z"
   },
   {
    "duration": 569,
    "start_time": "2022-09-08T13:17:06.009Z"
   },
   {
    "duration": 1392,
    "start_time": "2022-09-08T13:17:20.946Z"
   },
   {
    "duration": 77,
    "start_time": "2022-09-08T13:17:37.010Z"
   },
   {
    "duration": 146,
    "start_time": "2022-09-08T13:18:54.046Z"
   },
   {
    "duration": 77,
    "start_time": "2022-09-08T13:19:03.046Z"
   },
   {
    "duration": 77,
    "start_time": "2022-09-08T13:19:17.185Z"
   },
   {
    "duration": 224,
    "start_time": "2022-09-08T13:27:28.158Z"
   },
   {
    "duration": 102,
    "start_time": "2022-09-08T13:28:11.657Z"
   },
   {
    "duration": 97,
    "start_time": "2022-09-08T13:29:03.263Z"
   },
   {
    "duration": 2461,
    "start_time": "2022-09-08T13:30:53.702Z"
   },
   {
    "duration": 150,
    "start_time": "2022-09-08T13:31:10.687Z"
   },
   {
    "duration": 133,
    "start_time": "2022-09-08T13:31:14.151Z"
   },
   {
    "duration": 134,
    "start_time": "2022-09-08T13:33:27.764Z"
   },
   {
    "duration": 533,
    "start_time": "2022-09-08T13:33:37.336Z"
   },
   {
    "duration": 73,
    "start_time": "2022-09-08T14:17:01.218Z"
   },
   {
    "duration": 71,
    "start_time": "2022-09-08T14:17:09.776Z"
   },
   {
    "duration": 133,
    "start_time": "2022-09-08T14:17:13.477Z"
   },
   {
    "duration": 73,
    "start_time": "2022-09-08T14:17:24.053Z"
   },
   {
    "duration": 75,
    "start_time": "2022-09-08T14:17:28.118Z"
   },
   {
    "duration": 72,
    "start_time": "2022-09-08T14:17:31.808Z"
   },
   {
    "duration": 139,
    "start_time": "2022-09-08T14:23:13.267Z"
   },
   {
    "duration": 76,
    "start_time": "2022-09-08T14:23:29.439Z"
   },
   {
    "duration": 185,
    "start_time": "2022-09-08T14:23:52.494Z"
   },
   {
    "duration": 141,
    "start_time": "2022-09-08T14:23:57.029Z"
   },
   {
    "duration": 363,
    "start_time": "2022-09-08T14:24:51.642Z"
   },
   {
    "duration": 77,
    "start_time": "2022-09-08T14:25:07.772Z"
   },
   {
    "duration": 76,
    "start_time": "2022-09-08T14:25:23.220Z"
   },
   {
    "duration": 172,
    "start_time": "2022-09-08T14:30:32.473Z"
   },
   {
    "duration": 159,
    "start_time": "2022-09-08T14:30:47.299Z"
   },
   {
    "duration": 79,
    "start_time": "2022-09-08T14:30:55.099Z"
   },
   {
    "duration": 126,
    "start_time": "2022-09-08T14:32:07.832Z"
   },
   {
    "duration": 161,
    "start_time": "2022-09-08T14:32:14.234Z"
   },
   {
    "duration": 76,
    "start_time": "2022-09-08T14:32:21.959Z"
   },
   {
    "duration": 149,
    "start_time": "2022-09-08T14:33:00.680Z"
   },
   {
    "duration": 78,
    "start_time": "2022-09-08T14:33:10.671Z"
   },
   {
    "duration": 79,
    "start_time": "2022-09-08T14:33:37.929Z"
   },
   {
    "duration": 76,
    "start_time": "2022-09-08T14:33:43.007Z"
   },
   {
    "duration": 146,
    "start_time": "2022-09-08T14:34:10.379Z"
   },
   {
    "duration": 78,
    "start_time": "2022-09-08T14:34:26.952Z"
   },
   {
    "duration": 177,
    "start_time": "2022-09-08T14:40:44.154Z"
   },
   {
    "duration": 181,
    "start_time": "2022-09-08T14:40:59.424Z"
   },
   {
    "duration": 162,
    "start_time": "2022-09-08T14:41:12.547Z"
   },
   {
    "duration": 173,
    "start_time": "2022-09-08T14:41:20.585Z"
   },
   {
    "duration": 248,
    "start_time": "2022-09-08T14:41:48.143Z"
   },
   {
    "duration": 82,
    "start_time": "2022-09-08T14:42:04.105Z"
   },
   {
    "duration": 236,
    "start_time": "2022-09-08T14:42:07.895Z"
   },
   {
    "duration": 83,
    "start_time": "2022-09-08T14:42:15.691Z"
   },
   {
    "duration": 79,
    "start_time": "2022-09-08T14:43:04.206Z"
   },
   {
    "duration": 81,
    "start_time": "2022-09-08T14:45:24.021Z"
   },
   {
    "duration": 522,
    "start_time": "2022-09-08T14:47:33.929Z"
   },
   {
    "duration": 6117,
    "start_time": "2022-09-08T14:47:34.453Z"
   },
   {
    "duration": 245,
    "start_time": "2022-09-08T14:47:40.571Z"
   },
   {
    "duration": 72,
    "start_time": "2022-09-08T14:47:40.818Z"
   },
   {
    "duration": 74,
    "start_time": "2022-09-08T14:47:40.892Z"
   },
   {
    "duration": 78,
    "start_time": "2022-09-08T14:47:40.968Z"
   },
   {
    "duration": 74,
    "start_time": "2022-09-08T14:47:41.048Z"
   },
   {
    "duration": 73,
    "start_time": "2022-09-08T14:47:41.123Z"
   },
   {
    "duration": 73,
    "start_time": "2022-09-08T14:47:41.198Z"
   },
   {
    "duration": 71,
    "start_time": "2022-09-08T14:47:41.273Z"
   },
   {
    "duration": 107,
    "start_time": "2022-09-08T14:47:41.345Z"
   },
   {
    "duration": 150,
    "start_time": "2022-09-08T14:47:41.454Z"
   },
   {
    "duration": 74,
    "start_time": "2022-09-08T14:47:41.605Z"
   },
   {
    "duration": 80,
    "start_time": "2022-09-08T14:47:41.681Z"
   },
   {
    "duration": 129,
    "start_time": "2022-09-08T14:47:41.763Z"
   },
   {
    "duration": 568,
    "start_time": "2022-09-08T14:47:57.722Z"
   },
   {
    "duration": 6224,
    "start_time": "2022-09-08T14:47:58.293Z"
   },
   {
    "duration": 235,
    "start_time": "2022-09-08T14:48:04.519Z"
   },
   {
    "duration": 72,
    "start_time": "2022-09-08T14:48:04.757Z"
   },
   {
    "duration": 73,
    "start_time": "2022-09-08T14:48:04.831Z"
   },
   {
    "duration": 73,
    "start_time": "2022-09-08T14:48:04.906Z"
   },
   {
    "duration": 73,
    "start_time": "2022-09-08T14:48:04.981Z"
   },
   {
    "duration": 73,
    "start_time": "2022-09-08T14:48:05.056Z"
   },
   {
    "duration": 84,
    "start_time": "2022-09-08T14:48:05.130Z"
   },
   {
    "duration": 74,
    "start_time": "2022-09-08T14:48:05.217Z"
   },
   {
    "duration": 104,
    "start_time": "2022-09-08T14:48:05.293Z"
   },
   {
    "duration": 149,
    "start_time": "2022-09-08T14:48:05.399Z"
   },
   {
    "duration": 73,
    "start_time": "2022-09-08T14:48:05.550Z"
   },
   {
    "duration": 80,
    "start_time": "2022-09-08T14:48:05.624Z"
   },
   {
    "duration": 129,
    "start_time": "2022-09-08T14:48:05.705Z"
   }
  ],
  "kernelspec": {
   "display_name": "Python 3 (ipykernel)",
   "language": "python",
   "name": "python3"
  },
  "language_info": {
   "codemirror_mode": {
    "name": "ipython",
    "version": 3
   },
   "file_extension": ".py",
   "mimetype": "text/x-python",
   "name": "python",
   "nbconvert_exporter": "python",
   "pygments_lexer": "ipython3",
   "version": "3.9.5"
  },
  "toc": {
   "base_numbering": 1,
   "nav_menu": {},
   "number_sections": true,
   "sideBar": true,
   "skip_h1_title": true,
   "title_cell": "Table of Contents",
   "title_sidebar": "Contents",
   "toc_cell": false,
   "toc_position": {},
   "toc_section_display": true,
   "toc_window_display": false
  }
 },
 "nbformat": 4,
 "nbformat_minor": 2
}
