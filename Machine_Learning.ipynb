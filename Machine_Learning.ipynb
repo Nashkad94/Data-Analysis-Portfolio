{
 "cells": [
  {
   "cell_type": "markdown",
   "metadata": {},
   "source": [
    "As an analyst for Model Fitness this is a step towards developing a customer interaction survey. The goal is to identify what type of customers are more prone to churning. The data provided contains churn data for the current and preceding month as well as a customer's account information. Through machine learning we will be able to identify the type of customers that stay and those who are more likely to churn."
   ]
  },
  {
   "cell_type": "code",
   "execution_count": 1,
   "metadata": {},
   "outputs": [],
   "source": [
    "#importing libraries\n",
    "import pandas as pd\n",
    "import numpy as np\n",
    "from sklearn.preprocessing import StandardScaler\n",
    "from sklearn.model_selection import train_test_split\n",
    "from sklearn.cluster import KMeans\n",
    "from sklearn.ensemble import RandomForestClassifier\n",
    "from sklearn.linear_model import LogisticRegression\n",
    "from sklearn.metrics import accuracy_score, precision_score, recall_score\n",
    "from scipy.cluster.hierarchy import dendrogram, linkage\n",
    "import matplotlib.pyplot as plt\n",
    "import seaborn as sns\n"
   ]
  },
  {
   "cell_type": "markdown",
   "metadata": {},
   "source": [
    "# Data Preprocessing"
   ]
  },
  {
   "cell_type": "markdown",
   "metadata": {},
   "source": [
    "The first step is to check the quality of the data to verify if it has any missing values or categorical values. Investing the mean values as well will allow me to understand the data better and make some initial insights. \n"
   ]
  },
  {
   "cell_type": "code",
   "execution_count": 2,
   "metadata": {},
   "outputs": [
    {
     "ename": "FileNotFoundError",
     "evalue": "[Errno 2] No such file or directory: '/datasets/gym_churn_us.csv'",
     "output_type": "error",
     "traceback": [
      "\u001b[0;31m---------------------------------------------------------------------------\u001b[0m",
      "\u001b[0;31mFileNotFoundError\u001b[0m                         Traceback (most recent call last)",
      "Input \u001b[0;32mIn [2]\u001b[0m, in \u001b[0;36m<cell line: 1>\u001b[0;34m()\u001b[0m\n\u001b[0;32m----> 1\u001b[0m gym_df\u001b[38;5;241m=\u001b[39m \u001b[43mpd\u001b[49m\u001b[38;5;241;43m.\u001b[39;49m\u001b[43mread_csv\u001b[49m\u001b[43m(\u001b[49m\u001b[38;5;124;43m'\u001b[39;49m\u001b[38;5;124;43m/datasets/gym_churn_us.csv\u001b[39;49m\u001b[38;5;124;43m'\u001b[39;49m\u001b[43m)\u001b[49m\n",
      "File \u001b[0;32m~/opt/anaconda3/lib/python3.9/site-packages/pandas/util/_decorators.py:311\u001b[0m, in \u001b[0;36mdeprecate_nonkeyword_arguments.<locals>.decorate.<locals>.wrapper\u001b[0;34m(*args, **kwargs)\u001b[0m\n\u001b[1;32m    305\u001b[0m \u001b[38;5;28;01mif\u001b[39;00m \u001b[38;5;28mlen\u001b[39m(args) \u001b[38;5;241m>\u001b[39m num_allow_args:\n\u001b[1;32m    306\u001b[0m     warnings\u001b[38;5;241m.\u001b[39mwarn(\n\u001b[1;32m    307\u001b[0m         msg\u001b[38;5;241m.\u001b[39mformat(arguments\u001b[38;5;241m=\u001b[39marguments),\n\u001b[1;32m    308\u001b[0m         \u001b[38;5;167;01mFutureWarning\u001b[39;00m,\n\u001b[1;32m    309\u001b[0m         stacklevel\u001b[38;5;241m=\u001b[39mstacklevel,\n\u001b[1;32m    310\u001b[0m     )\n\u001b[0;32m--> 311\u001b[0m \u001b[38;5;28;01mreturn\u001b[39;00m \u001b[43mfunc\u001b[49m\u001b[43m(\u001b[49m\u001b[38;5;241;43m*\u001b[39;49m\u001b[43margs\u001b[49m\u001b[43m,\u001b[49m\u001b[43m \u001b[49m\u001b[38;5;241;43m*\u001b[39;49m\u001b[38;5;241;43m*\u001b[39;49m\u001b[43mkwargs\u001b[49m\u001b[43m)\u001b[49m\n",
      "File \u001b[0;32m~/opt/anaconda3/lib/python3.9/site-packages/pandas/io/parsers/readers.py:680\u001b[0m, in \u001b[0;36mread_csv\u001b[0;34m(filepath_or_buffer, sep, delimiter, header, names, index_col, usecols, squeeze, prefix, mangle_dupe_cols, dtype, engine, converters, true_values, false_values, skipinitialspace, skiprows, skipfooter, nrows, na_values, keep_default_na, na_filter, verbose, skip_blank_lines, parse_dates, infer_datetime_format, keep_date_col, date_parser, dayfirst, cache_dates, iterator, chunksize, compression, thousands, decimal, lineterminator, quotechar, quoting, doublequote, escapechar, comment, encoding, encoding_errors, dialect, error_bad_lines, warn_bad_lines, on_bad_lines, delim_whitespace, low_memory, memory_map, float_precision, storage_options)\u001b[0m\n\u001b[1;32m    665\u001b[0m kwds_defaults \u001b[38;5;241m=\u001b[39m _refine_defaults_read(\n\u001b[1;32m    666\u001b[0m     dialect,\n\u001b[1;32m    667\u001b[0m     delimiter,\n\u001b[0;32m   (...)\u001b[0m\n\u001b[1;32m    676\u001b[0m     defaults\u001b[38;5;241m=\u001b[39m{\u001b[38;5;124m\"\u001b[39m\u001b[38;5;124mdelimiter\u001b[39m\u001b[38;5;124m\"\u001b[39m: \u001b[38;5;124m\"\u001b[39m\u001b[38;5;124m,\u001b[39m\u001b[38;5;124m\"\u001b[39m},\n\u001b[1;32m    677\u001b[0m )\n\u001b[1;32m    678\u001b[0m kwds\u001b[38;5;241m.\u001b[39mupdate(kwds_defaults)\n\u001b[0;32m--> 680\u001b[0m \u001b[38;5;28;01mreturn\u001b[39;00m \u001b[43m_read\u001b[49m\u001b[43m(\u001b[49m\u001b[43mfilepath_or_buffer\u001b[49m\u001b[43m,\u001b[49m\u001b[43m \u001b[49m\u001b[43mkwds\u001b[49m\u001b[43m)\u001b[49m\n",
      "File \u001b[0;32m~/opt/anaconda3/lib/python3.9/site-packages/pandas/io/parsers/readers.py:575\u001b[0m, in \u001b[0;36m_read\u001b[0;34m(filepath_or_buffer, kwds)\u001b[0m\n\u001b[1;32m    572\u001b[0m _validate_names(kwds\u001b[38;5;241m.\u001b[39mget(\u001b[38;5;124m\"\u001b[39m\u001b[38;5;124mnames\u001b[39m\u001b[38;5;124m\"\u001b[39m, \u001b[38;5;28;01mNone\u001b[39;00m))\n\u001b[1;32m    574\u001b[0m \u001b[38;5;66;03m# Create the parser.\u001b[39;00m\n\u001b[0;32m--> 575\u001b[0m parser \u001b[38;5;241m=\u001b[39m \u001b[43mTextFileReader\u001b[49m\u001b[43m(\u001b[49m\u001b[43mfilepath_or_buffer\u001b[49m\u001b[43m,\u001b[49m\u001b[43m \u001b[49m\u001b[38;5;241;43m*\u001b[39;49m\u001b[38;5;241;43m*\u001b[39;49m\u001b[43mkwds\u001b[49m\u001b[43m)\u001b[49m\n\u001b[1;32m    577\u001b[0m \u001b[38;5;28;01mif\u001b[39;00m chunksize \u001b[38;5;129;01mor\u001b[39;00m iterator:\n\u001b[1;32m    578\u001b[0m     \u001b[38;5;28;01mreturn\u001b[39;00m parser\n",
      "File \u001b[0;32m~/opt/anaconda3/lib/python3.9/site-packages/pandas/io/parsers/readers.py:933\u001b[0m, in \u001b[0;36mTextFileReader.__init__\u001b[0;34m(self, f, engine, **kwds)\u001b[0m\n\u001b[1;32m    930\u001b[0m     \u001b[38;5;28mself\u001b[39m\u001b[38;5;241m.\u001b[39moptions[\u001b[38;5;124m\"\u001b[39m\u001b[38;5;124mhas_index_names\u001b[39m\u001b[38;5;124m\"\u001b[39m] \u001b[38;5;241m=\u001b[39m kwds[\u001b[38;5;124m\"\u001b[39m\u001b[38;5;124mhas_index_names\u001b[39m\u001b[38;5;124m\"\u001b[39m]\n\u001b[1;32m    932\u001b[0m \u001b[38;5;28mself\u001b[39m\u001b[38;5;241m.\u001b[39mhandles: IOHandles \u001b[38;5;241m|\u001b[39m \u001b[38;5;28;01mNone\u001b[39;00m \u001b[38;5;241m=\u001b[39m \u001b[38;5;28;01mNone\u001b[39;00m\n\u001b[0;32m--> 933\u001b[0m \u001b[38;5;28mself\u001b[39m\u001b[38;5;241m.\u001b[39m_engine \u001b[38;5;241m=\u001b[39m \u001b[38;5;28;43mself\u001b[39;49m\u001b[38;5;241;43m.\u001b[39;49m\u001b[43m_make_engine\u001b[49m\u001b[43m(\u001b[49m\u001b[43mf\u001b[49m\u001b[43m,\u001b[49m\u001b[43m \u001b[49m\u001b[38;5;28;43mself\u001b[39;49m\u001b[38;5;241;43m.\u001b[39;49m\u001b[43mengine\u001b[49m\u001b[43m)\u001b[49m\n",
      "File \u001b[0;32m~/opt/anaconda3/lib/python3.9/site-packages/pandas/io/parsers/readers.py:1217\u001b[0m, in \u001b[0;36mTextFileReader._make_engine\u001b[0;34m(self, f, engine)\u001b[0m\n\u001b[1;32m   1213\u001b[0m     mode \u001b[38;5;241m=\u001b[39m \u001b[38;5;124m\"\u001b[39m\u001b[38;5;124mrb\u001b[39m\u001b[38;5;124m\"\u001b[39m\n\u001b[1;32m   1214\u001b[0m \u001b[38;5;66;03m# error: No overload variant of \"get_handle\" matches argument types\u001b[39;00m\n\u001b[1;32m   1215\u001b[0m \u001b[38;5;66;03m# \"Union[str, PathLike[str], ReadCsvBuffer[bytes], ReadCsvBuffer[str]]\"\u001b[39;00m\n\u001b[1;32m   1216\u001b[0m \u001b[38;5;66;03m# , \"str\", \"bool\", \"Any\", \"Any\", \"Any\", \"Any\", \"Any\"\u001b[39;00m\n\u001b[0;32m-> 1217\u001b[0m \u001b[38;5;28mself\u001b[39m\u001b[38;5;241m.\u001b[39mhandles \u001b[38;5;241m=\u001b[39m \u001b[43mget_handle\u001b[49m\u001b[43m(\u001b[49m\u001b[43m  \u001b[49m\u001b[38;5;66;43;03m# type: ignore[call-overload]\u001b[39;49;00m\n\u001b[1;32m   1218\u001b[0m \u001b[43m    \u001b[49m\u001b[43mf\u001b[49m\u001b[43m,\u001b[49m\n\u001b[1;32m   1219\u001b[0m \u001b[43m    \u001b[49m\u001b[43mmode\u001b[49m\u001b[43m,\u001b[49m\n\u001b[1;32m   1220\u001b[0m \u001b[43m    \u001b[49m\u001b[43mencoding\u001b[49m\u001b[38;5;241;43m=\u001b[39;49m\u001b[38;5;28;43mself\u001b[39;49m\u001b[38;5;241;43m.\u001b[39;49m\u001b[43moptions\u001b[49m\u001b[38;5;241;43m.\u001b[39;49m\u001b[43mget\u001b[49m\u001b[43m(\u001b[49m\u001b[38;5;124;43m\"\u001b[39;49m\u001b[38;5;124;43mencoding\u001b[39;49m\u001b[38;5;124;43m\"\u001b[39;49m\u001b[43m,\u001b[49m\u001b[43m \u001b[49m\u001b[38;5;28;43;01mNone\u001b[39;49;00m\u001b[43m)\u001b[49m\u001b[43m,\u001b[49m\n\u001b[1;32m   1221\u001b[0m \u001b[43m    \u001b[49m\u001b[43mcompression\u001b[49m\u001b[38;5;241;43m=\u001b[39;49m\u001b[38;5;28;43mself\u001b[39;49m\u001b[38;5;241;43m.\u001b[39;49m\u001b[43moptions\u001b[49m\u001b[38;5;241;43m.\u001b[39;49m\u001b[43mget\u001b[49m\u001b[43m(\u001b[49m\u001b[38;5;124;43m\"\u001b[39;49m\u001b[38;5;124;43mcompression\u001b[39;49m\u001b[38;5;124;43m\"\u001b[39;49m\u001b[43m,\u001b[49m\u001b[43m \u001b[49m\u001b[38;5;28;43;01mNone\u001b[39;49;00m\u001b[43m)\u001b[49m\u001b[43m,\u001b[49m\n\u001b[1;32m   1222\u001b[0m \u001b[43m    \u001b[49m\u001b[43mmemory_map\u001b[49m\u001b[38;5;241;43m=\u001b[39;49m\u001b[38;5;28;43mself\u001b[39;49m\u001b[38;5;241;43m.\u001b[39;49m\u001b[43moptions\u001b[49m\u001b[38;5;241;43m.\u001b[39;49m\u001b[43mget\u001b[49m\u001b[43m(\u001b[49m\u001b[38;5;124;43m\"\u001b[39;49m\u001b[38;5;124;43mmemory_map\u001b[39;49m\u001b[38;5;124;43m\"\u001b[39;49m\u001b[43m,\u001b[49m\u001b[43m \u001b[49m\u001b[38;5;28;43;01mFalse\u001b[39;49;00m\u001b[43m)\u001b[49m\u001b[43m,\u001b[49m\n\u001b[1;32m   1223\u001b[0m \u001b[43m    \u001b[49m\u001b[43mis_text\u001b[49m\u001b[38;5;241;43m=\u001b[39;49m\u001b[43mis_text\u001b[49m\u001b[43m,\u001b[49m\n\u001b[1;32m   1224\u001b[0m \u001b[43m    \u001b[49m\u001b[43merrors\u001b[49m\u001b[38;5;241;43m=\u001b[39;49m\u001b[38;5;28;43mself\u001b[39;49m\u001b[38;5;241;43m.\u001b[39;49m\u001b[43moptions\u001b[49m\u001b[38;5;241;43m.\u001b[39;49m\u001b[43mget\u001b[49m\u001b[43m(\u001b[49m\u001b[38;5;124;43m\"\u001b[39;49m\u001b[38;5;124;43mencoding_errors\u001b[39;49m\u001b[38;5;124;43m\"\u001b[39;49m\u001b[43m,\u001b[49m\u001b[43m \u001b[49m\u001b[38;5;124;43m\"\u001b[39;49m\u001b[38;5;124;43mstrict\u001b[39;49m\u001b[38;5;124;43m\"\u001b[39;49m\u001b[43m)\u001b[49m\u001b[43m,\u001b[49m\n\u001b[1;32m   1225\u001b[0m \u001b[43m    \u001b[49m\u001b[43mstorage_options\u001b[49m\u001b[38;5;241;43m=\u001b[39;49m\u001b[38;5;28;43mself\u001b[39;49m\u001b[38;5;241;43m.\u001b[39;49m\u001b[43moptions\u001b[49m\u001b[38;5;241;43m.\u001b[39;49m\u001b[43mget\u001b[49m\u001b[43m(\u001b[49m\u001b[38;5;124;43m\"\u001b[39;49m\u001b[38;5;124;43mstorage_options\u001b[39;49m\u001b[38;5;124;43m\"\u001b[39;49m\u001b[43m,\u001b[49m\u001b[43m \u001b[49m\u001b[38;5;28;43;01mNone\u001b[39;49;00m\u001b[43m)\u001b[49m\u001b[43m,\u001b[49m\n\u001b[1;32m   1226\u001b[0m \u001b[43m\u001b[49m\u001b[43m)\u001b[49m\n\u001b[1;32m   1227\u001b[0m \u001b[38;5;28;01massert\u001b[39;00m \u001b[38;5;28mself\u001b[39m\u001b[38;5;241m.\u001b[39mhandles \u001b[38;5;129;01mis\u001b[39;00m \u001b[38;5;129;01mnot\u001b[39;00m \u001b[38;5;28;01mNone\u001b[39;00m\n\u001b[1;32m   1228\u001b[0m f \u001b[38;5;241m=\u001b[39m \u001b[38;5;28mself\u001b[39m\u001b[38;5;241m.\u001b[39mhandles\u001b[38;5;241m.\u001b[39mhandle\n",
      "File \u001b[0;32m~/opt/anaconda3/lib/python3.9/site-packages/pandas/io/common.py:789\u001b[0m, in \u001b[0;36mget_handle\u001b[0;34m(path_or_buf, mode, encoding, compression, memory_map, is_text, errors, storage_options)\u001b[0m\n\u001b[1;32m    784\u001b[0m \u001b[38;5;28;01melif\u001b[39;00m \u001b[38;5;28misinstance\u001b[39m(handle, \u001b[38;5;28mstr\u001b[39m):\n\u001b[1;32m    785\u001b[0m     \u001b[38;5;66;03m# Check whether the filename is to be opened in binary mode.\u001b[39;00m\n\u001b[1;32m    786\u001b[0m     \u001b[38;5;66;03m# Binary mode does not support 'encoding' and 'newline'.\u001b[39;00m\n\u001b[1;32m    787\u001b[0m     \u001b[38;5;28;01mif\u001b[39;00m ioargs\u001b[38;5;241m.\u001b[39mencoding \u001b[38;5;129;01mand\u001b[39;00m \u001b[38;5;124m\"\u001b[39m\u001b[38;5;124mb\u001b[39m\u001b[38;5;124m\"\u001b[39m \u001b[38;5;129;01mnot\u001b[39;00m \u001b[38;5;129;01min\u001b[39;00m ioargs\u001b[38;5;241m.\u001b[39mmode:\n\u001b[1;32m    788\u001b[0m         \u001b[38;5;66;03m# Encoding\u001b[39;00m\n\u001b[0;32m--> 789\u001b[0m         handle \u001b[38;5;241m=\u001b[39m \u001b[38;5;28;43mopen\u001b[39;49m\u001b[43m(\u001b[49m\n\u001b[1;32m    790\u001b[0m \u001b[43m            \u001b[49m\u001b[43mhandle\u001b[49m\u001b[43m,\u001b[49m\n\u001b[1;32m    791\u001b[0m \u001b[43m            \u001b[49m\u001b[43mioargs\u001b[49m\u001b[38;5;241;43m.\u001b[39;49m\u001b[43mmode\u001b[49m\u001b[43m,\u001b[49m\n\u001b[1;32m    792\u001b[0m \u001b[43m            \u001b[49m\u001b[43mencoding\u001b[49m\u001b[38;5;241;43m=\u001b[39;49m\u001b[43mioargs\u001b[49m\u001b[38;5;241;43m.\u001b[39;49m\u001b[43mencoding\u001b[49m\u001b[43m,\u001b[49m\n\u001b[1;32m    793\u001b[0m \u001b[43m            \u001b[49m\u001b[43merrors\u001b[49m\u001b[38;5;241;43m=\u001b[39;49m\u001b[43merrors\u001b[49m\u001b[43m,\u001b[49m\n\u001b[1;32m    794\u001b[0m \u001b[43m            \u001b[49m\u001b[43mnewline\u001b[49m\u001b[38;5;241;43m=\u001b[39;49m\u001b[38;5;124;43m\"\u001b[39;49m\u001b[38;5;124;43m\"\u001b[39;49m\u001b[43m,\u001b[49m\n\u001b[1;32m    795\u001b[0m \u001b[43m        \u001b[49m\u001b[43m)\u001b[49m\n\u001b[1;32m    796\u001b[0m     \u001b[38;5;28;01melse\u001b[39;00m:\n\u001b[1;32m    797\u001b[0m         \u001b[38;5;66;03m# Binary mode\u001b[39;00m\n\u001b[1;32m    798\u001b[0m         handle \u001b[38;5;241m=\u001b[39m \u001b[38;5;28mopen\u001b[39m(handle, ioargs\u001b[38;5;241m.\u001b[39mmode)\n",
      "\u001b[0;31mFileNotFoundError\u001b[0m: [Errno 2] No such file or directory: '/datasets/gym_churn_us.csv'"
     ]
    }
   ],
   "source": [
    "gym_df= pd.read_csv('/datasets/gym_churn_us.csv')"
   ]
  },
  {
   "cell_type": "code",
   "execution_count": null,
   "metadata": {},
   "outputs": [],
   "source": [
    "gym_df.info()"
   ]
  },
  {
   "cell_type": "code",
   "execution_count": null,
   "metadata": {},
   "outputs": [],
   "source": [
    "gym_df.describe()"
   ]
  },
  {
   "cell_type": "code",
   "execution_count": null,
   "metadata": {},
   "outputs": [],
   "source": [
    "gym_df.head()"
   ]
  },
  {
   "cell_type": "markdown",
   "metadata": {},
   "source": [
    "I have there are no missing values and  no categorical data types. The mean values suggest that there is an even split between men and women. With a mean value of 0.84 and a standard deviation of .36 it also seems that most of the customers live near the gym's location. A small mean value of 0.31 suggests that most of the clients did not start their membership as part of the 'Bring a friend' promotion. The average customer age is 29 and has 4 months left on their contract. \n"
   ]
  },
  {
   "cell_type": "markdown",
   "metadata": {},
   "source": [
    "# Initial Data Analysis"
   ]
  },
  {
   "cell_type": "markdown",
   "metadata": {},
   "source": [
    "My next step is to split the data into two groups, those who churned and those who did not and study the mean values for each group.\n"
   ]
  },
  {
   "cell_type": "code",
   "execution_count": null,
   "metadata": {},
   "outputs": [],
   "source": [
    "churn_df=gym_df.groupby('Churn')\n",
    "churn_df.head()"
   ]
  },
  {
   "cell_type": "code",
   "execution_count": null,
   "metadata": {},
   "outputs": [],
   "source": [
    "pd.set_option('max_rows', None)\n",
    "churn_df.describe().T\n"
   ]
  },
  {
   "cell_type": "markdown",
   "metadata": {},
   "source": [
    "The mean values for customers who did NOT churn:\n",
    "\n",
    "There is still an even split of gender (0.51), more live closer to the gym with a mean value 0.87 with sd of 0.33. Those who did not churn have a higher mean value of belonging to partner companies (0.534) and not many came from promo friends but higher than the churn group at 0.35. This group also has a longer contract period, avg of 5.75, higher group visits at 0.46, and accrued more additional chrges at 158. This group also went to more classes with a mean value of 2.02.\n",
    "\n",
    "The mean values for customers who DID churn:\n",
    "\n",
    "There is an even split of gender between the genders (0.51) and most live near the location(.77). There is a mean value of 0.355 for being part of a partner company whih suuggests that most are not. This group has a lower mean value for their contract period at 1.72 with a standard deviation of 2.13. The mean value of group visits is also lower at 0.27. The mean value for this group's additional charge is 115 with a standard deviation of 77.7. "
   ]
  },
  {
   "cell_type": "markdown",
   "metadata": {},
   "source": [
    "Let's plot histograms that will display the feature distribution for the group of cients that did not churn."
   ]
  },
  {
   "cell_type": "code",
   "execution_count": null,
   "metadata": {},
   "outputs": [],
   "source": [
    "for column in gym_df.columns:\n",
    "    sns.histplot(gym_df, x=column, bins=10, hue='Churn')\n",
    "    plt.title(column)\n",
    "    plt.show()"
   ]
  },
  {
   "cell_type": "markdown",
   "metadata": {},
   "source": [
    "The values for the average additional charge total is skewed to the right, as well is the lifetime feature. Average class frequency is a little skewed and there don't seem to be any major outliers."
   ]
  },
  {
   "cell_type": "markdown",
   "metadata": {},
   "source": [
    "Now I would like to check if there is any correlation between the features and the target (churn) or between the features themselves."
   ]
  },
  {
   "cell_type": "code",
   "execution_count": null,
   "metadata": {},
   "outputs": [],
   "source": [
    "gym_corr=gym_df.corr()\n",
    "plt.figure(figsize=(15,15))\n",
    "sns.heatmap(gym_corr,annot=True,square=True)\n",
    "plt.show()"
   ]
  },
  {
   "cell_type": "markdown",
   "metadata": {},
   "source": [
    "There is a strong correlation between contract period and month to end of contract and another strong correlation between avg_ class frequency and avg class frequency current month. This makes sense as both features are measuring the same thing. In an attempt to optimize the model, I will drop month to end and avg classs frequency. "
   ]
  },
  {
   "cell_type": "code",
   "execution_count": null,
   "metadata": {},
   "outputs": [],
   "source": [
    "gym_df=gym_df.drop(['Month_to_end_contract','Avg_class_frequency_current_month'],axis=1)"
   ]
  },
  {
   "cell_type": "markdown",
   "metadata": {},
   "source": [
    "# Model Building"
   ]
  },
  {
   "cell_type": "markdown",
   "metadata": {},
   "source": [
    "Now that I am done pre-processing and the data and checking the distributions, I will build a binary classification model for customers where the target feature is the user's leaving next month"
   ]
  },
  {
   "cell_type": "markdown",
   "metadata": {},
   "source": [
    "First step is to divide the data into train and validation sets using the train_test_split() "
   ]
  },
  {
   "cell_type": "code",
   "execution_count": null,
   "metadata": {},
   "outputs": [],
   "source": [
    "#creating the feature matrix and the target variable\n",
    "X = gym_df.drop(['Churn'], axis=1)\n",
    "y= gym_df['Churn']"
   ]
  },
  {
   "cell_type": "code",
   "execution_count": null,
   "metadata": {},
   "outputs": [],
   "source": [
    "#splitting the data\n",
    "X_train,X_test,y_train,y_test= train_test_split(X,y, test_size=0.2, random_state=0, stratify=y)"
   ]
  },
  {
   "cell_type": "markdown",
   "metadata": {},
   "source": [
    "I will be working with and comparing two models: Logistic Regression and Random Forest. I will train the models, have them calculate predictions and then compare their metrics."
   ]
  },
  {
   "cell_type": "code",
   "execution_count": null,
   "metadata": {},
   "outputs": [],
   "source": [
    "X_train"
   ]
  },
  {
   "cell_type": "code",
   "execution_count": null,
   "metadata": {},
   "outputs": [],
   "source": [
    "#logistic regression\n",
    "lo_model= LogisticRegression(random_state=0, max_iter=1000)\n",
    "lo_model.fit(X_train,y_train)\n",
    "lo_pred= lo_model.predict(X_test)\n",
    "lo_prob= lo_model.predict_proba(X_test)[:,1]"
   ]
  },
  {
   "cell_type": "code",
   "execution_count": null,
   "metadata": {},
   "outputs": [],
   "source": [
    "#metrics for logistic regression\n",
    "print(f'Accuracy: {accuracy_score(y_test,lo_pred)}')\n",
    "print(f'Precision: {precision_score(y_test,lo_pred):.2f}')\n",
    "print(f'Recall: {recall_score(y_test,lo_pred):.2f}')\n",
    "\n"
   ]
  },
  {
   "cell_type": "code",
   "execution_count": null,
   "metadata": {},
   "outputs": [],
   "source": [
    "#random forest\n",
    "rf_model= RandomForestClassifier(random_state=0)\n",
    "rf_model.fit(X_train,y_train)\n",
    "rf_pred=rf_model.predict(X_test)\n",
    "rf_prob= rf_model.predict_proba(X_test)[:,1]"
   ]
  },
  {
   "cell_type": "code",
   "execution_count": null,
   "metadata": {},
   "outputs": [],
   "source": [
    "#metrics for random forest\n",
    "print('Accuracy: {:.2f}'.format(accuracy_score(y_test,rf_pred)))\n",
    "print('Precision: {:.2f}'.format(precision_score(y_test,rf_pred)))\n",
    "print('Recall: {:.2f}'.format(recall_score(y_test,rf_pred)))"
   ]
  },
  {
   "cell_type": "markdown",
   "metadata": {},
   "source": [
    "Though the models are very close in similarity, Random Forst performs a bit better as evidenced by having higher metrics of Accuracy, Precision, and Recall. "
   ]
  },
  {
   "cell_type": "markdown",
   "metadata": {},
   "source": [
    "# User Clusters"
   ]
  },
  {
   "cell_type": "markdown",
   "metadata": {},
   "source": [
    "Now I will split the data into clusters to ascertain which type of customer is more likely to churn. The first step to this is to standardize the data."
   ]
  },
  {
   "cell_type": "code",
   "execution_count": null,
   "metadata": {
    "scrolled": true
   },
   "outputs": [],
   "source": [
    "#Standardize the data using StandardScaler()\n",
    "sc = StandardScaler()\n",
    "X_sc=sc.fit_transform(X)\n"
   ]
  },
  {
   "cell_type": "markdown",
   "metadata": {},
   "source": [
    "I will also be using the linkage() function to build a matrix of distances based on the standardized feature matrix (X_sc) and then I will visualize this using a dendogram which I will analyze to determine how many clusters I want. "
   ]
  },
  {
   "cell_type": "code",
   "execution_count": null,
   "metadata": {},
   "outputs": [],
   "source": [
    "link=linkage(X_sc, method='ward')\n"
   ]
  },
  {
   "cell_type": "code",
   "execution_count": null,
   "metadata": {},
   "outputs": [],
   "source": [
    "plt.figure(figsize=(10, 10))  \n",
    "dendrogram(link, orientation='top')\n",
    "plt.title('Clustering for Gym Churn')\n",
    "plt.show()"
   ]
  },
  {
   "cell_type": "markdown",
   "metadata": {},
   "source": [
    "Based on the dendogram I will be using 5 clusters in my KMeans model. \n"
   ]
  },
  {
   "cell_type": "code",
   "execution_count": null,
   "metadata": {},
   "outputs": [],
   "source": [
    "km=KMeans(n_clusters=5, random_state=0)\n",
    "labels=km.fit_predict(X_sc)"
   ]
  },
  {
   "cell_type": "markdown",
   "metadata": {},
   "source": [
    "Now that we have our cluster, I will be looking at the mean feature values for each."
   ]
  },
  {
   "cell_type": "code",
   "execution_count": null,
   "metadata": {},
   "outputs": [],
   "source": [
    "gym_df['cluster']=labels"
   ]
  },
  {
   "cell_type": "code",
   "execution_count": null,
   "metadata": {},
   "outputs": [],
   "source": [
    "pd.set_option('max_columns', None)\n",
    "gym_df.groupby('cluster').describe().T"
   ]
  },
  {
   "cell_type": "markdown",
   "metadata": {},
   "source": [
    "There is a big difference in mean values for the 'partner' parameter, with those in cluster 2 and 3 having a low value of .24 and .25 and those in cluster 1 having a much higher value at .95(meaning most of them were affiliated with partner companies).\n",
    "\n",
    "Cluster 1 has the highest mean value for lifetime membership at 4.4 with clsuter 0 having the lowest at 3.06.\n",
    "\n",
    "When it comes to average additional charges, cluster 1 has the highest mean value at 155 with cluster 0 having the lowest at 137.5.\n",
    "\n",
    "Those in cluster 1 have a much higher contract period at a mean value of 7.67 while the other clusters have mean values that range from 2 to 4 which also lends to a higher mean value for month to end of contract. Cluster 3 had the highest mean value for group visits and cluster 2 had the lowest."
   ]
  },
  {
   "cell_type": "markdown",
   "metadata": {},
   "source": [
    "Now I am going to plot the distribution of the numerical features of each cluster."
   ]
  },
  {
   "cell_type": "code",
   "execution_count": null,
   "metadata": {
    "scrolled": true
   },
   "outputs": [],
   "source": [
    "#Contract period\n",
    "sns.boxplot(data=gym_df, x='cluster', y='Contract_period')\n",
    "plt.title('Contract Period')\n",
    "plt.show()"
   ]
  },
  {
   "cell_type": "code",
   "execution_count": null,
   "metadata": {
    "scrolled": true
   },
   "outputs": [],
   "source": [
    "#Group visits\n",
    "sns.boxplot(data=gym_df, x='cluster', y='Group_visits')\n",
    "plt.title('Group Visits')\n",
    "plt.show()"
   ]
  },
  {
   "cell_type": "code",
   "execution_count": null,
   "metadata": {
    "scrolled": false
   },
   "outputs": [],
   "source": [
    "#Average Additional Charges Total\n",
    "sns.boxplot(data=gym_df, x='cluster', y='Avg_additional_charges_total')\n",
    "plt.title('Average Additional Charges Total')\n",
    "plt.show()"
   ]
  },
  {
   "cell_type": "code",
   "execution_count": null,
   "metadata": {
    "scrolled": true
   },
   "outputs": [],
   "source": [
    "#Lifetime\n",
    "sns.boxplot(data=gym_df, x='cluster', y='Lifetime')\n",
    "plt.title('Lifetime')\n",
    "plt.show()"
   ]
  },
  {
   "cell_type": "code",
   "execution_count": null,
   "metadata": {
    "scrolled": true
   },
   "outputs": [],
   "source": [
    "#Average Class Frequency Total\n",
    "sns.boxplot(data=gym_df, x='cluster', y='Avg_class_frequency_total')\n",
    "plt.title('Average Class Frequency Total')\n",
    "plt.show()"
   ]
  },
  {
   "cell_type": "code",
   "execution_count": null,
   "metadata": {},
   "outputs": [],
   "source": [
    "#Age\n",
    "sns.boxplot(data=gym_df, x='cluster', y='Age')\n",
    "plt.title('Age')\n",
    "plt.show()"
   ]
  },
  {
   "cell_type": "markdown",
   "metadata": {},
   "source": [
    "For the most part these distributions are similar to the ones above where the Lifetime and average additional charges are skewed to the right. The age features tends to be normally distributed for all clusters.\n",
    "For average additional charges total cluster 0 has the most variance. Cluster 1 has the highest observation for average class frequency."
   ]
  },
  {
   "cell_type": "markdown",
   "metadata": {},
   "source": [
    "My final step will be calculating the churn rate for each cluster to see if they differ. This will also shend light on which clusters are prone to leaving.\n",
    "I will be calculating the churn rate within the individual clusters and also from the dataframe as a whole."
   ]
  },
  {
   "cell_type": "code",
   "execution_count": null,
   "metadata": {
    "scrolled": true
   },
   "outputs": [],
   "source": [
    "#cluster 0 churn rate\n",
    "gym_df.query('cluster ==0')['Churn'].mean()"
   ]
  },
  {
   "cell_type": "code",
   "execution_count": null,
   "metadata": {},
   "outputs": [],
   "source": [
    "#cluster 1 churn rate\n",
    "\n",
    "gym_df.query('cluster ==1')['Churn'].mean()"
   ]
  },
  {
   "cell_type": "code",
   "execution_count": null,
   "metadata": {},
   "outputs": [],
   "source": [
    "#cluster 2 churn rate\n",
    "gym_df.query('cluster ==2')['Churn'].mean()"
   ]
  },
  {
   "cell_type": "code",
   "execution_count": null,
   "metadata": {},
   "outputs": [],
   "source": [
    "#cluster 3 churn rate\n",
    "gym_df.query('cluster ==3')['Churn'].mean()"
   ]
  },
  {
   "cell_type": "code",
   "execution_count": null,
   "metadata": {},
   "outputs": [],
   "source": [
    "#cluster 4 churn rate\n",
    "gym_df.query('cluster ==4')['Churn'].mean()"
   ]
  },
  {
   "cell_type": "markdown",
   "metadata": {},
   "source": [
    "Churn rate for clusters:\n",
    "\n",
    "0- 40%\n",
    "\n",
    "1- 12%\n",
    "\n",
    "2- 38%\n",
    "\n",
    "3- 20%\n",
    "\n",
    "4- 27%\n",
    "\n",
    "There's a great difference between clusters with those 40% of clients in cluster 0 churning versus only 12% in cluster 1. Those prone to leaving belong in clusters 0 and 2, with those that are more likely to be loyal belonging to cluster 1 and 3. "
   ]
  },
  {
   "cell_type": "markdown",
   "metadata": {},
   "source": [
    "<div class=\"alert alert-block alert-warning\">\n",
    "<b>Reviewer's comment V2</b> <a class=\"tocSkip\"></a>\n",
    "\n",
    "We could do it in one line, but ok.\n",
    "</div>\n"
   ]
  },
  {
   "cell_type": "markdown",
   "metadata": {},
   "source": [
    "# Conclusions and Recommendations"
   ]
  },
  {
   "cell_type": "code",
   "execution_count": null,
   "metadata": {},
   "outputs": [],
   "source": [
    "gym_df.groupby('cluster').describe().T"
   ]
  },
  {
   "cell_type": "markdown",
   "metadata": {},
   "source": [
    "The goal of this report was to identify the type of customer that is more likely to churn and the type of customer that tends to stay loyal to Model Fitness. To do this first I had to pre-proess the data to determine if there were any missing values or categorical data types that would need to be converted. After this I analyzed the mean values of all the features of the dataframe as a whole and then split into two groups (does who churned and does who did not). There were differences in the mean values of these groups with loyal customers taking classes more frequently and spending more money on additional charges. The mean values also showed that the loyal customers had longer membership plans. \n",
    "\n",
    "My next step was then training two models (Logistic Regression and Random Forest) and then comparing their metrics (Precision, Accuracy, and Recall) to see which model was better at predicting whether or not a customer would churn. Though the metrics were close, Random Forest Classifier performed better.\n",
    "\n",
    "The next goal was to form clusters with the clients to be able to pinpoint the commonalities between customers and to find the tpye of the customer that is more likely to churn. In plotting a dendogram and using KMeans I was left with 5 different clusters that had unique mean values across the features. \n",
    "\n",
    "My conclusion from my analyses is that customers who belong in cluster 0 or 2 are more likely to churn while those in cluster 1 and 4 are more prone to staying loyal.\n",
    "\n",
    "My recommendation would be to focus on the following principles--\n",
    "\n",
    "Additional charges: Gear more marketing resources towards promoting and advertising the secondary services the gym provides such as the cafe, athletic goods and massages. I would also suggest perhaps making a sale with the massage services such as get 1 massage and get the next one at a discounted rate. The data shows that those who spent more money additional charges were less likely to churn.\n",
    "\n",
    "Group visits: As customers with higher group visits are more likely to remain loyal, I would offer promotions that are geared towards groups. Perhaps also throwing in a discounted or free service such as merchandise to clients who come in with groups of 3 or more. \n",
    "\n",
    "Class attendance: In order to boost class attendance I would recommend emailing out a survey to the customer base to get their thoughts on what kind of classes they would like to see offered. Getting new classes in that cater to the interest of the clients may encourage them to attend more classes. Customers with high class attendance are not as likely to churn.\n",
    "\n",
    "For example: Sugggestions in action for cluster 0--\n",
    "\n",
    "\n",
    "For clients in cluster 0 I would suggest offering them a discount: a buy one get one at 50% discount rate for massages and also give them a punch card for the cafe. Once they make their 10th purchase, they can get a free beverage. I would also send out surveys to those in cluster 0 asking them to fill in what kind of classes they would like to see offered. Once they complete that survey, they will be rewarded with a one-time free pass for a class.\n"
   ]
  }
 ],
 "metadata": {
  "ExecuteTimeLog": [
   {
    "duration": 1592,
    "start_time": "2022-08-25T16:36:20.763Z"
   },
   {
    "duration": 73,
    "start_time": "2022-08-25T16:37:17.807Z"
   },
   {
    "duration": 32,
    "start_time": "2022-08-25T16:37:28.219Z"
   },
   {
    "duration": 18,
    "start_time": "2022-08-25T16:37:34.750Z"
   },
   {
    "duration": 61,
    "start_time": "2022-08-25T16:37:41.656Z"
   },
   {
    "duration": 122,
    "start_time": "2022-08-25T16:37:49.026Z"
   },
   {
    "duration": 12,
    "start_time": "2022-08-25T16:37:51.926Z"
   },
   {
    "duration": 23,
    "start_time": "2022-08-25T16:47:17.595Z"
   },
   {
    "duration": 96,
    "start_time": "2022-08-25T16:52:35.753Z"
   },
   {
    "duration": 27,
    "start_time": "2022-08-25T16:53:17.587Z"
   },
   {
    "duration": 79,
    "start_time": "2022-08-25T16:53:24.934Z"
   },
   {
    "duration": 55,
    "start_time": "2022-08-25T16:53:55.705Z"
   },
   {
    "duration": 89,
    "start_time": "2022-08-25T16:53:59.971Z"
   },
   {
    "duration": 67,
    "start_time": "2022-08-25T16:57:26.554Z"
   },
   {
    "duration": 79,
    "start_time": "2022-08-25T16:57:37.157Z"
   },
   {
    "duration": 60,
    "start_time": "2022-08-25T16:57:54.526Z"
   },
   {
    "duration": 132,
    "start_time": "2022-08-25T16:58:04.871Z"
   },
   {
    "duration": 18,
    "start_time": "2022-08-25T17:11:27.944Z"
   },
   {
    "duration": 16,
    "start_time": "2022-08-25T17:12:14.061Z"
   },
   {
    "duration": 26,
    "start_time": "2022-08-25T17:12:27.423Z"
   },
   {
    "duration": 17,
    "start_time": "2022-08-25T17:13:23.997Z"
   },
   {
    "duration": 6,
    "start_time": "2022-08-25T17:13:34.660Z"
   },
   {
    "duration": 20,
    "start_time": "2022-08-25T17:14:08.735Z"
   },
   {
    "duration": 17,
    "start_time": "2022-08-25T17:14:16.873Z"
   },
   {
    "duration": 20,
    "start_time": "2022-08-25T17:14:27.130Z"
   },
   {
    "duration": 7,
    "start_time": "2022-08-25T17:14:53.346Z"
   },
   {
    "duration": 9,
    "start_time": "2022-08-25T17:15:16.626Z"
   },
   {
    "duration": 2318,
    "start_time": "2022-08-25T17:15:30.853Z"
   },
   {
    "duration": 1979,
    "start_time": "2022-08-25T17:15:41.406Z"
   },
   {
    "duration": 1496,
    "start_time": "2022-08-25T17:17:02.278Z"
   },
   {
    "duration": 8,
    "start_time": "2022-08-25T17:17:29.940Z"
   },
   {
    "duration": 1935,
    "start_time": "2022-08-25T17:17:42.726Z"
   },
   {
    "duration": 23,
    "start_time": "2022-08-25T17:19:10.217Z"
   },
   {
    "duration": 13,
    "start_time": "2022-08-25T17:20:02.956Z"
   },
   {
    "duration": 1589,
    "start_time": "2022-08-25T17:20:07.409Z"
   },
   {
    "duration": 1472,
    "start_time": "2022-08-25T17:23:26.900Z"
   },
   {
    "duration": 1514,
    "start_time": "2022-08-25T17:23:38.709Z"
   },
   {
    "duration": 1433,
    "start_time": "2022-08-25T17:23:49.257Z"
   },
   {
    "duration": 1553,
    "start_time": "2022-08-25T17:23:55.998Z"
   },
   {
    "duration": 4,
    "start_time": "2022-08-25T17:28:59.001Z"
   },
   {
    "duration": 16,
    "start_time": "2022-08-25T17:29:05.548Z"
   },
   {
    "duration": 5,
    "start_time": "2022-08-25T17:29:12.823Z"
   },
   {
    "duration": 6,
    "start_time": "2022-08-25T17:29:24.742Z"
   },
   {
    "duration": 5,
    "start_time": "2022-08-25T17:30:48.365Z"
   },
   {
    "duration": 4,
    "start_time": "2022-08-25T17:31:41.721Z"
   },
   {
    "duration": 3,
    "start_time": "2022-08-25T17:31:49.548Z"
   },
   {
    "duration": 11,
    "start_time": "2022-08-25T17:34:15.810Z"
   },
   {
    "duration": 1166,
    "start_time": "2022-08-25T17:34:25.045Z"
   },
   {
    "duration": 809,
    "start_time": "2022-08-25T17:34:47.812Z"
   },
   {
    "duration": 1467,
    "start_time": "2022-08-25T17:35:09.129Z"
   },
   {
    "duration": 33,
    "start_time": "2022-08-25T17:35:10.598Z"
   },
   {
    "duration": 13,
    "start_time": "2022-08-25T17:35:10.632Z"
   },
   {
    "duration": 51,
    "start_time": "2022-08-25T17:35:10.647Z"
   },
   {
    "duration": 12,
    "start_time": "2022-08-25T17:35:10.700Z"
   },
   {
    "duration": 17,
    "start_time": "2022-08-25T17:35:10.714Z"
   },
   {
    "duration": 159,
    "start_time": "2022-08-25T17:35:10.732Z"
   },
   {
    "duration": 16,
    "start_time": "2022-08-25T17:35:10.893Z"
   },
   {
    "duration": 2084,
    "start_time": "2022-08-25T17:35:10.911Z"
   },
   {
    "duration": 2082,
    "start_time": "2022-08-25T17:35:12.998Z"
   },
   {
    "duration": 1661,
    "start_time": "2022-08-25T17:35:15.081Z"
   },
   {
    "duration": 4,
    "start_time": "2022-08-25T17:35:16.744Z"
   },
   {
    "duration": 13,
    "start_time": "2022-08-25T17:35:16.750Z"
   },
   {
    "duration": 953,
    "start_time": "2022-08-25T17:35:16.765Z"
   },
   {
    "duration": 373,
    "start_time": "2022-08-25T17:44:04.937Z"
   },
   {
    "duration": 165,
    "start_time": "2022-08-25T17:48:37.037Z"
   },
   {
    "duration": 44,
    "start_time": "2022-08-25T17:49:02.375Z"
   },
   {
    "duration": 4,
    "start_time": "2022-08-25T17:49:04.838Z"
   },
   {
    "duration": 12,
    "start_time": "2022-08-25T17:49:08.519Z"
   },
   {
    "duration": 13,
    "start_time": "2022-08-25T17:56:26.272Z"
   },
   {
    "duration": 10,
    "start_time": "2022-08-25T17:59:00.742Z"
   },
   {
    "duration": 4,
    "start_time": "2022-08-25T17:59:26.642Z"
   },
   {
    "duration": 613,
    "start_time": "2022-08-25T18:06:01.166Z"
   },
   {
    "duration": 124048,
    "start_time": "2022-08-25T18:06:09.288Z"
   },
   {
    "duration": 253,
    "start_time": "2022-08-25T18:08:59.201Z"
   },
   {
    "duration": 118029,
    "start_time": "2022-08-25T18:09:07.229Z"
   },
   {
    "duration": 1298,
    "start_time": "2022-08-25T18:16:51.427Z"
   },
   {
    "duration": 4,
    "start_time": "2022-08-25T18:17:18.335Z"
   },
   {
    "duration": 259,
    "start_time": "2022-08-25T18:18:35.277Z"
   },
   {
    "duration": 12,
    "start_time": "2022-08-25T18:22:19.565Z"
   },
   {
    "duration": 8,
    "start_time": "2022-08-25T18:23:54.647Z"
   },
   {
    "duration": 2503,
    "start_time": "2022-08-25T18:24:18.263Z"
   },
   {
    "duration": 2317,
    "start_time": "2022-08-25T18:24:21.328Z"
   },
   {
    "duration": 2242,
    "start_time": "2022-08-25T18:24:23.647Z"
   },
   {
    "duration": 2393,
    "start_time": "2022-08-25T18:24:27.389Z"
   },
   {
    "duration": 2364,
    "start_time": "2022-08-25T18:24:30.025Z"
   },
   {
    "duration": 52,
    "start_time": "2022-08-25T20:26:10.082Z"
   },
   {
    "duration": 1624,
    "start_time": "2022-08-25T20:26:19.543Z"
   },
   {
    "duration": 126,
    "start_time": "2022-08-25T20:26:21.170Z"
   },
   {
    "duration": 14,
    "start_time": "2022-08-25T20:26:21.298Z"
   },
   {
    "duration": 53,
    "start_time": "2022-08-25T20:26:21.314Z"
   },
   {
    "duration": 23,
    "start_time": "2022-08-25T20:26:21.369Z"
   },
   {
    "duration": 18,
    "start_time": "2022-08-25T20:26:21.394Z"
   },
   {
    "duration": 179,
    "start_time": "2022-08-25T20:26:21.415Z"
   },
   {
    "duration": 8,
    "start_time": "2022-08-25T20:26:21.596Z"
   },
   {
    "duration": 2241,
    "start_time": "2022-08-25T20:26:21.606Z"
   },
   {
    "duration": 2268,
    "start_time": "2022-08-25T20:26:23.850Z"
   },
   {
    "duration": 1720,
    "start_time": "2022-08-25T20:26:26.119Z"
   },
   {
    "duration": 5,
    "start_time": "2022-08-25T20:26:27.842Z"
   },
   {
    "duration": 14,
    "start_time": "2022-08-25T20:26:27.849Z"
   },
   {
    "duration": 1033,
    "start_time": "2022-08-25T20:26:27.865Z"
   },
   {
    "duration": 96,
    "start_time": "2022-08-25T20:26:28.903Z"
   },
   {
    "duration": 507,
    "start_time": "2022-08-25T20:26:29.001Z"
   },
   {
    "duration": 7,
    "start_time": "2022-08-25T20:26:29.510Z"
   },
   {
    "duration": 129,
    "start_time": "2022-08-25T20:26:29.518Z"
   },
   {
    "duration": 0,
    "start_time": "2022-08-25T20:26:29.649Z"
   },
   {
    "duration": 0,
    "start_time": "2022-08-25T20:26:29.650Z"
   },
   {
    "duration": 0,
    "start_time": "2022-08-25T20:26:29.652Z"
   },
   {
    "duration": 0,
    "start_time": "2022-08-25T20:26:29.652Z"
   },
   {
    "duration": 0,
    "start_time": "2022-08-25T20:26:29.654Z"
   },
   {
    "duration": 0,
    "start_time": "2022-08-25T20:26:29.655Z"
   },
   {
    "duration": 0,
    "start_time": "2022-08-25T20:26:29.656Z"
   },
   {
    "duration": 0,
    "start_time": "2022-08-25T20:26:29.657Z"
   },
   {
    "duration": 0,
    "start_time": "2022-08-25T20:26:29.658Z"
   },
   {
    "duration": 0,
    "start_time": "2022-08-25T20:26:29.659Z"
   },
   {
    "duration": 0,
    "start_time": "2022-08-25T20:26:29.660Z"
   },
   {
    "duration": 0,
    "start_time": "2022-08-25T20:26:29.662Z"
   },
   {
    "duration": 0,
    "start_time": "2022-08-25T20:26:29.663Z"
   },
   {
    "duration": 8,
    "start_time": "2022-08-25T20:28:23.820Z"
   },
   {
    "duration": 8,
    "start_time": "2022-08-25T20:28:26.635Z"
   },
   {
    "duration": 591,
    "start_time": "2022-08-25T20:28:26.645Z"
   },
   {
    "duration": 8059,
    "start_time": "2022-08-25T20:28:27.237Z"
   },
   {
    "duration": 0,
    "start_time": "2022-08-25T20:28:35.298Z"
   },
   {
    "duration": 1,
    "start_time": "2022-08-25T20:28:35.299Z"
   },
   {
    "duration": 0,
    "start_time": "2022-08-25T20:28:35.301Z"
   },
   {
    "duration": 0,
    "start_time": "2022-08-25T20:28:35.302Z"
   },
   {
    "duration": 0,
    "start_time": "2022-08-25T20:28:35.303Z"
   },
   {
    "duration": 0,
    "start_time": "2022-08-25T20:28:35.304Z"
   },
   {
    "duration": 0,
    "start_time": "2022-08-25T20:28:35.305Z"
   },
   {
    "duration": 0,
    "start_time": "2022-08-25T20:28:35.305Z"
   },
   {
    "duration": 0,
    "start_time": "2022-08-25T20:28:35.306Z"
   },
   {
    "duration": 0,
    "start_time": "2022-08-25T20:28:35.308Z"
   },
   {
    "duration": 0,
    "start_time": "2022-08-25T20:28:35.309Z"
   },
   {
    "duration": 1552,
    "start_time": "2022-08-25T20:28:57.143Z"
   },
   {
    "duration": 36,
    "start_time": "2022-08-25T20:28:58.697Z"
   },
   {
    "duration": 14,
    "start_time": "2022-08-25T20:28:58.735Z"
   },
   {
    "duration": 63,
    "start_time": "2022-08-25T20:28:58.751Z"
   },
   {
    "duration": 13,
    "start_time": "2022-08-25T20:28:58.817Z"
   },
   {
    "duration": 65,
    "start_time": "2022-08-25T20:28:58.833Z"
   },
   {
    "duration": 156,
    "start_time": "2022-08-25T20:28:58.899Z"
   },
   {
    "duration": 9,
    "start_time": "2022-08-25T20:28:59.057Z"
   },
   {
    "duration": 2405,
    "start_time": "2022-08-25T20:28:59.068Z"
   },
   {
    "duration": 2358,
    "start_time": "2022-08-25T20:29:01.475Z"
   },
   {
    "duration": 1709,
    "start_time": "2022-08-25T20:29:03.834Z"
   },
   {
    "duration": 5,
    "start_time": "2022-08-25T20:29:05.546Z"
   },
   {
    "duration": 16,
    "start_time": "2022-08-25T20:29:05.553Z"
   },
   {
    "duration": 1829,
    "start_time": "2022-08-25T20:29:05.572Z"
   },
   {
    "duration": 10,
    "start_time": "2022-08-25T20:29:07.493Z"
   },
   {
    "duration": 469,
    "start_time": "2022-08-25T20:29:07.505Z"
   },
   {
    "duration": 23,
    "start_time": "2022-08-25T20:29:07.976Z"
   },
   {
    "duration": 9,
    "start_time": "2022-08-25T20:29:08.002Z"
   },
   {
    "duration": 658,
    "start_time": "2022-08-25T20:29:08.013Z"
   },
   {
    "duration": 124439,
    "start_time": "2022-08-25T20:29:08.674Z"
   },
   {
    "duration": 1583,
    "start_time": "2022-08-25T20:31:13.115Z"
   },
   {
    "duration": 5,
    "start_time": "2022-08-25T20:31:14.700Z"
   },
   {
    "duration": 269,
    "start_time": "2022-08-25T20:31:14.707Z"
   },
   {
    "duration": 22,
    "start_time": "2022-08-25T20:31:14.977Z"
   },
   {
    "duration": 2567,
    "start_time": "2022-08-25T20:31:15.001Z"
   },
   {
    "duration": 2573,
    "start_time": "2022-08-25T20:31:17.570Z"
   },
   {
    "duration": 2607,
    "start_time": "2022-08-25T20:31:20.146Z"
   },
   {
    "duration": 2501,
    "start_time": "2022-08-25T20:31:22.755Z"
   },
   {
    "duration": 2424,
    "start_time": "2022-08-25T20:31:25.258Z"
   },
   {
    "duration": 9,
    "start_time": "2022-08-25T20:31:27.683Z"
   },
   {
    "duration": 19,
    "start_time": "2022-08-25T20:33:58.336Z"
   },
   {
    "duration": 118,
    "start_time": "2022-08-25T21:08:27.446Z"
   },
   {
    "duration": 5,
    "start_time": "2022-08-25T21:08:49.774Z"
   },
   {
    "duration": 10,
    "start_time": "2022-08-25T21:08:58.758Z"
   },
   {
    "duration": 15,
    "start_time": "2022-08-25T21:09:21.919Z"
   },
   {
    "duration": 25,
    "start_time": "2022-08-25T21:11:02.967Z"
   },
   {
    "duration": 7,
    "start_time": "2022-08-25T21:11:20.680Z"
   },
   {
    "duration": 7,
    "start_time": "2022-08-25T21:12:58.371Z"
   },
   {
    "duration": 7,
    "start_time": "2022-08-25T21:14:16.091Z"
   },
   {
    "duration": 7,
    "start_time": "2022-08-25T21:14:19.241Z"
   },
   {
    "duration": 7,
    "start_time": "2022-08-25T21:14:21.108Z"
   },
   {
    "duration": 8,
    "start_time": "2022-08-25T21:14:23.131Z"
   },
   {
    "duration": 7,
    "start_time": "2022-08-25T21:34:54.316Z"
   },
   {
    "duration": 7,
    "start_time": "2022-08-25T21:35:13.240Z"
   },
   {
    "duration": 6,
    "start_time": "2022-08-25T21:35:26.198Z"
   },
   {
    "duration": 7,
    "start_time": "2022-08-25T21:35:33.478Z"
   },
   {
    "duration": 7,
    "start_time": "2022-08-25T21:48:42.096Z"
   },
   {
    "duration": 45,
    "start_time": "2022-08-26T02:15:23.831Z"
   },
   {
    "duration": 6,
    "start_time": "2022-08-26T02:15:28.460Z"
   },
   {
    "duration": 1851,
    "start_time": "2022-08-26T02:15:35.364Z"
   },
   {
    "duration": 68,
    "start_time": "2022-08-26T02:15:37.217Z"
   },
   {
    "duration": 11,
    "start_time": "2022-08-26T02:15:37.286Z"
   },
   {
    "duration": 45,
    "start_time": "2022-08-26T02:15:37.299Z"
   },
   {
    "duration": 10,
    "start_time": "2022-08-26T02:15:37.346Z"
   },
   {
    "duration": 34,
    "start_time": "2022-08-26T02:15:37.358Z"
   },
   {
    "duration": 139,
    "start_time": "2022-08-26T02:15:37.394Z"
   },
   {
    "duration": 9,
    "start_time": "2022-08-26T02:15:37.535Z"
   },
   {
    "duration": 2052,
    "start_time": "2022-08-26T02:15:37.546Z"
   },
   {
    "duration": 2160,
    "start_time": "2022-08-26T02:15:39.600Z"
   },
   {
    "duration": 1517,
    "start_time": "2022-08-26T02:15:41.762Z"
   },
   {
    "duration": 111,
    "start_time": "2022-08-26T02:15:43.281Z"
   },
   {
    "duration": 0,
    "start_time": "2022-08-26T02:15:43.394Z"
   },
   {
    "duration": 0,
    "start_time": "2022-08-26T02:15:43.396Z"
   },
   {
    "duration": 0,
    "start_time": "2022-08-26T02:15:43.397Z"
   },
   {
    "duration": 0,
    "start_time": "2022-08-26T02:15:43.398Z"
   },
   {
    "duration": 0,
    "start_time": "2022-08-26T02:15:43.399Z"
   },
   {
    "duration": 0,
    "start_time": "2022-08-26T02:15:43.400Z"
   },
   {
    "duration": 0,
    "start_time": "2022-08-26T02:15:43.402Z"
   },
   {
    "duration": 0,
    "start_time": "2022-08-26T02:15:43.403Z"
   },
   {
    "duration": 0,
    "start_time": "2022-08-26T02:15:43.403Z"
   },
   {
    "duration": 0,
    "start_time": "2022-08-26T02:15:43.404Z"
   },
   {
    "duration": 0,
    "start_time": "2022-08-26T02:15:43.405Z"
   },
   {
    "duration": 0,
    "start_time": "2022-08-26T02:15:43.406Z"
   },
   {
    "duration": 0,
    "start_time": "2022-08-26T02:15:43.407Z"
   },
   {
    "duration": 0,
    "start_time": "2022-08-26T02:15:43.408Z"
   },
   {
    "duration": 0,
    "start_time": "2022-08-26T02:15:43.409Z"
   },
   {
    "duration": 0,
    "start_time": "2022-08-26T02:15:43.410Z"
   },
   {
    "duration": 0,
    "start_time": "2022-08-26T02:15:43.411Z"
   },
   {
    "duration": 0,
    "start_time": "2022-08-26T02:15:43.412Z"
   },
   {
    "duration": 0,
    "start_time": "2022-08-26T02:15:43.413Z"
   },
   {
    "duration": 0,
    "start_time": "2022-08-26T02:15:43.414Z"
   },
   {
    "duration": 0,
    "start_time": "2022-08-26T02:15:43.415Z"
   },
   {
    "duration": 0,
    "start_time": "2022-08-26T02:15:43.416Z"
   },
   {
    "duration": 0,
    "start_time": "2022-08-26T02:15:43.417Z"
   },
   {
    "duration": 0,
    "start_time": "2022-08-26T02:15:43.418Z"
   },
   {
    "duration": 0,
    "start_time": "2022-08-26T02:15:43.418Z"
   },
   {
    "duration": 0,
    "start_time": "2022-08-26T02:15:43.419Z"
   },
   {
    "duration": 0,
    "start_time": "2022-08-26T02:15:43.420Z"
   },
   {
    "duration": 0,
    "start_time": "2022-08-26T02:15:43.421Z"
   },
   {
    "duration": 0,
    "start_time": "2022-08-26T02:15:43.422Z"
   },
   {
    "duration": 9,
    "start_time": "2022-08-26T02:16:41.958Z"
   },
   {
    "duration": 4,
    "start_time": "2022-08-26T02:16:49.685Z"
   },
   {
    "duration": 1349,
    "start_time": "2022-08-26T02:16:56.104Z"
   },
   {
    "duration": 33,
    "start_time": "2022-08-26T02:16:57.455Z"
   },
   {
    "duration": 11,
    "start_time": "2022-08-26T02:16:57.489Z"
   },
   {
    "duration": 49,
    "start_time": "2022-08-26T02:16:57.503Z"
   },
   {
    "duration": 13,
    "start_time": "2022-08-26T02:16:57.554Z"
   },
   {
    "duration": 16,
    "start_time": "2022-08-26T02:16:57.586Z"
   },
   {
    "duration": 155,
    "start_time": "2022-08-26T02:16:57.604Z"
   },
   {
    "duration": 24,
    "start_time": "2022-08-26T02:16:57.761Z"
   },
   {
    "duration": 2010,
    "start_time": "2022-08-26T02:16:57.786Z"
   },
   {
    "duration": 1952,
    "start_time": "2022-08-26T02:16:59.799Z"
   },
   {
    "duration": 1622,
    "start_time": "2022-08-26T02:17:01.752Z"
   },
   {
    "duration": 4,
    "start_time": "2022-08-26T02:17:03.376Z"
   },
   {
    "duration": 10,
    "start_time": "2022-08-26T02:17:03.382Z"
   },
   {
    "duration": 10,
    "start_time": "2022-08-26T02:17:03.393Z"
   },
   {
    "duration": 685,
    "start_time": "2022-08-26T02:17:03.405Z"
   },
   {
    "duration": 94,
    "start_time": "2022-08-26T02:17:04.092Z"
   },
   {
    "duration": 398,
    "start_time": "2022-08-26T02:17:04.188Z"
   },
   {
    "duration": 8,
    "start_time": "2022-08-26T02:17:04.588Z"
   },
   {
    "duration": 8,
    "start_time": "2022-08-26T02:17:04.597Z"
   },
   {
    "duration": 561,
    "start_time": "2022-08-26T02:17:04.606Z"
   },
   {
    "duration": 105454,
    "start_time": "2022-08-26T02:17:05.168Z"
   },
   {
    "duration": 1266,
    "start_time": "2022-08-26T02:18:50.624Z"
   },
   {
    "duration": 91,
    "start_time": "2022-08-26T02:18:51.895Z"
   },
   {
    "duration": 211,
    "start_time": "2022-08-26T02:18:51.987Z"
   },
   {
    "duration": 12,
    "start_time": "2022-08-26T02:18:52.199Z"
   },
   {
    "duration": 2003,
    "start_time": "2022-08-26T02:18:52.212Z"
   },
   {
    "duration": 1832,
    "start_time": "2022-08-26T02:18:54.216Z"
   },
   {
    "duration": 1739,
    "start_time": "2022-08-26T02:18:56.052Z"
   },
   {
    "duration": 1846,
    "start_time": "2022-08-26T02:18:57.792Z"
   },
   {
    "duration": 1801,
    "start_time": "2022-08-26T02:18:59.640Z"
   },
   {
    "duration": 10,
    "start_time": "2022-08-26T02:19:01.443Z"
   },
   {
    "duration": 15,
    "start_time": "2022-08-26T02:19:01.455Z"
   },
   {
    "duration": 13,
    "start_time": "2022-08-26T02:19:01.472Z"
   },
   {
    "duration": 9,
    "start_time": "2022-08-26T02:19:01.487Z"
   },
   {
    "duration": 15,
    "start_time": "2022-08-26T02:19:01.498Z"
   },
   {
    "duration": 11,
    "start_time": "2022-08-26T02:19:01.515Z"
   },
   {
    "duration": 8,
    "start_time": "2022-08-26T02:19:01.528Z"
   },
   {
    "duration": 9,
    "start_time": "2022-08-26T02:19:01.538Z"
   },
   {
    "duration": 10,
    "start_time": "2022-08-26T02:19:01.549Z"
   },
   {
    "duration": 10,
    "start_time": "2022-08-26T02:19:01.560Z"
   },
   {
    "duration": 17,
    "start_time": "2022-08-26T02:19:01.572Z"
   },
   {
    "duration": 10,
    "start_time": "2022-08-26T03:01:35.565Z"
   },
   {
    "duration": 1355,
    "start_time": "2022-08-26T03:50:07.831Z"
   },
   {
    "duration": 32,
    "start_time": "2022-08-26T03:50:09.188Z"
   },
   {
    "duration": 11,
    "start_time": "2022-08-26T03:50:09.222Z"
   },
   {
    "duration": 44,
    "start_time": "2022-08-26T03:50:09.235Z"
   },
   {
    "duration": 11,
    "start_time": "2022-08-26T03:50:09.280Z"
   },
   {
    "duration": 15,
    "start_time": "2022-08-26T03:50:09.292Z"
   },
   {
    "duration": 151,
    "start_time": "2022-08-26T03:50:09.308Z"
   },
   {
    "duration": 8,
    "start_time": "2022-08-26T03:50:09.461Z"
   },
   {
    "duration": 1871,
    "start_time": "2022-08-26T03:50:09.471Z"
   },
   {
    "duration": 1935,
    "start_time": "2022-08-26T03:50:11.345Z"
   },
   {
    "duration": 1518,
    "start_time": "2022-08-26T03:50:13.281Z"
   },
   {
    "duration": 3,
    "start_time": "2022-08-26T03:50:14.801Z"
   },
   {
    "duration": 6,
    "start_time": "2022-08-26T03:50:14.806Z"
   },
   {
    "duration": 5,
    "start_time": "2022-08-26T03:50:14.814Z"
   },
   {
    "duration": 664,
    "start_time": "2022-08-26T03:50:14.821Z"
   },
   {
    "duration": 99,
    "start_time": "2022-08-26T03:50:15.487Z"
   },
   {
    "duration": 353,
    "start_time": "2022-08-26T03:50:15.587Z"
   },
   {
    "duration": 7,
    "start_time": "2022-08-26T03:50:15.942Z"
   },
   {
    "duration": 7,
    "start_time": "2022-08-26T03:50:15.950Z"
   },
   {
    "duration": 561,
    "start_time": "2022-08-26T03:50:15.959Z"
   },
   {
    "duration": 103464,
    "start_time": "2022-08-26T03:50:16.522Z"
   },
   {
    "duration": 1203,
    "start_time": "2022-08-26T03:51:59.988Z"
   },
   {
    "duration": 92,
    "start_time": "2022-08-26T03:52:01.193Z"
   },
   {
    "duration": 216,
    "start_time": "2022-08-26T03:52:01.287Z"
   },
   {
    "duration": 11,
    "start_time": "2022-08-26T03:52:01.505Z"
   },
   {
    "duration": 1935,
    "start_time": "2022-08-26T03:52:01.518Z"
   },
   {
    "duration": 1843,
    "start_time": "2022-08-26T03:52:03.454Z"
   },
   {
    "duration": 1860,
    "start_time": "2022-08-26T03:52:05.302Z"
   },
   {
    "duration": 1823,
    "start_time": "2022-08-26T03:52:07.163Z"
   },
   {
    "duration": 1857,
    "start_time": "2022-08-26T03:52:08.988Z"
   },
   {
    "duration": 6,
    "start_time": "2022-08-26T03:52:10.847Z"
   },
   {
    "duration": 7,
    "start_time": "2022-08-26T03:52:10.854Z"
   },
   {
    "duration": 6,
    "start_time": "2022-08-26T03:52:10.863Z"
   },
   {
    "duration": 11,
    "start_time": "2022-08-26T03:52:10.885Z"
   },
   {
    "duration": 9,
    "start_time": "2022-08-26T03:52:10.897Z"
   },
   {
    "duration": 7,
    "start_time": "2022-08-26T03:52:10.908Z"
   },
   {
    "duration": 7,
    "start_time": "2022-08-26T03:52:10.917Z"
   },
   {
    "duration": 11,
    "start_time": "2022-08-26T03:52:10.926Z"
   },
   {
    "duration": 7,
    "start_time": "2022-08-26T03:52:10.939Z"
   },
   {
    "duration": 11,
    "start_time": "2022-08-26T03:52:10.947Z"
   },
   {
    "duration": 1125,
    "start_time": "2022-08-26T03:54:37.668Z"
   },
   {
    "duration": 1348,
    "start_time": "2022-08-26T03:54:43.952Z"
   },
   {
    "duration": 34,
    "start_time": "2022-08-26T03:54:45.301Z"
   },
   {
    "duration": 11,
    "start_time": "2022-08-26T03:54:45.336Z"
   },
   {
    "duration": 50,
    "start_time": "2022-08-26T03:54:45.350Z"
   },
   {
    "duration": 11,
    "start_time": "2022-08-26T03:54:45.402Z"
   },
   {
    "duration": 16,
    "start_time": "2022-08-26T03:54:45.415Z"
   },
   {
    "duration": 156,
    "start_time": "2022-08-26T03:54:45.432Z"
   },
   {
    "duration": 7,
    "start_time": "2022-08-26T03:54:45.590Z"
   },
   {
    "duration": 1914,
    "start_time": "2022-08-26T03:54:45.598Z"
   },
   {
    "duration": 1909,
    "start_time": "2022-08-26T03:54:47.514Z"
   },
   {
    "duration": 1442,
    "start_time": "2022-08-26T03:54:49.425Z"
   },
   {
    "duration": 5,
    "start_time": "2022-08-26T03:54:50.869Z"
   },
   {
    "duration": 12,
    "start_time": "2022-08-26T03:54:50.876Z"
   },
   {
    "duration": 7,
    "start_time": "2022-08-26T03:54:50.890Z"
   },
   {
    "duration": 694,
    "start_time": "2022-08-26T03:54:50.898Z"
   },
   {
    "duration": 9,
    "start_time": "2022-08-26T03:54:51.684Z"
   },
   {
    "duration": 431,
    "start_time": "2022-08-26T03:54:51.695Z"
   },
   {
    "duration": 8,
    "start_time": "2022-08-26T03:54:52.128Z"
   },
   {
    "duration": 17,
    "start_time": "2022-08-26T03:54:52.137Z"
   },
   {
    "duration": 549,
    "start_time": "2022-08-26T03:54:52.156Z"
   },
   {
    "duration": 104447,
    "start_time": "2022-08-26T03:54:52.706Z"
   },
   {
    "duration": 1333,
    "start_time": "2022-08-26T03:56:37.155Z"
   },
   {
    "duration": 3,
    "start_time": "2022-08-26T03:56:38.490Z"
   },
   {
    "duration": 207,
    "start_time": "2022-08-26T03:56:38.494Z"
   },
   {
    "duration": 12,
    "start_time": "2022-08-26T03:56:38.703Z"
   },
   {
    "duration": 1964,
    "start_time": "2022-08-26T03:56:38.716Z"
   },
   {
    "duration": 1781,
    "start_time": "2022-08-26T03:56:40.681Z"
   },
   {
    "duration": 1879,
    "start_time": "2022-08-26T03:56:42.465Z"
   },
   {
    "duration": 1910,
    "start_time": "2022-08-26T03:56:44.345Z"
   },
   {
    "duration": 1772,
    "start_time": "2022-08-26T03:56:46.257Z"
   },
   {
    "duration": 5,
    "start_time": "2022-08-26T03:56:48.031Z"
   },
   {
    "duration": 7,
    "start_time": "2022-08-26T03:56:48.038Z"
   },
   {
    "duration": 11,
    "start_time": "2022-08-26T03:56:48.046Z"
   },
   {
    "duration": 7,
    "start_time": "2022-08-26T03:56:48.058Z"
   },
   {
    "duration": 22,
    "start_time": "2022-08-26T03:56:48.066Z"
   },
   {
    "duration": 8,
    "start_time": "2022-08-26T03:56:48.090Z"
   },
   {
    "duration": 6,
    "start_time": "2022-08-26T03:56:48.100Z"
   },
   {
    "duration": 10,
    "start_time": "2022-08-26T03:56:48.107Z"
   },
   {
    "duration": 9,
    "start_time": "2022-08-26T03:56:48.118Z"
   },
   {
    "duration": 8,
    "start_time": "2022-08-26T03:56:48.129Z"
   },
   {
    "duration": 1358,
    "start_time": "2022-08-26T04:05:29.308Z"
   },
   {
    "duration": 38,
    "start_time": "2022-08-26T04:05:30.668Z"
   },
   {
    "duration": 12,
    "start_time": "2022-08-26T04:05:30.707Z"
   },
   {
    "duration": 72,
    "start_time": "2022-08-26T04:05:30.721Z"
   },
   {
    "duration": 13,
    "start_time": "2022-08-26T04:05:30.795Z"
   },
   {
    "duration": 29,
    "start_time": "2022-08-26T04:05:30.809Z"
   },
   {
    "duration": 156,
    "start_time": "2022-08-26T04:05:30.839Z"
   },
   {
    "duration": 9,
    "start_time": "2022-08-26T04:05:31.000Z"
   },
   {
    "duration": 2017,
    "start_time": "2022-08-26T04:05:31.011Z"
   },
   {
    "duration": 2213,
    "start_time": "2022-08-26T04:05:33.031Z"
   },
   {
    "duration": 1577,
    "start_time": "2022-08-26T04:05:35.246Z"
   },
   {
    "duration": 4,
    "start_time": "2022-08-26T04:05:36.824Z"
   },
   {
    "duration": 5,
    "start_time": "2022-08-26T04:05:36.830Z"
   },
   {
    "duration": 6,
    "start_time": "2022-08-26T04:05:36.836Z"
   },
   {
    "duration": 1044,
    "start_time": "2022-08-26T04:05:36.843Z"
   },
   {
    "duration": 14,
    "start_time": "2022-08-26T04:05:37.890Z"
   },
   {
    "duration": 443,
    "start_time": "2022-08-26T04:05:37.907Z"
   },
   {
    "duration": 7,
    "start_time": "2022-08-26T04:05:38.352Z"
   },
   {
    "duration": 9,
    "start_time": "2022-08-26T04:05:38.360Z"
   },
   {
    "duration": 563,
    "start_time": "2022-08-26T04:05:38.370Z"
   },
   {
    "duration": 109212,
    "start_time": "2022-08-26T04:05:38.934Z"
   },
   {
    "duration": 848,
    "start_time": "2022-08-26T04:07:28.147Z"
   },
   {
    "duration": 5,
    "start_time": "2022-08-26T04:07:28.999Z"
   },
   {
    "duration": 304,
    "start_time": "2022-08-26T04:07:29.006Z"
   },
   {
    "duration": 12,
    "start_time": "2022-08-26T04:07:29.311Z"
   },
   {
    "duration": 2084,
    "start_time": "2022-08-26T04:07:29.324Z"
   },
   {
    "duration": 1891,
    "start_time": "2022-08-26T04:07:31.410Z"
   },
   {
    "duration": 2044,
    "start_time": "2022-08-26T04:07:33.305Z"
   },
   {
    "duration": 1906,
    "start_time": "2022-08-26T04:07:35.351Z"
   },
   {
    "duration": 1888,
    "start_time": "2022-08-26T04:07:37.258Z"
   },
   {
    "duration": 6,
    "start_time": "2022-08-26T04:07:39.147Z"
   },
   {
    "duration": 9,
    "start_time": "2022-08-26T04:07:39.155Z"
   },
   {
    "duration": 24,
    "start_time": "2022-08-26T04:07:39.166Z"
   },
   {
    "duration": 16,
    "start_time": "2022-08-26T04:07:39.193Z"
   },
   {
    "duration": 7,
    "start_time": "2022-08-26T04:07:39.211Z"
   },
   {
    "duration": 9,
    "start_time": "2022-08-26T04:07:39.219Z"
   },
   {
    "duration": 8,
    "start_time": "2022-08-26T04:07:39.229Z"
   },
   {
    "duration": 6,
    "start_time": "2022-08-26T04:07:39.239Z"
   },
   {
    "duration": 15,
    "start_time": "2022-08-26T04:07:39.246Z"
   },
   {
    "duration": 7,
    "start_time": "2022-08-26T04:07:39.262Z"
   },
   {
    "duration": 1724,
    "start_time": "2022-08-27T14:39:54.775Z"
   },
   {
    "duration": 72,
    "start_time": "2022-08-27T14:39:56.501Z"
   },
   {
    "duration": 14,
    "start_time": "2022-08-27T14:39:56.575Z"
   },
   {
    "duration": 67,
    "start_time": "2022-08-27T14:39:56.592Z"
   },
   {
    "duration": 12,
    "start_time": "2022-08-27T14:39:56.660Z"
   },
   {
    "duration": 24,
    "start_time": "2022-08-27T14:39:56.674Z"
   },
   {
    "duration": 151,
    "start_time": "2022-08-27T14:39:56.700Z"
   },
   {
    "duration": 98,
    "start_time": "2022-08-27T14:40:10.283Z"
   },
   {
    "duration": 118,
    "start_time": "2022-08-27T14:43:29.015Z"
   },
   {
    "duration": 9,
    "start_time": "2022-08-27T14:43:34.664Z"
   },
   {
    "duration": 20,
    "start_time": "2022-08-27T14:43:37.534Z"
   },
   {
    "duration": 10,
    "start_time": "2022-08-27T14:43:54.791Z"
   },
   {
    "duration": 162,
    "start_time": "2022-08-27T14:44:00.455Z"
   },
   {
    "duration": 15,
    "start_time": "2022-08-27T14:44:07.864Z"
   },
   {
    "duration": 16,
    "start_time": "2022-08-27T14:44:12.257Z"
   },
   {
    "duration": 14,
    "start_time": "2022-08-27T14:44:17.017Z"
   },
   {
    "duration": 186,
    "start_time": "2022-08-27T14:44:30.646Z"
   },
   {
    "duration": 1490,
    "start_time": "2022-08-27T14:47:37.352Z"
   },
   {
    "duration": 37,
    "start_time": "2022-08-27T14:47:38.845Z"
   },
   {
    "duration": 15,
    "start_time": "2022-08-27T14:47:38.884Z"
   },
   {
    "duration": 60,
    "start_time": "2022-08-27T14:47:38.900Z"
   },
   {
    "duration": 30,
    "start_time": "2022-08-27T14:47:38.962Z"
   },
   {
    "duration": 16,
    "start_time": "2022-08-27T14:47:38.994Z"
   },
   {
    "duration": 163,
    "start_time": "2022-08-27T14:47:39.012Z"
   },
   {
    "duration": 18,
    "start_time": "2022-08-27T14:47:39.177Z"
   },
   {
    "duration": 2157,
    "start_time": "2022-08-27T14:47:39.198Z"
   },
   {
    "duration": 2116,
    "start_time": "2022-08-27T14:47:41.356Z"
   },
   {
    "duration": 304,
    "start_time": "2022-08-27T14:47:43.475Z"
   },
   {
    "duration": 1549,
    "start_time": "2022-08-27T14:47:43.781Z"
   },
   {
    "duration": 5,
    "start_time": "2022-08-27T14:47:45.332Z"
   },
   {
    "duration": 11,
    "start_time": "2022-08-27T14:47:45.340Z"
   },
   {
    "duration": 12,
    "start_time": "2022-08-27T14:47:45.352Z"
   },
   {
    "duration": 14224,
    "start_time": "2022-08-27T14:47:45.367Z"
   },
   {
    "duration": 9,
    "start_time": "2022-08-27T14:47:59.594Z"
   },
   {
    "duration": 366,
    "start_time": "2022-08-27T14:47:59.604Z"
   },
   {
    "duration": 15,
    "start_time": "2022-08-27T14:47:59.972Z"
   },
   {
    "duration": 42,
    "start_time": "2022-08-27T14:47:59.988Z"
   },
   {
    "duration": 591,
    "start_time": "2022-08-27T14:48:00.032Z"
   },
   {
    "duration": 109931,
    "start_time": "2022-08-27T14:48:00.624Z"
   },
   {
    "duration": 1432,
    "start_time": "2022-08-27T14:49:50.556Z"
   },
   {
    "duration": 4,
    "start_time": "2022-08-27T14:49:51.989Z"
   },
   {
    "duration": 266,
    "start_time": "2022-08-27T14:49:51.995Z"
   },
   {
    "duration": 15,
    "start_time": "2022-08-27T14:49:52.263Z"
   },
   {
    "duration": 1982,
    "start_time": "2022-08-27T14:49:52.287Z"
   },
   {
    "duration": 1818,
    "start_time": "2022-08-27T14:49:54.270Z"
   },
   {
    "duration": 1922,
    "start_time": "2022-08-27T14:49:56.090Z"
   },
   {
    "duration": 1805,
    "start_time": "2022-08-27T14:49:58.014Z"
   },
   {
    "duration": 1926,
    "start_time": "2022-08-27T14:49:59.820Z"
   },
   {
    "duration": 7,
    "start_time": "2022-08-27T14:50:01.748Z"
   },
   {
    "duration": 26,
    "start_time": "2022-08-27T14:50:01.756Z"
   },
   {
    "duration": 20,
    "start_time": "2022-08-27T14:50:01.783Z"
   },
   {
    "duration": 21,
    "start_time": "2022-08-27T14:50:01.805Z"
   },
   {
    "duration": 25,
    "start_time": "2022-08-27T14:50:01.828Z"
   },
   {
    "duration": 36,
    "start_time": "2022-08-27T14:50:01.855Z"
   },
   {
    "duration": 31,
    "start_time": "2022-08-27T14:50:01.893Z"
   },
   {
    "duration": 31,
    "start_time": "2022-08-27T14:50:01.926Z"
   },
   {
    "duration": 31,
    "start_time": "2022-08-27T14:50:01.958Z"
   },
   {
    "duration": 50,
    "start_time": "2022-08-27T14:50:01.993Z"
   },
   {
    "duration": 785,
    "start_time": "2022-08-27T14:50:02.101Z"
   },
   {
    "duration": 105,
    "start_time": "2022-08-27T14:50:02.889Z"
   },
   {
    "duration": 10368,
    "start_time": "2022-08-27T14:50:49.025Z"
   },
   {
    "duration": 3053,
    "start_time": "2022-08-27T14:51:50.934Z"
   },
   {
    "duration": 992,
    "start_time": "2022-08-27T14:51:57.298Z"
   },
   {
    "duration": 52,
    "start_time": "2022-08-27T22:49:02.377Z"
   },
   {
    "duration": 1665,
    "start_time": "2022-08-27T22:49:08.655Z"
   },
   {
    "duration": 74,
    "start_time": "2022-08-27T22:49:10.323Z"
   },
   {
    "duration": 14,
    "start_time": "2022-08-27T22:49:10.400Z"
   },
   {
    "duration": 49,
    "start_time": "2022-08-27T22:49:10.416Z"
   },
   {
    "duration": 13,
    "start_time": "2022-08-27T22:49:10.467Z"
   },
   {
    "duration": 22,
    "start_time": "2022-08-27T22:49:10.486Z"
   },
   {
    "duration": 93,
    "start_time": "2022-08-27T22:49:10.510Z"
   },
   {
    "duration": 9,
    "start_time": "2022-08-27T22:49:10.605Z"
   },
   {
    "duration": 2138,
    "start_time": "2022-08-27T22:49:10.615Z"
   },
   {
    "duration": 2226,
    "start_time": "2022-08-27T22:49:12.755Z"
   },
   {
    "duration": 224,
    "start_time": "2022-08-27T22:49:14.987Z"
   },
   {
    "duration": 1614,
    "start_time": "2022-08-27T22:49:15.212Z"
   },
   {
    "duration": 4,
    "start_time": "2022-08-27T22:49:16.828Z"
   },
   {
    "duration": 6,
    "start_time": "2022-08-27T22:49:16.835Z"
   },
   {
    "duration": 8,
    "start_time": "2022-08-27T22:49:16.842Z"
   },
   {
    "duration": 15,
    "start_time": "2022-08-27T22:49:16.851Z"
   },
   {
    "duration": 1320,
    "start_time": "2022-08-27T22:49:16.868Z"
   },
   {
    "duration": 96,
    "start_time": "2022-08-27T22:49:18.190Z"
   },
   {
    "duration": 366,
    "start_time": "2022-08-27T22:49:18.294Z"
   },
   {
    "duration": 6,
    "start_time": "2022-08-27T22:49:18.662Z"
   },
   {
    "duration": 8,
    "start_time": "2022-08-27T22:49:18.670Z"
   },
   {
    "duration": 622,
    "start_time": "2022-08-27T22:49:18.679Z"
   },
   {
    "duration": 117032,
    "start_time": "2022-08-27T22:49:19.302Z"
   },
   {
    "duration": 1051,
    "start_time": "2022-08-27T22:51:16.336Z"
   },
   {
    "duration": 5,
    "start_time": "2022-08-27T22:51:17.395Z"
   },
   {
    "duration": 249,
    "start_time": "2022-08-27T22:51:17.402Z"
   },
   {
    "duration": 12,
    "start_time": "2022-08-27T22:51:17.652Z"
   },
   {
    "duration": 2082,
    "start_time": "2022-08-27T22:51:17.666Z"
   },
   {
    "duration": 1884,
    "start_time": "2022-08-27T22:51:19.749Z"
   },
   {
    "duration": 1905,
    "start_time": "2022-08-27T22:51:21.634Z"
   },
   {
    "duration": 1927,
    "start_time": "2022-08-27T22:51:23.541Z"
   },
   {
    "duration": 2025,
    "start_time": "2022-08-27T22:51:25.470Z"
   },
   {
    "duration": 8,
    "start_time": "2022-08-27T22:51:27.497Z"
   },
   {
    "duration": 11,
    "start_time": "2022-08-27T22:51:27.506Z"
   },
   {
    "duration": 7,
    "start_time": "2022-08-27T22:51:27.519Z"
   },
   {
    "duration": 7,
    "start_time": "2022-08-27T22:51:27.527Z"
   },
   {
    "duration": 19,
    "start_time": "2022-08-27T22:51:27.536Z"
   },
   {
    "duration": 15,
    "start_time": "2022-08-27T22:51:27.557Z"
   },
   {
    "duration": 16,
    "start_time": "2022-08-27T22:51:27.573Z"
   },
   {
    "duration": 19,
    "start_time": "2022-08-27T22:51:27.591Z"
   },
   {
    "duration": 9,
    "start_time": "2022-08-27T22:51:27.615Z"
   },
   {
    "duration": 13,
    "start_time": "2022-08-27T22:51:27.625Z"
   },
   {
    "duration": 183,
    "start_time": "2022-08-27T22:59:49.727Z"
   },
   {
    "duration": 127,
    "start_time": "2022-08-27T23:15:42.068Z"
   },
   {
    "duration": 10,
    "start_time": "2022-08-27T23:15:54.352Z"
   },
   {
    "duration": 10,
    "start_time": "2022-08-27T23:15:54.442Z"
   },
   {
    "duration": 10,
    "start_time": "2022-08-27T23:15:56.314Z"
   },
   {
    "duration": 2622,
    "start_time": "2022-08-27T23:15:58.265Z"
   },
   {
    "duration": 2688,
    "start_time": "2022-08-27T23:16:27.303Z"
   },
   {
    "duration": 9,
    "start_time": "2022-08-27T23:40:59.785Z"
   },
   {
    "duration": 62,
    "start_time": "2022-08-27T23:42:47.904Z"
   },
   {
    "duration": 7,
    "start_time": "2022-08-27T23:42:52.856Z"
   },
   {
    "duration": 8,
    "start_time": "2022-08-27T23:44:11.383Z"
   },
   {
    "duration": 6,
    "start_time": "2022-08-27T23:44:19.472Z"
   },
   {
    "duration": 108,
    "start_time": "2022-08-27T23:50:37.903Z"
   },
   {
    "duration": 10,
    "start_time": "2022-08-27T23:50:57.204Z"
   },
   {
    "duration": 197,
    "start_time": "2022-08-27T23:53:33.383Z"
   },
   {
    "duration": 194,
    "start_time": "2022-08-27T23:54:41.705Z"
   },
   {
    "duration": 104,
    "start_time": "2022-08-28T00:01:10.111Z"
   },
   {
    "duration": 85,
    "start_time": "2022-08-28T00:01:15.084Z"
   },
   {
    "duration": 106,
    "start_time": "2022-08-28T00:01:20.321Z"
   },
   {
    "duration": 199,
    "start_time": "2022-08-28T00:01:23.590Z"
   },
   {
    "duration": 5,
    "start_time": "2022-08-28T00:01:58.770Z"
   },
   {
    "duration": 16,
    "start_time": "2022-08-28T00:02:35.857Z"
   },
   {
    "duration": 15,
    "start_time": "2022-08-28T00:03:01.299Z"
   },
   {
    "duration": 10,
    "start_time": "2022-08-28T00:03:05.640Z"
   },
   {
    "duration": 10,
    "start_time": "2022-08-28T00:03:16.770Z"
   },
   {
    "duration": 50,
    "start_time": "2022-08-28T00:03:21.313Z"
   },
   {
    "duration": 13,
    "start_time": "2022-08-28T00:03:23.749Z"
   },
   {
    "duration": 10,
    "start_time": "2022-08-28T00:03:30.443Z"
   },
   {
    "duration": 11,
    "start_time": "2022-08-28T00:03:41.900Z"
   },
   {
    "duration": 10,
    "start_time": "2022-08-28T00:04:27.074Z"
   },
   {
    "duration": 9,
    "start_time": "2022-08-28T00:04:29.212Z"
   },
   {
    "duration": 10,
    "start_time": "2022-08-28T00:04:34.227Z"
   },
   {
    "duration": 430,
    "start_time": "2022-08-28T00:05:07.441Z"
   },
   {
    "duration": 18,
    "start_time": "2022-08-28T00:05:12.495Z"
   },
   {
    "duration": 17,
    "start_time": "2022-08-28T00:05:41.451Z"
   },
   {
    "duration": 9,
    "start_time": "2022-08-28T00:05:48.939Z"
   },
   {
    "duration": 85,
    "start_time": "2022-08-28T00:05:53.916Z"
   },
   {
    "duration": 128,
    "start_time": "2022-08-28T00:06:07.449Z"
   },
   {
    "duration": 127,
    "start_time": "2022-08-28T00:06:36.630Z"
   },
   {
    "duration": 93,
    "start_time": "2022-08-28T00:07:49.041Z"
   },
   {
    "duration": 122,
    "start_time": "2022-08-28T00:07:52.225Z"
   },
   {
    "duration": 11,
    "start_time": "2022-08-28T00:09:01.559Z"
   },
   {
    "duration": 10,
    "start_time": "2022-08-28T00:09:07.021Z"
   },
   {
    "duration": 14,
    "start_time": "2022-08-28T00:09:12.371Z"
   },
   {
    "duration": 18,
    "start_time": "2022-08-28T00:09:22.519Z"
   },
   {
    "duration": 16,
    "start_time": "2022-08-28T00:09:56.995Z"
   },
   {
    "duration": 17,
    "start_time": "2022-08-28T00:10:09.486Z"
   },
   {
    "duration": 14,
    "start_time": "2022-08-28T00:10:35.718Z"
   },
   {
    "duration": 18,
    "start_time": "2022-08-28T00:10:38.907Z"
   },
   {
    "duration": 14,
    "start_time": "2022-08-28T00:10:48.364Z"
   },
   {
    "duration": 18,
    "start_time": "2022-08-28T00:11:20.793Z"
   },
   {
    "duration": 18,
    "start_time": "2022-08-28T00:11:32.194Z"
   },
   {
    "duration": 110,
    "start_time": "2022-08-28T00:12:42.352Z"
   },
   {
    "duration": 17,
    "start_time": "2022-08-28T00:12:57.321Z"
   },
   {
    "duration": 20,
    "start_time": "2022-08-28T00:13:07.584Z"
   },
   {
    "duration": 228,
    "start_time": "2022-08-28T00:13:24.020Z"
   },
   {
    "duration": 145,
    "start_time": "2022-08-28T00:13:41.760Z"
   },
   {
    "duration": 10,
    "start_time": "2022-08-28T00:13:52.321Z"
   },
   {
    "duration": 135,
    "start_time": "2022-08-28T00:13:55.701Z"
   },
   {
    "duration": 10,
    "start_time": "2022-08-28T00:40:17.414Z"
   },
   {
    "duration": 83,
    "start_time": "2022-08-28T00:44:24.747Z"
   },
   {
    "duration": 344,
    "start_time": "2022-08-28T00:44:46.512Z"
   },
   {
    "duration": 237,
    "start_time": "2022-08-28T00:44:51.744Z"
   },
   {
    "duration": 711,
    "start_time": "2022-08-28T00:45:40.213Z"
   },
   {
    "duration": 3,
    "start_time": "2022-08-28T00:48:54.714Z"
   },
   {
    "duration": 874,
    "start_time": "2022-08-28T00:49:01.037Z"
   },
   {
    "duration": 5,
    "start_time": "2022-08-28T00:49:21.031Z"
   },
   {
    "duration": 201,
    "start_time": "2022-08-28T00:50:16.260Z"
   },
   {
    "duration": 15,
    "start_time": "2022-08-28T00:50:31.739Z"
   },
   {
    "duration": 155,
    "start_time": "2022-08-28T00:50:35.125Z"
   },
   {
    "duration": 147,
    "start_time": "2022-08-28T00:51:04.588Z"
   },
   {
    "duration": 146,
    "start_time": "2022-08-28T00:51:29.435Z"
   },
   {
    "duration": 147,
    "start_time": "2022-08-28T00:51:46.478Z"
   },
   {
    "duration": 141,
    "start_time": "2022-08-28T00:51:51.142Z"
   },
   {
    "duration": 111,
    "start_time": "2022-08-28T00:52:02.770Z"
   },
   {
    "duration": 110,
    "start_time": "2022-08-28T00:52:09.609Z"
   },
   {
    "duration": 153,
    "start_time": "2022-08-28T00:52:27.450Z"
   },
   {
    "duration": 158,
    "start_time": "2022-08-28T00:52:32.290Z"
   },
   {
    "duration": 290,
    "start_time": "2022-08-28T00:52:37.344Z"
   },
   {
    "duration": 46,
    "start_time": "2022-08-28T00:52:54.252Z"
   },
   {
    "duration": 148,
    "start_time": "2022-08-28T00:52:58.139Z"
   },
   {
    "duration": 153,
    "start_time": "2022-08-28T00:53:32.278Z"
   },
   {
    "duration": 144,
    "start_time": "2022-08-28T00:54:30.454Z"
   },
   {
    "duration": 150,
    "start_time": "2022-08-28T00:55:04.056Z"
   },
   {
    "duration": 156,
    "start_time": "2022-08-28T00:55:17.941Z"
   },
   {
    "duration": 143,
    "start_time": "2022-08-28T00:55:43.921Z"
   },
   {
    "duration": 813,
    "start_time": "2022-08-28T00:57:54.566Z"
   },
   {
    "duration": 7,
    "start_time": "2022-08-28T01:06:59.094Z"
   },
   {
    "duration": 4,
    "start_time": "2022-08-28T01:09:01.933Z"
   },
   {
    "duration": 4,
    "start_time": "2022-08-28T01:09:06.927Z"
   },
   {
    "duration": 9,
    "start_time": "2022-08-28T01:09:28.079Z"
   },
   {
    "duration": 103,
    "start_time": "2022-08-28T01:10:25.116Z"
   },
   {
    "duration": 60,
    "start_time": "2022-08-28T01:10:29.019Z"
   },
   {
    "duration": 29,
    "start_time": "2022-08-28T01:11:48.217Z"
   },
   {
    "duration": 28,
    "start_time": "2022-08-28T01:12:00.198Z"
   },
   {
    "duration": 18,
    "start_time": "2022-08-28T01:12:32.542Z"
   },
   {
    "duration": 36,
    "start_time": "2022-08-28T01:12:45.803Z"
   },
   {
    "duration": 17,
    "start_time": "2022-08-28T01:12:50.783Z"
   },
   {
    "duration": 7,
    "start_time": "2022-08-28T01:13:14.098Z"
   },
   {
    "duration": 8,
    "start_time": "2022-08-28T01:13:23.286Z"
   },
   {
    "duration": 7,
    "start_time": "2022-08-28T01:13:32.333Z"
   },
   {
    "duration": 7,
    "start_time": "2022-08-28T01:13:39.078Z"
   },
   {
    "duration": 1388,
    "start_time": "2022-08-28T01:15:47.822Z"
   },
   {
    "duration": 35,
    "start_time": "2022-08-28T01:15:49.211Z"
   },
   {
    "duration": 11,
    "start_time": "2022-08-28T01:15:49.248Z"
   },
   {
    "duration": 46,
    "start_time": "2022-08-28T01:15:49.261Z"
   },
   {
    "duration": 12,
    "start_time": "2022-08-28T01:15:49.308Z"
   },
   {
    "duration": 17,
    "start_time": "2022-08-28T01:15:49.321Z"
   },
   {
    "duration": 85,
    "start_time": "2022-08-28T01:15:49.339Z"
   },
   {
    "duration": 8,
    "start_time": "2022-08-28T01:15:49.425Z"
   },
   {
    "duration": 1985,
    "start_time": "2022-08-28T01:15:49.435Z"
   },
   {
    "duration": 1958,
    "start_time": "2022-08-28T01:15:51.423Z"
   },
   {
    "duration": 2738,
    "start_time": "2022-08-28T01:15:53.383Z"
   },
   {
    "duration": 2,
    "start_time": "2022-08-28T01:15:56.123Z"
   },
   {
    "duration": 1488,
    "start_time": "2022-08-28T01:15:56.126Z"
   },
   {
    "duration": 4,
    "start_time": "2022-08-28T01:15:57.616Z"
   },
   {
    "duration": 13,
    "start_time": "2022-08-28T01:15:57.622Z"
   },
   {
    "duration": 9,
    "start_time": "2022-08-28T01:15:57.636Z"
   },
   {
    "duration": 454,
    "start_time": "2022-08-28T01:15:57.646Z"
   },
   {
    "duration": 2290,
    "start_time": "2022-08-28T01:15:58.103Z"
   },
   {
    "duration": 96,
    "start_time": "2022-08-28T01:16:00.396Z"
   },
   {
    "duration": 396,
    "start_time": "2022-08-28T01:16:00.494Z"
   },
   {
    "duration": 7,
    "start_time": "2022-08-28T01:16:00.892Z"
   },
   {
    "duration": 24,
    "start_time": "2022-08-28T01:16:00.901Z"
   },
   {
    "duration": 609,
    "start_time": "2022-08-28T01:16:00.926Z"
   },
   {
    "duration": 107421,
    "start_time": "2022-08-28T01:16:01.537Z"
   },
   {
    "duration": 1527,
    "start_time": "2022-08-28T01:17:48.960Z"
   },
   {
    "duration": 3,
    "start_time": "2022-08-28T01:17:50.489Z"
   },
   {
    "duration": 150,
    "start_time": "2022-08-28T01:17:50.494Z"
   },
   {
    "duration": 4,
    "start_time": "2022-08-28T01:17:50.647Z"
   },
   {
    "duration": 918,
    "start_time": "2022-08-28T01:17:50.653Z"
   },
   {
    "duration": 701,
    "start_time": "2022-08-28T01:17:51.573Z"
   },
   {
    "duration": 271,
    "start_time": "2022-08-28T01:17:52.276Z"
   },
   {
    "duration": 149,
    "start_time": "2022-08-28T01:17:52.549Z"
   },
   {
    "duration": 162,
    "start_time": "2022-08-28T01:17:52.700Z"
   },
   {
    "duration": 154,
    "start_time": "2022-08-28T01:17:52.864Z"
   },
   {
    "duration": 161,
    "start_time": "2022-08-28T01:17:53.020Z"
   },
   {
    "duration": 6,
    "start_time": "2022-08-28T01:17:53.187Z"
   },
   {
    "duration": 8,
    "start_time": "2022-08-28T01:17:53.195Z"
   },
   {
    "duration": 7,
    "start_time": "2022-08-28T01:17:53.205Z"
   },
   {
    "duration": 8,
    "start_time": "2022-08-28T01:17:53.214Z"
   },
   {
    "duration": 8,
    "start_time": "2022-08-28T01:17:53.224Z"
   },
   {
    "duration": 135,
    "start_time": "2022-08-28T01:36:32.145Z"
   },
   {
    "duration": 1328,
    "start_time": "2022-08-28T01:57:39.656Z"
   },
   {
    "duration": 34,
    "start_time": "2022-08-28T01:57:40.986Z"
   },
   {
    "duration": 11,
    "start_time": "2022-08-28T01:57:41.021Z"
   },
   {
    "duration": 42,
    "start_time": "2022-08-28T01:57:41.034Z"
   },
   {
    "duration": 10,
    "start_time": "2022-08-28T01:57:41.077Z"
   },
   {
    "duration": 14,
    "start_time": "2022-08-28T01:57:41.089Z"
   },
   {
    "duration": 65,
    "start_time": "2022-08-28T01:57:41.104Z"
   },
   {
    "duration": 2552,
    "start_time": "2022-08-28T01:57:41.171Z"
   },
   {
    "duration": 2,
    "start_time": "2022-08-28T01:57:43.725Z"
   },
   {
    "duration": 1497,
    "start_time": "2022-08-28T01:57:43.729Z"
   },
   {
    "duration": 4,
    "start_time": "2022-08-28T01:57:45.227Z"
   },
   {
    "duration": 8,
    "start_time": "2022-08-28T01:57:45.233Z"
   },
   {
    "duration": 14,
    "start_time": "2022-08-28T01:57:45.243Z"
   },
   {
    "duration": 447,
    "start_time": "2022-08-28T01:57:45.258Z"
   },
   {
    "duration": 2384,
    "start_time": "2022-08-28T01:57:45.707Z"
   },
   {
    "duration": 94,
    "start_time": "2022-08-28T01:57:48.094Z"
   },
   {
    "duration": 354,
    "start_time": "2022-08-28T01:57:48.189Z"
   },
   {
    "duration": 8,
    "start_time": "2022-08-28T01:57:48.544Z"
   },
   {
    "duration": 8,
    "start_time": "2022-08-28T01:57:48.554Z"
   },
   {
    "duration": 576,
    "start_time": "2022-08-28T01:57:48.564Z"
   },
   {
    "duration": 106306,
    "start_time": "2022-08-28T01:57:49.142Z"
   },
   {
    "duration": 1439,
    "start_time": "2022-08-28T01:59:35.450Z"
   },
   {
    "duration": 4,
    "start_time": "2022-08-28T01:59:36.890Z"
   },
   {
    "duration": 146,
    "start_time": "2022-08-28T01:59:36.896Z"
   },
   {
    "duration": 146,
    "start_time": "2022-08-28T01:59:37.043Z"
   },
   {
    "duration": 141,
    "start_time": "2022-08-28T01:59:37.191Z"
   },
   {
    "duration": 152,
    "start_time": "2022-08-28T01:59:37.334Z"
   },
   {
    "duration": 166,
    "start_time": "2022-08-28T01:59:37.490Z"
   },
   {
    "duration": 151,
    "start_time": "2022-08-28T01:59:37.657Z"
   },
   {
    "duration": 8,
    "start_time": "2022-08-28T01:59:37.810Z"
   },
   {
    "duration": 12,
    "start_time": "2022-08-28T01:59:37.819Z"
   },
   {
    "duration": 7,
    "start_time": "2022-08-28T01:59:37.832Z"
   },
   {
    "duration": 8,
    "start_time": "2022-08-28T01:59:37.840Z"
   },
   {
    "duration": 7,
    "start_time": "2022-08-28T01:59:37.850Z"
   },
   {
    "duration": 158,
    "start_time": "2022-08-28T01:59:37.859Z"
   },
   {
    "duration": 130,
    "start_time": "2022-08-28T02:02:20.827Z"
   },
   {
    "duration": 1369,
    "start_time": "2022-08-28T02:02:41.621Z"
   },
   {
    "duration": 33,
    "start_time": "2022-08-28T02:02:42.992Z"
   },
   {
    "duration": 11,
    "start_time": "2022-08-28T02:02:43.027Z"
   },
   {
    "duration": 43,
    "start_time": "2022-08-28T02:02:43.040Z"
   },
   {
    "duration": 10,
    "start_time": "2022-08-28T02:02:43.085Z"
   },
   {
    "duration": 16,
    "start_time": "2022-08-28T02:02:43.096Z"
   },
   {
    "duration": 74,
    "start_time": "2022-08-28T02:02:43.114Z"
   },
   {
    "duration": 2503,
    "start_time": "2022-08-28T02:02:43.189Z"
   },
   {
    "duration": 3,
    "start_time": "2022-08-28T02:02:45.693Z"
   },
   {
    "duration": 1564,
    "start_time": "2022-08-28T02:02:45.698Z"
   },
   {
    "duration": 4,
    "start_time": "2022-08-28T02:02:47.264Z"
   },
   {
    "duration": 8,
    "start_time": "2022-08-28T02:02:47.269Z"
   },
   {
    "duration": 16,
    "start_time": "2022-08-28T02:02:47.278Z"
   },
   {
    "duration": 448,
    "start_time": "2022-08-28T02:02:47.296Z"
   },
   {
    "duration": 2445,
    "start_time": "2022-08-28T02:02:47.746Z"
   },
   {
    "duration": 95,
    "start_time": "2022-08-28T02:02:50.194Z"
   },
   {
    "duration": 347,
    "start_time": "2022-08-28T02:02:50.291Z"
   },
   {
    "duration": 7,
    "start_time": "2022-08-28T02:02:50.639Z"
   },
   {
    "duration": 9,
    "start_time": "2022-08-28T02:02:50.647Z"
   },
   {
    "duration": 556,
    "start_time": "2022-08-28T02:02:50.658Z"
   },
   {
    "duration": 105244,
    "start_time": "2022-08-28T02:02:51.216Z"
   },
   {
    "duration": 1526,
    "start_time": "2022-08-28T02:04:36.461Z"
   },
   {
    "duration": 3,
    "start_time": "2022-08-28T02:04:37.989Z"
   },
   {
    "duration": 145,
    "start_time": "2022-08-28T02:04:37.994Z"
   },
   {
    "duration": 146,
    "start_time": "2022-08-28T02:04:38.141Z"
   },
   {
    "duration": 139,
    "start_time": "2022-08-28T02:04:38.289Z"
   },
   {
    "duration": 147,
    "start_time": "2022-08-28T02:04:38.430Z"
   },
   {
    "duration": 150,
    "start_time": "2022-08-28T02:04:38.586Z"
   },
   {
    "duration": 150,
    "start_time": "2022-08-28T02:04:38.739Z"
   },
   {
    "duration": 137,
    "start_time": "2022-08-28T02:04:38.890Z"
   },
   {
    "duration": 7,
    "start_time": "2022-08-28T02:04:39.029Z"
   },
   {
    "duration": 10,
    "start_time": "2022-08-28T02:04:39.038Z"
   },
   {
    "duration": 6,
    "start_time": "2022-08-28T02:04:39.050Z"
   },
   {
    "duration": 31,
    "start_time": "2022-08-28T02:04:39.058Z"
   },
   {
    "duration": 6,
    "start_time": "2022-08-28T02:04:39.091Z"
   },
   {
    "duration": 141,
    "start_time": "2022-08-28T02:04:39.099Z"
   },
   {
    "duration": 1600,
    "start_time": "2022-08-29T00:32:26.461Z"
   },
   {
    "duration": 69,
    "start_time": "2022-08-29T00:32:28.063Z"
   },
   {
    "duration": 17,
    "start_time": "2022-08-29T00:32:28.134Z"
   },
   {
    "duration": 47,
    "start_time": "2022-08-29T00:32:28.153Z"
   },
   {
    "duration": 10,
    "start_time": "2022-08-29T00:32:28.202Z"
   },
   {
    "duration": 17,
    "start_time": "2022-08-29T00:32:28.213Z"
   },
   {
    "duration": 90,
    "start_time": "2022-08-29T00:32:28.231Z"
   },
   {
    "duration": 2627,
    "start_time": "2022-08-29T00:32:28.323Z"
   },
   {
    "duration": 2,
    "start_time": "2022-08-29T00:32:30.952Z"
   },
   {
    "duration": 1613,
    "start_time": "2022-08-29T00:32:30.958Z"
   },
   {
    "duration": 4,
    "start_time": "2022-08-29T00:32:32.573Z"
   },
   {
    "duration": 27,
    "start_time": "2022-08-29T00:32:32.578Z"
   },
   {
    "duration": 14,
    "start_time": "2022-08-29T00:32:32.606Z"
   },
   {
    "duration": 502,
    "start_time": "2022-08-29T00:32:32.622Z"
   },
   {
    "duration": 1960,
    "start_time": "2022-08-29T00:32:33.126Z"
   },
   {
    "duration": 8,
    "start_time": "2022-08-29T00:32:35.087Z"
   },
   {
    "duration": 361,
    "start_time": "2022-08-29T00:32:35.185Z"
   },
   {
    "duration": 7,
    "start_time": "2022-08-29T00:32:35.547Z"
   },
   {
    "duration": 12,
    "start_time": "2022-08-29T00:32:35.556Z"
   },
   {
    "duration": 561,
    "start_time": "2022-08-29T00:32:35.570Z"
   },
   {
    "duration": 102693,
    "start_time": "2022-08-29T00:32:36.133Z"
   },
   {
    "duration": 1262,
    "start_time": "2022-08-29T00:34:18.828Z"
   },
   {
    "duration": 93,
    "start_time": "2022-08-29T00:34:20.092Z"
   },
   {
    "duration": 139,
    "start_time": "2022-08-29T00:34:20.187Z"
   },
   {
    "duration": 139,
    "start_time": "2022-08-29T00:34:20.327Z"
   },
   {
    "duration": 156,
    "start_time": "2022-08-29T00:34:20.468Z"
   },
   {
    "duration": 146,
    "start_time": "2022-08-29T00:34:20.626Z"
   },
   {
    "duration": 142,
    "start_time": "2022-08-29T00:34:20.775Z"
   },
   {
    "duration": 145,
    "start_time": "2022-08-29T00:34:20.918Z"
   },
   {
    "duration": 139,
    "start_time": "2022-08-29T00:34:21.065Z"
   },
   {
    "duration": 7,
    "start_time": "2022-08-29T00:34:21.206Z"
   },
   {
    "duration": 7,
    "start_time": "2022-08-29T00:34:21.214Z"
   },
   {
    "duration": 6,
    "start_time": "2022-08-29T00:34:21.222Z"
   },
   {
    "duration": 7,
    "start_time": "2022-08-29T00:34:21.229Z"
   },
   {
    "duration": 7,
    "start_time": "2022-08-29T00:34:21.237Z"
   },
   {
    "duration": 337,
    "start_time": "2022-08-29T00:34:21.245Z"
   }
  ],
  "kernelspec": {
   "display_name": "Python 3 (ipykernel)",
   "language": "python",
   "name": "python3"
  },
  "language_info": {
   "codemirror_mode": {
    "name": "ipython",
    "version": 3
   },
   "file_extension": ".py",
   "mimetype": "text/x-python",
   "name": "python",
   "nbconvert_exporter": "python",
   "pygments_lexer": "ipython3",
   "version": "3.9.12"
  },
  "toc": {
   "base_numbering": 1,
   "nav_menu": {},
   "number_sections": true,
   "sideBar": true,
   "skip_h1_title": true,
   "title_cell": "Table of Contents",
   "title_sidebar": "Contents",
   "toc_cell": false,
   "toc_position": {},
   "toc_section_display": true,
   "toc_window_display": false
  }
 },
 "nbformat": 4,
 "nbformat_minor": 2
}
