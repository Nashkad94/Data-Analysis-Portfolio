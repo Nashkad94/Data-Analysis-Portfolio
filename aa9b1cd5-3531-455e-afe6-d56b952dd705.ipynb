{
 "cells": [
  {
   "cell_type": "markdown",
   "metadata": {},
   "source": [
    "# Making Decisions Based On Data #\n"
   ]
  },
  {
   "cell_type": "markdown",
   "metadata": {},
   "source": [
    "In this report I will be analyzing and prioritizing different hypotheses that may help the marketing department boost revenue. After prioritizing, I will be launching and studying the results of an A/B test. "
   ]
  },
  {
   "cell_type": "markdown",
   "metadata": {},
   "source": [
    "## Preparing and Pre-Processing the data ##"
   ]
  },
  {
   "cell_type": "code",
   "execution_count": 1,
   "metadata": {},
   "outputs": [],
   "source": [
    "import pandas as pd\n",
    "import scipy.stats as stats\n",
    "import datetime as dt\n",
    "import numpy as np\n",
    "import matplotlib.pyplot as plt\n"
   ]
  },
  {
   "cell_type": "code",
   "execution_count": 2,
   "metadata": {},
   "outputs": [],
   "source": [
    "pd.set_option('display.max_colwidth', 200)"
   ]
  },
  {
   "cell_type": "code",
   "execution_count": 3,
   "metadata": {
    "scrolled": true
   },
   "outputs": [
    {
     "name": "stdout",
     "output_type": "stream",
     "text": [
      "<class 'pandas.core.frame.DataFrame'>\n",
      "RangeIndex: 9 entries, 0 to 8\n",
      "Data columns (total 5 columns):\n",
      " #   Column      Non-Null Count  Dtype \n",
      "---  ------      --------------  ----- \n",
      " 0   Hypothesis  9 non-null      object\n",
      " 1   Reach       9 non-null      int64 \n",
      " 2   Impact      9 non-null      int64 \n",
      " 3   Confidence  9 non-null      int64 \n",
      " 4   Effort      9 non-null      int64 \n",
      "dtypes: int64(4), object(1)\n",
      "memory usage: 488.0+ bytes\n",
      "None\n"
     ]
    },
    {
     "data": {
      "text/html": [
       "<div>\n",
       "<style scoped>\n",
       "    .dataframe tbody tr th:only-of-type {\n",
       "        vertical-align: middle;\n",
       "    }\n",
       "\n",
       "    .dataframe tbody tr th {\n",
       "        vertical-align: top;\n",
       "    }\n",
       "\n",
       "    .dataframe thead th {\n",
       "        text-align: right;\n",
       "    }\n",
       "</style>\n",
       "<table border=\"1\" class=\"dataframe\">\n",
       "  <thead>\n",
       "    <tr style=\"text-align: right;\">\n",
       "      <th></th>\n",
       "      <th>Hypothesis</th>\n",
       "      <th>Reach</th>\n",
       "      <th>Impact</th>\n",
       "      <th>Confidence</th>\n",
       "      <th>Effort</th>\n",
       "    </tr>\n",
       "  </thead>\n",
       "  <tbody>\n",
       "    <tr>\n",
       "      <th>0</th>\n",
       "      <td>Add two new channels for attracting traffic. This will bring 30% more users</td>\n",
       "      <td>3</td>\n",
       "      <td>10</td>\n",
       "      <td>8</td>\n",
       "      <td>6</td>\n",
       "    </tr>\n",
       "    <tr>\n",
       "      <th>1</th>\n",
       "      <td>Launch your own delivery service. This will shorten delivery time</td>\n",
       "      <td>2</td>\n",
       "      <td>5</td>\n",
       "      <td>4</td>\n",
       "      <td>10</td>\n",
       "    </tr>\n",
       "    <tr>\n",
       "      <th>2</th>\n",
       "      <td>Add product recommendation blocks to the store's site. This will increase conversion and average purchase size</td>\n",
       "      <td>8</td>\n",
       "      <td>3</td>\n",
       "      <td>7</td>\n",
       "      <td>3</td>\n",
       "    </tr>\n",
       "    <tr>\n",
       "      <th>3</th>\n",
       "      <td>Change the category structure. This will increase conversion since users will find the products they want more quickly</td>\n",
       "      <td>8</td>\n",
       "      <td>3</td>\n",
       "      <td>3</td>\n",
       "      <td>8</td>\n",
       "    </tr>\n",
       "    <tr>\n",
       "      <th>4</th>\n",
       "      <td>Change the background color on the main page. This will increase user engagement</td>\n",
       "      <td>3</td>\n",
       "      <td>1</td>\n",
       "      <td>1</td>\n",
       "      <td>1</td>\n",
       "    </tr>\n",
       "    <tr>\n",
       "      <th>5</th>\n",
       "      <td>Add a customer review page. This will increase the number of orders</td>\n",
       "      <td>3</td>\n",
       "      <td>2</td>\n",
       "      <td>2</td>\n",
       "      <td>3</td>\n",
       "    </tr>\n",
       "    <tr>\n",
       "      <th>6</th>\n",
       "      <td>Show banners with current offers and sales on the main page. This will boost conversion</td>\n",
       "      <td>5</td>\n",
       "      <td>3</td>\n",
       "      <td>8</td>\n",
       "      <td>3</td>\n",
       "    </tr>\n",
       "    <tr>\n",
       "      <th>7</th>\n",
       "      <td>Add a subscription form to all the main pages. This will help you compile a mailing list</td>\n",
       "      <td>10</td>\n",
       "      <td>7</td>\n",
       "      <td>8</td>\n",
       "      <td>5</td>\n",
       "    </tr>\n",
       "    <tr>\n",
       "      <th>8</th>\n",
       "      <td>Launch a promotion that gives users discounts on their birthdays</td>\n",
       "      <td>1</td>\n",
       "      <td>9</td>\n",
       "      <td>9</td>\n",
       "      <td>5</td>\n",
       "    </tr>\n",
       "  </tbody>\n",
       "</table>\n",
       "</div>"
      ],
      "text/plain": [
       "                                                                                                               Hypothesis  \\\n",
       "0                                             Add two new channels for attracting traffic. This will bring 30% more users   \n",
       "1                                                       Launch your own delivery service. This will shorten delivery time   \n",
       "2          Add product recommendation blocks to the store's site. This will increase conversion and average purchase size   \n",
       "3  Change the category structure. This will increase conversion since users will find the products they want more quickly   \n",
       "4                                        Change the background color on the main page. This will increase user engagement   \n",
       "5                                                     Add a customer review page. This will increase the number of orders   \n",
       "6                                 Show banners with current offers and sales on the main page. This will boost conversion   \n",
       "7                                Add a subscription form to all the main pages. This will help you compile a mailing list   \n",
       "8                                                        Launch a promotion that gives users discounts on their birthdays   \n",
       "\n",
       "   Reach  Impact  Confidence  Effort  \n",
       "0      3      10           8       6  \n",
       "1      2       5           4      10  \n",
       "2      8       3           7       3  \n",
       "3      8       3           3       8  \n",
       "4      3       1           1       1  \n",
       "5      3       2           2       3  \n",
       "6      5       3           8       3  \n",
       "7     10       7           8       5  \n",
       "8      1       9           9       5  "
      ]
     },
     "execution_count": 3,
     "metadata": {},
     "output_type": "execute_result"
    }
   ],
   "source": [
    "hypotheses= pd.read_csv('/datasets/hypotheses_us.csv', sep=';')\n",
    "print(hypotheses.info())\n",
    "hypotheses"
   ]
  },
  {
   "cell_type": "markdown",
   "metadata": {},
   "source": [
    "This dataframe looks correct, with all elements being accounted for."
   ]
  },
  {
   "cell_type": "code",
   "execution_count": 4,
   "metadata": {},
   "outputs": [],
   "source": [
    "orders = pd.read_csv('/datasets/orders_us.csv')\n",
    "visits = pd.read_csv('/datasets/visits_us.csv')"
   ]
  },
  {
   "cell_type": "code",
   "execution_count": 5,
   "metadata": {
    "scrolled": true
   },
   "outputs": [
    {
     "name": "stdout",
     "output_type": "stream",
     "text": [
      "<class 'pandas.core.frame.DataFrame'>\n",
      "RangeIndex: 1197 entries, 0 to 1196\n",
      "Data columns (total 5 columns):\n",
      " #   Column         Non-Null Count  Dtype  \n",
      "---  ------         --------------  -----  \n",
      " 0   transactionId  1197 non-null   int64  \n",
      " 1   visitorId      1197 non-null   int64  \n",
      " 2   date           1197 non-null   object \n",
      " 3   revenue        1197 non-null   float64\n",
      " 4   group          1197 non-null   object \n",
      "dtypes: float64(1), int64(2), object(2)\n",
      "memory usage: 46.9+ KB\n",
      "None\n"
     ]
    },
    {
     "data": {
      "text/html": [
       "<div>\n",
       "<style scoped>\n",
       "    .dataframe tbody tr th:only-of-type {\n",
       "        vertical-align: middle;\n",
       "    }\n",
       "\n",
       "    .dataframe tbody tr th {\n",
       "        vertical-align: top;\n",
       "    }\n",
       "\n",
       "    .dataframe thead th {\n",
       "        text-align: right;\n",
       "    }\n",
       "</style>\n",
       "<table border=\"1\" class=\"dataframe\">\n",
       "  <thead>\n",
       "    <tr style=\"text-align: right;\">\n",
       "      <th></th>\n",
       "      <th>transactionId</th>\n",
       "      <th>visitorId</th>\n",
       "      <th>date</th>\n",
       "      <th>revenue</th>\n",
       "      <th>group</th>\n",
       "    </tr>\n",
       "  </thead>\n",
       "  <tbody>\n",
       "    <tr>\n",
       "      <th>0</th>\n",
       "      <td>3667963787</td>\n",
       "      <td>3312258926</td>\n",
       "      <td>2019-08-15</td>\n",
       "      <td>30.4</td>\n",
       "      <td>B</td>\n",
       "    </tr>\n",
       "    <tr>\n",
       "      <th>1</th>\n",
       "      <td>2804400009</td>\n",
       "      <td>3642806036</td>\n",
       "      <td>2019-08-15</td>\n",
       "      <td>15.2</td>\n",
       "      <td>B</td>\n",
       "    </tr>\n",
       "    <tr>\n",
       "      <th>2</th>\n",
       "      <td>2961555356</td>\n",
       "      <td>4069496402</td>\n",
       "      <td>2019-08-15</td>\n",
       "      <td>10.2</td>\n",
       "      <td>A</td>\n",
       "    </tr>\n",
       "    <tr>\n",
       "      <th>3</th>\n",
       "      <td>3797467345</td>\n",
       "      <td>1196621759</td>\n",
       "      <td>2019-08-15</td>\n",
       "      <td>155.1</td>\n",
       "      <td>B</td>\n",
       "    </tr>\n",
       "    <tr>\n",
       "      <th>4</th>\n",
       "      <td>2282983706</td>\n",
       "      <td>2322279887</td>\n",
       "      <td>2019-08-15</td>\n",
       "      <td>40.5</td>\n",
       "      <td>B</td>\n",
       "    </tr>\n",
       "    <tr>\n",
       "      <th>...</th>\n",
       "      <td>...</td>\n",
       "      <td>...</td>\n",
       "      <td>...</td>\n",
       "      <td>...</td>\n",
       "      <td>...</td>\n",
       "    </tr>\n",
       "    <tr>\n",
       "      <th>1192</th>\n",
       "      <td>2662137336</td>\n",
       "      <td>3733762160</td>\n",
       "      <td>2019-08-14</td>\n",
       "      <td>100.8</td>\n",
       "      <td>B</td>\n",
       "    </tr>\n",
       "    <tr>\n",
       "      <th>1193</th>\n",
       "      <td>2203539145</td>\n",
       "      <td>370388673</td>\n",
       "      <td>2019-08-14</td>\n",
       "      <td>50.1</td>\n",
       "      <td>A</td>\n",
       "    </tr>\n",
       "    <tr>\n",
       "      <th>1194</th>\n",
       "      <td>1807773912</td>\n",
       "      <td>573423106</td>\n",
       "      <td>2019-08-14</td>\n",
       "      <td>165.3</td>\n",
       "      <td>A</td>\n",
       "    </tr>\n",
       "    <tr>\n",
       "      <th>1195</th>\n",
       "      <td>1947021204</td>\n",
       "      <td>1614305549</td>\n",
       "      <td>2019-08-14</td>\n",
       "      <td>5.5</td>\n",
       "      <td>A</td>\n",
       "    </tr>\n",
       "    <tr>\n",
       "      <th>1196</th>\n",
       "      <td>3936777065</td>\n",
       "      <td>2108080724</td>\n",
       "      <td>2019-08-15</td>\n",
       "      <td>3120.1</td>\n",
       "      <td>B</td>\n",
       "    </tr>\n",
       "  </tbody>\n",
       "</table>\n",
       "<p>1197 rows × 5 columns</p>\n",
       "</div>"
      ],
      "text/plain": [
       "      transactionId   visitorId        date  revenue group\n",
       "0        3667963787  3312258926  2019-08-15     30.4     B\n",
       "1        2804400009  3642806036  2019-08-15     15.2     B\n",
       "2        2961555356  4069496402  2019-08-15     10.2     A\n",
       "3        3797467345  1196621759  2019-08-15    155.1     B\n",
       "4        2282983706  2322279887  2019-08-15     40.5     B\n",
       "...             ...         ...         ...      ...   ...\n",
       "1192     2662137336  3733762160  2019-08-14    100.8     B\n",
       "1193     2203539145   370388673  2019-08-14     50.1     A\n",
       "1194     1807773912   573423106  2019-08-14    165.3     A\n",
       "1195     1947021204  1614305549  2019-08-14      5.5     A\n",
       "1196     3936777065  2108080724  2019-08-15   3120.1     B\n",
       "\n",
       "[1197 rows x 5 columns]"
      ]
     },
     "execution_count": 5,
     "metadata": {},
     "output_type": "execute_result"
    }
   ],
   "source": [
    "print(orders.info())\n",
    "orders"
   ]
  },
  {
   "cell_type": "markdown",
   "metadata": {},
   "source": [
    "In studying the orders dataset we do not have any missing elements. I will change the date column to a datetime type and then check to see if any of the visitorId's are present in both group A and B"
   ]
  },
  {
   "cell_type": "code",
   "execution_count": 6,
   "metadata": {},
   "outputs": [],
   "source": [
    "orders['date'] = orders['date'].map(\n",
    "    lambda x: dt.datetime.strptime(x, '%Y-%m-%d')\n",
    ")"
   ]
  },
  {
   "cell_type": "code",
   "execution_count": 7,
   "metadata": {},
   "outputs": [],
   "source": [
    "ordersB= orders[orders['group']=='B']\n",
    "ordersA= orders[orders['group']=='A']"
   ]
  },
  {
   "cell_type": "code",
   "execution_count": 8,
   "metadata": {
    "scrolled": true
   },
   "outputs": [
    {
     "data": {
      "text/html": [
       "<div>\n",
       "<style scoped>\n",
       "    .dataframe tbody tr th:only-of-type {\n",
       "        vertical-align: middle;\n",
       "    }\n",
       "\n",
       "    .dataframe tbody tr th {\n",
       "        vertical-align: top;\n",
       "    }\n",
       "\n",
       "    .dataframe thead th {\n",
       "        text-align: right;\n",
       "    }\n",
       "</style>\n",
       "<table border=\"1\" class=\"dataframe\">\n",
       "  <thead>\n",
       "    <tr style=\"text-align: right;\">\n",
       "      <th></th>\n",
       "      <th>transactionId</th>\n",
       "      <th>visitorId</th>\n",
       "      <th>date</th>\n",
       "      <th>revenue</th>\n",
       "      <th>group</th>\n",
       "    </tr>\n",
       "  </thead>\n",
       "  <tbody>\n",
       "    <tr>\n",
       "      <th>2</th>\n",
       "      <td>2961555356</td>\n",
       "      <td>4069496402</td>\n",
       "      <td>2019-08-15</td>\n",
       "      <td>10.2</td>\n",
       "      <td>A</td>\n",
       "    </tr>\n",
       "    <tr>\n",
       "      <th>26</th>\n",
       "      <td>2223239646</td>\n",
       "      <td>199603092</td>\n",
       "      <td>2019-08-15</td>\n",
       "      <td>55.7</td>\n",
       "      <td>A</td>\n",
       "    </tr>\n",
       "    <tr>\n",
       "      <th>29</th>\n",
       "      <td>2220299125</td>\n",
       "      <td>3803269165</td>\n",
       "      <td>2019-08-15</td>\n",
       "      <td>15.8</td>\n",
       "      <td>A</td>\n",
       "    </tr>\n",
       "    <tr>\n",
       "      <th>33</th>\n",
       "      <td>486237576</td>\n",
       "      <td>2378935119</td>\n",
       "      <td>2019-08-15</td>\n",
       "      <td>30.4</td>\n",
       "      <td>A</td>\n",
       "    </tr>\n",
       "    <tr>\n",
       "      <th>41</th>\n",
       "      <td>2594268419</td>\n",
       "      <td>237748145</td>\n",
       "      <td>2019-08-15</td>\n",
       "      <td>20.8</td>\n",
       "      <td>A</td>\n",
       "    </tr>\n",
       "    <tr>\n",
       "      <th>...</th>\n",
       "      <td>...</td>\n",
       "      <td>...</td>\n",
       "      <td>...</td>\n",
       "      <td>...</td>\n",
       "      <td>...</td>\n",
       "    </tr>\n",
       "    <tr>\n",
       "      <th>1167</th>\n",
       "      <td>3757656646</td>\n",
       "      <td>4186807279</td>\n",
       "      <td>2019-08-14</td>\n",
       "      <td>80.8</td>\n",
       "      <td>A</td>\n",
       "    </tr>\n",
       "    <tr>\n",
       "      <th>1173</th>\n",
       "      <td>3612788481</td>\n",
       "      <td>2712142231</td>\n",
       "      <td>2019-08-14</td>\n",
       "      <td>40.3</td>\n",
       "      <td>A</td>\n",
       "    </tr>\n",
       "    <tr>\n",
       "      <th>1178</th>\n",
       "      <td>4052155355</td>\n",
       "      <td>2949041841</td>\n",
       "      <td>2019-08-14</td>\n",
       "      <td>5.9</td>\n",
       "      <td>A</td>\n",
       "    </tr>\n",
       "    <tr>\n",
       "      <th>1183</th>\n",
       "      <td>1458356232</td>\n",
       "      <td>963407295</td>\n",
       "      <td>2019-08-14</td>\n",
       "      <td>80.0</td>\n",
       "      <td>A</td>\n",
       "    </tr>\n",
       "    <tr>\n",
       "      <th>1195</th>\n",
       "      <td>1947021204</td>\n",
       "      <td>1614305549</td>\n",
       "      <td>2019-08-14</td>\n",
       "      <td>5.5</td>\n",
       "      <td>A</td>\n",
       "    </tr>\n",
       "  </tbody>\n",
       "</table>\n",
       "<p>89 rows × 5 columns</p>\n",
       "</div>"
      ],
      "text/plain": [
       "      transactionId   visitorId       date  revenue group\n",
       "2        2961555356  4069496402 2019-08-15     10.2     A\n",
       "26       2223239646   199603092 2019-08-15     55.7     A\n",
       "29       2220299125  3803269165 2019-08-15     15.8     A\n",
       "33        486237576  2378935119 2019-08-15     30.4     A\n",
       "41       2594268419   237748145 2019-08-15     20.8     A\n",
       "...             ...         ...        ...      ...   ...\n",
       "1167     3757656646  4186807279 2019-08-14     80.8     A\n",
       "1173     3612788481  2712142231 2019-08-14     40.3     A\n",
       "1178     4052155355  2949041841 2019-08-14      5.9     A\n",
       "1183     1458356232   963407295 2019-08-14     80.0     A\n",
       "1195     1947021204  1614305549 2019-08-14      5.5     A\n",
       "\n",
       "[89 rows x 5 columns]"
      ]
     },
     "execution_count": 8,
     "metadata": {},
     "output_type": "execute_result"
    }
   ],
   "source": [
    "dupes_id= ordersA[ordersA['visitorId'].isin(ordersB['visitorId'])]\n",
    "dupes_id"
   ]
  },
  {
   "cell_type": "code",
   "execution_count": 9,
   "metadata": {
    "scrolled": true
   },
   "outputs": [
    {
     "data": {
      "text/html": [
       "<div>\n",
       "<style scoped>\n",
       "    .dataframe tbody tr th:only-of-type {\n",
       "        vertical-align: middle;\n",
       "    }\n",
       "\n",
       "    .dataframe tbody tr th {\n",
       "        vertical-align: top;\n",
       "    }\n",
       "\n",
       "    .dataframe thead th {\n",
       "        text-align: right;\n",
       "    }\n",
       "</style>\n",
       "<table border=\"1\" class=\"dataframe\">\n",
       "  <thead>\n",
       "    <tr style=\"text-align: right;\">\n",
       "      <th></th>\n",
       "      <th>transactionId</th>\n",
       "      <th>visitorId</th>\n",
       "      <th>date</th>\n",
       "      <th>revenue</th>\n",
       "      <th>group</th>\n",
       "    </tr>\n",
       "  </thead>\n",
       "  <tbody>\n",
       "    <tr>\n",
       "      <th>2</th>\n",
       "      <td>2961555356</td>\n",
       "      <td>4069496402</td>\n",
       "      <td>2019-08-15</td>\n",
       "      <td>10.2</td>\n",
       "      <td>A</td>\n",
       "    </tr>\n",
       "    <tr>\n",
       "      <th>1070</th>\n",
       "      <td>1473132782</td>\n",
       "      <td>4069496402</td>\n",
       "      <td>2019-08-12</td>\n",
       "      <td>10.8</td>\n",
       "      <td>B</td>\n",
       "    </tr>\n",
       "  </tbody>\n",
       "</table>\n",
       "</div>"
      ],
      "text/plain": [
       "      transactionId   visitorId       date  revenue group\n",
       "2        2961555356  4069496402 2019-08-15     10.2     A\n",
       "1070     1473132782  4069496402 2019-08-12     10.8     B"
      ]
     },
     "execution_count": 9,
     "metadata": {},
     "output_type": "execute_result"
    }
   ],
   "source": [
    "orders[orders['visitorId']== 4069496402]"
   ]
  },
  {
   "cell_type": "markdown",
   "metadata": {},
   "source": [
    "The above are visitorId's that can be found in both groups, such as visitor id: '4069496402'. As I do not believe it would be best practice to go through and remove each id from one group and keep it in another, I will get rid of the id's that appear in both groups. "
   ]
  },
  {
   "cell_type": "code",
   "execution_count": 10,
   "metadata": {
    "scrolled": true
   },
   "outputs": [
    {
     "data": {
      "text/html": [
       "<div>\n",
       "<style scoped>\n",
       "    .dataframe tbody tr th:only-of-type {\n",
       "        vertical-align: middle;\n",
       "    }\n",
       "\n",
       "    .dataframe tbody tr th {\n",
       "        vertical-align: top;\n",
       "    }\n",
       "\n",
       "    .dataframe thead th {\n",
       "        text-align: right;\n",
       "    }\n",
       "</style>\n",
       "<table border=\"1\" class=\"dataframe\">\n",
       "  <thead>\n",
       "    <tr style=\"text-align: right;\">\n",
       "      <th></th>\n",
       "      <th>transactionId</th>\n",
       "      <th>visitorId</th>\n",
       "      <th>date</th>\n",
       "      <th>revenue</th>\n",
       "      <th>group</th>\n",
       "    </tr>\n",
       "  </thead>\n",
       "  <tbody>\n",
       "    <tr>\n",
       "      <th>0</th>\n",
       "      <td>3667963787</td>\n",
       "      <td>3312258926</td>\n",
       "      <td>2019-08-15</td>\n",
       "      <td>30.4</td>\n",
       "      <td>B</td>\n",
       "    </tr>\n",
       "    <tr>\n",
       "      <th>1</th>\n",
       "      <td>2804400009</td>\n",
       "      <td>3642806036</td>\n",
       "      <td>2019-08-15</td>\n",
       "      <td>15.2</td>\n",
       "      <td>B</td>\n",
       "    </tr>\n",
       "    <tr>\n",
       "      <th>3</th>\n",
       "      <td>3797467345</td>\n",
       "      <td>1196621759</td>\n",
       "      <td>2019-08-15</td>\n",
       "      <td>155.1</td>\n",
       "      <td>B</td>\n",
       "    </tr>\n",
       "    <tr>\n",
       "      <th>4</th>\n",
       "      <td>2282983706</td>\n",
       "      <td>2322279887</td>\n",
       "      <td>2019-08-15</td>\n",
       "      <td>40.5</td>\n",
       "      <td>B</td>\n",
       "    </tr>\n",
       "    <tr>\n",
       "      <th>5</th>\n",
       "      <td>182168103</td>\n",
       "      <td>935554773</td>\n",
       "      <td>2019-08-15</td>\n",
       "      <td>35.0</td>\n",
       "      <td>B</td>\n",
       "    </tr>\n",
       "    <tr>\n",
       "      <th>...</th>\n",
       "      <td>...</td>\n",
       "      <td>...</td>\n",
       "      <td>...</td>\n",
       "      <td>...</td>\n",
       "      <td>...</td>\n",
       "    </tr>\n",
       "    <tr>\n",
       "      <th>1191</th>\n",
       "      <td>3592955527</td>\n",
       "      <td>608641596</td>\n",
       "      <td>2019-08-14</td>\n",
       "      <td>255.7</td>\n",
       "      <td>B</td>\n",
       "    </tr>\n",
       "    <tr>\n",
       "      <th>1192</th>\n",
       "      <td>2662137336</td>\n",
       "      <td>3733762160</td>\n",
       "      <td>2019-08-14</td>\n",
       "      <td>100.8</td>\n",
       "      <td>B</td>\n",
       "    </tr>\n",
       "    <tr>\n",
       "      <th>1193</th>\n",
       "      <td>2203539145</td>\n",
       "      <td>370388673</td>\n",
       "      <td>2019-08-14</td>\n",
       "      <td>50.1</td>\n",
       "      <td>A</td>\n",
       "    </tr>\n",
       "    <tr>\n",
       "      <th>1194</th>\n",
       "      <td>1807773912</td>\n",
       "      <td>573423106</td>\n",
       "      <td>2019-08-14</td>\n",
       "      <td>165.3</td>\n",
       "      <td>A</td>\n",
       "    </tr>\n",
       "    <tr>\n",
       "      <th>1196</th>\n",
       "      <td>3936777065</td>\n",
       "      <td>2108080724</td>\n",
       "      <td>2019-08-15</td>\n",
       "      <td>3120.1</td>\n",
       "      <td>B</td>\n",
       "    </tr>\n",
       "  </tbody>\n",
       "</table>\n",
       "<p>1016 rows × 5 columns</p>\n",
       "</div>"
      ],
      "text/plain": [
       "      transactionId   visitorId       date  revenue group\n",
       "0        3667963787  3312258926 2019-08-15     30.4     B\n",
       "1        2804400009  3642806036 2019-08-15     15.2     B\n",
       "3        3797467345  1196621759 2019-08-15    155.1     B\n",
       "4        2282983706  2322279887 2019-08-15     40.5     B\n",
       "5         182168103   935554773 2019-08-15     35.0     B\n",
       "...             ...         ...        ...      ...   ...\n",
       "1191     3592955527   608641596 2019-08-14    255.7     B\n",
       "1192     2662137336  3733762160 2019-08-14    100.8     B\n",
       "1193     2203539145   370388673 2019-08-14     50.1     A\n",
       "1194     1807773912   573423106 2019-08-14    165.3     A\n",
       "1196     3936777065  2108080724 2019-08-15   3120.1     B\n",
       "\n",
       "[1016 rows x 5 columns]"
      ]
     },
     "execution_count": 10,
     "metadata": {},
     "output_type": "execute_result"
    }
   ],
   "source": [
    "orders= orders[~orders['visitorId'].isin(dupes_id['visitorId'])]\n",
    "orders"
   ]
  },
  {
   "cell_type": "markdown",
   "metadata": {},
   "source": [
    "The orders dataset has now had the duplicated visitor id's removed."
   ]
  },
  {
   "cell_type": "code",
   "execution_count": 11,
   "metadata": {},
   "outputs": [
    {
     "data": {
      "text/html": [
       "<div>\n",
       "<style scoped>\n",
       "    .dataframe tbody tr th:only-of-type {\n",
       "        vertical-align: middle;\n",
       "    }\n",
       "\n",
       "    .dataframe tbody tr th {\n",
       "        vertical-align: top;\n",
       "    }\n",
       "\n",
       "    .dataframe thead th {\n",
       "        text-align: right;\n",
       "    }\n",
       "</style>\n",
       "<table border=\"1\" class=\"dataframe\">\n",
       "  <thead>\n",
       "    <tr style=\"text-align: right;\">\n",
       "      <th></th>\n",
       "      <th>transactionId</th>\n",
       "      <th>visitorId</th>\n",
       "      <th>date</th>\n",
       "      <th>revenue</th>\n",
       "      <th>group</th>\n",
       "    </tr>\n",
       "  </thead>\n",
       "  <tbody>\n",
       "  </tbody>\n",
       "</table>\n",
       "</div>"
      ],
      "text/plain": [
       "Empty DataFrame\n",
       "Columns: [transactionId, visitorId, date, revenue, group]\n",
       "Index: []"
      ]
     },
     "execution_count": 11,
     "metadata": {},
     "output_type": "execute_result"
    }
   ],
   "source": [
    "orders[orders['visitorId']== 4069496402]"
   ]
  },
  {
   "cell_type": "code",
   "execution_count": 12,
   "metadata": {},
   "outputs": [],
   "source": [
    "ordersB= orders[orders['group']=='B']\n",
    "ordersA= orders[orders['group']=='A']"
   ]
  },
  {
   "cell_type": "code",
   "execution_count": 13,
   "metadata": {},
   "outputs": [
    {
     "name": "stdout",
     "output_type": "stream",
     "text": [
      "<class 'pandas.core.frame.DataFrame'>\n",
      "RangeIndex: 62 entries, 0 to 61\n",
      "Data columns (total 3 columns):\n",
      " #   Column  Non-Null Count  Dtype \n",
      "---  ------  --------------  ----- \n",
      " 0   date    62 non-null     object\n",
      " 1   group   62 non-null     object\n",
      " 2   visits  62 non-null     int64 \n",
      "dtypes: int64(1), object(2)\n",
      "memory usage: 1.6+ KB\n",
      "None\n"
     ]
    },
    {
     "data": {
      "text/html": [
       "<div>\n",
       "<style scoped>\n",
       "    .dataframe tbody tr th:only-of-type {\n",
       "        vertical-align: middle;\n",
       "    }\n",
       "\n",
       "    .dataframe tbody tr th {\n",
       "        vertical-align: top;\n",
       "    }\n",
       "\n",
       "    .dataframe thead th {\n",
       "        text-align: right;\n",
       "    }\n",
       "</style>\n",
       "<table border=\"1\" class=\"dataframe\">\n",
       "  <thead>\n",
       "    <tr style=\"text-align: right;\">\n",
       "      <th></th>\n",
       "      <th>date</th>\n",
       "      <th>group</th>\n",
       "      <th>visits</th>\n",
       "    </tr>\n",
       "  </thead>\n",
       "  <tbody>\n",
       "    <tr>\n",
       "      <th>0</th>\n",
       "      <td>2019-08-01</td>\n",
       "      <td>A</td>\n",
       "      <td>719</td>\n",
       "    </tr>\n",
       "    <tr>\n",
       "      <th>1</th>\n",
       "      <td>2019-08-02</td>\n",
       "      <td>A</td>\n",
       "      <td>619</td>\n",
       "    </tr>\n",
       "    <tr>\n",
       "      <th>2</th>\n",
       "      <td>2019-08-03</td>\n",
       "      <td>A</td>\n",
       "      <td>507</td>\n",
       "    </tr>\n",
       "    <tr>\n",
       "      <th>3</th>\n",
       "      <td>2019-08-04</td>\n",
       "      <td>A</td>\n",
       "      <td>717</td>\n",
       "    </tr>\n",
       "    <tr>\n",
       "      <th>4</th>\n",
       "      <td>2019-08-05</td>\n",
       "      <td>A</td>\n",
       "      <td>756</td>\n",
       "    </tr>\n",
       "    <tr>\n",
       "      <th>...</th>\n",
       "      <td>...</td>\n",
       "      <td>...</td>\n",
       "      <td>...</td>\n",
       "    </tr>\n",
       "    <tr>\n",
       "      <th>57</th>\n",
       "      <td>2019-08-27</td>\n",
       "      <td>B</td>\n",
       "      <td>720</td>\n",
       "    </tr>\n",
       "    <tr>\n",
       "      <th>58</th>\n",
       "      <td>2019-08-28</td>\n",
       "      <td>B</td>\n",
       "      <td>654</td>\n",
       "    </tr>\n",
       "    <tr>\n",
       "      <th>59</th>\n",
       "      <td>2019-08-29</td>\n",
       "      <td>B</td>\n",
       "      <td>531</td>\n",
       "    </tr>\n",
       "    <tr>\n",
       "      <th>60</th>\n",
       "      <td>2019-08-30</td>\n",
       "      <td>B</td>\n",
       "      <td>490</td>\n",
       "    </tr>\n",
       "    <tr>\n",
       "      <th>61</th>\n",
       "      <td>2019-08-31</td>\n",
       "      <td>B</td>\n",
       "      <td>718</td>\n",
       "    </tr>\n",
       "  </tbody>\n",
       "</table>\n",
       "<p>62 rows × 3 columns</p>\n",
       "</div>"
      ],
      "text/plain": [
       "          date group  visits\n",
       "0   2019-08-01     A     719\n",
       "1   2019-08-02     A     619\n",
       "2   2019-08-03     A     507\n",
       "3   2019-08-04     A     717\n",
       "4   2019-08-05     A     756\n",
       "..         ...   ...     ...\n",
       "57  2019-08-27     B     720\n",
       "58  2019-08-28     B     654\n",
       "59  2019-08-29     B     531\n",
       "60  2019-08-30     B     490\n",
       "61  2019-08-31     B     718\n",
       "\n",
       "[62 rows x 3 columns]"
      ]
     },
     "execution_count": 13,
     "metadata": {},
     "output_type": "execute_result"
    }
   ],
   "source": [
    "print(visits.info())\n",
    "visits"
   ]
  },
  {
   "cell_type": "markdown",
   "metadata": {},
   "source": [
    "The visits datasets doesn't seem to be missing any values. I will convert the date column to a datetime data type"
   ]
  },
  {
   "cell_type": "code",
   "execution_count": 14,
   "metadata": {},
   "outputs": [],
   "source": [
    "visits['date'] = visits['date'].map(\n",
    "    lambda x: dt.datetime.strptime(x, '%Y-%m-%d')\n",
    ")"
   ]
  },
  {
   "cell_type": "markdown",
   "metadata": {},
   "source": [
    "## Prioritizing Hypotheses "
   ]
  },
  {
   "cell_type": "markdown",
   "metadata": {},
   "source": [
    "Now that my data has been pre-processed, I am now ready to prioritize my hypotheses. I will be using both the ICE framework and the RICE framework"
   ]
  },
  {
   "cell_type": "code",
   "execution_count": 15,
   "metadata": {},
   "outputs": [
    {
     "data": {
      "text/html": [
       "<div>\n",
       "<style scoped>\n",
       "    .dataframe tbody tr th:only-of-type {\n",
       "        vertical-align: middle;\n",
       "    }\n",
       "\n",
       "    .dataframe tbody tr th {\n",
       "        vertical-align: top;\n",
       "    }\n",
       "\n",
       "    .dataframe thead th {\n",
       "        text-align: right;\n",
       "    }\n",
       "</style>\n",
       "<table border=\"1\" class=\"dataframe\">\n",
       "  <thead>\n",
       "    <tr style=\"text-align: right;\">\n",
       "      <th></th>\n",
       "      <th>Hypothesis</th>\n",
       "      <th>Reach</th>\n",
       "      <th>Impact</th>\n",
       "      <th>Confidence</th>\n",
       "      <th>Effort</th>\n",
       "    </tr>\n",
       "  </thead>\n",
       "  <tbody>\n",
       "    <tr>\n",
       "      <th>0</th>\n",
       "      <td>Add two new channels for attracting traffic. This will bring 30% more users</td>\n",
       "      <td>3</td>\n",
       "      <td>10</td>\n",
       "      <td>8</td>\n",
       "      <td>6</td>\n",
       "    </tr>\n",
       "    <tr>\n",
       "      <th>1</th>\n",
       "      <td>Launch your own delivery service. This will shorten delivery time</td>\n",
       "      <td>2</td>\n",
       "      <td>5</td>\n",
       "      <td>4</td>\n",
       "      <td>10</td>\n",
       "    </tr>\n",
       "    <tr>\n",
       "      <th>2</th>\n",
       "      <td>Add product recommendation blocks to the store's site. This will increase conversion and average purchase size</td>\n",
       "      <td>8</td>\n",
       "      <td>3</td>\n",
       "      <td>7</td>\n",
       "      <td>3</td>\n",
       "    </tr>\n",
       "    <tr>\n",
       "      <th>3</th>\n",
       "      <td>Change the category structure. This will increase conversion since users will find the products they want more quickly</td>\n",
       "      <td>8</td>\n",
       "      <td>3</td>\n",
       "      <td>3</td>\n",
       "      <td>8</td>\n",
       "    </tr>\n",
       "    <tr>\n",
       "      <th>4</th>\n",
       "      <td>Change the background color on the main page. This will increase user engagement</td>\n",
       "      <td>3</td>\n",
       "      <td>1</td>\n",
       "      <td>1</td>\n",
       "      <td>1</td>\n",
       "    </tr>\n",
       "    <tr>\n",
       "      <th>5</th>\n",
       "      <td>Add a customer review page. This will increase the number of orders</td>\n",
       "      <td>3</td>\n",
       "      <td>2</td>\n",
       "      <td>2</td>\n",
       "      <td>3</td>\n",
       "    </tr>\n",
       "    <tr>\n",
       "      <th>6</th>\n",
       "      <td>Show banners with current offers and sales on the main page. This will boost conversion</td>\n",
       "      <td>5</td>\n",
       "      <td>3</td>\n",
       "      <td>8</td>\n",
       "      <td>3</td>\n",
       "    </tr>\n",
       "    <tr>\n",
       "      <th>7</th>\n",
       "      <td>Add a subscription form to all the main pages. This will help you compile a mailing list</td>\n",
       "      <td>10</td>\n",
       "      <td>7</td>\n",
       "      <td>8</td>\n",
       "      <td>5</td>\n",
       "    </tr>\n",
       "    <tr>\n",
       "      <th>8</th>\n",
       "      <td>Launch a promotion that gives users discounts on their birthdays</td>\n",
       "      <td>1</td>\n",
       "      <td>9</td>\n",
       "      <td>9</td>\n",
       "      <td>5</td>\n",
       "    </tr>\n",
       "  </tbody>\n",
       "</table>\n",
       "</div>"
      ],
      "text/plain": [
       "                                                                                                               Hypothesis  \\\n",
       "0                                             Add two new channels for attracting traffic. This will bring 30% more users   \n",
       "1                                                       Launch your own delivery service. This will shorten delivery time   \n",
       "2          Add product recommendation blocks to the store's site. This will increase conversion and average purchase size   \n",
       "3  Change the category structure. This will increase conversion since users will find the products they want more quickly   \n",
       "4                                        Change the background color on the main page. This will increase user engagement   \n",
       "5                                                     Add a customer review page. This will increase the number of orders   \n",
       "6                                 Show banners with current offers and sales on the main page. This will boost conversion   \n",
       "7                                Add a subscription form to all the main pages. This will help you compile a mailing list   \n",
       "8                                                        Launch a promotion that gives users discounts on their birthdays   \n",
       "\n",
       "   Reach  Impact  Confidence  Effort  \n",
       "0      3      10           8       6  \n",
       "1      2       5           4      10  \n",
       "2      8       3           7       3  \n",
       "3      8       3           3       8  \n",
       "4      3       1           1       1  \n",
       "5      3       2           2       3  \n",
       "6      5       3           8       3  \n",
       "7     10       7           8       5  \n",
       "8      1       9           9       5  "
      ]
     },
     "execution_count": 15,
     "metadata": {},
     "output_type": "execute_result"
    }
   ],
   "source": [
    "hypotheses"
   ]
  },
  {
   "cell_type": "markdown",
   "metadata": {},
   "source": [
    "ICE Framework of (impact * confidence)/effort"
   ]
  },
  {
   "cell_type": "code",
   "execution_count": 16,
   "metadata": {},
   "outputs": [
    {
     "data": {
      "text/html": [
       "<div>\n",
       "<style scoped>\n",
       "    .dataframe tbody tr th:only-of-type {\n",
       "        vertical-align: middle;\n",
       "    }\n",
       "\n",
       "    .dataframe tbody tr th {\n",
       "        vertical-align: top;\n",
       "    }\n",
       "\n",
       "    .dataframe thead th {\n",
       "        text-align: right;\n",
       "    }\n",
       "</style>\n",
       "<table border=\"1\" class=\"dataframe\">\n",
       "  <thead>\n",
       "    <tr style=\"text-align: right;\">\n",
       "      <th></th>\n",
       "      <th>Hypothesis</th>\n",
       "      <th>ICE</th>\n",
       "    </tr>\n",
       "  </thead>\n",
       "  <tbody>\n",
       "    <tr>\n",
       "      <th>8</th>\n",
       "      <td>Launch a promotion that gives users discounts on their birthdays</td>\n",
       "      <td>16.200000</td>\n",
       "    </tr>\n",
       "    <tr>\n",
       "      <th>0</th>\n",
       "      <td>Add two new channels for attracting traffic. This will bring 30% more users</td>\n",
       "      <td>13.333333</td>\n",
       "    </tr>\n",
       "    <tr>\n",
       "      <th>7</th>\n",
       "      <td>Add a subscription form to all the main pages. This will help you compile a mailing list</td>\n",
       "      <td>11.200000</td>\n",
       "    </tr>\n",
       "    <tr>\n",
       "      <th>6</th>\n",
       "      <td>Show banners with current offers and sales on the main page. This will boost conversion</td>\n",
       "      <td>8.000000</td>\n",
       "    </tr>\n",
       "    <tr>\n",
       "      <th>2</th>\n",
       "      <td>Add product recommendation blocks to the store's site. This will increase conversion and average purchase size</td>\n",
       "      <td>7.000000</td>\n",
       "    </tr>\n",
       "    <tr>\n",
       "      <th>1</th>\n",
       "      <td>Launch your own delivery service. This will shorten delivery time</td>\n",
       "      <td>2.000000</td>\n",
       "    </tr>\n",
       "    <tr>\n",
       "      <th>5</th>\n",
       "      <td>Add a customer review page. This will increase the number of orders</td>\n",
       "      <td>1.333333</td>\n",
       "    </tr>\n",
       "    <tr>\n",
       "      <th>3</th>\n",
       "      <td>Change the category structure. This will increase conversion since users will find the products they want more quickly</td>\n",
       "      <td>1.125000</td>\n",
       "    </tr>\n",
       "    <tr>\n",
       "      <th>4</th>\n",
       "      <td>Change the background color on the main page. This will increase user engagement</td>\n",
       "      <td>1.000000</td>\n",
       "    </tr>\n",
       "  </tbody>\n",
       "</table>\n",
       "</div>"
      ],
      "text/plain": [
       "                                                                                                               Hypothesis  \\\n",
       "8                                                        Launch a promotion that gives users discounts on their birthdays   \n",
       "0                                             Add two new channels for attracting traffic. This will bring 30% more users   \n",
       "7                                Add a subscription form to all the main pages. This will help you compile a mailing list   \n",
       "6                                 Show banners with current offers and sales on the main page. This will boost conversion   \n",
       "2          Add product recommendation blocks to the store's site. This will increase conversion and average purchase size   \n",
       "1                                                       Launch your own delivery service. This will shorten delivery time   \n",
       "5                                                     Add a customer review page. This will increase the number of orders   \n",
       "3  Change the category structure. This will increase conversion since users will find the products they want more quickly   \n",
       "4                                        Change the background color on the main page. This will increase user engagement   \n",
       "\n",
       "         ICE  \n",
       "8  16.200000  \n",
       "0  13.333333  \n",
       "7  11.200000  \n",
       "6   8.000000  \n",
       "2   7.000000  \n",
       "1   2.000000  \n",
       "5   1.333333  \n",
       "3   1.125000  \n",
       "4   1.000000  "
      ]
     },
     "execution_count": 16,
     "metadata": {},
     "output_type": "execute_result"
    }
   ],
   "source": [
    "hypotheses['ICE'] = (hypotheses['Impact'] * hypotheses['Confidence'])/hypotheses['Effort']\n",
    "hypotheses[['Hypothesis','ICE']].sort_values(by='ICE', ascending=False)"
   ]
  },
  {
   "cell_type": "markdown",
   "metadata": {},
   "source": [
    "Applying the RICE framwork of (reach * impact * confidence)/effort"
   ]
  },
  {
   "cell_type": "code",
   "execution_count": 17,
   "metadata": {
    "scrolled": true
   },
   "outputs": [
    {
     "data": {
      "text/html": [
       "<div>\n",
       "<style scoped>\n",
       "    .dataframe tbody tr th:only-of-type {\n",
       "        vertical-align: middle;\n",
       "    }\n",
       "\n",
       "    .dataframe tbody tr th {\n",
       "        vertical-align: top;\n",
       "    }\n",
       "\n",
       "    .dataframe thead th {\n",
       "        text-align: right;\n",
       "    }\n",
       "</style>\n",
       "<table border=\"1\" class=\"dataframe\">\n",
       "  <thead>\n",
       "    <tr style=\"text-align: right;\">\n",
       "      <th></th>\n",
       "      <th>Hypothesis</th>\n",
       "      <th>RICE</th>\n",
       "    </tr>\n",
       "  </thead>\n",
       "  <tbody>\n",
       "    <tr>\n",
       "      <th>7</th>\n",
       "      <td>Add a subscription form to all the main pages. This will help you compile a mailing list</td>\n",
       "      <td>112.0</td>\n",
       "    </tr>\n",
       "    <tr>\n",
       "      <th>2</th>\n",
       "      <td>Add product recommendation blocks to the store's site. This will increase conversion and average purchase size</td>\n",
       "      <td>56.0</td>\n",
       "    </tr>\n",
       "    <tr>\n",
       "      <th>0</th>\n",
       "      <td>Add two new channels for attracting traffic. This will bring 30% more users</td>\n",
       "      <td>40.0</td>\n",
       "    </tr>\n",
       "    <tr>\n",
       "      <th>6</th>\n",
       "      <td>Show banners with current offers and sales on the main page. This will boost conversion</td>\n",
       "      <td>40.0</td>\n",
       "    </tr>\n",
       "    <tr>\n",
       "      <th>8</th>\n",
       "      <td>Launch a promotion that gives users discounts on their birthdays</td>\n",
       "      <td>16.2</td>\n",
       "    </tr>\n",
       "    <tr>\n",
       "      <th>3</th>\n",
       "      <td>Change the category structure. This will increase conversion since users will find the products they want more quickly</td>\n",
       "      <td>9.0</td>\n",
       "    </tr>\n",
       "    <tr>\n",
       "      <th>1</th>\n",
       "      <td>Launch your own delivery service. This will shorten delivery time</td>\n",
       "      <td>4.0</td>\n",
       "    </tr>\n",
       "    <tr>\n",
       "      <th>5</th>\n",
       "      <td>Add a customer review page. This will increase the number of orders</td>\n",
       "      <td>4.0</td>\n",
       "    </tr>\n",
       "    <tr>\n",
       "      <th>4</th>\n",
       "      <td>Change the background color on the main page. This will increase user engagement</td>\n",
       "      <td>3.0</td>\n",
       "    </tr>\n",
       "  </tbody>\n",
       "</table>\n",
       "</div>"
      ],
      "text/plain": [
       "                                                                                                               Hypothesis  \\\n",
       "7                                Add a subscription form to all the main pages. This will help you compile a mailing list   \n",
       "2          Add product recommendation blocks to the store's site. This will increase conversion and average purchase size   \n",
       "0                                             Add two new channels for attracting traffic. This will bring 30% more users   \n",
       "6                                 Show banners with current offers and sales on the main page. This will boost conversion   \n",
       "8                                                        Launch a promotion that gives users discounts on their birthdays   \n",
       "3  Change the category structure. This will increase conversion since users will find the products they want more quickly   \n",
       "1                                                       Launch your own delivery service. This will shorten delivery time   \n",
       "5                                                     Add a customer review page. This will increase the number of orders   \n",
       "4                                        Change the background color on the main page. This will increase user engagement   \n",
       "\n",
       "    RICE  \n",
       "7  112.0  \n",
       "2   56.0  \n",
       "0   40.0  \n",
       "6   40.0  \n",
       "8   16.2  \n",
       "3    9.0  \n",
       "1    4.0  \n",
       "5    4.0  \n",
       "4    3.0  "
      ]
     },
     "execution_count": 17,
     "metadata": {},
     "output_type": "execute_result"
    }
   ],
   "source": [
    "hypotheses['RICE'] = (hypotheses['Reach']* hypotheses['Impact'] * hypotheses['Confidence'])/hypotheses['Effort']\n",
    "hypotheses[['Hypothesis','RICE']].sort_values(by='RICE', ascending=False)"
   ]
  },
  {
   "cell_type": "code",
   "execution_count": 18,
   "metadata": {},
   "outputs": [
    {
     "data": {
      "text/html": [
       "<div>\n",
       "<style scoped>\n",
       "    .dataframe tbody tr th:only-of-type {\n",
       "        vertical-align: middle;\n",
       "    }\n",
       "\n",
       "    .dataframe tbody tr th {\n",
       "        vertical-align: top;\n",
       "    }\n",
       "\n",
       "    .dataframe thead th {\n",
       "        text-align: right;\n",
       "    }\n",
       "</style>\n",
       "<table border=\"1\" class=\"dataframe\">\n",
       "  <thead>\n",
       "    <tr style=\"text-align: right;\">\n",
       "      <th></th>\n",
       "      <th>Hypothesis</th>\n",
       "      <th>Reach</th>\n",
       "      <th>Impact</th>\n",
       "      <th>Confidence</th>\n",
       "      <th>Effort</th>\n",
       "      <th>ICE</th>\n",
       "      <th>RICE</th>\n",
       "    </tr>\n",
       "  </thead>\n",
       "  <tbody>\n",
       "    <tr>\n",
       "      <th>7</th>\n",
       "      <td>Add a subscription form to all the main pages. This will help you compile a mailing list</td>\n",
       "      <td>10</td>\n",
       "      <td>7</td>\n",
       "      <td>8</td>\n",
       "      <td>5</td>\n",
       "      <td>11.200000</td>\n",
       "      <td>112.0</td>\n",
       "    </tr>\n",
       "    <tr>\n",
       "      <th>2</th>\n",
       "      <td>Add product recommendation blocks to the store's site. This will increase conversion and average purchase size</td>\n",
       "      <td>8</td>\n",
       "      <td>3</td>\n",
       "      <td>7</td>\n",
       "      <td>3</td>\n",
       "      <td>7.000000</td>\n",
       "      <td>56.0</td>\n",
       "    </tr>\n",
       "    <tr>\n",
       "      <th>0</th>\n",
       "      <td>Add two new channels for attracting traffic. This will bring 30% more users</td>\n",
       "      <td>3</td>\n",
       "      <td>10</td>\n",
       "      <td>8</td>\n",
       "      <td>6</td>\n",
       "      <td>13.333333</td>\n",
       "      <td>40.0</td>\n",
       "    </tr>\n",
       "    <tr>\n",
       "      <th>6</th>\n",
       "      <td>Show banners with current offers and sales on the main page. This will boost conversion</td>\n",
       "      <td>5</td>\n",
       "      <td>3</td>\n",
       "      <td>8</td>\n",
       "      <td>3</td>\n",
       "      <td>8.000000</td>\n",
       "      <td>40.0</td>\n",
       "    </tr>\n",
       "    <tr>\n",
       "      <th>8</th>\n",
       "      <td>Launch a promotion that gives users discounts on their birthdays</td>\n",
       "      <td>1</td>\n",
       "      <td>9</td>\n",
       "      <td>9</td>\n",
       "      <td>5</td>\n",
       "      <td>16.200000</td>\n",
       "      <td>16.2</td>\n",
       "    </tr>\n",
       "    <tr>\n",
       "      <th>3</th>\n",
       "      <td>Change the category structure. This will increase conversion since users will find the products they want more quickly</td>\n",
       "      <td>8</td>\n",
       "      <td>3</td>\n",
       "      <td>3</td>\n",
       "      <td>8</td>\n",
       "      <td>1.125000</td>\n",
       "      <td>9.0</td>\n",
       "    </tr>\n",
       "    <tr>\n",
       "      <th>1</th>\n",
       "      <td>Launch your own delivery service. This will shorten delivery time</td>\n",
       "      <td>2</td>\n",
       "      <td>5</td>\n",
       "      <td>4</td>\n",
       "      <td>10</td>\n",
       "      <td>2.000000</td>\n",
       "      <td>4.0</td>\n",
       "    </tr>\n",
       "    <tr>\n",
       "      <th>5</th>\n",
       "      <td>Add a customer review page. This will increase the number of orders</td>\n",
       "      <td>3</td>\n",
       "      <td>2</td>\n",
       "      <td>2</td>\n",
       "      <td>3</td>\n",
       "      <td>1.333333</td>\n",
       "      <td>4.0</td>\n",
       "    </tr>\n",
       "    <tr>\n",
       "      <th>4</th>\n",
       "      <td>Change the background color on the main page. This will increase user engagement</td>\n",
       "      <td>3</td>\n",
       "      <td>1</td>\n",
       "      <td>1</td>\n",
       "      <td>1</td>\n",
       "      <td>1.000000</td>\n",
       "      <td>3.0</td>\n",
       "    </tr>\n",
       "  </tbody>\n",
       "</table>\n",
       "</div>"
      ],
      "text/plain": [
       "                                                                                                               Hypothesis  \\\n",
       "7                                Add a subscription form to all the main pages. This will help you compile a mailing list   \n",
       "2          Add product recommendation blocks to the store's site. This will increase conversion and average purchase size   \n",
       "0                                             Add two new channels for attracting traffic. This will bring 30% more users   \n",
       "6                                 Show banners with current offers and sales on the main page. This will boost conversion   \n",
       "8                                                        Launch a promotion that gives users discounts on their birthdays   \n",
       "3  Change the category structure. This will increase conversion since users will find the products they want more quickly   \n",
       "1                                                       Launch your own delivery service. This will shorten delivery time   \n",
       "5                                                     Add a customer review page. This will increase the number of orders   \n",
       "4                                        Change the background color on the main page. This will increase user engagement   \n",
       "\n",
       "   Reach  Impact  Confidence  Effort        ICE   RICE  \n",
       "7     10       7           8       5  11.200000  112.0  \n",
       "2      8       3           7       3   7.000000   56.0  \n",
       "0      3      10           8       6  13.333333   40.0  \n",
       "6      5       3           8       3   8.000000   40.0  \n",
       "8      1       9           9       5  16.200000   16.2  \n",
       "3      8       3           3       8   1.125000    9.0  \n",
       "1      2       5           4      10   2.000000    4.0  \n",
       "5      3       2           2       3   1.333333    4.0  \n",
       "4      3       1           1       1   1.000000    3.0  "
      ]
     },
     "execution_count": 18,
     "metadata": {},
     "output_type": "execute_result"
    }
   ],
   "source": [
    "hypotheses.sort_values(by='RICE', ascending=False)"
   ]
  },
  {
   "cell_type": "markdown",
   "metadata": {},
   "source": [
    "With the ICE framework my top four hypotheses in descending order are 8, 0, 7, and 6.\n",
    "Meanwhile with RICE my top for are 7, 2, 0, 6.\n",
    "\n",
    "8 is no longer a top hypothesis at all with the RICE framework and 7 goes from 3rd rank to 1st. Hypothesis 6 remains in the fourth ranking with both frameworks. This difference for hypothesis 8 is due to it's Reach ranking. While it has a high impact score of 9, it has a very low reach score of 1. Meanwhile hypothesis 7 has a reach score of 10 with with moderately high scores for impact and confidence. "
   ]
  },
  {
   "cell_type": "markdown",
   "metadata": {},
   "source": [
    "## A/B Test Analysis"
   ]
  },
  {
   "cell_type": "markdown",
   "metadata": {},
   "source": [
    "I will now analyze the results of the A/B Test, starting with the cumulative revenue of each group."
   ]
  },
  {
   "cell_type": "code",
   "execution_count": 19,
   "metadata": {},
   "outputs": [
    {
     "data": {
      "text/html": [
       "<div>\n",
       "<style scoped>\n",
       "    .dataframe tbody tr th:only-of-type {\n",
       "        vertical-align: middle;\n",
       "    }\n",
       "\n",
       "    .dataframe tbody tr th {\n",
       "        vertical-align: top;\n",
       "    }\n",
       "\n",
       "    .dataframe thead th {\n",
       "        text-align: right;\n",
       "    }\n",
       "</style>\n",
       "<table border=\"1\" class=\"dataframe\">\n",
       "  <thead>\n",
       "    <tr style=\"text-align: right;\">\n",
       "      <th></th>\n",
       "      <th>transactionId</th>\n",
       "      <th>visitorId</th>\n",
       "      <th>date</th>\n",
       "      <th>revenue</th>\n",
       "      <th>group</th>\n",
       "    </tr>\n",
       "  </thead>\n",
       "  <tbody>\n",
       "    <tr>\n",
       "      <th>0</th>\n",
       "      <td>3667963787</td>\n",
       "      <td>3312258926</td>\n",
       "      <td>2019-08-15</td>\n",
       "      <td>30.4</td>\n",
       "      <td>B</td>\n",
       "    </tr>\n",
       "    <tr>\n",
       "      <th>1</th>\n",
       "      <td>2804400009</td>\n",
       "      <td>3642806036</td>\n",
       "      <td>2019-08-15</td>\n",
       "      <td>15.2</td>\n",
       "      <td>B</td>\n",
       "    </tr>\n",
       "    <tr>\n",
       "      <th>3</th>\n",
       "      <td>3797467345</td>\n",
       "      <td>1196621759</td>\n",
       "      <td>2019-08-15</td>\n",
       "      <td>155.1</td>\n",
       "      <td>B</td>\n",
       "    </tr>\n",
       "    <tr>\n",
       "      <th>4</th>\n",
       "      <td>2282983706</td>\n",
       "      <td>2322279887</td>\n",
       "      <td>2019-08-15</td>\n",
       "      <td>40.5</td>\n",
       "      <td>B</td>\n",
       "    </tr>\n",
       "    <tr>\n",
       "      <th>5</th>\n",
       "      <td>182168103</td>\n",
       "      <td>935554773</td>\n",
       "      <td>2019-08-15</td>\n",
       "      <td>35.0</td>\n",
       "      <td>B</td>\n",
       "    </tr>\n",
       "  </tbody>\n",
       "</table>\n",
       "</div>"
      ],
      "text/plain": [
       "   transactionId   visitorId       date  revenue group\n",
       "0     3667963787  3312258926 2019-08-15     30.4     B\n",
       "1     2804400009  3642806036 2019-08-15     15.2     B\n",
       "3     3797467345  1196621759 2019-08-15    155.1     B\n",
       "4     2282983706  2322279887 2019-08-15     40.5     B\n",
       "5      182168103   935554773 2019-08-15     35.0     B"
      ]
     },
     "execution_count": 19,
     "metadata": {},
     "output_type": "execute_result"
    }
   ],
   "source": [
    "orders.head()"
   ]
  },
  {
   "cell_type": "code",
   "execution_count": 20,
   "metadata": {},
   "outputs": [
    {
     "data": {
      "text/html": [
       "<div>\n",
       "<style scoped>\n",
       "    .dataframe tbody tr th:only-of-type {\n",
       "        vertical-align: middle;\n",
       "    }\n",
       "\n",
       "    .dataframe tbody tr th {\n",
       "        vertical-align: top;\n",
       "    }\n",
       "\n",
       "    .dataframe thead th {\n",
       "        text-align: right;\n",
       "    }\n",
       "</style>\n",
       "<table border=\"1\" class=\"dataframe\">\n",
       "  <thead>\n",
       "    <tr style=\"text-align: right;\">\n",
       "      <th></th>\n",
       "      <th>date</th>\n",
       "      <th>group</th>\n",
       "      <th>visits</th>\n",
       "    </tr>\n",
       "  </thead>\n",
       "  <tbody>\n",
       "    <tr>\n",
       "      <th>0</th>\n",
       "      <td>2019-08-01</td>\n",
       "      <td>A</td>\n",
       "      <td>719</td>\n",
       "    </tr>\n",
       "    <tr>\n",
       "      <th>1</th>\n",
       "      <td>2019-08-02</td>\n",
       "      <td>A</td>\n",
       "      <td>619</td>\n",
       "    </tr>\n",
       "    <tr>\n",
       "      <th>2</th>\n",
       "      <td>2019-08-03</td>\n",
       "      <td>A</td>\n",
       "      <td>507</td>\n",
       "    </tr>\n",
       "    <tr>\n",
       "      <th>3</th>\n",
       "      <td>2019-08-04</td>\n",
       "      <td>A</td>\n",
       "      <td>717</td>\n",
       "    </tr>\n",
       "    <tr>\n",
       "      <th>4</th>\n",
       "      <td>2019-08-05</td>\n",
       "      <td>A</td>\n",
       "      <td>756</td>\n",
       "    </tr>\n",
       "  </tbody>\n",
       "</table>\n",
       "</div>"
      ],
      "text/plain": [
       "        date group  visits\n",
       "0 2019-08-01     A     719\n",
       "1 2019-08-02     A     619\n",
       "2 2019-08-03     A     507\n",
       "3 2019-08-04     A     717\n",
       "4 2019-08-05     A     756"
      ]
     },
     "execution_count": 20,
     "metadata": {},
     "output_type": "execute_result"
    }
   ],
   "source": [
    "visits.head()"
   ]
  },
  {
   "cell_type": "markdown",
   "metadata": {},
   "source": [
    "First I will build a dataframe that holds the unique pairs of dates and groups that will later on aid me in aggregating the data"
   ]
  },
  {
   "cell_type": "code",
   "execution_count": 21,
   "metadata": {},
   "outputs": [
    {
     "data": {
      "text/html": [
       "<div>\n",
       "<style scoped>\n",
       "    .dataframe tbody tr th:only-of-type {\n",
       "        vertical-align: middle;\n",
       "    }\n",
       "\n",
       "    .dataframe tbody tr th {\n",
       "        vertical-align: top;\n",
       "    }\n",
       "\n",
       "    .dataframe thead th {\n",
       "        text-align: right;\n",
       "    }\n",
       "</style>\n",
       "<table border=\"1\" class=\"dataframe\">\n",
       "  <thead>\n",
       "    <tr style=\"text-align: right;\">\n",
       "      <th></th>\n",
       "      <th>date</th>\n",
       "      <th>group</th>\n",
       "    </tr>\n",
       "  </thead>\n",
       "  <tbody>\n",
       "    <tr>\n",
       "      <th>0</th>\n",
       "      <td>2019-08-15</td>\n",
       "      <td>B</td>\n",
       "    </tr>\n",
       "    <tr>\n",
       "      <th>7</th>\n",
       "      <td>2019-08-15</td>\n",
       "      <td>A</td>\n",
       "    </tr>\n",
       "    <tr>\n",
       "      <th>45</th>\n",
       "      <td>2019-08-16</td>\n",
       "      <td>A</td>\n",
       "    </tr>\n",
       "    <tr>\n",
       "      <th>47</th>\n",
       "      <td>2019-08-16</td>\n",
       "      <td>B</td>\n",
       "    </tr>\n",
       "    <tr>\n",
       "      <th>55</th>\n",
       "      <td>2019-08-01</td>\n",
       "      <td>A</td>\n",
       "    </tr>\n",
       "    <tr>\n",
       "      <th>...</th>\n",
       "      <td>...</td>\n",
       "      <td>...</td>\n",
       "    </tr>\n",
       "    <tr>\n",
       "      <th>1068</th>\n",
       "      <td>2019-08-12</td>\n",
       "      <td>A</td>\n",
       "    </tr>\n",
       "    <tr>\n",
       "      <th>1114</th>\n",
       "      <td>2019-08-13</td>\n",
       "      <td>B</td>\n",
       "    </tr>\n",
       "    <tr>\n",
       "      <th>1116</th>\n",
       "      <td>2019-08-13</td>\n",
       "      <td>A</td>\n",
       "    </tr>\n",
       "    <tr>\n",
       "      <th>1149</th>\n",
       "      <td>2019-08-14</td>\n",
       "      <td>B</td>\n",
       "    </tr>\n",
       "    <tr>\n",
       "      <th>1150</th>\n",
       "      <td>2019-08-14</td>\n",
       "      <td>A</td>\n",
       "    </tr>\n",
       "  </tbody>\n",
       "</table>\n",
       "<p>62 rows × 2 columns</p>\n",
       "</div>"
      ],
      "text/plain": [
       "           date group\n",
       "0    2019-08-15     B\n",
       "7    2019-08-15     A\n",
       "45   2019-08-16     A\n",
       "47   2019-08-16     B\n",
       "55   2019-08-01     A\n",
       "...         ...   ...\n",
       "1068 2019-08-12     A\n",
       "1114 2019-08-13     B\n",
       "1116 2019-08-13     A\n",
       "1149 2019-08-14     B\n",
       "1150 2019-08-14     A\n",
       "\n",
       "[62 rows x 2 columns]"
      ]
     },
     "execution_count": 21,
     "metadata": {},
     "output_type": "execute_result"
    }
   ],
   "source": [
    "dateGroups = orders[['date','group']].drop_duplicates()\n",
    "dateGroups"
   ]
  },
  {
   "cell_type": "code",
   "execution_count": 22,
   "metadata": {},
   "outputs": [
    {
     "data": {
      "text/html": [
       "<div>\n",
       "<style scoped>\n",
       "    .dataframe tbody tr th:only-of-type {\n",
       "        vertical-align: middle;\n",
       "    }\n",
       "\n",
       "    .dataframe tbody tr th {\n",
       "        vertical-align: top;\n",
       "    }\n",
       "\n",
       "    .dataframe thead th {\n",
       "        text-align: right;\n",
       "    }\n",
       "</style>\n",
       "<table border=\"1\" class=\"dataframe\">\n",
       "  <thead>\n",
       "    <tr style=\"text-align: right;\">\n",
       "      <th></th>\n",
       "      <th>date</th>\n",
       "      <th>group</th>\n",
       "      <th>transactionId</th>\n",
       "      <th>visitorId</th>\n",
       "      <th>revenue</th>\n",
       "    </tr>\n",
       "  </thead>\n",
       "  <tbody>\n",
       "    <tr>\n",
       "      <th>55</th>\n",
       "      <td>2019-08-01</td>\n",
       "      <td>A</td>\n",
       "      <td>23</td>\n",
       "      <td>19</td>\n",
       "      <td>2266.6</td>\n",
       "    </tr>\n",
       "    <tr>\n",
       "      <th>66</th>\n",
       "      <td>2019-08-01</td>\n",
       "      <td>B</td>\n",
       "      <td>17</td>\n",
       "      <td>17</td>\n",
       "      <td>967.2</td>\n",
       "    </tr>\n",
       "    <tr>\n",
       "      <th>175</th>\n",
       "      <td>2019-08-02</td>\n",
       "      <td>A</td>\n",
       "      <td>42</td>\n",
       "      <td>36</td>\n",
       "      <td>3734.9</td>\n",
       "    </tr>\n",
       "    <tr>\n",
       "      <th>173</th>\n",
       "      <td>2019-08-02</td>\n",
       "      <td>B</td>\n",
       "      <td>40</td>\n",
       "      <td>39</td>\n",
       "      <td>3535.3</td>\n",
       "    </tr>\n",
       "    <tr>\n",
       "      <th>291</th>\n",
       "      <td>2019-08-03</td>\n",
       "      <td>A</td>\n",
       "      <td>66</td>\n",
       "      <td>60</td>\n",
       "      <td>5550.1</td>\n",
       "    </tr>\n",
       "    <tr>\n",
       "      <th>...</th>\n",
       "      <td>...</td>\n",
       "      <td>...</td>\n",
       "      <td>...</td>\n",
       "      <td>...</td>\n",
       "      <td>...</td>\n",
       "    </tr>\n",
       "    <tr>\n",
       "      <th>533</th>\n",
       "      <td>2019-08-29</td>\n",
       "      <td>B</td>\n",
       "      <td>510</td>\n",
       "      <td>490</td>\n",
       "      <td>74576.7</td>\n",
       "    </tr>\n",
       "    <tr>\n",
       "      <th>757</th>\n",
       "      <td>2019-08-30</td>\n",
       "      <td>A</td>\n",
       "      <td>460</td>\n",
       "      <td>437</td>\n",
       "      <td>52363.7</td>\n",
       "    </tr>\n",
       "    <tr>\n",
       "      <th>690</th>\n",
       "      <td>2019-08-30</td>\n",
       "      <td>B</td>\n",
       "      <td>531</td>\n",
       "      <td>511</td>\n",
       "      <td>77863.5</td>\n",
       "    </tr>\n",
       "    <tr>\n",
       "      <th>958</th>\n",
       "      <td>2019-08-31</td>\n",
       "      <td>A</td>\n",
       "      <td>468</td>\n",
       "      <td>445</td>\n",
       "      <td>53212.0</td>\n",
       "    </tr>\n",
       "    <tr>\n",
       "      <th>930</th>\n",
       "      <td>2019-08-31</td>\n",
       "      <td>B</td>\n",
       "      <td>548</td>\n",
       "      <td>528</td>\n",
       "      <td>79651.2</td>\n",
       "    </tr>\n",
       "  </tbody>\n",
       "</table>\n",
       "<p>62 rows × 5 columns</p>\n",
       "</div>"
      ],
      "text/plain": [
       "          date group  transactionId  visitorId  revenue\n",
       "55  2019-08-01     A             23         19   2266.6\n",
       "66  2019-08-01     B             17         17    967.2\n",
       "175 2019-08-02     A             42         36   3734.9\n",
       "173 2019-08-02     B             40         39   3535.3\n",
       "291 2019-08-03     A             66         60   5550.1\n",
       "..         ...   ...            ...        ...      ...\n",
       "533 2019-08-29     B            510        490  74576.7\n",
       "757 2019-08-30     A            460        437  52363.7\n",
       "690 2019-08-30     B            531        511  77863.5\n",
       "958 2019-08-31     A            468        445  53212.0\n",
       "930 2019-08-31     B            548        528  79651.2\n",
       "\n",
       "[62 rows x 5 columns]"
      ]
     },
     "execution_count": 22,
     "metadata": {},
     "output_type": "execute_result"
    }
   ],
   "source": [
    "#creating the aggregated orders dataframe\n",
    "orders_agg = dateGroups.apply(\n",
    "    lambda x: orders[np.logical_and(orders['date']<= x['date'], \n",
    "                                   orders['group']== x['group'])]\n",
    "    .agg(\n",
    "        {'date':'max',\n",
    "         'group':'max',\n",
    "         'transactionId': pd.Series.nunique,\n",
    "        'visitorId': pd.Series.nunique,\n",
    "        'revenue': 'sum'}\n",
    "        \n",
    "    ), axis=1\n",
    ").sort_values(by=['date','group'])\n",
    "\n",
    "orders_agg"
   ]
  },
  {
   "cell_type": "code",
   "execution_count": 23,
   "metadata": {},
   "outputs": [
    {
     "data": {
      "text/html": [
       "<div>\n",
       "<style scoped>\n",
       "    .dataframe tbody tr th:only-of-type {\n",
       "        vertical-align: middle;\n",
       "    }\n",
       "\n",
       "    .dataframe tbody tr th {\n",
       "        vertical-align: top;\n",
       "    }\n",
       "\n",
       "    .dataframe thead th {\n",
       "        text-align: right;\n",
       "    }\n",
       "</style>\n",
       "<table border=\"1\" class=\"dataframe\">\n",
       "  <thead>\n",
       "    <tr style=\"text-align: right;\">\n",
       "      <th></th>\n",
       "      <th>date</th>\n",
       "      <th>group</th>\n",
       "      <th>visits</th>\n",
       "    </tr>\n",
       "  </thead>\n",
       "  <tbody>\n",
       "    <tr>\n",
       "      <th>55</th>\n",
       "      <td>2019-08-01</td>\n",
       "      <td>A</td>\n",
       "      <td>719</td>\n",
       "    </tr>\n",
       "    <tr>\n",
       "      <th>66</th>\n",
       "      <td>2019-08-01</td>\n",
       "      <td>B</td>\n",
       "      <td>713</td>\n",
       "    </tr>\n",
       "    <tr>\n",
       "      <th>175</th>\n",
       "      <td>2019-08-02</td>\n",
       "      <td>A</td>\n",
       "      <td>1338</td>\n",
       "    </tr>\n",
       "    <tr>\n",
       "      <th>173</th>\n",
       "      <td>2019-08-02</td>\n",
       "      <td>B</td>\n",
       "      <td>1294</td>\n",
       "    </tr>\n",
       "    <tr>\n",
       "      <th>291</th>\n",
       "      <td>2019-08-03</td>\n",
       "      <td>A</td>\n",
       "      <td>1845</td>\n",
       "    </tr>\n",
       "    <tr>\n",
       "      <th>...</th>\n",
       "      <td>...</td>\n",
       "      <td>...</td>\n",
       "      <td>...</td>\n",
       "    </tr>\n",
       "    <tr>\n",
       "      <th>533</th>\n",
       "      <td>2019-08-29</td>\n",
       "      <td>B</td>\n",
       "      <td>17708</td>\n",
       "    </tr>\n",
       "    <tr>\n",
       "      <th>757</th>\n",
       "      <td>2019-08-30</td>\n",
       "      <td>A</td>\n",
       "      <td>18037</td>\n",
       "    </tr>\n",
       "    <tr>\n",
       "      <th>690</th>\n",
       "      <td>2019-08-30</td>\n",
       "      <td>B</td>\n",
       "      <td>18198</td>\n",
       "    </tr>\n",
       "    <tr>\n",
       "      <th>958</th>\n",
       "      <td>2019-08-31</td>\n",
       "      <td>A</td>\n",
       "      <td>18736</td>\n",
       "    </tr>\n",
       "    <tr>\n",
       "      <th>930</th>\n",
       "      <td>2019-08-31</td>\n",
       "      <td>B</td>\n",
       "      <td>18916</td>\n",
       "    </tr>\n",
       "  </tbody>\n",
       "</table>\n",
       "<p>62 rows × 3 columns</p>\n",
       "</div>"
      ],
      "text/plain": [
       "          date group  visits\n",
       "55  2019-08-01     A     719\n",
       "66  2019-08-01     B     713\n",
       "175 2019-08-02     A    1338\n",
       "173 2019-08-02     B    1294\n",
       "291 2019-08-03     A    1845\n",
       "..         ...   ...     ...\n",
       "533 2019-08-29     B   17708\n",
       "757 2019-08-30     A   18037\n",
       "690 2019-08-30     B   18198\n",
       "958 2019-08-31     A   18736\n",
       "930 2019-08-31     B   18916\n",
       "\n",
       "[62 rows x 3 columns]"
      ]
     },
     "execution_count": 23,
     "metadata": {},
     "output_type": "execute_result"
    }
   ],
   "source": [
    "#creating the aggregated visits dataframe\n",
    "\n",
    "visits_agg = dateGroups.apply(\n",
    "    lambda x: visits[np.logical_and(visits['date']<= x['date'], \n",
    "                                   visits['group']== x['group'])]\n",
    "    .agg(\n",
    "        {'date':'max',\n",
    "         'group':'max',\n",
    "        'visits': 'sum'}\n",
    "        \n",
    "    ), axis=1\n",
    ").sort_values(by=['date','group'])\n",
    "\n",
    "visits_agg"
   ]
  },
  {
   "cell_type": "markdown",
   "metadata": {},
   "source": [
    "Now I will merge the tables to form 1 cumulative dataset"
   ]
  },
  {
   "cell_type": "code",
   "execution_count": 24,
   "metadata": {},
   "outputs": [
    {
     "data": {
      "text/html": [
       "<div>\n",
       "<style scoped>\n",
       "    .dataframe tbody tr th:only-of-type {\n",
       "        vertical-align: middle;\n",
       "    }\n",
       "\n",
       "    .dataframe tbody tr th {\n",
       "        vertical-align: top;\n",
       "    }\n",
       "\n",
       "    .dataframe thead th {\n",
       "        text-align: right;\n",
       "    }\n",
       "</style>\n",
       "<table border=\"1\" class=\"dataframe\">\n",
       "  <thead>\n",
       "    <tr style=\"text-align: right;\">\n",
       "      <th></th>\n",
       "      <th>date</th>\n",
       "      <th>group</th>\n",
       "      <th>orders</th>\n",
       "      <th>n_buyers</th>\n",
       "      <th>revenue</th>\n",
       "      <th>n_visits</th>\n",
       "    </tr>\n",
       "  </thead>\n",
       "  <tbody>\n",
       "    <tr>\n",
       "      <th>0</th>\n",
       "      <td>2019-08-01</td>\n",
       "      <td>A</td>\n",
       "      <td>23</td>\n",
       "      <td>19</td>\n",
       "      <td>2266.6</td>\n",
       "      <td>719</td>\n",
       "    </tr>\n",
       "    <tr>\n",
       "      <th>1</th>\n",
       "      <td>2019-08-01</td>\n",
       "      <td>B</td>\n",
       "      <td>17</td>\n",
       "      <td>17</td>\n",
       "      <td>967.2</td>\n",
       "      <td>713</td>\n",
       "    </tr>\n",
       "    <tr>\n",
       "      <th>2</th>\n",
       "      <td>2019-08-02</td>\n",
       "      <td>A</td>\n",
       "      <td>42</td>\n",
       "      <td>36</td>\n",
       "      <td>3734.9</td>\n",
       "      <td>1338</td>\n",
       "    </tr>\n",
       "    <tr>\n",
       "      <th>3</th>\n",
       "      <td>2019-08-02</td>\n",
       "      <td>B</td>\n",
       "      <td>40</td>\n",
       "      <td>39</td>\n",
       "      <td>3535.3</td>\n",
       "      <td>1294</td>\n",
       "    </tr>\n",
       "    <tr>\n",
       "      <th>4</th>\n",
       "      <td>2019-08-03</td>\n",
       "      <td>A</td>\n",
       "      <td>66</td>\n",
       "      <td>60</td>\n",
       "      <td>5550.1</td>\n",
       "      <td>1845</td>\n",
       "    </tr>\n",
       "    <tr>\n",
       "      <th>...</th>\n",
       "      <td>...</td>\n",
       "      <td>...</td>\n",
       "      <td>...</td>\n",
       "      <td>...</td>\n",
       "      <td>...</td>\n",
       "      <td>...</td>\n",
       "    </tr>\n",
       "    <tr>\n",
       "      <th>57</th>\n",
       "      <td>2019-08-29</td>\n",
       "      <td>B</td>\n",
       "      <td>510</td>\n",
       "      <td>490</td>\n",
       "      <td>74576.7</td>\n",
       "      <td>17708</td>\n",
       "    </tr>\n",
       "    <tr>\n",
       "      <th>58</th>\n",
       "      <td>2019-08-30</td>\n",
       "      <td>A</td>\n",
       "      <td>460</td>\n",
       "      <td>437</td>\n",
       "      <td>52363.7</td>\n",
       "      <td>18037</td>\n",
       "    </tr>\n",
       "    <tr>\n",
       "      <th>59</th>\n",
       "      <td>2019-08-30</td>\n",
       "      <td>B</td>\n",
       "      <td>531</td>\n",
       "      <td>511</td>\n",
       "      <td>77863.5</td>\n",
       "      <td>18198</td>\n",
       "    </tr>\n",
       "    <tr>\n",
       "      <th>60</th>\n",
       "      <td>2019-08-31</td>\n",
       "      <td>A</td>\n",
       "      <td>468</td>\n",
       "      <td>445</td>\n",
       "      <td>53212.0</td>\n",
       "      <td>18736</td>\n",
       "    </tr>\n",
       "    <tr>\n",
       "      <th>61</th>\n",
       "      <td>2019-08-31</td>\n",
       "      <td>B</td>\n",
       "      <td>548</td>\n",
       "      <td>528</td>\n",
       "      <td>79651.2</td>\n",
       "      <td>18916</td>\n",
       "    </tr>\n",
       "  </tbody>\n",
       "</table>\n",
       "<p>62 rows × 6 columns</p>\n",
       "</div>"
      ],
      "text/plain": [
       "         date group  orders  n_buyers  revenue  n_visits\n",
       "0  2019-08-01     A      23        19   2266.6       719\n",
       "1  2019-08-01     B      17        17    967.2       713\n",
       "2  2019-08-02     A      42        36   3734.9      1338\n",
       "3  2019-08-02     B      40        39   3535.3      1294\n",
       "4  2019-08-03     A      66        60   5550.1      1845\n",
       "..        ...   ...     ...       ...      ...       ...\n",
       "57 2019-08-29     B     510       490  74576.7     17708\n",
       "58 2019-08-30     A     460       437  52363.7     18037\n",
       "59 2019-08-30     B     531       511  77863.5     18198\n",
       "60 2019-08-31     A     468       445  53212.0     18736\n",
       "61 2019-08-31     B     548       528  79651.2     18916\n",
       "\n",
       "[62 rows x 6 columns]"
      ]
     },
     "execution_count": 24,
     "metadata": {},
     "output_type": "execute_result"
    }
   ],
   "source": [
    "cumulative_data = orders_agg.merge(\n",
    "    visits_agg, left_on=['date','group'],right_on=['date','group'])\n",
    "cumulative_data.columns=['date','group','orders','n_buyers','revenue','n_visits']\n",
    "cumulative_data"
   ]
  },
  {
   "cell_type": "markdown",
   "metadata": {},
   "source": [
    "Let's see the cumulative revenues by group"
   ]
  },
  {
   "cell_type": "code",
   "execution_count": 25,
   "metadata": {},
   "outputs": [],
   "source": [
    "cumulative_revA= cumulative_data[cumulative_data['group']=='A'][['date','revenue','orders']]\n",
    "cumulative_revB= cumulative_data[cumulative_data['group']=='B'][['date','revenue','orders']]"
   ]
  },
  {
   "cell_type": "code",
   "execution_count": 26,
   "metadata": {},
   "outputs": [
    {
     "data": {
      "image/png": "[encoded data removed]",
      "text/plain": [
       "<Figure size 720x576 with 1 Axes>"
      ]
     },
     "metadata": {
      "needs_background": "light"
     },
     "output_type": "display_data"
    }
   ],
   "source": [
    "#Plotting the cumulative revenue graphs\n",
    "\n",
    "plt.figure(figsize=(10,8))\n",
    "plt.plot(cumulative_revA['date'],cumulative_revA['revenue'],label='A')\n",
    "plt.plot(cumulative_revB['date'],cumulative_revB['revenue'],label='B')\n",
    "plt.legend()\n",
    "plt.title('Cumulative Revenue by Group')\n",
    "\n",
    "plt.show()"
   ]
  },
  {
   "cell_type": "markdown",
   "metadata": {},
   "source": [
    "From the graph it seems that almost from the beginning group B garnered more revenue than group A. But there are some sharp peaks in group B that indicates there may be outliers in the form of very expensive orders."
   ]
  },
  {
   "cell_type": "markdown",
   "metadata": {},
   "source": [
    "Let's see the cumulative average order size by group. We will find this by dividing the revenue by the number of orders from the cumulative dataset"
   ]
  },
  {
   "cell_type": "code",
   "execution_count": 27,
   "metadata": {},
   "outputs": [
    {
     "data": {
      "image/png": "[encoded data removed]",
      "text/plain": [
       "<Figure size 720x576 with 1 Axes>"
      ]
     },
     "metadata": {
      "needs_background": "light"
     },
     "output_type": "display_data"
    }
   ],
   "source": [
    "plt.figure(figsize=(10,8))\n",
    "plt.plot(cumulative_revA['date'],cumulative_revA['revenue']/cumulative_revA['orders'],label='A')\n",
    "plt.plot(cumulative_revB['date'],cumulative_revB['revenue']/cumulative_revB['orders'],label='B')\n",
    "plt.legend()\n",
    "plt.title('Average Purchase Size by Group')\n",
    "plt.show()"
   ]
  },
  {
   "cell_type": "markdown",
   "metadata": {},
   "source": [
    "There are once again sharp peaks in group B that may be due to some large orders. For group A, it seems to be stablizing near the end of the test. Let's make the differences more apparent with a relative difference graph"
   ]
  },
  {
   "cell_type": "code",
   "execution_count": 28,
   "metadata": {},
   "outputs": [
    {
     "data": {
      "text/html": [
       "<div>\n",
       "<style scoped>\n",
       "    .dataframe tbody tr th:only-of-type {\n",
       "        vertical-align: middle;\n",
       "    }\n",
       "\n",
       "    .dataframe tbody tr th {\n",
       "        vertical-align: top;\n",
       "    }\n",
       "\n",
       "    .dataframe thead th {\n",
       "        text-align: right;\n",
       "    }\n",
       "</style>\n",
       "<table border=\"1\" class=\"dataframe\">\n",
       "  <thead>\n",
       "    <tr style=\"text-align: right;\">\n",
       "      <th></th>\n",
       "      <th>date</th>\n",
       "      <th>revenueA</th>\n",
       "      <th>ordersA</th>\n",
       "      <th>revenueB</th>\n",
       "      <th>ordersB</th>\n",
       "    </tr>\n",
       "  </thead>\n",
       "  <tbody>\n",
       "    <tr>\n",
       "      <th>0</th>\n",
       "      <td>2019-08-01</td>\n",
       "      <td>2266.6</td>\n",
       "      <td>23</td>\n",
       "      <td>967.2</td>\n",
       "      <td>17</td>\n",
       "    </tr>\n",
       "    <tr>\n",
       "      <th>1</th>\n",
       "      <td>2019-08-02</td>\n",
       "      <td>3734.9</td>\n",
       "      <td>42</td>\n",
       "      <td>3535.3</td>\n",
       "      <td>40</td>\n",
       "    </tr>\n",
       "    <tr>\n",
       "      <th>2</th>\n",
       "      <td>2019-08-03</td>\n",
       "      <td>5550.1</td>\n",
       "      <td>66</td>\n",
       "      <td>4606.9</td>\n",
       "      <td>54</td>\n",
       "    </tr>\n",
       "    <tr>\n",
       "      <th>3</th>\n",
       "      <td>2019-08-04</td>\n",
       "      <td>6225.6</td>\n",
       "      <td>77</td>\n",
       "      <td>6138.5</td>\n",
       "      <td>68</td>\n",
       "    </tr>\n",
       "    <tr>\n",
       "      <th>4</th>\n",
       "      <td>2019-08-05</td>\n",
       "      <td>7623.6</td>\n",
       "      <td>99</td>\n",
       "      <td>7587.8</td>\n",
       "      <td>89</td>\n",
       "    </tr>\n",
       "  </tbody>\n",
       "</table>\n",
       "</div>"
      ],
      "text/plain": [
       "        date  revenueA  ordersA  revenueB  ordersB\n",
       "0 2019-08-01    2266.6       23     967.2       17\n",
       "1 2019-08-02    3734.9       42    3535.3       40\n",
       "2 2019-08-03    5550.1       66    4606.9       54\n",
       "3 2019-08-04    6225.6       77    6138.5       68\n",
       "4 2019-08-05    7623.6       99    7587.8       89"
      ]
     },
     "execution_count": 28,
     "metadata": {},
     "output_type": "execute_result"
    }
   ],
   "source": [
    "#creating a merged cumulative dataframe\n",
    "merged_cumulative= cumulative_revA.merge(\n",
    "    cumulative_revB, left_on='date', right_on='date', how='left',suffixes=['A','B'])\n",
    "merged_cumulative.head()"
   ]
  },
  {
   "cell_type": "code",
   "execution_count": 29,
   "metadata": {},
   "outputs": [
    {
     "data": {
      "image/png": "[encoded data removed]",
      "text/plain": [
       "<Figure size 720x576 with 1 Axes>"
      ]
     },
     "metadata": {
      "needs_background": "light"
     },
     "output_type": "display_data"
    }
   ],
   "source": [
    "plt.figure(figsize=(10,8))\n",
    "plt.plot(\n",
    "    merged_cumulative['date'],\n",
    "    (merged_cumulative['revenueB']/merged_cumulative['ordersB'])/\n",
    "    (merged_cumulative['revenueA']/merged_cumulative['ordersA'])-1)\n",
    "\n",
    "plt.title('Relative Difference of Average Purchase Sizes')\n",
    "plt.axhline(y=0, color='black', linestyle='--')\n",
    "plt.show()"
   ]
  },
  {
   "cell_type": "markdown",
   "metadata": {},
   "source": [
    "There are definite fluctuations, with B having a higher purchase number and then dropping before spiking again. "
   ]
  },
  {
   "cell_type": "markdown",
   "metadata": {},
   "source": [
    "Let's look at the daily conversion rate of each group by dividing the number of orders to the number of visits"
   ]
  },
  {
   "cell_type": "code",
   "execution_count": 30,
   "metadata": {},
   "outputs": [],
   "source": [
    "cumulative_data['conversion']=cumulative_data['orders']/cumulative_data['n_visits']"
   ]
  },
  {
   "cell_type": "code",
   "execution_count": 31,
   "metadata": {},
   "outputs": [],
   "source": [
    "cumulative_conA= cumulative_data[cumulative_data['group']=='A']\n",
    "cumulative_conB= cumulative_data[cumulative_data['group']=='B']"
   ]
  },
  {
   "cell_type": "code",
   "execution_count": 32,
   "metadata": {},
   "outputs": [
    {
     "data": {
      "image/png": "[encoded data removed]",
      "text/plain": [
       "<Figure size 720x576 with 1 Axes>"
      ]
     },
     "metadata": {
      "needs_background": "light"
     },
     "output_type": "display_data"
    }
   ],
   "source": [
    "plt.figure(figsize=(10,8))\n",
    "plt.plot(cumulative_conA['date'],cumulative_conA['conversion'],label='A')\n",
    "plt.plot(cumulative_conB['date'],cumulative_conB['conversion'],label='B')\n",
    "plt.title('Cumulative Conversion by Group')\n",
    "plt.legend()\n",
    "plt.show()"
   ]
  },
  {
   "cell_type": "markdown",
   "metadata": {},
   "source": [
    "It seems as if the groups are stablilizing near the end. Let's see the distribution of the number of orders per user"
   ]
  },
  {
   "cell_type": "code",
   "execution_count": 33,
   "metadata": {},
   "outputs": [
    {
     "data": {
      "text/html": [
       "<div>\n",
       "<style scoped>\n",
       "    .dataframe tbody tr th:only-of-type {\n",
       "        vertical-align: middle;\n",
       "    }\n",
       "\n",
       "    .dataframe tbody tr th {\n",
       "        vertical-align: top;\n",
       "    }\n",
       "\n",
       "    .dataframe thead th {\n",
       "        text-align: right;\n",
       "    }\n",
       "</style>\n",
       "<table border=\"1\" class=\"dataframe\">\n",
       "  <thead>\n",
       "    <tr style=\"text-align: right;\">\n",
       "      <th></th>\n",
       "      <th>transactionId</th>\n",
       "      <th>visitorId</th>\n",
       "      <th>date</th>\n",
       "      <th>revenue</th>\n",
       "      <th>group</th>\n",
       "    </tr>\n",
       "  </thead>\n",
       "  <tbody>\n",
       "    <tr>\n",
       "      <th>0</th>\n",
       "      <td>3667963787</td>\n",
       "      <td>3312258926</td>\n",
       "      <td>2019-08-15</td>\n",
       "      <td>30.4</td>\n",
       "      <td>B</td>\n",
       "    </tr>\n",
       "    <tr>\n",
       "      <th>1</th>\n",
       "      <td>2804400009</td>\n",
       "      <td>3642806036</td>\n",
       "      <td>2019-08-15</td>\n",
       "      <td>15.2</td>\n",
       "      <td>B</td>\n",
       "    </tr>\n",
       "    <tr>\n",
       "      <th>3</th>\n",
       "      <td>3797467345</td>\n",
       "      <td>1196621759</td>\n",
       "      <td>2019-08-15</td>\n",
       "      <td>155.1</td>\n",
       "      <td>B</td>\n",
       "    </tr>\n",
       "    <tr>\n",
       "      <th>4</th>\n",
       "      <td>2282983706</td>\n",
       "      <td>2322279887</td>\n",
       "      <td>2019-08-15</td>\n",
       "      <td>40.5</td>\n",
       "      <td>B</td>\n",
       "    </tr>\n",
       "    <tr>\n",
       "      <th>5</th>\n",
       "      <td>182168103</td>\n",
       "      <td>935554773</td>\n",
       "      <td>2019-08-15</td>\n",
       "      <td>35.0</td>\n",
       "      <td>B</td>\n",
       "    </tr>\n",
       "  </tbody>\n",
       "</table>\n",
       "</div>"
      ],
      "text/plain": [
       "   transactionId   visitorId       date  revenue group\n",
       "0     3667963787  3312258926 2019-08-15     30.4     B\n",
       "1     2804400009  3642806036 2019-08-15     15.2     B\n",
       "3     3797467345  1196621759 2019-08-15    155.1     B\n",
       "4     2282983706  2322279887 2019-08-15     40.5     B\n",
       "5      182168103   935554773 2019-08-15     35.0     B"
      ]
     },
     "execution_count": 33,
     "metadata": {},
     "output_type": "execute_result"
    }
   ],
   "source": [
    "orders.head()"
   ]
  },
  {
   "cell_type": "code",
   "execution_count": 34,
   "metadata": {},
   "outputs": [
    {
     "data": {
      "text/html": [
       "<div>\n",
       "<style scoped>\n",
       "    .dataframe tbody tr th:only-of-type {\n",
       "        vertical-align: middle;\n",
       "    }\n",
       "\n",
       "    .dataframe tbody tr th {\n",
       "        vertical-align: top;\n",
       "    }\n",
       "\n",
       "    .dataframe thead th {\n",
       "        text-align: right;\n",
       "    }\n",
       "</style>\n",
       "<table border=\"1\" class=\"dataframe\">\n",
       "  <thead>\n",
       "    <tr style=\"text-align: right;\">\n",
       "      <th></th>\n",
       "      <th>userId</th>\n",
       "      <th>orders</th>\n",
       "    </tr>\n",
       "  </thead>\n",
       "  <tbody>\n",
       "    <tr>\n",
       "      <th>0</th>\n",
       "      <td>5114589</td>\n",
       "      <td>1</td>\n",
       "    </tr>\n",
       "    <tr>\n",
       "      <th>1</th>\n",
       "      <td>6958315</td>\n",
       "      <td>1</td>\n",
       "    </tr>\n",
       "    <tr>\n",
       "      <th>2</th>\n",
       "      <td>11685486</td>\n",
       "      <td>1</td>\n",
       "    </tr>\n",
       "    <tr>\n",
       "      <th>3</th>\n",
       "      <td>39475350</td>\n",
       "      <td>1</td>\n",
       "    </tr>\n",
       "    <tr>\n",
       "      <th>4</th>\n",
       "      <td>47206413</td>\n",
       "      <td>1</td>\n",
       "    </tr>\n",
       "    <tr>\n",
       "      <th>...</th>\n",
       "      <td>...</td>\n",
       "      <td>...</td>\n",
       "    </tr>\n",
       "    <tr>\n",
       "      <th>968</th>\n",
       "      <td>4259830713</td>\n",
       "      <td>1</td>\n",
       "    </tr>\n",
       "    <tr>\n",
       "      <th>969</th>\n",
       "      <td>4278982564</td>\n",
       "      <td>1</td>\n",
       "    </tr>\n",
       "    <tr>\n",
       "      <th>970</th>\n",
       "      <td>4279090005</td>\n",
       "      <td>1</td>\n",
       "    </tr>\n",
       "    <tr>\n",
       "      <th>971</th>\n",
       "      <td>4281247801</td>\n",
       "      <td>1</td>\n",
       "    </tr>\n",
       "    <tr>\n",
       "      <th>972</th>\n",
       "      <td>4283872382</td>\n",
       "      <td>1</td>\n",
       "    </tr>\n",
       "  </tbody>\n",
       "</table>\n",
       "<p>973 rows × 2 columns</p>\n",
       "</div>"
      ],
      "text/plain": [
       "         userId  orders\n",
       "0       5114589       1\n",
       "1       6958315       1\n",
       "2      11685486       1\n",
       "3      39475350       1\n",
       "4      47206413       1\n",
       "..          ...     ...\n",
       "968  4259830713       1\n",
       "969  4278982564       1\n",
       "970  4279090005       1\n",
       "971  4281247801       1\n",
       "972  4283872382       1\n",
       "\n",
       "[973 rows x 2 columns]"
      ]
     },
     "execution_count": 34,
     "metadata": {},
     "output_type": "execute_result"
    }
   ],
   "source": [
    "#creating a dataframe with columns that will hold the visitorId and the number of unique\n",
    "#transactionIds\n",
    "ordersbyuser= (\n",
    "orders.drop(['group','revenue','date'],axis=1)\n",
    "    .groupby('visitorId', as_index=False)\n",
    "    .agg({'transactionId': pd.Series.nunique})\n",
    ")\n",
    "ordersbyuser.columns=['userId','orders']\n",
    "ordersbyuser"
   ]
  },
  {
   "cell_type": "code",
   "execution_count": 35,
   "metadata": {},
   "outputs": [
    {
     "data": {
      "image/png": "[encoded data removed]",
      "text/plain": [
       "<Figure size 432x288 with 1 Axes>"
      ]
     },
     "metadata": {
      "needs_background": "light"
     },
     "output_type": "display_data"
    }
   ],
   "source": [
    "x_values= pd.Series(range(0,len(ordersbyuser)))\n",
    "plt.scatter(x_values,ordersbyuser['orders'])\n",
    "plt.title('Scatter Plot of Orders by User')\n",
    "plt.show()"
   ]
  },
  {
   "cell_type": "markdown",
   "metadata": {},
   "source": [
    "The overwhelming majority of of users made 1 order, there are those who made 2, and even less of those made 3 orders. Let's calculate the percentile for orders by user."
   ]
  },
  {
   "cell_type": "code",
   "execution_count": 36,
   "metadata": {},
   "outputs": [
    {
     "data": {
      "text/plain": [
       "array([1., 2.])"
      ]
     },
     "execution_count": 36,
     "metadata": {},
     "output_type": "execute_result"
    }
   ],
   "source": [
    "np.percentile(ordersbyuser['orders'], [95, 99])"
   ]
  },
  {
   "cell_type": "markdown",
   "metadata": {},
   "source": [
    "There are no more than 5% of users made 1 one purchase and no more than 1% of users made 2 purchases. I will consider orders of more than 1 purchase as an anomaly. "
   ]
  },
  {
   "cell_type": "markdown",
   "metadata": {},
   "source": [
    "Now I will look into anomalies for order prices/revenue"
   ]
  },
  {
   "cell_type": "code",
   "execution_count": 37,
   "metadata": {
    "scrolled": true
   },
   "outputs": [
    {
     "data": {
      "image/png": "[encoded data removed]",
      "text/plain": [
       "<Figure size 432x288 with 1 Axes>"
      ]
     },
     "metadata": {
      "needs_background": "light"
     },
     "output_type": "display_data"
    }
   ],
   "source": [
    "x_values= pd.Series(range(0, len(orders['revenue'])))\n",
    "plt.scatter(x_values, orders['revenue'])\n",
    "plt.title('Scatter Plot of Revenue')\n",
    "plt.show()"
   ]
  },
  {
   "cell_type": "markdown",
   "metadata": {},
   "source": [
    "Majority of prices were below 2500 with a few outliers above that price"
   ]
  },
  {
   "cell_type": "code",
   "execution_count": 38,
   "metadata": {},
   "outputs": [
    {
     "data": {
      "text/plain": [
       "array([414.275, 830.3  ])"
      ]
     },
     "execution_count": 38,
     "metadata": {},
     "output_type": "execute_result"
    }
   ],
   "source": [
    "np.percentile(orders['revenue'],[95,99])"
   ]
  },
  {
   "cell_type": "markdown",
   "metadata": {},
   "source": [
    "No more than 5% of revenue prices were more than 414.275 and no more than 1% of revenue was 830.3. I will define anomalies as revenue prices over 415.\n",
    "\n",
    "Now I will calculate the statistical significance of the difference in conversion between the groups"
   ]
  },
  {
   "cell_type": "code",
   "execution_count": 39,
   "metadata": {},
   "outputs": [
    {
     "data": {
      "text/html": [
       "<div>\n",
       "<style scoped>\n",
       "    .dataframe tbody tr th:only-of-type {\n",
       "        vertical-align: middle;\n",
       "    }\n",
       "\n",
       "    .dataframe tbody tr th {\n",
       "        vertical-align: top;\n",
       "    }\n",
       "\n",
       "    .dataframe thead th {\n",
       "        text-align: right;\n",
       "    }\n",
       "</style>\n",
       "<table border=\"1\" class=\"dataframe\">\n",
       "  <thead>\n",
       "    <tr style=\"text-align: right;\">\n",
       "      <th></th>\n",
       "      <th>date</th>\n",
       "      <th>group</th>\n",
       "      <th>visits</th>\n",
       "    </tr>\n",
       "  </thead>\n",
       "  <tbody>\n",
       "    <tr>\n",
       "      <th>0</th>\n",
       "      <td>2019-08-01</td>\n",
       "      <td>A</td>\n",
       "      <td>719</td>\n",
       "    </tr>\n",
       "    <tr>\n",
       "      <th>1</th>\n",
       "      <td>2019-08-02</td>\n",
       "      <td>A</td>\n",
       "      <td>619</td>\n",
       "    </tr>\n",
       "    <tr>\n",
       "      <th>2</th>\n",
       "      <td>2019-08-03</td>\n",
       "      <td>A</td>\n",
       "      <td>507</td>\n",
       "    </tr>\n",
       "    <tr>\n",
       "      <th>3</th>\n",
       "      <td>2019-08-04</td>\n",
       "      <td>A</td>\n",
       "      <td>717</td>\n",
       "    </tr>\n",
       "    <tr>\n",
       "      <th>4</th>\n",
       "      <td>2019-08-05</td>\n",
       "      <td>A</td>\n",
       "      <td>756</td>\n",
       "    </tr>\n",
       "  </tbody>\n",
       "</table>\n",
       "</div>"
      ],
      "text/plain": [
       "        date group  visits\n",
       "0 2019-08-01     A     719\n",
       "1 2019-08-02     A     619\n",
       "2 2019-08-03     A     507\n",
       "3 2019-08-04     A     717\n",
       "4 2019-08-05     A     756"
      ]
     },
     "execution_count": 39,
     "metadata": {},
     "output_type": "execute_result"
    }
   ],
   "source": [
    "visits.head()"
   ]
  },
  {
   "cell_type": "code",
   "execution_count": 40,
   "metadata": {
    "scrolled": true
   },
   "outputs": [
    {
     "data": {
      "text/html": [
       "<div>\n",
       "<style scoped>\n",
       "    .dataframe tbody tr th:only-of-type {\n",
       "        vertical-align: middle;\n",
       "    }\n",
       "\n",
       "    .dataframe tbody tr th {\n",
       "        vertical-align: top;\n",
       "    }\n",
       "\n",
       "    .dataframe thead th {\n",
       "        text-align: right;\n",
       "    }\n",
       "</style>\n",
       "<table border=\"1\" class=\"dataframe\">\n",
       "  <thead>\n",
       "    <tr style=\"text-align: right;\">\n",
       "      <th></th>\n",
       "      <th>transactionId</th>\n",
       "      <th>visitorId</th>\n",
       "      <th>date</th>\n",
       "      <th>revenue</th>\n",
       "      <th>group</th>\n",
       "    </tr>\n",
       "  </thead>\n",
       "  <tbody>\n",
       "    <tr>\n",
       "      <th>0</th>\n",
       "      <td>3667963787</td>\n",
       "      <td>3312258926</td>\n",
       "      <td>2019-08-15</td>\n",
       "      <td>30.4</td>\n",
       "      <td>B</td>\n",
       "    </tr>\n",
       "    <tr>\n",
       "      <th>1</th>\n",
       "      <td>2804400009</td>\n",
       "      <td>3642806036</td>\n",
       "      <td>2019-08-15</td>\n",
       "      <td>15.2</td>\n",
       "      <td>B</td>\n",
       "    </tr>\n",
       "    <tr>\n",
       "      <th>3</th>\n",
       "      <td>3797467345</td>\n",
       "      <td>1196621759</td>\n",
       "      <td>2019-08-15</td>\n",
       "      <td>155.1</td>\n",
       "      <td>B</td>\n",
       "    </tr>\n",
       "    <tr>\n",
       "      <th>4</th>\n",
       "      <td>2282983706</td>\n",
       "      <td>2322279887</td>\n",
       "      <td>2019-08-15</td>\n",
       "      <td>40.5</td>\n",
       "      <td>B</td>\n",
       "    </tr>\n",
       "    <tr>\n",
       "      <th>5</th>\n",
       "      <td>182168103</td>\n",
       "      <td>935554773</td>\n",
       "      <td>2019-08-15</td>\n",
       "      <td>35.0</td>\n",
       "      <td>B</td>\n",
       "    </tr>\n",
       "  </tbody>\n",
       "</table>\n",
       "</div>"
      ],
      "text/plain": [
       "   transactionId   visitorId       date  revenue group\n",
       "0     3667963787  3312258926 2019-08-15     30.4     B\n",
       "1     2804400009  3642806036 2019-08-15     15.2     B\n",
       "3     3797467345  1196621759 2019-08-15    155.1     B\n",
       "4     2282983706  2322279887 2019-08-15     40.5     B\n",
       "5      182168103   935554773 2019-08-15     35.0     B"
      ]
     },
     "execution_count": 40,
     "metadata": {},
     "output_type": "execute_result"
    }
   ],
   "source": [
    "orders.head()"
   ]
  },
  {
   "cell_type": "code",
   "execution_count": 41,
   "metadata": {},
   "outputs": [
    {
     "name": "stdout",
     "output_type": "stream",
     "text": [
      "      visitorId  orders\n",
      "0      11685486       1\n",
      "1      54447517       1\n",
      "2      66685450       1\n",
      "3      78758296       1\n",
      "4      85103373       1\n",
      "..          ...     ...\n",
      "440  4227830084       1\n",
      "441  4237561104       1\n",
      "442  4243832526       1\n",
      "443  4259830713       1\n",
      "444  4278982564       1\n",
      "\n",
      "[445 rows x 2 columns]\n"
     ]
    },
    {
     "data": {
      "text/html": [
       "<div>\n",
       "<style scoped>\n",
       "    .dataframe tbody tr th:only-of-type {\n",
       "        vertical-align: middle;\n",
       "    }\n",
       "\n",
       "    .dataframe tbody tr th {\n",
       "        vertical-align: top;\n",
       "    }\n",
       "\n",
       "    .dataframe thead th {\n",
       "        text-align: right;\n",
       "    }\n",
       "</style>\n",
       "<table border=\"1\" class=\"dataframe\">\n",
       "  <thead>\n",
       "    <tr style=\"text-align: right;\">\n",
       "      <th></th>\n",
       "      <th>visitorId</th>\n",
       "      <th>orders</th>\n",
       "    </tr>\n",
       "  </thead>\n",
       "  <tbody>\n",
       "    <tr>\n",
       "      <th>0</th>\n",
       "      <td>5114589</td>\n",
       "      <td>1</td>\n",
       "    </tr>\n",
       "    <tr>\n",
       "      <th>1</th>\n",
       "      <td>6958315</td>\n",
       "      <td>1</td>\n",
       "    </tr>\n",
       "    <tr>\n",
       "      <th>2</th>\n",
       "      <td>39475350</td>\n",
       "      <td>1</td>\n",
       "    </tr>\n",
       "    <tr>\n",
       "      <th>3</th>\n",
       "      <td>47206413</td>\n",
       "      <td>1</td>\n",
       "    </tr>\n",
       "    <tr>\n",
       "      <th>4</th>\n",
       "      <td>48147722</td>\n",
       "      <td>1</td>\n",
       "    </tr>\n",
       "    <tr>\n",
       "      <th>...</th>\n",
       "      <td>...</td>\n",
       "      <td>...</td>\n",
       "    </tr>\n",
       "    <tr>\n",
       "      <th>523</th>\n",
       "      <td>4251115836</td>\n",
       "      <td>1</td>\n",
       "    </tr>\n",
       "    <tr>\n",
       "      <th>524</th>\n",
       "      <td>4258103007</td>\n",
       "      <td>1</td>\n",
       "    </tr>\n",
       "    <tr>\n",
       "      <th>525</th>\n",
       "      <td>4279090005</td>\n",
       "      <td>1</td>\n",
       "    </tr>\n",
       "    <tr>\n",
       "      <th>526</th>\n",
       "      <td>4281247801</td>\n",
       "      <td>1</td>\n",
       "    </tr>\n",
       "    <tr>\n",
       "      <th>527</th>\n",
       "      <td>4283872382</td>\n",
       "      <td>1</td>\n",
       "    </tr>\n",
       "  </tbody>\n",
       "</table>\n",
       "<p>528 rows × 2 columns</p>\n",
       "</div>"
      ],
      "text/plain": [
       "      visitorId  orders\n",
       "0       5114589       1\n",
       "1       6958315       1\n",
       "2      39475350       1\n",
       "3      47206413       1\n",
       "4      48147722       1\n",
       "..          ...     ...\n",
       "523  4251115836       1\n",
       "524  4258103007       1\n",
       "525  4279090005       1\n",
       "526  4281247801       1\n",
       "527  4283872382       1\n",
       "\n",
       "[528 rows x 2 columns]"
      ]
     },
     "execution_count": 41,
     "metadata": {},
     "output_type": "execute_result"
    }
   ],
   "source": [
    "#declaring variables that per group that will hold visitorID and transactionId\n",
    "\n",
    "ordersbyuserA= orders[orders['group']=='A'].groupby('visitorId',as_index=False).agg({\n",
    "    'transactionId':pd.Series.nunique\n",
    "})\n",
    "ordersbyuserA.columns=['visitorId','orders']\n",
    "\n",
    "\n",
    "ordersbyuserB= orders[orders['group']=='B'].groupby('visitorId',as_index=False).agg({\n",
    "    'transactionId':pd.Series.nunique\n",
    "})\n",
    "ordersbyuserB.columns=['visitorId','orders']\n",
    "\n",
    "print(ordersbyuserA)\n",
    "ordersbyuserB"
   ]
  },
  {
   "cell_type": "code",
   "execution_count": 42,
   "metadata": {},
   "outputs": [
    {
     "data": {
      "text/plain": [
       "0    1\n",
       "1    1\n",
       "2    1\n",
       "3    1\n",
       "4    1\n",
       "Name: orders, dtype: int64"
      ]
     },
     "execution_count": 42,
     "metadata": {},
     "output_type": "execute_result"
    }
   ],
   "source": [
    "\n",
    "sampleA= pd.concat([ordersbyuserA['orders'],pd.Series(0,\n",
    "index= np.arange(visits[visits['group']=='A']['visits'].sum()-len(ordersbyuserA['orders'])),name='orders')],axis=0)\n",
    "\n",
    "sampleB= pd.concat([ordersbyuserB['orders'],pd.Series(0,\n",
    "index= np.arange(visits[visits['group']=='B']['visits'].sum()-len(ordersbyuserB['orders'])),name='orders')],axis=0)\n",
    "\n",
    "sampleB.head()"
   ]
  },
  {
   "cell_type": "code",
   "execution_count": 43,
   "metadata": {},
   "outputs": [
    {
     "data": {
      "text/plain": [
       "'0.011'"
      ]
     },
     "execution_count": 43,
     "metadata": {},
     "output_type": "execute_result"
    }
   ],
   "source": [
    "#calculating the statistical significance using the Mann-Whitney Test\n",
    "\n",
    "'{0:.3f}'.format(stats.mannwhitneyu(sampleA,sampleB)[1])"
   ]
  },
  {
   "cell_type": "code",
   "execution_count": 44,
   "metadata": {},
   "outputs": [
    {
     "data": {
      "text/plain": [
       "'0.160'"
      ]
     },
     "execution_count": 44,
     "metadata": {},
     "output_type": "execute_result"
    }
   ],
   "source": [
    "#calculating the relative difference between group A and B\n",
    "'{0:.3f}'.format(sampleB.mean()/sampleA.mean()-1)"
   ]
  },
  {
   "cell_type": "markdown",
   "metadata": {},
   "source": [
    "With an alpha level of 0.05, this p-value of 0.011 is less than the significance level, which means we can reject the null hypothesis that there isn't a significant difference between the conversation rates of group A and B. \n",
    "Group B has a relative gain of 0.160 or 16% over group A"
   ]
  },
  {
   "cell_type": "markdown",
   "metadata": {},
   "source": [
    "Now let's calculate the statistical significance of the average order size betweent the groups"
   ]
  },
  {
   "cell_type": "code",
   "execution_count": 45,
   "metadata": {},
   "outputs": [
    {
     "data": {
      "text/html": [
       "<div>\n",
       "<style scoped>\n",
       "    .dataframe tbody tr th:only-of-type {\n",
       "        vertical-align: middle;\n",
       "    }\n",
       "\n",
       "    .dataframe tbody tr th {\n",
       "        vertical-align: top;\n",
       "    }\n",
       "\n",
       "    .dataframe thead th {\n",
       "        text-align: right;\n",
       "    }\n",
       "</style>\n",
       "<table border=\"1\" class=\"dataframe\">\n",
       "  <thead>\n",
       "    <tr style=\"text-align: right;\">\n",
       "      <th></th>\n",
       "      <th>transactionId</th>\n",
       "      <th>visitorId</th>\n",
       "      <th>date</th>\n",
       "      <th>revenue</th>\n",
       "      <th>group</th>\n",
       "    </tr>\n",
       "  </thead>\n",
       "  <tbody>\n",
       "    <tr>\n",
       "      <th>0</th>\n",
       "      <td>3667963787</td>\n",
       "      <td>3312258926</td>\n",
       "      <td>2019-08-15</td>\n",
       "      <td>30.4</td>\n",
       "      <td>B</td>\n",
       "    </tr>\n",
       "    <tr>\n",
       "      <th>1</th>\n",
       "      <td>2804400009</td>\n",
       "      <td>3642806036</td>\n",
       "      <td>2019-08-15</td>\n",
       "      <td>15.2</td>\n",
       "      <td>B</td>\n",
       "    </tr>\n",
       "    <tr>\n",
       "      <th>3</th>\n",
       "      <td>3797467345</td>\n",
       "      <td>1196621759</td>\n",
       "      <td>2019-08-15</td>\n",
       "      <td>155.1</td>\n",
       "      <td>B</td>\n",
       "    </tr>\n",
       "    <tr>\n",
       "      <th>4</th>\n",
       "      <td>2282983706</td>\n",
       "      <td>2322279887</td>\n",
       "      <td>2019-08-15</td>\n",
       "      <td>40.5</td>\n",
       "      <td>B</td>\n",
       "    </tr>\n",
       "    <tr>\n",
       "      <th>5</th>\n",
       "      <td>182168103</td>\n",
       "      <td>935554773</td>\n",
       "      <td>2019-08-15</td>\n",
       "      <td>35.0</td>\n",
       "      <td>B</td>\n",
       "    </tr>\n",
       "  </tbody>\n",
       "</table>\n",
       "</div>"
      ],
      "text/plain": [
       "   transactionId   visitorId       date  revenue group\n",
       "0     3667963787  3312258926 2019-08-15     30.4     B\n",
       "1     2804400009  3642806036 2019-08-15     15.2     B\n",
       "3     3797467345  1196621759 2019-08-15    155.1     B\n",
       "4     2282983706  2322279887 2019-08-15     40.5     B\n",
       "5      182168103   935554773 2019-08-15     35.0     B"
      ]
     },
     "execution_count": 45,
     "metadata": {},
     "output_type": "execute_result"
    }
   ],
   "source": [
    "orders.head()"
   ]
  },
  {
   "cell_type": "code",
   "execution_count": 46,
   "metadata": {},
   "outputs": [
    {
     "data": {
      "text/plain": [
       "'0.862'"
      ]
     },
     "execution_count": 46,
     "metadata": {},
     "output_type": "execute_result"
    }
   ],
   "source": [
    "'{0:.3f}'.format(stats.mannwhitneyu(orders[orders['group']=='A']['revenue'],\n",
    "                 orders[orders['group']=='B']['revenue'])[1])"
   ]
  },
  {
   "cell_type": "code",
   "execution_count": 47,
   "metadata": {},
   "outputs": [
    {
     "data": {
      "text/plain": [
       "'0.278'"
      ]
     },
     "execution_count": 47,
     "metadata": {},
     "output_type": "execute_result"
    }
   ],
   "source": [
    "#calculating the relative difference in average order size for group A and B\n",
    "'{0:.3f}'.format(orders[orders['group']=='B']['revenue'].mean()/orders[orders['group']=='A']['revenue'].mean()-1)"
   ]
  },
  {
   "cell_type": "markdown",
   "metadata": {},
   "source": [
    "With an alpha level of 0.05, this p-value of 0.862 means we cannot reject the null hypothesis-- there is no statistically significant difference between the average order size of group A and B, though the average order size of group B is bigger than group A."
   ]
  },
  {
   "cell_type": "markdown",
   "metadata": {},
   "source": [
    "Now we are going to filter our data to take out the anomalies that were defined before: revenue prices over 415 and orders of more than 1 purchase."
   ]
  },
  {
   "cell_type": "code",
   "execution_count": 48,
   "metadata": {},
   "outputs": [
    {
     "data": {
      "text/plain": [
       "36      366673373\n",
       "58      611059232\n",
       "64      678354126\n",
       "72      759473111\n",
       "171    1617417821\n",
       "Name: visitorId, dtype: int64"
      ]
     },
     "execution_count": 48,
     "metadata": {},
     "output_type": "execute_result"
    }
   ],
   "source": [
    "#filtering out visitor id's where the visitor had more than 1 purchase\n",
    "usersorderexcess= pd.concat(\n",
    "[ordersbyuserA[ordersbyuserA['orders']> 1]['visitorId'],\n",
    " ordersbyuserB[ordersbyuserB['orders']> 1]['visitorId']],axis=0)\n",
    "\n",
    "usersorderexcess.head()"
   ]
  },
  {
   "cell_type": "code",
   "execution_count": 49,
   "metadata": {},
   "outputs": [
    {
     "data": {
      "text/plain": [
       "73     2947100995\n",
       "77      787824685\n",
       "78     3288820196\n",
       "131    2254586615\n",
       "137    1211585711\n",
       "Name: visitorId, dtype: int64"
      ]
     },
     "execution_count": 49,
     "metadata": {},
     "output_type": "execute_result"
    }
   ],
   "source": [
    "#filtering out the visitor id's where revenue is over 415\n",
    "\n",
    "usersexpensive= orders[orders['revenue']> 415]['visitorId']\n",
    "usersexpensive.head()"
   ]
  },
  {
   "cell_type": "code",
   "execution_count": 50,
   "metadata": {},
   "outputs": [
    {
     "data": {
      "text/plain": [
       "86"
      ]
     },
     "execution_count": 50,
     "metadata": {},
     "output_type": "execute_result"
    }
   ],
   "source": [
    "#merging the two dataframes \n",
    "\n",
    "abnormaldf= pd.concat([usersorderexcess,usersexpensive], axis=0).drop_duplicates().sort_values()\n",
    "abnormaldf.shape[0]"
   ]
  },
  {
   "cell_type": "markdown",
   "metadata": {},
   "source": [
    "There are 86 total visitor id's that would be considered anomalous by our definition. I will now create a filtered dataframes that do not contain these visitor id's"
   ]
  },
  {
   "cell_type": "code",
   "execution_count": 51,
   "metadata": {},
   "outputs": [
    {
     "data": {
      "text/plain": [
       "0    1\n",
       "1    1\n",
       "2    1\n",
       "3    1\n",
       "4    1\n",
       "Name: orders, dtype: int64"
      ]
     },
     "execution_count": 51,
     "metadata": {},
     "output_type": "execute_result"
    }
   ],
   "source": [
    "sampleA_filt= pd.concat(\n",
    "    [ordersbyuserA[np.logical_not(ordersbyuserA['visitorId']\n",
    "                                 .isin(abnormaldf))]['orders'],\n",
    "    pd.Series(0,index=np.arange(visits[visits['group']=='A']['visits'].sum()\n",
    "                               -len(ordersbyuserA['orders'])),name='orders')],axis=0)\n",
    "sampleA_filt.head()"
   ]
  },
  {
   "cell_type": "code",
   "execution_count": 52,
   "metadata": {},
   "outputs": [
    {
     "data": {
      "text/plain": [
       "0    1\n",
       "1    1\n",
       "2    1\n",
       "3    1\n",
       "4    1\n",
       "Name: orders, dtype: int64"
      ]
     },
     "execution_count": 52,
     "metadata": {},
     "output_type": "execute_result"
    }
   ],
   "source": [
    "sampleB_filt= pd.concat(\n",
    "    [ordersbyuserB[np.logical_not(ordersbyuserB['visitorId']\n",
    "                                 .isin(abnormaldf))]['orders'],\n",
    "    pd.Series(0,index=np.arange(visits[visits['group']=='B']['visits'].sum()\n",
    "                               -len(ordersbyuserB['orders'])),name='orders')],axis=0)\n",
    "sampleB_filt.head()"
   ]
  },
  {
   "cell_type": "code",
   "execution_count": 53,
   "metadata": {},
   "outputs": [
    {
     "data": {
      "text/plain": [
       "'0.016'"
      ]
     },
     "execution_count": 53,
     "metadata": {},
     "output_type": "execute_result"
    }
   ],
   "source": [
    "#testing the statistical significance of the conversion rate with the filtered data\n",
    "'{0:.3f}'.format(stats.mannwhitneyu(sampleA_filt,sampleB_filt)[1])"
   ]
  },
  {
   "cell_type": "code",
   "execution_count": 54,
   "metadata": {},
   "outputs": [
    {
     "data": {
      "text/plain": [
       "'0.174'"
      ]
     },
     "execution_count": 54,
     "metadata": {},
     "output_type": "execute_result"
    }
   ],
   "source": [
    "#testing the relative difference of conversion rates between groups\n",
    "'{0:.3f}'.format(sampleB_filt.mean()/sampleA_filt.mean()-1)"
   ]
  },
  {
   "cell_type": "markdown",
   "metadata": {},
   "source": [
    "With an alpha level of 0.05, this p-value of 0.016 indicates there is evidence to reject the null hypothesis, meaning there is evidence that there is a statistical difference between the two groups. This isn't different from the raw data, but the p-value as well as the relative difference increased. "
   ]
  },
  {
   "cell_type": "markdown",
   "metadata": {},
   "source": [
    "Now I will find the statistical significance of the average orders size of the new filtered data"
   ]
  },
  {
   "cell_type": "code",
   "execution_count": 55,
   "metadata": {},
   "outputs": [
    {
     "data": {
      "text/plain": [
       "'0.771'"
      ]
     },
     "execution_count": 55,
     "metadata": {},
     "output_type": "execute_result"
    }
   ],
   "source": [
    "#calculating the statistical significance of the average order size \n",
    "'{0:.3f}'.format(stats.mannwhitneyu(\n",
    "orders[np.logical_and(orders['group']=='A',\n",
    "                     np.logical_not(orders['visitorId'].isin(abnormaldf)))]['revenue'],\n",
    "orders[np.logical_and(orders['group']=='B',\n",
    "                     np.logical_not(orders['visitorId'].isin(abnormaldf)))]['revenue'])[1])"
   ]
  },
  {
   "cell_type": "code",
   "execution_count": 56,
   "metadata": {},
   "outputs": [
    {
     "data": {
      "text/plain": [
       "'-0.033'"
      ]
     },
     "execution_count": 56,
     "metadata": {},
     "output_type": "execute_result"
    }
   ],
   "source": [
    "#calculating relative difference of average order size\n",
    "\n",
    "'{0:.3f}'.format(\n",
    "    orders[np.logical_and(orders['group']=='B',\n",
    "                          np.logical_not(orders['visitorId'].isin(abnormaldf)))]['revenue'].mean()/\n",
    "    orders[np.logical_and(\n",
    "        orders['group']=='A',\n",
    "        np.logical_not(orders['visitorId'].isin(abnormaldf)))]['revenue'].mean() - 1)"
   ]
  },
  {
   "cell_type": "markdown",
   "metadata": {},
   "source": [
    "With an alpha level of 0.05 and p-value of 0.771, we cannot reject the null hypothesis, meaning there is not a statistically significant difference between the average order size of the group even though group B is a bit smaller than group A. This is no different than the raw data test, even though the p-value decreased and group B went from having a larger average order size to having a smaller one. "
   ]
  },
  {
   "cell_type": "markdown",
   "metadata": {},
   "source": [
    "# Decisions and Conclusion"
   ]
  },
  {
   "cell_type": "markdown",
   "metadata": {},
   "source": [
    "The goal of this report was to priortize a hypothesis from a list of serveral hypotheses, as well as analyze the results of an A/B test. \n",
    "Using different frameworks (ICE and RICE) the I would suggest prioritizing hypothesis 7 as it appeared as one of the top hypotheses in both frameworks, was number 1 in the RICE framework, and a has much more considerable reach. \n",
    "\n",
    "Prior to analyzing the A/B test, I had to remove visitor id's of visitors who were found in both group A and group B. In analyzing the A/B test, I found anomalies that were affecting the conversion and average purchase rate between the groups. After defining those anomalies and removing them from the dataset, I re-did my Mann-Whitney test and found the relative differences between the groups. \n",
    "\n",
    "For the raw data: there was a statisically significant difference between the conversion rates of the two groups but there was not a significant difference between average order size.\n",
    "\n",
    "For the filtered data: there was a statistically significant difference between the conversion rates and no significant difference between average order sizes.\n",
    "\n",
    "Based on these findings, I would suggest stopping the test and declaring that group B the leader in terms of conversion rate. "
   ]
  }
 ],
 "metadata": {
  "ExecuteTimeLog": [
   {
    "duration": 814,
    "start_time": "2022-07-01T23:37:06.769Z"
   },
   {
    "duration": 61,
    "start_time": "2022-07-01T23:37:09.026Z"
   },
   {
    "duration": 21,
    "start_time": "2022-07-01T23:37:22.572Z"
   },
   {
    "duration": 19,
    "start_time": "2022-07-01T23:37:27.189Z"
   },
   {
    "duration": 19,
    "start_time": "2022-07-01T23:37:45.269Z"
   },
   {
    "duration": 28,
    "start_time": "2022-07-01T23:38:22.374Z"
   },
   {
    "duration": 83,
    "start_time": "2022-07-01T23:40:37.088Z"
   },
   {
    "duration": 95,
    "start_time": "2022-07-01T23:40:40.328Z"
   },
   {
    "duration": 18,
    "start_time": "2022-07-01T23:40:41.774Z"
   },
   {
    "duration": 5,
    "start_time": "2022-07-01T23:41:28.903Z"
   },
   {
    "duration": 14,
    "start_time": "2022-07-01T23:41:36.673Z"
   },
   {
    "duration": 5,
    "start_time": "2022-07-01T23:43:06.435Z"
   },
   {
    "duration": 10,
    "start_time": "2022-07-01T23:44:45.569Z"
   },
   {
    "duration": 9,
    "start_time": "2022-07-01T23:44:58.572Z"
   },
   {
    "duration": 58,
    "start_time": "2022-07-01T23:45:55.440Z"
   },
   {
    "duration": 33,
    "start_time": "2022-07-01T23:46:07.377Z"
   },
   {
    "duration": 63,
    "start_time": "2022-07-01T23:46:31.227Z"
   },
   {
    "duration": 32,
    "start_time": "2022-07-01T23:46:38.738Z"
   },
   {
    "duration": 6,
    "start_time": "2022-07-01T23:46:53.443Z"
   },
   {
    "duration": 7,
    "start_time": "2022-07-01T23:46:59.270Z"
   },
   {
    "duration": 31,
    "start_time": "2022-07-01T23:47:01.015Z"
   },
   {
    "duration": 8,
    "start_time": "2022-07-01T23:50:56.900Z"
   },
   {
    "duration": 8,
    "start_time": "2022-07-01T23:52:31.497Z"
   },
   {
    "duration": 63,
    "start_time": "2022-07-01T23:53:21.982Z"
   },
   {
    "duration": 8,
    "start_time": "2022-07-01T23:53:46.581Z"
   },
   {
    "duration": 5,
    "start_time": "2022-07-01T23:54:18.790Z"
   },
   {
    "duration": 12,
    "start_time": "2022-07-01T23:54:47.226Z"
   },
   {
    "duration": 24,
    "start_time": "2022-07-01T23:54:54.042Z"
   },
   {
    "duration": 8,
    "start_time": "2022-07-01T23:56:23.377Z"
   },
   {
    "duration": 16,
    "start_time": "2022-07-01T23:56:53.599Z"
   },
   {
    "duration": 11,
    "start_time": "2022-07-01T23:57:29.480Z"
   },
   {
    "duration": 8,
    "start_time": "2022-07-01T23:59:08.773Z"
   },
   {
    "duration": 4,
    "start_time": "2022-07-01T23:59:12.921Z"
   },
   {
    "duration": 12,
    "start_time": "2022-07-01T23:59:21.833Z"
   },
   {
    "duration": 4,
    "start_time": "2022-07-01T23:59:25.409Z"
   },
   {
    "duration": 13,
    "start_time": "2022-07-02T00:02:15.476Z"
   },
   {
    "duration": 19,
    "start_time": "2022-07-02T00:02:26.101Z"
   },
   {
    "duration": 6,
    "start_time": "2022-07-02T00:04:11.087Z"
   },
   {
    "duration": 789,
    "start_time": "2022-07-02T00:09:31.176Z"
   },
   {
    "duration": 33,
    "start_time": "2022-07-02T00:09:31.971Z"
   },
   {
    "duration": 25,
    "start_time": "2022-07-02T00:09:32.006Z"
   },
   {
    "duration": 19,
    "start_time": "2022-07-02T00:09:32.032Z"
   },
   {
    "duration": 37,
    "start_time": "2022-07-02T00:09:32.053Z"
   },
   {
    "duration": 13,
    "start_time": "2022-07-02T00:09:32.091Z"
   },
   {
    "duration": 9,
    "start_time": "2022-07-02T00:09:32.105Z"
   },
   {
    "duration": 11,
    "start_time": "2022-07-02T00:09:32.115Z"
   },
   {
    "duration": 7,
    "start_time": "2022-07-02T00:09:32.127Z"
   },
   {
    "duration": 6,
    "start_time": "2022-07-02T00:09:32.136Z"
   },
   {
    "duration": 15,
    "start_time": "2022-07-02T00:16:16.829Z"
   },
   {
    "duration": 20,
    "start_time": "2022-07-02T00:18:37.463Z"
   },
   {
    "duration": 11,
    "start_time": "2022-07-02T00:19:07.764Z"
   },
   {
    "duration": 761,
    "start_time": "2022-07-02T00:20:26.016Z"
   },
   {
    "duration": 32,
    "start_time": "2022-07-02T00:20:26.779Z"
   },
   {
    "duration": 25,
    "start_time": "2022-07-02T00:20:26.813Z"
   },
   {
    "duration": 22,
    "start_time": "2022-07-02T00:20:26.840Z"
   },
   {
    "duration": 24,
    "start_time": "2022-07-02T00:20:26.864Z"
   },
   {
    "duration": 9,
    "start_time": "2022-07-02T00:20:26.889Z"
   },
   {
    "duration": 13,
    "start_time": "2022-07-02T00:20:26.900Z"
   },
   {
    "duration": 9,
    "start_time": "2022-07-02T00:20:26.915Z"
   },
   {
    "duration": 37,
    "start_time": "2022-07-02T00:20:26.925Z"
   },
   {
    "duration": 8,
    "start_time": "2022-07-02T00:20:26.964Z"
   },
   {
    "duration": 10,
    "start_time": "2022-07-02T00:20:26.976Z"
   },
   {
    "duration": 18,
    "start_time": "2022-07-02T00:20:26.987Z"
   },
   {
    "duration": 811,
    "start_time": "2022-07-02T00:20:49.063Z"
   },
   {
    "duration": 31,
    "start_time": "2022-07-02T00:20:49.877Z"
   },
   {
    "duration": 26,
    "start_time": "2022-07-02T00:20:49.909Z"
   },
   {
    "duration": 22,
    "start_time": "2022-07-02T00:20:49.937Z"
   },
   {
    "duration": 32,
    "start_time": "2022-07-02T00:20:49.961Z"
   },
   {
    "duration": 6,
    "start_time": "2022-07-02T00:20:49.995Z"
   },
   {
    "duration": 12,
    "start_time": "2022-07-02T00:20:50.002Z"
   },
   {
    "duration": 9,
    "start_time": "2022-07-02T00:20:50.016Z"
   },
   {
    "duration": 11,
    "start_time": "2022-07-02T00:20:50.026Z"
   },
   {
    "duration": 6,
    "start_time": "2022-07-02T00:20:50.039Z"
   },
   {
    "duration": 21,
    "start_time": "2022-07-02T00:20:50.046Z"
   },
   {
    "duration": 27,
    "start_time": "2022-07-02T00:20:50.069Z"
   },
   {
    "duration": 10,
    "start_time": "2022-07-02T00:21:21.624Z"
   },
   {
    "duration": 4,
    "start_time": "2022-07-02T00:22:17.881Z"
   },
   {
    "duration": 7,
    "start_time": "2022-07-02T00:52:04.881Z"
   },
   {
    "duration": 1010,
    "start_time": "2022-07-02T00:57:28.645Z"
   },
   {
    "duration": 952,
    "start_time": "2022-07-02T00:57:51.679Z"
   },
   {
    "duration": 3,
    "start_time": "2022-07-02T00:58:00.885Z"
   },
   {
    "duration": 1040,
    "start_time": "2022-07-02T00:58:04.053Z"
   },
   {
    "duration": 12,
    "start_time": "2022-07-02T00:58:33.371Z"
   },
   {
    "duration": 13,
    "start_time": "2022-07-02T00:58:41.807Z"
   },
   {
    "duration": 10,
    "start_time": "2022-07-02T01:00:15.124Z"
   },
   {
    "duration": 12,
    "start_time": "2022-07-02T01:06:17.836Z"
   },
   {
    "duration": 7,
    "start_time": "2022-07-02T01:06:22.244Z"
   },
   {
    "duration": 11,
    "start_time": "2022-07-02T01:07:48.133Z"
   },
   {
    "duration": 22,
    "start_time": "2022-07-02T01:13:51.462Z"
   },
   {
    "duration": 17,
    "start_time": "2022-07-02T01:14:03.890Z"
   },
   {
    "duration": 11,
    "start_time": "2022-07-02T01:15:56.798Z"
   },
   {
    "duration": 6,
    "start_time": "2022-07-02T01:16:01.026Z"
   },
   {
    "duration": 6,
    "start_time": "2022-07-02T01:16:08.462Z"
   },
   {
    "duration": 178,
    "start_time": "2022-07-02T01:19:21.263Z"
   },
   {
    "duration": 119,
    "start_time": "2022-07-02T01:21:36.449Z"
   },
   {
    "duration": 70,
    "start_time": "2022-07-02T01:23:44.517Z"
   },
   {
    "duration": 18,
    "start_time": "2022-07-02T01:23:54.332Z"
   },
   {
    "duration": 752,
    "start_time": "2022-07-02T01:25:10.108Z"
   },
   {
    "duration": 32,
    "start_time": "2022-07-02T01:25:10.861Z"
   },
   {
    "duration": 26,
    "start_time": "2022-07-02T01:25:10.894Z"
   },
   {
    "duration": 18,
    "start_time": "2022-07-02T01:25:10.922Z"
   },
   {
    "duration": 13,
    "start_time": "2022-07-02T01:25:10.942Z"
   },
   {
    "duration": 6,
    "start_time": "2022-07-02T01:25:10.956Z"
   },
   {
    "duration": 13,
    "start_time": "2022-07-02T01:25:10.963Z"
   },
   {
    "duration": 9,
    "start_time": "2022-07-02T01:25:10.977Z"
   },
   {
    "duration": 11,
    "start_time": "2022-07-02T01:25:10.987Z"
   },
   {
    "duration": 6,
    "start_time": "2022-07-02T01:25:11.000Z"
   },
   {
    "duration": 8,
    "start_time": "2022-07-02T01:25:11.008Z"
   },
   {
    "duration": 38,
    "start_time": "2022-07-02T01:25:11.018Z"
   },
   {
    "duration": 4,
    "start_time": "2022-07-02T01:25:11.058Z"
   },
   {
    "duration": 11,
    "start_time": "2022-07-02T01:25:11.064Z"
   },
   {
    "duration": 10,
    "start_time": "2022-07-02T01:25:11.077Z"
   },
   {
    "duration": 10,
    "start_time": "2022-07-02T01:25:11.089Z"
   },
   {
    "duration": 8,
    "start_time": "2022-07-02T01:25:11.101Z"
   },
   {
    "duration": 7,
    "start_time": "2022-07-02T01:25:11.111Z"
   },
   {
    "duration": 40,
    "start_time": "2022-07-02T01:25:11.120Z"
   },
   {
    "duration": 77,
    "start_time": "2022-07-02T01:25:11.162Z"
   },
   {
    "duration": 0,
    "start_time": "2022-07-02T01:25:11.241Z"
   },
   {
    "duration": 0,
    "start_time": "2022-07-02T01:25:11.250Z"
   },
   {
    "duration": 0,
    "start_time": "2022-07-02T01:25:11.251Z"
   },
   {
    "duration": 776,
    "start_time": "2022-07-02T01:25:29.788Z"
   },
   {
    "duration": 33,
    "start_time": "2022-07-02T01:25:30.566Z"
   },
   {
    "duration": 27,
    "start_time": "2022-07-02T01:25:30.600Z"
   },
   {
    "duration": 19,
    "start_time": "2022-07-02T01:25:30.629Z"
   },
   {
    "duration": 12,
    "start_time": "2022-07-02T01:25:30.650Z"
   },
   {
    "duration": 12,
    "start_time": "2022-07-02T01:25:30.664Z"
   },
   {
    "duration": 18,
    "start_time": "2022-07-02T01:25:30.677Z"
   },
   {
    "duration": 17,
    "start_time": "2022-07-02T01:25:30.697Z"
   },
   {
    "duration": 13,
    "start_time": "2022-07-02T01:25:30.715Z"
   },
   {
    "duration": 6,
    "start_time": "2022-07-02T01:25:30.730Z"
   },
   {
    "duration": 7,
    "start_time": "2022-07-02T01:25:30.750Z"
   },
   {
    "duration": 21,
    "start_time": "2022-07-02T01:25:30.758Z"
   },
   {
    "duration": 4,
    "start_time": "2022-07-02T01:25:30.780Z"
   },
   {
    "duration": 12,
    "start_time": "2022-07-02T01:25:30.786Z"
   },
   {
    "duration": 16,
    "start_time": "2022-07-02T01:25:30.799Z"
   },
   {
    "duration": 14,
    "start_time": "2022-07-02T01:25:30.816Z"
   },
   {
    "duration": 26,
    "start_time": "2022-07-02T01:25:30.831Z"
   },
   {
    "duration": 12,
    "start_time": "2022-07-02T01:25:30.858Z"
   },
   {
    "duration": 16,
    "start_time": "2022-07-02T01:25:30.872Z"
   },
   {
    "duration": 88,
    "start_time": "2022-07-02T01:25:30.890Z"
   },
   {
    "duration": 0,
    "start_time": "2022-07-02T01:25:30.979Z"
   },
   {
    "duration": 0,
    "start_time": "2022-07-02T01:25:30.980Z"
   },
   {
    "duration": 0,
    "start_time": "2022-07-02T01:25:30.981Z"
   },
   {
    "duration": 776,
    "start_time": "2022-07-02T01:26:08.787Z"
   },
   {
    "duration": 31,
    "start_time": "2022-07-02T01:26:09.565Z"
   },
   {
    "duration": 25,
    "start_time": "2022-07-02T01:26:09.597Z"
   },
   {
    "duration": 19,
    "start_time": "2022-07-02T01:26:09.625Z"
   },
   {
    "duration": 14,
    "start_time": "2022-07-02T01:26:09.645Z"
   },
   {
    "duration": 8,
    "start_time": "2022-07-02T01:26:09.661Z"
   },
   {
    "duration": 14,
    "start_time": "2022-07-02T01:26:09.670Z"
   },
   {
    "duration": 8,
    "start_time": "2022-07-02T01:26:09.685Z"
   },
   {
    "duration": 11,
    "start_time": "2022-07-02T01:26:09.695Z"
   },
   {
    "duration": 5,
    "start_time": "2022-07-02T01:26:09.708Z"
   },
   {
    "duration": 8,
    "start_time": "2022-07-02T01:26:09.714Z"
   },
   {
    "duration": 35,
    "start_time": "2022-07-02T01:26:09.723Z"
   },
   {
    "duration": 4,
    "start_time": "2022-07-02T01:26:09.759Z"
   },
   {
    "duration": 9,
    "start_time": "2022-07-02T01:26:09.764Z"
   },
   {
    "duration": 9,
    "start_time": "2022-07-02T01:26:09.775Z"
   },
   {
    "duration": 12,
    "start_time": "2022-07-02T01:26:09.786Z"
   },
   {
    "duration": 11,
    "start_time": "2022-07-02T01:26:09.800Z"
   },
   {
    "duration": 7,
    "start_time": "2022-07-02T01:26:09.812Z"
   },
   {
    "duration": 30,
    "start_time": "2022-07-02T01:26:09.821Z"
   },
   {
    "duration": 196,
    "start_time": "2022-07-02T01:26:09.853Z"
   },
   {
    "duration": 128,
    "start_time": "2022-07-02T01:26:10.051Z"
   },
   {
    "duration": 18,
    "start_time": "2022-07-02T01:26:10.180Z"
   },
   {
    "duration": 6,
    "start_time": "2022-07-02T01:28:11.052Z"
   },
   {
    "duration": 78,
    "start_time": "2022-07-02T01:30:02.484Z"
   },
   {
    "duration": 384,
    "start_time": "2022-07-02T01:30:18.848Z"
   },
   {
    "duration": 208,
    "start_time": "2022-07-02T01:30:22.089Z"
   },
   {
    "duration": 172,
    "start_time": "2022-07-02T01:30:29.206Z"
   },
   {
    "duration": 171,
    "start_time": "2022-07-02T01:30:48.501Z"
   },
   {
    "duration": 158,
    "start_time": "2022-07-02T01:31:10.774Z"
   },
   {
    "duration": 161,
    "start_time": "2022-07-02T01:31:23.190Z"
   },
   {
    "duration": 165,
    "start_time": "2022-07-02T01:31:35.749Z"
   },
   {
    "duration": 163,
    "start_time": "2022-07-02T01:31:42.047Z"
   },
   {
    "duration": 167,
    "start_time": "2022-07-02T01:31:49.713Z"
   },
   {
    "duration": 164,
    "start_time": "2022-07-02T01:32:00.704Z"
   },
   {
    "duration": 498,
    "start_time": "2022-07-02T01:32:28.435Z"
   },
   {
    "duration": 462,
    "start_time": "2022-07-02T01:32:41.740Z"
   },
   {
    "duration": 464,
    "start_time": "2022-07-02T01:32:47.861Z"
   },
   {
    "duration": 163,
    "start_time": "2022-07-02T01:33:03.810Z"
   },
   {
    "duration": 161,
    "start_time": "2022-07-02T01:33:12.236Z"
   },
   {
    "duration": 526,
    "start_time": "2022-07-02T01:33:17.807Z"
   },
   {
    "duration": 198,
    "start_time": "2022-07-02T01:33:25.355Z"
   },
   {
    "duration": 193,
    "start_time": "2022-07-02T01:33:29.970Z"
   },
   {
    "duration": 179,
    "start_time": "2022-07-02T01:33:34.946Z"
   },
   {
    "duration": 198,
    "start_time": "2022-07-02T01:33:40.028Z"
   },
   {
    "duration": 207,
    "start_time": "2022-07-02T01:33:45.037Z"
   },
   {
    "duration": 189,
    "start_time": "2022-07-02T01:33:51.340Z"
   },
   {
    "duration": 178,
    "start_time": "2022-07-02T01:34:04.603Z"
   },
   {
    "duration": 180,
    "start_time": "2022-07-02T01:34:08.469Z"
   },
   {
    "duration": 134,
    "start_time": "2022-07-02T01:45:20.581Z"
   },
   {
    "duration": 153,
    "start_time": "2022-07-02T01:45:29.309Z"
   },
   {
    "duration": 225,
    "start_time": "2022-07-02T01:45:34.003Z"
   },
   {
    "duration": 172,
    "start_time": "2022-07-02T01:45:46.858Z"
   },
   {
    "duration": 170,
    "start_time": "2022-07-02T01:45:55.986Z"
   },
   {
    "duration": 16,
    "start_time": "2022-07-02T03:26:56.622Z"
   },
   {
    "duration": 10,
    "start_time": "2022-07-02T03:29:20.530Z"
   },
   {
    "duration": 149,
    "start_time": "2022-07-02T03:29:27.435Z"
   },
   {
    "duration": 135,
    "start_time": "2022-07-02T03:29:59.125Z"
   },
   {
    "duration": 50,
    "start_time": "2022-07-02T03:31:22.129Z"
   },
   {
    "duration": 126,
    "start_time": "2022-07-02T03:31:33.115Z"
   },
   {
    "duration": 339,
    "start_time": "2022-07-02T03:31:38.029Z"
   },
   {
    "duration": 275,
    "start_time": "2022-07-02T03:31:43.448Z"
   },
   {
    "duration": 273,
    "start_time": "2022-07-02T03:31:53.821Z"
   },
   {
    "duration": 281,
    "start_time": "2022-07-02T03:32:19.536Z"
   },
   {
    "duration": 1032,
    "start_time": "2022-07-02T03:34:49.938Z"
   },
   {
    "duration": 84,
    "start_time": "2022-07-02T03:34:50.972Z"
   },
   {
    "duration": 25,
    "start_time": "2022-07-02T03:34:51.058Z"
   },
   {
    "duration": 19,
    "start_time": "2022-07-02T03:34:51.085Z"
   },
   {
    "duration": 24,
    "start_time": "2022-07-02T03:34:51.106Z"
   },
   {
    "duration": 21,
    "start_time": "2022-07-02T03:34:51.131Z"
   },
   {
    "duration": 31,
    "start_time": "2022-07-02T03:34:51.153Z"
   },
   {
    "duration": 10,
    "start_time": "2022-07-02T03:34:51.186Z"
   },
   {
    "duration": 20,
    "start_time": "2022-07-02T03:34:51.197Z"
   },
   {
    "duration": 13,
    "start_time": "2022-07-02T03:34:51.219Z"
   },
   {
    "duration": 11,
    "start_time": "2022-07-02T03:34:51.233Z"
   },
   {
    "duration": 25,
    "start_time": "2022-07-02T03:34:51.246Z"
   },
   {
    "duration": 3,
    "start_time": "2022-07-02T03:34:51.273Z"
   },
   {
    "duration": 15,
    "start_time": "2022-07-02T03:34:51.277Z"
   },
   {
    "duration": 17,
    "start_time": "2022-07-02T03:34:51.294Z"
   },
   {
    "duration": 19,
    "start_time": "2022-07-02T03:34:51.312Z"
   },
   {
    "duration": 14,
    "start_time": "2022-07-02T03:34:51.333Z"
   },
   {
    "duration": 14,
    "start_time": "2022-07-02T03:34:51.349Z"
   },
   {
    "duration": 19,
    "start_time": "2022-07-02T03:34:51.365Z"
   },
   {
    "duration": 195,
    "start_time": "2022-07-02T03:34:51.385Z"
   },
   {
    "duration": 123,
    "start_time": "2022-07-02T03:34:51.582Z"
   },
   {
    "duration": 17,
    "start_time": "2022-07-02T03:34:51.707Z"
   },
   {
    "duration": 26,
    "start_time": "2022-07-02T03:34:51.725Z"
   },
   {
    "duration": 269,
    "start_time": "2022-07-02T03:34:51.752Z"
   },
   {
    "duration": 186,
    "start_time": "2022-07-02T03:34:52.022Z"
   },
   {
    "duration": 12,
    "start_time": "2022-07-02T03:34:52.210Z"
   },
   {
    "duration": 299,
    "start_time": "2022-07-02T03:34:52.224Z"
   },
   {
    "duration": 4,
    "start_time": "2022-07-02T03:38:49.384Z"
   },
   {
    "duration": 5,
    "start_time": "2022-07-02T03:39:29.297Z"
   },
   {
    "duration": 5,
    "start_time": "2022-07-02T03:39:41.698Z"
   },
   {
    "duration": 176,
    "start_time": "2022-07-02T03:41:18.614Z"
   },
   {
    "duration": 9,
    "start_time": "2022-07-02T03:46:03.670Z"
   },
   {
    "duration": 121,
    "start_time": "2022-07-02T03:48:38.436Z"
   },
   {
    "duration": 112,
    "start_time": "2022-07-02T03:49:13.502Z"
   },
   {
    "duration": 113,
    "start_time": "2022-07-02T03:49:18.982Z"
   },
   {
    "duration": 84,
    "start_time": "2022-07-02T03:53:01.703Z"
   },
   {
    "duration": 115,
    "start_time": "2022-07-02T03:53:08.288Z"
   },
   {
    "duration": 4,
    "start_time": "2022-07-02T03:56:33.977Z"
   },
   {
    "duration": 133,
    "start_time": "2022-07-02T04:03:37.281Z"
   },
   {
    "duration": 4,
    "start_time": "2022-07-02T04:04:21.140Z"
   },
   {
    "duration": 8,
    "start_time": "2022-07-02T04:13:08.701Z"
   },
   {
    "duration": 60,
    "start_time": "2022-07-02T04:16:44.072Z"
   },
   {
    "duration": 53,
    "start_time": "2022-07-02T04:17:12.467Z"
   },
   {
    "duration": 69,
    "start_time": "2022-07-02T04:17:18.112Z"
   },
   {
    "duration": 129,
    "start_time": "2022-07-02T04:18:08.588Z"
   },
   {
    "duration": 1126,
    "start_time": "2022-07-02T18:26:13.399Z"
   },
   {
    "duration": 112,
    "start_time": "2022-07-02T18:26:14.527Z"
   },
   {
    "duration": 66,
    "start_time": "2022-07-02T18:26:14.641Z"
   },
   {
    "duration": 23,
    "start_time": "2022-07-02T18:26:14.709Z"
   },
   {
    "duration": 29,
    "start_time": "2022-07-02T18:26:14.733Z"
   },
   {
    "duration": 9,
    "start_time": "2022-07-02T18:26:14.764Z"
   },
   {
    "duration": 27,
    "start_time": "2022-07-02T18:26:14.774Z"
   },
   {
    "duration": 12,
    "start_time": "2022-07-02T18:26:14.803Z"
   },
   {
    "duration": 17,
    "start_time": "2022-07-02T18:26:14.816Z"
   },
   {
    "duration": 8,
    "start_time": "2022-07-02T18:26:14.835Z"
   },
   {
    "duration": 5,
    "start_time": "2022-07-02T18:26:14.852Z"
   },
   {
    "duration": 21,
    "start_time": "2022-07-02T18:26:14.859Z"
   },
   {
    "duration": 9,
    "start_time": "2022-07-02T18:26:14.881Z"
   },
   {
    "duration": 11,
    "start_time": "2022-07-02T18:26:14.892Z"
   },
   {
    "duration": 15,
    "start_time": "2022-07-02T18:26:14.904Z"
   },
   {
    "duration": 36,
    "start_time": "2022-07-02T18:26:14.920Z"
   },
   {
    "duration": 12,
    "start_time": "2022-07-02T18:26:14.957Z"
   },
   {
    "duration": 9,
    "start_time": "2022-07-02T18:26:14.970Z"
   },
   {
    "duration": 14,
    "start_time": "2022-07-02T18:26:14.981Z"
   },
   {
    "duration": 234,
    "start_time": "2022-07-02T18:26:14.996Z"
   },
   {
    "duration": 174,
    "start_time": "2022-07-02T18:26:15.232Z"
   },
   {
    "duration": 17,
    "start_time": "2022-07-02T18:26:15.408Z"
   },
   {
    "duration": 25,
    "start_time": "2022-07-02T18:26:15.427Z"
   },
   {
    "duration": 275,
    "start_time": "2022-07-02T18:26:15.454Z"
   },
   {
    "duration": 194,
    "start_time": "2022-07-02T18:26:15.731Z"
   },
   {
    "duration": 13,
    "start_time": "2022-07-02T18:26:15.926Z"
   },
   {
    "duration": 330,
    "start_time": "2022-07-02T18:26:15.953Z"
   },
   {
    "duration": 4,
    "start_time": "2022-07-02T18:26:16.286Z"
   },
   {
    "duration": 8,
    "start_time": "2022-07-02T18:26:16.291Z"
   },
   {
    "duration": 213,
    "start_time": "2022-07-02T18:26:16.301Z"
   },
   {
    "duration": 9,
    "start_time": "2022-07-02T18:26:16.515Z"
   },
   {
    "duration": 126,
    "start_time": "2022-07-02T18:26:16.526Z"
   },
   {
    "duration": 137,
    "start_time": "2022-07-02T18:26:16.654Z"
   },
   {
    "duration": 5,
    "start_time": "2022-07-02T18:26:16.793Z"
   },
   {
    "duration": 145,
    "start_time": "2022-07-02T18:26:16.800Z"
   },
   {
    "duration": 6,
    "start_time": "2022-07-02T18:26:16.952Z"
   },
   {
    "duration": 10,
    "start_time": "2022-07-02T18:26:16.960Z"
   },
   {
    "duration": 134,
    "start_time": "2022-07-02T18:26:16.972Z"
   },
   {
    "duration": 7,
    "start_time": "2022-07-02T18:28:34.277Z"
   },
   {
    "duration": 48,
    "start_time": "2022-07-02T18:33:13.107Z"
   },
   {
    "duration": 94,
    "start_time": "2022-07-02T18:33:49.313Z"
   },
   {
    "duration": 1035,
    "start_time": "2022-07-02T18:34:01.107Z"
   },
   {
    "duration": 97,
    "start_time": "2022-07-02T18:34:02.144Z"
   },
   {
    "duration": 29,
    "start_time": "2022-07-02T18:34:02.243Z"
   },
   {
    "duration": 22,
    "start_time": "2022-07-02T18:34:02.274Z"
   },
   {
    "duration": 15,
    "start_time": "2022-07-02T18:34:02.298Z"
   },
   {
    "duration": 12,
    "start_time": "2022-07-02T18:34:02.315Z"
   },
   {
    "duration": 23,
    "start_time": "2022-07-02T18:34:02.328Z"
   },
   {
    "duration": 12,
    "start_time": "2022-07-02T18:34:02.353Z"
   },
   {
    "duration": 16,
    "start_time": "2022-07-02T18:34:02.367Z"
   },
   {
    "duration": 8,
    "start_time": "2022-07-02T18:34:02.386Z"
   },
   {
    "duration": 10,
    "start_time": "2022-07-02T18:34:02.396Z"
   },
   {
    "duration": 52,
    "start_time": "2022-07-02T18:34:02.408Z"
   },
   {
    "duration": 4,
    "start_time": "2022-07-02T18:34:02.462Z"
   },
   {
    "duration": 12,
    "start_time": "2022-07-02T18:34:02.468Z"
   },
   {
    "duration": 16,
    "start_time": "2022-07-02T18:34:02.482Z"
   },
   {
    "duration": 18,
    "start_time": "2022-07-02T18:34:02.500Z"
   },
   {
    "duration": 37,
    "start_time": "2022-07-02T18:34:02.521Z"
   },
   {
    "duration": 19,
    "start_time": "2022-07-02T18:34:02.560Z"
   },
   {
    "duration": 16,
    "start_time": "2022-07-02T18:34:02.581Z"
   },
   {
    "duration": 221,
    "start_time": "2022-07-02T18:34:02.600Z"
   },
   {
    "duration": 131,
    "start_time": "2022-07-02T18:34:02.822Z"
   },
   {
    "duration": 19,
    "start_time": "2022-07-02T18:34:02.954Z"
   },
   {
    "duration": 7,
    "start_time": "2022-07-02T18:34:02.975Z"
   },
   {
    "duration": 306,
    "start_time": "2022-07-02T18:34:02.983Z"
   },
   {
    "duration": 196,
    "start_time": "2022-07-02T18:34:03.291Z"
   },
   {
    "duration": 13,
    "start_time": "2022-07-02T18:34:03.489Z"
   },
   {
    "duration": 273,
    "start_time": "2022-07-02T18:34:03.504Z"
   },
   {
    "duration": 4,
    "start_time": "2022-07-02T18:34:03.780Z"
   },
   {
    "duration": 8,
    "start_time": "2022-07-02T18:34:03.785Z"
   },
   {
    "duration": 209,
    "start_time": "2022-07-02T18:34:03.795Z"
   },
   {
    "duration": 9,
    "start_time": "2022-07-02T18:34:04.006Z"
   },
   {
    "duration": 130,
    "start_time": "2022-07-02T18:34:04.017Z"
   },
   {
    "duration": 138,
    "start_time": "2022-07-02T18:34:04.149Z"
   },
   {
    "duration": 5,
    "start_time": "2022-07-02T18:34:04.289Z"
   },
   {
    "duration": 140,
    "start_time": "2022-07-02T18:34:04.296Z"
   },
   {
    "duration": 15,
    "start_time": "2022-07-02T18:34:04.437Z"
   },
   {
    "duration": 8,
    "start_time": "2022-07-02T18:34:04.453Z"
   },
   {
    "duration": 10,
    "start_time": "2022-07-02T18:34:04.463Z"
   },
   {
    "duration": 144,
    "start_time": "2022-07-02T18:34:04.475Z"
   },
   {
    "duration": 107,
    "start_time": "2022-07-02T18:34:04.621Z"
   },
   {
    "duration": 11,
    "start_time": "2022-07-02T18:34:41.832Z"
   },
   {
    "duration": 10,
    "start_time": "2022-07-02T18:34:54.768Z"
   },
   {
    "duration": 25,
    "start_time": "2022-07-02T18:37:59.811Z"
   },
   {
    "duration": 5,
    "start_time": "2022-07-02T18:39:17.036Z"
   },
   {
    "duration": 9,
    "start_time": "2022-07-02T18:42:11.119Z"
   },
   {
    "duration": 11,
    "start_time": "2022-07-02T18:43:30.688Z"
   },
   {
    "duration": 14,
    "start_time": "2022-07-02T18:44:10.731Z"
   },
   {
    "duration": 8,
    "start_time": "2022-07-02T18:45:27.875Z"
   },
   {
    "duration": 7,
    "start_time": "2022-07-02T18:46:56.727Z"
   },
   {
    "duration": 974,
    "start_time": "2022-07-02T18:49:35.392Z"
   },
   {
    "duration": 78,
    "start_time": "2022-07-02T18:49:36.368Z"
   },
   {
    "duration": 25,
    "start_time": "2022-07-02T18:49:36.447Z"
   },
   {
    "duration": 20,
    "start_time": "2022-07-02T18:49:36.474Z"
   },
   {
    "duration": 10,
    "start_time": "2022-07-02T18:49:36.496Z"
   },
   {
    "duration": 7,
    "start_time": "2022-07-02T18:49:36.508Z"
   },
   {
    "duration": 13,
    "start_time": "2022-07-02T18:49:36.516Z"
   },
   {
    "duration": 9,
    "start_time": "2022-07-02T18:49:36.531Z"
   },
   {
    "duration": 16,
    "start_time": "2022-07-02T18:49:36.541Z"
   },
   {
    "duration": 6,
    "start_time": "2022-07-02T18:49:36.560Z"
   },
   {
    "duration": 6,
    "start_time": "2022-07-02T18:49:36.568Z"
   },
   {
    "duration": 18,
    "start_time": "2022-07-02T18:49:36.575Z"
   },
   {
    "duration": 3,
    "start_time": "2022-07-02T18:49:36.595Z"
   },
   {
    "duration": 9,
    "start_time": "2022-07-02T18:49:36.600Z"
   },
   {
    "duration": 12,
    "start_time": "2022-07-02T18:49:36.611Z"
   },
   {
    "duration": 12,
    "start_time": "2022-07-02T18:49:36.653Z"
   },
   {
    "duration": 10,
    "start_time": "2022-07-02T18:49:36.666Z"
   },
   {
    "duration": 9,
    "start_time": "2022-07-02T18:49:36.677Z"
   },
   {
    "duration": 12,
    "start_time": "2022-07-02T18:49:36.687Z"
   },
   {
    "duration": 206,
    "start_time": "2022-07-02T18:49:36.701Z"
   },
   {
    "duration": 129,
    "start_time": "2022-07-02T18:49:36.908Z"
   },
   {
    "duration": 23,
    "start_time": "2022-07-02T18:49:37.039Z"
   },
   {
    "duration": 6,
    "start_time": "2022-07-02T18:49:37.063Z"
   },
   {
    "duration": 301,
    "start_time": "2022-07-02T18:49:37.070Z"
   },
   {
    "duration": 199,
    "start_time": "2022-07-02T18:49:37.373Z"
   },
   {
    "duration": 14,
    "start_time": "2022-07-02T18:49:37.573Z"
   },
   {
    "duration": 271,
    "start_time": "2022-07-02T18:49:37.589Z"
   },
   {
    "duration": 4,
    "start_time": "2022-07-02T18:49:37.864Z"
   },
   {
    "duration": 9,
    "start_time": "2022-07-02T18:49:37.869Z"
   },
   {
    "duration": 207,
    "start_time": "2022-07-02T18:49:37.879Z"
   },
   {
    "duration": 9,
    "start_time": "2022-07-02T18:49:38.088Z"
   },
   {
    "duration": 124,
    "start_time": "2022-07-02T18:49:38.098Z"
   },
   {
    "duration": 133,
    "start_time": "2022-07-02T18:49:38.224Z"
   },
   {
    "duration": 4,
    "start_time": "2022-07-02T18:49:38.359Z"
   },
   {
    "duration": 134,
    "start_time": "2022-07-02T18:49:38.365Z"
   },
   {
    "duration": 5,
    "start_time": "2022-07-02T18:49:38.501Z"
   },
   {
    "duration": 11,
    "start_time": "2022-07-02T18:49:38.507Z"
   },
   {
    "duration": 13,
    "start_time": "2022-07-02T18:49:38.520Z"
   },
   {
    "duration": 137,
    "start_time": "2022-07-02T18:49:38.534Z"
   },
   {
    "duration": 8,
    "start_time": "2022-07-02T18:49:38.673Z"
   },
   {
    "duration": 34,
    "start_time": "2022-07-02T18:49:38.683Z"
   },
   {
    "duration": 14,
    "start_time": "2022-07-02T18:49:38.719Z"
   },
   {
    "duration": 11,
    "start_time": "2022-07-02T18:49:38.735Z"
   },
   {
    "duration": 10,
    "start_time": "2022-07-02T18:49:38.747Z"
   },
   {
    "duration": 8,
    "start_time": "2022-07-02T18:49:38.758Z"
   },
   {
    "duration": 44,
    "start_time": "2022-07-03T02:56:32.060Z"
   },
   {
    "duration": 1167,
    "start_time": "2022-07-03T02:56:37.216Z"
   },
   {
    "duration": 108,
    "start_time": "2022-07-03T02:56:38.386Z"
   },
   {
    "duration": 71,
    "start_time": "2022-07-03T02:56:38.495Z"
   },
   {
    "duration": 19,
    "start_time": "2022-07-03T02:56:38.568Z"
   },
   {
    "duration": 12,
    "start_time": "2022-07-03T02:56:38.589Z"
   },
   {
    "duration": 9,
    "start_time": "2022-07-03T02:56:38.602Z"
   },
   {
    "duration": 14,
    "start_time": "2022-07-03T02:56:38.613Z"
   },
   {
    "duration": 9,
    "start_time": "2022-07-03T02:56:38.628Z"
   },
   {
    "duration": 12,
    "start_time": "2022-07-03T02:56:38.639Z"
   },
   {
    "duration": 16,
    "start_time": "2022-07-03T02:56:38.653Z"
   },
   {
    "duration": 5,
    "start_time": "2022-07-03T02:56:38.671Z"
   },
   {
    "duration": 17,
    "start_time": "2022-07-03T02:56:38.677Z"
   },
   {
    "duration": 4,
    "start_time": "2022-07-03T02:56:38.695Z"
   },
   {
    "duration": 31,
    "start_time": "2022-07-03T02:56:38.700Z"
   },
   {
    "duration": 13,
    "start_time": "2022-07-03T02:56:38.733Z"
   },
   {
    "duration": 13,
    "start_time": "2022-07-03T02:56:38.747Z"
   },
   {
    "duration": 10,
    "start_time": "2022-07-03T02:56:38.761Z"
   },
   {
    "duration": 8,
    "start_time": "2022-07-03T02:56:38.773Z"
   },
   {
    "duration": 13,
    "start_time": "2022-07-03T02:56:38.783Z"
   },
   {
    "duration": 209,
    "start_time": "2022-07-03T02:56:38.797Z"
   },
   {
    "duration": 132,
    "start_time": "2022-07-03T02:56:39.007Z"
   },
   {
    "duration": 17,
    "start_time": "2022-07-03T02:56:39.140Z"
   },
   {
    "duration": 15,
    "start_time": "2022-07-03T02:56:39.159Z"
   },
   {
    "duration": 272,
    "start_time": "2022-07-03T02:56:39.176Z"
   },
   {
    "duration": 186,
    "start_time": "2022-07-03T02:56:39.450Z"
   },
   {
    "duration": 12,
    "start_time": "2022-07-03T02:56:39.638Z"
   },
   {
    "duration": 315,
    "start_time": "2022-07-03T02:56:39.651Z"
   },
   {
    "duration": 4,
    "start_time": "2022-07-03T02:56:39.969Z"
   },
   {
    "duration": 16,
    "start_time": "2022-07-03T02:56:39.974Z"
   },
   {
    "duration": 191,
    "start_time": "2022-07-03T02:56:39.991Z"
   },
   {
    "duration": 10,
    "start_time": "2022-07-03T02:56:40.184Z"
   },
   {
    "duration": 143,
    "start_time": "2022-07-03T02:56:40.195Z"
   },
   {
    "duration": 129,
    "start_time": "2022-07-03T02:56:40.339Z"
   },
   {
    "duration": 4,
    "start_time": "2022-07-03T02:56:40.470Z"
   },
   {
    "duration": 130,
    "start_time": "2022-07-03T02:56:40.475Z"
   },
   {
    "duration": 4,
    "start_time": "2022-07-03T02:56:40.607Z"
   },
   {
    "duration": 18,
    "start_time": "2022-07-03T02:56:40.613Z"
   },
   {
    "duration": 10,
    "start_time": "2022-07-03T02:56:40.632Z"
   },
   {
    "duration": 141,
    "start_time": "2022-07-03T02:56:40.644Z"
   },
   {
    "duration": 10,
    "start_time": "2022-07-03T02:56:40.786Z"
   },
   {
    "duration": 36,
    "start_time": "2022-07-03T02:56:40.797Z"
   },
   {
    "duration": 4,
    "start_time": "2022-07-03T02:56:40.834Z"
   },
   {
    "duration": 13,
    "start_time": "2022-07-03T02:56:40.840Z"
   },
   {
    "duration": 9,
    "start_time": "2022-07-03T02:56:40.855Z"
   },
   {
    "duration": 6,
    "start_time": "2022-07-03T02:56:40.865Z"
   },
   {
    "duration": 827,
    "start_time": "2022-07-03T02:56:40.872Z"
   },
   {
    "duration": 5,
    "start_time": "2022-07-03T02:56:54.311Z"
   },
   {
    "duration": 6,
    "start_time": "2022-07-03T02:57:02.719Z"
   },
   {
    "duration": 8,
    "start_time": "2022-07-03T02:57:07.570Z"
   },
   {
    "duration": 6,
    "start_time": "2022-07-03T02:58:44.623Z"
   },
   {
    "duration": 6,
    "start_time": "2022-07-03T02:59:56.089Z"
   },
   {
    "duration": 5,
    "start_time": "2022-07-03T03:00:15.180Z"
   },
   {
    "duration": 10,
    "start_time": "2022-07-03T03:00:20.160Z"
   },
   {
    "duration": 6,
    "start_time": "2022-07-03T03:00:22.572Z"
   },
   {
    "duration": 8,
    "start_time": "2022-07-03T03:04:51.123Z"
   },
   {
    "duration": 8,
    "start_time": "2022-07-03T03:06:51.646Z"
   },
   {
    "duration": 22,
    "start_time": "2022-07-03T03:08:15.877Z"
   },
   {
    "duration": 4,
    "start_time": "2022-07-03T03:09:00.835Z"
   },
   {
    "duration": 12,
    "start_time": "2022-07-03T03:14:59.265Z"
   },
   {
    "duration": 869,
    "start_time": "2022-07-03T03:16:48.325Z"
   },
   {
    "duration": 12,
    "start_time": "2022-07-03T03:16:54.450Z"
   },
   {
    "duration": 9,
    "start_time": "2022-07-03T03:16:59.058Z"
   },
   {
    "duration": 939,
    "start_time": "2022-07-03T03:31:57.082Z"
   },
   {
    "duration": 80,
    "start_time": "2022-07-03T03:31:58.023Z"
   },
   {
    "duration": 27,
    "start_time": "2022-07-03T03:31:58.104Z"
   },
   {
    "duration": 19,
    "start_time": "2022-07-03T03:31:58.133Z"
   },
   {
    "duration": 12,
    "start_time": "2022-07-03T03:31:58.153Z"
   },
   {
    "duration": 7,
    "start_time": "2022-07-03T03:31:58.167Z"
   },
   {
    "duration": 14,
    "start_time": "2022-07-03T03:31:58.175Z"
   },
   {
    "duration": 15,
    "start_time": "2022-07-03T03:31:58.190Z"
   },
   {
    "duration": 26,
    "start_time": "2022-07-03T03:31:58.206Z"
   },
   {
    "duration": 6,
    "start_time": "2022-07-03T03:31:58.235Z"
   },
   {
    "duration": 6,
    "start_time": "2022-07-03T03:31:58.243Z"
   },
   {
    "duration": 17,
    "start_time": "2022-07-03T03:31:58.250Z"
   },
   {
    "duration": 3,
    "start_time": "2022-07-03T03:31:58.269Z"
   },
   {
    "duration": 14,
    "start_time": "2022-07-03T03:31:58.274Z"
   },
   {
    "duration": 12,
    "start_time": "2022-07-03T03:31:58.290Z"
   },
   {
    "duration": 9,
    "start_time": "2022-07-03T03:31:58.327Z"
   },
   {
    "duration": 9,
    "start_time": "2022-07-03T03:31:58.337Z"
   },
   {
    "duration": 9,
    "start_time": "2022-07-03T03:31:58.347Z"
   },
   {
    "duration": 12,
    "start_time": "2022-07-03T03:31:58.357Z"
   },
   {
    "duration": 206,
    "start_time": "2022-07-03T03:31:58.370Z"
   },
   {
    "duration": 128,
    "start_time": "2022-07-03T03:31:58.578Z"
   },
   {
    "duration": 28,
    "start_time": "2022-07-03T03:31:58.708Z"
   },
   {
    "duration": 6,
    "start_time": "2022-07-03T03:31:58.738Z"
   },
   {
    "duration": 285,
    "start_time": "2022-07-03T03:31:58.745Z"
   },
   {
    "duration": 195,
    "start_time": "2022-07-03T03:31:59.032Z"
   },
   {
    "duration": 13,
    "start_time": "2022-07-03T03:31:59.229Z"
   },
   {
    "duration": 276,
    "start_time": "2022-07-03T03:31:59.243Z"
   },
   {
    "duration": 4,
    "start_time": "2022-07-03T03:31:59.526Z"
   },
   {
    "duration": 8,
    "start_time": "2022-07-03T03:31:59.531Z"
   },
   {
    "duration": 200,
    "start_time": "2022-07-03T03:31:59.540Z"
   },
   {
    "duration": 8,
    "start_time": "2022-07-03T03:31:59.742Z"
   },
   {
    "duration": 143,
    "start_time": "2022-07-03T03:31:59.752Z"
   },
   {
    "duration": 139,
    "start_time": "2022-07-03T03:31:59.897Z"
   },
   {
    "duration": 5,
    "start_time": "2022-07-03T03:32:00.037Z"
   },
   {
    "duration": 131,
    "start_time": "2022-07-03T03:32:00.044Z"
   },
   {
    "duration": 5,
    "start_time": "2022-07-03T03:32:00.176Z"
   },
   {
    "duration": 19,
    "start_time": "2022-07-03T03:32:00.182Z"
   },
   {
    "duration": 15,
    "start_time": "2022-07-03T03:32:00.202Z"
   },
   {
    "duration": 126,
    "start_time": "2022-07-03T03:32:00.219Z"
   },
   {
    "duration": 10,
    "start_time": "2022-07-03T03:32:00.346Z"
   },
   {
    "duration": 36,
    "start_time": "2022-07-03T03:32:00.358Z"
   },
   {
    "duration": 5,
    "start_time": "2022-07-03T03:32:00.395Z"
   },
   {
    "duration": 21,
    "start_time": "2022-07-03T03:32:00.401Z"
   },
   {
    "duration": 12,
    "start_time": "2022-07-03T03:32:00.427Z"
   },
   {
    "duration": 12,
    "start_time": "2022-07-03T03:32:00.441Z"
   },
   {
    "duration": 17,
    "start_time": "2022-07-03T03:32:00.455Z"
   },
   {
    "duration": 39,
    "start_time": "2022-07-03T03:32:00.474Z"
   },
   {
    "duration": 21,
    "start_time": "2022-07-03T03:32:00.514Z"
   },
   {
    "duration": 19,
    "start_time": "2022-07-03T03:32:00.536Z"
   },
   {
    "duration": 12,
    "start_time": "2022-07-03T03:32:00.556Z"
   },
   {
    "duration": 44,
    "start_time": "2022-07-03T03:32:00.570Z"
   },
   {
    "duration": 4,
    "start_time": "2022-07-03T03:32:00.616Z"
   },
   {
    "duration": 13,
    "start_time": "2022-07-03T03:32:00.621Z"
   },
   {
    "duration": 23,
    "start_time": "2022-07-03T03:32:00.635Z"
   },
   {
    "duration": 985,
    "start_time": "2022-07-03T03:34:54.742Z"
   },
   {
    "duration": 83,
    "start_time": "2022-07-03T03:34:55.729Z"
   },
   {
    "duration": 27,
    "start_time": "2022-07-03T03:34:55.813Z"
   },
   {
    "duration": 19,
    "start_time": "2022-07-03T03:34:55.842Z"
   },
   {
    "duration": 13,
    "start_time": "2022-07-03T03:34:55.862Z"
   },
   {
    "duration": 8,
    "start_time": "2022-07-03T03:34:55.876Z"
   },
   {
    "duration": 12,
    "start_time": "2022-07-03T03:34:55.885Z"
   },
   {
    "duration": 9,
    "start_time": "2022-07-03T03:34:55.899Z"
   },
   {
    "duration": 24,
    "start_time": "2022-07-03T03:34:55.909Z"
   },
   {
    "duration": 18,
    "start_time": "2022-07-03T03:34:55.936Z"
   },
   {
    "duration": 11,
    "start_time": "2022-07-03T03:34:55.955Z"
   },
   {
    "duration": 34,
    "start_time": "2022-07-03T03:34:55.967Z"
   },
   {
    "duration": 9,
    "start_time": "2022-07-03T03:34:56.002Z"
   },
   {
    "duration": 19,
    "start_time": "2022-07-03T03:34:56.012Z"
   },
   {
    "duration": 26,
    "start_time": "2022-07-03T03:34:56.032Z"
   },
   {
    "duration": 17,
    "start_time": "2022-07-03T03:34:56.059Z"
   },
   {
    "duration": 17,
    "start_time": "2022-07-03T03:34:56.078Z"
   },
   {
    "duration": 26,
    "start_time": "2022-07-03T03:34:56.096Z"
   },
   {
    "duration": 16,
    "start_time": "2022-07-03T03:34:56.123Z"
   },
   {
    "duration": 243,
    "start_time": "2022-07-03T03:34:56.140Z"
   },
   {
    "duration": 123,
    "start_time": "2022-07-03T03:34:56.385Z"
   },
   {
    "duration": 27,
    "start_time": "2022-07-03T03:34:56.509Z"
   },
   {
    "duration": 9,
    "start_time": "2022-07-03T03:34:56.537Z"
   },
   {
    "duration": 276,
    "start_time": "2022-07-03T03:34:56.547Z"
   },
   {
    "duration": 183,
    "start_time": "2022-07-03T03:34:56.824Z"
   },
   {
    "duration": 23,
    "start_time": "2022-07-03T03:34:57.009Z"
   },
   {
    "duration": 303,
    "start_time": "2022-07-03T03:34:57.034Z"
   },
   {
    "duration": 4,
    "start_time": "2022-07-03T03:34:57.342Z"
   },
   {
    "duration": 11,
    "start_time": "2022-07-03T03:34:57.348Z"
   },
   {
    "duration": 201,
    "start_time": "2022-07-03T03:34:57.360Z"
   },
   {
    "duration": 9,
    "start_time": "2022-07-03T03:34:57.563Z"
   },
   {
    "duration": 129,
    "start_time": "2022-07-03T03:34:57.574Z"
   },
   {
    "duration": 138,
    "start_time": "2022-07-03T03:34:57.705Z"
   },
   {
    "duration": 5,
    "start_time": "2022-07-03T03:34:57.845Z"
   },
   {
    "duration": 136,
    "start_time": "2022-07-03T03:34:57.852Z"
   },
   {
    "duration": 6,
    "start_time": "2022-07-03T03:34:57.990Z"
   },
   {
    "duration": 11,
    "start_time": "2022-07-03T03:34:57.997Z"
   },
   {
    "duration": 20,
    "start_time": "2022-07-03T03:34:58.010Z"
   },
   {
    "duration": 118,
    "start_time": "2022-07-03T03:34:58.032Z"
   },
   {
    "duration": 9,
    "start_time": "2022-07-03T03:34:58.152Z"
   },
   {
    "duration": 22,
    "start_time": "2022-07-03T03:34:58.163Z"
   },
   {
    "duration": 4,
    "start_time": "2022-07-03T03:34:58.187Z"
   },
   {
    "duration": 36,
    "start_time": "2022-07-03T03:34:58.193Z"
   },
   {
    "duration": 8,
    "start_time": "2022-07-03T03:34:58.231Z"
   },
   {
    "duration": 10,
    "start_time": "2022-07-03T03:34:58.241Z"
   },
   {
    "duration": 16,
    "start_time": "2022-07-03T03:34:58.252Z"
   },
   {
    "duration": 6,
    "start_time": "2022-07-03T03:34:58.270Z"
   },
   {
    "duration": 7,
    "start_time": "2022-07-03T03:34:58.278Z"
   },
   {
    "duration": 8,
    "start_time": "2022-07-03T03:34:58.287Z"
   },
   {
    "duration": 34,
    "start_time": "2022-07-03T03:34:58.297Z"
   },
   {
    "duration": 22,
    "start_time": "2022-07-03T03:34:58.333Z"
   },
   {
    "duration": 3,
    "start_time": "2022-07-03T03:34:58.357Z"
   },
   {
    "duration": 10,
    "start_time": "2022-07-03T03:34:58.362Z"
   },
   {
    "duration": 7,
    "start_time": "2022-07-03T03:34:58.373Z"
   },
   {
    "duration": 1021,
    "start_time": "2022-07-03T11:50:25.165Z"
   },
   {
    "duration": 96,
    "start_time": "2022-07-03T11:50:26.188Z"
   },
   {
    "duration": 30,
    "start_time": "2022-07-03T11:50:26.286Z"
   },
   {
    "duration": 20,
    "start_time": "2022-07-03T11:50:26.318Z"
   },
   {
    "duration": 11,
    "start_time": "2022-07-03T11:50:26.340Z"
   },
   {
    "duration": 13,
    "start_time": "2022-07-03T11:50:26.353Z"
   },
   {
    "duration": 14,
    "start_time": "2022-07-03T11:50:26.368Z"
   },
   {
    "duration": 9,
    "start_time": "2022-07-03T11:50:26.383Z"
   },
   {
    "duration": 11,
    "start_time": "2022-07-03T11:50:26.394Z"
   },
   {
    "duration": 8,
    "start_time": "2022-07-03T11:50:26.427Z"
   },
   {
    "duration": 16,
    "start_time": "2022-07-03T11:50:26.436Z"
   },
   {
    "duration": 17,
    "start_time": "2022-07-03T11:50:26.454Z"
   },
   {
    "duration": 4,
    "start_time": "2022-07-03T11:50:26.473Z"
   },
   {
    "duration": 10,
    "start_time": "2022-07-03T11:50:26.479Z"
   },
   {
    "duration": 16,
    "start_time": "2022-07-03T11:50:26.491Z"
   },
   {
    "duration": 30,
    "start_time": "2022-07-03T11:50:26.508Z"
   },
   {
    "duration": 16,
    "start_time": "2022-07-03T11:50:26.539Z"
   },
   {
    "duration": 10,
    "start_time": "2022-07-03T11:50:26.557Z"
   },
   {
    "duration": 14,
    "start_time": "2022-07-03T11:50:26.569Z"
   },
   {
    "duration": 220,
    "start_time": "2022-07-03T11:50:26.584Z"
   },
   {
    "duration": 133,
    "start_time": "2022-07-03T11:50:26.806Z"
   },
   {
    "duration": 19,
    "start_time": "2022-07-03T11:50:26.940Z"
   },
   {
    "duration": 5,
    "start_time": "2022-07-03T11:50:26.961Z"
   },
   {
    "duration": 297,
    "start_time": "2022-07-03T11:50:26.968Z"
   },
   {
    "duration": 205,
    "start_time": "2022-07-03T11:50:27.267Z"
   },
   {
    "duration": 14,
    "start_time": "2022-07-03T11:50:27.473Z"
   },
   {
    "duration": 271,
    "start_time": "2022-07-03T11:50:27.488Z"
   },
   {
    "duration": 4,
    "start_time": "2022-07-03T11:50:27.761Z"
   },
   {
    "duration": 7,
    "start_time": "2022-07-03T11:50:27.767Z"
   },
   {
    "duration": 216,
    "start_time": "2022-07-03T11:50:27.775Z"
   },
   {
    "duration": 9,
    "start_time": "2022-07-03T11:50:27.993Z"
   },
   {
    "duration": 122,
    "start_time": "2022-07-03T11:50:28.005Z"
   },
   {
    "duration": 132,
    "start_time": "2022-07-03T11:50:28.128Z"
   },
   {
    "duration": 6,
    "start_time": "2022-07-03T11:50:28.263Z"
   },
   {
    "duration": 145,
    "start_time": "2022-07-03T11:50:28.271Z"
   },
   {
    "duration": 9,
    "start_time": "2022-07-03T11:50:28.418Z"
   },
   {
    "duration": 11,
    "start_time": "2022-07-03T11:50:28.428Z"
   },
   {
    "duration": 14,
    "start_time": "2022-07-03T11:50:28.441Z"
   },
   {
    "duration": 136,
    "start_time": "2022-07-03T11:50:28.457Z"
   },
   {
    "duration": 9,
    "start_time": "2022-07-03T11:50:28.594Z"
   },
   {
    "duration": 36,
    "start_time": "2022-07-03T11:50:28.607Z"
   },
   {
    "duration": 4,
    "start_time": "2022-07-03T11:50:28.644Z"
   },
   {
    "duration": 13,
    "start_time": "2022-07-03T11:50:28.650Z"
   },
   {
    "duration": 11,
    "start_time": "2022-07-03T11:50:28.665Z"
   },
   {
    "duration": 12,
    "start_time": "2022-07-03T11:50:28.677Z"
   },
   {
    "duration": 12,
    "start_time": "2022-07-03T11:50:28.691Z"
   },
   {
    "duration": 22,
    "start_time": "2022-07-03T11:50:28.704Z"
   },
   {
    "duration": 6,
    "start_time": "2022-07-03T11:50:28.728Z"
   },
   {
    "duration": 7,
    "start_time": "2022-07-03T11:50:28.736Z"
   },
   {
    "duration": 10,
    "start_time": "2022-07-03T11:50:28.744Z"
   },
   {
    "duration": 32,
    "start_time": "2022-07-03T11:50:28.756Z"
   },
   {
    "duration": 5,
    "start_time": "2022-07-03T11:50:28.789Z"
   },
   {
    "duration": 32,
    "start_time": "2022-07-03T11:50:28.795Z"
   },
   {
    "duration": 9,
    "start_time": "2022-07-03T11:50:28.829Z"
   },
   {
    "duration": 1311,
    "start_time": "2022-07-03T15:32:52.781Z"
   },
   {
    "duration": 161,
    "start_time": "2022-07-03T15:32:54.094Z"
   },
   {
    "duration": 157,
    "start_time": "2022-07-03T15:32:54.257Z"
   },
   {
    "duration": 22,
    "start_time": "2022-07-03T15:32:54.416Z"
   },
   {
    "duration": 16,
    "start_time": "2022-07-03T15:32:54.439Z"
   },
   {
    "duration": 8,
    "start_time": "2022-07-03T15:32:54.457Z"
   },
   {
    "duration": 17,
    "start_time": "2022-07-03T15:32:54.466Z"
   },
   {
    "duration": 12,
    "start_time": "2022-07-03T15:32:54.485Z"
   },
   {
    "duration": 14,
    "start_time": "2022-07-03T15:32:54.499Z"
   },
   {
    "duration": 8,
    "start_time": "2022-07-03T15:32:54.542Z"
   },
   {
    "duration": 7,
    "start_time": "2022-07-03T15:32:54.551Z"
   },
   {
    "duration": 18,
    "start_time": "2022-07-03T15:32:54.560Z"
   },
   {
    "duration": 5,
    "start_time": "2022-07-03T15:32:54.580Z"
   },
   {
    "duration": 9,
    "start_time": "2022-07-03T15:32:54.587Z"
   },
   {
    "duration": 49,
    "start_time": "2022-07-03T15:32:54.598Z"
   },
   {
    "duration": 12,
    "start_time": "2022-07-03T15:32:54.649Z"
   },
   {
    "duration": 14,
    "start_time": "2022-07-03T15:32:54.663Z"
   },
   {
    "duration": 16,
    "start_time": "2022-07-03T15:32:54.679Z"
   },
   {
    "duration": 50,
    "start_time": "2022-07-03T15:32:54.698Z"
   },
   {
    "duration": 218,
    "start_time": "2022-07-03T15:32:54.751Z"
   },
   {
    "duration": 141,
    "start_time": "2022-07-03T15:32:54.971Z"
   },
   {
    "duration": 33,
    "start_time": "2022-07-03T15:32:55.114Z"
   },
   {
    "duration": 6,
    "start_time": "2022-07-03T15:32:55.149Z"
   },
   {
    "duration": 316,
    "start_time": "2022-07-03T15:32:55.156Z"
   },
   {
    "duration": 219,
    "start_time": "2022-07-03T15:32:55.475Z"
   },
   {
    "duration": 15,
    "start_time": "2022-07-03T15:32:55.696Z"
   },
   {
    "duration": 377,
    "start_time": "2022-07-03T15:32:55.714Z"
   },
   {
    "duration": 7,
    "start_time": "2022-07-03T15:32:56.095Z"
   },
   {
    "duration": 10,
    "start_time": "2022-07-03T15:32:56.104Z"
   },
   {
    "duration": 228,
    "start_time": "2022-07-03T15:32:56.116Z"
   },
   {
    "duration": 11,
    "start_time": "2022-07-03T15:32:56.347Z"
   },
   {
    "duration": 180,
    "start_time": "2022-07-03T15:32:56.361Z"
   },
   {
    "duration": 189,
    "start_time": "2022-07-03T15:32:56.543Z"
   },
   {
    "duration": 15,
    "start_time": "2022-07-03T15:32:56.735Z"
   },
   {
    "duration": 197,
    "start_time": "2022-07-03T15:32:56.752Z"
   },
   {
    "duration": 7,
    "start_time": "2022-07-03T15:32:56.951Z"
   },
   {
    "duration": 15,
    "start_time": "2022-07-03T15:32:56.960Z"
   },
   {
    "duration": 15,
    "start_time": "2022-07-03T15:32:56.978Z"
   },
   {
    "duration": 183,
    "start_time": "2022-07-03T15:32:56.995Z"
   },
   {
    "duration": 9,
    "start_time": "2022-07-03T15:32:57.180Z"
   },
   {
    "duration": 22,
    "start_time": "2022-07-03T15:32:57.191Z"
   },
   {
    "duration": 5,
    "start_time": "2022-07-03T15:32:57.216Z"
   },
   {
    "duration": 10,
    "start_time": "2022-07-03T15:32:57.242Z"
   },
   {
    "duration": 11,
    "start_time": "2022-07-03T15:32:57.254Z"
   },
   {
    "duration": 12,
    "start_time": "2022-07-03T15:32:57.267Z"
   },
   {
    "duration": 15,
    "start_time": "2022-07-03T15:32:57.282Z"
   },
   {
    "duration": 44,
    "start_time": "2022-07-03T15:32:57.300Z"
   },
   {
    "duration": 9,
    "start_time": "2022-07-03T15:32:57.346Z"
   },
   {
    "duration": 16,
    "start_time": "2022-07-03T15:32:57.358Z"
   },
   {
    "duration": 11,
    "start_time": "2022-07-03T15:32:57.377Z"
   },
   {
    "duration": 27,
    "start_time": "2022-07-03T15:32:57.390Z"
   },
   {
    "duration": 6,
    "start_time": "2022-07-03T15:32:57.442Z"
   },
   {
    "duration": 16,
    "start_time": "2022-07-03T15:32:57.450Z"
   },
   {
    "duration": 10,
    "start_time": "2022-07-03T15:32:57.468Z"
   },
   {
    "duration": 1170,
    "start_time": "2022-07-18T21:28:33.154Z"
   },
   {
    "duration": 177,
    "start_time": "2022-07-18T21:28:34.327Z"
   },
   {
    "duration": 118,
    "start_time": "2022-07-18T21:28:34.506Z"
   },
   {
    "duration": 25,
    "start_time": "2022-07-18T21:28:34.625Z"
   },
   {
    "duration": 12,
    "start_time": "2022-07-18T21:28:34.652Z"
   },
   {
    "duration": 7,
    "start_time": "2022-07-18T21:28:34.666Z"
   },
   {
    "duration": 17,
    "start_time": "2022-07-18T21:28:34.675Z"
   },
   {
    "duration": 33,
    "start_time": "2022-07-18T21:28:34.693Z"
   },
   {
    "duration": 13,
    "start_time": "2022-07-18T21:28:34.728Z"
   },
   {
    "duration": 6,
    "start_time": "2022-07-18T21:28:34.743Z"
   },
   {
    "duration": 6,
    "start_time": "2022-07-18T21:28:34.751Z"
   },
   {
    "duration": 25,
    "start_time": "2022-07-18T21:28:34.759Z"
   },
   {
    "duration": 7,
    "start_time": "2022-07-18T21:28:34.786Z"
   },
   {
    "duration": 28,
    "start_time": "2022-07-18T21:28:34.796Z"
   },
   {
    "duration": 13,
    "start_time": "2022-07-18T21:28:34.826Z"
   },
   {
    "duration": 15,
    "start_time": "2022-07-18T21:28:34.841Z"
   },
   {
    "duration": 14,
    "start_time": "2022-07-18T21:28:34.857Z"
   },
   {
    "duration": 8,
    "start_time": "2022-07-18T21:28:34.872Z"
   },
   {
    "duration": 19,
    "start_time": "2022-07-18T21:28:34.881Z"
   },
   {
    "duration": 222,
    "start_time": "2022-07-18T21:28:34.901Z"
   },
   {
    "duration": 132,
    "start_time": "2022-07-18T21:28:35.125Z"
   },
   {
    "duration": 19,
    "start_time": "2022-07-18T21:28:35.258Z"
   },
   {
    "duration": 7,
    "start_time": "2022-07-18T21:28:35.278Z"
   },
   {
    "duration": 294,
    "start_time": "2022-07-18T21:28:35.287Z"
   },
   {
    "duration": 204,
    "start_time": "2022-07-18T21:28:35.583Z"
   },
   {
    "duration": 17,
    "start_time": "2022-07-18T21:28:35.790Z"
   },
   {
    "duration": 340,
    "start_time": "2022-07-18T21:28:35.808Z"
   },
   {
    "duration": 4,
    "start_time": "2022-07-18T21:28:36.150Z"
   },
   {
    "duration": 9,
    "start_time": "2022-07-18T21:28:36.155Z"
   },
   {
    "duration": 250,
    "start_time": "2022-07-18T21:28:36.165Z"
   },
   {
    "duration": 15,
    "start_time": "2022-07-18T21:28:36.417Z"
   },
   {
    "duration": 166,
    "start_time": "2022-07-18T21:28:36.433Z"
   },
   {
    "duration": 182,
    "start_time": "2022-07-18T21:28:36.602Z"
   },
   {
    "duration": 6,
    "start_time": "2022-07-18T21:28:36.786Z"
   },
   {
    "duration": 169,
    "start_time": "2022-07-18T21:28:36.793Z"
   },
   {
    "duration": 5,
    "start_time": "2022-07-18T21:28:36.964Z"
   },
   {
    "duration": 22,
    "start_time": "2022-07-18T21:28:36.970Z"
   },
   {
    "duration": 38,
    "start_time": "2022-07-18T21:28:36.995Z"
   },
   {
    "duration": 137,
    "start_time": "2022-07-18T21:28:37.035Z"
   },
   {
    "duration": 9,
    "start_time": "2022-07-18T21:28:37.174Z"
   },
   {
    "duration": 41,
    "start_time": "2022-07-18T21:28:37.186Z"
   },
   {
    "duration": 4,
    "start_time": "2022-07-18T21:28:37.229Z"
   },
   {
    "duration": 20,
    "start_time": "2022-07-18T21:28:37.234Z"
   },
   {
    "duration": 17,
    "start_time": "2022-07-18T21:28:37.255Z"
   },
   {
    "duration": 6,
    "start_time": "2022-07-18T21:28:37.274Z"
   },
   {
    "duration": 11,
    "start_time": "2022-07-18T21:28:37.282Z"
   },
   {
    "duration": 12,
    "start_time": "2022-07-18T21:28:37.294Z"
   },
   {
    "duration": 16,
    "start_time": "2022-07-18T21:28:37.307Z"
   },
   {
    "duration": 8,
    "start_time": "2022-07-18T21:28:37.324Z"
   },
   {
    "duration": 8,
    "start_time": "2022-07-18T21:28:37.333Z"
   },
   {
    "duration": 26,
    "start_time": "2022-07-18T21:28:37.343Z"
   },
   {
    "duration": 4,
    "start_time": "2022-07-18T21:28:37.371Z"
   },
   {
    "duration": 15,
    "start_time": "2022-07-18T21:28:37.376Z"
   },
   {
    "duration": 15,
    "start_time": "2022-07-18T21:28:37.393Z"
   },
   {
    "duration": 97,
    "start_time": "2022-07-18T21:31:13.541Z"
   },
   {
    "duration": 10,
    "start_time": "2022-07-18T21:31:43.929Z"
   },
   {
    "duration": 14,
    "start_time": "2022-07-18T21:32:10.038Z"
   },
   {
    "duration": 3,
    "start_time": "2022-07-18T21:32:17.537Z"
   },
   {
    "duration": 2,
    "start_time": "2022-07-18T21:32:27.034Z"
   },
   {
    "duration": 8,
    "start_time": "2022-07-18T21:32:32.687Z"
   },
   {
    "duration": 1047,
    "start_time": "2022-07-18T21:32:53.010Z"
   },
   {
    "duration": 97,
    "start_time": "2022-07-18T21:32:54.058Z"
   },
   {
    "duration": 46,
    "start_time": "2022-07-18T21:32:54.157Z"
   },
   {
    "duration": 21,
    "start_time": "2022-07-18T21:32:54.205Z"
   },
   {
    "duration": 13,
    "start_time": "2022-07-18T21:32:54.227Z"
   },
   {
    "duration": 14,
    "start_time": "2022-07-18T21:32:54.241Z"
   },
   {
    "duration": 13,
    "start_time": "2022-07-18T21:32:54.257Z"
   },
   {
    "duration": 9,
    "start_time": "2022-07-18T21:32:54.272Z"
   },
   {
    "duration": 24,
    "start_time": "2022-07-18T21:32:54.282Z"
   },
   {
    "duration": 13,
    "start_time": "2022-07-18T21:32:54.309Z"
   },
   {
    "duration": 5,
    "start_time": "2022-07-18T21:32:54.323Z"
   },
   {
    "duration": 17,
    "start_time": "2022-07-18T21:32:54.329Z"
   },
   {
    "duration": 17,
    "start_time": "2022-07-18T21:32:54.347Z"
   },
   {
    "duration": 15,
    "start_time": "2022-07-18T21:32:54.365Z"
   },
   {
    "duration": 20,
    "start_time": "2022-07-18T21:32:54.382Z"
   },
   {
    "duration": 23,
    "start_time": "2022-07-18T21:32:54.404Z"
   },
   {
    "duration": 18,
    "start_time": "2022-07-18T21:32:54.429Z"
   },
   {
    "duration": 21,
    "start_time": "2022-07-18T21:32:54.449Z"
   },
   {
    "duration": 21,
    "start_time": "2022-07-18T21:32:54.472Z"
   },
   {
    "duration": 233,
    "start_time": "2022-07-18T21:32:54.495Z"
   },
   {
    "duration": 130,
    "start_time": "2022-07-18T21:32:54.730Z"
   },
   {
    "duration": 17,
    "start_time": "2022-07-18T21:32:54.862Z"
   },
   {
    "duration": 6,
    "start_time": "2022-07-18T21:32:54.880Z"
   },
   {
    "duration": 307,
    "start_time": "2022-07-18T21:32:54.888Z"
   },
   {
    "duration": 195,
    "start_time": "2022-07-18T21:32:55.196Z"
   },
   {
    "duration": 13,
    "start_time": "2022-07-18T21:32:55.393Z"
   },
   {
    "duration": 296,
    "start_time": "2022-07-18T21:32:55.408Z"
   },
   {
    "duration": 4,
    "start_time": "2022-07-18T21:32:55.707Z"
   },
   {
    "duration": 5,
    "start_time": "2022-07-18T21:32:55.722Z"
   },
   {
    "duration": 209,
    "start_time": "2022-07-18T21:32:55.729Z"
   },
   {
    "duration": 9,
    "start_time": "2022-07-18T21:32:55.940Z"
   },
   {
    "duration": 138,
    "start_time": "2022-07-18T21:32:55.951Z"
   },
   {
    "duration": 136,
    "start_time": "2022-07-18T21:32:56.091Z"
   },
   {
    "duration": 5,
    "start_time": "2022-07-18T21:32:56.229Z"
   },
   {
    "duration": 139,
    "start_time": "2022-07-18T21:32:56.236Z"
   },
   {
    "duration": 5,
    "start_time": "2022-07-18T21:32:56.377Z"
   },
   {
    "duration": 13,
    "start_time": "2022-07-18T21:32:56.384Z"
   },
   {
    "duration": 25,
    "start_time": "2022-07-18T21:32:56.399Z"
   },
   {
    "duration": 171,
    "start_time": "2022-07-18T21:32:56.426Z"
   },
   {
    "duration": 23,
    "start_time": "2022-07-18T21:32:56.599Z"
   },
   {
    "duration": 23,
    "start_time": "2022-07-18T21:32:56.624Z"
   },
   {
    "duration": 5,
    "start_time": "2022-07-18T21:32:56.648Z"
   },
   {
    "duration": 14,
    "start_time": "2022-07-18T21:32:56.654Z"
   },
   {
    "duration": 13,
    "start_time": "2022-07-18T21:32:56.670Z"
   },
   {
    "duration": 7,
    "start_time": "2022-07-18T21:32:56.684Z"
   },
   {
    "duration": 30,
    "start_time": "2022-07-18T21:32:56.693Z"
   },
   {
    "duration": 9,
    "start_time": "2022-07-18T21:32:56.725Z"
   },
   {
    "duration": 8,
    "start_time": "2022-07-18T21:32:56.735Z"
   },
   {
    "duration": 11,
    "start_time": "2022-07-18T21:32:56.744Z"
   },
   {
    "duration": 7,
    "start_time": "2022-07-18T21:32:56.757Z"
   },
   {
    "duration": 23,
    "start_time": "2022-07-18T21:32:56.765Z"
   },
   {
    "duration": 34,
    "start_time": "2022-07-18T21:32:56.789Z"
   },
   {
    "duration": 9,
    "start_time": "2022-07-18T21:32:56.825Z"
   },
   {
    "duration": 9,
    "start_time": "2022-07-18T21:32:56.835Z"
   },
   {
    "duration": 10,
    "start_time": "2022-07-18T21:34:56.142Z"
   },
   {
    "duration": 12,
    "start_time": "2022-07-18T21:35:23.396Z"
   },
   {
    "duration": 94,
    "start_time": "2022-07-18T21:38:07.630Z"
   },
   {
    "duration": 11,
    "start_time": "2022-07-18T21:38:55.346Z"
   },
   {
    "duration": 3,
    "start_time": "2022-07-18T21:39:04.353Z"
   },
   {
    "duration": 972,
    "start_time": "2022-07-18T21:39:09.973Z"
   },
   {
    "duration": 4,
    "start_time": "2022-07-18T21:39:10.947Z"
   },
   {
    "duration": 102,
    "start_time": "2022-07-18T21:39:10.952Z"
   },
   {
    "duration": 47,
    "start_time": "2022-07-18T21:39:11.057Z"
   },
   {
    "duration": 23,
    "start_time": "2022-07-18T21:39:11.105Z"
   },
   {
    "duration": 13,
    "start_time": "2022-07-18T21:39:11.129Z"
   },
   {
    "duration": 8,
    "start_time": "2022-07-18T21:39:11.143Z"
   },
   {
    "duration": 18,
    "start_time": "2022-07-18T21:39:11.152Z"
   },
   {
    "duration": 8,
    "start_time": "2022-07-18T21:39:11.172Z"
   },
   {
    "duration": 13,
    "start_time": "2022-07-18T21:39:11.183Z"
   },
   {
    "duration": 26,
    "start_time": "2022-07-18T21:39:11.198Z"
   },
   {
    "duration": 11,
    "start_time": "2022-07-18T21:39:11.225Z"
   },
   {
    "duration": 20,
    "start_time": "2022-07-18T21:39:11.238Z"
   },
   {
    "duration": 4,
    "start_time": "2022-07-18T21:39:11.259Z"
   },
   {
    "duration": 9,
    "start_time": "2022-07-18T21:39:11.265Z"
   },
   {
    "duration": 17,
    "start_time": "2022-07-18T21:39:11.276Z"
   },
   {
    "duration": 29,
    "start_time": "2022-07-18T21:39:11.295Z"
   },
   {
    "duration": 27,
    "start_time": "2022-07-18T21:39:11.325Z"
   },
   {
    "duration": 13,
    "start_time": "2022-07-18T21:39:11.354Z"
   },
   {
    "duration": 12,
    "start_time": "2022-07-18T21:39:11.369Z"
   },
   {
    "duration": 14,
    "start_time": "2022-07-18T21:39:11.383Z"
   },
   {
    "duration": 192,
    "start_time": "2022-07-18T21:39:11.399Z"
   },
   {
    "duration": 131,
    "start_time": "2022-07-18T21:39:11.592Z"
   },
   {
    "duration": 18,
    "start_time": "2022-07-18T21:39:11.725Z"
   },
   {
    "duration": 6,
    "start_time": "2022-07-18T21:39:11.744Z"
   },
   {
    "duration": 311,
    "start_time": "2022-07-18T21:39:11.752Z"
   },
   {
    "duration": 193,
    "start_time": "2022-07-18T21:39:12.065Z"
   },
   {
    "duration": 15,
    "start_time": "2022-07-18T21:39:12.263Z"
   },
   {
    "duration": 336,
    "start_time": "2022-07-18T21:39:12.279Z"
   },
   {
    "duration": 5,
    "start_time": "2022-07-18T21:39:12.621Z"
   },
   {
    "duration": 15,
    "start_time": "2022-07-18T21:39:12.627Z"
   },
   {
    "duration": 221,
    "start_time": "2022-07-18T21:39:12.643Z"
   },
   {
    "duration": 9,
    "start_time": "2022-07-18T21:39:12.866Z"
   },
   {
    "duration": 147,
    "start_time": "2022-07-18T21:39:12.877Z"
   },
   {
    "duration": 134,
    "start_time": "2022-07-18T21:39:13.026Z"
   },
   {
    "duration": 4,
    "start_time": "2022-07-18T21:39:13.162Z"
   },
   {
    "duration": 151,
    "start_time": "2022-07-18T21:39:13.167Z"
   },
   {
    "duration": 6,
    "start_time": "2022-07-18T21:39:13.321Z"
   },
   {
    "duration": 10,
    "start_time": "2022-07-18T21:39:13.329Z"
   },
   {
    "duration": 9,
    "start_time": "2022-07-18T21:39:13.341Z"
   },
   {
    "duration": 133,
    "start_time": "2022-07-18T21:39:13.352Z"
   },
   {
    "duration": 9,
    "start_time": "2022-07-18T21:39:13.487Z"
   },
   {
    "duration": 37,
    "start_time": "2022-07-18T21:39:13.498Z"
   },
   {
    "duration": 4,
    "start_time": "2022-07-18T21:39:13.537Z"
   },
   {
    "duration": 16,
    "start_time": "2022-07-18T21:39:13.543Z"
   },
   {
    "duration": 10,
    "start_time": "2022-07-18T21:39:13.560Z"
   },
   {
    "duration": 6,
    "start_time": "2022-07-18T21:39:13.571Z"
   },
   {
    "duration": 11,
    "start_time": "2022-07-18T21:39:13.579Z"
   },
   {
    "duration": 10,
    "start_time": "2022-07-18T21:39:13.591Z"
   },
   {
    "duration": 23,
    "start_time": "2022-07-18T21:39:13.602Z"
   },
   {
    "duration": 12,
    "start_time": "2022-07-18T21:39:13.626Z"
   },
   {
    "duration": 11,
    "start_time": "2022-07-18T21:39:13.639Z"
   },
   {
    "duration": 27,
    "start_time": "2022-07-18T21:39:13.652Z"
   },
   {
    "duration": 3,
    "start_time": "2022-07-18T21:39:13.681Z"
   },
   {
    "duration": 12,
    "start_time": "2022-07-18T21:39:13.686Z"
   },
   {
    "duration": 28,
    "start_time": "2022-07-18T21:39:13.700Z"
   },
   {
    "duration": 3,
    "start_time": "2022-07-18T21:39:28.008Z"
   },
   {
    "duration": 1060,
    "start_time": "2022-07-18T21:39:33.645Z"
   },
   {
    "duration": 3,
    "start_time": "2022-07-18T21:39:34.707Z"
   },
   {
    "duration": 112,
    "start_time": "2022-07-18T21:39:34.712Z"
   },
   {
    "duration": 47,
    "start_time": "2022-07-18T21:39:34.826Z"
   },
   {
    "duration": 23,
    "start_time": "2022-07-18T21:39:34.874Z"
   },
   {
    "duration": 15,
    "start_time": "2022-07-18T21:39:34.899Z"
   },
   {
    "duration": 7,
    "start_time": "2022-07-18T21:39:34.916Z"
   },
   {
    "duration": 16,
    "start_time": "2022-07-18T21:39:34.924Z"
   },
   {
    "duration": 13,
    "start_time": "2022-07-18T21:39:34.942Z"
   },
   {
    "duration": 17,
    "start_time": "2022-07-18T21:39:34.959Z"
   },
   {
    "duration": 7,
    "start_time": "2022-07-18T21:39:34.978Z"
   },
   {
    "duration": 7,
    "start_time": "2022-07-18T21:39:34.987Z"
   },
   {
    "duration": 38,
    "start_time": "2022-07-18T21:39:34.996Z"
   },
   {
    "duration": 4,
    "start_time": "2022-07-18T21:39:35.036Z"
   },
   {
    "duration": 11,
    "start_time": "2022-07-18T21:39:35.041Z"
   },
   {
    "duration": 16,
    "start_time": "2022-07-18T21:39:35.053Z"
   },
   {
    "duration": 16,
    "start_time": "2022-07-18T21:39:35.071Z"
   },
   {
    "duration": 15,
    "start_time": "2022-07-18T21:39:35.088Z"
   },
   {
    "duration": 22,
    "start_time": "2022-07-18T21:39:35.104Z"
   },
   {
    "duration": 9,
    "start_time": "2022-07-18T21:39:35.127Z"
   },
   {
    "duration": 15,
    "start_time": "2022-07-18T21:39:35.138Z"
   },
   {
    "duration": 202,
    "start_time": "2022-07-18T21:39:35.155Z"
   },
   {
    "duration": 132,
    "start_time": "2022-07-18T21:39:35.359Z"
   },
   {
    "duration": 16,
    "start_time": "2022-07-18T21:39:35.493Z"
   },
   {
    "duration": 6,
    "start_time": "2022-07-18T21:39:35.523Z"
   },
   {
    "duration": 283,
    "start_time": "2022-07-18T21:39:35.531Z"
   },
   {
    "duration": 209,
    "start_time": "2022-07-18T21:39:35.815Z"
   },
   {
    "duration": 12,
    "start_time": "2022-07-18T21:39:36.028Z"
   },
   {
    "duration": 268,
    "start_time": "2022-07-18T21:39:36.042Z"
   },
   {
    "duration": 12,
    "start_time": "2022-07-18T21:39:36.312Z"
   },
   {
    "duration": 15,
    "start_time": "2022-07-18T21:39:36.326Z"
   },
   {
    "duration": 191,
    "start_time": "2022-07-18T21:39:36.343Z"
   },
   {
    "duration": 10,
    "start_time": "2022-07-18T21:39:36.535Z"
   },
   {
    "duration": 139,
    "start_time": "2022-07-18T21:39:36.547Z"
   },
   {
    "duration": 132,
    "start_time": "2022-07-18T21:39:36.688Z"
   },
   {
    "duration": 5,
    "start_time": "2022-07-18T21:39:36.822Z"
   },
   {
    "duration": 135,
    "start_time": "2022-07-18T21:39:36.828Z"
   },
   {
    "duration": 4,
    "start_time": "2022-07-18T21:39:36.965Z"
   },
   {
    "duration": 12,
    "start_time": "2022-07-18T21:39:36.971Z"
   },
   {
    "duration": 12,
    "start_time": "2022-07-18T21:39:36.985Z"
   },
   {
    "duration": 146,
    "start_time": "2022-07-18T21:39:36.998Z"
   },
   {
    "duration": 10,
    "start_time": "2022-07-18T21:39:37.146Z"
   },
   {
    "duration": 24,
    "start_time": "2022-07-18T21:39:37.158Z"
   },
   {
    "duration": 5,
    "start_time": "2022-07-18T21:39:37.184Z"
   },
   {
    "duration": 34,
    "start_time": "2022-07-18T21:39:37.190Z"
   },
   {
    "duration": 12,
    "start_time": "2022-07-18T21:39:37.226Z"
   },
   {
    "duration": 7,
    "start_time": "2022-07-18T21:39:37.239Z"
   },
   {
    "duration": 8,
    "start_time": "2022-07-18T21:39:37.248Z"
   },
   {
    "duration": 15,
    "start_time": "2022-07-18T21:39:37.257Z"
   },
   {
    "duration": 7,
    "start_time": "2022-07-18T21:39:37.273Z"
   },
   {
    "duration": 15,
    "start_time": "2022-07-18T21:39:37.282Z"
   },
   {
    "duration": 26,
    "start_time": "2022-07-18T21:39:37.298Z"
   },
   {
    "duration": 23,
    "start_time": "2022-07-18T21:39:37.326Z"
   },
   {
    "duration": 4,
    "start_time": "2022-07-18T21:39:37.351Z"
   },
   {
    "duration": 15,
    "start_time": "2022-07-18T21:39:37.356Z"
   },
   {
    "duration": 9,
    "start_time": "2022-07-18T21:39:37.372Z"
   },
   {
    "duration": 3,
    "start_time": "2022-07-18T21:39:56.686Z"
   },
   {
    "duration": 37,
    "start_time": "2022-07-18T21:39:59.418Z"
   },
   {
    "duration": 1004,
    "start_time": "2022-07-18T21:40:06.341Z"
   },
   {
    "duration": 2,
    "start_time": "2022-07-18T21:40:07.347Z"
   },
   {
    "duration": 111,
    "start_time": "2022-07-18T21:40:07.351Z"
   },
   {
    "duration": 55,
    "start_time": "2022-07-18T21:40:07.464Z"
   },
   {
    "duration": 22,
    "start_time": "2022-07-18T21:40:07.521Z"
   },
   {
    "duration": 13,
    "start_time": "2022-07-18T21:40:07.545Z"
   },
   {
    "duration": 8,
    "start_time": "2022-07-18T21:40:07.559Z"
   },
   {
    "duration": 16,
    "start_time": "2022-07-18T21:40:07.569Z"
   },
   {
    "duration": 15,
    "start_time": "2022-07-18T21:40:07.586Z"
   },
   {
    "duration": 15,
    "start_time": "2022-07-18T21:40:07.622Z"
   },
   {
    "duration": 7,
    "start_time": "2022-07-18T21:40:07.639Z"
   },
   {
    "duration": 6,
    "start_time": "2022-07-18T21:40:07.647Z"
   },
   {
    "duration": 21,
    "start_time": "2022-07-18T21:40:07.654Z"
   },
   {
    "duration": 5,
    "start_time": "2022-07-18T21:40:07.676Z"
   },
   {
    "duration": 11,
    "start_time": "2022-07-18T21:40:07.683Z"
   },
   {
    "duration": 30,
    "start_time": "2022-07-18T21:40:07.696Z"
   },
   {
    "duration": 14,
    "start_time": "2022-07-18T21:40:07.728Z"
   },
   {
    "duration": 11,
    "start_time": "2022-07-18T21:40:07.745Z"
   },
   {
    "duration": 12,
    "start_time": "2022-07-18T21:40:07.758Z"
   },
   {
    "duration": 11,
    "start_time": "2022-07-18T21:40:07.772Z"
   },
   {
    "duration": 14,
    "start_time": "2022-07-18T21:40:07.786Z"
   },
   {
    "duration": 193,
    "start_time": "2022-07-18T21:40:07.823Z"
   },
   {
    "duration": 130,
    "start_time": "2022-07-18T21:40:08.021Z"
   },
   {
    "duration": 15,
    "start_time": "2022-07-18T21:40:08.152Z"
   },
   {
    "duration": 5,
    "start_time": "2022-07-18T21:40:08.169Z"
   },
   {
    "duration": 288,
    "start_time": "2022-07-18T21:40:08.176Z"
   },
   {
    "duration": 192,
    "start_time": "2022-07-18T21:40:08.465Z"
   },
   {
    "duration": 12,
    "start_time": "2022-07-18T21:40:08.661Z"
   },
   {
    "duration": 283,
    "start_time": "2022-07-18T21:40:08.674Z"
   },
   {
    "duration": 5,
    "start_time": "2022-07-18T21:40:08.958Z"
   },
   {
    "duration": 12,
    "start_time": "2022-07-18T21:40:08.964Z"
   },
   {
    "duration": 206,
    "start_time": "2022-07-18T21:40:08.977Z"
   },
   {
    "duration": 9,
    "start_time": "2022-07-18T21:40:09.186Z"
   },
   {
    "duration": 127,
    "start_time": "2022-07-18T21:40:09.196Z"
   },
   {
    "duration": 129,
    "start_time": "2022-07-18T21:40:09.325Z"
   },
   {
    "duration": 5,
    "start_time": "2022-07-18T21:40:09.455Z"
   },
   {
    "duration": 140,
    "start_time": "2022-07-18T21:40:09.462Z"
   },
   {
    "duration": 5,
    "start_time": "2022-07-18T21:40:09.604Z"
   },
   {
    "duration": 29,
    "start_time": "2022-07-18T21:40:09.622Z"
   },
   {
    "duration": 63,
    "start_time": "2022-07-18T21:40:09.653Z"
   },
   {
    "duration": 176,
    "start_time": "2022-07-18T21:40:09.717Z"
   },
   {
    "duration": 9,
    "start_time": "2022-07-18T21:40:09.895Z"
   },
   {
    "duration": 31,
    "start_time": "2022-07-18T21:40:09.905Z"
   },
   {
    "duration": 9,
    "start_time": "2022-07-18T21:40:09.938Z"
   },
   {
    "duration": 13,
    "start_time": "2022-07-18T21:40:09.949Z"
   },
   {
    "duration": 23,
    "start_time": "2022-07-18T21:40:09.964Z"
   },
   {
    "duration": 7,
    "start_time": "2022-07-18T21:40:09.989Z"
   },
   {
    "duration": 21,
    "start_time": "2022-07-18T21:40:09.998Z"
   },
   {
    "duration": 29,
    "start_time": "2022-07-18T21:40:10.022Z"
   },
   {
    "duration": 19,
    "start_time": "2022-07-18T21:40:10.052Z"
   },
   {
    "duration": 15,
    "start_time": "2022-07-18T21:40:10.073Z"
   },
   {
    "duration": 25,
    "start_time": "2022-07-18T21:40:10.089Z"
   },
   {
    "duration": 30,
    "start_time": "2022-07-18T21:40:10.116Z"
   },
   {
    "duration": 4,
    "start_time": "2022-07-18T21:40:10.148Z"
   },
   {
    "duration": 15,
    "start_time": "2022-07-18T21:40:10.154Z"
   },
   {
    "duration": 10,
    "start_time": "2022-07-18T21:40:10.171Z"
   },
   {
    "duration": 1003,
    "start_time": "2022-07-18T21:41:08.836Z"
   },
   {
    "duration": 2,
    "start_time": "2022-07-18T21:41:09.841Z"
   },
   {
    "duration": 101,
    "start_time": "2022-07-18T21:41:09.845Z"
   },
   {
    "duration": 46,
    "start_time": "2022-07-18T21:41:09.948Z"
   },
   {
    "duration": 22,
    "start_time": "2022-07-18T21:41:09.996Z"
   },
   {
    "duration": 25,
    "start_time": "2022-07-18T21:41:10.020Z"
   },
   {
    "duration": 13,
    "start_time": "2022-07-18T21:41:10.047Z"
   },
   {
    "duration": 21,
    "start_time": "2022-07-18T21:41:10.062Z"
   },
   {
    "duration": 29,
    "start_time": "2022-07-18T21:41:10.084Z"
   },
   {
    "duration": 12,
    "start_time": "2022-07-18T21:41:10.115Z"
   },
   {
    "duration": 7,
    "start_time": "2022-07-18T21:41:10.128Z"
   },
   {
    "duration": 10,
    "start_time": "2022-07-18T21:41:10.136Z"
   },
   {
    "duration": 22,
    "start_time": "2022-07-18T21:41:10.147Z"
   },
   {
    "duration": 4,
    "start_time": "2022-07-18T21:41:10.173Z"
   },
   {
    "duration": 10,
    "start_time": "2022-07-18T21:41:10.178Z"
   },
   {
    "duration": 14,
    "start_time": "2022-07-18T21:41:10.189Z"
   },
   {
    "duration": 29,
    "start_time": "2022-07-18T21:41:10.204Z"
   },
   {
    "duration": 12,
    "start_time": "2022-07-18T21:41:10.234Z"
   },
   {
    "duration": 12,
    "start_time": "2022-07-18T21:41:10.248Z"
   },
   {
    "duration": 10,
    "start_time": "2022-07-18T21:41:10.261Z"
   },
   {
    "duration": 12,
    "start_time": "2022-07-18T21:41:10.272Z"
   },
   {
    "duration": 215,
    "start_time": "2022-07-18T21:41:10.286Z"
   },
   {
    "duration": 135,
    "start_time": "2022-07-18T21:41:10.503Z"
   },
   {
    "duration": 18,
    "start_time": "2022-07-18T21:41:10.639Z"
   },
   {
    "duration": 7,
    "start_time": "2022-07-18T21:41:10.659Z"
   },
   {
    "duration": 293,
    "start_time": "2022-07-18T21:41:10.668Z"
   },
   {
    "duration": 197,
    "start_time": "2022-07-18T21:41:10.963Z"
   },
   {
    "duration": 13,
    "start_time": "2022-07-18T21:41:11.161Z"
   },
   {
    "duration": 298,
    "start_time": "2022-07-18T21:41:11.176Z"
   },
   {
    "duration": 4,
    "start_time": "2022-07-18T21:41:11.476Z"
   },
   {
    "duration": 7,
    "start_time": "2022-07-18T21:41:11.481Z"
   },
   {
    "duration": 212,
    "start_time": "2022-07-18T21:41:11.490Z"
   },
   {
    "duration": 10,
    "start_time": "2022-07-18T21:41:11.703Z"
   },
   {
    "duration": 143,
    "start_time": "2022-07-18T21:41:11.722Z"
   },
   {
    "duration": 143,
    "start_time": "2022-07-18T21:41:11.866Z"
   },
   {
    "duration": 5,
    "start_time": "2022-07-18T21:41:12.012Z"
   },
   {
    "duration": 153,
    "start_time": "2022-07-18T21:41:12.023Z"
   },
   {
    "duration": 5,
    "start_time": "2022-07-18T21:41:12.178Z"
   },
   {
    "duration": 11,
    "start_time": "2022-07-18T21:41:12.184Z"
   },
   {
    "duration": 19,
    "start_time": "2022-07-18T21:41:12.196Z"
   },
   {
    "duration": 138,
    "start_time": "2022-07-18T21:41:12.224Z"
   },
   {
    "duration": 10,
    "start_time": "2022-07-18T21:41:12.363Z"
   },
   {
    "duration": 24,
    "start_time": "2022-07-18T21:41:12.374Z"
   },
   {
    "duration": 23,
    "start_time": "2022-07-18T21:41:12.399Z"
   },
   {
    "duration": 9,
    "start_time": "2022-07-18T21:41:12.424Z"
   },
   {
    "duration": 11,
    "start_time": "2022-07-18T21:41:12.435Z"
   },
   {
    "duration": 6,
    "start_time": "2022-07-18T21:41:12.447Z"
   },
   {
    "duration": 10,
    "start_time": "2022-07-18T21:41:12.455Z"
   },
   {
    "duration": 8,
    "start_time": "2022-07-18T21:41:12.467Z"
   },
   {
    "duration": 8,
    "start_time": "2022-07-18T21:41:12.476Z"
   },
   {
    "duration": 10,
    "start_time": "2022-07-18T21:41:12.485Z"
   },
   {
    "duration": 8,
    "start_time": "2022-07-18T21:41:12.522Z"
   },
   {
    "duration": 24,
    "start_time": "2022-07-18T21:41:12.531Z"
   },
   {
    "duration": 4,
    "start_time": "2022-07-18T21:41:12.556Z"
   },
   {
    "duration": 11,
    "start_time": "2022-07-18T21:41:12.561Z"
   },
   {
    "duration": 7,
    "start_time": "2022-07-18T21:41:12.573Z"
   }
  ],
  "kernelspec": {
   "display_name": "Python 3 (ipykernel)",
   "language": "python",
   "name": "python3"
  },
  "language_info": {
   "codemirror_mode": {
    "name": "ipython",
    "version": 3
   },
   "file_extension": ".py",
   "mimetype": "text/x-python",
   "name": "python",
   "nbconvert_exporter": "python",
   "pygments_lexer": "ipython3",
   "version": "3.9.5"
  },
  "toc": {
   "base_numbering": 1,
   "nav_menu": {},
   "number_sections": true,
   "sideBar": true,
   "skip_h1_title": true,
   "title_cell": "Table of Contents",
   "title_sidebar": "Contents",
   "toc_cell": false,
   "toc_position": {},
   "toc_section_display": true,
   "toc_window_display": false
  }
 },
 "nbformat": 4,
 "nbformat_minor": 2
}
